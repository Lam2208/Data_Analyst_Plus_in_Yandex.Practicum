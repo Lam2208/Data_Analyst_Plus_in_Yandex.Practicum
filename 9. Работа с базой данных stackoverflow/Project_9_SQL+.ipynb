{
 "cells": [
  {
   "cell_type": "markdown",
   "metadata": {
    "id": "XnOE3n28DWKg"
   },
   "source": [
    "### Конфигурация для подключения к базе данных `data-analyst-advanced-sql`\n",
    "Эта база данных содержит схему `stackoverflow`, с которой мы будем работать в проекте"
   ]
  },
  {
   "cell_type": "code",
   "execution_count": 1,
   "metadata": {
    "id": "nlZBlglMDWKe"
   },
   "outputs": [],
   "source": [
    "import pandas as pd\n",
    "import matplotlib.pyplot as plt\n",
    "from sqlalchemy import create_engine\n",
    "import seaborn as sns"
   ]
  },
  {
   "cell_type": "code",
   "execution_count": 2,
   "metadata": {
    "id": "6p-yGp7qDWKg"
   },
   "outputs": [],
   "source": [
    "db_config = {\n",
    "    'user': 'praktikum_student', # имя пользователя\n",
    "    'pwd': 'Sdf4$2;d-d30pp', # пароль\n",
    "    'host': 'rc1b-wcoijxj3yxfsf3fs.mdb.yandexcloud.net',\n",
    "    'port': 6432, # порт подключения\n",
    "    'db': 'data-analyst-advanced-sql' # название базы данных\n",
    "}  \n",
    "\n",
    "connection_string = 'postgresql://{}:{}@{}:{}/{}'.format(\n",
    "    db_config['user'],\n",
    "    db_config['pwd'],\n",
    "    db_config['host'],\n",
    "    db_config['port'],\n",
    "    db_config['db'],\n",
    ")"
   ]
  },
  {
   "cell_type": "markdown",
   "metadata": {
    "id": "2Rg8ZpS0DWKh"
   },
   "source": [
    "Создание подключения"
   ]
  },
  {
   "cell_type": "code",
   "execution_count": 3,
   "metadata": {
    "id": "DamCUTR6DWKi"
   },
   "outputs": [],
   "source": [
    "engine = create_engine(connection_string) "
   ]
  },
  {
   "cell_type": "markdown",
   "metadata": {
    "id": "gnBMXkDBDWKm"
   },
   "source": [
    "# Задание 1"
   ]
  },
  {
   "cell_type": "markdown",
   "metadata": {
    "id": "vHsfOrrNDWKn"
   },
   "source": [
    "Выведите общую сумму просмотров постов за каждый месяц 2008 года. Если данных за какой-либо месяц в базе нет, такой месяц можно пропустить. Результат отсортируйте по убыванию общего количества просмотров."
   ]
  },
  {
   "cell_type": "markdown",
   "metadata": {
    "id": "N5rTgGNmDWKn"
   },
   "source": [
    "| month_date  | total_views |\n",
    "| ------------- | ------------- |\n",
    "| 2008-09-01  | 452928568  |\n",
    "| 2008-10-01  | 365400138  |\n",
    "| ...         | ... |"
   ]
  },
  {
   "cell_type": "code",
   "execution_count": 6,
   "metadata": {
    "id": "eWvykcXTDWKo"
   },
   "outputs": [
    {
     "data": {
      "text/html": [
       "<div>\n",
       "<style scoped>\n",
       "    .dataframe tbody tr th:only-of-type {\n",
       "        vertical-align: middle;\n",
       "    }\n",
       "\n",
       "    .dataframe tbody tr th {\n",
       "        vertical-align: top;\n",
       "    }\n",
       "\n",
       "    .dataframe thead th {\n",
       "        text-align: right;\n",
       "    }\n",
       "</style>\n",
       "<table border=\"1\" class=\"dataframe\">\n",
       "  <thead>\n",
       "    <tr style=\"text-align: right;\">\n",
       "      <th></th>\n",
       "      <th>creation_month</th>\n",
       "      <th>total_views</th>\n",
       "    </tr>\n",
       "  </thead>\n",
       "  <tbody>\n",
       "    <tr>\n",
       "      <th>0</th>\n",
       "      <td>2008-09-01</td>\n",
       "      <td>452928568</td>\n",
       "    </tr>\n",
       "    <tr>\n",
       "      <th>1</th>\n",
       "      <td>2008-10-01</td>\n",
       "      <td>365400138</td>\n",
       "    </tr>\n",
       "    <tr>\n",
       "      <th>2</th>\n",
       "      <td>2008-11-01</td>\n",
       "      <td>221759651</td>\n",
       "    </tr>\n",
       "    <tr>\n",
       "      <th>3</th>\n",
       "      <td>2008-12-01</td>\n",
       "      <td>197792841</td>\n",
       "    </tr>\n",
       "    <tr>\n",
       "      <th>4</th>\n",
       "      <td>2008-08-01</td>\n",
       "      <td>131367083</td>\n",
       "    </tr>\n",
       "    <tr>\n",
       "      <th>5</th>\n",
       "      <td>2008-07-01</td>\n",
       "      <td>669895</td>\n",
       "    </tr>\n",
       "  </tbody>\n",
       "</table>\n",
       "</div>"
      ],
      "text/plain": [
       "  creation_month  total_views\n",
       "0     2008-09-01    452928568\n",
       "1     2008-10-01    365400138\n",
       "2     2008-11-01    221759651\n",
       "3     2008-12-01    197792841\n",
       "4     2008-08-01    131367083\n",
       "5     2008-07-01       669895"
      ]
     },
     "execution_count": 6,
     "metadata": {},
     "output_type": "execute_result"
    }
   ],
   "source": [
    "# напишите запрос\n",
    "query = '''\n",
    "SELECT CAST(DATE_TRUNC('month', p.creation_date) AS date) AS creation_month,\n",
    "       SUM(p.views_count) AS total_views\n",
    "FROM stackoverflow.posts p\n",
    "WHERE CAST(DATE_TRUNC('day', p.creation_date) AS date) BETWEEN '2008-01-01' AND '2008-12-31'\n",
    "GROUP BY CAST(DATE_TRUNC('month', p.creation_date) AS date)\n",
    "ORDER BY total_views DESC\n",
    ";\n",
    "'''\n",
    "\n",
    "# выполните запрос\n",
    "monthly_views = pd.read_sql_query(query, con = engine)\n",
    "monthly_views"
   ]
  },
  {
   "cell_type": "markdown",
   "metadata": {
    "id": "I_ZvhOxkDWKp"
   },
   "source": [
    "Проанализируйте итоговую таблицу. Отличаются ли данные за разные месяцы? С чем могут быть связаны отличия?"
   ]
  },
  {
   "cell_type": "markdown",
   "metadata": {
    "id": "luxSj17oDWKq"
   },
   "source": [
    "**Вывод**\n",
    "\n",
    "Данные за разные месяцы отличаются: сентябрь является безоговорочным лидером по просмотрам, в то время как июль идёт в аутсайдерах. В целом основная активность по просмотрам приходится на осень. Можно предположить, что это связано с началом учебного года, т.к. речь идёт о площадке где обмениваются вопросами и ответами на темы свявзанные с программированием, а значит в обсуждениях принимают участие большое количество обучающихся программированию. "
   ]
  },
  {
   "cell_type": "markdown",
   "metadata": {
    "id": "FziIXkn5DWKr"
   },
   "source": [
    "# Задание 2"
   ]
  },
  {
   "cell_type": "markdown",
   "metadata": {
    "id": "fTGESZvYDWKr"
   },
   "source": [
    "Выведите имена самых активных пользователей, которые в первый месяц после регистрации (включая день регистрации) дали больше 100 ответов. Вопросы, которые задавали пользователи, не учитывайте. Для каждого имени пользователя выведите количество уникальных значений `user_id`. Отсортируйте результат по полю с именами в лексикографическом порядке."
   ]
  },
  {
   "cell_type": "markdown",
   "metadata": {
    "id": "W5-tv6Y3DWKs"
   },
   "source": [
    "| display_name | count |\n",
    "| ------------ | ----- |\n",
    "| 1800 INFORMATION | 1 |\n",
    "| Adam Bellaire | 1 |\n",
    "| Adam Davis | 1 |\n",
    "| ... | ... |"
   ]
  },
  {
   "cell_type": "code",
   "execution_count": 7,
   "metadata": {
    "id": "fIO-y-YjDWKt"
   },
   "outputs": [
    {
     "data": {
      "text/html": [
       "<div>\n",
       "<style scoped>\n",
       "    .dataframe tbody tr th:only-of-type {\n",
       "        vertical-align: middle;\n",
       "    }\n",
       "\n",
       "    .dataframe tbody tr th {\n",
       "        vertical-align: top;\n",
       "    }\n",
       "\n",
       "    .dataframe thead th {\n",
       "        text-align: right;\n",
       "    }\n",
       "</style>\n",
       "<table border=\"1\" class=\"dataframe\">\n",
       "  <thead>\n",
       "    <tr style=\"text-align: right;\">\n",
       "      <th></th>\n",
       "      <th>display_name</th>\n",
       "      <th>count</th>\n",
       "    </tr>\n",
       "  </thead>\n",
       "  <tbody>\n",
       "    <tr>\n",
       "      <th>0</th>\n",
       "      <td>1800 INFORMATION</td>\n",
       "      <td>1</td>\n",
       "    </tr>\n",
       "    <tr>\n",
       "      <th>1</th>\n",
       "      <td>Adam Bellaire</td>\n",
       "      <td>1</td>\n",
       "    </tr>\n",
       "    <tr>\n",
       "      <th>2</th>\n",
       "      <td>Adam Davis</td>\n",
       "      <td>1</td>\n",
       "    </tr>\n",
       "    <tr>\n",
       "      <th>3</th>\n",
       "      <td>Adam Liss</td>\n",
       "      <td>1</td>\n",
       "    </tr>\n",
       "    <tr>\n",
       "      <th>4</th>\n",
       "      <td>Alan</td>\n",
       "      <td>8</td>\n",
       "    </tr>\n",
       "    <tr>\n",
       "      <th>...</th>\n",
       "      <td>...</td>\n",
       "      <td>...</td>\n",
       "    </tr>\n",
       "    <tr>\n",
       "      <th>71</th>\n",
       "      <td>leppie</td>\n",
       "      <td>1</td>\n",
       "    </tr>\n",
       "    <tr>\n",
       "      <th>72</th>\n",
       "      <td>lomaxx</td>\n",
       "      <td>1</td>\n",
       "    </tr>\n",
       "    <tr>\n",
       "      <th>73</th>\n",
       "      <td>mattlant</td>\n",
       "      <td>1</td>\n",
       "    </tr>\n",
       "    <tr>\n",
       "      <th>74</th>\n",
       "      <td>paxdiablo</td>\n",
       "      <td>1</td>\n",
       "    </tr>\n",
       "    <tr>\n",
       "      <th>75</th>\n",
       "      <td>tzot</td>\n",
       "      <td>1</td>\n",
       "    </tr>\n",
       "  </tbody>\n",
       "</table>\n",
       "<p>76 rows × 2 columns</p>\n",
       "</div>"
      ],
      "text/plain": [
       "        display_name  count\n",
       "0   1800 INFORMATION      1\n",
       "1      Adam Bellaire      1\n",
       "2         Adam Davis      1\n",
       "3          Adam Liss      1\n",
       "4               Alan      8\n",
       "..               ...    ...\n",
       "71            leppie      1\n",
       "72            lomaxx      1\n",
       "73          mattlant      1\n",
       "74         paxdiablo      1\n",
       "75              tzot      1\n",
       "\n",
       "[76 rows x 2 columns]"
      ]
     },
     "metadata": {},
     "output_type": "display_data"
    },
    {
     "data": {
      "text/html": [
       "<div>\n",
       "<style scoped>\n",
       "    .dataframe tbody tr th:only-of-type {\n",
       "        vertical-align: middle;\n",
       "    }\n",
       "\n",
       "    .dataframe tbody tr th {\n",
       "        vertical-align: top;\n",
       "    }\n",
       "\n",
       "    .dataframe thead th {\n",
       "        text-align: right;\n",
       "    }\n",
       "</style>\n",
       "<table border=\"1\" class=\"dataframe\">\n",
       "  <thead>\n",
       "    <tr style=\"text-align: right;\">\n",
       "      <th></th>\n",
       "      <th>display_name</th>\n",
       "      <th>count</th>\n",
       "    </tr>\n",
       "  </thead>\n",
       "  <tbody>\n",
       "    <tr>\n",
       "      <th>4</th>\n",
       "      <td>Alan</td>\n",
       "      <td>8</td>\n",
       "    </tr>\n",
       "    <tr>\n",
       "      <th>7</th>\n",
       "      <td>Brian</td>\n",
       "      <td>15</td>\n",
       "    </tr>\n",
       "    <tr>\n",
       "      <th>10</th>\n",
       "      <td>Chris</td>\n",
       "      <td>29</td>\n",
       "    </tr>\n",
       "    <tr>\n",
       "      <th>12</th>\n",
       "      <td>Craig</td>\n",
       "      <td>10</td>\n",
       "    </tr>\n",
       "    <tr>\n",
       "      <th>14</th>\n",
       "      <td>Dan</td>\n",
       "      <td>21</td>\n",
       "    </tr>\n",
       "    <tr>\n",
       "      <th>21</th>\n",
       "      <td>Greg</td>\n",
       "      <td>12</td>\n",
       "    </tr>\n",
       "    <tr>\n",
       "      <th>25</th>\n",
       "      <td>Jim</td>\n",
       "      <td>7</td>\n",
       "    </tr>\n",
       "    <tr>\n",
       "      <th>26</th>\n",
       "      <td>Joe</td>\n",
       "      <td>9</td>\n",
       "    </tr>\n",
       "    <tr>\n",
       "      <th>33</th>\n",
       "      <td>Josh</td>\n",
       "      <td>16</td>\n",
       "    </tr>\n",
       "    <tr>\n",
       "      <th>34</th>\n",
       "      <td>Keith</td>\n",
       "      <td>5</td>\n",
       "    </tr>\n",
       "    <tr>\n",
       "      <th>35</th>\n",
       "      <td>Kevin</td>\n",
       "      <td>11</td>\n",
       "    </tr>\n",
       "    <tr>\n",
       "      <th>40</th>\n",
       "      <td>Mark</td>\n",
       "      <td>16</td>\n",
       "    </tr>\n",
       "    <tr>\n",
       "      <th>43</th>\n",
       "      <td>Matt</td>\n",
       "      <td>29</td>\n",
       "    </tr>\n",
       "    <tr>\n",
       "      <th>48</th>\n",
       "      <td>Nick</td>\n",
       "      <td>16</td>\n",
       "    </tr>\n",
       "    <tr>\n",
       "      <th>50</th>\n",
       "      <td>Oli</td>\n",
       "      <td>3</td>\n",
       "    </tr>\n",
       "    <tr>\n",
       "      <th>54</th>\n",
       "      <td>Rob</td>\n",
       "      <td>15</td>\n",
       "    </tr>\n",
       "    <tr>\n",
       "      <th>57</th>\n",
       "      <td>Ryan</td>\n",
       "      <td>10</td>\n",
       "    </tr>\n",
       "    <tr>\n",
       "      <th>62</th>\n",
       "      <td>Tom</td>\n",
       "      <td>19</td>\n",
       "    </tr>\n",
       "    <tr>\n",
       "      <th>70</th>\n",
       "      <td>jfs</td>\n",
       "      <td>3</td>\n",
       "    </tr>\n",
       "  </tbody>\n",
       "</table>\n",
       "</div>"
      ],
      "text/plain": [
       "   display_name  count\n",
       "4          Alan      8\n",
       "7         Brian     15\n",
       "10        Chris     29\n",
       "12        Craig     10\n",
       "14          Dan     21\n",
       "21         Greg     12\n",
       "25          Jim      7\n",
       "26          Joe      9\n",
       "33         Josh     16\n",
       "34        Keith      5\n",
       "35        Kevin     11\n",
       "40         Mark     16\n",
       "43         Matt     29\n",
       "48         Nick     16\n",
       "50          Oli      3\n",
       "54          Rob     15\n",
       "57         Ryan     10\n",
       "62          Tom     19\n",
       "70          jfs      3"
      ]
     },
     "metadata": {},
     "output_type": "display_data"
    }
   ],
   "source": [
    "# напишите запрос\n",
    "query = '''\n",
    "WITH t1 AS \n",
    " (SELECT u.id AS user_id,\n",
    "         u.display_name,\n",
    "         COUNT(u.display_name) OVER (PARTITION BY u.display_name) AS count_posts,\n",
    "         COUNT(u.id) OVER (PARTITION BY u.id ORDER BY display_name) AS count_id\n",
    " FROM stackoverflow.posts p\n",
    " JOIN stackoverflow.post_types pt ON p.post_type_id = pt.id\n",
    " JOIN stackoverflow.users u ON p.user_id = u.id\n",
    " WHERE pt.type = 'Answer'\n",
    " AND p.creation_date BETWEEN u.creation_date AND u.creation_date + INTERVAL '1' MONTH\n",
    " ORDER BY 2 DESC\n",
    " )\n",
    "SELECT DISTINCT display_name,\n",
    "    COUNT(DISTINCT user_id)\n",
    "FROM t1\n",
    "WHERE count_posts > 100\n",
    "GROUP BY 1\n",
    "ORDER BY 1\n",
    ";\n",
    "'''\n",
    "\n",
    "# выполните запрос\n",
    "users_activity = pd.read_sql_query(query, con = engine)\n",
    "display(users_activity, users_activity[users_activity['count'] != 1])"
   ]
  },
  {
   "cell_type": "markdown",
   "metadata": {
    "id": "I3Wr82TplKpI"
   },
   "source": [
    "Какие аномалии наблюдаются в данных? О чём они говорят?"
   ]
  },
  {
   "cell_type": "markdown",
   "metadata": {
    "id": "CEIGGQ6ODWKy"
   },
   "source": [
    "**Вывод**\n",
    "\n",
    "По имеющимся аномалиям можно предположить, что несколько пользователей могут иметь одинаковые имена. Следовательно, использовать такие данные для анализа не стоит. Лучше использовать уникальные user_id"
   ]
  },
  {
   "cell_type": "markdown",
   "metadata": {
    "id": "JhM2xXj5DWKu"
   },
   "source": [
    "# Задание 3"
   ]
  },
  {
   "cell_type": "markdown",
   "metadata": {
    "id": "IS6xPqyyDWKu"
   },
   "source": [
    "Выведите количество постов за 2008 год по месяцам. Отберите посты от пользователей, которые зарегистрировались в сентябре 2008 года и сделали хотя бы один пост в декабре того же года. Отсортируйте таблицу по значению месяца по убыванию."
   ]
  },
  {
   "cell_type": "markdown",
   "metadata": {
    "id": "WmjhjV2xDWKv"
   },
   "source": [
    "| month | count |\n",
    "| ------|------ |\n",
    "| 2008-12-01 | 17641 |\n",
    "| 2008-11-01 | 18294 |\n",
    "| ... | ... |"
   ]
  },
  {
   "cell_type": "code",
   "execution_count": 8,
   "metadata": {
    "id": "kVu0FB8WDWKv"
   },
   "outputs": [
    {
     "data": {
      "text/html": [
       "<div>\n",
       "<style scoped>\n",
       "    .dataframe tbody tr th:only-of-type {\n",
       "        vertical-align: middle;\n",
       "    }\n",
       "\n",
       "    .dataframe tbody tr th {\n",
       "        vertical-align: top;\n",
       "    }\n",
       "\n",
       "    .dataframe thead th {\n",
       "        text-align: right;\n",
       "    }\n",
       "</style>\n",
       "<table border=\"1\" class=\"dataframe\">\n",
       "  <thead>\n",
       "    <tr style=\"text-align: right;\">\n",
       "      <th></th>\n",
       "      <th>creation_month</th>\n",
       "      <th>posts_count</th>\n",
       "    </tr>\n",
       "  </thead>\n",
       "  <tbody>\n",
       "    <tr>\n",
       "      <th>0</th>\n",
       "      <td>2008-12-01</td>\n",
       "      <td>17641</td>\n",
       "    </tr>\n",
       "    <tr>\n",
       "      <th>1</th>\n",
       "      <td>2008-11-01</td>\n",
       "      <td>18294</td>\n",
       "    </tr>\n",
       "    <tr>\n",
       "      <th>2</th>\n",
       "      <td>2008-10-01</td>\n",
       "      <td>27171</td>\n",
       "    </tr>\n",
       "    <tr>\n",
       "      <th>3</th>\n",
       "      <td>2008-09-01</td>\n",
       "      <td>24870</td>\n",
       "    </tr>\n",
       "    <tr>\n",
       "      <th>4</th>\n",
       "      <td>2008-08-01</td>\n",
       "      <td>32</td>\n",
       "    </tr>\n",
       "  </tbody>\n",
       "</table>\n",
       "</div>"
      ],
      "text/plain": [
       "  creation_month  posts_count\n",
       "0     2008-12-01        17641\n",
       "1     2008-11-01        18294\n",
       "2     2008-10-01        27171\n",
       "3     2008-09-01        24870\n",
       "4     2008-08-01           32"
      ]
     },
     "execution_count": 8,
     "metadata": {},
     "output_type": "execute_result"
    }
   ],
   "source": [
    "# напишите запрос\n",
    "query = '''\n",
    "WITH t1 AS (\n",
    "    SELECT DISTINCT u.id\n",
    "    FROM stackoverflow.users u\n",
    "    JOIN stackoverflow.posts p ON u.id = p.user_id\n",
    "    WHERE u.creation_date::date BETWEEN '2008-09-01' AND '2008-09-30'\n",
    "    AND u.id IN (SELECT DISTINCT p.user_id\n",
    "                FROM stackoverflow.posts p\n",
    "                WHERE p.creation_date::date BETWEEN '2008-12-01' AND '2008-12-31')\n",
    "    )\n",
    "SELECT CAST(DATE_TRUNC('month', p.creation_date) AS date) AS creation_month,\n",
    "   COUNT(p.id) AS posts_count\n",
    "FROM stackoverflow.posts p\n",
    "JOIN t1 ON p.user_id = t1.id\n",
    "WHERE CAST(DATE_TRUNC('month', p.creation_date) AS date) BETWEEN '2008-01-01' AND '2008-12-31'\n",
    "GROUP BY CAST(DATE_TRUNC('month', p.creation_date) AS date)\n",
    "ORDER BY 1 DESC\n",
    ";\n",
    "'''\n",
    "\n",
    "# выполните запрос\n",
    "posts_number = pd.read_sql_query(query, con = engine)\n",
    "posts_number"
   ]
  },
  {
   "cell_type": "markdown",
   "metadata": {
    "id": "Vnxn9DVHDWKx"
   },
   "source": [
    "Изучите данные: есть ли в них аномалии? Предположите, почему могли появиться аномальные значения."
   ]
  },
  {
   "cell_type": "markdown",
   "metadata": {
    "id": "MMVIz4yMlKpN"
   },
   "source": [
    "**Вывод:**\n",
    "\n",
    "В данных есть посты от пользователей которые зарегистрировались позже даты размещения самого поста. Тут возможны два варианта: 1) это ошибка(произошедшая на этапе записи или выгрузки например); 2) Пост был создан пользователем в режиме гостя(без регистрации), с последующей регистрацией этого пользователя на ресурсе."
   ]
  },
  {
   "cell_type": "markdown",
   "metadata": {
    "id": "5Pcizm0DDWKz"
   },
   "source": [
    "# Задание 4"
   ]
  },
  {
   "cell_type": "markdown",
   "metadata": {
    "id": "KUZPF6vHDWKz"
   },
   "source": [
    "Используя данные о постах, выведите несколько полей:\n",
    "\n",
    "- идентификатор пользователя, который написал пост;\n",
    "- дата создания поста;\n",
    "- количество просмотров у текущего поста;\n",
    "- сумму просмотров постов автора с накоплением.\n",
    "\n",
    "Данные в таблице должны быть отсортированы по возрастанию идентификаторов пользователей, а данные об одном и том же пользователе — по возрастанию даты создания поста."
   ]
  },
  {
   "cell_type": "markdown",
   "metadata": {
    "id": "ZpsTUVDYDWK0"
   },
   "source": [
    "| user_id | creation_date | views_count | cumulative_count |\n",
    "| ------ | -------------- | ----------- | ---------------- |\n",
    "| 1 | 2008-07-31 23:41:00  | 480476   | 480476  |\n",
    "| 1 | 2008-07-31 23:55:38  | 136033 | 616509  | \n",
    "| 1 | 2008-07-31 23:56:41  | 0 |  616509  |\n",
    "| ... | ... | ... | ... |\n",
    "| 2 | 2008-07-31 23:56:41 | 79087  | 79087 |\n",
    "| 2 | 2008-08-01 05:09:56 | 65443 | 144530 |\n",
    "| ... | ...  | ...  | ...  |"
   ]
  },
  {
   "cell_type": "code",
   "execution_count": 19,
   "metadata": {
    "id": "hDoJhMzfDWK0",
    "scrolled": true
   },
   "outputs": [
    {
     "data": {
      "text/html": [
       "<div>\n",
       "<style scoped>\n",
       "    .dataframe tbody tr th:only-of-type {\n",
       "        vertical-align: middle;\n",
       "    }\n",
       "\n",
       "    .dataframe tbody tr th {\n",
       "        vertical-align: top;\n",
       "    }\n",
       "\n",
       "    .dataframe thead th {\n",
       "        text-align: right;\n",
       "    }\n",
       "</style>\n",
       "<table border=\"1\" class=\"dataframe\">\n",
       "  <thead>\n",
       "    <tr style=\"text-align: right;\">\n",
       "      <th></th>\n",
       "      <th>user_id</th>\n",
       "      <th>creation_date</th>\n",
       "      <th>views_count</th>\n",
       "      <th>sum</th>\n",
       "    </tr>\n",
       "  </thead>\n",
       "  <tbody>\n",
       "    <tr>\n",
       "      <th>0</th>\n",
       "      <td>1</td>\n",
       "      <td>2008-07-31 23:41:00</td>\n",
       "      <td>480476</td>\n",
       "      <td>480476</td>\n",
       "    </tr>\n",
       "    <tr>\n",
       "      <th>1</th>\n",
       "      <td>1</td>\n",
       "      <td>2008-07-31 23:55:38</td>\n",
       "      <td>136033</td>\n",
       "      <td>616509</td>\n",
       "    </tr>\n",
       "    <tr>\n",
       "      <th>2</th>\n",
       "      <td>1</td>\n",
       "      <td>2008-07-31 23:56:41</td>\n",
       "      <td>0</td>\n",
       "      <td>616509</td>\n",
       "    </tr>\n",
       "    <tr>\n",
       "      <th>3</th>\n",
       "      <td>1</td>\n",
       "      <td>2008-08-04 02:45:08</td>\n",
       "      <td>0</td>\n",
       "      <td>616509</td>\n",
       "    </tr>\n",
       "    <tr>\n",
       "      <th>4</th>\n",
       "      <td>1</td>\n",
       "      <td>2008-08-04 04:31:03</td>\n",
       "      <td>0</td>\n",
       "      <td>616509</td>\n",
       "    </tr>\n",
       "    <tr>\n",
       "      <th>...</th>\n",
       "      <td>...</td>\n",
       "      <td>...</td>\n",
       "      <td>...</td>\n",
       "      <td>...</td>\n",
       "    </tr>\n",
       "    <tr>\n",
       "      <th>243791</th>\n",
       "      <td>5696608</td>\n",
       "      <td>2008-12-23 16:00:37</td>\n",
       "      <td>0</td>\n",
       "      <td>2804</td>\n",
       "    </tr>\n",
       "    <tr>\n",
       "      <th>243792</th>\n",
       "      <td>5696608</td>\n",
       "      <td>2008-12-23 17:35:09</td>\n",
       "      <td>0</td>\n",
       "      <td>2804</td>\n",
       "    </tr>\n",
       "    <tr>\n",
       "      <th>243793</th>\n",
       "      <td>5696608</td>\n",
       "      <td>2008-12-24 01:02:48</td>\n",
       "      <td>0</td>\n",
       "      <td>2804</td>\n",
       "    </tr>\n",
       "    <tr>\n",
       "      <th>243794</th>\n",
       "      <td>5696608</td>\n",
       "      <td>2008-12-30 14:34:45</td>\n",
       "      <td>0</td>\n",
       "      <td>2804</td>\n",
       "    </tr>\n",
       "    <tr>\n",
       "      <th>243795</th>\n",
       "      <td>5696608</td>\n",
       "      <td>2008-12-30 16:32:12</td>\n",
       "      <td>0</td>\n",
       "      <td>2804</td>\n",
       "    </tr>\n",
       "  </tbody>\n",
       "</table>\n",
       "<p>243796 rows × 4 columns</p>\n",
       "</div>"
      ],
      "text/plain": [
       "        user_id       creation_date  views_count     sum\n",
       "0             1 2008-07-31 23:41:00       480476  480476\n",
       "1             1 2008-07-31 23:55:38       136033  616509\n",
       "2             1 2008-07-31 23:56:41            0  616509\n",
       "3             1 2008-08-04 02:45:08            0  616509\n",
       "4             1 2008-08-04 04:31:03            0  616509\n",
       "...         ...                 ...          ...     ...\n",
       "243791  5696608 2008-12-23 16:00:37            0    2804\n",
       "243792  5696608 2008-12-23 17:35:09            0    2804\n",
       "243793  5696608 2008-12-24 01:02:48            0    2804\n",
       "243794  5696608 2008-12-30 14:34:45            0    2804\n",
       "243795  5696608 2008-12-30 16:32:12            0    2804\n",
       "\n",
       "[243796 rows x 4 columns]"
      ]
     },
     "execution_count": 19,
     "metadata": {},
     "output_type": "execute_result"
    }
   ],
   "source": [
    "# напишите запрос\n",
    "query = '''\n",
    "SELECT p.user_id,\n",
    "    p.creation_date,\n",
    "    p.views_count,\n",
    "    SUM(views_count) OVER(PARTITION BY p.user_id ORDER BY p.creation_date)\n",
    "FROM stackoverflow.posts p\n",
    ";\n",
    "'''\n",
    "\n",
    "# выполните запрос\n",
    "posts = pd.read_sql_query(query, con = engine)\n",
    "posts"
   ]
  },
  {
   "cell_type": "markdown",
   "metadata": {
    "id": "N0kHRHvIDWK2"
   },
   "source": [
    "# Задание 5"
   ]
  },
  {
   "cell_type": "markdown",
   "metadata": {
    "id": "gBgvmPtODWK2"
   },
   "source": [
    "Найдите среднее количество постов пользователей в день за август 2008 года. Отберите данные о пользователях, которые опубликовали больше 120 постов за август. Дни без публикаций не учитывайте. \n",
    "\n",
    "Отсортируйте результат по возрастанию среднего количества постов. Значения можно не округлять."
   ]
  },
  {
   "cell_type": "markdown",
   "metadata": {
    "id": "nfzR08BODWK3"
   },
   "source": [
    "| user_id | avg_daily |\n",
    "| ------- | --------- |\n",
    "| 116     | 4.777778  |\n",
    "| 234     | 5.208333  |\n",
    "| ...     | ... |"
   ]
  },
  {
   "cell_type": "code",
   "execution_count": 10,
   "metadata": {
    "id": "YFyPNz5GDWK3"
   },
   "outputs": [
    {
     "data": {
      "text/html": [
       "<div>\n",
       "<style scoped>\n",
       "    .dataframe tbody tr th:only-of-type {\n",
       "        vertical-align: middle;\n",
       "    }\n",
       "\n",
       "    .dataframe tbody tr th {\n",
       "        vertical-align: top;\n",
       "    }\n",
       "\n",
       "    .dataframe thead th {\n",
       "        text-align: right;\n",
       "    }\n",
       "</style>\n",
       "<table border=\"1\" class=\"dataframe\">\n",
       "  <thead>\n",
       "    <tr style=\"text-align: right;\">\n",
       "      <th></th>\n",
       "      <th>user_id</th>\n",
       "      <th>avg_daily</th>\n",
       "    </tr>\n",
       "  </thead>\n",
       "  <tbody>\n",
       "    <tr>\n",
       "      <th>0</th>\n",
       "      <td>116</td>\n",
       "      <td>4.777778</td>\n",
       "    </tr>\n",
       "    <tr>\n",
       "      <th>1</th>\n",
       "      <td>234</td>\n",
       "      <td>5.208333</td>\n",
       "    </tr>\n",
       "    <tr>\n",
       "      <th>2</th>\n",
       "      <td>91</td>\n",
       "      <td>5.681818</td>\n",
       "    </tr>\n",
       "    <tr>\n",
       "      <th>3</th>\n",
       "      <td>905</td>\n",
       "      <td>7.000000</td>\n",
       "    </tr>\n",
       "    <tr>\n",
       "      <th>4</th>\n",
       "      <td>383</td>\n",
       "      <td>7.277778</td>\n",
       "    </tr>\n",
       "  </tbody>\n",
       "</table>\n",
       "</div>"
      ],
      "text/plain": [
       "   user_id  avg_daily\n",
       "0      116   4.777778\n",
       "1      234   5.208333\n",
       "2       91   5.681818\n",
       "3      905   7.000000\n",
       "4      383   7.277778"
      ]
     },
     "execution_count": 10,
     "metadata": {},
     "output_type": "execute_result"
    }
   ],
   "source": [
    "# напишите запрос\n",
    "query = '''\n",
    "SELECT DISTINCT p.user_id,\n",
    "       AVG(p.cnt_as_day) OVER (PARTITION BY p.user_id) AS avg_daily\n",
    "       FROM (SELECT DISTINCT p.user_id,\n",
    "            DATE_TRUNC('day', p.creation_date),\n",
    "            COUNT(*) OVER (PARTITION BY p.user_id, DATE_TRUNC('day', p.creation_date)) AS cnt_as_day,\n",
    "            COUNT(*) OVER (PARTITION BY p.user_id) AS cnt_all\n",
    "            FROM stackoverflow.posts as p\n",
    "            WHERE CAST(DATE_TRUNC('month', p.creation_date) AS date) = '2008-08-01') AS p\n",
    "WHERE p.cnt_all > 120\n",
    "ORDER BY 2\n",
    ";\n",
    "'''\n",
    "\n",
    "# выполните запрос\n",
    "posts_august = pd.read_sql_query(query, con = engine)\n",
    "posts_august"
   ]
  },
  {
   "cell_type": "markdown",
   "metadata": {
    "id": "EQ0dcFH4DWK5"
   },
   "source": [
    "# Задание 6"
   ]
  },
  {
   "cell_type": "markdown",
   "metadata": {
    "id": "c7flfg_hDWK5"
   },
   "source": [
    "Сколько в среднем дней в период с 1 по 7 декабря 2008 года пользователи взаимодействовали с платформой? Для каждого пользователя отберите дни, в которые он или она опубликовали хотя бы один пост. Нужно получить одно целое число — не забудьте округлить результат. "
   ]
  },
  {
   "cell_type": "markdown",
   "metadata": {
    "id": "RC1Ibzm9DWK6"
   },
   "source": [
    "| result |\n",
    "| -----  |\n",
    "| <целое число> |"
   ]
  },
  {
   "cell_type": "code",
   "execution_count": 21,
   "metadata": {
    "id": "kZ7LXTr6DWK6"
   },
   "outputs": [
    {
     "data": {
      "text/html": [
       "<div>\n",
       "<style scoped>\n",
       "    .dataframe tbody tr th:only-of-type {\n",
       "        vertical-align: middle;\n",
       "    }\n",
       "\n",
       "    .dataframe tbody tr th {\n",
       "        vertical-align: top;\n",
       "    }\n",
       "\n",
       "    .dataframe thead th {\n",
       "        text-align: right;\n",
       "    }\n",
       "</style>\n",
       "<table border=\"1\" class=\"dataframe\">\n",
       "  <thead>\n",
       "    <tr style=\"text-align: right;\">\n",
       "      <th></th>\n",
       "      <th>result</th>\n",
       "    </tr>\n",
       "  </thead>\n",
       "  <tbody>\n",
       "    <tr>\n",
       "      <th>0</th>\n",
       "      <td>2.0</td>\n",
       "    </tr>\n",
       "  </tbody>\n",
       "</table>\n",
       "</div>"
      ],
      "text/plain": [
       "   result\n",
       "0     2.0"
      ]
     },
     "execution_count": 21,
     "metadata": {},
     "output_type": "execute_result"
    }
   ],
   "source": [
    "# напишите запрос\n",
    "query = '''\n",
    "WITH t1 AS \n",
    "    (SELECT p.user_id,\n",
    "            p.creation_date::date\n",
    "    FROM stackoverflow.posts p\n",
    "    WHERE p.creation_date::date BETWEEN '2008-12-01' AND '2008-12-07'\n",
    "    GROUP BY 1,2\n",
    "    ORDER BY 1,2\n",
    "    ),\n",
    "        t2 AS \n",
    "        (SELECT DISTINCT user_id,\n",
    "                COUNT(creation_date)\n",
    "        FROM t1\n",
    "        GROUP BY 1\n",
    "        ORDER BY 1\n",
    "        )\n",
    "SELECT ROUND(AVG(count), 0) AS result\n",
    "FROM t2\n",
    ";\n",
    "'''\n",
    "\n",
    "# выполните запрос\n",
    "result_6 = pd.read_sql_query(query, con = engine)\n",
    "result_6"
   ]
  },
  {
   "cell_type": "markdown",
   "metadata": {
    "id": "LfUuYz-1DWK8"
   },
   "source": [
    "**Вывод:**\n",
    "\n",
    "Видим, что пользователи в среднем взаимодействуют с платформой два раза в неделю"
   ]
  },
  {
   "cell_type": "markdown",
   "metadata": {
    "id": "wfOmqmfLDWK8"
   },
   "source": [
    "# Задание 7"
   ]
  },
  {
   "cell_type": "markdown",
   "metadata": {
    "id": "X4ARQimADWK9"
   },
   "source": [
    "Выведите историю активности каждого пользователя в таком виде: идентификатор пользователя, дата публикации поста. Отсортируйте вывод по возрастанию идентификаторов пользователей, а для каждого пользователя — по возрастанию даты публикации.\n",
    "\n",
    "Добавьте в таблицу новое поле: для каждого поста в нём будет указано название месяца предпоследней публикации пользователя относительно текущей. Если такой публикации нет, укажите `NULL`.  Python автоматически поменяет `NULL` на `None`, но дополнительно преобразовывать значения `None` вам не нужно.\n",
    "\n",
    "Посмотрите внимательно на образец таблицы: для первых двух постов предпоследней публикации нет, но, начиная с третьего поста, в новое поле входит нужный месяц. Для следующего пользователя в первые две записи поля `second_last_month` тоже войдёт `NULL`."
   ]
  },
  {
   "cell_type": "markdown",
   "metadata": {
    "id": "IGPjRP01DWK9"
   },
   "source": [
    "| user_id | creation_date | second_last_month |\n",
    "| ------- | ------------- | ----------------- |\n",
    "| 1       | 2008-07-31 23:41:00 | None |\n",
    "| 1       | 2008-07-31 23:55:38 | None |\n",
    "| 1       | 2008-07-31 23:56:41 | July |\n",
    "| 1       | 2008-08-04 02:45:08 | July |\n",
    "| 1       | 2008-08-04 04:31:03 | July |\n",
    "| 1       | 2008-08-04 08:04:42 | August |\n",
    "| ... | ... | ... |"
   ]
  },
  {
   "cell_type": "code",
   "execution_count": 22,
   "metadata": {
    "id": "HzI1vhaMDWK-"
   },
   "outputs": [
    {
     "data": {
      "text/html": [
       "<div>\n",
       "<style scoped>\n",
       "    .dataframe tbody tr th:only-of-type {\n",
       "        vertical-align: middle;\n",
       "    }\n",
       "\n",
       "    .dataframe tbody tr th {\n",
       "        vertical-align: top;\n",
       "    }\n",
       "\n",
       "    .dataframe thead th {\n",
       "        text-align: right;\n",
       "    }\n",
       "</style>\n",
       "<table border=\"1\" class=\"dataframe\">\n",
       "  <thead>\n",
       "    <tr style=\"text-align: right;\">\n",
       "      <th></th>\n",
       "      <th>user_id</th>\n",
       "      <th>creation_date</th>\n",
       "      <th>second_last_month</th>\n",
       "    </tr>\n",
       "  </thead>\n",
       "  <tbody>\n",
       "    <tr>\n",
       "      <th>0</th>\n",
       "      <td>1</td>\n",
       "      <td>2008-07-31 23:41:00</td>\n",
       "      <td>None</td>\n",
       "    </tr>\n",
       "    <tr>\n",
       "      <th>1</th>\n",
       "      <td>1</td>\n",
       "      <td>2008-07-31 23:55:38</td>\n",
       "      <td>None</td>\n",
       "    </tr>\n",
       "    <tr>\n",
       "      <th>2</th>\n",
       "      <td>1</td>\n",
       "      <td>2008-07-31 23:56:41</td>\n",
       "      <td>July</td>\n",
       "    </tr>\n",
       "    <tr>\n",
       "      <th>3</th>\n",
       "      <td>1</td>\n",
       "      <td>2008-08-04 02:45:08</td>\n",
       "      <td>July</td>\n",
       "    </tr>\n",
       "    <tr>\n",
       "      <th>4</th>\n",
       "      <td>1</td>\n",
       "      <td>2008-08-04 04:31:03</td>\n",
       "      <td>July</td>\n",
       "    </tr>\n",
       "    <tr>\n",
       "      <th>...</th>\n",
       "      <td>...</td>\n",
       "      <td>...</td>\n",
       "      <td>...</td>\n",
       "    </tr>\n",
       "    <tr>\n",
       "      <th>243791</th>\n",
       "      <td>5696608</td>\n",
       "      <td>2008-12-23 16:00:37</td>\n",
       "      <td>December</td>\n",
       "    </tr>\n",
       "    <tr>\n",
       "      <th>243792</th>\n",
       "      <td>5696608</td>\n",
       "      <td>2008-12-23 17:35:09</td>\n",
       "      <td>December</td>\n",
       "    </tr>\n",
       "    <tr>\n",
       "      <th>243793</th>\n",
       "      <td>5696608</td>\n",
       "      <td>2008-12-24 01:02:48</td>\n",
       "      <td>December</td>\n",
       "    </tr>\n",
       "    <tr>\n",
       "      <th>243794</th>\n",
       "      <td>5696608</td>\n",
       "      <td>2008-12-30 14:34:45</td>\n",
       "      <td>December</td>\n",
       "    </tr>\n",
       "    <tr>\n",
       "      <th>243795</th>\n",
       "      <td>5696608</td>\n",
       "      <td>2008-12-30 16:32:12</td>\n",
       "      <td>December</td>\n",
       "    </tr>\n",
       "  </tbody>\n",
       "</table>\n",
       "<p>243796 rows × 3 columns</p>\n",
       "</div>"
      ],
      "text/plain": [
       "        user_id       creation_date second_last_month\n",
       "0             1 2008-07-31 23:41:00              None\n",
       "1             1 2008-07-31 23:55:38              None\n",
       "2             1 2008-07-31 23:56:41              July\n",
       "3             1 2008-08-04 02:45:08              July\n",
       "4             1 2008-08-04 04:31:03              July\n",
       "...         ...                 ...               ...\n",
       "243791  5696608 2008-12-23 16:00:37          December\n",
       "243792  5696608 2008-12-23 17:35:09          December\n",
       "243793  5696608 2008-12-24 01:02:48          December\n",
       "243794  5696608 2008-12-30 14:34:45          December\n",
       "243795  5696608 2008-12-30 16:32:12          December\n",
       "\n",
       "[243796 rows x 3 columns]"
      ]
     },
     "execution_count": 22,
     "metadata": {},
     "output_type": "execute_result"
    }
   ],
   "source": [
    "# напишите запрос\n",
    "query = '''\n",
    "SELECT user_id,\n",
    "       creation_date,\n",
    "    CASE\n",
    "        WHEN EXTRACT(MONTH FROM last_month) = 1 THEN 'January'\n",
    "        WHEN EXTRACT(MONTH FROM last_month) = 2 THEN 'February'\n",
    "        WHEN EXTRACT(MONTH FROM last_month) = 3 THEN 'March'\n",
    "        WHEN EXTRACT(MONTH FROM last_month) = 4 THEN 'April'\n",
    "        WHEN EXTRACT(MONTH FROM last_month) = 5 THEN 'May'\n",
    "        WHEN EXTRACT(MONTH FROM last_month) = 6 THEN 'June'\n",
    "        WHEN EXTRACT(MONTH FROM last_month) = 7 THEN 'July'\n",
    "        WHEN EXTRACT(MONTH FROM last_month) = 8 THEN 'August'\n",
    "        WHEN EXTRACT(MONTH FROM last_month) = 9 THEN 'September'\n",
    "        WHEN EXTRACT(MONTH FROM last_month) = 10 THEN 'October'\n",
    "        WHEN EXTRACT(MONTH FROM last_month) = 11 THEN 'November'\n",
    "        WHEN EXTRACT(MONTH FROM last_month) = 12 THEN 'December'\n",
    "    END AS second_last_month\n",
    "FROM (SELECT p.user_id,\n",
    "             p.creation_date,\n",
    "             LAG(p.creation_date::date, 2, NULL) OVER (PARTITION BY p.user_id ORDER BY p.creation_date) AS last_month\n",
    "     FROM stackoverflow.posts p\n",
    "     ORDER BY 1,2\n",
    "     ) AS t1\n",
    ";\n",
    "'''\n",
    "\n",
    "# выполните запрос\n",
    "activity = pd.read_sql_query(query, con = engine)\n",
    "activity"
   ]
  },
  {
   "cell_type": "markdown",
   "metadata": {
    "id": "tf9qq2yzDWK_"
   },
   "source": [
    "# Задание 8"
   ]
  },
  {
   "cell_type": "markdown",
   "metadata": {
    "id": "gfwLVXBYDWLA"
   },
   "source": [
    "Рассчитайте аналог Retention Rate по месяцам для пользователей StackOverflow. Объедините пользователей в когорты по месяцу их первого поста. Возвращение определяйте по наличию поста в текущем месяце. "
   ]
  },
  {
   "cell_type": "markdown",
   "metadata": {
    "id": "kN2ic39WlKpl"
   },
   "source": [
    "| cohort_dt | session_date | users_cnt | cohort_users_cnt | retention_rate |\n",
    "| --- | --- | --- | --- | --- |\n",
    "| 2008-07-01 00:00:00 | 2008-07-01 00:00:00 | 3 | 3 | 100 |\n",
    "| 2008-07-01 00:00:00 | 2008-08-01 00:00:00 | 2 | 3 | 66,67 |\n",
    "| 2008-07-01 00:00:00 | 2008-09-01 00:00:00 | 1 | 3 | 33,33 |\n",
    "| 2008-07-01 00:00:00 | 2008-10-01 00:00:00 | 2 | 3 | 66,67 |\n",
    "| 2008-07-01 00:00:00 | 2008-11-01 00:00:00 | 1 | 3 | 33,33 |\n",
    "| 2008-07-01 00:00:00 | 2008-12-01 00:00:00 | 2 | 3 | 66,67 |\n",
    "| 2008-08-01 00:00:00 | 2008-08-01 00:00:00 | 2151 | 2151 | 100 |\n",
    "| ... | ... | ... | ... | ... |"
   ]
  },
  {
   "cell_type": "code",
   "execution_count": 13,
   "metadata": {
    "id": "LUgFmwmTDWLB"
   },
   "outputs": [
    {
     "data": {
      "text/html": [
       "<div>\n",
       "<style scoped>\n",
       "    .dataframe tbody tr th:only-of-type {\n",
       "        vertical-align: middle;\n",
       "    }\n",
       "\n",
       "    .dataframe tbody tr th {\n",
       "        vertical-align: top;\n",
       "    }\n",
       "\n",
       "    .dataframe thead th {\n",
       "        text-align: right;\n",
       "    }\n",
       "</style>\n",
       "<table border=\"1\" class=\"dataframe\">\n",
       "  <thead>\n",
       "    <tr style=\"text-align: right;\">\n",
       "      <th></th>\n",
       "      <th>cohort_date</th>\n",
       "      <th>session_dt</th>\n",
       "      <th>count</th>\n",
       "      <th>user_in_cohort</th>\n",
       "      <th>round</th>\n",
       "    </tr>\n",
       "  </thead>\n",
       "  <tbody>\n",
       "    <tr>\n",
       "      <th>0</th>\n",
       "      <td>2008-07-01</td>\n",
       "      <td>2008-07-01</td>\n",
       "      <td>3</td>\n",
       "      <td>3</td>\n",
       "      <td>100.00</td>\n",
       "    </tr>\n",
       "    <tr>\n",
       "      <th>1</th>\n",
       "      <td>2008-07-01</td>\n",
       "      <td>2008-08-01</td>\n",
       "      <td>2</td>\n",
       "      <td>3</td>\n",
       "      <td>66.67</td>\n",
       "    </tr>\n",
       "    <tr>\n",
       "      <th>2</th>\n",
       "      <td>2008-07-01</td>\n",
       "      <td>2008-09-01</td>\n",
       "      <td>1</td>\n",
       "      <td>3</td>\n",
       "      <td>33.33</td>\n",
       "    </tr>\n",
       "    <tr>\n",
       "      <th>3</th>\n",
       "      <td>2008-07-01</td>\n",
       "      <td>2008-10-01</td>\n",
       "      <td>2</td>\n",
       "      <td>3</td>\n",
       "      <td>66.67</td>\n",
       "    </tr>\n",
       "    <tr>\n",
       "      <th>4</th>\n",
       "      <td>2008-07-01</td>\n",
       "      <td>2008-11-01</td>\n",
       "      <td>1</td>\n",
       "      <td>3</td>\n",
       "      <td>33.33</td>\n",
       "    </tr>\n",
       "    <tr>\n",
       "      <th>5</th>\n",
       "      <td>2008-07-01</td>\n",
       "      <td>2008-12-01</td>\n",
       "      <td>2</td>\n",
       "      <td>3</td>\n",
       "      <td>66.67</td>\n",
       "    </tr>\n",
       "    <tr>\n",
       "      <th>6</th>\n",
       "      <td>2008-08-01</td>\n",
       "      <td>2008-08-01</td>\n",
       "      <td>2151</td>\n",
       "      <td>2151</td>\n",
       "      <td>100.00</td>\n",
       "    </tr>\n",
       "    <tr>\n",
       "      <th>7</th>\n",
       "      <td>2008-08-01</td>\n",
       "      <td>2008-09-01</td>\n",
       "      <td>1571</td>\n",
       "      <td>2151</td>\n",
       "      <td>73.04</td>\n",
       "    </tr>\n",
       "    <tr>\n",
       "      <th>8</th>\n",
       "      <td>2008-08-01</td>\n",
       "      <td>2008-10-01</td>\n",
       "      <td>1275</td>\n",
       "      <td>2151</td>\n",
       "      <td>59.27</td>\n",
       "    </tr>\n",
       "    <tr>\n",
       "      <th>9</th>\n",
       "      <td>2008-08-01</td>\n",
       "      <td>2008-11-01</td>\n",
       "      <td>1050</td>\n",
       "      <td>2151</td>\n",
       "      <td>48.81</td>\n",
       "    </tr>\n",
       "    <tr>\n",
       "      <th>10</th>\n",
       "      <td>2008-08-01</td>\n",
       "      <td>2008-12-01</td>\n",
       "      <td>894</td>\n",
       "      <td>2151</td>\n",
       "      <td>41.56</td>\n",
       "    </tr>\n",
       "    <tr>\n",
       "      <th>11</th>\n",
       "      <td>2008-09-01</td>\n",
       "      <td>2008-09-01</td>\n",
       "      <td>7678</td>\n",
       "      <td>7678</td>\n",
       "      <td>100.00</td>\n",
       "    </tr>\n",
       "    <tr>\n",
       "      <th>12</th>\n",
       "      <td>2008-09-01</td>\n",
       "      <td>2008-10-01</td>\n",
       "      <td>4132</td>\n",
       "      <td>7678</td>\n",
       "      <td>53.82</td>\n",
       "    </tr>\n",
       "    <tr>\n",
       "      <th>13</th>\n",
       "      <td>2008-09-01</td>\n",
       "      <td>2008-11-01</td>\n",
       "      <td>2966</td>\n",
       "      <td>7678</td>\n",
       "      <td>38.63</td>\n",
       "    </tr>\n",
       "    <tr>\n",
       "      <th>14</th>\n",
       "      <td>2008-09-01</td>\n",
       "      <td>2008-12-01</td>\n",
       "      <td>2500</td>\n",
       "      <td>7678</td>\n",
       "      <td>32.56</td>\n",
       "    </tr>\n",
       "    <tr>\n",
       "      <th>15</th>\n",
       "      <td>2008-10-01</td>\n",
       "      <td>2008-10-01</td>\n",
       "      <td>3629</td>\n",
       "      <td>3629</td>\n",
       "      <td>100.00</td>\n",
       "    </tr>\n",
       "    <tr>\n",
       "      <th>16</th>\n",
       "      <td>2008-10-01</td>\n",
       "      <td>2008-11-01</td>\n",
       "      <td>1640</td>\n",
       "      <td>3629</td>\n",
       "      <td>45.19</td>\n",
       "    </tr>\n",
       "    <tr>\n",
       "      <th>17</th>\n",
       "      <td>2008-10-01</td>\n",
       "      <td>2008-12-01</td>\n",
       "      <td>1221</td>\n",
       "      <td>3629</td>\n",
       "      <td>33.65</td>\n",
       "    </tr>\n",
       "    <tr>\n",
       "      <th>18</th>\n",
       "      <td>2008-11-01</td>\n",
       "      <td>2008-11-01</td>\n",
       "      <td>2852</td>\n",
       "      <td>2852</td>\n",
       "      <td>100.00</td>\n",
       "    </tr>\n",
       "    <tr>\n",
       "      <th>19</th>\n",
       "      <td>2008-11-01</td>\n",
       "      <td>2008-12-01</td>\n",
       "      <td>1151</td>\n",
       "      <td>2852</td>\n",
       "      <td>40.36</td>\n",
       "    </tr>\n",
       "    <tr>\n",
       "      <th>20</th>\n",
       "      <td>2008-12-01</td>\n",
       "      <td>2008-12-01</td>\n",
       "      <td>2536</td>\n",
       "      <td>2536</td>\n",
       "      <td>100.00</td>\n",
       "    </tr>\n",
       "  </tbody>\n",
       "</table>\n",
       "</div>"
      ],
      "text/plain": [
       "   cohort_date  session_dt  count  user_in_cohort   round\n",
       "0   2008-07-01  2008-07-01      3               3  100.00\n",
       "1   2008-07-01  2008-08-01      2               3   66.67\n",
       "2   2008-07-01  2008-09-01      1               3   33.33\n",
       "3   2008-07-01  2008-10-01      2               3   66.67\n",
       "4   2008-07-01  2008-11-01      1               3   33.33\n",
       "5   2008-07-01  2008-12-01      2               3   66.67\n",
       "6   2008-08-01  2008-08-01   2151            2151  100.00\n",
       "7   2008-08-01  2008-09-01   1571            2151   73.04\n",
       "8   2008-08-01  2008-10-01   1275            2151   59.27\n",
       "9   2008-08-01  2008-11-01   1050            2151   48.81\n",
       "10  2008-08-01  2008-12-01    894            2151   41.56\n",
       "11  2008-09-01  2008-09-01   7678            7678  100.00\n",
       "12  2008-09-01  2008-10-01   4132            7678   53.82\n",
       "13  2008-09-01  2008-11-01   2966            7678   38.63\n",
       "14  2008-09-01  2008-12-01   2500            7678   32.56\n",
       "15  2008-10-01  2008-10-01   3629            3629  100.00\n",
       "16  2008-10-01  2008-11-01   1640            3629   45.19\n",
       "17  2008-10-01  2008-12-01   1221            3629   33.65\n",
       "18  2008-11-01  2008-11-01   2852            2852  100.00\n",
       "19  2008-11-01  2008-12-01   1151            2852   40.36\n",
       "20  2008-12-01  2008-12-01   2536            2536  100.00"
      ]
     },
     "execution_count": 13,
     "metadata": {},
     "output_type": "execute_result"
    }
   ],
   "source": [
    "# напишите запрос\n",
    "query = '''\n",
    "WITH profile AS (\n",
    "        SELECT id, \n",
    "               cohort_date, \n",
    "               COUNT(id) OVER (PARTITION BY cohort_date) AS user_in_cohort\n",
    "        FROM (SELECT su.id AS id,\n",
    "              MIN(DATE_TRUNC('month', sp.creation_date)) AS cohort_date \n",
    "              FROM stackoverflow.users su\n",
    "              JOIN stackoverflow.posts sp ON su.id = sp.user_id\n",
    "              GROUP BY 1) AS sample\n",
    "        GROUP BY 1,2\n",
    "        ),\n",
    "     session AS (\n",
    "         SELECT sp.user_id AS id,\n",
    "                DATE_TRUNC('month', sp.creation_date)::DATE AS session_dt\n",
    "         FROM stackoverflow.posts sp\n",
    "         JOIN profile p ON p.id = sp.user_id\n",
    "         GROUP BY 1,2\n",
    "         )\n",
    "SELECT p.cohort_date,\n",
    "       s.session_dt,\n",
    "       COUNT(DISTINCT p.id),\n",
    "       p.user_in_cohort,\n",
    "       ROUND((COUNT(DISTINCT s.id) * 100.0 / p.user_in_cohort), 2)\n",
    "FROM profile p\n",
    "LEFT JOIN session s ON p.id = s.id\n",
    "GROUP BY 1,2,4\n",
    ";\n",
    "'''\n",
    "\n",
    "# выполните запрос\n",
    "retention_rate = pd.read_sql_query(query, con = engine)\n",
    "retention_rate"
   ]
  },
  {
   "cell_type": "markdown",
   "metadata": {},
   "source": [
    "<div class=\"alert alert-success\">\n",
    "<b>Комментарий ревьюера ✔️:</b> Честно говоря, скрипт тут довольно накрученный, но написал ты его безошибочно, молодец!"
   ]
  },
  {
   "cell_type": "markdown",
   "metadata": {
    "id": "_msBtnb2DWLC"
   },
   "source": [
    "Постройте тепловую карту Retention Rate. Какие аномалии или другие необычные явления удалось выявить? Сформулируйте гипотезы о возможных причинах."
   ]
  },
  {
   "cell_type": "code",
   "execution_count": 14,
   "metadata": {
    "id": "qAEJc8H1DWLC"
   },
   "outputs": [
    {
     "data": {
      "image/png": "[encoded data removed]",
      "text/plain": [
       "<Figure size 1080x720 with 2 Axes>"
      ]
     },
     "metadata": {
      "needs_background": "light"
     },
     "output_type": "display_data"
    }
   ],
   "source": [
    "retention = retention_rate.pivot('cohort_date', 'session_dt', 'round')\n",
    "retention.index = [str(x)[0:10] for x in retention.index]\n",
    "retention.columns = [str(x)[0:10] for x in retention.columns]\n",
    "\n",
    "plt.figure(figsize = (15, 10))\n",
    "sns.heatmap(retention,\n",
    "            annot = True,\n",
    "            fmt = '')\n",
    "plt.title('Retention Rate')\n",
    "plt.show()"
   ]
  },
  {
   "cell_type": "markdown",
   "metadata": {
    "id": "EgOfIsI4DWLC"
   },
   "source": [
    "**Вывод**\n",
    "\n",
    "Видим что коэффициент удержания первого дня среди пользователей для когорт в июле, августе и сентябре больше 50%. При этом когорта опубликовавших пост в ноябре имеет самый низкий коэффициент удержания за первый день."
   ]
  },
  {
   "cell_type": "markdown",
   "metadata": {
    "id": "1k7oPWt5DWLK"
   },
   "source": [
    "# Задание 9\n"
   ]
  },
  {
   "cell_type": "markdown",
   "metadata": {
    "id": "ALsYVSyRDWLM"
   },
   "source": [
    "На сколько процентов менялось количество постов ежемесячно с 1 сентября по 31 декабря 2008 года? Отобразите таблицу со следующими полями:\n",
    "\n",
    "- номер месяца;\n",
    "- количество постов за месяц;\n",
    "- процент, который показывает, насколько изменилось количество постов в текущем месяце по сравнению с предыдущим.\n",
    "\n",
    "Если постов стало меньше, значение процента должно быть отрицательным, если больше — положительным. Округлите значение процента до двух знаков после запятой.\n",
    "\n",
    "Напомним, что при делении одного целого числа на другое в PostgreSQL в результате получится целое число, округлённое до ближайшего целого вниз. Чтобы этого избежать, переведите делимое в тип `numeric`."
   ]
  },
  {
   "cell_type": "markdown",
   "metadata": {
    "id": "u4E2zF8DDWLM"
   },
   "source": [
    "| creation_month | posts_count | percentage |\n",
    "| -------------- | ----------- | ---------- |\n",
    "| 9 | 70731 | Nan |\n",
    "| 10 | 63102 | -10.33 |\n",
    "| ... | ... | ... |"
   ]
  },
  {
   "cell_type": "code",
   "execution_count": 15,
   "metadata": {
    "id": "Mb5pShStDWLN"
   },
   "outputs": [
    {
     "data": {
      "text/html": [
       "<div>\n",
       "<style scoped>\n",
       "    .dataframe tbody tr th:only-of-type {\n",
       "        vertical-align: middle;\n",
       "    }\n",
       "\n",
       "    .dataframe tbody tr th {\n",
       "        vertical-align: top;\n",
       "    }\n",
       "\n",
       "    .dataframe thead th {\n",
       "        text-align: right;\n",
       "    }\n",
       "</style>\n",
       "<table border=\"1\" class=\"dataframe\">\n",
       "  <thead>\n",
       "    <tr style=\"text-align: right;\">\n",
       "      <th></th>\n",
       "      <th>creation_month</th>\n",
       "      <th>post_count</th>\n",
       "      <th>percentage</th>\n",
       "    </tr>\n",
       "  </thead>\n",
       "  <tbody>\n",
       "    <tr>\n",
       "      <th>0</th>\n",
       "      <td>9.0</td>\n",
       "      <td>70371</td>\n",
       "      <td>NaN</td>\n",
       "    </tr>\n",
       "    <tr>\n",
       "      <th>1</th>\n",
       "      <td>10.0</td>\n",
       "      <td>63102</td>\n",
       "      <td>-10.33</td>\n",
       "    </tr>\n",
       "    <tr>\n",
       "      <th>2</th>\n",
       "      <td>11.0</td>\n",
       "      <td>46975</td>\n",
       "      <td>-25.56</td>\n",
       "    </tr>\n",
       "    <tr>\n",
       "      <th>3</th>\n",
       "      <td>12.0</td>\n",
       "      <td>44592</td>\n",
       "      <td>-5.07</td>\n",
       "    </tr>\n",
       "  </tbody>\n",
       "</table>\n",
       "</div>"
      ],
      "text/plain": [
       "   creation_month  post_count  percentage\n",
       "0             9.0       70371         NaN\n",
       "1            10.0       63102      -10.33\n",
       "2            11.0       46975      -25.56\n",
       "3            12.0       44592       -5.07"
      ]
     },
     "execution_count": 15,
     "metadata": {},
     "output_type": "execute_result"
    }
   ],
   "source": [
    "# напишите запрос\n",
    "query = '''\n",
    "WITH t1 AS \n",
    "    (SELECT DISTINCT EXTRACT(MONTH FROM p.creation_date::date) AS creation_month,\n",
    "            COUNT(*) OVER (PARTITION BY EXTRACT(MONTH FROM p.creation_date::date)) AS post_count\n",
    "    FROM stackoverflow.posts p\n",
    "    WHERE p.creation_date::date BETWEEN '2008-09-01' AND '2008-12-31'\n",
    "    )\n",
    "SELECT *,\n",
    "       ROUND((CAST(post_count AS numeric) / LAG(post_count) OVER (ORDER BY creation_month) - 1) * 100, 2) AS percentage\n",
    "FROM t1\n",
    "ORDER BY creation_month\n",
    ";\n",
    "'''\n",
    "\n",
    "# выполните запрос\n",
    "percentage = pd.read_sql_query(query, con = engine)\n",
    "percentage"
   ]
  },
  {
   "cell_type": "markdown",
   "metadata": {
    "id": "9NQE2y_MDWLP"
   },
   "source": [
    "Постройте круговую диаграмму с количеством постов по месяцам."
   ]
  },
  {
   "cell_type": "code",
   "execution_count": 16,
   "metadata": {
    "id": "377ABjiVDWLP"
   },
   "outputs": [
    {
     "data": {
      "image/png": "[encoded data removed]",
      "text/plain": [
       "<Figure size 432x288 with 1 Axes>"
      ]
     },
     "metadata": {},
     "output_type": "display_data"
    }
   ],
   "source": [
    "fig, ax = plt.subplots()\n",
    "ax.pie(percentage['post_count'], \n",
    "       labels = percentage['creation_month'], \n",
    "       autopct = '%1.1f%%')\n",
    "ax.axis(\"equal\");"
   ]
  },
  {
   "cell_type": "markdown",
   "metadata": {},
   "source": [
    "<div class=\"alert alert-success\">\n",
    "<b>Комментарий ревьюера ✔️:</b> Да, тут все снова абсолютно точно"
   ]
  },
  {
   "cell_type": "markdown",
   "metadata": {
    "id": "uw7qMtafDWLP"
   },
   "source": [
    "# Задание 10"
   ]
  },
  {
   "cell_type": "markdown",
   "metadata": {
    "id": "oRBpWKx3DWLQ"
   },
   "source": [
    "Выгрузите данные активности пользователя, который опубликовал больше всего постов за всё время. Выведите данные за октябрь 2008 года в таком виде:\n",
    "\n",
    "- номер недели;\n",
    "- дата и время последнего поста, опубликованного на этой неделе."
   ]
  },
  {
   "cell_type": "markdown",
   "metadata": {
    "id": "XjAWSn_3DWLQ"
   },
   "source": [
    "| week_creation | creation_date |\n",
    "| ------------- | ------------- |\n",
    "| 40 | 2008-10-05 09:00:58 |\n",
    "| 41 | 2008-10-12 21:22:23 |\n",
    "| ... | ... |"
   ]
  },
  {
   "cell_type": "code",
   "execution_count": 17,
   "metadata": {
    "id": "r5F5fSkwDWLQ"
   },
   "outputs": [
    {
     "data": {
      "text/html": [
       "<div>\n",
       "<style scoped>\n",
       "    .dataframe tbody tr th:only-of-type {\n",
       "        vertical-align: middle;\n",
       "    }\n",
       "\n",
       "    .dataframe tbody tr th {\n",
       "        vertical-align: top;\n",
       "    }\n",
       "\n",
       "    .dataframe thead th {\n",
       "        text-align: right;\n",
       "    }\n",
       "</style>\n",
       "<table border=\"1\" class=\"dataframe\">\n",
       "  <thead>\n",
       "    <tr style=\"text-align: right;\">\n",
       "      <th></th>\n",
       "      <th>date_part</th>\n",
       "      <th>max</th>\n",
       "    </tr>\n",
       "  </thead>\n",
       "  <tbody>\n",
       "    <tr>\n",
       "      <th>0</th>\n",
       "      <td>40.0</td>\n",
       "      <td>2008-10-05 09:00:58</td>\n",
       "    </tr>\n",
       "    <tr>\n",
       "      <th>1</th>\n",
       "      <td>41.0</td>\n",
       "      <td>2008-10-12 21:22:23</td>\n",
       "    </tr>\n",
       "    <tr>\n",
       "      <th>2</th>\n",
       "      <td>42.0</td>\n",
       "      <td>2008-10-19 06:49:30</td>\n",
       "    </tr>\n",
       "    <tr>\n",
       "      <th>3</th>\n",
       "      <td>43.0</td>\n",
       "      <td>2008-10-26 21:44:36</td>\n",
       "    </tr>\n",
       "    <tr>\n",
       "      <th>4</th>\n",
       "      <td>44.0</td>\n",
       "      <td>2008-10-31 22:16:01</td>\n",
       "    </tr>\n",
       "  </tbody>\n",
       "</table>\n",
       "</div>"
      ],
      "text/plain": [
       "   date_part                 max\n",
       "0       40.0 2008-10-05 09:00:58\n",
       "1       41.0 2008-10-12 21:22:23\n",
       "2       42.0 2008-10-19 06:49:30\n",
       "3       43.0 2008-10-26 21:44:36\n",
       "4       44.0 2008-10-31 22:16:01"
      ]
     },
     "execution_count": 17,
     "metadata": {},
     "output_type": "execute_result"
    }
   ],
   "source": [
    "# напишите запрос\n",
    "query = '''\n",
    "WITH t1 AS \n",
    "    (SELECT DISTINCT p.user_id,\n",
    "            COUNT(p.id)\n",
    "    FROM stackoverflow.posts p\n",
    "    GROUP BY 1\n",
    "    ),\n",
    "        t2 AS \n",
    "            (SELECT user_id\n",
    "            FROM t1\n",
    "            WHERE count IN (SELECT MAX(count) FROM t1)\n",
    "            )\n",
    "SELECT DISTINCT EXTRACT(WEEK FROM creation_date::date),\n",
    "       MAX(creation_date) OVER (PARTITION BY EXTRACT(WEEK FROM creation_date::date))\n",
    "FROM stackoverflow.posts p\n",
    "JOIN t2 ON p.user_id = t2.user_id\n",
    "WHERE creation_date::date BETWEEN '2008-10-01' AND '2008-10-31'\n",
    ";\n",
    "'''\n",
    "\n",
    "# выполните запрос\n",
    "result_10 = pd.read_sql_query(query, con = engine)\n",
    "result_10"
   ]
  },
  {
   "cell_type": "markdown",
   "metadata": {},
   "source": [
    "# Общий вывод"
   ]
  },
  {
   "cell_type": "markdown",
   "metadata": {},
   "source": [
    "Для начала стоит сказать, что перед тем как делать выводы на основе имеющихся данных следует учесть тот факт, что данные являются не вполне обработанными. Следовательно, в датафрейме имеется ряд особенностей, которые могут исказить результаты исследований. Например наличие постов опубликованных пользователем раньше, чем он(пользователь) зарегистрировался на ресурсе.\n",
    "\n",
    "Что же мы всётаки можем увидеть в нашей выгрузке:\n",
    "- видим намёк на сезонность (рост активности пользователей в конце лета - начале осени);\n",
    "- по первой неделе декабря 2008 года можно сделать вывод, что в среднем пользователь взаимодействует с платформой 2 раза в неделю. Такой способ проверки активности пользователей платформы за опреджелённый период в дальнейшем может быть крайне полезен;\n",
    "- тут мы доходим до аналога Retention Rate по месяцам для пользователей. Благодаря этой метрике видим, что коэффициент удержания первого дня среди пользователей для когорт в июле, августе и сентябре находится на отметке выше 50%. Чего не скажешь о когорте пользователей с публикациями в ноябре;\n",
    "- мы снова видим, что сентябрь является абсолютным рекордсменом среди осеннего пика активности, однако количество публикаций неукоснительно падает в последующие месяцы;\n",
    "- напоследок мы нашли пользователя, который опубликовал больше всего постов и отобразите данные только о последних постах пользователя.\n",
    "\n",
    "**В целом мы имеем разные выгрузки данных из имеющегося датафрейма, которые можно использовать для дальнейших исследований под конкретные задачи!**"
   ]
  }
 ],
 "metadata": {
  "ExecuteTimeLog": [
   {
    "duration": 905,
    "start_time": "2022-06-05T17:00:44.999Z"
   },
   {
    "duration": 3,
    "start_time": "2022-06-05T17:00:45.906Z"
   },
   {
    "duration": 85,
    "start_time": "2022-06-05T17:00:45.911Z"
   },
   {
    "duration": 199,
    "start_time": "2022-06-05T17:00:45.998Z"
   },
   {
    "duration": 13,
    "start_time": "2022-06-05T17:00:46.198Z"
   },
   {
    "duration": 18,
    "start_time": "2022-06-05T17:00:46.213Z"
   },
   {
    "duration": 34,
    "start_time": "2022-06-05T17:00:46.233Z"
   },
   {
    "duration": 26,
    "start_time": "2022-06-05T17:00:46.269Z"
   },
   {
    "duration": 28,
    "start_time": "2022-06-05T17:00:46.297Z"
   },
   {
    "duration": 20,
    "start_time": "2022-06-05T17:00:46.328Z"
   },
   {
    "duration": 34,
    "start_time": "2022-06-05T17:00:46.352Z"
   },
   {
    "duration": 20,
    "start_time": "2022-06-05T17:00:46.388Z"
   },
   {
    "duration": 23,
    "start_time": "2022-06-05T17:00:46.410Z"
   },
   {
    "duration": 10,
    "start_time": "2022-06-05T17:00:46.434Z"
   },
   {
    "duration": 13,
    "start_time": "2022-06-05T17:00:46.445Z"
   },
   {
    "duration": 15,
    "start_time": "2022-06-05T17:00:46.460Z"
   },
   {
    "duration": 9,
    "start_time": "2022-06-05T17:00:46.477Z"
   },
   {
    "duration": 6,
    "start_time": "2022-06-05T17:00:46.488Z"
   },
   {
    "duration": 9,
    "start_time": "2022-06-05T17:00:46.496Z"
   },
   {
    "duration": 8,
    "start_time": "2022-06-05T17:00:46.507Z"
   },
   {
    "duration": 5,
    "start_time": "2022-06-05T17:00:46.516Z"
   },
   {
    "duration": 8,
    "start_time": "2022-06-05T17:00:46.523Z"
   },
   {
    "duration": 109,
    "start_time": "2022-06-05T17:02:14.672Z"
   },
   {
    "duration": 107,
    "start_time": "2022-06-05T17:02:47.687Z"
   },
   {
    "duration": 105,
    "start_time": "2022-06-05T17:03:32.287Z"
   },
   {
    "duration": 105,
    "start_time": "2022-06-05T17:05:10.552Z"
   },
   {
    "duration": 356,
    "start_time": "2022-06-05T17:14:10.308Z"
   },
   {
    "duration": 212,
    "start_time": "2022-06-05T17:20:43.757Z"
   },
   {
    "duration": 1046,
    "start_time": "2022-06-05T17:27:26.240Z"
   },
   {
    "duration": 84,
    "start_time": "2022-06-05T18:00:19.064Z"
   },
   {
    "duration": 63,
    "start_time": "2022-06-05T18:04:15.743Z"
   },
   {
    "duration": 157,
    "start_time": "2022-06-05T18:08:22.979Z"
   },
   {
    "duration": 83,
    "start_time": "2022-06-05T18:09:13.692Z"
   },
   {
    "duration": 1164,
    "start_time": "2022-06-05T18:09:31.750Z"
   },
   {
    "duration": 1278,
    "start_time": "2022-06-05T18:09:42.753Z"
   },
   {
    "duration": 73,
    "start_time": "2022-06-05T18:13:00.253Z"
   },
   {
    "duration": 75,
    "start_time": "2022-06-05T18:13:11.892Z"
   },
   {
    "duration": 70,
    "start_time": "2022-06-05T18:13:32.364Z"
   },
   {
    "duration": 370,
    "start_time": "2022-06-05T18:14:38.085Z"
   },
   {
    "duration": 403,
    "start_time": "2022-06-05T18:15:14.812Z"
   },
   {
    "duration": 385,
    "start_time": "2022-06-05T18:15:50.342Z"
   },
   {
    "duration": 18,
    "start_time": "2022-06-05T18:16:16.878Z"
   },
   {
    "duration": 486,
    "start_time": "2022-06-05T18:16:34.177Z"
   },
   {
    "duration": 1156,
    "start_time": "2022-06-05T18:16:39.678Z"
   },
   {
    "duration": 3,
    "start_time": "2022-06-05T18:16:40.836Z"
   },
   {
    "duration": 47,
    "start_time": "2022-06-05T18:16:40.840Z"
   },
   {
    "duration": 182,
    "start_time": "2022-06-05T18:16:40.889Z"
   },
   {
    "duration": 13,
    "start_time": "2022-06-05T18:16:41.073Z"
   },
   {
    "duration": 107,
    "start_time": "2022-06-05T18:16:41.087Z"
   },
   {
    "duration": 333,
    "start_time": "2022-06-05T18:16:41.195Z"
   },
   {
    "duration": 206,
    "start_time": "2022-06-05T18:16:41.530Z"
   },
   {
    "duration": 1211,
    "start_time": "2022-06-05T18:16:41.738Z"
   },
   {
    "duration": 78,
    "start_time": "2022-06-05T18:16:42.951Z"
   },
   {
    "duration": 63,
    "start_time": "2022-06-05T18:16:43.030Z"
   },
   {
    "duration": 1060,
    "start_time": "2022-06-05T18:16:43.095Z"
   },
   {
    "duration": 373,
    "start_time": "2022-06-05T18:16:44.157Z"
   },
   {
    "duration": 387,
    "start_time": "2022-06-05T18:16:44.533Z"
   },
   {
    "duration": 3,
    "start_time": "2022-06-05T18:16:44.926Z"
   },
   {
    "duration": 9,
    "start_time": "2022-06-05T18:16:44.930Z"
   },
   {
    "duration": 6,
    "start_time": "2022-06-05T18:16:44.941Z"
   },
   {
    "duration": 5,
    "start_time": "2022-06-05T18:16:44.948Z"
   },
   {
    "duration": 336,
    "start_time": "2022-06-05T18:17:44.845Z"
   },
   {
    "duration": 363,
    "start_time": "2022-06-05T18:17:57.277Z"
   },
   {
    "duration": 451,
    "start_time": "2022-06-05T18:18:19.893Z"
   },
   {
    "duration": 367,
    "start_time": "2022-06-05T18:18:24.977Z"
   },
   {
    "duration": 394,
    "start_time": "2022-06-05T18:18:43.855Z"
   },
   {
    "duration": 216,
    "start_time": "2022-06-05T18:24:15.704Z"
   },
   {
    "duration": 199,
    "start_time": "2022-06-05T18:24:42.946Z"
   },
   {
    "duration": 664,
    "start_time": "2022-06-05T18:24:59.969Z"
   },
   {
    "duration": 97,
    "start_time": "2022-06-05T18:25:08.770Z"
   },
   {
    "duration": 92,
    "start_time": "2022-06-05T18:25:24.025Z"
   },
   {
    "duration": 89,
    "start_time": "2022-06-05T18:25:47.354Z"
   },
   {
    "duration": 94,
    "start_time": "2022-06-05T18:26:04.962Z"
   },
   {
    "duration": 76,
    "start_time": "2022-06-05T18:26:17.971Z"
   },
   {
    "duration": 71,
    "start_time": "2022-06-05T18:26:29.475Z"
   },
   {
    "duration": 69,
    "start_time": "2022-06-05T18:26:38.890Z"
   },
   {
    "duration": 65,
    "start_time": "2022-06-05T18:26:49.036Z"
   },
   {
    "duration": 73,
    "start_time": "2022-06-05T18:26:52.970Z"
   },
   {
    "duration": 181,
    "start_time": "2022-06-05T18:27:13.779Z"
   },
   {
    "duration": 76,
    "start_time": "2022-06-05T18:27:16.834Z"
   },
   {
    "duration": 3,
    "start_time": "2022-06-05T18:29:12.941Z"
   },
   {
    "duration": 133,
    "start_time": "2022-06-05T18:30:00.047Z"
   },
   {
    "duration": 1188,
    "start_time": "2022-06-05T18:30:30.744Z"
   },
   {
    "duration": 4,
    "start_time": "2022-06-05T18:30:31.934Z"
   },
   {
    "duration": 51,
    "start_time": "2022-06-05T18:30:31.939Z"
   },
   {
    "duration": 188,
    "start_time": "2022-06-05T18:30:31.992Z"
   },
   {
    "duration": 14,
    "start_time": "2022-06-05T18:30:32.182Z"
   },
   {
    "duration": 110,
    "start_time": "2022-06-05T18:30:32.197Z"
   },
   {
    "duration": 311,
    "start_time": "2022-06-05T18:30:32.309Z"
   },
   {
    "duration": 201,
    "start_time": "2022-06-05T18:30:32.621Z"
   },
   {
    "duration": 1209,
    "start_time": "2022-06-05T18:30:32.823Z"
   },
   {
    "duration": 79,
    "start_time": "2022-06-05T18:30:34.033Z"
   },
   {
    "duration": 59,
    "start_time": "2022-06-05T18:30:34.114Z"
   },
   {
    "duration": 1073,
    "start_time": "2022-06-05T18:30:34.175Z"
   },
   {
    "duration": 369,
    "start_time": "2022-06-05T18:30:35.250Z"
   },
   {
    "duration": 383,
    "start_time": "2022-06-05T18:30:35.622Z"
   },
   {
    "duration": 209,
    "start_time": "2022-06-05T18:30:36.007Z"
   },
   {
    "duration": 98,
    "start_time": "2022-06-05T18:30:36.217Z"
   },
   {
    "duration": 137,
    "start_time": "2022-06-05T18:30:36.317Z"
   },
   {
    "duration": 324,
    "start_time": "2022-06-05T18:31:42.229Z"
   },
   {
    "duration": 1322,
    "start_time": "2022-06-05T18:32:02.831Z"
   },
   {
    "duration": 4,
    "start_time": "2022-06-05T18:32:04.154Z"
   },
   {
    "duration": 56,
    "start_time": "2022-06-05T18:32:04.160Z"
   },
   {
    "duration": 183,
    "start_time": "2022-06-05T18:32:04.219Z"
   },
   {
    "duration": 13,
    "start_time": "2022-06-05T18:32:04.404Z"
   },
   {
    "duration": 108,
    "start_time": "2022-06-05T18:32:04.419Z"
   },
   {
    "duration": 315,
    "start_time": "2022-06-05T18:32:04.528Z"
   },
   {
    "duration": 204,
    "start_time": "2022-06-05T18:32:04.844Z"
   },
   {
    "duration": 1226,
    "start_time": "2022-06-05T18:32:05.050Z"
   },
   {
    "duration": 81,
    "start_time": "2022-06-05T18:32:06.278Z"
   },
   {
    "duration": 61,
    "start_time": "2022-06-05T18:32:06.361Z"
   },
   {
    "duration": 1072,
    "start_time": "2022-06-05T18:32:06.424Z"
   },
   {
    "duration": 422,
    "start_time": "2022-06-05T18:32:07.498Z"
   },
   {
    "duration": 376,
    "start_time": "2022-06-05T18:32:07.922Z"
   },
   {
    "duration": 200,
    "start_time": "2022-06-05T18:32:08.299Z"
   },
   {
    "duration": 79,
    "start_time": "2022-06-05T18:32:08.501Z"
   },
   {
    "duration": 132,
    "start_time": "2022-06-05T18:32:08.582Z"
   },
   {
    "duration": 60,
    "start_time": "2022-06-06T06:29:58.788Z"
   },
   {
    "duration": 1571,
    "start_time": "2022-06-06T06:30:09.049Z"
   },
   {
    "duration": 5,
    "start_time": "2022-06-06T06:30:10.623Z"
   },
   {
    "duration": 47,
    "start_time": "2022-06-06T06:30:10.630Z"
   },
   {
    "duration": 205,
    "start_time": "2022-06-06T06:30:10.679Z"
   },
   {
    "duration": 16,
    "start_time": "2022-06-06T06:30:10.887Z"
   },
   {
    "duration": 111,
    "start_time": "2022-06-06T06:30:10.905Z"
   },
   {
    "duration": 361,
    "start_time": "2022-06-06T06:30:11.018Z"
   },
   {
    "duration": 226,
    "start_time": "2022-06-06T06:30:11.381Z"
   },
   {
    "duration": 62,
    "start_time": "2022-06-06T06:30:11.609Z"
   },
   {
    "duration": 93,
    "start_time": "2022-06-06T06:30:11.674Z"
   },
   {
    "duration": 62,
    "start_time": "2022-06-06T06:30:11.769Z"
   },
   {
    "duration": 1354,
    "start_time": "2022-06-06T06:30:11.833Z"
   },
   {
    "duration": 380,
    "start_time": "2022-06-06T06:30:13.189Z"
   },
   {
    "duration": 480,
    "start_time": "2022-06-06T06:30:13.570Z"
   },
   {
    "duration": 222,
    "start_time": "2022-06-06T06:30:14.053Z"
   },
   {
    "duration": 97,
    "start_time": "2022-06-06T06:30:14.277Z"
   },
   {
    "duration": 138,
    "start_time": "2022-06-06T06:30:14.376Z"
   },
   {
    "duration": 60,
    "start_time": "2022-06-06T06:30:41.247Z"
   },
   {
    "duration": 1193,
    "start_time": "2022-06-06T06:31:13.486Z"
   },
   {
    "duration": 172,
    "start_time": "2022-06-06T06:33:25.915Z"
   },
   {
    "duration": 63,
    "start_time": "2022-06-06T06:33:39.762Z"
   },
   {
    "duration": 1394,
    "start_time": "2022-06-06T06:41:00.372Z"
   }
  ],
  "colab": {
   "name": "AdvansedSQLProjectTemplate.ipynb",
   "provenance": []
  },
  "kernelspec": {
   "display_name": "Python 3 (ipykernel)",
   "language": "python",
   "name": "python3"
  },
  "language_info": {
   "codemirror_mode": {
    "name": "ipython",
    "version": 3
   },
   "file_extension": ".py",
   "mimetype": "text/x-python",
   "name": "python",
   "nbconvert_exporter": "python",
   "pygments_lexer": "ipython3",
   "version": "3.9.7"
  },
  "toc": {
   "base_numbering": 1,
   "nav_menu": {},
   "number_sections": true,
   "sideBar": true,
   "skip_h1_title": true,
   "title_cell": "Table of Contents",
   "title_sidebar": "Contents",
   "toc_cell": false,
   "toc_position": {},
   "toc_section_display": true,
   "toc_window_display": false
  }
 },
 "nbformat": 4,
 "nbformat_minor": 1
}
