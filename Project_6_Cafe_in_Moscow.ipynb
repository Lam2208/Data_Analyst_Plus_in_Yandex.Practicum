{
 "cells": [
  {
   "cell_type": "markdown",
   "metadata": {},
   "source": [
    "# Исследование рынка заведений общественного питания в Москве"
   ]
  },
  {
   "cell_type": "markdown",
   "metadata": {},
   "source": [
    "**Описание проекта**\n",
    "\n",
    "Вы решили открыть небольшое кафе в Москве. Оно оригинальное — гостей должны обслуживать роботы. Проект многообещающий, но дорогой. Вместе с партнёрами вы решились обратиться к инвесторам. Их интересует текущее положение дел на рынке — сможете ли вы снискать популярность на долгое время, когда все зеваки насмотрятся на роботов-официантов?\n",
    "\n",
    "Вы — гуру аналитики, и партнёры просят вас подготовить исследование рынка. У вас есть открытые данные о заведениях общественного питания в Москве."
   ]
  },
  {
   "cell_type": "markdown",
   "metadata": {},
   "source": [
    "## Изучение имеющихся данных"
   ]
  },
  {
   "cell_type": "markdown",
   "metadata": {},
   "source": [
    "Для начала импортируем необходимые нам библиотеки и посмотрим на наш датафрйм"
   ]
  },
  {
   "cell_type": "code",
   "execution_count": null,
   "metadata": {},
   "outputs": [],
   "source": [
    "import pandas as pd\n",
    "import seaborn as sns\n",
    "import matplotlib.pyplot as plt\n",
    "import requests\n",
    "import numpy as np\n",
    "from io import BytesIO\n",
    "import plotly\n",
    "import plotly.graph_objs as go"
   ]
  },
  {
   "cell_type": "code",
   "execution_count": null,
   "metadata": {},
   "outputs": [],
   "source": [
    "df = pd.read_csv('/datasets/rest_data.csv')"
   ]
  },
  {
   "cell_type": "code",
   "execution_count": null,
   "metadata": {},
   "outputs": [],
   "source": [
    "df.info()"
   ]
  },
  {
   "cell_type": "code",
   "execution_count": null,
   "metadata": {},
   "outputs": [],
   "source": [
    "df.head(10)"
   ]
  },
  {
   "cell_type": "markdown",
   "metadata": {},
   "source": [
    "**Итого**\n",
    "\n",
    "Всего в нашей таблице 15366 строк и шесть столбцов. Типы данных, встречаемых в столбцах: int и object.\n",
    "\n",
    "Описание данных согласно документации:\n",
    "\n",
    "*id* — идентификатор объекта;\n",
    "*object_name* — название объекта общественного питания;\n",
    "*chain* — сетевой ресторан;\n",
    "*object_type* — тип объекта общественного питания;\n",
    "*address* — адрес;\n",
    "*number* — количество посадочных мест.\n",
    "\n",
    "В названиях колонок нет нарушений стиля. Количество значений в столбцах сопадает с общим количеством строк в датафрейме. Это значит, в данных скорее всего отсутствуют пропущенные значения. Типы данных встречаемых в столбцах - адекватные. Для полноты картины необходимо ещё рассмотреть наличие дубликатов."
   ]
  },
  {
   "cell_type": "markdown",
   "metadata": {},
   "source": [
    "## Предобработка данных"
   ]
  },
  {
   "cell_type": "markdown",
   "metadata": {},
   "source": [
    "Убедимся что пропущенных значений действительно нет"
   ]
  },
  {
   "cell_type": "code",
   "execution_count": null,
   "metadata": {},
   "outputs": [],
   "source": [
    "df.isna().mean()"
   ]
  },
  {
   "cell_type": "markdown",
   "metadata": {},
   "source": [
    "### Поищем дубликаты"
   ]
  },
  {
   "cell_type": "markdown",
   "metadata": {},
   "source": [
    "Посчитаем количество явных дубликатов. Сначала приведём все значения с типом object к единому нижнему регистру"
   ]
  },
  {
   "cell_type": "code",
   "execution_count": null,
   "metadata": {},
   "outputs": [],
   "source": [
    "df['object_name'] = df['object_name'].str.lower()\n",
    "df['chain'] = df['chain'].str.lower()\n",
    "df['object_type'] = df['object_type'].str.lower()\n",
    "df['address'] = df['address'].str.lower()"
   ]
  },
  {
   "cell_type": "markdown",
   "metadata": {},
   "source": [
    "Посчитаем количество явных дубликатов"
   ]
  },
  {
   "cell_type": "code",
   "execution_count": null,
   "metadata": {},
   "outputs": [],
   "source": [
    "df.duplicated().sum()"
   ]
  },
  {
   "cell_type": "markdown",
   "metadata": {},
   "source": [
    "А что если убрать уникальный столбец id? Посмотрим на количество дубликатов в таком разрезе"
   ]
  },
  {
   "cell_type": "code",
   "execution_count": null,
   "metadata": {},
   "outputs": [],
   "source": [
    "print(\"Кол-во дубликатов: {}\".format(df.duplicated(subset=['object_name', 'chain', 'object_type', 'address', 'number']).sum()))"
   ]
  },
  {
   "cell_type": "markdown",
   "metadata": {},
   "source": [
    "Нашлись таки, дубликатики. Однако 85 дублей - количество не значительное. Поэтому мы просто избавимся от них, не рискуя исказить данные."
   ]
  },
  {
   "cell_type": "code",
   "execution_count": null,
   "metadata": {},
   "outputs": [],
   "source": [
    "df = df.drop_duplicates(subset = ['object_name', 'chain', 'object_type', 'address', 'number'])"
   ]
  },
  {
   "cell_type": "markdown",
   "metadata": {},
   "source": [
    "Проверим теперь"
   ]
  },
  {
   "cell_type": "code",
   "execution_count": null,
   "metadata": {},
   "outputs": [],
   "source": [
    "print(\"Кол-во дубликатов: {}\".format(df.duplicated(subset = ['object_name', 'chain', 'object_type', 'address', 'number']).sum()))"
   ]
  },
  {
   "cell_type": "markdown",
   "metadata": {},
   "source": [
    "**Итого**\n",
    "\n",
    "Мы убедились в отсутсвии пропущенных значений. А также нашли и избавились от незначительного числа дубликатов.\n",
    "\n",
    "Теперь наш датафрейм готов к использованию, чтобы мы смогли ответить на большинство интересующих нас вопросов, касаемо расположения заведений общественного питания в Москве. После чего можно будет рекомендовать заказчику выбрать наиболее подходящее место для открытия своего оригинального кафе."
   ]
  },
  {
   "cell_type": "markdown",
   "metadata": {},
   "source": [
    "## Отвечаем на вопросы:"
   ]
  },
  {
   "cell_type": "markdown",
   "metadata": {},
   "source": [
    "Зададим размеры для будущих графиков"
   ]
  },
  {
   "cell_type": "code",
   "execution_count": null,
   "metadata": {},
   "outputs": [],
   "source": [
    "sns.set(rc={'figure.figsize':(10,7)})"
   ]
  },
  {
   "cell_type": "markdown",
   "metadata": {},
   "source": [
    "И определим палитру для графиков"
   ]
  },
  {
   "cell_type": "code",
   "execution_count": null,
   "metadata": {},
   "outputs": [],
   "source": [
    "sns.set_palette('bright') "
   ]
  },
  {
   "cell_type": "markdown",
   "metadata": {},
   "source": [
    "### Исследуем соотношение видов объектов общественного питания по количеству"
   ]
  },
  {
   "cell_type": "markdown",
   "metadata": {},
   "source": [
    "Посмотрим, какие вообще у нас есть виды объектов общественного питания"
   ]
  },
  {
   "cell_type": "code",
   "execution_count": null,
   "metadata": {},
   "outputs": [],
   "source": [
    "df['object_type'].value_counts()"
   ]
  },
  {
   "cell_type": "markdown",
   "metadata": {},
   "source": [
    "Изменим значения в столбце на более читабельные"
   ]
  },
  {
   "cell_type": "code",
   "execution_count": null,
   "metadata": {},
   "outputs": [],
   "source": [
    "df = df.replace({'object_type': {'предприятие быстрого обслуживания': 'фастфуд',\n",
    "                                 'магазин (отдел кулинарии)': 'кулинария'}})"
   ]
  },
  {
   "cell_type": "code",
   "execution_count": null,
   "metadata": {},
   "outputs": [],
   "source": [
    "df['object_type'].value_counts()"
   ]
  },
  {
   "cell_type": "markdown",
   "metadata": {},
   "source": [
    "Теперь построим функцию которая будет рисовать подписи к графикам, принимать словарь с подписями и выводить их на экран"
   ]
  },
  {
   "cell_type": "code",
   "execution_count": null,
   "metadata": {},
   "outputs": [],
   "source": [
    "def get_labels_and_axes(dic):\n",
    "    plt.xlabel(dic['xlabel'])\n",
    "    plt.ylabel(dic['ylabel'])\n",
    "    plt.title(dic['title'])"
   ]
  },
  {
   "cell_type": "markdown",
   "metadata": {},
   "source": [
    "Теперь можем строить график соотношения видов объектов общественного питания по количеству"
   ]
  },
  {
   "cell_type": "code",
   "execution_count": null,
   "metadata": {},
   "outputs": [],
   "source": [
    "sns.countplot(y = 'object_type', data = df)\n",
    "titles = {'xlabel':'Количество заведений', 'ylabel':'Вид заведения',\n",
    "          'title': 'Соотношение видов объектов общественного питания по количеству'\n",
    "         }\n",
    "get_labels_and_axes(titles)\n",
    "plt.show()"
   ]
  },
  {
   "cell_type": "markdown",
   "metadata": {},
   "source": [
    "**Вывод**\n",
    "\n",
    "Самый распространенный формат заведений в Москве - кафе. Из этого следует, что это формат с самым высоким количеством конкурентов. В тоже время можно предположить, что если количество заведений большое, то у потребителя есть спрос на данный формат объектов общественного питания"
   ]
  },
  {
   "cell_type": "markdown",
   "metadata": {},
   "source": [
    "### Исследуем соотношение сетевых и несетевых заведений по количеству"
   ]
  },
  {
   "cell_type": "markdown",
   "metadata": {},
   "source": [
    "Изучим общее количество сетевых и несетевых заведений"
   ]
  },
  {
   "cell_type": "code",
   "execution_count": null,
   "metadata": {},
   "outputs": [],
   "source": [
    "df['chain'].value_counts()"
   ]
  },
  {
   "cell_type": "markdown",
   "metadata": {},
   "source": [
    "Поменяем значения на более понятные"
   ]
  },
  {
   "cell_type": "code",
   "execution_count": null,
   "metadata": {},
   "outputs": [],
   "source": [
    "df = df.replace({'chain' : { 'нет': 'одиночное', 'да': 'сетевое'}})"
   ]
  },
  {
   "cell_type": "code",
   "execution_count": null,
   "metadata": {},
   "outputs": [],
   "source": [
    "df['chain'].value_counts()"
   ]
  },
  {
   "cell_type": "markdown",
   "metadata": {},
   "source": [
    "Теперь построим график"
   ]
  },
  {
   "cell_type": "code",
   "execution_count": null,
   "metadata": {},
   "outputs": [],
   "source": [
    "sns.countplot(x = 'chain', data = df)\n",
    "titles = {'xlabel':'Статус заведения', 'ylabel':'Количество', 'title': 'Соотношение сетевых и несетевых заведений по количеству'}\n",
    "get_labels_and_axes(titles)\n",
    "plt.show()"
   ]
  },
  {
   "cell_type": "markdown",
   "metadata": {},
   "source": [
    "**Вывод**\n",
    "\n",
    "Несетевых заведений значительно больше. Думаю, это можно связать с тем, что далеко не каждое заведение общественного питания доходит до тех значений выручки, с которыми можно расширяться до сети. Да и не каждый ресторанный бизнес имеет амбиции по расширению путём открытия новых филиалов"
   ]
  },
  {
   "cell_type": "markdown",
   "metadata": {},
   "source": [
    "### Ответим на вопрос: Для какого вида объекта общественного питания характерно сетевое распространение"
   ]
  },
  {
   "cell_type": "markdown",
   "metadata": {},
   "source": [
    "Построим сводную таблицу, а также график к ней, чтобы увидеть процент сетевых заведений по каждому типу"
   ]
  },
  {
   "cell_type": "code",
   "execution_count": null,
   "metadata": {},
   "outputs": [],
   "source": [
    "chain_object_type = (df\n",
    " .pivot_table(index='object_type', columns = 'chain', values = 'id', aggfunc = 'count')\n",
    " .reset_index()\n",
    " .assign(part = lambda x: x['сетевое'] / (x['сетевое']+x['одиночное']))\n",
    " .sort_values(by = 'part', ascending=False)\n",
    ")"
   ]
  },
  {
   "cell_type": "code",
   "execution_count": null,
   "metadata": {},
   "outputs": [],
   "source": [
    "chain_object_type.style.format(formatter={'part':'{:.2%}'})"
   ]
  },
  {
   "cell_type": "code",
   "execution_count": null,
   "metadata": {},
   "outputs": [],
   "source": [
    "chain_objects_plot = sns.barplot(x = 'part', y = 'object_type', data=chain_object_type, palette = 'Paired')\n",
    "vals = chain_objects_plot.get_xticks()\n",
    "titles = {'xlabel':'Доля сетевых заведений', \n",
    "          'ylabel':'Вид объекта общественного питания', \n",
    "          'title': 'Доли сетевых заведений по разным видам объектов общественного питания'}\n",
    "get_labels_and_axes(titles)\n",
    "chain_objects_plot.set_xticklabels(['{:,.2%}'.format(x) for x in vals])\n",
    "plt.show()"
   ]
  },
  {
   "cell_type": "markdown",
   "metadata": {},
   "source": [
    "**Вывод**\n",
    "\n",
    "Видим, что большая доля сетевых заведений встречается в предприятиях в простонародье именуемых *фастфуды*. Что логично, ведь для для этих заведений характерна дешевизна и чётко отработанная система взаимодействия сотрудников. Ниличие этих качеств и не зациклненность на других моментах ресторанного бизнеса, позволяет открывать почти одинаковые точки питания сразу во многих местах. А скорость приготовления и дешевизна обеспечит большой приток клиентов, что в свою очередь породит ещё большее расширение и открытие новых точек. *Пока фастфуды не заполонят собой всю вселенную(Но это не точно)*"
   ]
  },
  {
   "cell_type": "markdown",
   "metadata": {},
   "source": [
    "### Какое распределение количества посадочных мест характерно для сетевых и несетевых заведений"
   ]
  },
  {
   "cell_type": "markdown",
   "metadata": {},
   "source": [
    "Для ответа на этот вопрос построим график распределение количества посадочных мест для сетевых и несетевых заведений в зависимости от вида заведения"
   ]
  },
  {
   "cell_type": "code",
   "execution_count": null,
   "metadata": {},
   "outputs": [],
   "source": [
    "sns.stripplot(x = 'number', y = 'object_type', data = df, hue = 'chain', dodge = True)\n",
    "titles = {'xlabel':'Количество посадочных мест', \n",
    "          'ylabel':'Вид заведения', \n",
    "          'title': 'Распределение количества посадочных мест для сетевых и несетевых заведений'}\n",
    "get_labels_and_axes(titles)\n",
    "plt.show()"
   ]
  },
  {
   "cell_type": "markdown",
   "metadata": {},
   "source": [
    "**Вывод**\n",
    "\n",
    "Для кафе распределение количества посадочных мест для сетевых и несетевых заведений практически совпадает.\n",
    "\n",
    "Исходя их этого можем сделать вывод, что при открытии кафе следует ориентироваться на среднее количество посадочных мест характерное для данного формата заведения общественного питания."
   ]
  },
  {
   "cell_type": "markdown",
   "metadata": {},
   "source": [
    "### Зависимость количества посадочных мест по видам объектов"
   ]
  },
  {
   "cell_type": "code",
   "execution_count": null,
   "metadata": {},
   "outputs": [],
   "source": [
    "sns.barplot(x = 'number', y = 'object_type', data = df.sort_values('object_type'))\n",
    "titles = {'xlabel':'Среднее количество посадочных мест', \n",
    "          'ylabel':'Вид объекта', \n",
    "          'title': 'Среднее количество посадочных мест по виду объекта'}\n",
    "get_labels_and_axes(titles)\n",
    "plt.show()"
   ]
  },
  {
   "cell_type": "markdown",
   "metadata": {},
   "source": [
    "**Вывод**\n",
    "\n",
    "Больше всего посадочных мест в столовых. Что не удивительно, ведь столовые рассчитаны на обслуживание большого количества человек в обеденный перерыв.\n",
    "\n",
    "Меньше всего мест в кулинариях, закусочных и кафетериях. Все эти заведения как правило имеют доволльно скромные площади и направлены на достаточно узкий круг клиентов(покупатели в магазинах, при которых находятся кулинарии; закусочные рядом с заправками; кафетерии в аэропорту). То есть, как правило, такие заведения не являются местами, куда люди целенаправленно идут покушать, а скорее заглядывают перекусить по дороге.\n",
    "\n",
    "Что примечательно, для предприятий фастфуда также характерно небольшое количество мест. Так происходит из за того, что формат быстрого питания предполагает постоянный трафик клиентов. К тому же в подобных заведениях пользуется спросом функция *\"еда на вынос\"*"
   ]
  },
  {
   "cell_type": "markdown",
   "metadata": {},
   "source": [
    "### Улицы"
   ]
  },
  {
   "cell_type": "markdown",
   "metadata": {},
   "source": [
    "#### Выделим отдельный столбец под название улиц"
   ]
  },
  {
   "cell_type": "markdown",
   "metadata": {},
   "source": [
    "Возьмём столбец *address* и выделим из него названия отдельных улиц в столбец *street*"
   ]
  },
  {
   "cell_type": "code",
   "execution_count": null,
   "metadata": {},
   "outputs": [],
   "source": [
    "df = df.assign(street = lambda x: x['address'].str.split(',')\n",
    "               .apply(lambda x: x[1] if 'город' not in x[1] and\n",
    "               'поселение' not in x[1] else (\n",
    "                   x[2] if 'корпус' not in x[2] else 'нет улицы')))"
   ]
  },
  {
   "cell_type": "markdown",
   "metadata": {},
   "source": [
    "Посмотрим что получилось"
   ]
  },
  {
   "cell_type": "code",
   "execution_count": null,
   "metadata": {},
   "outputs": [],
   "source": [
    "df.head(15)"
   ]
  },
  {
   "cell_type": "markdown",
   "metadata": {},
   "source": [
    "#### Рассмотрим топ-10 улиц с наибольшим количеством объектов"
   ]
  },
  {
   "cell_type": "markdown",
   "metadata": {},
   "source": [
    "Создадим отдельный датафрейм, где посчитаем количество заведений на каждой из улиц"
   ]
  },
  {
   "cell_type": "code",
   "execution_count": null,
   "metadata": {},
   "outputs": [],
   "source": [
    "df_top_streets = (\n",
    "    df.loc[df['street'] != 'нет улицы'].groupby(['street'])\n",
    "    .agg(amount = ('id','count'))\n",
    "    .sort_values(by = 'amount', ascending=False)\n",
    "    .reset_index()\n",
    "    .loc[:10]\n",
    ")"
   ]
  },
  {
   "cell_type": "markdown",
   "metadata": {},
   "source": [
    "При этом отсортировав по убыванию и оставив только топ-10. Значения \"нет улицы\" исключим, чтобы не мешало расчётам."
   ]
  },
  {
   "cell_type": "code",
   "execution_count": null,
   "metadata": {},
   "outputs": [],
   "source": [
    "df_top_streets"
   ]
  },
  {
   "cell_type": "code",
   "execution_count": null,
   "metadata": {},
   "outputs": [],
   "source": [
    "sns.barplot(y = 'street', x = 'amount', data = df_top_streets)\n",
    "titles = {'xlabel':'Количество заведений', \n",
    "          'ylabel':'Улица', \n",
    "          'title': 'Топ 10 улиц по количеству заведений'}\n",
    "get_labels_and_axes(titles)\n",
    "plt.show()"
   ]
  },
  {
   "cell_type": "markdown",
   "metadata": {},
   "source": [
    "#### Посмотрим в каких районах Москвы расположены эти улицы"
   ]
  },
  {
   "cell_type": "markdown",
   "metadata": {},
   "source": [
    "Для начала создадим отдельный список с наиболее популярными улицами"
   ]
  },
  {
   "cell_type": "code",
   "execution_count": null,
   "metadata": {},
   "outputs": [],
   "source": [
    "df_streets_top_list = df_top_streets['street'].to_list()"
   ]
  },
  {
   "cell_type": "code",
   "execution_count": null,
   "metadata": {},
   "outputs": [],
   "source": [
    "df_streets_top_list"
   ]
  },
  {
   "cell_type": "markdown",
   "metadata": {},
   "source": [
    "Создадим и отфильтруем датафрейм согласно списка этих улиц"
   ]
  },
  {
   "cell_type": "code",
   "execution_count": null,
   "metadata": {},
   "outputs": [],
   "source": [
    "df_filtered = df[df['street'].isin(df_streets_top_list)]"
   ]
  },
  {
   "cell_type": "code",
   "execution_count": null,
   "metadata": {
    "scrolled": true
   },
   "outputs": [],
   "source": [
    "df_filtered"
   ]
  },
  {
   "cell_type": "markdown",
   "metadata": {},
   "source": [
    "Теперь создадим датафрейм с уникальными адресами"
   ]
  },
  {
   "cell_type": "code",
   "execution_count": null,
   "metadata": {},
   "outputs": [],
   "source": [
    "df_addresses = pd.DataFrame({'unique_address' : df_filtered['address'].unique()})"
   ]
  },
  {
   "cell_type": "code",
   "execution_count": null,
   "metadata": {
    "scrolled": true
   },
   "outputs": [],
   "source": [
    "df_addresses"
   ]
  },
  {
   "cell_type": "markdown",
   "metadata": {},
   "source": [
    "Создадим функцию, которая получит для нас координаты через API Яндекс.Карт и прочитаем датафрейм из файла"
   ]
  },
  {
   "cell_type": "code",
   "execution_count": null,
   "metadata": {},
   "outputs": [],
   "source": [
    "def get_coordinates(address):\n",
    "    base_url = \"https://geocode-maps.yandex.ru/1.x\"\n",
    "    response = requests.get(base_url, params={\n",
    "        \"geocode\": address,\n",
    "        \"apikey\": '42096618-c47f-45f8-bca4-2c6eb2cbd672',\n",
    "        \"format\": \"json\",\n",
    "    })\n",
    "    response.raise_for_status()\n",
    "    found_places = response.json()['response']['GeoObjectCollection']['featureMember']\n",
    "\n",
    "    if not found_places:\n",
    "        return None\n",
    "\n",
    "    most_relevant = found_places[0]\n",
    "    coordinates = most_relevant['GeoObject']['Point']['pos'].split(' ')\n",
    "    return coordinates"
   ]
  },
  {
   "cell_type": "code",
   "execution_count": null,
   "metadata": {},
   "outputs": [],
   "source": [
    "url = 'https://drive.google.com/file/d/1LworkYMR8ikIZW3Wbvlii0fzII0x1ntZ/view?usp=sharing'\n",
    "path = 'https://drive.google.com/uc?id='+url.split('/')[-2]\n",
    "df_addresses = pd.read_csv(path, sep=';')"
   ]
  },
  {
   "cell_type": "markdown",
   "metadata": {},
   "source": [
    "Теперь нам понадобится функция поиска района"
   ]
  },
  {
   "cell_type": "code",
   "execution_count": null,
   "metadata": {},
   "outputs": [],
   "source": [
    "def get_district(coordinates):   \n",
    "    base_url = \"https://geocode-maps.yandex.ru/1.x\"\n",
    "    response = requests.get(base_url, params={\n",
    "        \"geocode\": coordinates[0] + ',' + coordinates[1],\n",
    "        \"apikey\": '42096618-c47f-45f8-bca4-2c6eb2cbd672',\n",
    "        \"format\": \"xml\",\n",
    "        'kind': 'district'\n",
    "    })\n",
    "    soup = BeautifulSoup(response.text, 'xml')\n",
    "    result = soup.find_all('DependentLocalityName')\n",
    "    for item in result:\n",
    "        if 'район' in item.text:\n",
    "            return item.text"
   ]
  },
  {
   "cell_type": "markdown",
   "metadata": {},
   "source": [
    "Прочитаем датафрейм из файла и приведём столбец, по которому будем объединять, к единому названию. После этого можем спокойно объединять наши датафреймы"
   ]
  },
  {
   "cell_type": "code",
   "execution_count": null,
   "metadata": {},
   "outputs": [],
   "source": [
    "url = 'https://drive.google.com/file/d/1jEi1FxGGj75en3XE_vZ-FShxdRHInY0H/view?usp=sharing'\n",
    "path = 'https://drive.google.com/uc?id='+url.split('/')[-2]\n",
    "df_addresses_and_districts = pd.read_csv(path, sep=';')"
   ]
  },
  {
   "cell_type": "code",
   "execution_count": null,
   "metadata": {},
   "outputs": [],
   "source": [
    "df_addresses_and_districts.rename(columns={\"unique_address\": \"address\"},\n",
    "                                  inplace=True)"
   ]
  },
  {
   "cell_type": "code",
   "execution_count": null,
   "metadata": {},
   "outputs": [],
   "source": [
    "df_filtered = df_filtered.merge(df_addresses_and_districts, on='address')"
   ]
  },
  {
   "cell_type": "code",
   "execution_count": null,
   "metadata": {
    "scrolled": true
   },
   "outputs": [],
   "source": [
    "df_filtered"
   ]
  },
  {
   "cell_type": "markdown",
   "metadata": {},
   "source": [
    "Дальше группируем по улицам и районам"
   ]
  },
  {
   "cell_type": "code",
   "execution_count": null,
   "metadata": {
    "scrolled": true
   },
   "outputs": [],
   "source": [
    "df_objects_by_districts_and_streets = (\n",
    "    df_filtered.groupby(['street', 'district'])\n",
    "    .agg(objects = ('id','count'))\n",
    "    .reset_index()\n",
    ")"
   ]
  },
  {
   "cell_type": "code",
   "execution_count": null,
   "metadata": {
    "scrolled": true
   },
   "outputs": [],
   "source": [
    "df_objects_by_districts_and_streets"
   ]
  },
  {
   "cell_type": "code",
   "execution_count": null,
   "metadata": {
    "scrolled": true
   },
   "outputs": [],
   "source": [
    "df_objects_by_districts = (\n",
    "    df_filtered.groupby(['district'])\n",
    "    .agg(objects=('id', 'count'))\n",
    "    .sort_values(by='objects', ascending=False)\n",
    "    .reset_index()\n",
    ")"
   ]
  },
  {
   "cell_type": "code",
   "execution_count": null,
   "metadata": {
    "scrolled": true
   },
   "outputs": [],
   "source": [
    "df_objects_by_districts"
   ]
  },
  {
   "cell_type": "markdown",
   "metadata": {},
   "source": [
    "И строим график количества объектов по районам"
   ]
  },
  {
   "cell_type": "code",
   "execution_count": null,
   "metadata": {},
   "outputs": [],
   "source": [
    "sns.barplot(y='district', x='objects', data=df_objects_by_districts)\n",
    "titles = {'xlabel':'Количество заведений', \n",
    "          'ylabel':'Район', \n",
    "          'title': 'Количество объектов в районе'}\n",
    "get_labels_and_axes(titles)\n",
    "plt.show()"
   ]
  },
  {
   "cell_type": "markdown",
   "metadata": {},
   "source": [
    "**Вывод**\n",
    "\n",
    "Видим, что больше всего заведений у нас в Пресненском районе. Что не удивительно, ведь в нём расположены Москва-Сити и Экспоцентр(популярные места для туристов, к тому же большое количество офисных работников, которые ходят на обед). \n",
    "Следом с заметным отрывом идут Хороёвский район, Чертаново Центральное и Тропарёво-Никулино. В дальнейшем ситуация сглаживается и уже более плавно идёт на уменьшение по количеству объектов общественного питания"
   ]
  },
  {
   "cell_type": "markdown",
   "metadata": {},
   "source": [
    "#### Теперь зайдём с другой стороны и посмотрим сколько улиц с единственным объектом общественного питания и где они находятся"
   ]
  },
  {
   "cell_type": "markdown",
   "metadata": {},
   "source": [
    "По аналогии с предыдущим запросов, создадим датафрейм с уникальными адресами"
   ]
  },
  {
   "cell_type": "code",
   "execution_count": null,
   "metadata": {},
   "outputs": [],
   "source": [
    "df_streets_with_one_object = (\n",
    "    df.groupby(['street'])\n",
    "    .agg(amount=('id','count'))\n",
    "    .sort_values(by='amount', ascending=False)\n",
    "    .reset_index()\n",
    "    .loc[lambda x: x['amount'] == 1]\n",
    "    .sort_values(by='street')\n",
    ")"
   ]
  },
  {
   "cell_type": "code",
   "execution_count": null,
   "metadata": {},
   "outputs": [],
   "source": [
    "df_streets_with_one_object"
   ]
  },
  {
   "cell_type": "markdown",
   "metadata": {},
   "source": [
    "Наблюдаем целых 629 улиц. И все они с одним единственным объектом общественного питания"
   ]
  },
  {
   "cell_type": "markdown",
   "metadata": {},
   "source": [
    "Теперь создадим список с этими улицами и отфильтруем по ним наш общий датафрейм. Это необходимо для того, чтобы заняться поиском координат по полному адресу(т.к. одна улица может находиться в двух или более районах)."
   ]
  },
  {
   "cell_type": "code",
   "execution_count": null,
   "metadata": {},
   "outputs": [],
   "source": [
    "df_streets_with_one_object_list = (\n",
    "    df_streets_with_one_object['street'].to_list()\n",
    ")"
   ]
  },
  {
   "cell_type": "code",
   "execution_count": null,
   "metadata": {},
   "outputs": [],
   "source": [
    "df_streets_with_one_object_list"
   ]
  },
  {
   "cell_type": "code",
   "execution_count": null,
   "metadata": {},
   "outputs": [],
   "source": [
    "df_filtered_with_one_object = (\n",
    "    df[df['street'].isin(df_streets_with_one_object_list)]\n",
    ")"
   ]
  },
  {
   "cell_type": "code",
   "execution_count": null,
   "metadata": {},
   "outputs": [],
   "source": [
    "df_filtered_with_one_object"
   ]
  },
  {
   "cell_type": "code",
   "execution_count": null,
   "metadata": {},
   "outputs": [],
   "source": [
    "url = 'https://drive.google.com/file/d/1mTbtFblYKELOF7kLWp5mcNUxzAtLXCjI/view?usp=sharing'\n",
    "path = 'https://drive.google.com/uc?id='+url.split('/')[-2]\n",
    "df_filtered_with_one_object = pd.read_csv(path, sep=';')"
   ]
  },
  {
   "cell_type": "markdown",
   "metadata": {},
   "source": [
    "Разобём строку с адресом и присвоим району второй элемент"
   ]
  },
  {
   "cell_type": "code",
   "execution_count": null,
   "metadata": {},
   "outputs": [],
   "source": [
    "df_filtered_with_one_object_districts['district'] = (\n",
    "    df_filtered_with_one_object_districts['district']\n",
    "    .fillna(df_filtered_with_one_object_districts['address']\n",
    "    .str.split(',').apply(lambda x: x[1]))\n",
    ")"
   ]
  },
  {
   "cell_type": "markdown",
   "metadata": {},
   "source": [
    "Дальше сгруппируем и отдельно выведем топ-10"
   ]
  },
  {
   "cell_type": "code",
   "execution_count": null,
   "metadata": {},
   "outputs": [],
   "source": [
    "df_one_object_by_districts = (\n",
    "    df_filtered_with_one_object_districts.groupby(['district'])\n",
    "    .agg(objects=('id', 'count'))\n",
    "    .sort_values(by='objects', ascending=False)\n",
    "    .reset_index()\n",
    ")"
   ]
  },
  {
   "cell_type": "code",
   "execution_count": null,
   "metadata": {},
   "outputs": [],
   "source": [
    "df_one_object_by_districts_top = df_one_object_by_districts.loc[:10]"
   ]
  },
  {
   "cell_type": "code",
   "execution_count": null,
   "metadata": {},
   "outputs": [],
   "source": [
    "df_one_object_by_districts_top"
   ]
  },
  {
   "cell_type": "code",
   "execution_count": null,
   "metadata": {},
   "outputs": [],
   "source": [
    "sns.barplot(y='district', x='objects', data=df_one_object_by_districts_top)\n",
    "titles = {'xlabel':'Количество заведений', \n",
    "          'ylabel':'Район', \n",
    "          'title': 'Количество объектов в районе'}\n",
    "get_labels_and_axes(titles)\n",
    "plt.show()"
   ]
  },
  {
   "cell_type": "markdown",
   "metadata": {},
   "source": [
    "**Вывод**\n",
    "\n",
    "Улиц с одним едиснтвенным заведением общественного питания довольно много(больше 600). Снова видим в лидерах районы, которые расположены близко к центру Москвы: Таганский, Хамовники, Басманный, Тверской. В прочем, это не удитвительно. Ведь Москва старый город, а значит что в центре имеется огромное количество маленьких улочек и переулков, на которых и находятся эти едиственные \"на всю улицу\" заведения общественного питания."
   ]
  },
  {
   "cell_type": "markdown",
   "metadata": {},
   "source": [
    "#### Теперь посмотрим на распределение количества посадочных мест для улиц с большим количеством объектов общественного питания"
   ]
  },
  {
   "cell_type": "markdown",
   "metadata": {},
   "source": [
    "Для этого создадим функцию, которая принимает на вход адрес, разделяет на несколько подстрок и проверяет каждую подстроку на наличе в ней информации об улице"
   ]
  },
  {
   "cell_type": "code",
   "execution_count": null,
   "metadata": {},
   "outputs": [],
   "source": [
    "def get_street(address):\n",
    "    street_list = ['улица', 'проспект', 'набережная', \n",
    "               'проезд', 'бульвар', 'шоссе', \n",
    "               'переулок', 'площадь', 'аллея', \n",
    "               'квартал', 'линия', 'тупик']\n",
    "    for item in address.split(','):\n",
    "        for string in street_list:\n",
    "            if string in item:\n",
    "                return item.strip()\n",
    "    return 'Not found'          "
   ]
  },
  {
   "cell_type": "markdown",
   "metadata": {},
   "source": [
    "Создадим список для удобства построения графика"
   ]
  },
  {
   "cell_type": "code",
   "execution_count": null,
   "metadata": {},
   "outputs": [],
   "source": [
    "street_list = df_top_streets['street'].to_list()"
   ]
  },
  {
   "cell_type": "markdown",
   "metadata": {},
   "source": [
    "И посмотрим как выглядит распределение количества посадочных мест для улиц с большим количеством заведений"
   ]
  },
  {
   "cell_type": "code",
   "execution_count": null,
   "metadata": {},
   "outputs": [],
   "source": [
    "sns.distplot(df.loc[lambda x: x['street'].isin(street_list)]['number'], \n",
    "             kde=False,\n",
    "             bins = 100)\n",
    "plt.xlim(0,400)\n",
    "titles = {'xlabel':'Количество посадочных мест', \n",
    "          'ylabel':'Количество заведений', \n",
    "          'title': 'Распределение количества посадочных мест для улиц с большим количеством заведений'}\n",
    "get_labels_and_axes(titles)\n",
    "plt.show()"
   ]
  },
  {
   "cell_type": "markdown",
   "metadata": {},
   "source": [
    "**Вывод**\n",
    "\n",
    "Господствуют заведения c количеством посадочных мест от 1 до 50. Это похоже на распределение количества посадочных мест для сетевых заведений, которое мы искали ранее. Затем идут объекты, где от 51 до 100 посадочных мест. И замыкают этот список заведения без посадки(видимо, они работают только на вынос)."
   ]
  },
  {
   "cell_type": "markdown",
   "metadata": {},
   "source": [
    "## Общий вывод"
   ]
  },
  {
   "cell_type": "markdown",
   "metadata": {},
   "source": [
    "Мы изучили рынок заведений общественного питания в Москве и установили, **что:**\n",
    "- Самый распространенный формат заведений в Москве - кафе;\n",
    "- Количество одиночных заведений гораздо больше их сетевых собратьев;\n",
    "- Большая доля сетевых заведений встречается в предприятиях быстрого питания (они же - фастфуды);\n",
    "- Для кафе распределение количества посадочных мест для сетевых и несетевых заведений практически совпадает;\n",
    "- Наибольшим количтевом посадочных мест обладают заведния типа *столовая* и *ресторан*, а наименьшим - *кулинария* и *закусочная*.\n",
    "\n",
    "А так же мы нашли топ-10 улиц по количеству заведений общественного питания на них, определили в каких районах их больше всего; нашли улицы всего с одним заведением и определили их пристутсвие в тех или иных районах. И в добавок, посмотрели на распределение количества посадочных мест для улиц с большим количеством заведений.\n",
    "\n",
    "**Исходя из нашего исследования, можно сделать некоторые рекомендации:**\n",
    "\n",
    "1. Наиболее подходящим форматом при отрытии нового заведения является кафе;\n",
    "\n",
    "2. По количеству посадочных мест следует ориентироваться на среднее значение для кафе (около 40 мест);\n",
    "\n",
    "3. Территориально определить оптимальное место сложно, т.к. мы не имеем информации о наличии и финансовой доступности конкретных плоащдей. Однако, кажется очевидным, что это должны быть районы в центральной части Москвы, т.к. большой туричтический трафик и наличие офисных зданий могут стать основой успешной работы завдения общественного питания."
   ]
  }
 ],
 "metadata": {
  "ExecuteTimeLog": [
   {
    "duration": 1407,
    "start_time": "2022-02-19T09:40:51.589Z"
   },
   {
    "duration": 44,
    "start_time": "2022-02-19T09:41:11.467Z"
   },
   {
    "duration": 9,
    "start_time": "2022-02-19T09:41:18.799Z"
   },
   {
    "duration": 71,
    "start_time": "2022-02-19T09:43:24.230Z"
   },
   {
    "duration": 1501,
    "start_time": "2022-02-19T09:46:34.007Z"
   },
   {
    "duration": 47,
    "start_time": "2022-02-19T09:46:35.510Z"
   },
   {
    "duration": 9,
    "start_time": "2022-02-19T09:46:35.559Z"
   },
   {
    "duration": 49,
    "start_time": "2022-02-19T10:00:01.039Z"
   },
   {
    "duration": 9,
    "start_time": "2022-02-19T10:00:02.859Z"
   },
   {
    "duration": 13,
    "start_time": "2022-02-19T10:00:11.083Z"
   },
   {
    "duration": 10,
    "start_time": "2022-02-19T10:41:32.322Z"
   },
   {
    "duration": 17,
    "start_time": "2022-02-19T10:42:59.977Z"
   },
   {
    "duration": 17,
    "start_time": "2022-02-19T10:43:05.132Z"
   },
   {
    "duration": 35,
    "start_time": "2022-02-19T10:49:21.998Z"
   },
   {
    "duration": 22,
    "start_time": "2022-02-19T10:49:51.796Z"
   },
   {
    "duration": 15,
    "start_time": "2022-02-19T10:50:38.030Z"
   },
   {
    "duration": 16,
    "start_time": "2022-02-19T10:55:36.445Z"
   },
   {
    "duration": 17,
    "start_time": "2022-02-19T10:55:44.095Z"
   },
   {
    "duration": 9,
    "start_time": "2022-02-19T11:03:03.721Z"
   },
   {
    "duration": 11,
    "start_time": "2022-02-19T11:03:14.835Z"
   },
   {
    "duration": 8,
    "start_time": "2022-02-19T11:03:32.683Z"
   },
   {
    "duration": 1475,
    "start_time": "2022-02-19T11:05:14.772Z"
   },
   {
    "duration": 48,
    "start_time": "2022-02-19T11:05:16.249Z"
   },
   {
    "duration": 8,
    "start_time": "2022-02-19T11:05:16.299Z"
   },
   {
    "duration": 12,
    "start_time": "2022-02-19T11:05:16.309Z"
   },
   {
    "duration": 8,
    "start_time": "2022-02-19T11:05:16.323Z"
   },
   {
    "duration": 33,
    "start_time": "2022-02-19T11:05:16.333Z"
   },
   {
    "duration": 23,
    "start_time": "2022-02-19T11:05:16.367Z"
   },
   {
    "duration": 13,
    "start_time": "2022-02-19T11:05:16.392Z"
   },
   {
    "duration": 15,
    "start_time": "2022-02-19T11:05:16.431Z"
   },
   {
    "duration": 13,
    "start_time": "2022-02-19T11:05:16.448Z"
   },
   {
    "duration": 9,
    "start_time": "2022-02-19T11:05:16.463Z"
   },
   {
    "duration": 4,
    "start_time": "2022-02-19T11:06:21.782Z"
   },
   {
    "duration": 335,
    "start_time": "2022-02-19T11:06:29.502Z"
   },
   {
    "duration": 198,
    "start_time": "2022-02-19T11:06:39.186Z"
   },
   {
    "duration": 193,
    "start_time": "2022-02-19T11:13:10.993Z"
   },
   {
    "duration": 4,
    "start_time": "2022-02-19T11:13:31.969Z"
   },
   {
    "duration": 313,
    "start_time": "2022-02-19T11:13:33.683Z"
   },
   {
    "duration": 4,
    "start_time": "2022-02-19T11:14:22.505Z"
   },
   {
    "duration": 1463,
    "start_time": "2022-02-19T11:14:27.867Z"
   },
   {
    "duration": 59,
    "start_time": "2022-02-19T11:14:29.332Z"
   },
   {
    "duration": 13,
    "start_time": "2022-02-19T11:14:29.394Z"
   },
   {
    "duration": 29,
    "start_time": "2022-02-19T11:14:29.409Z"
   },
   {
    "duration": 11,
    "start_time": "2022-02-19T11:14:29.440Z"
   },
   {
    "duration": 36,
    "start_time": "2022-02-19T11:14:29.453Z"
   },
   {
    "duration": 40,
    "start_time": "2022-02-19T11:14:29.491Z"
   },
   {
    "duration": 22,
    "start_time": "2022-02-19T11:14:29.533Z"
   },
   {
    "duration": 21,
    "start_time": "2022-02-19T11:14:29.558Z"
   },
   {
    "duration": 21,
    "start_time": "2022-02-19T11:14:29.581Z"
   },
   {
    "duration": 29,
    "start_time": "2022-02-19T11:14:29.604Z"
   },
   {
    "duration": 14,
    "start_time": "2022-02-19T11:14:29.635Z"
   },
   {
    "duration": 6,
    "start_time": "2022-02-19T11:14:29.651Z"
   },
   {
    "duration": 357,
    "start_time": "2022-02-19T11:14:29.659Z"
   },
   {
    "duration": 8,
    "start_time": "2022-02-19T11:15:21.465Z"
   },
   {
    "duration": 3,
    "start_time": "2022-02-19T11:15:24.280Z"
   },
   {
    "duration": 302,
    "start_time": "2022-02-19T11:15:26.425Z"
   },
   {
    "duration": 8,
    "start_time": "2022-02-19T11:16:48.896Z"
   },
   {
    "duration": 8,
    "start_time": "2022-02-19T11:25:48.284Z"
   },
   {
    "duration": 7,
    "start_time": "2022-02-19T11:26:05.164Z"
   },
   {
    "duration": 8,
    "start_time": "2022-02-19T11:26:11.355Z"
   },
   {
    "duration": 188,
    "start_time": "2022-02-19T11:27:28.005Z"
   },
   {
    "duration": 195,
    "start_time": "2022-02-19T11:28:12.725Z"
   },
   {
    "duration": 677,
    "start_time": "2022-02-19T11:31:51.846Z"
   },
   {
    "duration": 183,
    "start_time": "2022-02-19T11:31:57.590Z"
   },
   {
    "duration": 193,
    "start_time": "2022-02-19T11:32:04.615Z"
   },
   {
    "duration": 3,
    "start_time": "2022-02-19T11:32:52.790Z"
   },
   {
    "duration": 192,
    "start_time": "2022-02-19T11:32:53.998Z"
   },
   {
    "duration": 308,
    "start_time": "2022-02-19T11:33:00.878Z"
   },
   {
    "duration": 3,
    "start_time": "2022-02-19T11:33:26.670Z"
   },
   {
    "duration": 197,
    "start_time": "2022-02-19T11:33:27.831Z"
   },
   {
    "duration": 203,
    "start_time": "2022-02-19T11:33:46.382Z"
   },
   {
    "duration": 3,
    "start_time": "2022-02-19T11:33:48.687Z"
   },
   {
    "duration": 197,
    "start_time": "2022-02-19T11:33:50.231Z"
   },
   {
    "duration": 3,
    "start_time": "2022-02-19T11:33:59.974Z"
   },
   {
    "duration": 1416,
    "start_time": "2022-02-19T11:34:27.493Z"
   },
   {
    "duration": 47,
    "start_time": "2022-02-19T11:34:28.911Z"
   },
   {
    "duration": 9,
    "start_time": "2022-02-19T11:34:28.960Z"
   },
   {
    "duration": 11,
    "start_time": "2022-02-19T11:34:28.971Z"
   },
   {
    "duration": 7,
    "start_time": "2022-02-19T11:34:28.984Z"
   },
   {
    "duration": 52,
    "start_time": "2022-02-19T11:34:28.993Z"
   },
   {
    "duration": 22,
    "start_time": "2022-02-19T11:34:29.047Z"
   },
   {
    "duration": 15,
    "start_time": "2022-02-19T11:34:29.071Z"
   },
   {
    "duration": 14,
    "start_time": "2022-02-19T11:34:29.089Z"
   },
   {
    "duration": 35,
    "start_time": "2022-02-19T11:34:29.105Z"
   },
   {
    "duration": 4,
    "start_time": "2022-02-19T11:34:29.142Z"
   },
   {
    "duration": 6,
    "start_time": "2022-02-19T11:34:29.147Z"
   },
   {
    "duration": 9,
    "start_time": "2022-02-19T11:34:29.154Z"
   },
   {
    "duration": 8,
    "start_time": "2022-02-19T11:34:29.165Z"
   },
   {
    "duration": 7,
    "start_time": "2022-02-19T11:34:29.174Z"
   },
   {
    "duration": 4,
    "start_time": "2022-02-19T11:34:29.183Z"
   },
   {
    "duration": 341,
    "start_time": "2022-02-19T11:34:29.189Z"
   },
   {
    "duration": 7,
    "start_time": "2022-02-19T11:34:29.532Z"
   },
   {
    "duration": 7,
    "start_time": "2022-02-19T11:34:29.541Z"
   },
   {
    "duration": 7,
    "start_time": "2022-02-19T11:34:29.550Z"
   },
   {
    "duration": 5,
    "start_time": "2022-02-19T11:34:29.559Z"
   },
   {
    "duration": 216,
    "start_time": "2022-02-19T11:34:29.565Z"
   },
   {
    "duration": 17,
    "start_time": "2022-02-19T12:19:35.251Z"
   },
   {
    "duration": 5386,
    "start_time": "2022-02-19T12:20:05.988Z"
   },
   {
    "duration": 25,
    "start_time": "2022-02-19T12:20:31.396Z"
   },
   {
    "duration": 484,
    "start_time": "2022-02-19T12:20:43.659Z"
   },
   {
    "duration": 319,
    "start_time": "2022-02-19T12:23:02.460Z"
   },
   {
    "duration": 224,
    "start_time": "2022-02-19T12:24:27.565Z"
   },
   {
    "duration": 418,
    "start_time": "2022-02-19T12:24:40.669Z"
   },
   {
    "duration": 1226,
    "start_time": "2022-02-19T12:24:58.796Z"
   },
   {
    "duration": 215,
    "start_time": "2022-02-23T07:33:52.342Z"
   },
   {
    "duration": 1541,
    "start_time": "2022-02-23T07:34:04.552Z"
   },
   {
    "duration": 41,
    "start_time": "2022-02-23T07:34:06.094Z"
   },
   {
    "duration": 10,
    "start_time": "2022-02-23T07:34:06.137Z"
   },
   {
    "duration": 17,
    "start_time": "2022-02-23T07:34:06.148Z"
   },
   {
    "duration": 7,
    "start_time": "2022-02-23T07:34:06.166Z"
   },
   {
    "duration": 34,
    "start_time": "2022-02-23T07:34:06.175Z"
   },
   {
    "duration": 22,
    "start_time": "2022-02-23T07:34:06.211Z"
   },
   {
    "duration": 38,
    "start_time": "2022-02-23T07:34:06.234Z"
   },
   {
    "duration": 14,
    "start_time": "2022-02-23T07:34:06.275Z"
   },
   {
    "duration": 14,
    "start_time": "2022-02-23T07:34:06.291Z"
   },
   {
    "duration": 3,
    "start_time": "2022-02-23T07:34:06.307Z"
   },
   {
    "duration": 29,
    "start_time": "2022-02-23T07:34:06.312Z"
   },
   {
    "duration": 15,
    "start_time": "2022-02-23T07:34:06.343Z"
   },
   {
    "duration": 8,
    "start_time": "2022-02-23T07:34:06.359Z"
   },
   {
    "duration": 9,
    "start_time": "2022-02-23T07:34:06.369Z"
   },
   {
    "duration": 9,
    "start_time": "2022-02-23T07:34:06.379Z"
   },
   {
    "duration": 343,
    "start_time": "2022-02-23T07:34:06.390Z"
   },
   {
    "duration": 9,
    "start_time": "2022-02-23T07:34:06.735Z"
   },
   {
    "duration": 20,
    "start_time": "2022-02-23T07:34:06.746Z"
   },
   {
    "duration": 6,
    "start_time": "2022-02-23T07:34:06.768Z"
   },
   {
    "duration": 224,
    "start_time": "2022-02-23T07:34:06.776Z"
   },
   {
    "duration": 17,
    "start_time": "2022-02-23T07:34:07.002Z"
   },
   {
    "duration": 18,
    "start_time": "2022-02-23T07:34:07.021Z"
   },
   {
    "duration": 381,
    "start_time": "2022-02-23T07:34:07.059Z"
   },
   {
    "duration": 384,
    "start_time": "2022-02-23T07:34:07.442Z"
   },
   {
    "duration": 377,
    "start_time": "2022-02-23T07:34:07.828Z"
   },
   {
    "duration": 1351,
    "start_time": "2022-02-23T07:34:08.208Z"
   },
   {
    "duration": 349,
    "start_time": "2022-02-23T07:34:14.199Z"
   },
   {
    "duration": 17,
    "start_time": "2022-02-23T07:34:18.319Z"
   },
   {
    "duration": 18,
    "start_time": "2022-02-23T07:42:27.663Z"
   },
   {
    "duration": 8,
    "start_time": "2022-02-23T07:42:29.265Z"
   },
   {
    "duration": 345,
    "start_time": "2022-02-23T07:42:50.914Z"
   },
   {
    "duration": 366,
    "start_time": "2022-02-23T07:46:09.171Z"
   },
   {
    "duration": 214,
    "start_time": "2022-02-23T07:46:44.428Z"
   },
   {
    "duration": 356,
    "start_time": "2022-02-23T07:46:57.821Z"
   },
   {
    "duration": 364,
    "start_time": "2022-02-23T07:47:51.867Z"
   },
   {
    "duration": 1157,
    "start_time": "2022-02-23T07:56:29.860Z"
   },
   {
    "duration": 183,
    "start_time": "2022-02-23T08:09:52.194Z"
   },
   {
    "duration": 358,
    "start_time": "2022-02-23T08:09:59.031Z"
   },
   {
    "duration": 344,
    "start_time": "2022-02-23T08:10:19.450Z"
   },
   {
    "duration": 213,
    "start_time": "2022-02-23T08:10:52.452Z"
   },
   {
    "duration": 231,
    "start_time": "2022-02-23T08:11:03.194Z"
   },
   {
    "duration": 10,
    "start_time": "2022-02-23T08:11:14.946Z"
   },
   {
    "duration": 485,
    "start_time": "2022-02-23T08:11:30.259Z"
   },
   {
    "duration": 334,
    "start_time": "2022-02-23T08:11:53.578Z"
   },
   {
    "duration": 11,
    "start_time": "2022-02-23T08:11:56.850Z"
   },
   {
    "duration": 597,
    "start_time": "2022-02-23T08:11:58.218Z"
   },
   {
    "duration": 1474,
    "start_time": "2022-02-23T08:12:52.251Z"
   },
   {
    "duration": 44,
    "start_time": "2022-02-23T08:12:53.727Z"
   },
   {
    "duration": 9,
    "start_time": "2022-02-23T08:12:53.773Z"
   },
   {
    "duration": 12,
    "start_time": "2022-02-23T08:12:53.784Z"
   },
   {
    "duration": 7,
    "start_time": "2022-02-23T08:12:53.798Z"
   },
   {
    "duration": 58,
    "start_time": "2022-02-23T08:12:53.806Z"
   },
   {
    "duration": 23,
    "start_time": "2022-02-23T08:12:53.866Z"
   },
   {
    "duration": 14,
    "start_time": "2022-02-23T08:12:53.892Z"
   },
   {
    "duration": 16,
    "start_time": "2022-02-23T08:12:53.908Z"
   },
   {
    "duration": 44,
    "start_time": "2022-02-23T08:12:53.925Z"
   },
   {
    "duration": 4,
    "start_time": "2022-02-23T08:12:53.970Z"
   },
   {
    "duration": 5,
    "start_time": "2022-02-23T08:12:53.976Z"
   },
   {
    "duration": 10,
    "start_time": "2022-02-23T08:12:53.983Z"
   },
   {
    "duration": 15,
    "start_time": "2022-02-23T08:12:53.994Z"
   },
   {
    "duration": 9,
    "start_time": "2022-02-23T08:12:54.011Z"
   },
   {
    "duration": 12,
    "start_time": "2022-02-23T08:12:54.022Z"
   },
   {
    "duration": 345,
    "start_time": "2022-02-23T08:12:54.036Z"
   },
   {
    "duration": 7,
    "start_time": "2022-02-23T08:12:54.382Z"
   },
   {
    "duration": 10,
    "start_time": "2022-02-23T08:12:54.391Z"
   },
   {
    "duration": 8,
    "start_time": "2022-02-23T08:12:54.402Z"
   },
   {
    "duration": 217,
    "start_time": "2022-02-23T08:12:54.412Z"
   },
   {
    "duration": 28,
    "start_time": "2022-02-23T08:12:54.631Z"
   },
   {
    "duration": 351,
    "start_time": "2022-02-23T08:12:54.662Z"
   },
   {
    "duration": 368,
    "start_time": "2022-02-23T08:12:55.016Z"
   },
   {
    "duration": 1161,
    "start_time": "2022-02-23T08:12:55.385Z"
   },
   {
    "duration": 359,
    "start_time": "2022-02-23T08:12:56.548Z"
   },
   {
    "duration": 11,
    "start_time": "2022-02-23T08:12:56.908Z"
   },
   {
    "duration": 489,
    "start_time": "2022-02-23T08:12:56.920Z"
   },
   {
    "duration": 325,
    "start_time": "2022-02-23T08:13:27.648Z"
   },
   {
    "duration": 404,
    "start_time": "2022-02-23T08:13:32.055Z"
   },
   {
    "duration": 359,
    "start_time": "2022-02-23T08:13:38.887Z"
   },
   {
    "duration": 383,
    "start_time": "2022-02-23T08:13:48.552Z"
   },
   {
    "duration": 382,
    "start_time": "2022-02-23T08:13:58.744Z"
   },
   {
    "duration": 379,
    "start_time": "2022-02-23T08:14:04.000Z"
   },
   {
    "duration": 734,
    "start_time": "2022-02-23T08:15:36.537Z"
   },
   {
    "duration": 494,
    "start_time": "2022-02-23T08:15:41.697Z"
   },
   {
    "duration": 352,
    "start_time": "2022-02-23T08:16:19.433Z"
   },
   {
    "duration": 385,
    "start_time": "2022-02-23T08:16:41.280Z"
   },
   {
    "duration": 856,
    "start_time": "2022-02-23T08:17:44.392Z"
   },
   {
    "duration": 777,
    "start_time": "2022-02-23T08:18:30.890Z"
   },
   {
    "duration": 777,
    "start_time": "2022-02-23T08:18:44.250Z"
   },
   {
    "duration": 785,
    "start_time": "2022-02-23T08:18:52.379Z"
   },
   {
    "duration": 773,
    "start_time": "2022-02-23T08:19:13.153Z"
   },
   {
    "duration": 1486,
    "start_time": "2022-02-23T08:19:56.644Z"
   },
   {
    "duration": 40,
    "start_time": "2022-02-23T08:19:58.132Z"
   },
   {
    "duration": 9,
    "start_time": "2022-02-23T08:19:58.174Z"
   },
   {
    "duration": 12,
    "start_time": "2022-02-23T08:19:58.185Z"
   },
   {
    "duration": 7,
    "start_time": "2022-02-23T08:19:58.199Z"
   },
   {
    "duration": 56,
    "start_time": "2022-02-23T08:19:58.207Z"
   },
   {
    "duration": 22,
    "start_time": "2022-02-23T08:19:58.265Z"
   },
   {
    "duration": 16,
    "start_time": "2022-02-23T08:19:58.289Z"
   },
   {
    "duration": 15,
    "start_time": "2022-02-23T08:19:58.309Z"
   },
   {
    "duration": 44,
    "start_time": "2022-02-23T08:19:58.326Z"
   },
   {
    "duration": 4,
    "start_time": "2022-02-23T08:19:58.372Z"
   },
   {
    "duration": 5,
    "start_time": "2022-02-23T08:19:58.378Z"
   },
   {
    "duration": 12,
    "start_time": "2022-02-23T08:19:58.384Z"
   },
   {
    "duration": 7,
    "start_time": "2022-02-23T08:19:58.398Z"
   },
   {
    "duration": 8,
    "start_time": "2022-02-23T08:19:58.407Z"
   },
   {
    "duration": 6,
    "start_time": "2022-02-23T08:19:58.417Z"
   },
   {
    "duration": 353,
    "start_time": "2022-02-23T08:19:58.425Z"
   },
   {
    "duration": 8,
    "start_time": "2022-02-23T08:19:58.779Z"
   },
   {
    "duration": 8,
    "start_time": "2022-02-23T08:19:58.789Z"
   },
   {
    "duration": 9,
    "start_time": "2022-02-23T08:19:58.799Z"
   },
   {
    "duration": 222,
    "start_time": "2022-02-23T08:19:58.810Z"
   },
   {
    "duration": 26,
    "start_time": "2022-02-23T08:19:59.034Z"
   },
   {
    "duration": 365,
    "start_time": "2022-02-23T08:19:59.062Z"
   },
   {
    "duration": 350,
    "start_time": "2022-02-23T08:19:59.429Z"
   },
   {
    "duration": 1099,
    "start_time": "2022-02-23T08:19:59.780Z"
   },
   {
    "duration": 817,
    "start_time": "2022-02-23T08:20:00.881Z"
   },
   {
    "duration": 12,
    "start_time": "2022-02-23T08:20:01.702Z"
   },
   {
    "duration": 515,
    "start_time": "2022-02-23T08:20:01.716Z"
   },
   {
    "duration": 29,
    "start_time": "2022-02-23T08:35:03.583Z"
   },
   {
    "duration": 16,
    "start_time": "2022-02-23T08:35:15.614Z"
   },
   {
    "duration": 34,
    "start_time": "2022-02-23T08:44:37.506Z"
   },
   {
    "duration": 12,
    "start_time": "2022-02-23T08:44:44.232Z"
   },
   {
    "duration": 13,
    "start_time": "2022-02-23T08:45:23.010Z"
   },
   {
    "duration": 26,
    "start_time": "2022-02-23T08:47:50.861Z"
   },
   {
    "duration": 302,
    "start_time": "2022-02-23T08:48:18.148Z"
   },
   {
    "duration": 21,
    "start_time": "2022-02-23T08:48:20.075Z"
   },
   {
    "duration": 7,
    "start_time": "2022-02-23T08:48:21.684Z"
   },
   {
    "duration": 376,
    "start_time": "2022-02-23T08:51:15.628Z"
   },
   {
    "duration": 196,
    "start_time": "2022-02-23T08:52:09.845Z"
   },
   {
    "duration": 385,
    "start_time": "2022-02-23T08:52:28.877Z"
   },
   {
    "duration": 3,
    "start_time": "2022-02-23T08:57:09.270Z"
   },
   {
    "duration": 179,
    "start_time": "2022-02-23T08:57:19.063Z"
   },
   {
    "duration": 4,
    "start_time": "2022-02-23T08:57:26.823Z"
   },
   {
    "duration": 7,
    "start_time": "2022-02-23T08:59:31.504Z"
   },
   {
    "duration": 17,
    "start_time": "2022-02-23T08:59:59.183Z"
   },
   {
    "duration": 10,
    "start_time": "2022-02-23T09:01:05.184Z"
   },
   {
    "duration": 11,
    "start_time": "2022-02-23T09:01:09.623Z"
   },
   {
    "duration": 5,
    "start_time": "2022-02-23T09:01:22.496Z"
   },
   {
    "duration": 828,
    "start_time": "2022-02-23T09:01:43.832Z"
   },
   {
    "duration": 12,
    "start_time": "2022-02-23T09:01:54.384Z"
   },
   {
    "duration": 4,
    "start_time": "2022-02-23T09:55:40.785Z"
   },
   {
    "duration": 11,
    "start_time": "2022-02-23T09:55:50.129Z"
   },
   {
    "duration": 10480,
    "start_time": "2022-02-23T09:56:01.689Z"
   },
   {
    "duration": 3,
    "start_time": "2022-02-23T09:56:13.537Z"
   },
   {
    "duration": 4869,
    "start_time": "2022-02-23T09:56:27.273Z"
   },
   {
    "duration": 13,
    "start_time": "2022-02-23T09:56:42.186Z"
   },
   {
    "duration": 7609,
    "start_time": "2022-02-23T09:57:04.578Z"
   },
   {
    "duration": 1517,
    "start_time": "2022-02-23T09:57:21.224Z"
   },
   {
    "duration": 44,
    "start_time": "2022-02-23T09:57:22.743Z"
   },
   {
    "duration": 9,
    "start_time": "2022-02-23T09:57:22.791Z"
   },
   {
    "duration": 15,
    "start_time": "2022-02-23T09:57:22.802Z"
   },
   {
    "duration": 21,
    "start_time": "2022-02-23T09:57:22.818Z"
   },
   {
    "duration": 51,
    "start_time": "2022-02-23T09:57:22.840Z"
   },
   {
    "duration": 28,
    "start_time": "2022-02-23T09:57:22.893Z"
   },
   {
    "duration": 44,
    "start_time": "2022-02-23T09:57:22.924Z"
   },
   {
    "duration": 16,
    "start_time": "2022-02-23T09:57:22.970Z"
   },
   {
    "duration": 15,
    "start_time": "2022-02-23T09:57:22.988Z"
   },
   {
    "duration": 3,
    "start_time": "2022-02-23T09:57:23.005Z"
   },
   {
    "duration": 14,
    "start_time": "2022-02-23T09:57:23.010Z"
   },
   {
    "duration": 37,
    "start_time": "2022-02-23T09:57:23.026Z"
   },
   {
    "duration": 8,
    "start_time": "2022-02-23T09:57:23.065Z"
   },
   {
    "duration": 10,
    "start_time": "2022-02-23T09:57:23.075Z"
   },
   {
    "duration": 5,
    "start_time": "2022-02-23T09:57:23.087Z"
   },
   {
    "duration": 356,
    "start_time": "2022-02-23T09:57:23.094Z"
   },
   {
    "duration": 12,
    "start_time": "2022-02-23T09:57:23.452Z"
   },
   {
    "duration": 12,
    "start_time": "2022-02-23T09:57:23.466Z"
   },
   {
    "duration": 14,
    "start_time": "2022-02-23T09:57:23.480Z"
   },
   {
    "duration": 220,
    "start_time": "2022-02-23T09:57:23.496Z"
   },
   {
    "duration": 20,
    "start_time": "2022-02-23T09:57:23.718Z"
   },
   {
    "duration": 385,
    "start_time": "2022-02-23T09:57:23.739Z"
   },
   {
    "duration": 370,
    "start_time": "2022-02-23T09:57:24.126Z"
   },
   {
    "duration": 1161,
    "start_time": "2022-02-23T09:57:24.499Z"
   },
   {
    "duration": 844,
    "start_time": "2022-02-23T09:57:25.664Z"
   },
   {
    "duration": 29,
    "start_time": "2022-02-23T09:57:26.510Z"
   },
   {
    "duration": 29,
    "start_time": "2022-02-23T09:57:26.540Z"
   },
   {
    "duration": 24,
    "start_time": "2022-02-23T09:57:26.570Z"
   },
   {
    "duration": 6,
    "start_time": "2022-02-23T09:57:26.596Z"
   },
   {
    "duration": 418,
    "start_time": "2022-02-23T09:57:26.604Z"
   },
   {
    "duration": 5,
    "start_time": "2022-02-23T09:57:27.024Z"
   },
   {
    "duration": 10,
    "start_time": "2022-02-23T09:57:27.031Z"
   },
   {
    "duration": 1408,
    "start_time": "2022-02-23T09:57:27.043Z"
   },
   {
    "duration": 3,
    "start_time": "2022-02-23T09:57:28.453Z"
   },
   {
    "duration": 75,
    "start_time": "2022-02-23T09:57:28.458Z"
   },
   {
    "duration": 13,
    "start_time": "2022-02-23T09:57:28.535Z"
   },
   {
    "duration": 10,
    "start_time": "2022-02-23T09:57:28.550Z"
   },
   {
    "duration": 9,
    "start_time": "2022-02-23T09:57:28.562Z"
   },
   {
    "duration": 10,
    "start_time": "2022-02-23T09:57:28.573Z"
   },
   {
    "duration": 7,
    "start_time": "2022-02-23T09:57:28.585Z"
   },
   {
    "duration": 13,
    "start_time": "2022-02-23T09:57:28.594Z"
   },
   {
    "duration": 5,
    "start_time": "2022-02-23T09:57:28.609Z"
   },
   {
    "duration": 1012,
    "start_time": "2022-02-23T09:57:28.615Z"
   },
   {
    "duration": 11,
    "start_time": "2022-02-23T09:57:29.629Z"
   },
   {
    "duration": 1549,
    "start_time": "2022-02-23T09:57:48.639Z"
   },
   {
    "duration": 43,
    "start_time": "2022-02-23T09:57:50.190Z"
   },
   {
    "duration": 9,
    "start_time": "2022-02-23T09:57:50.238Z"
   },
   {
    "duration": 18,
    "start_time": "2022-02-23T09:57:50.249Z"
   },
   {
    "duration": 10,
    "start_time": "2022-02-23T09:57:50.269Z"
   },
   {
    "duration": 37,
    "start_time": "2022-02-23T09:57:50.281Z"
   },
   {
    "duration": 45,
    "start_time": "2022-02-23T09:57:50.320Z"
   },
   {
    "duration": 14,
    "start_time": "2022-02-23T09:57:50.367Z"
   },
   {
    "duration": 16,
    "start_time": "2022-02-23T09:57:50.384Z"
   },
   {
    "duration": 15,
    "start_time": "2022-02-23T09:57:50.402Z"
   },
   {
    "duration": 4,
    "start_time": "2022-02-23T09:57:50.419Z"
   },
   {
    "duration": 36,
    "start_time": "2022-02-23T09:57:50.425Z"
   },
   {
    "duration": 14,
    "start_time": "2022-02-23T09:57:50.463Z"
   },
   {
    "duration": 15,
    "start_time": "2022-02-23T09:57:50.479Z"
   },
   {
    "duration": 10,
    "start_time": "2022-02-23T09:57:50.496Z"
   },
   {
    "duration": 7,
    "start_time": "2022-02-23T09:57:50.508Z"
   },
   {
    "duration": 364,
    "start_time": "2022-02-23T09:57:50.517Z"
   },
   {
    "duration": 8,
    "start_time": "2022-02-23T09:57:50.882Z"
   },
   {
    "duration": 9,
    "start_time": "2022-02-23T09:57:50.892Z"
   },
   {
    "duration": 15,
    "start_time": "2022-02-23T09:57:50.903Z"
   },
   {
    "duration": 227,
    "start_time": "2022-02-23T09:57:50.921Z"
   },
   {
    "duration": 26,
    "start_time": "2022-02-23T09:57:51.151Z"
   },
   {
    "duration": 392,
    "start_time": "2022-02-23T09:57:51.179Z"
   },
   {
    "duration": 375,
    "start_time": "2022-02-23T09:57:51.573Z"
   },
   {
    "duration": 1128,
    "start_time": "2022-02-23T09:57:51.950Z"
   },
   {
    "duration": 783,
    "start_time": "2022-02-23T09:57:53.080Z"
   },
   {
    "duration": 29,
    "start_time": "2022-02-23T09:57:53.866Z"
   },
   {
    "duration": 14,
    "start_time": "2022-02-23T09:57:53.897Z"
   },
   {
    "duration": 56,
    "start_time": "2022-02-23T09:57:53.913Z"
   },
   {
    "duration": 6,
    "start_time": "2022-02-23T09:57:53.971Z"
   },
   {
    "duration": 411,
    "start_time": "2022-02-23T09:57:53.979Z"
   },
   {
    "duration": 5,
    "start_time": "2022-02-23T09:57:54.392Z"
   },
   {
    "duration": 10,
    "start_time": "2022-02-23T09:57:54.399Z"
   },
   {
    "duration": 1892,
    "start_time": "2022-02-23T09:57:54.411Z"
   },
   {
    "duration": 3,
    "start_time": "2022-02-23T09:57:56.305Z"
   },
   {
    "duration": 76,
    "start_time": "2022-02-23T09:57:56.310Z"
   },
   {
    "duration": 15,
    "start_time": "2022-02-23T09:57:56.388Z"
   },
   {
    "duration": 316,
    "start_time": "2022-02-23T09:58:17.618Z"
   },
   {
    "duration": 371,
    "start_time": "2022-02-23T09:58:24.275Z"
   },
   {
    "duration": 3,
    "start_time": "2022-02-23T10:00:38.627Z"
   },
   {
    "duration": 213,
    "start_time": "2022-02-23T10:00:48.379Z"
   },
   {
    "duration": 208,
    "start_time": "2022-02-23T10:00:54.299Z"
   },
   {
    "duration": 183,
    "start_time": "2022-02-23T10:01:03.627Z"
   },
   {
    "duration": 18,
    "start_time": "2022-02-23T10:01:10.020Z"
   },
   {
    "duration": 731,
    "start_time": "2022-02-23T10:01:16.595Z"
   },
   {
    "duration": 12,
    "start_time": "2022-02-23T10:05:51.556Z"
   },
   {
    "duration": 151,
    "start_time": "2022-02-23T10:05:55.155Z"
   },
   {
    "duration": 370,
    "start_time": "2022-02-23T10:07:46.589Z"
   },
   {
    "duration": 251,
    "start_time": "2022-02-23T10:08:22.341Z"
   },
   {
    "duration": 18,
    "start_time": "2022-02-23T10:08:27.797Z"
   },
   {
    "duration": 341,
    "start_time": "2022-02-23T10:08:37.845Z"
   },
   {
    "duration": 11,
    "start_time": "2022-02-23T10:08:47.868Z"
   },
   {
    "duration": 3,
    "start_time": "2022-02-23T10:08:56.341Z"
   },
   {
    "duration": 11,
    "start_time": "2022-02-23T10:09:06.868Z"
   },
   {
    "duration": 136,
    "start_time": "2022-02-23T10:09:19.628Z"
   },
   {
    "duration": 181,
    "start_time": "2022-02-23T10:10:30.324Z"
   },
   {
    "duration": 8,
    "start_time": "2022-02-23T10:10:46.573Z"
   },
   {
    "duration": 203,
    "start_time": "2022-02-23T10:11:20.910Z"
   },
   {
    "duration": 2258,
    "start_time": "2022-02-26T08:32:48.964Z"
   },
   {
    "duration": 57,
    "start_time": "2022-02-26T08:32:51.225Z"
   },
   {
    "duration": 13,
    "start_time": "2022-02-26T08:32:51.285Z"
   },
   {
    "duration": 19,
    "start_time": "2022-02-26T08:32:51.302Z"
   },
   {
    "duration": 12,
    "start_time": "2022-02-26T08:32:51.323Z"
   },
   {
    "duration": 49,
    "start_time": "2022-02-26T08:32:51.362Z"
   },
   {
    "duration": 52,
    "start_time": "2022-02-26T08:32:51.414Z"
   },
   {
    "duration": 22,
    "start_time": "2022-02-26T08:32:51.470Z"
   },
   {
    "duration": 21,
    "start_time": "2022-02-26T08:32:51.496Z"
   },
   {
    "duration": 49,
    "start_time": "2022-02-26T08:32:51.520Z"
   },
   {
    "duration": 5,
    "start_time": "2022-02-26T08:32:51.572Z"
   },
   {
    "duration": 8,
    "start_time": "2022-02-26T08:32:51.580Z"
   },
   {
    "duration": 17,
    "start_time": "2022-02-26T08:32:51.591Z"
   },
   {
    "duration": 15,
    "start_time": "2022-02-26T08:32:51.611Z"
   },
   {
    "duration": 40,
    "start_time": "2022-02-26T08:32:51.629Z"
   },
   {
    "duration": 8,
    "start_time": "2022-02-26T08:32:51.671Z"
   },
   {
    "duration": 518,
    "start_time": "2022-02-26T08:32:51.681Z"
   },
   {
    "duration": 14,
    "start_time": "2022-02-26T08:32:52.202Z"
   },
   {
    "duration": 21,
    "start_time": "2022-02-26T08:32:52.219Z"
   },
   {
    "duration": 24,
    "start_time": "2022-02-26T08:32:52.242Z"
   },
   {
    "duration": 332,
    "start_time": "2022-02-26T08:32:52.269Z"
   },
   {
    "duration": 31,
    "start_time": "2022-02-26T08:32:52.603Z"
   },
   {
    "duration": 883,
    "start_time": "2022-02-26T08:32:52.639Z"
   },
   {
    "duration": 607,
    "start_time": "2022-02-26T08:32:53.527Z"
   },
   {
    "duration": 1570,
    "start_time": "2022-02-26T08:32:54.137Z"
   },
   {
    "duration": 1418,
    "start_time": "2022-02-26T08:32:55.710Z"
   },
   {
    "duration": 69,
    "start_time": "2022-02-26T08:32:57.131Z"
   },
   {
    "duration": 27,
    "start_time": "2022-02-26T08:32:57.203Z"
   },
   {
    "duration": 66,
    "start_time": "2022-02-26T08:32:57.233Z"
   },
   {
    "duration": 13,
    "start_time": "2022-02-26T08:32:57.302Z"
   },
   {
    "duration": 702,
    "start_time": "2022-02-26T08:32:57.318Z"
   },
   {
    "duration": 6,
    "start_time": "2022-02-26T08:32:58.023Z"
   },
   {
    "duration": 30,
    "start_time": "2022-02-26T08:32:58.031Z"
   },
   {
    "duration": 1880,
    "start_time": "2022-02-26T08:32:58.064Z"
   },
   {
    "duration": 6,
    "start_time": "2022-02-26T08:32:59.946Z"
   },
   {
    "duration": 109,
    "start_time": "2022-02-26T08:32:59.954Z"
   },
   {
    "duration": 21,
    "start_time": "2022-02-26T08:33:00.065Z"
   },
   {
    "duration": 664,
    "start_time": "2022-02-26T08:33:00.088Z"
   },
   {
    "duration": 6,
    "start_time": "2022-02-26T08:33:00.755Z"
   },
   {
    "duration": 18,
    "start_time": "2022-02-26T08:33:00.763Z"
   },
   {
    "duration": 980,
    "start_time": "2022-02-26T08:33:00.784Z"
   },
   {
    "duration": 710,
    "start_time": "2022-02-26T08:33:01.766Z"
   },
   {
    "duration": 12,
    "start_time": "2022-02-26T08:33:02.478Z"
   },
   {
    "duration": 18,
    "start_time": "2022-02-26T08:33:02.494Z"
   },
   {
    "duration": 46,
    "start_time": "2022-02-26T08:33:02.515Z"
   },
   {
    "duration": 7,
    "start_time": "2022-02-26T08:33:02.564Z"
   },
   {
    "duration": 15,
    "start_time": "2022-02-26T08:33:02.573Z"
   },
   {
    "duration": 217,
    "start_time": "2022-02-26T08:33:02.591Z"
   },
   {
    "duration": 2167,
    "start_time": "2022-02-26T08:43:13.368Z"
   },
   {
    "duration": 58,
    "start_time": "2022-02-26T08:43:15.537Z"
   },
   {
    "duration": 12,
    "start_time": "2022-02-26T08:43:15.597Z"
   },
   {
    "duration": 17,
    "start_time": "2022-02-26T08:43:15.612Z"
   },
   {
    "duration": 34,
    "start_time": "2022-02-26T08:43:15.632Z"
   },
   {
    "duration": 47,
    "start_time": "2022-02-26T08:43:15.669Z"
   },
   {
    "duration": 58,
    "start_time": "2022-02-26T08:43:15.719Z"
   },
   {
    "duration": 20,
    "start_time": "2022-02-26T08:43:15.780Z"
   },
   {
    "duration": 19,
    "start_time": "2022-02-26T08:43:15.803Z"
   },
   {
    "duration": 45,
    "start_time": "2022-02-26T08:43:15.825Z"
   },
   {
    "duration": 5,
    "start_time": "2022-02-26T08:43:15.872Z"
   },
   {
    "duration": 9,
    "start_time": "2022-02-26T08:43:15.879Z"
   },
   {
    "duration": 15,
    "start_time": "2022-02-26T08:43:15.890Z"
   },
   {
    "duration": 11,
    "start_time": "2022-02-26T08:43:15.908Z"
   },
   {
    "duration": 47,
    "start_time": "2022-02-26T08:43:15.921Z"
   },
   {
    "duration": 13,
    "start_time": "2022-02-26T08:43:15.970Z"
   },
   {
    "duration": 537,
    "start_time": "2022-02-26T08:43:15.986Z"
   },
   {
    "duration": 11,
    "start_time": "2022-02-26T08:43:16.526Z"
   },
   {
    "duration": 29,
    "start_time": "2022-02-26T08:43:16.540Z"
   },
   {
    "duration": 14,
    "start_time": "2022-02-26T08:43:16.571Z"
   },
   {
    "duration": 354,
    "start_time": "2022-02-26T08:43:16.588Z"
   },
   {
    "duration": 49,
    "start_time": "2022-02-26T08:43:16.945Z"
   },
   {
    "duration": 933,
    "start_time": "2022-02-26T08:43:17.000Z"
   },
   {
    "duration": 599,
    "start_time": "2022-02-26T08:43:17.937Z"
   },
   {
    "duration": 1751,
    "start_time": "2022-02-26T08:43:18.538Z"
   },
   {
    "duration": 1390,
    "start_time": "2022-02-26T08:43:20.293Z"
   },
   {
    "duration": 41,
    "start_time": "2022-02-26T08:43:21.685Z"
   },
   {
    "duration": 42,
    "start_time": "2022-02-26T08:43:21.730Z"
   },
   {
    "duration": 44,
    "start_time": "2022-02-26T08:43:21.776Z"
   },
   {
    "duration": 10,
    "start_time": "2022-02-26T08:43:21.823Z"
   },
   {
    "duration": 689,
    "start_time": "2022-02-26T08:43:21.836Z"
   },
   {
    "duration": 516,
    "start_time": "2022-02-26T08:43:22.527Z"
   },
   {
    "duration": 1706,
    "start_time": "2022-02-26T08:43:21.339Z"
   },
   {
    "duration": 1705,
    "start_time": "2022-02-26T08:43:21.342Z"
   },
   {
    "duration": 1705,
    "start_time": "2022-02-26T08:43:21.343Z"
   },
   {
    "duration": 1700,
    "start_time": "2022-02-26T08:43:21.350Z"
   },
   {
    "duration": 1700,
    "start_time": "2022-02-26T08:43:21.351Z"
   },
   {
    "duration": 1700,
    "start_time": "2022-02-26T08:43:21.353Z"
   },
   {
    "duration": 1699,
    "start_time": "2022-02-26T08:43:21.355Z"
   },
   {
    "duration": 1698,
    "start_time": "2022-02-26T08:43:21.357Z"
   },
   {
    "duration": 1699,
    "start_time": "2022-02-26T08:43:21.358Z"
   },
   {
    "duration": 1698,
    "start_time": "2022-02-26T08:43:21.360Z"
   },
   {
    "duration": 1698,
    "start_time": "2022-02-26T08:43:21.361Z"
   },
   {
    "duration": 1693,
    "start_time": "2022-02-26T08:43:21.368Z"
   },
   {
    "duration": 1692,
    "start_time": "2022-02-26T08:43:21.370Z"
   },
   {
    "duration": 1692,
    "start_time": "2022-02-26T08:43:21.372Z"
   },
   {
    "duration": 1691,
    "start_time": "2022-02-26T08:43:21.374Z"
   },
   {
    "duration": 1691,
    "start_time": "2022-02-26T08:43:21.375Z"
   },
   {
    "duration": 1691,
    "start_time": "2022-02-26T08:43:21.377Z"
   },
   {
    "duration": 317,
    "start_time": "2022-02-26T08:43:42.181Z"
   },
   {
    "duration": 6,
    "start_time": "2022-02-26T08:44:20.535Z"
   },
   {
    "duration": 15,
    "start_time": "2022-02-26T08:44:22.047Z"
   },
   {
    "duration": 1690,
    "start_time": "2022-02-26T08:44:25.862Z"
   },
   {
    "duration": 5,
    "start_time": "2022-02-26T08:44:28.288Z"
   },
   {
    "duration": 110,
    "start_time": "2022-02-26T08:44:32.262Z"
   },
   {
    "duration": 21,
    "start_time": "2022-02-26T08:44:34.917Z"
   },
   {
    "duration": 600,
    "start_time": "2022-02-26T08:44:40.262Z"
   },
   {
    "duration": 12,
    "start_time": "2022-02-26T08:49:33.870Z"
   },
   {
    "duration": 1805,
    "start_time": "2022-02-26T08:49:35.543Z"
   },
   {
    "duration": 4,
    "start_time": "2022-02-26T08:49:38.672Z"
   },
   {
    "duration": 7704,
    "start_time": "2022-02-26T08:49:41.439Z"
   },
   {
    "duration": 1682,
    "start_time": "2022-02-26T08:49:47.463Z"
   },
   {
    "duration": 2057,
    "start_time": "2022-02-26T08:50:03.337Z"
   },
   {
    "duration": 51,
    "start_time": "2022-02-26T08:50:05.397Z"
   },
   {
    "duration": 12,
    "start_time": "2022-02-26T08:50:05.454Z"
   },
   {
    "duration": 18,
    "start_time": "2022-02-26T08:50:05.469Z"
   },
   {
    "duration": 13,
    "start_time": "2022-02-26T08:50:05.489Z"
   },
   {
    "duration": 83,
    "start_time": "2022-02-26T08:50:05.505Z"
   },
   {
    "duration": 33,
    "start_time": "2022-02-26T08:50:05.590Z"
   },
   {
    "duration": 43,
    "start_time": "2022-02-26T08:50:05.629Z"
   },
   {
    "duration": 22,
    "start_time": "2022-02-26T08:50:05.676Z"
   },
   {
    "duration": 23,
    "start_time": "2022-02-26T08:50:05.701Z"
   },
   {
    "duration": 39,
    "start_time": "2022-02-26T08:50:05.727Z"
   },
   {
    "duration": 8,
    "start_time": "2022-02-26T08:50:05.769Z"
   },
   {
    "duration": 15,
    "start_time": "2022-02-26T08:50:05.780Z"
   },
   {
    "duration": 11,
    "start_time": "2022-02-26T08:50:05.798Z"
   },
   {
    "duration": 13,
    "start_time": "2022-02-26T08:50:05.811Z"
   },
   {
    "duration": 5,
    "start_time": "2022-02-26T08:50:05.862Z"
   },
   {
    "duration": 625,
    "start_time": "2022-02-26T08:50:05.870Z"
   },
   {
    "duration": 11,
    "start_time": "2022-02-26T08:50:06.498Z"
   },
   {
    "duration": 10,
    "start_time": "2022-02-26T08:50:06.511Z"
   },
   {
    "duration": 9,
    "start_time": "2022-02-26T08:50:06.523Z"
   },
   {
    "duration": 336,
    "start_time": "2022-02-26T08:50:06.562Z"
   },
   {
    "duration": 30,
    "start_time": "2022-02-26T08:50:06.901Z"
   },
   {
    "duration": 788,
    "start_time": "2022-02-26T08:50:06.933Z"
   },
   {
    "duration": 583,
    "start_time": "2022-02-26T08:50:07.724Z"
   },
   {
    "duration": 1664,
    "start_time": "2022-02-26T08:50:08.310Z"
   },
   {
    "duration": 1466,
    "start_time": "2022-02-26T08:50:09.981Z"
   },
   {
    "duration": 44,
    "start_time": "2022-02-26T08:50:11.450Z"
   },
   {
    "duration": 18,
    "start_time": "2022-02-26T08:50:11.496Z"
   },
   {
    "duration": 59,
    "start_time": "2022-02-26T08:50:11.517Z"
   },
   {
    "duration": 11,
    "start_time": "2022-02-26T08:50:11.578Z"
   },
   {
    "duration": 759,
    "start_time": "2022-02-26T08:50:11.591Z"
   },
   {
    "duration": 12,
    "start_time": "2022-02-26T08:50:12.353Z"
   },
   {
    "duration": 16,
    "start_time": "2022-02-26T08:50:12.367Z"
   },
   {
    "duration": 1183,
    "start_time": "2022-02-26T08:50:12.386Z"
   },
   {
    "duration": 5,
    "start_time": "2022-02-26T08:50:13.572Z"
   },
   {
    "duration": 117,
    "start_time": "2022-02-26T08:50:13.579Z"
   },
   {
    "duration": 20,
    "start_time": "2022-02-26T08:50:13.699Z"
   },
   {
    "duration": 600,
    "start_time": "2022-02-26T08:50:13.722Z"
   },
   {
    "duration": 648,
    "start_time": "2022-02-26T08:50:14.325Z"
   },
   {
    "duration": 4,
    "start_time": "2022-02-26T08:50:14.975Z"
   },
   {
    "duration": 17,
    "start_time": "2022-02-26T08:50:14.982Z"
   },
   {
    "duration": 970,
    "start_time": "2022-02-26T08:50:15.002Z"
   },
   {
    "duration": 697,
    "start_time": "2022-02-26T08:50:15.974Z"
   },
   {
    "duration": 10,
    "start_time": "2022-02-26T08:50:16.673Z"
   },
   {
    "duration": 18,
    "start_time": "2022-02-26T08:50:16.686Z"
   },
   {
    "duration": 12,
    "start_time": "2022-02-26T08:50:16.706Z"
   },
   {
    "duration": 39,
    "start_time": "2022-02-26T08:50:16.721Z"
   },
   {
    "duration": 19,
    "start_time": "2022-02-26T08:50:16.762Z"
   },
   {
    "duration": 192,
    "start_time": "2022-02-26T08:50:16.784Z"
   },
   {
    "duration": 293,
    "start_time": "2022-02-27T08:10:22.897Z"
   },
   {
    "duration": 1667,
    "start_time": "2022-02-27T08:10:28.191Z"
   },
   {
    "duration": 71,
    "start_time": "2022-02-27T08:10:29.860Z"
   },
   {
    "duration": 9,
    "start_time": "2022-02-27T08:10:29.933Z"
   },
   {
    "duration": 20,
    "start_time": "2022-02-27T08:10:29.943Z"
   },
   {
    "duration": 12,
    "start_time": "2022-02-27T08:10:29.964Z"
   },
   {
    "duration": 36,
    "start_time": "2022-02-27T08:10:29.978Z"
   },
   {
    "duration": 26,
    "start_time": "2022-02-27T08:10:30.016Z"
   },
   {
    "duration": 33,
    "start_time": "2022-02-27T08:10:30.044Z"
   },
   {
    "duration": 16,
    "start_time": "2022-02-27T08:10:30.080Z"
   },
   {
    "duration": 15,
    "start_time": "2022-02-27T08:10:30.098Z"
   },
   {
    "duration": 3,
    "start_time": "2022-02-27T08:10:30.115Z"
   },
   {
    "duration": 9,
    "start_time": "2022-02-27T08:10:30.120Z"
   },
   {
    "duration": 35,
    "start_time": "2022-02-27T08:10:30.131Z"
   },
   {
    "duration": 11,
    "start_time": "2022-02-27T08:10:30.168Z"
   },
   {
    "duration": 8,
    "start_time": "2022-02-27T08:10:30.180Z"
   },
   {
    "duration": 6,
    "start_time": "2022-02-27T08:10:30.190Z"
   },
   {
    "duration": 337,
    "start_time": "2022-02-27T08:10:30.198Z"
   },
   {
    "duration": 8,
    "start_time": "2022-02-27T08:10:30.537Z"
   },
   {
    "duration": 21,
    "start_time": "2022-02-27T08:10:30.547Z"
   },
   {
    "duration": 9,
    "start_time": "2022-02-27T08:10:30.570Z"
   },
   {
    "duration": 212,
    "start_time": "2022-02-27T08:10:30.581Z"
   },
   {
    "duration": 19,
    "start_time": "2022-02-27T08:10:30.794Z"
   },
   {
    "duration": 448,
    "start_time": "2022-02-27T08:10:30.815Z"
   },
   {
    "duration": 346,
    "start_time": "2022-02-27T08:10:31.265Z"
   },
   {
    "duration": 1120,
    "start_time": "2022-02-27T08:10:31.613Z"
   },
   {
    "duration": 804,
    "start_time": "2022-02-27T08:10:32.735Z"
   },
   {
    "duration": 38,
    "start_time": "2022-02-27T08:10:33.542Z"
   },
   {
    "duration": 24,
    "start_time": "2022-02-27T08:10:33.582Z"
   },
   {
    "duration": 47,
    "start_time": "2022-02-27T08:10:33.608Z"
   },
   {
    "duration": 7,
    "start_time": "2022-02-27T08:10:33.657Z"
   },
   {
    "duration": 367,
    "start_time": "2022-02-27T08:10:33.665Z"
   },
   {
    "duration": 332,
    "start_time": "2022-02-27T08:10:34.034Z"
   },
   {
    "duration": 4,
    "start_time": "2022-02-27T08:10:56.287Z"
   },
   {
    "duration": 19,
    "start_time": "2022-02-27T08:11:05.494Z"
   },
   {
    "duration": 10,
    "start_time": "2022-02-27T08:11:15.239Z"
   },
   {
    "duration": 4,
    "start_time": "2022-02-27T08:11:30.743Z"
   },
   {
    "duration": 8,
    "start_time": "2022-02-27T08:13:18.406Z"
   },
   {
    "duration": 43,
    "start_time": "2022-02-27T08:13:18.416Z"
   },
   {
    "duration": 9,
    "start_time": "2022-02-27T08:13:18.461Z"
   },
   {
    "duration": 13,
    "start_time": "2022-02-27T08:13:18.472Z"
   },
   {
    "duration": 11,
    "start_time": "2022-02-27T08:13:18.486Z"
   },
   {
    "duration": 34,
    "start_time": "2022-02-27T08:13:18.499Z"
   },
   {
    "duration": 47,
    "start_time": "2022-02-27T08:13:18.535Z"
   },
   {
    "duration": 14,
    "start_time": "2022-02-27T08:13:18.584Z"
   },
   {
    "duration": 16,
    "start_time": "2022-02-27T08:13:18.600Z"
   },
   {
    "duration": 14,
    "start_time": "2022-02-27T08:13:18.618Z"
   },
   {
    "duration": 29,
    "start_time": "2022-02-27T08:13:18.634Z"
   },
   {
    "duration": 3,
    "start_time": "2022-02-27T08:13:18.665Z"
   },
   {
    "duration": 14,
    "start_time": "2022-02-27T08:13:18.669Z"
   },
   {
    "duration": 11,
    "start_time": "2022-02-27T08:13:18.684Z"
   },
   {
    "duration": 17,
    "start_time": "2022-02-27T08:13:18.697Z"
   },
   {
    "duration": 8,
    "start_time": "2022-02-27T08:13:18.716Z"
   },
   {
    "duration": 338,
    "start_time": "2022-02-27T08:13:18.725Z"
   },
   {
    "duration": 8,
    "start_time": "2022-02-27T08:13:19.065Z"
   },
   {
    "duration": 9,
    "start_time": "2022-02-27T08:13:19.074Z"
   },
   {
    "duration": 9,
    "start_time": "2022-02-27T08:13:19.085Z"
   },
   {
    "duration": 212,
    "start_time": "2022-02-27T08:13:19.095Z"
   },
   {
    "duration": 19,
    "start_time": "2022-02-27T08:13:19.309Z"
   },
   {
    "duration": 8,
    "start_time": "2022-02-27T08:13:19.330Z"
   },
   {
    "duration": 382,
    "start_time": "2022-02-27T08:13:19.340Z"
   },
   {
    "duration": 1102,
    "start_time": "2022-02-27T08:13:19.724Z"
   },
   {
    "duration": 802,
    "start_time": "2022-02-27T08:13:20.828Z"
   },
   {
    "duration": 159,
    "start_time": "2022-02-27T08:13:21.632Z"
   },
   {
    "duration": 17,
    "start_time": "2022-02-27T08:13:21.794Z"
   },
   {
    "duration": 34,
    "start_time": "2022-02-27T08:13:21.813Z"
   },
   {
    "duration": 7,
    "start_time": "2022-02-27T08:13:21.848Z"
   },
   {
    "duration": 381,
    "start_time": "2022-02-27T08:13:21.863Z"
   },
   {
    "duration": 4,
    "start_time": "2022-02-27T08:13:22.245Z"
   },
   {
    "duration": 39,
    "start_time": "2022-02-27T08:13:22.251Z"
   },
   {
    "duration": 8,
    "start_time": "2022-02-27T08:13:22.292Z"
   },
   {
    "duration": 24,
    "start_time": "2022-02-27T08:13:22.302Z"
   },
   {
    "duration": 839,
    "start_time": "2022-02-27T08:13:22.327Z"
   },
   {
    "duration": 10,
    "start_time": "2022-02-27T08:13:23.168Z"
   },
   {
    "duration": 7,
    "start_time": "2022-02-27T08:13:39.972Z"
   },
   {
    "duration": 167,
    "start_time": "2022-02-27T08:13:58.467Z"
   },
   {
    "duration": 5,
    "start_time": "2022-02-27T08:14:06.515Z"
   },
   {
    "duration": 5,
    "start_time": "2022-02-27T08:14:13.730Z"
   },
   {
    "duration": 4,
    "start_time": "2022-02-27T08:14:22.611Z"
   },
   {
    "duration": 766,
    "start_time": "2022-02-27T08:14:35.763Z"
   },
   {
    "duration": 6,
    "start_time": "2022-02-27T08:14:45.155Z"
   },
   {
    "duration": 9,
    "start_time": "2022-02-27T08:14:52.099Z"
   },
   {
    "duration": 5,
    "start_time": "2022-02-27T08:15:03.443Z"
   },
   {
    "duration": 6,
    "start_time": "2022-02-27T08:15:11.491Z"
   },
   {
    "duration": 10,
    "start_time": "2022-02-27T08:15:18.963Z"
   },
   {
    "duration": 18,
    "start_time": "2022-02-27T08:18:01.667Z"
   },
   {
    "duration": 21,
    "start_time": "2022-02-27T08:18:16.483Z"
   },
   {
    "duration": 18,
    "start_time": "2022-02-27T08:18:30.331Z"
   },
   {
    "duration": 333,
    "start_time": "2022-02-27T08:19:32.773Z"
   },
   {
    "duration": 346,
    "start_time": "2022-02-27T08:19:45.612Z"
   },
   {
    "duration": 74,
    "start_time": "2022-02-27T08:22:28.165Z"
   },
   {
    "duration": 76,
    "start_time": "2022-02-27T08:23:14.877Z"
   },
   {
    "duration": 65,
    "start_time": "2022-02-27T08:23:23.725Z"
   },
   {
    "duration": 202,
    "start_time": "2022-02-27T08:24:38.614Z"
   },
   {
    "duration": 395,
    "start_time": "2022-02-27T08:24:59.462Z"
   },
   {
    "duration": 231,
    "start_time": "2022-02-27T08:25:23.463Z"
   },
   {
    "duration": 381,
    "start_time": "2022-02-27T08:25:28.110Z"
   },
   {
    "duration": 342,
    "start_time": "2022-02-27T08:25:34.223Z"
   },
   {
    "duration": 584,
    "start_time": "2022-02-27T08:27:47.719Z"
   },
   {
    "duration": 722,
    "start_time": "2022-02-27T08:30:10.504Z"
   },
   {
    "duration": 1445,
    "start_time": "2022-02-27T08:35:11.214Z"
   },
   {
    "duration": 39,
    "start_time": "2022-02-27T08:35:12.661Z"
   },
   {
    "duration": 9,
    "start_time": "2022-02-27T08:35:12.702Z"
   },
   {
    "duration": 13,
    "start_time": "2022-02-27T08:35:12.713Z"
   },
   {
    "duration": 12,
    "start_time": "2022-02-27T08:35:12.727Z"
   },
   {
    "duration": 41,
    "start_time": "2022-02-27T08:35:12.741Z"
   },
   {
    "duration": 21,
    "start_time": "2022-02-27T08:35:12.784Z"
   },
   {
    "duration": 15,
    "start_time": "2022-02-27T08:35:12.807Z"
   },
   {
    "duration": 14,
    "start_time": "2022-02-27T08:35:12.825Z"
   },
   {
    "duration": 36,
    "start_time": "2022-02-27T08:35:12.841Z"
   },
   {
    "duration": 4,
    "start_time": "2022-02-27T08:35:12.879Z"
   },
   {
    "duration": 7,
    "start_time": "2022-02-27T08:35:12.885Z"
   },
   {
    "duration": 9,
    "start_time": "2022-02-27T08:35:12.894Z"
   },
   {
    "duration": 8,
    "start_time": "2022-02-27T08:35:12.905Z"
   },
   {
    "duration": 8,
    "start_time": "2022-02-27T08:35:12.914Z"
   },
   {
    "duration": 10,
    "start_time": "2022-02-27T08:35:12.923Z"
   },
   {
    "duration": 331,
    "start_time": "2022-02-27T08:35:12.935Z"
   },
   {
    "duration": 8,
    "start_time": "2022-02-27T08:35:13.268Z"
   },
   {
    "duration": 11,
    "start_time": "2022-02-27T08:35:13.278Z"
   },
   {
    "duration": 7,
    "start_time": "2022-02-27T08:35:13.291Z"
   },
   {
    "duration": 223,
    "start_time": "2022-02-27T08:35:13.300Z"
   },
   {
    "duration": 21,
    "start_time": "2022-02-27T08:35:13.525Z"
   },
   {
    "duration": 454,
    "start_time": "2022-02-27T08:35:13.548Z"
   },
   {
    "duration": 347,
    "start_time": "2022-02-27T08:35:14.004Z"
   },
   {
    "duration": 1082,
    "start_time": "2022-02-27T08:35:14.353Z"
   },
   {
    "duration": 791,
    "start_time": "2022-02-27T08:35:15.437Z"
   },
   {
    "duration": 36,
    "start_time": "2022-02-27T08:35:16.233Z"
   },
   {
    "duration": 17,
    "start_time": "2022-02-27T08:35:16.271Z"
   },
   {
    "duration": 44,
    "start_time": "2022-02-27T08:35:16.289Z"
   },
   {
    "duration": 6,
    "start_time": "2022-02-27T08:35:16.335Z"
   },
   {
    "duration": 365,
    "start_time": "2022-02-27T08:35:16.343Z"
   },
   {
    "duration": 5,
    "start_time": "2022-02-27T08:35:16.710Z"
   },
   {
    "duration": 19,
    "start_time": "2022-02-27T08:35:16.717Z"
   },
   {
    "duration": 33,
    "start_time": "2022-02-27T08:35:16.738Z"
   },
   {
    "duration": 5,
    "start_time": "2022-02-27T08:35:16.773Z"
   },
   {
    "duration": 885,
    "start_time": "2022-02-27T08:35:16.780Z"
   },
   {
    "duration": 12,
    "start_time": "2022-02-27T08:35:17.667Z"
   },
   {
    "duration": 1291,
    "start_time": "2022-02-27T08:35:17.681Z"
   },
   {
    "duration": 3633,
    "start_time": "2022-02-27T08:35:15.342Z"
   },
   {
    "duration": 3633,
    "start_time": "2022-02-27T08:35:15.343Z"
   },
   {
    "duration": 3633,
    "start_time": "2022-02-27T08:35:15.345Z"
   },
   {
    "duration": 3633,
    "start_time": "2022-02-27T08:35:15.346Z"
   },
   {
    "duration": 3634,
    "start_time": "2022-02-27T08:35:15.347Z"
   },
   {
    "duration": 3634,
    "start_time": "2022-02-27T08:35:15.348Z"
   },
   {
    "duration": 3634,
    "start_time": "2022-02-27T08:35:15.350Z"
   },
   {
    "duration": 4,
    "start_time": "2022-02-27T08:35:55.855Z"
   },
   {
    "duration": 717,
    "start_time": "2022-02-27T08:35:57.494Z"
   },
   {
    "duration": 9,
    "start_time": "2022-02-27T08:35:59.343Z"
   },
   {
    "duration": 17,
    "start_time": "2022-02-27T08:36:01.431Z"
   },
   {
    "duration": 20,
    "start_time": "2022-02-27T08:36:03.438Z"
   },
   {
    "duration": 16,
    "start_time": "2022-02-27T08:36:06.648Z"
   },
   {
    "duration": 574,
    "start_time": "2022-02-27T08:36:08.479Z"
   },
   {
    "duration": 3,
    "start_time": "2022-02-27T08:47:25.633Z"
   },
   {
    "duration": 4,
    "start_time": "2022-02-27T08:47:27.353Z"
   },
   {
    "duration": 6,
    "start_time": "2022-02-27T08:48:52.746Z"
   },
   {
    "duration": 15,
    "start_time": "2022-02-27T08:48:57.442Z"
   },
   {
    "duration": 4,
    "start_time": "2022-02-27T08:49:36.120Z"
   },
   {
    "duration": 8,
    "start_time": "2022-02-27T08:49:37.833Z"
   },
   {
    "duration": 731,
    "start_time": "2022-02-27T08:50:48.514Z"
   },
   {
    "duration": 13,
    "start_time": "2022-02-27T08:50:52.063Z"
   },
   {
    "duration": 5,
    "start_time": "2022-02-27T08:51:30.940Z"
   },
   {
    "duration": 70,
    "start_time": "2022-02-27T08:53:07.029Z"
   },
   {
    "duration": 770,
    "start_time": "2022-02-27T08:53:55.612Z"
   },
   {
    "duration": 4,
    "start_time": "2022-02-27T08:53:57.508Z"
   },
   {
    "duration": 8,
    "start_time": "2022-02-27T08:53:59.044Z"
   },
   {
    "duration": 18,
    "start_time": "2022-02-27T08:54:01.818Z"
   },
   {
    "duration": 13,
    "start_time": "2022-02-27T08:54:44.316Z"
   },
   {
    "duration": 11,
    "start_time": "2022-02-27T08:54:46.147Z"
   },
   {
    "duration": 12,
    "start_time": "2022-02-27T08:55:41.340Z"
   },
   {
    "duration": 9,
    "start_time": "2022-02-27T08:55:43.348Z"
   },
   {
    "duration": 11,
    "start_time": "2022-02-27T09:13:00.818Z"
   },
   {
    "duration": 15,
    "start_time": "2022-02-27T09:13:07.161Z"
   },
   {
    "duration": 218,
    "start_time": "2022-02-27T09:13:20.810Z"
   },
   {
    "duration": 5279,
    "start_time": "2022-02-27T09:13:30.875Z"
   },
   {
    "duration": 18,
    "start_time": "2022-02-27T09:15:40.337Z"
   },
   {
    "duration": 10,
    "start_time": "2022-02-27T09:15:41.986Z"
   },
   {
    "duration": 9,
    "start_time": "2022-02-27T09:15:55.570Z"
   },
   {
    "duration": 13,
    "start_time": "2022-02-27T09:18:11.130Z"
   },
   {
    "duration": 18,
    "start_time": "2022-02-27T09:18:24.201Z"
   },
   {
    "duration": 1071,
    "start_time": "2022-02-27T09:18:33.898Z"
   },
   {
    "duration": 6,
    "start_time": "2022-02-27T09:19:59.307Z"
   },
   {
    "duration": 299,
    "start_time": "2022-02-27T09:21:46.843Z"
   },
   {
    "duration": 239,
    "start_time": "2022-02-27T09:22:06.019Z"
   },
   {
    "duration": 215,
    "start_time": "2022-02-27T09:22:48.603Z"
   },
   {
    "duration": 6177,
    "start_time": "2022-02-27T09:23:00.859Z"
   },
   {
    "duration": 1739,
    "start_time": "2022-02-27T09:24:25.017Z"
   },
   {
    "duration": 18,
    "start_time": "2022-02-27T09:25:16.651Z"
   },
   {
    "duration": 5760,
    "start_time": "2022-02-27T09:25:29.619Z"
   },
   {
    "duration": 752,
    "start_time": "2022-02-27T09:26:04.131Z"
   },
   {
    "duration": 3282,
    "start_time": "2022-02-27T09:26:08.412Z"
   },
   {
    "duration": 18,
    "start_time": "2022-02-27T09:26:34.471Z"
   },
   {
    "duration": 1460,
    "start_time": "2022-02-27T09:27:20.381Z"
   },
   {
    "duration": 39,
    "start_time": "2022-02-27T09:27:21.843Z"
   },
   {
    "duration": 9,
    "start_time": "2022-02-27T09:27:21.884Z"
   },
   {
    "duration": 12,
    "start_time": "2022-02-27T09:27:21.895Z"
   },
   {
    "duration": 16,
    "start_time": "2022-02-27T09:27:21.909Z"
   },
   {
    "duration": 50,
    "start_time": "2022-02-27T09:27:21.927Z"
   },
   {
    "duration": 24,
    "start_time": "2022-02-27T09:27:21.979Z"
   },
   {
    "duration": 14,
    "start_time": "2022-02-27T09:27:22.006Z"
   },
   {
    "duration": 14,
    "start_time": "2022-02-27T09:27:22.023Z"
   },
   {
    "duration": 36,
    "start_time": "2022-02-27T09:27:22.039Z"
   },
   {
    "duration": 4,
    "start_time": "2022-02-27T09:27:22.077Z"
   },
   {
    "duration": 15,
    "start_time": "2022-02-27T09:27:22.083Z"
   },
   {
    "duration": 19,
    "start_time": "2022-02-27T09:27:22.100Z"
   },
   {
    "duration": 11,
    "start_time": "2022-02-27T09:27:22.121Z"
   },
   {
    "duration": 19,
    "start_time": "2022-02-27T09:27:22.134Z"
   },
   {
    "duration": 8,
    "start_time": "2022-02-27T09:27:22.155Z"
   },
   {
    "duration": 327,
    "start_time": "2022-02-27T09:27:22.165Z"
   },
   {
    "duration": 7,
    "start_time": "2022-02-27T09:27:22.494Z"
   },
   {
    "duration": 9,
    "start_time": "2022-02-27T09:27:22.503Z"
   },
   {
    "duration": 9,
    "start_time": "2022-02-27T09:27:22.514Z"
   },
   {
    "duration": 214,
    "start_time": "2022-02-27T09:27:22.525Z"
   },
   {
    "duration": 28,
    "start_time": "2022-02-27T09:27:22.740Z"
   },
   {
    "duration": 463,
    "start_time": "2022-02-27T09:27:22.771Z"
   },
   {
    "duration": 341,
    "start_time": "2022-02-27T09:27:23.237Z"
   },
   {
    "duration": 1069,
    "start_time": "2022-02-27T09:27:23.579Z"
   },
   {
    "duration": 791,
    "start_time": "2022-02-27T09:27:24.650Z"
   },
   {
    "duration": 41,
    "start_time": "2022-02-27T09:27:25.443Z"
   },
   {
    "duration": 12,
    "start_time": "2022-02-27T09:27:25.485Z"
   },
   {
    "duration": 25,
    "start_time": "2022-02-27T09:27:25.499Z"
   },
   {
    "duration": 7,
    "start_time": "2022-02-27T09:27:25.526Z"
   },
   {
    "duration": 371,
    "start_time": "2022-02-27T09:27:25.535Z"
   },
   {
    "duration": 4,
    "start_time": "2022-02-27T09:27:25.908Z"
   },
   {
    "duration": 6,
    "start_time": "2022-02-27T09:27:25.914Z"
   },
   {
    "duration": 10,
    "start_time": "2022-02-27T09:27:25.921Z"
   },
   {
    "duration": 38,
    "start_time": "2022-02-27T09:27:25.933Z"
   },
   {
    "duration": 6,
    "start_time": "2022-02-27T09:27:25.973Z"
   },
   {
    "duration": 9,
    "start_time": "2022-02-27T09:27:25.981Z"
   },
   {
    "duration": 5,
    "start_time": "2022-02-27T09:27:25.992Z"
   },
   {
    "duration": 757,
    "start_time": "2022-02-27T09:27:25.999Z"
   },
   {
    "duration": 4,
    "start_time": "2022-02-27T09:27:26.757Z"
   },
   {
    "duration": 673,
    "start_time": "2022-02-27T09:27:26.763Z"
   },
   {
    "duration": 4,
    "start_time": "2022-02-27T09:27:27.437Z"
   },
   {
    "duration": 14,
    "start_time": "2022-02-27T09:27:27.442Z"
   },
   {
    "duration": 20,
    "start_time": "2022-02-27T09:27:27.458Z"
   },
   {
    "duration": 12,
    "start_time": "2022-02-27T09:27:27.479Z"
   },
   {
    "duration": 10,
    "start_time": "2022-02-27T09:27:27.493Z"
   },
   {
    "duration": 11,
    "start_time": "2022-02-27T09:27:27.505Z"
   },
   {
    "duration": 13,
    "start_time": "2022-02-27T09:27:27.518Z"
   },
   {
    "duration": 571,
    "start_time": "2022-02-27T09:27:27.533Z"
   },
   {
    "duration": 11,
    "start_time": "2022-02-27T09:27:28.106Z"
   },
   {
    "duration": 25,
    "start_time": "2022-02-27T09:27:28.119Z"
   },
   {
    "duration": 21,
    "start_time": "2022-02-27T09:27:28.146Z"
   },
   {
    "duration": 32,
    "start_time": "2022-02-27T09:27:28.169Z"
   },
   {
    "duration": 27,
    "start_time": "2022-02-27T09:27:28.203Z"
   },
   {
    "duration": 40,
    "start_time": "2022-02-27T09:27:28.231Z"
   },
   {
    "duration": 807,
    "start_time": "2022-02-27T09:27:28.273Z"
   },
   {
    "duration": 14,
    "start_time": "2022-02-27T09:27:29.082Z"
   },
   {
    "duration": 23,
    "start_time": "2022-02-27T09:27:29.098Z"
   },
   {
    "duration": 754,
    "start_time": "2022-02-27T09:27:29.122Z"
   },
   {
    "duration": 5592,
    "start_time": "2022-02-27T09:27:29.878Z"
   },
   {
    "duration": 3639,
    "start_time": "2022-02-27T09:27:31.833Z"
   },
   {
    "duration": 217,
    "start_time": "2022-02-27T09:28:55.486Z"
   },
   {
    "duration": 1393,
    "start_time": "2022-02-27T09:30:15.477Z"
   },
   {
    "duration": 711,
    "start_time": "2022-02-27T09:30:54.838Z"
   },
   {
    "duration": 1411,
    "start_time": "2022-02-27T09:30:56.429Z"
   },
   {
    "duration": 22,
    "start_time": "2022-02-27T09:31:34.366Z"
   },
   {
    "duration": 11,
    "start_time": "2022-02-27T09:31:44.270Z"
   },
   {
    "duration": 17,
    "start_time": "2022-02-27T09:31:59.726Z"
   },
   {
    "duration": 2,
    "start_time": "2022-02-27T09:32:36.687Z"
   },
   {
    "duration": 2,
    "start_time": "2022-02-27T09:32:38.702Z"
   },
   {
    "duration": 678,
    "start_time": "2022-02-27T09:32:40.926Z"
   },
   {
    "duration": 6,
    "start_time": "2022-02-27T09:32:42.158Z"
   },
   {
    "duration": 15,
    "start_time": "2022-02-27T09:32:52.062Z"
   },
   {
    "duration": 12,
    "start_time": "2022-02-27T09:33:01.479Z"
   },
   {
    "duration": 4,
    "start_time": "2022-02-27T09:33:11.191Z"
   },
   {
    "duration": 12,
    "start_time": "2022-02-27T09:33:17.422Z"
   },
   {
    "duration": 1891,
    "start_time": "2022-02-27T09:33:28.255Z"
   },
   {
    "duration": 6,
    "start_time": "2022-02-27T09:33:36.959Z"
   },
   {
    "duration": 6,
    "start_time": "2022-02-27T09:33:48.847Z"
   },
   {
    "duration": 2,
    "start_time": "2022-02-27T09:33:58.479Z"
   },
   {
    "duration": 3,
    "start_time": "2022-02-27T09:34:03.807Z"
   },
   {
    "duration": 1124,
    "start_time": "2022-02-27T09:34:09.287Z"
   },
   {
    "duration": 7,
    "start_time": "2022-02-27T09:34:15.127Z"
   },
   {
    "duration": 19,
    "start_time": "2022-02-27T09:34:21.391Z"
   },
   {
    "duration": 6,
    "start_time": "2022-02-27T09:34:32.224Z"
   },
   {
    "duration": 6,
    "start_time": "2022-02-27T09:34:40.847Z"
   },
   {
    "duration": 16,
    "start_time": "2022-02-27T09:34:50.239Z"
   },
   {
    "duration": 7,
    "start_time": "2022-02-27T09:34:58.815Z"
   },
   {
    "duration": 350,
    "start_time": "2022-02-27T09:35:29.672Z"
   },
   {
    "duration": 1473,
    "start_time": "2022-02-27T09:36:31.996Z"
   },
   {
    "duration": 44,
    "start_time": "2022-02-27T09:36:33.471Z"
   },
   {
    "duration": 10,
    "start_time": "2022-02-27T09:36:33.517Z"
   },
   {
    "duration": 14,
    "start_time": "2022-02-27T09:36:33.529Z"
   },
   {
    "duration": 9,
    "start_time": "2022-02-27T09:36:33.544Z"
   },
   {
    "duration": 40,
    "start_time": "2022-02-27T09:36:33.555Z"
   },
   {
    "duration": 25,
    "start_time": "2022-02-27T09:36:33.596Z"
   },
   {
    "duration": 16,
    "start_time": "2022-02-27T09:36:33.623Z"
   },
   {
    "duration": 32,
    "start_time": "2022-02-27T09:36:33.641Z"
   },
   {
    "duration": 15,
    "start_time": "2022-02-27T09:36:33.675Z"
   },
   {
    "duration": 3,
    "start_time": "2022-02-27T09:36:33.692Z"
   },
   {
    "duration": 5,
    "start_time": "2022-02-27T09:36:33.697Z"
   },
   {
    "duration": 11,
    "start_time": "2022-02-27T09:36:33.704Z"
   },
   {
    "duration": 8,
    "start_time": "2022-02-27T09:36:33.717Z"
   },
   {
    "duration": 40,
    "start_time": "2022-02-27T09:36:33.727Z"
   },
   {
    "duration": 4,
    "start_time": "2022-02-27T09:36:33.769Z"
   },
   {
    "duration": 425,
    "start_time": "2022-02-27T09:36:33.775Z"
   },
   {
    "duration": 8,
    "start_time": "2022-02-27T09:36:34.201Z"
   },
   {
    "duration": 11,
    "start_time": "2022-02-27T09:36:34.210Z"
   },
   {
    "duration": 6,
    "start_time": "2022-02-27T09:36:34.223Z"
   },
   {
    "duration": 213,
    "start_time": "2022-02-27T09:36:34.231Z"
   },
   {
    "duration": 28,
    "start_time": "2022-02-27T09:36:34.446Z"
   },
   {
    "duration": 444,
    "start_time": "2022-02-27T09:36:34.479Z"
   },
   {
    "duration": 355,
    "start_time": "2022-02-27T09:36:34.927Z"
   },
   {
    "duration": 1136,
    "start_time": "2022-02-27T09:36:35.284Z"
   },
   {
    "duration": 795,
    "start_time": "2022-02-27T09:36:36.422Z"
   },
   {
    "duration": 26,
    "start_time": "2022-02-27T09:36:37.219Z"
   },
   {
    "duration": 27,
    "start_time": "2022-02-27T09:36:37.247Z"
   },
   {
    "duration": 23,
    "start_time": "2022-02-27T09:36:37.275Z"
   },
   {
    "duration": 7,
    "start_time": "2022-02-27T09:36:37.300Z"
   },
   {
    "duration": 404,
    "start_time": "2022-02-27T09:36:37.309Z"
   },
   {
    "duration": 3,
    "start_time": "2022-02-27T09:36:37.715Z"
   },
   {
    "duration": 12,
    "start_time": "2022-02-27T09:36:37.719Z"
   },
   {
    "duration": 11,
    "start_time": "2022-02-27T09:36:37.733Z"
   },
   {
    "duration": 26,
    "start_time": "2022-02-27T09:36:37.746Z"
   },
   {
    "duration": 12,
    "start_time": "2022-02-27T09:36:37.774Z"
   },
   {
    "duration": 13,
    "start_time": "2022-02-27T09:36:37.788Z"
   },
   {
    "duration": 6,
    "start_time": "2022-02-27T09:36:37.803Z"
   },
   {
    "duration": 871,
    "start_time": "2022-02-27T09:36:37.812Z"
   },
   {
    "duration": 4,
    "start_time": "2022-02-27T09:36:38.685Z"
   },
   {
    "duration": 731,
    "start_time": "2022-02-27T09:36:38.691Z"
   },
   {
    "duration": 4,
    "start_time": "2022-02-27T09:36:39.423Z"
   },
   {
    "duration": 12,
    "start_time": "2022-02-27T09:36:39.429Z"
   },
   {
    "duration": 38,
    "start_time": "2022-02-27T09:36:39.443Z"
   },
   {
    "duration": 12,
    "start_time": "2022-02-27T09:36:39.483Z"
   },
   {
    "duration": 10,
    "start_time": "2022-02-27T09:36:39.497Z"
   },
   {
    "duration": 11,
    "start_time": "2022-02-27T09:36:39.509Z"
   },
   {
    "duration": 13,
    "start_time": "2022-02-27T09:36:39.521Z"
   },
   {
    "duration": 630,
    "start_time": "2022-02-27T09:36:39.536Z"
   },
   {
    "duration": 30,
    "start_time": "2022-02-27T09:36:40.168Z"
   },
   {
    "duration": 12,
    "start_time": "2022-02-27T09:36:40.200Z"
   },
   {
    "duration": 22,
    "start_time": "2022-02-27T09:36:40.214Z"
   },
   {
    "duration": 730,
    "start_time": "2022-02-27T09:36:40.238Z"
   },
   {
    "duration": 6,
    "start_time": "2022-02-27T09:36:40.970Z"
   },
   {
    "duration": 13,
    "start_time": "2022-02-27T09:36:40.979Z"
   },
   {
    "duration": 7,
    "start_time": "2022-02-27T09:36:40.994Z"
   },
   {
    "duration": 18,
    "start_time": "2022-02-27T09:36:41.003Z"
   },
   {
    "duration": 2177,
    "start_time": "2022-02-27T09:36:41.023Z"
   },
   {
    "duration": 8,
    "start_time": "2022-02-27T09:36:43.202Z"
   },
   {
    "duration": 11,
    "start_time": "2022-02-27T09:36:43.212Z"
   },
   {
    "duration": 16,
    "start_time": "2022-02-27T09:36:43.224Z"
   },
   {
    "duration": 6,
    "start_time": "2022-02-27T09:36:43.241Z"
   },
   {
    "duration": 1050,
    "start_time": "2022-02-27T09:36:43.249Z"
   },
   {
    "duration": 5,
    "start_time": "2022-02-27T09:36:44.301Z"
   },
   {
    "duration": 22,
    "start_time": "2022-02-27T09:36:44.307Z"
   },
   {
    "duration": 9,
    "start_time": "2022-02-27T09:36:44.330Z"
   },
   {
    "duration": 10,
    "start_time": "2022-02-27T09:36:44.340Z"
   },
   {
    "duration": 14,
    "start_time": "2022-02-27T09:36:44.355Z"
   },
   {
    "duration": 10,
    "start_time": "2022-02-27T09:36:44.371Z"
   },
   {
    "duration": 368,
    "start_time": "2022-02-27T09:36:44.383Z"
   },
   {
    "duration": 1508,
    "start_time": "2022-02-27T09:51:30.777Z"
   },
   {
    "duration": 44,
    "start_time": "2022-02-27T09:51:32.287Z"
   },
   {
    "duration": 10,
    "start_time": "2022-02-27T09:51:32.334Z"
   },
   {
    "duration": 15,
    "start_time": "2022-02-27T09:51:32.346Z"
   },
   {
    "duration": 10,
    "start_time": "2022-02-27T09:51:32.363Z"
   },
   {
    "duration": 58,
    "start_time": "2022-02-27T09:51:32.375Z"
   },
   {
    "duration": 25,
    "start_time": "2022-02-27T09:51:32.434Z"
   },
   {
    "duration": 16,
    "start_time": "2022-02-27T09:51:32.460Z"
   },
   {
    "duration": 15,
    "start_time": "2022-02-27T09:51:32.479Z"
   },
   {
    "duration": 31,
    "start_time": "2022-02-27T09:51:32.497Z"
   },
   {
    "duration": 4,
    "start_time": "2022-02-27T09:51:32.530Z"
   },
   {
    "duration": 8,
    "start_time": "2022-02-27T09:51:32.536Z"
   },
   {
    "duration": 20,
    "start_time": "2022-02-27T09:51:32.546Z"
   },
   {
    "duration": 14,
    "start_time": "2022-02-27T09:51:32.568Z"
   },
   {
    "duration": 17,
    "start_time": "2022-02-27T09:51:32.584Z"
   },
   {
    "duration": 12,
    "start_time": "2022-02-27T09:51:32.603Z"
   },
   {
    "duration": 329,
    "start_time": "2022-02-27T09:51:32.617Z"
   },
   {
    "duration": 17,
    "start_time": "2022-02-27T09:51:32.948Z"
   },
   {
    "duration": 10,
    "start_time": "2022-02-27T09:51:32.967Z"
   },
   {
    "duration": 7,
    "start_time": "2022-02-27T09:51:32.978Z"
   },
   {
    "duration": 208,
    "start_time": "2022-02-27T09:51:32.986Z"
   },
   {
    "duration": 18,
    "start_time": "2022-02-27T09:51:33.195Z"
   },
   {
    "duration": 462,
    "start_time": "2022-02-27T09:51:33.214Z"
   },
   {
    "duration": 345,
    "start_time": "2022-02-27T09:51:33.678Z"
   },
   {
    "duration": 1303,
    "start_time": "2022-02-27T09:51:34.025Z"
   },
   {
    "duration": 784,
    "start_time": "2022-02-27T09:51:35.330Z"
   },
   {
    "duration": 26,
    "start_time": "2022-02-27T09:51:36.118Z"
   },
   {
    "duration": 23,
    "start_time": "2022-02-27T09:51:36.146Z"
   },
   {
    "duration": 25,
    "start_time": "2022-02-27T09:51:36.171Z"
   },
   {
    "duration": 7,
    "start_time": "2022-02-27T09:51:36.197Z"
   },
   {
    "duration": 390,
    "start_time": "2022-02-27T09:51:36.206Z"
   },
   {
    "duration": 3,
    "start_time": "2022-02-27T09:51:36.599Z"
   },
   {
    "duration": 5,
    "start_time": "2022-02-27T09:51:36.604Z"
   },
   {
    "duration": 8,
    "start_time": "2022-02-27T09:51:36.611Z"
   },
   {
    "duration": 16,
    "start_time": "2022-02-27T09:51:36.621Z"
   },
   {
    "duration": 27,
    "start_time": "2022-02-27T09:51:36.638Z"
   },
   {
    "duration": 9,
    "start_time": "2022-02-27T09:51:36.667Z"
   },
   {
    "duration": 6,
    "start_time": "2022-02-27T09:51:36.678Z"
   },
   {
    "duration": 742,
    "start_time": "2022-02-27T09:51:36.685Z"
   },
   {
    "duration": 4,
    "start_time": "2022-02-27T09:51:37.429Z"
   },
   {
    "duration": 667,
    "start_time": "2022-02-27T09:51:37.435Z"
   },
   {
    "duration": 3,
    "start_time": "2022-02-27T09:51:38.104Z"
   },
   {
    "duration": 14,
    "start_time": "2022-02-27T09:51:38.109Z"
   },
   {
    "duration": 17,
    "start_time": "2022-02-27T09:51:38.125Z"
   },
   {
    "duration": 12,
    "start_time": "2022-02-27T09:51:38.143Z"
   },
   {
    "duration": 10,
    "start_time": "2022-02-27T09:51:38.157Z"
   },
   {
    "duration": 12,
    "start_time": "2022-02-27T09:51:38.168Z"
   },
   {
    "duration": 17,
    "start_time": "2022-02-27T09:51:38.182Z"
   },
   {
    "duration": 685,
    "start_time": "2022-02-27T09:51:38.201Z"
   },
   {
    "duration": 24,
    "start_time": "2022-02-27T09:51:38.888Z"
   },
   {
    "duration": 12,
    "start_time": "2022-02-27T09:51:38.914Z"
   },
   {
    "duration": 44,
    "start_time": "2022-02-27T09:51:38.928Z"
   },
   {
    "duration": 912,
    "start_time": "2022-02-27T09:51:38.974Z"
   },
   {
    "duration": 2,
    "start_time": "2022-02-27T09:51:39.888Z"
   },
   {
    "duration": 11,
    "start_time": "2022-02-27T09:51:39.892Z"
   },
   {
    "duration": 6,
    "start_time": "2022-02-27T09:51:39.905Z"
   },
   {
    "duration": 4,
    "start_time": "2022-02-27T09:51:39.913Z"
   },
   {
    "duration": 6,
    "start_time": "2022-02-27T09:51:39.919Z"
   },
   {
    "duration": 7,
    "start_time": "2022-02-27T09:51:39.927Z"
   },
   {
    "duration": 1057,
    "start_time": "2022-02-27T09:51:39.936Z"
   },
   {
    "duration": -38,
    "start_time": "2022-02-27T09:51:41.033Z"
   },
   {
    "duration": -40,
    "start_time": "2022-02-27T09:51:41.036Z"
   },
   {
    "duration": -41,
    "start_time": "2022-02-27T09:51:41.038Z"
   },
   {
    "duration": -41,
    "start_time": "2022-02-27T09:51:41.039Z"
   },
   {
    "duration": -42,
    "start_time": "2022-02-27T09:51:41.041Z"
   },
   {
    "duration": -43,
    "start_time": "2022-02-27T09:51:41.043Z"
   },
   {
    "duration": -43,
    "start_time": "2022-02-27T09:51:41.044Z"
   },
   {
    "duration": -44,
    "start_time": "2022-02-27T09:51:41.046Z"
   },
   {
    "duration": -45,
    "start_time": "2022-02-27T09:51:41.048Z"
   },
   {
    "duration": -45,
    "start_time": "2022-02-27T09:51:41.049Z"
   },
   {
    "duration": 1528,
    "start_time": "2022-02-27T09:52:16.744Z"
   },
   {
    "duration": 38,
    "start_time": "2022-02-27T09:52:18.275Z"
   },
   {
    "duration": 8,
    "start_time": "2022-02-27T09:52:18.315Z"
   },
   {
    "duration": 14,
    "start_time": "2022-02-27T09:52:18.325Z"
   },
   {
    "duration": 7,
    "start_time": "2022-02-27T09:52:18.341Z"
   },
   {
    "duration": 42,
    "start_time": "2022-02-27T09:52:18.350Z"
   },
   {
    "duration": 21,
    "start_time": "2022-02-27T09:52:18.394Z"
   },
   {
    "duration": 14,
    "start_time": "2022-02-27T09:52:18.417Z"
   },
   {
    "duration": 39,
    "start_time": "2022-02-27T09:52:18.434Z"
   },
   {
    "duration": 13,
    "start_time": "2022-02-27T09:52:18.476Z"
   },
   {
    "duration": 4,
    "start_time": "2022-02-27T09:52:18.491Z"
   },
   {
    "duration": 7,
    "start_time": "2022-02-27T09:52:18.496Z"
   },
   {
    "duration": 13,
    "start_time": "2022-02-27T09:52:18.505Z"
   },
   {
    "duration": 7,
    "start_time": "2022-02-27T09:52:18.520Z"
   },
   {
    "duration": 8,
    "start_time": "2022-02-27T09:52:18.529Z"
   },
   {
    "duration": 24,
    "start_time": "2022-02-27T09:52:18.539Z"
   },
   {
    "duration": 327,
    "start_time": "2022-02-27T09:52:18.565Z"
   },
   {
    "duration": 7,
    "start_time": "2022-02-27T09:52:18.893Z"
   },
   {
    "duration": 18,
    "start_time": "2022-02-27T09:52:18.902Z"
   },
   {
    "duration": 14,
    "start_time": "2022-02-27T09:52:18.922Z"
   },
   {
    "duration": 193,
    "start_time": "2022-02-27T09:52:18.938Z"
   },
   {
    "duration": 18,
    "start_time": "2022-02-27T09:52:19.133Z"
   },
   {
    "duration": 432,
    "start_time": "2022-02-27T09:52:19.152Z"
   },
   {
    "duration": 351,
    "start_time": "2022-02-27T09:52:19.586Z"
   },
   {
    "duration": 1082,
    "start_time": "2022-02-27T09:52:19.939Z"
   },
   {
    "duration": 768,
    "start_time": "2022-02-27T09:52:21.023Z"
   },
   {
    "duration": 28,
    "start_time": "2022-02-27T09:52:21.796Z"
   },
   {
    "duration": 12,
    "start_time": "2022-02-27T09:52:21.827Z"
   },
   {
    "duration": 36,
    "start_time": "2022-02-27T09:52:21.841Z"
   },
   {
    "duration": 7,
    "start_time": "2022-02-27T09:52:21.879Z"
   },
   {
    "duration": 391,
    "start_time": "2022-02-27T09:52:21.888Z"
   },
   {
    "duration": 3,
    "start_time": "2022-02-27T09:52:22.280Z"
   },
   {
    "duration": 9,
    "start_time": "2022-02-27T09:52:22.285Z"
   },
   {
    "duration": 10,
    "start_time": "2022-02-27T09:52:22.295Z"
   },
   {
    "duration": 19,
    "start_time": "2022-02-27T09:52:22.306Z"
   },
   {
    "duration": 10,
    "start_time": "2022-02-27T09:52:22.326Z"
   },
   {
    "duration": 29,
    "start_time": "2022-02-27T09:52:22.338Z"
   },
   {
    "duration": 6,
    "start_time": "2022-02-27T09:52:22.369Z"
   },
   {
    "duration": 704,
    "start_time": "2022-02-27T09:52:22.376Z"
   },
   {
    "duration": 5,
    "start_time": "2022-02-27T09:52:23.083Z"
   },
   {
    "duration": 723,
    "start_time": "2022-02-27T09:52:23.090Z"
   },
   {
    "duration": 3,
    "start_time": "2022-02-27T09:52:23.815Z"
   },
   {
    "duration": 12,
    "start_time": "2022-02-27T09:52:23.820Z"
   },
   {
    "duration": 18,
    "start_time": "2022-02-27T09:52:23.834Z"
   },
   {
    "duration": 12,
    "start_time": "2022-02-27T09:52:23.854Z"
   },
   {
    "duration": 10,
    "start_time": "2022-02-27T09:52:23.868Z"
   },
   {
    "duration": 18,
    "start_time": "2022-02-27T09:52:23.880Z"
   },
   {
    "duration": 38,
    "start_time": "2022-02-27T09:52:23.899Z"
   },
   {
    "duration": 635,
    "start_time": "2022-02-27T09:52:23.939Z"
   },
   {
    "duration": 23,
    "start_time": "2022-02-27T09:52:24.576Z"
   },
   {
    "duration": 11,
    "start_time": "2022-02-27T09:52:24.601Z"
   },
   {
    "duration": 34,
    "start_time": "2022-02-27T09:52:24.613Z"
   },
   {
    "duration": 785,
    "start_time": "2022-02-27T09:52:24.649Z"
   },
   {
    "duration": 3,
    "start_time": "2022-02-27T09:52:25.436Z"
   },
   {
    "duration": 11,
    "start_time": "2022-02-27T09:52:25.440Z"
   },
   {
    "duration": 4,
    "start_time": "2022-02-27T09:52:25.452Z"
   },
   {
    "duration": 9,
    "start_time": "2022-02-27T09:52:25.458Z"
   },
   {
    "duration": 6,
    "start_time": "2022-02-27T09:52:25.468Z"
   },
   {
    "duration": 4,
    "start_time": "2022-02-27T09:52:25.476Z"
   },
   {
    "duration": 4,
    "start_time": "2022-02-27T09:52:25.482Z"
   },
   {
    "duration": 11,
    "start_time": "2022-02-27T09:52:25.487Z"
   },
   {
    "duration": 6,
    "start_time": "2022-02-27T09:52:25.499Z"
   },
   {
    "duration": 847,
    "start_time": "2022-02-27T09:52:25.506Z"
   },
   {
    "duration": 2,
    "start_time": "2022-02-27T09:52:26.355Z"
   },
   {
    "duration": 7,
    "start_time": "2022-02-27T09:52:26.359Z"
   },
   {
    "duration": 7,
    "start_time": "2022-02-27T09:52:26.368Z"
   },
   {
    "duration": 6,
    "start_time": "2022-02-27T09:52:26.377Z"
   },
   {
    "duration": 18,
    "start_time": "2022-02-27T09:52:26.384Z"
   },
   {
    "duration": 13,
    "start_time": "2022-02-27T09:52:26.403Z"
   },
   {
    "duration": 356,
    "start_time": "2022-02-27T09:52:26.418Z"
   },
   {
    "duration": 1488,
    "start_time": "2022-02-27T09:53:52.073Z"
   },
   {
    "duration": 44,
    "start_time": "2022-02-27T09:53:53.563Z"
   },
   {
    "duration": 10,
    "start_time": "2022-02-27T09:53:53.609Z"
   },
   {
    "duration": 14,
    "start_time": "2022-02-27T09:53:53.621Z"
   },
   {
    "duration": 13,
    "start_time": "2022-02-27T09:53:53.637Z"
   },
   {
    "duration": 38,
    "start_time": "2022-02-27T09:53:53.652Z"
   },
   {
    "duration": 29,
    "start_time": "2022-02-27T09:53:53.692Z"
   },
   {
    "duration": 15,
    "start_time": "2022-02-27T09:53:53.723Z"
   },
   {
    "duration": 35,
    "start_time": "2022-02-27T09:53:53.740Z"
   },
   {
    "duration": 14,
    "start_time": "2022-02-27T09:53:53.778Z"
   },
   {
    "duration": 4,
    "start_time": "2022-02-27T09:53:53.794Z"
   },
   {
    "duration": 7,
    "start_time": "2022-02-27T09:53:53.800Z"
   },
   {
    "duration": 12,
    "start_time": "2022-02-27T09:53:53.809Z"
   },
   {
    "duration": 9,
    "start_time": "2022-02-27T09:53:53.822Z"
   },
   {
    "duration": 34,
    "start_time": "2022-02-27T09:53:53.833Z"
   },
   {
    "duration": 6,
    "start_time": "2022-02-27T09:53:53.868Z"
   },
   {
    "duration": 372,
    "start_time": "2022-02-27T09:53:53.876Z"
   },
   {
    "duration": 14,
    "start_time": "2022-02-27T09:53:54.250Z"
   },
   {
    "duration": 9,
    "start_time": "2022-02-27T09:53:54.266Z"
   },
   {
    "duration": 7,
    "start_time": "2022-02-27T09:53:54.277Z"
   },
   {
    "duration": 206,
    "start_time": "2022-02-27T09:53:54.285Z"
   },
   {
    "duration": 18,
    "start_time": "2022-02-27T09:53:54.493Z"
   },
   {
    "duration": 459,
    "start_time": "2022-02-27T09:53:54.513Z"
   },
   {
    "duration": 363,
    "start_time": "2022-02-27T09:53:54.975Z"
   },
   {
    "duration": 1297,
    "start_time": "2022-02-27T09:53:55.340Z"
   },
   {
    "duration": 804,
    "start_time": "2022-02-27T09:53:56.639Z"
   },
   {
    "duration": 36,
    "start_time": "2022-02-27T09:53:57.447Z"
   },
   {
    "duration": 12,
    "start_time": "2022-02-27T09:53:57.485Z"
   },
   {
    "duration": 26,
    "start_time": "2022-02-27T09:53:57.499Z"
   },
   {
    "duration": 7,
    "start_time": "2022-02-27T09:53:57.526Z"
   },
   {
    "duration": 368,
    "start_time": "2022-02-27T09:53:57.535Z"
   },
   {
    "duration": 2,
    "start_time": "2022-02-27T09:53:57.905Z"
   },
   {
    "duration": 11,
    "start_time": "2022-02-27T09:53:57.909Z"
   },
   {
    "duration": 16,
    "start_time": "2022-02-27T09:53:57.922Z"
   },
   {
    "duration": 17,
    "start_time": "2022-02-27T09:53:57.940Z"
   },
   {
    "duration": 7,
    "start_time": "2022-02-27T09:53:57.958Z"
   },
   {
    "duration": 15,
    "start_time": "2022-02-27T09:53:57.966Z"
   },
   {
    "duration": 6,
    "start_time": "2022-02-27T09:53:57.982Z"
   },
   {
    "duration": 686,
    "start_time": "2022-02-27T09:53:57.990Z"
   },
   {
    "duration": 4,
    "start_time": "2022-02-27T09:53:58.678Z"
   },
   {
    "duration": 1199,
    "start_time": "2022-02-27T09:53:58.684Z"
   },
   {
    "duration": 3,
    "start_time": "2022-02-27T09:53:59.885Z"
   },
   {
    "duration": 19,
    "start_time": "2022-02-27T09:53:59.890Z"
   },
   {
    "duration": 16,
    "start_time": "2022-02-27T09:53:59.911Z"
   },
   {
    "duration": 12,
    "start_time": "2022-02-27T09:53:59.928Z"
   },
   {
    "duration": 10,
    "start_time": "2022-02-27T09:53:59.941Z"
   },
   {
    "duration": 15,
    "start_time": "2022-02-27T09:53:59.952Z"
   },
   {
    "duration": 9,
    "start_time": "2022-02-27T09:53:59.969Z"
   },
   {
    "duration": 572,
    "start_time": "2022-02-27T09:53:59.980Z"
   },
   {
    "duration": 26,
    "start_time": "2022-02-27T09:54:00.554Z"
   },
   {
    "duration": 11,
    "start_time": "2022-02-27T09:54:00.582Z"
   },
   {
    "duration": 25,
    "start_time": "2022-02-27T09:54:00.594Z"
   },
   {
    "duration": 700,
    "start_time": "2022-02-27T09:54:00.621Z"
   },
   {
    "duration": 825,
    "start_time": "2022-02-27T09:54:01.323Z"
   },
   {
    "duration": 6,
    "start_time": "2022-02-27T09:54:02.149Z"
   },
   {
    "duration": 32,
    "start_time": "2022-02-27T09:54:02.156Z"
   },
   {
    "duration": 21,
    "start_time": "2022-02-27T09:54:02.190Z"
   },
   {
    "duration": 375,
    "start_time": "2022-02-27T09:54:02.213Z"
   },
   {
    "duration": 346,
    "start_time": "2022-02-27T09:54:49.917Z"
   },
   {
    "duration": 400,
    "start_time": "2022-02-27T09:54:56.182Z"
   },
   {
    "duration": 4,
    "start_time": "2022-02-27T09:55:24.430Z"
   },
   {
    "duration": 351,
    "start_time": "2022-02-27T09:55:26.413Z"
   },
   {
    "duration": 5,
    "start_time": "2022-02-27T09:56:08.494Z"
   },
   {
    "duration": 399,
    "start_time": "2022-02-27T09:56:09.870Z"
   },
   {
    "duration": 5,
    "start_time": "2022-02-27T09:57:39.566Z"
   },
   {
    "duration": 3,
    "start_time": "2022-02-27T09:57:52.120Z"
   },
   {
    "duration": 511,
    "start_time": "2022-02-27T09:58:05.326Z"
   },
   {
    "duration": 724,
    "start_time": "2022-02-27T09:58:11.150Z"
   },
   {
    "duration": 3,
    "start_time": "2022-02-27T09:58:31.144Z"
   },
   {
    "duration": 1621,
    "start_time": "2022-02-27T09:58:37.800Z"
   },
   {
    "duration": 41,
    "start_time": "2022-02-27T09:58:39.423Z"
   },
   {
    "duration": 10,
    "start_time": "2022-02-27T09:58:39.469Z"
   },
   {
    "duration": 15,
    "start_time": "2022-02-27T09:58:39.481Z"
   },
   {
    "duration": 10,
    "start_time": "2022-02-27T09:58:39.498Z"
   },
   {
    "duration": 55,
    "start_time": "2022-02-27T09:58:39.510Z"
   },
   {
    "duration": 24,
    "start_time": "2022-02-27T09:58:39.568Z"
   },
   {
    "duration": 15,
    "start_time": "2022-02-27T09:58:39.594Z"
   },
   {
    "duration": 16,
    "start_time": "2022-02-27T09:58:39.611Z"
   },
   {
    "duration": 45,
    "start_time": "2022-02-27T09:58:39.629Z"
   },
   {
    "duration": 4,
    "start_time": "2022-02-27T09:58:39.676Z"
   },
   {
    "duration": 19,
    "start_time": "2022-02-27T09:58:39.683Z"
   },
   {
    "duration": 14,
    "start_time": "2022-02-27T09:58:39.704Z"
   },
   {
    "duration": 9,
    "start_time": "2022-02-27T09:58:39.721Z"
   },
   {
    "duration": 9,
    "start_time": "2022-02-27T09:58:39.732Z"
   },
   {
    "duration": 20,
    "start_time": "2022-02-27T09:58:39.743Z"
   },
   {
    "duration": 326,
    "start_time": "2022-02-27T09:58:39.765Z"
   },
   {
    "duration": 7,
    "start_time": "2022-02-27T09:58:40.093Z"
   },
   {
    "duration": 11,
    "start_time": "2022-02-27T09:58:40.102Z"
   },
   {
    "duration": 8,
    "start_time": "2022-02-27T09:58:40.115Z"
   },
   {
    "duration": 219,
    "start_time": "2022-02-27T09:58:40.125Z"
   },
   {
    "duration": 24,
    "start_time": "2022-02-27T09:58:40.348Z"
   },
   {
    "duration": 461,
    "start_time": "2022-02-27T09:58:40.375Z"
   },
   {
    "duration": 327,
    "start_time": "2022-02-27T09:58:40.838Z"
   },
   {
    "duration": 1065,
    "start_time": "2022-02-27T09:58:41.167Z"
   },
   {
    "duration": 791,
    "start_time": "2022-02-27T09:58:42.235Z"
   },
   {
    "duration": 43,
    "start_time": "2022-02-27T09:58:43.028Z"
   },
   {
    "duration": 13,
    "start_time": "2022-02-27T09:58:43.072Z"
   },
   {
    "duration": 30,
    "start_time": "2022-02-27T09:58:43.087Z"
   },
   {
    "duration": 7,
    "start_time": "2022-02-27T09:58:43.119Z"
   },
   {
    "duration": 385,
    "start_time": "2022-02-27T09:58:43.127Z"
   },
   {
    "duration": 3,
    "start_time": "2022-02-27T09:58:43.514Z"
   },
   {
    "duration": 7,
    "start_time": "2022-02-27T09:58:43.518Z"
   },
   {
    "duration": 7,
    "start_time": "2022-02-27T09:58:43.527Z"
   },
   {
    "duration": 32,
    "start_time": "2022-02-27T09:58:43.535Z"
   },
   {
    "duration": 9,
    "start_time": "2022-02-27T09:58:43.569Z"
   },
   {
    "duration": 11,
    "start_time": "2022-02-27T09:58:43.580Z"
   },
   {
    "duration": 5,
    "start_time": "2022-02-27T09:58:43.592Z"
   },
   {
    "duration": 701,
    "start_time": "2022-02-27T09:58:43.599Z"
   },
   {
    "duration": 4,
    "start_time": "2022-02-27T09:58:44.301Z"
   },
   {
    "duration": 633,
    "start_time": "2022-02-27T09:58:44.307Z"
   },
   {
    "duration": 4,
    "start_time": "2022-02-27T09:58:44.941Z"
   },
   {
    "duration": 40,
    "start_time": "2022-02-27T09:58:44.946Z"
   },
   {
    "duration": 44,
    "start_time": "2022-02-27T09:58:44.988Z"
   },
   {
    "duration": 22,
    "start_time": "2022-02-27T09:58:45.034Z"
   },
   {
    "duration": 14,
    "start_time": "2022-02-27T09:58:45.058Z"
   },
   {
    "duration": 14,
    "start_time": "2022-02-27T09:58:45.073Z"
   },
   {
    "duration": 15,
    "start_time": "2022-02-27T09:58:45.089Z"
   },
   {
    "duration": 565,
    "start_time": "2022-02-27T09:58:45.105Z"
   },
   {
    "duration": 23,
    "start_time": "2022-02-27T09:58:45.671Z"
   },
   {
    "duration": 12,
    "start_time": "2022-02-27T09:58:45.695Z"
   },
   {
    "duration": 17,
    "start_time": "2022-02-27T09:58:45.710Z"
   },
   {
    "duration": 1021,
    "start_time": "2022-02-27T09:58:45.729Z"
   },
   {
    "duration": 768,
    "start_time": "2022-02-27T09:58:46.752Z"
   },
   {
    "duration": 5,
    "start_time": "2022-02-27T09:58:47.522Z"
   },
   {
    "duration": 17,
    "start_time": "2022-02-27T09:58:47.528Z"
   },
   {
    "duration": 7,
    "start_time": "2022-02-27T09:58:47.547Z"
   },
   {
    "duration": 350,
    "start_time": "2022-02-27T09:58:47.556Z"
   },
   {
    "duration": 4,
    "start_time": "2022-02-27T09:58:47.908Z"
   },
   {
    "duration": 27,
    "start_time": "2022-02-27T09:58:47.913Z"
   },
   {
    "duration": 749,
    "start_time": "2022-02-27T09:58:47.941Z"
   },
   {
    "duration": 3,
    "start_time": "2022-02-27T10:00:52.759Z"
   },
   {
    "duration": 3,
    "start_time": "2022-02-27T10:00:54.182Z"
   },
   {
    "duration": 623,
    "start_time": "2022-02-27T10:00:55.327Z"
   },
   {
    "duration": 16,
    "start_time": "2022-02-27T10:01:55.223Z"
   },
   {
    "duration": 17,
    "start_time": "2022-02-27T10:01:58.279Z"
   },
   {
    "duration": 10,
    "start_time": "2022-02-27T10:02:02.343Z"
   },
   {
    "duration": 3,
    "start_time": "2022-02-27T10:05:59.992Z"
   },
   {
    "duration": 12,
    "start_time": "2022-02-27T10:06:03.304Z"
   },
   {
    "duration": 6,
    "start_time": "2022-02-27T10:06:29.337Z"
   },
   {
    "duration": 16,
    "start_time": "2022-02-27T10:06:30.841Z"
   },
   {
    "duration": 703,
    "start_time": "2022-02-27T10:06:46.810Z"
   },
   {
    "duration": 80,
    "start_time": "2022-02-27T10:07:19.512Z"
   },
   {
    "duration": 6,
    "start_time": "2022-02-27T10:07:28.425Z"
   },
   {
    "duration": 11,
    "start_time": "2022-02-27T10:08:04.250Z"
   },
   {
    "duration": 7,
    "start_time": "2022-02-27T10:08:05.568Z"
   },
   {
    "duration": 3,
    "start_time": "2022-02-27T10:08:42.898Z"
   },
   {
    "duration": 7,
    "start_time": "2022-02-27T10:08:48.857Z"
   },
   {
    "duration": 11,
    "start_time": "2022-02-27T10:09:04.730Z"
   },
   {
    "duration": 3,
    "start_time": "2022-02-27T10:09:05.970Z"
   },
   {
    "duration": 8,
    "start_time": "2022-02-27T10:09:06.993Z"
   },
   {
    "duration": 346,
    "start_time": "2022-02-27T10:09:09.049Z"
   },
   {
    "duration": 4,
    "start_time": "2022-02-27T10:10:10.137Z"
   },
   {
    "duration": 3,
    "start_time": "2022-02-27T10:10:12.297Z"
   },
   {
    "duration": 612,
    "start_time": "2022-02-27T10:10:13.754Z"
   },
   {
    "duration": 762,
    "start_time": "2022-02-27T10:12:04.803Z"
   },
   {
    "duration": 538,
    "start_time": "2022-02-27T10:12:17.443Z"
   },
   {
    "duration": 461,
    "start_time": "2022-02-27T10:12:24.442Z"
   },
   {
    "duration": 448,
    "start_time": "2022-02-27T10:12:34.330Z"
   },
   {
    "duration": 467,
    "start_time": "2022-02-27T10:12:40.626Z"
   }
  ],
  "celltoolbar": "Необработанный формат ячейки",
  "kernelspec": {
   "display_name": "Python 3 (ipykernel)",
   "language": "python",
   "name": "python3"
  },
  "language_info": {
   "codemirror_mode": {
    "name": "ipython",
    "version": 3
   },
   "file_extension": ".py",
   "mimetype": "text/x-python",
   "name": "python",
   "nbconvert_exporter": "python",
   "pygments_lexer": "ipython3",
   "version": "3.9.7"
  },
  "toc": {
   "base_numbering": 1,
   "nav_menu": {},
   "number_sections": true,
   "sideBar": true,
   "skip_h1_title": true,
   "title_cell": "Table of Contents",
   "title_sidebar": "Contents",
   "toc_cell": false,
   "toc_position": {},
   "toc_section_display": true,
   "toc_window_display": false
  }
 },
 "nbformat": 4,
 "nbformat_minor": 2
}
