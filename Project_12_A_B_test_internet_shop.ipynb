{
 "cells": [
  {
   "cell_type": "markdown",
   "metadata": {},
   "source": [
    "# Принятие решений в бизнесе"
   ]
  },
  {
   "cell_type": "markdown",
   "metadata": {},
   "source": [
    "**Описание проекта**\n",
    "\n",
    "Мы выступаем в качестве аналитика крупного интернет-магазина. Вместе с отделом маркетинга мы подготовили список гипотез для увеличения выручки"
   ]
  },
  {
   "cell_type": "markdown",
   "metadata": {},
   "source": [
    "**Описание данных. Часть 1**\n",
    "\n",
    "В файле \"/datasets/hypothesis.csv\" 9 гипотез по увеличению выручки интернет-магазина с указанными параметрами Reach, Impact, Confidence, Effort.\n",
    "\n",
    "**Задача**\n",
    "\n",
    "Применим фреймворк ICE для приоритизации гипотез. Отсортируем их по убыванию приоритета.\n",
    "Применим фреймворк RICE для приоритизации гипотез. Отсортируем их по убыванию приоритета.\n",
    "Укажим, как изменилась приоритизация гипотез при применении RICE вместо ICE. Объясним, почему так произошло.\n",
    "\n",
    "**Описание данных. Часть 2**\n",
    "\n",
    "Провели A/B-тест и получили результаты, которые описаны в файлах \"/datasets/orders.csv\" и \"/datasets/visitors.csv\".\n",
    "\n",
    "**Задача**\n",
    "\n",
    "Проанализировать A/B-тест:\n",
    "\n",
    "Построить график кумулятивной выручки по группам. Сделаем выводы и предположения.\n",
    "\n",
    "Построить график кумулятивного среднего чека по группам. Сделаем выводы и предположения.\n",
    "\n",
    "Построить график относительного изменения кумулятивного среднего чека группы B к группе A. Сделаем выводы и предположения.\n",
    "\n",
    "Построить график кумулятивного среднего количества заказов по группам. Сделаем выводы и предположения.\n",
    "\n",
    "Построить график относительного изменения кумулятивного среднего количества заказов группы B к группе A. Сделаем выводы и предположения.\n",
    "\n",
    "Построить точечный график количества заказов по пользователям. Сделаем выводы и предположения.\n",
    "\n",
    "Посчитать 95-й и 99-й перцентили количества заказов на пользователя. Выберем границу для определения аномальных пользователей.\n",
    "\n",
    "Построить точечный график стоимостей заказов. Сделаем выводы и предположения.\n",
    "\n",
    "Посчитать 95-й и 99-й перцентили стоимости заказов. Выберем границу для определения аномальных заказов.\n",
    "\n",
    "Посчитать статистическую значимость различий в среднем количестве заказов между группами по «сырым» данным. Сделаем выводы и предположения.\n",
    "\n",
    "Посчитать статистическую значимость различий в среднем чеке заказа между группами по «сырым» данным. Сделаем выводы и предположения.\n",
    "\n",
    "Посчитать статистическую значимость различий в среднем количестве заказов между группами по «очищенным» данным. Сделаем выводы и предположения.\n",
    "\n",
    "Посчитать статистическую значимость различий в среднем чеке заказа между группами по «очищенным» данным. Сделаем выводы и предположения.\n",
    "\n",
    "**Примем решение по результатам теста и объясним его**\n",
    "\n",
    "Варианты решений: \n",
    "1. Остановить тест, зафиксировать победу одной из групп. \n",
    "2. Остановить тест, зафиксировать отсутствие различий между группами. \n",
    "3. Продолжить тест."
   ]
  },
  {
   "cell_type": "markdown",
   "metadata": {},
   "source": [
    "**Импортируем библиотеки для дальнейшей работы**"
   ]
  },
  {
   "cell_type": "code",
   "execution_count": null,
   "metadata": {},
   "outputs": [],
   "source": [
    "import pandas as pd\n",
    "from matplotlib import pyplot as plt\n",
    "from IPython.display import display\n",
    "import seaborn as sns\n",
    "import datetime as dt\n",
    "import numpy as np\n",
    "from scipy import stats as st\n",
    "import warnings\n",
    "warnings.filterwarnings('ignore')"
   ]
  },
  {
   "cell_type": "markdown",
   "metadata": {},
   "source": [
    "## Приоритизация гипотез"
   ]
  },
  {
   "cell_type": "markdown",
   "metadata": {},
   "source": [
    "### Сохраним в переменную и прочитаем имеющиеся у нас гипотезы"
   ]
  },
  {
   "cell_type": "code",
   "execution_count": null,
   "metadata": {
    "scrolled": false
   },
   "outputs": [],
   "source": [
    "data = pd.read_csv('/datasets/hypothesis.csv', sep = ',')\n",
    "data"
   ]
  },
  {
   "cell_type": "markdown",
   "metadata": {},
   "source": [
    "Немного расширим таблицы, чтобы иметь возможность читать полную формулировку гипотез"
   ]
  },
  {
   "cell_type": "code",
   "execution_count": null,
   "metadata": {},
   "outputs": [],
   "source": [
    "pd.set_option('display.max_colwidth', None)\n",
    "data"
   ]
  },
  {
   "cell_type": "markdown",
   "metadata": {},
   "source": [
    "### Способ приоритизации ICE"
   ]
  },
  {
   "cell_type": "code",
   "execution_count": null,
   "metadata": {},
   "outputs": [],
   "source": [
    "data['ICE'] = data['Impact'] * data['Confidence'] / data['Efforts']\n",
    "data[['Hypothesis', 'ICE']].sort_values(by = 'ICE', ascending = False)"
   ]
  },
  {
   "cell_type": "markdown",
   "metadata": {},
   "source": [
    "**Вывод**\n",
    "\n",
    "Согласно техники приоритизации гипотез ICE (от англ. impact, confidence, effort / ease «влияние, уверенность, усилия / простота») можно категоризировать наши гипотезы следующим образом:\n",
    "\n",
    "Высокий приоритет: гипотезы 8, 0, 7\n",
    "\n",
    "Средний приоритет: гипотезы 6, 2\n",
    "\n",
    "Низкий приоритет: гипотезы 1, 5, 3, 4"
   ]
  },
  {
   "cell_type": "markdown",
   "metadata": {},
   "source": [
    "### Способ приоритизации RICE"
   ]
  },
  {
   "cell_type": "code",
   "execution_count": null,
   "metadata": {},
   "outputs": [],
   "source": [
    "data['RICE'] = data['Reach'] * data['Impact'] * data['Confidence'] / data['Efforts']\n",
    "data[['Hypothesis', 'RICE']].sort_values(by = 'RICE', ascending = False)"
   ]
  },
  {
   "cell_type": "markdown",
   "metadata": {},
   "source": [
    "**Вывод**\n",
    "\n",
    "Согласно техники приоритизации гипотез RICE (от англ. reach, impact, confidence, effort / ease «охват, влияние, уверенность, усилия / простота»), наиболее приоритетной для исследования становится **7-я** гипотеза.\n",
    "\n",
    "Средний приоритет: гипотезы 2, 0, 6\n",
    "\n",
    "Низкий приоритет: гипотезы 3, 1, 5, 4"
   ]
  },
  {
   "cell_type": "markdown",
   "metadata": {},
   "source": [
    "### В чём разница и каков итог?"
   ]
  },
  {
   "cell_type": "markdown",
   "metadata": {},
   "source": [
    "**Почему результаты различны?**\n",
    "\n",
    "Отличия в результатах приоритезации возникают потому, что в методе приоритизации RICE учитывает такой показатель как Reach (охват). Поэтому, гипотеза об акции \"скидка в день рождения\" (**8-я**) обладает невысоким приоритетом, учитывая, что охват пользователей, затронутых этой акцией не так высок. При этом, гипотеза о добавлении формы подписки на все основные страницы (**7-я**) укрепила свои позиции, так как она очевидно обладает максимальным охватом.\n"
   ]
  },
  {
   "cell_type": "markdown",
   "metadata": {},
   "source": [
    "**Общий вывод:**\n",
    "\n",
    "По итогам можно выделить гипотезы, проверка которых обладает самым высоким приоритетом:\n",
    "\n",
    "7. Добавить форму подписки на все основные страницы, чтобы собрать базу клиентов для email-рассылок.\n",
    "\n",
    "0. Добавить два новых канала привлечения трафика, что позволит привлекать на 30% больше пользователей.\n",
    "\n",
    "Две эти гипотезы можно считать приоритетными как с учетом их охвата, так и без.\n",
    "\n",
    "Если же говорить об охвате аудитории, то также необходимо упомянуть следующие гипотезы, обладающие высоким приоритетом по RICE:\n",
    "\n",
    "2. Добавить блоки рекомендаций товаров на сайт интернет магазина, чтобы повысить конверсию и средний чек заказа.\n",
    "\n",
    "6. Показать на главной странице баннеры с актуальными акциями и распродажами, чтобы увеличить конверсию 40.0."
   ]
  },
  {
   "cell_type": "markdown",
   "metadata": {},
   "source": [
    "## Подготовка данных к анализу"
   ]
  },
  {
   "cell_type": "markdown",
   "metadata": {},
   "source": [
    "Для начала ознакомимся с новыми датасетами, в которых содержатся результаты проведенных A/B тестов и подготовим данные к анализу"
   ]
  },
  {
   "cell_type": "code",
   "execution_count": null,
   "metadata": {
    "scrolled": true
   },
   "outputs": [],
   "source": [
    "orders = pd.read_csv('/datasets/orders.csv', sep=',')\n",
    "display(orders.head())\n",
    "orders.info()"
   ]
  },
  {
   "cell_type": "code",
   "execution_count": null,
   "metadata": {
    "scrolled": true
   },
   "outputs": [],
   "source": [
    "visitors = pd.read_csv('/datasets/visitors.csv', sep=',')\n",
    "display(visitors.head())\n",
    "visitors.info()"
   ]
  },
  {
   "cell_type": "markdown",
   "metadata": {},
   "source": [
    "Для файла *orders* переименуем столбцы, чтобы те соотвествовали змеиному регистру, изменим тип данных в столбце с датой и проверим датасет на наличие дубликатов"
   ]
  },
  {
   "cell_type": "code",
   "execution_count": null,
   "metadata": {},
   "outputs": [],
   "source": [
    "orders = orders.rename(columns = {\"transactionId\": \"transaction_id\", \"visitorId\": \"visitor_id\"})\n",
    "orders['date'] = pd.to_datetime(orders['date'])\n",
    "orders.duplicated().sum()"
   ]
  },
  {
   "cell_type": "markdown",
   "metadata": {},
   "source": [
    "Для файла *visitors* изменим тип данных в столбце с датой и проверим датасет на наличие дубликатов"
   ]
  },
  {
   "cell_type": "code",
   "execution_count": null,
   "metadata": {},
   "outputs": [],
   "source": [
    "visitors['date'] = pd.to_datetime(visitors['date'])\n",
    "visitors.duplicated().sum()"
   ]
  },
  {
   "cell_type": "markdown",
   "metadata": {},
   "source": [
    "Проверим, есть ли в группах \"А\" и \"В\" пользователи, которые попали в обе группы"
   ]
  },
  {
   "cell_type": "code",
   "execution_count": null,
   "metadata": {},
   "outputs": [],
   "source": [
    "duplicated_users = orders.groupby('visitor_id').agg({'group':['nunique', 'unique']})\n",
    "duplicated_users.columns = ['groups', 'group_name']\n",
    "duplicated_users = duplicated_users.query('groups > 1')\n",
    "duplicated_users.head()\n",
    "print('Пересекающихся пользователей = {}'.format(len(duplicated_users)))"
   ]
  },
  {
   "cell_type": "markdown",
   "metadata": {},
   "source": [
    "58 пользователей попали в обе группы. Нужно исправлять"
   ]
  },
  {
   "cell_type": "code",
   "execution_count": null,
   "metadata": {},
   "outputs": [],
   "source": [
    "orders_old = orders.copy()\n",
    "orders = orders.query('visitor_id not in @duplicated_users.index')\n",
    "orders.head()"
   ]
  },
  {
   "cell_type": "code",
   "execution_count": null,
   "metadata": {},
   "outputs": [],
   "source": [
    "duplicated_users = orders.groupby('visitor_id').agg({'group':['nunique', 'unique']})\n",
    "duplicated_users.columns = ['groups', 'group_name']\n",
    "duplicated_users = duplicated_users.query('groups > 1')\n",
    "duplicated_users.head()\n",
    "print('Пересекающихся пользователей = {}'.format(len(duplicated_users)))"
   ]
  },
  {
   "cell_type": "markdown",
   "metadata": {},
   "source": [
    "**Вывод:**\n",
    "\n",
    "1. Названия столбцов приведены к змеиному регистру\n",
    "2. Тип данных в столбцах с датой изменен на datetime\n",
    "3. Пропусков и дубликатов в датасетах не обнаружено\n",
    "4. Пересакающиеся пользователи обнаружены и больше не повлияют на наши результаты"
   ]
  },
  {
   "cell_type": "markdown",
   "metadata": {},
   "source": [
    "## Анализ A/B-теста"
   ]
  },
  {
   "cell_type": "markdown",
   "metadata": {},
   "source": [
    "### Построим график кумулятивной выручки по группам"
   ]
  },
  {
   "cell_type": "markdown",
   "metadata": {},
   "source": [
    "Создадим массив с уникальными парами значений из столбцов с датой и группой"
   ]
  },
  {
   "cell_type": "code",
   "execution_count": null,
   "metadata": {},
   "outputs": [],
   "source": [
    "date_group = orders[['date', 'group']].drop_duplicates()\n",
    "date_group"
   ]
  },
  {
   "cell_type": "markdown",
   "metadata": {},
   "source": [
    "Соберём агрегированные кумулятивные по дням данные в таблице о заказах *orders*"
   ]
  },
  {
   "cell_type": "code",
   "execution_count": null,
   "metadata": {},
   "outputs": [],
   "source": [
    "orders_Aggregated = date_group.apply(lambda x : orders[np.logical_and(orders['group'] == x['group'], \\\n",
    "                                                                      orders['date'] <= x['date'])].agg({\n",
    "    'date' : 'max',\n",
    "    'group' : 'max',\n",
    "    'visitor_id' : 'nunique',\n",
    "    'transaction_id' : 'nunique',\n",
    "    'revenue' : 'sum'\n",
    "                                    }), axis = 1).sort_values(by = ['date', 'group'])"
   ]
  },
  {
   "cell_type": "markdown",
   "metadata": {},
   "source": [
    "Аналогично соберём агрегированные кумулятивные по дням данные в таблице о посетителях *visitors*"
   ]
  },
  {
   "cell_type": "code",
   "execution_count": null,
   "metadata": {},
   "outputs": [],
   "source": [
    "visitors_Aggregated = date_group.apply(lambda x : visitors[np.logical_and(visitors['group'] == x['group'], \\\n",
    "                                                                          visitors['date'] <= x['date'])].agg({\n",
    "    'date' : 'max',\n",
    "    'group' : 'max',\n",
    "    'visitors' : 'sum',\n",
    "                                    }), axis = 1).sort_values(by = ['date', 'group'])"
   ]
  },
  {
   "cell_type": "markdown",
   "metadata": {},
   "source": [
    "Теперь объединим собранные кумулятивные данные в одной таблице"
   ]
  },
  {
   "cell_type": "code",
   "execution_count": null,
   "metadata": {},
   "outputs": [],
   "source": [
    "cumulative_Data = orders_Aggregated.merge(visitors_Aggregated, on = ['date', 'group'])\n",
    "cumulative_Data.columns = ['date', 'group', 'buyers', 'orders', 'revenue', 'visitors']\n",
    "cumulative_Data.head()"
   ]
  },
  {
   "cell_type": "markdown",
   "metadata": {},
   "source": [
    "Разделяем датафрейм с кумулятивным количеством заказов и кумулятивной выручкой по дням по группам и строим графики выручки каждой из групп"
   ]
  },
  {
   "cell_type": "code",
   "execution_count": null,
   "metadata": {},
   "outputs": [],
   "source": [
    "cumulative_Data_A = cumulative_Data[cumulative_Data['group'] == \"A\"]\n",
    "cumulative_Data_B = cumulative_Data[cumulative_Data['group'] == \"B\"]\n",
    "\n",
    "plt.figure(figsize = (10,5))\n",
    "plt.plot(cumulative_Data_A['date'], cumulative_Data_A['revenue'], label = 'A')\n",
    "plt.plot(cumulative_Data_B['date'], cumulative_Data_B['revenue'], label = 'B')\n",
    "plt.xlabel('Дата')\n",
    "plt.ylabel('Выручка')\n",
    "\n",
    "plt.title('График кумулятивной выручки по группам')\n",
    "plt.legend()\n",
    "print()"
   ]
  },
  {
   "cell_type": "markdown",
   "metadata": {},
   "source": [
    "Выручка на протяжении всего периода растет в каждой из групп, но в какой то момент (в районе 18 августа 2019) группа \"B\" резко возрастает и дальше группе \"А\" её уже не догнать. Есть вероятность, что это является следствием выброса (Возможно тут имел место аномально дорогой заказ)"
   ]
  },
  {
   "cell_type": "markdown",
   "metadata": {},
   "source": [
    "### Построим график кумулятивного среднего чека по группам"
   ]
  },
  {
   "cell_type": "code",
   "execution_count": null,
   "metadata": {},
   "outputs": [],
   "source": [
    "plt.figure(figsize = (10,5))\n",
    "plt.plot(cumulative_Data_A['date'], cumulative_Data_A['revenue'] / cumulative_Data_A['orders'], label = 'A')\n",
    "plt.plot(cumulative_Data_B['date'], cumulative_Data_B['revenue'] / cumulative_Data_B['orders'], label = 'B')\n",
    "\n",
    "plt.xlabel('Дата')\n",
    "plt.ylabel('Выручка')\n",
    "plt.title('График кумулятивного среднего чека по группам')\n",
    "plt.legend()\n",
    "print()"
   ]
  },
  {
   "cell_type": "markdown",
   "metadata": {},
   "source": [
    "Очень похоже на то, что мы видели на графике кумулятивной выручки. В группе \"А\" через две недеи после начала тестирования произошел резкий подъём среднего чека, после чего его значения опустились. В группе \"В\" (всё также в районе 18 августа 2019) наблюдаем резкое увеличение среднего чека, после чего его размер стал уменьшаться. Вероятность того, что мы увидим здесь аномальные показатели для некоторых из пользователей растёт"
   ]
  },
  {
   "cell_type": "markdown",
   "metadata": {},
   "source": [
    "### Построим график относительного изменения кумулятивного среднего чека группы B к группе A"
   ]
  },
  {
   "cell_type": "markdown",
   "metadata": {},
   "source": [
    "Для этого соберём данные обеих групп в обной выборке"
   ]
  },
  {
   "cell_type": "code",
   "execution_count": null,
   "metadata": {},
   "outputs": [],
   "source": [
    "merged_Cumulative_Revenue = cumulative_Data_A.merge(cumulative_Data_B, on = 'date', how = 'left', suffixes = ['A', 'B'])\n",
    "merged_Cumulative_Revenue.head(5)"
   ]
  },
  {
   "cell_type": "code",
   "execution_count": null,
   "metadata": {},
   "outputs": [],
   "source": [
    "plt.figure(figsize = (10,5))\n",
    "plt.plot(merged_Cumulative_Revenue['date'],\\\n",
    "         (merged_Cumulative_Revenue['revenueB'] / merged_Cumulative_Revenue['ordersB']) / \\\n",
    "         (merged_Cumulative_Revenue['revenueA'] / merged_Cumulative_Revenue['ordersB']) - 1)\n",
    "plt.axhline(y = 0.4, color = 'black', linestyle = '--')\n",
    "\n",
    "plt.xlabel('Дата')\n",
    "plt.title('График относительного изменения кумулятивного среднего чека группы B к группе A')\n",
    "print()"
   ]
  },
  {
   "cell_type": "markdown",
   "metadata": {},
   "source": [
    "Видим моменты, в которых происходят очень резкие перепады. Особенно заметен скачок 18-19 числа (Тогда то и делались аномально крупные заказы). Если сравнивать погруппно, в начале гуппа \"В\" проигрывала, но в итоге вырывается вперёд."
   ]
  },
  {
   "cell_type": "markdown",
   "metadata": {},
   "source": [
    "### Построим график кумулятивного среднего количества заказов по группам"
   ]
  },
  {
   "cell_type": "markdown",
   "metadata": {},
   "source": [
    "Построим графики кумулятивного среднего количества заказов по группам"
   ]
  },
  {
   "cell_type": "code",
   "execution_count": null,
   "metadata": {},
   "outputs": [],
   "source": [
    "cumulative_Data['conversion'] = cumulative_Data['orders'] / cumulative_Data['visitors']\n",
    "cumulative_Data_A = cumulative_Data[cumulative_Data['group'] == 'A']\n",
    "cumulative_Data_B = cumulative_Data[cumulative_Data['group'] == 'B']"
   ]
  },
  {
   "cell_type": "code",
   "execution_count": null,
   "metadata": {},
   "outputs": [],
   "source": [
    "plt.figure(figsize = (10, 5)) \n",
    "\n",
    "plt.plot(cumulative_Data_A['date'], cumulative_Data_A['conversion'], label='A')\n",
    "plt.plot(cumulative_Data_B['date'], cumulative_Data_B['conversion'], label='B')\n",
    "\n",
    "plt.legend()\n",
    "\n",
    "plt.title('График кумулятивной конверсии по группам')\n",
    "plt.ylabel('Конверсия')\n",
    "plt.xlabel('Даты')\n",
    "plt.show()"
   ]
  },
  {
   "cell_type": "markdown",
   "metadata": {},
   "source": [
    "В начале теста группа \"А\" имела большую конверсию, но примерно через 4 дня с начала эксперимента группа \"В\" вырвалась в лидеры и в дальнейшем имеет стабильно бОльшие значения конверсии, чем группа \"А\""
   ]
  },
  {
   "cell_type": "markdown",
   "metadata": {},
   "source": [
    "### Построим график относительного изменения кумулятивного среднего количества заказов группы B к группе A"
   ]
  },
  {
   "cell_type": "code",
   "execution_count": null,
   "metadata": {},
   "outputs": [],
   "source": [
    "plt.figure(figsize = (10, 5))\n",
    "plt.plot(merged_Cumulative_Revenue['date'], (merged_Cumulative_Revenue['ordersB']) / (merged_Cumulative_Revenue['ordersA']) - 1)\n",
    "plt.axhline(y = 0, color = 'black', linestyle = '--') \n",
    "\n",
    "plt.xlabel('Дата')\n",
    "plt.title('График относительного изменения кумулятивной конверсии группы B к группе A')\n",
    "print()"
   ]
  },
  {
   "cell_type": "markdown",
   "metadata": {},
   "source": [
    "Итак, что мы наблюдаем: \n",
    "\n",
    "- в период с 5 по 11 августа 2019 в группе \"В\" среднее количество заказов стремительно выросло. Возможно появились пользователи, сделавшие довольно много заказов\n",
    "- после 11 августа 2019 дальнейшем разница в среднем количестве заказов остается на стабильном уровне, однако в группе \"В\" их стабильно больше"
   ]
  },
  {
   "cell_type": "markdown",
   "metadata": {},
   "source": [
    "### Построим точечный график количества заказов по пользователям"
   ]
  },
  {
   "cell_type": "code",
   "execution_count": null,
   "metadata": {},
   "outputs": [],
   "source": [
    "ordersByUsers = (\n",
    "    orders.groupby('visitor_id', as_index=False)\n",
    "    .agg({'transaction_id': 'nunique'})\n",
    ")\n",
    "ordersByUsers.columns = ['visitor_id', 'orders']\n",
    "x_values = pd.Series(range(0,len(ordersByUsers)))\n",
    "\n",
    "plt.scatter(x_values, ordersByUsers['orders']) \n",
    "plt.title('Точечный график количества заказов по пользователям')\n",
    "print()"
   ]
  },
  {
   "cell_type": "markdown",
   "metadata": {},
   "source": [
    "На точечной диаграмме мы видим, что стандартное число заказов на одного пользователя с реднем 1 или 2. Также встречаются пользователи с 3-мя заказами. Случаи с большим количеством заказов, чем 3 встречаются, но редко"
   ]
  },
  {
   "cell_type": "markdown",
   "metadata": {},
   "source": [
    "### Посчитаем 95-й и 99-й перцентили количества заказов на пользователя. Выберем границу для определения аномальных пользователей"
   ]
  },
  {
   "cell_type": "code",
   "execution_count": null,
   "metadata": {},
   "outputs": [],
   "source": [
    "p_1 = np.percentile(ordersByUsers['orders'], [95, 99])\n",
    "print('95 процентиль = {} . 99 процентиль = {}'.format(p_1[0], p_1[1]))"
   ]
  },
  {
   "cell_type": "markdown",
   "metadata": {},
   "source": [
    "Пусть границей будет 2 заказа. Пользователей, которые совершают *больше чем 3* заказа, будем считать нашими любимыми, но всё же аномальными"
   ]
  },
  {
   "cell_type": "markdown",
   "metadata": {},
   "source": [
    "### Построим точечный график стоимостей заказов"
   ]
  },
  {
   "cell_type": "code",
   "execution_count": null,
   "metadata": {},
   "outputs": [],
   "source": [
    "revenueByUsers = (\n",
    "    orders.groupby('visitor_id', as_index=False)\n",
    "    .agg({'revenue': 'sum'})\n",
    ")\n",
    "revenueByUsers.columns = ['visitor_id', 'revenue']\n",
    "x_values = pd.Series(range(0,len(revenueByUsers)))\n",
    "\n",
    "plt.scatter(x_values, revenueByUsers['revenue']) \n",
    "plt.title('Точечный график количества стоимостей заказов')\n",
    "print()"
   ]
  },
  {
   "cell_type": "markdown",
   "metadata": {},
   "source": [
    "Итак, что мы видим:\n",
    "\n",
    "- несколько пользователей с суммой заказов превышающих 100 тыс. \n",
    "- одного очень щедрого клиента, потратившего на свой заказ более 1 млн. 200 тыс. \n",
    "\n",
    "Есть все основания предполагать, что это явно выбросы"
   ]
  },
  {
   "cell_type": "markdown",
   "metadata": {},
   "source": [
    "### Посчитаем 95-й и 99-й перцентили стоимости заказов. Выберем границу для определения аномальных заказов"
   ]
  },
  {
   "cell_type": "code",
   "execution_count": null,
   "metadata": {},
   "outputs": [],
   "source": [
    "p_2 = np.percentile(revenueByUsers['revenue'], [95, 99])\n",
    "print('95 процентиль = {} . 99 процентиль = {}'.format(p_2[0], p_2[1]))"
   ]
  },
  {
   "cell_type": "markdown",
   "metadata": {},
   "source": [
    "95 процентов пользователей укладываются в сумму в размере 28 910 (предположим рублей), 99 процентов - в 59 082.\n",
    "\n",
    "Аномальными будем считать тех, кто тратит больше 29 000. Мы их также любим, но в дальнейших исследованиях они будут только искажать результаты"
   ]
  },
  {
   "cell_type": "markdown",
   "metadata": {},
   "source": [
    "## Посчитаем статистическую значимость различий в среднем количестве заказов и среднем чеке между группами по «сырым» данным"
   ]
  },
  {
   "cell_type": "markdown",
   "metadata": {},
   "source": [
    "Для для дальнейших расчётов нам понадобится узнать:\n",
    "\n",
    "- количество посетителей сайта из группы А в каждый из дней исследования;\n",
    "- кумулятивное количество посетителей сайта из группы А в каждый из дней исследования;\n",
    "- количество посетителей сайта из группы В в каждый из дней исследования;\n",
    "- количество посетителей сайта из группы В в каждый из дней исследования;\n",
    "- количество заказов и их стоимость из группы А в каждый из дней исследования;\n",
    "- кумулятивное количество заказов и их стоимость из группы А в каждый из дней исследования;\n",
    "- количество заказов и их стоимость из группы В в каждый из дней исследования;\n",
    "- кумулятивное количество заказов и их стоимость из группы В в каждый из дней исследования."
   ]
  },
  {
   "cell_type": "code",
   "execution_count": null,
   "metadata": {},
   "outputs": [],
   "source": [
    "visitorsADaily = visitors[visitors['group'] == 'A'][['date', 'visitors']] \n",
    "visitorsADaily.columns = ['date', 'visitorsPerDateA']\n",
    "\n",
    "visitorsACummulative = visitorsADaily.apply(\n",
    "    lambda x: visitorsADaily[visitorsADaily['date'] <= x['date']].agg(\n",
    "        {'date': 'max', 'visitorsPerDateA': 'sum'}), axis = 1, )\n",
    "visitorsACummulative.columns = ['date', 'visitorsCummulativeA']\n",
    "\n",
    "visitorsBDaily = visitors[visitors['group'] == 'B'][['date', 'visitors']]\n",
    "visitorsBDaily.columns = ['date', 'visitorsPerDateB']\n",
    "\n",
    "visitorsBCummulative = visitorsBDaily.apply(\n",
    "    lambda x: visitorsBDaily[visitorsBDaily['date'] <= x['date']].agg(\n",
    "        {'date': 'max', 'visitorsPerDateB': 'sum'}), axis = 1,)\n",
    "visitorsBCummulative.columns = ['date', 'visitorsCummulativeB']\n",
    "\n",
    "ordersADaily = (\n",
    "    orders[orders['group'] == 'A'][['date', 'transaction_id', 'visitor_id', 'revenue']]\n",
    "    .groupby('date', as_index = False)\n",
    "    .agg({'transaction_id': pd.Series.nunique, 'revenue': 'sum'}))\n",
    "ordersADaily.columns = ['date', 'ordersPerDateA', 'revenuePerDateA']\n",
    "\n",
    "ordersACummulative = ordersADaily.apply(\n",
    "    lambda x: ordersADaily[ordersADaily['date'] <= x['date']].agg(\n",
    "        {'date': 'max', 'ordersPerDateA': 'sum', 'revenuePerDateA': 'sum'}), axis = 1,).sort_values(by = ['date'])\n",
    "ordersACummulative.columns = [\n",
    "    'date',\n",
    "    'ordersCummulativeA',\n",
    "    'revenueCummulativeA']\n",
    "\n",
    "ordersBDaily = (\n",
    "    orders[orders['group'] == 'B'][['date', 'transaction_id', 'visitor_id', 'revenue']]\n",
    "    .groupby('date', as_index = False)\n",
    "    .agg({'transaction_id': pd.Series.nunique, 'revenue': 'sum'}))\n",
    "ordersBDaily.columns = ['date', 'ordersPerDateB', 'revenuePerDateB']\n",
    "\n",
    "ordersBCummulative = ordersBDaily.apply(\n",
    "    lambda x: ordersBDaily[ordersBDaily['date'] <= x['date']].agg(\n",
    "        {'date': 'max', 'ordersPerDateB': 'sum', 'revenuePerDateB': 'sum'}),axis=1,).sort_values(by = ['date'])\n",
    "ordersBCummulative.columns = [\n",
    "    'date',\n",
    "    'ordersCummulativeB',\n",
    "    'revenueCummulativeB']"
   ]
  },
  {
   "cell_type": "markdown",
   "metadata": {},
   "source": [
    "Создадим таблицу, в которой объединим все полученные от расчётов данные"
   ]
  },
  {
   "cell_type": "code",
   "execution_count": null,
   "metadata": {
    "scrolled": true
   },
   "outputs": [],
   "source": [
    "AB_data = (\n",
    "    ordersADaily.merge(\n",
    "        ordersBDaily, left_on = 'date', right_on = 'date', how = 'left'\n",
    "    )\n",
    "    .merge(ordersACummulative, left_on = 'date', right_on = 'date', how = 'left')\n",
    "    .merge(ordersBCummulative, left_on = 'date', right_on = 'date', how = 'left')\n",
    "    .merge(visitorsADaily, left_on = 'date', right_on='date', how = 'left')\n",
    "    .merge(visitorsBDaily, left_on = 'date', right_on='date', how = 'left')\n",
    "    .merge(visitorsACummulative, left_on = 'date', right_on = 'date', how = 'left')\n",
    "    .merge(visitorsBCummulative, left_on = 'date', right_on = 'date', how = 'left')\n",
    ")\n",
    "\n",
    "AB_data.head()"
   ]
  },
  {
   "cell_type": "markdown",
   "metadata": {},
   "source": [
    "Объявим переменные со столбцами для пользователей, которые заказывали хотя бы 1 раз, и укажем число совершённых заказов"
   ]
  },
  {
   "cell_type": "code",
   "execution_count": null,
   "metadata": {},
   "outputs": [],
   "source": [
    "ordersByUsersA = (\n",
    "    orders[orders['group'] == 'A']\n",
    "    .groupby('visitor_id', as_index=False)\n",
    "    .agg({'transaction_id': pd.Series.nunique})\n",
    ")\n",
    "ordersByUsersA.columns = ['visitor_id', 'orders']\n",
    "\n",
    "ordersByUsersB = (\n",
    "    orders[orders['group'] == 'B']\n",
    "    .groupby('visitor_id', as_index=False)\n",
    "    .agg({'transaction_id': pd.Series.nunique})\n",
    ")\n",
    "ordersByUsersB.columns = ['visitor_id', 'orders']"
   ]
  },
  {
   "cell_type": "markdown",
   "metadata": {},
   "source": [
    "Затем объявим переменные, в которых пользователям из разных групп будет соответствовать количество заказов"
   ]
  },
  {
   "cell_type": "code",
   "execution_count": null,
   "metadata": {},
   "outputs": [],
   "source": [
    "sampleA = pd.concat([ordersByUsersA['orders'],pd.Series(0,\n",
    "index = np.arange(AB_data['visitorsPerDateA'].sum() - len(ordersByUsersA['orders'])), name = 'orders')],axis = 0)\n",
    "\n",
    "sampleB = pd.concat([ordersByUsersB['orders'],pd.Series(0,\n",
    "index = np.arange(AB_data['visitorsPerDateB'].sum() - len(ordersByUsersB['orders'])), name = 'orders')],axis = 0) "
   ]
  },
  {
   "cell_type": "markdown",
   "metadata": {},
   "source": [
    "### Посчитаем статистическую значимость различий в среднем количестве заказов между группами по «сырым» данным"
   ]
  },
  {
   "cell_type": "markdown",
   "metadata": {},
   "source": [
    "Сформулируем гипотезы:\n",
    "\n",
    "H0: различий в среднем количестве заказов между группами нет.\n",
    "\n",
    "H1: различия в среднем между группами есть.\n",
    "\n",
    "Для определния статистической значимости, используем критерий Манна-Уитни"
   ]
  },
  {
   "cell_type": "code",
   "execution_count": null,
   "metadata": {},
   "outputs": [],
   "source": [
    "display(\"{0:.3f}\".format(st.mannwhitneyu(sampleA, sampleB)[1]))\n",
    "\n",
    "\"{0:.3f}\".format(sampleB.mean() / sampleA.mean() - 1)"
   ]
  },
  {
   "cell_type": "markdown",
   "metadata": {},
   "source": [
    "**Вывод:**\n",
    "\n",
    "P-value = 0.011, что меньше 0.05. Это означает, что мы отвергаем нулевую гипотезу о том, что статистически значимых различий в среднем числе заказов между группами нет\n",
    "\n",
    "Относительный выигрыш группы \"B\" равен 16%"
   ]
  },
  {
   "cell_type": "markdown",
   "metadata": {},
   "source": [
    "### Посчитаем статистическую значимость различий в среднем чеке заказа между группами по «сырым» данным"
   ]
  },
  {
   "cell_type": "markdown",
   "metadata": {},
   "source": [
    "Сформулируем гипотезы:\n",
    "\n",
    "H0: различий в среднем чеке между группами нет.\n",
    "\n",
    "Н1: различия в среднем чеке между группами есть."
   ]
  },
  {
   "cell_type": "code",
   "execution_count": null,
   "metadata": {},
   "outputs": [],
   "source": [
    "display('{0:.3f}'.format(st.mannwhitneyu(orders[orders['group'] == 'A']['revenue'], orders[orders['group'] == 'B']['revenue'])[1]))\n",
    "'{0:.3f}'.format(orders[orders['group'] == 'B']['revenue'].mean() / orders[orders['group'] == 'A']['revenue'].mean()-1)"
   ]
  },
  {
   "cell_type": "markdown",
   "metadata": {},
   "source": [
    "**Вывод:**\n",
    "\n",
    "P-value = 0.829, что значительно больше 0.05. Следовательно, причин отвергать нулевую гипотезу нет\n",
    "\n",
    "Более того, средний чек группы \"B\" на 28,7% выше среднего чека группы \"A\". Это наводит на размышления о выбросах за счёт \"аномальных\" пользователей"
   ]
  },
  {
   "cell_type": "markdown",
   "metadata": {},
   "source": [
    "## Посчитаем статистическую значимость различий в среднем количестве заказов и среднем чеке между группами по «очищенным» данным"
   ]
  },
  {
   "cell_type": "markdown",
   "metadata": {},
   "source": [
    "Очищенные данные, это данные без \"аномальных\" пользователей, оказывающих значительное влияние на общую выборку.\n",
    "\n",
    "Поэтому перед тем как применить статитический критерий, сделаем срезы(на основании уже выявленных процентилей):\n",
    "\n",
    "- пользователей с числом заказов больше 2;\n",
    "- пользователей совершивших заказы стоимостью больше 29 000."
   ]
  },
  {
   "cell_type": "code",
   "execution_count": null,
   "metadata": {},
   "outputs": [],
   "source": [
    "usersWithManyOrders = pd.concat(\n",
    "    [\n",
    "        ordersByUsersA[ordersByUsersA['orders'] > 2]['visitor_id'],\n",
    "        ordersByUsersB[ordersByUsersB['orders'] > 2]['visitor_id'],\n",
    "    ],\n",
    "    axis=0,\n",
    ")\n",
    "\n",
    "\n",
    "usersWithExpensiveOrders = orders[orders['revenue'] > 29000]['visitor_id']"
   ]
  },
  {
   "cell_type": "markdown",
   "metadata": {},
   "source": [
    "Объединим срезы в список \"аномальных пользователей\". А также удалим дубликаты, т.к. пользователи одновременно могут и делать много заказов, и тратить много денег."
   ]
  },
  {
   "cell_type": "code",
   "execution_count": null,
   "metadata": {},
   "outputs": [],
   "source": [
    "abnormalUsers = (\n",
    "    pd.concat([usersWithManyOrders, usersWithExpensiveOrders], axis=0)\n",
    "    .drop_duplicates()\n",
    "    .sort_values())\n",
    "len(abnormalUsers)"
   ]
  },
  {
   "cell_type": "markdown",
   "metadata": {},
   "source": [
    "Обнаружены аж 51 наш любимый пользователь, которые много заказывают, а также делают заказы на большие суммы. Но в дальнейших исследованиях, дабы не искажать объективность результатов, их мы в расчёт брать не станем"
   ]
  },
  {
   "cell_type": "markdown",
   "metadata": {},
   "source": [
    "Дальше подготовим выборки количества заказов по группам, где пользователям из разных групп соответствовало бы количество заказов, а тем кто заказов не делал - приписывались бы нули. Кроме того, из выборки мы уберём \"аномальных\" пользователей"
   ]
  },
  {
   "cell_type": "code",
   "execution_count": null,
   "metadata": {},
   "outputs": [],
   "source": [
    "sampleAFiltered = pd.concat([ordersByUsersA[np.logical_not(ordersByUsersA['visitor_id'].isin(abnormalUsers))]['orders'],\n",
    "pd.Series(0, index = np.arange(AB_data['visitorsPerDateA'].sum() - len(ordersByUsersA['orders'])), name = 'orders')], axis = 0)\n",
    "\n",
    "sampleBFiltered = pd.concat([ordersByUsersB[np.logical_not(ordersByUsersB['visitor_id'].isin(abnormalUsers))]['orders'],\n",
    "pd.Series(0, index = np.arange(AB_data['visitorsPerDateB'].sum() - len(ordersByUsersB['orders'])), name = 'orders')], axis = 0)"
   ]
  },
  {
   "cell_type": "markdown",
   "metadata": {},
   "source": [
    "### Посчитаем статистическую значимость различий в среднем количестве заказов между группами по «очищенным» данным"
   ]
  },
  {
   "cell_type": "markdown",
   "metadata": {},
   "source": [
    "Сформулируем гипотезы:\n",
    "\n",
    "H0: различий в среднем количестве заказов между группами нет.\n",
    "\n",
    "Н1: различия в среднем между группами есть."
   ]
  },
  {
   "cell_type": "markdown",
   "metadata": {},
   "source": [
    "Применим статистический критерий Манна-Уитни к полученным выборкам\n",
    "\n",
    "Выведем относительный прирост среднего числа заказов группы \"B\""
   ]
  },
  {
   "cell_type": "code",
   "execution_count": null,
   "metadata": {},
   "outputs": [],
   "source": [
    "display('{0:.3f}'.format(st.mannwhitneyu(sampleAFiltered, sampleBFiltered)[1]))\n",
    "display('{0:.3f}'.format(sampleBFiltered.mean() / sampleAFiltered.mean() - 1)) "
   ]
  },
  {
   "cell_type": "markdown",
   "metadata": {},
   "source": [
    "**Вывод:**\n",
    "\n",
    "P-value = 0,010, что меньше 0,05: нулевую гипотезу отвергаем. В данном случае \"очищенные\" данные дают примерно те же результаты, что и \"сырые\"\n",
    "\n",
    "Относительный выигрыш группы \"B\" равен 18,8%"
   ]
  },
  {
   "cell_type": "markdown",
   "metadata": {},
   "source": [
    "### Посчитаем статистическую значимость различий в среднем чеке заказа между группами по «очищенным» данным"
   ]
  },
  {
   "cell_type": "markdown",
   "metadata": {},
   "source": [
    "Сформулируем гипотезы:\n",
    "\n",
    "H0: различий в среднем чеке между группами нет.\n",
    "\n",
    "Н1: различия в среднем чеке между группами есть."
   ]
  },
  {
   "cell_type": "code",
   "execution_count": null,
   "metadata": {},
   "outputs": [],
   "source": [
    "display('{0:.3f}'.format(st.mannwhitneyu(orders[np.logical_and(orders['group'] == 'A',\n",
    "np.logical_not(orders['visitor_id'].isin(abnormalUsers)))]['revenue'],\n",
    "orders[np.logical_and(orders['group'] == 'B', np.logical_not(orders['visitor_id'].isin(abnormalUsers)))]['revenue'])[1]))\n",
    "\n",
    "display(\"{0:.3f}\".format(orders[np.logical_and(orders['group'] == 'B',np.logical_not(orders['visitor_id'].isin(abnormalUsers)))]\n",
    "['revenue'].mean() / orders[np.logical_and(orders['group'] == 'A', np.logical_not(orders['visitor_id'].isin(abnormalUsers)))]\n",
    "['revenue'].mean() - 1)) "
   ]
  },
  {
   "cell_type": "markdown",
   "metadata": {},
   "source": [
    "**Вывод:**\n",
    "\n",
    "P-value = 0,748: Нулевую гипотезу отвергнуть нельзя\n",
    "\n",
    "В выборке с \"очищенными\" данными средний чек группы \"B\" на 2,5% ниже, чем у группы \"А\". На \"сырых\" данных средний чек группы \"B\" был на 28,7% **выше**. Всётаки \"аномальные\" пользователи значительно повлияли на общую картину среднего чека"
   ]
  },
  {
   "cell_type": "markdown",
   "metadata": {},
   "source": [
    "## Примем решение по результатам теста "
   ]
  },
  {
   "cell_type": "markdown",
   "metadata": {},
   "source": [
    "**Общий вывод анализу результатов A/B тестов:**\n",
    "\n",
    "Из всех графиков явно видно, что пользователи из группы \"В\" приносят больше выручки нежели пользователи из группы \"А\".\n",
    "При этом мы видим выбросы в данных, которые мы связываем с поведением \"аномальных\" пользователей, которые делают больше заказов и тратят бОльшие суммы, чем средний пользователь\n",
    "\n",
    "В процессе исследования мы проверили гипотезы о различиях в среднем количестве заказов и среднем чеке в изучаемых группах в двух видах:\n",
    "\n",
    "1. По сырым данным (без удаления аномальных пользователей)\n",
    "2. По очищенным данным (без учета аномальных пользователей)\n",
    "\n",
    "**Итого:**\n",
    "\n",
    "Различия в среднем количестве заказов между группами есть. Показатели группы \"В\" превышают показатели группы \"А\":\n",
    "\n",
    "- по \"сырым\" данным на 16%\n",
    "- по \"очищенным\" данным на 18,8%\n",
    "\n",
    "\n",
    "Различий в среднем чеке между группами нет. Показатели группы \"В\" превышают показатели группы \"А\":\n",
    "\n",
    "- по \"сырым\" данным на 28,7%\n",
    "- по \"очищенным\" данным на -2,5%"
   ]
  },
  {
   "cell_type": "markdown",
   "metadata": {},
   "source": [
    "Напомним, у нас имеются 3 варианта решения: \n",
    "\n",
    "1. Остановить тест, зафиксировать победу одной из групп. \n",
    "\n",
    "2. Остановить тест, зафиксировать отсутствие различий между группами. \n",
    "\n",
    "3. Продолжить тест."
   ]
  },
  {
   "cell_type": "markdown",
   "metadata": {},
   "source": [
    "Задача, которая стоит перед интернет-магазином это увеличение выручки\n",
    "\n",
    "**Таким образом, считаю целесообразным принять решение об остановке А/В-теста и зафиксировать победу группы \"В\"**\n",
    "\n",
    "Изменения, которые должны произойти в случае победы группы \"В\", исходя из проведённых исследований, приведут к увеличению количества заказов примерно на 15%, что в свою очередь поможет увеличить выручку, не теряя в размере среднего чека."
   ]
  }
 ],
 "metadata": {
  "ExecuteTimeLog": [
   {
    "duration": 1381,
    "start_time": "2022-11-12T11:03:14.293Z"
   },
   {
    "duration": 87,
    "start_time": "2022-11-12T11:03:28.091Z"
   },
   {
    "duration": 32,
    "start_time": "2022-11-12T11:03:31.804Z"
   },
   {
    "duration": 38,
    "start_time": "2022-11-12T11:04:08.348Z"
   },
   {
    "duration": 5,
    "start_time": "2022-11-12T11:04:30.868Z"
   },
   {
    "duration": 31,
    "start_time": "2022-11-12T11:09:02.042Z"
   },
   {
    "duration": 32,
    "start_time": "2022-11-12T11:09:13.847Z"
   },
   {
    "duration": 33,
    "start_time": "2022-11-12T11:11:18.974Z"
   },
   {
    "duration": 1088,
    "start_time": "2022-11-12T11:15:58.553Z"
   },
   {
    "duration": 35,
    "start_time": "2022-11-12T11:15:59.643Z"
   },
   {
    "duration": 12,
    "start_time": "2022-11-12T11:15:59.680Z"
   },
   {
    "duration": 11,
    "start_time": "2022-11-12T11:15:59.693Z"
   },
   {
    "duration": 15,
    "start_time": "2022-11-12T11:17:14.157Z"
   },
   {
    "duration": 1061,
    "start_time": "2022-11-12T11:17:57.180Z"
   },
   {
    "duration": 35,
    "start_time": "2022-11-12T11:17:58.243Z"
   },
   {
    "duration": 7,
    "start_time": "2022-11-12T11:17:58.280Z"
   },
   {
    "duration": 14,
    "start_time": "2022-11-12T11:17:58.289Z"
   },
   {
    "duration": 10,
    "start_time": "2022-11-12T11:17:58.305Z"
   },
   {
    "duration": 3,
    "start_time": "2022-11-12T11:22:55.730Z"
   },
   {
    "duration": 1094,
    "start_time": "2022-11-12T11:23:01.948Z"
   },
   {
    "duration": 35,
    "start_time": "2022-11-12T11:23:03.044Z"
   },
   {
    "duration": 16,
    "start_time": "2022-11-12T11:23:03.081Z"
   },
   {
    "duration": 34,
    "start_time": "2022-11-12T11:23:03.099Z"
   },
   {
    "duration": 19,
    "start_time": "2022-11-12T11:23:03.135Z"
   },
   {
    "duration": 117,
    "start_time": "2022-11-12T11:25:53.536Z"
   },
   {
    "duration": 83,
    "start_time": "2022-11-12T11:25:55.914Z"
   },
   {
    "duration": 122,
    "start_time": "2022-11-12T11:26:37.259Z"
   },
   {
    "duration": 33,
    "start_time": "2022-11-12T11:26:49.453Z"
   },
   {
    "duration": 3,
    "start_time": "2022-11-12T11:27:29.627Z"
   },
   {
    "duration": 33,
    "start_time": "2022-11-12T11:27:35.372Z"
   },
   {
    "duration": 35,
    "start_time": "2022-11-12T11:27:38.483Z"
   },
   {
    "duration": 39,
    "start_time": "2022-11-12T11:28:00.427Z"
   },
   {
    "duration": 3,
    "start_time": "2022-11-12T11:28:14.379Z"
   },
   {
    "duration": 3,
    "start_time": "2022-11-12T11:28:58.867Z"
   },
   {
    "duration": 1080,
    "start_time": "2022-11-12T11:31:47.875Z"
   },
   {
    "duration": 35,
    "start_time": "2022-11-12T11:31:48.957Z"
   },
   {
    "duration": 8,
    "start_time": "2022-11-12T11:31:48.994Z"
   },
   {
    "duration": 26,
    "start_time": "2022-11-12T11:31:49.004Z"
   },
   {
    "duration": 15,
    "start_time": "2022-11-12T11:31:49.032Z"
   },
   {
    "duration": 79,
    "start_time": "2022-11-12T11:31:49.048Z"
   },
   {
    "duration": 28,
    "start_time": "2022-11-12T11:31:49.129Z"
   },
   {
    "duration": 8,
    "start_time": "2022-11-12T11:31:49.159Z"
   },
   {
    "duration": 22,
    "start_time": "2022-11-12T11:31:49.169Z"
   },
   {
    "duration": 1363,
    "start_time": "2022-11-13T09:45:28.919Z"
   },
   {
    "duration": 86,
    "start_time": "2022-11-13T09:45:30.284Z"
   },
   {
    "duration": 9,
    "start_time": "2022-11-13T09:45:30.371Z"
   },
   {
    "duration": 33,
    "start_time": "2022-11-13T09:45:30.382Z"
   },
   {
    "duration": 18,
    "start_time": "2022-11-13T09:45:30.417Z"
   },
   {
    "duration": 117,
    "start_time": "2022-11-13T09:45:30.437Z"
   },
   {
    "duration": 80,
    "start_time": "2022-11-13T09:45:30.556Z"
   },
   {
    "duration": 9,
    "start_time": "2022-11-13T09:45:30.638Z"
   },
   {
    "duration": 28,
    "start_time": "2022-11-13T09:45:30.649Z"
   },
   {
    "duration": 103,
    "start_time": "2022-11-13T10:08:54.338Z"
   },
   {
    "duration": 11,
    "start_time": "2022-11-13T10:09:08.970Z"
   },
   {
    "duration": 12,
    "start_time": "2022-11-13T10:09:24.410Z"
   },
   {
    "duration": 27,
    "start_time": "2022-11-13T10:13:56.915Z"
   },
   {
    "duration": 23,
    "start_time": "2022-11-13T10:14:23.000Z"
   },
   {
    "duration": 179,
    "start_time": "2022-11-13T10:14:27.898Z"
   },
   {
    "duration": 131,
    "start_time": "2022-11-13T10:14:32.746Z"
   },
   {
    "duration": 14,
    "start_time": "2022-11-13T10:14:37.826Z"
   },
   {
    "duration": 168,
    "start_time": "2022-11-13T10:15:33.739Z"
   },
   {
    "duration": 131,
    "start_time": "2022-11-13T10:15:43.827Z"
   },
   {
    "duration": 12,
    "start_time": "2022-11-13T10:15:45.602Z"
   },
   {
    "duration": 1215,
    "start_time": "2022-11-13T10:17:06.038Z"
   },
   {
    "duration": 37,
    "start_time": "2022-11-13T10:17:07.255Z"
   },
   {
    "duration": 9,
    "start_time": "2022-11-13T10:17:07.293Z"
   },
   {
    "duration": 19,
    "start_time": "2022-11-13T10:17:07.304Z"
   },
   {
    "duration": 13,
    "start_time": "2022-11-13T10:17:07.324Z"
   },
   {
    "duration": 55,
    "start_time": "2022-11-13T10:17:07.338Z"
   },
   {
    "duration": 27,
    "start_time": "2022-11-13T10:17:07.395Z"
   },
   {
    "duration": 9,
    "start_time": "2022-11-13T10:17:07.424Z"
   },
   {
    "duration": 13,
    "start_time": "2022-11-13T10:17:07.434Z"
   },
   {
    "duration": 19,
    "start_time": "2022-11-13T10:17:07.449Z"
   },
   {
    "duration": 179,
    "start_time": "2022-11-13T10:17:07.470Z"
   },
   {
    "duration": 140,
    "start_time": "2022-11-13T10:17:07.651Z"
   },
   {
    "duration": 127,
    "start_time": "2022-11-13T10:17:07.793Z"
   },
   {
    "duration": 13,
    "start_time": "2022-11-13T10:17:19.291Z"
   },
   {
    "duration": 310,
    "start_time": "2022-11-13T10:23:28.203Z"
   },
   {
    "duration": 222,
    "start_time": "2022-11-13T10:29:51.575Z"
   },
   {
    "duration": 209,
    "start_time": "2022-11-13T10:29:58.878Z"
   },
   {
    "duration": 201,
    "start_time": "2022-11-13T10:30:05.927Z"
   },
   {
    "duration": 14,
    "start_time": "2022-11-13T10:39:12.538Z"
   },
   {
    "duration": 14,
    "start_time": "2022-11-13T10:39:57.354Z"
   },
   {
    "duration": 264,
    "start_time": "2022-11-13T10:40:06.946Z"
   },
   {
    "duration": 14,
    "start_time": "2022-11-13T10:57:32.997Z"
   },
   {
    "duration": 301,
    "start_time": "2022-11-13T10:58:58.623Z"
   },
   {
    "duration": 14,
    "start_time": "2022-11-13T11:03:09.565Z"
   },
   {
    "duration": 256,
    "start_time": "2022-11-13T11:03:21.663Z"
   },
   {
    "duration": 1167,
    "start_time": "2022-11-13T11:08:04.463Z"
   },
   {
    "duration": 35,
    "start_time": "2022-11-13T11:08:05.632Z"
   },
   {
    "duration": 9,
    "start_time": "2022-11-13T11:08:05.669Z"
   },
   {
    "duration": 35,
    "start_time": "2022-11-13T11:08:05.679Z"
   },
   {
    "duration": 18,
    "start_time": "2022-11-13T11:08:05.716Z"
   },
   {
    "duration": 65,
    "start_time": "2022-11-13T11:08:05.735Z"
   },
   {
    "duration": 28,
    "start_time": "2022-11-13T11:08:05.802Z"
   },
   {
    "duration": 22,
    "start_time": "2022-11-13T11:08:05.832Z"
   },
   {
    "duration": 21,
    "start_time": "2022-11-13T11:08:05.855Z"
   },
   {
    "duration": 29,
    "start_time": "2022-11-13T11:08:05.878Z"
   },
   {
    "duration": 189,
    "start_time": "2022-11-13T11:08:05.909Z"
   },
   {
    "duration": 122,
    "start_time": "2022-11-13T11:08:06.100Z"
   },
   {
    "duration": 11,
    "start_time": "2022-11-13T11:08:06.224Z"
   },
   {
    "duration": 363,
    "start_time": "2022-11-13T11:08:06.238Z"
   },
   {
    "duration": 202,
    "start_time": "2022-11-13T11:08:06.603Z"
   },
   {
    "duration": 22,
    "start_time": "2022-11-13T11:08:06.807Z"
   },
   {
    "duration": 288,
    "start_time": "2022-11-13T11:08:06.831Z"
   },
   {
    "duration": 53,
    "start_time": "2022-11-13T11:08:07.121Z"
   },
   {
    "duration": 0,
    "start_time": "2022-11-13T11:08:07.176Z"
   },
   {
    "duration": 0,
    "start_time": "2022-11-13T11:08:07.177Z"
   },
   {
    "duration": 209,
    "start_time": "2022-11-13T11:08:18.408Z"
   },
   {
    "duration": 339,
    "start_time": "2022-11-13T11:08:20.705Z"
   },
   {
    "duration": 3,
    "start_time": "2022-11-13T11:10:16.105Z"
   },
   {
    "duration": 1068,
    "start_time": "2022-11-13T11:10:20.467Z"
   },
   {
    "duration": 35,
    "start_time": "2022-11-13T11:10:21.537Z"
   },
   {
    "duration": 7,
    "start_time": "2022-11-13T11:10:21.574Z"
   },
   {
    "duration": 12,
    "start_time": "2022-11-13T11:10:21.583Z"
   },
   {
    "duration": 11,
    "start_time": "2022-11-13T11:10:21.596Z"
   },
   {
    "duration": 51,
    "start_time": "2022-11-13T11:10:21.608Z"
   },
   {
    "duration": 28,
    "start_time": "2022-11-13T11:10:21.660Z"
   },
   {
    "duration": 9,
    "start_time": "2022-11-13T11:10:21.689Z"
   },
   {
    "duration": 7,
    "start_time": "2022-11-13T11:10:21.700Z"
   },
   {
    "duration": 13,
    "start_time": "2022-11-13T11:10:21.710Z"
   },
   {
    "duration": 179,
    "start_time": "2022-11-13T11:10:21.725Z"
   },
   {
    "duration": 132,
    "start_time": "2022-11-13T11:10:21.906Z"
   },
   {
    "duration": 13,
    "start_time": "2022-11-13T11:10:22.040Z"
   },
   {
    "duration": 317,
    "start_time": "2022-11-13T11:10:22.055Z"
   },
   {
    "duration": 204,
    "start_time": "2022-11-13T11:10:22.374Z"
   },
   {
    "duration": 15,
    "start_time": "2022-11-13T11:10:22.580Z"
   },
   {
    "duration": 322,
    "start_time": "2022-11-13T11:10:22.597Z"
   },
   {
    "duration": 215,
    "start_time": "2022-11-13T11:10:22.921Z"
   },
   {
    "duration": 285,
    "start_time": "2022-11-13T11:10:23.139Z"
   },
   {
    "duration": 103,
    "start_time": "2022-11-13T11:23:12.374Z"
   },
   {
    "duration": 17,
    "start_time": "2022-11-13T11:23:27.806Z"
   },
   {
    "duration": 143,
    "start_time": "2022-11-13T11:24:51.534Z"
   },
   {
    "duration": 265,
    "start_time": "2022-11-13T11:25:27.374Z"
   },
   {
    "duration": 386,
    "start_time": "2022-11-13T11:25:34.222Z"
   },
   {
    "duration": 320,
    "start_time": "2022-11-13T11:25:41.607Z"
   },
   {
    "duration": 124,
    "start_time": "2022-11-13T11:25:59.895Z"
   },
   {
    "duration": 212,
    "start_time": "2022-11-13T11:26:55.327Z"
   },
   {
    "duration": 308,
    "start_time": "2022-11-13T11:27:29.519Z"
   },
   {
    "duration": 281,
    "start_time": "2022-11-13T11:28:00.377Z"
   },
   {
    "duration": 9,
    "start_time": "2022-11-13T11:32:18.599Z"
   },
   {
    "duration": 11,
    "start_time": "2022-11-13T11:33:11.665Z"
   },
   {
    "duration": 145,
    "start_time": "2022-11-13T11:33:15.721Z"
   },
   {
    "duration": 708,
    "start_time": "2022-11-13T11:33:17.873Z"
   },
   {
    "duration": 705,
    "start_time": "2022-11-13T11:33:32.329Z"
   },
   {
    "duration": 1164,
    "start_time": "2022-11-13T11:33:38.429Z"
   },
   {
    "duration": 36,
    "start_time": "2022-11-13T11:33:39.595Z"
   },
   {
    "duration": 8,
    "start_time": "2022-11-13T11:33:39.633Z"
   },
   {
    "duration": 13,
    "start_time": "2022-11-13T11:33:39.643Z"
   },
   {
    "duration": 12,
    "start_time": "2022-11-13T11:33:39.658Z"
   },
   {
    "duration": 55,
    "start_time": "2022-11-13T11:33:39.672Z"
   },
   {
    "duration": 27,
    "start_time": "2022-11-13T11:33:39.729Z"
   },
   {
    "duration": 10,
    "start_time": "2022-11-13T11:33:39.758Z"
   },
   {
    "duration": 7,
    "start_time": "2022-11-13T11:33:39.769Z"
   },
   {
    "duration": 17,
    "start_time": "2022-11-13T11:33:39.778Z"
   },
   {
    "duration": 201,
    "start_time": "2022-11-13T11:33:39.796Z"
   },
   {
    "duration": 139,
    "start_time": "2022-11-13T11:33:39.999Z"
   },
   {
    "duration": 12,
    "start_time": "2022-11-13T11:33:40.139Z"
   },
   {
    "duration": 315,
    "start_time": "2022-11-13T11:33:40.153Z"
   },
   {
    "duration": 222,
    "start_time": "2022-11-13T11:33:40.470Z"
   },
   {
    "duration": 14,
    "start_time": "2022-11-13T11:33:40.694Z"
   },
   {
    "duration": 388,
    "start_time": "2022-11-13T11:33:40.719Z"
   },
   {
    "duration": 222,
    "start_time": "2022-11-13T11:33:41.108Z"
   },
   {
    "duration": 306,
    "start_time": "2022-11-13T11:33:41.332Z"
   },
   {
    "duration": 113,
    "start_time": "2022-11-13T11:33:41.639Z"
   },
   {
    "duration": 0,
    "start_time": "2022-11-13T11:33:41.753Z"
   },
   {
    "duration": 130,
    "start_time": "2022-11-13T11:35:00.258Z"
   },
   {
    "duration": 728,
    "start_time": "2022-11-13T11:35:10.882Z"
   },
   {
    "duration": 6,
    "start_time": "2022-11-13T11:35:43.956Z"
   },
   {
    "duration": 6,
    "start_time": "2022-11-13T11:36:13.754Z"
   },
   {
    "duration": 136,
    "start_time": "2022-11-13T11:44:27.996Z"
   },
   {
    "duration": 4,
    "start_time": "2022-11-13T11:45:28.307Z"
   },
   {
    "duration": 5,
    "start_time": "2022-11-13T11:46:03.751Z"
   },
   {
    "duration": 285,
    "start_time": "2022-11-13T12:20:09.586Z"
   },
   {
    "duration": 29,
    "start_time": "2022-11-13T12:22:08.086Z"
   },
   {
    "duration": 29,
    "start_time": "2022-11-13T12:22:25.686Z"
   },
   {
    "duration": 31,
    "start_time": "2022-11-13T12:22:28.638Z"
   },
   {
    "duration": 1231,
    "start_time": "2022-11-13T12:22:33.008Z"
   },
   {
    "duration": 36,
    "start_time": "2022-11-13T12:22:34.241Z"
   },
   {
    "duration": 8,
    "start_time": "2022-11-13T12:22:34.278Z"
   },
   {
    "duration": 12,
    "start_time": "2022-11-13T12:22:34.288Z"
   },
   {
    "duration": 15,
    "start_time": "2022-11-13T12:22:34.302Z"
   },
   {
    "duration": 53,
    "start_time": "2022-11-13T12:22:34.319Z"
   },
   {
    "duration": 29,
    "start_time": "2022-11-13T12:22:34.374Z"
   },
   {
    "duration": 9,
    "start_time": "2022-11-13T12:22:34.404Z"
   },
   {
    "duration": 14,
    "start_time": "2022-11-13T12:22:34.415Z"
   },
   {
    "duration": 18,
    "start_time": "2022-11-13T12:22:34.431Z"
   },
   {
    "duration": 186,
    "start_time": "2022-11-13T12:22:34.451Z"
   },
   {
    "duration": 135,
    "start_time": "2022-11-13T12:22:34.639Z"
   },
   {
    "duration": 14,
    "start_time": "2022-11-13T12:22:34.775Z"
   },
   {
    "duration": 314,
    "start_time": "2022-11-13T12:22:34.791Z"
   },
   {
    "duration": 222,
    "start_time": "2022-11-13T12:22:35.107Z"
   },
   {
    "duration": 14,
    "start_time": "2022-11-13T12:22:35.331Z"
   },
   {
    "duration": 289,
    "start_time": "2022-11-13T12:22:35.347Z"
   },
   {
    "duration": 231,
    "start_time": "2022-11-13T12:22:35.637Z"
   },
   {
    "duration": 282,
    "start_time": "2022-11-13T12:22:35.871Z"
   },
   {
    "duration": 154,
    "start_time": "2022-11-13T12:22:36.155Z"
   },
   {
    "duration": 12,
    "start_time": "2022-11-13T12:22:36.311Z"
   },
   {
    "duration": 201,
    "start_time": "2022-11-13T12:22:36.325Z"
   },
   {
    "duration": 5,
    "start_time": "2022-11-13T12:22:36.527Z"
   },
   {
    "duration": 326,
    "start_time": "2022-11-13T12:22:36.534Z"
   },
   {
    "duration": 30,
    "start_time": "2022-11-13T12:22:36.862Z"
   },
   {
    "duration": 143,
    "start_time": "2022-11-13T12:28:01.383Z"
   },
   {
    "duration": 112,
    "start_time": "2022-11-13T12:28:04.625Z"
   },
   {
    "duration": 7,
    "start_time": "2022-11-13T12:28:36.208Z"
   },
   {
    "duration": 9,
    "start_time": "2022-11-13T12:29:28.312Z"
   },
   {
    "duration": 23,
    "start_time": "2022-11-13T12:30:28.491Z"
   },
   {
    "duration": 23,
    "start_time": "2022-11-13T12:30:43.886Z"
   },
   {
    "duration": 25,
    "start_time": "2022-11-13T12:30:47.640Z"
   },
   {
    "duration": 23,
    "start_time": "2022-11-13T12:30:50.906Z"
   },
   {
    "duration": 23,
    "start_time": "2022-11-13T12:31:10.178Z"
   },
   {
    "duration": 11,
    "start_time": "2022-11-13T12:33:24.506Z"
   },
   {
    "duration": 14,
    "start_time": "2022-11-13T12:33:39.594Z"
   },
   {
    "duration": 8,
    "start_time": "2022-11-13T12:39:35.507Z"
   },
   {
    "duration": 6,
    "start_time": "2022-11-13T12:39:37.036Z"
   },
   {
    "duration": 13,
    "start_time": "2022-11-13T12:44:52.094Z"
   },
   {
    "duration": 9,
    "start_time": "2022-11-13T12:45:26.390Z"
   },
   {
    "duration": 24,
    "start_time": "2022-11-13T12:48:17.903Z"
   },
   {
    "duration": 12,
    "start_time": "2022-11-13T12:51:01.967Z"
   },
   {
    "duration": 15,
    "start_time": "2022-11-13T12:51:07.688Z"
   },
   {
    "duration": 28,
    "start_time": "2022-11-13T12:54:16.585Z"
   },
   {
    "duration": 31,
    "start_time": "2022-11-13T12:54:23.776Z"
   },
   {
    "duration": 7,
    "start_time": "2022-11-13T13:04:47.260Z"
   },
   {
    "duration": 1208,
    "start_time": "2022-11-13T13:47:48.597Z"
   },
   {
    "duration": 35,
    "start_time": "2022-11-13T13:47:49.807Z"
   },
   {
    "duration": 8,
    "start_time": "2022-11-13T13:47:49.844Z"
   },
   {
    "duration": 17,
    "start_time": "2022-11-13T13:47:49.854Z"
   },
   {
    "duration": 11,
    "start_time": "2022-11-13T13:47:49.872Z"
   },
   {
    "duration": 50,
    "start_time": "2022-11-13T13:47:49.885Z"
   },
   {
    "duration": 26,
    "start_time": "2022-11-13T13:47:49.937Z"
   },
   {
    "duration": 9,
    "start_time": "2022-11-13T13:47:49.964Z"
   },
   {
    "duration": 7,
    "start_time": "2022-11-13T13:47:49.974Z"
   },
   {
    "duration": 19,
    "start_time": "2022-11-13T13:47:49.983Z"
   },
   {
    "duration": 174,
    "start_time": "2022-11-13T13:47:50.019Z"
   },
   {
    "duration": 148,
    "start_time": "2022-11-13T13:47:50.195Z"
   },
   {
    "duration": 14,
    "start_time": "2022-11-13T13:47:50.345Z"
   },
   {
    "duration": 313,
    "start_time": "2022-11-13T13:47:50.360Z"
   },
   {
    "duration": 223,
    "start_time": "2022-11-13T13:47:50.675Z"
   },
   {
    "duration": 21,
    "start_time": "2022-11-13T13:47:50.900Z"
   },
   {
    "duration": 298,
    "start_time": "2022-11-13T13:47:50.923Z"
   },
   {
    "duration": 209,
    "start_time": "2022-11-13T13:47:51.223Z"
   },
   {
    "duration": 300,
    "start_time": "2022-11-13T13:47:51.433Z"
   },
   {
    "duration": 131,
    "start_time": "2022-11-13T13:47:51.735Z"
   },
   {
    "duration": 4,
    "start_time": "2022-11-13T13:47:51.868Z"
   },
   {
    "duration": 155,
    "start_time": "2022-11-13T13:47:51.874Z"
   },
   {
    "duration": 4,
    "start_time": "2022-11-13T13:47:52.031Z"
   },
   {
    "duration": 309,
    "start_time": "2022-11-13T13:47:52.037Z"
   },
   {
    "duration": 31,
    "start_time": "2022-11-13T13:47:52.348Z"
   },
   {
    "duration": 160,
    "start_time": "2022-11-13T13:47:52.380Z"
   },
   {
    "duration": 6,
    "start_time": "2022-11-13T13:47:52.542Z"
   },
   {
    "duration": 24,
    "start_time": "2022-11-13T13:47:52.552Z"
   },
   {
    "duration": 12,
    "start_time": "2022-11-13T13:47:52.578Z"
   },
   {
    "duration": 34,
    "start_time": "2022-11-13T13:47:52.592Z"
   },
   {
    "duration": 19,
    "start_time": "2022-11-13T13:47:52.627Z"
   },
   {
    "duration": 16,
    "start_time": "2022-11-13T13:47:52.648Z"
   },
   {
    "duration": 27,
    "start_time": "2022-11-13T13:47:52.666Z"
   },
   {
    "duration": 25,
    "start_time": "2022-11-13T13:47:52.695Z"
   },
   {
    "duration": 1248,
    "start_time": "2022-11-13T13:51:19.115Z"
   },
   {
    "duration": 36,
    "start_time": "2022-11-13T13:51:20.365Z"
   },
   {
    "duration": 7,
    "start_time": "2022-11-13T13:51:20.403Z"
   },
   {
    "duration": 17,
    "start_time": "2022-11-13T13:51:20.412Z"
   },
   {
    "duration": 14,
    "start_time": "2022-11-13T13:51:20.431Z"
   },
   {
    "duration": 61,
    "start_time": "2022-11-13T13:51:20.447Z"
   },
   {
    "duration": 28,
    "start_time": "2022-11-13T13:51:20.509Z"
   },
   {
    "duration": 9,
    "start_time": "2022-11-13T13:51:20.538Z"
   },
   {
    "duration": 15,
    "start_time": "2022-11-13T13:51:20.548Z"
   },
   {
    "duration": 26,
    "start_time": "2022-11-13T13:51:20.567Z"
   },
   {
    "duration": 174,
    "start_time": "2022-11-13T13:51:20.595Z"
   },
   {
    "duration": 132,
    "start_time": "2022-11-13T13:51:20.771Z"
   },
   {
    "duration": 26,
    "start_time": "2022-11-13T13:51:20.905Z"
   },
   {
    "duration": 312,
    "start_time": "2022-11-13T13:51:20.933Z"
   },
   {
    "duration": 213,
    "start_time": "2022-11-13T13:51:21.246Z"
   },
   {
    "duration": 14,
    "start_time": "2022-11-13T13:51:21.461Z"
   },
   {
    "duration": 331,
    "start_time": "2022-11-13T13:51:21.477Z"
   },
   {
    "duration": 228,
    "start_time": "2022-11-13T13:51:21.810Z"
   },
   {
    "duration": 304,
    "start_time": "2022-11-13T13:51:22.040Z"
   },
   {
    "duration": 128,
    "start_time": "2022-11-13T13:51:22.347Z"
   },
   {
    "duration": 4,
    "start_time": "2022-11-13T13:51:22.478Z"
   },
   {
    "duration": 176,
    "start_time": "2022-11-13T13:51:22.484Z"
   },
   {
    "duration": 4,
    "start_time": "2022-11-13T13:51:22.662Z"
   },
   {
    "duration": 313,
    "start_time": "2022-11-13T13:51:22.669Z"
   },
   {
    "duration": 37,
    "start_time": "2022-11-13T13:51:22.983Z"
   },
   {
    "duration": 164,
    "start_time": "2022-11-13T13:51:23.022Z"
   },
   {
    "duration": 6,
    "start_time": "2022-11-13T13:51:23.188Z"
   },
   {
    "duration": 34,
    "start_time": "2022-11-13T13:51:23.198Z"
   },
   {
    "duration": 14,
    "start_time": "2022-11-13T13:51:23.234Z"
   },
   {
    "duration": 12,
    "start_time": "2022-11-13T13:51:23.250Z"
   },
   {
    "duration": 17,
    "start_time": "2022-11-13T13:51:23.264Z"
   },
   {
    "duration": 24,
    "start_time": "2022-11-13T13:51:23.283Z"
   },
   {
    "duration": 34,
    "start_time": "2022-11-13T13:51:23.309Z"
   },
   {
    "duration": 16,
    "start_time": "2022-11-13T13:51:23.346Z"
   },
   {
    "duration": 1096,
    "start_time": "2022-11-13T14:06:57.110Z"
   },
   {
    "duration": 36,
    "start_time": "2022-11-13T14:06:58.208Z"
   },
   {
    "duration": 7,
    "start_time": "2022-11-13T14:06:58.245Z"
   },
   {
    "duration": 24,
    "start_time": "2022-11-13T14:06:58.253Z"
   },
   {
    "duration": 15,
    "start_time": "2022-11-13T14:06:58.279Z"
   },
   {
    "duration": 52,
    "start_time": "2022-11-13T14:06:58.296Z"
   },
   {
    "duration": 36,
    "start_time": "2022-11-13T14:06:58.349Z"
   },
   {
    "duration": 8,
    "start_time": "2022-11-13T14:06:58.387Z"
   },
   {
    "duration": 11,
    "start_time": "2022-11-13T14:06:58.396Z"
   },
   {
    "duration": 14,
    "start_time": "2022-11-13T14:06:58.409Z"
   },
   {
    "duration": 185,
    "start_time": "2022-11-13T14:06:58.424Z"
   },
   {
    "duration": 126,
    "start_time": "2022-11-13T14:06:58.612Z"
   },
   {
    "duration": 21,
    "start_time": "2022-11-13T14:06:58.740Z"
   },
   {
    "duration": 295,
    "start_time": "2022-11-13T14:06:58.764Z"
   },
   {
    "duration": 219,
    "start_time": "2022-11-13T14:06:59.062Z"
   },
   {
    "duration": 14,
    "start_time": "2022-11-13T14:06:59.283Z"
   },
   {
    "duration": 280,
    "start_time": "2022-11-13T14:06:59.299Z"
   },
   {
    "duration": 220,
    "start_time": "2022-11-13T14:06:59.581Z"
   },
   {
    "duration": 276,
    "start_time": "2022-11-13T14:06:59.802Z"
   },
   {
    "duration": 133,
    "start_time": "2022-11-13T14:07:00.080Z"
   },
   {
    "duration": 5,
    "start_time": "2022-11-13T14:07:00.215Z"
   },
   {
    "duration": 179,
    "start_time": "2022-11-13T14:07:00.222Z"
   },
   {
    "duration": 4,
    "start_time": "2022-11-13T14:07:00.403Z"
   },
   {
    "duration": 310,
    "start_time": "2022-11-13T14:07:00.408Z"
   },
   {
    "duration": 26,
    "start_time": "2022-11-13T14:07:00.720Z"
   },
   {
    "duration": 168,
    "start_time": "2022-11-13T14:07:00.748Z"
   },
   {
    "duration": 7,
    "start_time": "2022-11-13T14:07:00.918Z"
   },
   {
    "duration": 61,
    "start_time": "2022-11-13T14:07:00.928Z"
   },
   {
    "duration": 15,
    "start_time": "2022-11-13T14:07:00.991Z"
   },
   {
    "duration": 8,
    "start_time": "2022-11-13T14:07:01.008Z"
   },
   {
    "duration": 22,
    "start_time": "2022-11-13T14:07:01.018Z"
   },
   {
    "duration": 47,
    "start_time": "2022-11-13T14:07:01.042Z"
   },
   {
    "duration": 39,
    "start_time": "2022-11-13T14:07:01.091Z"
   },
   {
    "duration": 19,
    "start_time": "2022-11-13T14:07:01.132Z"
   },
   {
    "duration": 1419,
    "start_time": "2022-11-13T22:05:35.953Z"
   },
   {
    "duration": 93,
    "start_time": "2022-11-13T22:05:37.374Z"
   },
   {
    "duration": 7,
    "start_time": "2022-11-13T22:05:37.469Z"
   },
   {
    "duration": 32,
    "start_time": "2022-11-13T22:05:37.479Z"
   },
   {
    "duration": 15,
    "start_time": "2022-11-13T22:05:37.515Z"
   },
   {
    "duration": 138,
    "start_time": "2022-11-13T22:05:37.531Z"
   },
   {
    "duration": 79,
    "start_time": "2022-11-13T22:05:37.671Z"
   },
   {
    "duration": 10,
    "start_time": "2022-11-13T22:05:37.752Z"
   },
   {
    "duration": 20,
    "start_time": "2022-11-13T22:05:37.763Z"
   },
   {
    "duration": 17,
    "start_time": "2022-11-13T22:05:37.785Z"
   },
   {
    "duration": 180,
    "start_time": "2022-11-13T22:05:37.804Z"
   },
   {
    "duration": 141,
    "start_time": "2022-11-13T22:05:37.986Z"
   },
   {
    "duration": 13,
    "start_time": "2022-11-13T22:05:38.129Z"
   },
   {
    "duration": 312,
    "start_time": "2022-11-13T22:05:38.145Z"
   },
   {
    "duration": 212,
    "start_time": "2022-11-13T22:05:38.459Z"
   },
   {
    "duration": 14,
    "start_time": "2022-11-13T22:05:38.673Z"
   },
   {
    "duration": 379,
    "start_time": "2022-11-13T22:05:38.688Z"
   },
   {
    "duration": 222,
    "start_time": "2022-11-13T22:05:39.068Z"
   },
   {
    "duration": 115,
    "start_time": "2022-11-13T22:05:39.292Z"
   },
   {
    "duration": 0,
    "start_time": "2022-11-13T22:05:39.408Z"
   },
   {
    "duration": 0,
    "start_time": "2022-11-13T22:05:39.410Z"
   },
   {
    "duration": 0,
    "start_time": "2022-11-13T22:05:39.419Z"
   },
   {
    "duration": 0,
    "start_time": "2022-11-13T22:05:39.420Z"
   },
   {
    "duration": 0,
    "start_time": "2022-11-13T22:05:39.421Z"
   },
   {
    "duration": 0,
    "start_time": "2022-11-13T22:05:39.423Z"
   },
   {
    "duration": 0,
    "start_time": "2022-11-13T22:05:39.424Z"
   },
   {
    "duration": 0,
    "start_time": "2022-11-13T22:05:39.425Z"
   },
   {
    "duration": 0,
    "start_time": "2022-11-13T22:05:39.426Z"
   },
   {
    "duration": 0,
    "start_time": "2022-11-13T22:05:39.427Z"
   },
   {
    "duration": 0,
    "start_time": "2022-11-13T22:05:39.429Z"
   },
   {
    "duration": 0,
    "start_time": "2022-11-13T22:05:39.430Z"
   },
   {
    "duration": 0,
    "start_time": "2022-11-13T22:05:39.431Z"
   },
   {
    "duration": 0,
    "start_time": "2022-11-13T22:05:39.432Z"
   },
   {
    "duration": 0,
    "start_time": "2022-11-13T22:05:39.434Z"
   },
   {
    "duration": 0,
    "start_time": "2022-11-13T22:05:39.435Z"
   },
   {
    "duration": 16,
    "start_time": "2022-11-13T22:06:48.743Z"
   },
   {
    "duration": 168,
    "start_time": "2022-11-13T22:07:28.090Z"
   },
   {
    "duration": 166,
    "start_time": "2022-11-13T22:07:56.011Z"
   },
   {
    "duration": 46,
    "start_time": "2022-11-20T10:47:26.302Z"
   },
   {
    "duration": 1255,
    "start_time": "2022-11-20T10:47:33.857Z"
   },
   {
    "duration": 80,
    "start_time": "2022-11-20T10:47:35.117Z"
   },
   {
    "duration": 8,
    "start_time": "2022-11-20T10:47:35.199Z"
   },
   {
    "duration": 15,
    "start_time": "2022-11-20T10:47:35.208Z"
   },
   {
    "duration": 11,
    "start_time": "2022-11-20T10:47:35.225Z"
   },
   {
    "duration": 101,
    "start_time": "2022-11-20T10:47:35.237Z"
   },
   {
    "duration": 66,
    "start_time": "2022-11-20T10:47:35.340Z"
   },
   {
    "duration": 10,
    "start_time": "2022-11-20T10:47:35.409Z"
   },
   {
    "duration": 11,
    "start_time": "2022-11-20T10:47:35.423Z"
   },
   {
    "duration": 19,
    "start_time": "2022-11-20T10:47:35.436Z"
   },
   {
    "duration": 184,
    "start_time": "2022-11-20T10:47:35.457Z"
   },
   {
    "duration": 128,
    "start_time": "2022-11-20T10:47:35.643Z"
   },
   {
    "duration": 13,
    "start_time": "2022-11-20T10:47:35.773Z"
   },
   {
    "duration": 322,
    "start_time": "2022-11-20T10:47:35.797Z"
   },
   {
    "duration": 200,
    "start_time": "2022-11-20T10:47:36.120Z"
   },
   {
    "duration": 14,
    "start_time": "2022-11-20T10:47:36.321Z"
   },
   {
    "duration": 327,
    "start_time": "2022-11-20T10:47:36.336Z"
   },
   {
    "duration": 194,
    "start_time": "2022-11-20T10:47:36.664Z"
   },
   {
    "duration": 282,
    "start_time": "2022-11-20T10:47:36.859Z"
   },
   {
    "duration": 129,
    "start_time": "2022-11-20T10:47:37.143Z"
   },
   {
    "duration": 4,
    "start_time": "2022-11-20T10:47:37.273Z"
   },
   {
    "duration": 147,
    "start_time": "2022-11-20T10:47:37.279Z"
   },
   {
    "duration": 4,
    "start_time": "2022-11-20T10:47:37.427Z"
   },
   {
    "duration": 268,
    "start_time": "2022-11-20T10:47:37.433Z"
   },
   {
    "duration": 27,
    "start_time": "2022-11-20T10:47:37.703Z"
   },
   {
    "duration": 155,
    "start_time": "2022-11-20T10:47:37.731Z"
   },
   {
    "duration": 8,
    "start_time": "2022-11-20T10:47:37.890Z"
   },
   {
    "duration": 30,
    "start_time": "2022-11-20T10:47:37.900Z"
   },
   {
    "duration": 12,
    "start_time": "2022-11-20T10:47:37.932Z"
   },
   {
    "duration": 6,
    "start_time": "2022-11-20T10:47:37.945Z"
   },
   {
    "duration": 7,
    "start_time": "2022-11-20T10:47:37.953Z"
   },
   {
    "duration": 34,
    "start_time": "2022-11-20T10:47:37.962Z"
   },
   {
    "duration": 22,
    "start_time": "2022-11-20T10:47:38.000Z"
   },
   {
    "duration": 16,
    "start_time": "2022-11-20T10:47:38.023Z"
   },
   {
    "duration": 101,
    "start_time": "2022-11-20T10:51:10.230Z"
   },
   {
    "duration": 9,
    "start_time": "2022-11-20T10:51:33.228Z"
   },
   {
    "duration": 5,
    "start_time": "2022-11-20T10:51:43.647Z"
   },
   {
    "duration": 5,
    "start_time": "2022-11-20T10:51:53.039Z"
   },
   {
    "duration": 14,
    "start_time": "2022-11-20T10:52:58.623Z"
   },
   {
    "duration": 216,
    "start_time": "2022-11-20T10:53:13.096Z"
   },
   {
    "duration": 218,
    "start_time": "2022-11-20T10:53:29.696Z"
   },
   {
    "duration": 19,
    "start_time": "2022-11-20T11:05:34.242Z"
   },
   {
    "duration": 16,
    "start_time": "2022-11-20T11:05:46.329Z"
   },
   {
    "duration": 70,
    "start_time": "2022-11-20T11:06:45.300Z"
   },
   {
    "duration": 75,
    "start_time": "2022-11-20T11:09:19.636Z"
   },
   {
    "duration": 71,
    "start_time": "2022-11-20T11:09:26.812Z"
   },
   {
    "duration": 13,
    "start_time": "2022-11-20T11:12:41.590Z"
   },
   {
    "duration": 12,
    "start_time": "2022-11-20T11:13:14.113Z"
   },
   {
    "duration": 60,
    "start_time": "2022-11-20T11:13:23.323Z"
   },
   {
    "duration": 3,
    "start_time": "2022-11-20T11:14:23.636Z"
   },
   {
    "duration": 1127,
    "start_time": "2022-11-20T11:14:28.730Z"
   },
   {
    "duration": 37,
    "start_time": "2022-11-20T11:14:29.859Z"
   },
   {
    "duration": 9,
    "start_time": "2022-11-20T11:14:29.911Z"
   },
   {
    "duration": 14,
    "start_time": "2022-11-20T11:14:29.922Z"
   },
   {
    "duration": 17,
    "start_time": "2022-11-20T11:14:29.938Z"
   },
   {
    "duration": 57,
    "start_time": "2022-11-20T11:14:29.957Z"
   },
   {
    "duration": 29,
    "start_time": "2022-11-20T11:14:30.017Z"
   },
   {
    "duration": 11,
    "start_time": "2022-11-20T11:14:30.048Z"
   },
   {
    "duration": 20,
    "start_time": "2022-11-20T11:14:30.060Z"
   },
   {
    "duration": 95,
    "start_time": "2022-11-20T11:14:30.082Z"
   },
   {
    "duration": 12,
    "start_time": "2022-11-20T11:14:30.179Z"
   },
   {
    "duration": 24,
    "start_time": "2022-11-20T11:14:30.193Z"
   },
   {
    "duration": 25,
    "start_time": "2022-11-20T11:14:30.219Z"
   },
   {
    "duration": 203,
    "start_time": "2022-11-20T11:14:30.247Z"
   },
   {
    "duration": 132,
    "start_time": "2022-11-20T11:14:30.452Z"
   },
   {
    "duration": 24,
    "start_time": "2022-11-20T11:14:30.585Z"
   },
   {
    "duration": 315,
    "start_time": "2022-11-20T11:14:30.611Z"
   },
   {
    "duration": 233,
    "start_time": "2022-11-20T11:14:30.928Z"
   },
   {
    "duration": 14,
    "start_time": "2022-11-20T11:14:31.162Z"
   },
   {
    "duration": 337,
    "start_time": "2022-11-20T11:14:31.178Z"
   },
   {
    "duration": 209,
    "start_time": "2022-11-20T11:14:31.516Z"
   },
   {
    "duration": 5,
    "start_time": "2022-11-20T11:14:31.727Z"
   },
   {
    "duration": 238,
    "start_time": "2022-11-20T11:14:31.734Z"
   },
   {
    "duration": 316,
    "start_time": "2022-11-20T11:14:31.974Z"
   },
   {
    "duration": 154,
    "start_time": "2022-11-20T11:14:32.291Z"
   },
   {
    "duration": 5,
    "start_time": "2022-11-20T11:14:32.446Z"
   },
   {
    "duration": 227,
    "start_time": "2022-11-20T11:14:32.453Z"
   },
   {
    "duration": 4,
    "start_time": "2022-11-20T11:14:32.681Z"
   },
   {
    "duration": 224,
    "start_time": "2022-11-20T11:14:32.696Z"
   },
   {
    "duration": 31,
    "start_time": "2022-11-20T11:14:32.922Z"
   },
   {
    "duration": 156,
    "start_time": "2022-11-20T11:14:32.954Z"
   },
   {
    "duration": 8,
    "start_time": "2022-11-20T11:14:33.112Z"
   },
   {
    "duration": 29,
    "start_time": "2022-11-20T11:14:33.122Z"
   },
   {
    "duration": 14,
    "start_time": "2022-11-20T11:14:33.153Z"
   },
   {
    "duration": 43,
    "start_time": "2022-11-20T11:14:33.169Z"
   },
   {
    "duration": 10,
    "start_time": "2022-11-20T11:14:33.214Z"
   },
   {
    "duration": 18,
    "start_time": "2022-11-20T11:14:33.226Z"
   },
   {
    "duration": 26,
    "start_time": "2022-11-20T11:14:33.246Z"
   },
   {
    "duration": 36,
    "start_time": "2022-11-20T11:14:33.273Z"
   },
   {
    "duration": 4,
    "start_time": "2022-11-20T11:15:40.134Z"
   },
   {
    "duration": 12,
    "start_time": "2022-11-20T11:15:47.183Z"
   },
   {
    "duration": 4,
    "start_time": "2022-11-20T11:15:49.231Z"
   },
   {
    "duration": 1152,
    "start_time": "2022-11-20T11:16:08.586Z"
   },
   {
    "duration": 36,
    "start_time": "2022-11-20T11:16:09.740Z"
   },
   {
    "duration": 8,
    "start_time": "2022-11-20T11:16:09.777Z"
   },
   {
    "duration": 18,
    "start_time": "2022-11-20T11:16:09.787Z"
   },
   {
    "duration": 14,
    "start_time": "2022-11-20T11:16:09.807Z"
   },
   {
    "duration": 55,
    "start_time": "2022-11-20T11:16:09.823Z"
   },
   {
    "duration": 31,
    "start_time": "2022-11-20T11:16:09.880Z"
   },
   {
    "duration": 10,
    "start_time": "2022-11-20T11:16:09.913Z"
   },
   {
    "duration": 8,
    "start_time": "2022-11-20T11:16:09.925Z"
   },
   {
    "duration": 87,
    "start_time": "2022-11-20T11:16:09.935Z"
   },
   {
    "duration": 14,
    "start_time": "2022-11-20T11:16:10.023Z"
   },
   {
    "duration": 28,
    "start_time": "2022-11-20T11:16:10.039Z"
   },
   {
    "duration": 19,
    "start_time": "2022-11-20T11:16:10.069Z"
   },
   {
    "duration": 172,
    "start_time": "2022-11-20T11:16:10.089Z"
   },
   {
    "duration": 139,
    "start_time": "2022-11-20T11:16:10.263Z"
   },
   {
    "duration": 12,
    "start_time": "2022-11-20T11:16:10.403Z"
   },
   {
    "duration": 287,
    "start_time": "2022-11-20T11:16:10.417Z"
   },
   {
    "duration": 220,
    "start_time": "2022-11-20T11:16:10.706Z"
   },
   {
    "duration": 14,
    "start_time": "2022-11-20T11:16:10.928Z"
   },
   {
    "duration": 279,
    "start_time": "2022-11-20T11:16:10.944Z"
   },
   {
    "duration": 203,
    "start_time": "2022-11-20T11:16:11.225Z"
   },
   {
    "duration": 6,
    "start_time": "2022-11-20T11:16:11.429Z"
   },
   {
    "duration": 213,
    "start_time": "2022-11-20T11:16:11.436Z"
   },
   {
    "duration": 272,
    "start_time": "2022-11-20T11:16:11.650Z"
   },
   {
    "duration": 154,
    "start_time": "2022-11-20T11:16:11.925Z"
   },
   {
    "duration": 4,
    "start_time": "2022-11-20T11:16:12.080Z"
   },
   {
    "duration": 260,
    "start_time": "2022-11-20T11:16:12.086Z"
   },
   {
    "duration": 4,
    "start_time": "2022-11-20T11:16:12.349Z"
   },
   {
    "duration": 233,
    "start_time": "2022-11-20T11:16:12.354Z"
   },
   {
    "duration": 30,
    "start_time": "2022-11-20T11:16:12.589Z"
   },
   {
    "duration": 149,
    "start_time": "2022-11-20T11:16:12.621Z"
   },
   {
    "duration": 13,
    "start_time": "2022-11-20T11:16:12.772Z"
   },
   {
    "duration": 64,
    "start_time": "2022-11-20T11:16:12.787Z"
   },
   {
    "duration": 13,
    "start_time": "2022-11-20T11:16:12.852Z"
   },
   {
    "duration": 49,
    "start_time": "2022-11-20T11:16:12.867Z"
   },
   {
    "duration": 79,
    "start_time": "2022-11-20T11:16:12.918Z"
   },
   {
    "duration": 57,
    "start_time": "2022-11-20T11:16:12.999Z"
   },
   {
    "duration": 63,
    "start_time": "2022-11-20T11:16:13.057Z"
   },
   {
    "duration": 30,
    "start_time": "2022-11-20T11:16:13.122Z"
   },
   {
    "duration": 12,
    "start_time": "2022-11-20T11:17:35.731Z"
   },
   {
    "duration": 3,
    "start_time": "2022-11-20T11:17:38.408Z"
   },
   {
    "duration": 12,
    "start_time": "2022-11-20T11:18:08.055Z"
   },
   {
    "duration": 4,
    "start_time": "2022-11-20T11:18:10.630Z"
   },
   {
    "duration": 75,
    "start_time": "2022-11-20T11:18:15.176Z"
   },
   {
    "duration": 1216,
    "start_time": "2022-11-20T11:18:30.690Z"
   },
   {
    "duration": 43,
    "start_time": "2022-11-20T11:18:31.908Z"
   },
   {
    "duration": 14,
    "start_time": "2022-11-20T11:18:31.953Z"
   },
   {
    "duration": 34,
    "start_time": "2022-11-20T11:18:31.970Z"
   },
   {
    "duration": 22,
    "start_time": "2022-11-20T11:18:32.006Z"
   },
   {
    "duration": 59,
    "start_time": "2022-11-20T11:18:32.030Z"
   },
   {
    "duration": 29,
    "start_time": "2022-11-20T11:18:32.091Z"
   },
   {
    "duration": 10,
    "start_time": "2022-11-20T11:18:32.122Z"
   },
   {
    "duration": 11,
    "start_time": "2022-11-20T11:18:32.134Z"
   },
   {
    "duration": 77,
    "start_time": "2022-11-20T11:18:32.148Z"
   },
   {
    "duration": 12,
    "start_time": "2022-11-20T11:18:32.226Z"
   },
   {
    "duration": 78,
    "start_time": "2022-11-20T11:18:32.241Z"
   },
   {
    "duration": 14,
    "start_time": "2022-11-20T11:18:32.321Z"
   },
   {
    "duration": 190,
    "start_time": "2022-11-20T11:18:32.337Z"
   },
   {
    "duration": 146,
    "start_time": "2022-11-20T11:18:32.529Z"
   },
   {
    "duration": 20,
    "start_time": "2022-11-20T11:18:32.677Z"
   },
   {
    "duration": 350,
    "start_time": "2022-11-20T11:18:32.699Z"
   },
   {
    "duration": 240,
    "start_time": "2022-11-20T11:18:33.051Z"
   },
   {
    "duration": 16,
    "start_time": "2022-11-20T11:18:33.297Z"
   },
   {
    "duration": 316,
    "start_time": "2022-11-20T11:18:33.315Z"
   },
   {
    "duration": 228,
    "start_time": "2022-11-20T11:18:33.633Z"
   },
   {
    "duration": 7,
    "start_time": "2022-11-20T11:18:33.863Z"
   },
   {
    "duration": 238,
    "start_time": "2022-11-20T11:18:33.872Z"
   },
   {
    "duration": 336,
    "start_time": "2022-11-20T11:18:34.113Z"
   },
   {
    "duration": 194,
    "start_time": "2022-11-20T11:18:34.452Z"
   },
   {
    "duration": 6,
    "start_time": "2022-11-20T11:18:34.648Z"
   },
   {
    "duration": 266,
    "start_time": "2022-11-20T11:18:34.656Z"
   },
   {
    "duration": 4,
    "start_time": "2022-11-20T11:18:34.927Z"
   },
   {
    "duration": 242,
    "start_time": "2022-11-20T11:18:34.933Z"
   },
   {
    "duration": 55,
    "start_time": "2022-11-20T11:18:35.177Z"
   },
   {
    "duration": 221,
    "start_time": "2022-11-20T11:18:35.234Z"
   },
   {
    "duration": 7,
    "start_time": "2022-11-20T11:18:35.458Z"
   },
   {
    "duration": 37,
    "start_time": "2022-11-20T11:18:35.467Z"
   },
   {
    "duration": 16,
    "start_time": "2022-11-20T11:18:35.506Z"
   },
   {
    "duration": 19,
    "start_time": "2022-11-20T11:18:35.524Z"
   },
   {
    "duration": 27,
    "start_time": "2022-11-20T11:18:35.544Z"
   },
   {
    "duration": 24,
    "start_time": "2022-11-20T11:18:35.573Z"
   },
   {
    "duration": 40,
    "start_time": "2022-11-20T11:18:35.599Z"
   },
   {
    "duration": 18,
    "start_time": "2022-11-20T11:18:35.641Z"
   },
   {
    "duration": 15,
    "start_time": "2022-11-20T11:19:10.391Z"
   },
   {
    "duration": 1227,
    "start_time": "2022-11-20T11:19:15.216Z"
   },
   {
    "duration": 38,
    "start_time": "2022-11-20T11:19:16.445Z"
   },
   {
    "duration": 8,
    "start_time": "2022-11-20T11:19:16.485Z"
   },
   {
    "duration": 17,
    "start_time": "2022-11-20T11:19:16.495Z"
   },
   {
    "duration": 15,
    "start_time": "2022-11-20T11:19:16.514Z"
   },
   {
    "duration": 53,
    "start_time": "2022-11-20T11:19:16.530Z"
   },
   {
    "duration": 30,
    "start_time": "2022-11-20T11:19:16.584Z"
   },
   {
    "duration": 10,
    "start_time": "2022-11-20T11:19:16.616Z"
   },
   {
    "duration": 9,
    "start_time": "2022-11-20T11:19:16.628Z"
   },
   {
    "duration": 89,
    "start_time": "2022-11-20T11:19:16.640Z"
   },
   {
    "duration": 12,
    "start_time": "2022-11-20T11:19:16.730Z"
   },
   {
    "duration": 86,
    "start_time": "2022-11-20T11:19:16.743Z"
   },
   {
    "duration": 13,
    "start_time": "2022-11-20T11:19:16.831Z"
   },
   {
    "duration": 183,
    "start_time": "2022-11-20T11:19:16.846Z"
   },
   {
    "duration": 140,
    "start_time": "2022-11-20T11:19:17.030Z"
   },
   {
    "duration": 26,
    "start_time": "2022-11-20T11:19:17.172Z"
   },
   {
    "duration": 284,
    "start_time": "2022-11-20T11:19:17.200Z"
   },
   {
    "duration": 213,
    "start_time": "2022-11-20T11:19:17.486Z"
   },
   {
    "duration": 17,
    "start_time": "2022-11-20T11:19:17.702Z"
   },
   {
    "duration": 352,
    "start_time": "2022-11-20T11:19:17.721Z"
   },
   {
    "duration": 224,
    "start_time": "2022-11-20T11:19:18.075Z"
   },
   {
    "duration": 8,
    "start_time": "2022-11-20T11:19:18.301Z"
   },
   {
    "duration": 225,
    "start_time": "2022-11-20T11:19:18.311Z"
   },
   {
    "duration": 295,
    "start_time": "2022-11-20T11:19:18.539Z"
   },
   {
    "duration": 183,
    "start_time": "2022-11-20T11:19:18.835Z"
   },
   {
    "duration": 6,
    "start_time": "2022-11-20T11:19:19.020Z"
   },
   {
    "duration": 268,
    "start_time": "2022-11-20T11:19:19.028Z"
   },
   {
    "duration": 8,
    "start_time": "2022-11-20T11:19:19.299Z"
   },
   {
    "duration": 225,
    "start_time": "2022-11-20T11:19:19.308Z"
   },
   {
    "duration": 46,
    "start_time": "2022-11-20T11:19:19.535Z"
   },
   {
    "duration": 164,
    "start_time": "2022-11-20T11:19:19.597Z"
   },
   {
    "duration": 6,
    "start_time": "2022-11-20T11:19:19.763Z"
   },
   {
    "duration": 37,
    "start_time": "2022-11-20T11:19:19.771Z"
   },
   {
    "duration": 12,
    "start_time": "2022-11-20T11:19:19.810Z"
   },
   {
    "duration": 6,
    "start_time": "2022-11-20T11:19:19.824Z"
   },
   {
    "duration": 9,
    "start_time": "2022-11-20T11:19:19.832Z"
   },
   {
    "duration": 11,
    "start_time": "2022-11-20T11:19:19.843Z"
   },
   {
    "duration": 56,
    "start_time": "2022-11-20T11:19:19.856Z"
   },
   {
    "duration": 19,
    "start_time": "2022-11-20T11:19:19.914Z"
   },
   {
    "duration": 64,
    "start_time": "2022-11-20T11:21:12.431Z"
   },
   {
    "duration": 64,
    "start_time": "2022-11-20T11:21:20.520Z"
   },
   {
    "duration": 161,
    "start_time": "2022-11-20T11:21:40.381Z"
   },
   {
    "duration": 123,
    "start_time": "2022-11-20T11:21:42.120Z"
   },
   {
    "duration": 210,
    "start_time": "2022-11-20T11:22:11.496Z"
   },
   {
    "duration": 6,
    "start_time": "2022-11-20T11:32:33.540Z"
   },
   {
    "duration": 6,
    "start_time": "2022-11-20T11:32:37.197Z"
   },
   {
    "duration": 8,
    "start_time": "2022-11-20T11:33:09.828Z"
   },
   {
    "duration": 23,
    "start_time": "2022-11-20T11:33:14.132Z"
   },
   {
    "duration": 14,
    "start_time": "2022-11-20T11:33:37.889Z"
   },
   {
    "duration": 1344,
    "start_time": "2022-11-20T15:53:16.764Z"
   },
   {
    "duration": 78,
    "start_time": "2022-11-20T15:53:18.110Z"
   },
   {
    "duration": 7,
    "start_time": "2022-11-20T15:53:18.190Z"
   },
   {
    "duration": 16,
    "start_time": "2022-11-20T15:53:18.199Z"
   },
   {
    "duration": 10,
    "start_time": "2022-11-20T15:53:18.217Z"
   },
   {
    "duration": 82,
    "start_time": "2022-11-20T15:53:18.229Z"
   },
   {
    "duration": 69,
    "start_time": "2022-11-20T15:53:18.313Z"
   },
   {
    "duration": 9,
    "start_time": "2022-11-20T15:53:18.384Z"
   },
   {
    "duration": 6,
    "start_time": "2022-11-20T15:53:18.394Z"
   },
   {
    "duration": 77,
    "start_time": "2022-11-20T15:53:18.402Z"
   },
   {
    "duration": 12,
    "start_time": "2022-11-20T15:53:18.481Z"
   },
   {
    "duration": 98,
    "start_time": "2022-11-20T15:53:18.494Z"
   },
   {
    "duration": 12,
    "start_time": "2022-11-20T15:53:18.593Z"
   },
   {
    "duration": 182,
    "start_time": "2022-11-20T15:53:18.608Z"
   },
   {
    "duration": 116,
    "start_time": "2022-11-20T15:53:18.792Z"
   },
   {
    "duration": 11,
    "start_time": "2022-11-20T15:53:18.910Z"
   },
   {
    "duration": 336,
    "start_time": "2022-11-20T15:53:18.923Z"
   },
   {
    "duration": 210,
    "start_time": "2022-11-20T15:53:19.260Z"
   },
   {
    "duration": 15,
    "start_time": "2022-11-20T15:53:19.477Z"
   },
   {
    "duration": 351,
    "start_time": "2022-11-20T15:53:19.493Z"
   },
   {
    "duration": 208,
    "start_time": "2022-11-20T15:53:19.846Z"
   },
   {
    "duration": 6,
    "start_time": "2022-11-20T15:53:20.055Z"
   },
   {
    "duration": 211,
    "start_time": "2022-11-20T15:53:20.062Z"
   },
   {
    "duration": 303,
    "start_time": "2022-11-20T15:53:20.277Z"
   },
   {
    "duration": 156,
    "start_time": "2022-11-20T15:53:20.582Z"
   },
   {
    "duration": 5,
    "start_time": "2022-11-20T15:53:20.740Z"
   },
   {
    "duration": 219,
    "start_time": "2022-11-20T15:53:20.747Z"
   },
   {
    "duration": 10,
    "start_time": "2022-11-20T15:53:20.968Z"
   },
   {
    "duration": 210,
    "start_time": "2022-11-20T15:53:20.980Z"
   },
   {
    "duration": 28,
    "start_time": "2022-11-20T15:53:21.192Z"
   },
   {
    "duration": 157,
    "start_time": "2022-11-20T15:53:21.221Z"
   },
   {
    "duration": 6,
    "start_time": "2022-11-20T15:53:21.380Z"
   },
   {
    "duration": 26,
    "start_time": "2022-11-20T15:53:21.388Z"
   },
   {
    "duration": 12,
    "start_time": "2022-11-20T15:53:21.416Z"
   },
   {
    "duration": 6,
    "start_time": "2022-11-20T15:53:21.430Z"
   },
   {
    "duration": 8,
    "start_time": "2022-11-20T15:53:21.437Z"
   },
   {
    "duration": 7,
    "start_time": "2022-11-20T15:53:21.478Z"
   },
   {
    "duration": 24,
    "start_time": "2022-11-20T15:53:21.487Z"
   },
   {
    "duration": 14,
    "start_time": "2022-11-20T15:53:21.513Z"
   }
  ],
  "kernelspec": {
   "display_name": "Python 3 (ipykernel)",
   "language": "python",
   "name": "python3"
  },
  "language_info": {
   "codemirror_mode": {
    "name": "ipython",
    "version": 3
   },
   "file_extension": ".py",
   "mimetype": "text/x-python",
   "name": "python",
   "nbconvert_exporter": "python",
   "pygments_lexer": "ipython3",
   "version": "3.9.7"
  },
  "toc": {
   "base_numbering": 1,
   "nav_menu": {},
   "number_sections": true,
   "sideBar": true,
   "skip_h1_title": true,
   "title_cell": "Table of Contents",
   "title_sidebar": "Contents",
   "toc_cell": false,
   "toc_position": {},
   "toc_section_display": true,
   "toc_window_display": false
  }
 },
 "nbformat": 4,
 "nbformat_minor": 2
}
