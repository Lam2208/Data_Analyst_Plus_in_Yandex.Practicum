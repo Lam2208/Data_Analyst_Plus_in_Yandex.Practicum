{
 "cells": [
  {
   "cell_type": "markdown",
   "metadata": {},
   "source": [
    "# Описание проекта\n",
    "\n",
    "   Сеть фитнес-центров «Культурист-датасаентист» разрабатывает стратегию взаимодействия с клиентами на основе аналитических данных. \n",
    "   \n",
    "   Распространённая проблема фитнес-клубов и других сервисов — отток клиентов. Как понять, что клиент больше не с вами? Индикаторы оттока зависят от специфики отрасли. Для фитнес-центра можно считать, что клиент попал в отток, если за последний месяц ни разу не посетил спортзал. Конечно, не исключено, что он уехал в отпуск и по приезде обязательно продолжит ходить на фитнес. Однако чаще бывает наоборот. Если клиент начал новую жизнь с понедельника, немного походил в спортзал, а потом пропал — скорее всего, он не вернётся. \n",
    "   \n",
    "   Чтобы бороться с оттоком, отдел по работе с клиентами «Культуриста-датасаентиста» перевёл в электронный вид множество клиентских анкет. Наша задача — провести анализ и подготовить план действий по удержанию клиентов.  \n",
    "   \n",
    "   А именно: \n",
    "    \n",
    "- научиться прогнозировать вероятность оттока (на уровне следующего месяца) для каждого клиента;\n",
    "\n",
    "- сформировать типичные портреты клиентов: выделить несколько наиболее ярких групп и охарактеризовать их основные свойства;\n",
    "\n",
    "- проанализировать основные признаки, наиболее сильно влияющие на отток;\n",
    "\n",
    "- сформулировать основные выводы и разработать рекомендации по повышению качества работы с клиентами:\n",
    "\n",
    "  - выделить целевые группы клиентов;\n",
    "\n",
    "  - предложить меры по снижению оттока;\n",
    "\n",
    "  - определить другие особенности взаимодействия с клиентами."
   ]
  },
  {
   "cell_type": "markdown",
   "metadata": {},
   "source": [
    "# Описание данных\n",
    "\n",
    "«Культурист-датасаентист» предоставил сведения в csv-файлах. Заказчик подготовил данные, которые содержат данные на месяц до оттока и факт оттока на определённый месяц. Набор данных включает следующие поля:\n",
    "\n",
    "- Данные клиента за предыдущий до проверки факта оттока месяц:\n",
    "\n",
    "  - 'gender' — пол;\n",
    "\n",
    "  - 'Near_Location' — проживание или работа в районе, где находится фитнес-центр;\n",
    "\n",
    "  - 'Partner' — сотрудник компании-партнёра клуба (сотрудничество с компаниями, чьи сотрудники могут получать скидки на абонемент — в таком случае фитнес-центр хранит информацию о работодателе клиента);\n",
    "\n",
    "  - Promo_friends — факт первоначальной записи в рамках акции «приведи друга» (использовал промо-код от знакомого при оплате первого абонемента);\n",
    "\n",
    "  - 'Phone' — наличие контактного телефона;\n",
    "\n",
    "  - 'Age' — возраст;\n",
    "\n",
    "  - 'Lifetime' — время с момента первого обращения в фитнес-центр (в месяцах).\n",
    "\n",
    "- Информация на основе журнала посещений, покупок и информация о текущем статусе абонемента клиента:\n",
    "\n",
    "  - 'Contract_period' — длительность текущего действующего абонемента (месяц, 6 месяцев, год);\n",
    "\n",
    "  - 'Month_to_end_contract' — срок до окончания текущего действующего абонемента (в месяцах);\n",
    "\n",
    "  - 'Group_visits' — факт посещения групповых занятий;\n",
    "\n",
    "  - 'Avg_class_frequency_total' — средняя частота посещений в неделю за все время с начала действия абонемента;\n",
    "\n",
    "  - 'Avg_class_frequency_current_month' — средняя частота посещений в неделю за предыдущий месяц;\n",
    "\n",
    "  - 'Avg_additional_charges_total' — суммарная выручка от других услуг фитнес-центра: кафе, спорттовары, косметический и массажный салон.\n",
    "\n",
    "  - 'Churn' — факт оттока в текущем месяце."
   ]
  },
  {
   "cell_type": "markdown",
   "metadata": {},
   "source": [
    "## Загрузите данные"
   ]
  },
  {
   "cell_type": "code",
   "execution_count": null,
   "metadata": {},
   "outputs": [],
   "source": [
    "import pandas as pd\n",
    "import seaborn as sns\n",
    "import matplotlib.pyplot as plt\n",
    "from matplotlib import transforms\n",
    "import numpy as np\n",
    "import seaborn as sns\n",
    "from sklearn.model_selection import train_test_split\n",
    "from sklearn.preprocessing import StandardScaler\n",
    "from sklearn.metrics import accuracy_score, precision_score, recall_score, f1_score, roc_auc_score\n",
    "from sklearn.linear_model import LogisticRegression\n",
    "from sklearn.ensemble import RandomForestClassifier\n",
    "from scipy.cluster.hierarchy import dendrogram, linkage\n",
    "from sklearn.cluster import KMeans\n",
    "from sklearn.metrics import silhouette_score\n",
    "import warnings\n",
    "warnings.filterwarnings('ignore')"
   ]
  },
  {
   "cell_type": "code",
   "execution_count": null,
   "metadata": {},
   "outputs": [],
   "source": [
    "pd.set_option('display.max_colwidth', None)\n",
    "pd.set_option('display.max_rows', 500)\n",
    "pd.set_option('display.max_columns', 500)\n",
    "pd.set_option('display.width', 1000)"
   ]
  },
  {
   "cell_type": "code",
   "execution_count": null,
   "metadata": {},
   "outputs": [],
   "source": [
    "df = pd.read_csv('/datasets/gym_churn.csv')"
   ]
  },
  {
   "cell_type": "code",
   "execution_count": null,
   "metadata": {
    "scrolled": true
   },
   "outputs": [],
   "source": [
    "df.sample(10)"
   ]
  },
  {
   "cell_type": "markdown",
   "metadata": {},
   "source": [
    "## Проведите исследовательский анализ данных (EDA)"
   ]
  },
  {
   "cell_type": "markdown",
   "metadata": {},
   "source": [
    "Скорректируем названия столбцов и проверим датасет на пропуски"
   ]
  },
  {
   "cell_type": "code",
   "execution_count": null,
   "metadata": {},
   "outputs": [],
   "source": [
    "df.columns = df.columns.str.lower()\n",
    "print('Кол-во дублей в строках: {}\\n'.format(df.duplicated().sum()))\n",
    "print(df.info())\n",
    "print('\\n Пропусков в данных не обнаружено.')\n",
    "df.head(5)"
   ]
  },
  {
   "cell_type": "markdown",
   "metadata": {},
   "source": [
    "Изменим формат поля \"month_to_end_contract\" с плавающей точкой на целочисленный"
   ]
  },
  {
   "cell_type": "code",
   "execution_count": null,
   "metadata": {},
   "outputs": [],
   "source": [
    "df['month_to_end_contract'] = df['month_to_end_contract'].astype(np.int64)\n",
    "df.info()"
   ]
  },
  {
   "cell_type": "markdown",
   "metadata": {},
   "source": [
    "Провели первичный анализ датасета, исправили некоторые моменты, которые могли бы помешать более детальному анализу. Датасет готов к работе"
   ]
  },
  {
   "cell_type": "markdown",
   "metadata": {},
   "source": [
    "Теперь посмотрим на средние значения признаков в двух группах — тех, кто ушел в отток и тех, кто остался"
   ]
  },
  {
   "cell_type": "code",
   "execution_count": null,
   "metadata": {
    "scrolled": true
   },
   "outputs": [],
   "source": [
    "df.groupby('churn').agg({'mean', 'std', 'var'}).T"
   ]
  },
  {
   "cell_type": "markdown",
   "metadata": {},
   "source": [
    "**Промежуточные выводы:**\n",
    "\n",
    "- примерно одинаковое количество мужчин и женщин;\n",
    "- средний возраст посетителей в районе 27-30 лет;\n",
    "- большинство клиентов проживают или работают в районе, где находится фитнес-центр;\n",
    "- примерно половина клиентов являются сотрудниками компании-партнёра клуба;\n",
    "- факт первоначальной записи в рамках акции «приведи друга» около 30-35 %;\n",
    "- в среднем клиенты берут абонемент на 6 мес., но высокий показатель стандартного отклонения коэффициента вариативности говорит о том, что абонемент на 6 мес. не самый часто покупаемый;"
   ]
  },
  {
   "cell_type": "markdown",
   "metadata": {},
   "source": [
    "Посомотрим на столбчатые гистограммы и распределения признаков для тех, кто ушёл (отток) и тех, кто остался (не попали в отток)"
   ]
  },
  {
   "cell_type": "code",
   "execution_count": null,
   "metadata": {
    "scrolled": true
   },
   "outputs": [],
   "source": [
    "for column in df.columns:\n",
    "    plt.figure(figsize=(5, 5))\n",
    "    df.groupby('churn')[column]\n",
    "    sns.distplot(df[column])\n",
    "    plt.title(column)\n",
    "    plt.show()"
   ]
  },
  {
   "cell_type": "code",
   "execution_count": null,
   "metadata": {},
   "outputs": [],
   "source": [
    "columns_d1 = ['avg_additional_charges_total', 'avg_class_frequency_total', \n",
    "                    'avg_class_frequency_current_month', 'lifetime', 'age', \n",
    "                    'contract_period', 'month_to_end_contract']"
   ]
  },
  {
   "cell_type": "code",
   "execution_count": null,
   "metadata": {},
   "outputs": [],
   "source": [
    "for column in df.columns:\n",
    "  if column not in columns_d1:\n",
    "    df.groupby('churn')[column].hist()\n",
    "    plt.title(column)\n",
    "    plt.legend(['Оставшиеся', 'Отток'])\n",
    "    plt.show()"
   ]
  },
  {
   "cell_type": "markdown",
   "metadata": {},
   "source": [
    "**Промежуточные выводы:**\n",
    "\n",
    "- фактор расстояния не является основной причиной, т.к. видно что даже клиенты, находящиеся рядом с фитнес-центром тоже активно уходят;\n",
    "- в основном приобретают месячный абонемент;\n",
    "- большинство клиентов не посещают групповые занятия(Что вполне нормально. Я вот тоже хожу заниматься в основном в соло);\n",
    "- основное распределение трат в диапазоне от 0 до 150, далее показатель снижается и совсем редко превышает 400;\n",
    "- распределение продолжительности посещения в основном сосредоточено на отметке в 1-2 месяца, далее показатель резко падает."
   ]
  },
  {
   "cell_type": "markdown",
   "metadata": {},
   "source": [
    "Чтож, посмотрим на матрицу корреляций"
   ]
  },
  {
   "cell_type": "code",
   "execution_count": null,
   "metadata": {},
   "outputs": [],
   "source": [
    "cm=df.corr()\n",
    "plt.figure(figsize=(10,7))\n",
    "sns.heatmap(cm,annot=True,fmt='.2f',vmin=-0.5,annot_kws={\"size\": 10}, cmap=\"Blues\")\n",
    "plt.title('Матрица корреляций', fontsize = 12)\n",
    "plt.show()"
   ]
  },
  {
   "cell_type": "markdown",
   "metadata": {},
   "source": [
    "**Вывод:**\n",
    "\n",
    "Видим, что признаками с сильной корреляцией являются:\n",
    "\n",
    "- средняя частота посещений в неделю за предыдущий месяц и суммарная выручка от других услуг фитнес-центра: кафе, спорт-товары, косметический и массажный салон\n",
    "- срок до окончания текущего действующего абонемента (в месяцах) и длительность текущего действующего абонемента (месяц, 3 месяца, 6 месяцев, год);\n",
    "\n",
    "В общем то они показывают одно и тоже и для будущей модели они скорее не нужны, чем полезны."
   ]
  },
  {
   "cell_type": "markdown",
   "metadata": {},
   "source": [
    "## Построим модель прогнозирования оттока клиентов"
   ]
  },
  {
   "cell_type": "markdown",
   "metadata": {},
   "source": [
    "Разобьём данные на обучающую и валидационную выборку, после чего обучим модель на train-выборке двумя способами:\n",
    "- логистической регрессией,\n",
    "- случайным лесом.\n",
    "\n",
    "А также оценим метрики accuracy, precision и recall для обеих моделей на валидационной выборке и сравним по ним модели. "
   ]
  },
  {
   "cell_type": "code",
   "execution_count": null,
   "metadata": {},
   "outputs": [],
   "source": [
    "X = df.drop(['churn'], axis = 1)\n",
    "y = df['churn']\n",
    "X_train, X_test, y_train, y_test = train_test_split(X, y, test_size=0.2, random_state=0)\n",
    "scaler = StandardScaler()\n",
    "X_train_st = scaler.fit_transform(X_train)\n",
    "X_test_st = scaler.transform(X_test)\n",
    "\n",
    "lr_model = LogisticRegression(random_state=0)\n",
    "lr_model.fit(X_train_st, y_train)\n",
    "lr_predictions = lr_model.predict(X_test_st)\n",
    "lr_probabilities = lr_model.predict_proba(X_test_st)[:,1]\n",
    "print('Метрики для модели логистической регрессии:')\n",
    "print('accuracy_score: {}\\nprecision_score: {}\\nrecall_score:{}'.format(\n",
    "    accuracy_score(y_test, lr_predictions),\n",
    "    precision_score(y_test, lr_predictions),\n",
    "    recall_score(y_test, lr_predictions)\n",
    "))\n",
    "\n",
    "rf_model = RandomForestClassifier(n_estimators = 100, random_state = 0) \n",
    "rf_model.fit(X_train_st, y_train)\n",
    "rf_predictions = rf_model.predict(X_test_st)\n",
    "rf_probabilities = rf_model.predict_proba(X_test_st)[:,1]\n",
    "print('\\n Метрики для модели случайного леса:')\n",
    "print('accuracy_score: {}\\nprecision_score: {}\\nrecall_score:{}'.format(\n",
    "    accuracy_score(y_test, rf_predictions),\n",
    "    precision_score(y_test, rf_predictions),\n",
    "    recall_score(y_test, rf_predictions)\n",
    "))\n",
    "\n",
    "features = pd.DataFrame(lr_model.coef_.T, X.columns).reset_index()\n",
    "features.columns = ['feature', 'coef']\n",
    "features['coef'] = features['coef'].apply(lambda x: abs(x))\n",
    "features = features.sort_values(by='coef', ascending=False)\n",
    "print('\\n Коэффициенты признаков в оптимальной функции логистической регрессии:')\n",
    "print(features)"
   ]
  },
  {
   "cell_type": "markdown",
   "metadata": {},
   "source": [
    "**Вывод: Доля правильности и полнота прогнозов чуть выше в модели *логистической регрессии*, следовательно на данном этапе эта модель показала себя лучше**"
   ]
  },
  {
   "cell_type": "markdown",
   "metadata": {},
   "source": [
    "## Сделаем кластеризацию клиентов"
   ]
  },
  {
   "cell_type": "markdown",
   "metadata": {},
   "source": [
    "Стандартизируем данные, построим матрицу расстояний и нарисуем дендрограмму"
   ]
  },
  {
   "cell_type": "code",
   "execution_count": null,
   "metadata": {},
   "outputs": [],
   "source": [
    "df_sc = scaler.fit_transform(df.drop(columns = ['churn'])) "
   ]
  },
  {
   "cell_type": "code",
   "execution_count": null,
   "metadata": {
    "scrolled": true
   },
   "outputs": [],
   "source": [
    "linked = linkage(df_sc, method = 'ward')\n",
    "plt.figure(figsize=(23, 7))  \n",
    "dendrogram(linked, orientation='top', no_labels=True)\n",
    "plt.title('Дендрограмма иерархической кластеризации клиентов фитнес-клуба без `churn`', size=14)\n",
    "plt.show()"
   ]
  },
  {
   "cell_type": "markdown",
   "metadata": {},
   "source": [
    "Четыре разных цвета на дендограмме, следовательно оптимальное число кластеров - 4. Однако в соответсвии с ТЗ - число кластеров должно равняться пяти.\n",
    "\n",
    "Т.к. четвертый кластер очень большой, попробуем добавить столбец churn и посмотрим на результат"
   ]
  },
  {
   "cell_type": "code",
   "execution_count": null,
   "metadata": {},
   "outputs": [],
   "source": [
    "df_sc_1 = scaler.fit_transform(df) \n",
    "linked = linkage(df_sc, method = 'ward')\n",
    "plt.figure(figsize=(23, 7))  \n",
    "dendrogram(linked, orientation='top', no_labels=True)\n",
    "plt.title('Дендрограмма иерархической кластеризации клиентов фитнеса (с `churn`)', size=14)\n",
    "plt.show()"
   ]
  },
  {
   "cell_type": "markdown",
   "metadata": {},
   "source": [
    "**Промежуточный вывод:**\n",
    "\n",
    "На новой дендрограмме число кластеров соотвествует 5, и в целом данный график теперь выглядит более корректно"
   ]
  },
  {
   "cell_type": "markdown",
   "metadata": {},
   "source": [
    "Теперь обучим модель кластеризации на основании алгоритма K-Means и спрогнозируем кластеры клиентов. Сначала зададим число кластеров равное 5, применим алгоритм к данным и сформируем вектор кластеров. После чего сохраним метки кластера в поле *cluster_km*"
   ]
  },
  {
   "cell_type": "code",
   "execution_count": null,
   "metadata": {},
   "outputs": [],
   "source": [
    "km = KMeans(n_clusters = 5, random_state = 0)\n",
    "labels = km.fit_predict(df_sc_1)\n",
    "df['cluster_km'] = labels"
   ]
  },
  {
   "cell_type": "markdown",
   "metadata": {},
   "source": [
    "Посмотрим на средние значения признаков для кластеров"
   ]
  },
  {
   "cell_type": "code",
   "execution_count": null,
   "metadata": {},
   "outputs": [],
   "source": [
    "df.groupby('cluster_km').mean().T"
   ]
  },
  {
   "cell_type": "markdown",
   "metadata": {},
   "source": [
    "**Промежуточный вывод:**\n",
    "\n",
    "1. Почти все клиенты в оттоке попали в кластер № 2:\n",
    "\n",
    "- представителей мужчин и женщин в нем примерно поровну;\n",
    "- средний возраст клиентов находится в районе 27 лет;\n",
    "- почти все признаки ниже чем в остальных кластерах, особенно это заметно в таких показателях, как: длительность текущего действующего абонемента, суммарная выручка от других услуг фитнес-центра и длительность текущего действующего абонемента;\n",
    "\n",
    "2. В кластере № 0 из оттока 45 % клиентов. Отличительной особенностью этого кластера является полное отсутствие в базе информации о проживании или работе в районе, где находится фитнес-центр.\n",
    "\n",
    "3. Самые надежные кластеры № 1 и 3. Их отличительными особенностями являются:\n",
    "\n",
    "- самые возрастные клиенты - в обоих кластерах средний возраст около 30 лет;\n",
    "- стабильно высокая выручка от других услуг фитнес-центра;\n",
    "\n",
    "4. Отдельно можно выделить, что в кластере № 1 самая высокая средняя частота посещений."
   ]
  },
  {
   "cell_type": "markdown",
   "metadata": {},
   "source": [
    "Теперь построим распределения признаков для кластеров"
   ]
  },
  {
   "cell_type": "code",
   "execution_count": null,
   "metadata": {
    "scrolled": false
   },
   "outputs": [],
   "source": [
    "for value in [0, 1, 2, 3, 4]:\n",
    "  df[df['cluster_km']==value].hist(figsize=(17,10))\n",
    "  plt.suptitle('\\nРаспределение признаков для кластера {}'.format(value), fontsize = 15)\n",
    "  plt.show()"
   ]
  },
  {
   "cell_type": "markdown",
   "metadata": {},
   "source": [
    "**Промежуточный вывод:**\n",
    "\n",
    "Из ранее сделанных выводов по клиентам из оттока дополнительно можно сказать:\n",
    "\n",
    "- около 75 % всех клиентов живут или работают рядом с фитнес-центром;\n",
    "- половина клиентов не являются сотрудниками компании-партнера;\n",
    "- почти треть клиентов пришли по акции \"приведи друга\"."
   ]
  },
  {
   "cell_type": "code",
   "execution_count": null,
   "metadata": {
    "scrolled": true
   },
   "outputs": [],
   "source": [
    "df.groupby('cluster_km').agg({'churn':'mean'})"
   ]
  },
  {
   "cell_type": "markdown",
   "metadata": {},
   "source": [
    "**Промежуточный вывод:**\n",
    "\n",
    "Как уже было сказано ранее, кластер № 2 почти полностью сосостоит из клентов находящихся в оттоке, а клиенты из кластеров № 1 и 3 являются наиболее лояльными."
   ]
  },
  {
   "cell_type": "markdown",
   "metadata": {},
   "source": [
    "# Итоговые выводы и рекомендации:\n",
    "\n",
    "В ходе выполнения проекта были проведены:\n",
    "- исследовательский анализ данных; \n",
    "- построение двух моделей прогнозирования оттока клиентов;\n",
    "- кластеризация клиентов для определения поведенческих групп клиентов и отличительных признаков клиентов из имеющих наибольшую долю оттока.\n",
    "\n",
    "По ходу исследования, в отношении картины в целом, мы пришли к следующим выводам:\n",
    "\n",
    "- Распределение по полу примерно одинаково\n",
    "- Большинство клиентов живет или работает рядом с фитнес-клубом\n",
    "- Примерно половина клиентов являются сотрудниками партнерских организаций\n",
    "- Около 30% клиентов пришли по программе \"Приведи друга\"\n",
    "- В базе находятся мобильные номера примерно 90% клиентов\n",
    "- Средняя длительность абонементов клиентов - 4-5 месяцев\n",
    "\n",
    "Что касается отличий признаков у клиентов, попавших в отток и оставшихся, можно сказать:\n",
    "\n",
    "- Ближе живущие или работающие клиенты реже попадают в отток, что вполне логично.\n",
    "- Сотрудники компаний-партнеров реже перестают посещать фитнесс-клуб чем остальные клиенты.\n",
    "- Наличие мобильного номера клиента не отличается в группах.\n",
    "- Средняя длительность договора больше у оставшихся пользователей, в то время как у большей части клиентов в оттоке срок договора составляет 1 месяц (скорее это говорит о том, что чаще клиенты заключают договор на 1 месяц).\n",
    "- Оставшиеся пользователи чаще ходят на групповые занятия.\n",
    "- У групп есть разница в среднем возрасте клиентов.\n",
    "- Так же оставшиеся клиенты чаще пользуются другими услугами фитнес-центра.\n",
    "\n",
    "**Рекомендуемые меры по удержанию клиентов:**  \n",
    "\n",
    "1. Сделать более привлекательным к приобретению новым клиентам абонементы на срок от 6 месяцев;\n",
    "2. Провести промо-акции или как то ещё увеличить интерес к групповым занятиям;  \n",
    "3. Проанализировать дополнительные товары и услуги с более высоким спросом, чтобы в дальнейшем использовать их для привлечения клиентов;  "
   ]
  }
 ],
 "metadata": {
  "ExecuteTimeLog": [
   {
    "duration": 1752,
    "start_time": "2023-05-11T08:02:30.492Z"
   },
   {
    "duration": 3,
    "start_time": "2023-05-11T08:02:40.417Z"
   },
   {
    "duration": 166,
    "start_time": "2023-05-11T08:07:08.772Z"
   },
   {
    "duration": 17,
    "start_time": "2023-05-11T08:07:32.322Z"
   },
   {
    "duration": 74,
    "start_time": "2023-05-11T08:11:36.215Z"
   },
   {
    "duration": 19,
    "start_time": "2023-05-11T08:11:44.560Z"
   },
   {
    "duration": 14,
    "start_time": "2023-05-11T08:14:00.709Z"
   },
   {
    "duration": 33,
    "start_time": "2023-05-11T08:14:15.283Z"
   },
   {
    "duration": 29,
    "start_time": "2023-05-11T11:05:21.643Z"
   },
   {
    "duration": 15,
    "start_time": "2023-05-11T11:07:06.664Z"
   },
   {
    "duration": 48,
    "start_time": "2023-05-11T11:07:47.232Z"
   },
   {
    "duration": 2930,
    "start_time": "2023-05-11T11:08:25.582Z"
   },
   {
    "duration": 12,
    "start_time": "2023-05-11T11:09:54.460Z"
   },
   {
    "duration": 703,
    "start_time": "2023-05-11T11:10:39.154Z"
   },
   {
    "duration": 3,
    "start_time": "2023-05-11T11:12:50.739Z"
   },
   {
    "duration": 11,
    "start_time": "2023-05-11T11:12:52.146Z"
   },
   {
    "duration": 11,
    "start_time": "2023-05-11T11:12:57.600Z"
   },
   {
    "duration": 1400,
    "start_time": "2023-05-11T11:13:08.835Z"
   },
   {
    "duration": 1588,
    "start_time": "2023-05-11T11:14:07.497Z"
   },
   {
    "duration": 15,
    "start_time": "2023-05-11T11:15:51.528Z"
   },
   {
    "duration": 911,
    "start_time": "2023-05-11T11:16:30.416Z"
   },
   {
    "duration": 11,
    "start_time": "2023-05-11T11:19:17.939Z"
   },
   {
    "duration": 630,
    "start_time": "2023-05-11T11:19:30.718Z"
   },
   {
    "duration": 121670,
    "start_time": "2023-05-11T11:19:32.203Z"
   },
   {
    "duration": 1149,
    "start_time": "2023-05-11T11:21:33.875Z"
   },
   {
    "duration": 10,
    "start_time": "2023-05-11T11:22:49.209Z"
   },
   {
    "duration": 18,
    "start_time": "2023-05-11T11:22:52.177Z"
   },
   {
    "duration": 12,
    "start_time": "2023-05-11T11:23:31.023Z"
   },
   {
    "duration": 9,
    "start_time": "2023-05-11T11:23:51.631Z"
   },
   {
    "duration": 947,
    "start_time": "2023-05-11T11:24:33.551Z"
   },
   {
    "duration": 1610,
    "start_time": "2023-05-11T11:25:09.910Z"
   },
   {
    "duration": 21,
    "start_time": "2023-05-11T11:25:13.645Z"
   },
   {
    "duration": 8524,
    "start_time": "2023-05-11T11:25:50.828Z"
   },
   {
    "duration": 13,
    "start_time": "2023-05-11T11:26:53.540Z"
   },
   {
    "duration": 1928,
    "start_time": "2023-06-21T09:30:34.555Z"
   },
   {
    "duration": 3,
    "start_time": "2023-06-21T09:30:36.485Z"
   },
   {
    "duration": 218,
    "start_time": "2023-06-21T09:30:36.490Z"
   },
   {
    "duration": 25,
    "start_time": "2023-06-21T09:30:36.710Z"
   },
   {
    "duration": 72,
    "start_time": "2023-06-21T09:30:36.738Z"
   },
   {
    "duration": 27,
    "start_time": "2023-06-21T09:30:36.811Z"
   },
   {
    "duration": 66,
    "start_time": "2023-06-21T09:30:36.840Z"
   },
   {
    "duration": 3640,
    "start_time": "2023-06-21T09:30:36.908Z"
   },
   {
    "duration": 4,
    "start_time": "2023-06-21T09:30:40.549Z"
   },
   {
    "duration": 1533,
    "start_time": "2023-06-21T09:30:40.554Z"
   },
   {
    "duration": 1914,
    "start_time": "2023-06-21T09:30:42.089Z"
   },
   {
    "duration": 1724,
    "start_time": "2023-06-21T09:30:44.007Z"
   },
   {
    "duration": 823,
    "start_time": "2023-06-21T09:30:45.733Z"
   },
   {
    "duration": 143632,
    "start_time": "2023-06-21T09:30:46.564Z"
   },
   {
    "duration": 181,
    "start_time": "2023-06-21T09:33:10.199Z"
   },
   {
    "duration": 0,
    "start_time": "2023-06-21T09:33:10.382Z"
   },
   {
    "duration": 0,
    "start_time": "2023-06-21T09:33:10.384Z"
   },
   {
    "duration": 0,
    "start_time": "2023-06-21T09:33:10.388Z"
   },
   {
    "duration": 0,
    "start_time": "2023-06-21T09:33:10.389Z"
   },
   {
    "duration": 1036,
    "start_time": "2023-06-21T09:35:11.828Z"
   },
   {
    "duration": 1280,
    "start_time": "2023-06-21T09:35:16.267Z"
   },
   {
    "duration": 18,
    "start_time": "2023-06-21T09:35:18.063Z"
   },
   {
    "duration": 9914,
    "start_time": "2023-06-21T09:35:20.144Z"
   },
   {
    "duration": 13,
    "start_time": "2023-06-21T09:35:30.061Z"
   },
   {
    "duration": 1959,
    "start_time": "2023-06-21T10:38:02.891Z"
   },
   {
    "duration": 1727,
    "start_time": "2023-06-21T10:38:45.311Z"
   },
   {
    "duration": 22,
    "start_time": "2023-06-21T10:40:09.134Z"
   },
   {
    "duration": 1623,
    "start_time": "2023-06-21T10:40:10.522Z"
   },
   {
    "duration": 2063,
    "start_time": "2023-06-21T10:40:21.539Z"
   },
   {
    "duration": 1421,
    "start_time": "2023-06-21T10:41:12.983Z"
   },
   {
    "duration": 2776,
    "start_time": "2023-06-21T10:41:49.909Z"
   },
   {
    "duration": 6,
    "start_time": "2023-06-21T10:41:52.691Z"
   },
   {
    "duration": 70,
    "start_time": "2023-06-21T10:41:52.712Z"
   },
   {
    "duration": 51,
    "start_time": "2023-06-21T10:41:52.784Z"
   },
   {
    "duration": 64,
    "start_time": "2023-06-21T10:41:52.840Z"
   },
   {
    "duration": 20,
    "start_time": "2023-06-21T10:41:52.909Z"
   },
   {
    "duration": 77,
    "start_time": "2023-06-21T10:41:52.936Z"
   },
   {
    "duration": 4266,
    "start_time": "2023-06-21T10:41:53.019Z"
   },
   {
    "duration": 8,
    "start_time": "2023-06-21T10:41:57.290Z"
   },
   {
    "duration": 1968,
    "start_time": "2023-06-21T10:41:57.303Z"
   },
   {
    "duration": 3068,
    "start_time": "2023-06-21T10:41:59.277Z"
   },
   {
    "duration": 1772,
    "start_time": "2023-06-21T10:42:02.347Z"
   },
   {
    "duration": 31,
    "start_time": "2023-06-21T10:42:04.122Z"
   },
   {
    "duration": 1974,
    "start_time": "2023-06-21T10:42:04.157Z"
   },
   {
    "duration": 2304,
    "start_time": "2023-06-21T10:42:06.137Z"
   },
   {
    "duration": 275,
    "start_time": "2023-06-21T10:42:08.458Z"
   },
   {
    "duration": 0,
    "start_time": "2023-06-21T10:42:08.739Z"
   },
   {
    "duration": 0,
    "start_time": "2023-06-21T10:42:08.754Z"
   },
   {
    "duration": 0,
    "start_time": "2023-06-21T10:42:08.765Z"
   },
   {
    "duration": 1743,
    "start_time": "2023-06-21T10:42:25.628Z"
   },
   {
    "duration": 2335,
    "start_time": "2023-06-21T10:42:29.938Z"
   },
   {
    "duration": 89,
    "start_time": "2023-06-21T10:42:37.236Z"
   },
   {
    "duration": 13127,
    "start_time": "2023-06-21T10:42:39.230Z"
   },
   {
    "duration": 38,
    "start_time": "2023-06-21T10:42:52.363Z"
   },
   {
    "duration": 44,
    "start_time": "2023-06-21T10:59:52.319Z"
   },
   {
    "duration": 57,
    "start_time": "2023-06-21T11:00:08.608Z"
   },
   {
    "duration": 46,
    "start_time": "2023-06-21T11:01:08.819Z"
   },
   {
    "duration": 2195,
    "start_time": "2023-06-21T12:18:28.646Z"
   },
   {
    "duration": 3,
    "start_time": "2023-06-21T12:18:30.845Z"
   },
   {
    "duration": 52,
    "start_time": "2023-06-21T12:18:30.849Z"
   },
   {
    "duration": 102,
    "start_time": "2023-06-21T12:18:30.903Z"
   },
   {
    "duration": 299,
    "start_time": "2023-06-21T12:18:31.008Z"
   },
   {
    "duration": 30,
    "start_time": "2023-06-21T12:18:31.309Z"
   },
   {
    "duration": 112,
    "start_time": "2023-06-21T12:18:31.348Z"
   },
   {
    "duration": 4037,
    "start_time": "2023-06-21T12:18:31.466Z"
   },
   {
    "duration": 3,
    "start_time": "2023-06-21T12:18:35.504Z"
   },
   {
    "duration": 1588,
    "start_time": "2023-06-21T12:18:35.508Z"
   },
   {
    "duration": 1879,
    "start_time": "2023-06-21T12:18:37.098Z"
   },
   {
    "duration": 1545,
    "start_time": "2023-06-21T12:18:38.978Z"
   },
   {
    "duration": 33,
    "start_time": "2023-06-21T12:18:40.530Z"
   },
   {
    "duration": 1305,
    "start_time": "2023-06-21T12:18:40.575Z"
   },
   {
    "duration": 1285,
    "start_time": "2023-06-21T12:18:41.882Z"
   },
   {
    "duration": 1484,
    "start_time": "2023-06-21T12:18:43.175Z"
   },
   {
    "duration": 26,
    "start_time": "2023-06-21T12:18:44.664Z"
   },
   {
    "duration": 10342,
    "start_time": "2023-06-21T12:18:44.692Z"
   },
   {
    "duration": 26,
    "start_time": "2023-06-21T12:18:55.037Z"
   },
   {
    "duration": 3456,
    "start_time": "2023-06-21T19:48:59.839Z"
   },
   {
    "duration": 5,
    "start_time": "2023-06-21T19:49:03.303Z"
   },
   {
    "duration": 228,
    "start_time": "2023-06-21T19:49:03.314Z"
   },
   {
    "duration": 56,
    "start_time": "2023-06-21T19:49:03.549Z"
   },
   {
    "duration": 132,
    "start_time": "2023-06-21T19:49:03.612Z"
   },
   {
    "duration": 19,
    "start_time": "2023-06-21T19:49:03.748Z"
   },
   {
    "duration": 168,
    "start_time": "2023-06-21T19:49:03.772Z"
   },
   {
    "duration": 3805,
    "start_time": "2023-06-21T19:49:03.942Z"
   },
   {
    "duration": 4,
    "start_time": "2023-06-21T19:49:07.752Z"
   },
   {
    "duration": 1921,
    "start_time": "2023-06-21T19:49:07.762Z"
   },
   {
    "duration": 2136,
    "start_time": "2023-06-21T19:49:09.692Z"
   },
   {
    "duration": 1345,
    "start_time": "2023-06-21T19:49:11.838Z"
   },
   {
    "duration": 39,
    "start_time": "2023-06-21T19:49:13.186Z"
   },
   {
    "duration": 1627,
    "start_time": "2023-06-21T19:49:13.242Z"
   },
   {
    "duration": 1401,
    "start_time": "2023-06-21T19:49:14.878Z"
   },
   {
    "duration": 1623,
    "start_time": "2023-06-21T19:49:16.287Z"
   },
   {
    "duration": 89,
    "start_time": "2023-06-21T19:49:17.916Z"
   },
   {
    "duration": 12457,
    "start_time": "2023-06-21T19:49:18.017Z"
   },
   {
    "duration": 19,
    "start_time": "2023-06-21T19:49:30.482Z"
   },
   {
    "duration": 1519,
    "start_time": "2023-08-14T13:30:17.329Z"
   },
   {
    "duration": 3,
    "start_time": "2023-08-14T13:30:18.850Z"
   },
   {
    "duration": 183,
    "start_time": "2023-08-14T13:30:18.854Z"
   },
   {
    "duration": 19,
    "start_time": "2023-08-14T13:30:19.038Z"
   },
   {
    "duration": 57,
    "start_time": "2023-08-14T13:30:19.060Z"
   },
   {
    "duration": 25,
    "start_time": "2023-08-14T13:30:19.119Z"
   },
   {
    "duration": 78,
    "start_time": "2023-08-14T13:30:19.145Z"
   },
   {
    "duration": 2869,
    "start_time": "2023-08-14T13:30:19.226Z"
   },
   {
    "duration": 4,
    "start_time": "2023-08-14T13:30:22.097Z"
   },
   {
    "duration": 1302,
    "start_time": "2023-08-14T13:30:22.102Z"
   },
   {
    "duration": 1513,
    "start_time": "2023-08-14T13:30:23.406Z"
   },
   {
    "duration": 888,
    "start_time": "2023-08-14T13:30:24.921Z"
   },
   {
    "duration": 10,
    "start_time": "2023-08-14T13:30:25.814Z"
   },
   {
    "duration": 960,
    "start_time": "2023-08-14T13:30:25.826Z"
   },
   {
    "duration": 928,
    "start_time": "2023-08-14T13:30:26.787Z"
   },
   {
    "duration": 1499,
    "start_time": "2023-08-14T13:30:27.717Z"
   },
   {
    "duration": 19,
    "start_time": "2023-08-14T13:30:29.218Z"
   },
   {
    "duration": 8435,
    "start_time": "2023-08-14T13:30:29.314Z"
   },
   {
    "duration": 10,
    "start_time": "2023-08-14T13:30:37.751Z"
   }
  ],
  "kernelspec": {
   "display_name": "Python 3 (ipykernel)",
   "language": "python",
   "name": "python3"
  },
  "language_info": {
   "codemirror_mode": {
    "name": "ipython",
    "version": 3
   },
   "file_extension": ".py",
   "mimetype": "text/x-python",
   "name": "python",
   "nbconvert_exporter": "python",
   "pygments_lexer": "ipython3",
   "version": "3.9.7"
  },
  "toc": {
   "base_numbering": 1,
   "nav_menu": {},
   "number_sections": true,
   "sideBar": true,
   "skip_h1_title": true,
   "title_cell": "Table of Contents",
   "title_sidebar": "Contents",
   "toc_cell": false,
   "toc_position": {},
   "toc_section_display": true,
   "toc_window_display": false
  }
 },
 "nbformat": 4,
 "nbformat_minor": 2
}
