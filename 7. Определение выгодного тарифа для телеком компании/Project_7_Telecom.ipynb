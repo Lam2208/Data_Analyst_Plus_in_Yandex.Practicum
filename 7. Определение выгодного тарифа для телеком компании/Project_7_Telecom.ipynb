{
 "cells": [
  {
   "cell_type": "markdown",
   "id": "29a273c6",
   "metadata": {},
   "source": [
    "# Описание проекта"
   ]
  },
  {
   "cell_type": "markdown",
   "id": "0a3920e3",
   "metadata": {},
   "source": [
    "По лору, заказчик этого исследования — большая телекоммуникационная компания, которая оказывает услуги на территории всего СНГ. Перед компанией стоит задача определить текущий уровень потребительской лояльности, или NPS (от англ. Net Promoter Score), среди клиентов из России.\n",
    "\n",
    "Чтобы определить уровень лояльности, клиентам задавали классический вопрос: «Оцените по шкале от 1 до 10 вероятность того, что вы порекомендуете компанию друзьям и знакомым».\n",
    "Компания провела опрос и попросила нас подготовить дашборд с его итогами. Большую базу данных для такой задачи разворачивать не стали и выгрузили данные в SQLite.\n",
    "\n",
    "Чтобы оценить результаты опроса, оценки обычно делят на три группы:\n",
    "9-10 баллов — «cторонники» (англ. promoters);\n",
    "7-8 баллов — «нейтралы» (англ. passives);\n",
    "0-6 баллов — «критики» (англ. detractors).\n",
    "\n",
    "Итоговое значение NPS рассчитывается по формуле: % «сторонников» - % «критиков».\n",
    "\n",
    "Таким образом, значение этого показателя варьируется от -100% (когда все клиенты «критики») до 100% (когда все клиенты лояльны к сервису). Но это крайние случаи, которые редко встретишь на практике.\n",
    "\n",
    "Интерпретируя результаты NPS-опросов, следует также помнить, что само значение мало о чём говорит. Однако исследования показывают, что клиенты-сторонники полезны любому бизнесу. Они чаще других повторно совершают покупки, активнее тестируют обновления и приводят в сервис своих друзей и знакомых. Поэтому NPS остаётся одной из важнейших метрик бизнеса."
   ]
  },
  {
   "cell_type": "markdown",
   "id": "04a7c304",
   "metadata": {},
   "source": [
    "## Импортируем нужные библиотеки, подключимся к базе данных и посмотрим на имеющиеся данные"
   ]
  },
  {
   "cell_type": "code",
   "execution_count": null,
   "id": "efa0a258",
   "metadata": {
    "tags": [
     "aa81075c-062f-4de0-b5fe-14c73dc7468e"
    ]
   },
   "outputs": [],
   "source": [
    "import pandas as pd\n",
    "import numpy as np\n",
    "\n",
    "from sqlalchemy import create_engine"
   ]
  },
  {
   "cell_type": "code",
   "execution_count": null,
   "id": "f498c64c",
   "metadata": {},
   "outputs": [],
   "source": [
    "path_to_db = '/datasets/telecomm_csi.db'\n",
    "engine = create_engine(f'sqlite:///{path_to_db}', echo = False)"
   ]
  },
  {
   "cell_type": "code",
   "execution_count": null,
   "id": "398e77ab",
   "metadata": {},
   "outputs": [],
   "source": [
    "query = \"\"\"\n",
    "SELECT\n",
    "user_id,\n",
    "lt_day,\n",
    "IIF(lt_day <= 365, 'new', 'used') \n",
    "AS is_new,\n",
    "age,\n",
    "CASE WHEN gender_segment = 1\n",
    "        THEN 'female'\n",
    "    WHEN gender_segment = 0\n",
    "        THEN 'male'\n",
    "END AS 'gender_segment',\n",
    "os_name,\n",
    "cpe_type_name,\n",
    "country,\n",
    "city,\n",
    "SUBSTR(ags.title, 4) \n",
    "AS age_segment,\n",
    "SUBSTR(ts.title, 4) \n",
    "AS traffic_segment,\n",
    "SUBSTR(ls.title, 4) \n",
    "AS lifetime_segment,\n",
    "nps_score,\n",
    "CASE WHEN nps_score >= 9\n",
    "        THEN 'promoters'\n",
    "    WHEN nps_score >= 7\n",
    "        THEN 'passives'\n",
    "    ELSE 'detractors'\n",
    "END AS nps_group\n",
    "FROM user INNER JOIN location AS loc ON user.location_id = loc.location_id\n",
    "INNER JOIN age_segment AS ags ON user.age_gr_id = ags.age_gr_id\n",
    "INNER JOIN traffic_segment AS ts ON user.tr_gr_id = ts.tr_gr_id\n",
    "INNER JOIN lifetime_segment AS ls ON user.lt_gr_id = ls.lt_gr_id;\n",
    "\"\"\""
   ]
  },
  {
   "cell_type": "code",
   "execution_count": null,
   "id": "7ec187cb",
   "metadata": {
    "scrolled": true
   },
   "outputs": [],
   "source": [
    "df = pd.read_sql(query, engine)\n",
    "df.sample(20)"
   ]
  },
  {
   "cell_type": "code",
   "execution_count": null,
   "id": "defb1035",
   "metadata": {},
   "outputs": [],
   "source": [
    "df.to_csv('df_telecomm.csv', index=False)"
   ]
  },
  {
   "cell_type": "markdown",
   "id": "34cfe12c",
   "metadata": {},
   "source": [
    "## Укажите ссылку на дашборд на сайте Tableau Public:"
   ]
  },
  {
   "cell_type": "markdown",
   "id": "6ffeb381",
   "metadata": {},
   "source": [
    "https://public.tableau.com/views/Dashboard_Proj_2/Dashboard1?:language=en-US&publish=yes&:display_count=n&:origin=viz_share_link"
   ]
  },
  {
   "cell_type": "markdown",
   "id": "deaa04ca",
   "metadata": {},
   "source": [
    "## Укажите ссылку на pdf-файл с презентацией:"
   ]
  },
  {
   "cell_type": "markdown",
   "id": "1162f4a2",
   "metadata": {},
   "source": [
    "https://disk.yandex.ru/i/qtj9tFUERdRVWA"
   ]
  }
 ],
 "metadata": {
  "ExecuteTimeLog": [
   {
    "duration": 752,
    "start_time": "2021-10-03T17:40:52.731Z"
   },
   {
    "duration": 20,
    "start_time": "2021-10-03T17:40:53.486Z"
   },
   {
    "duration": 4,
    "start_time": "2021-10-03T17:41:04.638Z"
   },
   {
    "duration": 461,
    "start_time": "2021-10-03T17:41:04.912Z"
   },
   {
    "duration": 284,
    "start_time": "2021-10-03T17:41:05.376Z"
   },
   {
    "duration": 574,
    "start_time": "2021-10-06T07:55:05.029Z"
   },
   {
    "duration": 6,
    "start_time": "2021-10-06T07:55:05.605Z"
   },
   {
    "duration": 3,
    "start_time": "2021-10-06T07:55:14.685Z"
   },
   {
    "duration": 406,
    "start_time": "2021-10-06T07:55:15.522Z"
   },
   {
    "duration": 67,
    "start_time": "2021-10-06T07:55:15.929Z"
   },
   {
    "duration": 840,
    "start_time": "2021-10-07T07:54:04.647Z"
   },
   {
    "duration": 10,
    "start_time": "2021-10-07T07:54:05.490Z"
   },
   {
    "duration": 4,
    "start_time": "2021-10-07T07:54:05.544Z"
   },
   {
    "duration": 391,
    "start_time": "2021-10-07T07:54:06.237Z"
   },
   {
    "duration": 293,
    "start_time": "2021-10-07T07:54:06.654Z"
   },
   {
    "duration": 536,
    "start_time": "2022-03-20T07:58:51.412Z"
   },
   {
    "duration": 17,
    "start_time": "2022-03-20T07:58:54.408Z"
   },
   {
    "duration": 3,
    "start_time": "2022-03-20T07:58:59.737Z"
   },
   {
    "duration": 4098,
    "start_time": "2022-03-20T07:59:03.480Z"
   },
   {
    "duration": 538,
    "start_time": "2022-03-20T08:02:16.214Z"
   },
   {
    "duration": 10,
    "start_time": "2022-03-20T08:02:16.754Z"
   },
   {
    "duration": 3,
    "start_time": "2022-03-20T08:02:16.765Z"
   },
   {
    "duration": 4641,
    "start_time": "2022-03-20T08:02:16.770Z"
   },
   {
    "duration": 3320,
    "start_time": "2022-03-20T08:02:21.414Z"
   },
   {
    "duration": 3,
    "start_time": "2022-03-20T08:06:49.459Z"
   },
   {
    "duration": 159,
    "start_time": "2022-03-20T08:06:51.238Z"
   },
   {
    "duration": 546,
    "start_time": "2022-03-20T08:07:22.218Z"
   },
   {
    "duration": 8,
    "start_time": "2022-03-20T08:07:22.766Z"
   },
   {
    "duration": 2,
    "start_time": "2022-03-20T08:07:22.776Z"
   },
   {
    "duration": 185,
    "start_time": "2022-03-20T08:07:22.781Z"
   },
   {
    "duration": 2,
    "start_time": "2022-03-20T08:07:22.968Z"
   },
   {
    "duration": 159,
    "start_time": "2022-03-20T08:09:29.903Z"
   },
   {
    "duration": 3,
    "start_time": "2022-03-20T08:09:32.375Z"
   },
   {
    "duration": 3088,
    "start_time": "2022-03-20T08:09:34.142Z"
   },
   {
    "duration": 2910,
    "start_time": "2022-03-20T08:11:39.296Z"
   },
   {
    "duration": 3142,
    "start_time": "2022-03-20T08:11:46.893Z"
   },
   {
    "duration": 3044,
    "start_time": "2022-03-20T08:11:56.039Z"
   },
   {
    "duration": 2937,
    "start_time": "2022-03-20T08:12:02.568Z"
   },
   {
    "duration": 73,
    "start_time": "2022-03-20T08:12:46.985Z"
   },
   {
    "duration": 10,
    "start_time": "2022-03-20T08:12:58.976Z"
   },
   {
    "duration": 7,
    "start_time": "2022-03-20T08:13:13.087Z"
   },
   {
    "duration": 5,
    "start_time": "2022-03-20T08:13:16.511Z"
   },
   {
    "duration": 505,
    "start_time": "2022-03-20T08:13:44.258Z"
   },
   {
    "duration": 9,
    "start_time": "2022-03-20T08:13:44.766Z"
   },
   {
    "duration": 2,
    "start_time": "2022-03-20T08:13:44.779Z"
   },
   {
    "duration": 245,
    "start_time": "2022-03-20T08:13:44.784Z"
   },
   {
    "duration": 0,
    "start_time": "2022-03-20T08:13:45.031Z"
   },
   {
    "duration": 0,
    "start_time": "2022-03-20T08:13:45.032Z"
   },
   {
    "duration": 0,
    "start_time": "2022-03-20T08:13:45.034Z"
   },
   {
    "duration": 0,
    "start_time": "2022-03-20T08:13:45.035Z"
   },
   {
    "duration": 0,
    "start_time": "2022-03-20T08:13:45.036Z"
   },
   {
    "duration": 559,
    "start_time": "2022-03-20T08:14:02.680Z"
   },
   {
    "duration": 9,
    "start_time": "2022-03-20T08:14:03.241Z"
   },
   {
    "duration": 3,
    "start_time": "2022-03-20T08:14:03.251Z"
   },
   {
    "duration": 169,
    "start_time": "2022-03-20T08:14:03.256Z"
   },
   {
    "duration": 3,
    "start_time": "2022-03-20T08:14:03.426Z"
   },
   {
    "duration": 3079,
    "start_time": "2022-03-20T08:14:03.431Z"
   },
   {
    "duration": 11,
    "start_time": "2022-03-20T08:14:06.511Z"
   },
   {
    "duration": 4,
    "start_time": "2022-03-20T08:14:06.524Z"
   },
   {
    "duration": 2,
    "start_time": "2022-03-20T08:14:06.530Z"
   },
   {
    "duration": 2988,
    "start_time": "2022-03-20T08:38:49.001Z"
   },
   {
    "duration": 2962,
    "start_time": "2022-03-20T08:38:55.895Z"
   },
   {
    "duration": 109,
    "start_time": "2022-03-20T08:38:58.859Z"
   },
   {
    "duration": 498,
    "start_time": "2022-03-20T08:39:40.668Z"
   },
   {
    "duration": 9,
    "start_time": "2022-03-20T08:39:41.168Z"
   },
   {
    "duration": 4,
    "start_time": "2022-03-20T08:39:41.178Z"
   },
   {
    "duration": 169,
    "start_time": "2022-03-20T08:39:41.183Z"
   },
   {
    "duration": 11,
    "start_time": "2022-03-20T08:39:41.355Z"
   },
   {
    "duration": 4,
    "start_time": "2022-03-20T08:39:41.368Z"
   },
   {
    "duration": 3081,
    "start_time": "2022-03-20T08:39:41.373Z"
   },
   {
    "duration": 105,
    "start_time": "2022-03-20T08:39:44.456Z"
   },
   {
    "duration": 11,
    "start_time": "2022-03-20T08:39:44.562Z"
   },
   {
    "duration": 6,
    "start_time": "2022-03-20T08:39:44.575Z"
   },
   {
    "duration": 2,
    "start_time": "2022-03-20T08:39:44.583Z"
   },
   {
    "duration": 35,
    "start_time": "2022-03-20T08:56:28.798Z"
   },
   {
    "duration": 180,
    "start_time": "2022-03-20T08:58:02.677Z"
   },
   {
    "duration": 511,
    "start_time": "2022-03-20T08:58:15.709Z"
   },
   {
    "duration": 237,
    "start_time": "2022-03-20T08:58:32.653Z"
   },
   {
    "duration": 2,
    "start_time": "2022-03-20T08:59:20.944Z"
   },
   {
    "duration": 4560,
    "start_time": "2022-03-20T08:59:27.846Z"
   },
   {
    "duration": 3,
    "start_time": "2022-03-20T09:00:01.607Z"
   },
   {
    "duration": 4836,
    "start_time": "2022-03-20T09:00:03.244Z"
   },
   {
    "duration": 93,
    "start_time": "2022-03-20T09:00:50.856Z"
   },
   {
    "duration": 4789,
    "start_time": "2022-03-20T09:00:57.337Z"
   },
   {
    "duration": 539,
    "start_time": "2022-03-20T09:01:33.502Z"
   },
   {
    "duration": 4698,
    "start_time": "2022-03-20T09:02:49.909Z"
   },
   {
    "duration": 59,
    "start_time": "2022-03-20T09:03:23.415Z"
   },
   {
    "duration": 493,
    "start_time": "2022-03-20T09:03:32.665Z"
   },
   {
    "duration": 9,
    "start_time": "2022-03-20T09:03:33.160Z"
   },
   {
    "duration": 3,
    "start_time": "2022-03-20T09:03:33.170Z"
   },
   {
    "duration": 175,
    "start_time": "2022-03-20T09:03:33.175Z"
   },
   {
    "duration": 11,
    "start_time": "2022-03-20T09:03:33.353Z"
   },
   {
    "duration": 5,
    "start_time": "2022-03-20T09:03:33.365Z"
   },
   {
    "duration": 3040,
    "start_time": "2022-03-20T09:03:33.372Z"
   },
   {
    "duration": 108,
    "start_time": "2022-03-20T09:03:36.414Z"
   },
   {
    "duration": 37,
    "start_time": "2022-03-20T09:03:36.524Z"
   },
   {
    "duration": 198,
    "start_time": "2022-03-20T09:03:36.563Z"
   },
   {
    "duration": 530,
    "start_time": "2022-03-20T09:03:36.763Z"
   },
   {
    "duration": 253,
    "start_time": "2022-03-20T09:03:37.295Z"
   },
   {
    "duration": 6,
    "start_time": "2022-03-20T09:03:37.550Z"
   },
   {
    "duration": 4470,
    "start_time": "2022-03-20T09:03:37.559Z"
   },
   {
    "duration": 468,
    "start_time": "2022-03-20T09:03:42.031Z"
   },
   {
    "duration": 52,
    "start_time": "2022-03-20T09:03:42.500Z"
   },
   {
    "duration": 3,
    "start_time": "2022-03-20T09:03:42.553Z"
   },
   {
    "duration": 169,
    "start_time": "2022-03-20T09:04:49.021Z"
   },
   {
    "duration": 565,
    "start_time": "2022-03-20T09:05:59.081Z"
   },
   {
    "duration": 8,
    "start_time": "2022-03-20T09:05:59.649Z"
   },
   {
    "duration": 3,
    "start_time": "2022-03-20T09:05:59.659Z"
   },
   {
    "duration": 5047,
    "start_time": "2022-03-20T09:05:59.663Z"
   },
   {
    "duration": 522,
    "start_time": "2022-03-20T09:06:04.712Z"
   },
   {
    "duration": 52,
    "start_time": "2022-03-20T09:06:05.235Z"
   },
   {
    "duration": 120,
    "start_time": "2022-03-20T09:06:05.288Z"
   },
   {
    "duration": 770,
    "start_time": "2022-03-20T09:06:05.410Z"
   },
   {
    "duration": 3,
    "start_time": "2022-03-20T09:06:06.182Z"
   },
   {
    "duration": 54,
    "start_time": "2022-03-20T09:06:15.022Z"
   },
   {
    "duration": 510,
    "start_time": "2022-03-20T09:06:24.838Z"
   },
   {
    "duration": 502,
    "start_time": "2022-03-20T09:07:47.839Z"
   },
   {
    "duration": 9,
    "start_time": "2022-03-20T09:07:48.343Z"
   },
   {
    "duration": 3,
    "start_time": "2022-03-20T09:07:48.354Z"
   },
   {
    "duration": 234,
    "start_time": "2022-03-20T09:07:48.359Z"
   },
   {
    "duration": 0,
    "start_time": "2022-03-20T09:07:48.595Z"
   },
   {
    "duration": 0,
    "start_time": "2022-03-20T09:07:48.596Z"
   },
   {
    "duration": 0,
    "start_time": "2022-03-20T09:07:48.597Z"
   },
   {
    "duration": 0,
    "start_time": "2022-03-20T09:07:48.598Z"
   },
   {
    "duration": 0,
    "start_time": "2022-03-20T09:07:48.599Z"
   },
   {
    "duration": 0,
    "start_time": "2022-03-20T09:07:48.601Z"
   },
   {
    "duration": 543,
    "start_time": "2022-03-20T09:08:53.221Z"
   },
   {
    "duration": 9,
    "start_time": "2022-03-20T09:08:53.766Z"
   },
   {
    "duration": 3,
    "start_time": "2022-03-20T09:08:53.777Z"
   },
   {
    "duration": 4903,
    "start_time": "2022-03-20T09:08:53.781Z"
   },
   {
    "duration": 532,
    "start_time": "2022-03-20T09:08:58.687Z"
   },
   {
    "duration": 55,
    "start_time": "2022-03-20T09:08:59.221Z"
   },
   {
    "duration": 120,
    "start_time": "2022-03-20T09:08:59.278Z"
   },
   {
    "duration": 776,
    "start_time": "2022-03-20T09:08:59.400Z"
   },
   {
    "duration": 526,
    "start_time": "2022-03-20T09:09:00.177Z"
   },
   {
    "duration": 3,
    "start_time": "2022-03-20T09:09:00.708Z"
   },
   {
    "duration": 63,
    "start_time": "2022-03-20T09:10:19.577Z"
   },
   {
    "duration": 6,
    "start_time": "2022-03-20T09:10:21.417Z"
   },
   {
    "duration": 519,
    "start_time": "2022-03-20T09:10:28.827Z"
   },
   {
    "duration": 10,
    "start_time": "2022-03-20T09:10:29.348Z"
   },
   {
    "duration": 3,
    "start_time": "2022-03-20T09:10:29.360Z"
   },
   {
    "duration": 4906,
    "start_time": "2022-03-20T09:10:29.365Z"
   },
   {
    "duration": 506,
    "start_time": "2022-03-20T09:10:34.273Z"
   },
   {
    "duration": 55,
    "start_time": "2022-03-20T09:10:34.781Z"
   },
   {
    "duration": 6,
    "start_time": "2022-03-20T09:10:34.837Z"
   },
   {
    "duration": 117,
    "start_time": "2022-03-20T09:10:34.844Z"
   },
   {
    "duration": 754,
    "start_time": "2022-03-20T09:10:34.963Z"
   },
   {
    "duration": 506,
    "start_time": "2022-03-20T09:10:35.719Z"
   },
   {
    "duration": 3,
    "start_time": "2022-03-20T09:10:36.227Z"
   },
   {
    "duration": 99,
    "start_time": "2022-03-20T09:11:09.547Z"
   },
   {
    "duration": 3630,
    "start_time": "2022-03-20T09:16:20.012Z"
   },
   {
    "duration": 3407,
    "start_time": "2022-03-20T09:18:48.253Z"
   },
   {
    "duration": 464,
    "start_time": "2022-03-26T08:35:33.023Z"
   },
   {
    "duration": 8,
    "start_time": "2022-03-26T08:35:33.489Z"
   },
   {
    "duration": 3,
    "start_time": "2022-03-26T08:35:33.498Z"
   },
   {
    "duration": 4851,
    "start_time": "2022-03-26T08:35:33.502Z"
   },
   {
    "duration": 467,
    "start_time": "2022-03-26T08:35:38.355Z"
   },
   {
    "duration": 47,
    "start_time": "2022-03-26T08:35:38.824Z"
   },
   {
    "duration": 4,
    "start_time": "2022-03-26T08:35:38.881Z"
   },
   {
    "duration": 106,
    "start_time": "2022-03-26T08:35:38.886Z"
   },
   {
    "duration": 537,
    "start_time": "2022-03-26T08:35:38.993Z"
   },
   {
    "duration": 474,
    "start_time": "2022-03-26T08:35:39.531Z"
   },
   {
    "duration": 102,
    "start_time": "2022-03-26T08:35:40.007Z"
   },
   {
    "duration": 4220,
    "start_time": "2022-03-26T08:35:40.110Z"
   },
   {
    "duration": 5536,
    "start_time": "2022-03-26T09:20:04.435Z"
   },
   {
    "duration": 39,
    "start_time": "2022-03-26T09:20:22.027Z"
   },
   {
    "duration": 1316,
    "start_time": "2022-03-26T09:25:49.717Z"
   },
   {
    "duration": 632,
    "start_time": "2022-03-26T09:27:45.241Z"
   },
   {
    "duration": 12,
    "start_time": "2022-03-26T09:27:45.876Z"
   },
   {
    "duration": 4,
    "start_time": "2022-03-26T09:27:45.890Z"
   },
   {
    "duration": 4691,
    "start_time": "2022-03-26T09:27:45.896Z"
   },
   {
    "duration": 4243,
    "start_time": "2022-03-26T09:27:50.589Z"
   },
   {
    "duration": 26,
    "start_time": "2022-03-26T09:27:54.834Z"
   },
   {
    "duration": 509,
    "start_time": "2022-03-26T09:27:54.861Z"
   },
   {
    "duration": 49,
    "start_time": "2022-03-26T09:27:55.371Z"
   },
   {
    "duration": 6,
    "start_time": "2022-03-26T09:27:55.421Z"
   },
   {
    "duration": 125,
    "start_time": "2022-03-26T09:27:55.429Z"
   },
   {
    "duration": 666,
    "start_time": "2022-03-26T09:27:55.556Z"
   },
   {
    "duration": 585,
    "start_time": "2022-03-26T09:27:56.224Z"
   },
   {
    "duration": 114,
    "start_time": "2022-03-26T09:27:56.812Z"
   },
   {
    "duration": 1716,
    "start_time": "2022-03-26T09:27:56.929Z"
   },
   {
    "duration": 4321,
    "start_time": "2022-03-26T09:27:58.646Z"
   },
   {
    "duration": 28,
    "start_time": "2022-03-26T09:38:37.582Z"
   },
   {
    "duration": 29,
    "start_time": "2022-03-26T09:38:46.111Z"
   },
   {
    "duration": 28,
    "start_time": "2022-03-26T09:38:50.318Z"
   },
   {
    "duration": 36,
    "start_time": "2022-03-26T09:38:54.478Z"
   },
   {
    "duration": 28,
    "start_time": "2022-03-26T09:38:57.982Z"
   },
   {
    "duration": 41,
    "start_time": "2022-03-26T09:39:01.222Z"
   },
   {
    "duration": 39,
    "start_time": "2022-03-26T09:39:05.439Z"
   },
   {
    "duration": 508,
    "start_time": "2022-03-28T05:21:04.571Z"
   },
   {
    "duration": 9,
    "start_time": "2022-03-28T05:21:05.081Z"
   },
   {
    "duration": 4,
    "start_time": "2022-03-28T05:21:05.091Z"
   },
   {
    "duration": 4958,
    "start_time": "2022-03-28T05:21:05.096Z"
   },
   {
    "duration": 5481,
    "start_time": "2022-03-28T05:21:10.056Z"
   },
   {
    "duration": 34,
    "start_time": "2022-03-28T05:21:15.540Z"
   },
   {
    "duration": 691,
    "start_time": "2022-03-28T05:21:15.576Z"
   },
   {
    "duration": 60,
    "start_time": "2022-03-28T05:21:16.269Z"
   },
   {
    "duration": 16,
    "start_time": "2022-03-28T05:21:16.338Z"
   },
   {
    "duration": 141,
    "start_time": "2022-03-28T05:21:16.355Z"
   },
   {
    "duration": 720,
    "start_time": "2022-03-28T05:21:16.497Z"
   },
   {
    "duration": 639,
    "start_time": "2022-03-28T05:21:17.219Z"
   },
   {
    "duration": 131,
    "start_time": "2022-03-28T05:21:17.860Z"
   },
   {
    "duration": 1716,
    "start_time": "2022-03-28T05:21:17.993Z"
   },
   {
    "duration": 3581,
    "start_time": "2022-03-28T05:21:19.711Z"
   },
   {
    "duration": 490,
    "start_time": "2022-04-02T08:10:41.187Z"
   },
   {
    "duration": 9,
    "start_time": "2022-04-02T08:10:41.681Z"
   },
   {
    "duration": 3,
    "start_time": "2022-04-02T08:10:41.691Z"
   },
   {
    "duration": 821,
    "start_time": "2022-04-02T08:10:41.696Z"
   },
   {
    "duration": 0,
    "start_time": "2022-04-02T08:10:42.519Z"
   },
   {
    "duration": 0,
    "start_time": "2022-04-02T08:10:42.520Z"
   },
   {
    "duration": 0,
    "start_time": "2022-04-02T08:10:42.522Z"
   },
   {
    "duration": 0,
    "start_time": "2022-04-02T08:10:42.523Z"
   },
   {
    "duration": 0,
    "start_time": "2022-04-02T08:10:42.524Z"
   },
   {
    "duration": 0,
    "start_time": "2022-04-02T08:10:42.525Z"
   },
   {
    "duration": 0,
    "start_time": "2022-04-02T08:10:42.526Z"
   },
   {
    "duration": 0,
    "start_time": "2022-04-02T08:10:42.527Z"
   },
   {
    "duration": 0,
    "start_time": "2022-04-02T08:10:42.528Z"
   },
   {
    "duration": 0,
    "start_time": "2022-04-02T08:10:42.529Z"
   },
   {
    "duration": 0,
    "start_time": "2022-04-02T08:10:42.529Z"
   },
   {
    "duration": 3,
    "start_time": "2022-04-02T08:11:51.043Z"
   },
   {
    "duration": 773,
    "start_time": "2022-04-02T08:11:53.237Z"
   },
   {
    "duration": 3,
    "start_time": "2022-04-02T08:12:12.694Z"
   },
   {
    "duration": 5507,
    "start_time": "2022-04-02T08:12:14.798Z"
   },
   {
    "duration": 3,
    "start_time": "2022-04-02T08:13:57.294Z"
   },
   {
    "duration": 762,
    "start_time": "2022-04-02T08:13:59.793Z"
   },
   {
    "duration": 2,
    "start_time": "2022-04-02T08:14:28.023Z"
   },
   {
    "duration": 753,
    "start_time": "2022-04-02T08:14:30.150Z"
   },
   {
    "duration": 2,
    "start_time": "2022-04-02T08:14:41.982Z"
   },
   {
    "duration": 5489,
    "start_time": "2022-04-02T08:14:43.653Z"
   },
   {
    "duration": 605,
    "start_time": "2022-04-02T08:21:02.152Z"
   },
   {
    "duration": 2,
    "start_time": "2022-04-02T08:44:07.932Z"
   },
   {
    "duration": 768,
    "start_time": "2022-04-02T08:44:09.670Z"
   },
   {
    "duration": 3,
    "start_time": "2022-04-02T08:44:22.447Z"
   },
   {
    "duration": 5322,
    "start_time": "2022-04-02T08:44:24.223Z"
   },
   {
    "duration": 2,
    "start_time": "2022-04-02T08:45:07.471Z"
   },
   {
    "duration": 5357,
    "start_time": "2022-04-02T08:45:09.014Z"
   },
   {
    "duration": 2,
    "start_time": "2022-04-02T08:45:48.751Z"
   },
   {
    "duration": 5159,
    "start_time": "2022-04-02T08:45:53.054Z"
   },
   {
    "duration": 2,
    "start_time": "2022-04-02T08:46:22.527Z"
   },
   {
    "duration": 5308,
    "start_time": "2022-04-02T08:46:28.055Z"
   },
   {
    "duration": 542,
    "start_time": "2022-04-02T08:47:28.273Z"
   },
   {
    "duration": 9,
    "start_time": "2022-04-02T08:47:28.817Z"
   },
   {
    "duration": 3,
    "start_time": "2022-04-02T08:47:28.827Z"
   },
   {
    "duration": 6951,
    "start_time": "2022-04-02T08:47:28.831Z"
   },
   {
    "duration": 3516,
    "start_time": "2022-04-02T08:47:35.783Z"
   },
   {
    "duration": 3,
    "start_time": "2022-04-02T08:51:45.757Z"
   },
   {
    "duration": 4964,
    "start_time": "2022-04-02T08:51:47.855Z"
   },
   {
    "duration": 3,
    "start_time": "2022-04-02T08:52:25.784Z"
   },
   {
    "duration": 5128,
    "start_time": "2022-04-02T08:52:28.943Z"
   },
   {
    "duration": 458,
    "start_time": "2022-04-02T10:18:03.508Z"
   },
   {
    "duration": 13,
    "start_time": "2022-04-02T10:18:03.968Z"
   },
   {
    "duration": 3,
    "start_time": "2022-04-02T10:18:03.982Z"
   },
   {
    "duration": 5177,
    "start_time": "2022-04-02T10:18:03.986Z"
   },
   {
    "duration": 3508,
    "start_time": "2022-04-02T10:18:09.165Z"
   },
   {
    "duration": 581,
    "start_time": "2022-04-03T03:30:31.101Z"
   },
   {
    "duration": 10,
    "start_time": "2022-04-03T03:30:31.683Z"
   },
   {
    "duration": 5,
    "start_time": "2022-04-03T03:30:31.695Z"
   },
   {
    "duration": 5366,
    "start_time": "2022-04-03T03:30:31.702Z"
   },
   {
    "duration": 3250,
    "start_time": "2022-04-03T03:30:37.070Z"
   }
  ],
  "kernelspec": {
   "display_name": "Python 3 (ipykernel)",
   "language": "python",
   "name": "python3"
  },
  "language_info": {
   "codemirror_mode": {
    "name": "ipython",
    "version": 3
   },
   "file_extension": ".py",
   "mimetype": "text/x-python",
   "name": "python",
   "nbconvert_exporter": "python",
   "pygments_lexer": "ipython3",
   "version": "3.9.7"
  },
  "toc": {
   "base_numbering": 1,
   "nav_menu": {},
   "number_sections": true,
   "sideBar": true,
   "skip_h1_title": true,
   "title_cell": "Table of Contents",
   "title_sidebar": "Contents",
   "toc_cell": false,
   "toc_position": {},
   "toc_section_display": true,
   "toc_window_display": false
  }
 },
 "nbformat": 4,
 "nbformat_minor": 5
}
