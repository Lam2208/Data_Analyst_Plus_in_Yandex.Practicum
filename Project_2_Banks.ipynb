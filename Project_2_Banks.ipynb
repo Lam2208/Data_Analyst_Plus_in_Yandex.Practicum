{
 "cells": [
  {
   "cell_type": "markdown",
   "metadata": {},
   "source": [
    "# Исследование надёжности заёмщиков\n",
    "\n",
    "Заказчик — кредитный отдел банка. Нужно разобраться, влияет ли семейное положение и количество детей клиента на факт погашения кредита в срок. Входные данные от банка — статистика о платёжеспособности клиентов.\n",
    "\n",
    "Результаты исследования необходимы для учёта при построении модели **кредитного скоринга** — специальной системы, которая оценивает способность потенциального заёмщика вернуть кредит банку."
   ]
  },
  {
   "cell_type": "markdown",
   "metadata": {},
   "source": [
    "## Шаг 1. Откройте файл с данными и изучите общую информацию"
   ]
  },
  {
   "cell_type": "code",
   "execution_count": null,
   "metadata": {},
   "outputs": [],
   "source": [
    "import pandas as pd"
   ]
  },
  {
   "cell_type": "code",
   "execution_count": null,
   "metadata": {},
   "outputs": [],
   "source": [
    "data = pd.read_csv('/datasets/data.csv')\n",
    "data.to_csv('data.csv', index=False)"
   ]
  },
  {
   "cell_type": "code",
   "execution_count": null,
   "metadata": {},
   "outputs": [],
   "source": [
    "clients = pd.read_csv('/datasets/data.csv')"
   ]
  },
  {
   "cell_type": "markdown",
   "metadata": {},
   "source": [
    "Изучим данные в датасете: начало, конец и  общую информацию о датасете"
   ]
  },
  {
   "cell_type": "code",
   "execution_count": null,
   "metadata": {},
   "outputs": [],
   "source": [
    "#clients.head(15)\n",
    "#clients.tail(15)\n",
    "clients.info()"
   ]
  },
  {
   "cell_type": "markdown",
   "metadata": {},
   "source": [
    "**Вывод: Имеем 21525 строк, а также 12 столбцов. Основные проблемы, которые я заметил:**\n",
    "\n",
    "*- названия столбцов(могут давать неправильное представление о содержащихся в них данных или быть вовсе непонятными)*\n",
    "\n",
    "*- пропуски в days_employed и total_income*\n",
    "\n",
    "*- отрицательные значения в days_employed*\n",
    "\n",
    "*- некорректные типы данных — в days_employed и в total_income плавающая точка(могут возникнуть проблемы при подсчётах конкретных значений)*\n",
    "\n",
    "*- некорректный регистр в education*"
   ]
  },
  {
   "cell_type": "markdown",
   "metadata": {},
   "source": [
    "## Шаг 2. Предобработка данных"
   ]
  },
  {
   "cell_type": "markdown",
   "metadata": {},
   "source": [
    "**Для начала разберёмся с проблемой, которая выглядят как незначительные в рамках проекта, но может иметь последствия в будущем, а именно:**\n",
    "\n",
    "Отдельно выведем названия и значения столбцов, чтобы в последующих шагах было понятней, почему мы обращаемся к той или иной части датасета:\n",
    "\n",
    "- children — количество детей в семье\n",
    "- days_employed — трудовой стаж в днях\n",
    "- dob_years — возраст клиента в годах\n",
    "- education — образование клиента\n",
    "- education_id — идентификатор образования\n",
    "- family_status — семейное положение\n",
    "- family_status_id — идентификатор семейного положения\n",
    "- gender — пол клиента\n",
    "- income_type — тип занятости\n",
    "- debt — имел ли задолженность по возврату кредитов\n",
    "- total_income — доход в месяц\n",
    "- purpose — цель получения кредита\n",
    "\n",
    "P.S. - Можно было бы некоторые столбцы переименовать. Но не факт, что более понятные лично мне названия, будут также понятны заказчику. К тому же, это может вызвать неудобства у коллег, которые будут использовать данный проект в своей работе(если они, например, будут отдельно рассматривать моё исследование и изначальный датасет)"
   ]
  },
  {
   "cell_type": "markdown",
   "metadata": {},
   "source": [
    "**Так же хочу сразу прояснить ситуацию с, как мне кажется, наиболее проблематичным столбцом:**\n",
    "\n",
    "**days_employed** - содержит отрицательные значения; имеет пропуски; имеет некорректные данные(Мало того, что записан в днях(а не в годах например), так ещё и имеет значения противоречащие законам логики и анатомии(некоторые люди работают с пелёнок). \n",
    "Этот столбец и столбец *total_income* имеют одинаковое количество строк, что может свидетельствовать об их взаимосвязанности, но трудно сказать о какой именно связи идёт речь.\n",
    "Тем не менее, я считаю, что данный столбец не потребуетя для выявления зависимостей между возвратом кредита в срок и наличием детей/семейным положением/уровнем дохода за месяц/целями кредита, поэтому считаю целесообразным его УДАЛИТЬ, заранее предупредив коллег.*"
   ]
  },
  {
   "cell_type": "code",
   "execution_count": null,
   "metadata": {},
   "outputs": [],
   "source": [
    "del clients['days_employed']"
   ]
  },
  {
   "cell_type": "code",
   "execution_count": null,
   "metadata": {},
   "outputs": [],
   "source": [
    "clients.info()"
   ]
  },
  {
   "cell_type": "markdown",
   "metadata": {},
   "source": [
    "### Обработка пропусков"
   ]
  },
  {
   "cell_type": "markdown",
   "metadata": {},
   "source": [
    "Далее обработаем пропуски в доходах за месяц. Пропуски в данном столбце могли появиться по разным причинам:\n",
    "\n",
    "*1. Человек ещё не работал или работал только неофициально*\n",
    "\n",
    "*2. Человек не указал свой ежемесячный доход*\n",
    "\n",
    "*3. Произошла ошибка при выгрузке данных*\n",
    "\n",
    "Заменим пропущенные значения на среднее арифметическое.\n",
    "И проверим наличие пропусков методом *info()* теперь"
   ]
  },
  {
   "cell_type": "code",
   "execution_count": null,
   "metadata": {},
   "outputs": [],
   "source": [
    "#Сначала сделаем функцию для замены пропущенных значений по категориям при помощи цикла for\n",
    "#При чём сделаем её универсальной, чтобы можно было применить эту функцию к разным датафреймам\n",
    "def no_null(df, category, target):\n",
    "    for i in df[category].unique():\n",
    "        df.loc[(df[target].isna()) & (df[category] == i), target] = \\\n",
    "        df.loc[df[category] == i, target].median()\n",
    "    return df"
   ]
  },
  {
   "cell_type": "code",
   "execution_count": null,
   "metadata": {},
   "outputs": [],
   "source": [
    "# Код ревьюера\n",
    "\n",
    "display(clients[clients['total_income'].isna()]['income_type'].value_counts(normalize=True))\n",
    "display(clients[clients['total_income'].notna()]['income_type'].value_counts(normalize=True))"
   ]
  },
  {
   "cell_type": "code",
   "execution_count": null,
   "metadata": {
    "scrolled": true
   },
   "outputs": [],
   "source": [
    "#Применим функцию для наших значений\n",
    "clients = no_null(clients, 'income_type', 'total_income')"
   ]
  },
  {
   "cell_type": "markdown",
   "metadata": {},
   "source": [
    "Также после замены подсчитаем суммарное количество пропусков, на случай если мы что то упустили"
   ]
  },
  {
   "cell_type": "code",
   "execution_count": null,
   "metadata": {},
   "outputs": [],
   "source": [
    "clients.isnull().sum()"
   ]
  },
  {
   "cell_type": "markdown",
   "metadata": {},
   "source": [
    "Предположив, что уровень дохода зависит от типа занятости, заменили пропуски в *total_income* по медианному значению среди людей с таким же типом занятости. Для этого написали функцию с циклом for и применили данную функцию к нашему датафрейму. "
   ]
  },
  {
   "cell_type": "markdown",
   "metadata": {},
   "source": [
    "### Замена типа данных"
   ]
  },
  {
   "cell_type": "markdown",
   "metadata": {},
   "source": [
    "Снова изучим датасет, на предмет удобства для дальнейших расчётов.\n",
    "\n",
    "Видим, что данные в столбце *total_income* имеют тип *float64*"
   ]
  },
  {
   "cell_type": "code",
   "execution_count": null,
   "metadata": {},
   "outputs": [],
   "source": [
    "clients.info()\n",
    "print(clients['total_income'])"
   ]
  },
  {
   "cell_type": "markdown",
   "metadata": {},
   "source": [
    "Поменяем тип данных в столбце *total_income* на *int64* методом *astype()*\n",
    "\n",
    "*Мы не станем использовать метод to_numeric() потому что при переводе все числа будут иметь тип данных float. А нам необходим именно тип данных int, т.к. нам нужны целочисленный значения*"
   ]
  },
  {
   "cell_type": "code",
   "execution_count": null,
   "metadata": {},
   "outputs": [],
   "source": [
    "# Код ревьюера\n",
    "\n",
    "s = pd.Series([1.2,3,5.2])\n",
    "\n",
    "print(s.dtype)\n",
    "\n",
    "s = pd.to_numeric(s.round(), downcast='integer')\n",
    "\n",
    "print(s.dtype)"
   ]
  },
  {
   "cell_type": "code",
   "execution_count": null,
   "metadata": {},
   "outputs": [],
   "source": [
    "clients['total_income'] = clients['total_income'].astype('int')\n",
    "print(clients['total_income'])"
   ]
  },
  {
   "cell_type": "markdown",
   "metadata": {},
   "source": [
    "**Вывод**\n",
    "\n",
    "Мы поменяем тип данных в столбце *total_income*, чтобы привести значения к целочисленному формату. Это поможет представить дальнейшие расчёты в более удобном виде"
   ]
  },
  {
   "cell_type": "markdown",
   "metadata": {},
   "source": [
    "### Обработка дубликатов"
   ]
  },
  {
   "cell_type": "code",
   "execution_count": null,
   "metadata": {},
   "outputs": [],
   "source": [
    "clients.duplicated().sum()"
   ]
  },
  {
   "cell_type": "code",
   "execution_count": null,
   "metadata": {},
   "outputs": [],
   "source": [
    "clients['total_income'].value_counts()"
   ]
  },
  {
   "cell_type": "markdown",
   "metadata": {},
   "source": [
    "Ранее мы выявили проблему в столбце *education*. Проблема заключалась в некорректном регистре. Поэтому сейчас мы ещё раз увидим проблему, подсчитав различные значения в списке"
   ]
  },
  {
   "cell_type": "code",
   "execution_count": null,
   "metadata": {},
   "outputs": [],
   "source": [
    "from collections import Counter\n",
    "\n",
    "Counter(clients['education'])"
   ]
  },
  {
   "cell_type": "markdown",
   "metadata": {},
   "source": [
    "Приведем в единый формат данный столбец, убрав дубликаты, полученные из-за некорректного регистра.\n",
    "\n",
    "И ещё раз посчитаем различные значения при помощи коллекции Counter, реализующей словарь для подсчёта колличества неизменяемых объектов"
   ]
  },
  {
   "cell_type": "code",
   "execution_count": null,
   "metadata": {},
   "outputs": [],
   "source": [
    "clients['education'] = clients['education'].str.lower()\n",
    "\n",
    "Counter(clients['education'])"
   ]
  },
  {
   "cell_type": "markdown",
   "metadata": {},
   "source": [
    "**Таким образом, мы решили все проблемы, выявленные самостоятельно на начальном этапе изучения общей информации. Далее мы будем действовать исходя из тех вопросов, которые перед нами ставит заказчик. А именно: выявление зависимостей между возвратом кредита в срок и наличием детей, семейным положением, уровнем дохода и целями кредита.**"
   ]
  },
  {
   "cell_type": "markdown",
   "metadata": {},
   "source": [
    "Для выявления зависимостей нам необходимо проверить на дубликаты следующие столбцы: *children*, *family_status*, *total_income* и *purpose*"
   ]
  },
  {
   "cell_type": "code",
   "execution_count": null,
   "metadata": {},
   "outputs": [],
   "source": [
    "Counter(clients['children'])"
   ]
  },
  {
   "cell_type": "markdown",
   "metadata": {},
   "source": [
    "Видим, что среди значений столбца *children* есть неадекватные. А именно \"-1\" и \"20\". \n",
    "\n",
    "Мы не знаем чем обусловлено значение \"-1\". Возможно при вводе случайно поставили \"-\" перед единицей. Возможно \"-\" использовали при вводе в качетсве тире. Будем исходить из того, что хотели написать \"1\" и поменяем соответсвенно на единицу.\n",
    "\n",
    "Что касается значения в 20 детей, то тут можно предположить что произошла опечатка при попытка написать \"0\" или \"2\". Т.к. это могло быть и 0 детей и 2, считаю логичным заменить 20 медианным значением"
   ]
  },
  {
   "cell_type": "code",
   "execution_count": null,
   "metadata": {},
   "outputs": [],
   "source": [
    "clients['children'].value_counts() #было"
   ]
  },
  {
   "cell_type": "code",
   "execution_count": null,
   "metadata": {},
   "outputs": [],
   "source": [
    "clients['children'] = clients['children'].replace(-1, 1)\n",
    "children_median = clients.loc[clients.loc[:, 'children'] != 20]['children'].median()\n",
    "clients['children'] = clients['children'].replace(20, children_median)"
   ]
  },
  {
   "cell_type": "code",
   "execution_count": null,
   "metadata": {},
   "outputs": [],
   "source": [
    "clients['children'].value_counts() #стало"
   ]
  },
  {
   "cell_type": "markdown",
   "metadata": {},
   "source": [
    "**Вернёмся к проверке на дубликаты**"
   ]
  },
  {
   "cell_type": "code",
   "execution_count": null,
   "metadata": {},
   "outputs": [],
   "source": [
    "Counter(clients['family_status'])"
   ]
  },
  {
   "cell_type": "code",
   "execution_count": null,
   "metadata": {},
   "outputs": [],
   "source": [
    "Counter(clients['purpose'])"
   ]
  },
  {
   "cell_type": "markdown",
   "metadata": {},
   "source": [
    "Как видим, столбцы *family_status* и *purpos* прошли проверку на дубликаты без проблем. Теперь осталось проверить столбец *total_income*"
   ]
  },
  {
   "cell_type": "code",
   "execution_count": null,
   "metadata": {},
   "outputs": [],
   "source": [
    "Counter(clients['total_income'])"
   ]
  },
  {
   "cell_type": "markdown",
   "metadata": {},
   "source": [
    "Результат в не сильно удобном для чтения виде, однако можно предположить, что дубликаты в столбце *total_income* есть. Проверим так ли это найдя сумму всех дубликатов в датасете, и сравнив значения в столбце *total_income* до и после их удаления"
   ]
  },
  {
   "cell_type": "code",
   "execution_count": null,
   "metadata": {},
   "outputs": [],
   "source": [
    "clients.duplicated().sum() #Всего До"
   ]
  },
  {
   "cell_type": "code",
   "execution_count": null,
   "metadata": {},
   "outputs": [],
   "source": [
    "print(clients['total_income'].value_counts()) #В столбце До"
   ]
  },
  {
   "cell_type": "code",
   "execution_count": null,
   "metadata": {},
   "outputs": [],
   "source": [
    "clients = clients.drop_duplicates()"
   ]
  },
  {
   "cell_type": "code",
   "execution_count": null,
   "metadata": {},
   "outputs": [],
   "source": [
    "clients.duplicated().sum() #Всего После"
   ]
  },
  {
   "cell_type": "markdown",
   "metadata": {},
   "source": [
    "Для поиска использовали метод *duplicated()*. В сочетании с методом *sum()* он возвращает количество дубликатов.\n",
    "\n",
    "Затем мы удалили их при помощи метода *drop_duplicates()*"
   ]
  },
  {
   "cell_type": "code",
   "execution_count": null,
   "metadata": {},
   "outputs": [],
   "source": [
    "print(clients['total_income'].value_counts()) #В столбце После"
   ]
  },
  {
   "cell_type": "markdown",
   "metadata": {},
   "source": [
    "Это также можно увидеть выведя на экран общую информацию по датасету"
   ]
  },
  {
   "cell_type": "code",
   "execution_count": null,
   "metadata": {},
   "outputs": [],
   "source": [
    "clients.info()"
   ]
  },
  {
   "cell_type": "markdown",
   "metadata": {},
   "source": [
    "**Вывод**\n",
    "\n",
    "Мы выявили и устранили ошибки в столбцах *education* и *children*, а также обнаружили дубликаты в датасете. Причиной появления дубликатов может быть обычное задвоение данных. После обнаружения мы удалили все дубликаты, чтобы они в дальнейшем повлияли на наши оценки"
   ]
  },
  {
   "cell_type": "markdown",
   "metadata": {},
   "source": [
    "### Лемматизация"
   ]
  },
  {
   "cell_type": "code",
   "execution_count": null,
   "metadata": {},
   "outputs": [],
   "source": [
    "from pymystem3 import Mystem\n",
    "m = Mystem()\n",
    "\n",
    "def lemmatization(i):\n",
    "    lemmas = m.lemmatize(i)                     \n",
    "    return lemmas\n",
    "\n",
    "clients['purpose_lemma'] = clients['purpose'].apply(lemmatization)\n",
    "clients.head(15)"
   ]
  },
  {
   "cell_type": "markdown",
   "metadata": {},
   "source": [
    "**Вывод**\n",
    "\n",
    "При помощи функции *lemmatization* сделали лемматизацию и вывели результаты в отдельный столбец *purpose_lemma*"
   ]
  },
  {
   "cell_type": "markdown",
   "metadata": {},
   "source": [
    "### Категоризация данных"
   ]
  },
  {
   "cell_type": "markdown",
   "metadata": {},
   "source": [
    "Теперь займёмся внешними преобразованиями, чтобы в дальнейшем было проще отвечать на вопросы заказчика"
   ]
  },
  {
   "cell_type": "markdown",
   "metadata": {},
   "source": [
    "Сначала добавим столбец *purpose_name* выбрав данные по 4 основным категориям(свадьба, автомобиль, недвижимость, образование)"
   ]
  },
  {
   "cell_type": "code",
   "execution_count": null,
   "metadata": {},
   "outputs": [],
   "source": [
    "print(clients['purpose_lemma'].value_counts()) #ещё раз убедимся, что взяли правильные основные категории"
   ]
  },
  {
   "cell_type": "code",
   "execution_count": null,
   "metadata": {},
   "outputs": [],
   "source": [
    "def replace_purpose(i):\n",
    "    if 'свадьба' in i:\n",
    "        return 'свадьба'\n",
    "    elif 'автомобиль' in i:\n",
    "        return 'авто'\n",
    "    elif 'недвижимость' in i or 'жилье' in i:\n",
    "        return 'недвижимость'\n",
    "    elif 'образование' in i:\n",
    "        return 'образование'\n",
    "    else:\n",
    "        return 5\n",
    "    \n",
    "clients ['purpose_name'] = clients ['purpose_lemma'].apply(replace_purpose)\n",
    "clients ['purpose_name'].value_counts()"
   ]
  },
  {
   "cell_type": "code",
   "execution_count": null,
   "metadata": {
    "scrolled": true
   },
   "outputs": [],
   "source": [
    "clients.head(15)"
   ]
  },
  {
   "cell_type": "markdown",
   "metadata": {},
   "source": [
    "Дальше разделим *total_income* по квантилям и добавим новый столбец разделив уровень дохода на 4 группы (Низкий, Средний, Высокий и Сверхвысокий)"
   ]
  },
  {
   "cell_type": "code",
   "execution_count": null,
   "metadata": {},
   "outputs": [],
   "source": [
    "clients['total_income'].quantile([0.25,0.5,0.75])"
   ]
  },
  {
   "cell_type": "code",
   "execution_count": null,
   "metadata": {},
   "outputs": [],
   "source": [
    "def income_level(total_income):\n",
    "    if total_income <= 107623.00:\n",
    "            return 'Низкий'\n",
    "    if total_income <= 156043.50:\n",
    "            return 'Средний'\n",
    "    if total_income < 195813.25:\n",
    "            return 'Высокий'\n",
    "    return 'Сверхвысокий'\n",
    "\n",
    "clients['income_level'] = clients['total_income'].apply(income_level)\n",
    "clients.head(15)"
   ]
  },
  {
   "cell_type": "markdown",
   "metadata": {},
   "source": [
    "**Вывод**\n",
    "\n",
    "Мы провели категоризацию в соотвествии с леммами в столбце puprpose_lemma выявив 4 освновные категории для целей кредита. А также добавили столбец с разделением уровней дохода на 4 группы. Всё это понадобится нам в дальнейшем при ответе на вопросы связанными с целями кредита и уровнем дохода.\n",
    "\n",
    "Категорировать количество детей нет необходимости, т.к. категориями будет выступать их количество (мы имеем всего 6 вариантов - от 0 до 5)."
   ]
  },
  {
   "cell_type": "markdown",
   "metadata": {},
   "source": [
    "## Шаг 3. Ответьте на вопросы"
   ]
  },
  {
   "cell_type": "markdown",
   "metadata": {},
   "source": [
    "***- Есть ли зависимость между наличием детей и возвратом кредита в срок?***"
   ]
  },
  {
   "cell_type": "markdown",
   "metadata": {},
   "source": [
    "Построим новую таблицу методом DataFrame()"
   ]
  },
  {
   "cell_type": "code",
   "execution_count": null,
   "metadata": {},
   "outputs": [],
   "source": [
    "debt_from_children = pd.DataFrame()\n",
    "debt_from_children['count_children'] = clients.groupby('children')['debt'].count()\n",
    "debt_from_children['sum_children'] = clients.groupby('children')['debt'].sum()\n",
    "debt_from_children['result_children'] = debt_from_children['sum_children'] / debt_from_children['count_children'] * 100\n",
    "debt_from_children"
   ]
  },
  {
   "cell_type": "markdown",
   "metadata": {},
   "source": [
    "Отсортируем таблицу по убыванию относительных значений для пущей наглядности"
   ]
  },
  {
   "cell_type": "code",
   "execution_count": null,
   "metadata": {},
   "outputs": [],
   "source": [
    "debt_from_children.sort_values('result_children', ascending = False)"
   ]
  },
  {
   "cell_type": "markdown",
   "metadata": {},
   "source": [
    "**Вывод**\n",
    "\n",
    "Как видно, данные не дают нам однозначных выводов по поводу влияния количества детей на возврат кредита в срок. Однако, исходя из них можно предположить, что люди не имеющие детей чаще платят в срок(скорее всего из за того, что имеют меньше расходов - отсутствуют расходы на детей). При этом люди имеющие 3 детей имеют лучшую кредитную историю, чем люди с 1 или 2 детьми(возможно причина как раз и кроется в кредитной истории - она должны быть хорошей, чтобы в дальнейшем им одобрили новые кредиты)."
   ]
  },
  {
   "cell_type": "markdown",
   "metadata": {},
   "source": [
    "***- Есть ли зависимость между семейным положением и возвратом кредита в срок?***"
   ]
  },
  {
   "cell_type": "markdown",
   "metadata": {},
   "source": [
    "Проделываем то же, что и при ответе на предыдущий вопрос, с той лишь разницей, что сразу отсортировываем значения по убыванию, чтобы увидеть закономерности, которые нас инетресуют"
   ]
  },
  {
   "cell_type": "code",
   "execution_count": null,
   "metadata": {},
   "outputs": [],
   "source": [
    "debt_from_family_status = pd.DataFrame()\n",
    "debt_from_family_status['count_family_status'] = clients.groupby('family_status')['debt'].count()\n",
    "debt_from_family_status['sum_family_status'] = clients.groupby('family_status')['debt'].sum()\n",
    "debt_from_family_status['result_family_status'] = debt_from_family_status['sum_family_status'] / debt_from_family_status['count_family_status'] * 100\n",
    "debt_from_family_status.sort_values('result_family_status', ascending = False)"
   ]
  },
  {
   "cell_type": "markdown",
   "metadata": {},
   "source": [
    "**Вывод**\n",
    "\n",
    "Мы видим интересную зависимость: овдовевшие и разведённые чаще возвращают кредит в срок. Люди не бывавшие в браке наоборот чаще просрачивают платежи по кредитам. Могу предположить, что люди прошедшие через брак просто располагают большим жизненным опытом и потому лучше знакомы с принципами финансовой грамотности и планированием бюджета"
   ]
  },
  {
   "cell_type": "markdown",
   "metadata": {},
   "source": [
    "***- Есть ли зависимость между уровнем дохода и возвратом кредита в срок?***"
   ]
  },
  {
   "cell_type": "markdown",
   "metadata": {},
   "source": [
    "Тут мы сталкиваемся с необходимостью сравнить уровни дохода клиентов банка и разложить по полочкам должников по кредитам. В этом нам поможет разбивка по уровню дохода, которую мы проделывали в пункте *2.5. Категоризация данных*, а также сплав методов использованных в предыдущих ответах на вопросы с методами построения сводных таблиц"
   ]
  },
  {
   "cell_type": "code",
   "execution_count": null,
   "metadata": {},
   "outputs": [],
   "source": [
    "total_income_set = clients.groupby('income_level')['debt'].sum() / clients.groupby('income_level')['debt'].count() * 100\n",
    "total_income_set.sort_values()"
   ]
  },
  {
   "cell_type": "code",
   "execution_count": null,
   "metadata": {},
   "outputs": [],
   "source": [
    "total_income_pivot = clients.pivot_table(index=['income_level'], columns=['debt'], values='education_id', aggfunc='count')\n",
    "total_income_pivot['rating'] = total_income_pivot[1] / total_income_pivot[0] * 100\n",
    "total_income_pivot"
   ]
  },
  {
   "cell_type": "markdown",
   "metadata": {},
   "source": [
    "Почему то некоторые значения потерялись, но тенденции остались прежними(а заключаются они в том, что если ты много зарабатываешь, то можешь спокойно брать кредит, т.к. знаешь что проблем с его возратом не возникнет. Всем бы так)"
   ]
  },
  {
   "cell_type": "markdown",
   "metadata": {},
   "source": [
    "**Вывод**\n",
    "\n",
    "Зависимость если и есть, то она вполне закономерна: Люди со сверхвысокими доходами лучше отдают кредиты, потому что имеют такую возможность. А люди с низкими доходами вынуждены в срок расплачиваться по кредитам, чтобы не загубить кредитную историю для будущих займов. Не думаю, что на основании только этих данных, можно строить качественные прогнозы"
   ]
  },
  {
   "cell_type": "markdown",
   "metadata": {},
   "source": [
    "***- Как разные цели кредита влияют на его возврат в срок?***"
   ]
  },
  {
   "cell_type": "markdown",
   "metadata": {},
   "source": [
    "Тут мы также пожинаем плоды категоризации, проделанной в пункте *2.5.*, а именно имеем возможность отсортировать возврат кредитов по категориям, которые мы выделили для целей кредита"
   ]
  },
  {
   "cell_type": "code",
   "execution_count": null,
   "metadata": {},
   "outputs": [],
   "source": [
    "debt_from_purpose_category = pd.DataFrame()\n",
    "debt_from_purpose_category['sum_purpose_category'] = clients.groupby('purpose_name')['debt'].sum()\n",
    "debt_from_purpose_category['count_purpose_category'] = clients.groupby('purpose_name')['debt'].count()\n",
    "debt_from_purpose_category['result_purpose_category'] = debt_from_purpose_category['sum_purpose_category'] / debt_from_purpose_category['count_purpose_category'] * 100 \n",
    "debt_from_purpose_category.sort_values('result_purpose_category', ascending = False)"
   ]
  },
  {
   "cell_type": "markdown",
   "metadata": {},
   "source": [
    "**Вывод**\n",
    "\n",
    "Люди, берущие кредиты на недвижимость, более ответственно подходят к выплатам. Причиной этому может быть осознание людей, что своя крыша над головой - это важно и нужно. Также люди с собственной жил. площадью избавлены от выплат за аренду жилого помещения(или удачно гасят эти выплаты сдавая в аренду свою собственность). А вот с кредитами на автомобили всё не так радужно. То ли автолюбители менее ответственны в плане финансов, то ли цены на бензин толкают их на нарушение сроков выплат. Чтобы не послужило причиной, закономерность имеется и с ней нужно считаться"
   ]
  },
  {
   "cell_type": "markdown",
   "metadata": {},
   "source": [
    "## Шаг 4. Общий вывод"
   ]
  },
  {
   "cell_type": "markdown",
   "metadata": {},
   "source": [
    "Отвечая на поставленный в самом начале проекта вопрос **Нужно разобраться, влияет ли семейное положение и количество детей клиента на факт погашения кредита в срок**, можно сказать - **да, влияют.**\n",
    "\n",
    "*Исходя из проделанной работы, можно составить оптимальный образ заёмщика:* это не имеющий детей, находящийся или ранее находившийся в браке человек (с низким или сверх высоким уровнем дохода, берущий кредит на жильё).\n",
    "\n",
    "В то же время, люди, состоящие в неофициальном браке или находящиеся без отношений, при этом имеющие 1 или 2 детей - самые менее ответственные заемщики (особенно если у них средние урони дохода, а кредит они берут на свадьбу или обучение)"
   ]
  }
 ],
 "metadata": {
  "ExecuteTimeLog": [
   {
    "duration": 2,
    "start_time": "2021-11-15T10:47:10.013Z"
   },
   {
    "duration": 47,
    "start_time": "2021-11-15T10:47:17.070Z"
   },
   {
    "duration": 16,
    "start_time": "2021-11-15T10:47:19.182Z"
   },
   {
    "duration": 11,
    "start_time": "2021-11-15T10:48:35.469Z"
   },
   {
    "duration": 14,
    "start_time": "2021-11-15T10:50:30.272Z"
   },
   {
    "duration": 11,
    "start_time": "2021-11-15T10:50:43.082Z"
   },
   {
    "duration": 355,
    "start_time": "2021-11-16T06:04:53.152Z"
   },
   {
    "duration": 1215,
    "start_time": "2021-11-16T06:05:16.320Z"
   },
   {
    "duration": 52,
    "start_time": "2021-11-16T06:05:17.537Z"
   },
   {
    "duration": 13,
    "start_time": "2021-11-16T06:05:17.591Z"
   },
   {
    "duration": 2,
    "start_time": "2021-11-16T06:07:29.292Z"
   },
   {
    "duration": 51,
    "start_time": "2021-11-16T06:07:39.337Z"
   },
   {
    "duration": 11,
    "start_time": "2021-11-16T06:07:43.043Z"
   },
   {
    "duration": 10,
    "start_time": "2021-11-16T06:13:55.159Z"
   },
   {
    "duration": 21,
    "start_time": "2021-11-16T06:14:00.588Z"
   },
   {
    "duration": 10,
    "start_time": "2021-11-16T06:14:29.046Z"
   },
   {
    "duration": 12,
    "start_time": "2021-11-16T06:40:07.380Z"
   },
   {
    "duration": 13,
    "start_time": "2021-11-16T06:45:05.060Z"
   },
   {
    "duration": 13,
    "start_time": "2021-11-16T06:45:20.797Z"
   },
   {
    "duration": 16,
    "start_time": "2021-11-16T06:45:30.157Z"
   },
   {
    "duration": 10,
    "start_time": "2021-11-16T06:45:51.166Z"
   },
   {
    "duration": 13,
    "start_time": "2021-11-16T06:46:44.860Z"
   },
   {
    "duration": 9,
    "start_time": "2021-11-16T06:46:56.103Z"
   },
   {
    "duration": 703,
    "start_time": "2021-11-20T08:50:40.145Z"
   },
   {
    "duration": 50,
    "start_time": "2021-11-20T08:50:40.850Z"
   },
   {
    "duration": 19,
    "start_time": "2021-11-20T08:50:40.902Z"
   },
   {
    "duration": 13,
    "start_time": "2021-11-20T09:06:58.011Z"
   },
   {
    "duration": 101,
    "start_time": "2021-11-20T09:08:15.033Z"
   },
   {
    "duration": 13,
    "start_time": "2021-11-20T09:16:31.259Z"
   },
   {
    "duration": 10,
    "start_time": "2021-11-20T09:18:02.379Z"
   },
   {
    "duration": 29,
    "start_time": "2021-11-20T09:25:27.544Z"
   },
   {
    "duration": 11,
    "start_time": "2021-11-20T09:27:05.329Z"
   },
   {
    "duration": 11,
    "start_time": "2021-11-20T09:28:25.881Z"
   },
   {
    "duration": 2,
    "start_time": "2021-11-20T09:38:05.308Z"
   },
   {
    "duration": 2,
    "start_time": "2021-11-20T09:38:08.733Z"
   },
   {
    "duration": 2,
    "start_time": "2021-11-20T09:38:13.870Z"
   },
   {
    "duration": 64,
    "start_time": "2021-11-20T09:38:13.874Z"
   },
   {
    "duration": 9,
    "start_time": "2021-11-20T09:38:13.940Z"
   },
   {
    "duration": 3,
    "start_time": "2021-11-20T09:38:37.451Z"
   },
   {
    "duration": 49,
    "start_time": "2021-11-20T09:38:37.456Z"
   },
   {
    "duration": 10,
    "start_time": "2021-11-20T09:38:37.508Z"
   },
   {
    "duration": 3,
    "start_time": "2021-11-20T09:38:57.776Z"
   },
   {
    "duration": 50,
    "start_time": "2021-11-20T09:38:57.781Z"
   },
   {
    "duration": 10,
    "start_time": "2021-11-20T09:38:57.833Z"
   },
   {
    "duration": 3,
    "start_time": "2021-11-20T10:10:52.256Z"
   },
   {
    "duration": 9,
    "start_time": "2021-11-20T10:11:05.104Z"
   },
   {
    "duration": 3,
    "start_time": "2021-11-20T10:58:31.772Z"
   },
   {
    "duration": 55,
    "start_time": "2021-11-20T10:58:31.777Z"
   },
   {
    "duration": 9,
    "start_time": "2021-11-20T10:58:31.834Z"
   },
   {
    "duration": 2,
    "start_time": "2021-11-20T10:58:40.604Z"
   },
   {
    "duration": 49,
    "start_time": "2021-11-20T10:58:42.126Z"
   },
   {
    "duration": 11,
    "start_time": "2021-11-20T10:58:43.494Z"
   },
   {
    "duration": 42,
    "start_time": "2021-11-20T10:58:47.126Z"
   },
   {
    "duration": 12,
    "start_time": "2021-11-20T10:59:14.191Z"
   },
   {
    "duration": 31,
    "start_time": "2021-11-20T10:59:33.063Z"
   },
   {
    "duration": 30,
    "start_time": "2021-11-20T10:59:54.983Z"
   },
   {
    "duration": 11,
    "start_time": "2021-11-20T11:00:46.519Z"
   },
   {
    "duration": 12,
    "start_time": "2021-11-20T11:00:53.287Z"
   },
   {
    "duration": 11,
    "start_time": "2021-11-20T11:00:56.943Z"
   },
   {
    "duration": 12,
    "start_time": "2021-11-20T11:01:34.592Z"
   },
   {
    "duration": 7,
    "start_time": "2021-11-20T11:16:40.260Z"
   },
   {
    "duration": 4,
    "start_time": "2021-11-20T11:18:15.788Z"
   },
   {
    "duration": 10,
    "start_time": "2021-11-20T11:18:23.844Z"
   },
   {
    "duration": 315,
    "start_time": "2021-11-20T11:19:47.133Z"
   },
   {
    "duration": 29,
    "start_time": "2021-11-20T11:20:21.045Z"
   },
   {
    "duration": 270,
    "start_time": "2021-11-20T11:27:49.318Z"
   },
   {
    "duration": 8,
    "start_time": "2021-11-20T12:33:52.794Z"
   },
   {
    "duration": 12,
    "start_time": "2021-11-20T12:46:39.358Z"
   },
   {
    "duration": 3,
    "start_time": "2021-11-20T12:59:19.568Z"
   },
   {
    "duration": 5,
    "start_time": "2021-11-20T12:59:33.987Z"
   },
   {
    "duration": 11,
    "start_time": "2021-11-20T13:00:21.531Z"
   },
   {
    "duration": 15,
    "start_time": "2021-11-20T13:02:00.596Z"
   },
   {
    "duration": 11,
    "start_time": "2021-11-20T13:02:27.053Z"
   },
   {
    "duration": 5,
    "start_time": "2021-11-20T13:05:16.292Z"
   },
   {
    "duration": 587,
    "start_time": "2021-11-20T13:08:56.144Z"
   },
   {
    "duration": 51,
    "start_time": "2021-11-20T13:08:56.733Z"
   },
   {
    "duration": 11,
    "start_time": "2021-11-20T13:08:56.787Z"
   },
   {
    "duration": 4,
    "start_time": "2021-11-20T13:08:56.800Z"
   },
   {
    "duration": 12,
    "start_time": "2021-11-20T13:08:56.805Z"
   },
   {
    "duration": 25,
    "start_time": "2021-11-20T13:08:56.819Z"
   },
   {
    "duration": 15,
    "start_time": "2021-11-20T13:08:56.846Z"
   },
   {
    "duration": 10,
    "start_time": "2021-11-20T13:08:56.862Z"
   },
   {
    "duration": 5,
    "start_time": "2021-11-20T13:08:56.874Z"
   },
   {
    "duration": 13,
    "start_time": "2021-11-20T13:15:30.080Z"
   },
   {
    "duration": 599,
    "start_time": "2021-11-20T13:15:45.438Z"
   },
   {
    "duration": 52,
    "start_time": "2021-11-20T13:15:46.039Z"
   },
   {
    "duration": 11,
    "start_time": "2021-11-20T13:15:46.094Z"
   },
   {
    "duration": 4,
    "start_time": "2021-11-20T13:15:46.107Z"
   },
   {
    "duration": 14,
    "start_time": "2021-11-20T13:15:46.113Z"
   },
   {
    "duration": 16,
    "start_time": "2021-11-20T13:15:46.129Z"
   },
   {
    "duration": 16,
    "start_time": "2021-11-20T13:15:46.146Z"
   },
   {
    "duration": 12,
    "start_time": "2021-11-20T13:15:46.164Z"
   },
   {
    "duration": 6,
    "start_time": "2021-11-20T13:15:46.178Z"
   },
   {
    "duration": 10,
    "start_time": "2021-11-20T13:29:04.833Z"
   },
   {
    "duration": 14,
    "start_time": "2021-11-20T13:32:22.356Z"
   },
   {
    "duration": 13,
    "start_time": "2021-11-20T13:32:30.083Z"
   },
   {
    "duration": 10,
    "start_time": "2021-11-20T13:32:39.892Z"
   },
   {
    "duration": 12,
    "start_time": "2021-11-20T13:34:01.165Z"
   },
   {
    "duration": 11,
    "start_time": "2021-11-20T13:34:11.126Z"
   },
   {
    "duration": 11,
    "start_time": "2021-11-20T13:34:22.981Z"
   },
   {
    "duration": 346,
    "start_time": "2021-11-20T13:55:16.873Z"
   },
   {
    "duration": 273,
    "start_time": "2021-11-20T13:55:57.315Z"
   },
   {
    "duration": 28,
    "start_time": "2021-11-20T13:56:04.763Z"
   },
   {
    "duration": 357,
    "start_time": "2021-11-20T13:56:24.812Z"
   },
   {
    "duration": 33,
    "start_time": "2021-11-20T13:57:49.956Z"
   },
   {
    "duration": 285,
    "start_time": "2021-11-20T13:58:27.460Z"
   },
   {
    "duration": 40,
    "start_time": "2021-11-20T13:58:54.948Z"
   },
   {
    "duration": 21,
    "start_time": "2021-11-20T14:07:08.676Z"
   },
   {
    "duration": 7,
    "start_time": "2021-11-20T14:07:43.790Z"
   },
   {
    "duration": 589,
    "start_time": "2021-11-20T14:07:53.543Z"
   },
   {
    "duration": 53,
    "start_time": "2021-11-20T14:07:54.133Z"
   },
   {
    "duration": 12,
    "start_time": "2021-11-20T14:07:54.190Z"
   },
   {
    "duration": 4,
    "start_time": "2021-11-20T14:07:54.204Z"
   },
   {
    "duration": 12,
    "start_time": "2021-11-20T14:07:54.209Z"
   },
   {
    "duration": 14,
    "start_time": "2021-11-20T14:07:54.245Z"
   },
   {
    "duration": 23,
    "start_time": "2021-11-20T14:07:54.262Z"
   },
   {
    "duration": 11,
    "start_time": "2021-11-20T14:07:54.287Z"
   },
   {
    "duration": 7,
    "start_time": "2021-11-20T14:07:54.299Z"
   },
   {
    "duration": 38,
    "start_time": "2021-11-20T14:07:54.308Z"
   },
   {
    "duration": 25,
    "start_time": "2021-11-20T14:07:54.347Z"
   },
   {
    "duration": 7,
    "start_time": "2021-11-20T14:09:14.312Z"
   },
   {
    "duration": 16,
    "start_time": "2021-11-20T14:09:59.448Z"
   },
   {
    "duration": 19,
    "start_time": "2021-11-20T14:12:04.406Z"
   },
   {
    "duration": 14,
    "start_time": "2021-11-20T14:35:15.728Z"
   },
   {
    "duration": 7,
    "start_time": "2021-11-20T14:35:40.504Z"
   },
   {
    "duration": 14,
    "start_time": "2021-11-20T14:37:45.241Z"
   },
   {
    "duration": 6,
    "start_time": "2021-11-20T14:38:01.505Z"
   },
   {
    "duration": 22,
    "start_time": "2021-11-20T14:38:26.849Z"
   },
   {
    "duration": 12,
    "start_time": "2021-11-20T14:38:37.801Z"
   },
   {
    "duration": 14,
    "start_time": "2021-11-20T14:38:44.017Z"
   },
   {
    "duration": 14,
    "start_time": "2021-11-20T14:38:58.121Z"
   },
   {
    "duration": 12,
    "start_time": "2021-11-20T14:39:10.682Z"
   },
   {
    "duration": 9,
    "start_time": "2021-11-20T14:41:42.242Z"
   },
   {
    "duration": 6,
    "start_time": "2021-11-20T14:41:48.713Z"
   },
   {
    "duration": 27,
    "start_time": "2021-11-20T14:42:35.770Z"
   },
   {
    "duration": 11,
    "start_time": "2021-11-20T14:47:21.066Z"
   },
   {
    "duration": 7,
    "start_time": "2021-11-20T14:55:35.859Z"
   },
   {
    "duration": 24,
    "start_time": "2021-11-20T14:55:37.902Z"
   },
   {
    "duration": 1257,
    "start_time": "2021-11-20T14:56:11.330Z"
   },
   {
    "duration": 50,
    "start_time": "2021-11-20T14:56:12.589Z"
   },
   {
    "duration": 13,
    "start_time": "2021-11-20T14:56:12.641Z"
   },
   {
    "duration": 4,
    "start_time": "2021-11-20T14:56:12.656Z"
   },
   {
    "duration": 10,
    "start_time": "2021-11-20T14:56:12.662Z"
   },
   {
    "duration": 11,
    "start_time": "2021-11-20T14:56:12.674Z"
   },
   {
    "duration": 15,
    "start_time": "2021-11-20T14:56:12.686Z"
   },
   {
    "duration": 43,
    "start_time": "2021-11-20T14:56:12.703Z"
   },
   {
    "duration": 5,
    "start_time": "2021-11-20T14:56:12.749Z"
   },
   {
    "duration": 8,
    "start_time": "2021-11-20T14:56:12.756Z"
   },
   {
    "duration": 17,
    "start_time": "2021-11-20T14:56:12.765Z"
   },
   {
    "duration": 6,
    "start_time": "2021-11-20T14:56:12.784Z"
   },
   {
    "duration": 55,
    "start_time": "2021-11-20T14:56:12.792Z"
   },
   {
    "duration": 10,
    "start_time": "2021-11-20T14:56:12.849Z"
   },
   {
    "duration": 6,
    "start_time": "2021-11-20T15:00:01.417Z"
   },
   {
    "duration": 9,
    "start_time": "2021-11-20T15:10:08.720Z"
   },
   {
    "duration": 6,
    "start_time": "2021-11-20T15:10:17.446Z"
   },
   {
    "duration": 6,
    "start_time": "2021-11-20T15:11:31.088Z"
   },
   {
    "duration": 659,
    "start_time": "2021-11-20T15:11:56.072Z"
   },
   {
    "duration": 54,
    "start_time": "2021-11-20T15:11:56.733Z"
   },
   {
    "duration": 14,
    "start_time": "2021-11-20T15:11:56.789Z"
   },
   {
    "duration": 3,
    "start_time": "2021-11-20T15:11:56.805Z"
   },
   {
    "duration": 13,
    "start_time": "2021-11-20T15:11:56.810Z"
   },
   {
    "duration": 16,
    "start_time": "2021-11-20T15:11:56.845Z"
   },
   {
    "duration": 21,
    "start_time": "2021-11-20T15:11:56.863Z"
   },
   {
    "duration": 16,
    "start_time": "2021-11-20T15:11:56.887Z"
   },
   {
    "duration": 6,
    "start_time": "2021-11-20T15:11:56.905Z"
   },
   {
    "duration": 40,
    "start_time": "2021-11-20T15:11:56.912Z"
   },
   {
    "duration": 19,
    "start_time": "2021-11-20T15:11:56.955Z"
   },
   {
    "duration": 7,
    "start_time": "2021-11-20T15:11:56.976Z"
   },
   {
    "duration": 11,
    "start_time": "2021-11-20T15:11:56.985Z"
   },
   {
    "duration": 47,
    "start_time": "2021-11-20T15:11:56.998Z"
   },
   {
    "duration": 7,
    "start_time": "2021-11-20T15:11:57.047Z"
   },
   {
    "duration": 7,
    "start_time": "2021-11-20T15:13:57.211Z"
   },
   {
    "duration": 10,
    "start_time": "2021-11-20T15:14:17.782Z"
   },
   {
    "duration": 31,
    "start_time": "2021-11-20T15:14:40.611Z"
   },
   {
    "duration": 502,
    "start_time": "2021-11-20T15:15:01.267Z"
   },
   {
    "duration": 17,
    "start_time": "2021-11-20T15:20:15.379Z"
   },
   {
    "duration": 5,
    "start_time": "2021-11-20T15:25:04.280Z"
   },
   {
    "duration": 5,
    "start_time": "2021-11-20T15:25:09.216Z"
   },
   {
    "duration": 26,
    "start_time": "2021-11-20T15:27:18.577Z"
   },
   {
    "duration": 15,
    "start_time": "2021-11-20T15:27:32.103Z"
   },
   {
    "duration": 15,
    "start_time": "2021-11-20T15:30:44.225Z"
   },
   {
    "duration": 15,
    "start_time": "2021-11-20T15:31:16.073Z"
   },
   {
    "duration": 20,
    "start_time": "2021-11-20T15:31:24.680Z"
   },
   {
    "duration": 528,
    "start_time": "2021-11-20T15:32:47.514Z"
   },
   {
    "duration": 27,
    "start_time": "2021-11-20T15:33:22.594Z"
   },
   {
    "duration": 29,
    "start_time": "2021-11-20T15:34:00.015Z"
   },
   {
    "duration": 424,
    "start_time": "2021-11-20T15:34:26.394Z"
   },
   {
    "duration": 29,
    "start_time": "2021-11-20T15:34:28.801Z"
   },
   {
    "duration": 7,
    "start_time": "2021-11-20T15:36:28.027Z"
   },
   {
    "duration": 7,
    "start_time": "2021-11-20T15:38:53.812Z"
   },
   {
    "duration": 17,
    "start_time": "2021-11-20T15:39:56.017Z"
   },
   {
    "duration": 17,
    "start_time": "2021-11-20T15:40:03.332Z"
   },
   {
    "duration": 7,
    "start_time": "2021-11-20T15:40:09.451Z"
   },
   {
    "duration": 29,
    "start_time": "2021-11-20T15:42:54.433Z"
   },
   {
    "duration": 17,
    "start_time": "2021-11-20T15:43:09.701Z"
   },
   {
    "duration": 22,
    "start_time": "2021-11-20T15:43:13.477Z"
   },
   {
    "duration": 10,
    "start_time": "2021-11-20T15:46:47.238Z"
   },
   {
    "duration": 3651,
    "start_time": "2021-11-20T15:58:31.415Z"
   },
   {
    "duration": 3896,
    "start_time": "2021-11-20T15:58:40.297Z"
   },
   {
    "duration": 5251,
    "start_time": "2021-11-20T16:01:22.738Z"
   },
   {
    "duration": 3730,
    "start_time": "2021-11-20T16:01:31.106Z"
   },
   {
    "duration": 3785,
    "start_time": "2021-11-20T16:08:09.306Z"
   },
   {
    "duration": 3958,
    "start_time": "2021-11-20T16:15:02.260Z"
   },
   {
    "duration": 615,
    "start_time": "2021-11-20T16:15:22.509Z"
   },
   {
    "duration": 58,
    "start_time": "2021-11-20T16:15:23.126Z"
   },
   {
    "duration": 12,
    "start_time": "2021-11-20T16:15:23.186Z"
   },
   {
    "duration": 19,
    "start_time": "2021-11-20T16:15:23.200Z"
   },
   {
    "duration": 23,
    "start_time": "2021-11-20T16:15:23.220Z"
   },
   {
    "duration": 22,
    "start_time": "2021-11-20T16:15:23.246Z"
   },
   {
    "duration": 13,
    "start_time": "2021-11-20T16:15:23.270Z"
   },
   {
    "duration": 20,
    "start_time": "2021-11-20T16:15:23.285Z"
   },
   {
    "duration": 12,
    "start_time": "2021-11-20T16:15:23.308Z"
   },
   {
    "duration": 45,
    "start_time": "2021-11-20T16:15:23.322Z"
   },
   {
    "duration": 8,
    "start_time": "2021-11-20T16:15:23.369Z"
   },
   {
    "duration": 22,
    "start_time": "2021-11-20T16:15:23.378Z"
   },
   {
    "duration": 28,
    "start_time": "2021-11-20T16:15:23.402Z"
   },
   {
    "duration": 21,
    "start_time": "2021-11-20T16:15:23.431Z"
   },
   {
    "duration": 16,
    "start_time": "2021-11-20T16:15:23.455Z"
   },
   {
    "duration": 14,
    "start_time": "2021-11-20T16:15:23.473Z"
   },
   {
    "duration": 19,
    "start_time": "2021-11-20T16:15:23.489Z"
   },
   {
    "duration": 16,
    "start_time": "2021-11-20T16:15:23.509Z"
   },
   {
    "duration": 26,
    "start_time": "2021-11-20T16:15:23.527Z"
   },
   {
    "duration": 44,
    "start_time": "2021-11-20T16:15:23.555Z"
   },
   {
    "duration": 39,
    "start_time": "2021-11-20T16:15:23.601Z"
   },
   {
    "duration": 9,
    "start_time": "2021-11-20T16:15:23.642Z"
   },
   {
    "duration": 23,
    "start_time": "2021-11-20T16:15:23.653Z"
   },
   {
    "duration": 21,
    "start_time": "2021-11-20T16:15:23.678Z"
   },
   {
    "duration": 10,
    "start_time": "2021-11-20T16:15:23.700Z"
   },
   {
    "duration": 27,
    "start_time": "2021-11-20T16:15:23.712Z"
   },
   {
    "duration": 4291,
    "start_time": "2021-11-20T16:15:23.743Z"
   },
   {
    "duration": 3558,
    "start_time": "2021-11-20T16:17:41.497Z"
   },
   {
    "duration": 601,
    "start_time": "2021-11-21T07:39:33.142Z"
   },
   {
    "duration": 49,
    "start_time": "2021-11-21T07:39:33.745Z"
   },
   {
    "duration": 11,
    "start_time": "2021-11-21T07:39:33.798Z"
   },
   {
    "duration": 3,
    "start_time": "2021-11-21T07:39:33.810Z"
   },
   {
    "duration": 19,
    "start_time": "2021-11-21T07:39:33.815Z"
   },
   {
    "duration": 14,
    "start_time": "2021-11-21T07:39:33.836Z"
   },
   {
    "duration": 22,
    "start_time": "2021-11-21T07:39:33.852Z"
   },
   {
    "duration": 11,
    "start_time": "2021-11-21T07:39:33.877Z"
   },
   {
    "duration": 5,
    "start_time": "2021-11-21T07:39:33.890Z"
   },
   {
    "duration": 16,
    "start_time": "2021-11-21T07:39:33.897Z"
   },
   {
    "duration": 6,
    "start_time": "2021-11-21T07:39:33.914Z"
   },
   {
    "duration": 6,
    "start_time": "2021-11-21T07:39:33.922Z"
   },
   {
    "duration": 46,
    "start_time": "2021-11-21T07:39:33.930Z"
   },
   {
    "duration": 9,
    "start_time": "2021-11-21T07:39:33.978Z"
   },
   {
    "duration": 8,
    "start_time": "2021-11-21T07:39:33.988Z"
   },
   {
    "duration": 8,
    "start_time": "2021-11-21T07:39:33.998Z"
   },
   {
    "duration": 5,
    "start_time": "2021-11-21T07:39:34.008Z"
   },
   {
    "duration": 20,
    "start_time": "2021-11-21T07:39:34.014Z"
   },
   {
    "duration": 11,
    "start_time": "2021-11-21T07:39:34.035Z"
   },
   {
    "duration": 26,
    "start_time": "2021-11-21T07:39:34.063Z"
   },
   {
    "duration": 17,
    "start_time": "2021-11-21T07:39:34.090Z"
   },
   {
    "duration": 5,
    "start_time": "2021-11-21T07:39:34.109Z"
   },
   {
    "duration": 14,
    "start_time": "2021-11-21T07:39:34.115Z"
   },
   {
    "duration": 43,
    "start_time": "2021-11-21T07:39:34.130Z"
   },
   {
    "duration": 6,
    "start_time": "2021-11-21T07:39:34.175Z"
   },
   {
    "duration": 9,
    "start_time": "2021-11-21T07:39:34.183Z"
   },
   {
    "duration": 3851,
    "start_time": "2021-11-21T07:39:34.194Z"
   },
   {
    "duration": 1805,
    "start_time": "2021-11-21T08:04:33.102Z"
   },
   {
    "duration": 688,
    "start_time": "2021-11-21T08:04:42.691Z"
   },
   {
    "duration": 54,
    "start_time": "2021-11-21T08:04:43.381Z"
   },
   {
    "duration": 12,
    "start_time": "2021-11-21T08:04:43.439Z"
   },
   {
    "duration": 5,
    "start_time": "2021-11-21T08:04:43.464Z"
   },
   {
    "duration": 16,
    "start_time": "2021-11-21T08:04:43.471Z"
   },
   {
    "duration": 12,
    "start_time": "2021-11-21T08:04:43.489Z"
   },
   {
    "duration": 16,
    "start_time": "2021-11-21T08:04:43.504Z"
   },
   {
    "duration": 45,
    "start_time": "2021-11-21T08:04:43.523Z"
   },
   {
    "duration": 6,
    "start_time": "2021-11-21T08:04:43.570Z"
   },
   {
    "duration": 19,
    "start_time": "2021-11-21T08:04:43.577Z"
   },
   {
    "duration": 7,
    "start_time": "2021-11-21T08:04:43.598Z"
   },
   {
    "duration": 7,
    "start_time": "2021-11-21T08:04:43.607Z"
   },
   {
    "duration": 55,
    "start_time": "2021-11-21T08:04:43.616Z"
   },
   {
    "duration": 8,
    "start_time": "2021-11-21T08:04:43.673Z"
   },
   {
    "duration": 11,
    "start_time": "2021-11-21T08:04:43.683Z"
   },
   {
    "duration": 14,
    "start_time": "2021-11-21T08:04:43.696Z"
   },
   {
    "duration": 5,
    "start_time": "2021-11-21T08:04:43.712Z"
   },
   {
    "duration": 14,
    "start_time": "2021-11-21T08:04:43.719Z"
   },
   {
    "duration": 34,
    "start_time": "2021-11-21T08:04:43.735Z"
   },
   {
    "duration": 47,
    "start_time": "2021-11-21T08:04:43.770Z"
   },
   {
    "duration": 17,
    "start_time": "2021-11-21T08:04:43.819Z"
   },
   {
    "duration": 27,
    "start_time": "2021-11-21T08:04:43.841Z"
   },
   {
    "duration": 30,
    "start_time": "2021-11-21T08:04:43.870Z"
   },
   {
    "duration": 16,
    "start_time": "2021-11-21T08:04:43.901Z"
   },
   {
    "duration": 6,
    "start_time": "2021-11-21T08:04:43.919Z"
   },
   {
    "duration": 17,
    "start_time": "2021-11-21T08:04:43.927Z"
   },
   {
    "duration": 3796,
    "start_time": "2021-11-21T08:04:43.946Z"
   },
   {
    "duration": 640,
    "start_time": "2021-11-21T08:07:27.303Z"
   },
   {
    "duration": 53,
    "start_time": "2021-11-21T08:07:27.945Z"
   },
   {
    "duration": 11,
    "start_time": "2021-11-21T08:07:28.001Z"
   },
   {
    "duration": 4,
    "start_time": "2021-11-21T08:07:28.014Z"
   },
   {
    "duration": 12,
    "start_time": "2021-11-21T08:07:28.019Z"
   },
   {
    "duration": 37,
    "start_time": "2021-11-21T08:07:28.033Z"
   },
   {
    "duration": 19,
    "start_time": "2021-11-21T08:07:28.072Z"
   },
   {
    "duration": 16,
    "start_time": "2021-11-21T08:07:28.093Z"
   },
   {
    "duration": 6,
    "start_time": "2021-11-21T08:07:28.111Z"
   },
   {
    "duration": 50,
    "start_time": "2021-11-21T08:07:28.118Z"
   },
   {
    "duration": 6,
    "start_time": "2021-11-21T08:07:28.170Z"
   },
   {
    "duration": 7,
    "start_time": "2021-11-21T08:07:28.178Z"
   },
   {
    "duration": 20,
    "start_time": "2021-11-21T08:07:28.187Z"
   },
   {
    "duration": 8,
    "start_time": "2021-11-21T08:07:28.209Z"
   },
   {
    "duration": 12,
    "start_time": "2021-11-21T08:07:28.218Z"
   },
   {
    "duration": 39,
    "start_time": "2021-11-21T08:07:28.232Z"
   },
   {
    "duration": 5,
    "start_time": "2021-11-21T08:07:28.273Z"
   },
   {
    "duration": 9,
    "start_time": "2021-11-21T08:07:28.280Z"
   },
   {
    "duration": 11,
    "start_time": "2021-11-21T08:07:28.291Z"
   },
   {
    "duration": 36,
    "start_time": "2021-11-21T08:07:28.304Z"
   },
   {
    "duration": 37,
    "start_time": "2021-11-21T08:07:28.342Z"
   },
   {
    "duration": 7,
    "start_time": "2021-11-21T08:07:28.381Z"
   },
   {
    "duration": 16,
    "start_time": "2021-11-21T08:07:28.391Z"
   },
   {
    "duration": 14,
    "start_time": "2021-11-21T08:07:28.409Z"
   },
   {
    "duration": 43,
    "start_time": "2021-11-21T08:07:28.425Z"
   },
   {
    "duration": 11,
    "start_time": "2021-11-21T08:07:28.470Z"
   },
   {
    "duration": 3550,
    "start_time": "2021-11-21T08:07:28.483Z"
   },
   {
    "duration": 523,
    "start_time": "2021-11-21T08:11:41.647Z"
   },
   {
    "duration": 6,
    "start_time": "2021-11-21T08:13:00.569Z"
   },
   {
    "duration": 25,
    "start_time": "2021-11-21T08:13:21.746Z"
   },
   {
    "duration": 20,
    "start_time": "2021-11-21T08:17:15.411Z"
   },
   {
    "duration": 19,
    "start_time": "2021-11-21T08:19:57.386Z"
   },
   {
    "duration": 16,
    "start_time": "2021-11-21T08:33:01.269Z"
   },
   {
    "duration": 7,
    "start_time": "2021-11-21T08:33:30.295Z"
   },
   {
    "duration": 16,
    "start_time": "2021-11-21T08:38:18.015Z"
   },
   {
    "duration": 17,
    "start_time": "2021-11-21T08:39:54.009Z"
   },
   {
    "duration": 17,
    "start_time": "2021-11-21T08:41:57.314Z"
   },
   {
    "duration": 17,
    "start_time": "2021-11-21T08:42:06.905Z"
   },
   {
    "duration": 17,
    "start_time": "2021-11-21T08:42:10.874Z"
   },
   {
    "duration": 17,
    "start_time": "2021-11-21T08:42:32.618Z"
   },
   {
    "duration": 18,
    "start_time": "2021-11-21T08:42:49.474Z"
   },
   {
    "duration": 16,
    "start_time": "2021-11-21T08:44:05.330Z"
   },
   {
    "duration": 28,
    "start_time": "2021-11-21T08:48:02.772Z"
   },
   {
    "duration": 18,
    "start_time": "2021-11-21T09:11:21.593Z"
   },
   {
    "duration": 13,
    "start_time": "2021-11-21T09:12:40.690Z"
   },
   {
    "duration": 798,
    "start_time": "2021-11-21T09:13:18.737Z"
   },
   {
    "duration": 73,
    "start_time": "2021-11-21T09:13:19.538Z"
   },
   {
    "duration": 18,
    "start_time": "2021-11-21T09:13:19.614Z"
   },
   {
    "duration": 4,
    "start_time": "2021-11-21T09:13:19.634Z"
   },
   {
    "duration": 36,
    "start_time": "2021-11-21T09:13:19.640Z"
   },
   {
    "duration": 13,
    "start_time": "2021-11-21T09:13:19.678Z"
   },
   {
    "duration": 15,
    "start_time": "2021-11-21T09:13:19.693Z"
   },
   {
    "duration": 12,
    "start_time": "2021-11-21T09:13:19.710Z"
   },
   {
    "duration": 5,
    "start_time": "2021-11-21T09:13:19.725Z"
   },
   {
    "duration": 15,
    "start_time": "2021-11-21T09:13:19.764Z"
   },
   {
    "duration": 6,
    "start_time": "2021-11-21T09:13:19.781Z"
   },
   {
    "duration": 7,
    "start_time": "2021-11-21T09:13:19.788Z"
   },
   {
    "duration": 17,
    "start_time": "2021-11-21T09:13:19.797Z"
   },
   {
    "duration": 8,
    "start_time": "2021-11-21T09:13:19.816Z"
   },
   {
    "duration": 38,
    "start_time": "2021-11-21T09:13:19.826Z"
   },
   {
    "duration": 10,
    "start_time": "2021-11-21T09:13:19.866Z"
   },
   {
    "duration": 6,
    "start_time": "2021-11-21T09:13:19.878Z"
   },
   {
    "duration": 10,
    "start_time": "2021-11-21T09:13:19.885Z"
   },
   {
    "duration": 14,
    "start_time": "2021-11-21T09:13:19.896Z"
   },
   {
    "duration": 54,
    "start_time": "2021-11-21T09:13:19.912Z"
   },
   {
    "duration": 20,
    "start_time": "2021-11-21T09:13:19.969Z"
   },
   {
    "duration": 8,
    "start_time": "2021-11-21T09:13:19.992Z"
   },
   {
    "duration": 17,
    "start_time": "2021-11-21T09:13:20.003Z"
   },
   {
    "duration": 46,
    "start_time": "2021-11-21T09:13:20.022Z"
   },
   {
    "duration": 7,
    "start_time": "2021-11-21T09:13:20.070Z"
   },
   {
    "duration": 14,
    "start_time": "2021-11-21T09:13:20.079Z"
   },
   {
    "duration": 3919,
    "start_time": "2021-11-21T09:13:20.097Z"
   },
   {
    "duration": 49,
    "start_time": "2021-11-21T09:13:24.018Z"
   },
   {
    "duration": 65,
    "start_time": "2021-11-21T09:13:24.069Z"
   },
   {
    "duration": 27,
    "start_time": "2021-11-21T09:13:24.136Z"
   },
   {
    "duration": 36,
    "start_time": "2021-11-21T09:13:24.165Z"
   },
   {
    "duration": 306,
    "start_time": "2021-11-21T09:25:51.704Z"
   },
   {
    "duration": 8,
    "start_time": "2021-11-21T09:26:00.497Z"
   },
   {
    "duration": 255,
    "start_time": "2021-11-21T09:30:58.114Z"
   },
   {
    "duration": 6304,
    "start_time": "2021-11-21T09:31:13.058Z"
   },
   {
    "duration": 37,
    "start_time": "2021-11-21T09:31:47.435Z"
   },
   {
    "duration": 24,
    "start_time": "2021-11-21T09:32:59.370Z"
   },
   {
    "duration": 26,
    "start_time": "2021-11-21T09:35:42.057Z"
   },
   {
    "duration": 556,
    "start_time": "2021-11-21T09:36:00.919Z"
   },
   {
    "duration": 54,
    "start_time": "2021-11-21T09:36:01.477Z"
   },
   {
    "duration": 11,
    "start_time": "2021-11-21T09:36:01.533Z"
   },
   {
    "duration": 12,
    "start_time": "2021-11-21T09:36:01.546Z"
   },
   {
    "duration": 29,
    "start_time": "2021-11-21T09:36:01.560Z"
   },
   {
    "duration": 18,
    "start_time": "2021-11-21T09:36:01.591Z"
   },
   {
    "duration": 14,
    "start_time": "2021-11-21T09:36:01.611Z"
   },
   {
    "duration": 11,
    "start_time": "2021-11-21T09:36:01.628Z"
   },
   {
    "duration": 5,
    "start_time": "2021-11-21T09:36:01.641Z"
   },
   {
    "duration": 41,
    "start_time": "2021-11-21T09:36:01.647Z"
   },
   {
    "duration": 9,
    "start_time": "2021-11-21T09:36:01.689Z"
   },
   {
    "duration": 23,
    "start_time": "2021-11-21T09:36:01.699Z"
   },
   {
    "duration": 29,
    "start_time": "2021-11-21T09:36:01.724Z"
   },
   {
    "duration": 7,
    "start_time": "2021-11-21T09:36:01.755Z"
   },
   {
    "duration": 25,
    "start_time": "2021-11-21T09:36:01.763Z"
   },
   {
    "duration": 11,
    "start_time": "2021-11-21T09:36:01.790Z"
   },
   {
    "duration": 5,
    "start_time": "2021-11-21T09:36:01.803Z"
   },
   {
    "duration": 26,
    "start_time": "2021-11-21T09:36:01.810Z"
   },
   {
    "duration": 16,
    "start_time": "2021-11-21T09:36:01.837Z"
   },
   {
    "duration": 43,
    "start_time": "2021-11-21T09:36:01.855Z"
   },
   {
    "duration": 25,
    "start_time": "2021-11-21T09:36:01.900Z"
   },
   {
    "duration": 16,
    "start_time": "2021-11-21T09:36:01.927Z"
   },
   {
    "duration": 34,
    "start_time": "2021-11-21T09:36:01.945Z"
   },
   {
    "duration": 65,
    "start_time": "2021-11-21T09:36:01.981Z"
   },
   {
    "duration": 6,
    "start_time": "2021-11-21T09:36:02.047Z"
   },
   {
    "duration": 16,
    "start_time": "2021-11-21T09:36:02.054Z"
   },
   {
    "duration": 3514,
    "start_time": "2021-11-21T09:36:02.071Z"
   },
   {
    "duration": 23,
    "start_time": "2021-11-21T09:36:05.588Z"
   },
   {
    "duration": 21,
    "start_time": "2021-11-21T09:36:05.614Z"
   },
   {
    "duration": 36,
    "start_time": "2021-11-21T09:36:05.637Z"
   },
   {
    "duration": 8,
    "start_time": "2021-11-21T09:36:05.675Z"
   },
   {
    "duration": 410,
    "start_time": "2021-11-21T09:36:05.685Z"
   },
   {
    "duration": -30,
    "start_time": "2021-11-21T09:36:06.127Z"
   },
   {
    "duration": 27,
    "start_time": "2021-11-21T09:36:29.320Z"
   },
   {
    "duration": 24,
    "start_time": "2021-11-21T09:44:24.499Z"
   },
   {
    "duration": 9,
    "start_time": "2021-11-21T09:44:30.154Z"
   },
   {
    "duration": 313,
    "start_time": "2021-11-21T10:11:30.738Z"
   },
   {
    "duration": 9,
    "start_time": "2021-11-21T10:11:38.289Z"
   },
   {
    "duration": 9,
    "start_time": "2021-11-21T10:11:46.002Z"
   },
   {
    "duration": 9,
    "start_time": "2021-11-21T10:12:12.970Z"
   },
   {
    "duration": 253,
    "start_time": "2021-11-21T10:15:48.356Z"
   },
   {
    "duration": 15,
    "start_time": "2021-11-21T10:17:51.788Z"
   },
   {
    "duration": 626,
    "start_time": "2021-11-21T10:20:04.930Z"
   },
   {
    "duration": 53,
    "start_time": "2021-11-21T10:20:05.558Z"
   },
   {
    "duration": 11,
    "start_time": "2021-11-21T10:20:05.613Z"
   },
   {
    "duration": 7,
    "start_time": "2021-11-21T10:20:05.626Z"
   },
   {
    "duration": 20,
    "start_time": "2021-11-21T10:20:05.635Z"
   },
   {
    "duration": 23,
    "start_time": "2021-11-21T10:20:05.657Z"
   },
   {
    "duration": 18,
    "start_time": "2021-11-21T10:20:05.681Z"
   },
   {
    "duration": 20,
    "start_time": "2021-11-21T10:20:05.702Z"
   },
   {
    "duration": 23,
    "start_time": "2021-11-21T10:20:05.724Z"
   },
   {
    "duration": 24,
    "start_time": "2021-11-21T10:20:05.749Z"
   },
   {
    "duration": 8,
    "start_time": "2021-11-21T10:20:05.774Z"
   },
   {
    "duration": 25,
    "start_time": "2021-11-21T10:20:05.784Z"
   },
   {
    "duration": 31,
    "start_time": "2021-11-21T10:20:05.811Z"
   },
   {
    "duration": 28,
    "start_time": "2021-11-21T10:20:05.844Z"
   },
   {
    "duration": 18,
    "start_time": "2021-11-21T10:20:05.874Z"
   },
   {
    "duration": 21,
    "start_time": "2021-11-21T10:20:05.894Z"
   },
   {
    "duration": 14,
    "start_time": "2021-11-21T10:20:05.918Z"
   },
   {
    "duration": 22,
    "start_time": "2021-11-21T10:20:05.934Z"
   },
   {
    "duration": 16,
    "start_time": "2021-11-21T10:20:05.959Z"
   },
   {
    "duration": 47,
    "start_time": "2021-11-21T10:20:05.977Z"
   },
   {
    "duration": 37,
    "start_time": "2021-11-21T10:20:06.025Z"
   },
   {
    "duration": 5,
    "start_time": "2021-11-21T10:20:06.064Z"
   },
   {
    "duration": 32,
    "start_time": "2021-11-21T10:20:06.072Z"
   },
   {
    "duration": 19,
    "start_time": "2021-11-21T10:20:06.106Z"
   },
   {
    "duration": 5,
    "start_time": "2021-11-21T10:20:06.127Z"
   },
   {
    "duration": 27,
    "start_time": "2021-11-21T10:20:06.134Z"
   },
   {
    "duration": 3814,
    "start_time": "2021-11-21T10:20:06.163Z"
   },
   {
    "duration": 22,
    "start_time": "2021-11-21T10:20:09.979Z"
   },
   {
    "duration": 54,
    "start_time": "2021-11-21T10:20:10.003Z"
   },
   {
    "duration": 33,
    "start_time": "2021-11-21T10:20:10.060Z"
   },
   {
    "duration": 28,
    "start_time": "2021-11-21T10:20:10.094Z"
   },
   {
    "duration": 37,
    "start_time": "2021-11-21T10:20:10.124Z"
   },
   {
    "duration": 40,
    "start_time": "2021-11-21T10:20:10.162Z"
   },
   {
    "duration": 8,
    "start_time": "2021-11-21T10:20:10.204Z"
   },
   {
    "duration": 29,
    "start_time": "2021-11-21T10:20:10.214Z"
   },
   {
    "duration": 15,
    "start_time": "2021-11-21T10:20:43.533Z"
   },
   {
    "duration": 310,
    "start_time": "2021-11-21T10:21:03.709Z"
   },
   {
    "duration": 16,
    "start_time": "2021-11-21T10:21:12.972Z"
   },
   {
    "duration": 15,
    "start_time": "2021-11-21T10:21:31.870Z"
   },
   {
    "duration": 21,
    "start_time": "2021-11-21T10:21:43.486Z"
   },
   {
    "duration": 14,
    "start_time": "2021-11-21T10:28:57.911Z"
   },
   {
    "duration": 9,
    "start_time": "2021-11-21T10:29:00.383Z"
   },
   {
    "duration": 18,
    "start_time": "2021-11-21T10:29:12.815Z"
   },
   {
    "duration": 8,
    "start_time": "2021-11-21T10:29:34.184Z"
   },
   {
    "duration": 12,
    "start_time": "2021-11-21T10:29:37.068Z"
   },
   {
    "duration": 16,
    "start_time": "2021-11-21T10:31:15.385Z"
   },
   {
    "duration": 19,
    "start_time": "2021-11-21T10:31:20.688Z"
   },
   {
    "duration": 14,
    "start_time": "2021-11-21T10:48:58.719Z"
   },
   {
    "duration": 258,
    "start_time": "2021-11-21T10:52:47.495Z"
   },
   {
    "duration": 20,
    "start_time": "2021-11-21T10:53:58.767Z"
   },
   {
    "duration": 9,
    "start_time": "2021-11-21T10:55:22.679Z"
   },
   {
    "duration": 629,
    "start_time": "2021-11-21T10:58:09.191Z"
   },
   {
    "duration": 53,
    "start_time": "2021-11-21T10:58:09.822Z"
   },
   {
    "duration": 14,
    "start_time": "2021-11-21T10:58:09.878Z"
   },
   {
    "duration": 4,
    "start_time": "2021-11-21T10:58:09.894Z"
   },
   {
    "duration": 14,
    "start_time": "2021-11-21T10:58:09.900Z"
   },
   {
    "duration": 11,
    "start_time": "2021-11-21T10:58:09.917Z"
   },
   {
    "duration": 52,
    "start_time": "2021-11-21T10:58:09.930Z"
   },
   {
    "duration": 12,
    "start_time": "2021-11-21T10:58:09.985Z"
   },
   {
    "duration": 5,
    "start_time": "2021-11-21T10:58:10.000Z"
   },
   {
    "duration": 20,
    "start_time": "2021-11-21T10:58:10.008Z"
   },
   {
    "duration": 40,
    "start_time": "2021-11-21T10:58:10.029Z"
   },
   {
    "duration": 13,
    "start_time": "2021-11-21T10:58:10.071Z"
   },
   {
    "duration": 19,
    "start_time": "2021-11-21T10:58:10.086Z"
   },
   {
    "duration": 7,
    "start_time": "2021-11-21T10:58:10.108Z"
   },
   {
    "duration": 6,
    "start_time": "2021-11-21T10:58:10.117Z"
   },
   {
    "duration": 42,
    "start_time": "2021-11-21T10:58:10.125Z"
   },
   {
    "duration": 9,
    "start_time": "2021-11-21T10:58:10.170Z"
   },
   {
    "duration": 7,
    "start_time": "2021-11-21T10:58:10.182Z"
   },
   {
    "duration": 10,
    "start_time": "2021-11-21T10:58:10.193Z"
   },
   {
    "duration": 30,
    "start_time": "2021-11-21T10:58:10.206Z"
   },
   {
    "duration": 46,
    "start_time": "2021-11-21T10:58:10.238Z"
   },
   {
    "duration": 10,
    "start_time": "2021-11-21T10:58:10.287Z"
   },
   {
    "duration": 18,
    "start_time": "2021-11-21T10:58:10.299Z"
   },
   {
    "duration": 53,
    "start_time": "2021-11-21T10:58:10.319Z"
   },
   {
    "duration": 11,
    "start_time": "2021-11-21T10:58:10.375Z"
   },
   {
    "duration": 11,
    "start_time": "2021-11-21T10:58:10.388Z"
   },
   {
    "duration": 4006,
    "start_time": "2021-11-21T10:58:10.403Z"
   },
   {
    "duration": 22,
    "start_time": "2021-11-21T10:58:14.411Z"
   },
   {
    "duration": 40,
    "start_time": "2021-11-21T10:58:14.435Z"
   },
   {
    "duration": 26,
    "start_time": "2021-11-21T10:58:14.477Z"
   },
   {
    "duration": 9,
    "start_time": "2021-11-21T10:58:14.504Z"
   },
   {
    "duration": 50,
    "start_time": "2021-11-21T10:58:14.515Z"
   },
   {
    "duration": 32,
    "start_time": "2021-11-21T10:58:14.568Z"
   },
   {
    "duration": 8,
    "start_time": "2021-11-21T10:58:14.601Z"
   },
   {
    "duration": 18,
    "start_time": "2021-11-21T10:58:14.611Z"
   },
   {
    "duration": 40,
    "start_time": "2021-11-21T10:58:14.630Z"
   },
   {
    "duration": 26,
    "start_time": "2021-11-21T10:58:14.673Z"
   },
   {
    "duration": 325,
    "start_time": "2021-11-21T11:01:32.358Z"
   },
   {
    "duration": 29,
    "start_time": "2021-11-21T11:01:52.798Z"
   },
   {
    "duration": 20,
    "start_time": "2021-11-21T11:02:56.246Z"
   },
   {
    "duration": 20,
    "start_time": "2021-11-21T11:06:23.480Z"
   },
   {
    "duration": 611,
    "start_time": "2021-11-21T11:06:28.951Z"
   },
   {
    "duration": 53,
    "start_time": "2021-11-21T11:06:29.564Z"
   },
   {
    "duration": 11,
    "start_time": "2021-11-21T11:06:29.622Z"
   },
   {
    "duration": 4,
    "start_time": "2021-11-21T11:06:29.635Z"
   },
   {
    "duration": 22,
    "start_time": "2021-11-21T11:06:29.641Z"
   },
   {
    "duration": 12,
    "start_time": "2021-11-21T11:06:29.665Z"
   },
   {
    "duration": 16,
    "start_time": "2021-11-21T11:06:29.680Z"
   },
   {
    "duration": 12,
    "start_time": "2021-11-21T11:06:29.699Z"
   },
   {
    "duration": 5,
    "start_time": "2021-11-21T11:06:29.712Z"
   },
   {
    "duration": 49,
    "start_time": "2021-11-21T11:06:29.719Z"
   },
   {
    "duration": 7,
    "start_time": "2021-11-21T11:06:29.770Z"
   },
   {
    "duration": 7,
    "start_time": "2021-11-21T11:06:29.779Z"
   },
   {
    "duration": 18,
    "start_time": "2021-11-21T11:06:29.787Z"
   },
   {
    "duration": 7,
    "start_time": "2021-11-21T11:06:29.807Z"
   },
   {
    "duration": 9,
    "start_time": "2021-11-21T11:06:29.816Z"
   },
   {
    "duration": 41,
    "start_time": "2021-11-21T11:06:29.827Z"
   },
   {
    "duration": 6,
    "start_time": "2021-11-21T11:06:29.870Z"
   },
   {
    "duration": 15,
    "start_time": "2021-11-21T11:06:29.877Z"
   },
   {
    "duration": 13,
    "start_time": "2021-11-21T11:06:29.894Z"
   },
   {
    "duration": 32,
    "start_time": "2021-11-21T11:06:29.908Z"
   },
   {
    "duration": 36,
    "start_time": "2021-11-21T11:06:29.942Z"
   },
   {
    "duration": 7,
    "start_time": "2021-11-21T11:06:29.981Z"
   },
   {
    "duration": 15,
    "start_time": "2021-11-21T11:06:29.989Z"
   },
   {
    "duration": 16,
    "start_time": "2021-11-21T11:06:30.006Z"
   },
   {
    "duration": 6,
    "start_time": "2021-11-21T11:06:30.024Z"
   },
   {
    "duration": 12,
    "start_time": "2021-11-21T11:06:30.063Z"
   },
   {
    "duration": 3610,
    "start_time": "2021-11-21T11:06:30.076Z"
   },
   {
    "duration": 22,
    "start_time": "2021-11-21T11:06:33.688Z"
   },
   {
    "duration": 23,
    "start_time": "2021-11-21T11:06:33.712Z"
   },
   {
    "duration": 41,
    "start_time": "2021-11-21T11:06:33.737Z"
   },
   {
    "duration": 44,
    "start_time": "2021-11-21T11:06:33.780Z"
   },
   {
    "duration": 25,
    "start_time": "2021-11-21T11:06:33.826Z"
   },
   {
    "duration": 27,
    "start_time": "2021-11-21T11:06:33.852Z"
   },
   {
    "duration": 8,
    "start_time": "2021-11-21T11:06:33.881Z"
   },
   {
    "duration": 26,
    "start_time": "2021-11-21T11:06:33.891Z"
   },
   {
    "duration": 9,
    "start_time": "2021-11-21T11:06:33.919Z"
   },
   {
    "duration": 38,
    "start_time": "2021-11-21T11:06:33.930Z"
   },
   {
    "duration": 331,
    "start_time": "2021-11-21T11:07:43.303Z"
   },
   {
    "duration": 21,
    "start_time": "2021-11-21T11:07:47.279Z"
   },
   {
    "duration": 255,
    "start_time": "2021-11-21T11:07:53.056Z"
   },
   {
    "duration": 20,
    "start_time": "2021-11-21T11:07:55.839Z"
   },
   {
    "duration": 7379,
    "start_time": "2021-11-21T11:34:30.807Z"
   },
   {
    "duration": 6194,
    "start_time": "2021-11-21T11:34:44.758Z"
   },
   {
    "duration": 16,
    "start_time": "2021-11-21T11:36:04.991Z"
   },
   {
    "duration": 19,
    "start_time": "2021-11-21T11:36:14.085Z"
   },
   {
    "duration": 605,
    "start_time": "2021-11-21T11:45:59.983Z"
   },
   {
    "duration": 54,
    "start_time": "2021-11-21T11:46:00.590Z"
   },
   {
    "duration": 12,
    "start_time": "2021-11-21T11:46:00.646Z"
   },
   {
    "duration": 4,
    "start_time": "2021-11-21T11:46:00.660Z"
   },
   {
    "duration": 14,
    "start_time": "2021-11-21T11:46:00.665Z"
   },
   {
    "duration": 12,
    "start_time": "2021-11-21T11:46:00.680Z"
   },
   {
    "duration": 13,
    "start_time": "2021-11-21T11:46:00.693Z"
   },
   {
    "duration": 10,
    "start_time": "2021-11-21T11:46:00.708Z"
   },
   {
    "duration": 64,
    "start_time": "2021-11-21T11:46:00.721Z"
   },
   {
    "duration": 32,
    "start_time": "2021-11-21T11:46:00.787Z"
   },
   {
    "duration": 7,
    "start_time": "2021-11-21T11:46:00.821Z"
   },
   {
    "duration": 14,
    "start_time": "2021-11-21T11:46:00.830Z"
   },
   {
    "duration": 26,
    "start_time": "2021-11-21T11:46:00.846Z"
   },
   {
    "duration": 14,
    "start_time": "2021-11-21T11:46:00.875Z"
   },
   {
    "duration": 11,
    "start_time": "2021-11-21T11:46:00.892Z"
   },
   {
    "duration": 11,
    "start_time": "2021-11-21T11:46:00.904Z"
   },
   {
    "duration": 9,
    "start_time": "2021-11-21T11:46:00.917Z"
   },
   {
    "duration": 12,
    "start_time": "2021-11-21T11:46:00.928Z"
   },
   {
    "duration": 27,
    "start_time": "2021-11-21T11:46:00.942Z"
   },
   {
    "duration": 36,
    "start_time": "2021-11-21T11:46:00.971Z"
   },
   {
    "duration": 23,
    "start_time": "2021-11-21T11:46:01.009Z"
   },
   {
    "duration": 8,
    "start_time": "2021-11-21T11:46:01.034Z"
   },
   {
    "duration": 39,
    "start_time": "2021-11-21T11:46:01.044Z"
   },
   {
    "duration": 16,
    "start_time": "2021-11-21T11:46:01.084Z"
   },
   {
    "duration": 24,
    "start_time": "2021-11-21T11:46:01.101Z"
   },
   {
    "duration": 27,
    "start_time": "2021-11-21T11:46:01.127Z"
   },
   {
    "duration": 3807,
    "start_time": "2021-11-21T11:46:01.157Z"
   },
   {
    "duration": 22,
    "start_time": "2021-11-21T11:46:04.966Z"
   },
   {
    "duration": 18,
    "start_time": "2021-11-21T11:46:04.990Z"
   },
   {
    "duration": 24,
    "start_time": "2021-11-21T11:46:05.010Z"
   },
   {
    "duration": 29,
    "start_time": "2021-11-21T11:46:05.035Z"
   },
   {
    "duration": 36,
    "start_time": "2021-11-21T11:46:05.066Z"
   },
   {
    "duration": 124,
    "start_time": "2021-11-21T11:46:05.104Z"
   },
   {
    "duration": 7,
    "start_time": "2021-11-21T11:46:05.230Z"
   },
   {
    "duration": 23,
    "start_time": "2021-11-21T11:46:05.239Z"
   },
   {
    "duration": 9,
    "start_time": "2021-11-21T11:46:05.264Z"
   },
   {
    "duration": 36,
    "start_time": "2021-11-21T11:46:05.275Z"
   },
   {
    "duration": 17,
    "start_time": "2021-11-21T11:46:05.313Z"
   },
   {
    "duration": 603,
    "start_time": "2021-11-21T12:10:13.696Z"
   },
   {
    "duration": 53,
    "start_time": "2021-11-21T12:10:14.301Z"
   },
   {
    "duration": 15,
    "start_time": "2021-11-21T12:10:14.356Z"
   },
   {
    "duration": 14,
    "start_time": "2021-11-21T12:10:14.374Z"
   },
   {
    "duration": 14,
    "start_time": "2021-11-21T12:10:14.390Z"
   },
   {
    "duration": 11,
    "start_time": "2021-11-21T12:10:14.406Z"
   },
   {
    "duration": 14,
    "start_time": "2021-11-21T12:10:14.419Z"
   },
   {
    "duration": 35,
    "start_time": "2021-11-21T12:10:14.435Z"
   },
   {
    "duration": 9,
    "start_time": "2021-11-21T12:10:14.473Z"
   },
   {
    "duration": 16,
    "start_time": "2021-11-21T12:10:14.484Z"
   },
   {
    "duration": 6,
    "start_time": "2021-11-21T12:10:14.502Z"
   },
   {
    "duration": 7,
    "start_time": "2021-11-21T12:10:14.510Z"
   },
   {
    "duration": 56,
    "start_time": "2021-11-21T12:10:14.518Z"
   },
   {
    "duration": 11,
    "start_time": "2021-11-21T12:10:14.576Z"
   },
   {
    "duration": 8,
    "start_time": "2021-11-21T12:10:14.589Z"
   },
   {
    "duration": 11,
    "start_time": "2021-11-21T12:10:14.599Z"
   },
   {
    "duration": 6,
    "start_time": "2021-11-21T12:10:14.611Z"
   },
   {
    "duration": 13,
    "start_time": "2021-11-21T12:10:14.619Z"
   },
   {
    "duration": 32,
    "start_time": "2021-11-21T12:10:14.633Z"
   },
   {
    "duration": 33,
    "start_time": "2021-11-21T12:10:14.668Z"
   },
   {
    "duration": 18,
    "start_time": "2021-11-21T12:10:14.703Z"
   },
   {
    "duration": 6,
    "start_time": "2021-11-21T12:10:14.723Z"
   },
   {
    "duration": 53,
    "start_time": "2021-11-21T12:10:14.733Z"
   },
   {
    "duration": 15,
    "start_time": "2021-11-21T12:10:14.789Z"
   },
   {
    "duration": 6,
    "start_time": "2021-11-21T12:10:14.806Z"
   },
   {
    "duration": 10,
    "start_time": "2021-11-21T12:10:14.814Z"
   },
   {
    "duration": 3769,
    "start_time": "2021-11-21T12:10:14.826Z"
   },
   {
    "duration": 25,
    "start_time": "2021-11-21T12:10:18.597Z"
   },
   {
    "duration": 34,
    "start_time": "2021-11-21T12:10:18.624Z"
   },
   {
    "duration": 25,
    "start_time": "2021-11-21T12:10:18.660Z"
   },
   {
    "duration": 7,
    "start_time": "2021-11-21T12:10:18.687Z"
   },
   {
    "duration": 31,
    "start_time": "2021-11-21T12:10:18.696Z"
   },
   {
    "duration": 59,
    "start_time": "2021-11-21T12:10:18.729Z"
   },
   {
    "duration": 9,
    "start_time": "2021-11-21T12:10:18.790Z"
   },
   {
    "duration": 32,
    "start_time": "2021-11-21T12:10:18.801Z"
   },
   {
    "duration": 19,
    "start_time": "2021-11-21T12:10:18.835Z"
   },
   {
    "duration": 33,
    "start_time": "2021-11-21T12:10:18.856Z"
   },
   {
    "duration": 22,
    "start_time": "2021-11-21T12:10:18.892Z"
   },
   {
    "duration": 568,
    "start_time": "2021-11-21T14:28:09.761Z"
   },
   {
    "duration": 6,
    "start_time": "2021-11-21T14:29:13.453Z"
   },
   {
    "duration": 5,
    "start_time": "2021-11-21T14:29:27.975Z"
   },
   {
    "duration": 5,
    "start_time": "2021-11-21T14:30:55.529Z"
   },
   {
    "duration": 331,
    "start_time": "2021-11-21T14:42:11.838Z"
   },
   {
    "duration": 2,
    "start_time": "2021-11-21T14:42:16.849Z"
   },
   {
    "duration": 61,
    "start_time": "2021-11-21T14:42:16.853Z"
   },
   {
    "duration": 16,
    "start_time": "2021-11-21T14:42:16.918Z"
   },
   {
    "duration": 4,
    "start_time": "2021-11-21T14:42:16.936Z"
   },
   {
    "duration": 15,
    "start_time": "2021-11-21T14:42:16.941Z"
   },
   {
    "duration": 15,
    "start_time": "2021-11-21T14:42:16.958Z"
   },
   {
    "duration": 41,
    "start_time": "2021-11-21T14:42:16.975Z"
   },
   {
    "duration": 12,
    "start_time": "2021-11-21T14:42:17.018Z"
   },
   {
    "duration": 6,
    "start_time": "2021-11-21T14:42:17.033Z"
   },
   {
    "duration": 8,
    "start_time": "2021-11-21T14:42:17.041Z"
   },
   {
    "duration": 19,
    "start_time": "2021-11-21T14:42:17.051Z"
   },
   {
    "duration": 38,
    "start_time": "2021-11-21T14:42:17.072Z"
   },
   {
    "duration": 11,
    "start_time": "2021-11-21T14:42:17.113Z"
   },
   {
    "duration": 20,
    "start_time": "2021-11-21T14:42:17.126Z"
   },
   {
    "duration": 19,
    "start_time": "2021-11-21T14:42:17.147Z"
   },
   {
    "duration": 15,
    "start_time": "2021-11-21T14:42:17.168Z"
   },
   {
    "duration": 26,
    "start_time": "2021-11-21T14:42:17.185Z"
   },
   {
    "duration": 14,
    "start_time": "2021-11-21T14:42:17.214Z"
   },
   {
    "duration": 19,
    "start_time": "2021-11-21T14:42:17.230Z"
   },
   {
    "duration": 23,
    "start_time": "2021-11-21T14:42:17.250Z"
   },
   {
    "duration": 55,
    "start_time": "2021-11-21T14:42:17.276Z"
   },
   {
    "duration": 19,
    "start_time": "2021-11-21T14:42:17.333Z"
   },
   {
    "duration": 7,
    "start_time": "2021-11-21T14:42:17.354Z"
   },
   {
    "duration": 18,
    "start_time": "2021-11-21T14:42:17.363Z"
   },
   {
    "duration": 42,
    "start_time": "2021-11-21T14:42:17.382Z"
   },
   {
    "duration": 8,
    "start_time": "2021-11-21T14:42:17.426Z"
   },
   {
    "duration": 11,
    "start_time": "2021-11-21T14:42:17.438Z"
   },
   {
    "duration": 3813,
    "start_time": "2021-11-21T14:42:17.451Z"
   },
   {
    "duration": 24,
    "start_time": "2021-11-21T14:42:21.266Z"
   },
   {
    "duration": 39,
    "start_time": "2021-11-21T14:42:21.292Z"
   },
   {
    "duration": 27,
    "start_time": "2021-11-21T14:42:21.333Z"
   },
   {
    "duration": 16,
    "start_time": "2021-11-21T14:42:21.361Z"
   },
   {
    "duration": 37,
    "start_time": "2021-11-21T14:42:21.379Z"
   },
   {
    "duration": 33,
    "start_time": "2021-11-21T14:42:21.419Z"
   },
   {
    "duration": 21,
    "start_time": "2021-11-21T14:42:21.454Z"
   },
   {
    "duration": 8,
    "start_time": "2021-11-21T14:42:21.478Z"
   },
   {
    "duration": 35,
    "start_time": "2021-11-21T14:42:21.488Z"
   },
   {
    "duration": 11,
    "start_time": "2021-11-21T14:42:21.525Z"
   },
   {
    "duration": 20,
    "start_time": "2021-11-21T14:42:21.538Z"
   },
   {
    "duration": 15,
    "start_time": "2021-11-21T14:42:21.560Z"
   },
   {
    "duration": 16,
    "start_time": "2021-11-21T14:46:03.786Z"
   },
   {
    "duration": 528,
    "start_time": "2021-11-28T08:49:25.755Z"
   },
   {
    "duration": 51,
    "start_time": "2021-11-28T08:49:26.285Z"
   },
   {
    "duration": 11,
    "start_time": "2021-11-28T08:49:26.338Z"
   },
   {
    "duration": 5,
    "start_time": "2021-11-28T08:49:26.351Z"
   },
   {
    "duration": 18,
    "start_time": "2021-11-28T08:49:26.357Z"
   },
   {
    "duration": 22,
    "start_time": "2021-11-28T08:49:26.377Z"
   },
   {
    "duration": 14,
    "start_time": "2021-11-28T08:49:26.401Z"
   },
   {
    "duration": 11,
    "start_time": "2021-11-28T08:49:26.417Z"
   },
   {
    "duration": 5,
    "start_time": "2021-11-28T08:49:26.430Z"
   },
   {
    "duration": 5,
    "start_time": "2021-11-28T08:49:26.437Z"
   },
   {
    "duration": 48,
    "start_time": "2021-11-28T08:49:26.444Z"
   },
   {
    "duration": 6,
    "start_time": "2021-11-28T08:49:26.494Z"
   },
   {
    "duration": 7,
    "start_time": "2021-11-28T08:49:26.502Z"
   },
   {
    "duration": 16,
    "start_time": "2021-11-28T08:49:26.511Z"
   },
   {
    "duration": 6,
    "start_time": "2021-11-28T08:49:26.529Z"
   },
   {
    "duration": 8,
    "start_time": "2021-11-28T08:49:26.537Z"
   },
   {
    "duration": 48,
    "start_time": "2021-11-28T08:49:26.547Z"
   },
   {
    "duration": 6,
    "start_time": "2021-11-28T08:49:26.597Z"
   },
   {
    "duration": 13,
    "start_time": "2021-11-28T08:49:26.605Z"
   },
   {
    "duration": 12,
    "start_time": "2021-11-28T08:49:26.619Z"
   },
   {
    "duration": 64,
    "start_time": "2021-11-28T08:49:26.633Z"
   },
   {
    "duration": 23,
    "start_time": "2021-11-28T08:49:26.699Z"
   },
   {
    "duration": 7,
    "start_time": "2021-11-28T08:49:26.726Z"
   },
   {
    "duration": 15,
    "start_time": "2021-11-28T08:49:26.735Z"
   },
   {
    "duration": 45,
    "start_time": "2021-11-28T08:49:26.751Z"
   },
   {
    "duration": 6,
    "start_time": "2021-11-28T08:49:26.798Z"
   },
   {
    "duration": 10,
    "start_time": "2021-11-28T08:49:26.805Z"
   },
   {
    "duration": 3505,
    "start_time": "2021-11-28T08:49:26.817Z"
   },
   {
    "duration": 22,
    "start_time": "2021-11-28T08:49:30.324Z"
   },
   {
    "duration": 32,
    "start_time": "2021-11-28T08:49:30.347Z"
   },
   {
    "duration": 27,
    "start_time": "2021-11-28T08:49:30.380Z"
   },
   {
    "duration": 18,
    "start_time": "2021-11-28T08:49:30.409Z"
   },
   {
    "duration": 39,
    "start_time": "2021-11-28T08:49:30.428Z"
   },
   {
    "duration": 19,
    "start_time": "2021-11-28T08:49:30.469Z"
   },
   {
    "duration": 15,
    "start_time": "2021-11-28T08:49:30.489Z"
   },
   {
    "duration": 11,
    "start_time": "2021-11-28T08:49:30.506Z"
   },
   {
    "duration": 23,
    "start_time": "2021-11-28T08:49:30.519Z"
   },
   {
    "duration": 28,
    "start_time": "2021-11-28T08:49:30.544Z"
   },
   {
    "duration": 23,
    "start_time": "2021-11-28T08:49:30.574Z"
   },
   {
    "duration": 14,
    "start_time": "2021-11-28T08:49:30.599Z"
   },
   {
    "duration": 230,
    "start_time": "2021-11-28T10:01:12.349Z"
   },
   {
    "duration": 179,
    "start_time": "2021-11-28T10:01:25.784Z"
   },
   {
    "duration": 180,
    "start_time": "2021-11-28T10:01:46.120Z"
   },
   {
    "duration": 611,
    "start_time": "2021-11-28T10:02:00.969Z"
   },
   {
    "duration": 55,
    "start_time": "2021-11-28T10:02:01.582Z"
   },
   {
    "duration": 11,
    "start_time": "2021-11-28T10:02:01.639Z"
   },
   {
    "duration": 27,
    "start_time": "2021-11-28T10:02:01.652Z"
   },
   {
    "duration": 32,
    "start_time": "2021-11-28T10:02:01.681Z"
   },
   {
    "duration": 275,
    "start_time": "2021-11-28T10:02:01.716Z"
   },
   {
    "duration": 0,
    "start_time": "2021-11-28T10:02:01.994Z"
   },
   {
    "duration": -1,
    "start_time": "2021-11-28T10:02:01.996Z"
   },
   {
    "duration": -10,
    "start_time": "2021-11-28T10:02:02.006Z"
   },
   {
    "duration": -10,
    "start_time": "2021-11-28T10:02:02.007Z"
   },
   {
    "duration": -12,
    "start_time": "2021-11-28T10:02:02.010Z"
   },
   {
    "duration": -13,
    "start_time": "2021-11-28T10:02:02.012Z"
   },
   {
    "duration": -13,
    "start_time": "2021-11-28T10:02:02.014Z"
   },
   {
    "duration": -13,
    "start_time": "2021-11-28T10:02:02.015Z"
   },
   {
    "duration": -14,
    "start_time": "2021-11-28T10:02:02.017Z"
   },
   {
    "duration": -15,
    "start_time": "2021-11-28T10:02:02.019Z"
   },
   {
    "duration": -16,
    "start_time": "2021-11-28T10:02:02.020Z"
   },
   {
    "duration": -20,
    "start_time": "2021-11-28T10:02:02.025Z"
   },
   {
    "duration": -21,
    "start_time": "2021-11-28T10:02:02.027Z"
   },
   {
    "duration": -22,
    "start_time": "2021-11-28T10:02:02.029Z"
   },
   {
    "duration": -22,
    "start_time": "2021-11-28T10:02:02.030Z"
   },
   {
    "duration": -23,
    "start_time": "2021-11-28T10:02:02.032Z"
   },
   {
    "duration": -24,
    "start_time": "2021-11-28T10:02:02.033Z"
   },
   {
    "duration": -25,
    "start_time": "2021-11-28T10:02:02.035Z"
   },
   {
    "duration": -26,
    "start_time": "2021-11-28T10:02:02.037Z"
   },
   {
    "duration": -26,
    "start_time": "2021-11-28T10:02:02.038Z"
   },
   {
    "duration": -27,
    "start_time": "2021-11-28T10:02:02.040Z"
   },
   {
    "duration": -27,
    "start_time": "2021-11-28T10:02:02.041Z"
   },
   {
    "duration": -29,
    "start_time": "2021-11-28T10:02:02.043Z"
   },
   {
    "duration": -33,
    "start_time": "2021-11-28T10:02:02.048Z"
   },
   {
    "duration": -34,
    "start_time": "2021-11-28T10:02:02.050Z"
   },
   {
    "duration": -35,
    "start_time": "2021-11-28T10:02:02.052Z"
   },
   {
    "duration": -35,
    "start_time": "2021-11-28T10:02:02.053Z"
   },
   {
    "duration": -35,
    "start_time": "2021-11-28T10:02:02.054Z"
   },
   {
    "duration": -36,
    "start_time": "2021-11-28T10:02:02.056Z"
   },
   {
    "duration": -36,
    "start_time": "2021-11-28T10:02:02.057Z"
   },
   {
    "duration": -38,
    "start_time": "2021-11-28T10:02:02.059Z"
   },
   {
    "duration": -39,
    "start_time": "2021-11-28T10:02:02.061Z"
   },
   {
    "duration": -39,
    "start_time": "2021-11-28T10:02:02.062Z"
   },
   {
    "duration": -57,
    "start_time": "2021-11-28T10:02:02.081Z"
   },
   {
    "duration": -58,
    "start_time": "2021-11-28T10:02:02.083Z"
   },
   {
    "duration": 60,
    "start_time": "2021-11-28T10:08:50.009Z"
   },
   {
    "duration": 507,
    "start_time": "2021-11-28T10:09:13.047Z"
   },
   {
    "duration": 52,
    "start_time": "2021-11-28T10:09:13.556Z"
   },
   {
    "duration": 11,
    "start_time": "2021-11-28T10:09:13.612Z"
   },
   {
    "duration": 3,
    "start_time": "2021-11-28T10:09:13.625Z"
   },
   {
    "duration": 12,
    "start_time": "2021-11-28T10:09:13.629Z"
   },
   {
    "duration": 53,
    "start_time": "2021-11-28T10:09:13.643Z"
   },
   {
    "duration": -1,
    "start_time": "2021-11-28T10:09:13.700Z"
   },
   {
    "duration": -2,
    "start_time": "2021-11-28T10:09:13.702Z"
   },
   {
    "duration": -2,
    "start_time": "2021-11-28T10:09:13.703Z"
   },
   {
    "duration": -3,
    "start_time": "2021-11-28T10:09:13.705Z"
   },
   {
    "duration": -13,
    "start_time": "2021-11-28T10:09:13.716Z"
   },
   {
    "duration": -14,
    "start_time": "2021-11-28T10:09:13.718Z"
   },
   {
    "duration": -14,
    "start_time": "2021-11-28T10:09:13.719Z"
   },
   {
    "duration": -15,
    "start_time": "2021-11-28T10:09:13.721Z"
   },
   {
    "duration": -15,
    "start_time": "2021-11-28T10:09:13.722Z"
   },
   {
    "duration": -17,
    "start_time": "2021-11-28T10:09:13.725Z"
   },
   {
    "duration": -18,
    "start_time": "2021-11-28T10:09:13.727Z"
   },
   {
    "duration": -18,
    "start_time": "2021-11-28T10:09:13.728Z"
   },
   {
    "duration": -29,
    "start_time": "2021-11-28T10:09:13.740Z"
   },
   {
    "duration": -30,
    "start_time": "2021-11-28T10:09:13.742Z"
   },
   {
    "duration": -30,
    "start_time": "2021-11-28T10:09:13.743Z"
   },
   {
    "duration": -31,
    "start_time": "2021-11-28T10:09:13.745Z"
   },
   {
    "duration": -32,
    "start_time": "2021-11-28T10:09:13.747Z"
   },
   {
    "duration": -32,
    "start_time": "2021-11-28T10:09:13.748Z"
   },
   {
    "duration": -33,
    "start_time": "2021-11-28T10:09:13.750Z"
   },
   {
    "duration": -33,
    "start_time": "2021-11-28T10:09:13.751Z"
   },
   {
    "duration": -34,
    "start_time": "2021-11-28T10:09:13.753Z"
   },
   {
    "duration": -38,
    "start_time": "2021-11-28T10:09:13.758Z"
   },
   {
    "duration": -40,
    "start_time": "2021-11-28T10:09:13.760Z"
   },
   {
    "duration": -40,
    "start_time": "2021-11-28T10:09:13.761Z"
   },
   {
    "duration": -54,
    "start_time": "2021-11-28T10:09:13.777Z"
   },
   {
    "duration": -54,
    "start_time": "2021-11-28T10:09:13.778Z"
   },
   {
    "duration": -55,
    "start_time": "2021-11-28T10:09:13.780Z"
   },
   {
    "duration": -56,
    "start_time": "2021-11-28T10:09:13.782Z"
   },
   {
    "duration": -56,
    "start_time": "2021-11-28T10:09:13.783Z"
   },
   {
    "duration": -58,
    "start_time": "2021-11-28T10:09:13.785Z"
   },
   {
    "duration": -58,
    "start_time": "2021-11-28T10:09:13.786Z"
   },
   {
    "duration": -59,
    "start_time": "2021-11-28T10:09:13.789Z"
   },
   {
    "duration": -59,
    "start_time": "2021-11-28T10:09:13.790Z"
   },
   {
    "duration": -60,
    "start_time": "2021-11-28T10:09:13.792Z"
   },
   {
    "duration": -61,
    "start_time": "2021-11-28T10:09:13.794Z"
   },
   {
    "duration": 61,
    "start_time": "2021-11-28T10:10:24.085Z"
   },
   {
    "duration": 537,
    "start_time": "2021-11-28T10:10:41.725Z"
   },
   {
    "duration": 52,
    "start_time": "2021-11-28T10:10:42.263Z"
   },
   {
    "duration": 10,
    "start_time": "2021-11-28T10:10:42.317Z"
   },
   {
    "duration": 3,
    "start_time": "2021-11-28T10:10:42.329Z"
   },
   {
    "duration": 11,
    "start_time": "2021-11-28T10:10:42.334Z"
   },
   {
    "duration": 10,
    "start_time": "2021-11-28T10:10:42.347Z"
   },
   {
    "duration": 34,
    "start_time": "2021-11-28T10:10:42.359Z"
   },
   {
    "duration": 12,
    "start_time": "2021-11-28T10:10:42.395Z"
   },
   {
    "duration": 5,
    "start_time": "2021-11-28T10:10:42.410Z"
   },
   {
    "duration": 8,
    "start_time": "2021-11-28T10:10:42.417Z"
   },
   {
    "duration": 15,
    "start_time": "2021-11-28T10:10:42.427Z"
   },
   {
    "duration": 6,
    "start_time": "2021-11-28T10:10:42.444Z"
   },
   {
    "duration": 41,
    "start_time": "2021-11-28T10:10:42.452Z"
   },
   {
    "duration": 19,
    "start_time": "2021-11-28T10:10:42.495Z"
   },
   {
    "duration": 6,
    "start_time": "2021-11-28T10:10:42.517Z"
   },
   {
    "duration": 10,
    "start_time": "2021-11-28T10:10:42.525Z"
   },
   {
    "duration": 12,
    "start_time": "2021-11-28T10:10:42.536Z"
   },
   {
    "duration": 6,
    "start_time": "2021-11-28T10:10:42.550Z"
   },
   {
    "duration": 7,
    "start_time": "2021-11-28T10:10:42.592Z"
   },
   {
    "duration": 10,
    "start_time": "2021-11-28T10:10:42.601Z"
   },
   {
    "duration": 27,
    "start_time": "2021-11-28T10:10:42.613Z"
   },
   {
    "duration": 18,
    "start_time": "2021-11-28T10:10:42.642Z"
   },
   {
    "duration": 36,
    "start_time": "2021-11-28T10:10:42.662Z"
   },
   {
    "duration": 20,
    "start_time": "2021-11-28T10:10:42.700Z"
   },
   {
    "duration": 15,
    "start_time": "2021-11-28T10:10:42.722Z"
   },
   {
    "duration": 5,
    "start_time": "2021-11-28T10:10:42.739Z"
   },
   {
    "duration": 46,
    "start_time": "2021-11-28T10:10:42.748Z"
   },
   {
    "duration": 3506,
    "start_time": "2021-11-28T10:10:42.796Z"
   },
   {
    "duration": 22,
    "start_time": "2021-11-28T10:10:46.304Z"
   },
   {
    "duration": 19,
    "start_time": "2021-11-28T10:10:46.328Z"
   },
   {
    "duration": 17,
    "start_time": "2021-11-28T10:10:46.349Z"
   },
   {
    "duration": 30,
    "start_time": "2021-11-28T10:10:46.367Z"
   },
   {
    "duration": 27,
    "start_time": "2021-11-28T10:10:46.398Z"
   },
   {
    "duration": 22,
    "start_time": "2021-11-28T10:10:46.426Z"
   },
   {
    "duration": 46,
    "start_time": "2021-11-28T10:10:46.450Z"
   },
   {
    "duration": 7,
    "start_time": "2021-11-28T10:10:46.498Z"
   },
   {
    "duration": 18,
    "start_time": "2021-11-28T10:10:46.507Z"
   },
   {
    "duration": 10,
    "start_time": "2021-11-28T10:10:46.526Z"
   },
   {
    "duration": 19,
    "start_time": "2021-11-28T10:10:46.538Z"
   },
   {
    "duration": 16,
    "start_time": "2021-11-28T10:10:46.592Z"
   },
   {
    "duration": 60,
    "start_time": "2021-11-28T10:11:02.238Z"
   },
   {
    "duration": 58,
    "start_time": "2021-11-28T10:11:13.390Z"
   },
   {
    "duration": 61,
    "start_time": "2021-11-28T10:12:22.551Z"
   },
   {
    "duration": 63,
    "start_time": "2021-11-28T10:13:28.646Z"
   },
   {
    "duration": 64,
    "start_time": "2021-11-28T10:14:08.311Z"
   },
   {
    "duration": 513,
    "start_time": "2021-11-28T10:15:01.775Z"
   },
   {
    "duration": 2,
    "start_time": "2021-11-28T10:18:43.167Z"
   },
   {
    "duration": 6,
    "start_time": "2021-11-28T11:02:20.718Z"
   },
   {
    "duration": 18,
    "start_time": "2021-11-28T11:02:45.070Z"
   },
   {
    "duration": 597,
    "start_time": "2021-11-28T11:02:54.570Z"
   },
   {
    "duration": 51,
    "start_time": "2021-11-28T11:02:55.168Z"
   },
   {
    "duration": 11,
    "start_time": "2021-11-28T11:02:55.221Z"
   },
   {
    "duration": 3,
    "start_time": "2021-11-28T11:02:55.233Z"
   },
   {
    "duration": 16,
    "start_time": "2021-11-28T11:02:55.238Z"
   },
   {
    "duration": 2,
    "start_time": "2021-11-28T11:02:55.256Z"
   },
   {
    "duration": 6,
    "start_time": "2021-11-28T11:02:55.259Z"
   },
   {
    "duration": 24,
    "start_time": "2021-11-28T11:02:55.267Z"
   },
   {
    "duration": 15,
    "start_time": "2021-11-28T11:02:55.294Z"
   },
   {
    "duration": 12,
    "start_time": "2021-11-28T11:02:55.311Z"
   },
   {
    "duration": 5,
    "start_time": "2021-11-28T11:02:55.325Z"
   },
   {
    "duration": 269,
    "start_time": "2021-11-28T11:02:55.331Z"
   },
   {
    "duration": 11,
    "start_time": "2021-11-28T11:02:55.593Z"
   },
   {
    "duration": 11,
    "start_time": "2021-11-28T11:02:55.594Z"
   },
   {
    "duration": 9,
    "start_time": "2021-11-28T11:02:55.596Z"
   },
   {
    "duration": 8,
    "start_time": "2021-11-28T11:02:55.599Z"
   },
   {
    "duration": 4,
    "start_time": "2021-11-28T11:02:55.604Z"
   },
   {
    "duration": 3,
    "start_time": "2021-11-28T11:02:55.606Z"
   },
   {
    "duration": 2,
    "start_time": "2021-11-28T11:02:55.608Z"
   },
   {
    "duration": 1,
    "start_time": "2021-11-28T11:02:55.609Z"
   },
   {
    "duration": 1,
    "start_time": "2021-11-28T11:02:55.611Z"
   },
   {
    "duration": 1,
    "start_time": "2021-11-28T11:02:55.612Z"
   },
   {
    "duration": 0,
    "start_time": "2021-11-28T11:02:55.614Z"
   },
   {
    "duration": 0,
    "start_time": "2021-11-28T11:02:55.615Z"
   },
   {
    "duration": -1,
    "start_time": "2021-11-28T11:02:55.617Z"
   },
   {
    "duration": -1,
    "start_time": "2021-11-28T11:02:55.618Z"
   },
   {
    "duration": -2,
    "start_time": "2021-11-28T11:02:55.620Z"
   },
   {
    "duration": -3,
    "start_time": "2021-11-28T11:02:55.622Z"
   },
   {
    "duration": -3,
    "start_time": "2021-11-28T11:02:55.623Z"
   },
   {
    "duration": -4,
    "start_time": "2021-11-28T11:02:55.625Z"
   },
   {
    "duration": -4,
    "start_time": "2021-11-28T11:02:55.626Z"
   },
   {
    "duration": -5,
    "start_time": "2021-11-28T11:02:55.628Z"
   },
   {
    "duration": -9,
    "start_time": "2021-11-28T11:02:55.633Z"
   },
   {
    "duration": -11,
    "start_time": "2021-11-28T11:02:55.636Z"
   },
   {
    "duration": -11,
    "start_time": "2021-11-28T11:02:55.637Z"
   },
   {
    "duration": -12,
    "start_time": "2021-11-28T11:02:55.639Z"
   },
   {
    "duration": -12,
    "start_time": "2021-11-28T11:02:55.640Z"
   },
   {
    "duration": -13,
    "start_time": "2021-11-28T11:02:55.642Z"
   },
   {
    "duration": -13,
    "start_time": "2021-11-28T11:02:55.643Z"
   },
   {
    "duration": -13,
    "start_time": "2021-11-28T11:02:55.644Z"
   },
   {
    "duration": -14,
    "start_time": "2021-11-28T11:02:55.646Z"
   },
   {
    "duration": -14,
    "start_time": "2021-11-28T11:02:55.647Z"
   },
   {
    "duration": 12,
    "start_time": "2021-11-28T11:04:25.769Z"
   },
   {
    "duration": 352,
    "start_time": "2021-11-28T11:04:35.809Z"
   },
   {
    "duration": 3,
    "start_time": "2021-11-28T11:04:56.313Z"
   },
   {
    "duration": 350,
    "start_time": "2021-11-28T11:04:57.873Z"
   },
   {
    "duration": 3,
    "start_time": "2021-11-28T11:09:21.459Z"
   },
   {
    "duration": 40,
    "start_time": "2021-11-28T11:09:23.099Z"
   },
   {
    "duration": 11,
    "start_time": "2021-11-28T11:09:26.378Z"
   },
   {
    "duration": 14,
    "start_time": "2021-11-28T11:16:16.131Z"
   },
   {
    "duration": 13,
    "start_time": "2021-11-28T11:16:38.842Z"
   },
   {
    "duration": 14,
    "start_time": "2021-11-28T11:17:00.372Z"
   },
   {
    "duration": 559,
    "start_time": "2021-11-28T11:19:32.188Z"
   },
   {
    "duration": 51,
    "start_time": "2021-11-28T11:19:32.749Z"
   },
   {
    "duration": 11,
    "start_time": "2021-11-28T11:19:32.802Z"
   },
   {
    "duration": 5,
    "start_time": "2021-11-28T11:19:32.815Z"
   },
   {
    "duration": 11,
    "start_time": "2021-11-28T11:19:32.821Z"
   },
   {
    "duration": 4,
    "start_time": "2021-11-28T11:19:32.833Z"
   },
   {
    "duration": 17,
    "start_time": "2021-11-28T11:19:32.838Z"
   },
   {
    "duration": 4,
    "start_time": "2021-11-28T11:19:32.857Z"
   },
   {
    "duration": 67,
    "start_time": "2021-11-28T11:19:32.862Z"
   },
   {
    "duration": 9,
    "start_time": "2021-11-28T11:19:32.931Z"
   },
   {
    "duration": 17,
    "start_time": "2021-11-28T11:19:32.941Z"
   },
   {
    "duration": 35,
    "start_time": "2021-11-28T11:19:32.959Z"
   },
   {
    "duration": 4,
    "start_time": "2021-11-28T11:19:32.996Z"
   },
   {
    "duration": 8,
    "start_time": "2021-11-28T11:19:33.002Z"
   },
   {
    "duration": 14,
    "start_time": "2021-11-28T11:19:33.012Z"
   },
   {
    "duration": 6,
    "start_time": "2021-11-28T11:19:33.028Z"
   },
   {
    "duration": 9,
    "start_time": "2021-11-28T11:19:33.035Z"
   },
   {
    "duration": 63,
    "start_time": "2021-11-28T11:19:33.045Z"
   },
   {
    "duration": 7,
    "start_time": "2021-11-28T11:19:33.109Z"
   },
   {
    "duration": 10,
    "start_time": "2021-11-28T11:19:33.117Z"
   },
   {
    "duration": 9,
    "start_time": "2021-11-28T11:19:33.129Z"
   },
   {
    "duration": 7,
    "start_time": "2021-11-28T11:19:33.140Z"
   },
   {
    "duration": 7,
    "start_time": "2021-11-28T11:19:33.151Z"
   },
   {
    "duration": 7,
    "start_time": "2021-11-28T11:19:33.191Z"
   },
   {
    "duration": 28,
    "start_time": "2021-11-28T11:19:33.199Z"
   },
   {
    "duration": 18,
    "start_time": "2021-11-28T11:19:33.229Z"
   },
   {
    "duration": 5,
    "start_time": "2021-11-28T11:19:33.249Z"
   },
   {
    "duration": 38,
    "start_time": "2021-11-28T11:19:33.256Z"
   },
   {
    "duration": 16,
    "start_time": "2021-11-28T11:19:33.295Z"
   },
   {
    "duration": 6,
    "start_time": "2021-11-28T11:19:33.312Z"
   },
   {
    "duration": 11,
    "start_time": "2021-11-28T11:19:33.319Z"
   },
   {
    "duration": 3514,
    "start_time": "2021-11-28T11:19:33.332Z"
   },
   {
    "duration": 26,
    "start_time": "2021-11-28T11:19:36.848Z"
   },
   {
    "duration": 35,
    "start_time": "2021-11-28T11:19:36.876Z"
   },
   {
    "duration": 17,
    "start_time": "2021-11-28T11:19:36.913Z"
   },
   {
    "duration": 12,
    "start_time": "2021-11-28T11:19:36.931Z"
   },
   {
    "duration": 26,
    "start_time": "2021-11-28T11:19:36.944Z"
   },
   {
    "duration": 21,
    "start_time": "2021-11-28T11:19:36.991Z"
   },
   {
    "duration": 14,
    "start_time": "2021-11-28T11:19:37.013Z"
   },
   {
    "duration": 8,
    "start_time": "2021-11-28T11:19:37.029Z"
   },
   {
    "duration": 16,
    "start_time": "2021-11-28T11:19:37.039Z"
   },
   {
    "duration": 42,
    "start_time": "2021-11-28T11:19:37.057Z"
   },
   {
    "duration": 21,
    "start_time": "2021-11-28T11:19:37.101Z"
   },
   {
    "duration": 15,
    "start_time": "2021-11-28T11:19:37.124Z"
   },
   {
    "duration": 9,
    "start_time": "2021-11-28T11:27:07.777Z"
   },
   {
    "duration": 63,
    "start_time": "2021-11-28T11:33:07.563Z"
   },
   {
    "duration": 489,
    "start_time": "2021-11-29T08:13:14.018Z"
   },
   {
    "duration": 828,
    "start_time": "2021-11-29T08:13:20.802Z"
   },
   {
    "duration": 71,
    "start_time": "2021-11-29T08:13:21.633Z"
   },
   {
    "duration": 20,
    "start_time": "2021-11-29T08:13:21.707Z"
   },
   {
    "duration": 4,
    "start_time": "2021-11-29T08:13:21.730Z"
   },
   {
    "duration": 24,
    "start_time": "2021-11-29T08:13:21.736Z"
   },
   {
    "duration": 19,
    "start_time": "2021-11-29T08:13:21.763Z"
   },
   {
    "duration": 31,
    "start_time": "2021-11-29T08:13:21.785Z"
   },
   {
    "duration": 7,
    "start_time": "2021-11-29T08:13:21.820Z"
   },
   {
    "duration": 506,
    "start_time": "2021-11-29T08:13:21.831Z"
   },
   {
    "duration": -11629,
    "start_time": "2021-11-29T08:13:33.970Z"
   },
   {
    "duration": -11630,
    "start_time": "2021-11-29T08:13:33.972Z"
   },
   {
    "duration": -11638,
    "start_time": "2021-11-29T08:13:33.981Z"
   },
   {
    "duration": -11639,
    "start_time": "2021-11-29T08:13:33.984Z"
   },
   {
    "duration": -11641,
    "start_time": "2021-11-29T08:13:33.987Z"
   },
   {
    "duration": -11642,
    "start_time": "2021-11-29T08:13:33.990Z"
   },
   {
    "duration": -11645,
    "start_time": "2021-11-29T08:13:33.994Z"
   },
   {
    "duration": -11647,
    "start_time": "2021-11-29T08:13:33.997Z"
   },
   {
    "duration": -11652,
    "start_time": "2021-11-29T08:13:34.004Z"
   },
   {
    "duration": -11654,
    "start_time": "2021-11-29T08:13:34.007Z"
   },
   {
    "duration": -11655,
    "start_time": "2021-11-29T08:13:34.009Z"
   },
   {
    "duration": -11655,
    "start_time": "2021-11-29T08:13:34.011Z"
   },
   {
    "duration": -11656,
    "start_time": "2021-11-29T08:13:34.013Z"
   },
   {
    "duration": -11657,
    "start_time": "2021-11-29T08:13:34.015Z"
   },
   {
    "duration": -11658,
    "start_time": "2021-11-29T08:13:34.018Z"
   },
   {
    "duration": -11658,
    "start_time": "2021-11-29T08:13:34.020Z"
   },
   {
    "duration": -11659,
    "start_time": "2021-11-29T08:13:34.022Z"
   },
   {
    "duration": -11660,
    "start_time": "2021-11-29T08:13:34.024Z"
   },
   {
    "duration": -11660,
    "start_time": "2021-11-29T08:13:34.026Z"
   },
   {
    "duration": -11661,
    "start_time": "2021-11-29T08:13:34.028Z"
   },
   {
    "duration": -11661,
    "start_time": "2021-11-29T08:13:34.030Z"
   },
   {
    "duration": -11666,
    "start_time": "2021-11-29T08:13:34.037Z"
   },
   {
    "duration": -11667,
    "start_time": "2021-11-29T08:13:34.040Z"
   },
   {
    "duration": -11668,
    "start_time": "2021-11-29T08:13:34.043Z"
   },
   {
    "duration": -11668,
    "start_time": "2021-11-29T08:13:34.045Z"
   },
   {
    "duration": -11664,
    "start_time": "2021-11-29T08:13:34.047Z"
   },
   {
    "duration": -11664,
    "start_time": "2021-11-29T08:13:34.049Z"
   },
   {
    "duration": -11664,
    "start_time": "2021-11-29T08:13:34.051Z"
   },
   {
    "duration": -11665,
    "start_time": "2021-11-29T08:13:34.053Z"
   },
   {
    "duration": -11667,
    "start_time": "2021-11-29T08:13:34.056Z"
   },
   {
    "duration": -11668,
    "start_time": "2021-11-29T08:13:34.058Z"
   },
   {
    "duration": -11664,
    "start_time": "2021-11-29T08:13:34.060Z"
   },
   {
    "duration": -11664,
    "start_time": "2021-11-29T08:13:34.062Z"
   },
   {
    "duration": -11664,
    "start_time": "2021-11-29T08:13:34.064Z"
   },
   {
    "duration": -11665,
    "start_time": "2021-11-29T08:13:34.066Z"
   },
   {
    "duration": 37,
    "start_time": "2021-11-29T08:14:22.817Z"
   },
   {
    "duration": 4,
    "start_time": "2021-11-29T08:15:39.930Z"
   },
   {
    "duration": 96,
    "start_time": "2021-11-29T08:15:39.937Z"
   },
   {
    "duration": 44,
    "start_time": "2021-11-29T08:15:40.038Z"
   },
   {
    "duration": 5,
    "start_time": "2021-11-29T08:15:40.091Z"
   },
   {
    "duration": 22,
    "start_time": "2021-11-29T08:15:40.101Z"
   },
   {
    "duration": 4,
    "start_time": "2021-11-29T08:15:40.126Z"
   },
   {
    "duration": 17,
    "start_time": "2021-11-29T08:15:40.133Z"
   },
   {
    "duration": 48,
    "start_time": "2021-11-29T08:15:40.155Z"
   },
   {
    "duration": 31,
    "start_time": "2021-11-29T08:15:40.209Z"
   },
   {
    "duration": 115,
    "start_time": "2021-11-29T08:15:40.243Z"
   },
   {
    "duration": 34,
    "start_time": "2021-11-29T08:15:40.361Z"
   },
   {
    "duration": 27,
    "start_time": "2021-11-29T08:15:40.398Z"
   },
   {
    "duration": 9,
    "start_time": "2021-11-29T08:15:40.428Z"
   },
   {
    "duration": 18,
    "start_time": "2021-11-29T08:15:40.440Z"
   },
   {
    "duration": 40,
    "start_time": "2021-11-29T08:15:40.487Z"
   },
   {
    "duration": 13,
    "start_time": "2021-11-29T08:15:40.529Z"
   },
   {
    "duration": 14,
    "start_time": "2021-11-29T08:15:40.546Z"
   },
   {
    "duration": 39,
    "start_time": "2021-11-29T08:15:40.591Z"
   },
   {
    "duration": 16,
    "start_time": "2021-11-29T08:15:40.633Z"
   },
   {
    "duration": 41,
    "start_time": "2021-11-29T08:15:40.652Z"
   },
   {
    "duration": 18,
    "start_time": "2021-11-29T08:15:40.698Z"
   },
   {
    "duration": 10,
    "start_time": "2021-11-29T08:15:40.719Z"
   },
   {
    "duration": 53,
    "start_time": "2021-11-29T08:15:40.736Z"
   },
   {
    "duration": 21,
    "start_time": "2021-11-29T08:15:40.793Z"
   },
   {
    "duration": 92,
    "start_time": "2021-11-29T08:15:40.817Z"
   },
   {
    "duration": 34,
    "start_time": "2021-11-29T08:15:40.914Z"
   },
   {
    "duration": 11,
    "start_time": "2021-11-29T08:15:40.951Z"
   },
   {
    "duration": 47,
    "start_time": "2021-11-29T08:15:40.965Z"
   },
   {
    "duration": 20,
    "start_time": "2021-11-29T08:15:41.015Z"
   },
   {
    "duration": 8,
    "start_time": "2021-11-29T08:15:41.038Z"
   },
   {
    "duration": 52,
    "start_time": "2021-11-29T08:15:41.050Z"
   },
   {
    "duration": 6638,
    "start_time": "2021-11-29T08:15:41.106Z"
   },
   {
    "duration": 54,
    "start_time": "2021-11-29T08:15:47.747Z"
   },
   {
    "duration": 31,
    "start_time": "2021-11-29T08:15:47.804Z"
   },
   {
    "duration": 72,
    "start_time": "2021-11-29T08:15:47.839Z"
   },
   {
    "duration": 14,
    "start_time": "2021-11-29T08:15:47.914Z"
   },
   {
    "duration": 86,
    "start_time": "2021-11-29T08:15:47.931Z"
   },
   {
    "duration": 37,
    "start_time": "2021-11-29T08:15:48.019Z"
   },
   {
    "duration": 33,
    "start_time": "2021-11-29T08:15:48.083Z"
   },
   {
    "duration": 16,
    "start_time": "2021-11-29T08:15:48.119Z"
   },
   {
    "duration": 70,
    "start_time": "2021-11-29T08:15:48.139Z"
   },
   {
    "duration": 13,
    "start_time": "2021-11-29T08:15:48.212Z"
   },
   {
    "duration": 67,
    "start_time": "2021-11-29T08:15:48.229Z"
   },
   {
    "duration": 41,
    "start_time": "2021-11-29T08:15:48.299Z"
   },
   {
    "duration": 841,
    "start_time": "2022-01-09T09:07:54.788Z"
   },
   {
    "duration": 988,
    "start_time": "2022-01-09T09:08:36.613Z"
   }
  ],
  "kernelspec": {
   "display_name": "Python 3 (ipykernel)",
   "language": "python",
   "name": "python3"
  },
  "language_info": {
   "codemirror_mode": {
    "name": "ipython",
    "version": 3
   },
   "file_extension": ".py",
   "mimetype": "text/x-python",
   "name": "python",
   "nbconvert_exporter": "python",
   "pygments_lexer": "ipython3",
   "version": "3.9.7"
  },
  "toc": {
   "base_numbering": 1,
   "nav_menu": {},
   "number_sections": true,
   "sideBar": true,
   "skip_h1_title": true,
   "title_cell": "Table of Contents",
   "title_sidebar": "Contents",
   "toc_cell": false,
   "toc_position": {
    "height": "calc(100% - 180px)",
    "left": "10px",
    "top": "150px",
    "width": "206.696px"
   },
   "toc_section_display": true,
   "toc_window_display": true
  }
 },
 "nbformat": 4,
 "nbformat_minor": 2
}
