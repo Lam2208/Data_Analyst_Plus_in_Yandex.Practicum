{
 "cells": [
  {
   "cell_type": "markdown",
   "metadata": {},
   "source": [
    "# Исследование рынка заведений общественного питания в Москве"
   ]
  },
  {
   "cell_type": "markdown",
   "metadata": {},
   "source": [
    "**Описание проекта**\n",
    "\n",
    "Мы решили открыть небольшое кафе в Москве. Оно оригинальное — гостей должны будут обслуживать роботы. Проект многообещающий, но дорогостоющий. Вместе с партнёрами мы решились обратиться к инвесторам. Их интересует текущее положение дел на рынке — сможем ли мы снискать популярность в перспективе, когда все зеваки насмотрятся на роботов-официантов?\n",
    "\n",
    "У нас есть открытые данные о заведениях общественного питания в Москве, и партнёры просят нас подготовить исследование рынка."
   ]
  },
  {
   "cell_type": "markdown",
   "metadata": {},
   "source": [
    "## Изучение имеющихся данных"
   ]
  },
  {
   "cell_type": "markdown",
   "metadata": {},
   "source": [
    "Для начала импортируем необходимые нам библиотеки и посмотрим на наш датафрйм"
   ]
  },
  {
   "cell_type": "code",
   "execution_count": 1,
   "metadata": {},
   "outputs": [],
   "source": [
    "import pandas as pd\n",
    "import seaborn as sns\n",
    "import matplotlib.pyplot as plt\n",
    "import requests\n",
    "import numpy as np\n",
    "from io import BytesIO\n",
    "import plotly\n",
    "import plotly.graph_objs as go"
   ]
  },
  {
   "cell_type": "code",
   "execution_count": 2,
   "metadata": {},
   "outputs": [],
   "source": [
    "df = pd.read_csv('/datasets/rest_data.csv')"
   ]
  },
  {
   "cell_type": "code",
   "execution_count": 3,
   "metadata": {},
   "outputs": [
    {
     "name": "stdout",
     "output_type": "stream",
     "text": [
      "<class 'pandas.core.frame.DataFrame'>\n",
      "RangeIndex: 15366 entries, 0 to 15365\n",
      "Data columns (total 6 columns):\n",
      "id             15366 non-null int64\n",
      "object_name    15366 non-null object\n",
      "chain          15366 non-null object\n",
      "object_type    15366 non-null object\n",
      "address        15366 non-null object\n",
      "number         15366 non-null int64\n",
      "dtypes: int64(2), object(4)\n",
      "memory usage: 720.4+ KB\n"
     ]
    }
   ],
   "source": [
    "df.info()"
   ]
  },
  {
   "cell_type": "code",
   "execution_count": 4,
   "metadata": {},
   "outputs": [
    {
     "data": {
      "text/html": [
       "<div>\n",
       "<style scoped>\n",
       "    .dataframe tbody tr th:only-of-type {\n",
       "        vertical-align: middle;\n",
       "    }\n",
       "\n",
       "    .dataframe tbody tr th {\n",
       "        vertical-align: top;\n",
       "    }\n",
       "\n",
       "    .dataframe thead th {\n",
       "        text-align: right;\n",
       "    }\n",
       "</style>\n",
       "<table border=\"1\" class=\"dataframe\">\n",
       "  <thead>\n",
       "    <tr style=\"text-align: right;\">\n",
       "      <th></th>\n",
       "      <th>id</th>\n",
       "      <th>object_name</th>\n",
       "      <th>chain</th>\n",
       "      <th>object_type</th>\n",
       "      <th>address</th>\n",
       "      <th>number</th>\n",
       "    </tr>\n",
       "  </thead>\n",
       "  <tbody>\n",
       "    <tr>\n",
       "      <td>0</td>\n",
       "      <td>151635</td>\n",
       "      <td>СМЕТАНА</td>\n",
       "      <td>нет</td>\n",
       "      <td>кафе</td>\n",
       "      <td>город Москва, улица Егора Абакумова, дом 9</td>\n",
       "      <td>48</td>\n",
       "    </tr>\n",
       "    <tr>\n",
       "      <td>1</td>\n",
       "      <td>77874</td>\n",
       "      <td>Родник</td>\n",
       "      <td>нет</td>\n",
       "      <td>кафе</td>\n",
       "      <td>город Москва, улица Талалихина, дом 2/1, корпус 1</td>\n",
       "      <td>35</td>\n",
       "    </tr>\n",
       "    <tr>\n",
       "      <td>2</td>\n",
       "      <td>24309</td>\n",
       "      <td>Кафе «Академия»</td>\n",
       "      <td>нет</td>\n",
       "      <td>кафе</td>\n",
       "      <td>город Москва, Абельмановская улица, дом 6</td>\n",
       "      <td>95</td>\n",
       "    </tr>\n",
       "    <tr>\n",
       "      <td>3</td>\n",
       "      <td>21894</td>\n",
       "      <td>ПИЦЦЕТОРИЯ</td>\n",
       "      <td>да</td>\n",
       "      <td>кафе</td>\n",
       "      <td>город Москва, Абрамцевская улица, дом 1</td>\n",
       "      <td>40</td>\n",
       "    </tr>\n",
       "    <tr>\n",
       "      <td>4</td>\n",
       "      <td>119365</td>\n",
       "      <td>Кафе «Вишневая метель»</td>\n",
       "      <td>нет</td>\n",
       "      <td>кафе</td>\n",
       "      <td>город Москва, Абрамцевская улица, дом 9, корпус 1</td>\n",
       "      <td>50</td>\n",
       "    </tr>\n",
       "    <tr>\n",
       "      <td>5</td>\n",
       "      <td>27429</td>\n",
       "      <td>СТОЛ. ПРИ ГОУ СОШ № 1051</td>\n",
       "      <td>нет</td>\n",
       "      <td>столовая</td>\n",
       "      <td>город Москва, Абрамцевская улица, дом 15, корп...</td>\n",
       "      <td>240</td>\n",
       "    </tr>\n",
       "    <tr>\n",
       "      <td>6</td>\n",
       "      <td>148815</td>\n",
       "      <td>Брусника</td>\n",
       "      <td>да</td>\n",
       "      <td>кафе</td>\n",
       "      <td>город Москва, переулок Сивцев Вражек, дом 6/2</td>\n",
       "      <td>10</td>\n",
       "    </tr>\n",
       "    <tr>\n",
       "      <td>7</td>\n",
       "      <td>20957</td>\n",
       "      <td>Буфет МТУСИ</td>\n",
       "      <td>нет</td>\n",
       "      <td>столовая</td>\n",
       "      <td>город Москва, Авиамоторная улица, дом 8, строе...</td>\n",
       "      <td>90</td>\n",
       "    </tr>\n",
       "    <tr>\n",
       "      <td>8</td>\n",
       "      <td>20958</td>\n",
       "      <td>КПФ СЕМЬЯ-1</td>\n",
       "      <td>нет</td>\n",
       "      <td>столовая</td>\n",
       "      <td>город Москва, Авиамоторная улица, дом 8, строе...</td>\n",
       "      <td>150</td>\n",
       "    </tr>\n",
       "    <tr>\n",
       "      <td>9</td>\n",
       "      <td>28858</td>\n",
       "      <td>Столовая МТУСИ</td>\n",
       "      <td>нет</td>\n",
       "      <td>столовая</td>\n",
       "      <td>город Москва, Авиамоторная улица, дом 8, строе...</td>\n",
       "      <td>120</td>\n",
       "    </tr>\n",
       "  </tbody>\n",
       "</table>\n",
       "</div>"
      ],
      "text/plain": [
       "       id               object_name chain object_type  \\\n",
       "0  151635                   СМЕТАНА   нет        кафе   \n",
       "1   77874                    Родник   нет        кафе   \n",
       "2   24309           Кафе «Академия»   нет        кафе   \n",
       "3   21894                ПИЦЦЕТОРИЯ    да        кафе   \n",
       "4  119365    Кафе «Вишневая метель»   нет        кафе   \n",
       "5   27429  СТОЛ. ПРИ ГОУ СОШ № 1051   нет    столовая   \n",
       "6  148815                  Брусника    да        кафе   \n",
       "7   20957               Буфет МТУСИ   нет    столовая   \n",
       "8   20958               КПФ СЕМЬЯ-1   нет    столовая   \n",
       "9   28858            Столовая МТУСИ   нет    столовая   \n",
       "\n",
       "                                             address  number  \n",
       "0         город Москва, улица Егора Абакумова, дом 9      48  \n",
       "1  город Москва, улица Талалихина, дом 2/1, корпус 1      35  \n",
       "2          город Москва, Абельмановская улица, дом 6      95  \n",
       "3            город Москва, Абрамцевская улица, дом 1      40  \n",
       "4  город Москва, Абрамцевская улица, дом 9, корпус 1      50  \n",
       "5  город Москва, Абрамцевская улица, дом 15, корп...     240  \n",
       "6      город Москва, переулок Сивцев Вражек, дом 6/2      10  \n",
       "7  город Москва, Авиамоторная улица, дом 8, строе...      90  \n",
       "8  город Москва, Авиамоторная улица, дом 8, строе...     150  \n",
       "9  город Москва, Авиамоторная улица, дом 8, строе...     120  "
      ]
     },
     "execution_count": 4,
     "metadata": {},
     "output_type": "execute_result"
    }
   ],
   "source": [
    "df.head(10)"
   ]
  },
  {
   "cell_type": "markdown",
   "metadata": {},
   "source": [
    "**Итого**\n",
    "\n",
    "Всего в нашей таблице 15366 строк и шесть столбцов. Типы данных, встречаемых в столбцах: int и object.\n",
    "\n",
    "Описание данных согласно документации:\n",
    "\n",
    "*id* — идентификатор объекта;\n",
    "*object_name* — название объекта общественного питания;\n",
    "*chain* — сетевой ресторан;\n",
    "*object_type* — тип объекта общественного питания;\n",
    "*address* — адрес;\n",
    "*number* — количество посадочных мест.\n",
    "\n",
    "В названиях колонок нет нарушений стиля. Количество значений в столбцах сопадает с общим количеством строк в датафрейме. Это значит, в данных скорее всего отсутствуют пропущенные значения. Типы данных встречаемых в столбцах - адекватные. Для полноты картины необходимо ещё рассмотреть наличие дубликатов."
   ]
  },
  {
   "cell_type": "markdown",
   "metadata": {},
   "source": [
    "## Предобработка данных"
   ]
  },
  {
   "cell_type": "markdown",
   "metadata": {},
   "source": [
    "Убедимся что пропущенных значений действительно нет"
   ]
  },
  {
   "cell_type": "code",
   "execution_count": 5,
   "metadata": {},
   "outputs": [
    {
     "data": {
      "text/plain": [
       "id             0.0\n",
       "object_name    0.0\n",
       "chain          0.0\n",
       "object_type    0.0\n",
       "address        0.0\n",
       "number         0.0\n",
       "dtype: float64"
      ]
     },
     "execution_count": 5,
     "metadata": {},
     "output_type": "execute_result"
    }
   ],
   "source": [
    "df.isna().mean()"
   ]
  },
  {
   "cell_type": "markdown",
   "metadata": {},
   "source": [
    "### Поищем дубликаты"
   ]
  },
  {
   "cell_type": "markdown",
   "metadata": {},
   "source": [
    "Посчитаем количество явных дубликатов. Сначала приведём все значения с типом object к единому нижнему регистру"
   ]
  },
  {
   "cell_type": "code",
   "execution_count": 6,
   "metadata": {},
   "outputs": [],
   "source": [
    "df['object_name'] = df['object_name'].str.lower()\n",
    "df['chain'] = df['chain'].str.lower()\n",
    "df['object_type'] = df['object_type'].str.lower()\n",
    "df['address'] = df['address'].str.lower()"
   ]
  },
  {
   "cell_type": "markdown",
   "metadata": {},
   "source": [
    "Посчитаем количество явных дубликатов"
   ]
  },
  {
   "cell_type": "code",
   "execution_count": 7,
   "metadata": {},
   "outputs": [
    {
     "data": {
      "text/plain": [
       "0"
      ]
     },
     "execution_count": 7,
     "metadata": {},
     "output_type": "execute_result"
    }
   ],
   "source": [
    "df.duplicated().sum()"
   ]
  },
  {
   "cell_type": "markdown",
   "metadata": {},
   "source": [
    "А что если убрать уникальный столбец id? Посмотрим на количество дубликатов в таком разрезе"
   ]
  },
  {
   "cell_type": "code",
   "execution_count": 8,
   "metadata": {},
   "outputs": [
    {
     "name": "stdout",
     "output_type": "stream",
     "text": [
      "Кол-во дубликатов: 85\n"
     ]
    }
   ],
   "source": [
    "print(\"Кол-во дубликатов: {}\".format(df.duplicated(subset=['object_name', 'chain', 'object_type', 'address', 'number']).sum()))"
   ]
  },
  {
   "cell_type": "markdown",
   "metadata": {},
   "source": [
    "Нашлись таки, дубликатики. Однако 85 дублей - количество не значительное. Поэтому мы просто избавимся от них, не рискуя исказить данные."
   ]
  },
  {
   "cell_type": "code",
   "execution_count": 9,
   "metadata": {},
   "outputs": [],
   "source": [
    "df = df.drop_duplicates(subset = ['object_name', 'chain', 'object_type', 'address', 'number'])"
   ]
  },
  {
   "cell_type": "markdown",
   "metadata": {},
   "source": [
    "Проверим теперь"
   ]
  },
  {
   "cell_type": "code",
   "execution_count": 10,
   "metadata": {},
   "outputs": [
    {
     "name": "stdout",
     "output_type": "stream",
     "text": [
      "Кол-во дубликатов: 0\n"
     ]
    }
   ],
   "source": [
    "print(\"Кол-во дубликатов: {}\".format(df.duplicated(subset = ['object_name', 'chain', 'object_type', 'address', 'number']).sum()))"
   ]
  },
  {
   "cell_type": "markdown",
   "metadata": {},
   "source": [
    "**Итого**\n",
    "\n",
    "Мы убедились в отсутсвии пропущенных значений. А также нашли и избавились от незначительного числа дубликатов.\n",
    "\n",
    "Теперь наш датафрейм готов к использованию, чтобы мы смогли ответить на большинство интересующих нас вопросов, касаемо расположения заведений общественного питания в Москве. После чего можно будет рекомендовать заказчику выбрать наиболее подходящее место для открытия своего оригинального кафе."
   ]
  },
  {
   "cell_type": "markdown",
   "metadata": {},
   "source": [
    "## Отвечаем на вопросы:"
   ]
  },
  {
   "cell_type": "markdown",
   "metadata": {},
   "source": [
    "Зададим размеры для будущих графиков"
   ]
  },
  {
   "cell_type": "code",
   "execution_count": 11,
   "metadata": {},
   "outputs": [],
   "source": [
    "sns.set(rc={'figure.figsize':(10,7)})"
   ]
  },
  {
   "cell_type": "markdown",
   "metadata": {},
   "source": [
    "И определим палитру для графиков"
   ]
  },
  {
   "cell_type": "code",
   "execution_count": 12,
   "metadata": {},
   "outputs": [],
   "source": [
    "sns.set_palette('bright') "
   ]
  },
  {
   "cell_type": "markdown",
   "metadata": {},
   "source": [
    "### Исследуем соотношение видов объектов общественного питания по количеству"
   ]
  },
  {
   "cell_type": "markdown",
   "metadata": {},
   "source": [
    "Посмотрим, какие вообще у нас есть виды объектов общественного питания"
   ]
  },
  {
   "cell_type": "code",
   "execution_count": 13,
   "metadata": {},
   "outputs": [
    {
     "data": {
      "text/plain": [
       "кафе                                 6071\n",
       "столовая                             2584\n",
       "ресторан                             2282\n",
       "предприятие быстрого обслуживания    1897\n",
       "бар                                   855\n",
       "буфет                                 576\n",
       "кафетерий                             395\n",
       "закусочная                            348\n",
       "магазин (отдел кулинарии)             273\n",
       "Name: object_type, dtype: int64"
      ]
     },
     "execution_count": 13,
     "metadata": {},
     "output_type": "execute_result"
    }
   ],
   "source": [
    "df['object_type'].value_counts()"
   ]
  },
  {
   "cell_type": "markdown",
   "metadata": {},
   "source": [
    "Изменим значения в столбце на более читабельные"
   ]
  },
  {
   "cell_type": "code",
   "execution_count": 14,
   "metadata": {},
   "outputs": [],
   "source": [
    "df = df.replace({'object_type': {'предприятие быстрого обслуживания': 'фастфуд',\n",
    "                                 'магазин (отдел кулинарии)': 'кулинария'}})"
   ]
  },
  {
   "cell_type": "code",
   "execution_count": 15,
   "metadata": {},
   "outputs": [
    {
     "data": {
      "text/plain": [
       "кафе          6071\n",
       "столовая      2584\n",
       "ресторан      2282\n",
       "фастфуд       1897\n",
       "бар            855\n",
       "буфет          576\n",
       "кафетерий      395\n",
       "закусочная     348\n",
       "кулинария      273\n",
       "Name: object_type, dtype: int64"
      ]
     },
     "execution_count": 15,
     "metadata": {},
     "output_type": "execute_result"
    }
   ],
   "source": [
    "df['object_type'].value_counts()"
   ]
  },
  {
   "cell_type": "markdown",
   "metadata": {},
   "source": [
    "Теперь построим функцию которая будет рисовать подписи к графикам, принимать словарь с подписями и выводить их на экран"
   ]
  },
  {
   "cell_type": "code",
   "execution_count": 16,
   "metadata": {},
   "outputs": [],
   "source": [
    "def get_labels_and_axes(dic):\n",
    "    plt.xlabel(dic['xlabel'])\n",
    "    plt.ylabel(dic['ylabel'])\n",
    "    plt.title(dic['title'])"
   ]
  },
  {
   "cell_type": "markdown",
   "metadata": {},
   "source": [
    "Теперь можем строить график соотношения видов объектов общественного питания по количеству"
   ]
  },
  {
   "cell_type": "code",
   "execution_count": 17,
   "metadata": {},
   "outputs": [
    {
     "data": {
      "image/png": "[encoded data removed]",
      "text/plain": [
       "<Figure size 720x504 with 1 Axes>"
      ]
     },
     "metadata": {},
     "output_type": "display_data"
    }
   ],
   "source": [
    "sns.countplot(y = 'object_type', data = df)\n",
    "titles = {'xlabel':'Количество заведений', 'ylabel':'Вид заведения',\n",
    "          'title': 'Соотношение видов объектов общественного питания по количеству'\n",
    "         }\n",
    "get_labels_and_axes(titles)\n",
    "plt.show()"
   ]
  },
  {
   "cell_type": "markdown",
   "metadata": {},
   "source": [
    "**Вывод**\n",
    "\n",
    "Самый распространенный формат заведений в Москве - кафе. Из этого следует, что это формат с самым высоким количеством конкурентов. В тоже время можно предположить, что если количество заведений большое, то у потребителя есть спрос на данный формат объектов общественного питания"
   ]
  },
  {
   "cell_type": "markdown",
   "metadata": {},
   "source": [
    "### Исследуем соотношение сетевых и несетевых заведений по количеству"
   ]
  },
  {
   "cell_type": "markdown",
   "metadata": {},
   "source": [
    "Изучим общее количество сетевых и несетевых заведений"
   ]
  },
  {
   "cell_type": "code",
   "execution_count": 18,
   "metadata": {},
   "outputs": [
    {
     "data": {
      "text/plain": [
       "нет    12317\n",
       "да      2964\n",
       "Name: chain, dtype: int64"
      ]
     },
     "execution_count": 18,
     "metadata": {},
     "output_type": "execute_result"
    }
   ],
   "source": [
    "df['chain'].value_counts()"
   ]
  },
  {
   "cell_type": "markdown",
   "metadata": {},
   "source": [
    "Поменяем значения на более понятные"
   ]
  },
  {
   "cell_type": "code",
   "execution_count": 19,
   "metadata": {},
   "outputs": [],
   "source": [
    "df = df.replace({'chain' : { 'нет': 'одиночное', 'да': 'сетевое'}})"
   ]
  },
  {
   "cell_type": "code",
   "execution_count": 20,
   "metadata": {},
   "outputs": [
    {
     "data": {
      "text/plain": [
       "одиночное    12317\n",
       "сетевое       2964\n",
       "Name: chain, dtype: int64"
      ]
     },
     "execution_count": 20,
     "metadata": {},
     "output_type": "execute_result"
    }
   ],
   "source": [
    "df['chain'].value_counts()"
   ]
  },
  {
   "cell_type": "markdown",
   "metadata": {},
   "source": [
    "Теперь построим график"
   ]
  },
  {
   "cell_type": "code",
   "execution_count": 21,
   "metadata": {},
   "outputs": [
    {
     "data": {
      "image/png": "[encoded data removed]",
      "text/plain": [
       "<Figure size 720x504 with 1 Axes>"
      ]
     },
     "metadata": {},
     "output_type": "display_data"
    }
   ],
   "source": [
    "sns.countplot(x = 'chain', data = df)\n",
    "titles = {'xlabel':'Статус заведения', 'ylabel':'Количество', 'title': 'Соотношение сетевых и несетевых заведений по количеству'}\n",
    "get_labels_and_axes(titles)\n",
    "plt.show()"
   ]
  },
  {
   "cell_type": "markdown",
   "metadata": {},
   "source": [
    "**Вывод**\n",
    "\n",
    "Несетевых заведений значительно больше. Думаю, это можно связать с тем, что далеко не каждое заведение общественного питания доходит до тех значений выручки, с которыми можно расширяться до сети. Да и не каждый ресторанный бизнес имеет амбиции по расширению путём открытия новых филиалов"
   ]
  },
  {
   "cell_type": "markdown",
   "metadata": {},
   "source": [
    "### Ответим на вопрос: Для какого вида объекта общественного питания характерно сетевое распространение"
   ]
  },
  {
   "cell_type": "markdown",
   "metadata": {},
   "source": [
    "Построим сводную таблицу, а также график к ней, чтобы увидеть процент сетевых заведений по каждому типу"
   ]
  },
  {
   "cell_type": "code",
   "execution_count": 22,
   "metadata": {},
   "outputs": [],
   "source": [
    "chain_object_type = (df\n",
    " .pivot_table(index='object_type', columns = 'chain', values = 'id', aggfunc = 'count')\n",
    " .reset_index()\n",
    " .assign(part = lambda x: x['сетевое'] / (x['сетевое']+x['одиночное']))\n",
    " .sort_values(by = 'part', ascending=False)\n",
    ")"
   ]
  },
  {
   "cell_type": "code",
   "execution_count": 23,
   "metadata": {},
   "outputs": [
    {
     "data": {
      "text/html": [
       "<style  type=\"text/css\" >\n",
       "</style><table id=\"T_1d85b206_97ce_11ec_bc4b_02420a39b1dc\" ><thead>    <tr>        <th class=\"index_name level0\" >chain</th>        <th class=\"col_heading level0 col0\" >object_type</th>        <th class=\"col_heading level0 col1\" >одиночное</th>        <th class=\"col_heading level0 col2\" >сетевое</th>        <th class=\"col_heading level0 col3\" >part</th>    </tr></thead><tbody>\n",
       "                <tr>\n",
       "                        <th id=\"T_1d85b206_97ce_11ec_bc4b_02420a39b1dclevel0_row0\" class=\"row_heading level0 row0\" >8</th>\n",
       "                        <td id=\"T_1d85b206_97ce_11ec_bc4b_02420a39b1dcrow0_col0\" class=\"data row0 col0\" >фастфуд</td>\n",
       "                        <td id=\"T_1d85b206_97ce_11ec_bc4b_02420a39b1dcrow0_col1\" class=\"data row0 col1\" >1109</td>\n",
       "                        <td id=\"T_1d85b206_97ce_11ec_bc4b_02420a39b1dcrow0_col2\" class=\"data row0 col2\" >788</td>\n",
       "                        <td id=\"T_1d85b206_97ce_11ec_bc4b_02420a39b1dcrow0_col3\" class=\"data row0 col3\" >41.54%</td>\n",
       "            </tr>\n",
       "            <tr>\n",
       "                        <th id=\"T_1d85b206_97ce_11ec_bc4b_02420a39b1dclevel0_row1\" class=\"row_heading level0 row1\" >5</th>\n",
       "                        <td id=\"T_1d85b206_97ce_11ec_bc4b_02420a39b1dcrow1_col0\" class=\"data row1 col0\" >кулинария</td>\n",
       "                        <td id=\"T_1d85b206_97ce_11ec_bc4b_02420a39b1dcrow1_col1\" class=\"data row1 col1\" >195</td>\n",
       "                        <td id=\"T_1d85b206_97ce_11ec_bc4b_02420a39b1dcrow1_col2\" class=\"data row1 col2\" >78</td>\n",
       "                        <td id=\"T_1d85b206_97ce_11ec_bc4b_02420a39b1dcrow1_col3\" class=\"data row1 col3\" >28.57%</td>\n",
       "            </tr>\n",
       "            <tr>\n",
       "                        <th id=\"T_1d85b206_97ce_11ec_bc4b_02420a39b1dclevel0_row2\" class=\"row_heading level0 row2\" >6</th>\n",
       "                        <td id=\"T_1d85b206_97ce_11ec_bc4b_02420a39b1dcrow2_col0\" class=\"data row2 col0\" >ресторан</td>\n",
       "                        <td id=\"T_1d85b206_97ce_11ec_bc4b_02420a39b1dcrow2_col1\" class=\"data row2 col1\" >1739</td>\n",
       "                        <td id=\"T_1d85b206_97ce_11ec_bc4b_02420a39b1dcrow2_col2\" class=\"data row2 col2\" >543</td>\n",
       "                        <td id=\"T_1d85b206_97ce_11ec_bc4b_02420a39b1dcrow2_col3\" class=\"data row2 col3\" >23.79%</td>\n",
       "            </tr>\n",
       "            <tr>\n",
       "                        <th id=\"T_1d85b206_97ce_11ec_bc4b_02420a39b1dclevel0_row3\" class=\"row_heading level0 row3\" >3</th>\n",
       "                        <td id=\"T_1d85b206_97ce_11ec_bc4b_02420a39b1dcrow3_col0\" class=\"data row3 col0\" >кафе</td>\n",
       "                        <td id=\"T_1d85b206_97ce_11ec_bc4b_02420a39b1dcrow3_col1\" class=\"data row3 col1\" >4675</td>\n",
       "                        <td id=\"T_1d85b206_97ce_11ec_bc4b_02420a39b1dcrow3_col2\" class=\"data row3 col2\" >1396</td>\n",
       "                        <td id=\"T_1d85b206_97ce_11ec_bc4b_02420a39b1dcrow3_col3\" class=\"data row3 col3\" >22.99%</td>\n",
       "            </tr>\n",
       "            <tr>\n",
       "                        <th id=\"T_1d85b206_97ce_11ec_bc4b_02420a39b1dclevel0_row4\" class=\"row_heading level0 row4\" >2</th>\n",
       "                        <td id=\"T_1d85b206_97ce_11ec_bc4b_02420a39b1dcrow4_col0\" class=\"data row4 col0\" >закусочная</td>\n",
       "                        <td id=\"T_1d85b206_97ce_11ec_bc4b_02420a39b1dcrow4_col1\" class=\"data row4 col1\" >292</td>\n",
       "                        <td id=\"T_1d85b206_97ce_11ec_bc4b_02420a39b1dcrow4_col2\" class=\"data row4 col2\" >56</td>\n",
       "                        <td id=\"T_1d85b206_97ce_11ec_bc4b_02420a39b1dcrow4_col3\" class=\"data row4 col3\" >16.09%</td>\n",
       "            </tr>\n",
       "            <tr>\n",
       "                        <th id=\"T_1d85b206_97ce_11ec_bc4b_02420a39b1dclevel0_row5\" class=\"row_heading level0 row5\" >4</th>\n",
       "                        <td id=\"T_1d85b206_97ce_11ec_bc4b_02420a39b1dcrow5_col0\" class=\"data row5 col0\" >кафетерий</td>\n",
       "                        <td id=\"T_1d85b206_97ce_11ec_bc4b_02420a39b1dcrow5_col1\" class=\"data row5 col1\" >343</td>\n",
       "                        <td id=\"T_1d85b206_97ce_11ec_bc4b_02420a39b1dcrow5_col2\" class=\"data row5 col2\" >52</td>\n",
       "                        <td id=\"T_1d85b206_97ce_11ec_bc4b_02420a39b1dcrow5_col3\" class=\"data row5 col3\" >13.16%</td>\n",
       "            </tr>\n",
       "            <tr>\n",
       "                        <th id=\"T_1d85b206_97ce_11ec_bc4b_02420a39b1dclevel0_row6\" class=\"row_heading level0 row6\" >0</th>\n",
       "                        <td id=\"T_1d85b206_97ce_11ec_bc4b_02420a39b1dcrow6_col0\" class=\"data row6 col0\" >бар</td>\n",
       "                        <td id=\"T_1d85b206_97ce_11ec_bc4b_02420a39b1dcrow6_col1\" class=\"data row6 col1\" >818</td>\n",
       "                        <td id=\"T_1d85b206_97ce_11ec_bc4b_02420a39b1dcrow6_col2\" class=\"data row6 col2\" >37</td>\n",
       "                        <td id=\"T_1d85b206_97ce_11ec_bc4b_02420a39b1dcrow6_col3\" class=\"data row6 col3\" >4.33%</td>\n",
       "            </tr>\n",
       "            <tr>\n",
       "                        <th id=\"T_1d85b206_97ce_11ec_bc4b_02420a39b1dclevel0_row7\" class=\"row_heading level0 row7\" >1</th>\n",
       "                        <td id=\"T_1d85b206_97ce_11ec_bc4b_02420a39b1dcrow7_col0\" class=\"data row7 col0\" >буфет</td>\n",
       "                        <td id=\"T_1d85b206_97ce_11ec_bc4b_02420a39b1dcrow7_col1\" class=\"data row7 col1\" >565</td>\n",
       "                        <td id=\"T_1d85b206_97ce_11ec_bc4b_02420a39b1dcrow7_col2\" class=\"data row7 col2\" >11</td>\n",
       "                        <td id=\"T_1d85b206_97ce_11ec_bc4b_02420a39b1dcrow7_col3\" class=\"data row7 col3\" >1.91%</td>\n",
       "            </tr>\n",
       "            <tr>\n",
       "                        <th id=\"T_1d85b206_97ce_11ec_bc4b_02420a39b1dclevel0_row8\" class=\"row_heading level0 row8\" >7</th>\n",
       "                        <td id=\"T_1d85b206_97ce_11ec_bc4b_02420a39b1dcrow8_col0\" class=\"data row8 col0\" >столовая</td>\n",
       "                        <td id=\"T_1d85b206_97ce_11ec_bc4b_02420a39b1dcrow8_col1\" class=\"data row8 col1\" >2581</td>\n",
       "                        <td id=\"T_1d85b206_97ce_11ec_bc4b_02420a39b1dcrow8_col2\" class=\"data row8 col2\" >3</td>\n",
       "                        <td id=\"T_1d85b206_97ce_11ec_bc4b_02420a39b1dcrow8_col3\" class=\"data row8 col3\" >0.12%</td>\n",
       "            </tr>\n",
       "    </tbody></table>"
      ],
      "text/plain": [
       "<pandas.io.formats.style.Styler at 0x7f196a7db1d0>"
      ]
     },
     "execution_count": 23,
     "metadata": {},
     "output_type": "execute_result"
    }
   ],
   "source": [
    "chain_object_type.style.format(formatter={'part':'{:.2%}'})"
   ]
  },
  {
   "cell_type": "code",
   "execution_count": 24,
   "metadata": {},
   "outputs": [
    {
     "data": {
      "image/png": "[encoded data removed]",
      "text/plain": [
       "<Figure size 720x504 with 1 Axes>"
      ]
     },
     "metadata": {},
     "output_type": "display_data"
    }
   ],
   "source": [
    "chain_objects_plot = sns.barplot(x = 'part', y = 'object_type', data=chain_object_type, palette = 'Paired')\n",
    "vals = chain_objects_plot.get_xticks()\n",
    "titles = {'xlabel':'Доля сетевых заведений', \n",
    "          'ylabel':'Вид объекта общественного питания', \n",
    "          'title': 'Доли сетевых заведений по разным видам объектов общественного питания'}\n",
    "get_labels_and_axes(titles)\n",
    "chain_objects_plot.set_xticklabels(['{:,.2%}'.format(x) for x in vals])\n",
    "plt.show()"
   ]
  },
  {
   "cell_type": "markdown",
   "metadata": {},
   "source": [
    "**Вывод**\n",
    "\n",
    "Видим, что большая доля сетевых заведений встречается в предприятиях в простонародье именуемых *фастфуды*. Что логично, ведь для для этих заведений характерна дешевизна и чётко отработанная система взаимодействия сотрудников. Ниличие этих качеств и не зациклненность на других моментах ресторанного бизнеса, позволяет открывать почти одинаковые точки питания сразу во многих местах. А скорость приготовления и дешевизна обеспечит большой приток клиентов, что в свою очередь породит ещё большее расширение и открытие новых точек. *Пока фастфуды не заполонят собой всю вселенную(Но это не точно)*"
   ]
  },
  {
   "cell_type": "markdown",
   "metadata": {},
   "source": [
    "### Какое распределение количества посадочных мест характерно для сетевых и несетевых заведений"
   ]
  },
  {
   "cell_type": "markdown",
   "metadata": {},
   "source": [
    "Для ответа на этот вопрос построим график распределение количества посадочных мест для сетевых и несетевых заведений в зависимости от вида заведения"
   ]
  },
  {
   "cell_type": "code",
   "execution_count": 25,
   "metadata": {},
   "outputs": [
    {
     "data": {
      "image/png": "[encoded data removed]",
      "text/plain": [
       "<Figure size 720x504 with 1 Axes>"
      ]
     },
     "metadata": {},
     "output_type": "display_data"
    }
   ],
   "source": [
    "sns.stripplot(x = 'number', y = 'object_type', data = df, hue = 'chain', dodge = True)\n",
    "titles = {'xlabel':'Количество посадочных мест', \n",
    "          'ylabel':'Вид заведения', \n",
    "          'title': 'Распределение количества посадочных мест для сетевых и несетевых заведений'}\n",
    "get_labels_and_axes(titles)\n",
    "plt.show()"
   ]
  },
  {
   "cell_type": "markdown",
   "metadata": {},
   "source": [
    "**Вывод**\n",
    "\n",
    "Для кафе распределение количества посадочных мест для сетевых и несетевых заведений практически совпадает.\n",
    "\n",
    "Исходя их этого можем сделать вывод, что при открытии кафе следует ориентироваться на среднее количество посадочных мест характерное для данного формата заведения общественного питания."
   ]
  },
  {
   "cell_type": "markdown",
   "metadata": {},
   "source": [
    "### Зависимость количества посадочных мест по видам объектов"
   ]
  },
  {
   "cell_type": "code",
   "execution_count": 26,
   "metadata": {},
   "outputs": [
    {
     "data": {
      "image/png": "[encoded data removed]",
      "text/plain": [
       "<Figure size 720x504 with 1 Axes>"
      ]
     },
     "metadata": {},
     "output_type": "display_data"
    }
   ],
   "source": [
    "sns.barplot(x = 'number', y = 'object_type', data = df.sort_values('object_type'))\n",
    "titles = {'xlabel':'Среднее количество посадочных мест', \n",
    "          'ylabel':'Вид объекта', \n",
    "          'title': 'Среднее количество посадочных мест по виду объекта'}\n",
    "get_labels_and_axes(titles)\n",
    "plt.show()"
   ]
  },
  {
   "cell_type": "markdown",
   "metadata": {},
   "source": [
    "**Вывод**\n",
    "\n",
    "Больше всего посадочных мест в столовых. Что не удивительно, ведь столовые рассчитаны на обслуживание большого количества человек в обеденный перерыв.\n",
    "\n",
    "Меньше всего мест в кулинариях, закусочных и кафетериях. Все эти заведения как правило имеют доволльно скромные площади и направлены на достаточно узкий круг клиентов(покупатели в магазинах, при которых находятся кулинарии; закусочные рядом с заправками; кафетерии в аэропорту). То есть, как правило, такие заведения не являются местами, куда люди целенаправленно идут покушать, а скорее заглядывают перекусить по дороге.\n",
    "\n",
    "Что примечательно, для предприятий фастфуда также характерно небольшое количество мест. Так происходит из за того, что формат быстрого питания предполагает постоянный трафик клиентов. К тому же в подобных заведениях пользуется спросом функция *\"еда на вынос\"*"
   ]
  },
  {
   "cell_type": "markdown",
   "metadata": {},
   "source": [
    "### Улицы"
   ]
  },
  {
   "cell_type": "markdown",
   "metadata": {},
   "source": [
    "#### Выделим отдельный столбец под название улиц"
   ]
  },
  {
   "cell_type": "markdown",
   "metadata": {},
   "source": [
    "Возьмём столбец *address* и выделим из него названия отдельных улиц в столбец *street*"
   ]
  },
  {
   "cell_type": "code",
   "execution_count": 27,
   "metadata": {},
   "outputs": [],
   "source": [
    "df = df.assign(street = lambda x: x['address'].str.split(',')\n",
    "               .apply(lambda x: x[1] if 'город' not in x[1] and\n",
    "               'поселение' not in x[1] else (\n",
    "                   x[2] if 'корпус' not in x[2] else 'нет улицы')))"
   ]
  },
  {
   "cell_type": "markdown",
   "metadata": {},
   "source": [
    "Посмотрим что получилось"
   ]
  },
  {
   "cell_type": "code",
   "execution_count": 28,
   "metadata": {},
   "outputs": [
    {
     "data": {
      "text/html": [
       "<div>\n",
       "<style scoped>\n",
       "    .dataframe tbody tr th:only-of-type {\n",
       "        vertical-align: middle;\n",
       "    }\n",
       "\n",
       "    .dataframe tbody tr th {\n",
       "        vertical-align: top;\n",
       "    }\n",
       "\n",
       "    .dataframe thead th {\n",
       "        text-align: right;\n",
       "    }\n",
       "</style>\n",
       "<table border=\"1\" class=\"dataframe\">\n",
       "  <thead>\n",
       "    <tr style=\"text-align: right;\">\n",
       "      <th></th>\n",
       "      <th>id</th>\n",
       "      <th>object_name</th>\n",
       "      <th>chain</th>\n",
       "      <th>object_type</th>\n",
       "      <th>address</th>\n",
       "      <th>number</th>\n",
       "      <th>street</th>\n",
       "    </tr>\n",
       "  </thead>\n",
       "  <tbody>\n",
       "    <tr>\n",
       "      <td>0</td>\n",
       "      <td>151635</td>\n",
       "      <td>сметана</td>\n",
       "      <td>одиночное</td>\n",
       "      <td>кафе</td>\n",
       "      <td>город москва, улица егора абакумова, дом 9</td>\n",
       "      <td>48</td>\n",
       "      <td>улица егора абакумова</td>\n",
       "    </tr>\n",
       "    <tr>\n",
       "      <td>1</td>\n",
       "      <td>77874</td>\n",
       "      <td>родник</td>\n",
       "      <td>одиночное</td>\n",
       "      <td>кафе</td>\n",
       "      <td>город москва, улица талалихина, дом 2/1, корпус 1</td>\n",
       "      <td>35</td>\n",
       "      <td>улица талалихина</td>\n",
       "    </tr>\n",
       "    <tr>\n",
       "      <td>2</td>\n",
       "      <td>24309</td>\n",
       "      <td>кафе «академия»</td>\n",
       "      <td>одиночное</td>\n",
       "      <td>кафе</td>\n",
       "      <td>город москва, абельмановская улица, дом 6</td>\n",
       "      <td>95</td>\n",
       "      <td>абельмановская улица</td>\n",
       "    </tr>\n",
       "    <tr>\n",
       "      <td>3</td>\n",
       "      <td>21894</td>\n",
       "      <td>пиццетория</td>\n",
       "      <td>сетевое</td>\n",
       "      <td>кафе</td>\n",
       "      <td>город москва, абрамцевская улица, дом 1</td>\n",
       "      <td>40</td>\n",
       "      <td>абрамцевская улица</td>\n",
       "    </tr>\n",
       "    <tr>\n",
       "      <td>4</td>\n",
       "      <td>119365</td>\n",
       "      <td>кафе «вишневая метель»</td>\n",
       "      <td>одиночное</td>\n",
       "      <td>кафе</td>\n",
       "      <td>город москва, абрамцевская улица, дом 9, корпус 1</td>\n",
       "      <td>50</td>\n",
       "      <td>абрамцевская улица</td>\n",
       "    </tr>\n",
       "    <tr>\n",
       "      <td>5</td>\n",
       "      <td>27429</td>\n",
       "      <td>стол. при гоу сош № 1051</td>\n",
       "      <td>одиночное</td>\n",
       "      <td>столовая</td>\n",
       "      <td>город москва, абрамцевская улица, дом 15, корп...</td>\n",
       "      <td>240</td>\n",
       "      <td>абрамцевская улица</td>\n",
       "    </tr>\n",
       "    <tr>\n",
       "      <td>6</td>\n",
       "      <td>148815</td>\n",
       "      <td>брусника</td>\n",
       "      <td>сетевое</td>\n",
       "      <td>кафе</td>\n",
       "      <td>город москва, переулок сивцев вражек, дом 6/2</td>\n",
       "      <td>10</td>\n",
       "      <td>переулок сивцев вражек</td>\n",
       "    </tr>\n",
       "    <tr>\n",
       "      <td>7</td>\n",
       "      <td>20957</td>\n",
       "      <td>буфет мтуси</td>\n",
       "      <td>одиночное</td>\n",
       "      <td>столовая</td>\n",
       "      <td>город москва, авиамоторная улица, дом 8, строе...</td>\n",
       "      <td>90</td>\n",
       "      <td>авиамоторная улица</td>\n",
       "    </tr>\n",
       "    <tr>\n",
       "      <td>8</td>\n",
       "      <td>20958</td>\n",
       "      <td>кпф семья-1</td>\n",
       "      <td>одиночное</td>\n",
       "      <td>столовая</td>\n",
       "      <td>город москва, авиамоторная улица, дом 8, строе...</td>\n",
       "      <td>150</td>\n",
       "      <td>авиамоторная улица</td>\n",
       "    </tr>\n",
       "    <tr>\n",
       "      <td>9</td>\n",
       "      <td>28858</td>\n",
       "      <td>столовая мтуси</td>\n",
       "      <td>одиночное</td>\n",
       "      <td>столовая</td>\n",
       "      <td>город москва, авиамоторная улица, дом 8, строе...</td>\n",
       "      <td>120</td>\n",
       "      <td>авиамоторная улица</td>\n",
       "    </tr>\n",
       "    <tr>\n",
       "      <td>10</td>\n",
       "      <td>148595</td>\n",
       "      <td>пекарня 24</td>\n",
       "      <td>одиночное</td>\n",
       "      <td>закусочная</td>\n",
       "      <td>город москва, авиамоторная улица, дом 47</td>\n",
       "      <td>5</td>\n",
       "      <td>авиамоторная улица</td>\n",
       "    </tr>\n",
       "    <tr>\n",
       "      <td>11</td>\n",
       "      <td>23394</td>\n",
       "      <td>гогиели</td>\n",
       "      <td>одиночное</td>\n",
       "      <td>кафе</td>\n",
       "      <td>город москва, авиамоторная улица, дом 49/1</td>\n",
       "      <td>24</td>\n",
       "      <td>авиамоторная улица</td>\n",
       "    </tr>\n",
       "    <tr>\n",
       "      <td>12</td>\n",
       "      <td>28582</td>\n",
       "      <td>школа 735</td>\n",
       "      <td>одиночное</td>\n",
       "      <td>столовая</td>\n",
       "      <td>город москва, авиамоторная улица, дом 51</td>\n",
       "      <td>140</td>\n",
       "      <td>авиамоторная улица</td>\n",
       "    </tr>\n",
       "    <tr>\n",
       "      <td>13</td>\n",
       "      <td>22579</td>\n",
       "      <td>алло пицца</td>\n",
       "      <td>сетевое</td>\n",
       "      <td>кафе</td>\n",
       "      <td>город москва, улица авиаторов, дом 14</td>\n",
       "      <td>32</td>\n",
       "      <td>улица авиаторов</td>\n",
       "    </tr>\n",
       "    <tr>\n",
       "      <td>14</td>\n",
       "      <td>23670</td>\n",
       "      <td>гимназия 1542</td>\n",
       "      <td>одиночное</td>\n",
       "      <td>столовая</td>\n",
       "      <td>город москва, улица авиаторов, дом 16</td>\n",
       "      <td>270</td>\n",
       "      <td>улица авиаторов</td>\n",
       "    </tr>\n",
       "  </tbody>\n",
       "</table>\n",
       "</div>"
      ],
      "text/plain": [
       "        id               object_name      chain object_type  \\\n",
       "0   151635                   сметана  одиночное        кафе   \n",
       "1    77874                    родник  одиночное        кафе   \n",
       "2    24309           кафе «академия»  одиночное        кафе   \n",
       "3    21894                пиццетория    сетевое        кафе   \n",
       "4   119365    кафе «вишневая метель»  одиночное        кафе   \n",
       "5    27429  стол. при гоу сош № 1051  одиночное    столовая   \n",
       "6   148815                  брусника    сетевое        кафе   \n",
       "7    20957               буфет мтуси  одиночное    столовая   \n",
       "8    20958               кпф семья-1  одиночное    столовая   \n",
       "9    28858            столовая мтуси  одиночное    столовая   \n",
       "10  148595                пекарня 24  одиночное  закусочная   \n",
       "11   23394                   гогиели  одиночное        кафе   \n",
       "12   28582                 школа 735  одиночное    столовая   \n",
       "13   22579                алло пицца    сетевое        кафе   \n",
       "14   23670             гимназия 1542  одиночное    столовая   \n",
       "\n",
       "                                              address  number  \\\n",
       "0          город москва, улица егора абакумова, дом 9      48   \n",
       "1   город москва, улица талалихина, дом 2/1, корпус 1      35   \n",
       "2           город москва, абельмановская улица, дом 6      95   \n",
       "3             город москва, абрамцевская улица, дом 1      40   \n",
       "4   город москва, абрамцевская улица, дом 9, корпус 1      50   \n",
       "5   город москва, абрамцевская улица, дом 15, корп...     240   \n",
       "6       город москва, переулок сивцев вражек, дом 6/2      10   \n",
       "7   город москва, авиамоторная улица, дом 8, строе...      90   \n",
       "8   город москва, авиамоторная улица, дом 8, строе...     150   \n",
       "9   город москва, авиамоторная улица, дом 8, строе...     120   \n",
       "10           город москва, авиамоторная улица, дом 47       5   \n",
       "11         город москва, авиамоторная улица, дом 49/1      24   \n",
       "12           город москва, авиамоторная улица, дом 51     140   \n",
       "13              город москва, улица авиаторов, дом 14      32   \n",
       "14              город москва, улица авиаторов, дом 16     270   \n",
       "\n",
       "                     street  \n",
       "0     улица егора абакумова  \n",
       "1          улица талалихина  \n",
       "2      абельмановская улица  \n",
       "3        абрамцевская улица  \n",
       "4        абрамцевская улица  \n",
       "5        абрамцевская улица  \n",
       "6    переулок сивцев вражек  \n",
       "7        авиамоторная улица  \n",
       "8        авиамоторная улица  \n",
       "9        авиамоторная улица  \n",
       "10       авиамоторная улица  \n",
       "11       авиамоторная улица  \n",
       "12       авиамоторная улица  \n",
       "13          улица авиаторов  \n",
       "14          улица авиаторов  "
      ]
     },
     "execution_count": 28,
     "metadata": {},
     "output_type": "execute_result"
    }
   ],
   "source": [
    "df.head(15)"
   ]
  },
  {
   "cell_type": "markdown",
   "metadata": {},
   "source": [
    "#### Рассмотрим топ-10 улиц с наибольшим количеством объектов"
   ]
  },
  {
   "cell_type": "markdown",
   "metadata": {},
   "source": [
    "Создадим отдельный датафрейм, где посчитаем количество заведений на каждой из улиц"
   ]
  },
  {
   "cell_type": "code",
   "execution_count": 29,
   "metadata": {},
   "outputs": [],
   "source": [
    "df_top_streets = (\n",
    "    df.loc[df['street'] != 'нет улицы'].groupby(['street'])\n",
    "    .agg(amount = ('id','count'))\n",
    "    .sort_values(by = 'amount', ascending=False)\n",
    "    .reset_index()\n",
    "    .loc[:10]\n",
    ")"
   ]
  },
  {
   "cell_type": "markdown",
   "metadata": {},
   "source": [
    "При этом отсортировав по убыванию и оставив только топ-10. Значения \"нет улицы\" исключим, чтобы не мешало расчётам."
   ]
  },
  {
   "cell_type": "code",
   "execution_count": 30,
   "metadata": {},
   "outputs": [
    {
     "data": {
      "text/html": [
       "<div>\n",
       "<style scoped>\n",
       "    .dataframe tbody tr th:only-of-type {\n",
       "        vertical-align: middle;\n",
       "    }\n",
       "\n",
       "    .dataframe tbody tr th {\n",
       "        vertical-align: top;\n",
       "    }\n",
       "\n",
       "    .dataframe thead th {\n",
       "        text-align: right;\n",
       "    }\n",
       "</style>\n",
       "<table border=\"1\" class=\"dataframe\">\n",
       "  <thead>\n",
       "    <tr style=\"text-align: right;\">\n",
       "      <th></th>\n",
       "      <th>street</th>\n",
       "      <th>amount</th>\n",
       "    </tr>\n",
       "  </thead>\n",
       "  <tbody>\n",
       "    <tr>\n",
       "      <td>0</td>\n",
       "      <td>проспект мира</td>\n",
       "      <td>203</td>\n",
       "    </tr>\n",
       "    <tr>\n",
       "      <td>1</td>\n",
       "      <td>профсоюзная улица</td>\n",
       "      <td>181</td>\n",
       "    </tr>\n",
       "    <tr>\n",
       "      <td>2</td>\n",
       "      <td>ленинградский проспект</td>\n",
       "      <td>170</td>\n",
       "    </tr>\n",
       "    <tr>\n",
       "      <td>3</td>\n",
       "      <td>пресненская набережная</td>\n",
       "      <td>167</td>\n",
       "    </tr>\n",
       "    <tr>\n",
       "      <td>4</td>\n",
       "      <td>варшавское шоссе</td>\n",
       "      <td>164</td>\n",
       "    </tr>\n",
       "    <tr>\n",
       "      <td>5</td>\n",
       "      <td>ленинский проспект</td>\n",
       "      <td>147</td>\n",
       "    </tr>\n",
       "    <tr>\n",
       "      <td>6</td>\n",
       "      <td>проспект вернадского</td>\n",
       "      <td>128</td>\n",
       "    </tr>\n",
       "    <tr>\n",
       "      <td>7</td>\n",
       "      <td>кутузовский проспект</td>\n",
       "      <td>114</td>\n",
       "    </tr>\n",
       "    <tr>\n",
       "      <td>8</td>\n",
       "      <td>каширское шоссе</td>\n",
       "      <td>111</td>\n",
       "    </tr>\n",
       "    <tr>\n",
       "      <td>9</td>\n",
       "      <td>кировоградская улица</td>\n",
       "      <td>108</td>\n",
       "    </tr>\n",
       "    <tr>\n",
       "      <td>10</td>\n",
       "      <td>ходынский бульвар</td>\n",
       "      <td>102</td>\n",
       "    </tr>\n",
       "  </tbody>\n",
       "</table>\n",
       "</div>"
      ],
      "text/plain": [
       "                     street  amount\n",
       "0             проспект мира     203\n",
       "1         профсоюзная улица     181\n",
       "2    ленинградский проспект     170\n",
       "3    пресненская набережная     167\n",
       "4          варшавское шоссе     164\n",
       "5        ленинский проспект     147\n",
       "6      проспект вернадского     128\n",
       "7      кутузовский проспект     114\n",
       "8           каширское шоссе     111\n",
       "9      кировоградская улица     108\n",
       "10        ходынский бульвар     102"
      ]
     },
     "execution_count": 30,
     "metadata": {},
     "output_type": "execute_result"
    }
   ],
   "source": [
    "df_top_streets"
   ]
  },
  {
   "cell_type": "code",
   "execution_count": 31,
   "metadata": {},
   "outputs": [
    {
     "data": {
      "image/png": "[encoded data removed]",
      "text/plain": [
       "<Figure size 720x504 with 1 Axes>"
      ]
     },
     "metadata": {},
     "output_type": "display_data"
    }
   ],
   "source": [
    "sns.barplot(y = 'street', x = 'amount', data = df_top_streets)\n",
    "titles = {'xlabel':'Количество заведений', \n",
    "          'ylabel':'Улица', \n",
    "          'title': 'Топ 10 улиц по количеству заведений'}\n",
    "get_labels_and_axes(titles)\n",
    "plt.show()"
   ]
  },
  {
   "cell_type": "markdown",
   "metadata": {},
   "source": [
    "#### Посмотрим в каких районах Москвы расположены эти улицы"
   ]
  },
  {
   "cell_type": "markdown",
   "metadata": {},
   "source": [
    "Для начала создадим отдельный список с наиболее популярными улицами"
   ]
  },
  {
   "cell_type": "code",
   "execution_count": 32,
   "metadata": {},
   "outputs": [],
   "source": [
    "df_streets_top_list  = df_top_streets['street'].to_list()"
   ]
  },
  {
   "cell_type": "code",
   "execution_count": 33,
   "metadata": {},
   "outputs": [
    {
     "data": {
      "text/plain": [
       "[' проспект мира',\n",
       " ' профсоюзная улица',\n",
       " ' ленинградский проспект',\n",
       " ' пресненская набережная',\n",
       " ' варшавское шоссе',\n",
       " ' ленинский проспект',\n",
       " ' проспект вернадского',\n",
       " ' кутузовский проспект',\n",
       " ' каширское шоссе',\n",
       " ' кировоградская улица',\n",
       " ' ходынский бульвар']"
      ]
     },
     "execution_count": 33,
     "metadata": {},
     "output_type": "execute_result"
    }
   ],
   "source": [
    "df_streets_top_list "
   ]
  },
  {
   "cell_type": "markdown",
   "metadata": {},
   "source": [
    "Создадим и отфильтруем датафрейм согласно списка этих улиц"
   ]
  },
  {
   "cell_type": "code",
   "execution_count": 34,
   "metadata": {},
   "outputs": [],
   "source": [
    "df_filtered = df[df['street'].isin(df_streets_top_list)]"
   ]
  },
  {
   "cell_type": "code",
   "execution_count": 35,
   "metadata": {
    "scrolled": true
   },
   "outputs": [
    {
     "data": {
      "text/html": [
       "<div>\n",
       "<style scoped>\n",
       "    .dataframe tbody tr th:only-of-type {\n",
       "        vertical-align: middle;\n",
       "    }\n",
       "\n",
       "    .dataframe tbody tr th {\n",
       "        vertical-align: top;\n",
       "    }\n",
       "\n",
       "    .dataframe thead th {\n",
       "        text-align: right;\n",
       "    }\n",
       "</style>\n",
       "<table border=\"1\" class=\"dataframe\">\n",
       "  <thead>\n",
       "    <tr style=\"text-align: right;\">\n",
       "      <th></th>\n",
       "      <th>id</th>\n",
       "      <th>object_name</th>\n",
       "      <th>chain</th>\n",
       "      <th>object_type</th>\n",
       "      <th>address</th>\n",
       "      <th>number</th>\n",
       "      <th>street</th>\n",
       "    </tr>\n",
       "  </thead>\n",
       "  <tbody>\n",
       "    <tr>\n",
       "      <td>151</td>\n",
       "      <td>155973</td>\n",
       "      <td>кафе «андерсон»</td>\n",
       "      <td>сетевое</td>\n",
       "      <td>кафе</td>\n",
       "      <td>город москва, варшавское шоссе, дом 2</td>\n",
       "      <td>150</td>\n",
       "      <td>варшавское шоссе</td>\n",
       "    </tr>\n",
       "    <tr>\n",
       "      <td>152</td>\n",
       "      <td>23618</td>\n",
       "      <td>кафе «subway»</td>\n",
       "      <td>сетевое</td>\n",
       "      <td>кафе</td>\n",
       "      <td>город москва, варшавское шоссе, дом 7, корпус 1</td>\n",
       "      <td>36</td>\n",
       "      <td>варшавское шоссе</td>\n",
       "    </tr>\n",
       "    <tr>\n",
       "      <td>153</td>\n",
       "      <td>155852</td>\n",
       "      <td>кафе «ламаджо»</td>\n",
       "      <td>одиночное</td>\n",
       "      <td>кафе</td>\n",
       "      <td>город москва, варшавское шоссе, дом 29</td>\n",
       "      <td>30</td>\n",
       "      <td>варшавское шоссе</td>\n",
       "    </tr>\n",
       "    <tr>\n",
       "      <td>154</td>\n",
       "      <td>152556</td>\n",
       "      <td>шаурма в пите</td>\n",
       "      <td>одиночное</td>\n",
       "      <td>фастфуд</td>\n",
       "      <td>город москва, варшавское шоссе, дом 72, корпус 2</td>\n",
       "      <td>0</td>\n",
       "      <td>варшавское шоссе</td>\n",
       "    </tr>\n",
       "    <tr>\n",
       "      <td>155</td>\n",
       "      <td>120658</td>\n",
       "      <td>выпечка</td>\n",
       "      <td>одиночное</td>\n",
       "      <td>кафетерий</td>\n",
       "      <td>город москва, варшавское шоссе, дом 100</td>\n",
       "      <td>2</td>\n",
       "      <td>варшавское шоссе</td>\n",
       "    </tr>\n",
       "    <tr>\n",
       "      <td>...</td>\n",
       "      <td>...</td>\n",
       "      <td>...</td>\n",
       "      <td>...</td>\n",
       "      <td>...</td>\n",
       "      <td>...</td>\n",
       "      <td>...</td>\n",
       "      <td>...</td>\n",
       "    </tr>\n",
       "    <tr>\n",
       "      <td>15325</td>\n",
       "      <td>198436</td>\n",
       "      <td>милти</td>\n",
       "      <td>сетевое</td>\n",
       "      <td>фастфуд</td>\n",
       "      <td>город москва, ленинградский проспект, дом 80, ...</td>\n",
       "      <td>0</td>\n",
       "      <td>ленинградский проспект</td>\n",
       "    </tr>\n",
       "    <tr>\n",
       "      <td>15347</td>\n",
       "      <td>222491</td>\n",
       "      <td>кальянная «мята lounge»</td>\n",
       "      <td>сетевое</td>\n",
       "      <td>кафе</td>\n",
       "      <td>город москва, профсоюзная улица, дом 142, корп...</td>\n",
       "      <td>40</td>\n",
       "      <td>профсоюзная улица</td>\n",
       "    </tr>\n",
       "    <tr>\n",
       "      <td>15350</td>\n",
       "      <td>213061</td>\n",
       "      <td>мята</td>\n",
       "      <td>сетевое</td>\n",
       "      <td>кафетерий</td>\n",
       "      <td>город москва, каширское шоссе, дом 96, корпус 1</td>\n",
       "      <td>35</td>\n",
       "      <td>каширское шоссе</td>\n",
       "    </tr>\n",
       "    <tr>\n",
       "      <td>15358</td>\n",
       "      <td>213724</td>\n",
       "      <td>шоколадница</td>\n",
       "      <td>сетевое</td>\n",
       "      <td>кафе</td>\n",
       "      <td>город москва, варшавское шоссе, дом 87б</td>\n",
       "      <td>54</td>\n",
       "      <td>варшавское шоссе</td>\n",
       "    </tr>\n",
       "    <tr>\n",
       "      <td>15365</td>\n",
       "      <td>222535</td>\n",
       "      <td>шоколадница</td>\n",
       "      <td>сетевое</td>\n",
       "      <td>кафе</td>\n",
       "      <td>город москва, ходынский бульвар, дом 4</td>\n",
       "      <td>10</td>\n",
       "      <td>ходынский бульвар</td>\n",
       "    </tr>\n",
       "  </tbody>\n",
       "</table>\n",
       "<p>1595 rows × 7 columns</p>\n",
       "</div>"
      ],
      "text/plain": [
       "           id              object_name      chain object_type  \\\n",
       "151    155973          кафе «андерсон»    сетевое        кафе   \n",
       "152     23618            кафе «subway»    сетевое        кафе   \n",
       "153    155852           кафе «ламаджо»  одиночное        кафе   \n",
       "154    152556            шаурма в пите  одиночное     фастфуд   \n",
       "155    120658                  выпечка  одиночное   кафетерий   \n",
       "...       ...                      ...        ...         ...   \n",
       "15325  198436                    милти    сетевое     фастфуд   \n",
       "15347  222491  кальянная «мята lounge»    сетевое        кафе   \n",
       "15350  213061                     мята    сетевое   кафетерий   \n",
       "15358  213724              шоколадница    сетевое        кафе   \n",
       "15365  222535              шоколадница    сетевое        кафе   \n",
       "\n",
       "                                                 address  number  \\\n",
       "151                город москва, варшавское шоссе, дом 2     150   \n",
       "152      город москва, варшавское шоссе, дом 7, корпус 1      36   \n",
       "153               город москва, варшавское шоссе, дом 29      30   \n",
       "154     город москва, варшавское шоссе, дом 72, корпус 2       0   \n",
       "155              город москва, варшавское шоссе, дом 100       2   \n",
       "...                                                  ...     ...   \n",
       "15325  город москва, ленинградский проспект, дом 80, ...       0   \n",
       "15347  город москва, профсоюзная улица, дом 142, корп...      40   \n",
       "15350    город москва, каширское шоссе, дом 96, корпус 1      35   \n",
       "15358            город москва, варшавское шоссе, дом 87б      54   \n",
       "15365             город москва, ходынский бульвар, дом 4      10   \n",
       "\n",
       "                        street  \n",
       "151           варшавское шоссе  \n",
       "152           варшавское шоссе  \n",
       "153           варшавское шоссе  \n",
       "154           варшавское шоссе  \n",
       "155           варшавское шоссе  \n",
       "...                        ...  \n",
       "15325   ленинградский проспект  \n",
       "15347        профсоюзная улица  \n",
       "15350          каширское шоссе  \n",
       "15358         варшавское шоссе  \n",
       "15365        ходынский бульвар  \n",
       "\n",
       "[1595 rows x 7 columns]"
      ]
     },
     "execution_count": 35,
     "metadata": {},
     "output_type": "execute_result"
    }
   ],
   "source": [
    "df_filtered"
   ]
  },
  {
   "cell_type": "markdown",
   "metadata": {},
   "source": [
    "Теперь создадим датафрейм с уникальными адресами"
   ]
  },
  {
   "cell_type": "code",
   "execution_count": 36,
   "metadata": {},
   "outputs": [],
   "source": [
    "df_addresses = pd.DataFrame({'unique_address' : df_filtered['address'].unique()})"
   ]
  },
  {
   "cell_type": "code",
   "execution_count": 37,
   "metadata": {
    "scrolled": true
   },
   "outputs": [
    {
     "data": {
      "text/html": [
       "<div>\n",
       "<style scoped>\n",
       "    .dataframe tbody tr th:only-of-type {\n",
       "        vertical-align: middle;\n",
       "    }\n",
       "\n",
       "    .dataframe tbody tr th {\n",
       "        vertical-align: top;\n",
       "    }\n",
       "\n",
       "    .dataframe thead th {\n",
       "        text-align: right;\n",
       "    }\n",
       "</style>\n",
       "<table border=\"1\" class=\"dataframe\">\n",
       "  <thead>\n",
       "    <tr style=\"text-align: right;\">\n",
       "      <th></th>\n",
       "      <th>unique_address</th>\n",
       "    </tr>\n",
       "  </thead>\n",
       "  <tbody>\n",
       "    <tr>\n",
       "      <td>0</td>\n",
       "      <td>город москва, варшавское шоссе, дом 2</td>\n",
       "    </tr>\n",
       "    <tr>\n",
       "      <td>1</td>\n",
       "      <td>город москва, варшавское шоссе, дом 7, корпус 1</td>\n",
       "    </tr>\n",
       "    <tr>\n",
       "      <td>2</td>\n",
       "      <td>город москва, варшавское шоссе, дом 29</td>\n",
       "    </tr>\n",
       "    <tr>\n",
       "      <td>3</td>\n",
       "      <td>город москва, варшавское шоссе, дом 72, корпус 2</td>\n",
       "    </tr>\n",
       "    <tr>\n",
       "      <td>4</td>\n",
       "      <td>город москва, варшавское шоссе, дом 100</td>\n",
       "    </tr>\n",
       "    <tr>\n",
       "      <td>...</td>\n",
       "      <td>...</td>\n",
       "    </tr>\n",
       "    <tr>\n",
       "      <td>588</td>\n",
       "      <td>город москва, кутузовский проспект, дом 43</td>\n",
       "    </tr>\n",
       "    <tr>\n",
       "      <td>589</td>\n",
       "      <td>город москва, ленинградский проспект, дом 33, ...</td>\n",
       "    </tr>\n",
       "    <tr>\n",
       "      <td>590</td>\n",
       "      <td>город москва, ленинский проспект, дом 60/2</td>\n",
       "    </tr>\n",
       "    <tr>\n",
       "      <td>591</td>\n",
       "      <td>город москва, кутузовский проспект, дом 36, ст...</td>\n",
       "    </tr>\n",
       "    <tr>\n",
       "      <td>592</td>\n",
       "      <td>город москва, профсоюзная улица, дом 142, корп...</td>\n",
       "    </tr>\n",
       "  </tbody>\n",
       "</table>\n",
       "<p>593 rows × 1 columns</p>\n",
       "</div>"
      ],
      "text/plain": [
       "                                        unique_address\n",
       "0                город москва, варшавское шоссе, дом 2\n",
       "1      город москва, варшавское шоссе, дом 7, корпус 1\n",
       "2               город москва, варшавское шоссе, дом 29\n",
       "3     город москва, варшавское шоссе, дом 72, корпус 2\n",
       "4              город москва, варшавское шоссе, дом 100\n",
       "..                                                 ...\n",
       "588         город москва, кутузовский проспект, дом 43\n",
       "589  город москва, ленинградский проспект, дом 33, ...\n",
       "590         город москва, ленинский проспект, дом 60/2\n",
       "591  город москва, кутузовский проспект, дом 36, ст...\n",
       "592  город москва, профсоюзная улица, дом 142, корп...\n",
       "\n",
       "[593 rows x 1 columns]"
      ]
     },
     "execution_count": 37,
     "metadata": {},
     "output_type": "execute_result"
    }
   ],
   "source": [
    "df_addresses"
   ]
  },
  {
   "cell_type": "markdown",
   "metadata": {},
   "source": [
    "Создадим функцию, которая получит для нас координаты через API Яндекс.Карт и прочитаем датафрейм из файла"
   ]
  },
  {
   "cell_type": "code",
   "execution_count": 38,
   "metadata": {},
   "outputs": [],
   "source": [
    "def get_coordinates(address):\n",
    "    base_url = \"https://geocode-maps.yandex.ru/1.x\"\n",
    "    response = requests.get(base_url, params={\n",
    "        \"geocode\": address,\n",
    "        \"apikey\": '42096618-c47f-45f8-bca4-2c6eb2cbd672',\n",
    "        \"format\": \"json\",\n",
    "    })\n",
    "    response.raise_for_status()\n",
    "    found_places = response.json()['response']['GeoObjectCollection']['featureMember']\n",
    "\n",
    "    if not found_places:\n",
    "        return None\n",
    "\n",
    "    most_relevant = found_places[0]\n",
    "    coordinates = most_relevant['GeoObject']['Point']['pos'].split(' ')\n",
    "    return coordinates"
   ]
  },
  {
   "cell_type": "code",
   "execution_count": 39,
   "metadata": {},
   "outputs": [],
   "source": [
    "url = 'https://drive.google.com/file/d/1LworkYMR8ikIZW3Wbvlii0fzII0x1ntZ/view?usp=sharing'\n",
    "path = 'https://drive.google.com/uc?id='+url.split('/')[-2]\n",
    "df_addresses = pd.read_csv(path, sep=';')"
   ]
  },
  {
   "cell_type": "markdown",
   "metadata": {},
   "source": [
    "Теперь нам понадобится функция поиска района"
   ]
  },
  {
   "cell_type": "code",
   "execution_count": 40,
   "metadata": {},
   "outputs": [],
   "source": [
    "def get_district(coordinates):   \n",
    "    base_url = \"https://geocode-maps.yandex.ru/1.x\"\n",
    "    response = requests.get(base_url, params={\n",
    "        \"geocode\": coordinates[0] + ',' + coordinates[1],\n",
    "        \"apikey\": '42096618-c47f-45f8-bca4-2c6eb2cbd672',\n",
    "        \"format\": \"xml\",\n",
    "        'kind': 'district'\n",
    "    })\n",
    "    soup = BeautifulSoup(response.text, 'xml')\n",
    "    result = soup.find_all('DependentLocalityName')\n",
    "    for item in result:\n",
    "        if 'район' in item.text:\n",
    "            return item.text"
   ]
  },
  {
   "cell_type": "markdown",
   "metadata": {},
   "source": [
    "Прочитаем датафрейм из файла и приведём столбец, по которому будем объединять, к единому названию. После этого можем спокойно объединять наши датафреймы"
   ]
  },
  {
   "cell_type": "code",
   "execution_count": 41,
   "metadata": {},
   "outputs": [],
   "source": [
    "url = 'https://drive.google.com/file/d/1jEi1FxGGj75en3XE_vZ-FShxdRHInY0H/view?usp=sharing'\n",
    "path = 'https://drive.google.com/uc?id='+url.split('/')[-2]\n",
    "df_addresses_and_districts = pd.read_csv(path, sep=';')"
   ]
  },
  {
   "cell_type": "code",
   "execution_count": 42,
   "metadata": {},
   "outputs": [],
   "source": [
    "df_addresses_and_districts.rename(columns={\"unique_address\": \"address\"},\n",
    "                                  inplace=True)"
   ]
  },
  {
   "cell_type": "code",
   "execution_count": 43,
   "metadata": {},
   "outputs": [],
   "source": [
    "df_filtered = df_filtered.merge(df_addresses_and_districts, on='address')"
   ]
  },
  {
   "cell_type": "code",
   "execution_count": 44,
   "metadata": {
    "scrolled": true
   },
   "outputs": [
    {
     "data": {
      "text/html": [
       "<div>\n",
       "<style scoped>\n",
       "    .dataframe tbody tr th:only-of-type {\n",
       "        vertical-align: middle;\n",
       "    }\n",
       "\n",
       "    .dataframe tbody tr th {\n",
       "        vertical-align: top;\n",
       "    }\n",
       "\n",
       "    .dataframe thead th {\n",
       "        text-align: right;\n",
       "    }\n",
       "</style>\n",
       "<table border=\"1\" class=\"dataframe\">\n",
       "  <thead>\n",
       "    <tr style=\"text-align: right;\">\n",
       "      <th></th>\n",
       "      <th>id</th>\n",
       "      <th>object_name</th>\n",
       "      <th>chain</th>\n",
       "      <th>object_type</th>\n",
       "      <th>address</th>\n",
       "      <th>number</th>\n",
       "      <th>street</th>\n",
       "      <th>coordinates</th>\n",
       "      <th>district</th>\n",
       "    </tr>\n",
       "  </thead>\n",
       "  <tbody>\n",
       "    <tr>\n",
       "      <td>0</td>\n",
       "      <td>155973</td>\n",
       "      <td>кафе «андерсон»</td>\n",
       "      <td>сетевое</td>\n",
       "      <td>кафе</td>\n",
       "      <td>город москва, варшавское шоссе, дом 2</td>\n",
       "      <td>150</td>\n",
       "      <td>варшавское шоссе</td>\n",
       "      <td>['37.619683', '55.699949']</td>\n",
       "      <td>Донской район</td>\n",
       "    </tr>\n",
       "    <tr>\n",
       "      <td>1</td>\n",
       "      <td>204776</td>\n",
       "      <td>кальян бар</td>\n",
       "      <td>одиночное</td>\n",
       "      <td>бар</td>\n",
       "      <td>город москва, варшавское шоссе, дом 2</td>\n",
       "      <td>24</td>\n",
       "      <td>варшавское шоссе</td>\n",
       "      <td>['37.619683', '55.699949']</td>\n",
       "      <td>Донской район</td>\n",
       "    </tr>\n",
       "    <tr>\n",
       "      <td>2</td>\n",
       "      <td>23618</td>\n",
       "      <td>кафе «subway»</td>\n",
       "      <td>сетевое</td>\n",
       "      <td>кафе</td>\n",
       "      <td>город москва, варшавское шоссе, дом 7, корпус 1</td>\n",
       "      <td>36</td>\n",
       "      <td>варшавское шоссе</td>\n",
       "      <td>['37.622405', '55.700877']</td>\n",
       "      <td>Донской район</td>\n",
       "    </tr>\n",
       "    <tr>\n",
       "      <td>3</td>\n",
       "      <td>166556</td>\n",
       "      <td>кафе суши wok</td>\n",
       "      <td>сетевое</td>\n",
       "      <td>фастфуд</td>\n",
       "      <td>город москва, варшавское шоссе, дом 7, корпус 1</td>\n",
       "      <td>8</td>\n",
       "      <td>варшавское шоссе</td>\n",
       "      <td>['37.622405', '55.700877']</td>\n",
       "      <td>Донской район</td>\n",
       "    </tr>\n",
       "    <tr>\n",
       "      <td>4</td>\n",
       "      <td>181111</td>\n",
       "      <td>кафе «doner city»</td>\n",
       "      <td>одиночное</td>\n",
       "      <td>фастфуд</td>\n",
       "      <td>город москва, варшавское шоссе, дом 7, корпус 1</td>\n",
       "      <td>1</td>\n",
       "      <td>варшавское шоссе</td>\n",
       "      <td>['37.622405', '55.700877']</td>\n",
       "      <td>Донской район</td>\n",
       "    </tr>\n",
       "    <tr>\n",
       "      <td>...</td>\n",
       "      <td>...</td>\n",
       "      <td>...</td>\n",
       "      <td>...</td>\n",
       "      <td>...</td>\n",
       "      <td>...</td>\n",
       "      <td>...</td>\n",
       "      <td>...</td>\n",
       "      <td>...</td>\n",
       "      <td>...</td>\n",
       "    </tr>\n",
       "    <tr>\n",
       "      <td>1590</td>\n",
       "      <td>221859</td>\n",
       "      <td>штолле</td>\n",
       "      <td>сетевое</td>\n",
       "      <td>кулинария</td>\n",
       "      <td>город москва, кутузовский проспект, дом 43</td>\n",
       "      <td>10</td>\n",
       "      <td>кутузовский проспект</td>\n",
       "      <td>['37.528855', '55.73811']</td>\n",
       "      <td>район Дорогомилово</td>\n",
       "    </tr>\n",
       "    <tr>\n",
       "      <td>1591</td>\n",
       "      <td>222301</td>\n",
       "      <td>стардогs</td>\n",
       "      <td>сетевое</td>\n",
       "      <td>фастфуд</td>\n",
       "      <td>город москва, ленинградский проспект, дом 33, ...</td>\n",
       "      <td>0</td>\n",
       "      <td>ленинградский проспект</td>\n",
       "      <td>['37.560484', '55.78646']</td>\n",
       "      <td>район Беговой</td>\n",
       "    </tr>\n",
       "    <tr>\n",
       "      <td>1592</td>\n",
       "      <td>214666</td>\n",
       "      <td>хинкальная №1</td>\n",
       "      <td>сетевое</td>\n",
       "      <td>ресторан</td>\n",
       "      <td>город москва, ленинский проспект, дом 60/2</td>\n",
       "      <td>34</td>\n",
       "      <td>ленинский проспект</td>\n",
       "      <td>['37.557682', '55.695829']</td>\n",
       "      <td>Гагаринский район</td>\n",
       "    </tr>\n",
       "    <tr>\n",
       "      <td>1593</td>\n",
       "      <td>218390</td>\n",
       "      <td>милти</td>\n",
       "      <td>сетевое</td>\n",
       "      <td>закусочная</td>\n",
       "      <td>город москва, кутузовский проспект, дом 36, ст...</td>\n",
       "      <td>0</td>\n",
       "      <td>кутузовский проспект</td>\n",
       "      <td>['37.526618', '55.742889']</td>\n",
       "      <td>район Дорогомилово</td>\n",
       "    </tr>\n",
       "    <tr>\n",
       "      <td>1594</td>\n",
       "      <td>222491</td>\n",
       "      <td>кальянная «мята lounge»</td>\n",
       "      <td>сетевое</td>\n",
       "      <td>кафе</td>\n",
       "      <td>город москва, профсоюзная улица, дом 142, корп...</td>\n",
       "      <td>40</td>\n",
       "      <td>профсоюзная улица</td>\n",
       "      <td>['37.509343', '55.625486']</td>\n",
       "      <td>район Тёплый Стан</td>\n",
       "    </tr>\n",
       "  </tbody>\n",
       "</table>\n",
       "<p>1595 rows × 9 columns</p>\n",
       "</div>"
      ],
      "text/plain": [
       "          id              object_name      chain object_type  \\\n",
       "0     155973          кафе «андерсон»    сетевое        кафе   \n",
       "1     204776               кальян бар  одиночное         бар   \n",
       "2      23618            кафе «subway»    сетевое        кафе   \n",
       "3     166556            кафе суши wok    сетевое     фастфуд   \n",
       "4     181111        кафе «doner city»  одиночное     фастфуд   \n",
       "...      ...                      ...        ...         ...   \n",
       "1590  221859                   штолле    сетевое   кулинария   \n",
       "1591  222301                 стардогs    сетевое     фастфуд   \n",
       "1592  214666            хинкальная №1    сетевое    ресторан   \n",
       "1593  218390                    милти    сетевое  закусочная   \n",
       "1594  222491  кальянная «мята lounge»    сетевое        кафе   \n",
       "\n",
       "                                                address  number  \\\n",
       "0                 город москва, варшавское шоссе, дом 2     150   \n",
       "1                 город москва, варшавское шоссе, дом 2      24   \n",
       "2       город москва, варшавское шоссе, дом 7, корпус 1      36   \n",
       "3       город москва, варшавское шоссе, дом 7, корпус 1       8   \n",
       "4       город москва, варшавское шоссе, дом 7, корпус 1       1   \n",
       "...                                                 ...     ...   \n",
       "1590         город москва, кутузовский проспект, дом 43      10   \n",
       "1591  город москва, ленинградский проспект, дом 33, ...       0   \n",
       "1592         город москва, ленинский проспект, дом 60/2      34   \n",
       "1593  город москва, кутузовский проспект, дом 36, ст...       0   \n",
       "1594  город москва, профсоюзная улица, дом 142, корп...      40   \n",
       "\n",
       "                       street                 coordinates            district  \n",
       "0            варшавское шоссе  ['37.619683', '55.699949']       Донской район  \n",
       "1            варшавское шоссе  ['37.619683', '55.699949']       Донской район  \n",
       "2            варшавское шоссе  ['37.622405', '55.700877']       Донской район  \n",
       "3            варшавское шоссе  ['37.622405', '55.700877']       Донской район  \n",
       "4            варшавское шоссе  ['37.622405', '55.700877']       Донской район  \n",
       "...                       ...                         ...                 ...  \n",
       "1590     кутузовский проспект   ['37.528855', '55.73811']  район Дорогомилово  \n",
       "1591   ленинградский проспект   ['37.560484', '55.78646']       район Беговой  \n",
       "1592       ленинский проспект  ['37.557682', '55.695829']   Гагаринский район  \n",
       "1593     кутузовский проспект  ['37.526618', '55.742889']  район Дорогомилово  \n",
       "1594        профсоюзная улица  ['37.509343', '55.625486']   район Тёплый Стан  \n",
       "\n",
       "[1595 rows x 9 columns]"
      ]
     },
     "execution_count": 44,
     "metadata": {},
     "output_type": "execute_result"
    }
   ],
   "source": [
    "df_filtered"
   ]
  },
  {
   "cell_type": "markdown",
   "metadata": {},
   "source": [
    "Дальше группируем по улицам и районам"
   ]
  },
  {
   "cell_type": "code",
   "execution_count": 45,
   "metadata": {
    "scrolled": true
   },
   "outputs": [],
   "source": [
    "df_objects_by_districts_and_streets  = (\n",
    "    df_filtered.groupby(['street', 'district'])\n",
    "    .agg(objects = ('id','count'))\n",
    "    .reset_index()\n",
    ")"
   ]
  },
  {
   "cell_type": "code",
   "execution_count": 46,
   "metadata": {
    "scrolled": true
   },
   "outputs": [
    {
     "data": {
      "text/html": [
       "<div>\n",
       "<style scoped>\n",
       "    .dataframe tbody tr th:only-of-type {\n",
       "        vertical-align: middle;\n",
       "    }\n",
       "\n",
       "    .dataframe tbody tr th {\n",
       "        vertical-align: top;\n",
       "    }\n",
       "\n",
       "    .dataframe thead th {\n",
       "        text-align: right;\n",
       "    }\n",
       "</style>\n",
       "<table border=\"1\" class=\"dataframe\">\n",
       "  <thead>\n",
       "    <tr style=\"text-align: right;\">\n",
       "      <th></th>\n",
       "      <th>street</th>\n",
       "      <th>district</th>\n",
       "      <th>objects</th>\n",
       "    </tr>\n",
       "  </thead>\n",
       "  <tbody>\n",
       "    <tr>\n",
       "      <td>0</td>\n",
       "      <td>варшавское шоссе</td>\n",
       "      <td>Донской район</td>\n",
       "      <td>34</td>\n",
       "    </tr>\n",
       "    <tr>\n",
       "      <td>1</td>\n",
       "      <td>варшавское шоссе</td>\n",
       "      <td>Нагорный район</td>\n",
       "      <td>16</td>\n",
       "    </tr>\n",
       "    <tr>\n",
       "      <td>2</td>\n",
       "      <td>варшавское шоссе</td>\n",
       "      <td>исторический район Волхонка-ЗИЛ</td>\n",
       "      <td>26</td>\n",
       "    </tr>\n",
       "    <tr>\n",
       "      <td>3</td>\n",
       "      <td>варшавское шоссе</td>\n",
       "      <td>район Нагатино-Садовники</td>\n",
       "      <td>8</td>\n",
       "    </tr>\n",
       "    <tr>\n",
       "      <td>4</td>\n",
       "      <td>варшавское шоссе</td>\n",
       "      <td>район Чертаново Северное</td>\n",
       "      <td>23</td>\n",
       "    </tr>\n",
       "    <tr>\n",
       "      <td>5</td>\n",
       "      <td>варшавское шоссе</td>\n",
       "      <td>район Чертаново Центральное</td>\n",
       "      <td>13</td>\n",
       "    </tr>\n",
       "    <tr>\n",
       "      <td>6</td>\n",
       "      <td>варшавское шоссе</td>\n",
       "      <td>район Чертаново Южное</td>\n",
       "      <td>39</td>\n",
       "    </tr>\n",
       "    <tr>\n",
       "      <td>7</td>\n",
       "      <td>варшавское шоссе</td>\n",
       "      <td>район Южное Бутово</td>\n",
       "      <td>2</td>\n",
       "    </tr>\n",
       "    <tr>\n",
       "      <td>8</td>\n",
       "      <td>каширское шоссе</td>\n",
       "      <td>район Москворечье-Сабурово</td>\n",
       "      <td>43</td>\n",
       "    </tr>\n",
       "    <tr>\n",
       "      <td>9</td>\n",
       "      <td>каширское шоссе</td>\n",
       "      <td>район Нагатино-Садовники</td>\n",
       "      <td>48</td>\n",
       "    </tr>\n",
       "    <tr>\n",
       "      <td>10</td>\n",
       "      <td>каширское шоссе</td>\n",
       "      <td>район Орехово-Борисово Северное</td>\n",
       "      <td>14</td>\n",
       "    </tr>\n",
       "    <tr>\n",
       "      <td>11</td>\n",
       "      <td>каширское шоссе</td>\n",
       "      <td>район Орехово-Борисово Южное</td>\n",
       "      <td>6</td>\n",
       "    </tr>\n",
       "    <tr>\n",
       "      <td>12</td>\n",
       "      <td>кировоградская улица</td>\n",
       "      <td>район Чертаново Северное</td>\n",
       "      <td>21</td>\n",
       "    </tr>\n",
       "    <tr>\n",
       "      <td>13</td>\n",
       "      <td>кировоградская улица</td>\n",
       "      <td>район Чертаново Центральное</td>\n",
       "      <td>77</td>\n",
       "    </tr>\n",
       "    <tr>\n",
       "      <td>14</td>\n",
       "      <td>кировоградская улица</td>\n",
       "      <td>район Чертаново Южное</td>\n",
       "      <td>10</td>\n",
       "    </tr>\n",
       "    <tr>\n",
       "      <td>15</td>\n",
       "      <td>кутузовский проспект</td>\n",
       "      <td>район Дорогомилово</td>\n",
       "      <td>61</td>\n",
       "    </tr>\n",
       "    <tr>\n",
       "      <td>16</td>\n",
       "      <td>кутузовский проспект</td>\n",
       "      <td>район Фили-Давыдково</td>\n",
       "      <td>53</td>\n",
       "    </tr>\n",
       "    <tr>\n",
       "      <td>17</td>\n",
       "      <td>ленинградский проспект</td>\n",
       "      <td>Хорошёвский район</td>\n",
       "      <td>31</td>\n",
       "    </tr>\n",
       "    <tr>\n",
       "      <td>18</td>\n",
       "      <td>ленинградский проспект</td>\n",
       "      <td>район Аэропорт</td>\n",
       "      <td>64</td>\n",
       "    </tr>\n",
       "    <tr>\n",
       "      <td>19</td>\n",
       "      <td>ленинградский проспект</td>\n",
       "      <td>район Беговой</td>\n",
       "      <td>51</td>\n",
       "    </tr>\n",
       "    <tr>\n",
       "      <td>20</td>\n",
       "      <td>ленинградский проспект</td>\n",
       "      <td>район Сокол</td>\n",
       "      <td>24</td>\n",
       "    </tr>\n",
       "    <tr>\n",
       "      <td>21</td>\n",
       "      <td>ленинский проспект</td>\n",
       "      <td>Гагаринский район</td>\n",
       "      <td>39</td>\n",
       "    </tr>\n",
       "    <tr>\n",
       "      <td>22</td>\n",
       "      <td>ленинский проспект</td>\n",
       "      <td>Донской район</td>\n",
       "      <td>14</td>\n",
       "    </tr>\n",
       "    <tr>\n",
       "      <td>23</td>\n",
       "      <td>ленинский проспект</td>\n",
       "      <td>Ломоносовский район</td>\n",
       "      <td>12</td>\n",
       "    </tr>\n",
       "    <tr>\n",
       "      <td>24</td>\n",
       "      <td>ленинский проспект</td>\n",
       "      <td>Обручевский район</td>\n",
       "      <td>30</td>\n",
       "    </tr>\n",
       "    <tr>\n",
       "      <td>25</td>\n",
       "      <td>ленинский проспект</td>\n",
       "      <td>район Коньково</td>\n",
       "      <td>2</td>\n",
       "    </tr>\n",
       "    <tr>\n",
       "      <td>26</td>\n",
       "      <td>ленинский проспект</td>\n",
       "      <td>район Проспект Вернадского</td>\n",
       "      <td>2</td>\n",
       "    </tr>\n",
       "    <tr>\n",
       "      <td>27</td>\n",
       "      <td>ленинский проспект</td>\n",
       "      <td>район Тропарёво-Никулино</td>\n",
       "      <td>20</td>\n",
       "    </tr>\n",
       "    <tr>\n",
       "      <td>28</td>\n",
       "      <td>ленинский проспект</td>\n",
       "      <td>район Тёплый Стан</td>\n",
       "      <td>3</td>\n",
       "    </tr>\n",
       "    <tr>\n",
       "      <td>29</td>\n",
       "      <td>ленинский проспект</td>\n",
       "      <td>район Якиманка</td>\n",
       "      <td>25</td>\n",
       "    </tr>\n",
       "    <tr>\n",
       "      <td>30</td>\n",
       "      <td>пресненская набережная</td>\n",
       "      <td>Пресненский район</td>\n",
       "      <td>167</td>\n",
       "    </tr>\n",
       "    <tr>\n",
       "      <td>31</td>\n",
       "      <td>проспект вернадского</td>\n",
       "      <td>Гагаринский район</td>\n",
       "      <td>1</td>\n",
       "    </tr>\n",
       "    <tr>\n",
       "      <td>32</td>\n",
       "      <td>проспект вернадского</td>\n",
       "      <td>Ломоносовский район</td>\n",
       "      <td>14</td>\n",
       "    </tr>\n",
       "    <tr>\n",
       "      <td>33</td>\n",
       "      <td>проспект вернадского</td>\n",
       "      <td>район Проспект Вернадского</td>\n",
       "      <td>16</td>\n",
       "    </tr>\n",
       "    <tr>\n",
       "      <td>34</td>\n",
       "      <td>проспект вернадского</td>\n",
       "      <td>район Раменки</td>\n",
       "      <td>33</td>\n",
       "    </tr>\n",
       "    <tr>\n",
       "      <td>35</td>\n",
       "      <td>проспект вернадского</td>\n",
       "      <td>район Тропарёво-Никулино</td>\n",
       "      <td>64</td>\n",
       "    </tr>\n",
       "    <tr>\n",
       "      <td>36</td>\n",
       "      <td>проспект мира</td>\n",
       "      <td>Алексеевский район</td>\n",
       "      <td>50</td>\n",
       "    </tr>\n",
       "    <tr>\n",
       "      <td>37</td>\n",
       "      <td>проспект мира</td>\n",
       "      <td>Мещанский район</td>\n",
       "      <td>63</td>\n",
       "    </tr>\n",
       "    <tr>\n",
       "      <td>38</td>\n",
       "      <td>проспект мира</td>\n",
       "      <td>Останкинский район</td>\n",
       "      <td>20</td>\n",
       "    </tr>\n",
       "    <tr>\n",
       "      <td>39</td>\n",
       "      <td>проспект мира</td>\n",
       "      <td>Ярославский район</td>\n",
       "      <td>1</td>\n",
       "    </tr>\n",
       "    <tr>\n",
       "      <td>40</td>\n",
       "      <td>проспект мира</td>\n",
       "      <td>район Ростокино</td>\n",
       "      <td>7</td>\n",
       "    </tr>\n",
       "    <tr>\n",
       "      <td>41</td>\n",
       "      <td>проспект мира</td>\n",
       "      <td>район Свиблово</td>\n",
       "      <td>62</td>\n",
       "    </tr>\n",
       "    <tr>\n",
       "      <td>42</td>\n",
       "      <td>профсоюзная улица</td>\n",
       "      <td>Академический район</td>\n",
       "      <td>25</td>\n",
       "    </tr>\n",
       "    <tr>\n",
       "      <td>43</td>\n",
       "      <td>профсоюзная улица</td>\n",
       "      <td>Обручевский район</td>\n",
       "      <td>32</td>\n",
       "    </tr>\n",
       "    <tr>\n",
       "      <td>44</td>\n",
       "      <td>профсоюзная улица</td>\n",
       "      <td>район Коньково</td>\n",
       "      <td>34</td>\n",
       "    </tr>\n",
       "    <tr>\n",
       "      <td>45</td>\n",
       "      <td>профсоюзная улица</td>\n",
       "      <td>район Тёплый Стан</td>\n",
       "      <td>40</td>\n",
       "    </tr>\n",
       "    <tr>\n",
       "      <td>46</td>\n",
       "      <td>профсоюзная улица</td>\n",
       "      <td>район Черёмушки</td>\n",
       "      <td>36</td>\n",
       "    </tr>\n",
       "    <tr>\n",
       "      <td>47</td>\n",
       "      <td>профсоюзная улица</td>\n",
       "      <td>район Ясенево</td>\n",
       "      <td>14</td>\n",
       "    </tr>\n",
       "    <tr>\n",
       "      <td>48</td>\n",
       "      <td>ходынский бульвар</td>\n",
       "      <td>Хорошёвский район</td>\n",
       "      <td>102</td>\n",
       "    </tr>\n",
       "  </tbody>\n",
       "</table>\n",
       "</div>"
      ],
      "text/plain": [
       "                     street                         district  objects\n",
       "0          варшавское шоссе                    Донской район       34\n",
       "1          варшавское шоссе                   Нагорный район       16\n",
       "2          варшавское шоссе  исторический район Волхонка-ЗИЛ       26\n",
       "3          варшавское шоссе         район Нагатино-Садовники        8\n",
       "4          варшавское шоссе         район Чертаново Северное       23\n",
       "5          варшавское шоссе      район Чертаново Центральное       13\n",
       "6          варшавское шоссе            район Чертаново Южное       39\n",
       "7          варшавское шоссе               район Южное Бутово        2\n",
       "8           каширское шоссе       район Москворечье-Сабурово       43\n",
       "9           каширское шоссе         район Нагатино-Садовники       48\n",
       "10          каширское шоссе  район Орехово-Борисово Северное       14\n",
       "11          каширское шоссе     район Орехово-Борисово Южное        6\n",
       "12     кировоградская улица         район Чертаново Северное       21\n",
       "13     кировоградская улица      район Чертаново Центральное       77\n",
       "14     кировоградская улица            район Чертаново Южное       10\n",
       "15     кутузовский проспект               район Дорогомилово       61\n",
       "16     кутузовский проспект             район Фили-Давыдково       53\n",
       "17   ленинградский проспект                Хорошёвский район       31\n",
       "18   ленинградский проспект                   район Аэропорт       64\n",
       "19   ленинградский проспект                    район Беговой       51\n",
       "20   ленинградский проспект                      район Сокол       24\n",
       "21       ленинский проспект                Гагаринский район       39\n",
       "22       ленинский проспект                    Донской район       14\n",
       "23       ленинский проспект              Ломоносовский район       12\n",
       "24       ленинский проспект                Обручевский район       30\n",
       "25       ленинский проспект                   район Коньково        2\n",
       "26       ленинский проспект       район Проспект Вернадского        2\n",
       "27       ленинский проспект         район Тропарёво-Никулино       20\n",
       "28       ленинский проспект                район Тёплый Стан        3\n",
       "29       ленинский проспект                   район Якиманка       25\n",
       "30   пресненская набережная                Пресненский район      167\n",
       "31     проспект вернадского                Гагаринский район        1\n",
       "32     проспект вернадского              Ломоносовский район       14\n",
       "33     проспект вернадского       район Проспект Вернадского       16\n",
       "34     проспект вернадского                    район Раменки       33\n",
       "35     проспект вернадского         район Тропарёво-Никулино       64\n",
       "36            проспект мира               Алексеевский район       50\n",
       "37            проспект мира                  Мещанский район       63\n",
       "38            проспект мира               Останкинский район       20\n",
       "39            проспект мира                Ярославский район        1\n",
       "40            проспект мира                  район Ростокино        7\n",
       "41            проспект мира                   район Свиблово       62\n",
       "42        профсоюзная улица              Академический район       25\n",
       "43        профсоюзная улица                Обручевский район       32\n",
       "44        профсоюзная улица                   район Коньково       34\n",
       "45        профсоюзная улица                район Тёплый Стан       40\n",
       "46        профсоюзная улица                  район Черёмушки       36\n",
       "47        профсоюзная улица                    район Ясенево       14\n",
       "48        ходынский бульвар                Хорошёвский район      102"
      ]
     },
     "execution_count": 46,
     "metadata": {},
     "output_type": "execute_result"
    }
   ],
   "source": [
    "df_objects_by_districts_and_streets "
   ]
  },
  {
   "cell_type": "code",
   "execution_count": 47,
   "metadata": {
    "scrolled": true
   },
   "outputs": [],
   "source": [
    "df_objects_by_districts  = (\n",
    "    df_filtered.groupby(['district'])\n",
    "    .agg(objects=('id', 'count'))\n",
    "    .sort_values(by='objects', ascending=False)\n",
    "    .reset_index()\n",
    ")"
   ]
  },
  {
   "cell_type": "code",
   "execution_count": 48,
   "metadata": {
    "scrolled": true
   },
   "outputs": [
    {
     "data": {
      "text/html": [
       "<div>\n",
       "<style scoped>\n",
       "    .dataframe tbody tr th:only-of-type {\n",
       "        vertical-align: middle;\n",
       "    }\n",
       "\n",
       "    .dataframe tbody tr th {\n",
       "        vertical-align: top;\n",
       "    }\n",
       "\n",
       "    .dataframe thead th {\n",
       "        text-align: right;\n",
       "    }\n",
       "</style>\n",
       "<table border=\"1\" class=\"dataframe\">\n",
       "  <thead>\n",
       "    <tr style=\"text-align: right;\">\n",
       "      <th></th>\n",
       "      <th>district</th>\n",
       "      <th>objects</th>\n",
       "    </tr>\n",
       "  </thead>\n",
       "  <tbody>\n",
       "    <tr>\n",
       "      <td>0</td>\n",
       "      <td>Пресненский район</td>\n",
       "      <td>167</td>\n",
       "    </tr>\n",
       "    <tr>\n",
       "      <td>1</td>\n",
       "      <td>Хорошёвский район</td>\n",
       "      <td>133</td>\n",
       "    </tr>\n",
       "    <tr>\n",
       "      <td>2</td>\n",
       "      <td>район Чертаново Центральное</td>\n",
       "      <td>90</td>\n",
       "    </tr>\n",
       "    <tr>\n",
       "      <td>3</td>\n",
       "      <td>район Тропарёво-Никулино</td>\n",
       "      <td>84</td>\n",
       "    </tr>\n",
       "    <tr>\n",
       "      <td>4</td>\n",
       "      <td>район Аэропорт</td>\n",
       "      <td>64</td>\n",
       "    </tr>\n",
       "    <tr>\n",
       "      <td>5</td>\n",
       "      <td>Мещанский район</td>\n",
       "      <td>63</td>\n",
       "    </tr>\n",
       "    <tr>\n",
       "      <td>6</td>\n",
       "      <td>район Свиблово</td>\n",
       "      <td>62</td>\n",
       "    </tr>\n",
       "    <tr>\n",
       "      <td>7</td>\n",
       "      <td>Обручевский район</td>\n",
       "      <td>62</td>\n",
       "    </tr>\n",
       "    <tr>\n",
       "      <td>8</td>\n",
       "      <td>район Дорогомилово</td>\n",
       "      <td>61</td>\n",
       "    </tr>\n",
       "    <tr>\n",
       "      <td>9</td>\n",
       "      <td>район Нагатино-Садовники</td>\n",
       "      <td>56</td>\n",
       "    </tr>\n",
       "    <tr>\n",
       "      <td>10</td>\n",
       "      <td>район Фили-Давыдково</td>\n",
       "      <td>53</td>\n",
       "    </tr>\n",
       "    <tr>\n",
       "      <td>11</td>\n",
       "      <td>район Беговой</td>\n",
       "      <td>51</td>\n",
       "    </tr>\n",
       "    <tr>\n",
       "      <td>12</td>\n",
       "      <td>Алексеевский район</td>\n",
       "      <td>50</td>\n",
       "    </tr>\n",
       "    <tr>\n",
       "      <td>13</td>\n",
       "      <td>район Чертаново Южное</td>\n",
       "      <td>49</td>\n",
       "    </tr>\n",
       "    <tr>\n",
       "      <td>14</td>\n",
       "      <td>Донской район</td>\n",
       "      <td>48</td>\n",
       "    </tr>\n",
       "    <tr>\n",
       "      <td>15</td>\n",
       "      <td>район Чертаново Северное</td>\n",
       "      <td>44</td>\n",
       "    </tr>\n",
       "    <tr>\n",
       "      <td>16</td>\n",
       "      <td>район Москворечье-Сабурово</td>\n",
       "      <td>43</td>\n",
       "    </tr>\n",
       "    <tr>\n",
       "      <td>17</td>\n",
       "      <td>район Тёплый Стан</td>\n",
       "      <td>43</td>\n",
       "    </tr>\n",
       "    <tr>\n",
       "      <td>18</td>\n",
       "      <td>Гагаринский район</td>\n",
       "      <td>40</td>\n",
       "    </tr>\n",
       "    <tr>\n",
       "      <td>19</td>\n",
       "      <td>район Черёмушки</td>\n",
       "      <td>36</td>\n",
       "    </tr>\n",
       "    <tr>\n",
       "      <td>20</td>\n",
       "      <td>район Коньково</td>\n",
       "      <td>36</td>\n",
       "    </tr>\n",
       "    <tr>\n",
       "      <td>21</td>\n",
       "      <td>район Раменки</td>\n",
       "      <td>33</td>\n",
       "    </tr>\n",
       "    <tr>\n",
       "      <td>22</td>\n",
       "      <td>Ломоносовский район</td>\n",
       "      <td>26</td>\n",
       "    </tr>\n",
       "    <tr>\n",
       "      <td>23</td>\n",
       "      <td>исторический район Волхонка-ЗИЛ</td>\n",
       "      <td>26</td>\n",
       "    </tr>\n",
       "    <tr>\n",
       "      <td>24</td>\n",
       "      <td>район Якиманка</td>\n",
       "      <td>25</td>\n",
       "    </tr>\n",
       "    <tr>\n",
       "      <td>25</td>\n",
       "      <td>Академический район</td>\n",
       "      <td>25</td>\n",
       "    </tr>\n",
       "    <tr>\n",
       "      <td>26</td>\n",
       "      <td>район Сокол</td>\n",
       "      <td>24</td>\n",
       "    </tr>\n",
       "    <tr>\n",
       "      <td>27</td>\n",
       "      <td>Останкинский район</td>\n",
       "      <td>20</td>\n",
       "    </tr>\n",
       "    <tr>\n",
       "      <td>28</td>\n",
       "      <td>район Проспект Вернадского</td>\n",
       "      <td>18</td>\n",
       "    </tr>\n",
       "    <tr>\n",
       "      <td>29</td>\n",
       "      <td>Нагорный район</td>\n",
       "      <td>16</td>\n",
       "    </tr>\n",
       "    <tr>\n",
       "      <td>30</td>\n",
       "      <td>район Орехово-Борисово Северное</td>\n",
       "      <td>14</td>\n",
       "    </tr>\n",
       "    <tr>\n",
       "      <td>31</td>\n",
       "      <td>район Ясенево</td>\n",
       "      <td>14</td>\n",
       "    </tr>\n",
       "    <tr>\n",
       "      <td>32</td>\n",
       "      <td>район Ростокино</td>\n",
       "      <td>7</td>\n",
       "    </tr>\n",
       "    <tr>\n",
       "      <td>33</td>\n",
       "      <td>район Орехово-Борисово Южное</td>\n",
       "      <td>6</td>\n",
       "    </tr>\n",
       "    <tr>\n",
       "      <td>34</td>\n",
       "      <td>район Южное Бутово</td>\n",
       "      <td>2</td>\n",
       "    </tr>\n",
       "    <tr>\n",
       "      <td>35</td>\n",
       "      <td>Ярославский район</td>\n",
       "      <td>1</td>\n",
       "    </tr>\n",
       "  </tbody>\n",
       "</table>\n",
       "</div>"
      ],
      "text/plain": [
       "                           district  objects\n",
       "0                 Пресненский район      167\n",
       "1                 Хорошёвский район      133\n",
       "2       район Чертаново Центральное       90\n",
       "3          район Тропарёво-Никулино       84\n",
       "4                    район Аэропорт       64\n",
       "5                   Мещанский район       63\n",
       "6                    район Свиблово       62\n",
       "7                 Обручевский район       62\n",
       "8                район Дорогомилово       61\n",
       "9          район Нагатино-Садовники       56\n",
       "10             район Фили-Давыдково       53\n",
       "11                    район Беговой       51\n",
       "12               Алексеевский район       50\n",
       "13            район Чертаново Южное       49\n",
       "14                    Донской район       48\n",
       "15         район Чертаново Северное       44\n",
       "16       район Москворечье-Сабурово       43\n",
       "17                район Тёплый Стан       43\n",
       "18                Гагаринский район       40\n",
       "19                  район Черёмушки       36\n",
       "20                   район Коньково       36\n",
       "21                    район Раменки       33\n",
       "22              Ломоносовский район       26\n",
       "23  исторический район Волхонка-ЗИЛ       26\n",
       "24                   район Якиманка       25\n",
       "25              Академический район       25\n",
       "26                      район Сокол       24\n",
       "27               Останкинский район       20\n",
       "28       район Проспект Вернадского       18\n",
       "29                   Нагорный район       16\n",
       "30  район Орехово-Борисово Северное       14\n",
       "31                    район Ясенево       14\n",
       "32                  район Ростокино        7\n",
       "33     район Орехово-Борисово Южное        6\n",
       "34               район Южное Бутово        2\n",
       "35                Ярославский район        1"
      ]
     },
     "execution_count": 48,
     "metadata": {},
     "output_type": "execute_result"
    }
   ],
   "source": [
    "df_objects_by_districts "
   ]
  },
  {
   "cell_type": "markdown",
   "metadata": {},
   "source": [
    "И строим график количества объектов по районам"
   ]
  },
  {
   "cell_type": "code",
   "execution_count": 49,
   "metadata": {},
   "outputs": [
    {
     "data": {
      "image/png": "[encoded data removed]",
      "text/plain": [
       "<Figure size 720x504 with 1 Axes>"
      ]
     },
     "metadata": {},
     "output_type": "display_data"
    }
   ],
   "source": [
    "sns.barplot(y='district', x='objects', data=df_objects_by_districts)\n",
    "titles = {'xlabel':'Количество заведений', \n",
    "          'ylabel':'Район', \n",
    "          'title': 'Количество объектов в районе'}\n",
    "get_labels_and_axes(titles)\n",
    "plt.show()"
   ]
  },
  {
   "cell_type": "markdown",
   "metadata": {},
   "source": [
    "**Вывод**\n",
    "\n",
    "Видим, что больше всего заведений у нас в Пресненском районе. Что не удивительно, ведь в нём расположены Москва-Сити и Экспоцентр(популярные места для туристов, к тому же большое количество офисных работников, которые ходят на обед). \n",
    "Следом с заметным отрывом идут Хороёвский район, Чертаново Центральное и Тропарёво-Никулино. В дальнейшем ситуация сглаживается и уже более плавно идёт на уменьшение по количеству объектов общественного питания"
   ]
  },
  {
   "cell_type": "markdown",
   "metadata": {},
   "source": [
    "#### Теперь зайдём с другой стороны и посмотрим сколько улиц с единственным объектом общественного питания и где они находятся"
   ]
  },
  {
   "cell_type": "markdown",
   "metadata": {},
   "source": [
    "По аналогии с предыдущим запросов, создадим датафрейм с уникальными адресами"
   ]
  },
  {
   "cell_type": "code",
   "execution_count": 50,
   "metadata": {},
   "outputs": [],
   "source": [
    "df_streets_with_one_object = (\n",
    "    df.groupby(['street'])\n",
    "    .agg(amount = ('id','count'))\n",
    "    .sort_values(by = 'amount', ascending = False)\n",
    "    .reset_index()\n",
    "    .loc[lambda x: x['amount'] == 1]\n",
    "    .sort_values(by = 'street')\n",
    ")"
   ]
  },
  {
   "cell_type": "code",
   "execution_count": 51,
   "metadata": {},
   "outputs": [
    {
     "data": {
      "text/html": [
       "<div>\n",
       "<style scoped>\n",
       "    .dataframe tbody tr th:only-of-type {\n",
       "        vertical-align: middle;\n",
       "    }\n",
       "\n",
       "    .dataframe tbody tr th {\n",
       "        vertical-align: top;\n",
       "    }\n",
       "\n",
       "    .dataframe thead th {\n",
       "        text-align: right;\n",
       "    }\n",
       "</style>\n",
       "<table border=\"1\" class=\"dataframe\">\n",
       "  <thead>\n",
       "    <tr style=\"text-align: right;\">\n",
       "      <th></th>\n",
       "      <th>street</th>\n",
       "      <th>amount</th>\n",
       "    </tr>\n",
       "  </thead>\n",
       "  <tbody>\n",
       "    <tr>\n",
       "      <td>1593</td>\n",
       "      <td>1-й балтийский переулок</td>\n",
       "      <td>1</td>\n",
       "    </tr>\n",
       "    <tr>\n",
       "      <td>1592</td>\n",
       "      <td>1-й басманный переулок</td>\n",
       "      <td>1</td>\n",
       "    </tr>\n",
       "    <tr>\n",
       "      <td>1590</td>\n",
       "      <td>1-й ботанический проезд</td>\n",
       "      <td>1</td>\n",
       "    </tr>\n",
       "    <tr>\n",
       "      <td>1586</td>\n",
       "      <td>1-й вешняковский проезд</td>\n",
       "      <td>1</td>\n",
       "    </tr>\n",
       "    <tr>\n",
       "      <td>1596</td>\n",
       "      <td>1-й голутвинский переулок</td>\n",
       "      <td>1</td>\n",
       "    </tr>\n",
       "    <tr>\n",
       "      <td>...</td>\n",
       "      <td>...</td>\n",
       "      <td>...</td>\n",
       "    </tr>\n",
       "    <tr>\n",
       "      <td>1585</td>\n",
       "      <td>ялтинская улица</td>\n",
       "      <td>1</td>\n",
       "    </tr>\n",
       "    <tr>\n",
       "      <td>1577</td>\n",
       "      <td>янтарный проезд</td>\n",
       "      <td>1</td>\n",
       "    </tr>\n",
       "    <tr>\n",
       "      <td>1591</td>\n",
       "      <td>ясногорская улица</td>\n",
       "      <td>1</td>\n",
       "    </tr>\n",
       "    <tr>\n",
       "      <td>1594</td>\n",
       "      <td>яузский бульвар</td>\n",
       "      <td>1</td>\n",
       "    </tr>\n",
       "    <tr>\n",
       "      <td>1595</td>\n",
       "      <td>яхромская улица</td>\n",
       "      <td>1</td>\n",
       "    </tr>\n",
       "  </tbody>\n",
       "</table>\n",
       "<p>629 rows × 2 columns</p>\n",
       "</div>"
      ],
      "text/plain": [
       "                          street  amount\n",
       "1593     1-й балтийский переулок       1\n",
       "1592      1-й басманный переулок       1\n",
       "1590     1-й ботанический проезд       1\n",
       "1586     1-й вешняковский проезд       1\n",
       "1596   1-й голутвинский переулок       1\n",
       "...                          ...     ...\n",
       "1585             ялтинская улица       1\n",
       "1577             янтарный проезд       1\n",
       "1591           ясногорская улица       1\n",
       "1594             яузский бульвар       1\n",
       "1595             яхромская улица       1\n",
       "\n",
       "[629 rows x 2 columns]"
      ]
     },
     "execution_count": 51,
     "metadata": {},
     "output_type": "execute_result"
    }
   ],
   "source": [
    "df_streets_with_one_object"
   ]
  },
  {
   "cell_type": "markdown",
   "metadata": {},
   "source": [
    "Наблюдаем целых 629 улиц. И все они с одним единственным объектом общественного питания"
   ]
  },
  {
   "cell_type": "markdown",
   "metadata": {},
   "source": [
    "Теперь создадим список с этими улицами и отфильтруем по ним наш общий датафрейм. Это необходимо для того, чтобы заняться поиском координат по полному адресу(т.к. одна улица может находиться в двух или более районах)."
   ]
  },
  {
   "cell_type": "code",
   "execution_count": 52,
   "metadata": {},
   "outputs": [],
   "source": [
    "df_streets_with_one_object_list = (\n",
    "    df_streets_with_one_object['street'].to_list()\n",
    ")"
   ]
  },
  {
   "cell_type": "code",
   "execution_count": 53,
   "metadata": {},
   "outputs": [
    {
     "data": {
      "text/plain": [
       "[' 1-й балтийский переулок',\n",
       " ' 1-й басманный переулок',\n",
       " ' 1-й ботанический проезд',\n",
       " ' 1-й вешняковский проезд',\n",
       " ' 1-й голутвинский переулок',\n",
       " ' 1-й заречный переулок',\n",
       " ' 1-й зачатьевский переулок',\n",
       " ' 1-й кирпичный переулок',\n",
       " ' 1-й кожевнический переулок',\n",
       " ' 1-й кожуховский проезд',\n",
       " ' 1-й коптельский переулок',\n",
       " ' 1-й котельнический переулок',\n",
       " ' 1-й краснокурсантский проезд',\n",
       " ' 1-й курьяновский проезд',\n",
       " ' 1-й лучевой просек',\n",
       " ' 1-й люсиновский переулок',\n",
       " ' 1-й магистральный тупик',\n",
       " ' 1-й монетчиковский переулок',\n",
       " ' 1-й николощеповский переулок',\n",
       " ' 1-й новокузнецкий переулок',\n",
       " ' 1-й обыденский переулок',\n",
       " ' 1-й проезд марьиной рощи',\n",
       " ' 1-й рижский переулок',\n",
       " ' 1-й саратовский проезд',\n",
       " ' 1-й сельскохозяйственный проезд',\n",
       " ' 1-й сетуньский проезд',\n",
       " ' 1-й силикатный проезд',\n",
       " ' 1-й спасоналивковский переулок',\n",
       " ' 1-й тушинский проезд',\n",
       " ' 1-я аэропортовская улица',\n",
       " ' 1-я боевская улица',\n",
       " ' 1-я ватутинская улица',\n",
       " ' 1-я гражданская улица',\n",
       " ' 1-я карачаровская улица',\n",
       " ' 1-я линия хорошёвского серебряного бора',\n",
       " ' 1-я миусская улица',\n",
       " ' 1-я напрудная улица',\n",
       " ' 1-я пугачёвская улица',\n",
       " ' 1-я чоботовская аллея',\n",
       " ' 104-й километр московской кольцевой автодороги',\n",
       " ' 11-я парковая улица',\n",
       " ' 12-й проезд марьиной рощи',\n",
       " ' 14-я парковая улица',\n",
       " ' 17-й проезд марьиной рощи',\n",
       " ' 2-й балтийский переулок',\n",
       " ' 2-й боткинский проезд',\n",
       " ' 2-й верхний михайловский проезд',\n",
       " ' 2-й вышеславцев переулок',\n",
       " ' 2-й иртышский проезд',\n",
       " ' 2-й кабельный проезд',\n",
       " ' 2-й кадашёвский переулок',\n",
       " ' 2-й колобовский переулок',\n",
       " ' 2-й красносельский переулок',\n",
       " ' 2-й курьяновский проезд',\n",
       " ' 2-й лучевой просек',\n",
       " ' 2-й магистральный тупик',\n",
       " ' 2-й неопалимовский переулок',\n",
       " ' 2-й новокузнецкий переулок',\n",
       " ' 2-й новоподмосковный переулок',\n",
       " ' 2-й обыденский переулок',\n",
       " ' 2-й полевой переулок',\n",
       " ' 2-й рощинский проезд',\n",
       " ' 2-й сельскохозяйственный проезд',\n",
       " ' 2-й сетуньский проезд',\n",
       " ' 2-й стрелецкий проезд',\n",
       " ' 2-й хуторской переулок',\n",
       " ' 2-й щемиловский переулок',\n",
       " ' 2-я барышевская улица',\n",
       " ' 2-я гражданская улица',\n",
       " ' 2-я дубровская улица',\n",
       " ' 2-я квесисская улица',\n",
       " ' 2-я напрудная улица',\n",
       " ' 2-я прядильная улица',\n",
       " ' 2-я сокольническая улица',\n",
       " ' 2-я улица бухвостова',\n",
       " ' 2-я улица марьиной рощи',\n",
       " ' 2-я улица энтузиастов',\n",
       " ' 2-я филёвская улица',\n",
       " ' 2-я ямская улица',\n",
       " ' 26-й километр московской кольцевой автодороги',\n",
       " ' 3-й дорожный проезд',\n",
       " ' 3-й кадашёвский переулок',\n",
       " ' 3-й кожуховский проезд',\n",
       " ' 3-й лихачёвский переулок',\n",
       " ' 3-й лучевой просек',\n",
       " ' 3-й павловский переулок',\n",
       " ' 3-й проезд подбельского',\n",
       " ' 3-й стрелецкий проезд',\n",
       " ' 3-й угрешский проезд',\n",
       " ' 3-я железногорская улица',\n",
       " ' 3-я новоостанкинская улица',\n",
       " ' 3-я песчаная улица',\n",
       " ' 3-я подрезковская улица',\n",
       " ' 3-я северная линия',\n",
       " ' 3-я черепковская улица',\n",
       " ' 30-й километр московской кольцевой автодороги',\n",
       " ' 31-й километр московской кольцевой автодороги',\n",
       " ' 34-й километр московской кольцевой автодороги',\n",
       " ' 38-й километр московской кольцевой автодороги',\n",
       " ' 39-й километр калужского шоссе',\n",
       " ' 4-й вешняковский проезд',\n",
       " ' 4-й вятский переулок',\n",
       " ' 4-й кожевнический переулок',\n",
       " ' 4-й рощинский проезд',\n",
       " ' 4-я гражданская улица',\n",
       " ' 4-я кабельная улица',\n",
       " ' 42-й километр московской кольцевой автодороги',\n",
       " ' 43-й километр мкад',\n",
       " ' 5-й котельнический переулок',\n",
       " ' 5-й монетчиковский переулок',\n",
       " ' 5-й проезд марьиной рощи',\n",
       " ' 5-й проезд подбельского',\n",
       " ' 5-й рощинский проезд',\n",
       " ' 56-й километр московской кольцевой автодороги',\n",
       " ' 6-й лучевой просек',\n",
       " ' 6-я кожуховская улица',\n",
       " ' 6-я улица лазенки',\n",
       " ' 6-я улица новые сады',\n",
       " ' 65-й километр московской кольцевой автодороги',\n",
       " ' 67-й километр московской кольцевой автодороги',\n",
       " ' 7-й ростовский переулок',\n",
       " ' 7-я северная линия',\n",
       " ' 7-я улица лазенки',\n",
       " ' 78-й километр московской кольцевой автодороги',\n",
       " ' 8-й проезд марьиной рощи',\n",
       " ' 8-я улица соколиной горы',\n",
       " ' 80-й километр московской кольцевой автодороги',\n",
       " ' авиационный переулок',\n",
       " ' автомобильный проезд',\n",
       " ' алымов переулок',\n",
       " ' андреево-забелинская улица',\n",
       " ' андроньевская площадь',\n",
       " ' анненская улица',\n",
       " ' анненский проезд',\n",
       " ' армавирская улица',\n",
       " ' армейская улица',\n",
       " ' архангельский переулок',\n",
       " ' астрадамский проезд',\n",
       " ' ащеулов переулок',\n",
       " ' аэрофлотская улица',\n",
       " ' бабаевская улица',\n",
       " ' базовая улица',\n",
       " ' балтийская улица',\n",
       " ' банный проезд',\n",
       " ' барабанный переулок',\n",
       " ' басовская улица',\n",
       " ' берниковская набережная',\n",
       " ' бескудниковский переулок',\n",
       " ' бескудниковский проезд',\n",
       " ' библиотечная улица',\n",
       " ' богоявленский переулок',\n",
       " ' больничный переулок',\n",
       " ' большая бутовская улица',\n",
       " ' большая внуковская улица',\n",
       " ' большая октябрьская улица',\n",
       " ' большая ширяевская улица',\n",
       " ' большая юшуньская улица',\n",
       " ' большой афанасьевский переулок',\n",
       " ' большой знаменский переулок',\n",
       " ' большой казённый переулок',\n",
       " ' большой кисельный переулок',\n",
       " ' большой николопесковский переулок',\n",
       " ' большой полуярославский переулок',\n",
       " ' большой предтеченский переулок',\n",
       " ' большой симоновский переулок',\n",
       " ' большой строченовский переулок',\n",
       " ' большой трёхсвятительский переулок',\n",
       " ' боровая улица',\n",
       " ' боровский проезд',\n",
       " ' ботанический переулок',\n",
       " ' бродников переулок',\n",
       " ' брошевский переулок',\n",
       " ' будайская улица',\n",
       " ' будайский проезд',\n",
       " ' бутиковский переулок',\n",
       " ' вагоноремонтная улица',\n",
       " ' варсонофьевский переулок',\n",
       " ' вблизи деревни безобразово',\n",
       " ' вблизи деревни крекшино',\n",
       " ' вблизи деревни троицкое',\n",
       " ' вблизи пос.курилово',\n",
       " ' вербная улица',\n",
       " ' верхний золоторожский переулок',\n",
       " ' верхняя улица',\n",
       " ' винницкая улица',\n",
       " ' владение 164',\n",
       " ' владение 2б',\n",
       " ' владение 32б',\n",
       " ' владение 99а',\n",
       " ' волоцкой переулок',\n",
       " ' воротниковский переулок',\n",
       " ' врачебный проезд',\n",
       " ' выползов переулок',\n",
       " ' высокая улица',\n",
       " ' вяземская улица',\n",
       " ' газгольдерная улица',\n",
       " ' гаражная улица',\n",
       " ' гвардейская улица',\n",
       " ' гжатская улица',\n",
       " ' гжельский переулок',\n",
       " ' глазовский переулок',\n",
       " ' глебовская улица',\n",
       " ' глинистый переулок',\n",
       " ' глинищевский переулок',\n",
       " ' гольяновская улица',\n",
       " ' гончарная набережная',\n",
       " ' госпитальный переулок',\n",
       " ' гранатный переулок',\n",
       " ' гродненская улица',\n",
       " ' дегтярный переулок',\n",
       " ' делегатская улица',\n",
       " ' денежный переулок',\n",
       " ' деревня бабенки',\n",
       " ' деревня бунчиха',\n",
       " ' деревня верхнее валуево',\n",
       " ' деревня внуково',\n",
       " ' деревня голохвастово',\n",
       " ' деревня десна',\n",
       " ' деревня картмазово',\n",
       " ' деревня колотилово',\n",
       " ' деревня крёкшино',\n",
       " ' деревня ликова',\n",
       " ' деревня мостовское',\n",
       " ' деревня николо-хованское',\n",
       " ' деревня поповка',\n",
       " ' деревня пыхтино',\n",
       " ' деревня рассудово',\n",
       " ' деревня сенькино-секерино',\n",
       " ' деревня столбово',\n",
       " ' деревня фоминское',\n",
       " ' деревня шаганино',\n",
       " ' деревня яковлевское',\n",
       " ' деревня ясенки',\n",
       " ' дивизионная улица',\n",
       " ' дмитровский переулок',\n",
       " ' докучаев переулок',\n",
       " ' дом 11',\n",
       " ' дом 118б',\n",
       " ' дом 18/20',\n",
       " ' дом 19/20',\n",
       " ' дом 1а',\n",
       " ' дом 2/34',\n",
       " ' дом 20',\n",
       " ' дом 20/1/27',\n",
       " ' дом 25',\n",
       " ' дом 26/1',\n",
       " ' дом 27б',\n",
       " ' дом 29/66',\n",
       " ' дом 37',\n",
       " ' дом 38/14/23',\n",
       " ' дом 39',\n",
       " ' дом 3а',\n",
       " ' дом 3б',\n",
       " ' дом 4',\n",
       " ' дом 46',\n",
       " ' дом 47',\n",
       " ' дом 5/14',\n",
       " ' дом 50',\n",
       " ' дом 52',\n",
       " ' дом 52а',\n",
       " ' дом 58',\n",
       " ' дом 58/23',\n",
       " ' дом 64',\n",
       " ' дом 67',\n",
       " ' дом 72/2',\n",
       " ' дом 80',\n",
       " ' дом 8а',\n",
       " ' дом 8а/5',\n",
       " ' дом 90',\n",
       " ' дом 98',\n",
       " ' дом 99',\n",
       " ' домовладение 11',\n",
       " ' егорьевский проезд',\n",
       " ' елоховский проезд',\n",
       " ' есенинский бульвар',\n",
       " ' живарев переулок',\n",
       " ' жигулёвская улица',\n",
       " ' жуков проезд',\n",
       " ' заводской проезд',\n",
       " ' зарайская улица',\n",
       " ' звонарский переулок',\n",
       " ' зубарев переулок',\n",
       " ' зюзинская улица',\n",
       " ' иваньковское шоссе',\n",
       " ' ижорский проезд',\n",
       " ' изваринская улица',\n",
       " ' известковый переулок',\n",
       " ' измайловская площадь',\n",
       " ' икшинская улица',\n",
       " ' институтский переулок',\n",
       " ' интернациональная улица',\n",
       " ' калибровская улица',\n",
       " ' калошин переулок',\n",
       " ' канатчиковский проезд',\n",
       " ' карельский бульвар',\n",
       " ' каскадная улица',\n",
       " ' квартал № 30',\n",
       " ' квартал № 80',\n",
       " ' кирпичная улица',\n",
       " ' кожевнический проезд',\n",
       " ' козицкий переулок',\n",
       " ' композиторская улица',\n",
       " ' конаковский проезд',\n",
       " ' кондрашёвский тупик',\n",
       " ' кооперативная улица',\n",
       " ' коптевский бульвар',\n",
       " ' костомаровская набережная',\n",
       " ' красногвардейский бульвар',\n",
       " ' красноказарменный проезд',\n",
       " ' кремлёвская набережная',\n",
       " ' кривоарбатский переулок',\n",
       " ' кузьминская улица',\n",
       " ' кулаков переулок',\n",
       " ' кунцевская улица',\n",
       " ' курганская улица',\n",
       " ' кучин переулок',\n",
       " ' ландышевая улица',\n",
       " ' лениногорская улица',\n",
       " ' лефортовский переулок',\n",
       " ' лечебная улица',\n",
       " ' линейный проезд',\n",
       " ' лонгиновская улица',\n",
       " ' лосевская улица',\n",
       " ' лужнецкий проезд',\n",
       " ' лыщиков переулок',\n",
       " ' магаданская улица',\n",
       " ' мажоров переулок',\n",
       " ' малая андроньевская улица',\n",
       " ' малая переяславская улица',\n",
       " ' малая тульская улица',\n",
       " ' малый власьевский переулок',\n",
       " ' малый златоустинский переулок',\n",
       " ' малый знаменский переулок',\n",
       " ' малый ивановский переулок',\n",
       " ' малый казённый переулок',\n",
       " ' малый каретный переулок',\n",
       " ' малый конюшковский переулок',\n",
       " ' малый коптевский проезд',\n",
       " ' малый лёвшинский переулок',\n",
       " ' малый николопесковский переулок',\n",
       " ' малый полуярославский переулок',\n",
       " ' малый путинковский переулок',\n",
       " ' малый саввинский переулок',\n",
       " ' малый татарский переулок',\n",
       " ' малый толмачёвский переулок',\n",
       " ' мамоновский переулок',\n",
       " ' мансуровский переулок',\n",
       " ' мариупольская улица',\n",
       " ' машкинское шоссе',\n",
       " ' международная улица',\n",
       " ' мерзляковский переулок',\n",
       " ' миллионная улица',\n",
       " ' минаевский переулок',\n",
       " ' мирской переулок',\n",
       " ' миусская площадь',\n",
       " ' михневский проезд',\n",
       " ' мишина улица',\n",
       " ' мкад',\n",
       " ' молодёжная улица',\n",
       " ' мрузовский переулок',\n",
       " ' нагорный бульвар',\n",
       " ' напрудный переулок',\n",
       " ' нарвская улица',\n",
       " ' наро-фоминская улица',\n",
       " ' народный проспект',\n",
       " ' научный проезд',\n",
       " ' нелидовская улица',\n",
       " ' неманский проезд',\n",
       " ' несвижский переулок',\n",
       " ' нижний журавлёв переулок',\n",
       " ' нижний кисельный переулок',\n",
       " ' никитский переулок',\n",
       " ' новобутовский проезд',\n",
       " ' нововладыкинский проезд',\n",
       " ' новолучанская улица',\n",
       " ' новоостаповская улица',\n",
       " ' новопресненский переулок',\n",
       " ' новорублёвская улица',\n",
       " ' новосибирская улица',\n",
       " ' новохорошёвский проезд',\n",
       " ' норильская улица',\n",
       " ' озёрная аллея',\n",
       " ' олонецкий проезд',\n",
       " ' оренбургская улица',\n",
       " ' орехово-зуевский проезд',\n",
       " ' отрадный проезд',\n",
       " ' парусный проезд',\n",
       " ' педагогическая улица',\n",
       " ' пенягинская улица',\n",
       " ' переулок васнецова',\n",
       " ' переулок красина',\n",
       " ' переулок маяковского',\n",
       " ' переулок расковой',\n",
       " ' переулок хользунова',\n",
       " ' перовский проезд',\n",
       " ' пестовский переулок',\n",
       " ' песчаная улица',\n",
       " ' песчаный переулок',\n",
       " ' петроверигский переулок',\n",
       " ' петровско-разумовская аллея',\n",
       " ' печорская улица',\n",
       " ' пионерская улица',\n",
       " ' платовская улица',\n",
       " ' плетешковский переулок',\n",
       " ' площадь журавлёва',\n",
       " ' подольская улица',\n",
       " ' подсосенский переулок',\n",
       " ' пожарский переулок',\n",
       " ' полтавская улица',\n",
       " ' попов проезд',\n",
       " ' посланников переулок',\n",
       " ' посёлок акулово',\n",
       " ' посёлок газопровод',\n",
       " ' посёлок дск \"мичуринец\"',\n",
       " ' посёлок курилово',\n",
       " ' посёлок остафьево',\n",
       " ' посёлок первомайское',\n",
       " ' прибрежный проезд',\n",
       " ' причальный проезд',\n",
       " ' проезд добролюбова',\n",
       " ' проезд донелайтиса',\n",
       " ' проезд досфлота',\n",
       " ' проезд нансена',\n",
       " ' проезд черепановых',\n",
       " ' проезд якушкина',\n",
       " ' проектируемый проезд № 1980',\n",
       " ' производственная улица',\n",
       " ' прокатная улица',\n",
       " ' проспект 40 лет октября',\n",
       " ' проточный переулок',\n",
       " ' прохладная улица',\n",
       " ' пуговишников переулок',\n",
       " ' пулковская улица',\n",
       " ' пыжёвский переулок',\n",
       " ' пяловская улица',\n",
       " ' рижский проезд',\n",
       " ' родниковая улица',\n",
       " ' ростокинская улица',\n",
       " ' рубцов переулок',\n",
       " ' русаковская набережная',\n",
       " ' садовая-сухаревская улица',\n",
       " ' садовнический проезд',\n",
       " ' сверчков переулок',\n",
       " ' северодвинская улица',\n",
       " ' село былово',\n",
       " ' село остафьево',\n",
       " ' сеченовский переулок',\n",
       " ' сибирский проезд',\n",
       " ' сивашская улица',\n",
       " ' симферопольский проезд',\n",
       " ' синельниковская улица',\n",
       " ' скатертный переулок',\n",
       " ' скорняжный переулок',\n",
       " ' соймоновский проезд',\n",
       " ' солнечная аллея',\n",
       " ' солнечногорский проезд',\n",
       " ' сормовский проезд',\n",
       " ' софийская набережная',\n",
       " ' союзный проспект',\n",
       " ' спартаковский переулок',\n",
       " ' спортивная улица',\n",
       " ' спортивный проезд',\n",
       " ' средний кондратьевский переулок',\n",
       " ' средний овчинниковский переулок',\n",
       " ' средняя калитниковская улица',\n",
       " ' сретенский тупик',\n",
       " ' стандартная улица',\n",
       " ' староалексеевская улица',\n",
       " ' старомарьинское шоссе',\n",
       " ' старомонетный переулок',\n",
       " ' староникольская улица',\n",
       " ' старослободская улица',\n",
       " ' столовый переулок',\n",
       " ' стрелецкая улица',\n",
       " ' стрельбищенский переулок',\n",
       " ' стройковская улица',\n",
       " ' стромынский переулок',\n",
       " ' сумская улица',\n",
       " ' таганрогская улица',\n",
       " ' таможенный проезд',\n",
       " ' тарусская улица',\n",
       " ' тарханская улица',\n",
       " ' таёжная улица',\n",
       " ' театральная аллея',\n",
       " ' тенистый проезд',\n",
       " ' тессинский переулок',\n",
       " ' тестовская улица',\n",
       " ' тетеринский переулок',\n",
       " ' тимирязевский проезд',\n",
       " ' тихая улица',\n",
       " ' тихвинский переулок',\n",
       " ' тихий тупик',\n",
       " ' триумфальная площадь',\n",
       " ' троилинский переулок',\n",
       " ' троицкий бульвар',\n",
       " ' тургеневская площадь',\n",
       " ' улица 9 мая',\n",
       " ' улица авиаконструктора микояна',\n",
       " ' улица айвазовского',\n",
       " ' улица академика арцимовича',\n",
       " ' улица академика комарова',\n",
       " ' улица академика опарина',\n",
       " ' улица академика павлова',\n",
       " ' улица академика петровского',\n",
       " ' улица академика понтрягина',\n",
       " ' улица академика семёнова',\n",
       " ' улица алексея дикого',\n",
       " ' улица анатолия живова',\n",
       " ' улица артюхиной',\n",
       " ' улица атарбекова',\n",
       " ' улица благуша',\n",
       " ' улица богданова',\n",
       " ' улица бориса жигулёнкова',\n",
       " ' улица брусилова',\n",
       " ' улица васильцовский стан',\n",
       " ' улица вторая пятилетка',\n",
       " ' улица высоцкого',\n",
       " ' улица гамалеи',\n",
       " ' улица генерала ермолова',\n",
       " ' улица гончарова',\n",
       " ' улица девятая рота',\n",
       " ' улица демьяна бедного',\n",
       " ' улица дмитрия рябинкина',\n",
       " ' улица достоевского',\n",
       " ' улица дубки',\n",
       " ' улица евгения родионова',\n",
       " ' улица екатерины будановой',\n",
       " ' улица жебрунова',\n",
       " ' улица жуковского',\n",
       " ' улица захарьинские дворики',\n",
       " ' улица зенитчиков',\n",
       " ' улица знаменские садки',\n",
       " ' улица инессы арманд',\n",
       " ' улица капотня',\n",
       " ' улица клочкова',\n",
       " ' улица константинова',\n",
       " ' улица корнея чуковского',\n",
       " ' улица кошкина',\n",
       " ' улица красных зорь',\n",
       " ' улица крутицкий вал',\n",
       " ' улица кубинка',\n",
       " ' улица кутузова',\n",
       " ' улица кухмистерова',\n",
       " ' улица лапина',\n",
       " ' улица лефортовский вал',\n",
       " ' улица линии октябрьской железной дороги',\n",
       " ' улица льва яшина',\n",
       " ' улица максимова',\n",
       " ' улица малая ордынка',\n",
       " ' улица малые каменщики',\n",
       " ' улица маршала мерецкова',\n",
       " ' улица маршала новикова',\n",
       " ' улица медведева',\n",
       " ' улица медиков',\n",
       " ' улица можайский вал',\n",
       " ' улица недорубова',\n",
       " ' улица немчинова',\n",
       " ' улица никитина',\n",
       " ' улица николаева',\n",
       " ' улица новая дорога',\n",
       " ' улица павла андреева',\n",
       " ' улица паперника',\n",
       " ' улица пивченкова',\n",
       " ' улица подвойского',\n",
       " ' улица полины осипенко',\n",
       " ' улица пржевальского',\n",
       " ' улица раевского',\n",
       " ' улица ращупкина',\n",
       " ' улица ремизова',\n",
       " ' улица рогова',\n",
       " ' улица рогожский посёлок',\n",
       " ' улица рокотова',\n",
       " ' улица рословка',\n",
       " ' улица ротерта',\n",
       " ' улица рудневой',\n",
       " ' улица савельева',\n",
       " ' улица сайкина',\n",
       " ' улица саляма адиля',\n",
       " ' улица советской армии',\n",
       " ' улица старые кузьминки',\n",
       " ' улица степана шутова',\n",
       " ' улица уткина',\n",
       " ' улица фадеева',\n",
       " ' улица фонвизина',\n",
       " ' улица шеногина',\n",
       " ' улица шумилова',\n",
       " ' улица шумкина',\n",
       " ' улица щорса',\n",
       " ' уржумская улица',\n",
       " ' успенский переулок',\n",
       " ' утренняя улица',\n",
       " ' учинская улица',\n",
       " ' фармацевтический проезд',\n",
       " ' федоскинская улица',\n",
       " ' феодосийская улица',\n",
       " ' физическая улица',\n",
       " ' филипповский переулок',\n",
       " ' фролов переулок',\n",
       " ' фруктовая улица',\n",
       " ' хавская улица',\n",
       " ' хвалынский бульвар',\n",
       " ' хилков переулок',\n",
       " ' хитровский переулок',\n",
       " ' хлебный переулок',\n",
       " ' хлыновский тупик',\n",
       " ' хованская улица',\n",
       " ' хохловский переулок',\n",
       " ' центральный проспект',\n",
       " ' челюскинская улица',\n",
       " ' чермянская улица',\n",
       " ' чермянский проезд',\n",
       " ' черниговский переулок',\n",
       " ' черницынский проезд',\n",
       " ' черноморский бульвар',\n",
       " ' чукотский проезд',\n",
       " ' чуксин тупик',\n",
       " ' шепелюгинская улица',\n",
       " ' шоссе фрезер',\n",
       " ' штурвальная улица',\n",
       " ' шубинский переулок',\n",
       " ' щёлковский проезд',\n",
       " ' электрический переулок',\n",
       " ' юрловский проезд',\n",
       " ' якиманский переулок',\n",
       " ' ялтинская улица',\n",
       " ' янтарный проезд',\n",
       " ' ясногорская улица',\n",
       " ' яузский бульвар',\n",
       " ' яхромская улица']"
      ]
     },
     "execution_count": 53,
     "metadata": {},
     "output_type": "execute_result"
    }
   ],
   "source": [
    "df_streets_with_one_object_list"
   ]
  },
  {
   "cell_type": "code",
   "execution_count": 54,
   "metadata": {},
   "outputs": [],
   "source": [
    "df_filtered_with_one_object = (\n",
    "    df[df['street'].isin(df_streets_with_one_object_list )]\n",
    ")"
   ]
  },
  {
   "cell_type": "code",
   "execution_count": 55,
   "metadata": {},
   "outputs": [
    {
     "data": {
      "text/html": [
       "<div>\n",
       "<style scoped>\n",
       "    .dataframe tbody tr th:only-of-type {\n",
       "        vertical-align: middle;\n",
       "    }\n",
       "\n",
       "    .dataframe tbody tr th {\n",
       "        vertical-align: top;\n",
       "    }\n",
       "\n",
       "    .dataframe thead th {\n",
       "        text-align: right;\n",
       "    }\n",
       "</style>\n",
       "<table border=\"1\" class=\"dataframe\">\n",
       "  <thead>\n",
       "    <tr style=\"text-align: right;\">\n",
       "      <th></th>\n",
       "      <th>id</th>\n",
       "      <th>object_name</th>\n",
       "      <th>chain</th>\n",
       "      <th>object_type</th>\n",
       "      <th>address</th>\n",
       "      <th>number</th>\n",
       "      <th>street</th>\n",
       "    </tr>\n",
       "  </thead>\n",
       "  <tbody>\n",
       "    <tr>\n",
       "      <td>19</td>\n",
       "      <td>153644</td>\n",
       "      <td>американская лаборатория десертов</td>\n",
       "      <td>одиночное</td>\n",
       "      <td>кафе</td>\n",
       "      <td>город москва, филипповский переулок, дом 15/5</td>\n",
       "      <td>20</td>\n",
       "      <td>филипповский переулок</td>\n",
       "    </tr>\n",
       "    <tr>\n",
       "      <td>61</td>\n",
       "      <td>21214</td>\n",
       "      <td>столовая</td>\n",
       "      <td>одиночное</td>\n",
       "      <td>столовая</td>\n",
       "      <td>город москва, бабаевская улица, дом 3</td>\n",
       "      <td>90</td>\n",
       "      <td>бабаевская улица</td>\n",
       "    </tr>\n",
       "    <tr>\n",
       "      <td>69</td>\n",
       "      <td>22139</td>\n",
       "      <td>хуанхэ</td>\n",
       "      <td>одиночное</td>\n",
       "      <td>ресторан</td>\n",
       "      <td>город москва, 1-й балтийский переулок, дом 3/25</td>\n",
       "      <td>60</td>\n",
       "      <td>1-й балтийский переулок</td>\n",
       "    </tr>\n",
       "    <tr>\n",
       "      <td>81</td>\n",
       "      <td>25833</td>\n",
       "      <td>азербайджан</td>\n",
       "      <td>одиночное</td>\n",
       "      <td>ресторан</td>\n",
       "      <td>город москва, улица демьяна бедного, дом 4</td>\n",
       "      <td>180</td>\n",
       "      <td>улица демьяна бедного</td>\n",
       "    </tr>\n",
       "    <tr>\n",
       "      <td>131</td>\n",
       "      <td>150881</td>\n",
       "      <td>вгик</td>\n",
       "      <td>одиночное</td>\n",
       "      <td>столовая</td>\n",
       "      <td>город москва, будайская улица, дом 3</td>\n",
       "      <td>45</td>\n",
       "      <td>будайская улица</td>\n",
       "    </tr>\n",
       "    <tr>\n",
       "      <td>...</td>\n",
       "      <td>...</td>\n",
       "      <td>...</td>\n",
       "      <td>...</td>\n",
       "      <td>...</td>\n",
       "      <td>...</td>\n",
       "      <td>...</td>\n",
       "      <td>...</td>\n",
       "    </tr>\n",
       "    <tr>\n",
       "      <td>14807</td>\n",
       "      <td>214436</td>\n",
       "      <td>кафе</td>\n",
       "      <td>одиночное</td>\n",
       "      <td>буфет</td>\n",
       "      <td>город москва, поселение \"мосрентген\", мкад, 44...</td>\n",
       "      <td>36</td>\n",
       "      <td>мкад</td>\n",
       "    </tr>\n",
       "    <tr>\n",
       "      <td>14810</td>\n",
       "      <td>206875</td>\n",
       "      <td>столовая</td>\n",
       "      <td>одиночное</td>\n",
       "      <td>столовая</td>\n",
       "      <td>город москва, поселение первомайское, деревня ...</td>\n",
       "      <td>28</td>\n",
       "      <td>деревня поповка</td>\n",
       "    </tr>\n",
       "    <tr>\n",
       "      <td>14974</td>\n",
       "      <td>213930</td>\n",
       "      <td>горячий хлеб</td>\n",
       "      <td>одиночное</td>\n",
       "      <td>фастфуд</td>\n",
       "      <td>город москва, поселение десеновское, улица дми...</td>\n",
       "      <td>0</td>\n",
       "      <td>улица дмитрия рябинкина</td>\n",
       "    </tr>\n",
       "    <tr>\n",
       "      <td>15017</td>\n",
       "      <td>205588</td>\n",
       "      <td>кофейня</td>\n",
       "      <td>одиночное</td>\n",
       "      <td>кафетерий</td>\n",
       "      <td>город москва, поселение щаповское, улица евген...</td>\n",
       "      <td>16</td>\n",
       "      <td>улица евгения родионова</td>\n",
       "    </tr>\n",
       "    <tr>\n",
       "      <td>15027</td>\n",
       "      <td>208936</td>\n",
       "      <td>кафе гурман</td>\n",
       "      <td>одиночное</td>\n",
       "      <td>кафе</td>\n",
       "      <td>город москва, поселение первомайское, деревня ...</td>\n",
       "      <td>40</td>\n",
       "      <td>деревня фоминское</td>\n",
       "    </tr>\n",
       "  </tbody>\n",
       "</table>\n",
       "<p>629 rows × 7 columns</p>\n",
       "</div>"
      ],
      "text/plain": [
       "           id                        object_name      chain object_type  \\\n",
       "19     153644  американская лаборатория десертов  одиночное        кафе   \n",
       "61      21214                           столовая  одиночное    столовая   \n",
       "69      22139                             хуанхэ  одиночное    ресторан   \n",
       "81      25833                        азербайджан  одиночное    ресторан   \n",
       "131    150881                               вгик  одиночное    столовая   \n",
       "...       ...                                ...        ...         ...   \n",
       "14807  214436                               кафе  одиночное       буфет   \n",
       "14810  206875                           столовая  одиночное    столовая   \n",
       "14974  213930                       горячий хлеб  одиночное     фастфуд   \n",
       "15017  205588                            кофейня  одиночное   кафетерий   \n",
       "15027  208936                        кафе гурман  одиночное        кафе   \n",
       "\n",
       "                                                 address  number  \\\n",
       "19         город москва, филипповский переулок, дом 15/5      20   \n",
       "61                 город москва, бабаевская улица, дом 3      90   \n",
       "69       город москва, 1-й балтийский переулок, дом 3/25      60   \n",
       "81            город москва, улица демьяна бедного, дом 4     180   \n",
       "131                 город москва, будайская улица, дом 3      45   \n",
       "...                                                  ...     ...   \n",
       "14807  город москва, поселение \"мосрентген\", мкад, 44...      36   \n",
       "14810  город москва, поселение первомайское, деревня ...      28   \n",
       "14974  город москва, поселение десеновское, улица дми...       0   \n",
       "15017  город москва, поселение щаповское, улица евген...      16   \n",
       "15027  город москва, поселение первомайское, деревня ...      40   \n",
       "\n",
       "                         street  \n",
       "19        филипповский переулок  \n",
       "61             бабаевская улица  \n",
       "69      1-й балтийский переулок  \n",
       "81        улица демьяна бедного  \n",
       "131             будайская улица  \n",
       "...                         ...  \n",
       "14807                      мкад  \n",
       "14810           деревня поповка  \n",
       "14974   улица дмитрия рябинкина  \n",
       "15017   улица евгения родионова  \n",
       "15027         деревня фоминское  \n",
       "\n",
       "[629 rows x 7 columns]"
      ]
     },
     "execution_count": 55,
     "metadata": {},
     "output_type": "execute_result"
    }
   ],
   "source": [
    "df_filtered_with_one_object"
   ]
  },
  {
   "cell_type": "code",
   "execution_count": 56,
   "metadata": {},
   "outputs": [],
   "source": [
    "url = 'https://drive.google.com/file/d/1nqvV3yqu_K-Yox1zg6fRzOssiPCtF_XG/view?usp=sharing'\n",
    "path = 'https://drive.google.com/uc?id='+url.split('/')[-2]\n",
    "df_filtered_with_one_object_districts = pd.read_csv(path, sep=';')"
   ]
  },
  {
   "cell_type": "markdown",
   "metadata": {},
   "source": [
    "Разобём строку с адресом и присвоим району второй элемент"
   ]
  },
  {
   "cell_type": "code",
   "execution_count": 57,
   "metadata": {},
   "outputs": [],
   "source": [
    "df_filtered_with_one_object_districts['district'] = (\n",
    "    df_filtered_with_one_object_districts['district']\n",
    "    .fillna(df_filtered_with_one_object_districts['address']\n",
    "    .str.split(',').apply(lambda x: x[1]))\n",
    ")"
   ]
  },
  {
   "cell_type": "markdown",
   "metadata": {},
   "source": [
    "Дальше сгруппируем и отдельно выведем топ-10"
   ]
  },
  {
   "cell_type": "code",
   "execution_count": 58,
   "metadata": {},
   "outputs": [],
   "source": [
    "df_one_object_by_districts = (\n",
    "    df_filtered_with_one_object_districts.groupby(['district'])\n",
    "    .agg(objects=('id', 'count'))\n",
    "    .sort_values(by='objects', ascending=False)\n",
    "    .reset_index()\n",
    ")"
   ]
  },
  {
   "cell_type": "code",
   "execution_count": 59,
   "metadata": {},
   "outputs": [],
   "source": [
    "df_one_object_by_districts_top = df_one_object_by_districts.loc[:10]"
   ]
  },
  {
   "cell_type": "code",
   "execution_count": 60,
   "metadata": {},
   "outputs": [
    {
     "data": {
      "text/html": [
       "<div>\n",
       "<style scoped>\n",
       "    .dataframe tbody tr th:only-of-type {\n",
       "        vertical-align: middle;\n",
       "    }\n",
       "\n",
       "    .dataframe tbody tr th {\n",
       "        vertical-align: top;\n",
       "    }\n",
       "\n",
       "    .dataframe thead th {\n",
       "        text-align: right;\n",
       "    }\n",
       "</style>\n",
       "<table border=\"1\" class=\"dataframe\">\n",
       "  <thead>\n",
       "    <tr style=\"text-align: right;\">\n",
       "      <th></th>\n",
       "      <th>district</th>\n",
       "      <th>objects</th>\n",
       "    </tr>\n",
       "  </thead>\n",
       "  <tbody>\n",
       "    <tr>\n",
       "      <td>0</td>\n",
       "      <td>Таганский район</td>\n",
       "      <td>34</td>\n",
       "    </tr>\n",
       "    <tr>\n",
       "      <td>1</td>\n",
       "      <td>район Хамовники</td>\n",
       "      <td>27</td>\n",
       "    </tr>\n",
       "    <tr>\n",
       "      <td>2</td>\n",
       "      <td>Пресненский район</td>\n",
       "      <td>24</td>\n",
       "    </tr>\n",
       "    <tr>\n",
       "      <td>3</td>\n",
       "      <td>Басманный район</td>\n",
       "      <td>22</td>\n",
       "    </tr>\n",
       "    <tr>\n",
       "      <td>4</td>\n",
       "      <td>Тверской район</td>\n",
       "      <td>21</td>\n",
       "    </tr>\n",
       "    <tr>\n",
       "      <td>5</td>\n",
       "      <td>Нижегородский район</td>\n",
       "      <td>18</td>\n",
       "    </tr>\n",
       "    <tr>\n",
       "      <td>6</td>\n",
       "      <td>район Марьина Роща</td>\n",
       "      <td>17</td>\n",
       "    </tr>\n",
       "    <tr>\n",
       "      <td>7</td>\n",
       "      <td>район Сокольники</td>\n",
       "      <td>15</td>\n",
       "    </tr>\n",
       "    <tr>\n",
       "      <td>8</td>\n",
       "      <td>Мещанский район</td>\n",
       "      <td>14</td>\n",
       "    </tr>\n",
       "    <tr>\n",
       "      <td>9</td>\n",
       "      <td>район Замоскворечье</td>\n",
       "      <td>12</td>\n",
       "    </tr>\n",
       "    <tr>\n",
       "      <td>10</td>\n",
       "      <td>район Лефортово</td>\n",
       "      <td>12</td>\n",
       "    </tr>\n",
       "  </tbody>\n",
       "</table>\n",
       "</div>"
      ],
      "text/plain": [
       "               district  objects\n",
       "0       Таганский район       34\n",
       "1       район Хамовники       27\n",
       "2     Пресненский район       24\n",
       "3       Басманный район       22\n",
       "4        Тверской район       21\n",
       "5   Нижегородский район       18\n",
       "6    район Марьина Роща       17\n",
       "7      район Сокольники       15\n",
       "8       Мещанский район       14\n",
       "9   район Замоскворечье       12\n",
       "10      район Лефортово       12"
      ]
     },
     "execution_count": 60,
     "metadata": {},
     "output_type": "execute_result"
    }
   ],
   "source": [
    "df_one_object_by_districts_top"
   ]
  },
  {
   "cell_type": "code",
   "execution_count": 61,
   "metadata": {},
   "outputs": [
    {
     "data": {
      "image/png": "[encoded data removed]",
      "text/plain": [
       "<Figure size 720x504 with 1 Axes>"
      ]
     },
     "metadata": {},
     "output_type": "display_data"
    }
   ],
   "source": [
    "sns.barplot(y='district', x='objects', data=df_one_object_by_districts_top)\n",
    "titles = {'xlabel':'Количество заведений', \n",
    "          'ylabel':'Район', \n",
    "          'title': 'Количество объектов в районе'}\n",
    "get_labels_and_axes(titles)\n",
    "plt.show()"
   ]
  },
  {
   "cell_type": "markdown",
   "metadata": {},
   "source": [
    "**Вывод**\n",
    "\n",
    "Улиц с одним едиснтвенным заведением общественного питания довольно много(больше 600). Снова видим в лидерах районы, которые расположены близко к центру Москвы: Таганский, Хамовники, Басманный, Тверской. В прочем, это не удитвительно. Ведь Москва старый город, а значит что в центре имеется огромное количество маленьких улочек и переулков, на которых и находятся эти едиственные \"на всю улицу\" заведения общественного питания."
   ]
  },
  {
   "cell_type": "markdown",
   "metadata": {},
   "source": [
    "#### Теперь посмотрим на распределение количества посадочных мест для улиц с большим количеством объектов общественного питания"
   ]
  },
  {
   "cell_type": "markdown",
   "metadata": {},
   "source": [
    "Для этого создадим функцию, которая принимает на вход адрес, разделяет на несколько подстрок и проверяет каждую подстроку на наличе в ней информации об улице"
   ]
  },
  {
   "cell_type": "code",
   "execution_count": 62,
   "metadata": {},
   "outputs": [],
   "source": [
    "def get_street(address):\n",
    "    street_list = ['улица', 'проспект', 'набережная', \n",
    "               'проезд', 'бульвар', 'шоссе', \n",
    "               'переулок', 'площадь', 'аллея', \n",
    "               'квартал', 'линия', 'тупик']\n",
    "    for item in address.split(','):\n",
    "        for string in street_list:\n",
    "            if string in item:\n",
    "                return item.strip()\n",
    "    return 'Not found'          "
   ]
  },
  {
   "cell_type": "markdown",
   "metadata": {},
   "source": [
    "Создадим список для удобства построения графика"
   ]
  },
  {
   "cell_type": "code",
   "execution_count": 63,
   "metadata": {},
   "outputs": [],
   "source": [
    "street_list = df_top_streets['street'].to_list()"
   ]
  },
  {
   "cell_type": "markdown",
   "metadata": {},
   "source": [
    "И посмотрим как выглядит распределение количества посадочных мест для улиц с большим количеством заведений"
   ]
  },
  {
   "cell_type": "code",
   "execution_count": 64,
   "metadata": {},
   "outputs": [
    {
     "data": {
      "image/png": "[encoded data removed]",
      "text/plain": [
       "<Figure size 720x504 with 1 Axes>"
      ]
     },
     "metadata": {},
     "output_type": "display_data"
    }
   ],
   "source": [
    "sns.distplot(df.loc[lambda x: x['street'].isin(street_list)]['number'], \n",
    "             kde=False,\n",
    "             bins = 100)\n",
    "plt.xlim(0,400)\n",
    "titles = {'xlabel':'Количество посадочных мест', \n",
    "          'ylabel':'Количество заведений', \n",
    "          'title': 'Распределение количества посадочных мест для улиц с большим количеством заведений'}\n",
    "get_labels_and_axes(titles)\n",
    "plt.show()"
   ]
  },
  {
   "cell_type": "markdown",
   "metadata": {},
   "source": [
    "**Вывод**\n",
    "\n",
    "Господствуют заведения c количеством посадочных мест от 1 до 50. Это похоже на распределение количества посадочных мест для сетевых заведений, которое мы искали ранее. Затем идут объекты, где от 51 до 100 посадочных мест. И замыкают этот список заведения без посадки(видимо, они работают только на вынос)."
   ]
  },
  {
   "cell_type": "markdown",
   "metadata": {},
   "source": [
    "## Общий вывод"
   ]
  },
  {
   "cell_type": "markdown",
   "metadata": {},
   "source": [
    "Мы изучили рынок заведений общественного питания в Москве и установили, **что:**\n",
    "- Самый распространенный формат заведений в Москве - кафе;\n",
    "- Количество одиночных заведений гораздо больше их сетевых собратьев;\n",
    "- Большая доля сетевых заведений встречается в предприятиях быстрого питания (они же - фастфуды);\n",
    "- Для кафе распределение количества посадочных мест для сетевых и несетевых заведений практически совпадает;\n",
    "- Наибольшим количеством посадочных мест обладают заведения типа *столовая* и *ресторан*, а наименьшим - *кулинария* и *закусочная*.\n",
    "\n",
    "А так же мы нашли топ-10 улиц по количеству заведений общественного питания на них, определили в каких районах их больше всего; нашли улицы всего с одним заведением и определили их пристутсвие в тех или иных районах. И в добавок, посмотрели на распределение количества посадочных мест для улиц с большим количеством заведений.\n",
    "\n",
    "**Исходя из нашего исследования, можно сделать некоторые рекомендации:**\n",
    "\n",
    "1. Наиболее подходящим форматом при открытии нового заведения является кафе;\n",
    "\n",
    "2. По количеству посадочных мест следует ориентироваться на среднее значение для кафе (около 40 мест);\n",
    "\n",
    "3. Территориально определить оптимальное место сложно, т.к. мы не имеем информации о наличии и финансовой доступности конкретных плоащдей. Однако, кажется очевидным, что это должны быть районы в центральной части Москвы, т.к. большой туричтический трафик и наличие офисных зданий могут стать основой успешной работы завдения общественного питания."
   ]
  },
  {
   "cell_type": "markdown",
   "metadata": {},
   "source": [
    "Презентация: https://disk.yandex.ru/i/M8XWdu8_-z7G3g"
   ]
  }
 ],
 "metadata": {
  "ExecuteTimeLog": [
   {
    "duration": 1407,
    "start_time": "2022-02-19T09:40:51.589Z"
   },
   {
    "duration": 44,
    "start_time": "2022-02-19T09:41:11.467Z"
   },
   {
    "duration": 9,
    "start_time": "2022-02-19T09:41:18.799Z"
   },
   {
    "duration": 71,
    "start_time": "2022-02-19T09:43:24.230Z"
   },
   {
    "duration": 1501,
    "start_time": "2022-02-19T09:46:34.007Z"
   },
   {
    "duration": 47,
    "start_time": "2022-02-19T09:46:35.510Z"
   },
   {
    "duration": 9,
    "start_time": "2022-02-19T09:46:35.559Z"
   },
   {
    "duration": 49,
    "start_time": "2022-02-19T10:00:01.039Z"
   },
   {
    "duration": 9,
    "start_time": "2022-02-19T10:00:02.859Z"
   },
   {
    "duration": 13,
    "start_time": "2022-02-19T10:00:11.083Z"
   },
   {
    "duration": 10,
    "start_time": "2022-02-19T10:41:32.322Z"
   },
   {
    "duration": 17,
    "start_time": "2022-02-19T10:42:59.977Z"
   },
   {
    "duration": 17,
    "start_time": "2022-02-19T10:43:05.132Z"
   },
   {
    "duration": 35,
    "start_time": "2022-02-19T10:49:21.998Z"
   },
   {
    "duration": 22,
    "start_time": "2022-02-19T10:49:51.796Z"
   },
   {
    "duration": 15,
    "start_time": "2022-02-19T10:50:38.030Z"
   },
   {
    "duration": 16,
    "start_time": "2022-02-19T10:55:36.445Z"
   },
   {
    "duration": 17,
    "start_time": "2022-02-19T10:55:44.095Z"
   },
   {
    "duration": 9,
    "start_time": "2022-02-19T11:03:03.721Z"
   },
   {
    "duration": 11,
    "start_time": "2022-02-19T11:03:14.835Z"
   },
   {
    "duration": 8,
    "start_time": "2022-02-19T11:03:32.683Z"
   },
   {
    "duration": 1475,
    "start_time": "2022-02-19T11:05:14.772Z"
   },
   {
    "duration": 48,
    "start_time": "2022-02-19T11:05:16.249Z"
   },
   {
    "duration": 8,
    "start_time": "2022-02-19T11:05:16.299Z"
   },
   {
    "duration": 12,
    "start_time": "2022-02-19T11:05:16.309Z"
   },
   {
    "duration": 8,
    "start_time": "2022-02-19T11:05:16.323Z"
   },
   {
    "duration": 33,
    "start_time": "2022-02-19T11:05:16.333Z"
   },
   {
    "duration": 23,
    "start_time": "2022-02-19T11:05:16.367Z"
   },
   {
    "duration": 13,
    "start_time": "2022-02-19T11:05:16.392Z"
   },
   {
    "duration": 15,
    "start_time": "2022-02-19T11:05:16.431Z"
   },
   {
    "duration": 13,
    "start_time": "2022-02-19T11:05:16.448Z"
   },
   {
    "duration": 9,
    "start_time": "2022-02-19T11:05:16.463Z"
   },
   {
    "duration": 4,
    "start_time": "2022-02-19T11:06:21.782Z"
   },
   {
    "duration": 335,
    "start_time": "2022-02-19T11:06:29.502Z"
   },
   {
    "duration": 198,
    "start_time": "2022-02-19T11:06:39.186Z"
   },
   {
    "duration": 193,
    "start_time": "2022-02-19T11:13:10.993Z"
   },
   {
    "duration": 4,
    "start_time": "2022-02-19T11:13:31.969Z"
   },
   {
    "duration": 313,
    "start_time": "2022-02-19T11:13:33.683Z"
   },
   {
    "duration": 4,
    "start_time": "2022-02-19T11:14:22.505Z"
   },
   {
    "duration": 1463,
    "start_time": "2022-02-19T11:14:27.867Z"
   },
   {
    "duration": 59,
    "start_time": "2022-02-19T11:14:29.332Z"
   },
   {
    "duration": 13,
    "start_time": "2022-02-19T11:14:29.394Z"
   },
   {
    "duration": 29,
    "start_time": "2022-02-19T11:14:29.409Z"
   },
   {
    "duration": 11,
    "start_time": "2022-02-19T11:14:29.440Z"
   },
   {
    "duration": 36,
    "start_time": "2022-02-19T11:14:29.453Z"
   },
   {
    "duration": 40,
    "start_time": "2022-02-19T11:14:29.491Z"
   },
   {
    "duration": 22,
    "start_time": "2022-02-19T11:14:29.533Z"
   },
   {
    "duration": 21,
    "start_time": "2022-02-19T11:14:29.558Z"
   },
   {
    "duration": 21,
    "start_time": "2022-02-19T11:14:29.581Z"
   },
   {
    "duration": 29,
    "start_time": "2022-02-19T11:14:29.604Z"
   },
   {
    "duration": 14,
    "start_time": "2022-02-19T11:14:29.635Z"
   },
   {
    "duration": 6,
    "start_time": "2022-02-19T11:14:29.651Z"
   },
   {
    "duration": 357,
    "start_time": "2022-02-19T11:14:29.659Z"
   },
   {
    "duration": 8,
    "start_time": "2022-02-19T11:15:21.465Z"
   },
   {
    "duration": 3,
    "start_time": "2022-02-19T11:15:24.280Z"
   },
   {
    "duration": 302,
    "start_time": "2022-02-19T11:15:26.425Z"
   },
   {
    "duration": 8,
    "start_time": "2022-02-19T11:16:48.896Z"
   },
   {
    "duration": 8,
    "start_time": "2022-02-19T11:25:48.284Z"
   },
   {
    "duration": 7,
    "start_time": "2022-02-19T11:26:05.164Z"
   },
   {
    "duration": 8,
    "start_time": "2022-02-19T11:26:11.355Z"
   },
   {
    "duration": 188,
    "start_time": "2022-02-19T11:27:28.005Z"
   },
   {
    "duration": 195,
    "start_time": "2022-02-19T11:28:12.725Z"
   },
   {
    "duration": 677,
    "start_time": "2022-02-19T11:31:51.846Z"
   },
   {
    "duration": 183,
    "start_time": "2022-02-19T11:31:57.590Z"
   },
   {
    "duration": 193,
    "start_time": "2022-02-19T11:32:04.615Z"
   },
   {
    "duration": 3,
    "start_time": "2022-02-19T11:32:52.790Z"
   },
   {
    "duration": 192,
    "start_time": "2022-02-19T11:32:53.998Z"
   },
   {
    "duration": 308,
    "start_time": "2022-02-19T11:33:00.878Z"
   },
   {
    "duration": 3,
    "start_time": "2022-02-19T11:33:26.670Z"
   },
   {
    "duration": 197,
    "start_time": "2022-02-19T11:33:27.831Z"
   },
   {
    "duration": 203,
    "start_time": "2022-02-19T11:33:46.382Z"
   },
   {
    "duration": 3,
    "start_time": "2022-02-19T11:33:48.687Z"
   },
   {
    "duration": 197,
    "start_time": "2022-02-19T11:33:50.231Z"
   },
   {
    "duration": 3,
    "start_time": "2022-02-19T11:33:59.974Z"
   },
   {
    "duration": 1416,
    "start_time": "2022-02-19T11:34:27.493Z"
   },
   {
    "duration": 47,
    "start_time": "2022-02-19T11:34:28.911Z"
   },
   {
    "duration": 9,
    "start_time": "2022-02-19T11:34:28.960Z"
   },
   {
    "duration": 11,
    "start_time": "2022-02-19T11:34:28.971Z"
   },
   {
    "duration": 7,
    "start_time": "2022-02-19T11:34:28.984Z"
   },
   {
    "duration": 52,
    "start_time": "2022-02-19T11:34:28.993Z"
   },
   {
    "duration": 22,
    "start_time": "2022-02-19T11:34:29.047Z"
   },
   {
    "duration": 15,
    "start_time": "2022-02-19T11:34:29.071Z"
   },
   {
    "duration": 14,
    "start_time": "2022-02-19T11:34:29.089Z"
   },
   {
    "duration": 35,
    "start_time": "2022-02-19T11:34:29.105Z"
   },
   {
    "duration": 4,
    "start_time": "2022-02-19T11:34:29.142Z"
   },
   {
    "duration": 6,
    "start_time": "2022-02-19T11:34:29.147Z"
   },
   {
    "duration": 9,
    "start_time": "2022-02-19T11:34:29.154Z"
   },
   {
    "duration": 8,
    "start_time": "2022-02-19T11:34:29.165Z"
   },
   {
    "duration": 7,
    "start_time": "2022-02-19T11:34:29.174Z"
   },
   {
    "duration": 4,
    "start_time": "2022-02-19T11:34:29.183Z"
   },
   {
    "duration": 341,
    "start_time": "2022-02-19T11:34:29.189Z"
   },
   {
    "duration": 7,
    "start_time": "2022-02-19T11:34:29.532Z"
   },
   {
    "duration": 7,
    "start_time": "2022-02-19T11:34:29.541Z"
   },
   {
    "duration": 7,
    "start_time": "2022-02-19T11:34:29.550Z"
   },
   {
    "duration": 5,
    "start_time": "2022-02-19T11:34:29.559Z"
   },
   {
    "duration": 216,
    "start_time": "2022-02-19T11:34:29.565Z"
   },
   {
    "duration": 17,
    "start_time": "2022-02-19T12:19:35.251Z"
   },
   {
    "duration": 5386,
    "start_time": "2022-02-19T12:20:05.988Z"
   },
   {
    "duration": 25,
    "start_time": "2022-02-19T12:20:31.396Z"
   },
   {
    "duration": 484,
    "start_time": "2022-02-19T12:20:43.659Z"
   },
   {
    "duration": 319,
    "start_time": "2022-02-19T12:23:02.460Z"
   },
   {
    "duration": 224,
    "start_time": "2022-02-19T12:24:27.565Z"
   },
   {
    "duration": 418,
    "start_time": "2022-02-19T12:24:40.669Z"
   },
   {
    "duration": 1226,
    "start_time": "2022-02-19T12:24:58.796Z"
   },
   {
    "duration": 215,
    "start_time": "2022-02-23T07:33:52.342Z"
   },
   {
    "duration": 1541,
    "start_time": "2022-02-23T07:34:04.552Z"
   },
   {
    "duration": 41,
    "start_time": "2022-02-23T07:34:06.094Z"
   },
   {
    "duration": 10,
    "start_time": "2022-02-23T07:34:06.137Z"
   },
   {
    "duration": 17,
    "start_time": "2022-02-23T07:34:06.148Z"
   },
   {
    "duration": 7,
    "start_time": "2022-02-23T07:34:06.166Z"
   },
   {
    "duration": 34,
    "start_time": "2022-02-23T07:34:06.175Z"
   },
   {
    "duration": 22,
    "start_time": "2022-02-23T07:34:06.211Z"
   },
   {
    "duration": 38,
    "start_time": "2022-02-23T07:34:06.234Z"
   },
   {
    "duration": 14,
    "start_time": "2022-02-23T07:34:06.275Z"
   },
   {
    "duration": 14,
    "start_time": "2022-02-23T07:34:06.291Z"
   },
   {
    "duration": 3,
    "start_time": "2022-02-23T07:34:06.307Z"
   },
   {
    "duration": 29,
    "start_time": "2022-02-23T07:34:06.312Z"
   },
   {
    "duration": 15,
    "start_time": "2022-02-23T07:34:06.343Z"
   },
   {
    "duration": 8,
    "start_time": "2022-02-23T07:34:06.359Z"
   },
   {
    "duration": 9,
    "start_time": "2022-02-23T07:34:06.369Z"
   },
   {
    "duration": 9,
    "start_time": "2022-02-23T07:34:06.379Z"
   },
   {
    "duration": 343,
    "start_time": "2022-02-23T07:34:06.390Z"
   },
   {
    "duration": 9,
    "start_time": "2022-02-23T07:34:06.735Z"
   },
   {
    "duration": 20,
    "start_time": "2022-02-23T07:34:06.746Z"
   },
   {
    "duration": 6,
    "start_time": "2022-02-23T07:34:06.768Z"
   },
   {
    "duration": 224,
    "start_time": "2022-02-23T07:34:06.776Z"
   },
   {
    "duration": 17,
    "start_time": "2022-02-23T07:34:07.002Z"
   },
   {
    "duration": 18,
    "start_time": "2022-02-23T07:34:07.021Z"
   },
   {
    "duration": 381,
    "start_time": "2022-02-23T07:34:07.059Z"
   },
   {
    "duration": 384,
    "start_time": "2022-02-23T07:34:07.442Z"
   },
   {
    "duration": 377,
    "start_time": "2022-02-23T07:34:07.828Z"
   },
   {
    "duration": 1351,
    "start_time": "2022-02-23T07:34:08.208Z"
   },
   {
    "duration": 349,
    "start_time": "2022-02-23T07:34:14.199Z"
   },
   {
    "duration": 17,
    "start_time": "2022-02-23T07:34:18.319Z"
   },
   {
    "duration": 18,
    "start_time": "2022-02-23T07:42:27.663Z"
   },
   {
    "duration": 8,
    "start_time": "2022-02-23T07:42:29.265Z"
   },
   {
    "duration": 345,
    "start_time": "2022-02-23T07:42:50.914Z"
   },
   {
    "duration": 366,
    "start_time": "2022-02-23T07:46:09.171Z"
   },
   {
    "duration": 214,
    "start_time": "2022-02-23T07:46:44.428Z"
   },
   {
    "duration": 356,
    "start_time": "2022-02-23T07:46:57.821Z"
   },
   {
    "duration": 364,
    "start_time": "2022-02-23T07:47:51.867Z"
   },
   {
    "duration": 1157,
    "start_time": "2022-02-23T07:56:29.860Z"
   },
   {
    "duration": 183,
    "start_time": "2022-02-23T08:09:52.194Z"
   },
   {
    "duration": 358,
    "start_time": "2022-02-23T08:09:59.031Z"
   },
   {
    "duration": 344,
    "start_time": "2022-02-23T08:10:19.450Z"
   },
   {
    "duration": 213,
    "start_time": "2022-02-23T08:10:52.452Z"
   },
   {
    "duration": 231,
    "start_time": "2022-02-23T08:11:03.194Z"
   },
   {
    "duration": 10,
    "start_time": "2022-02-23T08:11:14.946Z"
   },
   {
    "duration": 485,
    "start_time": "2022-02-23T08:11:30.259Z"
   },
   {
    "duration": 334,
    "start_time": "2022-02-23T08:11:53.578Z"
   },
   {
    "duration": 11,
    "start_time": "2022-02-23T08:11:56.850Z"
   },
   {
    "duration": 597,
    "start_time": "2022-02-23T08:11:58.218Z"
   },
   {
    "duration": 1474,
    "start_time": "2022-02-23T08:12:52.251Z"
   },
   {
    "duration": 44,
    "start_time": "2022-02-23T08:12:53.727Z"
   },
   {
    "duration": 9,
    "start_time": "2022-02-23T08:12:53.773Z"
   },
   {
    "duration": 12,
    "start_time": "2022-02-23T08:12:53.784Z"
   },
   {
    "duration": 7,
    "start_time": "2022-02-23T08:12:53.798Z"
   },
   {
    "duration": 58,
    "start_time": "2022-02-23T08:12:53.806Z"
   },
   {
    "duration": 23,
    "start_time": "2022-02-23T08:12:53.866Z"
   },
   {
    "duration": 14,
    "start_time": "2022-02-23T08:12:53.892Z"
   },
   {
    "duration": 16,
    "start_time": "2022-02-23T08:12:53.908Z"
   },
   {
    "duration": 44,
    "start_time": "2022-02-23T08:12:53.925Z"
   },
   {
    "duration": 4,
    "start_time": "2022-02-23T08:12:53.970Z"
   },
   {
    "duration": 5,
    "start_time": "2022-02-23T08:12:53.976Z"
   },
   {
    "duration": 10,
    "start_time": "2022-02-23T08:12:53.983Z"
   },
   {
    "duration": 15,
    "start_time": "2022-02-23T08:12:53.994Z"
   },
   {
    "duration": 9,
    "start_time": "2022-02-23T08:12:54.011Z"
   },
   {
    "duration": 12,
    "start_time": "2022-02-23T08:12:54.022Z"
   },
   {
    "duration": 345,
    "start_time": "2022-02-23T08:12:54.036Z"
   },
   {
    "duration": 7,
    "start_time": "2022-02-23T08:12:54.382Z"
   },
   {
    "duration": 10,
    "start_time": "2022-02-23T08:12:54.391Z"
   },
   {
    "duration": 8,
    "start_time": "2022-02-23T08:12:54.402Z"
   },
   {
    "duration": 217,
    "start_time": "2022-02-23T08:12:54.412Z"
   },
   {
    "duration": 28,
    "start_time": "2022-02-23T08:12:54.631Z"
   },
   {
    "duration": 351,
    "start_time": "2022-02-23T08:12:54.662Z"
   },
   {
    "duration": 368,
    "start_time": "2022-02-23T08:12:55.016Z"
   },
   {
    "duration": 1161,
    "start_time": "2022-02-23T08:12:55.385Z"
   },
   {
    "duration": 359,
    "start_time": "2022-02-23T08:12:56.548Z"
   },
   {
    "duration": 11,
    "start_time": "2022-02-23T08:12:56.908Z"
   },
   {
    "duration": 489,
    "start_time": "2022-02-23T08:12:56.920Z"
   },
   {
    "duration": 325,
    "start_time": "2022-02-23T08:13:27.648Z"
   },
   {
    "duration": 404,
    "start_time": "2022-02-23T08:13:32.055Z"
   },
   {
    "duration": 359,
    "start_time": "2022-02-23T08:13:38.887Z"
   },
   {
    "duration": 383,
    "start_time": "2022-02-23T08:13:48.552Z"
   },
   {
    "duration": 382,
    "start_time": "2022-02-23T08:13:58.744Z"
   },
   {
    "duration": 379,
    "start_time": "2022-02-23T08:14:04.000Z"
   },
   {
    "duration": 734,
    "start_time": "2022-02-23T08:15:36.537Z"
   },
   {
    "duration": 494,
    "start_time": "2022-02-23T08:15:41.697Z"
   },
   {
    "duration": 352,
    "start_time": "2022-02-23T08:16:19.433Z"
   },
   {
    "duration": 385,
    "start_time": "2022-02-23T08:16:41.280Z"
   },
   {
    "duration": 856,
    "start_time": "2022-02-23T08:17:44.392Z"
   },
   {
    "duration": 777,
    "start_time": "2022-02-23T08:18:30.890Z"
   },
   {
    "duration": 777,
    "start_time": "2022-02-23T08:18:44.250Z"
   },
   {
    "duration": 785,
    "start_time": "2022-02-23T08:18:52.379Z"
   },
   {
    "duration": 773,
    "start_time": "2022-02-23T08:19:13.153Z"
   },
   {
    "duration": 1486,
    "start_time": "2022-02-23T08:19:56.644Z"
   },
   {
    "duration": 40,
    "start_time": "2022-02-23T08:19:58.132Z"
   },
   {
    "duration": 9,
    "start_time": "2022-02-23T08:19:58.174Z"
   },
   {
    "duration": 12,
    "start_time": "2022-02-23T08:19:58.185Z"
   },
   {
    "duration": 7,
    "start_time": "2022-02-23T08:19:58.199Z"
   },
   {
    "duration": 56,
    "start_time": "2022-02-23T08:19:58.207Z"
   },
   {
    "duration": 22,
    "start_time": "2022-02-23T08:19:58.265Z"
   },
   {
    "duration": 16,
    "start_time": "2022-02-23T08:19:58.289Z"
   },
   {
    "duration": 15,
    "start_time": "2022-02-23T08:19:58.309Z"
   },
   {
    "duration": 44,
    "start_time": "2022-02-23T08:19:58.326Z"
   },
   {
    "duration": 4,
    "start_time": "2022-02-23T08:19:58.372Z"
   },
   {
    "duration": 5,
    "start_time": "2022-02-23T08:19:58.378Z"
   },
   {
    "duration": 12,
    "start_time": "2022-02-23T08:19:58.384Z"
   },
   {
    "duration": 7,
    "start_time": "2022-02-23T08:19:58.398Z"
   },
   {
    "duration": 8,
    "start_time": "2022-02-23T08:19:58.407Z"
   },
   {
    "duration": 6,
    "start_time": "2022-02-23T08:19:58.417Z"
   },
   {
    "duration": 353,
    "start_time": "2022-02-23T08:19:58.425Z"
   },
   {
    "duration": 8,
    "start_time": "2022-02-23T08:19:58.779Z"
   },
   {
    "duration": 8,
    "start_time": "2022-02-23T08:19:58.789Z"
   },
   {
    "duration": 9,
    "start_time": "2022-02-23T08:19:58.799Z"
   },
   {
    "duration": 222,
    "start_time": "2022-02-23T08:19:58.810Z"
   },
   {
    "duration": 26,
    "start_time": "2022-02-23T08:19:59.034Z"
   },
   {
    "duration": 365,
    "start_time": "2022-02-23T08:19:59.062Z"
   },
   {
    "duration": 350,
    "start_time": "2022-02-23T08:19:59.429Z"
   },
   {
    "duration": 1099,
    "start_time": "2022-02-23T08:19:59.780Z"
   },
   {
    "duration": 817,
    "start_time": "2022-02-23T08:20:00.881Z"
   },
   {
    "duration": 12,
    "start_time": "2022-02-23T08:20:01.702Z"
   },
   {
    "duration": 515,
    "start_time": "2022-02-23T08:20:01.716Z"
   },
   {
    "duration": 29,
    "start_time": "2022-02-23T08:35:03.583Z"
   },
   {
    "duration": 16,
    "start_time": "2022-02-23T08:35:15.614Z"
   },
   {
    "duration": 34,
    "start_time": "2022-02-23T08:44:37.506Z"
   },
   {
    "duration": 12,
    "start_time": "2022-02-23T08:44:44.232Z"
   },
   {
    "duration": 13,
    "start_time": "2022-02-23T08:45:23.010Z"
   },
   {
    "duration": 26,
    "start_time": "2022-02-23T08:47:50.861Z"
   },
   {
    "duration": 302,
    "start_time": "2022-02-23T08:48:18.148Z"
   },
   {
    "duration": 21,
    "start_time": "2022-02-23T08:48:20.075Z"
   },
   {
    "duration": 7,
    "start_time": "2022-02-23T08:48:21.684Z"
   },
   {
    "duration": 376,
    "start_time": "2022-02-23T08:51:15.628Z"
   },
   {
    "duration": 196,
    "start_time": "2022-02-23T08:52:09.845Z"
   },
   {
    "duration": 385,
    "start_time": "2022-02-23T08:52:28.877Z"
   },
   {
    "duration": 3,
    "start_time": "2022-02-23T08:57:09.270Z"
   },
   {
    "duration": 179,
    "start_time": "2022-02-23T08:57:19.063Z"
   },
   {
    "duration": 4,
    "start_time": "2022-02-23T08:57:26.823Z"
   },
   {
    "duration": 7,
    "start_time": "2022-02-23T08:59:31.504Z"
   },
   {
    "duration": 17,
    "start_time": "2022-02-23T08:59:59.183Z"
   },
   {
    "duration": 10,
    "start_time": "2022-02-23T09:01:05.184Z"
   },
   {
    "duration": 11,
    "start_time": "2022-02-23T09:01:09.623Z"
   },
   {
    "duration": 5,
    "start_time": "2022-02-23T09:01:22.496Z"
   },
   {
    "duration": 828,
    "start_time": "2022-02-23T09:01:43.832Z"
   },
   {
    "duration": 12,
    "start_time": "2022-02-23T09:01:54.384Z"
   },
   {
    "duration": 4,
    "start_time": "2022-02-23T09:55:40.785Z"
   },
   {
    "duration": 11,
    "start_time": "2022-02-23T09:55:50.129Z"
   },
   {
    "duration": 10480,
    "start_time": "2022-02-23T09:56:01.689Z"
   },
   {
    "duration": 3,
    "start_time": "2022-02-23T09:56:13.537Z"
   },
   {
    "duration": 4869,
    "start_time": "2022-02-23T09:56:27.273Z"
   },
   {
    "duration": 13,
    "start_time": "2022-02-23T09:56:42.186Z"
   },
   {
    "duration": 7609,
    "start_time": "2022-02-23T09:57:04.578Z"
   },
   {
    "duration": 1517,
    "start_time": "2022-02-23T09:57:21.224Z"
   },
   {
    "duration": 44,
    "start_time": "2022-02-23T09:57:22.743Z"
   },
   {
    "duration": 9,
    "start_time": "2022-02-23T09:57:22.791Z"
   },
   {
    "duration": 15,
    "start_time": "2022-02-23T09:57:22.802Z"
   },
   {
    "duration": 21,
    "start_time": "2022-02-23T09:57:22.818Z"
   },
   {
    "duration": 51,
    "start_time": "2022-02-23T09:57:22.840Z"
   },
   {
    "duration": 28,
    "start_time": "2022-02-23T09:57:22.893Z"
   },
   {
    "duration": 44,
    "start_time": "2022-02-23T09:57:22.924Z"
   },
   {
    "duration": 16,
    "start_time": "2022-02-23T09:57:22.970Z"
   },
   {
    "duration": 15,
    "start_time": "2022-02-23T09:57:22.988Z"
   },
   {
    "duration": 3,
    "start_time": "2022-02-23T09:57:23.005Z"
   },
   {
    "duration": 14,
    "start_time": "2022-02-23T09:57:23.010Z"
   },
   {
    "duration": 37,
    "start_time": "2022-02-23T09:57:23.026Z"
   },
   {
    "duration": 8,
    "start_time": "2022-02-23T09:57:23.065Z"
   },
   {
    "duration": 10,
    "start_time": "2022-02-23T09:57:23.075Z"
   },
   {
    "duration": 5,
    "start_time": "2022-02-23T09:57:23.087Z"
   },
   {
    "duration": 356,
    "start_time": "2022-02-23T09:57:23.094Z"
   },
   {
    "duration": 12,
    "start_time": "2022-02-23T09:57:23.452Z"
   },
   {
    "duration": 12,
    "start_time": "2022-02-23T09:57:23.466Z"
   },
   {
    "duration": 14,
    "start_time": "2022-02-23T09:57:23.480Z"
   },
   {
    "duration": 220,
    "start_time": "2022-02-23T09:57:23.496Z"
   },
   {
    "duration": 20,
    "start_time": "2022-02-23T09:57:23.718Z"
   },
   {
    "duration": 385,
    "start_time": "2022-02-23T09:57:23.739Z"
   },
   {
    "duration": 370,
    "start_time": "2022-02-23T09:57:24.126Z"
   },
   {
    "duration": 1161,
    "start_time": "2022-02-23T09:57:24.499Z"
   },
   {
    "duration": 844,
    "start_time": "2022-02-23T09:57:25.664Z"
   },
   {
    "duration": 29,
    "start_time": "2022-02-23T09:57:26.510Z"
   },
   {
    "duration": 29,
    "start_time": "2022-02-23T09:57:26.540Z"
   },
   {
    "duration": 24,
    "start_time": "2022-02-23T09:57:26.570Z"
   },
   {
    "duration": 6,
    "start_time": "2022-02-23T09:57:26.596Z"
   },
   {
    "duration": 418,
    "start_time": "2022-02-23T09:57:26.604Z"
   },
   {
    "duration": 5,
    "start_time": "2022-02-23T09:57:27.024Z"
   },
   {
    "duration": 10,
    "start_time": "2022-02-23T09:57:27.031Z"
   },
   {
    "duration": 1408,
    "start_time": "2022-02-23T09:57:27.043Z"
   },
   {
    "duration": 3,
    "start_time": "2022-02-23T09:57:28.453Z"
   },
   {
    "duration": 75,
    "start_time": "2022-02-23T09:57:28.458Z"
   },
   {
    "duration": 13,
    "start_time": "2022-02-23T09:57:28.535Z"
   },
   {
    "duration": 10,
    "start_time": "2022-02-23T09:57:28.550Z"
   },
   {
    "duration": 9,
    "start_time": "2022-02-23T09:57:28.562Z"
   },
   {
    "duration": 10,
    "start_time": "2022-02-23T09:57:28.573Z"
   },
   {
    "duration": 7,
    "start_time": "2022-02-23T09:57:28.585Z"
   },
   {
    "duration": 13,
    "start_time": "2022-02-23T09:57:28.594Z"
   },
   {
    "duration": 5,
    "start_time": "2022-02-23T09:57:28.609Z"
   },
   {
    "duration": 1012,
    "start_time": "2022-02-23T09:57:28.615Z"
   },
   {
    "duration": 11,
    "start_time": "2022-02-23T09:57:29.629Z"
   },
   {
    "duration": 1549,
    "start_time": "2022-02-23T09:57:48.639Z"
   },
   {
    "duration": 43,
    "start_time": "2022-02-23T09:57:50.190Z"
   },
   {
    "duration": 9,
    "start_time": "2022-02-23T09:57:50.238Z"
   },
   {
    "duration": 18,
    "start_time": "2022-02-23T09:57:50.249Z"
   },
   {
    "duration": 10,
    "start_time": "2022-02-23T09:57:50.269Z"
   },
   {
    "duration": 37,
    "start_time": "2022-02-23T09:57:50.281Z"
   },
   {
    "duration": 45,
    "start_time": "2022-02-23T09:57:50.320Z"
   },
   {
    "duration": 14,
    "start_time": "2022-02-23T09:57:50.367Z"
   },
   {
    "duration": 16,
    "start_time": "2022-02-23T09:57:50.384Z"
   },
   {
    "duration": 15,
    "start_time": "2022-02-23T09:57:50.402Z"
   },
   {
    "duration": 4,
    "start_time": "2022-02-23T09:57:50.419Z"
   },
   {
    "duration": 36,
    "start_time": "2022-02-23T09:57:50.425Z"
   },
   {
    "duration": 14,
    "start_time": "2022-02-23T09:57:50.463Z"
   },
   {
    "duration": 15,
    "start_time": "2022-02-23T09:57:50.479Z"
   },
   {
    "duration": 10,
    "start_time": "2022-02-23T09:57:50.496Z"
   },
   {
    "duration": 7,
    "start_time": "2022-02-23T09:57:50.508Z"
   },
   {
    "duration": 364,
    "start_time": "2022-02-23T09:57:50.517Z"
   },
   {
    "duration": 8,
    "start_time": "2022-02-23T09:57:50.882Z"
   },
   {
    "duration": 9,
    "start_time": "2022-02-23T09:57:50.892Z"
   },
   {
    "duration": 15,
    "start_time": "2022-02-23T09:57:50.903Z"
   },
   {
    "duration": 227,
    "start_time": "2022-02-23T09:57:50.921Z"
   },
   {
    "duration": 26,
    "start_time": "2022-02-23T09:57:51.151Z"
   },
   {
    "duration": 392,
    "start_time": "2022-02-23T09:57:51.179Z"
   },
   {
    "duration": 375,
    "start_time": "2022-02-23T09:57:51.573Z"
   },
   {
    "duration": 1128,
    "start_time": "2022-02-23T09:57:51.950Z"
   },
   {
    "duration": 783,
    "start_time": "2022-02-23T09:57:53.080Z"
   },
   {
    "duration": 29,
    "start_time": "2022-02-23T09:57:53.866Z"
   },
   {
    "duration": 14,
    "start_time": "2022-02-23T09:57:53.897Z"
   },
   {
    "duration": 56,
    "start_time": "2022-02-23T09:57:53.913Z"
   },
   {
    "duration": 6,
    "start_time": "2022-02-23T09:57:53.971Z"
   },
   {
    "duration": 411,
    "start_time": "2022-02-23T09:57:53.979Z"
   },
   {
    "duration": 5,
    "start_time": "2022-02-23T09:57:54.392Z"
   },
   {
    "duration": 10,
    "start_time": "2022-02-23T09:57:54.399Z"
   },
   {
    "duration": 1892,
    "start_time": "2022-02-23T09:57:54.411Z"
   },
   {
    "duration": 3,
    "start_time": "2022-02-23T09:57:56.305Z"
   },
   {
    "duration": 76,
    "start_time": "2022-02-23T09:57:56.310Z"
   },
   {
    "duration": 15,
    "start_time": "2022-02-23T09:57:56.388Z"
   },
   {
    "duration": 316,
    "start_time": "2022-02-23T09:58:17.618Z"
   },
   {
    "duration": 371,
    "start_time": "2022-02-23T09:58:24.275Z"
   },
   {
    "duration": 3,
    "start_time": "2022-02-23T10:00:38.627Z"
   },
   {
    "duration": 213,
    "start_time": "2022-02-23T10:00:48.379Z"
   },
   {
    "duration": 208,
    "start_time": "2022-02-23T10:00:54.299Z"
   },
   {
    "duration": 183,
    "start_time": "2022-02-23T10:01:03.627Z"
   },
   {
    "duration": 18,
    "start_time": "2022-02-23T10:01:10.020Z"
   },
   {
    "duration": 731,
    "start_time": "2022-02-23T10:01:16.595Z"
   },
   {
    "duration": 12,
    "start_time": "2022-02-23T10:05:51.556Z"
   },
   {
    "duration": 151,
    "start_time": "2022-02-23T10:05:55.155Z"
   },
   {
    "duration": 370,
    "start_time": "2022-02-23T10:07:46.589Z"
   },
   {
    "duration": 251,
    "start_time": "2022-02-23T10:08:22.341Z"
   },
   {
    "duration": 18,
    "start_time": "2022-02-23T10:08:27.797Z"
   },
   {
    "duration": 341,
    "start_time": "2022-02-23T10:08:37.845Z"
   },
   {
    "duration": 11,
    "start_time": "2022-02-23T10:08:47.868Z"
   },
   {
    "duration": 3,
    "start_time": "2022-02-23T10:08:56.341Z"
   },
   {
    "duration": 11,
    "start_time": "2022-02-23T10:09:06.868Z"
   },
   {
    "duration": 136,
    "start_time": "2022-02-23T10:09:19.628Z"
   },
   {
    "duration": 181,
    "start_time": "2022-02-23T10:10:30.324Z"
   },
   {
    "duration": 8,
    "start_time": "2022-02-23T10:10:46.573Z"
   },
   {
    "duration": 203,
    "start_time": "2022-02-23T10:11:20.910Z"
   },
   {
    "duration": 2258,
    "start_time": "2022-02-26T08:32:48.964Z"
   },
   {
    "duration": 57,
    "start_time": "2022-02-26T08:32:51.225Z"
   },
   {
    "duration": 13,
    "start_time": "2022-02-26T08:32:51.285Z"
   },
   {
    "duration": 19,
    "start_time": "2022-02-26T08:32:51.302Z"
   },
   {
    "duration": 12,
    "start_time": "2022-02-26T08:32:51.323Z"
   },
   {
    "duration": 49,
    "start_time": "2022-02-26T08:32:51.362Z"
   },
   {
    "duration": 52,
    "start_time": "2022-02-26T08:32:51.414Z"
   },
   {
    "duration": 22,
    "start_time": "2022-02-26T08:32:51.470Z"
   },
   {
    "duration": 21,
    "start_time": "2022-02-26T08:32:51.496Z"
   },
   {
    "duration": 49,
    "start_time": "2022-02-26T08:32:51.520Z"
   },
   {
    "duration": 5,
    "start_time": "2022-02-26T08:32:51.572Z"
   },
   {
    "duration": 8,
    "start_time": "2022-02-26T08:32:51.580Z"
   },
   {
    "duration": 17,
    "start_time": "2022-02-26T08:32:51.591Z"
   },
   {
    "duration": 15,
    "start_time": "2022-02-26T08:32:51.611Z"
   },
   {
    "duration": 40,
    "start_time": "2022-02-26T08:32:51.629Z"
   },
   {
    "duration": 8,
    "start_time": "2022-02-26T08:32:51.671Z"
   },
   {
    "duration": 518,
    "start_time": "2022-02-26T08:32:51.681Z"
   },
   {
    "duration": 14,
    "start_time": "2022-02-26T08:32:52.202Z"
   },
   {
    "duration": 21,
    "start_time": "2022-02-26T08:32:52.219Z"
   },
   {
    "duration": 24,
    "start_time": "2022-02-26T08:32:52.242Z"
   },
   {
    "duration": 332,
    "start_time": "2022-02-26T08:32:52.269Z"
   },
   {
    "duration": 31,
    "start_time": "2022-02-26T08:32:52.603Z"
   },
   {
    "duration": 883,
    "start_time": "2022-02-26T08:32:52.639Z"
   },
   {
    "duration": 607,
    "start_time": "2022-02-26T08:32:53.527Z"
   },
   {
    "duration": 1570,
    "start_time": "2022-02-26T08:32:54.137Z"
   },
   {
    "duration": 1418,
    "start_time": "2022-02-26T08:32:55.710Z"
   },
   {
    "duration": 69,
    "start_time": "2022-02-26T08:32:57.131Z"
   },
   {
    "duration": 27,
    "start_time": "2022-02-26T08:32:57.203Z"
   },
   {
    "duration": 66,
    "start_time": "2022-02-26T08:32:57.233Z"
   },
   {
    "duration": 13,
    "start_time": "2022-02-26T08:32:57.302Z"
   },
   {
    "duration": 702,
    "start_time": "2022-02-26T08:32:57.318Z"
   },
   {
    "duration": 6,
    "start_time": "2022-02-26T08:32:58.023Z"
   },
   {
    "duration": 30,
    "start_time": "2022-02-26T08:32:58.031Z"
   },
   {
    "duration": 1880,
    "start_time": "2022-02-26T08:32:58.064Z"
   },
   {
    "duration": 6,
    "start_time": "2022-02-26T08:32:59.946Z"
   },
   {
    "duration": 109,
    "start_time": "2022-02-26T08:32:59.954Z"
   },
   {
    "duration": 21,
    "start_time": "2022-02-26T08:33:00.065Z"
   },
   {
    "duration": 664,
    "start_time": "2022-02-26T08:33:00.088Z"
   },
   {
    "duration": 6,
    "start_time": "2022-02-26T08:33:00.755Z"
   },
   {
    "duration": 18,
    "start_time": "2022-02-26T08:33:00.763Z"
   },
   {
    "duration": 980,
    "start_time": "2022-02-26T08:33:00.784Z"
   },
   {
    "duration": 710,
    "start_time": "2022-02-26T08:33:01.766Z"
   },
   {
    "duration": 12,
    "start_time": "2022-02-26T08:33:02.478Z"
   },
   {
    "duration": 18,
    "start_time": "2022-02-26T08:33:02.494Z"
   },
   {
    "duration": 46,
    "start_time": "2022-02-26T08:33:02.515Z"
   },
   {
    "duration": 7,
    "start_time": "2022-02-26T08:33:02.564Z"
   },
   {
    "duration": 15,
    "start_time": "2022-02-26T08:33:02.573Z"
   },
   {
    "duration": 217,
    "start_time": "2022-02-26T08:33:02.591Z"
   },
   {
    "duration": 2167,
    "start_time": "2022-02-26T08:43:13.368Z"
   },
   {
    "duration": 58,
    "start_time": "2022-02-26T08:43:15.537Z"
   },
   {
    "duration": 12,
    "start_time": "2022-02-26T08:43:15.597Z"
   },
   {
    "duration": 17,
    "start_time": "2022-02-26T08:43:15.612Z"
   },
   {
    "duration": 34,
    "start_time": "2022-02-26T08:43:15.632Z"
   },
   {
    "duration": 47,
    "start_time": "2022-02-26T08:43:15.669Z"
   },
   {
    "duration": 58,
    "start_time": "2022-02-26T08:43:15.719Z"
   },
   {
    "duration": 20,
    "start_time": "2022-02-26T08:43:15.780Z"
   },
   {
    "duration": 19,
    "start_time": "2022-02-26T08:43:15.803Z"
   },
   {
    "duration": 45,
    "start_time": "2022-02-26T08:43:15.825Z"
   },
   {
    "duration": 5,
    "start_time": "2022-02-26T08:43:15.872Z"
   },
   {
    "duration": 9,
    "start_time": "2022-02-26T08:43:15.879Z"
   },
   {
    "duration": 15,
    "start_time": "2022-02-26T08:43:15.890Z"
   },
   {
    "duration": 11,
    "start_time": "2022-02-26T08:43:15.908Z"
   },
   {
    "duration": 47,
    "start_time": "2022-02-26T08:43:15.921Z"
   },
   {
    "duration": 13,
    "start_time": "2022-02-26T08:43:15.970Z"
   },
   {
    "duration": 537,
    "start_time": "2022-02-26T08:43:15.986Z"
   },
   {
    "duration": 11,
    "start_time": "2022-02-26T08:43:16.526Z"
   },
   {
    "duration": 29,
    "start_time": "2022-02-26T08:43:16.540Z"
   },
   {
    "duration": 14,
    "start_time": "2022-02-26T08:43:16.571Z"
   },
   {
    "duration": 354,
    "start_time": "2022-02-26T08:43:16.588Z"
   },
   {
    "duration": 49,
    "start_time": "2022-02-26T08:43:16.945Z"
   },
   {
    "duration": 933,
    "start_time": "2022-02-26T08:43:17.000Z"
   },
   {
    "duration": 599,
    "start_time": "2022-02-26T08:43:17.937Z"
   },
   {
    "duration": 1751,
    "start_time": "2022-02-26T08:43:18.538Z"
   },
   {
    "duration": 1390,
    "start_time": "2022-02-26T08:43:20.293Z"
   },
   {
    "duration": 41,
    "start_time": "2022-02-26T08:43:21.685Z"
   },
   {
    "duration": 42,
    "start_time": "2022-02-26T08:43:21.730Z"
   },
   {
    "duration": 44,
    "start_time": "2022-02-26T08:43:21.776Z"
   },
   {
    "duration": 10,
    "start_time": "2022-02-26T08:43:21.823Z"
   },
   {
    "duration": 689,
    "start_time": "2022-02-26T08:43:21.836Z"
   },
   {
    "duration": 516,
    "start_time": "2022-02-26T08:43:22.527Z"
   },
   {
    "duration": 1706,
    "start_time": "2022-02-26T08:43:21.339Z"
   },
   {
    "duration": 1705,
    "start_time": "2022-02-26T08:43:21.342Z"
   },
   {
    "duration": 1705,
    "start_time": "2022-02-26T08:43:21.343Z"
   },
   {
    "duration": 1700,
    "start_time": "2022-02-26T08:43:21.350Z"
   },
   {
    "duration": 1700,
    "start_time": "2022-02-26T08:43:21.351Z"
   },
   {
    "duration": 1700,
    "start_time": "2022-02-26T08:43:21.353Z"
   },
   {
    "duration": 1699,
    "start_time": "2022-02-26T08:43:21.355Z"
   },
   {
    "duration": 1698,
    "start_time": "2022-02-26T08:43:21.357Z"
   },
   {
    "duration": 1699,
    "start_time": "2022-02-26T08:43:21.358Z"
   },
   {
    "duration": 1698,
    "start_time": "2022-02-26T08:43:21.360Z"
   },
   {
    "duration": 1698,
    "start_time": "2022-02-26T08:43:21.361Z"
   },
   {
    "duration": 1693,
    "start_time": "2022-02-26T08:43:21.368Z"
   },
   {
    "duration": 1692,
    "start_time": "2022-02-26T08:43:21.370Z"
   },
   {
    "duration": 1692,
    "start_time": "2022-02-26T08:43:21.372Z"
   },
   {
    "duration": 1691,
    "start_time": "2022-02-26T08:43:21.374Z"
   },
   {
    "duration": 1691,
    "start_time": "2022-02-26T08:43:21.375Z"
   },
   {
    "duration": 1691,
    "start_time": "2022-02-26T08:43:21.377Z"
   },
   {
    "duration": 317,
    "start_time": "2022-02-26T08:43:42.181Z"
   },
   {
    "duration": 6,
    "start_time": "2022-02-26T08:44:20.535Z"
   },
   {
    "duration": 15,
    "start_time": "2022-02-26T08:44:22.047Z"
   },
   {
    "duration": 1690,
    "start_time": "2022-02-26T08:44:25.862Z"
   },
   {
    "duration": 5,
    "start_time": "2022-02-26T08:44:28.288Z"
   },
   {
    "duration": 110,
    "start_time": "2022-02-26T08:44:32.262Z"
   },
   {
    "duration": 21,
    "start_time": "2022-02-26T08:44:34.917Z"
   },
   {
    "duration": 600,
    "start_time": "2022-02-26T08:44:40.262Z"
   },
   {
    "duration": 12,
    "start_time": "2022-02-26T08:49:33.870Z"
   },
   {
    "duration": 1805,
    "start_time": "2022-02-26T08:49:35.543Z"
   },
   {
    "duration": 4,
    "start_time": "2022-02-26T08:49:38.672Z"
   },
   {
    "duration": 7704,
    "start_time": "2022-02-26T08:49:41.439Z"
   },
   {
    "duration": 1682,
    "start_time": "2022-02-26T08:49:47.463Z"
   },
   {
    "duration": 2057,
    "start_time": "2022-02-26T08:50:03.337Z"
   },
   {
    "duration": 51,
    "start_time": "2022-02-26T08:50:05.397Z"
   },
   {
    "duration": 12,
    "start_time": "2022-02-26T08:50:05.454Z"
   },
   {
    "duration": 18,
    "start_time": "2022-02-26T08:50:05.469Z"
   },
   {
    "duration": 13,
    "start_time": "2022-02-26T08:50:05.489Z"
   },
   {
    "duration": 83,
    "start_time": "2022-02-26T08:50:05.505Z"
   },
   {
    "duration": 33,
    "start_time": "2022-02-26T08:50:05.590Z"
   },
   {
    "duration": 43,
    "start_time": "2022-02-26T08:50:05.629Z"
   },
   {
    "duration": 22,
    "start_time": "2022-02-26T08:50:05.676Z"
   },
   {
    "duration": 23,
    "start_time": "2022-02-26T08:50:05.701Z"
   },
   {
    "duration": 39,
    "start_time": "2022-02-26T08:50:05.727Z"
   },
   {
    "duration": 8,
    "start_time": "2022-02-26T08:50:05.769Z"
   },
   {
    "duration": 15,
    "start_time": "2022-02-26T08:50:05.780Z"
   },
   {
    "duration": 11,
    "start_time": "2022-02-26T08:50:05.798Z"
   },
   {
    "duration": 13,
    "start_time": "2022-02-26T08:50:05.811Z"
   },
   {
    "duration": 5,
    "start_time": "2022-02-26T08:50:05.862Z"
   },
   {
    "duration": 625,
    "start_time": "2022-02-26T08:50:05.870Z"
   },
   {
    "duration": 11,
    "start_time": "2022-02-26T08:50:06.498Z"
   },
   {
    "duration": 10,
    "start_time": "2022-02-26T08:50:06.511Z"
   },
   {
    "duration": 9,
    "start_time": "2022-02-26T08:50:06.523Z"
   },
   {
    "duration": 336,
    "start_time": "2022-02-26T08:50:06.562Z"
   },
   {
    "duration": 30,
    "start_time": "2022-02-26T08:50:06.901Z"
   },
   {
    "duration": 788,
    "start_time": "2022-02-26T08:50:06.933Z"
   },
   {
    "duration": 583,
    "start_time": "2022-02-26T08:50:07.724Z"
   },
   {
    "duration": 1664,
    "start_time": "2022-02-26T08:50:08.310Z"
   },
   {
    "duration": 1466,
    "start_time": "2022-02-26T08:50:09.981Z"
   },
   {
    "duration": 44,
    "start_time": "2022-02-26T08:50:11.450Z"
   },
   {
    "duration": 18,
    "start_time": "2022-02-26T08:50:11.496Z"
   },
   {
    "duration": 59,
    "start_time": "2022-02-26T08:50:11.517Z"
   },
   {
    "duration": 11,
    "start_time": "2022-02-26T08:50:11.578Z"
   },
   {
    "duration": 759,
    "start_time": "2022-02-26T08:50:11.591Z"
   },
   {
    "duration": 12,
    "start_time": "2022-02-26T08:50:12.353Z"
   },
   {
    "duration": 16,
    "start_time": "2022-02-26T08:50:12.367Z"
   },
   {
    "duration": 1183,
    "start_time": "2022-02-26T08:50:12.386Z"
   },
   {
    "duration": 5,
    "start_time": "2022-02-26T08:50:13.572Z"
   },
   {
    "duration": 117,
    "start_time": "2022-02-26T08:50:13.579Z"
   },
   {
    "duration": 20,
    "start_time": "2022-02-26T08:50:13.699Z"
   },
   {
    "duration": 600,
    "start_time": "2022-02-26T08:50:13.722Z"
   },
   {
    "duration": 648,
    "start_time": "2022-02-26T08:50:14.325Z"
   },
   {
    "duration": 4,
    "start_time": "2022-02-26T08:50:14.975Z"
   },
   {
    "duration": 17,
    "start_time": "2022-02-26T08:50:14.982Z"
   },
   {
    "duration": 970,
    "start_time": "2022-02-26T08:50:15.002Z"
   },
   {
    "duration": 697,
    "start_time": "2022-02-26T08:50:15.974Z"
   },
   {
    "duration": 10,
    "start_time": "2022-02-26T08:50:16.673Z"
   },
   {
    "duration": 18,
    "start_time": "2022-02-26T08:50:16.686Z"
   },
   {
    "duration": 12,
    "start_time": "2022-02-26T08:50:16.706Z"
   },
   {
    "duration": 39,
    "start_time": "2022-02-26T08:50:16.721Z"
   },
   {
    "duration": 19,
    "start_time": "2022-02-26T08:50:16.762Z"
   },
   {
    "duration": 192,
    "start_time": "2022-02-26T08:50:16.784Z"
   },
   {
    "duration": 293,
    "start_time": "2022-02-27T08:10:22.897Z"
   },
   {
    "duration": 1667,
    "start_time": "2022-02-27T08:10:28.191Z"
   },
   {
    "duration": 71,
    "start_time": "2022-02-27T08:10:29.860Z"
   },
   {
    "duration": 9,
    "start_time": "2022-02-27T08:10:29.933Z"
   },
   {
    "duration": 20,
    "start_time": "2022-02-27T08:10:29.943Z"
   },
   {
    "duration": 12,
    "start_time": "2022-02-27T08:10:29.964Z"
   },
   {
    "duration": 36,
    "start_time": "2022-02-27T08:10:29.978Z"
   },
   {
    "duration": 26,
    "start_time": "2022-02-27T08:10:30.016Z"
   },
   {
    "duration": 33,
    "start_time": "2022-02-27T08:10:30.044Z"
   },
   {
    "duration": 16,
    "start_time": "2022-02-27T08:10:30.080Z"
   },
   {
    "duration": 15,
    "start_time": "2022-02-27T08:10:30.098Z"
   },
   {
    "duration": 3,
    "start_time": "2022-02-27T08:10:30.115Z"
   },
   {
    "duration": 9,
    "start_time": "2022-02-27T08:10:30.120Z"
   },
   {
    "duration": 35,
    "start_time": "2022-02-27T08:10:30.131Z"
   },
   {
    "duration": 11,
    "start_time": "2022-02-27T08:10:30.168Z"
   },
   {
    "duration": 8,
    "start_time": "2022-02-27T08:10:30.180Z"
   },
   {
    "duration": 6,
    "start_time": "2022-02-27T08:10:30.190Z"
   },
   {
    "duration": 337,
    "start_time": "2022-02-27T08:10:30.198Z"
   },
   {
    "duration": 8,
    "start_time": "2022-02-27T08:10:30.537Z"
   },
   {
    "duration": 21,
    "start_time": "2022-02-27T08:10:30.547Z"
   },
   {
    "duration": 9,
    "start_time": "2022-02-27T08:10:30.570Z"
   },
   {
    "duration": 212,
    "start_time": "2022-02-27T08:10:30.581Z"
   },
   {
    "duration": 19,
    "start_time": "2022-02-27T08:10:30.794Z"
   },
   {
    "duration": 448,
    "start_time": "2022-02-27T08:10:30.815Z"
   },
   {
    "duration": 346,
    "start_time": "2022-02-27T08:10:31.265Z"
   },
   {
    "duration": 1120,
    "start_time": "2022-02-27T08:10:31.613Z"
   },
   {
    "duration": 804,
    "start_time": "2022-02-27T08:10:32.735Z"
   },
   {
    "duration": 38,
    "start_time": "2022-02-27T08:10:33.542Z"
   },
   {
    "duration": 24,
    "start_time": "2022-02-27T08:10:33.582Z"
   },
   {
    "duration": 47,
    "start_time": "2022-02-27T08:10:33.608Z"
   },
   {
    "duration": 7,
    "start_time": "2022-02-27T08:10:33.657Z"
   },
   {
    "duration": 367,
    "start_time": "2022-02-27T08:10:33.665Z"
   },
   {
    "duration": 332,
    "start_time": "2022-02-27T08:10:34.034Z"
   },
   {
    "duration": 4,
    "start_time": "2022-02-27T08:10:56.287Z"
   },
   {
    "duration": 19,
    "start_time": "2022-02-27T08:11:05.494Z"
   },
   {
    "duration": 10,
    "start_time": "2022-02-27T08:11:15.239Z"
   },
   {
    "duration": 4,
    "start_time": "2022-02-27T08:11:30.743Z"
   },
   {
    "duration": 8,
    "start_time": "2022-02-27T08:13:18.406Z"
   },
   {
    "duration": 43,
    "start_time": "2022-02-27T08:13:18.416Z"
   },
   {
    "duration": 9,
    "start_time": "2022-02-27T08:13:18.461Z"
   },
   {
    "duration": 13,
    "start_time": "2022-02-27T08:13:18.472Z"
   },
   {
    "duration": 11,
    "start_time": "2022-02-27T08:13:18.486Z"
   },
   {
    "duration": 34,
    "start_time": "2022-02-27T08:13:18.499Z"
   },
   {
    "duration": 47,
    "start_time": "2022-02-27T08:13:18.535Z"
   },
   {
    "duration": 14,
    "start_time": "2022-02-27T08:13:18.584Z"
   },
   {
    "duration": 16,
    "start_time": "2022-02-27T08:13:18.600Z"
   },
   {
    "duration": 14,
    "start_time": "2022-02-27T08:13:18.618Z"
   },
   {
    "duration": 29,
    "start_time": "2022-02-27T08:13:18.634Z"
   },
   {
    "duration": 3,
    "start_time": "2022-02-27T08:13:18.665Z"
   },
   {
    "duration": 14,
    "start_time": "2022-02-27T08:13:18.669Z"
   },
   {
    "duration": 11,
    "start_time": "2022-02-27T08:13:18.684Z"
   },
   {
    "duration": 17,
    "start_time": "2022-02-27T08:13:18.697Z"
   },
   {
    "duration": 8,
    "start_time": "2022-02-27T08:13:18.716Z"
   },
   {
    "duration": 338,
    "start_time": "2022-02-27T08:13:18.725Z"
   },
   {
    "duration": 8,
    "start_time": "2022-02-27T08:13:19.065Z"
   },
   {
    "duration": 9,
    "start_time": "2022-02-27T08:13:19.074Z"
   },
   {
    "duration": 9,
    "start_time": "2022-02-27T08:13:19.085Z"
   },
   {
    "duration": 212,
    "start_time": "2022-02-27T08:13:19.095Z"
   },
   {
    "duration": 19,
    "start_time": "2022-02-27T08:13:19.309Z"
   },
   {
    "duration": 8,
    "start_time": "2022-02-27T08:13:19.330Z"
   },
   {
    "duration": 382,
    "start_time": "2022-02-27T08:13:19.340Z"
   },
   {
    "duration": 1102,
    "start_time": "2022-02-27T08:13:19.724Z"
   },
   {
    "duration": 802,
    "start_time": "2022-02-27T08:13:20.828Z"
   },
   {
    "duration": 159,
    "start_time": "2022-02-27T08:13:21.632Z"
   },
   {
    "duration": 17,
    "start_time": "2022-02-27T08:13:21.794Z"
   },
   {
    "duration": 34,
    "start_time": "2022-02-27T08:13:21.813Z"
   },
   {
    "duration": 7,
    "start_time": "2022-02-27T08:13:21.848Z"
   },
   {
    "duration": 381,
    "start_time": "2022-02-27T08:13:21.863Z"
   },
   {
    "duration": 4,
    "start_time": "2022-02-27T08:13:22.245Z"
   },
   {
    "duration": 39,
    "start_time": "2022-02-27T08:13:22.251Z"
   },
   {
    "duration": 8,
    "start_time": "2022-02-27T08:13:22.292Z"
   },
   {
    "duration": 24,
    "start_time": "2022-02-27T08:13:22.302Z"
   },
   {
    "duration": 839,
    "start_time": "2022-02-27T08:13:22.327Z"
   },
   {
    "duration": 10,
    "start_time": "2022-02-27T08:13:23.168Z"
   },
   {
    "duration": 7,
    "start_time": "2022-02-27T08:13:39.972Z"
   },
   {
    "duration": 167,
    "start_time": "2022-02-27T08:13:58.467Z"
   },
   {
    "duration": 5,
    "start_time": "2022-02-27T08:14:06.515Z"
   },
   {
    "duration": 5,
    "start_time": "2022-02-27T08:14:13.730Z"
   },
   {
    "duration": 4,
    "start_time": "2022-02-27T08:14:22.611Z"
   },
   {
    "duration": 766,
    "start_time": "2022-02-27T08:14:35.763Z"
   },
   {
    "duration": 6,
    "start_time": "2022-02-27T08:14:45.155Z"
   },
   {
    "duration": 9,
    "start_time": "2022-02-27T08:14:52.099Z"
   },
   {
    "duration": 5,
    "start_time": "2022-02-27T08:15:03.443Z"
   },
   {
    "duration": 6,
    "start_time": "2022-02-27T08:15:11.491Z"
   },
   {
    "duration": 10,
    "start_time": "2022-02-27T08:15:18.963Z"
   },
   {
    "duration": 18,
    "start_time": "2022-02-27T08:18:01.667Z"
   },
   {
    "duration": 21,
    "start_time": "2022-02-27T08:18:16.483Z"
   },
   {
    "duration": 18,
    "start_time": "2022-02-27T08:18:30.331Z"
   },
   {
    "duration": 333,
    "start_time": "2022-02-27T08:19:32.773Z"
   },
   {
    "duration": 346,
    "start_time": "2022-02-27T08:19:45.612Z"
   },
   {
    "duration": 74,
    "start_time": "2022-02-27T08:22:28.165Z"
   },
   {
    "duration": 76,
    "start_time": "2022-02-27T08:23:14.877Z"
   },
   {
    "duration": 65,
    "start_time": "2022-02-27T08:23:23.725Z"
   },
   {
    "duration": 202,
    "start_time": "2022-02-27T08:24:38.614Z"
   },
   {
    "duration": 395,
    "start_time": "2022-02-27T08:24:59.462Z"
   },
   {
    "duration": 231,
    "start_time": "2022-02-27T08:25:23.463Z"
   },
   {
    "duration": 381,
    "start_time": "2022-02-27T08:25:28.110Z"
   },
   {
    "duration": 342,
    "start_time": "2022-02-27T08:25:34.223Z"
   },
   {
    "duration": 584,
    "start_time": "2022-02-27T08:27:47.719Z"
   },
   {
    "duration": 722,
    "start_time": "2022-02-27T08:30:10.504Z"
   },
   {
    "duration": 1445,
    "start_time": "2022-02-27T08:35:11.214Z"
   },
   {
    "duration": 39,
    "start_time": "2022-02-27T08:35:12.661Z"
   },
   {
    "duration": 9,
    "start_time": "2022-02-27T08:35:12.702Z"
   },
   {
    "duration": 13,
    "start_time": "2022-02-27T08:35:12.713Z"
   },
   {
    "duration": 12,
    "start_time": "2022-02-27T08:35:12.727Z"
   },
   {
    "duration": 41,
    "start_time": "2022-02-27T08:35:12.741Z"
   },
   {
    "duration": 21,
    "start_time": "2022-02-27T08:35:12.784Z"
   },
   {
    "duration": 15,
    "start_time": "2022-02-27T08:35:12.807Z"
   },
   {
    "duration": 14,
    "start_time": "2022-02-27T08:35:12.825Z"
   },
   {
    "duration": 36,
    "start_time": "2022-02-27T08:35:12.841Z"
   },
   {
    "duration": 4,
    "start_time": "2022-02-27T08:35:12.879Z"
   },
   {
    "duration": 7,
    "start_time": "2022-02-27T08:35:12.885Z"
   },
   {
    "duration": 9,
    "start_time": "2022-02-27T08:35:12.894Z"
   },
   {
    "duration": 8,
    "start_time": "2022-02-27T08:35:12.905Z"
   },
   {
    "duration": 8,
    "start_time": "2022-02-27T08:35:12.914Z"
   },
   {
    "duration": 10,
    "start_time": "2022-02-27T08:35:12.923Z"
   },
   {
    "duration": 331,
    "start_time": "2022-02-27T08:35:12.935Z"
   },
   {
    "duration": 8,
    "start_time": "2022-02-27T08:35:13.268Z"
   },
   {
    "duration": 11,
    "start_time": "2022-02-27T08:35:13.278Z"
   },
   {
    "duration": 7,
    "start_time": "2022-02-27T08:35:13.291Z"
   },
   {
    "duration": 223,
    "start_time": "2022-02-27T08:35:13.300Z"
   },
   {
    "duration": 21,
    "start_time": "2022-02-27T08:35:13.525Z"
   },
   {
    "duration": 454,
    "start_time": "2022-02-27T08:35:13.548Z"
   },
   {
    "duration": 347,
    "start_time": "2022-02-27T08:35:14.004Z"
   },
   {
    "duration": 1082,
    "start_time": "2022-02-27T08:35:14.353Z"
   },
   {
    "duration": 791,
    "start_time": "2022-02-27T08:35:15.437Z"
   },
   {
    "duration": 36,
    "start_time": "2022-02-27T08:35:16.233Z"
   },
   {
    "duration": 17,
    "start_time": "2022-02-27T08:35:16.271Z"
   },
   {
    "duration": 44,
    "start_time": "2022-02-27T08:35:16.289Z"
   },
   {
    "duration": 6,
    "start_time": "2022-02-27T08:35:16.335Z"
   },
   {
    "duration": 365,
    "start_time": "2022-02-27T08:35:16.343Z"
   },
   {
    "duration": 5,
    "start_time": "2022-02-27T08:35:16.710Z"
   },
   {
    "duration": 19,
    "start_time": "2022-02-27T08:35:16.717Z"
   },
   {
    "duration": 33,
    "start_time": "2022-02-27T08:35:16.738Z"
   },
   {
    "duration": 5,
    "start_time": "2022-02-27T08:35:16.773Z"
   },
   {
    "duration": 885,
    "start_time": "2022-02-27T08:35:16.780Z"
   },
   {
    "duration": 12,
    "start_time": "2022-02-27T08:35:17.667Z"
   },
   {
    "duration": 1291,
    "start_time": "2022-02-27T08:35:17.681Z"
   },
   {
    "duration": 3633,
    "start_time": "2022-02-27T08:35:15.342Z"
   },
   {
    "duration": 3633,
    "start_time": "2022-02-27T08:35:15.343Z"
   },
   {
    "duration": 3633,
    "start_time": "2022-02-27T08:35:15.345Z"
   },
   {
    "duration": 3633,
    "start_time": "2022-02-27T08:35:15.346Z"
   },
   {
    "duration": 3634,
    "start_time": "2022-02-27T08:35:15.347Z"
   },
   {
    "duration": 3634,
    "start_time": "2022-02-27T08:35:15.348Z"
   },
   {
    "duration": 3634,
    "start_time": "2022-02-27T08:35:15.350Z"
   },
   {
    "duration": 4,
    "start_time": "2022-02-27T08:35:55.855Z"
   },
   {
    "duration": 717,
    "start_time": "2022-02-27T08:35:57.494Z"
   },
   {
    "duration": 9,
    "start_time": "2022-02-27T08:35:59.343Z"
   },
   {
    "duration": 17,
    "start_time": "2022-02-27T08:36:01.431Z"
   },
   {
    "duration": 20,
    "start_time": "2022-02-27T08:36:03.438Z"
   },
   {
    "duration": 16,
    "start_time": "2022-02-27T08:36:06.648Z"
   },
   {
    "duration": 574,
    "start_time": "2022-02-27T08:36:08.479Z"
   },
   {
    "duration": 3,
    "start_time": "2022-02-27T08:47:25.633Z"
   },
   {
    "duration": 4,
    "start_time": "2022-02-27T08:47:27.353Z"
   },
   {
    "duration": 6,
    "start_time": "2022-02-27T08:48:52.746Z"
   },
   {
    "duration": 15,
    "start_time": "2022-02-27T08:48:57.442Z"
   },
   {
    "duration": 4,
    "start_time": "2022-02-27T08:49:36.120Z"
   },
   {
    "duration": 8,
    "start_time": "2022-02-27T08:49:37.833Z"
   },
   {
    "duration": 731,
    "start_time": "2022-02-27T08:50:48.514Z"
   },
   {
    "duration": 13,
    "start_time": "2022-02-27T08:50:52.063Z"
   },
   {
    "duration": 5,
    "start_time": "2022-02-27T08:51:30.940Z"
   },
   {
    "duration": 70,
    "start_time": "2022-02-27T08:53:07.029Z"
   },
   {
    "duration": 770,
    "start_time": "2022-02-27T08:53:55.612Z"
   },
   {
    "duration": 4,
    "start_time": "2022-02-27T08:53:57.508Z"
   },
   {
    "duration": 8,
    "start_time": "2022-02-27T08:53:59.044Z"
   },
   {
    "duration": 18,
    "start_time": "2022-02-27T08:54:01.818Z"
   },
   {
    "duration": 13,
    "start_time": "2022-02-27T08:54:44.316Z"
   },
   {
    "duration": 11,
    "start_time": "2022-02-27T08:54:46.147Z"
   },
   {
    "duration": 12,
    "start_time": "2022-02-27T08:55:41.340Z"
   },
   {
    "duration": 9,
    "start_time": "2022-02-27T08:55:43.348Z"
   },
   {
    "duration": 11,
    "start_time": "2022-02-27T09:13:00.818Z"
   },
   {
    "duration": 15,
    "start_time": "2022-02-27T09:13:07.161Z"
   },
   {
    "duration": 218,
    "start_time": "2022-02-27T09:13:20.810Z"
   },
   {
    "duration": 5279,
    "start_time": "2022-02-27T09:13:30.875Z"
   },
   {
    "duration": 18,
    "start_time": "2022-02-27T09:15:40.337Z"
   },
   {
    "duration": 10,
    "start_time": "2022-02-27T09:15:41.986Z"
   },
   {
    "duration": 9,
    "start_time": "2022-02-27T09:15:55.570Z"
   },
   {
    "duration": 13,
    "start_time": "2022-02-27T09:18:11.130Z"
   },
   {
    "duration": 18,
    "start_time": "2022-02-27T09:18:24.201Z"
   },
   {
    "duration": 1071,
    "start_time": "2022-02-27T09:18:33.898Z"
   },
   {
    "duration": 6,
    "start_time": "2022-02-27T09:19:59.307Z"
   },
   {
    "duration": 299,
    "start_time": "2022-02-27T09:21:46.843Z"
   },
   {
    "duration": 239,
    "start_time": "2022-02-27T09:22:06.019Z"
   },
   {
    "duration": 215,
    "start_time": "2022-02-27T09:22:48.603Z"
   },
   {
    "duration": 6177,
    "start_time": "2022-02-27T09:23:00.859Z"
   },
   {
    "duration": 1739,
    "start_time": "2022-02-27T09:24:25.017Z"
   },
   {
    "duration": 18,
    "start_time": "2022-02-27T09:25:16.651Z"
   },
   {
    "duration": 5760,
    "start_time": "2022-02-27T09:25:29.619Z"
   },
   {
    "duration": 752,
    "start_time": "2022-02-27T09:26:04.131Z"
   },
   {
    "duration": 3282,
    "start_time": "2022-02-27T09:26:08.412Z"
   },
   {
    "duration": 18,
    "start_time": "2022-02-27T09:26:34.471Z"
   },
   {
    "duration": 1460,
    "start_time": "2022-02-27T09:27:20.381Z"
   },
   {
    "duration": 39,
    "start_time": "2022-02-27T09:27:21.843Z"
   },
   {
    "duration": 9,
    "start_time": "2022-02-27T09:27:21.884Z"
   },
   {
    "duration": 12,
    "start_time": "2022-02-27T09:27:21.895Z"
   },
   {
    "duration": 16,
    "start_time": "2022-02-27T09:27:21.909Z"
   },
   {
    "duration": 50,
    "start_time": "2022-02-27T09:27:21.927Z"
   },
   {
    "duration": 24,
    "start_time": "2022-02-27T09:27:21.979Z"
   },
   {
    "duration": 14,
    "start_time": "2022-02-27T09:27:22.006Z"
   },
   {
    "duration": 14,
    "start_time": "2022-02-27T09:27:22.023Z"
   },
   {
    "duration": 36,
    "start_time": "2022-02-27T09:27:22.039Z"
   },
   {
    "duration": 4,
    "start_time": "2022-02-27T09:27:22.077Z"
   },
   {
    "duration": 15,
    "start_time": "2022-02-27T09:27:22.083Z"
   },
   {
    "duration": 19,
    "start_time": "2022-02-27T09:27:22.100Z"
   },
   {
    "duration": 11,
    "start_time": "2022-02-27T09:27:22.121Z"
   },
   {
    "duration": 19,
    "start_time": "2022-02-27T09:27:22.134Z"
   },
   {
    "duration": 8,
    "start_time": "2022-02-27T09:27:22.155Z"
   },
   {
    "duration": 327,
    "start_time": "2022-02-27T09:27:22.165Z"
   },
   {
    "duration": 7,
    "start_time": "2022-02-27T09:27:22.494Z"
   },
   {
    "duration": 9,
    "start_time": "2022-02-27T09:27:22.503Z"
   },
   {
    "duration": 9,
    "start_time": "2022-02-27T09:27:22.514Z"
   },
   {
    "duration": 214,
    "start_time": "2022-02-27T09:27:22.525Z"
   },
   {
    "duration": 28,
    "start_time": "2022-02-27T09:27:22.740Z"
   },
   {
    "duration": 463,
    "start_time": "2022-02-27T09:27:22.771Z"
   },
   {
    "duration": 341,
    "start_time": "2022-02-27T09:27:23.237Z"
   },
   {
    "duration": 1069,
    "start_time": "2022-02-27T09:27:23.579Z"
   },
   {
    "duration": 791,
    "start_time": "2022-02-27T09:27:24.650Z"
   },
   {
    "duration": 41,
    "start_time": "2022-02-27T09:27:25.443Z"
   },
   {
    "duration": 12,
    "start_time": "2022-02-27T09:27:25.485Z"
   },
   {
    "duration": 25,
    "start_time": "2022-02-27T09:27:25.499Z"
   },
   {
    "duration": 7,
    "start_time": "2022-02-27T09:27:25.526Z"
   },
   {
    "duration": 371,
    "start_time": "2022-02-27T09:27:25.535Z"
   },
   {
    "duration": 4,
    "start_time": "2022-02-27T09:27:25.908Z"
   },
   {
    "duration": 6,
    "start_time": "2022-02-27T09:27:25.914Z"
   },
   {
    "duration": 10,
    "start_time": "2022-02-27T09:27:25.921Z"
   },
   {
    "duration": 38,
    "start_time": "2022-02-27T09:27:25.933Z"
   },
   {
    "duration": 6,
    "start_time": "2022-02-27T09:27:25.973Z"
   },
   {
    "duration": 9,
    "start_time": "2022-02-27T09:27:25.981Z"
   },
   {
    "duration": 5,
    "start_time": "2022-02-27T09:27:25.992Z"
   },
   {
    "duration": 757,
    "start_time": "2022-02-27T09:27:25.999Z"
   },
   {
    "duration": 4,
    "start_time": "2022-02-27T09:27:26.757Z"
   },
   {
    "duration": 673,
    "start_time": "2022-02-27T09:27:26.763Z"
   },
   {
    "duration": 4,
    "start_time": "2022-02-27T09:27:27.437Z"
   },
   {
    "duration": 14,
    "start_time": "2022-02-27T09:27:27.442Z"
   },
   {
    "duration": 20,
    "start_time": "2022-02-27T09:27:27.458Z"
   },
   {
    "duration": 12,
    "start_time": "2022-02-27T09:27:27.479Z"
   },
   {
    "duration": 10,
    "start_time": "2022-02-27T09:27:27.493Z"
   },
   {
    "duration": 11,
    "start_time": "2022-02-27T09:27:27.505Z"
   },
   {
    "duration": 13,
    "start_time": "2022-02-27T09:27:27.518Z"
   },
   {
    "duration": 571,
    "start_time": "2022-02-27T09:27:27.533Z"
   },
   {
    "duration": 11,
    "start_time": "2022-02-27T09:27:28.106Z"
   },
   {
    "duration": 25,
    "start_time": "2022-02-27T09:27:28.119Z"
   },
   {
    "duration": 21,
    "start_time": "2022-02-27T09:27:28.146Z"
   },
   {
    "duration": 32,
    "start_time": "2022-02-27T09:27:28.169Z"
   },
   {
    "duration": 27,
    "start_time": "2022-02-27T09:27:28.203Z"
   },
   {
    "duration": 40,
    "start_time": "2022-02-27T09:27:28.231Z"
   },
   {
    "duration": 807,
    "start_time": "2022-02-27T09:27:28.273Z"
   },
   {
    "duration": 14,
    "start_time": "2022-02-27T09:27:29.082Z"
   },
   {
    "duration": 23,
    "start_time": "2022-02-27T09:27:29.098Z"
   },
   {
    "duration": 754,
    "start_time": "2022-02-27T09:27:29.122Z"
   },
   {
    "duration": 5592,
    "start_time": "2022-02-27T09:27:29.878Z"
   },
   {
    "duration": 3639,
    "start_time": "2022-02-27T09:27:31.833Z"
   },
   {
    "duration": 217,
    "start_time": "2022-02-27T09:28:55.486Z"
   },
   {
    "duration": 1393,
    "start_time": "2022-02-27T09:30:15.477Z"
   },
   {
    "duration": 711,
    "start_time": "2022-02-27T09:30:54.838Z"
   },
   {
    "duration": 1411,
    "start_time": "2022-02-27T09:30:56.429Z"
   },
   {
    "duration": 22,
    "start_time": "2022-02-27T09:31:34.366Z"
   },
   {
    "duration": 11,
    "start_time": "2022-02-27T09:31:44.270Z"
   },
   {
    "duration": 17,
    "start_time": "2022-02-27T09:31:59.726Z"
   },
   {
    "duration": 2,
    "start_time": "2022-02-27T09:32:36.687Z"
   },
   {
    "duration": 2,
    "start_time": "2022-02-27T09:32:38.702Z"
   },
   {
    "duration": 678,
    "start_time": "2022-02-27T09:32:40.926Z"
   },
   {
    "duration": 6,
    "start_time": "2022-02-27T09:32:42.158Z"
   },
   {
    "duration": 15,
    "start_time": "2022-02-27T09:32:52.062Z"
   },
   {
    "duration": 12,
    "start_time": "2022-02-27T09:33:01.479Z"
   },
   {
    "duration": 4,
    "start_time": "2022-02-27T09:33:11.191Z"
   },
   {
    "duration": 12,
    "start_time": "2022-02-27T09:33:17.422Z"
   },
   {
    "duration": 1891,
    "start_time": "2022-02-27T09:33:28.255Z"
   },
   {
    "duration": 6,
    "start_time": "2022-02-27T09:33:36.959Z"
   },
   {
    "duration": 6,
    "start_time": "2022-02-27T09:33:48.847Z"
   },
   {
    "duration": 2,
    "start_time": "2022-02-27T09:33:58.479Z"
   },
   {
    "duration": 3,
    "start_time": "2022-02-27T09:34:03.807Z"
   },
   {
    "duration": 1124,
    "start_time": "2022-02-27T09:34:09.287Z"
   },
   {
    "duration": 7,
    "start_time": "2022-02-27T09:34:15.127Z"
   },
   {
    "duration": 19,
    "start_time": "2022-02-27T09:34:21.391Z"
   },
   {
    "duration": 6,
    "start_time": "2022-02-27T09:34:32.224Z"
   },
   {
    "duration": 6,
    "start_time": "2022-02-27T09:34:40.847Z"
   },
   {
    "duration": 16,
    "start_time": "2022-02-27T09:34:50.239Z"
   },
   {
    "duration": 7,
    "start_time": "2022-02-27T09:34:58.815Z"
   },
   {
    "duration": 350,
    "start_time": "2022-02-27T09:35:29.672Z"
   },
   {
    "duration": 1473,
    "start_time": "2022-02-27T09:36:31.996Z"
   },
   {
    "duration": 44,
    "start_time": "2022-02-27T09:36:33.471Z"
   },
   {
    "duration": 10,
    "start_time": "2022-02-27T09:36:33.517Z"
   },
   {
    "duration": 14,
    "start_time": "2022-02-27T09:36:33.529Z"
   },
   {
    "duration": 9,
    "start_time": "2022-02-27T09:36:33.544Z"
   },
   {
    "duration": 40,
    "start_time": "2022-02-27T09:36:33.555Z"
   },
   {
    "duration": 25,
    "start_time": "2022-02-27T09:36:33.596Z"
   },
   {
    "duration": 16,
    "start_time": "2022-02-27T09:36:33.623Z"
   },
   {
    "duration": 32,
    "start_time": "2022-02-27T09:36:33.641Z"
   },
   {
    "duration": 15,
    "start_time": "2022-02-27T09:36:33.675Z"
   },
   {
    "duration": 3,
    "start_time": "2022-02-27T09:36:33.692Z"
   },
   {
    "duration": 5,
    "start_time": "2022-02-27T09:36:33.697Z"
   },
   {
    "duration": 11,
    "start_time": "2022-02-27T09:36:33.704Z"
   },
   {
    "duration": 8,
    "start_time": "2022-02-27T09:36:33.717Z"
   },
   {
    "duration": 40,
    "start_time": "2022-02-27T09:36:33.727Z"
   },
   {
    "duration": 4,
    "start_time": "2022-02-27T09:36:33.769Z"
   },
   {
    "duration": 425,
    "start_time": "2022-02-27T09:36:33.775Z"
   },
   {
    "duration": 8,
    "start_time": "2022-02-27T09:36:34.201Z"
   },
   {
    "duration": 11,
    "start_time": "2022-02-27T09:36:34.210Z"
   },
   {
    "duration": 6,
    "start_time": "2022-02-27T09:36:34.223Z"
   },
   {
    "duration": 213,
    "start_time": "2022-02-27T09:36:34.231Z"
   },
   {
    "duration": 28,
    "start_time": "2022-02-27T09:36:34.446Z"
   },
   {
    "duration": 444,
    "start_time": "2022-02-27T09:36:34.479Z"
   },
   {
    "duration": 355,
    "start_time": "2022-02-27T09:36:34.927Z"
   },
   {
    "duration": 1136,
    "start_time": "2022-02-27T09:36:35.284Z"
   },
   {
    "duration": 795,
    "start_time": "2022-02-27T09:36:36.422Z"
   },
   {
    "duration": 26,
    "start_time": "2022-02-27T09:36:37.219Z"
   },
   {
    "duration": 27,
    "start_time": "2022-02-27T09:36:37.247Z"
   },
   {
    "duration": 23,
    "start_time": "2022-02-27T09:36:37.275Z"
   },
   {
    "duration": 7,
    "start_time": "2022-02-27T09:36:37.300Z"
   },
   {
    "duration": 404,
    "start_time": "2022-02-27T09:36:37.309Z"
   },
   {
    "duration": 3,
    "start_time": "2022-02-27T09:36:37.715Z"
   },
   {
    "duration": 12,
    "start_time": "2022-02-27T09:36:37.719Z"
   },
   {
    "duration": 11,
    "start_time": "2022-02-27T09:36:37.733Z"
   },
   {
    "duration": 26,
    "start_time": "2022-02-27T09:36:37.746Z"
   },
   {
    "duration": 12,
    "start_time": "2022-02-27T09:36:37.774Z"
   },
   {
    "duration": 13,
    "start_time": "2022-02-27T09:36:37.788Z"
   },
   {
    "duration": 6,
    "start_time": "2022-02-27T09:36:37.803Z"
   },
   {
    "duration": 871,
    "start_time": "2022-02-27T09:36:37.812Z"
   },
   {
    "duration": 4,
    "start_time": "2022-02-27T09:36:38.685Z"
   },
   {
    "duration": 731,
    "start_time": "2022-02-27T09:36:38.691Z"
   },
   {
    "duration": 4,
    "start_time": "2022-02-27T09:36:39.423Z"
   },
   {
    "duration": 12,
    "start_time": "2022-02-27T09:36:39.429Z"
   },
   {
    "duration": 38,
    "start_time": "2022-02-27T09:36:39.443Z"
   },
   {
    "duration": 12,
    "start_time": "2022-02-27T09:36:39.483Z"
   },
   {
    "duration": 10,
    "start_time": "2022-02-27T09:36:39.497Z"
   },
   {
    "duration": 11,
    "start_time": "2022-02-27T09:36:39.509Z"
   },
   {
    "duration": 13,
    "start_time": "2022-02-27T09:36:39.521Z"
   },
   {
    "duration": 630,
    "start_time": "2022-02-27T09:36:39.536Z"
   },
   {
    "duration": 30,
    "start_time": "2022-02-27T09:36:40.168Z"
   },
   {
    "duration": 12,
    "start_time": "2022-02-27T09:36:40.200Z"
   },
   {
    "duration": 22,
    "start_time": "2022-02-27T09:36:40.214Z"
   },
   {
    "duration": 730,
    "start_time": "2022-02-27T09:36:40.238Z"
   },
   {
    "duration": 6,
    "start_time": "2022-02-27T09:36:40.970Z"
   },
   {
    "duration": 13,
    "start_time": "2022-02-27T09:36:40.979Z"
   },
   {
    "duration": 7,
    "start_time": "2022-02-27T09:36:40.994Z"
   },
   {
    "duration": 18,
    "start_time": "2022-02-27T09:36:41.003Z"
   },
   {
    "duration": 2177,
    "start_time": "2022-02-27T09:36:41.023Z"
   },
   {
    "duration": 8,
    "start_time": "2022-02-27T09:36:43.202Z"
   },
   {
    "duration": 11,
    "start_time": "2022-02-27T09:36:43.212Z"
   },
   {
    "duration": 16,
    "start_time": "2022-02-27T09:36:43.224Z"
   },
   {
    "duration": 6,
    "start_time": "2022-02-27T09:36:43.241Z"
   },
   {
    "duration": 1050,
    "start_time": "2022-02-27T09:36:43.249Z"
   },
   {
    "duration": 5,
    "start_time": "2022-02-27T09:36:44.301Z"
   },
   {
    "duration": 22,
    "start_time": "2022-02-27T09:36:44.307Z"
   },
   {
    "duration": 9,
    "start_time": "2022-02-27T09:36:44.330Z"
   },
   {
    "duration": 10,
    "start_time": "2022-02-27T09:36:44.340Z"
   },
   {
    "duration": 14,
    "start_time": "2022-02-27T09:36:44.355Z"
   },
   {
    "duration": 10,
    "start_time": "2022-02-27T09:36:44.371Z"
   },
   {
    "duration": 368,
    "start_time": "2022-02-27T09:36:44.383Z"
   },
   {
    "duration": 1508,
    "start_time": "2022-02-27T09:51:30.777Z"
   },
   {
    "duration": 44,
    "start_time": "2022-02-27T09:51:32.287Z"
   },
   {
    "duration": 10,
    "start_time": "2022-02-27T09:51:32.334Z"
   },
   {
    "duration": 15,
    "start_time": "2022-02-27T09:51:32.346Z"
   },
   {
    "duration": 10,
    "start_time": "2022-02-27T09:51:32.363Z"
   },
   {
    "duration": 58,
    "start_time": "2022-02-27T09:51:32.375Z"
   },
   {
    "duration": 25,
    "start_time": "2022-02-27T09:51:32.434Z"
   },
   {
    "duration": 16,
    "start_time": "2022-02-27T09:51:32.460Z"
   },
   {
    "duration": 15,
    "start_time": "2022-02-27T09:51:32.479Z"
   },
   {
    "duration": 31,
    "start_time": "2022-02-27T09:51:32.497Z"
   },
   {
    "duration": 4,
    "start_time": "2022-02-27T09:51:32.530Z"
   },
   {
    "duration": 8,
    "start_time": "2022-02-27T09:51:32.536Z"
   },
   {
    "duration": 20,
    "start_time": "2022-02-27T09:51:32.546Z"
   },
   {
    "duration": 14,
    "start_time": "2022-02-27T09:51:32.568Z"
   },
   {
    "duration": 17,
    "start_time": "2022-02-27T09:51:32.584Z"
   },
   {
    "duration": 12,
    "start_time": "2022-02-27T09:51:32.603Z"
   },
   {
    "duration": 329,
    "start_time": "2022-02-27T09:51:32.617Z"
   },
   {
    "duration": 17,
    "start_time": "2022-02-27T09:51:32.948Z"
   },
   {
    "duration": 10,
    "start_time": "2022-02-27T09:51:32.967Z"
   },
   {
    "duration": 7,
    "start_time": "2022-02-27T09:51:32.978Z"
   },
   {
    "duration": 208,
    "start_time": "2022-02-27T09:51:32.986Z"
   },
   {
    "duration": 18,
    "start_time": "2022-02-27T09:51:33.195Z"
   },
   {
    "duration": 462,
    "start_time": "2022-02-27T09:51:33.214Z"
   },
   {
    "duration": 345,
    "start_time": "2022-02-27T09:51:33.678Z"
   },
   {
    "duration": 1303,
    "start_time": "2022-02-27T09:51:34.025Z"
   },
   {
    "duration": 784,
    "start_time": "2022-02-27T09:51:35.330Z"
   },
   {
    "duration": 26,
    "start_time": "2022-02-27T09:51:36.118Z"
   },
   {
    "duration": 23,
    "start_time": "2022-02-27T09:51:36.146Z"
   },
   {
    "duration": 25,
    "start_time": "2022-02-27T09:51:36.171Z"
   },
   {
    "duration": 7,
    "start_time": "2022-02-27T09:51:36.197Z"
   },
   {
    "duration": 390,
    "start_time": "2022-02-27T09:51:36.206Z"
   },
   {
    "duration": 3,
    "start_time": "2022-02-27T09:51:36.599Z"
   },
   {
    "duration": 5,
    "start_time": "2022-02-27T09:51:36.604Z"
   },
   {
    "duration": 8,
    "start_time": "2022-02-27T09:51:36.611Z"
   },
   {
    "duration": 16,
    "start_time": "2022-02-27T09:51:36.621Z"
   },
   {
    "duration": 27,
    "start_time": "2022-02-27T09:51:36.638Z"
   },
   {
    "duration": 9,
    "start_time": "2022-02-27T09:51:36.667Z"
   },
   {
    "duration": 6,
    "start_time": "2022-02-27T09:51:36.678Z"
   },
   {
    "duration": 742,
    "start_time": "2022-02-27T09:51:36.685Z"
   },
   {
    "duration": 4,
    "start_time": "2022-02-27T09:51:37.429Z"
   },
   {
    "duration": 667,
    "start_time": "2022-02-27T09:51:37.435Z"
   },
   {
    "duration": 3,
    "start_time": "2022-02-27T09:51:38.104Z"
   },
   {
    "duration": 14,
    "start_time": "2022-02-27T09:51:38.109Z"
   },
   {
    "duration": 17,
    "start_time": "2022-02-27T09:51:38.125Z"
   },
   {
    "duration": 12,
    "start_time": "2022-02-27T09:51:38.143Z"
   },
   {
    "duration": 10,
    "start_time": "2022-02-27T09:51:38.157Z"
   },
   {
    "duration": 12,
    "start_time": "2022-02-27T09:51:38.168Z"
   },
   {
    "duration": 17,
    "start_time": "2022-02-27T09:51:38.182Z"
   },
   {
    "duration": 685,
    "start_time": "2022-02-27T09:51:38.201Z"
   },
   {
    "duration": 24,
    "start_time": "2022-02-27T09:51:38.888Z"
   },
   {
    "duration": 12,
    "start_time": "2022-02-27T09:51:38.914Z"
   },
   {
    "duration": 44,
    "start_time": "2022-02-27T09:51:38.928Z"
   },
   {
    "duration": 912,
    "start_time": "2022-02-27T09:51:38.974Z"
   },
   {
    "duration": 2,
    "start_time": "2022-02-27T09:51:39.888Z"
   },
   {
    "duration": 11,
    "start_time": "2022-02-27T09:51:39.892Z"
   },
   {
    "duration": 6,
    "start_time": "2022-02-27T09:51:39.905Z"
   },
   {
    "duration": 4,
    "start_time": "2022-02-27T09:51:39.913Z"
   },
   {
    "duration": 6,
    "start_time": "2022-02-27T09:51:39.919Z"
   },
   {
    "duration": 7,
    "start_time": "2022-02-27T09:51:39.927Z"
   },
   {
    "duration": 1057,
    "start_time": "2022-02-27T09:51:39.936Z"
   },
   {
    "duration": -38,
    "start_time": "2022-02-27T09:51:41.033Z"
   },
   {
    "duration": -40,
    "start_time": "2022-02-27T09:51:41.036Z"
   },
   {
    "duration": -41,
    "start_time": "2022-02-27T09:51:41.038Z"
   },
   {
    "duration": -41,
    "start_time": "2022-02-27T09:51:41.039Z"
   },
   {
    "duration": -42,
    "start_time": "2022-02-27T09:51:41.041Z"
   },
   {
    "duration": -43,
    "start_time": "2022-02-27T09:51:41.043Z"
   },
   {
    "duration": -43,
    "start_time": "2022-02-27T09:51:41.044Z"
   },
   {
    "duration": -44,
    "start_time": "2022-02-27T09:51:41.046Z"
   },
   {
    "duration": -45,
    "start_time": "2022-02-27T09:51:41.048Z"
   },
   {
    "duration": -45,
    "start_time": "2022-02-27T09:51:41.049Z"
   },
   {
    "duration": 1528,
    "start_time": "2022-02-27T09:52:16.744Z"
   },
   {
    "duration": 38,
    "start_time": "2022-02-27T09:52:18.275Z"
   },
   {
    "duration": 8,
    "start_time": "2022-02-27T09:52:18.315Z"
   },
   {
    "duration": 14,
    "start_time": "2022-02-27T09:52:18.325Z"
   },
   {
    "duration": 7,
    "start_time": "2022-02-27T09:52:18.341Z"
   },
   {
    "duration": 42,
    "start_time": "2022-02-27T09:52:18.350Z"
   },
   {
    "duration": 21,
    "start_time": "2022-02-27T09:52:18.394Z"
   },
   {
    "duration": 14,
    "start_time": "2022-02-27T09:52:18.417Z"
   },
   {
    "duration": 39,
    "start_time": "2022-02-27T09:52:18.434Z"
   },
   {
    "duration": 13,
    "start_time": "2022-02-27T09:52:18.476Z"
   },
   {
    "duration": 4,
    "start_time": "2022-02-27T09:52:18.491Z"
   },
   {
    "duration": 7,
    "start_time": "2022-02-27T09:52:18.496Z"
   },
   {
    "duration": 13,
    "start_time": "2022-02-27T09:52:18.505Z"
   },
   {
    "duration": 7,
    "start_time": "2022-02-27T09:52:18.520Z"
   },
   {
    "duration": 8,
    "start_time": "2022-02-27T09:52:18.529Z"
   },
   {
    "duration": 24,
    "start_time": "2022-02-27T09:52:18.539Z"
   },
   {
    "duration": 327,
    "start_time": "2022-02-27T09:52:18.565Z"
   },
   {
    "duration": 7,
    "start_time": "2022-02-27T09:52:18.893Z"
   },
   {
    "duration": 18,
    "start_time": "2022-02-27T09:52:18.902Z"
   },
   {
    "duration": 14,
    "start_time": "2022-02-27T09:52:18.922Z"
   },
   {
    "duration": 193,
    "start_time": "2022-02-27T09:52:18.938Z"
   },
   {
    "duration": 18,
    "start_time": "2022-02-27T09:52:19.133Z"
   },
   {
    "duration": 432,
    "start_time": "2022-02-27T09:52:19.152Z"
   },
   {
    "duration": 351,
    "start_time": "2022-02-27T09:52:19.586Z"
   },
   {
    "duration": 1082,
    "start_time": "2022-02-27T09:52:19.939Z"
   },
   {
    "duration": 768,
    "start_time": "2022-02-27T09:52:21.023Z"
   },
   {
    "duration": 28,
    "start_time": "2022-02-27T09:52:21.796Z"
   },
   {
    "duration": 12,
    "start_time": "2022-02-27T09:52:21.827Z"
   },
   {
    "duration": 36,
    "start_time": "2022-02-27T09:52:21.841Z"
   },
   {
    "duration": 7,
    "start_time": "2022-02-27T09:52:21.879Z"
   },
   {
    "duration": 391,
    "start_time": "2022-02-27T09:52:21.888Z"
   },
   {
    "duration": 3,
    "start_time": "2022-02-27T09:52:22.280Z"
   },
   {
    "duration": 9,
    "start_time": "2022-02-27T09:52:22.285Z"
   },
   {
    "duration": 10,
    "start_time": "2022-02-27T09:52:22.295Z"
   },
   {
    "duration": 19,
    "start_time": "2022-02-27T09:52:22.306Z"
   },
   {
    "duration": 10,
    "start_time": "2022-02-27T09:52:22.326Z"
   },
   {
    "duration": 29,
    "start_time": "2022-02-27T09:52:22.338Z"
   },
   {
    "duration": 6,
    "start_time": "2022-02-27T09:52:22.369Z"
   },
   {
    "duration": 704,
    "start_time": "2022-02-27T09:52:22.376Z"
   },
   {
    "duration": 5,
    "start_time": "2022-02-27T09:52:23.083Z"
   },
   {
    "duration": 723,
    "start_time": "2022-02-27T09:52:23.090Z"
   },
   {
    "duration": 3,
    "start_time": "2022-02-27T09:52:23.815Z"
   },
   {
    "duration": 12,
    "start_time": "2022-02-27T09:52:23.820Z"
   },
   {
    "duration": 18,
    "start_time": "2022-02-27T09:52:23.834Z"
   },
   {
    "duration": 12,
    "start_time": "2022-02-27T09:52:23.854Z"
   },
   {
    "duration": 10,
    "start_time": "2022-02-27T09:52:23.868Z"
   },
   {
    "duration": 18,
    "start_time": "2022-02-27T09:52:23.880Z"
   },
   {
    "duration": 38,
    "start_time": "2022-02-27T09:52:23.899Z"
   },
   {
    "duration": 635,
    "start_time": "2022-02-27T09:52:23.939Z"
   },
   {
    "duration": 23,
    "start_time": "2022-02-27T09:52:24.576Z"
   },
   {
    "duration": 11,
    "start_time": "2022-02-27T09:52:24.601Z"
   },
   {
    "duration": 34,
    "start_time": "2022-02-27T09:52:24.613Z"
   },
   {
    "duration": 785,
    "start_time": "2022-02-27T09:52:24.649Z"
   },
   {
    "duration": 3,
    "start_time": "2022-02-27T09:52:25.436Z"
   },
   {
    "duration": 11,
    "start_time": "2022-02-27T09:52:25.440Z"
   },
   {
    "duration": 4,
    "start_time": "2022-02-27T09:52:25.452Z"
   },
   {
    "duration": 9,
    "start_time": "2022-02-27T09:52:25.458Z"
   },
   {
    "duration": 6,
    "start_time": "2022-02-27T09:52:25.468Z"
   },
   {
    "duration": 4,
    "start_time": "2022-02-27T09:52:25.476Z"
   },
   {
    "duration": 4,
    "start_time": "2022-02-27T09:52:25.482Z"
   },
   {
    "duration": 11,
    "start_time": "2022-02-27T09:52:25.487Z"
   },
   {
    "duration": 6,
    "start_time": "2022-02-27T09:52:25.499Z"
   },
   {
    "duration": 847,
    "start_time": "2022-02-27T09:52:25.506Z"
   },
   {
    "duration": 2,
    "start_time": "2022-02-27T09:52:26.355Z"
   },
   {
    "duration": 7,
    "start_time": "2022-02-27T09:52:26.359Z"
   },
   {
    "duration": 7,
    "start_time": "2022-02-27T09:52:26.368Z"
   },
   {
    "duration": 6,
    "start_time": "2022-02-27T09:52:26.377Z"
   },
   {
    "duration": 18,
    "start_time": "2022-02-27T09:52:26.384Z"
   },
   {
    "duration": 13,
    "start_time": "2022-02-27T09:52:26.403Z"
   },
   {
    "duration": 356,
    "start_time": "2022-02-27T09:52:26.418Z"
   },
   {
    "duration": 1488,
    "start_time": "2022-02-27T09:53:52.073Z"
   },
   {
    "duration": 44,
    "start_time": "2022-02-27T09:53:53.563Z"
   },
   {
    "duration": 10,
    "start_time": "2022-02-27T09:53:53.609Z"
   },
   {
    "duration": 14,
    "start_time": "2022-02-27T09:53:53.621Z"
   },
   {
    "duration": 13,
    "start_time": "2022-02-27T09:53:53.637Z"
   },
   {
    "duration": 38,
    "start_time": "2022-02-27T09:53:53.652Z"
   },
   {
    "duration": 29,
    "start_time": "2022-02-27T09:53:53.692Z"
   },
   {
    "duration": 15,
    "start_time": "2022-02-27T09:53:53.723Z"
   },
   {
    "duration": 35,
    "start_time": "2022-02-27T09:53:53.740Z"
   },
   {
    "duration": 14,
    "start_time": "2022-02-27T09:53:53.778Z"
   },
   {
    "duration": 4,
    "start_time": "2022-02-27T09:53:53.794Z"
   },
   {
    "duration": 7,
    "start_time": "2022-02-27T09:53:53.800Z"
   },
   {
    "duration": 12,
    "start_time": "2022-02-27T09:53:53.809Z"
   },
   {
    "duration": 9,
    "start_time": "2022-02-27T09:53:53.822Z"
   },
   {
    "duration": 34,
    "start_time": "2022-02-27T09:53:53.833Z"
   },
   {
    "duration": 6,
    "start_time": "2022-02-27T09:53:53.868Z"
   },
   {
    "duration": 372,
    "start_time": "2022-02-27T09:53:53.876Z"
   },
   {
    "duration": 14,
    "start_time": "2022-02-27T09:53:54.250Z"
   },
   {
    "duration": 9,
    "start_time": "2022-02-27T09:53:54.266Z"
   },
   {
    "duration": 7,
    "start_time": "2022-02-27T09:53:54.277Z"
   },
   {
    "duration": 206,
    "start_time": "2022-02-27T09:53:54.285Z"
   },
   {
    "duration": 18,
    "start_time": "2022-02-27T09:53:54.493Z"
   },
   {
    "duration": 459,
    "start_time": "2022-02-27T09:53:54.513Z"
   },
   {
    "duration": 363,
    "start_time": "2022-02-27T09:53:54.975Z"
   },
   {
    "duration": 1297,
    "start_time": "2022-02-27T09:53:55.340Z"
   },
   {
    "duration": 804,
    "start_time": "2022-02-27T09:53:56.639Z"
   },
   {
    "duration": 36,
    "start_time": "2022-02-27T09:53:57.447Z"
   },
   {
    "duration": 12,
    "start_time": "2022-02-27T09:53:57.485Z"
   },
   {
    "duration": 26,
    "start_time": "2022-02-27T09:53:57.499Z"
   },
   {
    "duration": 7,
    "start_time": "2022-02-27T09:53:57.526Z"
   },
   {
    "duration": 368,
    "start_time": "2022-02-27T09:53:57.535Z"
   },
   {
    "duration": 2,
    "start_time": "2022-02-27T09:53:57.905Z"
   },
   {
    "duration": 11,
    "start_time": "2022-02-27T09:53:57.909Z"
   },
   {
    "duration": 16,
    "start_time": "2022-02-27T09:53:57.922Z"
   },
   {
    "duration": 17,
    "start_time": "2022-02-27T09:53:57.940Z"
   },
   {
    "duration": 7,
    "start_time": "2022-02-27T09:53:57.958Z"
   },
   {
    "duration": 15,
    "start_time": "2022-02-27T09:53:57.966Z"
   },
   {
    "duration": 6,
    "start_time": "2022-02-27T09:53:57.982Z"
   },
   {
    "duration": 686,
    "start_time": "2022-02-27T09:53:57.990Z"
   },
   {
    "duration": 4,
    "start_time": "2022-02-27T09:53:58.678Z"
   },
   {
    "duration": 1199,
    "start_time": "2022-02-27T09:53:58.684Z"
   },
   {
    "duration": 3,
    "start_time": "2022-02-27T09:53:59.885Z"
   },
   {
    "duration": 19,
    "start_time": "2022-02-27T09:53:59.890Z"
   },
   {
    "duration": 16,
    "start_time": "2022-02-27T09:53:59.911Z"
   },
   {
    "duration": 12,
    "start_time": "2022-02-27T09:53:59.928Z"
   },
   {
    "duration": 10,
    "start_time": "2022-02-27T09:53:59.941Z"
   },
   {
    "duration": 15,
    "start_time": "2022-02-27T09:53:59.952Z"
   },
   {
    "duration": 9,
    "start_time": "2022-02-27T09:53:59.969Z"
   },
   {
    "duration": 572,
    "start_time": "2022-02-27T09:53:59.980Z"
   },
   {
    "duration": 26,
    "start_time": "2022-02-27T09:54:00.554Z"
   },
   {
    "duration": 11,
    "start_time": "2022-02-27T09:54:00.582Z"
   },
   {
    "duration": 25,
    "start_time": "2022-02-27T09:54:00.594Z"
   },
   {
    "duration": 700,
    "start_time": "2022-02-27T09:54:00.621Z"
   },
   {
    "duration": 825,
    "start_time": "2022-02-27T09:54:01.323Z"
   },
   {
    "duration": 6,
    "start_time": "2022-02-27T09:54:02.149Z"
   },
   {
    "duration": 32,
    "start_time": "2022-02-27T09:54:02.156Z"
   },
   {
    "duration": 21,
    "start_time": "2022-02-27T09:54:02.190Z"
   },
   {
    "duration": 375,
    "start_time": "2022-02-27T09:54:02.213Z"
   },
   {
    "duration": 346,
    "start_time": "2022-02-27T09:54:49.917Z"
   },
   {
    "duration": 400,
    "start_time": "2022-02-27T09:54:56.182Z"
   },
   {
    "duration": 4,
    "start_time": "2022-02-27T09:55:24.430Z"
   },
   {
    "duration": 351,
    "start_time": "2022-02-27T09:55:26.413Z"
   },
   {
    "duration": 5,
    "start_time": "2022-02-27T09:56:08.494Z"
   },
   {
    "duration": 399,
    "start_time": "2022-02-27T09:56:09.870Z"
   },
   {
    "duration": 5,
    "start_time": "2022-02-27T09:57:39.566Z"
   },
   {
    "duration": 3,
    "start_time": "2022-02-27T09:57:52.120Z"
   },
   {
    "duration": 511,
    "start_time": "2022-02-27T09:58:05.326Z"
   },
   {
    "duration": 724,
    "start_time": "2022-02-27T09:58:11.150Z"
   },
   {
    "duration": 3,
    "start_time": "2022-02-27T09:58:31.144Z"
   },
   {
    "duration": 1621,
    "start_time": "2022-02-27T09:58:37.800Z"
   },
   {
    "duration": 41,
    "start_time": "2022-02-27T09:58:39.423Z"
   },
   {
    "duration": 10,
    "start_time": "2022-02-27T09:58:39.469Z"
   },
   {
    "duration": 15,
    "start_time": "2022-02-27T09:58:39.481Z"
   },
   {
    "duration": 10,
    "start_time": "2022-02-27T09:58:39.498Z"
   },
   {
    "duration": 55,
    "start_time": "2022-02-27T09:58:39.510Z"
   },
   {
    "duration": 24,
    "start_time": "2022-02-27T09:58:39.568Z"
   },
   {
    "duration": 15,
    "start_time": "2022-02-27T09:58:39.594Z"
   },
   {
    "duration": 16,
    "start_time": "2022-02-27T09:58:39.611Z"
   },
   {
    "duration": 45,
    "start_time": "2022-02-27T09:58:39.629Z"
   },
   {
    "duration": 4,
    "start_time": "2022-02-27T09:58:39.676Z"
   },
   {
    "duration": 19,
    "start_time": "2022-02-27T09:58:39.683Z"
   },
   {
    "duration": 14,
    "start_time": "2022-02-27T09:58:39.704Z"
   },
   {
    "duration": 9,
    "start_time": "2022-02-27T09:58:39.721Z"
   },
   {
    "duration": 9,
    "start_time": "2022-02-27T09:58:39.732Z"
   },
   {
    "duration": 20,
    "start_time": "2022-02-27T09:58:39.743Z"
   },
   {
    "duration": 326,
    "start_time": "2022-02-27T09:58:39.765Z"
   },
   {
    "duration": 7,
    "start_time": "2022-02-27T09:58:40.093Z"
   },
   {
    "duration": 11,
    "start_time": "2022-02-27T09:58:40.102Z"
   },
   {
    "duration": 8,
    "start_time": "2022-02-27T09:58:40.115Z"
   },
   {
    "duration": 219,
    "start_time": "2022-02-27T09:58:40.125Z"
   },
   {
    "duration": 24,
    "start_time": "2022-02-27T09:58:40.348Z"
   },
   {
    "duration": 461,
    "start_time": "2022-02-27T09:58:40.375Z"
   },
   {
    "duration": 327,
    "start_time": "2022-02-27T09:58:40.838Z"
   },
   {
    "duration": 1065,
    "start_time": "2022-02-27T09:58:41.167Z"
   },
   {
    "duration": 791,
    "start_time": "2022-02-27T09:58:42.235Z"
   },
   {
    "duration": 43,
    "start_time": "2022-02-27T09:58:43.028Z"
   },
   {
    "duration": 13,
    "start_time": "2022-02-27T09:58:43.072Z"
   },
   {
    "duration": 30,
    "start_time": "2022-02-27T09:58:43.087Z"
   },
   {
    "duration": 7,
    "start_time": "2022-02-27T09:58:43.119Z"
   },
   {
    "duration": 385,
    "start_time": "2022-02-27T09:58:43.127Z"
   },
   {
    "duration": 3,
    "start_time": "2022-02-27T09:58:43.514Z"
   },
   {
    "duration": 7,
    "start_time": "2022-02-27T09:58:43.518Z"
   },
   {
    "duration": 7,
    "start_time": "2022-02-27T09:58:43.527Z"
   },
   {
    "duration": 32,
    "start_time": "2022-02-27T09:58:43.535Z"
   },
   {
    "duration": 9,
    "start_time": "2022-02-27T09:58:43.569Z"
   },
   {
    "duration": 11,
    "start_time": "2022-02-27T09:58:43.580Z"
   },
   {
    "duration": 5,
    "start_time": "2022-02-27T09:58:43.592Z"
   },
   {
    "duration": 701,
    "start_time": "2022-02-27T09:58:43.599Z"
   },
   {
    "duration": 4,
    "start_time": "2022-02-27T09:58:44.301Z"
   },
   {
    "duration": 633,
    "start_time": "2022-02-27T09:58:44.307Z"
   },
   {
    "duration": 4,
    "start_time": "2022-02-27T09:58:44.941Z"
   },
   {
    "duration": 40,
    "start_time": "2022-02-27T09:58:44.946Z"
   },
   {
    "duration": 44,
    "start_time": "2022-02-27T09:58:44.988Z"
   },
   {
    "duration": 22,
    "start_time": "2022-02-27T09:58:45.034Z"
   },
   {
    "duration": 14,
    "start_time": "2022-02-27T09:58:45.058Z"
   },
   {
    "duration": 14,
    "start_time": "2022-02-27T09:58:45.073Z"
   },
   {
    "duration": 15,
    "start_time": "2022-02-27T09:58:45.089Z"
   },
   {
    "duration": 565,
    "start_time": "2022-02-27T09:58:45.105Z"
   },
   {
    "duration": 23,
    "start_time": "2022-02-27T09:58:45.671Z"
   },
   {
    "duration": 12,
    "start_time": "2022-02-27T09:58:45.695Z"
   },
   {
    "duration": 17,
    "start_time": "2022-02-27T09:58:45.710Z"
   },
   {
    "duration": 1021,
    "start_time": "2022-02-27T09:58:45.729Z"
   },
   {
    "duration": 768,
    "start_time": "2022-02-27T09:58:46.752Z"
   },
   {
    "duration": 5,
    "start_time": "2022-02-27T09:58:47.522Z"
   },
   {
    "duration": 17,
    "start_time": "2022-02-27T09:58:47.528Z"
   },
   {
    "duration": 7,
    "start_time": "2022-02-27T09:58:47.547Z"
   },
   {
    "duration": 350,
    "start_time": "2022-02-27T09:58:47.556Z"
   },
   {
    "duration": 4,
    "start_time": "2022-02-27T09:58:47.908Z"
   },
   {
    "duration": 27,
    "start_time": "2022-02-27T09:58:47.913Z"
   },
   {
    "duration": 749,
    "start_time": "2022-02-27T09:58:47.941Z"
   },
   {
    "duration": 3,
    "start_time": "2022-02-27T10:00:52.759Z"
   },
   {
    "duration": 3,
    "start_time": "2022-02-27T10:00:54.182Z"
   },
   {
    "duration": 623,
    "start_time": "2022-02-27T10:00:55.327Z"
   },
   {
    "duration": 16,
    "start_time": "2022-02-27T10:01:55.223Z"
   },
   {
    "duration": 17,
    "start_time": "2022-02-27T10:01:58.279Z"
   },
   {
    "duration": 10,
    "start_time": "2022-02-27T10:02:02.343Z"
   },
   {
    "duration": 3,
    "start_time": "2022-02-27T10:05:59.992Z"
   },
   {
    "duration": 12,
    "start_time": "2022-02-27T10:06:03.304Z"
   },
   {
    "duration": 6,
    "start_time": "2022-02-27T10:06:29.337Z"
   },
   {
    "duration": 16,
    "start_time": "2022-02-27T10:06:30.841Z"
   },
   {
    "duration": 703,
    "start_time": "2022-02-27T10:06:46.810Z"
   },
   {
    "duration": 80,
    "start_time": "2022-02-27T10:07:19.512Z"
   },
   {
    "duration": 6,
    "start_time": "2022-02-27T10:07:28.425Z"
   },
   {
    "duration": 11,
    "start_time": "2022-02-27T10:08:04.250Z"
   },
   {
    "duration": 7,
    "start_time": "2022-02-27T10:08:05.568Z"
   },
   {
    "duration": 3,
    "start_time": "2022-02-27T10:08:42.898Z"
   },
   {
    "duration": 7,
    "start_time": "2022-02-27T10:08:48.857Z"
   },
   {
    "duration": 11,
    "start_time": "2022-02-27T10:09:04.730Z"
   },
   {
    "duration": 3,
    "start_time": "2022-02-27T10:09:05.970Z"
   },
   {
    "duration": 8,
    "start_time": "2022-02-27T10:09:06.993Z"
   },
   {
    "duration": 346,
    "start_time": "2022-02-27T10:09:09.049Z"
   },
   {
    "duration": 4,
    "start_time": "2022-02-27T10:10:10.137Z"
   },
   {
    "duration": 3,
    "start_time": "2022-02-27T10:10:12.297Z"
   },
   {
    "duration": 612,
    "start_time": "2022-02-27T10:10:13.754Z"
   },
   {
    "duration": 762,
    "start_time": "2022-02-27T10:12:04.803Z"
   },
   {
    "duration": 538,
    "start_time": "2022-02-27T10:12:17.443Z"
   },
   {
    "duration": 461,
    "start_time": "2022-02-27T10:12:24.442Z"
   },
   {
    "duration": 448,
    "start_time": "2022-02-27T10:12:34.330Z"
   },
   {
    "duration": 467,
    "start_time": "2022-02-27T10:12:40.626Z"
   },
   {
    "duration": 1483,
    "start_time": "2022-02-27T10:56:03.918Z"
   },
   {
    "duration": 45,
    "start_time": "2022-02-27T10:56:05.404Z"
   },
   {
    "duration": 10,
    "start_time": "2022-02-27T10:56:05.451Z"
   },
   {
    "duration": 25,
    "start_time": "2022-02-27T10:56:05.463Z"
   },
   {
    "duration": 25,
    "start_time": "2022-02-27T10:56:05.491Z"
   },
   {
    "duration": 42,
    "start_time": "2022-02-27T10:56:05.518Z"
   },
   {
    "duration": 33,
    "start_time": "2022-02-27T10:56:05.562Z"
   },
   {
    "duration": 16,
    "start_time": "2022-02-27T10:56:05.598Z"
   },
   {
    "duration": 20,
    "start_time": "2022-02-27T10:56:05.616Z"
   },
   {
    "duration": 26,
    "start_time": "2022-02-27T10:56:05.637Z"
   },
   {
    "duration": 3,
    "start_time": "2022-02-27T10:56:05.666Z"
   },
   {
    "duration": 21,
    "start_time": "2022-02-27T10:56:05.671Z"
   },
   {
    "duration": 25,
    "start_time": "2022-02-27T10:56:05.694Z"
   },
   {
    "duration": 22,
    "start_time": "2022-02-27T10:56:05.721Z"
   },
   {
    "duration": 25,
    "start_time": "2022-02-27T10:56:05.745Z"
   },
   {
    "duration": 12,
    "start_time": "2022-02-27T10:56:05.772Z"
   },
   {
    "duration": 336,
    "start_time": "2022-02-27T10:56:05.786Z"
   },
   {
    "duration": 7,
    "start_time": "2022-02-27T10:56:06.125Z"
   },
   {
    "duration": 31,
    "start_time": "2022-02-27T10:56:06.134Z"
   },
   {
    "duration": 15,
    "start_time": "2022-02-27T10:56:06.167Z"
   },
   {
    "duration": 214,
    "start_time": "2022-02-27T10:56:06.183Z"
   },
   {
    "duration": 20,
    "start_time": "2022-02-27T10:56:06.399Z"
   },
   {
    "duration": 483,
    "start_time": "2022-02-27T10:56:06.424Z"
   },
   {
    "duration": 347,
    "start_time": "2022-02-27T10:56:06.910Z"
   },
   {
    "duration": 1061,
    "start_time": "2022-02-27T10:56:07.259Z"
   },
   {
    "duration": 818,
    "start_time": "2022-02-27T10:56:08.322Z"
   },
   {
    "duration": 36,
    "start_time": "2022-02-27T10:56:09.142Z"
   },
   {
    "duration": 21,
    "start_time": "2022-02-27T10:56:09.180Z"
   },
   {
    "duration": 48,
    "start_time": "2022-02-27T10:56:09.203Z"
   },
   {
    "duration": 9,
    "start_time": "2022-02-27T10:56:09.253Z"
   },
   {
    "duration": 380,
    "start_time": "2022-02-27T10:56:09.263Z"
   },
   {
    "duration": 3,
    "start_time": "2022-02-27T10:56:09.645Z"
   },
   {
    "duration": 14,
    "start_time": "2022-02-27T10:56:09.649Z"
   },
   {
    "duration": 14,
    "start_time": "2022-02-27T10:56:09.665Z"
   },
   {
    "duration": 15,
    "start_time": "2022-02-27T10:56:09.681Z"
   },
   {
    "duration": 7,
    "start_time": "2022-02-27T10:56:09.698Z"
   },
   {
    "duration": 9,
    "start_time": "2022-02-27T10:56:09.707Z"
   },
   {
    "duration": 9,
    "start_time": "2022-02-27T10:56:09.718Z"
   },
   {
    "duration": 782,
    "start_time": "2022-02-27T10:56:09.728Z"
   },
   {
    "duration": 5,
    "start_time": "2022-02-27T10:56:10.512Z"
   },
   {
    "duration": 689,
    "start_time": "2022-02-27T10:56:10.519Z"
   },
   {
    "duration": 3,
    "start_time": "2022-02-27T10:56:11.210Z"
   },
   {
    "duration": 12,
    "start_time": "2022-02-27T10:56:11.215Z"
   },
   {
    "duration": 20,
    "start_time": "2022-02-27T10:56:11.229Z"
   },
   {
    "duration": 13,
    "start_time": "2022-02-27T10:56:11.251Z"
   },
   {
    "duration": 12,
    "start_time": "2022-02-27T10:56:11.266Z"
   },
   {
    "duration": 11,
    "start_time": "2022-02-27T10:56:11.280Z"
   },
   {
    "duration": 17,
    "start_time": "2022-02-27T10:56:11.293Z"
   },
   {
    "duration": 596,
    "start_time": "2022-02-27T10:56:11.312Z"
   },
   {
    "duration": 16,
    "start_time": "2022-02-27T10:56:11.910Z"
   },
   {
    "duration": 10,
    "start_time": "2022-02-27T10:56:11.928Z"
   },
   {
    "duration": 24,
    "start_time": "2022-02-27T10:56:11.939Z"
   },
   {
    "duration": 14,
    "start_time": "2022-02-27T10:56:11.965Z"
   },
   {
    "duration": 8,
    "start_time": "2022-02-27T10:56:11.981Z"
   },
   {
    "duration": 19,
    "start_time": "2022-02-27T10:56:11.990Z"
   },
   {
    "duration": 725,
    "start_time": "2022-02-27T10:56:12.011Z"
   },
   {
    "duration": 335,
    "start_time": "2022-02-27T10:56:12.737Z"
   },
   {
    "duration": -13,
    "start_time": "2022-02-27T10:56:13.087Z"
   },
   {
    "duration": -14,
    "start_time": "2022-02-27T10:56:13.089Z"
   },
   {
    "duration": -16,
    "start_time": "2022-02-27T10:56:13.091Z"
   },
   {
    "duration": -23,
    "start_time": "2022-02-27T10:56:13.099Z"
   },
   {
    "duration": -24,
    "start_time": "2022-02-27T10:56:13.101Z"
   },
   {
    "duration": -25,
    "start_time": "2022-02-27T10:56:13.103Z"
   },
   {
    "duration": -25,
    "start_time": "2022-02-27T10:56:13.104Z"
   },
   {
    "duration": 3,
    "start_time": "2022-02-27T11:00:54.352Z"
   },
   {
    "duration": 4,
    "start_time": "2022-02-27T11:00:55.656Z"
   },
   {
    "duration": 4,
    "start_time": "2022-02-27T11:03:34.816Z"
   },
   {
    "duration": 11,
    "start_time": "2022-02-27T11:03:36.169Z"
   },
   {
    "duration": 742,
    "start_time": "2022-02-27T11:04:39.760Z"
   },
   {
    "duration": 717,
    "start_time": "2022-02-27T11:04:45.881Z"
   },
   {
    "duration": 1524,
    "start_time": "2022-02-27T11:04:54.662Z"
   },
   {
    "duration": 40,
    "start_time": "2022-02-27T11:04:56.188Z"
   },
   {
    "duration": 9,
    "start_time": "2022-02-27T11:04:56.231Z"
   },
   {
    "duration": 16,
    "start_time": "2022-02-27T11:04:56.242Z"
   },
   {
    "duration": 9,
    "start_time": "2022-02-27T11:04:56.260Z"
   },
   {
    "duration": 34,
    "start_time": "2022-02-27T11:04:56.272Z"
   },
   {
    "duration": 25,
    "start_time": "2022-02-27T11:04:56.308Z"
   },
   {
    "duration": 42,
    "start_time": "2022-02-27T11:04:56.335Z"
   },
   {
    "duration": 15,
    "start_time": "2022-02-27T11:04:56.380Z"
   },
   {
    "duration": 14,
    "start_time": "2022-02-27T11:04:56.398Z"
   },
   {
    "duration": 3,
    "start_time": "2022-02-27T11:04:56.414Z"
   },
   {
    "duration": 9,
    "start_time": "2022-02-27T11:04:56.419Z"
   },
   {
    "duration": 37,
    "start_time": "2022-02-27T11:04:56.429Z"
   },
   {
    "duration": 10,
    "start_time": "2022-02-27T11:04:56.468Z"
   },
   {
    "duration": 8,
    "start_time": "2022-02-27T11:04:56.480Z"
   },
   {
    "duration": 5,
    "start_time": "2022-02-27T11:04:56.490Z"
   },
   {
    "duration": 327,
    "start_time": "2022-02-27T11:04:56.497Z"
   },
   {
    "duration": 7,
    "start_time": "2022-02-27T11:04:56.826Z"
   },
   {
    "duration": 10,
    "start_time": "2022-02-27T11:04:56.835Z"
   },
   {
    "duration": 18,
    "start_time": "2022-02-27T11:04:56.847Z"
   },
   {
    "duration": 207,
    "start_time": "2022-02-27T11:04:56.867Z"
   },
   {
    "duration": 19,
    "start_time": "2022-02-27T11:04:57.075Z"
   },
   {
    "duration": 448,
    "start_time": "2022-02-27T11:04:57.096Z"
   },
   {
    "duration": 337,
    "start_time": "2022-02-27T11:04:57.546Z"
   },
   {
    "duration": 1052,
    "start_time": "2022-02-27T11:04:57.885Z"
   },
   {
    "duration": 785,
    "start_time": "2022-02-27T11:04:58.939Z"
   },
   {
    "duration": 42,
    "start_time": "2022-02-27T11:04:59.729Z"
   },
   {
    "duration": 13,
    "start_time": "2022-02-27T11:04:59.773Z"
   },
   {
    "duration": 26,
    "start_time": "2022-02-27T11:04:59.788Z"
   },
   {
    "duration": 7,
    "start_time": "2022-02-27T11:04:59.816Z"
   },
   {
    "duration": 411,
    "start_time": "2022-02-27T11:04:59.825Z"
   },
   {
    "duration": 4,
    "start_time": "2022-02-27T11:05:00.238Z"
   },
   {
    "duration": 20,
    "start_time": "2022-02-27T11:05:00.244Z"
   },
   {
    "duration": 416,
    "start_time": "2022-02-27T11:05:00.266Z"
   },
   {
    "duration": -6,
    "start_time": "2022-02-27T11:05:00.689Z"
   },
   {
    "duration": -6,
    "start_time": "2022-02-27T11:05:00.691Z"
   },
   {
    "duration": -7,
    "start_time": "2022-02-27T11:05:00.693Z"
   },
   {
    "duration": -8,
    "start_time": "2022-02-27T11:05:00.695Z"
   },
   {
    "duration": -11,
    "start_time": "2022-02-27T11:05:00.698Z"
   },
   {
    "duration": -12,
    "start_time": "2022-02-27T11:05:00.700Z"
   },
   {
    "duration": -13,
    "start_time": "2022-02-27T11:05:00.702Z"
   },
   {
    "duration": -14,
    "start_time": "2022-02-27T11:05:00.704Z"
   },
   {
    "duration": -15,
    "start_time": "2022-02-27T11:05:00.706Z"
   },
   {
    "duration": -16,
    "start_time": "2022-02-27T11:05:00.708Z"
   },
   {
    "duration": -17,
    "start_time": "2022-02-27T11:05:00.710Z"
   },
   {
    "duration": -18,
    "start_time": "2022-02-27T11:05:00.712Z"
   },
   {
    "duration": -19,
    "start_time": "2022-02-27T11:05:00.714Z"
   },
   {
    "duration": -20,
    "start_time": "2022-02-27T11:05:00.716Z"
   },
   {
    "duration": -21,
    "start_time": "2022-02-27T11:05:00.718Z"
   },
   {
    "duration": -28,
    "start_time": "2022-02-27T11:05:00.725Z"
   },
   {
    "duration": -29,
    "start_time": "2022-02-27T11:05:00.727Z"
   },
   {
    "duration": -30,
    "start_time": "2022-02-27T11:05:00.729Z"
   },
   {
    "duration": -31,
    "start_time": "2022-02-27T11:05:00.731Z"
   },
   {
    "duration": -32,
    "start_time": "2022-02-27T11:05:00.733Z"
   },
   {
    "duration": -32,
    "start_time": "2022-02-27T11:05:00.734Z"
   },
   {
    "duration": -33,
    "start_time": "2022-02-27T11:05:00.736Z"
   },
   {
    "duration": -33,
    "start_time": "2022-02-27T11:05:00.738Z"
   },
   {
    "duration": -33,
    "start_time": "2022-02-27T11:05:00.739Z"
   },
   {
    "duration": -34,
    "start_time": "2022-02-27T11:05:00.741Z"
   },
   {
    "duration": -36,
    "start_time": "2022-02-27T11:05:00.743Z"
   },
   {
    "duration": -37,
    "start_time": "2022-02-27T11:05:00.745Z"
   },
   {
    "duration": -37,
    "start_time": "2022-02-27T11:05:00.746Z"
   },
   {
    "duration": -38,
    "start_time": "2022-02-27T11:05:00.748Z"
   },
   {
    "duration": -39,
    "start_time": "2022-02-27T11:05:00.750Z"
   },
   {
    "duration": 1485,
    "start_time": "2022-02-27T11:05:22.287Z"
   },
   {
    "duration": 40,
    "start_time": "2022-02-27T11:05:23.774Z"
   },
   {
    "duration": 9,
    "start_time": "2022-02-27T11:05:23.816Z"
   },
   {
    "duration": 33,
    "start_time": "2022-02-27T11:05:23.826Z"
   },
   {
    "duration": 29,
    "start_time": "2022-02-27T11:05:23.860Z"
   },
   {
    "duration": 52,
    "start_time": "2022-02-27T11:05:23.891Z"
   },
   {
    "duration": 25,
    "start_time": "2022-02-27T11:05:23.945Z"
   },
   {
    "duration": 16,
    "start_time": "2022-02-27T11:05:23.972Z"
   },
   {
    "duration": 27,
    "start_time": "2022-02-27T11:05:23.991Z"
   },
   {
    "duration": 25,
    "start_time": "2022-02-27T11:05:24.021Z"
   },
   {
    "duration": 14,
    "start_time": "2022-02-27T11:05:24.048Z"
   },
   {
    "duration": 20,
    "start_time": "2022-02-27T11:05:24.064Z"
   },
   {
    "duration": 28,
    "start_time": "2022-02-27T11:05:24.086Z"
   },
   {
    "duration": 8,
    "start_time": "2022-02-27T11:05:24.116Z"
   },
   {
    "duration": 13,
    "start_time": "2022-02-27T11:05:24.125Z"
   },
   {
    "duration": 29,
    "start_time": "2022-02-27T11:05:24.139Z"
   },
   {
    "duration": 344,
    "start_time": "2022-02-27T11:05:24.170Z"
   },
   {
    "duration": 8,
    "start_time": "2022-02-27T11:05:24.515Z"
   },
   {
    "duration": 9,
    "start_time": "2022-02-27T11:05:24.525Z"
   },
   {
    "duration": 6,
    "start_time": "2022-02-27T11:05:24.536Z"
   },
   {
    "duration": 192,
    "start_time": "2022-02-27T11:05:24.564Z"
   },
   {
    "duration": 21,
    "start_time": "2022-02-27T11:05:24.758Z"
   },
   {
    "duration": 419,
    "start_time": "2022-02-27T11:05:24.781Z"
   },
   {
    "duration": 348,
    "start_time": "2022-02-27T11:05:25.202Z"
   },
   {
    "duration": 1103,
    "start_time": "2022-02-27T11:05:25.552Z"
   },
   {
    "duration": 788,
    "start_time": "2022-02-27T11:05:26.657Z"
   },
   {
    "duration": 32,
    "start_time": "2022-02-27T11:05:27.449Z"
   },
   {
    "duration": 13,
    "start_time": "2022-02-27T11:05:27.484Z"
   },
   {
    "duration": 26,
    "start_time": "2022-02-27T11:05:27.499Z"
   },
   {
    "duration": 7,
    "start_time": "2022-02-27T11:05:27.527Z"
   },
   {
    "duration": 382,
    "start_time": "2022-02-27T11:05:27.536Z"
   },
   {
    "duration": 3,
    "start_time": "2022-02-27T11:05:27.920Z"
   },
   {
    "duration": 7,
    "start_time": "2022-02-27T11:05:27.924Z"
   },
   {
    "duration": 8,
    "start_time": "2022-02-27T11:05:27.933Z"
   },
   {
    "duration": 31,
    "start_time": "2022-02-27T11:05:27.943Z"
   },
   {
    "duration": 4,
    "start_time": "2022-02-27T11:05:27.975Z"
   },
   {
    "duration": 12,
    "start_time": "2022-02-27T11:05:27.980Z"
   },
   {
    "duration": 4,
    "start_time": "2022-02-27T11:05:27.994Z"
   },
   {
    "duration": 700,
    "start_time": "2022-02-27T11:05:27.999Z"
   },
   {
    "duration": 4,
    "start_time": "2022-02-27T11:05:28.701Z"
   },
   {
    "duration": 624,
    "start_time": "2022-02-27T11:05:28.706Z"
   },
   {
    "duration": 4,
    "start_time": "2022-02-27T11:05:29.331Z"
   },
   {
    "duration": 18,
    "start_time": "2022-02-27T11:05:29.336Z"
   },
   {
    "duration": 19,
    "start_time": "2022-02-27T11:05:29.356Z"
   },
   {
    "duration": 11,
    "start_time": "2022-02-27T11:05:29.377Z"
   },
   {
    "duration": 9,
    "start_time": "2022-02-27T11:05:29.390Z"
   },
   {
    "duration": 14,
    "start_time": "2022-02-27T11:05:29.400Z"
   },
   {
    "duration": 14,
    "start_time": "2022-02-27T11:05:29.416Z"
   },
   {
    "duration": 357,
    "start_time": "2022-02-27T11:05:29.431Z"
   },
   {
    "duration": -3,
    "start_time": "2022-02-27T11:05:29.793Z"
   },
   {
    "duration": -18,
    "start_time": "2022-02-27T11:05:29.809Z"
   },
   {
    "duration": -19,
    "start_time": "2022-02-27T11:05:29.811Z"
   },
   {
    "duration": -21,
    "start_time": "2022-02-27T11:05:29.814Z"
   },
   {
    "duration": -22,
    "start_time": "2022-02-27T11:05:29.816Z"
   },
   {
    "duration": -22,
    "start_time": "2022-02-27T11:05:29.817Z"
   },
   {
    "duration": -23,
    "start_time": "2022-02-27T11:05:29.819Z"
   },
   {
    "duration": -25,
    "start_time": "2022-02-27T11:05:29.821Z"
   },
   {
    "duration": -24,
    "start_time": "2022-02-27T11:05:29.822Z"
   },
   {
    "duration": -25,
    "start_time": "2022-02-27T11:05:29.824Z"
   },
   {
    "duration": -26,
    "start_time": "2022-02-27T11:05:29.826Z"
   },
   {
    "duration": -27,
    "start_time": "2022-02-27T11:05:29.827Z"
   },
   {
    "duration": -28,
    "start_time": "2022-02-27T11:05:29.829Z"
   },
   {
    "duration": -29,
    "start_time": "2022-02-27T11:05:29.831Z"
   },
   {
    "duration": -30,
    "start_time": "2022-02-27T11:05:29.833Z"
   },
   {
    "duration": 1481,
    "start_time": "2022-02-27T11:05:53.669Z"
   },
   {
    "duration": 39,
    "start_time": "2022-02-27T11:05:55.152Z"
   },
   {
    "duration": 8,
    "start_time": "2022-02-27T11:05:55.193Z"
   },
   {
    "duration": 11,
    "start_time": "2022-02-27T11:05:55.204Z"
   },
   {
    "duration": 8,
    "start_time": "2022-02-27T11:05:55.217Z"
   },
   {
    "duration": 59,
    "start_time": "2022-02-27T11:05:55.226Z"
   },
   {
    "duration": 22,
    "start_time": "2022-02-27T11:05:55.287Z"
   },
   {
    "duration": 14,
    "start_time": "2022-02-27T11:05:55.312Z"
   },
   {
    "duration": 36,
    "start_time": "2022-02-27T11:05:55.329Z"
   },
   {
    "duration": 15,
    "start_time": "2022-02-27T11:05:55.366Z"
   },
   {
    "duration": 3,
    "start_time": "2022-02-27T11:05:55.383Z"
   },
   {
    "duration": 8,
    "start_time": "2022-02-27T11:05:55.388Z"
   },
   {
    "duration": 10,
    "start_time": "2022-02-27T11:05:55.397Z"
   },
   {
    "duration": 15,
    "start_time": "2022-02-27T11:05:55.408Z"
   },
   {
    "duration": 14,
    "start_time": "2022-02-27T11:05:55.424Z"
   },
   {
    "duration": 10,
    "start_time": "2022-02-27T11:05:55.440Z"
   },
   {
    "duration": 318,
    "start_time": "2022-02-27T11:05:55.451Z"
   },
   {
    "duration": 7,
    "start_time": "2022-02-27T11:05:55.770Z"
   },
   {
    "duration": 15,
    "start_time": "2022-02-27T11:05:55.779Z"
   },
   {
    "duration": 14,
    "start_time": "2022-02-27T11:05:55.796Z"
   },
   {
    "duration": 201,
    "start_time": "2022-02-27T11:05:55.812Z"
   },
   {
    "duration": 19,
    "start_time": "2022-02-27T11:05:56.015Z"
   },
   {
    "duration": 438,
    "start_time": "2022-02-27T11:05:56.038Z"
   },
   {
    "duration": 354,
    "start_time": "2022-02-27T11:05:56.479Z"
   },
   {
    "duration": 1291,
    "start_time": "2022-02-27T11:05:56.835Z"
   },
   {
    "duration": 782,
    "start_time": "2022-02-27T11:05:58.127Z"
   },
   {
    "duration": 28,
    "start_time": "2022-02-27T11:05:58.911Z"
   },
   {
    "duration": 25,
    "start_time": "2022-02-27T11:05:58.941Z"
   },
   {
    "duration": 40,
    "start_time": "2022-02-27T11:05:58.968Z"
   },
   {
    "duration": 7,
    "start_time": "2022-02-27T11:05:59.009Z"
   },
   {
    "duration": 368,
    "start_time": "2022-02-27T11:05:59.018Z"
   },
   {
    "duration": 2,
    "start_time": "2022-02-27T11:05:59.388Z"
   },
   {
    "duration": 16,
    "start_time": "2022-02-27T11:05:59.392Z"
   },
   {
    "duration": 17,
    "start_time": "2022-02-27T11:05:59.410Z"
   },
   {
    "duration": 30,
    "start_time": "2022-02-27T11:05:59.429Z"
   },
   {
    "duration": 4,
    "start_time": "2022-02-27T11:05:59.461Z"
   },
   {
    "duration": 19,
    "start_time": "2022-02-27T11:05:59.466Z"
   },
   {
    "duration": 6,
    "start_time": "2022-02-27T11:05:59.487Z"
   },
   {
    "duration": 715,
    "start_time": "2022-02-27T11:05:59.495Z"
   },
   {
    "duration": 4,
    "start_time": "2022-02-27T11:06:00.212Z"
   },
   {
    "duration": 731,
    "start_time": "2022-02-27T11:06:00.218Z"
   },
   {
    "duration": 3,
    "start_time": "2022-02-27T11:06:00.951Z"
   },
   {
    "duration": 35,
    "start_time": "2022-02-27T11:06:00.956Z"
   },
   {
    "duration": 27,
    "start_time": "2022-02-27T11:06:00.993Z"
   },
   {
    "duration": 12,
    "start_time": "2022-02-27T11:06:01.022Z"
   },
   {
    "duration": 13,
    "start_time": "2022-02-27T11:06:01.036Z"
   },
   {
    "duration": 19,
    "start_time": "2022-02-27T11:06:01.051Z"
   },
   {
    "duration": 25,
    "start_time": "2022-02-27T11:06:01.071Z"
   },
   {
    "duration": 599,
    "start_time": "2022-02-27T11:06:01.098Z"
   },
   {
    "duration": 18,
    "start_time": "2022-02-27T11:06:01.699Z"
   },
   {
    "duration": 28,
    "start_time": "2022-02-27T11:06:01.719Z"
   },
   {
    "duration": 12,
    "start_time": "2022-02-27T11:06:01.749Z"
   },
   {
    "duration": 28,
    "start_time": "2022-02-27T11:06:01.763Z"
   },
   {
    "duration": 14,
    "start_time": "2022-02-27T11:06:01.793Z"
   },
   {
    "duration": 41,
    "start_time": "2022-02-27T11:06:01.809Z"
   },
   {
    "duration": 723,
    "start_time": "2022-02-27T11:06:01.852Z"
   },
   {
    "duration": 363,
    "start_time": "2022-02-27T11:06:02.577Z"
   },
   {
    "duration": -11,
    "start_time": "2022-02-27T11:06:02.953Z"
   },
   {
    "duration": -12,
    "start_time": "2022-02-27T11:06:02.955Z"
   },
   {
    "duration": -17,
    "start_time": "2022-02-27T11:06:02.961Z"
   },
   {
    "duration": -18,
    "start_time": "2022-02-27T11:06:02.963Z"
   },
   {
    "duration": -19,
    "start_time": "2022-02-27T11:06:02.965Z"
   },
   {
    "duration": -20,
    "start_time": "2022-02-27T11:06:02.967Z"
   },
   {
    "duration": -21,
    "start_time": "2022-02-27T11:06:02.969Z"
   },
   {
    "duration": 1643,
    "start_time": "2022-02-27T11:08:17.076Z"
   },
   {
    "duration": 44,
    "start_time": "2022-02-27T11:08:18.721Z"
   },
   {
    "duration": 9,
    "start_time": "2022-02-27T11:08:18.767Z"
   },
   {
    "duration": 17,
    "start_time": "2022-02-27T11:08:18.778Z"
   },
   {
    "duration": 8,
    "start_time": "2022-02-27T11:08:18.796Z"
   },
   {
    "duration": 39,
    "start_time": "2022-02-27T11:08:18.806Z"
   },
   {
    "duration": 35,
    "start_time": "2022-02-27T11:08:18.847Z"
   },
   {
    "duration": 15,
    "start_time": "2022-02-27T11:08:18.883Z"
   },
   {
    "duration": 15,
    "start_time": "2022-02-27T11:08:18.901Z"
   },
   {
    "duration": 45,
    "start_time": "2022-02-27T11:08:18.918Z"
   },
   {
    "duration": 4,
    "start_time": "2022-02-27T11:08:18.965Z"
   },
   {
    "duration": 9,
    "start_time": "2022-02-27T11:08:18.970Z"
   },
   {
    "duration": 13,
    "start_time": "2022-02-27T11:08:18.981Z"
   },
   {
    "duration": 12,
    "start_time": "2022-02-27T11:08:18.995Z"
   },
   {
    "duration": 14,
    "start_time": "2022-02-27T11:08:19.009Z"
   },
   {
    "duration": 8,
    "start_time": "2022-02-27T11:08:19.024Z"
   },
   {
    "duration": 331,
    "start_time": "2022-02-27T11:08:19.034Z"
   },
   {
    "duration": 8,
    "start_time": "2022-02-27T11:08:19.367Z"
   },
   {
    "duration": 12,
    "start_time": "2022-02-27T11:08:19.376Z"
   },
   {
    "duration": 10,
    "start_time": "2022-02-27T11:08:19.389Z"
   },
   {
    "duration": 218,
    "start_time": "2022-02-27T11:08:19.400Z"
   },
   {
    "duration": 18,
    "start_time": "2022-02-27T11:08:19.620Z"
   },
   {
    "duration": 455,
    "start_time": "2022-02-27T11:08:19.640Z"
   },
   {
    "duration": 357,
    "start_time": "2022-02-27T11:08:20.096Z"
   },
   {
    "duration": 1092,
    "start_time": "2022-02-27T11:08:20.454Z"
   },
   {
    "duration": 810,
    "start_time": "2022-02-27T11:08:21.547Z"
   },
   {
    "duration": 28,
    "start_time": "2022-02-27T11:08:22.365Z"
   },
   {
    "duration": 12,
    "start_time": "2022-02-27T11:08:22.396Z"
   },
   {
    "duration": 27,
    "start_time": "2022-02-27T11:08:22.410Z"
   },
   {
    "duration": 27,
    "start_time": "2022-02-27T11:08:22.438Z"
   },
   {
    "duration": 387,
    "start_time": "2022-02-27T11:08:22.467Z"
   },
   {
    "duration": 3,
    "start_time": "2022-02-27T11:08:22.864Z"
   },
   {
    "duration": 9,
    "start_time": "2022-02-27T11:08:22.868Z"
   },
   {
    "duration": 16,
    "start_time": "2022-02-27T11:08:22.879Z"
   },
   {
    "duration": 20,
    "start_time": "2022-02-27T11:08:22.897Z"
   },
   {
    "duration": 8,
    "start_time": "2022-02-27T11:08:22.918Z"
   },
   {
    "duration": 9,
    "start_time": "2022-02-27T11:08:22.928Z"
   },
   {
    "duration": 5,
    "start_time": "2022-02-27T11:08:22.939Z"
   },
   {
    "duration": 753,
    "start_time": "2022-02-27T11:08:22.946Z"
   },
   {
    "duration": 4,
    "start_time": "2022-02-27T11:08:23.701Z"
   },
   {
    "duration": 611,
    "start_time": "2022-02-27T11:08:23.707Z"
   },
   {
    "duration": 4,
    "start_time": "2022-02-27T11:08:24.320Z"
   },
   {
    "duration": 10,
    "start_time": "2022-02-27T11:08:24.326Z"
   },
   {
    "duration": 17,
    "start_time": "2022-02-27T11:08:24.337Z"
   },
   {
    "duration": 13,
    "start_time": "2022-02-27T11:08:24.356Z"
   },
   {
    "duration": 10,
    "start_time": "2022-02-27T11:08:24.370Z"
   },
   {
    "duration": 13,
    "start_time": "2022-02-27T11:08:24.382Z"
   },
   {
    "duration": 10,
    "start_time": "2022-02-27T11:08:24.397Z"
   },
   {
    "duration": 590,
    "start_time": "2022-02-27T11:08:24.409Z"
   },
   {
    "duration": 18,
    "start_time": "2022-02-27T11:08:25.001Z"
   },
   {
    "duration": 10,
    "start_time": "2022-02-27T11:08:25.020Z"
   },
   {
    "duration": 5,
    "start_time": "2022-02-27T11:08:25.031Z"
   },
   {
    "duration": 37,
    "start_time": "2022-02-27T11:08:25.038Z"
   },
   {
    "duration": 7,
    "start_time": "2022-02-27T11:08:25.077Z"
   },
   {
    "duration": 21,
    "start_time": "2022-02-27T11:08:25.085Z"
   },
   {
    "duration": 667,
    "start_time": "2022-02-27T11:08:25.107Z"
   },
   {
    "duration": 5724,
    "start_time": "2022-02-27T11:08:25.776Z"
   },
   {
    "duration": -17,
    "start_time": "2022-02-27T11:08:31.519Z"
   },
   {
    "duration": -18,
    "start_time": "2022-02-27T11:08:31.521Z"
   },
   {
    "duration": -20,
    "start_time": "2022-02-27T11:08:31.524Z"
   },
   {
    "duration": -21,
    "start_time": "2022-02-27T11:08:31.526Z"
   },
   {
    "duration": -22,
    "start_time": "2022-02-27T11:08:31.529Z"
   },
   {
    "duration": -24,
    "start_time": "2022-02-27T11:08:31.532Z"
   },
   {
    "duration": -26,
    "start_time": "2022-02-27T11:08:31.535Z"
   },
   {
    "duration": 5401,
    "start_time": "2022-02-27T11:08:45.412Z"
   },
   {
    "duration": 903,
    "start_time": "2022-02-27T11:09:21.371Z"
   },
   {
    "duration": 6,
    "start_time": "2022-02-27T11:09:23.763Z"
   },
   {
    "duration": 1566,
    "start_time": "2022-02-27T11:09:31.543Z"
   },
   {
    "duration": 47,
    "start_time": "2022-02-27T11:09:33.111Z"
   },
   {
    "duration": 9,
    "start_time": "2022-02-27T11:09:33.160Z"
   },
   {
    "duration": 18,
    "start_time": "2022-02-27T11:09:33.171Z"
   },
   {
    "duration": 15,
    "start_time": "2022-02-27T11:09:33.191Z"
   },
   {
    "duration": 74,
    "start_time": "2022-02-27T11:09:33.207Z"
   },
   {
    "duration": 47,
    "start_time": "2022-02-27T11:09:33.283Z"
   },
   {
    "duration": 18,
    "start_time": "2022-02-27T11:09:33.332Z"
   },
   {
    "duration": 15,
    "start_time": "2022-02-27T11:09:33.352Z"
   },
   {
    "duration": 16,
    "start_time": "2022-02-27T11:09:33.369Z"
   },
   {
    "duration": 14,
    "start_time": "2022-02-27T11:09:33.387Z"
   },
   {
    "duration": 26,
    "start_time": "2022-02-27T11:09:33.403Z"
   },
   {
    "duration": 70,
    "start_time": "2022-02-27T11:09:33.431Z"
   },
   {
    "duration": 19,
    "start_time": "2022-02-27T11:09:33.504Z"
   },
   {
    "duration": 10,
    "start_time": "2022-02-27T11:09:33.526Z"
   },
   {
    "duration": 36,
    "start_time": "2022-02-27T11:09:33.539Z"
   },
   {
    "duration": 331,
    "start_time": "2022-02-27T11:09:33.577Z"
   },
   {
    "duration": 7,
    "start_time": "2022-02-27T11:09:33.910Z"
   },
   {
    "duration": 12,
    "start_time": "2022-02-27T11:09:33.919Z"
   },
   {
    "duration": 11,
    "start_time": "2022-02-27T11:09:33.933Z"
   },
   {
    "duration": 224,
    "start_time": "2022-02-27T11:09:33.945Z"
   },
   {
    "duration": 20,
    "start_time": "2022-02-27T11:09:34.170Z"
   },
   {
    "duration": 444,
    "start_time": "2022-02-27T11:09:34.195Z"
   },
   {
    "duration": 350,
    "start_time": "2022-02-27T11:09:34.642Z"
   },
   {
    "duration": 1241,
    "start_time": "2022-02-27T11:09:34.994Z"
   },
   {
    "duration": 776,
    "start_time": "2022-02-27T11:09:36.237Z"
   },
   {
    "duration": 26,
    "start_time": "2022-02-27T11:09:37.015Z"
   },
   {
    "duration": 28,
    "start_time": "2022-02-27T11:09:37.043Z"
   },
   {
    "duration": 22,
    "start_time": "2022-02-27T11:09:37.073Z"
   },
   {
    "duration": 6,
    "start_time": "2022-02-27T11:09:37.097Z"
   },
   {
    "duration": 374,
    "start_time": "2022-02-27T11:09:37.105Z"
   },
   {
    "duration": 2,
    "start_time": "2022-02-27T11:09:37.481Z"
   },
   {
    "duration": 6,
    "start_time": "2022-02-27T11:09:37.485Z"
   },
   {
    "duration": 8,
    "start_time": "2022-02-27T11:09:37.492Z"
   },
   {
    "duration": 19,
    "start_time": "2022-02-27T11:09:37.501Z"
   },
   {
    "duration": 8,
    "start_time": "2022-02-27T11:09:37.522Z"
   },
   {
    "duration": 9,
    "start_time": "2022-02-27T11:09:37.531Z"
   },
   {
    "duration": 22,
    "start_time": "2022-02-27T11:09:37.542Z"
   },
   {
    "duration": 628,
    "start_time": "2022-02-27T11:09:37.566Z"
   },
   {
    "duration": 5,
    "start_time": "2022-02-27T11:09:38.197Z"
   },
   {
    "duration": 644,
    "start_time": "2022-02-27T11:09:38.204Z"
   },
   {
    "duration": 3,
    "start_time": "2022-02-27T11:09:38.850Z"
   },
   {
    "duration": 12,
    "start_time": "2022-02-27T11:09:38.855Z"
   },
   {
    "duration": 17,
    "start_time": "2022-02-27T11:09:38.868Z"
   },
   {
    "duration": 13,
    "start_time": "2022-02-27T11:09:38.886Z"
   },
   {
    "duration": 10,
    "start_time": "2022-02-27T11:09:38.900Z"
   },
   {
    "duration": 11,
    "start_time": "2022-02-27T11:09:38.912Z"
   },
   {
    "duration": 12,
    "start_time": "2022-02-27T11:09:38.925Z"
   },
   {
    "duration": 628,
    "start_time": "2022-02-27T11:09:38.939Z"
   },
   {
    "duration": 17,
    "start_time": "2022-02-27T11:09:39.569Z"
   },
   {
    "duration": 8,
    "start_time": "2022-02-27T11:09:39.588Z"
   },
   {
    "duration": 4,
    "start_time": "2022-02-27T11:09:39.597Z"
   },
   {
    "duration": 14,
    "start_time": "2022-02-27T11:09:39.603Z"
   },
   {
    "duration": 6,
    "start_time": "2022-02-27T11:09:39.618Z"
   },
   {
    "duration": 46,
    "start_time": "2022-02-27T11:09:39.626Z"
   },
   {
    "duration": 816,
    "start_time": "2022-02-27T11:09:39.673Z"
   },
   {
    "duration": 6,
    "start_time": "2022-02-27T11:09:40.490Z"
   },
   {
    "duration": 13,
    "start_time": "2022-02-27T11:09:40.497Z"
   },
   {
    "duration": 4,
    "start_time": "2022-02-27T11:09:40.512Z"
   },
   {
    "duration": 9,
    "start_time": "2022-02-27T11:09:40.517Z"
   },
   {
    "duration": 356,
    "start_time": "2022-02-27T11:09:40.527Z"
   },
   {
    "duration": 4,
    "start_time": "2022-02-27T11:09:40.884Z"
   },
   {
    "duration": 8,
    "start_time": "2022-02-27T11:09:40.889Z"
   },
   {
    "duration": 701,
    "start_time": "2022-02-27T11:09:40.898Z"
   },
   {
    "duration": 12662,
    "start_time": "2022-02-27T13:06:00.326Z"
   },
   {
    "duration": 58,
    "start_time": "2022-02-27T13:06:12.991Z"
   },
   {
    "duration": 11,
    "start_time": "2022-02-27T13:06:13.052Z"
   },
   {
    "duration": 35,
    "start_time": "2022-02-27T13:06:13.066Z"
   },
   {
    "duration": 14,
    "start_time": "2022-02-27T13:06:13.104Z"
   },
   {
    "duration": 66,
    "start_time": "2022-02-27T13:06:13.120Z"
   },
   {
    "duration": 30,
    "start_time": "2022-02-27T13:06:13.188Z"
   },
   {
    "duration": 19,
    "start_time": "2022-02-27T13:06:13.222Z"
   },
   {
    "duration": 50,
    "start_time": "2022-02-27T13:06:13.244Z"
   },
   {
    "duration": 18,
    "start_time": "2022-02-27T13:06:13.296Z"
   },
   {
    "duration": 5,
    "start_time": "2022-02-27T13:06:13.317Z"
   },
   {
    "duration": 18,
    "start_time": "2022-02-27T13:06:13.324Z"
   },
   {
    "duration": 40,
    "start_time": "2022-02-27T13:06:13.344Z"
   },
   {
    "duration": 17,
    "start_time": "2022-02-27T13:06:13.387Z"
   },
   {
    "duration": 23,
    "start_time": "2022-02-27T13:06:13.406Z"
   },
   {
    "duration": 31,
    "start_time": "2022-02-27T13:06:13.431Z"
   },
   {
    "duration": 547,
    "start_time": "2022-02-27T13:06:13.466Z"
   },
   {
    "duration": 10,
    "start_time": "2022-02-27T13:06:14.015Z"
   },
   {
    "duration": 18,
    "start_time": "2022-02-27T13:06:14.028Z"
   },
   {
    "duration": 37,
    "start_time": "2022-02-27T13:06:14.049Z"
   },
   {
    "duration": 325,
    "start_time": "2022-02-27T13:06:14.089Z"
   },
   {
    "duration": 41,
    "start_time": "2022-02-27T13:06:14.417Z"
   },
   {
    "duration": 31145,
    "start_time": "2022-02-27T13:06:14.464Z"
   },
   {
    "duration": 567,
    "start_time": "2022-02-27T13:06:45.613Z"
   },
   {
    "duration": 1593,
    "start_time": "2022-02-27T13:06:46.183Z"
   },
   {
    "duration": 1300,
    "start_time": "2022-02-27T13:06:47.782Z"
   },
   {
    "duration": 36,
    "start_time": "2022-02-27T13:06:49.085Z"
   },
   {
    "duration": 20,
    "start_time": "2022-02-27T13:06:49.124Z"
   },
   {
    "duration": 64,
    "start_time": "2022-02-27T13:06:49.147Z"
   },
   {
    "duration": 10,
    "start_time": "2022-02-27T13:06:49.214Z"
   },
   {
    "duration": 716,
    "start_time": "2022-02-27T13:06:49.227Z"
   },
   {
    "duration": 4,
    "start_time": "2022-02-27T13:06:49.947Z"
   },
   {
    "duration": 28,
    "start_time": "2022-02-27T13:06:49.954Z"
   },
   {
    "duration": 8,
    "start_time": "2022-02-27T13:06:49.984Z"
   },
   {
    "duration": 26,
    "start_time": "2022-02-27T13:06:49.995Z"
   },
   {
    "duration": 11,
    "start_time": "2022-02-27T13:06:50.023Z"
   },
   {
    "duration": 19,
    "start_time": "2022-02-27T13:06:50.036Z"
   },
   {
    "duration": 6,
    "start_time": "2022-02-27T13:06:50.082Z"
   },
   {
    "duration": 726,
    "start_time": "2022-02-27T13:06:50.090Z"
   },
   {
    "duration": 6,
    "start_time": "2022-02-27T13:06:50.819Z"
   },
   {
    "duration": 721,
    "start_time": "2022-02-27T13:06:50.827Z"
   },
   {
    "duration": 4,
    "start_time": "2022-02-27T13:06:51.551Z"
   },
   {
    "duration": 14,
    "start_time": "2022-02-27T13:06:51.558Z"
   },
   {
    "duration": 25,
    "start_time": "2022-02-27T13:06:51.574Z"
   },
   {
    "duration": 17,
    "start_time": "2022-02-27T13:06:51.601Z"
   },
   {
    "duration": 14,
    "start_time": "2022-02-27T13:06:51.620Z"
   },
   {
    "duration": 49,
    "start_time": "2022-02-27T13:06:51.637Z"
   },
   {
    "duration": 12,
    "start_time": "2022-02-27T13:06:51.689Z"
   },
   {
    "duration": 918,
    "start_time": "2022-02-27T13:06:51.704Z"
   },
   {
    "duration": 26,
    "start_time": "2022-02-27T13:06:52.625Z"
   },
   {
    "duration": 37,
    "start_time": "2022-02-27T13:06:52.653Z"
   },
   {
    "duration": 6,
    "start_time": "2022-02-27T13:06:52.692Z"
   },
   {
    "duration": 21,
    "start_time": "2022-02-27T13:06:52.700Z"
   },
   {
    "duration": 7,
    "start_time": "2022-02-27T13:06:52.724Z"
   },
   {
    "duration": 51,
    "start_time": "2022-02-27T13:06:52.733Z"
   },
   {
    "duration": 871,
    "start_time": "2022-02-27T13:06:52.786Z"
   },
   {
    "duration": 6,
    "start_time": "2022-02-27T13:06:53.660Z"
   },
   {
    "duration": 20,
    "start_time": "2022-02-27T13:06:53.668Z"
   },
   {
    "duration": 6,
    "start_time": "2022-02-27T13:06:53.691Z"
   },
   {
    "duration": 11,
    "start_time": "2022-02-27T13:06:53.699Z"
   },
   {
    "duration": 653,
    "start_time": "2022-02-27T13:06:53.712Z"
   },
   {
    "duration": 15,
    "start_time": "2022-02-27T13:06:54.368Z"
   },
   {
    "duration": 24,
    "start_time": "2022-02-27T13:06:54.386Z"
   },
   {
    "duration": 1025,
    "start_time": "2022-02-27T13:06:54.413Z"
   }
  ],
  "celltoolbar": "Необработанный формат ячейки",
  "kernelspec": {
   "display_name": "Python 3 (ipykernel)",
   "language": "python",
   "name": "python3"
  },
  "language_info": {
   "codemirror_mode": {
    "name": "ipython",
    "version": 3
   },
   "file_extension": ".py",
   "mimetype": "text/x-python",
   "name": "python",
   "nbconvert_exporter": "python",
   "pygments_lexer": "ipython3",
   "version": "3.9.7"
  },
  "toc": {
   "base_numbering": 1,
   "nav_menu": {},
   "number_sections": true,
   "sideBar": true,
   "skip_h1_title": true,
   "title_cell": "Table of Contents",
   "title_sidebar": "Contents",
   "toc_cell": false,
   "toc_position": {},
   "toc_section_display": true,
   "toc_window_display": false
  }
 },
 "nbformat": 4,
 "nbformat_minor": 2
}
