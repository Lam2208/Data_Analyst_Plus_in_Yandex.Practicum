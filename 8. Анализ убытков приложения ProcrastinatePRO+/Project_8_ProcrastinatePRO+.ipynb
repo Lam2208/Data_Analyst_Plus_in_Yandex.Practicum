{
 "cells": [
  {
   "cell_type": "markdown",
   "metadata": {},
   "source": [
    "Мы выступаем в качестве маркетингового аналитика развлекательного приложения Procrastinate Pro+. Несколько прошлых месяцев этот бизнес постоянно нес убытки - в привлечение пользователей была вложена куча денег, а толку никакого. Нам нужно разобраться в причинах этой ситуации.\n",
    "\n",
    "У нас в распоряжении есть лог сервера с данными о посещениях приложения новыми пользователями, зарегистрировавшимися в период с 2019-05-01 по 2019-10-27, выгрузка их покупок за этот период, а также статистика рекламных расходов. Нам предстоит изучить, как люди пользуются продуктом, когда они начинают покупать, сколько денег приносит каждый клиент, когда он окупается и какие факторы отрицательно влияют на привлечение пользователей.\n",
    "\n",
    "#### Шаг 1. Загрузите данные и подготовьте их к анализу\n",
    "Загрузим данные о визитах, заказах и расходах в переменные. Оптимизируем данные для анализа. Убедимся, что тип данных в каждой колонке — правильный.\n",
    " \n",
    "#### Шаг 2. Задайте функции для расчета и анализа LTV, ROI, удержания и конверсии\n",
    "\n",
    "#### Шаг 3. Проведите исследовательский анализ данных\n",
    "\n",
    "Построим профили пользователей. Определим минимальную и максимальную дату привлечения пользователей.\n",
    "\n",
    "Выясним:\n",
    "- Из каких стран приходят посетители? Какие страны дают больше всего платящих пользователей?\n",
    "- Какими устройствами они пользуются? С каких устройств чаще всего заходят платящие пользователи?\n",
    "- По каким рекламным каналам шло привлечение пользователей? Какие каналы приносят больше всего платящих пользователей?.\n",
    "\n",
    "#### Шаг 4. Маркетинг\n",
    "Выясним:\n",
    "\n",
    "- Сколько денег потратили? Всего / на каждый источник / по времени\n",
    "- Сколько в среднем стоило привлечение одного покупателя из каждого источника?\n",
    "\n",
    "#### Шаг 5. Оцените окупаемость рекламы для привлечения пользователей\n",
    "\n",
    "С помощью LTV и ROI:\n",
    "- Проанализируем общую окупаемость рекламы;\n",
    "- Проанализируем окупаемость рекламы с разбивкой по устройствам;\n",
    "- Проанализируем окупаемость рекламы с разбивкой по странам;\n",
    "- Проанализируем окупаемость рекламы с разбивкой по рекламным каналам.\n",
    "\n",
    "Опишем проблемы, которые мы обнаружили. Ответим на вопросы:\n",
    "- Окупается ли реклама, направленная на привлечение пользователей в целом? \n",
    "- Какие устройства, страны и рекламные каналы могут оказывать негативное влияние на окупаемость рекламы?\n",
    "- Чем могут быть вызваны проблемы окупаемости? Изучите конверсию и удержание с разбивкой по устройствам, странам, рекламным каналам.\n",
    "\n",
    "Опишем возможные причины обнаруженных проблем и сформируйте рекомендации для рекламного отдела. При решении этого шага будем считать, что мы смотрим данные 1-го ноября 2019 года и что в нашей организации принято считать, что окупаемость должна наступать не позднее, чем через 2 недели после привлечения пользователей.\n",
    "\n",
    "Подумаем, нужно ли включать в анализ органических пользователей?\n",
    "\n",
    "#### Шаг 6. Напишем выводы\n",
    "- Выделим причины неэффективности привлечения пользователей;\n",
    "- Сформируем рекомендации для отдела маркетинга для повышения эффективности.\n",
    "\n",
    "\n",
    "#### Описание данных\n",
    "Таблица visits_log_short (лог сервера с информацией о посещениях сайта):\n",
    "\n",
    "    User Id — уникальный идентификатор пользователя\n",
    "    Device — категория устройства пользователя\n",
    "    Session start — дата и время начала сессии\n",
    "    Session End — дата и время окончания сессии\n",
    "    Channel — идентификатор рекламного источника, из которого пришел пользователь\n",
    "    Region - страна пользователя\n",
    "\n",
    "Таблица orders_log_short (информация о заказах):\n",
    "\n",
    "    User Id — уникальный id пользователя, который сделал заказ\n",
    "    Event Dt — дата и время покупки\n",
    "    Revenue — выручка\n",
    "\n",
    "Таблица costs_short (информация о затратах на маркетинг):\n",
    "\n",
    "    Channel — идентификатор рекламного источника\n",
    "    Dt — дата\n",
    "    Costs — затраты на этот рекламный источник в этот день"
   ]
  },
  {
   "cell_type": "markdown",
   "metadata": {},
   "source": [
    "# Шаг 1. Загрузите данные и подготовьте их к анализу\n",
    "Загрузите данные о визитах, заказах и расходах в переменные. Оптимизируйте данные для анализа. Убедитесь, что тип данных в каждой колонке — правильный. Путь к файлам:\n",
    "\n",
    " -   /datasets/visits_info_short.csv. \n",
    " -   /datasets/orders_info_short.csv. \n",
    " -   /datasets/costs_info_short.csv."
   ]
  },
  {
   "cell_type": "markdown",
   "metadata": {},
   "source": [
    "## Загрузка и проверка данных"
   ]
  },
  {
   "cell_type": "markdown",
   "metadata": {},
   "source": [
    "**Для начала загрузим необходимые для работы библиотеки**"
   ]
  },
  {
   "cell_type": "code",
   "execution_count": null,
   "metadata": {},
   "outputs": [],
   "source": [
    "import pandas as pd\n",
    "import matplotlib.pyplot as plt\n",
    "import seaborn as sns\n",
    "import numpy as np\n",
    "from datetime import datetime, timedelta"
   ]
  },
  {
   "cell_type": "markdown",
   "metadata": {},
   "source": [
    "**Теперь загрузим сами датасеты**"
   ]
  },
  {
   "cell_type": "code",
   "execution_count": null,
   "metadata": {},
   "outputs": [],
   "source": [
    "visits = pd.read_csv('/datasets/visits_info_short.csv')\n",
    "orders = pd.read_csv('/datasets/orders_info_short.csv')\n",
    "costs = pd.read_csv('/datasets/costs_info_short.csv')"
   ]
  },
  {
   "cell_type": "markdown",
   "metadata": {},
   "source": [
    "### Просмотрим основную информацию по имеющимся датасетам"
   ]
  },
  {
   "cell_type": "markdown",
   "metadata": {},
   "source": [
    "**Датасет с визитами пользователей**"
   ]
  },
  {
   "cell_type": "code",
   "execution_count": null,
   "metadata": {},
   "outputs": [],
   "source": [
    "visits.info()"
   ]
  },
  {
   "cell_type": "code",
   "execution_count": null,
   "metadata": {},
   "outputs": [],
   "source": [
    "visits.head()"
   ]
  },
  {
   "cell_type": "markdown",
   "metadata": {},
   "source": [
    "Пропусков нет. А вот дату нужно привести к типу *datetime*"
   ]
  },
  {
   "cell_type": "markdown",
   "metadata": {},
   "source": [
    "**Датасет с покупками пользователей**"
   ]
  },
  {
   "cell_type": "code",
   "execution_count": null,
   "metadata": {},
   "outputs": [],
   "source": [
    "orders.info()"
   ]
  },
  {
   "cell_type": "code",
   "execution_count": null,
   "metadata": {},
   "outputs": [],
   "source": [
    "orders.head()"
   ]
  },
  {
   "cell_type": "markdown",
   "metadata": {},
   "source": [
    "Так же нету пропусков. Так же нужно привести в порядок дату"
   ]
  },
  {
   "cell_type": "markdown",
   "metadata": {},
   "source": [
    "**Датасет с рекламными расходами**"
   ]
  },
  {
   "cell_type": "code",
   "execution_count": null,
   "metadata": {},
   "outputs": [],
   "source": [
    "costs.info()"
   ]
  },
  {
   "cell_type": "code",
   "execution_count": null,
   "metadata": {},
   "outputs": [],
   "source": [
    "costs.head()"
   ]
  },
  {
   "cell_type": "markdown",
   "metadata": {},
   "source": [
    "Без пропусков, но с теме же проблемами в формате даты"
   ]
  },
  {
   "cell_type": "markdown",
   "metadata": {},
   "source": [
    "**Общий вывод**\n",
    "\n",
    "У всех 3 пациентов примерно те же диагнозы. Значит и курсы лечения назначим похожие, а именно:\n",
    "\n",
    "- Привести все колонки к змеиному регистру(нижние подчёркивания вместо пробелов)\n",
    "\n",
    "- А также переименовать столбцы в соотвествии с каноном(все наименования с маленькой буквы)\n",
    "\n",
    "- Привести даты в соответсвующий формат"
   ]
  },
  {
   "cell_type": "markdown",
   "metadata": {},
   "source": [
    "### Проведём предобработку: приведём столбцы к змеиному регистру, приведём даты в ооствествующий формат и проверим наличие дубликатов"
   ]
  },
  {
   "cell_type": "markdown",
   "metadata": {},
   "source": [
    "**Начнём в регистра**"
   ]
  },
  {
   "cell_type": "markdown",
   "metadata": {},
   "source": [
    "*Было*"
   ]
  },
  {
   "cell_type": "code",
   "execution_count": null,
   "metadata": {},
   "outputs": [],
   "source": [
    "visits.columns"
   ]
  },
  {
   "cell_type": "code",
   "execution_count": null,
   "metadata": {},
   "outputs": [],
   "source": [
    "orders.columns"
   ]
  },
  {
   "cell_type": "code",
   "execution_count": null,
   "metadata": {},
   "outputs": [],
   "source": [
    "costs.columns"
   ]
  },
  {
   "cell_type": "markdown",
   "metadata": {},
   "source": [
    "*Сделали*"
   ]
  },
  {
   "cell_type": "code",
   "execution_count": null,
   "metadata": {},
   "outputs": [],
   "source": [
    "visits = visits.rename(columns={'User Id': 'user_id', 'Region': 'region', \n",
    "                                          'Device': 'device', 'Channel': 'channel', \n",
    "                                          'Session Start': 'session_start', 'Session End': 'session_end'})\n",
    "\n",
    "\n",
    "orders = orders.rename(columns={'User Id': 'user_id', 'Event Dt': 'event_dt', \n",
    "                                         'Revenue': 'revenue'})\n",
    "\n",
    "\n",
    "costs = costs.rename(columns={'Channel': 'channel'})"
   ]
  },
  {
   "cell_type": "markdown",
   "metadata": {},
   "source": [
    "*Стало*"
   ]
  },
  {
   "cell_type": "code",
   "execution_count": null,
   "metadata": {},
   "outputs": [],
   "source": [
    "visits.columns"
   ]
  },
  {
   "cell_type": "code",
   "execution_count": null,
   "metadata": {},
   "outputs": [],
   "source": [
    "orders.columns"
   ]
  },
  {
   "cell_type": "code",
   "execution_count": null,
   "metadata": {},
   "outputs": [],
   "source": [
    "costs.columns"
   ]
  },
  {
   "cell_type": "markdown",
   "metadata": {},
   "source": [
    "**Теперь меняем форматы дат**"
   ]
  },
  {
   "cell_type": "code",
   "execution_count": null,
   "metadata": {},
   "outputs": [],
   "source": [
    "visits['session_start'] = pd.to_datetime(visits['session_start'])\n",
    "visits['session_end'] = pd.to_datetime(visits['session_end'])\n",
    "orders['event_dt'] = pd.to_datetime(orders['event_dt'])\n",
    "costs['dt'] = pd.to_datetime(costs['dt']).dt.date"
   ]
  },
  {
   "cell_type": "markdown",
   "metadata": {},
   "source": [
    "**Ищем дубликаты**"
   ]
  },
  {
   "cell_type": "code",
   "execution_count": null,
   "metadata": {},
   "outputs": [],
   "source": [
    "visits.duplicated().sum()"
   ]
  },
  {
   "cell_type": "code",
   "execution_count": null,
   "metadata": {},
   "outputs": [],
   "source": [
    "orders.duplicated().sum()"
   ]
  },
  {
   "cell_type": "code",
   "execution_count": null,
   "metadata": {},
   "outputs": [],
   "source": [
    "costs.duplicated().sum()"
   ]
  },
  {
   "cell_type": "markdown",
   "metadata": {},
   "source": [
    "**Итог**\n",
    "\n",
    "Имеем 3 датасета:\n",
    "1. С информацией о посещениях сайта\n",
    "2. С информацией о заказах\n",
    "3. С информацией о затратах на маркетинг\n",
    "\n",
    "Проделали ряд операций по предобработке, чтобы в дальнейшем при расчётах не возникло проблем:\n",
    "Везде привели наименования столбцов к змеиному регистру. Там где необходимо, привели даты к нужному формату. Проверили наличие дубликатов.\n",
    "\n",
    "Можно приступать к дальнейшей работе"
   ]
  },
  {
   "cell_type": "markdown",
   "metadata": {},
   "source": [
    "# Шаг 2. Задайте функции для расчета и анализа LTV, ROI, удержания и конверсии\n",
    "\n",
    "Разрешается использовать функции, с которыми вы познакомились в теоретических уроках."
   ]
  },
  {
   "cell_type": "markdown",
   "metadata": {},
   "source": [
    "## Задаём функции для создания профилей, расчёта удержания, конверсии, LTV и ROI, а так же функции для визуализации этих метрик"
   ]
  },
  {
   "cell_type": "markdown",
   "metadata": {},
   "source": [
    "### Функция для создания пользовательских профилей get_profiles"
   ]
  },
  {
   "cell_type": "code",
   "execution_count": null,
   "metadata": {},
   "outputs": [],
   "source": [
    "def get_profiles(sessions, orders, ad_costs):\n",
    "\n",
    "    # находим параметры первых посещений\n",
    "    profiles = (\n",
    "        sessions.sort_values(by=['user_id', 'session_start'])\n",
    "        .groupby('user_id')\n",
    "        .agg(\n",
    "            {\n",
    "                'session_start': 'first',\n",
    "                'channel': 'first',\n",
    "                'device': 'first',\n",
    "                'region': 'first',\n",
    "            }\n",
    "        )\n",
    "        .rename(columns={'session_start': 'first_ts'})\n",
    "        .reset_index()\n",
    "    )\n",
    "\n",
    "    # для когортного анализа определяем дату первого посещения\n",
    "    # и первый день месяца, в который это посещение произошло\n",
    "    profiles['dt'] = profiles['first_ts'].dt.date\n",
    "    profiles['month'] = profiles['first_ts'].astype('datetime64[M]')\n",
    "\n",
    "    # добавляем признак платящих пользователей\n",
    "    profiles['payer'] = profiles['user_id'].isin(orders['user_id'].unique())\n",
    "\n",
    "    \n",
    "    # считаем количество уникальных пользователей\n",
    "    # с одинаковыми источником и датой привлечения\n",
    "    new_users = (\n",
    "        profiles.groupby(['dt', 'channel'])\n",
    "        .agg({'user_id': 'nunique'})\n",
    "        .rename(columns={'user_id': 'unique_users'})\n",
    "        .reset_index()\n",
    "    )\n",
    "\n",
    "    # объединяем траты на рекламу и число привлечённых пользователей\n",
    "    ad_costs = ad_costs.merge(new_users, on=['dt', 'channel'], how='left')\n",
    "\n",
    "    # делим рекламные расходы на число привлечённых пользователей\n",
    "    ad_costs['acquisition_cost'] = ad_costs['costs'] / ad_costs['unique_users']\n",
    "\n",
    "    # добавляем стоимость привлечения в профили\n",
    "    profiles = profiles.merge(\n",
    "        ad_costs[['dt', 'channel', 'acquisition_cost']],\n",
    "        on=['dt', 'channel'],\n",
    "        how='left',\n",
    "    )\n",
    "\n",
    "    # стоимость привлечения органических пользователей равна нулю\n",
    "    profiles['acquisition_cost'] = profiles['acquisition_cost'].fillna(0)\n",
    "\n",
    "    return profiles"
   ]
  },
  {
   "cell_type": "markdown",
   "metadata": {},
   "source": [
    "### Функция для расчёта удержания get_retention"
   ]
  },
  {
   "cell_type": "code",
   "execution_count": null,
   "metadata": {},
   "outputs": [],
   "source": [
    "def get_retention(\n",
    "    profiles,\n",
    "    sessions,\n",
    "    observation_date,\n",
    "    horizon_days,\n",
    "    dimensions=[],\n",
    "    ignore_horizon=False,\n",
    "):\n",
    "\n",
    "    # добавляем столбец payer в передаваемый dimensions список\n",
    "    dimensions = ['payer'] + dimensions\n",
    "\n",
    "    # исключаем пользователей, не «доживших» до горизонта анализа\n",
    "    last_suitable_acquisition_date = observation_date\n",
    "    if not ignore_horizon:\n",
    "        last_suitable_acquisition_date = observation_date - timedelta(\n",
    "            days=horizon_days - 1\n",
    "        )\n",
    "    result_raw = profiles.query('dt <= @last_suitable_acquisition_date')\n",
    "\n",
    "    # собираем «сырые» данные для расчёта удержания\n",
    "    result_raw = result_raw.merge(\n",
    "        sessions[['user_id', 'session_start']], on='user_id', how='left'\n",
    "    )\n",
    "    result_raw['lifetime'] = (\n",
    "        result_raw['session_start'] - result_raw['first_ts']\n",
    "    ).dt.days\n",
    "\n",
    "    # функция для группировки таблицы по желаемым признакам\n",
    "    def group_by_dimensions(df, dims, horizon_days):\n",
    "        result = df.pivot_table(\n",
    "            index=dims, columns='lifetime', values='user_id', aggfunc='nunique'\n",
    "        )\n",
    "        cohort_sizes = (\n",
    "            df.groupby(dims)\n",
    "            .agg({'user_id': 'nunique'})\n",
    "            .rename(columns={'user_id': 'cohort_size'})\n",
    "        )\n",
    "        result = cohort_sizes.merge(result, on=dims, how='left').fillna(0)\n",
    "        result = result.div(result['cohort_size'], axis=0)\n",
    "        result = result[['cohort_size'] + list(range(horizon_days))]\n",
    "        result['cohort_size'] = cohort_sizes\n",
    "        return result\n",
    "\n",
    "    # получаем таблицу удержания\n",
    "    result_grouped = group_by_dimensions(result_raw, dimensions, horizon_days)\n",
    "\n",
    "    # получаем таблицу динамики удержания\n",
    "    result_in_time = group_by_dimensions(\n",
    "        result_raw, dimensions + ['dt'], horizon_days\n",
    "    )\n",
    "\n",
    "    # возвращаем обе таблицы и сырые данные\n",
    "    return result_raw, result_grouped, result_in_time"
   ]
  },
  {
   "cell_type": "markdown",
   "metadata": {},
   "source": [
    "### Функция для расчёта конверсии get_conversion"
   ]
  },
  {
   "cell_type": "code",
   "execution_count": null,
   "metadata": {},
   "outputs": [],
   "source": [
    "def get_conversion(\n",
    "    profiles,\n",
    "    purchases,\n",
    "    observation_date,\n",
    "    horizon_days,\n",
    "    dimensions=[],\n",
    "    ignore_horizon=False,\n",
    "):\n",
    "\n",
    "    # исключаем пользователей, не «доживших» до горизонта анализа\n",
    "    last_suitable_acquisition_date = observation_date\n",
    "    if not ignore_horizon:\n",
    "        last_suitable_acquisition_date = observation_date - timedelta(\n",
    "            days=horizon_days - 1\n",
    "        )\n",
    "    result_raw = profiles.query('dt <= @last_suitable_acquisition_date')\n",
    "\n",
    "    # определяем дату и время первой покупки для каждого пользователя\n",
    "    first_purchases = (\n",
    "        purchases.sort_values(by=['user_id', 'event_dt'])\n",
    "        .groupby('user_id')\n",
    "        .agg({'event_dt': 'first'})\n",
    "        .reset_index()\n",
    "    )\n",
    "\n",
    "    # добавляем данные о покупках в профили\n",
    "    result_raw = result_raw.merge(\n",
    "        first_purchases[['user_id', 'event_dt']], on='user_id', how='left'\n",
    "    )\n",
    "\n",
    "    # рассчитываем лайфтайм для каждой покупки\n",
    "    result_raw['lifetime'] = (\n",
    "        result_raw['event_dt'] - result_raw['first_ts']\n",
    "    ).dt.days\n",
    "\n",
    "    # группируем по cohort, если в dimensions ничего нет\n",
    "    if len(dimensions) == 0:\n",
    "        result_raw['cohort'] = 'All users' \n",
    "        dimensions = dimensions + ['cohort']\n",
    "\n",
    "    # функция для группировки таблицы по желаемым признакам\n",
    "    def group_by_dimensions(df, dims, horizon_days):\n",
    "        result = df.pivot_table(\n",
    "            index=dims, columns='lifetime', values='user_id', aggfunc='nunique'\n",
    "        )\n",
    "        result = result.fillna(0).cumsum(axis = 1)\n",
    "        cohort_sizes = (\n",
    "            df.groupby(dims)\n",
    "            .agg({'user_id': 'nunique'})\n",
    "            .rename(columns={'user_id': 'cohort_size'})\n",
    "        )\n",
    "        result = cohort_sizes.merge(result, on=dims, how='left').fillna(0)\n",
    "        # делим каждую «ячейку» в строке на размер когорты\n",
    "        # и получаем conversion rate\n",
    "        result = result.div(result['cohort_size'], axis=0)\n",
    "        result = result[['cohort_size'] + list(range(horizon_days))]\n",
    "        result['cohort_size'] = cohort_sizes\n",
    "        return result\n",
    "\n",
    "    # получаем таблицу конверсии\n",
    "    result_grouped = group_by_dimensions(result_raw, dimensions, horizon_days)\n",
    "\n",
    "    # для таблицы динамики конверсии убираем 'cohort' из dimensions\n",
    "    if 'cohort' in dimensions: \n",
    "        dimensions = []\n",
    "\n",
    "    # получаем таблицу динамики конверсии\n",
    "    result_in_time = group_by_dimensions(\n",
    "        result_raw, dimensions + ['dt'], horizon_days\n",
    "    )\n",
    "\n",
    "    # возвращаем обе таблицы и сырые данные\n",
    "    return result_raw, result_grouped, result_in_time"
   ]
  },
  {
   "cell_type": "markdown",
   "metadata": {},
   "source": [
    "### Функция для расчёта LTV и ROI get_ltv"
   ]
  },
  {
   "cell_type": "code",
   "execution_count": null,
   "metadata": {},
   "outputs": [],
   "source": [
    "def get_ltv(\n",
    "    profiles,\n",
    "    purchases,\n",
    "    observation_date,\n",
    "    horizon_days,\n",
    "    dimensions=[],\n",
    "    ignore_horizon=False,\n",
    "):\n",
    "\n",
    "    # исключаем пользователей, не «доживших» до горизонта анализа\n",
    "    last_suitable_acquisition_date = observation_date\n",
    "    if not ignore_horizon:\n",
    "        last_suitable_acquisition_date = observation_date - timedelta(\n",
    "            days=horizon_days - 1\n",
    "        )\n",
    "    result_raw = profiles.query('dt <= @last_suitable_acquisition_date')\n",
    "    # добавляем данные о покупках в профили\n",
    "    result_raw = result_raw.merge(\n",
    "        purchases[['user_id', 'event_dt', 'revenue']], on='user_id', how='left'\n",
    "    )\n",
    "    # рассчитываем лайфтайм пользователя для каждой покупки\n",
    "    result_raw['lifetime'] = (\n",
    "        result_raw['event_dt'] - result_raw['first_ts']\n",
    "    ).dt.days\n",
    "    # группируем по cohort, если в dimensions ничего нет\n",
    "    if len(dimensions) == 0:\n",
    "        result_raw['cohort'] = 'All users'\n",
    "        dimensions = dimensions + ['cohort']\n",
    "\n",
    "    # функция группировки по желаемым признакам\n",
    "    def group_by_dimensions(df, dims, horizon_days):\n",
    "        # строим «треугольную» таблицу выручки\n",
    "        result = df.pivot_table(\n",
    "            index=dims, columns='lifetime', values='revenue', aggfunc='sum'\n",
    "        )\n",
    "        # находим сумму выручки с накоплением\n",
    "        result = result.fillna(0).cumsum(axis=1)\n",
    "        # вычисляем размеры когорт\n",
    "        cohort_sizes = (\n",
    "            df.groupby(dims)\n",
    "            .agg({'user_id': 'nunique'})\n",
    "            .rename(columns={'user_id': 'cohort_size'})\n",
    "        )\n",
    "        # объединяем размеры когорт и таблицу выручки\n",
    "        result = cohort_sizes.merge(result, on=dims, how='left').fillna(0)\n",
    "        # считаем LTV: делим каждую «ячейку» в строке на размер когорты\n",
    "        result = result.div(result['cohort_size'], axis=0)\n",
    "        # исключаем все лайфтаймы, превышающие горизонт анализа\n",
    "        result = result[['cohort_size'] + list(range(horizon_days))]\n",
    "        # восстанавливаем размеры когорт\n",
    "        result['cohort_size'] = cohort_sizes\n",
    "\n",
    "        # собираем датафрейм с данными пользователей и значениями CAC, \n",
    "        # добавляя параметры из dimensions\n",
    "        cac = df[['user_id', 'acquisition_cost'] + dims].drop_duplicates()\n",
    "\n",
    "        # считаем средний CAC по параметрам из dimensions\n",
    "        cac = (\n",
    "            cac.groupby(dims)\n",
    "            .agg({'acquisition_cost': 'mean'})\n",
    "            .rename(columns={'acquisition_cost': 'cac'})\n",
    "        )\n",
    "\n",
    "        # считаем ROI: делим LTV на CAC\n",
    "        roi = result.div(cac['cac'], axis=0)\n",
    "\n",
    "        # удаляем строки с бесконечным ROI\n",
    "        roi = roi[~roi['cohort_size'].isin([np.inf])]\n",
    "\n",
    "        # восстанавливаем размеры когорт в таблице ROI\n",
    "        roi['cohort_size'] = cohort_sizes\n",
    "\n",
    "        # добавляем CAC в таблицу ROI\n",
    "        roi['cac'] = cac['cac']\n",
    "\n",
    "        # в финальной таблице оставляем размеры когорт, CAC\n",
    "        # и ROI в лайфтаймы, не превышающие горизонт анализа\n",
    "        roi = roi[['cohort_size', 'cac'] + list(range(horizon_days))]\n",
    "\n",
    "        # возвращаем таблицы LTV и ROI\n",
    "        return result, roi\n",
    "\n",
    "    # получаем таблицы LTV и ROI\n",
    "    result_grouped, roi_grouped = group_by_dimensions(\n",
    "        result_raw, dimensions, horizon_days\n",
    "    )\n",
    "\n",
    "    # для таблиц динамики убираем 'cohort' из dimensions\n",
    "    if 'cohort' in dimensions:\n",
    "        dimensions = []\n",
    "\n",
    "    # получаем таблицы динамики LTV и ROI\n",
    "    result_in_time, roi_in_time = group_by_dimensions(\n",
    "        result_raw, dimensions + ['dt'], horizon_days\n",
    "    )\n",
    "\n",
    "    return (\n",
    "        result_raw,  # сырые данные\n",
    "        result_grouped,  # таблица LTV\n",
    "        result_in_time,  # таблица динамики LTV\n",
    "        roi_grouped,  # таблица ROI\n",
    "        roi_in_time,  # таблица динамики ROI\n",
    "    )"
   ]
  },
  {
   "cell_type": "markdown",
   "metadata": {},
   "source": [
    "### Функция для сглаживания фрейма filter_data"
   ]
  },
  {
   "cell_type": "code",
   "execution_count": null,
   "metadata": {},
   "outputs": [],
   "source": [
    "def filter_data(df, window):\n",
    "    # для каждого столбца применяем скользящее среднее\n",
    "    for column in df.columns.values:\n",
    "        df[column] = df[column].rolling(window).mean() \n",
    "    return df"
   ]
  },
  {
   "cell_type": "markdown",
   "metadata": {},
   "source": [
    "### Функция для визуализации удержания plot_retention"
   ]
  },
  {
   "cell_type": "code",
   "execution_count": null,
   "metadata": {},
   "outputs": [],
   "source": [
    "def plot_retention(retention, retention_history, horizon, window=7):\n",
    "\n",
    "    # задаём размер сетки для графиков\n",
    "    plt.figure(figsize=(15, 10))\n",
    "\n",
    "    # исключаем размеры когорт и удержание первого дня\n",
    "    retention = retention.drop(columns=['cohort_size', 0])\n",
    "    # в таблице динамики оставляем только нужный лайфтайм\n",
    "    retention_history = retention_history.drop(columns=['cohort_size'])[\n",
    "        [horizon - 1]\n",
    "    ]\n",
    "\n",
    "    # если в индексах таблицы удержания только payer,\n",
    "    # добавляем второй признак — cohort\n",
    "    if retention.index.nlevels == 1:\n",
    "        retention['cohort'] = 'All users'\n",
    "        retention = retention.reset_index().set_index(['cohort', 'payer'])\n",
    "\n",
    "    # в таблице графиков — два столбца и две строки, четыре ячейки\n",
    "    # в первой строим кривые удержания платящих пользователей\n",
    "    ax1 = plt.subplot(2, 2, 1)\n",
    "    retention.query('payer == True').droplevel('payer').T.plot(\n",
    "        grid=True, ax=ax1\n",
    "    )\n",
    "    plt.legend()\n",
    "    plt.xlabel('Лайфтайм')\n",
    "    plt.title('Удержание платящих пользователей')\n",
    "\n",
    "    # во второй ячейке строим кривые удержания неплатящих\n",
    "    # вертикальная ось — от графика из первой ячейки\n",
    "    ax2 = plt.subplot(2, 2, 2, sharey=ax1)\n",
    "    retention.query('payer == False').droplevel('payer').T.plot(\n",
    "        grid=True, ax=ax2\n",
    "    )\n",
    "    plt.legend()\n",
    "    plt.xlabel('Лайфтайм')\n",
    "    plt.title('Удержание неплатящих пользователей')\n",
    "\n",
    "    # в третьей ячейке — динамика удержания платящих\n",
    "    ax3 = plt.subplot(2, 2, 3)\n",
    "    # получаем названия столбцов для сводной таблицы\n",
    "    columns = [\n",
    "        name\n",
    "        for name in retention_history.index.names\n",
    "        if name not in ['dt', 'payer']\n",
    "    ]\n",
    "    # фильтруем данные и строим график\n",
    "    filtered_data = retention_history.query('payer == True').pivot_table(\n",
    "        index='dt', columns=columns, values=horizon - 1, aggfunc='mean'\n",
    "    )\n",
    "    filter_data(filtered_data, window).plot(grid=True, ax=ax3)\n",
    "    plt.xlabel('Дата привлечения')\n",
    "    plt.title(\n",
    "        'Динамика удержания платящих пользователей на {}-й день'.format(\n",
    "            horizon\n",
    "        )\n",
    "    )\n",
    "\n",
    "    # в чётвертой ячейке — динамика удержания неплатящих\n",
    "    ax4 = plt.subplot(2, 2, 4, sharey=ax3)\n",
    "    # фильтруем данные и строим график\n",
    "    filtered_data = retention_history.query('payer == False').pivot_table(\n",
    "        index='dt', columns=columns, values=horizon - 1, aggfunc='mean'\n",
    "    )\n",
    "    filter_data(filtered_data, window).plot(grid=True, ax=ax4)\n",
    "    plt.xlabel('Дата привлечения')\n",
    "    plt.title(\n",
    "        'Динамика удержания неплатящих пользователей на {}-й день'.format(\n",
    "            horizon\n",
    "        )\n",
    "    )\n",
    "    \n",
    "    plt.tight_layout()\n",
    "    plt.show()"
   ]
  },
  {
   "cell_type": "markdown",
   "metadata": {},
   "source": [
    "### Функция для визуализации конверсии plot_conversion"
   ]
  },
  {
   "cell_type": "code",
   "execution_count": null,
   "metadata": {},
   "outputs": [],
   "source": [
    "def plot_conversion(conversion, conversion_history, horizon, window=7):\n",
    "\n",
    "    # задаём размер сетки для графиков\n",
    "    plt.figure(figsize=(15, 5))\n",
    "\n",
    "    # исключаем размеры когорт\n",
    "    conversion = conversion.drop(columns=['cohort_size'])\n",
    "    # в таблице динамики оставляем только нужный лайфтайм\n",
    "    conversion_history = conversion_history.drop(columns=['cohort_size'])[\n",
    "        [horizon - 1]\n",
    "    ]\n",
    "\n",
    "    # первый график — кривые конверсии\n",
    "    ax1 = plt.subplot(1, 2, 1)\n",
    "    conversion.T.plot(grid=True, ax=ax1)\n",
    "    plt.legend()\n",
    "    plt.xlabel('Лайфтайм')\n",
    "    plt.title('Конверсия пользователей')\n",
    "\n",
    "    # второй график — динамика конверсии\n",
    "    ax2 = plt.subplot(1, 2, 2, sharey=ax1)\n",
    "    columns = [\n",
    "        # столбцами сводной таблицы станут все столбцы индекса, кроме даты\n",
    "        name for name in conversion_history.index.names if name not in ['dt']\n",
    "    ]\n",
    "    filtered_data = conversion_history.pivot_table(\n",
    "        index='dt', columns=columns, values=horizon - 1, aggfunc='mean'\n",
    "    )\n",
    "    filter_data(filtered_data, window).plot(grid=True, ax=ax2)\n",
    "    plt.xlabel('Дата привлечения')\n",
    "    plt.title('Динамика конверсии пользователей на {}-й день'.format(horizon))\n",
    "\n",
    "    plt.tight_layout()\n",
    "    plt.show()"
   ]
  },
  {
   "cell_type": "markdown",
   "metadata": {},
   "source": [
    "### Функция для визуализации LTV и ROI plot_ltv_roi"
   ]
  },
  {
   "cell_type": "code",
   "execution_count": null,
   "metadata": {},
   "outputs": [],
   "source": [
    "def plot_ltv_roi(ltv, ltv_history, roi, roi_history, horizon, window=7):\n",
    "\n",
    "    # задаём сетку отрисовки графиков\n",
    "    plt.figure(figsize=(20, 10))\n",
    "\n",
    "    # из таблицы ltv исключаем размеры когорт\n",
    "    ltv = ltv.drop(columns=['cohort_size'])\n",
    "    # в таблице динамики ltv оставляем только нужный лайфтайм\n",
    "    ltv_history = ltv_history.drop(columns=['cohort_size'])[[horizon - 1]]\n",
    "\n",
    "    # стоимость привлечения запишем в отдельный фрейм\n",
    "    cac_history = roi_history[['cac']]\n",
    "\n",
    "    # из таблицы roi исключаем размеры когорт и cac\n",
    "    roi = roi.drop(columns=['cohort_size', 'cac'])\n",
    "    # в таблице динамики roi оставляем только нужный лайфтайм\n",
    "    roi_history = roi_history.drop(columns=['cohort_size', 'cac'])[\n",
    "        [horizon - 1]\n",
    "    ]\n",
    "\n",
    "    # первый график — кривые ltv\n",
    "    ax1 = plt.subplot(2, 3, 1)\n",
    "    ltv.T.plot(grid=True, ax=ax1)\n",
    "    plt.legend()\n",
    "    plt.xlabel('Лайфтайм')\n",
    "    plt.title('LTV')\n",
    "\n",
    "    # второй график — динамика ltv\n",
    "    ax2 = plt.subplot(2, 3, 2, sharey=ax1)\n",
    "    # столбцами сводной таблицы станут все столбцы индекса, кроме даты\n",
    "    columns = [name for name in ltv_history.index.names if name not in ['dt']]\n",
    "    filtered_data = ltv_history.pivot_table(\n",
    "        index='dt', columns=columns, values=horizon - 1, aggfunc='mean'\n",
    "    )\n",
    "    filter_data(filtered_data, window).plot(grid=True, ax=ax2)\n",
    "    plt.xlabel('Дата привлечения')\n",
    "    plt.title('Динамика LTV пользователей на {}-й день'.format(horizon))\n",
    "\n",
    "    # третий график — динамика cac\n",
    "    ax3 = plt.subplot(2, 3, 3, sharey=ax1)\n",
    "    # столбцами сводной таблицы станут все столбцы индекса, кроме даты\n",
    "    columns = [name for name in cac_history.index.names if name not in ['dt']]\n",
    "    filtered_data = cac_history.pivot_table(\n",
    "        index='dt', columns=columns, values='cac', aggfunc='mean'\n",
    "    )\n",
    "    filter_data(filtered_data, window).plot(grid=True, ax=ax3)\n",
    "    plt.xlabel('Дата привлечения')\n",
    "    plt.title('Динамика стоимости привлечения пользователей')\n",
    "\n",
    "    # четвёртый график — кривые roi\n",
    "    ax4 = plt.subplot(2, 3, 4)\n",
    "    roi.T.plot(grid=True, ax=ax4)\n",
    "    plt.axhline(y=1, color='red', linestyle='--', label='Уровень окупаемости')\n",
    "    plt.legend()\n",
    "    plt.xlabel('Лайфтайм')\n",
    "    plt.title('ROI')\n",
    "\n",
    "    # пятый график — динамика roi\n",
    "    ax5 = plt.subplot(2, 3, 5, sharey=ax4)\n",
    "    # столбцами сводной таблицы станут все столбцы индекса, кроме даты\n",
    "    columns = [name for name in roi_history.index.names if name not in ['dt']]\n",
    "    filtered_data = roi_history.pivot_table(\n",
    "        index='dt', columns=columns, values=horizon - 1, aggfunc='mean'\n",
    "    )\n",
    "    filter_data(filtered_data, window).plot(grid=True, ax=ax5)\n",
    "    plt.axhline(y=1, color='red', linestyle='--', label='Уровень окупаемости')\n",
    "    plt.xlabel('Дата привлечения')\n",
    "    plt.title('Динамика ROI пользователей на {}-й день'.format(horizon))\n",
    "\n",
    "    plt.tight_layout()\n",
    "    plt.show()"
   ]
  },
  {
   "cell_type": "markdown",
   "metadata": {},
   "source": [
    "# Шаг 3. Проведите исследовательский анализ данных\n",
    "\n",
    "Постройте профили пользователей. Определите минимальную и максимальную дату привлечения пользователей.\n",
    "\n",
    "Выясните:\n",
    "- Из каких стран приходят посетители? Какие страны дают больше всего платящих пользователей?\n",
    "- Какими устройствами они пользуются? С каких устройств чаще всего заходят платящие пользователи?\n",
    "- По каким рекламным каналам шло привлечение пользователей? Какие каналы приносят больше всего платящих пользователей?"
   ]
  },
  {
   "cell_type": "markdown",
   "metadata": {},
   "source": [
    "## Проводим исследовательский анализ данных"
   ]
  },
  {
   "cell_type": "markdown",
   "metadata": {},
   "source": [
    "**Создаём пользовательские профили**"
   ]
  },
  {
   "cell_type": "code",
   "execution_count": null,
   "metadata": {},
   "outputs": [],
   "source": [
    "profiles = get_profiles(visits, orders, costs)\n",
    "display(profiles.head(5))"
   ]
  },
  {
   "cell_type": "markdown",
   "metadata": {},
   "source": [
    "**Определяем минимальную и максимальную даты привлечения пользователей**"
   ]
  },
  {
   "cell_type": "code",
   "execution_count": null,
   "metadata": {},
   "outputs": [],
   "source": [
    "min_analysis_date = profiles['dt'].min()\n",
    "min_analysis_date"
   ]
  },
  {
   "cell_type": "code",
   "execution_count": null,
   "metadata": {},
   "outputs": [],
   "source": [
    "observation_date = profiles['dt'].max()\n",
    "observation_date"
   ]
  },
  {
   "cell_type": "markdown",
   "metadata": {},
   "source": [
    "### Определяем из каких стран приходят посетители? Какие страны дают больше всего платящих пользователей?"
   ]
  },
  {
   "cell_type": "code",
   "execution_count": null,
   "metadata": {},
   "outputs": [],
   "source": [
    "profiles.groupby('region').agg({'user_id': 'nunique', 'payer': ['sum','mean']}).sort_values(by='region', ascending=False).rename(columns={'nunique': 'all_user', 'sum': 'paying_user', 'mean': '% paying'})"
   ]
  },
  {
   "cell_type": "markdown",
   "metadata": {},
   "source": [
    "**Вывод:**\n",
    "\n",
    "Посетители приходят из 4 стран: США, Великобритания, Франция и Германия\n",
    "\n",
    "Наибольшая часть платящих пользователей приходит из США. Их доля платящих пользователей составляет около 6,9 %.\n",
    "\n",
    "Остальные страны приносят около 4% платящих пользователей. \n",
    "\n",
    "Наименьшее количество пользователей приходят из Германии."
   ]
  },
  {
   "cell_type": "markdown",
   "metadata": {},
   "source": [
    "### Какими устройствами они пользуются? С каких устройств чаще всего заходят платящие пользователи?"
   ]
  },
  {
   "cell_type": "code",
   "execution_count": null,
   "metadata": {},
   "outputs": [],
   "source": [
    "profiles.groupby('device').agg({'user_id': 'nunique', 'payer': ['sum', 'mean']}).sort_values(by='device', ascending=False).rename(columns={'nunique': 'all_user', 'sum': 'paying_user', 'mean': '% paying'})"
   ]
  },
  {
   "cell_type": "markdown",
   "metadata": {},
   "source": [
    "**Вывод:**\n",
    "\n",
    "Пользователи с техникой Apple самые платящие.\n",
    "\n",
    "Большая часть пользователей используют iPhone (доля платящих примерно 6,2%);\n",
    "\n",
    "Меньше пользователей у собрата по цеху - Mac, но при этом доля платящих там немного больше (примерно 6,3%)\n",
    "\n",
    "Меньше всего доля платящих пользователей с PC"
   ]
  },
  {
   "cell_type": "markdown",
   "metadata": {},
   "source": [
    "### По каким рекламным каналам шло привлечение пользователей? Какие каналы приносят больше всего платящих пользователей?"
   ]
  },
  {
   "cell_type": "code",
   "execution_count": null,
   "metadata": {},
   "outputs": [],
   "source": [
    "profiles.groupby('channel').agg({'user_id': 'nunique', 'payer': ['sum', 'mean']}).sort_values(by='channel', ascending=False).rename(columns={'nunique': 'all_user', 'sum': 'paying_user', 'mean': '% paying'})"
   ]
  },
  {
   "cell_type": "markdown",
   "metadata": {},
   "source": [
    "**Вывод:**\n",
    "\n",
    "\n",
    "По количеству привлеченных платящих пользователей топ-3 занимают следующие каналы:\n",
    "\n",
    "1. FaceBoom\n",
    "2. TipTop\n",
    "3. organic"
   ]
  },
  {
   "cell_type": "markdown",
   "metadata": {},
   "source": [
    "# Шаг 4. Маркетинг\n",
    "\n",
    "Выясните:\n",
    "- Сколько денег потратили? Всего / на каждый источник / по времени\n",
    "- Сколько в среднем стоило привлечение одного покупателя из каждого источника?"
   ]
  },
  {
   "cell_type": "markdown",
   "metadata": {},
   "source": [
    "## Посмотрим как много мы потратили на маркетинг"
   ]
  },
  {
   "cell_type": "markdown",
   "metadata": {},
   "source": [
    "### Для начала посчитаем общую сумму расходов на маркетинг и выясним как траты распределены по источникам и времени"
   ]
  },
  {
   "cell_type": "code",
   "execution_count": null,
   "metadata": {},
   "outputs": [],
   "source": [
    "print('Общая сумма расходов на маркетинг:', round(costs['costs'].sum(), 2))"
   ]
  },
  {
   "cell_type": "code",
   "execution_count": null,
   "metadata": {},
   "outputs": [],
   "source": [
    "costs.groupby('channel')['costs'].sum().reset_index().sort_values(by='costs', ascending=False)"
   ]
  },
  {
   "cell_type": "markdown",
   "metadata": {},
   "source": [
    "Построим график изменения трат на маркетинг по времени и каналам"
   ]
  },
  {
   "cell_type": "code",
   "execution_count": null,
   "metadata": {},
   "outputs": [],
   "source": [
    "filtered_data = costs.pivot_table(\n",
    "        index='dt', columns='channel', values='costs', aggfunc='sum'\n",
    "    )\n",
    "filtered_data.plot(                                             \n",
    "           figsize=(12, 10),\n",
    "           grid=True,\n",
    "           rot=45,        \n",
    "           label='Каналы',                     \n",
    "           legend=True,\n",
    ") \n",
    "\n",
    "plt.title('График изменения затрат на маркетинг в разбивке по каналам')\n",
    "plt.xlabel('Дата')\n",
    "plt.ylabel('Затраты')\n",
    "plt.show()"
   ]
  },
  {
   "cell_type": "markdown",
   "metadata": {},
   "source": [
    "**Вывод:**\n",
    "\n",
    "Видим, что самые высокие траты на маркетинг приходятся на период с сентября по ноябрь (пик в октябре).\n",
    "\n",
    "При чём больше всего потрачено на 2 источника: \n",
    "TipTop (в пике больше 600 единиц валюты) и FaceBoom (в пике около 300 единиц валюты). \n",
    "\n",
    "По сравнению с двумя лидерами, остальные каналы привлечения обходятся довольно дешево и траты на привлечение через них не сильно меняются во времени. "
   ]
  },
  {
   "cell_type": "markdown",
   "metadata": {},
   "source": [
    "### Теперь посмотрим сколько в среднем стоило привлечение одного покупателя из каждого источника"
   ]
  },
  {
   "cell_type": "code",
   "execution_count": null,
   "metadata": {},
   "outputs": [],
   "source": [
    "print('Средняя стоимость привлечения одного пользователя:', round(profiles['acquisition_cost'].mean(), 3))"
   ]
  },
  {
   "cell_type": "code",
   "execution_count": null,
   "metadata": {},
   "outputs": [],
   "source": [
    "cac_for_channel = (profiles.groupby('channel')\n",
    "                   .agg({'user_id': 'nunique', 'acquisition_cost': 'sum'})\n",
    "                   .sort_values(by='acquisition_cost', ascending=False))\n",
    "cac_for_channel['cac'] = cac_for_channel['acquisition_cost'] / cac_for_channel['user_id']\n",
    "cac_for_channel"
   ]
  },
  {
   "cell_type": "markdown",
   "metadata": {},
   "source": [
    "**Вывод:**\n",
    "\n",
    "Самый дорогой наш клиент пришёл из источника TipTop - в среднем около 2,8 единиц валюты на человека.\n",
    "\n",
    "Дальше по дороговизне идут клиенты из источников FaceBoom и AdNonSense - их привлечение обошлось нам в сумму около 1 валютной единицы.\n",
    "\n",
    "Во всех остальных источниках стоимость привлечения не превышает 1 валютной единицы."
   ]
  },
  {
   "cell_type": "markdown",
   "metadata": {},
   "source": [
    "# Шаг 5. Оцените окупаемость рекламы для привлечения пользователей\n",
    "\n",
    "С помощью LTV и ROI:\n",
    "- Проанализируйте общую окупаемость рекламы;\n",
    "- Проанализируйте окупаемость рекламы с разбивкой по устройствам;\n",
    "- Проанализируйте окупаемость рекламы с разбивкой по странам;\n",
    "- Проанализируйте окупаемость рекламы с разбивкой по рекламным каналам.\n",
    "\n",
    "Опишите проблемы, которые вы обнаружили. Ответьте на вопросы:\n",
    "- Окупается ли реклама, направленная на привлечение пользователей в целом? \n",
    "- Какие устройства, страны и рекламные каналы могут оказывать негативное влияние на окупаемость рекламы?\n",
    "- Чем могут быть вызваны проблемы окупаемости? Изучите конверсию и удержание с разбивкой по устройствам, странам, рекламным каналам.\n",
    "\n",
    "Опишите возможные причины обнаруженных проблем и сформируйте рекомендации для рекламного отдела. При решении этого шага считайте, что вы смотрите данные 1-го ноября 2019 года и что в вашей организации принято считать, что окупаемость должна наступать не позднее, чем через 2 недели после привлечения пользователей."
   ]
  },
  {
   "cell_type": "markdown",
   "metadata": {},
   "source": [
    "## Посмотрим как много из того что мы потратили окупилось и ответим на сопутствующие вопросы"
   ]
  },
  {
   "cell_type": "markdown",
   "metadata": {},
   "source": [
    "Заданим момент и горизонт анализа"
   ]
  },
  {
   "cell_type": "code",
   "execution_count": null,
   "metadata": {},
   "outputs": [],
   "source": [
    "observation_date = datetime(2019, 11, 1).date()"
   ]
  },
  {
   "cell_type": "code",
   "execution_count": null,
   "metadata": {},
   "outputs": [],
   "source": [
    "horizon_days = 14  "
   ]
  },
  {
   "cell_type": "markdown",
   "metadata": {},
   "source": [
    "### Проанализируйте общую окупаемость рекламы"
   ]
  },
  {
   "cell_type": "markdown",
   "metadata": {},
   "source": [
    "Удаляем пользователей, которые пришли в приложение из канала привлечения: organic. Компания не платила за их привлечение, значит и в анализе рекламы они излишне"
   ]
  },
  {
   "cell_type": "code",
   "execution_count": null,
   "metadata": {},
   "outputs": [],
   "source": [
    "profiles = profiles.query('channel != \"organic\"')"
   ]
  },
  {
   "cell_type": "markdown",
   "metadata": {},
   "source": [
    "#### считаем LTV и ROI"
   ]
  },
  {
   "cell_type": "code",
   "execution_count": null,
   "metadata": {},
   "outputs": [],
   "source": [
    "ltv_raw, ltv_grouped, ltv_history, roi_grouped, roi_history = get_ltv(\n",
    "    profiles, orders, observation_date, horizon_days\n",
    ")"
   ]
  },
  {
   "cell_type": "markdown",
   "metadata": {},
   "source": [
    "#### строим графики"
   ]
  },
  {
   "cell_type": "code",
   "execution_count": null,
   "metadata": {},
   "outputs": [],
   "source": [
    "plot_ltv_roi(ltv_grouped, ltv_history, roi_grouped, roi_history, horizon_days) "
   ]
  },
  {
   "cell_type": "markdown",
   "metadata": {},
   "source": [
    "**Выводы:**\n",
    "\n",
    "1. LTV достаточно стабилен и в целом плавно растёт. Это хорошо. Значит качество пользователей не ухудшается;\n",
    "2. CAC (стоимость привлечения пользователя) не очень стабилен и растёт во времени. Это не хорошо;\n",
    "3. ROI пользователей падает. До июля показатель выходил выше уровня окупаемости, однако уже после середины лета стал падать;\n",
    "4. Более того, реклама не окупается к концу 2й недели. ROI на отметке в районе 80%."
   ]
  },
  {
   "cell_type": "markdown",
   "metadata": {},
   "source": [
    "### Проанализируйте окупаемость рекламы с разбивкой по устройствам"
   ]
  },
  {
   "cell_type": "code",
   "execution_count": null,
   "metadata": {},
   "outputs": [],
   "source": [
    "ltv_raw, ltv_grouped, ltv_history, roi_grouped, roi_history = get_ltv(\n",
    "    profiles, orders, observation_date, horizon_days, dimensions = ['device']\n",
    ")\n",
    "\n",
    "plot_ltv_roi(ltv_grouped, ltv_history, roi_grouped, roi_history, horizon_days, window = 14) "
   ]
  },
  {
   "cell_type": "markdown",
   "metadata": {},
   "source": [
    "**Выводы**\n",
    "\n",
    "1. Стоимость привлечения пользователей использующих iPhone и Mac самая высокая. При этом стоимость привлечения пользователей на всех устройствах растет во времени;\n",
    "\n",
    "2. Пользователи на устройствах iPhone, Mac и Android не окупаются:\n",
    "\n",
    "- У Android на 14 день ROI находится в районе 90%;\n",
    "\n",
    "- У iPhone и Mac на 14 день ROI достигает примерно 70-75%;\n",
    "\n",
    "3. А вот пользователи устройств PC окупаются после 11 дней лайфтайма."
   ]
  },
  {
   "cell_type": "markdown",
   "metadata": {},
   "source": [
    "### Проанализируйте окупаемость рекламы с разбивкой по странам"
   ]
  },
  {
   "cell_type": "code",
   "execution_count": null,
   "metadata": {},
   "outputs": [],
   "source": [
    "ltv_raw, ltv_grouped, ltv_history, roi_grouped, roi_history = get_ltv(\n",
    "    profiles, orders, observation_date, horizon_days, dimensions = ['region']\n",
    ")\n",
    "\n",
    "plot_ltv_roi(ltv_grouped, ltv_history, roi_grouped, roi_history, horizon_days, window = 14) "
   ]
  },
  {
   "cell_type": "markdown",
   "metadata": {},
   "source": [
    "**Выводы:**\n",
    "\n",
    "1. Стоимость привлечения клиента из США растет, а у других стран падает;\n",
    "2. При этом клиенты привлечённые из США не окупаются. И это не смотря на то, что из США наибольший поток клиентов и там же наибольший процент платящих пользователей;\n",
    "3. А вот клиенты из других стран окупаются уже на 4-5 день лайфтайма."
   ]
  },
  {
   "cell_type": "markdown",
   "metadata": {},
   "source": [
    "### Проанализируйте окупаемость рекламы с разбивкой по рекламным каналам"
   ]
  },
  {
   "cell_type": "code",
   "execution_count": null,
   "metadata": {},
   "outputs": [],
   "source": [
    "ltv_raw, ltv_grouped, ltv_history, roi_grouped, roi_history = get_ltv(\n",
    "    profiles, orders, observation_date, horizon_days, dimensions = ['channel']\n",
    ")\n",
    "\n",
    "plot_ltv_roi(ltv_grouped, ltv_history, roi_grouped, roi_history, horizon_days, window = 14) "
   ]
  },
  {
   "cell_type": "markdown",
   "metadata": {},
   "source": [
    "**Выводы:**\n",
    "\n",
    "1. LTV у рекламного канала TipTop стабильно высокое, но вот стоимость привлечения только и делает что растёт, а с окупаемостью большие проблемы(её нет).\n",
    "2. AdNonSense и FaceBoom так же не окупаются при высокой дороговизне привлечения клиента\n",
    "3. Хорошо показала себя рекламная сеть YRabbit, ROI пользователей на 14 день которой в июле был на высоте"
   ]
  },
  {
   "cell_type": "markdown",
   "metadata": {},
   "source": [
    "### Постройте и изучите графики конверсии и удержания с разбивкой по устройствам, странам, рекламным каналам"
   ]
  },
  {
   "cell_type": "markdown",
   "metadata": {},
   "source": [
    "Для начала создадим список с названиями столбцов датасета, разбивку по которым мы будем делать при построении графиков"
   ]
  },
  {
   "cell_type": "code",
   "execution_count": null,
   "metadata": {},
   "outputs": [],
   "source": [
    "data_1 = [['device'], ['region'], ['channel']]"
   ]
  },
  {
   "cell_type": "markdown",
   "metadata": {},
   "source": [
    "А теперь напишем цикл, который берёт названия столбцов датасета из списка data_1 и передает их в качестве аргумента функциям get_conversion и get_retention"
   ]
  },
  {
   "cell_type": "code",
   "execution_count": null,
   "metadata": {
    "scrolled": false
   },
   "outputs": [],
   "source": [
    "for d1 in data_1:\n",
    "  print(f'Графики конверсии с разбивкой по {d1}')\n",
    "  print()\n",
    "  conversion_raw, conversion_grouped, conversion_history = get_conversion(\n",
    "      profiles, orders, observation_date, horizon_days, dimensions = d1\n",
    "  )\n",
    "  plot_conversion(conversion_grouped, conversion_history, horizon_days)\n",
    "  print()\n",
    "\n",
    "  print(f'Графики удержания с разбивкой по {d1}')\n",
    "  print()\n",
    "  retention_raw, retention_grouped, retention_history = get_retention(\n",
    "      profiles, visits, observation_date, horizon_days, dimensions = d1\n",
    "  )\n",
    "  plot_retention(retention_grouped, retention_history, horizon_days)\n",
    "  print()"
   ]
  },
  {
   "cell_type": "markdown",
   "metadata": {},
   "source": [
    "**Вывод:**\n",
    "\n",
    "1. Конверсия пользователей использующих продукцию компании Apple (устройства iPhone и MAC) выше, чем у пользователей Android и PC. Неплатящие пользователи плохо удерживаются. А из платящих лучше всего удерживаются пользователи PC.\n",
    "\n",
    "2. Слабая конверсия демонстрируют пользователи из Англии, Франции и Германии. При этом, их доля относительно всех пользователей не очень большая. Хуже всего удерживаются пользователи из США.\n",
    "\n",
    "3. Пользователи привлёчённых AdNonSense и FaceBoom показывают не плохую конверсию, но испытывают проблемы с удержанием."
   ]
  },
  {
   "cell_type": "markdown",
   "metadata": {},
   "source": [
    "***Общий вывод:***\n",
    "\n",
    "Видим, что в целом окупаемость рекламы со временем падает, а стоимость привлечения пользователей растет. В нашем случае, по итогам 2 недель реклама так и не окупилась.\n",
    "\n",
    "Учитывая общее число клиентов привлёчённых из США, довольно печально видеть, что именно США оказались единственной страной, которая продемонстрировала убытки по ROI. Возрастающие расходы на привлечение клиентов не оправдались.\n",
    "\n",
    "Если смотреть по устройствам, отчётливо видно снижение динамики окупаемости к 14 дню у всех девайсов. И это при росте стоимости привлечения пользователей. Mac и iPhone, а также Android показали результаты ниже уровня окупаемости, при этом у них же выявлены наибольшие расходы на привлечение.\n",
    "\n",
    "Мы потратили огромные деньги на канал привлечения TipTop, который продемонстрировал только бОльший рост затрат на одного клиента, в результате не показав положительных результатов по ROI."
   ]
  },
  {
   "cell_type": "markdown",
   "metadata": {},
   "source": [
    "# Шаг 6. Напишите выводы\n",
    "- Выделите причины неэффективности привлечения пользователей;\n",
    "- Сформируйте рекомендации для отдела маркетинга для повышения эффективности."
   ]
  },
  {
   "cell_type": "markdown",
   "metadata": {},
   "source": [
    "## Попробуем выделить причины неэффективности привлечения пользователей и сформировать рекомендации для повышения эффективности рекламы"
   ]
  },
  {
   "cell_type": "markdown",
   "metadata": {},
   "source": [
    "***Причины неэффективности могу быть заключены в следующем:***\n",
    "\n",
    "С мая 2019 идёт рост затрат на рекламу в источниках TipTop, FaceBoom. Эти источники затрачивали много средств, но не были эффективными.\n",
    "\n",
    "Удержание пользователей из рекламных источников AdNonSense и FaceBoom к 14 дню лайфтайма почти достигает 0.\n",
    "\n",
    "Клиенты из США стоят очень дорого и при этом очень плохо удерживаются. Но именно там находится большая часть нашей аудитории.\n",
    "\n",
    "LTV достаточно стабилен, но прослеживается сезонность.\n",
    "\n",
    "Окупаемость пользователей (особенно из США) начала падать с конца июня 2019 года. Стоит повнимательнее посмотреть почему именно в этот временной период сервис стал менее привлекательным для пользователей."
   ]
  },
  {
   "cell_type": "markdown",
   "metadata": {},
   "source": [
    "***Что касается рекомендаций:***\n",
    "\n",
    "Стоит обратить внимание на владельцев Mac и iPhone - стоимость их привлечения высока (и растет от месяца к месяцу), а окупаемость страдает. Возможно, стоит разработать какое-то маркетинговое решение именно для владельцев этих устройств.\n",
    "\n",
    "Основная аудитория - из США. Самые дорогие и не окупаемые пользователи из США. Возможно стоит внести изменения в затраты на рекламу по странам. Лучше всего окупается Англия и Германия. Возможно, стоит попробовать закупить больше трафика, целясь на эту аудиторию.\n",
    "\n",
    "Виден большой рост стоимости привлечения пользователей из рекламного каналов TipTop и FaceBoom. А вот результаты от этих каналов привлечения не очень то радуют. Возможно, стоит уменьшить бюджет, выделяемый на эти каналы и перенаправить его в более эффективное русло."
   ]
  }
 ],
 "metadata": {
  "ExecuteTimeLog": [
   {
    "duration": 1326,
    "start_time": "2022-05-09T09:22:17.043Z"
   },
   {
    "duration": 623,
    "start_time": "2022-05-09T09:22:54.354Z"
   },
   {
    "duration": 76,
    "start_time": "2022-05-09T09:24:58.366Z"
   },
   {
    "duration": 15,
    "start_time": "2022-05-09T09:25:00.001Z"
   },
   {
    "duration": 14,
    "start_time": "2022-05-09T09:25:02.045Z"
   },
   {
    "duration": 9,
    "start_time": "2022-05-09T09:25:03.717Z"
   },
   {
    "duration": 11,
    "start_time": "2022-05-09T09:25:05.453Z"
   },
   {
    "duration": 9,
    "start_time": "2022-05-09T09:25:06.997Z"
   },
   {
    "duration": 5,
    "start_time": "2022-05-09T09:43:07.259Z"
   },
   {
    "duration": 4,
    "start_time": "2022-05-09T09:43:17.086Z"
   },
   {
    "duration": 4,
    "start_time": "2022-05-09T09:43:27.539Z"
   },
   {
    "duration": 5,
    "start_time": "2022-05-09T09:43:57.499Z"
   },
   {
    "duration": 5,
    "start_time": "2022-05-09T09:43:59.539Z"
   },
   {
    "duration": 5,
    "start_time": "2022-05-09T09:44:00.843Z"
   },
   {
    "duration": 101,
    "start_time": "2022-05-09T09:44:03.236Z"
   },
   {
    "duration": 29,
    "start_time": "2022-05-09T09:44:12.393Z"
   },
   {
    "duration": 4,
    "start_time": "2022-05-09T09:44:14.347Z"
   },
   {
    "duration": 4,
    "start_time": "2022-05-09T09:44:15.756Z"
   },
   {
    "duration": 6,
    "start_time": "2022-05-09T09:44:17.059Z"
   },
   {
    "duration": 1154,
    "start_time": "2022-05-09T09:45:52.242Z"
   },
   {
    "duration": 1334,
    "start_time": "2022-05-09T09:45:53.398Z"
   },
   {
    "duration": 78,
    "start_time": "2022-05-09T09:45:54.734Z"
   },
   {
    "duration": 11,
    "start_time": "2022-05-09T09:45:54.814Z"
   },
   {
    "duration": 14,
    "start_time": "2022-05-09T09:45:54.827Z"
   },
   {
    "duration": 8,
    "start_time": "2022-05-09T09:45:54.843Z"
   },
   {
    "duration": 26,
    "start_time": "2022-05-09T09:45:54.874Z"
   },
   {
    "duration": 12,
    "start_time": "2022-05-09T09:45:54.902Z"
   },
   {
    "duration": 8,
    "start_time": "2022-05-09T09:45:54.916Z"
   },
   {
    "duration": 8,
    "start_time": "2022-05-09T09:45:54.925Z"
   },
   {
    "duration": 10,
    "start_time": "2022-05-09T09:45:54.934Z"
   },
   {
    "duration": 40,
    "start_time": "2022-05-09T09:45:54.946Z"
   },
   {
    "duration": 6,
    "start_time": "2022-05-09T09:45:54.988Z"
   },
   {
    "duration": 12,
    "start_time": "2022-05-09T09:45:54.997Z"
   },
   {
    "duration": 6,
    "start_time": "2022-05-09T09:45:55.011Z"
   },
   {
    "duration": 180,
    "start_time": "2022-05-09T09:50:06.252Z"
   },
   {
    "duration": 145,
    "start_time": "2022-05-09T09:54:39.043Z"
   },
   {
    "duration": 130,
    "start_time": "2022-05-09T09:54:56.499Z"
   },
   {
    "duration": 10,
    "start_time": "2022-05-09T09:54:57.747Z"
   },
   {
    "duration": 6,
    "start_time": "2022-05-09T09:54:58.907Z"
   },
   {
    "duration": 22,
    "start_time": "2022-05-09T09:56:59.806Z"
   },
   {
    "duration": 6,
    "start_time": "2022-05-09T10:12:15.468Z"
   },
   {
    "duration": 7,
    "start_time": "2022-05-09T10:13:45.715Z"
   },
   {
    "duration": 8,
    "start_time": "2022-05-09T10:14:35.674Z"
   },
   {
    "duration": 9,
    "start_time": "2022-05-09T10:15:47.587Z"
   },
   {
    "duration": 3,
    "start_time": "2022-05-09T10:19:59.453Z"
   },
   {
    "duration": 9,
    "start_time": "2022-05-09T10:20:26.096Z"
   },
   {
    "duration": 6,
    "start_time": "2022-05-09T10:21:04.749Z"
   },
   {
    "duration": 9,
    "start_time": "2022-05-09T10:21:52.726Z"
   },
   {
    "duration": 457,
    "start_time": "2022-05-09T10:49:40.131Z"
   },
   {
    "duration": 11,
    "start_time": "2022-05-09T10:50:57.417Z"
   },
   {
    "duration": 13,
    "start_time": "2022-05-09T10:50:58.737Z"
   },
   {
    "duration": 4,
    "start_time": "2022-05-09T10:50:59.912Z"
   },
   {
    "duration": 21,
    "start_time": "2022-05-09T10:51:10.366Z"
   },
   {
    "duration": 12,
    "start_time": "2022-05-09T10:51:20.410Z"
   },
   {
    "duration": 146,
    "start_time": "2022-05-09T10:53:55.205Z"
   },
   {
    "duration": 4,
    "start_time": "2022-05-09T10:55:14.956Z"
   },
   {
    "duration": 73,
    "start_time": "2022-05-09T10:55:28.761Z"
   },
   {
    "duration": 1162,
    "start_time": "2022-05-09T10:57:01.338Z"
   },
   {
    "duration": 654,
    "start_time": "2022-05-09T10:57:02.503Z"
   },
   {
    "duration": 72,
    "start_time": "2022-05-09T10:57:03.158Z"
   },
   {
    "duration": 12,
    "start_time": "2022-05-09T10:57:03.233Z"
   },
   {
    "duration": 30,
    "start_time": "2022-05-09T10:57:03.247Z"
   },
   {
    "duration": 9,
    "start_time": "2022-05-09T10:57:03.279Z"
   },
   {
    "duration": 13,
    "start_time": "2022-05-09T10:57:03.290Z"
   },
   {
    "duration": 21,
    "start_time": "2022-05-09T10:57:03.305Z"
   },
   {
    "duration": 5,
    "start_time": "2022-05-09T10:57:03.327Z"
   },
   {
    "duration": 5,
    "start_time": "2022-05-09T10:57:03.335Z"
   },
   {
    "duration": 8,
    "start_time": "2022-05-09T10:57:03.341Z"
   },
   {
    "duration": 53,
    "start_time": "2022-05-09T10:57:03.351Z"
   },
   {
    "duration": 9,
    "start_time": "2022-05-09T10:57:03.406Z"
   },
   {
    "duration": 6,
    "start_time": "2022-05-09T10:57:03.417Z"
   },
   {
    "duration": 6,
    "start_time": "2022-05-09T10:57:03.425Z"
   },
   {
    "duration": 177,
    "start_time": "2022-05-09T10:57:03.433Z"
   },
   {
    "duration": 148,
    "start_time": "2022-05-09T10:57:03.612Z"
   },
   {
    "duration": 17,
    "start_time": "2022-05-09T10:57:03.763Z"
   },
   {
    "duration": 9,
    "start_time": "2022-05-09T10:57:03.783Z"
   },
   {
    "duration": 10,
    "start_time": "2022-05-09T10:57:03.793Z"
   },
   {
    "duration": 10,
    "start_time": "2022-05-09T10:57:03.805Z"
   },
   {
    "duration": 14,
    "start_time": "2022-05-09T10:57:03.817Z"
   },
   {
    "duration": 13,
    "start_time": "2022-05-09T10:57:03.833Z"
   },
   {
    "duration": 31,
    "start_time": "2022-05-09T10:57:03.848Z"
   },
   {
    "duration": 16,
    "start_time": "2022-05-09T10:57:03.881Z"
   },
   {
    "duration": 15,
    "start_time": "2022-05-09T10:57:03.899Z"
   },
   {
    "duration": 12,
    "start_time": "2022-05-09T10:57:03.916Z"
   },
   {
    "duration": 470,
    "start_time": "2022-05-09T10:57:03.930Z"
   },
   {
    "duration": 13,
    "start_time": "2022-05-09T10:57:04.401Z"
   },
   {
    "duration": 14,
    "start_time": "2022-05-09T10:57:04.415Z"
   },
   {
    "duration": 4,
    "start_time": "2022-05-09T10:57:04.431Z"
   },
   {
    "duration": 40,
    "start_time": "2022-05-09T10:59:32.415Z"
   },
   {
    "duration": 38,
    "start_time": "2022-05-09T11:00:37.191Z"
   },
   {
    "duration": 43,
    "start_time": "2022-05-09T11:00:50.646Z"
   },
   {
    "duration": 78,
    "start_time": "2022-05-09T11:05:38.345Z"
   },
   {
    "duration": 45,
    "start_time": "2022-05-09T11:05:55.753Z"
   },
   {
    "duration": 43,
    "start_time": "2022-05-09T11:06:06.741Z"
   },
   {
    "duration": 41,
    "start_time": "2022-05-09T11:06:32.312Z"
   },
   {
    "duration": 149,
    "start_time": "2022-05-09T11:07:08.241Z"
   },
   {
    "duration": 41,
    "start_time": "2022-05-09T11:07:15.521Z"
   },
   {
    "duration": 46,
    "start_time": "2022-05-09T11:07:21.872Z"
   },
   {
    "duration": 42,
    "start_time": "2022-05-09T11:07:28.090Z"
   },
   {
    "duration": 41,
    "start_time": "2022-05-09T11:07:34.990Z"
   },
   {
    "duration": 42,
    "start_time": "2022-05-09T11:07:39.032Z"
   },
   {
    "duration": 132,
    "start_time": "2022-05-09T11:08:15.387Z"
   },
   {
    "duration": 41,
    "start_time": "2022-05-09T11:08:27.497Z"
   },
   {
    "duration": 109,
    "start_time": "2022-05-09T11:11:00.706Z"
   },
   {
    "duration": 39,
    "start_time": "2022-05-09T11:11:11.790Z"
   },
   {
    "duration": 125,
    "start_time": "2022-05-09T11:11:20.193Z"
   },
   {
    "duration": 45,
    "start_time": "2022-05-09T11:11:24.666Z"
   },
   {
    "duration": 53,
    "start_time": "2022-05-09T11:11:48.275Z"
   },
   {
    "duration": 132,
    "start_time": "2022-05-09T11:12:03.674Z"
   },
   {
    "duration": 42,
    "start_time": "2022-05-09T11:12:06.266Z"
   },
   {
    "duration": 42,
    "start_time": "2022-05-09T11:13:20.123Z"
   },
   {
    "duration": 46,
    "start_time": "2022-05-09T11:20:14.144Z"
   },
   {
    "duration": 42,
    "start_time": "2022-05-09T11:20:22.373Z"
   },
   {
    "duration": 32,
    "start_time": "2022-05-09T11:20:51.199Z"
   },
   {
    "duration": 36,
    "start_time": "2022-05-09T11:21:01.881Z"
   },
   {
    "duration": 41,
    "start_time": "2022-05-09T11:21:25.302Z"
   },
   {
    "duration": 11,
    "start_time": "2022-05-09T11:40:43.186Z"
   },
   {
    "duration": 4,
    "start_time": "2022-05-09T11:40:48.117Z"
   },
   {
    "duration": 5,
    "start_time": "2022-05-09T11:41:21.158Z"
   },
   {
    "duration": 4,
    "start_time": "2022-05-09T11:41:32.245Z"
   },
   {
    "duration": 112,
    "start_time": "2022-05-09T11:41:37.974Z"
   },
   {
    "duration": 4,
    "start_time": "2022-05-09T11:41:40.053Z"
   },
   {
    "duration": 10,
    "start_time": "2022-05-09T11:42:04.861Z"
   },
   {
    "duration": 15,
    "start_time": "2022-05-09T11:42:10.670Z"
   },
   {
    "duration": 480,
    "start_time": "2022-05-09T11:43:22.334Z"
   },
   {
    "duration": 365,
    "start_time": "2022-05-09T11:44:02.063Z"
   },
   {
    "duration": 372,
    "start_time": "2022-05-09T11:44:15.792Z"
   },
   {
    "duration": 392,
    "start_time": "2022-05-09T11:44:27.246Z"
   },
   {
    "duration": 352,
    "start_time": "2022-05-09T11:44:45.895Z"
   },
   {
    "duration": 346,
    "start_time": "2022-05-09T11:44:49.694Z"
   },
   {
    "duration": 471,
    "start_time": "2022-05-09T11:45:19.873Z"
   },
   {
    "duration": 5,
    "start_time": "2022-05-09T11:55:26.957Z"
   },
   {
    "duration": 5,
    "start_time": "2022-05-09T11:55:37.700Z"
   },
   {
    "duration": 47,
    "start_time": "2022-05-09T11:55:57.139Z"
   },
   {
    "duration": 14,
    "start_time": "2022-05-09T11:56:05.028Z"
   },
   {
    "duration": 28,
    "start_time": "2022-05-09T11:56:28.131Z"
   },
   {
    "duration": 20,
    "start_time": "2022-05-09T11:56:30.251Z"
   },
   {
    "duration": 45,
    "start_time": "2022-05-09T11:56:55.043Z"
   },
   {
    "duration": 1211,
    "start_time": "2022-05-09T11:58:07.446Z"
   },
   {
    "duration": 659,
    "start_time": "2022-05-09T11:58:08.658Z"
   },
   {
    "duration": 72,
    "start_time": "2022-05-09T11:58:09.319Z"
   },
   {
    "duration": 20,
    "start_time": "2022-05-09T11:58:09.395Z"
   },
   {
    "duration": 11,
    "start_time": "2022-05-09T11:58:09.417Z"
   },
   {
    "duration": 7,
    "start_time": "2022-05-09T11:58:09.430Z"
   },
   {
    "duration": 11,
    "start_time": "2022-05-09T11:58:09.439Z"
   },
   {
    "duration": 10,
    "start_time": "2022-05-09T11:58:09.451Z"
   },
   {
    "duration": 6,
    "start_time": "2022-05-09T11:58:09.462Z"
   },
   {
    "duration": 20,
    "start_time": "2022-05-09T11:58:09.483Z"
   },
   {
    "duration": 4,
    "start_time": "2022-05-09T11:58:09.505Z"
   },
   {
    "duration": 32,
    "start_time": "2022-05-09T11:58:09.510Z"
   },
   {
    "duration": 4,
    "start_time": "2022-05-09T11:58:09.543Z"
   },
   {
    "duration": 6,
    "start_time": "2022-05-09T11:58:09.549Z"
   },
   {
    "duration": 6,
    "start_time": "2022-05-09T11:58:09.557Z"
   },
   {
    "duration": 171,
    "start_time": "2022-05-09T11:58:09.582Z"
   },
   {
    "duration": 149,
    "start_time": "2022-05-09T11:58:09.755Z"
   },
   {
    "duration": 10,
    "start_time": "2022-05-09T11:58:09.905Z"
   },
   {
    "duration": 6,
    "start_time": "2022-05-09T11:58:09.916Z"
   },
   {
    "duration": 6,
    "start_time": "2022-05-09T11:58:09.923Z"
   },
   {
    "duration": 8,
    "start_time": "2022-05-09T11:58:09.931Z"
   },
   {
    "duration": 8,
    "start_time": "2022-05-09T11:58:09.941Z"
   },
   {
    "duration": 15,
    "start_time": "2022-05-09T11:58:09.975Z"
   },
   {
    "duration": 22,
    "start_time": "2022-05-09T11:58:09.992Z"
   },
   {
    "duration": 18,
    "start_time": "2022-05-09T11:58:10.015Z"
   },
   {
    "duration": 15,
    "start_time": "2022-05-09T11:58:10.035Z"
   },
   {
    "duration": 19,
    "start_time": "2022-05-09T11:58:10.053Z"
   },
   {
    "duration": 505,
    "start_time": "2022-05-09T11:58:10.084Z"
   },
   {
    "duration": 16,
    "start_time": "2022-05-09T11:58:10.592Z"
   },
   {
    "duration": 16,
    "start_time": "2022-05-09T11:58:10.610Z"
   },
   {
    "duration": 58,
    "start_time": "2022-05-09T11:58:10.628Z"
   },
   {
    "duration": 47,
    "start_time": "2022-05-09T11:58:10.688Z"
   },
   {
    "duration": 50,
    "start_time": "2022-05-09T11:58:10.736Z"
   },
   {
    "duration": 10,
    "start_time": "2022-05-09T11:58:10.790Z"
   },
   {
    "duration": 14,
    "start_time": "2022-05-09T11:58:10.801Z"
   },
   {
    "duration": 450,
    "start_time": "2022-05-09T11:58:10.816Z"
   },
   {
    "duration": 8,
    "start_time": "2022-05-09T11:58:11.268Z"
   },
   {
    "duration": 59,
    "start_time": "2022-05-09T11:58:11.283Z"
   },
   {
    "duration": 3,
    "start_time": "2022-05-09T12:13:51.864Z"
   },
   {
    "duration": 3,
    "start_time": "2022-05-09T12:14:00.500Z"
   },
   {
    "duration": 106,
    "start_time": "2022-05-09T12:15:25.701Z"
   },
   {
    "duration": 301,
    "start_time": "2022-05-09T12:15:32.209Z"
   },
   {
    "duration": 1140,
    "start_time": "2022-05-09T12:15:38.107Z"
   },
   {
    "duration": 3,
    "start_time": "2022-05-09T12:18:50.573Z"
   },
   {
    "duration": 3,
    "start_time": "2022-05-09T12:18:52.052Z"
   },
   {
    "duration": 327,
    "start_time": "2022-05-09T12:18:53.444Z"
   },
   {
    "duration": 1125,
    "start_time": "2022-05-09T12:18:54.886Z"
   },
   {
    "duration": 1201,
    "start_time": "2022-05-09T12:19:04.150Z"
   },
   {
    "duration": 686,
    "start_time": "2022-05-09T12:19:05.353Z"
   },
   {
    "duration": 74,
    "start_time": "2022-05-09T12:19:06.041Z"
   },
   {
    "duration": 13,
    "start_time": "2022-05-09T12:19:06.117Z"
   },
   {
    "duration": 15,
    "start_time": "2022-05-09T12:19:06.133Z"
   },
   {
    "duration": 36,
    "start_time": "2022-05-09T12:19:06.150Z"
   },
   {
    "duration": 12,
    "start_time": "2022-05-09T12:19:06.189Z"
   },
   {
    "duration": 17,
    "start_time": "2022-05-09T12:19:06.203Z"
   },
   {
    "duration": 9,
    "start_time": "2022-05-09T12:19:06.221Z"
   },
   {
    "duration": 8,
    "start_time": "2022-05-09T12:19:06.231Z"
   },
   {
    "duration": 8,
    "start_time": "2022-05-09T12:19:06.241Z"
   },
   {
    "duration": 45,
    "start_time": "2022-05-09T12:19:06.251Z"
   },
   {
    "duration": 5,
    "start_time": "2022-05-09T12:19:06.297Z"
   },
   {
    "duration": 8,
    "start_time": "2022-05-09T12:19:06.304Z"
   },
   {
    "duration": 8,
    "start_time": "2022-05-09T12:19:06.313Z"
   },
   {
    "duration": 178,
    "start_time": "2022-05-09T12:19:06.323Z"
   },
   {
    "duration": 144,
    "start_time": "2022-05-09T12:19:06.502Z"
   },
   {
    "duration": 28,
    "start_time": "2022-05-09T12:19:06.648Z"
   },
   {
    "duration": 6,
    "start_time": "2022-05-09T12:19:06.678Z"
   },
   {
    "duration": 15,
    "start_time": "2022-05-09T12:19:06.686Z"
   },
   {
    "duration": 9,
    "start_time": "2022-05-09T12:19:06.703Z"
   },
   {
    "duration": 11,
    "start_time": "2022-05-09T12:19:06.714Z"
   },
   {
    "duration": 12,
    "start_time": "2022-05-09T12:19:06.727Z"
   },
   {
    "duration": 10,
    "start_time": "2022-05-09T12:19:06.741Z"
   },
   {
    "duration": 16,
    "start_time": "2022-05-09T12:19:06.772Z"
   },
   {
    "duration": 10,
    "start_time": "2022-05-09T12:19:06.790Z"
   },
   {
    "duration": 10,
    "start_time": "2022-05-09T12:19:06.802Z"
   },
   {
    "duration": 507,
    "start_time": "2022-05-09T12:19:06.814Z"
   },
   {
    "duration": 13,
    "start_time": "2022-05-09T12:19:07.322Z"
   },
   {
    "duration": 24,
    "start_time": "2022-05-09T12:19:07.337Z"
   },
   {
    "duration": 50,
    "start_time": "2022-05-09T12:19:07.373Z"
   },
   {
    "duration": 57,
    "start_time": "2022-05-09T12:19:07.425Z"
   },
   {
    "duration": 46,
    "start_time": "2022-05-09T12:19:07.486Z"
   },
   {
    "duration": 3,
    "start_time": "2022-05-09T12:19:07.534Z"
   },
   {
    "duration": 15,
    "start_time": "2022-05-09T12:19:07.539Z"
   },
   {
    "duration": 478,
    "start_time": "2022-05-09T12:19:07.572Z"
   },
   {
    "duration": 5,
    "start_time": "2022-05-09T12:19:08.052Z"
   },
   {
    "duration": 46,
    "start_time": "2022-05-09T12:19:08.058Z"
   },
   {
    "duration": 3,
    "start_time": "2022-05-09T12:19:08.105Z"
   },
   {
    "duration": 9,
    "start_time": "2022-05-09T12:19:08.111Z"
   },
   {
    "duration": 345,
    "start_time": "2022-05-09T12:19:08.124Z"
   },
   {
    "duration": 1088,
    "start_time": "2022-05-09T12:19:08.471Z"
   },
   {
    "duration": 1227,
    "start_time": "2022-05-09T12:21:31.663Z"
   },
   {
    "duration": 655,
    "start_time": "2022-05-09T12:21:32.892Z"
   },
   {
    "duration": 75,
    "start_time": "2022-05-09T12:21:33.549Z"
   },
   {
    "duration": 12,
    "start_time": "2022-05-09T12:21:33.626Z"
   },
   {
    "duration": 12,
    "start_time": "2022-05-09T12:21:33.640Z"
   },
   {
    "duration": 30,
    "start_time": "2022-05-09T12:21:33.654Z"
   },
   {
    "duration": 15,
    "start_time": "2022-05-09T12:21:33.685Z"
   },
   {
    "duration": 10,
    "start_time": "2022-05-09T12:21:33.703Z"
   },
   {
    "duration": 7,
    "start_time": "2022-05-09T12:21:33.715Z"
   },
   {
    "duration": 6,
    "start_time": "2022-05-09T12:21:33.725Z"
   },
   {
    "duration": 6,
    "start_time": "2022-05-09T12:21:33.732Z"
   },
   {
    "duration": 57,
    "start_time": "2022-05-09T12:21:33.740Z"
   },
   {
    "duration": 5,
    "start_time": "2022-05-09T12:21:33.799Z"
   },
   {
    "duration": 10,
    "start_time": "2022-05-09T12:21:33.806Z"
   },
   {
    "duration": 7,
    "start_time": "2022-05-09T12:21:33.818Z"
   },
   {
    "duration": 179,
    "start_time": "2022-05-09T12:21:33.827Z"
   },
   {
    "duration": 143,
    "start_time": "2022-05-09T12:21:34.008Z"
   },
   {
    "duration": 23,
    "start_time": "2022-05-09T12:21:34.153Z"
   },
   {
    "duration": 9,
    "start_time": "2022-05-09T12:21:34.178Z"
   },
   {
    "duration": 13,
    "start_time": "2022-05-09T12:21:34.190Z"
   },
   {
    "duration": 9,
    "start_time": "2022-05-09T12:21:34.205Z"
   },
   {
    "duration": 12,
    "start_time": "2022-05-09T12:21:34.217Z"
   },
   {
    "duration": 16,
    "start_time": "2022-05-09T12:21:34.231Z"
   },
   {
    "duration": 31,
    "start_time": "2022-05-09T12:21:34.249Z"
   },
   {
    "duration": 21,
    "start_time": "2022-05-09T12:21:34.281Z"
   },
   {
    "duration": 9,
    "start_time": "2022-05-09T12:21:34.304Z"
   },
   {
    "duration": 11,
    "start_time": "2022-05-09T12:21:34.315Z"
   },
   {
    "duration": 507,
    "start_time": "2022-05-09T12:21:34.331Z"
   },
   {
    "duration": 13,
    "start_time": "2022-05-09T12:21:34.839Z"
   },
   {
    "duration": 42,
    "start_time": "2022-05-09T12:21:34.854Z"
   },
   {
    "duration": 45,
    "start_time": "2022-05-09T12:21:34.897Z"
   },
   {
    "duration": 56,
    "start_time": "2022-05-09T12:21:34.944Z"
   },
   {
    "duration": 46,
    "start_time": "2022-05-09T12:21:35.002Z"
   },
   {
    "duration": 5,
    "start_time": "2022-05-09T12:21:35.050Z"
   },
   {
    "duration": 20,
    "start_time": "2022-05-09T12:21:35.076Z"
   },
   {
    "duration": 500,
    "start_time": "2022-05-09T12:21:35.098Z"
   },
   {
    "duration": 5,
    "start_time": "2022-05-09T12:21:35.600Z"
   },
   {
    "duration": 57,
    "start_time": "2022-05-09T12:21:35.607Z"
   },
   {
    "duration": 3,
    "start_time": "2022-05-09T12:21:35.665Z"
   },
   {
    "duration": 23,
    "start_time": "2022-05-09T12:21:35.670Z"
   },
   {
    "duration": 75,
    "start_time": "2022-05-09T12:21:35.697Z"
   },
   {
    "duration": 235,
    "start_time": "2022-05-09T12:21:35.775Z"
   },
   {
    "duration": 1227,
    "start_time": "2022-05-09T12:21:36.012Z"
   },
   {
    "duration": 101,
    "start_time": "2022-05-09T12:41:16.345Z"
   },
   {
    "duration": 1895,
    "start_time": "2022-05-09T12:41:26.175Z"
   },
   {
    "duration": 1731,
    "start_time": "2022-05-09T12:57:16.373Z"
   },
   {
    "duration": 1192,
    "start_time": "2022-05-09T12:58:08.967Z"
   },
   {
    "duration": 642,
    "start_time": "2022-05-09T12:58:10.161Z"
   },
   {
    "duration": 66,
    "start_time": "2022-05-09T12:58:10.805Z"
   },
   {
    "duration": 24,
    "start_time": "2022-05-09T12:58:10.876Z"
   },
   {
    "duration": 12,
    "start_time": "2022-05-09T12:58:10.902Z"
   },
   {
    "duration": 8,
    "start_time": "2022-05-09T12:58:10.916Z"
   },
   {
    "duration": 14,
    "start_time": "2022-05-09T12:58:10.926Z"
   },
   {
    "duration": 21,
    "start_time": "2022-05-09T12:58:10.942Z"
   },
   {
    "duration": 15,
    "start_time": "2022-05-09T12:58:10.974Z"
   },
   {
    "duration": 12,
    "start_time": "2022-05-09T12:58:10.992Z"
   },
   {
    "duration": 8,
    "start_time": "2022-05-09T12:58:11.006Z"
   },
   {
    "duration": 40,
    "start_time": "2022-05-09T12:58:11.016Z"
   },
   {
    "duration": 5,
    "start_time": "2022-05-09T12:58:11.058Z"
   },
   {
    "duration": 32,
    "start_time": "2022-05-09T12:58:11.064Z"
   },
   {
    "duration": 10,
    "start_time": "2022-05-09T12:58:11.098Z"
   },
   {
    "duration": 152,
    "start_time": "2022-05-09T12:58:11.110Z"
   },
   {
    "duration": 145,
    "start_time": "2022-05-09T12:58:11.264Z"
   },
   {
    "duration": 10,
    "start_time": "2022-05-09T12:58:11.411Z"
   },
   {
    "duration": 10,
    "start_time": "2022-05-09T12:58:11.423Z"
   },
   {
    "duration": 7,
    "start_time": "2022-05-09T12:58:11.435Z"
   },
   {
    "duration": 34,
    "start_time": "2022-05-09T12:58:11.444Z"
   },
   {
    "duration": 30,
    "start_time": "2022-05-09T12:58:11.480Z"
   },
   {
    "duration": 17,
    "start_time": "2022-05-09T12:58:11.512Z"
   },
   {
    "duration": 21,
    "start_time": "2022-05-09T12:58:11.531Z"
   },
   {
    "duration": 22,
    "start_time": "2022-05-09T12:58:11.554Z"
   },
   {
    "duration": 23,
    "start_time": "2022-05-09T12:58:11.577Z"
   },
   {
    "duration": 19,
    "start_time": "2022-05-09T12:58:11.602Z"
   },
   {
    "duration": 492,
    "start_time": "2022-05-09T12:58:11.625Z"
   },
   {
    "duration": 13,
    "start_time": "2022-05-09T12:58:12.119Z"
   },
   {
    "duration": 14,
    "start_time": "2022-05-09T12:58:12.133Z"
   },
   {
    "duration": 66,
    "start_time": "2022-05-09T12:58:12.148Z"
   },
   {
    "duration": 40,
    "start_time": "2022-05-09T12:58:12.216Z"
   },
   {
    "duration": 62,
    "start_time": "2022-05-09T12:58:12.257Z"
   },
   {
    "duration": 3,
    "start_time": "2022-05-09T12:58:12.321Z"
   },
   {
    "duration": 24,
    "start_time": "2022-05-09T12:58:12.326Z"
   },
   {
    "duration": 462,
    "start_time": "2022-05-09T12:58:12.352Z"
   },
   {
    "duration": 4,
    "start_time": "2022-05-09T12:58:12.816Z"
   },
   {
    "duration": 64,
    "start_time": "2022-05-09T12:58:12.822Z"
   },
   {
    "duration": 3,
    "start_time": "2022-05-09T12:58:12.888Z"
   },
   {
    "duration": 6,
    "start_time": "2022-05-09T12:58:12.892Z"
   },
   {
    "duration": 29,
    "start_time": "2022-05-09T12:58:12.900Z"
   },
   {
    "duration": 219,
    "start_time": "2022-05-09T12:58:12.931Z"
   },
   {
    "duration": 1077,
    "start_time": "2022-05-09T12:58:13.152Z"
   },
   {
    "duration": 1855,
    "start_time": "2022-05-09T12:58:14.231Z"
   },
   {
    "duration": 1720,
    "start_time": "2022-05-09T12:58:16.090Z"
   },
   {
    "duration": 2245,
    "start_time": "2022-05-09T13:03:22.137Z"
   },
   {
    "duration": 119,
    "start_time": "2022-05-09T13:13:48.876Z"
   },
   {
    "duration": 11,
    "start_time": "2022-05-09T13:14:59.427Z"
   },
   {
    "duration": 6925,
    "start_time": "2022-05-09T13:15:15.707Z"
   },
   {
    "duration": 3,
    "start_time": "2022-05-09T13:17:00.525Z"
   },
   {
    "duration": 7001,
    "start_time": "2022-05-09T13:17:01.947Z"
   },
   {
    "duration": 10,
    "start_time": "2022-05-09T13:19:03.941Z"
   },
   {
    "duration": 3,
    "start_time": "2022-05-09T13:19:11.531Z"
   },
   {
    "duration": 6785,
    "start_time": "2022-05-09T13:19:12.877Z"
   },
   {
    "duration": 7007,
    "start_time": "2022-05-09T13:19:44.948Z"
   },
   {
    "duration": 1133,
    "start_time": "2022-05-09T13:21:06.813Z"
   },
   {
    "duration": 620,
    "start_time": "2022-05-09T13:21:07.948Z"
   },
   {
    "duration": 71,
    "start_time": "2022-05-09T13:21:08.570Z"
   },
   {
    "duration": 12,
    "start_time": "2022-05-09T13:21:08.644Z"
   },
   {
    "duration": 27,
    "start_time": "2022-05-09T13:21:08.658Z"
   },
   {
    "duration": 8,
    "start_time": "2022-05-09T13:21:08.687Z"
   },
   {
    "duration": 13,
    "start_time": "2022-05-09T13:21:08.697Z"
   },
   {
    "duration": 11,
    "start_time": "2022-05-09T13:21:08.711Z"
   },
   {
    "duration": 9,
    "start_time": "2022-05-09T13:21:08.723Z"
   },
   {
    "duration": 5,
    "start_time": "2022-05-09T13:21:08.734Z"
   },
   {
    "duration": 5,
    "start_time": "2022-05-09T13:21:08.741Z"
   },
   {
    "duration": 47,
    "start_time": "2022-05-09T13:21:08.748Z"
   },
   {
    "duration": 4,
    "start_time": "2022-05-09T13:21:08.797Z"
   },
   {
    "duration": 7,
    "start_time": "2022-05-09T13:21:08.803Z"
   },
   {
    "duration": 11,
    "start_time": "2022-05-09T13:21:08.811Z"
   },
   {
    "duration": 172,
    "start_time": "2022-05-09T13:21:08.823Z"
   },
   {
    "duration": 133,
    "start_time": "2022-05-09T13:21:08.997Z"
   },
   {
    "duration": 11,
    "start_time": "2022-05-09T13:21:09.132Z"
   },
   {
    "duration": 7,
    "start_time": "2022-05-09T13:21:09.144Z"
   },
   {
    "duration": 37,
    "start_time": "2022-05-09T13:21:09.152Z"
   },
   {
    "duration": 8,
    "start_time": "2022-05-09T13:21:09.191Z"
   },
   {
    "duration": 15,
    "start_time": "2022-05-09T13:21:09.201Z"
   },
   {
    "duration": 9,
    "start_time": "2022-05-09T13:21:09.218Z"
   },
   {
    "duration": 7,
    "start_time": "2022-05-09T13:21:09.229Z"
   },
   {
    "duration": 8,
    "start_time": "2022-05-09T13:21:09.237Z"
   },
   {
    "duration": 7,
    "start_time": "2022-05-09T13:21:09.246Z"
   },
   {
    "duration": 30,
    "start_time": "2022-05-09T13:21:09.255Z"
   },
   {
    "duration": 450,
    "start_time": "2022-05-09T13:21:09.289Z"
   },
   {
    "duration": 11,
    "start_time": "2022-05-09T13:21:09.741Z"
   },
   {
    "duration": 26,
    "start_time": "2022-05-09T13:21:09.753Z"
   },
   {
    "duration": 47,
    "start_time": "2022-05-09T13:21:09.781Z"
   },
   {
    "duration": 55,
    "start_time": "2022-05-09T13:21:09.830Z"
   },
   {
    "duration": 42,
    "start_time": "2022-05-09T13:21:09.886Z"
   },
   {
    "duration": 5,
    "start_time": "2022-05-09T13:21:09.930Z"
   },
   {
    "duration": 12,
    "start_time": "2022-05-09T13:21:09.936Z"
   },
   {
    "duration": 463,
    "start_time": "2022-05-09T13:21:09.950Z"
   },
   {
    "duration": 4,
    "start_time": "2022-05-09T13:21:10.415Z"
   },
   {
    "duration": 47,
    "start_time": "2022-05-09T13:21:10.421Z"
   },
   {
    "duration": 3,
    "start_time": "2022-05-09T13:21:10.469Z"
   },
   {
    "duration": 25,
    "start_time": "2022-05-09T13:21:10.480Z"
   },
   {
    "duration": 45,
    "start_time": "2022-05-09T13:21:10.507Z"
   },
   {
    "duration": 205,
    "start_time": "2022-05-09T13:21:10.554Z"
   },
   {
    "duration": 1137,
    "start_time": "2022-05-09T13:21:10.761Z"
   },
   {
    "duration": 1786,
    "start_time": "2022-05-09T13:21:11.900Z"
   },
   {
    "duration": 1605,
    "start_time": "2022-05-09T13:21:13.688Z"
   },
   {
    "duration": 2202,
    "start_time": "2022-05-09T13:21:15.294Z"
   },
   {
    "duration": 3,
    "start_time": "2022-05-09T13:21:17.497Z"
   },
   {
    "duration": 6693,
    "start_time": "2022-05-09T13:21:17.501Z"
   },
   {
    "duration": 1137,
    "start_time": "2022-05-09T14:22:50.633Z"
   },
   {
    "duration": 614,
    "start_time": "2022-05-09T14:22:51.772Z"
   },
   {
    "duration": 63,
    "start_time": "2022-05-09T14:22:52.387Z"
   },
   {
    "duration": 12,
    "start_time": "2022-05-09T14:22:52.452Z"
   },
   {
    "duration": 17,
    "start_time": "2022-05-09T14:22:52.465Z"
   },
   {
    "duration": 7,
    "start_time": "2022-05-09T14:22:52.484Z"
   },
   {
    "duration": 11,
    "start_time": "2022-05-09T14:22:52.493Z"
   },
   {
    "duration": 10,
    "start_time": "2022-05-09T14:22:52.505Z"
   },
   {
    "duration": 6,
    "start_time": "2022-05-09T14:22:52.517Z"
   },
   {
    "duration": 4,
    "start_time": "2022-05-09T14:22:52.526Z"
   },
   {
    "duration": 7,
    "start_time": "2022-05-09T14:22:52.532Z"
   },
   {
    "duration": 60,
    "start_time": "2022-05-09T14:22:52.540Z"
   },
   {
    "duration": 4,
    "start_time": "2022-05-09T14:22:52.602Z"
   },
   {
    "duration": 6,
    "start_time": "2022-05-09T14:22:52.607Z"
   },
   {
    "duration": 5,
    "start_time": "2022-05-09T14:22:52.614Z"
   },
   {
    "duration": 167,
    "start_time": "2022-05-09T14:22:52.620Z"
   },
   {
    "duration": 126,
    "start_time": "2022-05-09T14:22:52.788Z"
   },
   {
    "duration": 9,
    "start_time": "2022-05-09T14:22:52.916Z"
   },
   {
    "duration": 6,
    "start_time": "2022-05-09T14:22:52.926Z"
   },
   {
    "duration": 6,
    "start_time": "2022-05-09T14:22:52.933Z"
   },
   {
    "duration": 11,
    "start_time": "2022-05-09T14:22:52.940Z"
   },
   {
    "duration": 7,
    "start_time": "2022-05-09T14:22:52.973Z"
   },
   {
    "duration": 15,
    "start_time": "2022-05-09T14:22:52.982Z"
   },
   {
    "duration": 6,
    "start_time": "2022-05-09T14:22:52.999Z"
   },
   {
    "duration": 8,
    "start_time": "2022-05-09T14:22:53.007Z"
   },
   {
    "duration": 9,
    "start_time": "2022-05-09T14:22:53.016Z"
   },
   {
    "duration": 9,
    "start_time": "2022-05-09T14:22:53.026Z"
   },
   {
    "duration": 454,
    "start_time": "2022-05-09T14:22:53.038Z"
   },
   {
    "duration": 11,
    "start_time": "2022-05-09T14:22:53.494Z"
   },
   {
    "duration": 12,
    "start_time": "2022-05-09T14:22:53.506Z"
   },
   {
    "duration": 56,
    "start_time": "2022-05-09T14:22:53.520Z"
   },
   {
    "duration": 38,
    "start_time": "2022-05-09T14:22:53.578Z"
   },
   {
    "duration": 56,
    "start_time": "2022-05-09T14:22:53.618Z"
   },
   {
    "duration": 4,
    "start_time": "2022-05-09T14:22:53.675Z"
   },
   {
    "duration": 15,
    "start_time": "2022-05-09T14:22:53.680Z"
   },
   {
    "duration": 421,
    "start_time": "2022-05-09T14:22:53.696Z"
   },
   {
    "duration": 4,
    "start_time": "2022-05-09T14:22:54.119Z"
   },
   {
    "duration": 38,
    "start_time": "2022-05-09T14:22:54.125Z"
   },
   {
    "duration": 2,
    "start_time": "2022-05-09T14:22:54.165Z"
   },
   {
    "duration": 3,
    "start_time": "2022-05-09T14:22:54.172Z"
   },
   {
    "duration": 32,
    "start_time": "2022-05-09T14:22:54.176Z"
   },
   {
    "duration": 208,
    "start_time": "2022-05-09T14:22:54.210Z"
   },
   {
    "duration": 964,
    "start_time": "2022-05-09T14:22:54.420Z"
   },
   {
    "duration": 1605,
    "start_time": "2022-05-09T14:22:55.386Z"
   },
   {
    "duration": 1523,
    "start_time": "2022-05-09T14:22:56.993Z"
   },
   {
    "duration": 2147,
    "start_time": "2022-05-09T14:22:58.517Z"
   },
   {
    "duration": 7,
    "start_time": "2022-05-09T14:23:00.666Z"
   },
   {
    "duration": 6479,
    "start_time": "2022-05-09T14:23:00.675Z"
   },
   {
    "duration": 1247,
    "start_time": "2022-05-09T18:08:19.483Z"
   },
   {
    "duration": 642,
    "start_time": "2022-05-09T18:08:20.732Z"
   },
   {
    "duration": 73,
    "start_time": "2022-05-09T18:08:21.376Z"
   },
   {
    "duration": 14,
    "start_time": "2022-05-09T18:08:21.452Z"
   },
   {
    "duration": 19,
    "start_time": "2022-05-09T18:08:21.468Z"
   },
   {
    "duration": 27,
    "start_time": "2022-05-09T18:08:21.489Z"
   },
   {
    "duration": 12,
    "start_time": "2022-05-09T18:08:21.518Z"
   },
   {
    "duration": 10,
    "start_time": "2022-05-09T18:08:21.532Z"
   },
   {
    "duration": 5,
    "start_time": "2022-05-09T18:08:21.544Z"
   },
   {
    "duration": 5,
    "start_time": "2022-05-09T18:08:21.553Z"
   },
   {
    "duration": 5,
    "start_time": "2022-05-09T18:08:21.560Z"
   },
   {
    "duration": 32,
    "start_time": "2022-05-09T18:08:21.608Z"
   },
   {
    "duration": 5,
    "start_time": "2022-05-09T18:08:21.642Z"
   },
   {
    "duration": 5,
    "start_time": "2022-05-09T18:08:21.649Z"
   },
   {
    "duration": 7,
    "start_time": "2022-05-09T18:08:21.656Z"
   },
   {
    "duration": 200,
    "start_time": "2022-05-09T18:08:21.665Z"
   },
   {
    "duration": 141,
    "start_time": "2022-05-09T18:08:21.867Z"
   },
   {
    "duration": 10,
    "start_time": "2022-05-09T18:08:22.009Z"
   },
   {
    "duration": 5,
    "start_time": "2022-05-09T18:08:22.021Z"
   },
   {
    "duration": 7,
    "start_time": "2022-05-09T18:08:22.028Z"
   },
   {
    "duration": 9,
    "start_time": "2022-05-09T18:08:22.036Z"
   },
   {
    "duration": 9,
    "start_time": "2022-05-09T18:08:22.046Z"
   },
   {
    "duration": 10,
    "start_time": "2022-05-09T18:08:22.057Z"
   },
   {
    "duration": 43,
    "start_time": "2022-05-09T18:08:22.069Z"
   },
   {
    "duration": 8,
    "start_time": "2022-05-09T18:08:22.114Z"
   },
   {
    "duration": 7,
    "start_time": "2022-05-09T18:08:22.124Z"
   },
   {
    "duration": 11,
    "start_time": "2022-05-09T18:08:22.133Z"
   },
   {
    "duration": 511,
    "start_time": "2022-05-09T18:08:22.147Z"
   },
   {
    "duration": 13,
    "start_time": "2022-05-09T18:08:22.660Z"
   },
   {
    "duration": 14,
    "start_time": "2022-05-09T18:08:22.674Z"
   },
   {
    "duration": 66,
    "start_time": "2022-05-09T18:08:22.690Z"
   },
   {
    "duration": 60,
    "start_time": "2022-05-09T18:08:22.757Z"
   },
   {
    "duration": 45,
    "start_time": "2022-05-09T18:08:22.818Z"
   },
   {
    "duration": 3,
    "start_time": "2022-05-09T18:08:22.865Z"
   },
   {
    "duration": 14,
    "start_time": "2022-05-09T18:08:22.870Z"
   },
   {
    "duration": 468,
    "start_time": "2022-05-09T18:08:22.908Z"
   },
   {
    "duration": 5,
    "start_time": "2022-05-09T18:08:23.377Z"
   },
   {
    "duration": 59,
    "start_time": "2022-05-09T18:08:23.384Z"
   },
   {
    "duration": 2,
    "start_time": "2022-05-09T18:08:23.445Z"
   },
   {
    "duration": 4,
    "start_time": "2022-05-09T18:08:23.449Z"
   },
   {
    "duration": 35,
    "start_time": "2022-05-09T18:08:23.455Z"
   },
   {
    "duration": 247,
    "start_time": "2022-05-09T18:08:23.491Z"
   },
   {
    "duration": 1097,
    "start_time": "2022-05-09T18:08:23.739Z"
   },
   {
    "duration": 1796,
    "start_time": "2022-05-09T18:08:24.838Z"
   },
   {
    "duration": 1711,
    "start_time": "2022-05-09T18:08:26.636Z"
   },
   {
    "duration": 2305,
    "start_time": "2022-05-09T18:08:28.349Z"
   },
   {
    "duration": 3,
    "start_time": "2022-05-09T18:08:30.656Z"
   },
   {
    "duration": 6946,
    "start_time": "2022-05-09T18:08:30.661Z"
   }
  ],
  "kernelspec": {
   "display_name": "Python 3 (ipykernel)",
   "language": "python",
   "name": "python3"
  },
  "language_info": {
   "codemirror_mode": {
    "name": "ipython",
    "version": 3
   },
   "file_extension": ".py",
   "mimetype": "text/x-python",
   "name": "python",
   "nbconvert_exporter": "python",
   "pygments_lexer": "ipython3",
   "version": "3.9.7"
  },
  "toc": {
   "base_numbering": 1,
   "nav_menu": {},
   "number_sections": true,
   "sideBar": true,
   "skip_h1_title": true,
   "title_cell": "Table of Contents",
   "title_sidebar": "Contents",
   "toc_cell": false,
   "toc_position": {},
   "toc_section_display": true,
   "toc_window_display": false
  }
 },
 "nbformat": 4,
 "nbformat_minor": 4
}
