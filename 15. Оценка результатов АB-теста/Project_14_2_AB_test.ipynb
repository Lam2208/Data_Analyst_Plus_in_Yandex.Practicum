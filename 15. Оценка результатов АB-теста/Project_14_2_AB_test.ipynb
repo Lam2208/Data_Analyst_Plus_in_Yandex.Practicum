{
 "cells": [
  {
   "cell_type": "markdown",
   "metadata": {},
   "source": [
    "# Проект по А/B-тестированию"
   ]
  },
  {
   "cell_type": "markdown",
   "metadata": {},
   "source": [
    "## Задачи проекта\n",
    "\n",
    "Наша задача — провести оценку результатов A/B-теста. В нашем распоряжении есть датасет с действиями пользователей, техническое задание и несколько вспомогательных датасетов.\n",
    "\n",
    "1. Оценим корректность проведения теста.\n",
    "\n",
    "2. Проанализируем результаты теста.\n",
    "\n",
    "Чтобы оценить корректность проведения теста, проверим:\n",
    "\n",
    "- пересечение тестовой аудитории с конкурирующим тестом;\n",
    "\n",
    "- совпадение теста и маркетинговых событий, другие проблемы временных границ теста."
   ]
  },
  {
   "cell_type": "markdown",
   "metadata": {},
   "source": [
    "**Техническое задание (далее - ТЗ)**\n",
    "\n",
    "Название теста: recommender_system_test;\n",
    "\n",
    "Группы: А (контрольная), B (новая платёжная воронка);\n",
    "\n",
    "Дата запуска: 2020-12-07;\n",
    "\n",
    "Дата остановки набора новых пользователей: 2020-12-21;\n",
    "\n",
    "Дата остановки: 2021-01-04;\n",
    "\n",
    "Аудитория: 15% новых пользователей из региона EU;\n",
    "\n",
    "Назначение теста: тестирование изменений, связанных с внедрением улучшенной рекомендательной системы;\n",
    "Ожидаемое количество участников теста: 6000.\n",
    "\n",
    "Ожидаемый эффект: за 14 дней с момента регистрации в системе пользователи покажут улучшение каждой метрики не менее, чем на 10%:\n",
    "конверсии в просмотр карточек товаров — событие product_page\n",
    "\n",
    "просмотры корзины — product_cart\n",
    "\n",
    "покупки — purchase.\n",
    "\n",
    "Загрузите данные теста, проверьте корректность его проведения и проанализируйте полученные результаты."
   ]
  },
  {
   "cell_type": "markdown",
   "metadata": {},
   "source": [
    "## Изучение и предобработка данных"
   ]
  },
  {
   "cell_type": "markdown",
   "metadata": {},
   "source": [
    "Импортируем библиотеки и читаем данные датафреймов."
   ]
  },
  {
   "cell_type": "code",
   "execution_count": null,
   "metadata": {},
   "outputs": [],
   "source": [
    "import pandas as pd\n",
    "import numpy as np\n",
    "import matplotlib.pyplot as plt\n",
    "import seaborn as sns\n",
    "import plotly.express as px\n",
    "from plotly import graph_objects as go\n",
    "from plotly.subplots import make_subplots\n",
    "from scipy import stats as st\n",
    "import math as mth\n",
    "\n",
    "import warnings\n",
    "warnings.filterwarnings('ignore')"
   ]
  },
  {
   "cell_type": "code",
   "execution_count": null,
   "metadata": {},
   "outputs": [],
   "source": [
    "ab_project_marketing_events = pd.read_csv('https://code.s3.yandex.net/datasets/ab_project_marketing_events.csv')\n",
    "final_ab_new_users = pd.read_csv('https://code.s3.yandex.net/datasets/final_ab_new_users.csv')\n",
    "final_ab_events = pd.read_csv('https://code.s3.yandex.net/datasets/final_ab_events.csv')\n",
    "final_ab_participants = pd.read_csv('https://code.s3.yandex.net/datasets/final_ab_participants.csv')"
   ]
  },
  {
   "cell_type": "code",
   "execution_count": null,
   "metadata": {},
   "outputs": [],
   "source": [
    "ab_project_marketing_events.head(5)"
   ]
  },
  {
   "cell_type": "code",
   "execution_count": null,
   "metadata": {},
   "outputs": [],
   "source": [
    "ab_project_marketing_events.info()"
   ]
  },
  {
   "cell_type": "code",
   "execution_count": null,
   "metadata": {},
   "outputs": [],
   "source": [
    "ab_project_marketing_events.duplicated().sum()"
   ]
  },
  {
   "cell_type": "code",
   "execution_count": null,
   "metadata": {},
   "outputs": [],
   "source": [
    "ab_project_marketing_events['start_dt'] = pd.to_datetime(ab_project_marketing_events['start_dt'], \n",
    "                                    format='%Y.%m.%d')\n",
    "\n",
    "\n",
    "ab_project_marketing_events['finish_dt'] = pd.to_datetime(ab_project_marketing_events['finish_dt'], \n",
    "                                    format='%Y.%m.%d')"
   ]
  },
  {
   "cell_type": "code",
   "execution_count": null,
   "metadata": {},
   "outputs": [],
   "source": [
    "final_ab_new_users.head(5)"
   ]
  },
  {
   "cell_type": "code",
   "execution_count": null,
   "metadata": {},
   "outputs": [],
   "source": [
    "final_ab_new_users.info()"
   ]
  },
  {
   "cell_type": "code",
   "execution_count": null,
   "metadata": {},
   "outputs": [],
   "source": [
    "final_ab_new_users['first_date'] = pd.to_datetime(final_ab_new_users['first_date'], \n",
    "                                    format='%Y.%m.%d')"
   ]
  },
  {
   "cell_type": "code",
   "execution_count": null,
   "metadata": {},
   "outputs": [],
   "source": [
    "final_ab_events.head(5)"
   ]
  },
  {
   "cell_type": "code",
   "execution_count": null,
   "metadata": {},
   "outputs": [],
   "source": [
    "final_ab_events.info()"
   ]
  },
  {
   "cell_type": "code",
   "execution_count": null,
   "metadata": {},
   "outputs": [],
   "source": [
    "final_ab_events['event_dt'] = pd.to_datetime(final_ab_events['event_dt'], \n",
    "                                    format='%Y.%m.%d %H:%M:%S')"
   ]
  },
  {
   "cell_type": "code",
   "execution_count": null,
   "metadata": {},
   "outputs": [],
   "source": [
    "final_ab_participants.head(5)"
   ]
  },
  {
   "cell_type": "code",
   "execution_count": null,
   "metadata": {},
   "outputs": [],
   "source": [
    "final_ab_participants.info()"
   ]
  },
  {
   "cell_type": "code",
   "execution_count": null,
   "metadata": {},
   "outputs": [],
   "source": [
    "all_df = [ab_project_marketing_events, final_ab_new_users,  final_ab_events, final_ab_participants]"
   ]
  },
  {
   "cell_type": "code",
   "execution_count": null,
   "metadata": {},
   "outputs": [],
   "source": [
    "for table in all_df:\n",
    "    print(table.isnull().sum())"
   ]
  },
  {
   "cell_type": "markdown",
   "metadata": {},
   "source": [
    "Много пропусков в датасете events в колонке details, но это дополнительные данные о событии, которых вполне может и не быть. Для удобства заменим их на нули"
   ]
  },
  {
   "cell_type": "code",
   "execution_count": null,
   "metadata": {},
   "outputs": [],
   "source": [
    "final_ab_events = final_ab_events.fillna(0)"
   ]
  },
  {
   "cell_type": "code",
   "execution_count": null,
   "metadata": {},
   "outputs": [],
   "source": [
    "final_ab_events.isnull().sum()"
   ]
  },
  {
   "cell_type": "code",
   "execution_count": null,
   "metadata": {},
   "outputs": [],
   "source": [
    "for table in all_df:\n",
    "    print(table.duplicated().sum())"
   ]
  },
  {
   "cell_type": "markdown",
   "metadata": {},
   "source": [
    "**Промежуточный вывод:**\n",
    "\n",
    "- Заменили типы данных в столбцах с датами\n",
    "- Проверили дубликаты\n",
    "- Проверили пропуски\n",
    "- Проставили 0 в местах пропуска"
   ]
  },
  {
   "cell_type": "markdown",
   "metadata": {},
   "source": [
    "## Оценка корректности проведения теста."
   ]
  },
  {
   "cell_type": "markdown",
   "metadata": {},
   "source": [
    "**Проверим группы на пересекающихся пользователей**"
   ]
  },
  {
   "cell_type": "code",
   "execution_count": null,
   "metadata": {},
   "outputs": [],
   "source": [
    "cross_users = final_ab_participants.groupby('user_id')['group'].nunique().reset_index()\n",
    "cross_users = cross_users.query('group > 1')\n",
    "len(cross_users)"
   ]
  },
  {
   "cell_type": "markdown",
   "metadata": {},
   "source": [
    "776 пользователей находится в обеих группах"
   ]
  },
  {
   "cell_type": "markdown",
   "metadata": {},
   "source": [
    "**Проверим пересечение в группах у теста recommender_system_test**."
   ]
  },
  {
   "cell_type": "markdown",
   "metadata": {},
   "source": [
    "Воспользуемся методом intersect1d, который возвращает отсортированные уникальные значения в обоих входных массивах"
   ]
  },
  {
   "cell_type": "code",
   "execution_count": null,
   "metadata": {},
   "outputs": [],
   "source": [
    "intersecting = final_ab_participants[final_ab_participants['ab_test'] == 'recommender_system_test']"
   ]
  },
  {
   "cell_type": "code",
   "execution_count": null,
   "metadata": {},
   "outputs": [],
   "source": [
    "len(np.intersect1d\n",
    "    (intersecting[intersecting['group'] == 'A']['user_id'], \n",
    "     intersecting[intersecting['group'] == 'B']['user_id']\n",
    "    )\n",
    "   )"
   ]
  },
  {
   "cell_type": "markdown",
   "metadata": {},
   "source": [
    "Внутри теста в группах пересекающихся пользователей нет"
   ]
  },
  {
   "cell_type": "markdown",
   "metadata": {},
   "source": [
    "**Проверим пересечение у двух имещихся тестов**"
   ]
  },
  {
   "cell_type": "code",
   "execution_count": null,
   "metadata": {},
   "outputs": [],
   "source": [
    "final_ab_participants['ab_test'].unique()"
   ]
  },
  {
   "cell_type": "code",
   "execution_count": null,
   "metadata": {},
   "outputs": [],
   "source": [
    "int_1 = len(np.intersect1d\n",
    "    (final_ab_participants.query('ab_test == \"recommender_system_test\"')['user_id'].unique(), \n",
    "     final_ab_participants.query('ab_test == \"interface_eu_test\"')['user_id'].unique()\n",
    "    )\n",
    "   )\n",
    "int_1"
   ]
  },
  {
   "cell_type": "markdown",
   "metadata": {},
   "source": [
    "Между двумя нашими тестами имеется 1602 общих пользователя"
   ]
  },
  {
   "cell_type": "markdown",
   "metadata": {},
   "source": [
    "**Проверим пользователей на даты регистрации для А/В-теста**"
   ]
  },
  {
   "cell_type": "code",
   "execution_count": null,
   "metadata": {},
   "outputs": [],
   "source": [
    "print(\"Минимальная дата регистрации пользователей: \", final_ab_new_users['first_date'].min())\n",
    "print(\"Максимальная дата регистрации пользователей: \", final_ab_new_users['first_date'].max())"
   ]
  },
  {
   "cell_type": "markdown",
   "metadata": {},
   "source": [
    "Для нашего датасета соответсвующего ТЗ, не станем учитывать пользователей зарегистрировавшихся после 21 декабря"
   ]
  },
  {
   "cell_type": "code",
   "execution_count": null,
   "metadata": {},
   "outputs": [],
   "source": [
    "actual_final_ab_new_users = final_ab_new_users.query('first_date <= \"2020-12-21\"')\n",
    "actual_final_ab_new_users.sort_values(by='first_date', ascending=True).tail(5)"
   ]
  },
  {
   "cell_type": "code",
   "execution_count": null,
   "metadata": {},
   "outputs": [],
   "source": [
    "actual_final_ab_new_users['user_id'].nunique()"
   ]
  },
  {
   "cell_type": "markdown",
   "metadata": {},
   "source": [
    "**Проверим даты проведения А/В-теста**"
   ]
  },
  {
   "cell_type": "code",
   "execution_count": null,
   "metadata": {},
   "outputs": [],
   "source": [
    "print(\"Минимальная дата действий пользователей: \", final_ab_events['event_dt'].min())\n",
    "print(\"Максимальная дата действий пользователей: \", final_ab_events['event_dt'].max())"
   ]
  },
  {
   "cell_type": "markdown",
   "metadata": {},
   "source": [
    "Дата проведения теста по ТЗ с 2020-12-07 по 2021-01-04, по факту же максимальная дата действий пользователей составляет 2020-12-30. Возможно данные не полные, либо тест свернули раньше планируемого."
   ]
  },
  {
   "cell_type": "markdown",
   "metadata": {},
   "source": [
    "**Посмотрим какие мероприятия проходили в период нашего теста**"
   ]
  },
  {
   "cell_type": "code",
   "execution_count": null,
   "metadata": {},
   "outputs": [],
   "source": [
    "ab_project_marketing_events.query('start_dt < \"2021-12-30\" and finish_dt > \"2020-12-07\"')"
   ]
  },
  {
   "cell_type": "markdown",
   "metadata": {},
   "source": [
    "В это время проходило 2 маркетинговых мероприятия, затронувшие регионы EU, N.America и CIS"
   ]
  },
  {
   "cell_type": "markdown",
   "metadata": {},
   "source": [
    "**Проверим на сколько точно в ТЗ перечислены показатели аудитории**"
   ]
  },
  {
   "cell_type": "markdown",
   "metadata": {},
   "source": [
    "В ТЗ сказано: \"Аудитория: 15% новых пользователей из региона EU;\". Формулировка вызывает вопросы. Будем считать, что тут имеется в виду процент количества тестируемых пользователей из Европы относительно общего количества пользователей из Европы, как то так"
   ]
  },
  {
   "cell_type": "code",
   "execution_count": null,
   "metadata": {},
   "outputs": [],
   "source": [
    "recommender_ab_participants = final_ab_participants.query('ab_test == \"recommender_system_test\"')"
   ]
  },
  {
   "cell_type": "code",
   "execution_count": null,
   "metadata": {},
   "outputs": [],
   "source": [
    "EU_users = actual_final_ab_new_users.query('region == \"EU\"')\n",
    "EU_users.head(5)"
   ]
  },
  {
   "cell_type": "code",
   "execution_count": null,
   "metadata": {},
   "outputs": [],
   "source": [
    "all_ab_users = recommender_ab_participants.merge(final_ab_new_users, how='left', on='user_id')"
   ]
  },
  {
   "cell_type": "code",
   "execution_count": null,
   "metadata": {},
   "outputs": [],
   "source": [
    "region_users_count = (\n",
    "    all_ab_users.groupby('region')\n",
    "    .agg(count = ('user_id', 'count')).sort_values(by = 'count', ascending = False).reset_index()\n",
    "             )\n",
    "region_users_count"
   ]
  },
  {
   "cell_type": "code",
   "execution_count": null,
   "metadata": {},
   "outputs": [],
   "source": [
    "print('Процент количества тестируемых пользователей из Европы относительно общего количества пользователей из Европы: {:.2%}'.\n",
    "      format(region_users_count['count'][0] / EU_users['user_id'].nunique()))"
   ]
  },
  {
   "cell_type": "markdown",
   "metadata": {},
   "source": [
    "**Соединим наши 2 таблицы с пользователями с таблицей с событиями новых пользователей, чтобы посмотреть какие события были затронуты и сколько пользователей осталось**"
   ]
  },
  {
   "cell_type": "code",
   "execution_count": null,
   "metadata": {},
   "outputs": [],
   "source": [
    "temp_df = recommender_ab_participants.merge(actual_final_ab_new_users, on='user_id', how='left')\n",
    "final_ab_df = temp_df.merge(final_ab_events, on='user_id', how='left')\n",
    "final_ab_df"
   ]
  },
  {
   "cell_type": "markdown",
   "metadata": {},
   "source": [
    "Проверим таблицу на пропуски и дубли и избавимся от них"
   ]
  },
  {
   "cell_type": "code",
   "execution_count": null,
   "metadata": {},
   "outputs": [],
   "source": [
    "final_ab_df.isna().sum()"
   ]
  },
  {
   "cell_type": "code",
   "execution_count": null,
   "metadata": {},
   "outputs": [],
   "source": [
    "final_ab_df.duplicated().sum()"
   ]
  },
  {
   "cell_type": "code",
   "execution_count": null,
   "metadata": {},
   "outputs": [],
   "source": [
    "final_ab_df.isna().sum()"
   ]
  },
  {
   "cell_type": "code",
   "execution_count": null,
   "metadata": {},
   "outputs": [],
   "source": [
    "final_ab_df = final_ab_df.dropna(subset=['event_dt', 'event_name'])"
   ]
  },
  {
   "cell_type": "markdown",
   "metadata": {},
   "source": [
    "Посчитаем lifetime и уберём события, что старше 14 дней с момента регистрации пользователя, как написано в ТЗ."
   ]
  },
  {
   "cell_type": "code",
   "execution_count": null,
   "metadata": {},
   "outputs": [],
   "source": [
    "final_ab_df['lifetime'] = final_ab_df['event_dt'] - final_ab_df['first_date']\n",
    "final_ab_df = final_ab_df[final_ab_df['lifetime'] <= '14 days']\n",
    "final_ab_df"
   ]
  },
  {
   "cell_type": "code",
   "execution_count": null,
   "metadata": {
    "scrolled": true
   },
   "outputs": [],
   "source": [
    "final_ab_df['user_id'].nunique()"
   ]
  },
  {
   "cell_type": "markdown",
   "metadata": {},
   "source": [
    "**Промежуточный итог:**\n",
    "\n",
    "- Пересечения между группами, как таковыми есть есть и их 776\n",
    "- Пересечений пользователей в группах recommender_system_test найти не удалось\n",
    "- Пересечения пользователей между тестами так же удалось обнаружить в количестве 1 602 штук\n",
    "- Даты регистрации пользователей не соотвествовали ТЗ, поэтому убрали тех, кто не попал в период\n",
    "- Про 6 000 пользователей в ТЗ тоже наврали, т.к. по остальным условиям ТЗ мы имеем только 3 675 уникальных пользователей\n",
    "- Создали отделный датафрейм, куда записали всех участников АБ-теста в соответсвии со сроками по ТЗ\n",
    "\n",
    "Уже закрадываются подозрения в полезности результатов подобного теста. Но исследование, есть исследование, так что мы продолжим"
   ]
  },
  {
   "cell_type": "markdown",
   "metadata": {},
   "source": [
    "## Исследовательский анализ данных"
   ]
  },
  {
   "cell_type": "markdown",
   "metadata": {},
   "source": [
    "### Количество событий на пользователя одинаково распределены в выборках?"
   ]
  },
  {
   "cell_type": "code",
   "execution_count": null,
   "metadata": {},
   "outputs": [],
   "source": [
    "group_a = (\n",
    "    final_ab_df.query('group == \"A\"')\n",
    "    .groupby(['user_id', 'event_name'])['event_name'].count().to_frame()\n",
    "    .rename(columns = {'event_name':'count'})\n",
    "    .sort_values(by = 'count')\n",
    "    .reset_index()\n",
    ")\n",
    "group_a"
   ]
  },
  {
   "cell_type": "code",
   "execution_count": null,
   "metadata": {},
   "outputs": [],
   "source": [
    "group_b = (\n",
    "    final_ab_df.query('group == \"B\"')\n",
    "    .groupby(['user_id', 'event_name'])['event_name'].count().to_frame()\n",
    "    .rename(columns = {'event_name':'count'})\n",
    "    .sort_values(by = 'count')\n",
    "    .reset_index()\n",
    ")\n",
    "group_b"
   ]
  },
  {
   "cell_type": "code",
   "execution_count": null,
   "metadata": {},
   "outputs": [],
   "source": [
    "group_a_mean = group_a.groupby('event_name')['count'].mean().reset_index().round(3)\n",
    "group_b_mean = group_b.groupby('event_name')['count'].mean().reset_index().round(3)"
   ]
  },
  {
   "cell_type": "code",
   "execution_count": null,
   "metadata": {},
   "outputs": [],
   "source": [
    "group_a_mean"
   ]
  },
  {
   "cell_type": "code",
   "execution_count": null,
   "metadata": {},
   "outputs": [],
   "source": [
    "group_b_mean"
   ]
  },
  {
   "cell_type": "code",
   "execution_count": null,
   "metadata": {
    "scrolled": true
   },
   "outputs": [],
   "source": [
    "fig = go.Figure(\n",
    "        data = [\n",
    "            go.Bar(name = 'Group - A', \n",
    "                   x = group_a_mean.event_name.to_list(),\n",
    "                   y = group_a_mean['count'].to_list(),\n",
    "                   text = group_a_mean['count'].to_list(),\n",
    "                   textposition = 'auto'),\n",
    "\n",
    "            go.Bar(name = 'Group - B', \n",
    "                   x = group_b_mean.event_name.to_list(),\n",
    "                   y = group_b_mean['count'].to_list(),\n",
    "                   text = group_b_mean['count'].to_list(),\n",
    "                   textposition = 'auto')\n",
    "])\n",
    "\n",
    "fig.update_layout(title = 'Количество событий на пользователя',\n",
    "                  xaxis_title = 'Наименование события',\n",
    "                  yaxis_title = 'Количество событий')\n",
    "fig.show()"
   ]
  },
  {
   "cell_type": "code",
   "execution_count": null,
   "metadata": {},
   "outputs": [],
   "source": [
    "a = final_ab_df.query('group == \"A\"').groupby('user_id')['event_name'].count().reset_index()\n",
    "b = final_ab_df.query('group == \"B\"').groupby('user_id')['event_name'].count().reset_index()"
   ]
  },
  {
   "cell_type": "code",
   "execution_count": null,
   "metadata": {
    "scrolled": true
   },
   "outputs": [],
   "source": [
    "a.describe()"
   ]
  },
  {
   "cell_type": "code",
   "execution_count": null,
   "metadata": {},
   "outputs": [],
   "source": [
    "b.describe()"
   ]
  },
  {
   "cell_type": "code",
   "execution_count": null,
   "metadata": {},
   "outputs": [],
   "source": [
    "plt.figure(figsize = (15,5))\n",
    "sns.distplot(a['event_name'], label = 'A', kde=False)\n",
    "sns.distplot(b['event_name'], label = 'B', kde=False)\n",
    "plt.title('Распределение событий на каждого пользователя относительно группы')\n",
    "plt.ylabel('Количество пользователей')\n",
    "plt.xlabel('Количество событий')\n",
    "plt.legend()\n",
    "plt.show()"
   ]
  },
  {
   "cell_type": "code",
   "execution_count": null,
   "metadata": {},
   "outputs": [],
   "source": [
    "df_1 = final_ab_df.groupby('user_id').agg(count = ('event_name', 'count')).reset_index()\n",
    "df_1 = df_1.merge(final_ab_df, how='left', on='user_id')[['user_id', 'count', 'group']]\n",
    "df_1.describe()"
   ]
  },
  {
   "cell_type": "code",
   "execution_count": null,
   "metadata": {},
   "outputs": [],
   "source": [
    "plt.figure(figsize=(15,5))\n",
    "plt.title('Распределение событий на пользователя относительно групп')\n",
    "sns.distplot(df_1.query('group == \"A\"')['count'], label='A', kde=False)\n",
    "sns.distplot(df_1.query('group == \"B\"')['count'], label='B', kde=False)\n",
    "plt.legend()\n",
    "plt.ylabel('Количество пользователей')\n",
    "plt.xlabel('Количество событий')\n",
    "plt.show()"
   ]
  },
  {
   "cell_type": "markdown",
   "metadata": {},
   "source": [
    "Теперь взглянем на распределение событий внутри групп"
   ]
  },
  {
   "cell_type": "code",
   "execution_count": null,
   "metadata": {},
   "outputs": [],
   "source": [
    "fig = px.bar(final_ab_df.groupby(['group', 'event_name'])['user_id'].nunique().reset_index(),\n",
    "             x = 'group',\n",
    "             y = 'user_id',\n",
    "             text = 'user_id',\n",
    "             color = 'event_name'\n",
    "            )\n",
    "\n",
    "fig.update_layout(title = 'Распределение событий внутри групп А и В',\n",
    "                  xaxis_title = 'Группа',\n",
    "                  yaxis_title = 'Количество событий',\n",
    "                  width = 700,\n",
    "                  height = 600)\n",
    "fig.show()"
   ]
  },
  {
   "cell_type": "markdown",
   "metadata": {},
   "source": [
    "**Промежуточный итог:**\n",
    "\n",
    "- События в группах А и В распределены не одинаково. По всему видно, что и среднее и медианное количество событий больше в группе A. И в целом, у группы А гораздо больше событий чем у пользователей из группы В"
   ]
  },
  {
   "cell_type": "markdown",
   "metadata": {},
   "source": [
    "### Как число событий в выборках распределено по дням?"
   ]
  },
  {
   "cell_type": "code",
   "execution_count": null,
   "metadata": {
    "scrolled": true
   },
   "outputs": [],
   "source": [
    "final_ab_df['dt'] = final_ab_df['event_dt'].dt.date\n",
    "event_per_day = final_ab_df.groupby(['dt', 'group'])['event_name'].count().reset_index()\n",
    "event_per_day = event_per_day.rename(columns={'event_name':'events'})\n",
    "event_per_day.head(6)"
   ]
  },
  {
   "cell_type": "code",
   "execution_count": null,
   "metadata": {},
   "outputs": [],
   "source": [
    "plt.figure(figsize = (15, 5))\n",
    "sns.lineplot(x = 'dt', y = 'events', data=event_per_day.query('group == \"A\"'), label = 'A')\n",
    "sns.lineplot(x = 'dt', y = 'events', data=event_per_day.query('group == \"B\"'), label = 'B')\n",
    "plt.title('Распределение событий в выборках по дням')\n",
    "plt.xlabel('День')\n",
    "plt.ylabel('Количество событий')\n",
    "plt.legend()\n",
    "plt.show()"
   ]
  },
  {
   "cell_type": "markdown",
   "metadata": {},
   "source": [
    "**Промежуточный итог:**\n",
    "\n",
    "- По дням данные распределены не равномерно. Особенно сильно отличается группа А имея достаточно сильные взлёты показателя 13 декабря (примерно 1 100 событий) и 21 декабря(примерно 2 000 событий), хотя до этого держались в районе 300 и 1300 событий соответсвенно.\n",
    "- Группа В на фоне своих товарищей по тестам выглядят куда более стабильными. Их события на протяжении всего периода колышатся в диапазоне примерно от 100 событий до 400 событий"
   ]
  },
  {
   "cell_type": "markdown",
   "metadata": {},
   "source": [
    "### Как меняется конверсия в воронке в выборках на разных этапах?"
   ]
  },
  {
   "cell_type": "code",
   "execution_count": null,
   "metadata": {},
   "outputs": [],
   "source": [
    "final_ab_df['event_name'].value_counts()"
   ]
  },
  {
   "cell_type": "markdown",
   "metadata": {},
   "source": [
    "Исходя из количества событий, воронка имеет следующий вид login -> product_page -> purchase -> product_cart. Что довольно странно, но видимо у пользователей была возможность совершать покупку не переходя в корзину, оттого так и живём"
   ]
  },
  {
   "cell_type": "markdown",
   "metadata": {},
   "source": [
    "Сделаем 2 группировки по А и В группам и посмотрим конверсию уникальных пользователей на каждом этапе"
   ]
  },
  {
   "cell_type": "code",
   "execution_count": null,
   "metadata": {},
   "outputs": [],
   "source": [
    "# создадим воронку для группы А\n",
    "funnel_group_A = final_ab_df.query('group ==\"A\"')\n",
    "funnel_group_A = funnel_group_A.groupby(['event_name'])['user_id']\\\n",
    "                .nunique().reset_index().sort_values(by = 'user_id', ascending=False)\n",
    "\n",
    "\n",
    "# создадим воронку для группы B\n",
    "funnel_group_B = final_ab_df.query('group ==\"B\"')\n",
    "funnel_group_B = funnel_group_B.groupby(['event_name'])['user_id']\\\n",
    "                .nunique().reset_index().sort_values(by = 'user_id', ascending=False)"
   ]
  },
  {
   "cell_type": "markdown",
   "metadata": {},
   "source": [
    "Визуализируем воронку событий."
   ]
  },
  {
   "cell_type": "code",
   "execution_count": null,
   "metadata": {},
   "outputs": [],
   "source": [
    "fig = go.Figure()\n",
    "new_index = [0,2,1,3]\n",
    "funnel_group_A = funnel_group_A.reindex(new_index)\n",
    "new_index = [0,2,1,3]\n",
    "funnel_group_B = funnel_group_B.reindex(new_index)\n",
    "\n",
    "fig.add_trace(go.Funnel(\n",
    "    name = 'group A',\n",
    "    y = funnel_group_A['event_name'],\n",
    "    x = funnel_group_A['user_id'],\n",
    "    textinfo = \"value+percent previous + percent initial\"\n",
    "    ))\n",
    "\n",
    "fig.add_trace(go.Funnel(\n",
    "    name = 'group B',\n",
    "    y = funnel_group_B['event_name'],\n",
    "    x = funnel_group_B['user_id'],\n",
    "    textinfo = \"value+percent previous + percent initial\"\n",
    "    ))\n",
    "fig.update_layout(\n",
    "    title = {\n",
    "        'text': \"Воронка событий по группам А и В\"})\n",
    "fig.show()"
   ]
  },
  {
   "cell_type": "markdown",
   "metadata": {},
   "source": [
    "Воронка группы А\n",
    "\n",
    "100.0% -> 64.8% -> 30% -> 31.7%\n",
    "\n",
    "Воронка группы В\n",
    "\n",
    "100.0% -> 56.4% -> 27.5% -> 27.6%\n",
    "\n",
    "Согласно ТЗ за 14 дней с момента регистрации, пользователи должны были показать улучшение каждой метрики не менее чем на 10%. Но ТЗ, это ТЗ, а у реальности нету чёткого ТЗ"
   ]
  },
  {
   "cell_type": "markdown",
   "metadata": {},
   "source": [
    "### Какие особенности данных нужно учесть, прежде чем приступать к A/B-тестированию?"
   ]
  },
  {
   "cell_type": "markdown",
   "metadata": {},
   "source": [
    "Нужно определить конкретную цель, которую хотите достичь путём тестирования; разработать и проверить рабочие гипотезы; правильно рассмотреть размеры выборки(а не как в этот раз); определить наилучшие даты тестирования (чтобы не совпадали с маркетинговыми компаниями например); выбрать подходящие метрики; и проанализировать результаты тестирования"
   ]
  },
  {
   "cell_type": "markdown",
   "metadata": {},
   "source": [
    "## Оценим результаты А/В-тестирования."
   ]
  },
  {
   "cell_type": "markdown",
   "metadata": {},
   "source": [
    "### Что можно сказать про результаты A/В-тестирования?"
   ]
  },
  {
   "cell_type": "markdown",
   "metadata": {},
   "source": [
    "Допущены множественные ошибки при проведении теста, халатно не соблюдено собственное ТЗ. Доверять результатам данного А/B теста не стоит"
   ]
  },
  {
   "cell_type": "markdown",
   "metadata": {},
   "source": [
    "### Проверим статистическую разницу долей z-критерием"
   ]
  },
  {
   "cell_type": "markdown",
   "metadata": {},
   "source": [
    "Сформулируем нулевую и альтернативную гипотезы:\n",
    "- H0 - между группами А и В нет различий в конверсии;\n",
    "- Н1 - между группами А и В есть различие в конверсии;"
   ]
  },
  {
   "cell_type": "markdown",
   "metadata": {},
   "source": [
    "Сделаем сводную таблицу по группам и количеству событий на каждую из двух групп пользователей"
   ]
  },
  {
   "cell_type": "code",
   "execution_count": null,
   "metadata": {},
   "outputs": [],
   "source": [
    "ab_group_events = (\n",
    "    final_ab_df.pivot_table(\n",
    "    index = 'event_name',\n",
    "    columns = 'group',\n",
    "    values = 'user_id',\n",
    "    aggfunc = 'nunique')\n",
    "    .sort_values(by = 'A', ascending=False).reset_index()\n",
    ")\n",
    "ab_group_events"
   ]
  },
  {
   "cell_type": "code",
   "execution_count": null,
   "metadata": {},
   "outputs": [],
   "source": [
    "group_users = final_ab_df.groupby('group')['user_id'].nunique()\n",
    "group_users"
   ]
  },
  {
   "cell_type": "markdown",
   "metadata": {},
   "source": [
    "Воспользуемся z-критерием по долям для написания функции, которую используем относительно событий в наших группах"
   ]
  },
  {
   "cell_type": "code",
   "execution_count": null,
   "metadata": {},
   "outputs": [],
   "source": [
    "def z_test(group_A, group_B, alpha=0.05):\n",
    "    for i in ab_group_events.index:\n",
    "        p1 = ab_group_events[group_A][i] / group_users[group_A]\n",
    "        p2 = ab_group_events[group_B][i] / group_users[group_B]\n",
    "        \n",
    "        print(ab_group_events[group_A][i], ab_group_events[group_B][i], group_users[group_A],group_users[group_B] )\n",
    "        \n",
    "        p_combined = (ab_group_events[group_A][i] + ab_group_events[group_B][i]) / (group_users[group_A] + group_users[group_B])\n",
    "        difference = p1 - p2\n",
    "        z_value = difference / mth.sqrt(p_combined * (1 - p_combined) * (1 / group_users[group_A] + 1 / group_users[group_B]))\n",
    "        \n",
    "        distr = st.norm(0, 1)\n",
    "        p_value = (1 - distr.cdf(abs(z_value))) * 2\n",
    "        \n",
    "        print('{} p-value: {}'.format(ab_group_events['event_name'][i], p_value))\n",
    "        if (p_value < alpha):\n",
    "            print('Отвергаем нулевую гипотезу, между выборками есть статистически значимые различия')\n",
    "        else:\n",
    "            print('Не получилось отвергнуть нулевую гипотезу, статистически значимых различий в выборках нет')"
   ]
  },
  {
   "cell_type": "code",
   "execution_count": null,
   "metadata": {
    "scrolled": true
   },
   "outputs": [],
   "source": [
    "z_test('A', 'B')"
   ]
  },
  {
   "cell_type": "markdown",
   "metadata": {},
   "source": [
    "## Общий вывод"
   ]
  },
  {
   "cell_type": "markdown",
   "metadata": {},
   "source": [
    "- События в группах А и В распределены не одинаково. У группы А гораздо больше событий чем у пользователей из группы В. Возможно это произошло из за ошибок при формировании изначальной выборки. Но и в целом, группа А больше, что так же могло повлиять на результат в эту сторону.\n",
    "- Распределение событий по дням у группы В вполне стремится к нормальному. У группы А же имеются несколько выбросов, так что трудно сказать достоверно относительно нормальности распределения\n",
    "- Воронка группы А демонстрирует лучший показатель на последнем этапе по сравнению с группой В. Более того, ожидаемый результат в виде увеличения конверсии на не менее чем 10% по каждой метрике не оправдался\n",
    "- Корректность проведения данного теста вызывает сильные сомнения. Методология проведения А/В тестирования была нарушена, собственное ТЗ попрано. Как следствие, полученные для анализа данные оказались искажены, т.е. все результаты рассчётов не могут быть использованы для принятия решений"
   ]
  }
 ],
 "metadata": {
  "ExecuteTimeLog": [
   {
    "duration": 419,
    "start_time": "2022-12-25T17:24:15.905Z"
   },
   {
    "duration": 1806,
    "start_time": "2022-12-25T17:27:23.704Z"
   },
   {
    "duration": 3,
    "start_time": "2022-12-25T17:27:46.224Z"
   },
   {
    "duration": 3,
    "start_time": "2022-12-25T17:27:57.312Z"
   },
   {
    "duration": 3,
    "start_time": "2022-12-25T17:28:00.085Z"
   },
   {
    "duration": 4,
    "start_time": "2022-12-25T17:28:00.488Z"
   },
   {
    "duration": 3,
    "start_time": "2022-12-25T17:28:00.759Z"
   },
   {
    "duration": 51,
    "start_time": "2022-12-25T17:28:13.600Z"
   },
   {
    "duration": 175,
    "start_time": "2022-12-25T17:29:19.128Z"
   },
   {
    "duration": 294,
    "start_time": "2022-12-25T17:29:35.895Z"
   },
   {
    "duration": 67,
    "start_time": "2022-12-25T17:29:45.153Z"
   },
   {
    "duration": 6,
    "start_time": "2022-12-25T17:34:05.395Z"
   },
   {
    "duration": 5,
    "start_time": "2022-12-25T17:34:16.803Z"
   },
   {
    "duration": 10,
    "start_time": "2022-12-25T17:34:35.827Z"
   },
   {
    "duration": 5,
    "start_time": "2022-12-25T17:37:53.737Z"
   },
   {
    "duration": 12,
    "start_time": "2022-12-25T17:38:03.881Z"
   },
   {
    "duration": 14,
    "start_time": "2022-12-25T17:38:08.697Z"
   },
   {
    "duration": 17,
    "start_time": "2022-12-25T17:41:21.714Z"
   },
   {
    "duration": 34,
    "start_time": "2022-12-25T17:41:27.782Z"
   },
   {
    "duration": 19,
    "start_time": "2022-12-25T17:42:45.655Z"
   },
   {
    "duration": 10,
    "start_time": "2022-12-25T17:43:04.912Z"
   },
   {
    "duration": 9,
    "start_time": "2022-12-25T17:44:13.067Z"
   },
   {
    "duration": 19,
    "start_time": "2022-12-25T17:44:17.635Z"
   },
   {
    "duration": 13,
    "start_time": "2022-12-25T17:44:55.371Z"
   },
   {
    "duration": 53,
    "start_time": "2022-12-25T17:44:59.291Z"
   },
   {
    "duration": 18,
    "start_time": "2022-12-25T17:45:34.538Z"
   },
   {
    "duration": 11,
    "start_time": "2022-12-25T17:45:39.586Z"
   },
   {
    "duration": 17,
    "start_time": "2022-12-25T17:45:54.818Z"
   },
   {
    "duration": 9,
    "start_time": "2022-12-25T17:46:01.009Z"
   },
   {
    "duration": 1162,
    "start_time": "2022-12-25T17:46:08.921Z"
   },
   {
    "duration": 10,
    "start_time": "2022-12-25T17:46:17.298Z"
   },
   {
    "duration": 7,
    "start_time": "2022-12-25T17:46:21.958Z"
   },
   {
    "duration": 59,
    "start_time": "2022-12-25T17:49:20.447Z"
   },
   {
    "duration": 66,
    "start_time": "2022-12-25T17:49:48.791Z"
   },
   {
    "duration": 12,
    "start_time": "2022-12-25T17:49:53.591Z"
   },
   {
    "duration": 282,
    "start_time": "2022-12-25T17:52:03.661Z"
   },
   {
    "duration": 45,
    "start_time": "2022-12-25T18:02:42.482Z"
   },
   {
    "duration": 403,
    "start_time": "2022-12-25T18:02:45.338Z"
   },
   {
    "duration": 1300,
    "start_time": "2022-12-25T18:02:45.743Z"
   },
   {
    "duration": 3,
    "start_time": "2022-12-25T18:02:47.045Z"
   },
   {
    "duration": 45,
    "start_time": "2022-12-25T18:02:47.049Z"
   },
   {
    "duration": 118,
    "start_time": "2022-12-25T18:02:47.096Z"
   },
   {
    "duration": 241,
    "start_time": "2022-12-25T18:02:47.216Z"
   },
   {
    "duration": 61,
    "start_time": "2022-12-25T18:02:47.459Z"
   },
   {
    "duration": 5,
    "start_time": "2022-12-25T18:02:47.522Z"
   },
   {
    "duration": 6,
    "start_time": "2022-12-25T18:02:47.529Z"
   },
   {
    "duration": 6,
    "start_time": "2022-12-25T18:02:47.537Z"
   },
   {
    "duration": 14,
    "start_time": "2022-12-25T18:02:47.544Z"
   },
   {
    "duration": 57,
    "start_time": "2022-12-25T18:02:47.559Z"
   },
   {
    "duration": 12,
    "start_time": "2022-12-25T18:02:47.617Z"
   },
   {
    "duration": 48,
    "start_time": "2022-12-25T18:02:47.631Z"
   },
   {
    "duration": 244,
    "start_time": "2022-12-25T18:02:47.681Z"
   },
   {
    "duration": 50,
    "start_time": "2022-12-25T18:02:47.926Z"
   },
   {
    "duration": 64,
    "start_time": "2022-12-25T18:02:47.977Z"
   },
   {
    "duration": 52,
    "start_time": "2022-12-25T18:02:55.065Z"
   },
   {
    "duration": 434,
    "start_time": "2022-12-25T18:03:57.918Z"
   },
   {
    "duration": 938,
    "start_time": "2022-12-25T18:03:58.354Z"
   },
   {
    "duration": 3,
    "start_time": "2022-12-25T18:03:59.296Z"
   },
   {
    "duration": 59,
    "start_time": "2022-12-25T18:03:59.301Z"
   },
   {
    "duration": 135,
    "start_time": "2022-12-25T18:03:59.362Z"
   },
   {
    "duration": 259,
    "start_time": "2022-12-25T18:03:59.498Z"
   },
   {
    "duration": 73,
    "start_time": "2022-12-25T18:03:59.759Z"
   },
   {
    "duration": 5,
    "start_time": "2022-12-25T18:03:59.834Z"
   },
   {
    "duration": 7,
    "start_time": "2022-12-25T18:03:59.840Z"
   },
   {
    "duration": 6,
    "start_time": "2022-12-25T18:03:59.848Z"
   },
   {
    "duration": 17,
    "start_time": "2022-12-25T18:03:59.856Z"
   },
   {
    "duration": 53,
    "start_time": "2022-12-25T18:03:59.874Z"
   },
   {
    "duration": 12,
    "start_time": "2022-12-25T18:03:59.929Z"
   },
   {
    "duration": 48,
    "start_time": "2022-12-25T18:03:59.944Z"
   },
   {
    "duration": 278,
    "start_time": "2022-12-25T18:04:00.013Z"
   },
   {
    "duration": 55,
    "start_time": "2022-12-25T18:04:00.293Z"
   },
   {
    "duration": 4,
    "start_time": "2022-12-25T18:04:00.350Z"
   },
   {
    "duration": 90,
    "start_time": "2022-12-25T18:04:18.081Z"
   },
   {
    "duration": 38,
    "start_time": "2022-12-25T18:04:19.729Z"
   },
   {
    "duration": 9,
    "start_time": "2022-12-25T18:05:23.626Z"
   },
   {
    "duration": 11,
    "start_time": "2022-12-25T18:05:32.279Z"
   },
   {
    "duration": 8,
    "start_time": "2022-12-25T18:05:35.583Z"
   },
   {
    "duration": 10,
    "start_time": "2022-12-25T18:05:48.792Z"
   },
   {
    "duration": 6,
    "start_time": "2022-12-25T18:06:15.911Z"
   },
   {
    "duration": 9,
    "start_time": "2022-12-25T18:24:50.714Z"
   },
   {
    "duration": 8,
    "start_time": "2022-12-25T18:24:57.224Z"
   },
   {
    "duration": 10,
    "start_time": "2022-12-25T18:28:00.598Z"
   },
   {
    "duration": 8,
    "start_time": "2022-12-25T18:31:04.235Z"
   },
   {
    "duration": 8,
    "start_time": "2022-12-25T18:31:08.651Z"
   },
   {
    "duration": 52,
    "start_time": "2022-12-25T18:43:36.777Z"
   },
   {
    "duration": 362,
    "start_time": "2022-12-25T18:43:41.129Z"
   },
   {
    "duration": 1305,
    "start_time": "2022-12-25T18:43:41.492Z"
   },
   {
    "duration": 7,
    "start_time": "2022-12-25T18:43:42.799Z"
   },
   {
    "duration": 46,
    "start_time": "2022-12-25T18:43:42.808Z"
   },
   {
    "duration": 130,
    "start_time": "2022-12-25T18:43:42.856Z"
   },
   {
    "duration": 302,
    "start_time": "2022-12-25T18:43:42.987Z"
   },
   {
    "duration": 50,
    "start_time": "2022-12-25T18:43:43.298Z"
   },
   {
    "duration": 5,
    "start_time": "2022-12-25T18:43:43.349Z"
   },
   {
    "duration": 6,
    "start_time": "2022-12-25T18:43:43.355Z"
   },
   {
    "duration": 5,
    "start_time": "2022-12-25T18:43:43.363Z"
   },
   {
    "duration": 54,
    "start_time": "2022-12-25T18:43:43.369Z"
   },
   {
    "duration": 26,
    "start_time": "2022-12-25T18:43:43.424Z"
   },
   {
    "duration": 10,
    "start_time": "2022-12-25T18:43:43.452Z"
   },
   {
    "duration": 67,
    "start_time": "2022-12-25T18:43:43.463Z"
   },
   {
    "duration": 249,
    "start_time": "2022-12-25T18:43:43.531Z"
   },
   {
    "duration": 98,
    "start_time": "2022-12-25T18:43:43.781Z"
   },
   {
    "duration": 20,
    "start_time": "2022-12-25T18:43:43.880Z"
   },
   {
    "duration": 25,
    "start_time": "2022-12-25T18:43:43.902Z"
   },
   {
    "duration": 9,
    "start_time": "2022-12-25T18:43:43.929Z"
   },
   {
    "duration": 20,
    "start_time": "2022-12-25T18:43:43.939Z"
   },
   {
    "duration": 883,
    "start_time": "2022-12-25T18:43:43.960Z"
   },
   {
    "duration": 13,
    "start_time": "2022-12-25T18:43:58.632Z"
   },
   {
    "duration": 16,
    "start_time": "2022-12-25T18:44:08.408Z"
   },
   {
    "duration": 28,
    "start_time": "2022-12-25T18:44:12.751Z"
   },
   {
    "duration": 12,
    "start_time": "2022-12-25T18:44:18.232Z"
   },
   {
    "duration": 2,
    "start_time": "2022-12-25T18:45:27.575Z"
   },
   {
    "duration": 5,
    "start_time": "2022-12-25T18:46:28.830Z"
   },
   {
    "duration": 5,
    "start_time": "2022-12-25T18:46:31.286Z"
   },
   {
    "duration": 6,
    "start_time": "2022-12-25T18:46:45.932Z"
   },
   {
    "duration": 11,
    "start_time": "2022-12-25T18:46:54.750Z"
   },
   {
    "duration": 31,
    "start_time": "2022-12-25T18:47:08.446Z"
   },
   {
    "duration": 40,
    "start_time": "2022-12-25T18:47:14.750Z"
   },
   {
    "duration": 29,
    "start_time": "2022-12-25T18:47:18.965Z"
   },
   {
    "duration": 16,
    "start_time": "2022-12-25T18:47:48.407Z"
   },
   {
    "duration": 789,
    "start_time": "2022-12-25T18:48:12.876Z"
   },
   {
    "duration": 10,
    "start_time": "2022-12-25T18:48:13.728Z"
   },
   {
    "duration": 843,
    "start_time": "2022-12-25T18:48:52.283Z"
   },
   {
    "duration": 789,
    "start_time": "2022-12-25T18:49:07.444Z"
   },
   {
    "duration": 14,
    "start_time": "2022-12-25T18:49:08.892Z"
   },
   {
    "duration": 15,
    "start_time": "2022-12-25T18:49:19.803Z"
   },
   {
    "duration": 822,
    "start_time": "2022-12-25T18:49:39.611Z"
   },
   {
    "duration": 883,
    "start_time": "2022-12-25T18:49:54.044Z"
   },
   {
    "duration": 808,
    "start_time": "2022-12-25T18:50:00.116Z"
   },
   {
    "duration": 9,
    "start_time": "2022-12-25T18:52:41.246Z"
   },
   {
    "duration": 13,
    "start_time": "2022-12-25T18:52:53.240Z"
   },
   {
    "duration": 10,
    "start_time": "2022-12-25T18:53:09.057Z"
   },
   {
    "duration": 794,
    "start_time": "2022-12-25T18:53:20.835Z"
   },
   {
    "duration": 12,
    "start_time": "2022-12-25T18:53:22.984Z"
   },
   {
    "duration": 803,
    "start_time": "2022-12-25T18:53:39.649Z"
   },
   {
    "duration": 11,
    "start_time": "2022-12-25T18:53:41.568Z"
   },
   {
    "duration": 816,
    "start_time": "2022-12-25T18:53:53.368Z"
   },
   {
    "duration": 792,
    "start_time": "2022-12-25T18:54:02.529Z"
   },
   {
    "duration": 9,
    "start_time": "2022-12-25T18:55:33.439Z"
   },
   {
    "duration": 38,
    "start_time": "2022-12-25T18:55:39.566Z"
   },
   {
    "duration": 7,
    "start_time": "2022-12-25T18:57:33.966Z"
   },
   {
    "duration": 5,
    "start_time": "2022-12-25T19:01:10.762Z"
   },
   {
    "duration": 20,
    "start_time": "2022-12-25T19:01:13.490Z"
   },
   {
    "duration": 13,
    "start_time": "2022-12-25T19:01:19.708Z"
   },
   {
    "duration": 12,
    "start_time": "2022-12-25T19:05:57.538Z"
   },
   {
    "duration": 4,
    "start_time": "2022-12-25T19:06:47.911Z"
   },
   {
    "duration": 5,
    "start_time": "2022-12-25T19:07:00.269Z"
   },
   {
    "duration": 14,
    "start_time": "2022-12-25T19:09:27.979Z"
   },
   {
    "duration": 15,
    "start_time": "2022-12-25T19:09:45.747Z"
   },
   {
    "duration": 12,
    "start_time": "2022-12-25T19:09:58.555Z"
   },
   {
    "duration": 19,
    "start_time": "2022-12-25T19:10:17.066Z"
   },
   {
    "duration": 19,
    "start_time": "2022-12-25T19:10:23.778Z"
   },
   {
    "duration": 16,
    "start_time": "2022-12-25T19:10:26.363Z"
   },
   {
    "duration": 4,
    "start_time": "2022-12-25T19:10:35.298Z"
   },
   {
    "duration": 14,
    "start_time": "2022-12-25T19:11:51.730Z"
   },
   {
    "duration": 7,
    "start_time": "2022-12-25T19:12:34.441Z"
   },
   {
    "duration": 7,
    "start_time": "2022-12-25T19:15:35.638Z"
   },
   {
    "duration": 7,
    "start_time": "2022-12-25T19:15:40.861Z"
   },
   {
    "duration": 12,
    "start_time": "2022-12-25T19:17:34.671Z"
   },
   {
    "duration": 4,
    "start_time": "2022-12-25T19:17:58.692Z"
   },
   {
    "duration": 4,
    "start_time": "2022-12-25T19:20:06.035Z"
   },
   {
    "duration": 3,
    "start_time": "2022-12-25T19:25:27.758Z"
   },
   {
    "duration": 5,
    "start_time": "2022-12-25T19:25:34.634Z"
   },
   {
    "duration": 3,
    "start_time": "2022-12-25T19:25:46.338Z"
   },
   {
    "duration": 4,
    "start_time": "2022-12-25T19:26:20.136Z"
   },
   {
    "duration": 3,
    "start_time": "2022-12-25T19:32:39.926Z"
   },
   {
    "duration": 3,
    "start_time": "2022-12-25T19:32:47.368Z"
   },
   {
    "duration": 47,
    "start_time": "2022-12-25T19:32:53.963Z"
   },
   {
    "duration": 40,
    "start_time": "2022-12-25T19:32:56.448Z"
   },
   {
    "duration": 3,
    "start_time": "2022-12-25T19:33:03.041Z"
   },
   {
    "duration": 3,
    "start_time": "2022-12-25T19:33:04.920Z"
   },
   {
    "duration": 15,
    "start_time": "2022-12-25T19:35:17.828Z"
   },
   {
    "duration": 18,
    "start_time": "2022-12-25T19:37:46.052Z"
   },
   {
    "duration": 30,
    "start_time": "2022-12-25T19:38:25.060Z"
   },
   {
    "duration": 28,
    "start_time": "2022-12-25T19:38:31.043Z"
   },
   {
    "duration": 15,
    "start_time": "2022-12-25T19:47:38.353Z"
   },
   {
    "duration": 18,
    "start_time": "2022-12-25T19:47:40.476Z"
   },
   {
    "duration": 18,
    "start_time": "2022-12-25T19:47:55.337Z"
   },
   {
    "duration": 12,
    "start_time": "2022-12-25T19:48:31.491Z"
   },
   {
    "duration": 6,
    "start_time": "2022-12-25T19:51:09.281Z"
   },
   {
    "duration": 6,
    "start_time": "2022-12-25T19:52:01.039Z"
   },
   {
    "duration": 5,
    "start_time": "2022-12-25T19:52:04.152Z"
   },
   {
    "duration": 6,
    "start_time": "2022-12-25T19:52:40.095Z"
   },
   {
    "duration": 24,
    "start_time": "2022-12-25T19:53:52.534Z"
   },
   {
    "duration": 6,
    "start_time": "2022-12-25T19:54:11.951Z"
   },
   {
    "duration": 26,
    "start_time": "2022-12-25T19:54:12.568Z"
   },
   {
    "duration": 6,
    "start_time": "2022-12-25T19:54:47.774Z"
   },
   {
    "duration": 21,
    "start_time": "2022-12-25T19:55:15.256Z"
   },
   {
    "duration": 14,
    "start_time": "2022-12-25T19:55:25.662Z"
   },
   {
    "duration": 48,
    "start_time": "2022-12-25T19:55:34.981Z"
   },
   {
    "duration": 13,
    "start_time": "2022-12-25T19:55:37.345Z"
   },
   {
    "duration": 17,
    "start_time": "2022-12-25T19:56:11.951Z"
   },
   {
    "duration": 13,
    "start_time": "2022-12-25T19:56:17.485Z"
   },
   {
    "duration": 18,
    "start_time": "2022-12-25T19:57:01.005Z"
   },
   {
    "duration": 18,
    "start_time": "2022-12-25T19:57:03.693Z"
   },
   {
    "duration": 7,
    "start_time": "2022-12-25T20:00:12.498Z"
   },
   {
    "duration": 10,
    "start_time": "2022-12-25T20:00:57.041Z"
   },
   {
    "duration": 15,
    "start_time": "2022-12-25T20:01:37.489Z"
   },
   {
    "duration": 7,
    "start_time": "2022-12-25T20:04:11.847Z"
   },
   {
    "duration": 10,
    "start_time": "2022-12-25T20:06:01.446Z"
   },
   {
    "duration": 9,
    "start_time": "2022-12-25T20:06:04.445Z"
   },
   {
    "duration": 8,
    "start_time": "2022-12-25T20:06:10.757Z"
   },
   {
    "duration": 9,
    "start_time": "2022-12-25T20:06:45.093Z"
   },
   {
    "duration": 22,
    "start_time": "2022-12-25T20:06:47.981Z"
   },
   {
    "duration": 358,
    "start_time": "2022-12-25T20:07:06.640Z"
   },
   {
    "duration": 1250,
    "start_time": "2022-12-25T20:07:07.000Z"
   },
   {
    "duration": 3,
    "start_time": "2022-12-25T20:07:08.251Z"
   },
   {
    "duration": 50,
    "start_time": "2022-12-25T20:07:08.255Z"
   },
   {
    "duration": 128,
    "start_time": "2022-12-25T20:07:08.306Z"
   },
   {
    "duration": 274,
    "start_time": "2022-12-25T20:07:08.435Z"
   },
   {
    "duration": 48,
    "start_time": "2022-12-25T20:07:08.711Z"
   },
   {
    "duration": 5,
    "start_time": "2022-12-25T20:07:08.761Z"
   },
   {
    "duration": 32,
    "start_time": "2022-12-25T20:07:08.767Z"
   },
   {
    "duration": 6,
    "start_time": "2022-12-25T20:07:08.800Z"
   },
   {
    "duration": 18,
    "start_time": "2022-12-25T20:07:08.807Z"
   },
   {
    "duration": 27,
    "start_time": "2022-12-25T20:07:08.827Z"
   },
   {
    "duration": 11,
    "start_time": "2022-12-25T20:07:08.856Z"
   },
   {
    "duration": 78,
    "start_time": "2022-12-25T20:07:08.870Z"
   },
   {
    "duration": 242,
    "start_time": "2022-12-25T20:07:08.950Z"
   },
   {
    "duration": 85,
    "start_time": "2022-12-25T20:07:09.197Z"
   },
   {
    "duration": 18,
    "start_time": "2022-12-25T20:07:09.283Z"
   },
   {
    "duration": 44,
    "start_time": "2022-12-25T20:07:09.302Z"
   },
   {
    "duration": 30,
    "start_time": "2022-12-25T20:07:09.347Z"
   },
   {
    "duration": 12,
    "start_time": "2022-12-25T20:07:09.379Z"
   },
   {
    "duration": 824,
    "start_time": "2022-12-25T20:07:09.393Z"
   },
   {
    "duration": 10,
    "start_time": "2022-12-25T20:07:10.219Z"
   },
   {
    "duration": 5,
    "start_time": "2022-12-25T20:07:10.231Z"
   },
   {
    "duration": 21,
    "start_time": "2022-12-25T20:07:10.238Z"
   },
   {
    "duration": 47,
    "start_time": "2022-12-25T20:07:10.260Z"
   },
   {
    "duration": 6,
    "start_time": "2022-12-25T20:07:10.309Z"
   },
   {
    "duration": 16,
    "start_time": "2022-12-25T20:07:10.317Z"
   },
   {
    "duration": 11,
    "start_time": "2022-12-25T20:07:10.334Z"
   },
   {
    "duration": 12,
    "start_time": "2022-12-25T20:07:10.347Z"
   },
   {
    "duration": 42,
    "start_time": "2022-12-25T20:07:10.361Z"
   },
   {
    "duration": 18,
    "start_time": "2022-12-25T20:07:10.405Z"
   },
   {
    "duration": 12,
    "start_time": "2022-12-25T20:07:10.425Z"
   },
   {
    "duration": 9,
    "start_time": "2022-12-25T20:07:10.438Z"
   },
   {
    "duration": 12,
    "start_time": "2022-12-25T20:07:10.449Z"
   },
   {
    "duration": 31,
    "start_time": "2022-12-25T20:07:28.180Z"
   },
   {
    "duration": 164,
    "start_time": "2022-12-25T20:08:01.149Z"
   },
   {
    "duration": 12,
    "start_time": "2022-12-25T20:09:17.795Z"
   },
   {
    "duration": 17,
    "start_time": "2022-12-25T20:09:33.045Z"
   },
   {
    "duration": 17,
    "start_time": "2022-12-25T20:09:45.050Z"
   },
   {
    "duration": 17,
    "start_time": "2022-12-25T20:10:51.742Z"
   },
   {
    "duration": 21,
    "start_time": "2022-12-25T20:10:57.209Z"
   },
   {
    "duration": 70,
    "start_time": "2022-12-25T20:13:32.951Z"
   },
   {
    "duration": 7,
    "start_time": "2022-12-25T20:24:10.478Z"
   },
   {
    "duration": 16,
    "start_time": "2022-12-25T20:38:06.261Z"
   },
   {
    "duration": 10,
    "start_time": "2022-12-25T20:38:23.619Z"
   },
   {
    "duration": 16,
    "start_time": "2022-12-25T20:39:53.513Z"
   },
   {
    "duration": 17,
    "start_time": "2022-12-25T20:42:36.039Z"
   },
   {
    "duration": 19,
    "start_time": "2022-12-25T20:43:01.814Z"
   },
   {
    "duration": 26,
    "start_time": "2022-12-25T20:43:37.557Z"
   },
   {
    "duration": 18,
    "start_time": "2022-12-25T20:43:41.462Z"
   },
   {
    "duration": 23,
    "start_time": "2022-12-25T20:43:52.302Z"
   },
   {
    "duration": 21,
    "start_time": "2022-12-25T20:46:29.413Z"
   },
   {
    "duration": 354,
    "start_time": "2022-12-25T20:46:59.812Z"
   },
   {
    "duration": 490,
    "start_time": "2022-12-25T20:49:17.203Z"
   },
   {
    "duration": 24,
    "start_time": "2022-12-25T20:51:35.024Z"
   },
   {
    "duration": 345,
    "start_time": "2022-12-25T20:52:48.527Z"
   },
   {
    "duration": 199,
    "start_time": "2022-12-25T20:53:01.414Z"
   },
   {
    "duration": 193,
    "start_time": "2022-12-25T20:53:12.710Z"
   },
   {
    "duration": 187,
    "start_time": "2022-12-25T20:54:43.413Z"
   },
   {
    "duration": 1118,
    "start_time": "2022-12-25T20:54:56.672Z"
   },
   {
    "duration": 1207,
    "start_time": "2022-12-25T20:54:57.792Z"
   },
   {
    "duration": 5,
    "start_time": "2022-12-25T20:54:59.001Z"
   },
   {
    "duration": 53,
    "start_time": "2022-12-25T20:54:59.007Z"
   },
   {
    "duration": 160,
    "start_time": "2022-12-25T20:54:59.063Z"
   },
   {
    "duration": 286,
    "start_time": "2022-12-25T20:54:59.225Z"
   },
   {
    "duration": 50,
    "start_time": "2022-12-25T20:54:59.513Z"
   },
   {
    "duration": 5,
    "start_time": "2022-12-25T20:54:59.565Z"
   },
   {
    "duration": 28,
    "start_time": "2022-12-25T20:54:59.571Z"
   },
   {
    "duration": 6,
    "start_time": "2022-12-25T20:54:59.600Z"
   },
   {
    "duration": 18,
    "start_time": "2022-12-25T20:54:59.608Z"
   },
   {
    "duration": 37,
    "start_time": "2022-12-25T20:54:59.628Z"
   },
   {
    "duration": 36,
    "start_time": "2022-12-25T20:54:59.666Z"
   },
   {
    "duration": 54,
    "start_time": "2022-12-25T20:54:59.705Z"
   },
   {
    "duration": 284,
    "start_time": "2022-12-25T20:54:59.761Z"
   },
   {
    "duration": 114,
    "start_time": "2022-12-25T20:55:00.047Z"
   },
   {
    "duration": 12,
    "start_time": "2022-12-25T20:55:00.163Z"
   },
   {
    "duration": 29,
    "start_time": "2022-12-25T20:55:00.177Z"
   },
   {
    "duration": 18,
    "start_time": "2022-12-25T20:55:00.208Z"
   },
   {
    "duration": 24,
    "start_time": "2022-12-25T20:55:00.228Z"
   },
   {
    "duration": 37,
    "start_time": "2022-12-25T20:55:00.254Z"
   },
   {
    "duration": 17,
    "start_time": "2022-12-25T20:55:00.293Z"
   },
   {
    "duration": 55,
    "start_time": "2022-12-25T20:55:00.312Z"
   },
   {
    "duration": 25,
    "start_time": "2022-12-25T20:55:00.369Z"
   },
   {
    "duration": 23,
    "start_time": "2022-12-25T20:55:00.396Z"
   },
   {
    "duration": 54,
    "start_time": "2022-12-25T20:55:00.421Z"
   },
   {
    "duration": 54,
    "start_time": "2022-12-25T20:55:00.477Z"
   },
   {
    "duration": 60,
    "start_time": "2022-12-25T20:55:00.533Z"
   },
   {
    "duration": 47,
    "start_time": "2022-12-25T20:55:00.595Z"
   },
   {
    "duration": 246,
    "start_time": "2022-12-25T20:55:00.644Z"
   },
   {
    "duration": 17,
    "start_time": "2022-12-25T20:55:00.892Z"
   },
   {
    "duration": 38,
    "start_time": "2022-12-25T20:55:00.911Z"
   },
   {
    "duration": 95,
    "start_time": "2022-12-25T20:55:00.950Z"
   },
   {
    "duration": 6,
    "start_time": "2022-12-25T20:55:01.046Z"
   },
   {
    "duration": 54,
    "start_time": "2022-12-25T20:55:01.053Z"
   },
   {
    "duration": 287,
    "start_time": "2022-12-25T20:55:20.373Z"
   },
   {
    "duration": 244,
    "start_time": "2022-12-25T20:55:32.899Z"
   },
   {
    "duration": 218,
    "start_time": "2022-12-25T20:55:40.428Z"
   },
   {
    "duration": 267,
    "start_time": "2022-12-25T20:55:49.651Z"
   },
   {
    "duration": 215,
    "start_time": "2022-12-25T20:55:58.148Z"
   },
   {
    "duration": 225,
    "start_time": "2022-12-25T20:56:01.620Z"
   },
   {
    "duration": 25,
    "start_time": "2022-12-25T20:57:44.866Z"
   },
   {
    "duration": 23,
    "start_time": "2022-12-25T20:58:26.018Z"
   },
   {
    "duration": 13,
    "start_time": "2022-12-25T21:03:40.662Z"
   },
   {
    "duration": 28,
    "start_time": "2022-12-25T21:06:19.101Z"
   },
   {
    "duration": 24,
    "start_time": "2022-12-25T21:06:42.707Z"
   },
   {
    "duration": 19,
    "start_time": "2022-12-25T21:07:31.904Z"
   },
   {
    "duration": 24,
    "start_time": "2022-12-25T21:07:53.266Z"
   },
   {
    "duration": 20,
    "start_time": "2022-12-25T21:08:28.449Z"
   },
   {
    "duration": 22,
    "start_time": "2022-12-25T21:08:39.859Z"
   },
   {
    "duration": 25,
    "start_time": "2022-12-25T21:08:44.521Z"
   },
   {
    "duration": 18,
    "start_time": "2022-12-25T21:09:03.457Z"
   },
   {
    "duration": 5,
    "start_time": "2022-12-25T21:10:15.398Z"
   },
   {
    "duration": 6,
    "start_time": "2022-12-25T21:10:18.432Z"
   },
   {
    "duration": 10,
    "start_time": "2022-12-25T21:10:36.383Z"
   },
   {
    "duration": 11,
    "start_time": "2022-12-25T21:10:40.807Z"
   },
   {
    "duration": 11,
    "start_time": "2022-12-25T21:11:37.959Z"
   },
   {
    "duration": 11,
    "start_time": "2022-12-25T21:11:39.639Z"
   },
   {
    "duration": 10,
    "start_time": "2022-12-25T21:11:57.183Z"
   },
   {
    "duration": 10,
    "start_time": "2022-12-25T21:12:11.854Z"
   },
   {
    "duration": 10,
    "start_time": "2022-12-25T21:14:50.836Z"
   },
   {
    "duration": 4,
    "start_time": "2022-12-25T21:15:05.300Z"
   },
   {
    "duration": 226,
    "start_time": "2022-12-25T21:15:10.699Z"
   },
   {
    "duration": 10,
    "start_time": "2022-12-25T21:15:21.541Z"
   },
   {
    "duration": 10,
    "start_time": "2022-12-25T21:17:28.356Z"
   },
   {
    "duration": 19,
    "start_time": "2022-12-25T21:17:52.191Z"
   },
   {
    "duration": 10,
    "start_time": "2022-12-25T21:18:05.904Z"
   },
   {
    "duration": 48,
    "start_time": "2022-12-25T21:19:02.129Z"
   },
   {
    "duration": 10,
    "start_time": "2022-12-25T21:19:15.168Z"
   },
   {
    "duration": 10,
    "start_time": "2022-12-25T21:19:18.617Z"
   },
   {
    "duration": 10,
    "start_time": "2022-12-25T21:19:22.113Z"
   },
   {
    "duration": 9,
    "start_time": "2022-12-25T21:19:30.865Z"
   },
   {
    "duration": 68,
    "start_time": "2022-12-25T21:21:28.262Z"
   },
   {
    "duration": 17,
    "start_time": "2022-12-25T21:22:09.182Z"
   },
   {
    "duration": 10,
    "start_time": "2022-12-25T21:22:42.110Z"
   },
   {
    "duration": 56,
    "start_time": "2022-12-25T21:25:17.814Z"
   },
   {
    "duration": 210,
    "start_time": "2022-12-25T21:25:26.123Z"
   },
   {
    "duration": 59,
    "start_time": "2022-12-25T21:25:47.716Z"
   },
   {
    "duration": 55,
    "start_time": "2022-12-25T21:26:14.059Z"
   },
   {
    "duration": 58,
    "start_time": "2022-12-25T21:26:16.611Z"
   },
   {
    "duration": 55,
    "start_time": "2022-12-25T21:26:28.388Z"
   },
   {
    "duration": 95,
    "start_time": "2022-12-25T21:26:45.116Z"
   },
   {
    "duration": 67,
    "start_time": "2022-12-25T21:27:49.707Z"
   },
   {
    "duration": 57,
    "start_time": "2022-12-25T21:27:53.330Z"
   },
   {
    "duration": 56,
    "start_time": "2022-12-25T21:27:58.426Z"
   },
   {
    "duration": 147,
    "start_time": "2022-12-25T21:28:02.426Z"
   },
   {
    "duration": 55,
    "start_time": "2022-12-25T21:28:26.594Z"
   },
   {
    "duration": 57,
    "start_time": "2022-12-25T21:28:30.578Z"
   },
   {
    "duration": 58,
    "start_time": "2022-12-25T21:35:38.068Z"
   },
   {
    "duration": 19,
    "start_time": "2022-12-25T21:38:39.441Z"
   },
   {
    "duration": 8,
    "start_time": "2022-12-25T21:41:51.222Z"
   },
   {
    "duration": 11,
    "start_time": "2022-12-25T21:42:01.205Z"
   },
   {
    "duration": 57,
    "start_time": "2022-12-25T21:42:58.630Z"
   },
   {
    "duration": 58,
    "start_time": "2022-12-25T21:43:05.070Z"
   },
   {
    "duration": 3,
    "start_time": "2022-12-25T21:43:27.997Z"
   },
   {
    "duration": 58,
    "start_time": "2022-12-25T21:43:31.789Z"
   },
   {
    "duration": 23,
    "start_time": "2022-12-25T21:44:34.684Z"
   },
   {
    "duration": 54,
    "start_time": "2022-12-25T22:31:20.468Z"
   },
   {
    "duration": 7,
    "start_time": "2022-12-25T22:31:25.324Z"
   },
   {
    "duration": 2,
    "start_time": "2022-12-25T22:34:12.537Z"
   },
   {
    "duration": 20,
    "start_time": "2022-12-25T22:36:43.679Z"
   },
   {
    "duration": 6,
    "start_time": "2022-12-25T22:37:03.439Z"
   },
   {
    "duration": 19,
    "start_time": "2022-12-25T22:37:05.767Z"
   },
   {
    "duration": 6,
    "start_time": "2022-12-25T22:37:09.399Z"
   },
   {
    "duration": 19,
    "start_time": "2022-12-25T22:37:10.583Z"
   },
   {
    "duration": 11,
    "start_time": "2022-12-25T22:39:56.000Z"
   },
   {
    "duration": 5,
    "start_time": "2022-12-25T22:39:56.485Z"
   },
   {
    "duration": 11,
    "start_time": "2022-12-25T22:40:02.877Z"
   },
   {
    "duration": 6,
    "start_time": "2022-12-25T22:40:04.013Z"
   },
   {
    "duration": 18,
    "start_time": "2022-12-25T22:40:23.268Z"
   },
   {
    "duration": 13,
    "start_time": "2022-12-25T22:40:30.124Z"
   },
   {
    "duration": 7,
    "start_time": "2022-12-25T22:40:31.716Z"
   },
   {
    "duration": 57,
    "start_time": "2022-12-25T22:40:50.684Z"
   },
   {
    "duration": 12,
    "start_time": "2022-12-25T22:40:55.028Z"
   },
   {
    "duration": 6,
    "start_time": "2022-12-25T22:40:56.795Z"
   },
   {
    "duration": 17,
    "start_time": "2022-12-25T22:41:35.227Z"
   },
   {
    "duration": 7,
    "start_time": "2022-12-25T22:41:40.283Z"
   },
   {
    "duration": 12,
    "start_time": "2022-12-25T22:43:24.218Z"
   },
   {
    "duration": 10,
    "start_time": "2022-12-25T22:44:05.826Z"
   },
   {
    "duration": 1338,
    "start_time": "2022-12-26T09:06:28.747Z"
   },
   {
    "duration": 1416,
    "start_time": "2022-12-26T09:06:30.086Z"
   },
   {
    "duration": 3,
    "start_time": "2022-12-26T09:06:31.503Z"
   },
   {
    "duration": 53,
    "start_time": "2022-12-26T09:06:31.507Z"
   },
   {
    "duration": 123,
    "start_time": "2022-12-26T09:06:31.562Z"
   },
   {
    "duration": 260,
    "start_time": "2022-12-26T09:06:31.687Z"
   },
   {
    "duration": 45,
    "start_time": "2022-12-26T09:06:31.949Z"
   },
   {
    "duration": 20,
    "start_time": "2022-12-26T09:06:31.995Z"
   },
   {
    "duration": 26,
    "start_time": "2022-12-26T09:06:32.016Z"
   },
   {
    "duration": 24,
    "start_time": "2022-12-26T09:06:32.043Z"
   },
   {
    "duration": 24,
    "start_time": "2022-12-26T09:06:32.068Z"
   },
   {
    "duration": 44,
    "start_time": "2022-12-26T09:06:32.094Z"
   },
   {
    "duration": 14,
    "start_time": "2022-12-26T09:06:32.140Z"
   },
   {
    "duration": 81,
    "start_time": "2022-12-26T09:06:32.157Z"
   },
   {
    "duration": 248,
    "start_time": "2022-12-26T09:06:32.240Z"
   },
   {
    "duration": 101,
    "start_time": "2022-12-26T09:06:32.489Z"
   },
   {
    "duration": 7,
    "start_time": "2022-12-26T09:06:32.592Z"
   },
   {
    "duration": 39,
    "start_time": "2022-12-26T09:06:32.600Z"
   },
   {
    "duration": 19,
    "start_time": "2022-12-26T09:06:32.641Z"
   },
   {
    "duration": 49,
    "start_time": "2022-12-26T09:06:32.662Z"
   },
   {
    "duration": 26,
    "start_time": "2022-12-26T09:06:32.713Z"
   },
   {
    "duration": 23,
    "start_time": "2022-12-26T09:06:32.741Z"
   },
   {
    "duration": 40,
    "start_time": "2022-12-26T09:06:32.766Z"
   },
   {
    "duration": 23,
    "start_time": "2022-12-26T09:06:32.808Z"
   },
   {
    "duration": 6,
    "start_time": "2022-12-26T09:06:32.833Z"
   },
   {
    "duration": 13,
    "start_time": "2022-12-26T09:06:32.841Z"
   },
   {
    "duration": 11,
    "start_time": "2022-12-26T09:06:32.856Z"
   },
   {
    "duration": 8,
    "start_time": "2022-12-26T09:06:32.868Z"
   },
   {
    "duration": 38,
    "start_time": "2022-12-26T09:06:32.878Z"
   },
   {
    "duration": 176,
    "start_time": "2022-12-26T09:06:32.918Z"
   },
   {
    "duration": 19,
    "start_time": "2022-12-26T09:06:33.095Z"
   },
   {
    "duration": 18,
    "start_time": "2022-12-26T09:06:33.116Z"
   },
   {
    "duration": 85,
    "start_time": "2022-12-26T09:06:33.135Z"
   },
   {
    "duration": 7,
    "start_time": "2022-12-26T09:06:33.221Z"
   },
   {
    "duration": 25,
    "start_time": "2022-12-26T09:06:33.229Z"
   },
   {
    "duration": 18,
    "start_time": "2022-12-26T09:06:33.255Z"
   },
   {
    "duration": 9,
    "start_time": "2022-12-26T09:06:33.275Z"
   },
   {
    "duration": 155,
    "start_time": "2022-12-26T09:06:33.285Z"
   },
   {
    "duration": 294,
    "start_time": "2022-12-26T09:06:33.442Z"
   },
   {
    "duration": 22,
    "start_time": "2022-12-26T09:06:33.738Z"
   },
   {
    "duration": 382,
    "start_time": "2022-12-26T09:06:33.764Z"
   },
   {
    "duration": 6,
    "start_time": "2022-12-26T09:06:34.148Z"
   },
   {
    "duration": 22,
    "start_time": "2022-12-26T09:06:34.156Z"
   },
   {
    "duration": 12,
    "start_time": "2022-12-26T09:06:34.180Z"
   },
   {
    "duration": 19,
    "start_time": "2022-12-26T09:07:47.393Z"
   },
   {
    "duration": 15,
    "start_time": "2022-12-26T09:13:35.742Z"
   },
   {
    "duration": 7,
    "start_time": "2022-12-26T09:15:54.466Z"
   },
   {
    "duration": 12,
    "start_time": "2022-12-26T09:15:58.097Z"
   },
   {
    "duration": 143,
    "start_time": "2022-12-26T09:18:24.280Z"
   },
   {
    "duration": 15,
    "start_time": "2022-12-26T09:18:29.576Z"
   },
   {
    "duration": 21,
    "start_time": "2022-12-26T09:18:34.192Z"
   },
   {
    "duration": 71,
    "start_time": "2022-12-26T09:18:51.897Z"
   },
   {
    "duration": 73,
    "start_time": "2022-12-26T09:19:02.542Z"
   },
   {
    "duration": 10,
    "start_time": "2022-12-26T09:19:14.783Z"
   },
   {
    "duration": 21,
    "start_time": "2022-12-26T09:19:30.831Z"
   },
   {
    "duration": 70,
    "start_time": "2022-12-26T09:19:36.774Z"
   },
   {
    "duration": 27,
    "start_time": "2022-12-26T09:19:50.335Z"
   },
   {
    "duration": 24,
    "start_time": "2022-12-26T09:19:55.638Z"
   },
   {
    "duration": 5,
    "start_time": "2022-12-26T09:23:51.056Z"
   },
   {
    "duration": 1476,
    "start_time": "2022-12-26T09:24:06.340Z"
   },
   {
    "duration": 9,
    "start_time": "2022-12-26T09:24:24.172Z"
   },
   {
    "duration": 18,
    "start_time": "2022-12-26T09:24:26.157Z"
   },
   {
    "duration": 3,
    "start_time": "2022-12-26T09:24:51.276Z"
   },
   {
    "duration": 30,
    "start_time": "2022-12-26T09:24:55.812Z"
   },
   {
    "duration": 2,
    "start_time": "2022-12-26T09:25:05.612Z"
   },
   {
    "duration": 18,
    "start_time": "2022-12-26T09:25:10.108Z"
   },
   {
    "duration": 18,
    "start_time": "2022-12-26T09:25:26.769Z"
   },
   {
    "duration": 22,
    "start_time": "2022-12-26T09:25:32.347Z"
   },
   {
    "duration": 11,
    "start_time": "2022-12-26T09:25:42.283Z"
   },
   {
    "duration": 16,
    "start_time": "2022-12-26T09:27:32.819Z"
   },
   {
    "duration": 25,
    "start_time": "2022-12-26T09:29:47.611Z"
   },
   {
    "duration": 10,
    "start_time": "2022-12-26T09:29:51.778Z"
   },
   {
    "duration": 16,
    "start_time": "2022-12-26T09:31:21.185Z"
   },
   {
    "duration": 1202,
    "start_time": "2022-12-27T07:54:12.071Z"
   },
   {
    "duration": 1494,
    "start_time": "2022-12-27T07:54:13.275Z"
   },
   {
    "duration": 3,
    "start_time": "2022-12-27T07:54:14.770Z"
   },
   {
    "duration": 57,
    "start_time": "2022-12-27T07:54:14.775Z"
   },
   {
    "duration": 127,
    "start_time": "2022-12-27T07:54:14.834Z"
   },
   {
    "duration": 284,
    "start_time": "2022-12-27T07:54:14.963Z"
   },
   {
    "duration": 69,
    "start_time": "2022-12-27T07:54:15.249Z"
   },
   {
    "duration": 6,
    "start_time": "2022-12-27T07:54:15.319Z"
   },
   {
    "duration": 9,
    "start_time": "2022-12-27T07:54:15.326Z"
   },
   {
    "duration": 6,
    "start_time": "2022-12-27T07:54:15.338Z"
   },
   {
    "duration": 33,
    "start_time": "2022-12-27T07:54:15.345Z"
   },
   {
    "duration": 40,
    "start_time": "2022-12-27T07:54:15.380Z"
   },
   {
    "duration": 13,
    "start_time": "2022-12-27T07:54:15.422Z"
   },
   {
    "duration": 80,
    "start_time": "2022-12-27T07:54:15.436Z"
   },
   {
    "duration": 228,
    "start_time": "2022-12-27T07:54:15.517Z"
   },
   {
    "duration": 89,
    "start_time": "2022-12-27T07:54:15.747Z"
   },
   {
    "duration": 7,
    "start_time": "2022-12-27T07:54:15.838Z"
   },
   {
    "duration": 12,
    "start_time": "2022-12-27T07:54:15.847Z"
   },
   {
    "duration": 9,
    "start_time": "2022-12-27T07:54:15.861Z"
   },
   {
    "duration": 13,
    "start_time": "2022-12-27T07:54:15.872Z"
   },
   {
    "duration": 42,
    "start_time": "2022-12-27T07:54:15.887Z"
   },
   {
    "duration": 5,
    "start_time": "2022-12-27T07:54:15.931Z"
   },
   {
    "duration": 27,
    "start_time": "2022-12-27T07:54:15.938Z"
   },
   {
    "duration": 22,
    "start_time": "2022-12-27T07:54:15.967Z"
   },
   {
    "duration": 15,
    "start_time": "2022-12-27T07:54:16.015Z"
   },
   {
    "duration": 16,
    "start_time": "2022-12-27T07:54:16.031Z"
   },
   {
    "duration": 35,
    "start_time": "2022-12-27T07:54:16.049Z"
   },
   {
    "duration": 36,
    "start_time": "2022-12-27T07:54:16.088Z"
   },
   {
    "duration": 17,
    "start_time": "2022-12-27T07:54:16.125Z"
   },
   {
    "duration": 158,
    "start_time": "2022-12-27T07:54:16.143Z"
   },
   {
    "duration": 22,
    "start_time": "2022-12-27T07:54:16.303Z"
   },
   {
    "duration": 26,
    "start_time": "2022-12-27T07:54:16.327Z"
   },
   {
    "duration": 108,
    "start_time": "2022-12-27T07:54:16.354Z"
   },
   {
    "duration": 8,
    "start_time": "2022-12-27T07:54:16.464Z"
   },
   {
    "duration": 42,
    "start_time": "2022-12-27T07:54:16.474Z"
   },
   {
    "duration": 17,
    "start_time": "2022-12-27T07:54:16.518Z"
   },
   {
    "duration": 9,
    "start_time": "2022-12-27T07:54:16.536Z"
   },
   {
    "duration": 417,
    "start_time": "2022-12-27T07:54:16.546Z"
   },
   {
    "duration": 353,
    "start_time": "2022-12-27T07:54:16.965Z"
   },
   {
    "duration": 23,
    "start_time": "2022-12-27T07:54:17.319Z"
   },
   {
    "duration": 383,
    "start_time": "2022-12-27T07:54:17.344Z"
   },
   {
    "duration": 7,
    "start_time": "2022-12-27T07:54:17.729Z"
   },
   {
    "duration": 21,
    "start_time": "2022-12-27T07:54:17.738Z"
   },
   {
    "duration": 12,
    "start_time": "2022-12-27T07:54:17.761Z"
   },
   {
    "duration": 44,
    "start_time": "2022-12-27T07:54:17.774Z"
   },
   {
    "duration": 8,
    "start_time": "2022-12-27T07:54:17.820Z"
   },
   {
    "duration": 28,
    "start_time": "2022-12-27T07:54:17.829Z"
   },
   {
    "duration": 12,
    "start_time": "2022-12-27T07:56:55.574Z"
   },
   {
    "duration": 10,
    "start_time": "2022-12-27T07:57:10.473Z"
   },
   {
    "duration": 1334,
    "start_time": "2022-12-27T08:26:49.785Z"
   },
   {
    "duration": 1428,
    "start_time": "2022-12-27T08:26:51.122Z"
   },
   {
    "duration": 4,
    "start_time": "2022-12-27T08:26:52.551Z"
   },
   {
    "duration": 66,
    "start_time": "2022-12-27T08:26:52.556Z"
   },
   {
    "duration": 129,
    "start_time": "2022-12-27T08:26:52.623Z"
   },
   {
    "duration": 264,
    "start_time": "2022-12-27T08:26:52.754Z"
   },
   {
    "duration": 54,
    "start_time": "2022-12-27T08:26:53.020Z"
   },
   {
    "duration": 6,
    "start_time": "2022-12-27T08:26:53.076Z"
   },
   {
    "duration": 7,
    "start_time": "2022-12-27T08:26:53.084Z"
   },
   {
    "duration": 5,
    "start_time": "2022-12-27T08:26:53.128Z"
   },
   {
    "duration": 16,
    "start_time": "2022-12-27T08:26:53.135Z"
   },
   {
    "duration": 42,
    "start_time": "2022-12-27T08:26:53.152Z"
   },
   {
    "duration": 11,
    "start_time": "2022-12-27T08:26:53.195Z"
   },
   {
    "duration": 57,
    "start_time": "2022-12-27T08:26:53.207Z"
   },
   {
    "duration": 241,
    "start_time": "2022-12-27T08:26:53.265Z"
   },
   {
    "duration": 86,
    "start_time": "2022-12-27T08:26:53.507Z"
   },
   {
    "duration": 13,
    "start_time": "2022-12-27T08:26:53.594Z"
   },
   {
    "duration": 38,
    "start_time": "2022-12-27T08:26:53.608Z"
   },
   {
    "duration": 51,
    "start_time": "2022-12-27T08:26:53.647Z"
   },
   {
    "duration": 53,
    "start_time": "2022-12-27T08:26:53.699Z"
   },
   {
    "duration": 42,
    "start_time": "2022-12-27T08:26:53.753Z"
   },
   {
    "duration": 6,
    "start_time": "2022-12-27T08:26:53.796Z"
   },
   {
    "duration": 52,
    "start_time": "2022-12-27T08:26:53.803Z"
   },
   {
    "duration": 31,
    "start_time": "2022-12-27T08:26:53.857Z"
   },
   {
    "duration": 15,
    "start_time": "2022-12-27T08:26:53.890Z"
   },
   {
    "duration": 32,
    "start_time": "2022-12-27T08:26:53.906Z"
   },
   {
    "duration": 22,
    "start_time": "2022-12-27T08:26:53.939Z"
   },
   {
    "duration": 20,
    "start_time": "2022-12-27T08:26:53.964Z"
   },
   {
    "duration": 37,
    "start_time": "2022-12-27T08:26:53.986Z"
   },
   {
    "duration": 162,
    "start_time": "2022-12-27T08:26:54.025Z"
   },
   {
    "duration": 11,
    "start_time": "2022-12-27T08:26:54.189Z"
   },
   {
    "duration": 39,
    "start_time": "2022-12-27T08:26:54.201Z"
   },
   {
    "duration": 78,
    "start_time": "2022-12-27T08:26:54.241Z"
   },
   {
    "duration": 7,
    "start_time": "2022-12-27T08:26:54.325Z"
   },
   {
    "duration": 44,
    "start_time": "2022-12-27T08:26:54.333Z"
   },
   {
    "duration": 25,
    "start_time": "2022-12-27T08:26:54.378Z"
   },
   {
    "duration": 11,
    "start_time": "2022-12-27T08:26:54.405Z"
   },
   {
    "duration": 187,
    "start_time": "2022-12-27T08:26:54.418Z"
   },
   {
    "duration": 268,
    "start_time": "2022-12-27T08:26:54.607Z"
   },
   {
    "duration": 23,
    "start_time": "2022-12-27T08:26:54.876Z"
   },
   {
    "duration": 385,
    "start_time": "2022-12-27T08:26:54.901Z"
   },
   {
    "duration": 7,
    "start_time": "2022-12-27T08:26:55.288Z"
   },
   {
    "duration": 41,
    "start_time": "2022-12-27T08:26:55.296Z"
   },
   {
    "duration": 17,
    "start_time": "2022-12-27T08:26:55.339Z"
   },
   {
    "duration": 53,
    "start_time": "2022-12-27T08:26:55.357Z"
   },
   {
    "duration": 8,
    "start_time": "2022-12-27T08:26:55.412Z"
   },
   {
    "duration": 34,
    "start_time": "2022-12-27T08:26:55.421Z"
   },
   {
    "duration": 6,
    "start_time": "2022-12-27T08:27:00.778Z"
   },
   {
    "duration": 4,
    "start_time": "2022-12-27T08:27:53.454Z"
   },
   {
    "duration": 11,
    "start_time": "2022-12-27T08:28:16.059Z"
   },
   {
    "duration": 12,
    "start_time": "2022-12-27T08:28:46.234Z"
   },
   {
    "duration": 11,
    "start_time": "2022-12-27T08:29:21.762Z"
   },
   {
    "duration": 1544,
    "start_time": "2022-12-27T10:19:04.607Z"
   },
   {
    "duration": 2103,
    "start_time": "2022-12-27T10:19:06.153Z"
   },
   {
    "duration": 5,
    "start_time": "2022-12-27T10:19:08.257Z"
   },
   {
    "duration": 73,
    "start_time": "2022-12-27T10:19:08.264Z"
   },
   {
    "duration": 155,
    "start_time": "2022-12-27T10:19:08.338Z"
   },
   {
    "duration": 315,
    "start_time": "2022-12-27T10:19:08.496Z"
   },
   {
    "duration": 64,
    "start_time": "2022-12-27T10:19:08.813Z"
   },
   {
    "duration": 8,
    "start_time": "2022-12-27T10:19:08.879Z"
   },
   {
    "duration": 50,
    "start_time": "2022-12-27T10:19:08.889Z"
   },
   {
    "duration": 23,
    "start_time": "2022-12-27T10:19:08.943Z"
   },
   {
    "duration": 35,
    "start_time": "2022-12-27T10:19:08.968Z"
   },
   {
    "duration": 54,
    "start_time": "2022-12-27T10:19:09.005Z"
   },
   {
    "duration": 19,
    "start_time": "2022-12-27T10:19:09.061Z"
   },
   {
    "duration": 66,
    "start_time": "2022-12-27T10:19:09.082Z"
   },
   {
    "duration": 296,
    "start_time": "2022-12-27T10:19:09.150Z"
   },
   {
    "duration": 115,
    "start_time": "2022-12-27T10:19:09.447Z"
   },
   {
    "duration": 12,
    "start_time": "2022-12-27T10:19:09.564Z"
   },
   {
    "duration": 32,
    "start_time": "2022-12-27T10:19:09.578Z"
   },
   {
    "duration": 23,
    "start_time": "2022-12-27T10:19:09.612Z"
   },
   {
    "duration": 29,
    "start_time": "2022-12-27T10:19:09.637Z"
   },
   {
    "duration": 38,
    "start_time": "2022-12-27T10:19:09.668Z"
   },
   {
    "duration": 13,
    "start_time": "2022-12-27T10:19:09.709Z"
   },
   {
    "duration": 47,
    "start_time": "2022-12-27T10:19:09.724Z"
   },
   {
    "duration": 24,
    "start_time": "2022-12-27T10:19:09.773Z"
   },
   {
    "duration": 11,
    "start_time": "2022-12-27T10:19:09.799Z"
   },
   {
    "duration": 59,
    "start_time": "2022-12-27T10:19:09.812Z"
   },
   {
    "duration": 61,
    "start_time": "2022-12-27T10:19:09.873Z"
   },
   {
    "duration": 32,
    "start_time": "2022-12-27T10:19:09.938Z"
   },
   {
    "duration": 34,
    "start_time": "2022-12-27T10:19:09.972Z"
   },
   {
    "duration": 183,
    "start_time": "2022-12-27T10:19:10.008Z"
   },
   {
    "duration": 14,
    "start_time": "2022-12-27T10:19:10.193Z"
   },
   {
    "duration": 57,
    "start_time": "2022-12-27T10:19:10.209Z"
   },
   {
    "duration": 91,
    "start_time": "2022-12-27T10:19:10.268Z"
   },
   {
    "duration": 8,
    "start_time": "2022-12-27T10:19:10.361Z"
   },
   {
    "duration": 75,
    "start_time": "2022-12-27T10:19:10.371Z"
   },
   {
    "duration": 29,
    "start_time": "2022-12-27T10:19:10.448Z"
   },
   {
    "duration": 17,
    "start_time": "2022-12-27T10:19:10.478Z"
   },
   {
    "duration": 187,
    "start_time": "2022-12-27T10:19:10.497Z"
   },
   {
    "duration": 284,
    "start_time": "2022-12-27T10:19:10.686Z"
   },
   {
    "duration": 26,
    "start_time": "2022-12-27T10:19:10.972Z"
   },
   {
    "duration": 430,
    "start_time": "2022-12-27T10:19:10.999Z"
   },
   {
    "duration": 8,
    "start_time": "2022-12-27T10:19:11.431Z"
   },
   {
    "duration": 31,
    "start_time": "2022-12-27T10:19:11.441Z"
   },
   {
    "duration": 3,
    "start_time": "2022-12-27T10:19:11.474Z"
   },
   {
    "duration": 49,
    "start_time": "2022-12-27T10:19:11.479Z"
   },
   {
    "duration": 34,
    "start_time": "2022-12-27T10:19:11.530Z"
   },
   {
    "duration": 13,
    "start_time": "2022-12-27T10:19:11.566Z"
   },
   {
    "duration": 42,
    "start_time": "2022-12-27T10:19:11.581Z"
   },
   {
    "duration": 1421,
    "start_time": "2022-12-29T12:53:04.662Z"
   },
   {
    "duration": 1862,
    "start_time": "2022-12-29T12:53:06.086Z"
   },
   {
    "duration": 3,
    "start_time": "2022-12-29T12:53:07.950Z"
   },
   {
    "duration": 73,
    "start_time": "2022-12-29T12:53:07.955Z"
   },
   {
    "duration": 163,
    "start_time": "2022-12-29T12:53:08.029Z"
   },
   {
    "duration": 303,
    "start_time": "2022-12-29T12:53:08.194Z"
   },
   {
    "duration": 72,
    "start_time": "2022-12-29T12:53:08.499Z"
   },
   {
    "duration": 6,
    "start_time": "2022-12-29T12:53:08.572Z"
   },
   {
    "duration": 16,
    "start_time": "2022-12-29T12:53:08.579Z"
   },
   {
    "duration": 35,
    "start_time": "2022-12-29T12:53:08.598Z"
   },
   {
    "duration": 57,
    "start_time": "2022-12-29T12:53:08.635Z"
   },
   {
    "duration": 41,
    "start_time": "2022-12-29T12:53:08.694Z"
   },
   {
    "duration": 14,
    "start_time": "2022-12-29T12:53:08.737Z"
   },
   {
    "duration": 71,
    "start_time": "2022-12-29T12:53:08.753Z"
   },
   {
    "duration": 342,
    "start_time": "2022-12-29T12:53:08.825Z"
   },
   {
    "duration": 106,
    "start_time": "2022-12-29T12:53:09.169Z"
   },
   {
    "duration": 14,
    "start_time": "2022-12-29T12:53:09.277Z"
   },
   {
    "duration": 43,
    "start_time": "2022-12-29T12:53:09.293Z"
   },
   {
    "duration": 27,
    "start_time": "2022-12-29T12:53:09.338Z"
   },
   {
    "duration": 46,
    "start_time": "2022-12-29T12:53:09.367Z"
   },
   {
    "duration": 43,
    "start_time": "2022-12-29T12:53:09.415Z"
   },
   {
    "duration": 19,
    "start_time": "2022-12-29T12:53:09.460Z"
   },
   {
    "duration": 67,
    "start_time": "2022-12-29T12:53:09.481Z"
   },
   {
    "duration": 59,
    "start_time": "2022-12-29T12:53:09.550Z"
   },
   {
    "duration": 21,
    "start_time": "2022-12-29T12:53:09.611Z"
   },
   {
    "duration": 25,
    "start_time": "2022-12-29T12:53:09.634Z"
   },
   {
    "duration": 44,
    "start_time": "2022-12-29T12:53:09.661Z"
   },
   {
    "duration": 31,
    "start_time": "2022-12-29T12:53:09.709Z"
   },
   {
    "duration": 50,
    "start_time": "2022-12-29T12:53:09.742Z"
   },
   {
    "duration": 284,
    "start_time": "2022-12-29T12:53:09.794Z"
   },
   {
    "duration": 14,
    "start_time": "2022-12-29T12:53:10.079Z"
   },
   {
    "duration": 28,
    "start_time": "2022-12-29T12:53:10.095Z"
   },
   {
    "duration": 136,
    "start_time": "2022-12-29T12:53:10.125Z"
   },
   {
    "duration": 7,
    "start_time": "2022-12-29T12:53:10.262Z"
   },
   {
    "duration": 46,
    "start_time": "2022-12-29T12:53:10.271Z"
   },
   {
    "duration": 32,
    "start_time": "2022-12-29T12:53:10.318Z"
   },
   {
    "duration": 14,
    "start_time": "2022-12-29T12:53:10.352Z"
   },
   {
    "duration": 165,
    "start_time": "2022-12-29T12:53:10.368Z"
   },
   {
    "duration": 390,
    "start_time": "2022-12-29T12:53:10.535Z"
   },
   {
    "duration": 36,
    "start_time": "2022-12-29T12:53:10.927Z"
   },
   {
    "duration": 444,
    "start_time": "2022-12-29T12:53:10.965Z"
   },
   {
    "duration": 8,
    "start_time": "2022-12-29T12:53:11.410Z"
   },
   {
    "duration": 37,
    "start_time": "2022-12-29T12:53:11.420Z"
   },
   {
    "duration": 2,
    "start_time": "2022-12-29T12:53:11.459Z"
   },
   {
    "duration": 21,
    "start_time": "2022-12-29T12:53:11.463Z"
   },
   {
    "duration": 25,
    "start_time": "2022-12-29T12:53:11.486Z"
   },
   {
    "duration": 9,
    "start_time": "2022-12-29T12:53:11.513Z"
   },
   {
    "duration": 36,
    "start_time": "2022-12-29T12:53:11.523Z"
   },
   {
    "duration": 3,
    "start_time": "2022-12-29T12:53:53.581Z"
   },
   {
    "duration": 174,
    "start_time": "2022-12-29T12:54:09.176Z"
   },
   {
    "duration": 23,
    "start_time": "2022-12-29T12:54:14.172Z"
   },
   {
    "duration": 39,
    "start_time": "2022-12-29T12:54:29.180Z"
   },
   {
    "duration": 20,
    "start_time": "2022-12-29T12:54:38.500Z"
   },
   {
    "duration": 28,
    "start_time": "2022-12-29T12:54:44.021Z"
   },
   {
    "duration": 13,
    "start_time": "2022-12-29T12:54:46.500Z"
   },
   {
    "duration": 25,
    "start_time": "2022-12-29T12:55:10.852Z"
   },
   {
    "duration": 12,
    "start_time": "2022-12-29T12:55:12.837Z"
   },
   {
    "duration": 24,
    "start_time": "2022-12-29T12:55:19.741Z"
   },
   {
    "duration": 2,
    "start_time": "2022-12-29T12:55:20.699Z"
   },
   {
    "duration": 13,
    "start_time": "2022-12-29T12:55:21.347Z"
   },
   {
    "duration": 20,
    "start_time": "2022-12-29T12:57:00.362Z"
   },
   {
    "duration": 22,
    "start_time": "2022-12-29T12:57:03.899Z"
   },
   {
    "duration": 7,
    "start_time": "2022-12-29T12:57:16.816Z"
   },
   {
    "duration": 14,
    "start_time": "2022-12-29T12:57:22.500Z"
   },
   {
    "duration": 20,
    "start_time": "2022-12-29T12:58:30.978Z"
   },
   {
    "duration": 7,
    "start_time": "2022-12-29T12:58:35.745Z"
   },
   {
    "duration": 12,
    "start_time": "2022-12-29T12:58:37.409Z"
   },
   {
    "duration": 24,
    "start_time": "2022-12-29T12:58:50.265Z"
   },
   {
    "duration": 1243,
    "start_time": "2022-12-29T12:58:52.049Z"
   },
   {
    "duration": 1238,
    "start_time": "2022-12-29T13:00:38.591Z"
   },
   {
    "duration": 21,
    "start_time": "2022-12-29T13:00:45.352Z"
   },
   {
    "duration": 7,
    "start_time": "2022-12-29T13:00:46.711Z"
   },
   {
    "duration": 2,
    "start_time": "2022-12-29T13:00:47.240Z"
   },
   {
    "duration": 12,
    "start_time": "2022-12-29T13:00:47.759Z"
   },
   {
    "duration": 14,
    "start_time": "2022-12-29T13:01:25.367Z"
   },
   {
    "duration": 16,
    "start_time": "2022-12-29T13:01:37.480Z"
   },
   {
    "duration": 14,
    "start_time": "2022-12-29T13:01:46.920Z"
   },
   {
    "duration": 20,
    "start_time": "2022-12-29T13:02:14.183Z"
   },
   {
    "duration": 14,
    "start_time": "2022-12-29T13:02:15.126Z"
   },
   {
    "duration": 1325,
    "start_time": "2022-12-29T13:02:20.039Z"
   },
   {
    "duration": 1799,
    "start_time": "2022-12-29T13:02:21.366Z"
   },
   {
    "duration": 3,
    "start_time": "2022-12-29T13:02:23.167Z"
   },
   {
    "duration": 78,
    "start_time": "2022-12-29T13:02:23.172Z"
   },
   {
    "duration": 155,
    "start_time": "2022-12-29T13:02:23.251Z"
   },
   {
    "duration": 321,
    "start_time": "2022-12-29T13:02:23.408Z"
   },
   {
    "duration": 62,
    "start_time": "2022-12-29T13:02:23.730Z"
   },
   {
    "duration": 7,
    "start_time": "2022-12-29T13:02:23.794Z"
   },
   {
    "duration": 28,
    "start_time": "2022-12-29T13:02:23.802Z"
   },
   {
    "duration": 27,
    "start_time": "2022-12-29T13:02:23.833Z"
   },
   {
    "duration": 26,
    "start_time": "2022-12-29T13:02:23.862Z"
   },
   {
    "duration": 62,
    "start_time": "2022-12-29T13:02:23.889Z"
   },
   {
    "duration": 22,
    "start_time": "2022-12-29T13:02:23.952Z"
   },
   {
    "duration": 95,
    "start_time": "2022-12-29T13:02:23.976Z"
   },
   {
    "duration": 276,
    "start_time": "2022-12-29T13:02:24.072Z"
   },
   {
    "duration": 90,
    "start_time": "2022-12-29T13:02:24.351Z"
   },
   {
    "duration": 9,
    "start_time": "2022-12-29T13:02:24.450Z"
   },
   {
    "duration": 48,
    "start_time": "2022-12-29T13:02:24.460Z"
   },
   {
    "duration": 27,
    "start_time": "2022-12-29T13:02:24.510Z"
   },
   {
    "duration": 18,
    "start_time": "2022-12-29T13:02:24.539Z"
   },
   {
    "duration": 34,
    "start_time": "2022-12-29T13:02:24.558Z"
   },
   {
    "duration": 11,
    "start_time": "2022-12-29T13:02:24.594Z"
   },
   {
    "duration": 39,
    "start_time": "2022-12-29T13:02:24.606Z"
   },
   {
    "duration": 28,
    "start_time": "2022-12-29T13:02:24.647Z"
   },
   {
    "duration": 14,
    "start_time": "2022-12-29T13:02:24.677Z"
   },
   {
    "duration": 47,
    "start_time": "2022-12-29T13:02:24.693Z"
   },
   {
    "duration": 17,
    "start_time": "2022-12-29T13:02:24.742Z"
   },
   {
    "duration": 24,
    "start_time": "2022-12-29T13:02:24.763Z"
   },
   {
    "duration": 37,
    "start_time": "2022-12-29T13:02:24.789Z"
   },
   {
    "duration": 192,
    "start_time": "2022-12-29T13:02:24.828Z"
   },
   {
    "duration": 15,
    "start_time": "2022-12-29T13:02:25.023Z"
   },
   {
    "duration": 21,
    "start_time": "2022-12-29T13:02:25.050Z"
   },
   {
    "duration": 104,
    "start_time": "2022-12-29T13:02:25.074Z"
   },
   {
    "duration": 7,
    "start_time": "2022-12-29T13:02:25.179Z"
   },
   {
    "duration": 53,
    "start_time": "2022-12-29T13:02:25.188Z"
   },
   {
    "duration": 25,
    "start_time": "2022-12-29T13:02:25.242Z"
   },
   {
    "duration": 20,
    "start_time": "2022-12-29T13:02:25.268Z"
   },
   {
    "duration": 159,
    "start_time": "2022-12-29T13:02:25.290Z"
   },
   {
    "duration": 318,
    "start_time": "2022-12-29T13:02:25.451Z"
   },
   {
    "duration": 26,
    "start_time": "2022-12-29T13:02:25.770Z"
   },
   {
    "duration": 411,
    "start_time": "2022-12-29T13:02:25.798Z"
   },
   {
    "duration": 8,
    "start_time": "2022-12-29T13:02:26.210Z"
   },
   {
    "duration": 24,
    "start_time": "2022-12-29T13:02:26.220Z"
   },
   {
    "duration": 49,
    "start_time": "2022-12-29T13:02:26.246Z"
   },
   {
    "duration": 33,
    "start_time": "2022-12-29T13:02:26.297Z"
   },
   {
    "duration": 45,
    "start_time": "2022-12-29T13:02:26.331Z"
   },
   {
    "duration": 22,
    "start_time": "2022-12-29T13:02:26.377Z"
   },
   {
    "duration": 35,
    "start_time": "2022-12-29T13:02:26.401Z"
   },
   {
    "duration": 14,
    "start_time": "2022-12-29T13:03:11.087Z"
   },
   {
    "duration": 14,
    "start_time": "2022-12-29T13:03:49.549Z"
   },
   {
    "duration": 13,
    "start_time": "2022-12-29T13:05:28.349Z"
   },
   {
    "duration": 16,
    "start_time": "2022-12-29T13:06:00.876Z"
   },
   {
    "duration": 6,
    "start_time": "2022-12-29T13:07:47.157Z"
   },
   {
    "duration": 15,
    "start_time": "2022-12-29T13:08:16.635Z"
   },
   {
    "duration": 7,
    "start_time": "2022-12-29T13:08:22.553Z"
   },
   {
    "duration": 14,
    "start_time": "2022-12-29T13:08:46.018Z"
   },
   {
    "duration": 7,
    "start_time": "2022-12-29T13:08:51.537Z"
   },
   {
    "duration": 159,
    "start_time": "2022-12-29T13:09:22.601Z"
   },
   {
    "duration": 8,
    "start_time": "2022-12-29T13:09:25.793Z"
   },
   {
    "duration": 15,
    "start_time": "2022-12-29T13:12:19.896Z"
   },
   {
    "duration": 1460,
    "start_time": "2022-12-29T13:17:06.616Z"
   },
   {
    "duration": 1566,
    "start_time": "2022-12-29T13:17:08.079Z"
   },
   {
    "duration": 4,
    "start_time": "2022-12-29T13:17:09.648Z"
   },
   {
    "duration": 81,
    "start_time": "2022-12-29T13:17:09.655Z"
   },
   {
    "duration": 237,
    "start_time": "2022-12-29T13:17:09.738Z"
   },
   {
    "duration": 394,
    "start_time": "2022-12-29T13:17:09.976Z"
   },
   {
    "duration": 57,
    "start_time": "2022-12-29T13:17:10.371Z"
   },
   {
    "duration": 15,
    "start_time": "2022-12-29T13:17:10.450Z"
   },
   {
    "duration": 15,
    "start_time": "2022-12-29T13:17:10.467Z"
   },
   {
    "duration": 9,
    "start_time": "2022-12-29T13:17:10.486Z"
   },
   {
    "duration": 22,
    "start_time": "2022-12-29T13:17:10.496Z"
   },
   {
    "duration": 58,
    "start_time": "2022-12-29T13:17:10.520Z"
   },
   {
    "duration": 14,
    "start_time": "2022-12-29T13:17:10.580Z"
   },
   {
    "duration": 97,
    "start_time": "2022-12-29T13:17:10.596Z"
   },
   {
    "duration": 330,
    "start_time": "2022-12-29T13:17:10.695Z"
   },
   {
    "duration": 124,
    "start_time": "2022-12-29T13:17:11.027Z"
   },
   {
    "duration": 13,
    "start_time": "2022-12-29T13:17:11.154Z"
   },
   {
    "duration": 14,
    "start_time": "2022-12-29T13:17:11.169Z"
   },
   {
    "duration": 10,
    "start_time": "2022-12-29T13:17:11.185Z"
   },
   {
    "duration": 10,
    "start_time": "2022-12-29T13:17:11.197Z"
   },
   {
    "duration": 44,
    "start_time": "2022-12-29T13:17:11.209Z"
   },
   {
    "duration": 24,
    "start_time": "2022-12-29T13:17:11.255Z"
   },
   {
    "duration": 41,
    "start_time": "2022-12-29T13:17:11.281Z"
   },
   {
    "duration": 58,
    "start_time": "2022-12-29T13:17:11.324Z"
   },
   {
    "duration": 7,
    "start_time": "2022-12-29T13:17:11.384Z"
   },
   {
    "duration": 27,
    "start_time": "2022-12-29T13:17:11.393Z"
   },
   {
    "duration": 36,
    "start_time": "2022-12-29T13:17:11.422Z"
   },
   {
    "duration": 38,
    "start_time": "2022-12-29T13:17:11.463Z"
   },
   {
    "duration": 28,
    "start_time": "2022-12-29T13:17:11.503Z"
   },
   {
    "duration": 211,
    "start_time": "2022-12-29T13:17:11.533Z"
   },
   {
    "duration": 21,
    "start_time": "2022-12-29T13:17:11.746Z"
   },
   {
    "duration": 62,
    "start_time": "2022-12-29T13:17:11.769Z"
   },
   {
    "duration": 117,
    "start_time": "2022-12-29T13:17:11.833Z"
   },
   {
    "duration": 12,
    "start_time": "2022-12-29T13:17:11.952Z"
   },
   {
    "duration": 58,
    "start_time": "2022-12-29T13:17:11.966Z"
   },
   {
    "duration": 33,
    "start_time": "2022-12-29T13:17:12.025Z"
   },
   {
    "duration": 123,
    "start_time": "2022-12-29T13:17:18.003Z"
   },
   {
    "duration": 16,
    "start_time": "2022-12-29T13:18:09.275Z"
   },
   {
    "duration": 25,
    "start_time": "2022-12-29T13:22:55.543Z"
   },
   {
    "duration": 16,
    "start_time": "2022-12-29T13:23:55.503Z"
   },
   {
    "duration": 32,
    "start_time": "2022-12-29T13:24:01.350Z"
   },
   {
    "duration": 12,
    "start_time": "2022-12-29T13:24:26.542Z"
   },
   {
    "duration": 6,
    "start_time": "2022-12-29T13:24:28.589Z"
   },
   {
    "duration": 14,
    "start_time": "2022-12-29T13:24:40.309Z"
   },
   {
    "duration": 9,
    "start_time": "2022-12-29T13:24:41.445Z"
   },
   {
    "duration": 293,
    "start_time": "2022-12-29T13:24:53.150Z"
   },
   {
    "duration": 18,
    "start_time": "2022-12-29T13:25:00.789Z"
   },
   {
    "duration": 21,
    "start_time": "2022-12-29T13:25:26.877Z"
   },
   {
    "duration": 8,
    "start_time": "2022-12-29T13:25:27.917Z"
   },
   {
    "duration": 16,
    "start_time": "2022-12-29T13:25:46.477Z"
   },
   {
    "duration": 85,
    "start_time": "2022-12-29T13:28:16.627Z"
   },
   {
    "duration": 356,
    "start_time": "2022-12-29T13:28:22.690Z"
   },
   {
    "duration": 331,
    "start_time": "2022-12-29T13:28:27.731Z"
   },
   {
    "duration": 77,
    "start_time": "2022-12-29T13:28:33.514Z"
   },
   {
    "duration": 21,
    "start_time": "2022-12-29T13:28:46.067Z"
   },
   {
    "duration": 27,
    "start_time": "2022-12-29T13:28:51.627Z"
   },
   {
    "duration": 402,
    "start_time": "2022-12-29T13:29:21.242Z"
   },
   {
    "duration": 75,
    "start_time": "2022-12-29T13:29:29.546Z"
   },
   {
    "duration": 90,
    "start_time": "2022-12-29T13:32:56.792Z"
   },
   {
    "duration": 142,
    "start_time": "2022-12-29T13:33:02.807Z"
   },
   {
    "duration": 83,
    "start_time": "2022-12-29T13:33:09.807Z"
   },
   {
    "duration": 28,
    "start_time": "2022-12-29T13:35:09.492Z"
   },
   {
    "duration": 102,
    "start_time": "2022-12-29T13:35:09.578Z"
   },
   {
    "duration": 97,
    "start_time": "2022-12-29T13:37:26.324Z"
   },
   {
    "duration": 83,
    "start_time": "2022-12-29T13:37:58.140Z"
   },
   {
    "duration": 20,
    "start_time": "2022-12-29T13:41:32.241Z"
   },
   {
    "duration": 19,
    "start_time": "2022-12-29T13:50:28.073Z"
   },
   {
    "duration": 22,
    "start_time": "2022-12-29T13:53:27.942Z"
   },
   {
    "duration": 7,
    "start_time": "2022-12-29T13:53:37.510Z"
   },
   {
    "duration": 24,
    "start_time": "2022-12-29T13:54:25.094Z"
   },
   {
    "duration": 8,
    "start_time": "2022-12-29T13:54:27.166Z"
   },
   {
    "duration": 1354,
    "start_time": "2022-12-29T13:58:24.123Z"
   },
   {
    "duration": 1976,
    "start_time": "2022-12-29T13:58:25.479Z"
   },
   {
    "duration": 3,
    "start_time": "2022-12-29T13:58:27.457Z"
   },
   {
    "duration": 50,
    "start_time": "2022-12-29T13:58:27.462Z"
   },
   {
    "duration": 180,
    "start_time": "2022-12-29T13:58:27.514Z"
   },
   {
    "duration": 303,
    "start_time": "2022-12-29T13:58:27.696Z"
   },
   {
    "duration": 72,
    "start_time": "2022-12-29T13:58:28.001Z"
   },
   {
    "duration": 6,
    "start_time": "2022-12-29T13:58:28.075Z"
   },
   {
    "duration": 10,
    "start_time": "2022-12-29T13:58:28.082Z"
   },
   {
    "duration": 9,
    "start_time": "2022-12-29T13:58:28.093Z"
   },
   {
    "duration": 25,
    "start_time": "2022-12-29T13:58:28.104Z"
   },
   {
    "duration": 57,
    "start_time": "2022-12-29T13:58:28.131Z"
   },
   {
    "duration": 14,
    "start_time": "2022-12-29T13:58:28.190Z"
   },
   {
    "duration": 81,
    "start_time": "2022-12-29T13:58:28.208Z"
   },
   {
    "duration": 297,
    "start_time": "2022-12-29T13:58:28.291Z"
   },
   {
    "duration": 115,
    "start_time": "2022-12-29T13:58:28.590Z"
   },
   {
    "duration": 9,
    "start_time": "2022-12-29T13:58:28.706Z"
   },
   {
    "duration": 14,
    "start_time": "2022-12-29T13:58:28.717Z"
   },
   {
    "duration": 9,
    "start_time": "2022-12-29T13:58:28.750Z"
   },
   {
    "duration": 13,
    "start_time": "2022-12-29T13:58:28.760Z"
   },
   {
    "duration": 18,
    "start_time": "2022-12-29T13:58:28.775Z"
   },
   {
    "duration": 5,
    "start_time": "2022-12-29T13:58:28.794Z"
   },
   {
    "duration": 26,
    "start_time": "2022-12-29T13:58:28.801Z"
   },
   {
    "duration": 40,
    "start_time": "2022-12-29T13:58:28.829Z"
   },
   {
    "duration": 6,
    "start_time": "2022-12-29T13:58:28.871Z"
   },
   {
    "duration": 15,
    "start_time": "2022-12-29T13:58:28.879Z"
   },
   {
    "duration": 14,
    "start_time": "2022-12-29T13:58:28.895Z"
   },
   {
    "duration": 48,
    "start_time": "2022-12-29T13:58:28.911Z"
   },
   {
    "duration": 9,
    "start_time": "2022-12-29T13:58:28.961Z"
   },
   {
    "duration": 16,
    "start_time": "2022-12-29T13:58:28.971Z"
   },
   {
    "duration": 215,
    "start_time": "2022-12-29T13:58:28.989Z"
   },
   {
    "duration": 21,
    "start_time": "2022-12-29T13:58:29.205Z"
   },
   {
    "duration": 37,
    "start_time": "2022-12-29T13:58:29.228Z"
   },
   {
    "duration": 101,
    "start_time": "2022-12-29T13:58:29.266Z"
   },
   {
    "duration": 23,
    "start_time": "2022-12-29T13:58:29.368Z"
   },
   {
    "duration": 7,
    "start_time": "2022-12-29T13:58:29.393Z"
   },
   {
    "duration": 52,
    "start_time": "2022-12-29T13:58:29.402Z"
   },
   {
    "duration": 21,
    "start_time": "2022-12-29T13:58:29.456Z"
   },
   {
    "duration": 10,
    "start_time": "2022-12-29T13:58:29.479Z"
   },
   {
    "duration": 189,
    "start_time": "2022-12-29T13:58:29.491Z"
   },
   {
    "duration": 365,
    "start_time": "2022-12-29T13:58:29.685Z"
   },
   {
    "duration": 64,
    "start_time": "2022-12-29T13:58:30.052Z"
   },
   {
    "duration": 65,
    "start_time": "2022-12-29T13:58:30.118Z"
   },
   {
    "duration": 444,
    "start_time": "2022-12-29T13:58:30.185Z"
   },
   {
    "duration": 8,
    "start_time": "2022-12-29T13:58:30.631Z"
   },
   {
    "duration": 43,
    "start_time": "2022-12-29T13:58:30.652Z"
   },
   {
    "duration": 28,
    "start_time": "2022-12-29T13:58:30.697Z"
   },
   {
    "duration": 40,
    "start_time": "2022-12-29T13:58:30.727Z"
   },
   {
    "duration": 34,
    "start_time": "2022-12-29T13:58:30.769Z"
   },
   {
    "duration": 35,
    "start_time": "2022-12-29T13:58:30.805Z"
   },
   {
    "duration": 1010,
    "start_time": "2022-12-29T14:03:41.774Z"
   },
   {
    "duration": 25,
    "start_time": "2022-12-29T14:03:48.278Z"
   },
   {
    "duration": 30,
    "start_time": "2022-12-29T14:04:02.126Z"
   },
   {
    "duration": 37,
    "start_time": "2022-12-29T14:04:26.734Z"
   },
   {
    "duration": 86,
    "start_time": "2022-12-29T14:06:44.164Z"
   },
   {
    "duration": 20,
    "start_time": "2022-12-29T14:09:17.514Z"
   },
   {
    "duration": 13,
    "start_time": "2022-12-29T14:09:57.603Z"
   },
   {
    "duration": 22,
    "start_time": "2022-12-29T14:09:59.962Z"
   },
   {
    "duration": 20,
    "start_time": "2022-12-29T14:10:02.546Z"
   },
   {
    "duration": 246,
    "start_time": "2022-12-29T14:10:09.417Z"
   },
   {
    "duration": 29,
    "start_time": "2022-12-29T14:10:46.234Z"
   },
   {
    "duration": 21,
    "start_time": "2022-12-29T14:10:55.075Z"
   },
   {
    "duration": 20,
    "start_time": "2022-12-29T14:11:16.497Z"
   },
   {
    "duration": 11,
    "start_time": "2022-12-29T14:11:22.769Z"
   },
   {
    "duration": 6,
    "start_time": "2022-12-29T14:13:13.176Z"
   },
   {
    "duration": 27,
    "start_time": "2022-12-29T14:13:16.311Z"
   },
   {
    "duration": 15,
    "start_time": "2022-12-29T14:13:20.876Z"
   },
   {
    "duration": 1618,
    "start_time": "2022-12-29T14:13:58.547Z"
   },
   {
    "duration": 1758,
    "start_time": "2022-12-29T14:14:00.168Z"
   },
   {
    "duration": 5,
    "start_time": "2022-12-29T14:14:01.928Z"
   },
   {
    "duration": 153,
    "start_time": "2022-12-29T14:14:01.935Z"
   },
   {
    "duration": 280,
    "start_time": "2022-12-29T14:14:02.091Z"
   },
   {
    "duration": 542,
    "start_time": "2022-12-29T14:14:02.374Z"
   },
   {
    "duration": 103,
    "start_time": "2022-12-29T14:14:02.918Z"
   },
   {
    "duration": 6,
    "start_time": "2022-12-29T14:14:03.023Z"
   },
   {
    "duration": 65,
    "start_time": "2022-12-29T14:14:03.031Z"
   },
   {
    "duration": 29,
    "start_time": "2022-12-29T14:14:03.098Z"
   },
   {
    "duration": 62,
    "start_time": "2022-12-29T14:14:03.129Z"
   },
   {
    "duration": 64,
    "start_time": "2022-12-29T14:14:03.193Z"
   },
   {
    "duration": 25,
    "start_time": "2022-12-29T14:14:03.263Z"
   },
   {
    "duration": 118,
    "start_time": "2022-12-29T14:14:03.292Z"
   },
   {
    "duration": 382,
    "start_time": "2022-12-29T14:14:03.413Z"
   },
   {
    "duration": 121,
    "start_time": "2022-12-29T14:14:03.797Z"
   },
   {
    "duration": 13,
    "start_time": "2022-12-29T14:14:03.921Z"
   },
   {
    "duration": 46,
    "start_time": "2022-12-29T14:14:03.951Z"
   },
   {
    "duration": 16,
    "start_time": "2022-12-29T14:14:03.999Z"
   },
   {
    "duration": 67,
    "start_time": "2022-12-29T14:14:04.018Z"
   },
   {
    "duration": 14,
    "start_time": "2022-12-29T14:14:07.942Z"
   },
   {
    "duration": 42,
    "start_time": "2022-12-29T14:14:20.710Z"
   },
   {
    "duration": 51,
    "start_time": "2022-12-29T14:14:25.447Z"
   },
   {
    "duration": 21,
    "start_time": "2022-12-29T14:21:02.145Z"
   },
   {
    "duration": 15,
    "start_time": "2022-12-29T14:21:10.105Z"
   },
   {
    "duration": 13,
    "start_time": "2022-12-29T14:21:26.640Z"
   },
   {
    "duration": 14,
    "start_time": "2022-12-29T14:21:59.276Z"
   },
   {
    "duration": 182,
    "start_time": "2022-12-29T14:33:39.015Z"
   },
   {
    "duration": 1628,
    "start_time": "2022-12-29T14:33:50.105Z"
   },
   {
    "duration": 2161,
    "start_time": "2022-12-29T14:33:51.736Z"
   },
   {
    "duration": 4,
    "start_time": "2022-12-29T14:33:53.900Z"
   },
   {
    "duration": 95,
    "start_time": "2022-12-29T14:33:53.906Z"
   },
   {
    "duration": 241,
    "start_time": "2022-12-29T14:33:54.004Z"
   },
   {
    "duration": 483,
    "start_time": "2022-12-29T14:33:54.250Z"
   },
   {
    "duration": 120,
    "start_time": "2022-12-29T14:33:54.735Z"
   },
   {
    "duration": 28,
    "start_time": "2022-12-29T14:33:54.860Z"
   },
   {
    "duration": 16,
    "start_time": "2022-12-29T14:33:54.890Z"
   },
   {
    "duration": 10,
    "start_time": "2022-12-29T14:33:54.909Z"
   },
   {
    "duration": 29,
    "start_time": "2022-12-29T14:33:54.921Z"
   },
   {
    "duration": 68,
    "start_time": "2022-12-29T14:33:54.959Z"
   },
   {
    "duration": 25,
    "start_time": "2022-12-29T14:33:55.030Z"
   },
   {
    "duration": 102,
    "start_time": "2022-12-29T14:33:55.060Z"
   },
   {
    "duration": 406,
    "start_time": "2022-12-29T14:33:55.164Z"
   },
   {
    "duration": 184,
    "start_time": "2022-12-29T14:33:55.580Z"
   },
   {
    "duration": 53,
    "start_time": "2022-12-29T14:33:55.766Z"
   },
   {
    "duration": 36,
    "start_time": "2022-12-29T14:33:55.821Z"
   },
   {
    "duration": 44,
    "start_time": "2022-12-29T14:33:55.859Z"
   },
   {
    "duration": 75,
    "start_time": "2022-12-29T14:33:55.906Z"
   },
   {
    "duration": 25,
    "start_time": "2022-12-29T14:33:55.983Z"
   },
   {
    "duration": 24,
    "start_time": "2022-12-29T14:33:56.010Z"
   },
   {
    "duration": 25,
    "start_time": "2022-12-29T14:33:56.036Z"
   },
   {
    "duration": 61,
    "start_time": "2022-12-29T14:33:56.063Z"
   },
   {
    "duration": 89,
    "start_time": "2022-12-29T14:33:56.126Z"
   },
   {
    "duration": 8,
    "start_time": "2022-12-29T14:33:56.217Z"
   },
   {
    "duration": 55,
    "start_time": "2022-12-29T14:33:56.228Z"
   },
   {
    "duration": 20,
    "start_time": "2022-12-29T14:33:56.285Z"
   },
   {
    "duration": 26,
    "start_time": "2022-12-29T14:33:56.307Z"
   },
   {
    "duration": 31,
    "start_time": "2022-12-29T14:33:56.335Z"
   },
   {
    "duration": 48,
    "start_time": "2022-12-29T14:33:56.368Z"
   },
   {
    "duration": 329,
    "start_time": "2022-12-29T14:33:56.419Z"
   },
   {
    "duration": 31,
    "start_time": "2022-12-29T14:33:56.751Z"
   },
   {
    "duration": 53,
    "start_time": "2022-12-29T14:33:56.784Z"
   },
   {
    "duration": 132,
    "start_time": "2022-12-29T14:33:56.840Z"
   },
   {
    "duration": 31,
    "start_time": "2022-12-29T14:33:56.974Z"
   },
   {
    "duration": 12,
    "start_time": "2022-12-29T14:33:57.007Z"
   },
   {
    "duration": 63,
    "start_time": "2022-12-29T14:33:57.021Z"
   },
   {
    "duration": 25,
    "start_time": "2022-12-29T14:33:57.086Z"
   },
   {
    "duration": 15,
    "start_time": "2022-12-29T14:33:57.114Z"
   },
   {
    "duration": 258,
    "start_time": "2022-12-29T14:33:57.135Z"
   },
   {
    "duration": 484,
    "start_time": "2022-12-29T14:33:57.395Z"
   },
   {
    "duration": 88,
    "start_time": "2022-12-29T14:33:57.881Z"
   },
   {
    "duration": 43,
    "start_time": "2022-12-29T14:33:57.970Z"
   },
   {
    "duration": 591,
    "start_time": "2022-12-29T14:33:58.018Z"
   },
   {
    "duration": 261,
    "start_time": "2022-12-29T14:34:03.487Z"
   },
   {
    "duration": 38,
    "start_time": "2022-12-29T14:34:13.151Z"
   },
   {
    "duration": 102,
    "start_time": "2022-12-29T14:34:39.295Z"
   },
   {
    "duration": 42,
    "start_time": "2022-12-29T14:36:00.310Z"
   },
   {
    "duration": 14170,
    "start_time": "2022-12-29T14:36:16.075Z"
   },
   {
    "duration": 95,
    "start_time": "2022-12-29T14:36:47.581Z"
   },
   {
    "duration": 24,
    "start_time": "2022-12-29T14:37:05.550Z"
   },
   {
    "duration": 32,
    "start_time": "2022-12-29T14:37:10.035Z"
   },
   {
    "duration": 76,
    "start_time": "2022-12-29T14:37:13.373Z"
   },
   {
    "duration": 15,
    "start_time": "2022-12-29T14:51:37.026Z"
   },
   {
    "duration": 79,
    "start_time": "2022-12-29T14:51:41.297Z"
   },
   {
    "duration": 11,
    "start_time": "2022-12-29T14:51:56.401Z"
   },
   {
    "duration": 11,
    "start_time": "2022-12-29T17:33:04.103Z"
   },
   {
    "duration": 17,
    "start_time": "2022-12-29T17:33:05.186Z"
   },
   {
    "duration": 16,
    "start_time": "2022-12-29T17:34:40.181Z"
   },
   {
    "duration": 20,
    "start_time": "2022-12-29T17:35:14.984Z"
   },
   {
    "duration": 38,
    "start_time": "2022-12-29T17:35:48.279Z"
   },
   {
    "duration": 177,
    "start_time": "2022-12-29T17:35:57.423Z"
   },
   {
    "duration": 101,
    "start_time": "2022-12-29T17:39:15.012Z"
   },
   {
    "duration": 268,
    "start_time": "2022-12-29T17:40:13.547Z"
   },
   {
    "duration": 21,
    "start_time": "2022-12-29T17:42:15.945Z"
   },
   {
    "duration": 24,
    "start_time": "2022-12-29T17:42:37.954Z"
   },
   {
    "duration": 25,
    "start_time": "2022-12-29T17:48:52.264Z"
   },
   {
    "duration": 12,
    "start_time": "2022-12-29T17:49:09.392Z"
   },
   {
    "duration": 18,
    "start_time": "2022-12-29T17:49:10.228Z"
   },
   {
    "duration": 14,
    "start_time": "2022-12-29T17:49:42.108Z"
   },
   {
    "duration": 18,
    "start_time": "2022-12-29T17:49:42.516Z"
   },
   {
    "duration": 15,
    "start_time": "2022-12-29T17:49:49.403Z"
   },
   {
    "duration": 20,
    "start_time": "2022-12-29T17:49:50.973Z"
   },
   {
    "duration": 21,
    "start_time": "2022-12-29T17:52:51.324Z"
   },
   {
    "duration": 22,
    "start_time": "2022-12-29T17:52:58.393Z"
   },
   {
    "duration": 15,
    "start_time": "2022-12-29T17:53:09.393Z"
   },
   {
    "duration": 52,
    "start_time": "2022-12-29T17:53:37.296Z"
   },
   {
    "duration": 44,
    "start_time": "2022-12-29T17:54:14.240Z"
   },
   {
    "duration": 63,
    "start_time": "2022-12-29T17:54:18.275Z"
   },
   {
    "duration": 57,
    "start_time": "2022-12-29T17:54:34.179Z"
   },
   {
    "duration": 489,
    "start_time": "2022-12-29T17:56:49.918Z"
   },
   {
    "duration": 384,
    "start_time": "2022-12-29T17:58:09.368Z"
   },
   {
    "duration": 756,
    "start_time": "2022-12-29T17:58:12.940Z"
   },
   {
    "duration": 422,
    "start_time": "2022-12-29T17:58:15.865Z"
   },
   {
    "duration": 362,
    "start_time": "2022-12-29T17:58:25.804Z"
   },
   {
    "duration": 50,
    "start_time": "2022-12-29T18:03:59.104Z"
   },
   {
    "duration": 50,
    "start_time": "2022-12-29T18:04:12.197Z"
   },
   {
    "duration": 60,
    "start_time": "2022-12-29T18:04:15.407Z"
   },
   {
    "duration": 17,
    "start_time": "2022-12-29T18:05:48.246Z"
   },
   {
    "duration": 16,
    "start_time": "2022-12-29T18:06:05.997Z"
   },
   {
    "duration": 57,
    "start_time": "2022-12-29T18:06:27.951Z"
   },
   {
    "duration": 16,
    "start_time": "2022-12-29T18:06:30.182Z"
   },
   {
    "duration": 377,
    "start_time": "2022-12-29T18:06:41.149Z"
   },
   {
    "duration": 36,
    "start_time": "2022-12-29T18:17:33.794Z"
   },
   {
    "duration": 32,
    "start_time": "2022-12-29T18:17:39.797Z"
   },
   {
    "duration": 280,
    "start_time": "2022-12-29T18:18:20.573Z"
   },
   {
    "duration": 23,
    "start_time": "2022-12-29T18:18:23.476Z"
   },
   {
    "duration": 348,
    "start_time": "2022-12-29T18:18:24.884Z"
   },
   {
    "duration": 19,
    "start_time": "2022-12-29T18:18:39.968Z"
   },
   {
    "duration": 17,
    "start_time": "2022-12-29T18:18:46.474Z"
   },
   {
    "duration": 641,
    "start_time": "2022-12-29T18:19:20.651Z"
   },
   {
    "duration": 44,
    "start_time": "2022-12-29T18:19:56.305Z"
   },
   {
    "duration": 57,
    "start_time": "2022-12-29T18:20:00.138Z"
   },
   {
    "duration": 378,
    "start_time": "2022-12-29T18:20:47.049Z"
   },
   {
    "duration": 424,
    "start_time": "2022-12-29T18:20:52.083Z"
   },
   {
    "duration": 13,
    "start_time": "2022-12-29T18:21:26.384Z"
   },
   {
    "duration": 4,
    "start_time": "2022-12-29T18:23:52.143Z"
   },
   {
    "duration": 5,
    "start_time": "2022-12-29T18:26:40.283Z"
   },
   {
    "duration": 1225,
    "start_time": "2022-12-30T01:25:30.676Z"
   },
   {
    "duration": 1170,
    "start_time": "2022-12-30T01:25:31.903Z"
   },
   {
    "duration": 3,
    "start_time": "2022-12-30T01:25:33.075Z"
   },
   {
    "duration": 44,
    "start_time": "2022-12-30T01:25:33.080Z"
   },
   {
    "duration": 120,
    "start_time": "2022-12-30T01:25:33.125Z"
   },
   {
    "duration": 275,
    "start_time": "2022-12-30T01:25:33.246Z"
   },
   {
    "duration": 47,
    "start_time": "2022-12-30T01:25:33.523Z"
   },
   {
    "duration": 5,
    "start_time": "2022-12-30T01:25:33.571Z"
   },
   {
    "duration": 7,
    "start_time": "2022-12-30T01:25:33.577Z"
   },
   {
    "duration": 4,
    "start_time": "2022-12-30T01:25:33.616Z"
   },
   {
    "duration": 15,
    "start_time": "2022-12-30T01:25:33.622Z"
   },
   {
    "duration": 27,
    "start_time": "2022-12-30T01:25:33.639Z"
   },
   {
    "duration": 12,
    "start_time": "2022-12-30T01:25:33.667Z"
   },
   {
    "duration": 79,
    "start_time": "2022-12-30T01:25:33.680Z"
   },
   {
    "duration": 247,
    "start_time": "2022-12-30T01:25:33.761Z"
   },
   {
    "duration": 107,
    "start_time": "2022-12-30T01:25:34.009Z"
   },
   {
    "duration": 7,
    "start_time": "2022-12-30T01:25:34.118Z"
   },
   {
    "duration": 18,
    "start_time": "2022-12-30T01:25:34.126Z"
   },
   {
    "duration": 7,
    "start_time": "2022-12-30T01:25:34.145Z"
   },
   {
    "duration": 26,
    "start_time": "2022-12-30T01:25:34.153Z"
   },
   {
    "duration": 12,
    "start_time": "2022-12-30T01:25:34.180Z"
   },
   {
    "duration": 23,
    "start_time": "2022-12-30T01:25:34.193Z"
   },
   {
    "duration": 11,
    "start_time": "2022-12-30T01:25:34.218Z"
   },
   {
    "duration": 5,
    "start_time": "2022-12-30T01:25:34.232Z"
   },
   {
    "duration": 23,
    "start_time": "2022-12-30T01:25:34.239Z"
   },
   {
    "duration": 18,
    "start_time": "2022-12-30T01:25:34.264Z"
   },
   {
    "duration": 39,
    "start_time": "2022-12-30T01:25:34.284Z"
   },
   {
    "duration": 17,
    "start_time": "2022-12-30T01:25:34.327Z"
   },
   {
    "duration": 16,
    "start_time": "2022-12-30T01:25:34.346Z"
   },
   {
    "duration": 13,
    "start_time": "2022-12-30T01:25:34.364Z"
   },
   {
    "duration": 8,
    "start_time": "2022-12-30T01:25:34.379Z"
   },
   {
    "duration": 34,
    "start_time": "2022-12-30T01:25:34.388Z"
   },
   {
    "duration": 151,
    "start_time": "2022-12-30T01:25:34.424Z"
   },
   {
    "duration": 11,
    "start_time": "2022-12-30T01:25:34.577Z"
   },
   {
    "duration": 32,
    "start_time": "2022-12-30T01:25:34.590Z"
   },
   {
    "duration": 69,
    "start_time": "2022-12-30T01:25:34.623Z"
   },
   {
    "duration": 47,
    "start_time": "2022-12-30T01:25:34.694Z"
   },
   {
    "duration": 10,
    "start_time": "2022-12-30T01:25:34.743Z"
   },
   {
    "duration": 25,
    "start_time": "2022-12-30T01:25:34.755Z"
   },
   {
    "duration": 18,
    "start_time": "2022-12-30T01:25:34.781Z"
   },
   {
    "duration": 90,
    "start_time": "2022-12-30T01:25:34.814Z"
   },
   {
    "duration": 0,
    "start_time": "2022-12-30T01:25:34.906Z"
   },
   {
    "duration": 0,
    "start_time": "2022-12-30T01:25:34.916Z"
   },
   {
    "duration": 0,
    "start_time": "2022-12-30T01:25:34.917Z"
   },
   {
    "duration": 0,
    "start_time": "2022-12-30T01:25:34.918Z"
   },
   {
    "duration": 0,
    "start_time": "2022-12-30T01:25:34.919Z"
   },
   {
    "duration": 0,
    "start_time": "2022-12-30T01:25:34.920Z"
   },
   {
    "duration": 0,
    "start_time": "2022-12-30T01:25:34.921Z"
   },
   {
    "duration": 0,
    "start_time": "2022-12-30T01:25:34.922Z"
   },
   {
    "duration": 0,
    "start_time": "2022-12-30T01:25:34.923Z"
   },
   {
    "duration": 0,
    "start_time": "2022-12-30T01:25:34.924Z"
   },
   {
    "duration": 0,
    "start_time": "2022-12-30T01:25:34.925Z"
   },
   {
    "duration": 0,
    "start_time": "2022-12-30T01:25:34.926Z"
   },
   {
    "duration": 0,
    "start_time": "2022-12-30T01:25:34.927Z"
   },
   {
    "duration": 0,
    "start_time": "2022-12-30T01:25:34.928Z"
   },
   {
    "duration": 0,
    "start_time": "2022-12-30T01:25:34.929Z"
   },
   {
    "duration": 0,
    "start_time": "2022-12-30T01:25:34.930Z"
   },
   {
    "duration": 0,
    "start_time": "2022-12-30T01:25:34.931Z"
   },
   {
    "duration": 6,
    "start_time": "2022-12-30T01:26:52.665Z"
   },
   {
    "duration": 13,
    "start_time": "2022-12-30T01:29:22.422Z"
   },
   {
    "duration": 3086,
    "start_time": "2022-12-30T01:29:23.221Z"
   },
   {
    "duration": 17,
    "start_time": "2022-12-30T01:29:31.288Z"
   },
   {
    "duration": 12,
    "start_time": "2022-12-30T01:29:31.727Z"
   },
   {
    "duration": 11,
    "start_time": "2022-12-30T01:29:32.311Z"
   },
   {
    "duration": 246,
    "start_time": "2022-12-30T01:29:35.068Z"
   },
   {
    "duration": 34,
    "start_time": "2022-12-30T01:29:35.393Z"
   },
   {
    "duration": 278,
    "start_time": "2022-12-30T01:29:35.812Z"
   },
   {
    "duration": 293,
    "start_time": "2022-12-30T01:29:47.916Z"
   },
   {
    "duration": 21,
    "start_time": "2022-12-30T01:29:50.189Z"
   },
   {
    "duration": 303,
    "start_time": "2022-12-30T01:29:50.819Z"
   },
   {
    "duration": 8,
    "start_time": "2022-12-30T01:29:53.124Z"
   },
   {
    "duration": 21,
    "start_time": "2022-12-30T01:29:54.397Z"
   },
   {
    "duration": 19,
    "start_time": "2022-12-30T01:29:55.826Z"
   },
   {
    "duration": 22,
    "start_time": "2022-12-30T01:31:24.208Z"
   },
   {
    "duration": 9,
    "start_time": "2022-12-30T01:31:24.649Z"
   },
   {
    "duration": 10,
    "start_time": "2022-12-30T01:31:25.672Z"
   },
   {
    "duration": 1292,
    "start_time": "2022-12-30T10:01:45.907Z"
   },
   {
    "duration": 1257,
    "start_time": "2022-12-30T10:01:47.201Z"
   },
   {
    "duration": 3,
    "start_time": "2022-12-30T10:01:48.460Z"
   },
   {
    "duration": 50,
    "start_time": "2022-12-30T10:01:48.465Z"
   },
   {
    "duration": 119,
    "start_time": "2022-12-30T10:01:48.516Z"
   },
   {
    "duration": 273,
    "start_time": "2022-12-30T10:01:48.637Z"
   },
   {
    "duration": 54,
    "start_time": "2022-12-30T10:01:48.912Z"
   },
   {
    "duration": 5,
    "start_time": "2022-12-30T10:01:48.968Z"
   },
   {
    "duration": 14,
    "start_time": "2022-12-30T10:01:48.974Z"
   },
   {
    "duration": 16,
    "start_time": "2022-12-30T10:01:48.992Z"
   },
   {
    "duration": 26,
    "start_time": "2022-12-30T10:01:49.009Z"
   },
   {
    "duration": 32,
    "start_time": "2022-12-30T10:01:49.036Z"
   },
   {
    "duration": 13,
    "start_time": "2022-12-30T10:01:49.070Z"
   },
   {
    "duration": 75,
    "start_time": "2022-12-30T10:01:49.084Z"
   },
   {
    "duration": 243,
    "start_time": "2022-12-30T10:01:49.160Z"
   },
   {
    "duration": 89,
    "start_time": "2022-12-30T10:01:49.405Z"
   },
   {
    "duration": 8,
    "start_time": "2022-12-30T10:01:49.496Z"
   },
   {
    "duration": 22,
    "start_time": "2022-12-30T10:01:49.505Z"
   },
   {
    "duration": 6,
    "start_time": "2022-12-30T10:01:49.529Z"
   },
   {
    "duration": 30,
    "start_time": "2022-12-30T10:01:49.537Z"
   },
   {
    "duration": 8,
    "start_time": "2022-12-30T10:01:49.569Z"
   },
   {
    "duration": 13,
    "start_time": "2022-12-30T10:01:49.579Z"
   },
   {
    "duration": 14,
    "start_time": "2022-12-30T10:01:49.594Z"
   },
   {
    "duration": 4,
    "start_time": "2022-12-30T10:01:49.621Z"
   },
   {
    "duration": 17,
    "start_time": "2022-12-30T10:01:49.627Z"
   },
   {
    "duration": 17,
    "start_time": "2022-12-30T10:01:49.646Z"
   },
   {
    "duration": 5,
    "start_time": "2022-12-30T10:01:49.665Z"
   },
   {
    "duration": 14,
    "start_time": "2022-12-30T10:01:49.674Z"
   },
   {
    "duration": 43,
    "start_time": "2022-12-30T10:01:49.689Z"
   },
   {
    "duration": 32,
    "start_time": "2022-12-30T10:01:49.734Z"
   },
   {
    "duration": 8,
    "start_time": "2022-12-30T10:01:49.768Z"
   },
   {
    "duration": 14,
    "start_time": "2022-12-30T10:01:49.777Z"
   },
   {
    "duration": 134,
    "start_time": "2022-12-30T10:01:49.792Z"
   },
   {
    "duration": 11,
    "start_time": "2022-12-30T10:01:49.928Z"
   },
   {
    "duration": 26,
    "start_time": "2022-12-30T10:01:49.940Z"
   },
   {
    "duration": 94,
    "start_time": "2022-12-30T10:01:49.968Z"
   },
   {
    "duration": 19,
    "start_time": "2022-12-30T10:01:50.063Z"
   },
   {
    "duration": 24,
    "start_time": "2022-12-30T10:01:50.084Z"
   },
   {
    "duration": 39,
    "start_time": "2022-12-30T10:01:50.122Z"
   },
   {
    "duration": 22,
    "start_time": "2022-12-30T10:01:50.163Z"
   },
   {
    "duration": 12,
    "start_time": "2022-12-30T10:01:50.187Z"
   },
   {
    "duration": 159,
    "start_time": "2022-12-30T10:01:50.201Z"
   },
   {
    "duration": 25,
    "start_time": "2022-12-30T10:01:50.362Z"
   },
   {
    "duration": 14,
    "start_time": "2022-12-30T10:01:50.389Z"
   },
   {
    "duration": 17,
    "start_time": "2022-12-30T10:01:50.406Z"
   },
   {
    "duration": 499,
    "start_time": "2022-12-30T10:01:50.425Z"
   },
   {
    "duration": 36,
    "start_time": "2022-12-30T10:01:50.925Z"
   },
   {
    "duration": 377,
    "start_time": "2022-12-30T10:01:50.963Z"
   },
   {
    "duration": 310,
    "start_time": "2022-12-30T10:01:51.342Z"
   },
   {
    "duration": 23,
    "start_time": "2022-12-30T10:01:51.654Z"
   },
   {
    "duration": 302,
    "start_time": "2022-12-30T10:01:51.678Z"
   },
   {
    "duration": 7,
    "start_time": "2022-12-30T10:01:51.982Z"
   },
   {
    "duration": 31,
    "start_time": "2022-12-30T10:01:51.990Z"
   },
   {
    "duration": 14,
    "start_time": "2022-12-30T10:01:52.023Z"
   },
   {
    "duration": 36,
    "start_time": "2022-12-30T10:01:52.038Z"
   },
   {
    "duration": 10,
    "start_time": "2022-12-30T10:01:52.076Z"
   },
   {
    "duration": 14,
    "start_time": "2022-12-30T10:01:52.089Z"
   },
   {
    "duration": 209,
    "start_time": "2022-12-30T10:08:25.156Z"
   },
   {
    "duration": 30,
    "start_time": "2022-12-30T10:08:29.648Z"
   },
   {
    "duration": 4,
    "start_time": "2022-12-30T10:08:35.003Z"
   },
   {
    "duration": 20,
    "start_time": "2022-12-30T10:08:36.188Z"
   },
   {
    "duration": 4,
    "start_time": "2022-12-30T10:09:10.771Z"
   },
   {
    "duration": 14,
    "start_time": "2022-12-30T10:12:15.889Z"
   },
   {
    "duration": 16,
    "start_time": "2022-12-30T10:14:30.047Z"
   },
   {
    "duration": 12,
    "start_time": "2022-12-30T10:16:20.709Z"
   },
   {
    "duration": 18,
    "start_time": "2022-12-30T10:22:16.057Z"
   },
   {
    "duration": 9,
    "start_time": "2022-12-30T10:22:46.104Z"
   },
   {
    "duration": 12,
    "start_time": "2022-12-30T10:26:21.782Z"
   },
   {
    "duration": 14,
    "start_time": "2022-12-30T10:29:26.507Z"
   },
   {
    "duration": 16,
    "start_time": "2022-12-30T10:29:28.947Z"
   },
   {
    "duration": 9,
    "start_time": "2022-12-30T10:31:04.939Z"
   },
   {
    "duration": 295,
    "start_time": "2022-12-30T10:33:58.556Z"
   },
   {
    "duration": 288,
    "start_time": "2022-12-30T10:34:02.296Z"
   },
   {
    "duration": 28,
    "start_time": "2022-12-30T10:35:51.281Z"
   },
   {
    "duration": 12,
    "start_time": "2022-12-30T10:50:20.859Z"
   },
   {
    "duration": 754,
    "start_time": "2022-12-30T10:50:27.877Z"
   },
   {
    "duration": 694,
    "start_time": "2022-12-30T10:50:32.219Z"
   },
   {
    "duration": 6,
    "start_time": "2022-12-30T10:50:36.195Z"
   },
   {
    "duration": 10,
    "start_time": "2022-12-30T10:51:42.722Z"
   },
   {
    "duration": 3,
    "start_time": "2022-12-30T10:54:40.695Z"
   },
   {
    "duration": 5,
    "start_time": "2022-12-30T10:54:44.551Z"
   },
   {
    "duration": 4,
    "start_time": "2022-12-30T10:58:06.229Z"
   },
   {
    "duration": 20,
    "start_time": "2022-12-30T10:58:44.893Z"
   },
   {
    "duration": 9,
    "start_time": "2022-12-30T10:58:49.741Z"
   },
   {
    "duration": 17,
    "start_time": "2022-12-30T10:59:14.932Z"
   },
   {
    "duration": 4,
    "start_time": "2022-12-30T11:00:03.060Z"
   },
   {
    "duration": 25,
    "start_time": "2022-12-30T11:02:14.402Z"
   },
   {
    "duration": 13,
    "start_time": "2022-12-30T11:02:15.993Z"
   },
   {
    "duration": 9,
    "start_time": "2022-12-30T11:05:54.919Z"
   },
   {
    "duration": 45,
    "start_time": "2022-12-30T11:08:08.038Z"
   },
   {
    "duration": 28,
    "start_time": "2022-12-30T11:08:12.785Z"
   },
   {
    "duration": 18,
    "start_time": "2022-12-30T11:15:32.880Z"
   },
   {
    "duration": 22,
    "start_time": "2022-12-30T11:15:42.592Z"
   },
   {
    "duration": 13,
    "start_time": "2022-12-30T11:16:17.967Z"
   },
   {
    "duration": 11,
    "start_time": "2022-12-30T11:17:28.790Z"
   },
   {
    "duration": 13,
    "start_time": "2022-12-30T11:17:46.701Z"
   },
   {
    "duration": 10,
    "start_time": "2022-12-30T11:20:36.756Z"
   },
   {
    "duration": 116,
    "start_time": "2022-12-30T11:20:40.312Z"
   },
   {
    "duration": 8,
    "start_time": "2022-12-30T11:21:22.732Z"
   },
   {
    "duration": 12,
    "start_time": "2022-12-30T11:35:04.268Z"
   },
   {
    "duration": 44,
    "start_time": "2022-12-30T11:48:09.325Z"
   },
   {
    "duration": 10,
    "start_time": "2022-12-30T11:48:15.089Z"
   },
   {
    "duration": 10,
    "start_time": "2022-12-30T11:48:39.613Z"
   },
   {
    "duration": 26,
    "start_time": "2022-12-30T11:48:42.100Z"
   },
   {
    "duration": 15,
    "start_time": "2022-12-30T11:48:43.452Z"
   },
   {
    "duration": 7,
    "start_time": "2022-12-30T11:50:11.060Z"
   },
   {
    "duration": 42,
    "start_time": "2022-12-30T11:50:13.700Z"
   },
   {
    "duration": 13,
    "start_time": "2022-12-30T11:50:23.004Z"
   },
   {
    "duration": 667,
    "start_time": "2022-12-30T11:51:35.458Z"
   },
   {
    "duration": 25,
    "start_time": "2022-12-30T11:51:36.746Z"
   },
   {
    "duration": 693,
    "start_time": "2022-12-30T11:51:37.754Z"
   },
   {
    "duration": 13,
    "start_time": "2022-12-30T11:51:41.659Z"
   },
   {
    "duration": 10,
    "start_time": "2022-12-30T11:51:42.426Z"
   },
   {
    "duration": 4,
    "start_time": "2022-12-30T11:52:49.625Z"
   },
   {
    "duration": 43,
    "start_time": "2022-12-30T11:57:07.478Z"
   },
   {
    "duration": 33,
    "start_time": "2022-12-30T11:58:38.101Z"
   },
   {
    "duration": 34,
    "start_time": "2022-12-30T11:58:44.500Z"
   },
   {
    "duration": 14,
    "start_time": "2022-12-30T11:59:08.396Z"
   },
   {
    "duration": 15,
    "start_time": "2022-12-30T11:59:29.765Z"
   },
   {
    "duration": 31,
    "start_time": "2022-12-30T12:00:39.316Z"
   },
   {
    "duration": 13,
    "start_time": "2022-12-30T12:00:40.060Z"
   },
   {
    "duration": 9,
    "start_time": "2022-12-30T12:00:46.940Z"
   },
   {
    "duration": 1128,
    "start_time": "2022-12-30T12:04:20.245Z"
   },
   {
    "duration": 1277,
    "start_time": "2022-12-30T12:04:21.375Z"
   },
   {
    "duration": 4,
    "start_time": "2022-12-30T12:04:22.653Z"
   },
   {
    "duration": 41,
    "start_time": "2022-12-30T12:04:22.659Z"
   },
   {
    "duration": 128,
    "start_time": "2022-12-30T12:04:22.702Z"
   },
   {
    "duration": 279,
    "start_time": "2022-12-30T12:04:22.832Z"
   },
   {
    "duration": 51,
    "start_time": "2022-12-30T12:04:23.113Z"
   },
   {
    "duration": 4,
    "start_time": "2022-12-30T12:04:23.166Z"
   },
   {
    "duration": 9,
    "start_time": "2022-12-30T12:04:23.172Z"
   },
   {
    "duration": 7,
    "start_time": "2022-12-30T12:04:23.184Z"
   },
   {
    "duration": 36,
    "start_time": "2022-12-30T12:04:23.192Z"
   },
   {
    "duration": 32,
    "start_time": "2022-12-30T12:04:23.229Z"
   },
   {
    "duration": 11,
    "start_time": "2022-12-30T12:04:23.262Z"
   },
   {
    "duration": 63,
    "start_time": "2022-12-30T12:04:23.275Z"
   },
   {
    "duration": 234,
    "start_time": "2022-12-30T12:04:23.340Z"
   },
   {
    "duration": 89,
    "start_time": "2022-12-30T12:04:23.576Z"
   },
   {
    "duration": 7,
    "start_time": "2022-12-30T12:04:23.667Z"
   },
   {
    "duration": 12,
    "start_time": "2022-12-30T12:04:23.675Z"
   },
   {
    "duration": 8,
    "start_time": "2022-12-30T12:04:23.688Z"
   },
   {
    "duration": 40,
    "start_time": "2022-12-30T12:04:23.697Z"
   },
   {
    "duration": 21,
    "start_time": "2022-12-30T12:04:23.739Z"
   },
   {
    "duration": 4,
    "start_time": "2022-12-30T12:04:23.761Z"
   },
   {
    "duration": 11,
    "start_time": "2022-12-30T12:04:23.766Z"
   },
   {
    "duration": 21,
    "start_time": "2022-12-30T12:04:23.779Z"
   },
   {
    "duration": 6,
    "start_time": "2022-12-30T12:04:23.801Z"
   },
   {
    "duration": 21,
    "start_time": "2022-12-30T12:04:23.808Z"
   },
   {
    "duration": 4,
    "start_time": "2022-12-30T12:04:23.831Z"
   },
   {
    "duration": 18,
    "start_time": "2022-12-30T12:04:23.838Z"
   },
   {
    "duration": 18,
    "start_time": "2022-12-30T12:04:23.857Z"
   },
   {
    "duration": 6,
    "start_time": "2022-12-30T12:04:23.877Z"
   },
   {
    "duration": 45,
    "start_time": "2022-12-30T12:04:23.884Z"
   },
   {
    "duration": 12,
    "start_time": "2022-12-30T12:04:23.930Z"
   },
   {
    "duration": 13,
    "start_time": "2022-12-30T12:04:23.944Z"
   },
   {
    "duration": 62,
    "start_time": "2022-12-30T12:04:23.959Z"
   },
   {
    "duration": 12,
    "start_time": "2022-12-30T12:04:24.023Z"
   },
   {
    "duration": 13,
    "start_time": "2022-12-30T12:04:24.036Z"
   },
   {
    "duration": 8,
    "start_time": "2022-12-30T12:04:24.050Z"
   },
   {
    "duration": 14,
    "start_time": "2022-12-30T12:04:24.059Z"
   },
   {
    "duration": 166,
    "start_time": "2022-12-30T12:04:24.074Z"
   },
   {
    "duration": 12,
    "start_time": "2022-12-30T12:04:24.241Z"
   },
   {
    "duration": 19,
    "start_time": "2022-12-30T12:04:24.254Z"
   },
   {
    "duration": 88,
    "start_time": "2022-12-30T12:04:24.274Z"
   },
   {
    "duration": 21,
    "start_time": "2022-12-30T12:04:24.364Z"
   },
   {
    "duration": 7,
    "start_time": "2022-12-30T12:04:24.386Z"
   },
   {
    "duration": 46,
    "start_time": "2022-12-30T12:04:24.394Z"
   },
   {
    "duration": 24,
    "start_time": "2022-12-30T12:04:24.441Z"
   },
   {
    "duration": 9,
    "start_time": "2022-12-30T12:04:24.466Z"
   },
   {
    "duration": 154,
    "start_time": "2022-12-30T12:04:24.476Z"
   },
   {
    "duration": 25,
    "start_time": "2022-12-30T12:04:24.632Z"
   },
   {
    "duration": 13,
    "start_time": "2022-12-30T12:04:24.659Z"
   },
   {
    "duration": 60,
    "start_time": "2022-12-30T12:04:24.674Z"
   },
   {
    "duration": 342,
    "start_time": "2022-12-30T12:04:24.736Z"
   },
   {
    "duration": 42,
    "start_time": "2022-12-30T12:04:25.080Z"
   },
   {
    "duration": 351,
    "start_time": "2022-12-30T12:04:25.124Z"
   },
   {
    "duration": 288,
    "start_time": "2022-12-30T12:04:25.477Z"
   },
   {
    "duration": 21,
    "start_time": "2022-12-30T12:04:25.767Z"
   },
   {
    "duration": 320,
    "start_time": "2022-12-30T12:04:25.790Z"
   },
   {
    "duration": 13,
    "start_time": "2022-12-30T12:04:26.112Z"
   },
   {
    "duration": 25,
    "start_time": "2022-12-30T12:04:26.127Z"
   },
   {
    "duration": 13,
    "start_time": "2022-12-30T12:04:26.154Z"
   },
   {
    "duration": 28,
    "start_time": "2022-12-30T12:04:26.168Z"
   },
   {
    "duration": 8,
    "start_time": "2022-12-30T12:04:26.220Z"
   },
   {
    "duration": 10,
    "start_time": "2022-12-30T12:04:26.230Z"
   },
   {
    "duration": 160,
    "start_time": "2022-12-30T12:07:59.518Z"
   },
   {
    "duration": 3,
    "start_time": "2022-12-30T12:08:01.358Z"
   },
   {
    "duration": 9,
    "start_time": "2022-12-30T12:08:01.751Z"
   },
   {
    "duration": 3,
    "start_time": "2022-12-30T12:08:25.463Z"
   },
   {
    "duration": 9,
    "start_time": "2022-12-30T12:08:25.960Z"
   },
   {
    "duration": 3,
    "start_time": "2022-12-30T12:08:38.518Z"
   },
   {
    "duration": 8,
    "start_time": "2022-12-30T12:08:39.009Z"
   },
   {
    "duration": 3,
    "start_time": "2022-12-30T12:08:49.135Z"
   },
   {
    "duration": 9,
    "start_time": "2022-12-30T12:08:50.961Z"
   },
   {
    "duration": 11,
    "start_time": "2022-12-30T12:09:54.342Z"
   },
   {
    "duration": 9,
    "start_time": "2022-12-30T12:11:31.692Z"
   },
   {
    "duration": 9,
    "start_time": "2022-12-30T12:11:44.660Z"
   },
   {
    "duration": 12,
    "start_time": "2022-12-30T12:16:44.792Z"
   },
   {
    "duration": 4,
    "start_time": "2022-12-30T12:16:48.376Z"
   },
   {
    "duration": 4,
    "start_time": "2022-12-30T12:16:54.105Z"
   },
   {
    "duration": 9,
    "start_time": "2022-12-30T12:34:32.308Z"
   },
   {
    "duration": 31,
    "start_time": "2022-12-30T12:35:02.896Z"
   },
   {
    "duration": 38,
    "start_time": "2022-12-30T12:35:07.825Z"
   },
   {
    "duration": 24,
    "start_time": "2022-12-30T12:35:27.864Z"
   },
   {
    "duration": 8,
    "start_time": "2022-12-30T12:39:46.925Z"
   },
   {
    "duration": 17,
    "start_time": "2022-12-30T12:40:01.525Z"
   },
   {
    "duration": 22,
    "start_time": "2022-12-30T12:41:03.812Z"
   },
   {
    "duration": 3,
    "start_time": "2022-12-30T12:41:05.788Z"
   },
   {
    "duration": 9,
    "start_time": "2022-12-30T12:41:06.283Z"
   },
   {
    "duration": 13,
    "start_time": "2022-12-30T12:42:58.638Z"
   },
   {
    "duration": 19,
    "start_time": "2022-12-30T12:43:03.322Z"
   },
   {
    "duration": 14,
    "start_time": "2022-12-30T12:43:44.065Z"
   },
   {
    "duration": 1200,
    "start_time": "2022-12-30T12:43:48.293Z"
   },
   {
    "duration": 1686,
    "start_time": "2022-12-30T12:43:49.495Z"
   },
   {
    "duration": 2,
    "start_time": "2022-12-30T12:43:51.183Z"
   },
   {
    "duration": 81,
    "start_time": "2022-12-30T12:43:51.188Z"
   },
   {
    "duration": 192,
    "start_time": "2022-12-30T12:43:51.270Z"
   },
   {
    "duration": 517,
    "start_time": "2022-12-30T12:43:51.464Z"
   },
   {
    "duration": 79,
    "start_time": "2022-12-30T12:43:51.983Z"
   },
   {
    "duration": 59,
    "start_time": "2022-12-30T12:43:52.064Z"
   },
   {
    "duration": 12,
    "start_time": "2022-12-30T12:43:52.124Z"
   },
   {
    "duration": 11,
    "start_time": "2022-12-30T12:43:52.138Z"
   },
   {
    "duration": 72,
    "start_time": "2022-12-30T12:43:52.150Z"
   },
   {
    "duration": 38,
    "start_time": "2022-12-30T12:43:52.224Z"
   },
   {
    "duration": 14,
    "start_time": "2022-12-30T12:43:52.263Z"
   },
   {
    "duration": 96,
    "start_time": "2022-12-30T12:43:52.279Z"
   },
   {
    "duration": 327,
    "start_time": "2022-12-30T12:43:52.377Z"
   },
   {
    "duration": 98,
    "start_time": "2022-12-30T12:43:52.706Z"
   },
   {
    "duration": 23,
    "start_time": "2022-12-30T12:43:52.807Z"
   },
   {
    "duration": 27,
    "start_time": "2022-12-30T12:43:52.836Z"
   },
   {
    "duration": 11,
    "start_time": "2022-12-30T12:43:52.865Z"
   },
   {
    "duration": 30,
    "start_time": "2022-12-30T12:43:52.878Z"
   },
   {
    "duration": 32,
    "start_time": "2022-12-30T12:43:52.910Z"
   },
   {
    "duration": 13,
    "start_time": "2022-12-30T12:43:52.944Z"
   },
   {
    "duration": 4,
    "start_time": "2022-12-30T12:43:52.958Z"
   },
   {
    "duration": 5,
    "start_time": "2022-12-30T12:43:52.964Z"
   },
   {
    "duration": 23,
    "start_time": "2022-12-30T12:43:52.971Z"
   },
   {
    "duration": 20,
    "start_time": "2022-12-30T12:44:02.154Z"
   },
   {
    "duration": 9,
    "start_time": "2022-12-30T12:46:32.567Z"
   },
   {
    "duration": 9,
    "start_time": "2022-12-30T12:46:36.151Z"
   },
   {
    "duration": 95,
    "start_time": "2022-12-30T13:12:28.211Z"
   },
   {
    "duration": 8,
    "start_time": "2022-12-30T13:12:32.194Z"
   },
   {
    "duration": 1127,
    "start_time": "2022-12-30T13:12:37.359Z"
   },
   {
    "duration": 986,
    "start_time": "2022-12-30T13:12:38.488Z"
   },
   {
    "duration": 3,
    "start_time": "2022-12-30T13:12:39.476Z"
   },
   {
    "duration": 44,
    "start_time": "2022-12-30T13:12:39.481Z"
   },
   {
    "duration": 131,
    "start_time": "2022-12-30T13:12:39.527Z"
   },
   {
    "duration": 275,
    "start_time": "2022-12-30T13:12:39.659Z"
   },
   {
    "duration": 50,
    "start_time": "2022-12-30T13:12:39.936Z"
   },
   {
    "duration": 5,
    "start_time": "2022-12-30T13:12:39.987Z"
   },
   {
    "duration": 29,
    "start_time": "2022-12-30T13:12:39.993Z"
   },
   {
    "duration": 15,
    "start_time": "2022-12-30T13:12:40.023Z"
   },
   {
    "duration": 33,
    "start_time": "2022-12-30T13:12:40.040Z"
   },
   {
    "duration": 42,
    "start_time": "2022-12-30T13:12:40.075Z"
   },
   {
    "duration": 19,
    "start_time": "2022-12-30T13:12:40.118Z"
   },
   {
    "duration": 73,
    "start_time": "2022-12-30T13:12:40.139Z"
   },
   {
    "duration": 240,
    "start_time": "2022-12-30T13:12:40.214Z"
   },
   {
    "duration": 103,
    "start_time": "2022-12-30T13:12:40.456Z"
   },
   {
    "duration": 8,
    "start_time": "2022-12-30T13:12:40.560Z"
   },
   {
    "duration": 14,
    "start_time": "2022-12-30T13:12:40.569Z"
   },
   {
    "duration": 9,
    "start_time": "2022-12-30T13:12:40.584Z"
   },
   {
    "duration": 46,
    "start_time": "2022-12-30T13:12:40.595Z"
   },
   {
    "duration": 9,
    "start_time": "2022-12-30T13:12:40.643Z"
   },
   {
    "duration": 5,
    "start_time": "2022-12-30T13:12:40.653Z"
   },
   {
    "duration": 4,
    "start_time": "2022-12-30T13:12:40.660Z"
   },
   {
    "duration": 10,
    "start_time": "2022-12-30T13:12:40.665Z"
   },
   {
    "duration": 12,
    "start_time": "2022-12-30T13:12:40.677Z"
   },
   {
    "duration": 36,
    "start_time": "2022-12-30T13:12:40.690Z"
   },
   {
    "duration": 5,
    "start_time": "2022-12-30T13:12:40.727Z"
   },
   {
    "duration": 18,
    "start_time": "2022-12-30T13:12:40.733Z"
   },
   {
    "duration": 16,
    "start_time": "2022-12-30T13:12:40.753Z"
   },
   {
    "duration": 5,
    "start_time": "2022-12-30T13:12:40.771Z"
   },
   {
    "duration": 18,
    "start_time": "2022-12-30T13:12:40.778Z"
   },
   {
    "duration": 14,
    "start_time": "2022-12-30T13:12:40.821Z"
   },
   {
    "duration": 33,
    "start_time": "2022-12-30T13:12:40.837Z"
   },
   {
    "duration": 40,
    "start_time": "2022-12-30T13:12:40.872Z"
   },
   {
    "duration": 13,
    "start_time": "2022-12-30T13:12:40.914Z"
   },
   {
    "duration": 26,
    "start_time": "2022-12-30T13:12:40.928Z"
   },
   {
    "duration": 11,
    "start_time": "2022-12-30T13:12:51.545Z"
   },
   {
    "duration": 9,
    "start_time": "2022-12-30T13:12:52.490Z"
   },
   {
    "duration": 13,
    "start_time": "2022-12-30T13:13:01.325Z"
   },
   {
    "duration": 1266,
    "start_time": "2022-12-30T13:14:15.283Z"
   },
   {
    "duration": 1258,
    "start_time": "2022-12-30T13:14:16.553Z"
   },
   {
    "duration": 4,
    "start_time": "2022-12-30T13:14:17.812Z"
   },
   {
    "duration": 87,
    "start_time": "2022-12-30T13:14:17.818Z"
   },
   {
    "duration": 164,
    "start_time": "2022-12-30T13:14:17.908Z"
   },
   {
    "duration": 416,
    "start_time": "2022-12-30T13:14:18.074Z"
   },
   {
    "duration": 88,
    "start_time": "2022-12-30T13:14:18.492Z"
   },
   {
    "duration": 6,
    "start_time": "2022-12-30T13:14:18.582Z"
   },
   {
    "duration": 14,
    "start_time": "2022-12-30T13:14:18.590Z"
   },
   {
    "duration": 19,
    "start_time": "2022-12-30T13:14:18.606Z"
   },
   {
    "duration": 36,
    "start_time": "2022-12-30T13:14:18.627Z"
   },
   {
    "duration": 65,
    "start_time": "2022-12-30T13:14:18.666Z"
   },
   {
    "duration": 14,
    "start_time": "2022-12-30T13:14:18.733Z"
   },
   {
    "duration": 75,
    "start_time": "2022-12-30T13:14:18.751Z"
   },
   {
    "duration": 300,
    "start_time": "2022-12-30T13:14:18.828Z"
   },
   {
    "duration": 158,
    "start_time": "2022-12-30T13:14:19.130Z"
   },
   {
    "duration": 12,
    "start_time": "2022-12-30T13:14:19.290Z"
   },
   {
    "duration": 37,
    "start_time": "2022-12-30T13:14:19.303Z"
   },
   {
    "duration": 10,
    "start_time": "2022-12-30T13:14:19.342Z"
   },
   {
    "duration": 44,
    "start_time": "2022-12-30T13:14:19.354Z"
   },
   {
    "duration": 34,
    "start_time": "2022-12-30T13:14:19.400Z"
   },
   {
    "duration": 5,
    "start_time": "2022-12-30T13:14:19.436Z"
   },
   {
    "duration": 7,
    "start_time": "2022-12-30T13:14:19.443Z"
   },
   {
    "duration": 26,
    "start_time": "2022-12-30T13:14:19.452Z"
   },
   {
    "duration": 28,
    "start_time": "2022-12-30T13:14:19.479Z"
   },
   {
    "duration": 21,
    "start_time": "2022-12-30T13:14:19.509Z"
   },
   {
    "duration": 5,
    "start_time": "2022-12-30T13:14:19.532Z"
   },
   {
    "duration": 31,
    "start_time": "2022-12-30T13:14:19.539Z"
   },
   {
    "duration": 30,
    "start_time": "2022-12-30T13:14:19.572Z"
   },
   {
    "duration": 9,
    "start_time": "2022-12-30T13:14:19.620Z"
   },
   {
    "duration": 21,
    "start_time": "2022-12-30T13:14:19.631Z"
   },
   {
    "duration": 19,
    "start_time": "2022-12-30T13:14:19.654Z"
   },
   {
    "duration": 53,
    "start_time": "2022-12-30T13:14:19.676Z"
   },
   {
    "duration": 39,
    "start_time": "2022-12-30T13:14:19.731Z"
   },
   {
    "duration": 16,
    "start_time": "2022-12-30T13:14:19.772Z"
   },
   {
    "duration": 44,
    "start_time": "2022-12-30T13:14:19.790Z"
   },
   {
    "duration": 10,
    "start_time": "2022-12-30T13:14:19.836Z"
   },
   {
    "duration": 15,
    "start_time": "2022-12-30T13:14:19.848Z"
   },
   {
    "duration": 242,
    "start_time": "2022-12-30T13:14:19.865Z"
   },
   {
    "duration": 23,
    "start_time": "2022-12-30T13:14:20.109Z"
   },
   {
    "duration": 27,
    "start_time": "2022-12-30T13:14:20.138Z"
   },
   {
    "duration": 142,
    "start_time": "2022-12-30T13:14:20.167Z"
   },
   {
    "duration": 31,
    "start_time": "2022-12-30T13:14:20.321Z"
   },
   {
    "duration": 9,
    "start_time": "2022-12-30T13:14:20.354Z"
   },
   {
    "duration": 28,
    "start_time": "2022-12-30T13:14:20.364Z"
   },
   {
    "duration": 46,
    "start_time": "2022-12-30T13:14:20.395Z"
   },
   {
    "duration": 28,
    "start_time": "2022-12-30T13:14:20.443Z"
   },
   {
    "duration": 227,
    "start_time": "2022-12-30T13:14:20.473Z"
   },
   {
    "duration": 17,
    "start_time": "2022-12-30T13:14:20.702Z"
   },
   {
    "duration": 13,
    "start_time": "2022-12-30T13:14:20.721Z"
   },
   {
    "duration": 14,
    "start_time": "2022-12-30T13:14:20.735Z"
   },
   {
    "duration": 516,
    "start_time": "2022-12-30T13:14:20.751Z"
   },
   {
    "duration": 58,
    "start_time": "2022-12-30T13:14:21.270Z"
   },
   {
    "duration": 371,
    "start_time": "2022-12-30T13:14:21.330Z"
   },
   {
    "duration": 314,
    "start_time": "2022-12-30T13:14:21.703Z"
   },
   {
    "duration": 23,
    "start_time": "2022-12-30T13:14:22.021Z"
   },
   {
    "duration": 371,
    "start_time": "2022-12-30T13:14:22.046Z"
   },
   {
    "duration": 8,
    "start_time": "2022-12-30T13:14:22.421Z"
   },
   {
    "duration": 33,
    "start_time": "2022-12-30T13:14:22.431Z"
   },
   {
    "duration": 18,
    "start_time": "2022-12-30T13:14:22.466Z"
   },
   {
    "duration": 49,
    "start_time": "2022-12-30T13:14:22.487Z"
   },
   {
    "duration": 12,
    "start_time": "2022-12-30T13:14:22.537Z"
   },
   {
    "duration": 46,
    "start_time": "2022-12-30T13:14:22.552Z"
   },
   {
    "duration": 1212,
    "start_time": "2022-12-30T13:16:36.739Z"
   },
   {
    "duration": 1040,
    "start_time": "2022-12-30T13:16:37.953Z"
   },
   {
    "duration": 3,
    "start_time": "2022-12-30T13:16:38.995Z"
   },
   {
    "duration": 60,
    "start_time": "2022-12-30T13:16:39.000Z"
   },
   {
    "duration": 204,
    "start_time": "2022-12-30T13:16:39.062Z"
   },
   {
    "duration": 312,
    "start_time": "2022-12-30T13:16:39.267Z"
   },
   {
    "duration": 89,
    "start_time": "2022-12-30T13:16:39.580Z"
   },
   {
    "duration": 5,
    "start_time": "2022-12-30T13:16:39.671Z"
   },
   {
    "duration": 7,
    "start_time": "2022-12-30T13:16:39.677Z"
   },
   {
    "duration": 15,
    "start_time": "2022-12-30T13:16:39.687Z"
   },
   {
    "duration": 38,
    "start_time": "2022-12-30T13:16:39.704Z"
   },
   {
    "duration": 52,
    "start_time": "2022-12-30T13:16:39.745Z"
   },
   {
    "duration": 11,
    "start_time": "2022-12-30T13:16:39.799Z"
   },
   {
    "duration": 68,
    "start_time": "2022-12-30T13:16:39.821Z"
   },
   {
    "duration": 278,
    "start_time": "2022-12-30T13:16:39.890Z"
   },
   {
    "duration": 104,
    "start_time": "2022-12-30T13:16:40.169Z"
   },
   {
    "duration": 10,
    "start_time": "2022-12-30T13:16:40.275Z"
   },
   {
    "duration": 15,
    "start_time": "2022-12-30T13:16:40.287Z"
   },
   {
    "duration": 19,
    "start_time": "2022-12-30T13:16:40.320Z"
   },
   {
    "duration": 39,
    "start_time": "2022-12-30T13:16:40.341Z"
   },
   {
    "duration": 11,
    "start_time": "2022-12-30T13:16:40.382Z"
   },
   {
    "duration": 5,
    "start_time": "2022-12-30T13:16:40.395Z"
   },
   {
    "duration": 7,
    "start_time": "2022-12-30T13:16:40.402Z"
   },
   {
    "duration": 30,
    "start_time": "2022-12-30T13:16:40.422Z"
   },
   {
    "duration": 23,
    "start_time": "2022-12-30T13:16:40.454Z"
   },
   {
    "duration": 11,
    "start_time": "2022-12-30T13:16:40.479Z"
   },
   {
    "duration": 5,
    "start_time": "2022-12-30T13:16:40.492Z"
   },
   {
    "duration": 26,
    "start_time": "2022-12-30T13:16:40.501Z"
   },
   {
    "duration": 26,
    "start_time": "2022-12-30T13:16:40.529Z"
   },
   {
    "duration": 8,
    "start_time": "2022-12-30T13:16:40.557Z"
   },
   {
    "duration": 28,
    "start_time": "2022-12-30T13:16:40.567Z"
   },
   {
    "duration": 33,
    "start_time": "2022-12-30T13:16:40.597Z"
   },
   {
    "duration": 20,
    "start_time": "2022-12-30T13:16:40.632Z"
   },
   {
    "duration": 41,
    "start_time": "2022-12-30T13:16:40.653Z"
   },
   {
    "duration": 13,
    "start_time": "2022-12-30T13:16:40.695Z"
   },
   {
    "duration": 13,
    "start_time": "2022-12-30T13:16:40.720Z"
   },
   {
    "duration": 41,
    "start_time": "2022-12-30T13:16:40.735Z"
   },
   {
    "duration": 17,
    "start_time": "2022-12-30T13:16:40.778Z"
   },
   {
    "duration": 186,
    "start_time": "2022-12-30T13:16:40.796Z"
   },
   {
    "duration": 12,
    "start_time": "2022-12-30T13:16:40.984Z"
   },
   {
    "duration": 45,
    "start_time": "2022-12-30T13:16:40.998Z"
   },
   {
    "duration": 99,
    "start_time": "2022-12-30T13:16:41.045Z"
   },
   {
    "duration": 22,
    "start_time": "2022-12-30T13:16:41.146Z"
   },
   {
    "duration": 9,
    "start_time": "2022-12-30T13:16:41.170Z"
   },
   {
    "duration": 61,
    "start_time": "2022-12-30T13:16:41.181Z"
   },
   {
    "duration": 27,
    "start_time": "2022-12-30T13:16:41.244Z"
   },
   {
    "duration": 12,
    "start_time": "2022-12-30T13:16:41.273Z"
   },
   {
    "duration": 173,
    "start_time": "2022-12-30T13:16:41.286Z"
   },
   {
    "duration": 24,
    "start_time": "2022-12-30T13:16:41.461Z"
   },
   {
    "duration": 35,
    "start_time": "2022-12-30T13:16:41.487Z"
   },
   {
    "duration": 40,
    "start_time": "2022-12-30T13:16:41.524Z"
   },
   {
    "duration": 341,
    "start_time": "2022-12-30T13:16:41.567Z"
   },
   {
    "duration": 48,
    "start_time": "2022-12-30T13:16:41.910Z"
   },
   {
    "duration": 332,
    "start_time": "2022-12-30T13:16:41.960Z"
   },
   {
    "duration": 366,
    "start_time": "2022-12-30T13:16:42.294Z"
   },
   {
    "duration": 23,
    "start_time": "2022-12-30T13:16:42.661Z"
   },
   {
    "duration": 371,
    "start_time": "2022-12-30T13:16:42.685Z"
   },
   {
    "duration": 8,
    "start_time": "2022-12-30T13:16:43.058Z"
   },
   {
    "duration": 28,
    "start_time": "2022-12-30T13:16:43.067Z"
   },
   {
    "duration": 25,
    "start_time": "2022-12-30T13:16:43.097Z"
   },
   {
    "duration": 29,
    "start_time": "2022-12-30T13:16:43.124Z"
   },
   {
    "duration": 11,
    "start_time": "2022-12-30T13:16:43.155Z"
   },
   {
    "duration": 11,
    "start_time": "2022-12-30T13:16:43.168Z"
   },
   {
    "duration": 1486,
    "start_time": "2023-01-04T06:01:27.159Z"
   },
   {
    "duration": 1466,
    "start_time": "2023-01-04T06:01:28.647Z"
   },
   {
    "duration": 3,
    "start_time": "2023-01-04T06:01:30.115Z"
   },
   {
    "duration": 77,
    "start_time": "2023-01-04T06:01:30.120Z"
   },
   {
    "duration": 181,
    "start_time": "2023-01-04T06:01:30.199Z"
   },
   {
    "duration": 325,
    "start_time": "2023-01-04T06:01:30.381Z"
   },
   {
    "duration": 90,
    "start_time": "2023-01-04T06:01:30.708Z"
   },
   {
    "duration": 6,
    "start_time": "2023-01-04T06:01:30.800Z"
   },
   {
    "duration": 15,
    "start_time": "2023-01-04T06:01:30.808Z"
   },
   {
    "duration": 6,
    "start_time": "2023-01-04T06:01:30.826Z"
   },
   {
    "duration": 15,
    "start_time": "2023-01-04T06:01:30.851Z"
   },
   {
    "duration": 42,
    "start_time": "2023-01-04T06:01:30.868Z"
   },
   {
    "duration": 28,
    "start_time": "2023-01-04T06:01:30.912Z"
   },
   {
    "duration": 76,
    "start_time": "2023-01-04T06:01:30.942Z"
   },
   {
    "duration": 267,
    "start_time": "2023-01-04T06:01:31.020Z"
   },
   {
    "duration": 99,
    "start_time": "2023-01-04T06:01:31.289Z"
   },
   {
    "duration": 8,
    "start_time": "2023-01-04T06:01:31.389Z"
   },
   {
    "duration": 21,
    "start_time": "2023-01-04T06:01:31.398Z"
   },
   {
    "duration": 7,
    "start_time": "2023-01-04T06:01:31.421Z"
   },
   {
    "duration": 47,
    "start_time": "2023-01-04T06:01:31.429Z"
   },
   {
    "duration": 9,
    "start_time": "2023-01-04T06:01:31.478Z"
   },
   {
    "duration": 14,
    "start_time": "2023-01-04T06:01:31.489Z"
   },
   {
    "duration": 4,
    "start_time": "2023-01-04T06:01:31.505Z"
   },
   {
    "duration": 14,
    "start_time": "2023-01-04T06:01:31.510Z"
   },
   {
    "duration": 13,
    "start_time": "2023-01-04T06:01:31.551Z"
   },
   {
    "duration": 12,
    "start_time": "2023-01-04T06:01:31.566Z"
   },
   {
    "duration": 5,
    "start_time": "2023-01-04T06:01:31.579Z"
   },
   {
    "duration": 19,
    "start_time": "2023-01-04T06:01:31.587Z"
   },
   {
    "duration": 59,
    "start_time": "2023-01-04T06:01:31.608Z"
   },
   {
    "duration": 6,
    "start_time": "2023-01-04T06:01:31.669Z"
   },
   {
    "duration": 17,
    "start_time": "2023-01-04T06:01:31.677Z"
   },
   {
    "duration": 23,
    "start_time": "2023-01-04T06:01:31.695Z"
   },
   {
    "duration": 37,
    "start_time": "2023-01-04T06:01:31.720Z"
   },
   {
    "duration": 38,
    "start_time": "2023-01-04T06:01:31.759Z"
   },
   {
    "duration": 14,
    "start_time": "2023-01-04T06:01:31.798Z"
   },
   {
    "duration": 43,
    "start_time": "2023-01-04T06:01:31.813Z"
   },
   {
    "duration": 9,
    "start_time": "2023-01-04T06:01:31.857Z"
   },
   {
    "duration": 13,
    "start_time": "2023-01-04T06:01:31.868Z"
   },
   {
    "duration": 196,
    "start_time": "2023-01-04T06:01:31.883Z"
   },
   {
    "duration": 13,
    "start_time": "2023-01-04T06:01:32.081Z"
   },
   {
    "duration": 22,
    "start_time": "2023-01-04T06:01:32.096Z"
   },
   {
    "duration": 106,
    "start_time": "2023-01-04T06:01:32.120Z"
   },
   {
    "duration": 39,
    "start_time": "2023-01-04T06:01:32.227Z"
   },
   {
    "duration": 7,
    "start_time": "2023-01-04T06:01:32.267Z"
   },
   {
    "duration": 51,
    "start_time": "2023-01-04T06:01:32.275Z"
   },
   {
    "duration": 18,
    "start_time": "2023-01-04T06:01:32.329Z"
   },
   {
    "duration": 22,
    "start_time": "2023-01-04T06:01:32.348Z"
   },
   {
    "duration": 427,
    "start_time": "2023-01-04T06:01:32.372Z"
   },
   {
    "duration": 27,
    "start_time": "2023-01-04T06:01:32.801Z"
   },
   {
    "duration": 17,
    "start_time": "2023-01-04T06:01:32.851Z"
   },
   {
    "duration": 18,
    "start_time": "2023-01-04T06:01:32.870Z"
   },
   {
    "duration": 365,
    "start_time": "2023-01-04T06:01:32.890Z"
   },
   {
    "duration": 38,
    "start_time": "2023-01-04T06:01:33.257Z"
   },
   {
    "duration": 335,
    "start_time": "2023-01-04T06:01:33.297Z"
   },
   {
    "duration": 327,
    "start_time": "2023-01-04T06:01:33.634Z"
   },
   {
    "duration": 23,
    "start_time": "2023-01-04T06:01:33.963Z"
   },
   {
    "duration": 341,
    "start_time": "2023-01-04T06:01:33.988Z"
   },
   {
    "duration": 9,
    "start_time": "2023-01-04T06:01:34.331Z"
   },
   {
    "duration": 34,
    "start_time": "2023-01-04T06:01:34.341Z"
   },
   {
    "duration": 22,
    "start_time": "2023-01-04T06:01:34.376Z"
   },
   {
    "duration": 47,
    "start_time": "2023-01-04T06:01:34.400Z"
   },
   {
    "duration": 9,
    "start_time": "2023-01-04T06:01:34.449Z"
   },
   {
    "duration": 45,
    "start_time": "2023-01-04T06:01:34.460Z"
   },
   {
    "duration": 16,
    "start_time": "2023-01-04T06:02:56.612Z"
   },
   {
    "duration": 11,
    "start_time": "2023-01-04T06:05:25.886Z"
   },
   {
    "duration": 1397,
    "start_time": "2023-01-04T12:15:41.174Z"
   },
   {
    "duration": 2511,
    "start_time": "2023-01-04T12:15:42.573Z"
   },
   {
    "duration": 4,
    "start_time": "2023-01-04T12:15:45.085Z"
   },
   {
    "duration": 48,
    "start_time": "2023-01-04T12:15:45.091Z"
   },
   {
    "duration": 150,
    "start_time": "2023-01-04T12:15:45.141Z"
   },
   {
    "duration": 242,
    "start_time": "2023-01-04T12:15:45.292Z"
   },
   {
    "duration": 56,
    "start_time": "2023-01-04T12:15:45.535Z"
   },
   {
    "duration": 5,
    "start_time": "2023-01-04T12:15:45.593Z"
   },
   {
    "duration": 8,
    "start_time": "2023-01-04T12:15:45.599Z"
   },
   {
    "duration": 5,
    "start_time": "2023-01-04T12:15:45.609Z"
   },
   {
    "duration": 16,
    "start_time": "2023-01-04T12:15:45.616Z"
   },
   {
    "duration": 51,
    "start_time": "2023-01-04T12:15:45.634Z"
   },
   {
    "duration": 13,
    "start_time": "2023-01-04T12:15:45.686Z"
   },
   {
    "duration": 54,
    "start_time": "2023-01-04T12:15:45.700Z"
   },
   {
    "duration": 267,
    "start_time": "2023-01-04T12:15:45.755Z"
   },
   {
    "duration": 88,
    "start_time": "2023-01-04T12:15:46.023Z"
   },
   {
    "duration": 8,
    "start_time": "2023-01-04T12:15:46.112Z"
   },
   {
    "duration": 11,
    "start_time": "2023-01-04T12:15:46.122Z"
   },
   {
    "duration": 6,
    "start_time": "2023-01-04T12:15:46.135Z"
   },
   {
    "duration": 51,
    "start_time": "2023-01-04T12:15:46.143Z"
   },
   {
    "duration": 8,
    "start_time": "2023-01-04T12:15:46.196Z"
   },
   {
    "duration": 6,
    "start_time": "2023-01-04T12:15:46.206Z"
   },
   {
    "duration": 7,
    "start_time": "2023-01-04T12:15:46.214Z"
   },
   {
    "duration": 9,
    "start_time": "2023-01-04T12:15:46.223Z"
   },
   {
    "duration": 12,
    "start_time": "2023-01-04T12:15:46.234Z"
   },
   {
    "duration": 33,
    "start_time": "2023-01-04T12:15:46.247Z"
   },
   {
    "duration": 4,
    "start_time": "2023-01-04T12:15:46.281Z"
   },
   {
    "duration": 18,
    "start_time": "2023-01-04T12:15:46.288Z"
   },
   {
    "duration": 17,
    "start_time": "2023-01-04T12:15:46.307Z"
   },
   {
    "duration": 6,
    "start_time": "2023-01-04T12:15:46.325Z"
   },
   {
    "duration": 15,
    "start_time": "2023-01-04T12:15:46.332Z"
   },
   {
    "duration": 39,
    "start_time": "2023-01-04T12:15:46.348Z"
   },
   {
    "duration": 13,
    "start_time": "2023-01-04T12:15:46.388Z"
   },
   {
    "duration": 35,
    "start_time": "2023-01-04T12:15:46.403Z"
   },
   {
    "duration": 38,
    "start_time": "2023-01-04T12:15:46.440Z"
   },
   {
    "duration": 9,
    "start_time": "2023-01-04T12:15:46.480Z"
   },
   {
    "duration": 4,
    "start_time": "2023-01-04T12:15:57.629Z"
   },
   {
    "duration": 10,
    "start_time": "2023-01-04T12:16:06.936Z"
   },
   {
    "duration": 3,
    "start_time": "2023-01-04T12:16:31.013Z"
   },
   {
    "duration": 3,
    "start_time": "2023-01-04T12:28:08.472Z"
   },
   {
    "duration": 12,
    "start_time": "2023-01-04T12:29:15.563Z"
   },
   {
    "duration": 13,
    "start_time": "2023-01-04T12:29:29.178Z"
   },
   {
    "duration": 13,
    "start_time": "2023-01-04T12:30:24.890Z"
   },
   {
    "duration": 4,
    "start_time": "2023-01-04T12:30:40.915Z"
   },
   {
    "duration": 11,
    "start_time": "2023-01-04T12:30:52.474Z"
   },
   {
    "duration": 9,
    "start_time": "2023-01-04T12:31:00.290Z"
   },
   {
    "duration": 16,
    "start_time": "2023-01-04T12:31:02.754Z"
   },
   {
    "duration": 10,
    "start_time": "2023-01-04T12:31:12.186Z"
   },
   {
    "duration": 14,
    "start_time": "2023-01-04T12:31:27.882Z"
   },
   {
    "duration": 4,
    "start_time": "2023-01-04T12:32:00.137Z"
   },
   {
    "duration": 16,
    "start_time": "2023-01-04T12:32:07.065Z"
   },
   {
    "duration": 6,
    "start_time": "2023-01-04T12:32:07.809Z"
   },
   {
    "duration": 15,
    "start_time": "2023-01-04T12:32:40.152Z"
   },
   {
    "duration": 5,
    "start_time": "2023-01-04T12:32:41.712Z"
   },
   {
    "duration": 13,
    "start_time": "2023-01-04T12:32:58.440Z"
   },
   {
    "duration": 14,
    "start_time": "2023-01-04T12:33:03.824Z"
   },
   {
    "duration": 6,
    "start_time": "2023-01-04T12:33:12.672Z"
   },
   {
    "duration": 93,
    "start_time": "2023-01-04T12:33:53.304Z"
   },
   {
    "duration": 7,
    "start_time": "2023-01-04T12:33:56.784Z"
   },
   {
    "duration": 8,
    "start_time": "2023-01-04T12:34:04.120Z"
   },
   {
    "duration": 12,
    "start_time": "2023-01-04T12:42:18.305Z"
   },
   {
    "duration": 11,
    "start_time": "2023-01-04T12:42:26.697Z"
   },
   {
    "duration": 1146,
    "start_time": "2023-01-04T12:43:17.201Z"
   },
   {
    "duration": 1290,
    "start_time": "2023-01-04T12:43:32.928Z"
   },
   {
    "duration": 26,
    "start_time": "2023-01-04T12:43:59.631Z"
   },
   {
    "duration": 7,
    "start_time": "2023-01-04T12:44:02.679Z"
   },
   {
    "duration": 15,
    "start_time": "2023-01-04T12:44:13.952Z"
   },
   {
    "duration": 20,
    "start_time": "2023-01-04T12:44:36.063Z"
   },
   {
    "duration": 8,
    "start_time": "2023-01-04T12:44:36.950Z"
   },
   {
    "duration": 13,
    "start_time": "2023-01-04T12:44:52.008Z"
   },
   {
    "duration": 11,
    "start_time": "2023-01-04T12:50:14.282Z"
   },
   {
    "duration": 19,
    "start_time": "2023-01-04T12:50:55.210Z"
   },
   {
    "duration": 6,
    "start_time": "2023-01-04T12:50:57.858Z"
   },
   {
    "duration": 13,
    "start_time": "2023-01-04T12:51:15.609Z"
   },
   {
    "duration": 16,
    "start_time": "2023-01-04T12:51:28.834Z"
   },
   {
    "duration": 18,
    "start_time": "2023-01-04T12:51:32.138Z"
   },
   {
    "duration": 9,
    "start_time": "2023-01-04T12:53:31.464Z"
   },
   {
    "duration": 6,
    "start_time": "2023-01-04T12:53:41.600Z"
   },
   {
    "duration": 7,
    "start_time": "2023-01-04T12:53:44.471Z"
   },
   {
    "duration": 14,
    "start_time": "2023-01-04T12:54:58.190Z"
   },
   {
    "duration": 13,
    "start_time": "2023-01-04T12:55:00.158Z"
   },
   {
    "duration": 15,
    "start_time": "2023-01-04T12:55:41.278Z"
   },
   {
    "duration": 1158,
    "start_time": "2023-01-04T12:56:08.573Z"
   },
   {
    "duration": 15,
    "start_time": "2023-01-04T12:56:23.518Z"
   },
   {
    "duration": 1119,
    "start_time": "2023-01-04T12:56:32.014Z"
   },
   {
    "duration": 24,
    "start_time": "2023-01-04T12:56:55.878Z"
   },
   {
    "duration": 30,
    "start_time": "2023-01-04T12:56:59.933Z"
   },
   {
    "duration": 24,
    "start_time": "2023-01-04T12:57:28.781Z"
   },
   {
    "duration": 22,
    "start_time": "2023-01-04T12:57:45.421Z"
   },
   {
    "duration": 23,
    "start_time": "2023-01-04T12:58:00.868Z"
   },
   {
    "duration": 9,
    "start_time": "2023-01-04T12:58:20.131Z"
   },
   {
    "duration": 24,
    "start_time": "2023-01-04T12:58:25.572Z"
   },
   {
    "duration": 16,
    "start_time": "2023-01-04T12:59:03.810Z"
   },
   {
    "duration": 3,
    "start_time": "2023-01-04T13:00:26.521Z"
   },
   {
    "duration": 9,
    "start_time": "2023-01-04T13:00:29.674Z"
   },
   {
    "duration": 14,
    "start_time": "2023-01-04T13:02:19.119Z"
   },
   {
    "duration": 23,
    "start_time": "2023-01-04T13:02:43.041Z"
   },
   {
    "duration": 34,
    "start_time": "2023-01-04T13:02:59.169Z"
   },
   {
    "duration": 25,
    "start_time": "2023-01-04T13:03:04.199Z"
   },
   {
    "duration": 1545,
    "start_time": "2023-01-05T15:14:21.554Z"
   },
   {
    "duration": 1272,
    "start_time": "2023-01-05T15:14:23.101Z"
   },
   {
    "duration": 4,
    "start_time": "2023-01-05T15:14:24.374Z"
   },
   {
    "duration": 52,
    "start_time": "2023-01-05T15:14:24.380Z"
   },
   {
    "duration": 170,
    "start_time": "2023-01-05T15:14:24.433Z"
   },
   {
    "duration": 319,
    "start_time": "2023-01-05T15:14:24.604Z"
   },
   {
    "duration": 66,
    "start_time": "2023-01-05T15:14:24.924Z"
   },
   {
    "duration": 6,
    "start_time": "2023-01-05T15:14:24.992Z"
   },
   {
    "duration": 17,
    "start_time": "2023-01-05T15:14:25.000Z"
   },
   {
    "duration": 11,
    "start_time": "2023-01-05T15:14:25.020Z"
   },
   {
    "duration": 16,
    "start_time": "2023-01-05T15:14:25.051Z"
   },
   {
    "duration": 39,
    "start_time": "2023-01-05T15:14:25.069Z"
   },
   {
    "duration": 41,
    "start_time": "2023-01-05T15:14:25.110Z"
   },
   {
    "duration": 79,
    "start_time": "2023-01-05T15:14:25.153Z"
   },
   {
    "duration": 307,
    "start_time": "2023-01-05T15:14:25.234Z"
   },
   {
    "duration": 113,
    "start_time": "2023-01-05T15:14:25.543Z"
   },
   {
    "duration": 8,
    "start_time": "2023-01-05T15:14:25.658Z"
   },
   {
    "duration": 18,
    "start_time": "2023-01-05T15:14:25.668Z"
   },
   {
    "duration": 20,
    "start_time": "2023-01-05T15:14:25.688Z"
   },
   {
    "duration": 40,
    "start_time": "2023-01-05T15:14:25.711Z"
   },
   {
    "duration": 12,
    "start_time": "2023-01-05T15:14:25.753Z"
   },
   {
    "duration": 12,
    "start_time": "2023-01-05T15:14:25.767Z"
   },
   {
    "duration": 12,
    "start_time": "2023-01-05T15:14:25.781Z"
   },
   {
    "duration": 25,
    "start_time": "2023-01-05T15:14:25.795Z"
   },
   {
    "duration": 27,
    "start_time": "2023-01-05T15:14:25.823Z"
   },
   {
    "duration": 14,
    "start_time": "2023-01-05T15:14:25.852Z"
   },
   {
    "duration": 19,
    "start_time": "2023-01-05T15:14:25.868Z"
   },
   {
    "duration": 36,
    "start_time": "2023-01-05T15:14:25.892Z"
   },
   {
    "duration": 21,
    "start_time": "2023-01-05T15:14:25.930Z"
   },
   {
    "duration": 10,
    "start_time": "2023-01-05T15:14:25.953Z"
   },
   {
    "duration": 28,
    "start_time": "2023-01-05T15:14:25.965Z"
   },
   {
    "duration": 23,
    "start_time": "2023-01-05T15:14:25.994Z"
   },
   {
    "duration": 17,
    "start_time": "2023-01-05T15:14:26.019Z"
   },
   {
    "duration": 52,
    "start_time": "2023-01-05T15:14:26.038Z"
   },
   {
    "duration": 15,
    "start_time": "2023-01-05T15:14:26.093Z"
   },
   {
    "duration": 23,
    "start_time": "2023-01-05T15:14:26.111Z"
   },
   {
    "duration": 26,
    "start_time": "2023-01-05T15:14:26.136Z"
   },
   {
    "duration": 15,
    "start_time": "2023-01-05T15:14:26.164Z"
   },
   {
    "duration": 40,
    "start_time": "2023-01-05T15:14:26.181Z"
   },
   {
    "duration": 195,
    "start_time": "2023-01-05T15:14:26.223Z"
   },
   {
    "duration": 14,
    "start_time": "2023-01-05T15:14:26.420Z"
   },
   {
    "duration": 35,
    "start_time": "2023-01-05T15:14:26.435Z"
   },
   {
    "duration": 108,
    "start_time": "2023-01-05T15:14:26.472Z"
   },
   {
    "duration": 24,
    "start_time": "2023-01-05T15:14:26.581Z"
   },
   {
    "duration": 12,
    "start_time": "2023-01-05T15:14:26.607Z"
   },
   {
    "duration": 61,
    "start_time": "2023-01-05T15:14:26.621Z"
   },
   {
    "duration": 28,
    "start_time": "2023-01-05T15:14:26.684Z"
   },
   {
    "duration": 11,
    "start_time": "2023-01-05T15:14:26.713Z"
   },
   {
    "duration": 186,
    "start_time": "2023-01-05T15:14:26.726Z"
   },
   {
    "duration": 21,
    "start_time": "2023-01-05T15:14:26.914Z"
   },
   {
    "duration": 14,
    "start_time": "2023-01-05T15:14:26.950Z"
   },
   {
    "duration": 28,
    "start_time": "2023-01-05T15:14:26.966Z"
   },
   {
    "duration": 378,
    "start_time": "2023-01-05T15:14:26.996Z"
   },
   {
    "duration": 43,
    "start_time": "2023-01-05T15:14:27.376Z"
   },
   {
    "duration": 373,
    "start_time": "2023-01-05T15:14:27.421Z"
   },
   {
    "duration": 352,
    "start_time": "2023-01-05T15:14:27.796Z"
   },
   {
    "duration": 27,
    "start_time": "2023-01-05T15:14:28.150Z"
   },
   {
    "duration": 416,
    "start_time": "2023-01-05T15:14:28.179Z"
   },
   {
    "duration": 8,
    "start_time": "2023-01-05T15:14:28.597Z"
   },
   {
    "duration": 38,
    "start_time": "2023-01-05T15:14:28.607Z"
   },
   {
    "duration": 17,
    "start_time": "2023-01-05T15:14:28.650Z"
   },
   {
    "duration": 36,
    "start_time": "2023-01-05T15:14:28.669Z"
   },
   {
    "duration": 9,
    "start_time": "2023-01-05T15:14:28.707Z"
   },
   {
    "duration": 37,
    "start_time": "2023-01-05T15:14:28.718Z"
   },
   {
    "duration": 11,
    "start_time": "2023-01-05T15:22:51.466Z"
   },
   {
    "duration": 13,
    "start_time": "2023-01-05T15:22:57.426Z"
   },
   {
    "duration": 6,
    "start_time": "2023-01-05T15:25:48.776Z"
   },
   {
    "duration": 6,
    "start_time": "2023-01-05T15:26:52.433Z"
   },
   {
    "duration": 160,
    "start_time": "2023-01-05T15:27:00.208Z"
   },
   {
    "duration": 6,
    "start_time": "2023-01-05T15:27:16.399Z"
   },
   {
    "duration": 20,
    "start_time": "2023-01-05T15:27:39.728Z"
   },
   {
    "duration": 11,
    "start_time": "2023-01-05T15:27:43.471Z"
   },
   {
    "duration": 8,
    "start_time": "2023-01-05T15:28:15.263Z"
   },
   {
    "duration": 21,
    "start_time": "2023-01-05T15:28:49.127Z"
   },
   {
    "duration": 10,
    "start_time": "2023-01-05T15:28:54.734Z"
   },
   {
    "duration": 20,
    "start_time": "2023-01-05T15:30:09.734Z"
   },
   {
    "duration": 17,
    "start_time": "2023-01-05T15:30:19.965Z"
   },
   {
    "duration": 14,
    "start_time": "2023-01-05T15:30:33.725Z"
   },
   {
    "duration": 847,
    "start_time": "2023-01-05T15:32:10.851Z"
   },
   {
    "duration": 6,
    "start_time": "2023-01-05T15:32:18.499Z"
   },
   {
    "duration": 11,
    "start_time": "2023-01-05T15:32:24.364Z"
   },
   {
    "duration": 13,
    "start_time": "2023-01-05T15:32:32.491Z"
   },
   {
    "duration": 12,
    "start_time": "2023-01-05T15:32:34.974Z"
   },
   {
    "duration": 20,
    "start_time": "2023-01-05T15:32:37.050Z"
   },
   {
    "duration": 9,
    "start_time": "2023-01-05T15:33:24.539Z"
   },
   {
    "duration": 14,
    "start_time": "2023-01-05T15:33:28.250Z"
   },
   {
    "duration": 83,
    "start_time": "2023-01-05T15:34:03.090Z"
   },
   {
    "duration": 74,
    "start_time": "2023-01-05T15:34:23.451Z"
   },
   {
    "duration": 68,
    "start_time": "2023-01-05T15:34:26.282Z"
   },
   {
    "duration": 13,
    "start_time": "2023-01-05T15:34:42.458Z"
   },
   {
    "duration": 11,
    "start_time": "2023-01-05T15:35:20.922Z"
   },
   {
    "duration": 9,
    "start_time": "2023-01-05T15:35:34.409Z"
   },
   {
    "duration": 8,
    "start_time": "2023-01-05T15:35:56.857Z"
   },
   {
    "duration": 8,
    "start_time": "2023-01-05T15:36:12.841Z"
   },
   {
    "duration": 10,
    "start_time": "2023-01-05T15:36:17.081Z"
   },
   {
    "duration": 12,
    "start_time": "2023-01-05T15:36:37.329Z"
   },
   {
    "duration": 13,
    "start_time": "2023-01-05T15:36:50.177Z"
   },
   {
    "duration": 1291,
    "start_time": "2023-01-05T15:36:58.092Z"
   },
   {
    "duration": 1502,
    "start_time": "2023-01-05T15:36:59.385Z"
   },
   {
    "duration": 4,
    "start_time": "2023-01-05T15:37:00.889Z"
   },
   {
    "duration": 81,
    "start_time": "2023-01-05T15:37:00.896Z"
   },
   {
    "duration": 153,
    "start_time": "2023-01-05T15:37:00.978Z"
   },
   {
    "duration": 318,
    "start_time": "2023-01-05T15:37:01.133Z"
   },
   {
    "duration": 56,
    "start_time": "2023-01-05T15:37:01.453Z"
   },
   {
    "duration": 6,
    "start_time": "2023-01-05T15:37:01.510Z"
   },
   {
    "duration": 34,
    "start_time": "2023-01-05T15:37:01.518Z"
   },
   {
    "duration": 34,
    "start_time": "2023-01-05T15:37:01.555Z"
   },
   {
    "duration": 33,
    "start_time": "2023-01-05T15:37:01.590Z"
   },
   {
    "duration": 38,
    "start_time": "2023-01-05T15:37:01.624Z"
   },
   {
    "duration": 14,
    "start_time": "2023-01-05T15:37:01.664Z"
   },
   {
    "duration": 72,
    "start_time": "2023-01-05T15:37:01.680Z"
   },
   {
    "duration": 297,
    "start_time": "2023-01-05T15:37:01.754Z"
   },
   {
    "duration": 106,
    "start_time": "2023-01-05T15:37:02.053Z"
   },
   {
    "duration": 10,
    "start_time": "2023-01-05T15:37:02.162Z"
   },
   {
    "duration": 22,
    "start_time": "2023-01-05T15:37:02.174Z"
   },
   {
    "duration": 8,
    "start_time": "2023-01-05T15:37:02.198Z"
   },
   {
    "duration": 46,
    "start_time": "2023-01-05T15:37:02.208Z"
   },
   {
    "duration": 10,
    "start_time": "2023-01-05T15:37:02.256Z"
   },
   {
    "duration": 12,
    "start_time": "2023-01-05T15:37:02.268Z"
   },
   {
    "duration": 16,
    "start_time": "2023-01-05T15:37:02.282Z"
   },
   {
    "duration": 11,
    "start_time": "2023-01-05T15:37:02.300Z"
   },
   {
    "duration": 19,
    "start_time": "2023-01-05T15:37:02.313Z"
   },
   {
    "duration": 104,
    "start_time": "2023-01-05T15:37:05.887Z"
   },
   {
    "duration": 16,
    "start_time": "2023-01-05T15:37:10.664Z"
   },
   {
    "duration": 846,
    "start_time": "2023-01-05T15:37:43.105Z"
   },
   {
    "duration": 8,
    "start_time": "2023-01-05T15:37:52.847Z"
   },
   {
    "duration": 1331,
    "start_time": "2023-01-05T15:37:59.546Z"
   },
   {
    "duration": 1864,
    "start_time": "2023-01-05T15:38:00.879Z"
   },
   {
    "duration": 4,
    "start_time": "2023-01-05T15:38:02.745Z"
   },
   {
    "duration": 49,
    "start_time": "2023-01-05T15:38:02.751Z"
   },
   {
    "duration": 161,
    "start_time": "2023-01-05T15:38:02.802Z"
   },
   {
    "duration": 307,
    "start_time": "2023-01-05T15:38:02.964Z"
   },
   {
    "duration": 56,
    "start_time": "2023-01-05T15:38:03.273Z"
   },
   {
    "duration": 7,
    "start_time": "2023-01-05T15:38:03.350Z"
   },
   {
    "duration": 21,
    "start_time": "2023-01-05T15:38:03.359Z"
   },
   {
    "duration": 17,
    "start_time": "2023-01-05T15:38:03.381Z"
   },
   {
    "duration": 27,
    "start_time": "2023-01-05T15:38:03.400Z"
   },
   {
    "duration": 38,
    "start_time": "2023-01-05T15:38:03.428Z"
   },
   {
    "duration": 15,
    "start_time": "2023-01-05T15:38:03.469Z"
   },
   {
    "duration": 70,
    "start_time": "2023-01-05T15:38:03.486Z"
   },
   {
    "duration": 301,
    "start_time": "2023-01-05T15:38:03.557Z"
   },
   {
    "duration": 105,
    "start_time": "2023-01-05T15:38:03.860Z"
   },
   {
    "duration": 8,
    "start_time": "2023-01-05T15:38:03.967Z"
   },
   {
    "duration": 14,
    "start_time": "2023-01-05T15:38:03.976Z"
   },
   {
    "duration": 39,
    "start_time": "2023-01-05T15:38:03.992Z"
   },
   {
    "duration": 31,
    "start_time": "2023-01-05T15:38:04.032Z"
   },
   {
    "duration": 10,
    "start_time": "2023-01-05T15:38:04.064Z"
   },
   {
    "duration": 6,
    "start_time": "2023-01-05T15:38:04.076Z"
   },
   {
    "duration": 5,
    "start_time": "2023-01-05T15:38:04.084Z"
   },
   {
    "duration": 11,
    "start_time": "2023-01-05T15:38:04.090Z"
   },
   {
    "duration": 17,
    "start_time": "2023-01-05T15:38:04.103Z"
   },
   {
    "duration": 40,
    "start_time": "2023-01-05T15:38:04.122Z"
   },
   {
    "duration": 22,
    "start_time": "2023-01-05T15:38:04.164Z"
   },
   {
    "duration": 11,
    "start_time": "2023-01-05T15:38:04.188Z"
   },
   {
    "duration": 15,
    "start_time": "2023-01-05T15:38:04.201Z"
   },
   {
    "duration": 903,
    "start_time": "2023-01-05T15:38:08.455Z"
   },
   {
    "duration": 6,
    "start_time": "2023-01-05T15:38:15.767Z"
   },
   {
    "duration": 12,
    "start_time": "2023-01-05T15:39:14.214Z"
   },
   {
    "duration": 14,
    "start_time": "2023-01-05T15:39:48.702Z"
   },
   {
    "duration": 14,
    "start_time": "2023-01-05T15:40:24.349Z"
   },
   {
    "duration": 6,
    "start_time": "2023-01-05T15:40:28.581Z"
   },
   {
    "duration": 15,
    "start_time": "2023-01-05T15:40:31.741Z"
   },
   {
    "duration": 18,
    "start_time": "2023-01-05T15:41:38.020Z"
   },
   {
    "duration": 55,
    "start_time": "2023-01-05T15:42:11.708Z"
   },
   {
    "duration": 10,
    "start_time": "2023-01-05T15:42:28.108Z"
   },
   {
    "duration": 5,
    "start_time": "2023-01-05T15:42:33.828Z"
   },
   {
    "duration": 11,
    "start_time": "2023-01-05T15:43:28.475Z"
   },
   {
    "duration": 10,
    "start_time": "2023-01-05T15:43:31.187Z"
   },
   {
    "duration": 12,
    "start_time": "2023-01-05T15:44:14.182Z"
   },
   {
    "duration": 11,
    "start_time": "2023-01-05T15:44:48.514Z"
   },
   {
    "duration": 10,
    "start_time": "2023-01-05T15:44:52.642Z"
   },
   {
    "duration": 1274,
    "start_time": "2023-01-05T15:44:56.786Z"
   },
   {
    "duration": 1351,
    "start_time": "2023-01-05T15:44:58.062Z"
   },
   {
    "duration": 3,
    "start_time": "2023-01-05T15:44:59.415Z"
   },
   {
    "duration": 63,
    "start_time": "2023-01-05T15:44:59.420Z"
   },
   {
    "duration": 173,
    "start_time": "2023-01-05T15:44:59.484Z"
   },
   {
    "duration": 369,
    "start_time": "2023-01-05T15:44:59.659Z"
   },
   {
    "duration": 67,
    "start_time": "2023-01-05T15:45:00.030Z"
   },
   {
    "duration": 6,
    "start_time": "2023-01-05T15:45:00.100Z"
   },
   {
    "duration": 14,
    "start_time": "2023-01-05T15:45:00.107Z"
   },
   {
    "duration": 28,
    "start_time": "2023-01-05T15:45:00.123Z"
   },
   {
    "duration": 41,
    "start_time": "2023-01-05T15:45:00.153Z"
   },
   {
    "duration": 53,
    "start_time": "2023-01-05T15:45:00.196Z"
   },
   {
    "duration": 19,
    "start_time": "2023-01-05T15:45:00.252Z"
   },
   {
    "duration": 88,
    "start_time": "2023-01-05T15:45:00.273Z"
   },
   {
    "duration": 311,
    "start_time": "2023-01-05T15:45:00.363Z"
   },
   {
    "duration": 106,
    "start_time": "2023-01-05T15:45:00.676Z"
   },
   {
    "duration": 8,
    "start_time": "2023-01-05T15:45:00.784Z"
   },
   {
    "duration": 53,
    "start_time": "2023-01-05T15:45:00.794Z"
   },
   {
    "duration": 13,
    "start_time": "2023-01-05T15:45:00.849Z"
   },
   {
    "duration": 47,
    "start_time": "2023-01-05T15:45:00.864Z"
   },
   {
    "duration": 11,
    "start_time": "2023-01-05T15:45:00.913Z"
   },
   {
    "duration": 12,
    "start_time": "2023-01-05T15:45:00.926Z"
   },
   {
    "duration": 8,
    "start_time": "2023-01-05T15:45:00.940Z"
   },
   {
    "duration": 18,
    "start_time": "2023-01-05T15:45:00.950Z"
   },
   {
    "duration": 17,
    "start_time": "2023-01-05T15:45:00.970Z"
   },
   {
    "duration": 11,
    "start_time": "2023-01-05T15:45:00.989Z"
   },
   {
    "duration": 16,
    "start_time": "2023-01-05T15:45:01.001Z"
   },
   {
    "duration": 115,
    "start_time": "2023-01-05T15:45:18.170Z"
   },
   {
    "duration": 10,
    "start_time": "2023-01-05T15:45:20.458Z"
   },
   {
    "duration": 4,
    "start_time": "2023-01-05T15:45:21.905Z"
   },
   {
    "duration": 6,
    "start_time": "2023-01-05T15:45:26.753Z"
   },
   {
    "duration": 5,
    "start_time": "2023-01-05T15:45:32.121Z"
   },
   {
    "duration": 4,
    "start_time": "2023-01-05T15:45:59.809Z"
   },
   {
    "duration": 5,
    "start_time": "2023-01-05T15:46:14.841Z"
   },
   {
    "duration": 6,
    "start_time": "2023-01-05T15:46:56.712Z"
   },
   {
    "duration": 7,
    "start_time": "2023-01-05T15:49:11.735Z"
   },
   {
    "duration": 8,
    "start_time": "2023-01-05T15:49:43.814Z"
   },
   {
    "duration": 6,
    "start_time": "2023-01-05T15:50:28.814Z"
   },
   {
    "duration": 6,
    "start_time": "2023-01-05T15:50:35.046Z"
   },
   {
    "duration": 6,
    "start_time": "2023-01-05T15:50:42.541Z"
   },
   {
    "duration": 7,
    "start_time": "2023-01-05T15:50:46.509Z"
   },
   {
    "duration": 7,
    "start_time": "2023-01-05T15:50:55.237Z"
   },
   {
    "duration": 89,
    "start_time": "2023-01-05T15:51:29.821Z"
   },
   {
    "duration": 7,
    "start_time": "2023-01-05T15:51:33.677Z"
   },
   {
    "duration": 7,
    "start_time": "2023-01-05T15:51:55.228Z"
   },
   {
    "duration": 7,
    "start_time": "2023-01-05T15:51:59.606Z"
   },
   {
    "duration": 6,
    "start_time": "2023-01-05T15:52:06.180Z"
   },
   {
    "duration": 7,
    "start_time": "2023-01-05T15:52:19.316Z"
   },
   {
    "duration": 7,
    "start_time": "2023-01-05T15:52:23.884Z"
   },
   {
    "duration": 7,
    "start_time": "2023-01-05T15:52:54.324Z"
   },
   {
    "duration": 8,
    "start_time": "2023-01-05T15:53:00.700Z"
   },
   {
    "duration": 17,
    "start_time": "2023-01-05T15:53:07.396Z"
   },
   {
    "duration": 15,
    "start_time": "2023-01-05T15:53:09.508Z"
   },
   {
    "duration": 7,
    "start_time": "2023-01-05T15:53:12.724Z"
   },
   {
    "duration": 8,
    "start_time": "2023-01-05T15:53:26.860Z"
   },
   {
    "duration": 6,
    "start_time": "2023-01-05T15:53:30.020Z"
   },
   {
    "duration": 8,
    "start_time": "2023-01-05T15:53:32.043Z"
   },
   {
    "duration": 7,
    "start_time": "2023-01-05T15:53:36.395Z"
   },
   {
    "duration": 6,
    "start_time": "2023-01-05T15:53:42.859Z"
   },
   {
    "duration": 14,
    "start_time": "2023-01-05T15:53:53.715Z"
   },
   {
    "duration": 9,
    "start_time": "2023-01-05T15:53:57.451Z"
   },
   {
    "duration": 9,
    "start_time": "2023-01-05T15:54:05.147Z"
   },
   {
    "duration": 12,
    "start_time": "2023-01-05T15:54:40.315Z"
   },
   {
    "duration": 6,
    "start_time": "2023-01-05T15:54:43.938Z"
   },
   {
    "duration": 4,
    "start_time": "2023-01-05T15:54:50.379Z"
   },
   {
    "duration": 5,
    "start_time": "2023-01-05T15:54:59.682Z"
   },
   {
    "duration": 5,
    "start_time": "2023-01-05T15:56:14.409Z"
   },
   {
    "duration": 11,
    "start_time": "2023-01-05T15:56:20.889Z"
   },
   {
    "duration": 9,
    "start_time": "2023-01-05T15:56:23.945Z"
   },
   {
    "duration": 11,
    "start_time": "2023-01-05T15:56:44.777Z"
   },
   {
    "duration": 5,
    "start_time": "2023-01-05T16:00:21.518Z"
   },
   {
    "duration": 17,
    "start_time": "2023-01-05T16:00:24.151Z"
   },
   {
    "duration": 16,
    "start_time": "2023-01-05T16:00:35.517Z"
   },
   {
    "duration": 10,
    "start_time": "2023-01-05T16:01:25.350Z"
   },
   {
    "duration": 16,
    "start_time": "2023-01-05T16:01:30.270Z"
   },
   {
    "duration": 8,
    "start_time": "2023-01-05T16:01:35.326Z"
   },
   {
    "duration": 13,
    "start_time": "2023-01-05T16:01:41.021Z"
   },
   {
    "duration": 53,
    "start_time": "2023-01-05T16:07:07.801Z"
   },
   {
    "duration": 1408,
    "start_time": "2023-01-05T16:07:12.680Z"
   },
   {
    "duration": 1164,
    "start_time": "2023-01-05T16:07:14.090Z"
   },
   {
    "duration": 4,
    "start_time": "2023-01-05T16:07:15.256Z"
   },
   {
    "duration": 49,
    "start_time": "2023-01-05T16:07:15.262Z"
   },
   {
    "duration": 134,
    "start_time": "2023-01-05T16:07:15.327Z"
   },
   {
    "duration": 296,
    "start_time": "2023-01-05T16:07:15.463Z"
   },
   {
    "duration": 74,
    "start_time": "2023-01-05T16:07:15.761Z"
   },
   {
    "duration": 6,
    "start_time": "2023-01-05T16:07:15.837Z"
   },
   {
    "duration": 10,
    "start_time": "2023-01-05T16:07:15.845Z"
   },
   {
    "duration": 10,
    "start_time": "2023-01-05T16:07:15.858Z"
   },
   {
    "duration": 24,
    "start_time": "2023-01-05T16:07:15.870Z"
   },
   {
    "duration": 49,
    "start_time": "2023-01-05T16:07:15.913Z"
   },
   {
    "duration": 13,
    "start_time": "2023-01-05T16:07:15.963Z"
   },
   {
    "duration": 57,
    "start_time": "2023-01-05T16:07:15.978Z"
   },
   {
    "duration": 298,
    "start_time": "2023-01-05T16:07:16.037Z"
   },
   {
    "duration": 127,
    "start_time": "2023-01-05T16:07:16.337Z"
   },
   {
    "duration": 9,
    "start_time": "2023-01-05T16:07:16.466Z"
   },
   {
    "duration": 19,
    "start_time": "2023-01-05T16:07:16.477Z"
   },
   {
    "duration": 28,
    "start_time": "2023-01-05T16:07:16.515Z"
   },
   {
    "duration": 29,
    "start_time": "2023-01-05T16:07:16.545Z"
   },
   {
    "duration": 12,
    "start_time": "2023-01-05T16:07:16.576Z"
   },
   {
    "duration": 8,
    "start_time": "2023-01-05T16:07:16.590Z"
   },
   {
    "duration": 9,
    "start_time": "2023-01-05T16:07:16.600Z"
   },
   {
    "duration": 46,
    "start_time": "2023-01-05T16:07:16.611Z"
   },
   {
    "duration": 29,
    "start_time": "2023-01-05T16:07:16.659Z"
   },
   {
    "duration": 12,
    "start_time": "2023-01-05T16:07:16.689Z"
   },
   {
    "duration": 116,
    "start_time": "2023-01-05T16:07:16.703Z"
   },
   {
    "duration": 0,
    "start_time": "2023-01-05T16:07:16.822Z"
   },
   {
    "duration": 0,
    "start_time": "2023-01-05T16:07:16.823Z"
   },
   {
    "duration": 0,
    "start_time": "2023-01-05T16:07:16.828Z"
   },
   {
    "duration": 2,
    "start_time": "2023-01-05T16:07:25.579Z"
   },
   {
    "duration": 5,
    "start_time": "2023-01-05T16:07:26.602Z"
   },
   {
    "duration": 6,
    "start_time": "2023-01-05T16:07:27.066Z"
   },
   {
    "duration": 6,
    "start_time": "2023-01-05T16:07:27.458Z"
   },
   {
    "duration": 14,
    "start_time": "2023-01-05T16:07:27.890Z"
   },
   {
    "duration": 16,
    "start_time": "2023-01-05T16:10:14.835Z"
   },
   {
    "duration": 29,
    "start_time": "2023-01-05T16:10:18.112Z"
   },
   {
    "duration": 20,
    "start_time": "2023-01-05T16:10:20.456Z"
   },
   {
    "duration": 18,
    "start_time": "2023-01-05T16:10:41.786Z"
   },
   {
    "duration": 9,
    "start_time": "2023-01-05T16:10:49.290Z"
   },
   {
    "duration": 766,
    "start_time": "2023-01-05T16:10:55.524Z"
   },
   {
    "duration": 17,
    "start_time": "2023-01-05T16:11:04.776Z"
   },
   {
    "duration": 6,
    "start_time": "2023-01-05T16:11:28.832Z"
   },
   {
    "duration": 10,
    "start_time": "2023-01-05T16:11:36.239Z"
   },
   {
    "duration": 14,
    "start_time": "2023-01-05T16:11:53.104Z"
   },
   {
    "duration": 24,
    "start_time": "2023-01-05T16:12:54.159Z"
   },
   {
    "duration": 30,
    "start_time": "2023-01-05T16:12:59.510Z"
   },
   {
    "duration": 31,
    "start_time": "2023-01-05T16:13:50.997Z"
   },
   {
    "duration": 19,
    "start_time": "2023-01-05T16:14:01.982Z"
   },
   {
    "duration": 26,
    "start_time": "2023-01-05T16:14:08.237Z"
   },
   {
    "duration": 1147,
    "start_time": "2023-01-05T16:24:46.460Z"
   },
   {
    "duration": 1352,
    "start_time": "2023-01-05T16:24:47.609Z"
   },
   {
    "duration": 3,
    "start_time": "2023-01-05T16:24:48.963Z"
   },
   {
    "duration": 67,
    "start_time": "2023-01-05T16:24:48.969Z"
   },
   {
    "duration": 135,
    "start_time": "2023-01-05T16:24:49.037Z"
   },
   {
    "duration": 289,
    "start_time": "2023-01-05T16:24:49.174Z"
   },
   {
    "duration": 65,
    "start_time": "2023-01-05T16:24:49.464Z"
   },
   {
    "duration": 5,
    "start_time": "2023-01-05T16:24:49.531Z"
   },
   {
    "duration": 12,
    "start_time": "2023-01-05T16:24:49.538Z"
   },
   {
    "duration": 6,
    "start_time": "2023-01-05T16:24:49.553Z"
   },
   {
    "duration": 14,
    "start_time": "2023-01-05T16:24:49.561Z"
   },
   {
    "duration": 52,
    "start_time": "2023-01-05T16:24:49.577Z"
   },
   {
    "duration": 12,
    "start_time": "2023-01-05T16:24:49.631Z"
   },
   {
    "duration": 47,
    "start_time": "2023-01-05T16:24:49.644Z"
   },
   {
    "duration": 283,
    "start_time": "2023-01-05T16:24:49.693Z"
   },
   {
    "duration": 104,
    "start_time": "2023-01-05T16:24:49.978Z"
   },
   {
    "duration": 9,
    "start_time": "2023-01-05T16:24:50.083Z"
   },
   {
    "duration": 35,
    "start_time": "2023-01-05T16:24:50.093Z"
   },
   {
    "duration": 7,
    "start_time": "2023-01-05T16:24:50.130Z"
   },
   {
    "duration": 27,
    "start_time": "2023-01-05T16:24:50.138Z"
   },
   {
    "duration": 8,
    "start_time": "2023-01-05T16:24:50.167Z"
   },
   {
    "duration": 9,
    "start_time": "2023-01-05T16:24:50.177Z"
   },
   {
    "duration": 12,
    "start_time": "2023-01-05T16:24:50.188Z"
   },
   {
    "duration": 26,
    "start_time": "2023-01-05T16:24:50.201Z"
   },
   {
    "duration": 17,
    "start_time": "2023-01-05T16:24:50.229Z"
   },
   {
    "duration": 9,
    "start_time": "2023-01-05T16:24:50.247Z"
   },
   {
    "duration": 27,
    "start_time": "2023-01-05T16:24:50.258Z"
   },
   {
    "duration": 5,
    "start_time": "2023-01-05T16:24:50.290Z"
   },
   {
    "duration": 30,
    "start_time": "2023-01-05T16:24:50.296Z"
   },
   {
    "duration": 11,
    "start_time": "2023-01-05T16:24:50.327Z"
   },
   {
    "duration": 22,
    "start_time": "2023-01-05T16:24:50.340Z"
   },
   {
    "duration": 20,
    "start_time": "2023-01-05T16:24:50.364Z"
   },
   {
    "duration": 6,
    "start_time": "2023-01-05T16:24:50.386Z"
   },
   {
    "duration": 15,
    "start_time": "2023-01-05T16:24:50.417Z"
   },
   {
    "duration": 13,
    "start_time": "2023-01-05T16:24:50.434Z"
   },
   {
    "duration": 11,
    "start_time": "2023-01-05T16:24:50.448Z"
   },
   {
    "duration": 54,
    "start_time": "2023-01-05T16:24:50.460Z"
   },
   {
    "duration": 18,
    "start_time": "2023-01-05T16:24:50.515Z"
   },
   {
    "duration": 16,
    "start_time": "2023-01-05T16:24:50.534Z"
   },
   {
    "duration": 11,
    "start_time": "2023-01-05T16:24:50.551Z"
   },
   {
    "duration": 9,
    "start_time": "2023-01-05T16:24:50.563Z"
   },
   {
    "duration": 11,
    "start_time": "2023-01-05T16:24:50.574Z"
   },
   {
    "duration": 174,
    "start_time": "2023-01-05T16:24:50.586Z"
   },
   {
    "duration": 11,
    "start_time": "2023-01-05T16:24:50.761Z"
   },
   {
    "duration": 17,
    "start_time": "2023-01-05T16:24:50.773Z"
   },
   {
    "duration": 88,
    "start_time": "2023-01-05T16:24:50.792Z"
   },
   {
    "duration": 46,
    "start_time": "2023-01-05T16:24:50.882Z"
   },
   {
    "duration": 6,
    "start_time": "2023-01-05T16:24:50.930Z"
   },
   {
    "duration": 26,
    "start_time": "2023-01-05T16:24:50.938Z"
   },
   {
    "duration": 21,
    "start_time": "2023-01-05T16:24:50.965Z"
   },
   {
    "duration": 33,
    "start_time": "2023-01-05T16:24:50.988Z"
   },
   {
    "duration": 148,
    "start_time": "2023-01-05T16:24:51.031Z"
   },
   {
    "duration": 36,
    "start_time": "2023-01-05T16:24:51.181Z"
   },
   {
    "duration": 14,
    "start_time": "2023-01-05T16:24:51.225Z"
   },
   {
    "duration": 12,
    "start_time": "2023-01-05T16:24:51.240Z"
   },
   {
    "duration": 354,
    "start_time": "2023-01-05T16:24:51.254Z"
   },
   {
    "duration": 44,
    "start_time": "2023-01-05T16:24:51.610Z"
   },
   {
    "duration": 323,
    "start_time": "2023-01-05T16:24:51.655Z"
   },
   {
    "duration": 335,
    "start_time": "2023-01-05T16:24:51.980Z"
   },
   {
    "duration": 34,
    "start_time": "2023-01-05T16:24:52.316Z"
   },
   {
    "duration": 307,
    "start_time": "2023-01-05T16:24:52.352Z"
   },
   {
    "duration": 7,
    "start_time": "2023-01-05T16:24:52.660Z"
   },
   {
    "duration": 30,
    "start_time": "2023-01-05T16:24:52.669Z"
   },
   {
    "duration": 29,
    "start_time": "2023-01-05T16:24:52.701Z"
   },
   {
    "duration": 26,
    "start_time": "2023-01-05T16:24:52.732Z"
   },
   {
    "duration": 9,
    "start_time": "2023-01-05T16:24:52.759Z"
   },
   {
    "duration": 12,
    "start_time": "2023-01-05T16:24:52.769Z"
   },
   {
    "duration": 1406,
    "start_time": "2023-01-06T07:54:34.558Z"
   },
   {
    "duration": 1383,
    "start_time": "2023-01-06T07:54:35.966Z"
   },
   {
    "duration": 3,
    "start_time": "2023-01-06T07:54:37.351Z"
   },
   {
    "duration": 44,
    "start_time": "2023-01-06T07:54:37.355Z"
   },
   {
    "duration": 139,
    "start_time": "2023-01-06T07:54:37.401Z"
   },
   {
    "duration": 237,
    "start_time": "2023-01-06T07:54:37.541Z"
   },
   {
    "duration": 47,
    "start_time": "2023-01-06T07:54:37.780Z"
   },
   {
    "duration": 5,
    "start_time": "2023-01-06T07:54:37.829Z"
   },
   {
    "duration": 8,
    "start_time": "2023-01-06T07:54:37.835Z"
   },
   {
    "duration": 33,
    "start_time": "2023-01-06T07:54:37.845Z"
   },
   {
    "duration": 11,
    "start_time": "2023-01-06T07:54:37.880Z"
   },
   {
    "duration": 33,
    "start_time": "2023-01-06T07:54:37.893Z"
   },
   {
    "duration": 12,
    "start_time": "2023-01-06T07:54:37.928Z"
   },
   {
    "duration": 63,
    "start_time": "2023-01-06T07:54:37.941Z"
   },
   {
    "duration": 269,
    "start_time": "2023-01-06T07:54:38.006Z"
   },
   {
    "duration": 88,
    "start_time": "2023-01-06T07:54:38.276Z"
   },
   {
    "duration": 18,
    "start_time": "2023-01-06T07:54:38.365Z"
   },
   {
    "duration": 10,
    "start_time": "2023-01-06T07:54:38.384Z"
   },
   {
    "duration": 7,
    "start_time": "2023-01-06T07:54:38.395Z"
   },
   {
    "duration": 25,
    "start_time": "2023-01-06T07:54:38.403Z"
   },
   {
    "duration": 9,
    "start_time": "2023-01-06T07:54:38.429Z"
   },
   {
    "duration": 7,
    "start_time": "2023-01-06T07:54:38.439Z"
   },
   {
    "duration": 32,
    "start_time": "2023-01-06T07:54:38.448Z"
   },
   {
    "duration": 14,
    "start_time": "2023-01-06T07:54:38.482Z"
   },
   {
    "duration": 15,
    "start_time": "2023-01-06T07:54:38.497Z"
   },
   {
    "duration": 6,
    "start_time": "2023-01-06T07:54:38.513Z"
   },
   {
    "duration": 19,
    "start_time": "2023-01-06T07:54:38.521Z"
   },
   {
    "duration": 5,
    "start_time": "2023-01-06T07:54:38.544Z"
   },
   {
    "duration": 12,
    "start_time": "2023-01-06T07:54:38.578Z"
   },
   {
    "duration": 5,
    "start_time": "2023-01-06T07:54:38.592Z"
   },
   {
    "duration": 23,
    "start_time": "2023-01-06T07:54:38.598Z"
   },
   {
    "duration": 18,
    "start_time": "2023-01-06T07:54:38.623Z"
   },
   {
    "duration": 37,
    "start_time": "2023-01-06T07:54:38.643Z"
   },
   {
    "duration": 13,
    "start_time": "2023-01-06T07:54:38.682Z"
   },
   {
    "duration": 16,
    "start_time": "2023-01-06T07:54:38.696Z"
   },
   {
    "duration": 14,
    "start_time": "2023-01-06T07:54:38.713Z"
   },
   {
    "duration": 59,
    "start_time": "2023-01-06T07:54:38.729Z"
   },
   {
    "duration": 14,
    "start_time": "2023-01-06T07:54:38.789Z"
   },
   {
    "duration": 9,
    "start_time": "2023-01-06T07:54:38.804Z"
   },
   {
    "duration": 16,
    "start_time": "2023-01-06T07:54:38.815Z"
   },
   {
    "duration": 8,
    "start_time": "2023-01-06T07:54:38.832Z"
   },
   {
    "duration": 36,
    "start_time": "2023-01-06T07:54:38.842Z"
   },
   {
    "duration": 181,
    "start_time": "2023-01-06T07:54:38.880Z"
   },
   {
    "duration": 18,
    "start_time": "2023-01-06T07:54:39.063Z"
   },
   {
    "duration": 21,
    "start_time": "2023-01-06T07:54:39.083Z"
   },
   {
    "duration": 92,
    "start_time": "2023-01-06T07:54:39.105Z"
   },
   {
    "duration": 23,
    "start_time": "2023-01-06T07:54:39.198Z"
   },
   {
    "duration": 8,
    "start_time": "2023-01-06T07:54:39.224Z"
   },
   {
    "duration": 52,
    "start_time": "2023-01-06T07:54:39.234Z"
   },
   {
    "duration": 24,
    "start_time": "2023-01-06T07:54:39.288Z"
   },
   {
    "duration": 12,
    "start_time": "2023-01-06T07:54:39.314Z"
   },
   {
    "duration": 411,
    "start_time": "2023-01-06T07:54:39.328Z"
   },
   {
    "duration": 21,
    "start_time": "2023-01-06T07:54:39.740Z"
   },
   {
    "duration": 25,
    "start_time": "2023-01-06T07:54:39.763Z"
   },
   {
    "duration": 14,
    "start_time": "2023-01-06T07:54:39.789Z"
   },
   {
    "duration": 366,
    "start_time": "2023-01-06T07:54:39.805Z"
   },
   {
    "duration": 44,
    "start_time": "2023-01-06T07:54:40.172Z"
   },
   {
    "duration": 337,
    "start_time": "2023-01-06T07:54:40.217Z"
   },
   {
    "duration": 331,
    "start_time": "2023-01-06T07:54:40.556Z"
   },
   {
    "duration": 25,
    "start_time": "2023-01-06T07:54:40.889Z"
   },
   {
    "duration": 333,
    "start_time": "2023-01-06T07:54:40.916Z"
   },
   {
    "duration": 8,
    "start_time": "2023-01-06T07:54:41.251Z"
   },
   {
    "duration": 40,
    "start_time": "2023-01-06T07:54:41.260Z"
   },
   {
    "duration": 16,
    "start_time": "2023-01-06T07:54:41.301Z"
   },
   {
    "duration": 28,
    "start_time": "2023-01-06T07:54:41.320Z"
   },
   {
    "duration": 35,
    "start_time": "2023-01-06T07:54:41.350Z"
   },
   {
    "duration": 12,
    "start_time": "2023-01-06T07:54:41.387Z"
   },
   {
    "duration": 1386,
    "start_time": "2023-01-06T16:35:10.685Z"
   },
   {
    "duration": 1116,
    "start_time": "2023-01-06T16:35:12.073Z"
   },
   {
    "duration": 4,
    "start_time": "2023-01-06T16:35:13.190Z"
   },
   {
    "duration": 42,
    "start_time": "2023-01-06T16:35:13.195Z"
   },
   {
    "duration": 125,
    "start_time": "2023-01-06T16:35:13.238Z"
   },
   {
    "duration": 240,
    "start_time": "2023-01-06T16:35:13.364Z"
   },
   {
    "duration": 48,
    "start_time": "2023-01-06T16:35:13.606Z"
   },
   {
    "duration": 5,
    "start_time": "2023-01-06T16:35:13.655Z"
   },
   {
    "duration": 7,
    "start_time": "2023-01-06T16:35:13.661Z"
   },
   {
    "duration": 26,
    "start_time": "2023-01-06T16:35:13.670Z"
   },
   {
    "duration": 11,
    "start_time": "2023-01-06T16:35:13.698Z"
   },
   {
    "duration": 29,
    "start_time": "2023-01-06T16:35:13.710Z"
   },
   {
    "duration": 11,
    "start_time": "2023-01-06T16:35:13.741Z"
   },
   {
    "duration": 68,
    "start_time": "2023-01-06T16:35:13.753Z"
   },
   {
    "duration": 252,
    "start_time": "2023-01-06T16:35:13.822Z"
   },
   {
    "duration": 109,
    "start_time": "2023-01-06T16:35:14.076Z"
   },
   {
    "duration": 14,
    "start_time": "2023-01-06T16:35:14.186Z"
   },
   {
    "duration": 9,
    "start_time": "2023-01-06T16:35:14.202Z"
   },
   {
    "duration": 6,
    "start_time": "2023-01-06T16:35:14.212Z"
   },
   {
    "duration": 22,
    "start_time": "2023-01-06T16:35:14.220Z"
   },
   {
    "duration": 11,
    "start_time": "2023-01-06T16:35:14.244Z"
   },
   {
    "duration": 8,
    "start_time": "2023-01-06T16:35:14.256Z"
   },
   {
    "duration": 31,
    "start_time": "2023-01-06T16:35:14.266Z"
   },
   {
    "duration": 11,
    "start_time": "2023-01-06T16:35:14.299Z"
   },
   {
    "duration": 11,
    "start_time": "2023-01-06T16:35:14.312Z"
   },
   {
    "duration": 7,
    "start_time": "2023-01-06T16:35:14.324Z"
   },
   {
    "duration": 24,
    "start_time": "2023-01-06T16:35:14.332Z"
   },
   {
    "duration": 6,
    "start_time": "2023-01-06T16:35:14.359Z"
   },
   {
    "duration": 36,
    "start_time": "2023-01-06T16:35:14.366Z"
   },
   {
    "duration": 6,
    "start_time": "2023-01-06T16:35:14.403Z"
   },
   {
    "duration": 19,
    "start_time": "2023-01-06T16:35:14.410Z"
   },
   {
    "duration": 17,
    "start_time": "2023-01-06T16:35:14.430Z"
   },
   {
    "duration": 5,
    "start_time": "2023-01-06T16:35:14.449Z"
   },
   {
    "duration": 40,
    "start_time": "2023-01-06T16:35:14.456Z"
   },
   {
    "duration": 12,
    "start_time": "2023-01-06T16:35:14.498Z"
   },
   {
    "duration": 11,
    "start_time": "2023-01-06T16:35:14.511Z"
   },
   {
    "duration": 43,
    "start_time": "2023-01-06T16:35:14.523Z"
   },
   {
    "duration": 29,
    "start_time": "2023-01-06T16:35:14.568Z"
   },
   {
    "duration": 9,
    "start_time": "2023-01-06T16:35:14.598Z"
   },
   {
    "duration": 11,
    "start_time": "2023-01-06T16:35:14.608Z"
   },
   {
    "duration": 7,
    "start_time": "2023-01-06T16:35:14.620Z"
   },
   {
    "duration": 10,
    "start_time": "2023-01-06T16:35:14.629Z"
   },
   {
    "duration": 182,
    "start_time": "2023-01-06T16:35:14.640Z"
   },
   {
    "duration": 12,
    "start_time": "2023-01-06T16:35:14.823Z"
   },
   {
    "duration": 17,
    "start_time": "2023-01-06T16:35:14.836Z"
   },
   {
    "duration": 87,
    "start_time": "2023-01-06T16:35:14.854Z"
   },
   {
    "duration": 23,
    "start_time": "2023-01-06T16:35:14.942Z"
   },
   {
    "duration": 6,
    "start_time": "2023-01-06T16:35:14.968Z"
   },
   {
    "duration": 63,
    "start_time": "2023-01-06T16:35:14.975Z"
   },
   {
    "duration": 28,
    "start_time": "2023-01-06T16:35:15.039Z"
   },
   {
    "duration": 28,
    "start_time": "2023-01-06T16:35:15.068Z"
   },
   {
    "duration": 170,
    "start_time": "2023-01-06T16:35:15.098Z"
   },
   {
    "duration": 26,
    "start_time": "2023-01-06T16:35:15.271Z"
   },
   {
    "duration": 16,
    "start_time": "2023-01-06T16:35:15.299Z"
   },
   {
    "duration": 27,
    "start_time": "2023-01-06T16:35:15.317Z"
   },
   {
    "duration": 305,
    "start_time": "2023-01-06T16:35:15.346Z"
   },
   {
    "duration": 44,
    "start_time": "2023-01-06T16:35:15.653Z"
   },
   {
    "duration": 333,
    "start_time": "2023-01-06T16:35:15.699Z"
   },
   {
    "duration": 335,
    "start_time": "2023-01-06T16:35:16.033Z"
   },
   {
    "duration": 27,
    "start_time": "2023-01-06T16:35:16.370Z"
   },
   {
    "duration": 279,
    "start_time": "2023-01-06T16:35:16.399Z"
   },
   {
    "duration": 6,
    "start_time": "2023-01-06T16:35:16.680Z"
   },
   {
    "duration": 19,
    "start_time": "2023-01-06T16:35:16.696Z"
   },
   {
    "duration": 26,
    "start_time": "2023-01-06T16:35:16.716Z"
   },
   {
    "duration": 32,
    "start_time": "2023-01-06T16:35:16.743Z"
   },
   {
    "duration": 8,
    "start_time": "2023-01-06T16:35:16.777Z"
   },
   {
    "duration": 14,
    "start_time": "2023-01-06T16:35:16.786Z"
   },
   {
    "duration": 1299,
    "start_time": "2023-08-18T00:43:52.804Z"
   },
   {
    "duration": 1352,
    "start_time": "2023-08-18T00:44:48.198Z"
   },
   {
    "duration": 1304,
    "start_time": "2023-08-18T00:44:49.552Z"
   },
   {
    "duration": 12,
    "start_time": "2023-08-18T00:44:50.858Z"
   },
   {
    "duration": 15,
    "start_time": "2023-08-18T00:44:50.872Z"
   },
   {
    "duration": 8,
    "start_time": "2023-08-18T00:44:50.890Z"
   },
   {
    "duration": 12,
    "start_time": "2023-08-18T00:44:50.900Z"
   },
   {
    "duration": 15,
    "start_time": "2023-08-18T00:44:50.914Z"
   },
   {
    "duration": 39,
    "start_time": "2023-08-18T00:44:50.931Z"
   },
   {
    "duration": 35,
    "start_time": "2023-08-18T00:44:50.973Z"
   },
   {
    "duration": 11,
    "start_time": "2023-08-18T00:44:51.010Z"
   },
   {
    "duration": 80,
    "start_time": "2023-08-18T00:44:51.022Z"
   },
   {
    "duration": 86,
    "start_time": "2023-08-18T00:44:51.104Z"
   },
   {
    "duration": 21,
    "start_time": "2023-08-18T00:44:51.192Z"
   },
   {
    "duration": 47,
    "start_time": "2023-08-18T00:44:51.217Z"
   },
   {
    "duration": 31,
    "start_time": "2023-08-18T00:44:51.266Z"
   },
   {
    "duration": 74,
    "start_time": "2023-08-18T00:44:51.299Z"
   },
   {
    "duration": 50,
    "start_time": "2023-08-18T00:44:51.375Z"
   },
   {
    "duration": 259,
    "start_time": "2023-08-18T00:44:51.427Z"
   },
   {
    "duration": 260,
    "start_time": "2023-08-18T00:44:51.688Z"
   },
   {
    "duration": 28,
    "start_time": "2023-08-18T00:44:51.950Z"
   },
   {
    "duration": 8,
    "start_time": "2023-08-18T00:44:51.980Z"
   },
   {
    "duration": 55,
    "start_time": "2023-08-18T00:44:51.990Z"
   },
   {
    "duration": 59,
    "start_time": "2023-08-18T00:44:52.047Z"
   },
   {
    "duration": 38,
    "start_time": "2023-08-18T00:44:52.108Z"
   },
   {
    "duration": 22,
    "start_time": "2023-08-18T00:44:52.148Z"
   },
   {
    "duration": 44,
    "start_time": "2023-08-18T00:44:52.171Z"
   },
   {
    "duration": 39,
    "start_time": "2023-08-18T00:44:52.217Z"
   },
   {
    "duration": 22,
    "start_time": "2023-08-18T00:44:52.258Z"
   },
   {
    "duration": 30,
    "start_time": "2023-08-18T00:44:52.282Z"
   },
   {
    "duration": 23,
    "start_time": "2023-08-18T00:44:52.313Z"
   },
   {
    "duration": 47,
    "start_time": "2023-08-18T00:44:52.338Z"
   },
   {
    "duration": 43,
    "start_time": "2023-08-18T00:44:52.386Z"
   },
   {
    "duration": 43,
    "start_time": "2023-08-18T00:44:52.431Z"
   },
   {
    "duration": 32,
    "start_time": "2023-08-18T00:44:52.476Z"
   },
   {
    "duration": 294,
    "start_time": "2023-08-18T00:44:52.510Z"
   },
   {
    "duration": 13,
    "start_time": "2023-08-18T00:44:52.806Z"
   },
   {
    "duration": 39,
    "start_time": "2023-08-18T00:44:52.821Z"
   },
   {
    "duration": 64,
    "start_time": "2023-08-18T00:44:52.862Z"
   },
   {
    "duration": 90,
    "start_time": "2023-08-18T00:44:52.928Z"
   },
   {
    "duration": 108,
    "start_time": "2023-08-18T00:44:53.020Z"
   },
   {
    "duration": 147,
    "start_time": "2023-08-18T00:44:53.132Z"
   },
   {
    "duration": 63,
    "start_time": "2023-08-18T00:44:53.281Z"
   },
   {
    "duration": 92,
    "start_time": "2023-08-18T00:44:53.346Z"
   },
   {
    "duration": 67,
    "start_time": "2023-08-18T00:44:53.440Z"
   },
   {
    "duration": 71,
    "start_time": "2023-08-18T00:44:53.509Z"
   },
   {
    "duration": 44,
    "start_time": "2023-08-18T00:44:53.582Z"
   },
   {
    "duration": 262,
    "start_time": "2023-08-18T00:44:53.628Z"
   },
   {
    "duration": 27,
    "start_time": "2023-08-18T00:44:53.892Z"
   },
   {
    "duration": 24,
    "start_time": "2023-08-18T00:44:53.920Z"
   },
   {
    "duration": 73,
    "start_time": "2023-08-18T00:44:53.946Z"
   },
   {
    "duration": 309,
    "start_time": "2023-08-18T00:44:54.021Z"
   },
   {
    "duration": 42,
    "start_time": "2023-08-18T00:44:54.331Z"
   },
   {
    "duration": 345,
    "start_time": "2023-08-18T00:44:54.374Z"
   },
   {
    "duration": 381,
    "start_time": "2023-08-18T00:44:54.721Z"
   },
   {
    "duration": 28,
    "start_time": "2023-08-18T00:44:55.104Z"
   },
   {
    "duration": 326,
    "start_time": "2023-08-18T00:44:55.133Z"
   },
   {
    "duration": 9,
    "start_time": "2023-08-18T00:44:55.461Z"
   },
   {
    "duration": 38,
    "start_time": "2023-08-18T00:44:55.471Z"
   },
   {
    "duration": 159,
    "start_time": "2023-08-18T00:44:55.511Z"
   },
   {
    "duration": 0,
    "start_time": "2023-08-18T00:44:55.672Z"
   },
   {
    "duration": 0,
    "start_time": "2023-08-18T00:44:55.673Z"
   },
   {
    "duration": 0,
    "start_time": "2023-08-18T00:44:55.674Z"
   },
   {
    "duration": 0,
    "start_time": "2023-08-18T00:44:55.675Z"
   },
   {
    "duration": 18,
    "start_time": "2023-08-18T00:45:29.493Z"
   },
   {
    "duration": 17,
    "start_time": "2023-08-18T00:45:36.644Z"
   },
   {
    "duration": 17,
    "start_time": "2023-08-18T00:45:37.892Z"
   },
   {
    "duration": 22,
    "start_time": "2023-08-18T00:46:47.842Z"
   },
   {
    "duration": 15,
    "start_time": "2023-08-18T00:46:49.317Z"
   },
   {
    "duration": 95,
    "start_time": "2023-08-18T00:50:43.424Z"
   },
   {
    "duration": 63,
    "start_time": "2023-08-18T00:50:48.438Z"
   },
   {
    "duration": 68,
    "start_time": "2023-08-18T00:51:00.096Z"
   },
   {
    "duration": 66,
    "start_time": "2023-08-18T00:51:11.135Z"
   },
   {
    "duration": 12,
    "start_time": "2023-08-18T00:51:50.087Z"
   },
   {
    "duration": 144,
    "start_time": "2023-08-18T00:52:25.161Z"
   },
   {
    "duration": 13,
    "start_time": "2023-08-18T00:52:31.104Z"
   },
   {
    "duration": 11,
    "start_time": "2023-08-18T00:53:09.753Z"
   },
   {
    "duration": 13,
    "start_time": "2023-08-18T00:53:24.128Z"
   },
   {
    "duration": 112,
    "start_time": "2023-08-18T00:53:50.800Z"
   },
   {
    "duration": 10,
    "start_time": "2023-08-18T00:54:12.609Z"
   },
   {
    "duration": 5,
    "start_time": "2023-08-18T00:56:03.978Z"
   },
   {
    "duration": 13,
    "start_time": "2023-08-18T00:56:11.194Z"
   },
   {
    "duration": 12,
    "start_time": "2023-08-18T00:56:19.667Z"
   },
   {
    "duration": 70,
    "start_time": "2023-08-18T00:56:29.266Z"
   },
   {
    "duration": 65,
    "start_time": "2023-08-18T00:56:35.331Z"
   },
   {
    "duration": 15,
    "start_time": "2023-08-18T00:57:11.675Z"
   },
   {
    "duration": 1267,
    "start_time": "2023-08-18T00:57:53.247Z"
   },
   {
    "duration": 1260,
    "start_time": "2023-08-18T00:57:54.516Z"
   },
   {
    "duration": 15,
    "start_time": "2023-08-18T00:57:55.779Z"
   },
   {
    "duration": 41,
    "start_time": "2023-08-18T00:57:55.796Z"
   },
   {
    "duration": 34,
    "start_time": "2023-08-18T00:57:55.840Z"
   },
   {
    "duration": 20,
    "start_time": "2023-08-18T00:57:55.876Z"
   },
   {
    "duration": 47,
    "start_time": "2023-08-18T00:57:55.898Z"
   },
   {
    "duration": 53,
    "start_time": "2023-08-18T00:57:55.947Z"
   },
   {
    "duration": 21,
    "start_time": "2023-08-18T00:57:56.002Z"
   },
   {
    "duration": 23,
    "start_time": "2023-08-18T00:57:56.024Z"
   },
   {
    "duration": 91,
    "start_time": "2023-08-18T00:57:56.049Z"
   },
   {
    "duration": 90,
    "start_time": "2023-08-18T00:57:56.142Z"
   },
   {
    "duration": 14,
    "start_time": "2023-08-18T00:57:56.234Z"
   },
   {
    "duration": 25,
    "start_time": "2023-08-18T00:57:56.251Z"
   },
   {
    "duration": 26,
    "start_time": "2023-08-18T00:57:56.278Z"
   },
   {
    "duration": 64,
    "start_time": "2023-08-18T00:57:56.306Z"
   },
   {
    "duration": 57,
    "start_time": "2023-08-18T00:57:56.371Z"
   },
   {
    "duration": 40,
    "start_time": "2023-08-18T00:57:56.430Z"
   },
   {
    "duration": 261,
    "start_time": "2023-08-18T00:57:56.472Z"
   },
   {
    "duration": 28,
    "start_time": "2023-08-18T00:57:56.735Z"
   },
   {
    "duration": 4,
    "start_time": "2023-08-18T00:57:56.765Z"
   },
   {
    "duration": 25,
    "start_time": "2023-08-18T00:57:56.771Z"
   },
   {
    "duration": 5,
    "start_time": "2023-08-18T00:57:56.808Z"
   },
   {
    "duration": 42,
    "start_time": "2023-08-18T00:57:56.815Z"
   },
   {
    "duration": 5,
    "start_time": "2023-08-18T00:57:56.858Z"
   },
   {
    "duration": 35,
    "start_time": "2023-08-18T00:57:56.864Z"
   },
   {
    "duration": 24,
    "start_time": "2023-08-18T00:57:56.901Z"
   },
   {
    "duration": 8,
    "start_time": "2023-08-18T00:57:56.927Z"
   },
   {
    "duration": 13,
    "start_time": "2023-08-18T00:57:56.936Z"
   },
   {
    "duration": 16,
    "start_time": "2023-08-18T00:57:56.951Z"
   },
   {
    "duration": 24,
    "start_time": "2023-08-18T00:57:56.969Z"
   },
   {
    "duration": 39,
    "start_time": "2023-08-18T00:57:57.009Z"
   },
   {
    "duration": 15,
    "start_time": "2023-08-18T00:57:57.050Z"
   },
   {
    "duration": 19,
    "start_time": "2023-08-18T00:57:57.067Z"
   },
   {
    "duration": 241,
    "start_time": "2023-08-18T00:57:57.088Z"
   },
   {
    "duration": 12,
    "start_time": "2023-08-18T00:57:57.330Z"
   },
   {
    "duration": 30,
    "start_time": "2023-08-18T00:57:57.344Z"
   },
   {
    "duration": 34,
    "start_time": "2023-08-18T00:57:57.376Z"
   },
   {
    "duration": 12,
    "start_time": "2023-08-18T00:57:57.412Z"
   },
   {
    "duration": 24,
    "start_time": "2023-08-18T00:57:57.426Z"
   },
   {
    "duration": 7,
    "start_time": "2023-08-18T00:57:57.454Z"
   },
   {
    "duration": 60,
    "start_time": "2023-08-18T00:57:57.462Z"
   },
   {
    "duration": 19,
    "start_time": "2023-08-18T00:57:57.523Z"
   },
   {
    "duration": 10,
    "start_time": "2023-08-18T00:57:57.543Z"
   },
   {
    "duration": 7,
    "start_time": "2023-08-18T00:57:57.555Z"
   },
   {
    "duration": 9,
    "start_time": "2023-08-18T00:57:57.564Z"
   },
   {
    "duration": 211,
    "start_time": "2023-08-18T00:57:57.575Z"
   },
   {
    "duration": 27,
    "start_time": "2023-08-18T00:57:57.788Z"
   },
   {
    "duration": 17,
    "start_time": "2023-08-18T00:57:57.818Z"
   },
   {
    "duration": 17,
    "start_time": "2023-08-18T00:57:57.837Z"
   },
   {
    "duration": 398,
    "start_time": "2023-08-18T00:57:57.856Z"
   },
   {
    "duration": 40,
    "start_time": "2023-08-18T00:57:58.257Z"
   },
   {
    "duration": 317,
    "start_time": "2023-08-18T00:57:58.309Z"
   },
   {
    "duration": 336,
    "start_time": "2023-08-18T00:57:58.628Z"
   },
   {
    "duration": 25,
    "start_time": "2023-08-18T00:57:58.967Z"
   },
   {
    "duration": 348,
    "start_time": "2023-08-18T00:57:58.994Z"
   },
   {
    "duration": 8,
    "start_time": "2023-08-18T00:57:59.343Z"
   },
   {
    "duration": 28,
    "start_time": "2023-08-18T00:57:59.354Z"
   },
   {
    "duration": 55,
    "start_time": "2023-08-18T00:57:59.384Z"
   },
   {
    "duration": 42,
    "start_time": "2023-08-18T00:57:59.441Z"
   },
   {
    "duration": 9,
    "start_time": "2023-08-18T00:57:59.485Z"
   },
   {
    "duration": 5,
    "start_time": "2023-08-18T00:57:59.496Z"
   },
   {
    "duration": 27,
    "start_time": "2023-08-18T00:57:59.503Z"
   },
   {
    "duration": 1352,
    "start_time": "2023-08-18T10:19:22.872Z"
   },
   {
    "duration": 1359,
    "start_time": "2023-08-18T10:19:24.227Z"
   },
   {
    "duration": 12,
    "start_time": "2023-08-18T10:19:25.588Z"
   },
   {
    "duration": 14,
    "start_time": "2023-08-18T10:19:25.602Z"
   },
   {
    "duration": 14,
    "start_time": "2023-08-18T10:19:25.618Z"
   },
   {
    "duration": 6,
    "start_time": "2023-08-18T10:19:25.634Z"
   },
   {
    "duration": 11,
    "start_time": "2023-08-18T10:19:25.642Z"
   },
   {
    "duration": 27,
    "start_time": "2023-08-18T10:19:25.655Z"
   },
   {
    "duration": 12,
    "start_time": "2023-08-18T10:19:25.684Z"
   },
   {
    "duration": 9,
    "start_time": "2023-08-18T10:19:25.699Z"
   },
   {
    "duration": 90,
    "start_time": "2023-08-18T10:19:25.710Z"
   },
   {
    "duration": 103,
    "start_time": "2023-08-18T10:19:25.802Z"
   },
   {
    "duration": 14,
    "start_time": "2023-08-18T10:19:25.907Z"
   },
   {
    "duration": 16,
    "start_time": "2023-08-18T10:19:25.922Z"
   },
   {
    "duration": 9,
    "start_time": "2023-08-18T10:19:25.940Z"
   },
   {
    "duration": 60,
    "start_time": "2023-08-18T10:19:25.951Z"
   },
   {
    "duration": 65,
    "start_time": "2023-08-18T10:19:26.013Z"
   },
   {
    "duration": 37,
    "start_time": "2023-08-18T10:19:26.080Z"
   },
   {
    "duration": 224,
    "start_time": "2023-08-18T10:19:26.119Z"
   },
   {
    "duration": 33,
    "start_time": "2023-08-18T10:19:26.344Z"
   },
   {
    "duration": 4,
    "start_time": "2023-08-18T10:19:26.379Z"
   },
   {
    "duration": 15,
    "start_time": "2023-08-18T10:19:26.384Z"
   },
   {
    "duration": 8,
    "start_time": "2023-08-18T10:19:26.400Z"
   },
   {
    "duration": 56,
    "start_time": "2023-08-18T10:19:26.410Z"
   },
   {
    "duration": 8,
    "start_time": "2023-08-18T10:19:26.468Z"
   },
   {
    "duration": 19,
    "start_time": "2023-08-18T10:19:26.478Z"
   },
   {
    "duration": 20,
    "start_time": "2023-08-18T10:19:26.499Z"
   },
   {
    "duration": 6,
    "start_time": "2023-08-18T10:19:26.523Z"
   },
   {
    "duration": 39,
    "start_time": "2023-08-18T10:19:26.531Z"
   },
   {
    "duration": 7,
    "start_time": "2023-08-18T10:19:26.572Z"
   },
   {
    "duration": 15,
    "start_time": "2023-08-18T10:19:26.580Z"
   },
   {
    "duration": 29,
    "start_time": "2023-08-18T10:19:26.596Z"
   },
   {
    "duration": 47,
    "start_time": "2023-08-18T10:19:26.627Z"
   },
   {
    "duration": 24,
    "start_time": "2023-08-18T10:19:26.676Z"
   },
   {
    "duration": 215,
    "start_time": "2023-08-18T10:19:26.702Z"
   },
   {
    "duration": 12,
    "start_time": "2023-08-18T10:19:26.919Z"
   },
   {
    "duration": 46,
    "start_time": "2023-08-18T10:19:26.932Z"
   },
   {
    "duration": 13,
    "start_time": "2023-08-18T10:19:26.980Z"
   },
   {
    "duration": 55,
    "start_time": "2023-08-18T10:19:26.995Z"
   },
   {
    "duration": 39,
    "start_time": "2023-08-18T10:19:27.052Z"
   },
   {
    "duration": 8,
    "start_time": "2023-08-18T10:19:27.093Z"
   },
   {
    "duration": 38,
    "start_time": "2023-08-18T10:19:27.102Z"
   },
   {
    "duration": 28,
    "start_time": "2023-08-18T10:19:27.142Z"
   },
   {
    "duration": 12,
    "start_time": "2023-08-18T10:19:27.173Z"
   },
   {
    "duration": 11,
    "start_time": "2023-08-18T10:19:27.186Z"
   },
   {
    "duration": 8,
    "start_time": "2023-08-18T10:19:27.199Z"
   },
   {
    "duration": 1012,
    "start_time": "2023-08-18T10:19:27.209Z"
   },
   {
    "duration": 19,
    "start_time": "2023-08-18T10:19:28.223Z"
   },
   {
    "duration": 29,
    "start_time": "2023-08-18T10:19:28.243Z"
   },
   {
    "duration": 18,
    "start_time": "2023-08-18T10:19:28.274Z"
   },
   {
    "duration": 333,
    "start_time": "2023-08-18T10:19:28.293Z"
   },
   {
    "duration": 58,
    "start_time": "2023-08-18T10:19:28.628Z"
   },
   {
    "duration": 333,
    "start_time": "2023-08-18T10:19:28.687Z"
   },
   {
    "duration": 338,
    "start_time": "2023-08-18T10:19:29.022Z"
   },
   {
    "duration": 29,
    "start_time": "2023-08-18T10:19:29.364Z"
   },
   {
    "duration": 319,
    "start_time": "2023-08-18T10:19:29.394Z"
   },
   {
    "duration": 7,
    "start_time": "2023-08-18T10:19:29.715Z"
   },
   {
    "duration": 38,
    "start_time": "2023-08-18T10:19:29.723Z"
   },
   {
    "duration": 18,
    "start_time": "2023-08-18T10:19:29.762Z"
   },
   {
    "duration": 22,
    "start_time": "2023-08-18T10:19:29.782Z"
   },
   {
    "duration": 9,
    "start_time": "2023-08-18T10:19:29.805Z"
   },
   {
    "duration": 5,
    "start_time": "2023-08-18T10:19:29.815Z"
   },
   {
    "duration": 44,
    "start_time": "2023-08-18T10:19:29.821Z"
   },
   {
    "duration": 15,
    "start_time": "2023-08-18T10:24:01.477Z"
   },
   {
    "duration": 5,
    "start_time": "2023-08-18T10:31:44.626Z"
   },
   {
    "duration": 9,
    "start_time": "2023-08-18T10:31:46.140Z"
   }
  ],
  "kernelspec": {
   "display_name": "Python 3 (ipykernel)",
   "language": "python",
   "name": "python3"
  },
  "language_info": {
   "codemirror_mode": {
    "name": "ipython",
    "version": 3
   },
   "file_extension": ".py",
   "mimetype": "text/x-python",
   "name": "python",
   "nbconvert_exporter": "python",
   "pygments_lexer": "ipython3",
   "version": "3.9.7"
  },
  "toc": {
   "base_numbering": 1,
   "nav_menu": {
    "height": "487px",
    "width": "715px"
   },
   "number_sections": true,
   "sideBar": true,
   "skip_h1_title": true,
   "title_cell": "Table of Contents",
   "title_sidebar": "Contents",
   "toc_cell": false,
   "toc_position": {},
   "toc_section_display": true,
   "toc_window_display": true
  }
 },
 "nbformat": 4,
 "nbformat_minor": 2
}
