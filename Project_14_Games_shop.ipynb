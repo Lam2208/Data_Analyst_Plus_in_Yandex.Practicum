{
 "cells": [
  {
   "cell_type": "markdown",
   "metadata": {},
   "source": [
    "# Описание проекта"
   ]
  },
  {
   "cell_type": "markdown",
   "metadata": {},
   "source": [
    "Работем в интересах интернет-магазина «Стримчик», который продаёт по всему миру компьютерные игры. Из открытых источников доступны исторические данные о продажах игр, оценки пользователей и экспертов, жанры и платформы (например, Xbox или PlayStation). Нам нужно выявить определяющие успешность игры закономерности. Это позволит сделать ставку на потенциально популярный продукт и спланировать рекламные кампании.\n",
    "\n",
    "**Описание данных**\n",
    "\n",
    "- Name — название игры\n",
    "\n",
    "- Platform — платформа\n",
    "\n",
    "- Year_of_Release — год выпуска\n",
    "\n",
    "- Genre — жанр игры\n",
    "\n",
    "- NA_sales — продажи в Северной Америке (миллионы проданных копий)\n",
    "\n",
    "- EU_sales — продажи в Европе (миллионы проданных копий)\n",
    "\n",
    "- JP_sales — продажи в Японии (миллионы проданных копий)\n",
    "\n",
    "- Other_sales — продажи в других странах (миллионы проданных копий)\n",
    "\n",
    "- Critic_Score — оценка критиков (максимум 100)\n",
    "\n",
    "- User_Score — оценка пользователей (максимум 10)\n",
    "\n",
    "- Rating — рейтинг от организации ESRB (англ. Entertainment Software Rating Board). Эта ассоциация определяет рейтинг компьютерных игр и присваивает им подходящую возрастную категорию.\n",
    "\n",
    "*Данные за 2016 год могут быть неполными.*"
   ]
  },
  {
   "cell_type": "markdown",
   "metadata": {},
   "source": [
    "## Откройте файл с данными и изучите общую информацию"
   ]
  },
  {
   "cell_type": "code",
   "execution_count": null,
   "metadata": {},
   "outputs": [],
   "source": [
    "import pandas as pd\n",
    "import copy\n",
    "import matplotlib.pyplot as plt \n",
    "import seaborn as sns\n",
    "from scipy import stats as st\n",
    "import numpy as np\n",
    "import datetime\n",
    "import statsmodels.formula.api as smf\n",
    "import plotly.graph_objects as go"
   ]
  },
  {
   "cell_type": "code",
   "execution_count": null,
   "metadata": {},
   "outputs": [],
   "source": [
    "df = pd.read_csv('/datasets/games.csv')\n",
    "df.info()"
   ]
  },
  {
   "cell_type": "code",
   "execution_count": null,
   "metadata": {
    "scrolled": true
   },
   "outputs": [],
   "source": [
    "display(df.head(7))"
   ]
  },
  {
   "cell_type": "markdown",
   "metadata": {},
   "source": [
    "Посмотрим долю пропусков от общего числа записей"
   ]
  },
  {
   "cell_type": "code",
   "execution_count": null,
   "metadata": {},
   "outputs": [],
   "source": [
    "pd.DataFrame((df.isna().mean()*100))"
   ]
  },
  {
   "cell_type": "markdown",
   "metadata": {},
   "source": [
    "**Промежуточный вывод:**\n",
    "\n",
    "Итого у нас 11 столбцов и 16715 строк. Названия столбцов и жанры необходимо привести к нижнему регистру, а так же для некоторых полей нужно заменить форматы. \n",
    "\n",
    "К тому же, мы видим, что у столбцов 'Name' и 'Genre' имеется незначительное количество пропусков. Для некоторых игр не указан год релиза. Около половины записей имеют пропуски в оценке критиков и игроков."
   ]
  },
  {
   "cell_type": "markdown",
   "metadata": {},
   "source": [
    "## Подготовьте данные"
   ]
  },
  {
   "cell_type": "markdown",
   "metadata": {},
   "source": [
    "Сперва заменим названия столбцов (приведем к нижнему регистру)"
   ]
  },
  {
   "cell_type": "code",
   "execution_count": null,
   "metadata": {
    "scrolled": true
   },
   "outputs": [],
   "source": [
    "df.columns = df.columns.str.lower()\n",
    "df.info()"
   ]
  },
  {
   "cell_type": "markdown",
   "metadata": {},
   "source": [
    "Так-с, посчитаем пропуски и преобразуем данные в нужные для дальнейшего исследования типы данных"
   ]
  },
  {
   "cell_type": "code",
   "execution_count": null,
   "metadata": {},
   "outputs": [],
   "source": [
    "df.isna().sum()"
   ]
  },
  {
   "cell_type": "markdown",
   "metadata": {},
   "source": [
    "Посмотрим уникальные значения в колоке \"оценка критиков\""
   ]
  },
  {
   "cell_type": "code",
   "execution_count": null,
   "metadata": {
    "scrolled": true
   },
   "outputs": [],
   "source": [
    "df['critic_score'].unique()"
   ]
  },
  {
   "cell_type": "markdown",
   "metadata": {},
   "source": [
    "Теперь посмотрим количество пропущенных значений среди оценок критиков"
   ]
  },
  {
   "cell_type": "code",
   "execution_count": null,
   "metadata": {},
   "outputs": [],
   "source": [
    "df['critic_score'].isna().sum()"
   ]
  },
  {
   "cell_type": "markdown",
   "metadata": {},
   "source": [
    "Примем для отсутвующих значений оценки критиков \"-1\" и преобразуем в тип int"
   ]
  },
  {
   "cell_type": "code",
   "execution_count": null,
   "metadata": {},
   "outputs": [],
   "source": [
    "df['critic_score'] = df['critic_score'].fillna(-1)\n",
    "df['critic_score'] = df['critic_score'].astype(int)\n",
    "df['critic_score'].unique()"
   ]
  },
  {
   "cell_type": "markdown",
   "metadata": {},
   "source": [
    "Взглянем на количество пропущенных значений годе выпуска"
   ]
  },
  {
   "cell_type": "code",
   "execution_count": null,
   "metadata": {},
   "outputs": [],
   "source": [
    "df['year_of_release'].isna().sum()"
   ]
  },
  {
   "cell_type": "markdown",
   "metadata": {},
   "source": [
    "Что там по уникальным значениям в годе выпуска?"
   ]
  },
  {
   "cell_type": "code",
   "execution_count": null,
   "metadata": {},
   "outputs": [],
   "source": [
    "df['year_of_release'].unique()"
   ]
  },
  {
   "cell_type": "markdown",
   "metadata": {},
   "source": [
    "Удалим игры с пропущенными признаками года выпуска"
   ]
  },
  {
   "cell_type": "code",
   "execution_count": null,
   "metadata": {
    "scrolled": true
   },
   "outputs": [],
   "source": [
    "df = df.dropna(subset = ['year_of_release']).reset_index(drop = True)\n",
    "df.info()"
   ]
  },
  {
   "cell_type": "markdown",
   "metadata": {},
   "source": [
    "Переведём столбец в формат datetime и вытащим год из колонки"
   ]
  },
  {
   "cell_type": "code",
   "execution_count": null,
   "metadata": {},
   "outputs": [],
   "source": [
    "df['year_of_release'] = pd.to_datetime(df['year_of_release'], format='%Y')\n",
    "df['year_of_release'] = df['year_of_release'].dt.year "
   ]
  },
  {
   "cell_type": "markdown",
   "metadata": {},
   "source": [
    "Посмотрим на уникальные значения в колоке \"оценка пользователей\""
   ]
  },
  {
   "cell_type": "code",
   "execution_count": null,
   "metadata": {},
   "outputs": [],
   "source": [
    "df['user_score'].unique()"
   ]
  },
  {
   "cell_type": "code",
   "execution_count": null,
   "metadata": {},
   "outputs": [],
   "source": [
    "df[df['user_score'] == 'tbd'].groupby(\n",
    "    ['year_of_release','platform','name']).agg(\n",
    "    {'user_score':'count'}).sort_values(by='user_score', ascending=False).head(10)"
   ]
  },
  {
   "cell_type": "markdown",
   "metadata": {},
   "source": [
    "Получается что \"tbd\" означает *to be determined* - недостаточно пользовательских оценок для формирования рейтинга. Заменим \"tbd\" на \"-2\", а \"nan\" заменим на \"-1\", чтобы отличать эти значения. Поле \"рейтиг\" переведем из 10 бальной в 100 бальную шкалу, а так же заменим тип на целочисленные значения"
   ]
  },
  {
   "cell_type": "code",
   "execution_count": null,
   "metadata": {},
   "outputs": [],
   "source": [
    "df['user_score'] = df['user_score'].replace(\"tbd\", -0.2)\n",
    "df['user_score'] = df['user_score'].fillna(-0.1)\n",
    "df['user_score'] = df['user_score'].astype(float)\n",
    "df['user_score'] = df['user_score']*10\n",
    "df['user_score'] = df['user_score'].astype(int)\n",
    "df['user_score'].unique()"
   ]
  },
  {
   "cell_type": "code",
   "execution_count": null,
   "metadata": {},
   "outputs": [],
   "source": [
    "df['rating'].unique()"
   ]
  },
  {
   "cell_type": "markdown",
   "metadata": {},
   "source": [
    "Присвоим значению \"nan\" более лаконичное \"unknown\""
   ]
  },
  {
   "cell_type": "code",
   "execution_count": null,
   "metadata": {},
   "outputs": [],
   "source": [
    "df['rating'] = df['rating'].fillna('unknown')"
   ]
  },
  {
   "cell_type": "code",
   "execution_count": null,
   "metadata": {},
   "outputs": [],
   "source": [
    "df[df['rating'] == 'unknown'].groupby(\n",
    "    ['na_sales','eu_sales','other_sales', 'jp_sales']).agg(\n",
    "    {'user_score':'count'}).sort_values(by='user_score', ascending=False).head(20)"
   ]
  },
  {
   "cell_type": "markdown",
   "metadata": {},
   "source": [
    "Больше всего пропусков в рейтинге у игр которые продавались за пределами Севенй Америки. Обратимся к Марксу(т.е. к Гуглу) и выясним, что:\n",
    "\n",
    "Entertainment Software Rating Board (ESRB) — негосударственная организация, основное направление деятельности — принятие и определение рейтингов для компьютерных видеоигр и другого развлекательного программного обеспечения в США и Канаде.\n",
    "\n",
    "Теперь всё становится достаточно логичным"
   ]
  },
  {
   "cell_type": "markdown",
   "metadata": {},
   "source": [
    "Посмотрим строки без названия игры и удалим их, т.к. они не имеют значения для дальнейшего исследования"
   ]
  },
  {
   "cell_type": "code",
   "execution_count": null,
   "metadata": {},
   "outputs": [],
   "source": [
    "df[df['name'].isnull()]"
   ]
  },
  {
   "cell_type": "code",
   "execution_count": null,
   "metadata": {},
   "outputs": [],
   "source": [
    "df = df.dropna()"
   ]
  },
  {
   "cell_type": "markdown",
   "metadata": {},
   "source": [
    "**Добавим столобец с просуммированными продажами по миру**"
   ]
  },
  {
   "cell_type": "code",
   "execution_count": null,
   "metadata": {},
   "outputs": [],
   "source": [
    "df['word_sales'] = df['na_sales'] + df['eu_sales'] + df['jp_sales'] + df['other_sales']"
   ]
  },
  {
   "cell_type": "code",
   "execution_count": null,
   "metadata": {},
   "outputs": [],
   "source": [
    "df['platform'].unique()"
   ]
  },
  {
   "cell_type": "code",
   "execution_count": null,
   "metadata": {},
   "outputs": [],
   "source": [
    "df['genre'].unique()"
   ]
  },
  {
   "cell_type": "markdown",
   "metadata": {},
   "source": [
    "На последок посмотрим наличие явных дубликатов"
   ]
  },
  {
   "cell_type": "code",
   "execution_count": null,
   "metadata": {},
   "outputs": [],
   "source": [
    "df.duplicated().sum()"
   ]
  },
  {
   "cell_type": "code",
   "execution_count": null,
   "metadata": {
    "scrolled": true
   },
   "outputs": [],
   "source": [
    "df[df.duplicated(subset=['name', 'platform', 'year_of_release'], keep=False)]"
   ]
  },
  {
   "cell_type": "markdown",
   "metadata": {},
   "source": [
    "Что касается Need for Speed: Most Wanted, то это две части игры, вышедшие в 2005 и 2012 году, просто под одним и тем же названием. Их мы оставляем.\n",
    "\n",
    "А с дубликатами в строках с Madden NFL 13, чтобы не потерять точные продажи, добавим в первую строку в колонку \"eu_sales\" недостающие значения из дублирующей строки и удалим дубль."
   ]
  },
  {
   "cell_type": "code",
   "execution_count": null,
   "metadata": {},
   "outputs": [],
   "source": [
    "df.loc[df['name'] == 'Madden NFL 13', 'eu_sales'] = 0.23\n",
    "\n",
    "df.drop(labels=[15971], axis=0, inplace=True)"
   ]
  },
  {
   "cell_type": "code",
   "execution_count": null,
   "metadata": {},
   "outputs": [],
   "source": [
    "df[df.duplicated(subset=['name', 'platform'], keep=False)]"
   ]
  },
  {
   "cell_type": "markdown",
   "metadata": {},
   "source": [
    "**Промежуточный вывыод:**\n",
    "\n",
    "- Рейтинг критиков и пользователей привели к целым числам и сто бальной шкале\n",
    "- Заменили пропуски в \"годах выпуска\" и \"возрастной категории\", где это было возможно\n",
    "- Добавили колонку с суммой продаж по всему миру - 'word_sales' (в млн копий)\n",
    "- Удалили оставшиеся пропуски в названиях\n",
    "- Проверили датасет на явные дубликаты\n",
    "- Пропуски в отзывах могли появиться, потому что продажи игры были низкие и не набралось необходимого количества индивидуальных отзывов для получения итоговой оценки"
   ]
  },
  {
   "cell_type": "code",
   "execution_count": null,
   "metadata": {},
   "outputs": [],
   "source": [
    "# Комментарий ревьюера\n",
    "# Посмотрим, что осталось\n",
    "temp = df.copy() \n",
    "list_c = ['name', 'platform', 'year_of_release', 'genre', 'critic_score', 'user_score', 'rating']\n",
    "print(temp.info())\n",
    "for col_l in list_c:\n",
    "  print('-'* 25)\n",
    "  print(col_l, temp[col_l].sort_values().unique())\n",
    "  print(col_l,': кол-во NaN',temp[col_l].isna().sum(),\n",
    "        ', процент NaN', round(temp[col_l].isna().mean()*100,2),'%') "
   ]
  },
  {
   "cell_type": "markdown",
   "metadata": {},
   "source": [
    "## Проведите исследовательский анализ данных"
   ]
  },
  {
   "cell_type": "markdown",
   "metadata": {},
   "source": [
    "### Посмотрите, сколько игр выпускалось в разные годы. Важны ли данные за все периоды?"
   ]
  },
  {
   "cell_type": "markdown",
   "metadata": {},
   "source": [
    "Проверим наличие неявных дубликатов наименованиях игр и их выпуске по годам"
   ]
  },
  {
   "cell_type": "code",
   "execution_count": null,
   "metadata": {
    "scrolled": true
   },
   "outputs": [],
   "source": [
    "df[df.duplicated(subset = ['name', 'year_of_release'], keep = False)].head(7)"
   ]
  },
  {
   "cell_type": "markdown",
   "metadata": {},
   "source": [
    "Удалим дубли, за исключением первой строки, и сохраним в переменную"
   ]
  },
  {
   "cell_type": "code",
   "execution_count": null,
   "metadata": {},
   "outputs": [],
   "source": [
    "unique_games = df.drop_duplicates(subset = ['name', 'year_of_release'], keep = 'first').reset_index(drop = True)"
   ]
  },
  {
   "cell_type": "markdown",
   "metadata": {},
   "source": [
    "Создадим сводную таблицу с количеством игр в каждом году, будем считать по именам, т.к. они уникальны. После чего создадим график по сводной таблице"
   ]
  },
  {
   "cell_type": "code",
   "execution_count": null,
   "metadata": {
    "scrolled": false
   },
   "outputs": [],
   "source": [
    "pivot_games_by_year = unique_games.pivot_table(index = 'year_of_release', values = 'name', aggfunc = 'count')\n",
    "\n",
    "fig, ax = plt.subplots()\n",
    "sns.barplot(x = pivot_games_by_year.index,\n",
    "            y = pivot_games_by_year.name)\n",
    "plt.grid()\n",
    "plt.title('Количество выпущенных игр на разных платформах по годам', fontsize = 25)\n",
    "plt.xlabel('Год выпуска', fontsize = 20)\n",
    "plt.ylabel('Количество новых игр', fontsize = 20)\n",
    "plt.xticks(rotation = 35)\n",
    "fig.set_figwidth(20)\n",
    "fig.set_figheight(10);"
   ]
  },
  {
   "cell_type": "markdown",
   "metadata": {},
   "source": [
    "**Промежуточные выводы:**\n",
    "\n",
    "- С 2000 года отмечается рост количества новых игр, в 2008 году количество достигает своего пика (более 1000 игр), а с 2009 начинается спад. Возьмем в исследуемый диапазон игры, выпущенные с 2001 по 2016 годы.\n",
    "- Такой спад можно охарактеризовать отсутствием новизны в сфере игр, всевозможные жанры и сюжеты были выпущены ранее, и геймдевам приходится заимствовать многое из старых игр, в попытках добавить что-то оригинальное\n",
    "- Такую динамику также можно связать с появлением онлайн игр. Многие пользователи могут годами играть в одну и ту же онлайн-игру, не интересуясь новыми играми. Из-за этого спрос падает"
   ]
  },
  {
   "cell_type": "markdown",
   "metadata": {},
   "source": [
    "### Посмотрите, как менялись продажи по платформам. Выберите платформы с наибольшими суммарными продажами и постройте распределение по годам. За какой характерный срок появляются новые и исчезают старые платформы?"
   ]
  },
  {
   "cell_type": "markdown",
   "metadata": {},
   "source": [
    "Для наглядности результатов дальнейших исследований отсеем неинформативные годы (т.е. период с 1980 по 2000)"
   ]
  },
  {
   "cell_type": "code",
   "execution_count": null,
   "metadata": {},
   "outputs": [],
   "source": [
    "data_after_2000 = df.query('2000 <= year_of_release')"
   ]
  },
  {
   "cell_type": "code",
   "execution_count": null,
   "metadata": {
    "scrolled": false
   },
   "outputs": [],
   "source": [
    "data_after_2000.pivot_table(index = \"year_of_release\", columns = \"platform\", \n",
    "                 values = \"word_sales\", aggfunc = \"sum\").plot.bar(stacked = True, figsize = (20, 10), grid = True)\n",
    "plt.title('Количество проданных игр на разных платформах по годам', fontsize = 25)\n",
    "plt.xlabel('Год выпуска', fontsize = 20)\n",
    "plt.ylabel('Продажи', fontsize = 20)\n",
    "plt.show()"
   ]
  },
  {
   "cell_type": "markdown",
   "metadata": {},
   "source": [
    "**Промежуточные выводы:**\n",
    "\n",
    "- Новые платформы повяются примерно каждые пять лет\n",
    "- Старые платформы изчезают примерно через два года после появления новых"
   ]
  },
  {
   "cell_type": "markdown",
   "metadata": {},
   "source": [
    "### Возьмите данные за соответствующий актуальный период. Актуальный период определите самостоятельно в результате исследования предыдущих вопросов. Основной фактор — эти данные помогут построить прогноз на 2017 год. Не учитывайте в работе данные за предыдущие годы. Какие платформы лидируют по продажам, растут или падают? Выберите несколько потенциально прибыльных платформ."
   ]
  },
  {
   "cell_type": "markdown",
   "metadata": {},
   "source": [
    "выделим актуальный период"
   ]
  },
  {
   "cell_type": "code",
   "execution_count": null,
   "metadata": {},
   "outputs": [],
   "source": [
    "df_after_2013 = df.query('year_of_release > 2011 and year_of_release < 2017')"
   ]
  },
  {
   "cell_type": "markdown",
   "metadata": {},
   "source": [
    "построим график распределения по годам"
   ]
  },
  {
   "cell_type": "code",
   "execution_count": null,
   "metadata": {
    "scrolled": false
   },
   "outputs": [],
   "source": [
    "(\n",
    "df_after_2013\n",
    "    .pivot_table(index = 'year_of_release', columns = 'platform', values = 'word_sales', aggfunc = 'sum')\n",
    "    .plot(\n",
    "        grid = True,\n",
    "        figsize = (15, 7),\n",
    "        linewidth = 3\n",
    "    )\n",
    ")\n",
    "plt.title('Распределение суммарных продаж по платформам за 2013-2016 годы', fontsize = 20)\n",
    "plt.xlabel('Год выпуска', fontsize = 17)\n",
    "plt.ylabel('Суммарный объем продаж', fontsize = 17)\n",
    "plt.xticks(np.arange(2013, 2017, 1))\n",
    "plt.yticks(np.arange(0, 150, 10));"
   ]
  },
  {
   "cell_type": "code",
   "execution_count": null,
   "metadata": {},
   "outputs": [],
   "source": [
    "df_after_2013.pivot_table(index = \"year_of_release\", \n",
    "columns = \"platform\", values = \"word_sales\", aggfunc = \"sum\")"
   ]
  },
  {
   "cell_type": "markdown",
   "metadata": {},
   "source": [
    "**Промежуточные выводы:**\n",
    "\n",
    "- За период с 2013 по 2016 годы можно отметить две лидирующие платформы: PS4 и XOne. Для 2017 года они кажутся потенциально прибыльными. Так как игры на этих платформах появились в 2013 году, а средний срок актуальности платформы 8 лет – они должны просуществовать еще примерно 4 года\n",
    "- PSP ушла с рынка в 2015 году\n",
    "- Nintendo WII к 2016 году была уже с нулевыми продажами\n",
    "- У остальных платформ значительно сокращаются объемы продаж, для 2017 года они будут уже не выгодными\n",
    "\n",
    "Таким образом наиболее прибыльными за нужный нам период являются \"PS4\" и \"XOne\""
   ]
  },
  {
   "cell_type": "markdown",
   "metadata": {},
   "source": [
    "### Постройте график «ящик с усами» по глобальным продажам игр в разбивке по платформам. Опишите результат."
   ]
  },
  {
   "cell_type": "code",
   "execution_count": null,
   "metadata": {
    "scrolled": true
   },
   "outputs": [],
   "source": [
    "sns.boxplot(x = df_after_2013[\"word_sales\"], y = df_after_2013[\"platform\"], \n",
    "           order=[\"PS4\", \"PS3\", \"XOne\",  \"X360\", \"3DS\", \"WiiU\", 'Wii']);\n",
    "plt.xlim(0,3) \n",
    "plt.title('Глобальные продажи в разбивке по платформам', fontsize = 20)\n",
    "plt.xlabel('Продажи', fontsize = 17)\n",
    "plt.ylabel('Платформы', fontsize = 17)\n",
    "plt.show()"
   ]
  },
  {
   "cell_type": "markdown",
   "metadata": {},
   "source": [
    "**Промежуточные выводы:**\n",
    "\n",
    "- У PS3 и PS4 одинаковые медиальные значения. Продажи им сделали 4 - 6 игр.\n",
    "- X360 аналогичная ситуация, но среднее медиальное больше\n",
    "- XOne менее всего выбросов. Более равномерное распределение и медеальное чуть меньше X360\n",
    "- 3 DS имеет несколько игр которые сделали продажи платформе. Притом довольно малое медиальное значение\n",
    "- У WiiU и Wii есть несколько игр, за счет чего выбивается из средних показателей"
   ]
  },
  {
   "cell_type": "markdown",
   "metadata": {},
   "source": [
    "### Посмотрите, как влияют на продажи внутри одной популярной платформы отзывы пользователей и критиков. Постройте диаграмму рассеяния и посчитайте корреляцию между отзывами и продажами. Сформулируйте выводы. Соотнесите выводы с продажами игр на других платформах."
   ]
  },
  {
   "cell_type": "markdown",
   "metadata": {},
   "source": [
    "Для точности в исследовании данного вопроса, уберём из выборки данные, у которых оценки критиков и пользователей имеют значения *-1* и *-2*, которые мы проставили вместо *tbd* и *nun* во время предобработки"
   ]
  },
  {
   "cell_type": "code",
   "execution_count": null,
   "metadata": {},
   "outputs": [],
   "source": [
    "df_nnull = df_after_2013[df_after_2013['user_score'] > 0]\n",
    "df_nnull = df_nnull[df_nnull['critic_score'] > 0]\n",
    "df_nnull_user = df_after_2013[df_after_2013['user_score'] > 0]\n",
    "df_nnull_critic = df_after_2013[df_after_2013['critic_score'] > 0]"
   ]
  },
  {
   "cell_type": "code",
   "execution_count": null,
   "metadata": {},
   "outputs": [],
   "source": [
    "# Комментарий ревьюера\n",
    "print(len(df_after_2013[df_after_2013['user_score'] > 0]))\n",
    "print(len(df_after_2013[df_after_2013['critic_score'] > 0]))\n",
    "print(len(df_nnull))"
   ]
  },
  {
   "cell_type": "markdown",
   "metadata": {},
   "source": [
    "#### Теперь посмотрим как влияют на продажи внутри одной популярной платформы отзывы пользователей и критиков"
   ]
  },
  {
   "cell_type": "markdown",
   "metadata": {},
   "source": [
    "Рассмотрим продажи игр для PS4 в связи с оценками критиков"
   ]
  },
  {
   "cell_type": "code",
   "execution_count": null,
   "metadata": {},
   "outputs": [],
   "source": [
    "ps4_critic = df_nnull_critic.query('platform == \"PS4\"')\n",
    "ps4_user = df_nnull_user.query('platform == \"PS4\"')"
   ]
  },
  {
   "cell_type": "code",
   "execution_count": null,
   "metadata": {},
   "outputs": [],
   "source": [
    "fig, ax = plt.subplots(figsize=(7, 5))\n",
    "ax.scatter(x = ps4_critic['critic_score'], y = ps4_critic['word_sales'], alpha=0.3)\n",
    "plt.xlabel(\"Оценки критиков\")\n",
    "plt.ylabel(\"Общие продажи\")\n",
    "fig.suptitle('PS4', fontsize=15)\n",
    "plt.show()"
   ]
  },
  {
   "cell_type": "code",
   "execution_count": null,
   "metadata": {},
   "outputs": [],
   "source": [
    "ps4_critic['critic_score'].corr(ps4_critic['word_sales'])"
   ]
  },
  {
   "cell_type": "markdown",
   "metadata": {},
   "source": [
    "Как видим, между оценками критиков и общими продажами присутсвует небольшая положительная корреляция. Полагаю, что это закономерно, т.к. критики оценивают игру довольно углубленно, а значит анализируют больше моментов, на которые могут обратить внимание игроки при желании или нежелании покупать/проходить конкретную игру"
   ]
  },
  {
   "cell_type": "markdown",
   "metadata": {},
   "source": [
    "А теперь взглянем на продажи игр для PS4 в связи с оценками пользователей"
   ]
  },
  {
   "cell_type": "code",
   "execution_count": null,
   "metadata": {},
   "outputs": [],
   "source": [
    "fig, ax = plt.subplots(figsize=(7, 5))\n",
    "ax.scatter(x = ps4_user['user_score'], y = ps4_user['word_sales'], alpha=0.3)\n",
    "plt.xlabel(\"Оценки пользователей\")\n",
    "plt.ylabel(\"Общие продажи\")\n",
    "fig.suptitle('PS4', fontsize=15)\n",
    "plt.show()"
   ]
  },
  {
   "cell_type": "code",
   "execution_count": null,
   "metadata": {},
   "outputs": [],
   "source": [
    "ps4_user['user_score'].corr(ps4_user['word_sales'])"
   ]
  },
  {
   "cell_type": "markdown",
   "metadata": {},
   "source": [
    "Коэфициент корреляции между оценками пользователей и общими продажами заметно меньше и имеет отрицательное значение. То есть по мере увеличения значений в столбце оценок пользователей значения в столбце общих продаж имеют тенденцию к уменьшению"
   ]
  },
  {
   "cell_type": "markdown",
   "metadata": {},
   "source": [
    "#### Соотнесём выводы с продажами игр на других платформах."
   ]
  },
  {
   "cell_type": "markdown",
   "metadata": {},
   "source": [
    "Сначала посмотрим показания для платформы XOne. А уже затем нарисуем более общую конву графиков"
   ]
  },
  {
   "cell_type": "code",
   "execution_count": null,
   "metadata": {},
   "outputs": [],
   "source": [
    "XOne_critic = df_nnull_critic.query('platform == \"XOne\"')\n",
    "XOne_user = df_nnull_user.query('platform == \"XOne\"')"
   ]
  },
  {
   "cell_type": "code",
   "execution_count": null,
   "metadata": {},
   "outputs": [],
   "source": [
    "fig, ax = plt.subplots(figsize=(7, 5))\n",
    "ax.scatter(x = XOne_critic['critic_score'], y = XOne_critic['word_sales'], alpha=0.3)\n",
    "plt.xlabel(\"Оценки критиков\")\n",
    "plt.ylabel(\"Общие продажи\")\n",
    "fig.suptitle('XOne', fontsize=15)\n",
    "plt.show()"
   ]
  },
  {
   "cell_type": "code",
   "execution_count": null,
   "metadata": {},
   "outputs": [],
   "source": [
    "XOne_critic['critic_score'].corr(XOne_critic['word_sales'])"
   ]
  },
  {
   "cell_type": "markdown",
   "metadata": {},
   "source": [
    "Как видим, корреляция, как и у PS4, между оценками критиков и общими продажами небольшая, но имеется"
   ]
  },
  {
   "cell_type": "code",
   "execution_count": null,
   "metadata": {},
   "outputs": [],
   "source": [
    "fig, ax = plt.subplots(figsize=(7, 5))\n",
    "ax.scatter(x = XOne_user['user_score'], y = XOne_user['word_sales'], alpha=0.3)\n",
    "plt.xlabel(\"Оценки пользователей\")\n",
    "plt.ylabel(\"Общие продажи\")\n",
    "fig.suptitle('XOne', fontsize=15)\n",
    "plt.show()"
   ]
  },
  {
   "cell_type": "code",
   "execution_count": null,
   "metadata": {},
   "outputs": [],
   "source": [
    "XOne_user['user_score'].corr(XOne_user['word_sales'])"
   ]
  },
  {
   "cell_type": "markdown",
   "metadata": {},
   "source": [
    "Аналогичная с PS4 картина"
   ]
  },
  {
   "cell_type": "markdown",
   "metadata": {},
   "source": [
    "**Теперь посмотрим картину сравнения на освновании 5 популярных платформ**"
   ]
  },
  {
   "cell_type": "markdown",
   "metadata": {},
   "source": [
    "*Сначала соотношение с пользовательскими оценками*"
   ]
  },
  {
   "cell_type": "code",
   "execution_count": null,
   "metadata": {},
   "outputs": [],
   "source": [
    "for i in ['PS3', 'PS4', 'XOne', 'X360', '3DS']:\n",
    "    fig, ax = plt.subplots(figsize=(4, 3))\n",
    "    ax.scatter(x = df_nnull_user.query('platform == @i')['user_score'], y = df_nnull_user.query('platform == @i')['word_sales'], alpha=0.3)\n",
    "    plt.xlabel(\"Оценки пользователей\")\n",
    "    plt.ylabel(\"Общие продажи\")\n",
    "    fig.suptitle(i, fontsize=15)\n",
    "    plt.show()\n",
    "    print('Коэффициент корреляции', df_nnull_user.query('platform == @i')['user_score'].corr(df_nnull_user.query('platform == @i')['word_sales']))"
   ]
  },
  {
   "cell_type": "markdown",
   "metadata": {},
   "source": [
    "**Промежуточный вывод:**\n",
    "\n",
    "Сумма продаж практически всегда напрямую не связана с оценками пользователей"
   ]
  },
  {
   "cell_type": "markdown",
   "metadata": {},
   "source": [
    "*Теперь соотношение с оценками критиков*"
   ]
  },
  {
   "cell_type": "code",
   "execution_count": null,
   "metadata": {},
   "outputs": [],
   "source": [
    " for i in ['PS3', 'PS4', 'XOne', 'X360', '3DS']:\n",
    "    fig, ax = plt.subplots(figsize=(4, 3))\n",
    "    ax.scatter(x = df_nnull_critic.query('platform == @i')['critic_score'], y = df_nnull_critic.query('platform == @i')['word_sales'], alpha=0.3)\n",
    "    plt.xlabel(\"Оценки критиков\")\n",
    "    plt.ylabel(\"Общие продажи\")\n",
    "    fig.suptitle(i, fontsize=15)\n",
    "    plt.show()\n",
    "    print('Коэффициент корреляции', df_nnull_critic.query('platform == @i')['critic_score'].corr(df_nnull_critic.query('platform == @i')['word_sales']))"
   ]
  },
  {
   "cell_type": "markdown",
   "metadata": {},
   "source": [
    "**Промежуточный вывод:**\n",
    "\n",
    "С увеличением среднего рейтинга критиков увеличивается и средний уровень выручки с продажи игр. Опять же, логика прослеживаемая: чем качественнее игра, тем больше денег она приносит разработчику."
   ]
  },
  {
   "cell_type": "markdown",
   "metadata": {},
   "source": [
    "**Промежуточные выводы по блоку с корреляцией:**\n",
    "\n",
    "- На примере отдельно взятой платформы, мы выяснили, что оценки игроков почти не влияют на продажи игр. В общем то оценки пользователей как праило субъективны. Более того они выставляются по мере прохождения игры, в то время как основная часть покупок, как правило производится в даты близки к моменту релиза(когда количество пользовательских оценок не велико)\n",
    "- В то же время оценки критиков не слишком сильно, но влияют на продажи. Этому могут послужить такие факторы, как: \n",
    "    - более компетентный и объективный взгляд критика\n",
    "    - отзывы критиков как правило появляются в первые же дни релиза игры(или даже раньше), а значит хорошие отзывы критиков могут, и используются даже для продвижения самой игры, зачастую являясь ещё одним маркетинговым рычагом для компании-разработкика\n",
    "- В сравнении между играми на разные платформы прослеживаются те же тенденции, что и на изначально отдельно взятой платформе. То есть оценки критиков скорее влияют на продажи, а оценки пользователей скорее нет."
   ]
  },
  {
   "cell_type": "markdown",
   "metadata": {},
   "source": [
    "### Посмотрите на общее распределение игр по жанрам. Что можно сказать о самых прибыльных жанрах? Выделяются ли жанры с высокими и низкими продажами?"
   ]
  },
  {
   "cell_type": "code",
   "execution_count": null,
   "metadata": {
    "scrolled": false
   },
   "outputs": [],
   "source": [
    "plt.figure(figsize = (17,8))\n",
    "sns.heatmap(df_after_2013.pivot_table(index = 'year_of_release', columns = 'genre', values = 'name', aggfunc = 'count'))\n",
    "plt.title('Число игр по году релиза и жанру', fontsize = 14)\n",
    "plt.xlabel('Жанр игры', fontsize = 14)\n",
    "plt.ylabel('Год релиза игры', fontsize = 14)\n",
    "plt.show()"
   ]
  },
  {
   "cell_type": "code",
   "execution_count": null,
   "metadata": {
    "scrolled": false
   },
   "outputs": [],
   "source": [
    "plt.figure(figsize = (17,8))\n",
    "sns.heatmap(df_after_2013.pivot_table(index = 'year_of_release', columns='genre', values = 'word_sales', aggfunc = 'sum'))\n",
    "plt.title('Продажи по году релиза и жанру', fontsize = 14)\n",
    "plt.xlabel('Жанр игры', fontsize = 14)\n",
    "plt.ylabel('Год релиза игры', fontsize = 14)\n",
    "plt.show()"
   ]
  },
  {
   "cell_type": "markdown",
   "metadata": {},
   "source": [
    "Посмотрим сводную таблицу по количеству игр каждого жанра"
   ]
  },
  {
   "cell_type": "code",
   "execution_count": null,
   "metadata": {},
   "outputs": [],
   "source": [
    "pivot_genre = (df_after_2013\n",
    "               .pivot_table(index = 'genre', values = 'name', aggfunc = 'count')\n",
    "               .sort_values('name', ascending=False)\n",
    "              )\n",
    "pivot_genre"
   ]
  },
  {
   "cell_type": "markdown",
   "metadata": {},
   "source": [
    "**Промежуточные выводы:**\n",
    "\n",
    "- По количеству игр выделяются жанр экшн, который содержит более 700 игр\n",
    "- Менее 50 игр в категории паззлы\n",
    "- Остальные жанры находятся в промежутке от 50 до 300 игр"
   ]
  },
  {
   "cell_type": "markdown",
   "metadata": {},
   "source": [
    "Посмотрим сводную таблицу по продажам игр каждого жанра"
   ]
  },
  {
   "cell_type": "code",
   "execution_count": null,
   "metadata": {},
   "outputs": [],
   "source": [
    "pivot_genre_sales = (df_after_2013\n",
    "               .pivot_table(index = 'genre', values = 'word_sales', aggfunc = 'median')\n",
    "               .sort_values('word_sales', ascending = False)\n",
    "              )\n",
    "pivot_genre_sales"
   ]
  },
  {
   "cell_type": "markdown",
   "metadata": {},
   "source": [
    "**Промежуточные выводы:**\n",
    "\n",
    "- В топ-3 продаваемых жанра входят шутер, спортивные игры и платформеры\n",
    "- Игр жанра шутер примерно 190, но по продажам он на первом месте, поэтому это перспективный жанр\n",
    "- Жанр экшн, несмотря на такое количество игр, находится всего лишь на 7 месте по продажам\n",
    "- В самом низу продаж три жанра: приключения, паззлы и стратегии"
   ]
  },
  {
   "cell_type": "markdown",
   "metadata": {},
   "source": [
    "**Общие выводы по исследовательскому анализу данных:**\n",
    "\n",
    "- С 2001 года начался значительный рост количества новых игр, а с 2010 отмечается резкий спад\n",
    "- Примерный срок актуальности платформы 5 лет\n",
    "- Лидирующими платформами являются PS4 и XOne, они появились в 2013 году, поэтому отсчет начинаем с 2013 года\n",
    "- При росте оценки - количество продаж увеличивается, особенно при оценках критиков\n",
    "- В топ-3 продаваемых жанра входят шутер, спортивные игры и платформеры\n",
    "- Шутеры, несмотря на небольшое количество игр, являются перспективным жанром для продаж, а паззлы наоборот, самый малочисленный не прибыльный жанр"
   ]
  },
  {
   "cell_type": "markdown",
   "metadata": {},
   "source": [
    "## Составьте портрет пользователя каждого региона. (Ошибочный блок. Далее сделаем данный раздел по новой под номером пункта 5)"
   ]
  },
  {
   "cell_type": "markdown",
   "metadata": {},
   "source": [
    "### Определите для пользователя каждого региона (NA, EU, JP) самые популярные платформы (топ-5). Опишите различия в долях продаж."
   ]
  },
  {
   "cell_type": "code",
   "execution_count": null,
   "metadata": {
    "scrolled": false
   },
   "outputs": [],
   "source": [
    "countries = df_after_2013.columns[4:7]\n",
    "fig, axs = plt.subplots(1, 3, figsize=(20, 5))\n",
    "fig.suptitle('Топ-5 платформ в регионах')\n",
    "for i in range(3):\n",
    "  df_i = (df_after_2013.groupby('platform')[countries[i]].sum().\n",
    "             reset_index().\n",
    "             sort_values(countries[i], ascending = False, ignore_index = True).\n",
    "             head(5))\n",
    "  df_i = df_i.append({'platform': 'Other_platforms', countries[i]: df[countries[i]].sum() - df_i[countries[i]].sum()}, ignore_index= True)\n",
    "  axs[i].pie(df_i[countries[i]], labels = df_i['platform'])\n",
    "  \n",
    "  axs[i].set_title(df_i.columns[1].split('_')[0].upper())\n",
    "plt.show()"
   ]
  },
  {
   "cell_type": "markdown",
   "metadata": {},
   "source": [
    "**Промежуточные выводы:**\n",
    "\n",
    "- В Северной Америке лидирует X360, однако две консоли разных поколений от Sony идут следом в не большом отрыве от лидера\n",
    "- В Европе явно преобладают любители Sony. Наиборльший процент консольщиков из этого региона \"гамают\" на PS4\n",
    "- В Японии 51% рынка занимает 3DS. Кажется любовь японцев к портативной игровой системе от Nintendo не смогли пошатнуть даже их сограждане из Sony"
   ]
  },
  {
   "cell_type": "markdown",
   "metadata": {},
   "source": [
    "### Определите для пользователя каждого региона (NA, EU, JP) самые популярные жанры (топ-5). Поясните разницу."
   ]
  },
  {
   "cell_type": "code",
   "execution_count": null,
   "metadata": {
    "scrolled": false
   },
   "outputs": [],
   "source": [
    "genres = df_after_2013.columns[4:7]\n",
    "fig, axs = plt.subplots(1, 3, figsize=(20, 5))\n",
    "fig.suptitle('Топ-5 жанров в регионах')\n",
    "for i in range(3):\n",
    "  df_i = (df_after_2013.groupby('genre')[genres[i]].sum().\n",
    "             reset_index().\n",
    "             sort_values(genres[i], ascending = False, ignore_index = True).\n",
    "             head(5))\n",
    "  df_i = df_i.append({'genre': 'Other_genres', genres[i]: df[genres[i]].sum() - df_i[genres[i]].sum()}, ignore_index= True)\n",
    "  axs[i].pie(df_i[genres[i]], labels = df_i['genre'])\n",
    "\n",
    "  axs[i].set_title(df_i.columns[1].split('_')[0].upper())\n",
    "plt.show()"
   ]
  },
  {
   "cell_type": "markdown",
   "metadata": {},
   "source": [
    "**Промежуточные выводы:**\n",
    "\n",
    "- По жанрам в Северной Америке и Европе на вершинах популярности экшн, шутеры и спортивные игры. \n",
    "- Первое место по жанрам у Японии занимают ролевые игры. На втором уже столь любимый Американцами и Европейцами Экшн. А вот шутеры в топ-5 даже не вошли. Не потому ли, что в Японии очень строгое законадательство по огнестрельному оружию? Или культурный код диктует любовь к благородным катанам и вакидзаси, вместо трусливого огнестрела? Кто знает..."
   ]
  },
  {
   "cell_type": "markdown",
   "metadata": {},
   "source": [
    "### Определите для пользователя каждого региона (NA, EU, JP), влияет ли рейтинг ESRB на продажи в отдельном регионе?"
   ]
  },
  {
   "cell_type": "code",
   "execution_count": null,
   "metadata": {
    "scrolled": false
   },
   "outputs": [],
   "source": [
    "ratings = df_after_2013.columns[4:7]\n",
    "fig, axs = plt.subplots(1, 3, figsize=(20, 5))\n",
    "fig.suptitle('Влияние рейтинга ESRB на продажи в регионах')\n",
    "for i in range(3):\n",
    "  df_i = (df_after_2013.groupby('rating')[ratings[i]].sum().\n",
    "             reset_index().\n",
    "             sort_values(ratings[i], ascending = False, ignore_index = True).\n",
    "             head(5))\n",
    "  df_i = df_i.append({'rating': 'Other_raitings', ratings[i]: df[ratings[i]].sum() - df_i[ratings[i]].sum()}, ignore_index= True)\n",
    "  axs[i].pie(df_i[ratings[i]], labels = df_i['rating'])\n",
    "\n",
    "  axs[i].set_title(df_i.columns[1].split('_')[0].upper())\n",
    "plt.show()"
   ]
  },
  {
   "cell_type": "markdown",
   "metadata": {},
   "source": [
    "Для понимания следующего показателя, нужно вообще вспомнить, а какие есть возрастные ограничения используемые ESRB:\n",
    "\n",
    "✅ «E» («Everyone») — «Для всех»: Содержание вполне подходит для возрастной категории старше 6 лет; такие игры могут понравиться и взрослым.\n",
    "\n",
    "✅ «EC» («Early childhood») — «Для детей младшего возраста»: Игра подходит для детей от 3 лет и старше и не содержит материалов, которые родители могли бы счесть неподходящими. Игры, получившие данный рейтинг, изначально разрабатываются для детей и обычно представляют собой развивающие игры.\n",
    "\n",
    "✅ «E10+» («Everyone 10 and older») — «Для всех старше 10 лет»: Возрастная категория — от 10 лет. Проекты с данным рейтингом могут содержать немного больше мультипликационного или мягкого насилия, или несколько откровенные сцены.\n",
    "\n",
    "✅ «T» («Teen») — «Подросткам 13—19 лет»: Игра подходит для подростков старше 13 лет. Проекты из данной категории могут содержать насилие, непристойные сцены, грубый юмор, не откровенное сексуальное содержимое или не частое использование ненормативной лексики.\n",
    "\n",
    "✅ «M» («Mature») — «От 17 лет»: Материалы игры не подходят для возрастной категории младше 17 лет. Проекты с данным рейтингом могут содержать достаточно жестокое насилие, большое количество крови, непристойные сексуальные сцены или грубую ненормативную лексику.\n",
    "\n",
    "✅ «E» («Everyone») - То бишь «Для детей и взрослых».\n",
    "\n",
    "✅ «AO» («Adults Only 18+») — «Только для взрослых»: Содержание игры только для взрослых. Продукты из данной категории могут содержать длительные сцены жестокого насилия и/или очень откровенное сексуальное содержимое, а также сцены с обнажением."
   ]
  },
  {
   "cell_type": "markdown",
   "metadata": {},
   "source": [
    "**Промежуточные выводы:**\n",
    "\n",
    "- В рейтингах у Северной Америки и Европы большую часть рынка занимает возрастная категория \"M\" — \"От 17 лет\". Видимо наибольшими потребителями игр там являются подростки и молодые люди.\n",
    "- В Японии же первое место занимает категория «unknown». Это те самые 51% рынка игр для Nintendo, которые получают свои внутреннние оценки, и не нуждаются в оценке от ESRB. На втором по имеющимся данным, и первом по статистике ESRB месте, Японцы предпочитают игры категории \"Е\", то есть, для всех возрастов."
   ]
  },
  {
   "cell_type": "markdown",
   "metadata": {},
   "source": [
    "**Общие выводы по портретам пользователей в регионах:**\n",
    "\n",
    "- По регионам самыми популярными платформами являются остаются PS4 и XOne(как мы уже видели при проведении исследовательского анализа). Правда, для японских пользователей нет ничего лучше чем игровые системы на платформе от Nintendo. Вот это я понимаю поддержка национального производителя.\n",
    "\n",
    "- Самыми продаваемыми являются жанры - экшн, шутеры и ролевые игры.\n",
    "\n",
    "- Идеальным пользователем для *Северной Америки*, является подросток или взрослый, играющий на платформах PS4 и XOne в экшн, шутеры и спортивные игры.\n",
    "\n",
    "- Идеальный портрет *европейского* пользователя так же состоит из подростков и взрослых, играющих на платформе PS4 в экшн, шутеры и спортивные игры.\n",
    "\n",
    "- Идеальный *японский* пользователь играет на консоли Nintendo в ролевые игры и экшн.\n",
    "\n",
    "- В то же время трудно сказать, влияет ли оценка рейтинга от ESRB или других организаций на продажи в тех или иных регионах, т.к. не известно на сколько розничные торговцы в силах проконтролировать возраст конечного потребителя игры. Никто ведь не логинится в играх по паспорту, где можно точно узнать возраст пользователя. Хотя даже это не гарантирует, что залогинившийся пользователь, и тот кто непосредственно играет - один и тот же человек. Но оно, как мне кажется, и не нужно. В конце концов, я думаю, что объёмы продаж по возрастному рейтингу могут оценивать только создатели игр для более узкой аудитории(напрмер развивающие игры для детей от 3 лет)"
   ]
  },
  {
   "cell_type": "markdown",
   "metadata": {},
   "source": [
    "## Составьте портрет пользователя каждого региона. (Новый блок)"
   ]
  },
  {
   "cell_type": "markdown",
   "metadata": {},
   "source": [
    "### Определите для пользователя каждого региона (NA, EU, JP) самые популярные платформы (топ-5). Опишите различия в долях продаж."
   ]
  },
  {
   "cell_type": "markdown",
   "metadata": {},
   "source": [
    "Посмотрим на ситуацию с платформами в регионе NA"
   ]
  },
  {
   "cell_type": "code",
   "execution_count": null,
   "metadata": {
    "scrolled": true
   },
   "outputs": [],
   "source": [
    "(df_after_2013.groupby(['platform'])\\\n",
    "                  .agg({'na_sales':'sum'}).sort_values(by = 'na_sales', ascending = False ).head(5)\n",
    "                  .plot(kind = 'bar', grid = True,\n",
    "                   figsize = (10,5),title = 'Популярные платформы в регионе NA (в млн.)')\n",
    "                    ) \n",
    "plt.show()"
   ]
  },
  {
   "cell_type": "code",
   "execution_count": null,
   "metadata": {},
   "outputs": [],
   "source": [
    "na_platform = df_after_2013.pivot_table(index='platform', values='na_sales', aggfunc='sum').nlargest(5, 'na_sales')\n",
    "all_na = df_after_2013.pivot_table(index='platform', values='na_sales', aggfunc='sum').nsmallest(5, 'na_sales')\n",
    "all_na.loc['other_platform'] = all_na.sum()\n",
    "na_platform = pd.concat([na_platform[:5], all_na[5:]])\n",
    "na_platform"
   ]
  },
  {
   "cell_type": "markdown",
   "metadata": {},
   "source": [
    "Посмотрим на ситуацию с платформами в регионе EU"
   ]
  },
  {
   "cell_type": "code",
   "execution_count": null,
   "metadata": {
    "scrolled": true
   },
   "outputs": [],
   "source": [
    "(df_after_2013.groupby(['platform'])\\\n",
    "                  .agg({'eu_sales':'sum'}).sort_values(by = 'eu_sales', ascending = False ).head(5)\n",
    "                  .plot(kind = 'bar', grid = True,\n",
    "                   figsize = (10,5),title = 'Популярные платформы в регионе EU (в млн.)')\n",
    "                    ) \n",
    "plt.show()"
   ]
  },
  {
   "cell_type": "code",
   "execution_count": null,
   "metadata": {},
   "outputs": [],
   "source": [
    "eu_platform = df_after_2013.pivot_table(index='platform', values='eu_sales', aggfunc='sum').nlargest(5, 'eu_sales')\n",
    "all_eu = df_after_2013.pivot_table(index='platform', values='eu_sales', aggfunc='sum').nsmallest(5, 'eu_sales')\n",
    "all_eu.loc['other_platform'] = all_eu.sum()\n",
    "eu_platform = pd.concat([eu_platform[:5], all_eu[5:]])\n",
    "eu_platform"
   ]
  },
  {
   "cell_type": "markdown",
   "metadata": {},
   "source": [
    "Посмотрим на ситуацию с платформами в регионе JP"
   ]
  },
  {
   "cell_type": "code",
   "execution_count": null,
   "metadata": {
    "scrolled": true
   },
   "outputs": [],
   "source": [
    "(df_after_2013.groupby(['platform'])\\\n",
    "                  .agg({'jp_sales':'sum'}).sort_values(by = 'jp_sales', ascending = False ).head(5)\n",
    "                  .plot(kind = 'bar', grid = True,\n",
    "                   figsize = (10,5),title = 'Популярные платформы в регионе JP (в млн.)')\n",
    "                    ) \n",
    "plt.show()"
   ]
  },
  {
   "cell_type": "code",
   "execution_count": null,
   "metadata": {},
   "outputs": [],
   "source": [
    "jp_platform = df_after_2013.pivot_table(index='platform', values='jp_sales', aggfunc='sum').nlargest(5, 'jp_sales')\n",
    "all_jp = df_after_2013.pivot_table(index='platform', values='jp_sales', aggfunc='sum').nsmallest(5, 'jp_sales')\n",
    "all_jp.loc['other_platform'] = all_jp.sum()\n",
    "jp_platform = pd.concat([jp_platform[:5], all_jp[5:]])\n",
    "jp_platform"
   ]
  },
  {
   "cell_type": "markdown",
   "metadata": {},
   "source": [
    "**Промежуточные выводы:**\n",
    "\n",
    "- В Северной Америке лидирует X360, однако две консоли разных поколений от Sony идут следом в не большом отрыве от лидера.\n",
    "- В Европе явно преобладают любители Sony. Наиборльший процент консольщиков из этого региона используют PS4 и PS3\n",
    "- В Японии с заметным отрывом от конкуретнтов лидирует приставка 3DS. За ней следуют трио от Sony: PS3, PSV и PS4. Стоит отметить, что из топ-5 игровых консолей, 3 являются портативными, т.е. японцы ценят консоли, которые занимают не много места и которые легко брать с собой.\n",
    "- В целом по количеству выручки (в млн.) видно что Американский рынок самый широкий. В Европе игры увлекают людей на меньшие деньги. Можно предположить, что это связано как с демографией, так и с более строгим законодательства в большинстве стран Евросоюза, нежели чем в США и Канаде. Японский рынок сам по себе не велик и имеет специфический национальный уклон(что выражается, например, в любви японцев к портативным приставкам)\n",
    "- Что касается остальных платформ, то их суммы продаж не превышают продажи Топ-5"
   ]
  },
  {
   "cell_type": "markdown",
   "metadata": {},
   "source": [
    "### Определите для пользователя каждого региона (NA, EU, JP) самые популярные жанры (топ-5). Поясните разницу."
   ]
  },
  {
   "cell_type": "markdown",
   "metadata": {},
   "source": [
    "Теперь рассмотрим варианты с выручкой по жанрам в регионе NA"
   ]
  },
  {
   "cell_type": "code",
   "execution_count": null,
   "metadata": {},
   "outputs": [],
   "source": [
    "(df_after_2013.groupby(['genre'])\\\n",
    "                  .agg({'na_sales':'sum'}).sort_values(by = 'na_sales', ascending = False ).head(5)\n",
    "                  .plot(kind = 'bar', grid = True,\n",
    "                   figsize = (10,5),title = 'Популярные жанры игр в регионе EU')\n",
    "                    ) \n",
    "plt.show()"
   ]
  },
  {
   "cell_type": "code",
   "execution_count": null,
   "metadata": {},
   "outputs": [],
   "source": [
    "na_genre = df_after_2013.pivot_table(index='genre', values='na_sales', aggfunc='sum').nlargest(5, 'na_sales')\n",
    "all_na_genre = df_after_2013.pivot_table(index='genre', values='na_sales', aggfunc='sum').nsmallest(5, 'na_sales')\n",
    "all_na_genre.loc['other_genres'] = all_na_genre.sum()\n",
    "na_genre = pd.concat([na_genre[:5], all_na_genre[5:]])\n",
    "na_genre"
   ]
  },
  {
   "cell_type": "markdown",
   "metadata": {},
   "source": [
    "Теперь рассмотрим варианты с выручкой по жанрам в регионе EU"
   ]
  },
  {
   "cell_type": "code",
   "execution_count": null,
   "metadata": {},
   "outputs": [],
   "source": [
    "(df_after_2013.groupby(['genre'])\\\n",
    "                  .agg({'eu_sales':'sum'}).sort_values(by = 'eu_sales', ascending = False ).head(5)\n",
    "                  .plot(kind = 'bar', grid = True,\n",
    "                   figsize = (10,5),title = 'Популярные жанры игр в регионе EU')\n",
    "                    ) \n",
    "plt.show()"
   ]
  },
  {
   "cell_type": "code",
   "execution_count": null,
   "metadata": {},
   "outputs": [],
   "source": [
    "eu_genre = df_after_2013.pivot_table(index='genre', values='eu_sales', aggfunc='sum').nlargest(5, 'eu_sales')\n",
    "all_eu_genre = df_after_2013.pivot_table(index='genre', values='eu_sales', aggfunc='sum').nsmallest(5, 'eu_sales')\n",
    "all_eu_genre.loc['other_genres'] = all_eu_genre.sum()\n",
    "eu_genre = pd.concat([eu_genre[:5], all_eu_genre[5:]])\n",
    "eu_genre"
   ]
  },
  {
   "cell_type": "markdown",
   "metadata": {},
   "source": [
    "Теперь рассмотрим варианты с выручкой по жанрам в регионе JP"
   ]
  },
  {
   "cell_type": "code",
   "execution_count": null,
   "metadata": {},
   "outputs": [],
   "source": [
    "(df_after_2013.groupby(['genre'])\\\n",
    "                  .agg({'jp_sales':'sum'}).sort_values(by = 'jp_sales', ascending = False ).head(5)\n",
    "                  .plot(kind = 'bar', grid = True,\n",
    "                   figsize = (10,5),title = 'Популярные жанры игр в регионе JP')\n",
    "                    ) \n",
    "plt.show()"
   ]
  },
  {
   "cell_type": "code",
   "execution_count": null,
   "metadata": {},
   "outputs": [],
   "source": [
    "jp_genre = df_after_2013.pivot_table(index='genre', values='jp_sales', aggfunc='sum')\n",
    "all_jp_genre = df_after_2013.pivot_table(index='genre', values='jp_sales', aggfunc='sum').nsmallest(5, 'jp_sales')\n",
    "all_jp_genre.loc['other_genres'] = all_jp_genre.sum()\n",
    "jp_genre = pd.concat([jp_genre[:5], all_jp_genre[5:]])\n",
    "jp_genre"
   ]
  },
  {
   "cell_type": "code",
   "execution_count": null,
   "metadata": {},
   "outputs": [],
   "source": [
    "df_after_2013_2 = df_after_2013.pivot_table(index='genre', values='jp_sales', aggfunc='sum').nsmallest(15, 'jp_sales')\n",
    "df_after_2013_2"
   ]
  },
  {
   "cell_type": "markdown",
   "metadata": {},
   "source": [
    "**Промежуточные выводы:**\n",
    "\n",
    "- По жанрам в Северной Америке и Европе наблюдаем очень схожую картину: на вершинах популярности такие жанры, как экшн, шутер и спортивные игры. \n",
    "- Первое место по жанрам у Японии занимают ролевые игры. На втором уже идут игры жанра экшн. Топ-3 замыкают Музыкальные игры. А вот шутеры, имеющие поплуярность в Сев. Америке и Европе даже не вошли в топ-5 среди японских пользователей. \n",
    "- В жанрах мы видим примерно то же что и с продажами на платформах, Северная Америка является самым обширным рынком из имеющихся у нас данных(т.к. мы не рассматриваем рынки игр например Китая, Юго-Восточной Азиии или стран СНГ). Возможно, Сев. Америка даже задаёт моду в выборе жанров для пользователей из Европы. А Японцы, как и ранее, являются специфическим рынком, к которому нужен принципиально другой подход, нежели чем к Европе и Сев. Америке\n",
    "- Что касается остальных жанров(не вошедших в топ-5), то их суммы продаж не превышают продажи Топ-5"
   ]
  },
  {
   "cell_type": "markdown",
   "metadata": {},
   "source": [
    "### Определите для пользователя каждого региона (NA, EU, JP), влияет ли рейтинг ESRB на продажи в отдельном регионе?¶"
   ]
  },
  {
   "cell_type": "markdown",
   "metadata": {},
   "source": [
    "Для понимания следующего показателя, нужно вообще вспомнить, а какие есть возрастные ограничения используемые ESRB:\n",
    "\n",
    "- «E» («Everyone») — «Для всех»: Содержание вполне подходит для возрастной категории старше 6 лет; такие игры могут понравиться и взрослым.\n",
    "\n",
    "- «EC» («Early childhood») — «Для детей младшего возраста»: Игра подходит для детей от 3 лет и старше и не содержит материалов, которые родители могли бы счесть неподходящими. Игры, получившие данный рейтинг, изначально разрабатываются для детей и обычно представляют собой развивающие игры.\n",
    "\n",
    "- «E10+» («Everyone 10 and older») — «Для всех старше 10 лет»: Возрастная категория — от 10 лет. Проекты с данным рейтингом могут содержать немного больше мультипликационного или мягкого насилия, или несколько откровенные сцены.\n",
    "\n",
    "- «T» («Teen») — «Подросткам 13—19 лет»: Игра подходит для подростков старше 13 лет. Проекты из данной категории могут содержать насилие, непристойные сцены, грубый юмор, не откровенное сексуальное содержимое или не частое использование ненормативной лексики.\n",
    "\n",
    "- «M» («Mature») — «От 17 лет»: Материалы игры не подходят для возрастной категории младше 17 лет. Проекты с данным рейтингом могут содержать достаточно жестокое насилие, большое количество крови, непристойные сексуальные сцены или грубую ненормативную лексику.\n",
    "\n",
    "- «E» («Everyone») - То бишь «Для детей и взрослых».\n",
    "\n",
    "- «AO» («Adults Only 18+») — «Только для взрослых»: Содержание игры только для взрослых. Продукты из данной категории могут содержать длительные сцены жестокого насилия и/или очень откровенное сексуальное содержимое, а также сцены с обнажением."
   ]
  },
  {
   "cell_type": "markdown",
   "metadata": {},
   "source": [
    "Теперь рассмотрим возможность влияния ретинга ESRB на продажи в регионе NA"
   ]
  },
  {
   "cell_type": "code",
   "execution_count": null,
   "metadata": {
    "scrolled": false
   },
   "outputs": [],
   "source": [
    "(df_after_2013.groupby(['rating'])\\\n",
    "                  .agg({'na_sales':'sum'}).sort_values(by = 'na_sales', ascending = False ).head(5)\n",
    "                  .plot(kind = 'bar', grid = True,\n",
    "                   figsize = (10,5),title = 'Продажи в регионе NA в зависимсоит от ретинга ESRB')\n",
    "                    ) \n",
    "plt.show()"
   ]
  },
  {
   "cell_type": "markdown",
   "metadata": {},
   "source": [
    "Теперь рассмотрим возможность влияния ретинга ESRB на продажи в регионе EU"
   ]
  },
  {
   "cell_type": "code",
   "execution_count": null,
   "metadata": {},
   "outputs": [],
   "source": [
    "(df_after_2013.groupby(['rating'])\\\n",
    "                  .agg({'eu_sales':'sum'}).sort_values(by = 'eu_sales', ascending = False ).head(5)\n",
    "                  .plot(kind = 'bar', grid = True,\n",
    "                   figsize = (10,5),title = 'Продажи в регионе EU в зависимсоит от ретинга ESRB')\n",
    "                    ) \n",
    "plt.show()"
   ]
  },
  {
   "cell_type": "markdown",
   "metadata": {},
   "source": [
    "Теперь рассмотрим возможность влияния ретинга ESRB на продажи в регионе JP"
   ]
  },
  {
   "cell_type": "code",
   "execution_count": null,
   "metadata": {},
   "outputs": [],
   "source": [
    "(df_after_2013.groupby(['rating'])\\\n",
    "                  .agg({'jp_sales':'sum'}).sort_values(by = 'jp_sales', ascending = False ).head(5)\n",
    "                  .plot(kind = 'bar', grid = True,\n",
    "                   figsize = (10,5),title = 'Продажи в регионе JP в зависимсоит от ретинга ESRB')\n",
    "                    ) \n",
    "plt.show()"
   ]
  },
  {
   "cell_type": "markdown",
   "metadata": {},
   "source": [
    "Промежуточные выводы:\n",
    "\n",
    "- В рейтингах у Северной Америки и Европы большую часть рынка занимает возрастная категория \"M\" — \"От 17 лет\" и \"Е\" - «Для всех». Видимо наибольшими потребителями игр там являются подростки и молодые люди.\n",
    "- В Японии же первое место занимает категория «unknown». Это свявзано с тем, что игры для платформ в Японии получают свои внутреннние оценки, и их попросту нет в рейтинге ESRB, который предназначен для маркировки игр в США и Канаде. На втором по имеющимся данным, и первом по статистике ESRB месте, Японцы предпочитают игры категории \"Е\", то есть, для всех возрастов."
   ]
  },
  {
   "cell_type": "markdown",
   "metadata": {},
   "source": [
    "**Общие выводы по портретам пользователей в регионах:**\n",
    "\n",
    "- По регионам самыми популярными платформами являются остаются PS4, X360 и 3DS. Правда, 3DS входит в этот топ из за своего абсолютного превосходства на рынке игровых платформ для японских пользователей.\n",
    "\n",
    "- Самыми продаваемыми являются жанры - экшн, шутеры и ролевые игры. Здесь опять же, ролевые игры пользуются колоссальной популярностью у пользователей из Японии.\n",
    "\n",
    "- Идеальным пользователем для Северной Америки, является подросток или взрослый, играющий на платформах PS4 и XOne в экшн, шутеры и спортивные игры.\n",
    "\n",
    "- Идеальный портрет европейского пользователя так же состоит из подростков и взрослых, играющих на платформе PS4 в экшн, шутеры и спортивные игры.\n",
    "\n",
    "- Идеальный японский пользователь играет на консоли Nintendo в ролевые игры и экшн."
   ]
  },
  {
   "cell_type": "markdown",
   "metadata": {},
   "source": [
    "## Проверьте гипотезы. Задайте самостоятельно пороговое значение alpha."
   ]
  },
  {
   "cell_type": "code",
   "execution_count": null,
   "metadata": {},
   "outputs": [],
   "source": [
    "df_nnull_user = df_after_2013[df_after_2013['user_score'] > 0]\n",
    "df_nnull_critic = df_after_2013[df_after_2013['critic_score'] > 0]"
   ]
  },
  {
   "cell_type": "markdown",
   "metadata": {},
   "source": [
    "### Средние пользовательские рейтинги платформ Xbox One и PC одинаковые."
   ]
  },
  {
   "cell_type": "markdown",
   "metadata": {},
   "source": [
    "**Нулевая гипотеза:** Средние пользовательские рейтинги платформ Xbox One и PC равны\n",
    "\n",
    "**Альтернативная гипотеза:** Средние пользовательские рейтинги платформ Xbox One и PC не равны"
   ]
  },
  {
   "cell_type": "code",
   "execution_count": null,
   "metadata": {},
   "outputs": [],
   "source": [
    "alpha = .05\n",
    "\n",
    "platform_XOne = df_nnull_user[(df_nnull_user['platform'] == 'XOne')]['user_score']\n",
    "platform_PC = df_nnull_user[(df_nnull_user['platform'] == 'PC')]['user_score']\n",
    "\n",
    "results = st.ttest_ind(platform_XOne.dropna(), platform_PC.dropna(), equal_var=False)\n",
    "print('p-значение:', results.pvalue)\n",
    "\n",
    "if results.pvalue < alpha:\n",
    "    print(\"Отвергаем нулевую гипотезу\")\n",
    "else:\n",
    "    print(\"Не получилось отвергнуть нулевую гипотезу\")"
   ]
  },
  {
   "cell_type": "markdown",
   "metadata": {},
   "source": [
    "Дополнительно взглянем на средние пользовательские рейтинги, чтобы показать не противоречивость нашей гипотезы"
   ]
  },
  {
   "cell_type": "code",
   "execution_count": null,
   "metadata": {},
   "outputs": [],
   "source": [
    "print('cредний рейтинг pc: ', platform_PC.mean())\n",
    "print('cреднее рейтинг xone: ', platform_XOne.mean())"
   ]
  },
  {
   "cell_type": "markdown",
   "metadata": {},
   "source": [
    "**Вывод по проверке гипотезы: \"Средние пользовательские рейтинги платформ Xbox One и PC одинаковые\":**\n",
    "\n",
    "Не получилось отвергнуть нулевую гипотезу, следовательно можем сказать, что средний рейтинг по двум выборкам по платформам почти не различается. Т.к. гипотеза-то наша двухсторонняя: мы не знаем, в какую сторону рейтинг отличается. Фактически P-значение (англ. P-value) - это вероятность ошибки при отклонении нулевой гипотезы (ошибки первого рода). То есть вероятность ошибки при отклонении нулевой гипотезы: ~55%. К тому же посчитав средний рейтинг для двух платформ, с уверенностью можем сказать: средние рейтинги почти не отличаются. Однако принимать какую-либо гипотезу мы в любом случае не можем, т.к. данные могут лишь не противоречить ей или, наоборот, показывать очень маловероятные результаты."
   ]
  },
  {
   "cell_type": "markdown",
   "metadata": {},
   "source": [
    "### Средние пользовательские рейтинги жанров Action (англ. «действие», экшен-игры) и Sports (англ. «спортивные соревнования») разные."
   ]
  },
  {
   "cell_type": "markdown",
   "metadata": {},
   "source": [
    "**Нулевая гипотеза:** Средние пользовательские рейтинги жанров Action и Sports равны\n",
    "\n",
    "**Альтернативная гипотеза:** Средние пользовательские рейтинги жанров Action и Sports не равны"
   ]
  },
  {
   "cell_type": "code",
   "execution_count": null,
   "metadata": {},
   "outputs": [],
   "source": [
    "alpha = .05\n",
    "\n",
    "genre_action = df_nnull_user[(df_nnull_user['genre'] == 'Action')]['user_score']\n",
    "genre_sport = df_nnull_user[(df_nnull_user['genre'] == 'Sports')]['user_score']\n",
    "\n",
    "results = st.ttest_ind(genre_action, genre_sport, equal_var=False)\n",
    "print('p-значение:', results.pvalue)\n",
    "\n",
    "if results.pvalue < alpha:\n",
    "    print(\"Отвергаем нулевую гипотезу\")\n",
    "else:\n",
    "    print(\"Не получилось отвергнуть нулевую гипотезу\")"
   ]
  },
  {
   "cell_type": "code",
   "execution_count": null,
   "metadata": {},
   "outputs": [],
   "source": [
    "print('Средний пользовательский рейтинг action: ', genre_action.mean())\n",
    "print('Средний пользовательский рейтинг sports: ', genre_sport.mean())"
   ]
  },
  {
   "cell_type": "markdown",
   "metadata": {},
   "source": [
    "**Вывод по проверке гипотезы: \"Средние пользовательские рейтинги жанров Action (англ. «действие», экшен-игры) и Sports (англ. «спортивные соревнования») разные\":**\n",
    "\n",
    "Можем сказать, что средний рейтинг по двум жанрам отличается. Т.к. гипотеза-то наша двухсторонняя: мы не знаем, в какую сторону рейтинг отличается. В данном случае вероятность ошибки при отклонении нулевой гипотезы: ~0%. Опять же, посчитав средний рейтинг для двух жанров, с уверенностью можем сказать: средние рейтинги отличаются. На имеющихся данных, на уровне значимости 5% есть основания отвергнуть нулевую гипотезу о равенстве средних значений пользовательских рейтингов (отзывов) жанров Action и Sports в пользу альтернативной гипотезы"
   ]
  },
  {
   "cell_type": "markdown",
   "metadata": {},
   "source": [
    "### Поясните как вы сформулировали нулевую и альтернативную гипотезы и какой критерий применили для проверки гипотез и почему."
   ]
  },
  {
   "cell_type": "markdown",
   "metadata": {},
   "source": [
    "- Нулевая гипотеза подразумевает знак равенства. Альтернативная гипотеза подразумевает неравенство(≠, <, >, ≤, ≥). В наших двух гипотезах альтернативная была неравенством.\n",
    "- Обе гипотезы проверялись двусторонним t-тестом с проверкой равенства дисперсий. Двусторонний - потому что нам не важно в большую или меньшую сторону будет отклонение от нулевой гипотезы. Критический уровень значимости поставили 5%, потому что точность здесь была не самым важным приоритетом."
   ]
  },
  {
   "cell_type": "markdown",
   "metadata": {},
   "source": [
    "## Напишите общий вывод"
   ]
  },
  {
   "cell_type": "markdown",
   "metadata": {},
   "source": [
    "<div style=\"border:solid Chocolate 2px; padding: 40px\">\n",
    "\n",
    "Целью данного исследования было выявить определяющие успешность игры закономерности. Это позволит заказчику сделать ставку на потенциально популярный продукт и спланировать рекламные кампании.\n",
    "\n",
    "**I. С чем мы столкнулись в начале исследования и какие рекомендации можем дать, чтобы в следующий раз было меньше проблемных моментов:**\n",
    "  \n",
    "- Поступившие к нам данные имели большое количество пропусков (более 40%). Основными причинами пропусков были:\n",
    "    1. Наличие в Европе и Японии своих организаций, которые занимаются возрастными рейтингами(таких как PEGI и CERO). По возможности стоит добавить в датасет столбцы с этими рейтингами.\n",
    "    2. До появления ESRB рейтинги видеоигр задавались самими производителями консолей. Напрмер, Nintendo не оценивала игры, но использовала цензуру для контроля за возрастными последствиями для пользователя. Поэтому у игр на Nintendo-платформе огромное количество пропусков в рейтинге ESRB.\n",
    "\n",
    "**II. Что мы сделали на этапе предобработки данных:**\n",
    "    \n",
    "- Столбцы были преведены к правильному регистру\n",
    "- В некоторых столбцах данные были преобразованы в подходящий для исследования тип\n",
    "- Были заполнены пропуски и удалены дубликаты там, где это не отразилось бы на дальнейшем исследовании\n",
    "- Была заменены в пропусках с рейтингом\n",
    "- Так же мы создали столбец с суммарными продажами по миру\n",
    "\n",
    "**III. Какие выводы мы сделали из исследовательского анализа:**\n",
    "    \n",
    "- Актульным был выбран период с 2013 года, т.к. данные за более ранние годы имели много пропусков, связанных с тем, что:\n",
    "    1. В более ранние годы отсуствовала официальная статистика\n",
    "    2. Многие платформы к 2013 году ушли с рынков\n",
    "- Новые платформы повлялись примерно каждые пять лет, а старые платформы изчезали примерно через два года после появления новых\n",
    "- На успех игры на рынке сильнее влияют оценки критиков, чем оценки игроков, но прямой корреляции здесь обнаружить не удалось\n",
    "- В топ-3 продаваемых жанра входит шутер, спортивные игры и платформеры\n",
    "- Шутеры, несмотря на относительно небольшое количество игр, являются самым перспективным жанром для продаж\n",
    "\n",
    "**IV. В результате составления портретов пользователя для каждого из регионов(Северная Америка, Европа, Япония) мы выяснили, что:**\n",
    "    \n",
    "- В Северной Америке наибольшее количество игроков подросткового и взрослого возрастов, использующие консоли PS4 и XOne для игры в экшн, шутеры и спортивные игры.\n",
    "- В Европе аналогичная картина, где подростки и взрослые играют в экшн, шутеры и спортивные игры на PS4 и XOne.\n",
    "- В Японии чаще всего пользователь играет на консоли Nintendo в ролевые игры и экшн.\n",
    "    \n",
    "**V. В результатах проверки гипотез были выведены следующие предположения:**\n",
    "    \n",
    "- Средние пользовательские рейтинги платформ Xbox One и PC равны\n",
    "- Средние пользовательские рейтинги жанров Action и Sports не равны\n",
    "\n",
    "**Для успешной рекламной кампании на 2017 год в Северной Америке и Европе необходимо ориентироваться на платформы выпущенные после 2013 года, а именно PS4 и Xbox One. Лидерами продаж являются, и скоре всего будут оставаться, игры с жанром шутер и спортивные игры с возрастной категорией \"M\" (от 17 лет) и \"E\" (для всех).**\n",
    "\n",
    "**Рынок Японии значительно отличается от Северной Америки и Европы, поэтому для японских пользователей перспективной платформой будет 3DS, а жанром снискавшим всенародную любовь останется \"ролевые игры\". Рейтинг ESRB в данном случае учитывать не стоит**"
   ]
  }
 ],
 "metadata": {
  "ExecuteTimeLog": [
   {
    "duration": 1590,
    "start_time": "2023-07-21T08:43:33.272Z"
   },
   {
    "duration": 5,
    "start_time": "2023-07-21T08:43:47.187Z"
   },
   {
    "duration": 199,
    "start_time": "2023-07-21T08:47:21.051Z"
   },
   {
    "duration": 114,
    "start_time": "2023-07-21T08:48:35.370Z"
   },
   {
    "duration": 65,
    "start_time": "2023-07-21T08:48:43.679Z"
   },
   {
    "duration": 22,
    "start_time": "2023-07-21T08:48:45.617Z"
   },
   {
    "duration": 14,
    "start_time": "2023-07-21T08:50:50.370Z"
   },
   {
    "duration": 20,
    "start_time": "2023-07-21T08:52:53.866Z"
   },
   {
    "duration": 12,
    "start_time": "2023-07-21T08:53:27.488Z"
   },
   {
    "duration": 13,
    "start_time": "2023-07-21T09:06:09.478Z"
   },
   {
    "duration": 13,
    "start_time": "2023-07-21T09:06:32.334Z"
   },
   {
    "duration": 11,
    "start_time": "2023-07-21T09:06:35.510Z"
   },
   {
    "duration": 20,
    "start_time": "2023-07-21T09:07:16.979Z"
   },
   {
    "duration": 22,
    "start_time": "2023-07-21T09:07:25.758Z"
   },
   {
    "duration": 36,
    "start_time": "2023-07-21T09:07:30.854Z"
   },
   {
    "duration": 14,
    "start_time": "2023-07-21T09:08:50.559Z"
   },
   {
    "duration": 47,
    "start_time": "2023-07-21T09:09:09.601Z"
   },
   {
    "duration": 20,
    "start_time": "2023-07-21T09:09:22.997Z"
   },
   {
    "duration": 1431,
    "start_time": "2023-07-24T11:19:24.955Z"
   },
   {
    "duration": 113,
    "start_time": "2023-07-24T11:19:26.388Z"
   },
   {
    "duration": 21,
    "start_time": "2023-07-24T11:19:26.503Z"
   },
   {
    "duration": 32,
    "start_time": "2023-07-24T11:19:26.527Z"
   },
   {
    "duration": 12,
    "start_time": "2023-07-24T11:19:26.561Z"
   },
   {
    "duration": 31,
    "start_time": "2023-07-24T11:19:26.574Z"
   },
   {
    "duration": 23,
    "start_time": "2023-07-24T11:19:26.607Z"
   },
   {
    "duration": 33,
    "start_time": "2023-07-24T11:19:26.632Z"
   },
   {
    "duration": 11,
    "start_time": "2023-07-24T11:19:26.667Z"
   },
   {
    "duration": 77,
    "start_time": "2023-07-24T11:19:26.681Z"
   },
   {
    "duration": 21,
    "start_time": "2023-07-24T11:19:26.760Z"
   },
   {
    "duration": 131,
    "start_time": "2023-07-24T11:23:35.407Z"
   },
   {
    "duration": 49,
    "start_time": "2023-07-24T11:24:18.197Z"
   },
   {
    "duration": 20,
    "start_time": "2023-07-24T11:24:23.753Z"
   },
   {
    "duration": 10,
    "start_time": "2023-07-24T11:25:52.794Z"
   },
   {
    "duration": 10,
    "start_time": "2023-07-24T11:26:01.196Z"
   },
   {
    "duration": 8,
    "start_time": "2023-07-24T11:26:07.104Z"
   },
   {
    "duration": 14,
    "start_time": "2023-07-24T11:26:08.102Z"
   },
   {
    "duration": 13,
    "start_time": "2023-07-24T11:26:10.106Z"
   },
   {
    "duration": 3,
    "start_time": "2023-07-24T11:35:59.293Z"
   },
   {
    "duration": 11,
    "start_time": "2023-07-24T11:37:01.566Z"
   },
   {
    "duration": 15,
    "start_time": "2023-07-24T11:37:05.308Z"
   },
   {
    "duration": 10,
    "start_time": "2023-07-24T11:37:35.693Z"
   },
   {
    "duration": 6,
    "start_time": "2023-07-24T11:40:32.755Z"
   },
   {
    "duration": 6,
    "start_time": "2023-07-24T11:40:54.416Z"
   },
   {
    "duration": 16,
    "start_time": "2023-07-24T11:41:43.847Z"
   },
   {
    "duration": 10,
    "start_time": "2023-07-24T11:41:48.255Z"
   },
   {
    "duration": 6,
    "start_time": "2023-07-24T11:42:07.460Z"
   },
   {
    "duration": 1246,
    "start_time": "2023-07-24T11:42:18.114Z"
   },
   {
    "duration": 98,
    "start_time": "2023-07-24T11:42:19.363Z"
   },
   {
    "duration": 26,
    "start_time": "2023-07-24T11:42:19.463Z"
   },
   {
    "duration": 28,
    "start_time": "2023-07-24T11:42:19.491Z"
   },
   {
    "duration": 17,
    "start_time": "2023-07-24T11:42:19.522Z"
   },
   {
    "duration": 11,
    "start_time": "2023-07-24T11:42:19.541Z"
   },
   {
    "duration": 7,
    "start_time": "2023-07-24T11:42:19.554Z"
   },
   {
    "duration": 20,
    "start_time": "2023-07-24T11:42:19.563Z"
   },
   {
    "duration": 9,
    "start_time": "2023-07-24T11:42:19.609Z"
   },
   {
    "duration": 7,
    "start_time": "2023-07-24T11:42:19.620Z"
   },
   {
    "duration": 6,
    "start_time": "2023-07-24T11:43:16.030Z"
   },
   {
    "duration": 20,
    "start_time": "2023-07-24T11:43:29.896Z"
   },
   {
    "duration": 6,
    "start_time": "2023-07-24T12:08:54.350Z"
   },
   {
    "duration": 28,
    "start_time": "2023-07-24T12:09:13.409Z"
   },
   {
    "duration": 13,
    "start_time": "2023-07-24T12:09:54.616Z"
   },
   {
    "duration": 6,
    "start_time": "2023-07-24T12:10:13.007Z"
   },
   {
    "duration": 24,
    "start_time": "2023-07-24T12:10:26.407Z"
   },
   {
    "duration": 23,
    "start_time": "2023-07-24T12:11:00.152Z"
   },
   {
    "duration": 10,
    "start_time": "2023-07-24T12:11:15.244Z"
   },
   {
    "duration": 7,
    "start_time": "2023-07-24T12:11:52.343Z"
   },
   {
    "duration": 27,
    "start_time": "2023-07-24T12:11:54.041Z"
   },
   {
    "duration": 24,
    "start_time": "2023-07-24T12:13:16.232Z"
   },
   {
    "duration": 11,
    "start_time": "2023-07-24T12:13:17.752Z"
   },
   {
    "duration": 11,
    "start_time": "2023-07-24T12:13:19.384Z"
   },
   {
    "duration": 7,
    "start_time": "2023-07-24T12:13:20.539Z"
   },
   {
    "duration": 8,
    "start_time": "2023-07-24T12:13:22.438Z"
   },
   {
    "duration": 26,
    "start_time": "2023-07-24T12:14:26.647Z"
   },
   {
    "duration": 24,
    "start_time": "2023-07-24T12:22:08.570Z"
   },
   {
    "duration": 11,
    "start_time": "2023-07-24T12:23:40.354Z"
   },
   {
    "duration": 603,
    "start_time": "2023-07-24T12:24:17.834Z"
   },
   {
    "duration": 514,
    "start_time": "2023-07-24T12:24:34.883Z"
   },
   {
    "duration": 462,
    "start_time": "2023-07-24T12:24:43.708Z"
   },
   {
    "duration": 505,
    "start_time": "2023-07-24T12:24:49.043Z"
   },
   {
    "duration": 602,
    "start_time": "2023-07-24T12:24:57.461Z"
   },
   {
    "duration": 530,
    "start_time": "2023-07-24T12:25:04.814Z"
   },
   {
    "duration": 547,
    "start_time": "2023-07-24T12:25:10.971Z"
   },
   {
    "duration": 564,
    "start_time": "2023-07-24T12:25:16.332Z"
   },
   {
    "duration": 585,
    "start_time": "2023-07-24T12:25:21.867Z"
   },
   {
    "duration": 779,
    "start_time": "2023-07-24T12:25:29.150Z"
   },
   {
    "duration": 117,
    "start_time": "2023-07-24T12:26:03.634Z"
   },
   {
    "duration": 15,
    "start_time": "2023-07-24T12:26:08.414Z"
   },
   {
    "duration": 8,
    "start_time": "2023-07-24T12:27:09.771Z"
   },
   {
    "duration": 10,
    "start_time": "2023-07-24T12:27:13.928Z"
   },
   {
    "duration": 12,
    "start_time": "2023-07-24T12:31:52.692Z"
   },
   {
    "duration": 2864,
    "start_time": "2023-07-24T12:31:56.269Z"
   },
   {
    "duration": 1299,
    "start_time": "2023-07-24T12:32:05.893Z"
   },
   {
    "duration": 8,
    "start_time": "2023-07-24T12:33:06.540Z"
   },
   {
    "duration": 1062,
    "start_time": "2023-07-24T12:33:09.270Z"
   },
   {
    "duration": 14,
    "start_time": "2023-07-24T12:46:46.235Z"
   },
   {
    "duration": 7,
    "start_time": "2023-07-24T12:46:49.125Z"
   },
   {
    "duration": 17,
    "start_time": "2023-07-24T12:46:59.738Z"
   },
   {
    "duration": 409,
    "start_time": "2023-07-24T12:48:47.186Z"
   },
   {
    "duration": 13,
    "start_time": "2023-07-24T12:50:49.731Z"
   },
   {
    "duration": 8,
    "start_time": "2023-07-24T12:51:36.050Z"
   },
   {
    "duration": 23,
    "start_time": "2023-07-24T12:51:37.594Z"
   },
   {
    "duration": 30,
    "start_time": "2023-07-24T12:52:13.767Z"
   },
   {
    "duration": 11,
    "start_time": "2023-07-24T13:03:51.645Z"
   },
   {
    "duration": 9,
    "start_time": "2023-07-24T13:03:57.774Z"
   },
   {
    "duration": 12,
    "start_time": "2023-07-24T13:04:04.560Z"
   },
   {
    "duration": 28,
    "start_time": "2023-07-24T13:05:55.688Z"
   },
   {
    "duration": 1789,
    "start_time": "2023-07-24T13:06:23.826Z"
   },
   {
    "duration": 81,
    "start_time": "2023-07-24T13:06:25.618Z"
   },
   {
    "duration": 37,
    "start_time": "2023-07-24T13:06:25.701Z"
   },
   {
    "duration": 94,
    "start_time": "2023-07-24T13:06:25.740Z"
   },
   {
    "duration": 91,
    "start_time": "2023-07-24T13:06:25.839Z"
   },
   {
    "duration": 162,
    "start_time": "2023-07-24T13:06:25.932Z"
   },
   {
    "duration": 90,
    "start_time": "2023-07-24T13:06:26.097Z"
   },
   {
    "duration": 145,
    "start_time": "2023-07-24T13:06:26.189Z"
   },
   {
    "duration": 42,
    "start_time": "2023-07-24T13:06:26.336Z"
   },
   {
    "duration": 13,
    "start_time": "2023-07-24T13:06:26.380Z"
   },
   {
    "duration": 26,
    "start_time": "2023-07-24T13:06:26.396Z"
   },
   {
    "duration": 96,
    "start_time": "2023-07-24T13:06:26.427Z"
   },
   {
    "duration": 52,
    "start_time": "2023-07-24T13:06:26.527Z"
   },
   {
    "duration": 94,
    "start_time": "2023-07-24T13:06:26.585Z"
   },
   {
    "duration": 162,
    "start_time": "2023-07-24T13:06:26.681Z"
   },
   {
    "duration": 95,
    "start_time": "2023-07-24T13:06:26.846Z"
   },
   {
    "duration": 31,
    "start_time": "2023-07-24T13:06:26.943Z"
   },
   {
    "duration": 22,
    "start_time": "2023-07-24T13:06:26.977Z"
   },
   {
    "duration": 66,
    "start_time": "2023-07-24T13:06:27.001Z"
   },
   {
    "duration": 87,
    "start_time": "2023-07-24T13:06:27.069Z"
   },
   {
    "duration": 132,
    "start_time": "2023-07-24T13:06:27.159Z"
   },
   {
    "duration": 103,
    "start_time": "2023-07-24T13:06:27.293Z"
   },
   {
    "duration": 93,
    "start_time": "2023-07-24T13:06:27.399Z"
   },
   {
    "duration": 18,
    "start_time": "2023-07-24T13:06:27.494Z"
   },
   {
    "duration": 70,
    "start_time": "2023-07-24T13:06:27.514Z"
   },
   {
    "duration": 39,
    "start_time": "2023-07-24T13:06:27.586Z"
   },
   {
    "duration": 30,
    "start_time": "2023-07-24T13:06:27.630Z"
   },
   {
    "duration": 553,
    "start_time": "2023-07-24T13:06:27.662Z"
   },
   {
    "duration": 9,
    "start_time": "2023-07-24T13:06:28.219Z"
   },
   {
    "duration": 1115,
    "start_time": "2023-07-24T13:06:28.230Z"
   },
   {
    "duration": 10,
    "start_time": "2023-07-24T13:06:29.347Z"
   },
   {
    "duration": 761,
    "start_time": "2023-07-24T13:06:29.360Z"
   },
   {
    "duration": 30,
    "start_time": "2023-07-24T13:06:30.133Z"
   },
   {
    "duration": 109,
    "start_time": "2023-07-24T13:06:30.164Z"
   },
   {
    "duration": 166,
    "start_time": "2023-07-24T13:06:30.275Z"
   },
   {
    "duration": 25,
    "start_time": "2023-07-24T13:07:03.764Z"
   },
   {
    "duration": 27,
    "start_time": "2023-07-24T13:07:32.476Z"
   },
   {
    "duration": 32,
    "start_time": "2023-07-24T13:08:38.395Z"
   },
   {
    "duration": 66,
    "start_time": "2023-07-24T13:08:56.460Z"
   },
   {
    "duration": 247,
    "start_time": "2023-07-24T13:10:16.845Z"
   },
   {
    "duration": 250,
    "start_time": "2023-07-24T13:10:27.084Z"
   },
   {
    "duration": 338,
    "start_time": "2023-07-24T13:10:45.836Z"
   },
   {
    "duration": 282,
    "start_time": "2023-07-24T13:10:52.334Z"
   },
   {
    "duration": 272,
    "start_time": "2023-07-24T13:10:57.628Z"
   },
   {
    "duration": 258,
    "start_time": "2023-07-24T13:11:01.932Z"
   },
   {
    "duration": 385,
    "start_time": "2023-07-24T13:11:53.989Z"
   },
   {
    "duration": 255,
    "start_time": "2023-07-24T13:12:00.997Z"
   },
   {
    "duration": 228,
    "start_time": "2023-07-24T13:12:09.536Z"
   },
   {
    "duration": 289,
    "start_time": "2023-07-24T13:12:29.534Z"
   },
   {
    "duration": 323,
    "start_time": "2023-07-24T13:12:35.731Z"
   },
   {
    "duration": 415,
    "start_time": "2023-07-24T13:12:57.261Z"
   },
   {
    "duration": 707,
    "start_time": "2023-07-24T13:13:22.381Z"
   },
   {
    "duration": 571,
    "start_time": "2023-07-24T13:13:32.781Z"
   },
   {
    "duration": 419,
    "start_time": "2023-07-24T13:14:09.607Z"
   },
   {
    "duration": 411,
    "start_time": "2023-07-24T13:14:37.971Z"
   },
   {
    "duration": 329,
    "start_time": "2023-07-24T13:17:08.728Z"
   },
   {
    "duration": 28,
    "start_time": "2023-07-24T13:20:46.799Z"
   },
   {
    "duration": 24,
    "start_time": "2023-07-24T13:20:53.176Z"
   },
   {
    "duration": 1182,
    "start_time": "2023-07-24T13:21:05.833Z"
   },
   {
    "duration": 853,
    "start_time": "2023-07-24T13:22:06.919Z"
   },
   {
    "duration": 181,
    "start_time": "2023-07-24T13:31:49.019Z"
   },
   {
    "duration": 221,
    "start_time": "2023-07-24T13:31:54.212Z"
   },
   {
    "duration": 221,
    "start_time": "2023-07-24T13:32:55.556Z"
   },
   {
    "duration": 436,
    "start_time": "2023-07-24T13:33:05.869Z"
   },
   {
    "duration": 11,
    "start_time": "2023-07-24T13:35:55.021Z"
   },
   {
    "duration": 248,
    "start_time": "2023-07-24T13:43:33.447Z"
   },
   {
    "duration": 242,
    "start_time": "2023-07-24T13:43:41.336Z"
   },
   {
    "duration": 10,
    "start_time": "2023-07-24T13:43:47.375Z"
   },
   {
    "duration": 22,
    "start_time": "2023-07-24T13:44:50.871Z"
   },
   {
    "duration": 335,
    "start_time": "2023-07-24T13:46:28.088Z"
   },
   {
    "duration": 7,
    "start_time": "2023-07-24T13:46:35.952Z"
   },
   {
    "duration": 420,
    "start_time": "2023-07-24T13:46:41.264Z"
   },
   {
    "duration": 4,
    "start_time": "2023-07-24T13:47:46.905Z"
   },
   {
    "duration": 1792,
    "start_time": "2023-07-24T13:48:28.560Z"
   },
   {
    "duration": 18,
    "start_time": "2023-07-24T13:49:53.992Z"
   },
   {
    "duration": 812,
    "start_time": "2023-07-24T13:50:02.882Z"
   },
   {
    "duration": 1355,
    "start_time": "2023-07-24T13:54:11.232Z"
   },
   {
    "duration": 71,
    "start_time": "2023-07-24T13:54:12.589Z"
   },
   {
    "duration": 23,
    "start_time": "2023-07-24T13:54:12.662Z"
   },
   {
    "duration": 23,
    "start_time": "2023-07-24T13:54:12.687Z"
   },
   {
    "duration": 17,
    "start_time": "2023-07-24T13:54:12.713Z"
   },
   {
    "duration": 19,
    "start_time": "2023-07-24T13:54:12.732Z"
   },
   {
    "duration": 56,
    "start_time": "2023-07-24T13:54:12.753Z"
   },
   {
    "duration": 31,
    "start_time": "2023-07-24T13:54:12.811Z"
   },
   {
    "duration": 52,
    "start_time": "2023-07-24T13:54:12.844Z"
   },
   {
    "duration": 16,
    "start_time": "2023-07-24T13:54:12.899Z"
   },
   {
    "duration": 14,
    "start_time": "2023-07-24T13:54:12.917Z"
   },
   {
    "duration": 51,
    "start_time": "2023-07-24T13:54:12.933Z"
   },
   {
    "duration": 22,
    "start_time": "2023-07-24T13:54:12.987Z"
   },
   {
    "duration": 24,
    "start_time": "2023-07-24T13:54:13.012Z"
   },
   {
    "duration": 45,
    "start_time": "2023-07-24T13:54:13.038Z"
   },
   {
    "duration": 19,
    "start_time": "2023-07-24T13:54:13.085Z"
   },
   {
    "duration": 19,
    "start_time": "2023-07-24T13:54:13.106Z"
   },
   {
    "duration": 23,
    "start_time": "2023-07-24T13:54:13.127Z"
   },
   {
    "duration": 47,
    "start_time": "2023-07-24T13:54:13.152Z"
   },
   {
    "duration": 14,
    "start_time": "2023-07-24T13:54:13.201Z"
   },
   {
    "duration": 24,
    "start_time": "2023-07-24T13:54:13.217Z"
   },
   {
    "duration": 12,
    "start_time": "2023-07-24T13:54:13.243Z"
   },
   {
    "duration": 24,
    "start_time": "2023-07-24T13:54:13.258Z"
   },
   {
    "duration": 11,
    "start_time": "2023-07-24T13:54:13.284Z"
   },
   {
    "duration": 31,
    "start_time": "2023-07-24T13:54:13.297Z"
   },
   {
    "duration": 23,
    "start_time": "2023-07-24T13:54:13.330Z"
   },
   {
    "duration": 11,
    "start_time": "2023-07-24T13:54:13.354Z"
   },
   {
    "duration": 516,
    "start_time": "2023-07-24T13:54:13.367Z"
   },
   {
    "duration": 8,
    "start_time": "2023-07-24T13:54:13.885Z"
   },
   {
    "duration": 1002,
    "start_time": "2023-07-24T13:54:13.895Z"
   },
   {
    "duration": 14,
    "start_time": "2023-07-24T13:54:14.899Z"
   },
   {
    "duration": 552,
    "start_time": "2023-07-24T13:54:14.915Z"
   },
   {
    "duration": 27,
    "start_time": "2023-07-24T13:54:15.469Z"
   },
   {
    "duration": 12,
    "start_time": "2023-07-24T13:54:15.498Z"
   },
   {
    "duration": 130,
    "start_time": "2023-07-24T13:54:15.512Z"
   },
   {
    "duration": 0,
    "start_time": "2023-07-24T13:54:15.644Z"
   },
   {
    "duration": 0,
    "start_time": "2023-07-24T13:54:15.645Z"
   },
   {
    "duration": 0,
    "start_time": "2023-07-24T13:54:15.647Z"
   },
   {
    "duration": 0,
    "start_time": "2023-07-24T13:54:15.648Z"
   },
   {
    "duration": 185,
    "start_time": "2023-07-24T13:54:54.643Z"
   },
   {
    "duration": 216,
    "start_time": "2023-07-24T13:55:04.441Z"
   },
   {
    "duration": 181,
    "start_time": "2023-07-24T13:55:11.890Z"
   },
   {
    "duration": 143,
    "start_time": "2023-07-24T13:55:21.489Z"
   },
   {
    "duration": 222,
    "start_time": "2023-07-24T13:55:55.834Z"
   },
   {
    "duration": 236,
    "start_time": "2023-07-24T13:56:10.193Z"
   },
   {
    "duration": 199,
    "start_time": "2023-07-24T13:56:12.532Z"
   },
   {
    "duration": 6,
    "start_time": "2023-07-24T13:56:15.026Z"
   },
   {
    "duration": 7,
    "start_time": "2023-07-24T13:56:27.138Z"
   },
   {
    "duration": 6,
    "start_time": "2023-07-24T14:06:23.948Z"
   },
   {
    "duration": 2243,
    "start_time": "2023-07-24T14:06:50.268Z"
   },
   {
    "duration": 146,
    "start_time": "2023-07-24T14:07:53.412Z"
   },
   {
    "duration": 171,
    "start_time": "2023-07-24T14:07:59.350Z"
   },
   {
    "duration": 15,
    "start_time": "2023-07-24T14:08:39.094Z"
   },
   {
    "duration": 20,
    "start_time": "2023-07-24T14:08:52.866Z"
   },
   {
    "duration": 772,
    "start_time": "2023-07-24T14:09:00.698Z"
   },
   {
    "duration": 763,
    "start_time": "2023-07-24T14:10:09.699Z"
   },
   {
    "duration": 11,
    "start_time": "2023-07-24T14:17:04.671Z"
   },
   {
    "duration": 7,
    "start_time": "2023-07-24T14:17:17.318Z"
   },
   {
    "duration": 1046,
    "start_time": "2023-07-24T14:17:19.340Z"
   },
   {
    "duration": 26,
    "start_time": "2023-07-24T14:17:51.936Z"
   },
   {
    "duration": 8,
    "start_time": "2023-07-24T14:18:04.815Z"
   },
   {
    "duration": 806,
    "start_time": "2023-07-24T14:18:06.320Z"
   },
   {
    "duration": 875,
    "start_time": "2023-07-24T14:18:16.824Z"
   },
   {
    "duration": 745,
    "start_time": "2023-07-24T14:19:13.208Z"
   },
   {
    "duration": 771,
    "start_time": "2023-07-24T14:23:47.858Z"
   },
   {
    "duration": 926,
    "start_time": "2023-07-24T14:25:17.463Z"
   },
   {
    "duration": 823,
    "start_time": "2023-07-24T14:28:00.706Z"
   },
   {
    "duration": 387,
    "start_time": "2023-07-24T14:28:36.835Z"
   },
   {
    "duration": 24,
    "start_time": "2023-07-24T14:30:05.730Z"
   },
   {
    "duration": 410,
    "start_time": "2023-07-24T14:30:22.787Z"
   },
   {
    "duration": 454,
    "start_time": "2023-07-24T14:30:45.183Z"
   },
   {
    "duration": 16,
    "start_time": "2023-07-24T14:31:57.388Z"
   },
   {
    "duration": 12,
    "start_time": "2023-07-24T14:32:02.652Z"
   },
   {
    "duration": 16,
    "start_time": "2023-07-24T14:32:08.123Z"
   },
   {
    "duration": 14,
    "start_time": "2023-07-24T14:33:53.996Z"
   },
   {
    "duration": 30,
    "start_time": "2023-07-24T14:33:59.110Z"
   },
   {
    "duration": 21,
    "start_time": "2023-07-24T14:34:07.310Z"
   },
   {
    "duration": 216,
    "start_time": "2023-07-24T14:40:17.543Z"
   },
   {
    "duration": 11,
    "start_time": "2023-07-24T15:00:19.237Z"
   },
   {
    "duration": 56,
    "start_time": "2023-07-24T15:00:36.122Z"
   },
   {
    "duration": 10,
    "start_time": "2023-07-24T15:02:10.923Z"
   },
   {
    "duration": 26,
    "start_time": "2023-07-24T15:02:13.534Z"
   },
   {
    "duration": 6,
    "start_time": "2023-07-24T15:03:19.134Z"
   },
   {
    "duration": 22,
    "start_time": "2023-07-24T15:03:27.652Z"
   },
   {
    "duration": 6,
    "start_time": "2023-07-24T15:03:36.611Z"
   },
   {
    "duration": 554,
    "start_time": "2023-07-24T15:03:38.029Z"
   },
   {
    "duration": 24,
    "start_time": "2023-07-24T15:06:27.108Z"
   },
   {
    "duration": 424,
    "start_time": "2023-07-24T15:06:30.791Z"
   },
   {
    "duration": 5,
    "start_time": "2023-07-24T15:08:55.767Z"
   },
   {
    "duration": 351,
    "start_time": "2023-07-24T15:08:57.262Z"
   },
   {
    "duration": 484,
    "start_time": "2023-07-24T15:17:28.458Z"
   },
   {
    "duration": 520,
    "start_time": "2023-07-24T15:24:05.630Z"
   },
   {
    "duration": 29,
    "start_time": "2023-07-24T16:01:41.495Z"
   },
   {
    "duration": 14,
    "start_time": "2023-07-24T16:01:49.035Z"
   },
   {
    "duration": 12,
    "start_time": "2023-07-24T16:03:50.255Z"
   },
   {
    "duration": 13,
    "start_time": "2023-07-24T16:04:43.752Z"
   },
   {
    "duration": 17,
    "start_time": "2023-07-24T16:04:50.041Z"
   },
   {
    "duration": 13,
    "start_time": "2023-07-24T16:04:54.688Z"
   },
   {
    "duration": 16,
    "start_time": "2023-07-24T16:04:58.896Z"
   },
   {
    "duration": 12,
    "start_time": "2023-07-24T16:06:01.744Z"
   },
   {
    "duration": 9,
    "start_time": "2023-07-24T16:07:21.064Z"
   },
   {
    "duration": 20,
    "start_time": "2023-07-24T16:08:11.794Z"
   },
   {
    "duration": 10,
    "start_time": "2023-07-24T16:08:40.657Z"
   },
   {
    "duration": 12,
    "start_time": "2023-07-24T16:09:14.758Z"
   },
   {
    "duration": 139,
    "start_time": "2023-07-24T16:09:33.777Z"
   },
   {
    "duration": 11,
    "start_time": "2023-07-24T16:09:34.994Z"
   },
   {
    "duration": 16,
    "start_time": "2023-07-24T17:02:09.620Z"
   },
   {
    "duration": 1239,
    "start_time": "2023-07-24T17:08:39.245Z"
   },
   {
    "duration": 78,
    "start_time": "2023-07-24T17:08:40.486Z"
   },
   {
    "duration": 21,
    "start_time": "2023-07-24T17:08:40.565Z"
   },
   {
    "duration": 48,
    "start_time": "2023-07-24T17:08:40.588Z"
   },
   {
    "duration": 40,
    "start_time": "2023-07-24T17:08:40.638Z"
   },
   {
    "duration": 29,
    "start_time": "2023-07-24T17:08:40.680Z"
   },
   {
    "duration": 10,
    "start_time": "2023-07-24T17:08:40.722Z"
   },
   {
    "duration": 11,
    "start_time": "2023-07-24T17:08:40.734Z"
   },
   {
    "duration": 24,
    "start_time": "2023-07-24T17:08:40.747Z"
   },
   {
    "duration": 73,
    "start_time": "2023-07-24T17:08:40.773Z"
   },
   {
    "duration": 10,
    "start_time": "2023-07-24T17:08:40.848Z"
   },
   {
    "duration": 22,
    "start_time": "2023-07-24T17:08:40.860Z"
   },
   {
    "duration": 9,
    "start_time": "2023-07-24T17:08:40.884Z"
   },
   {
    "duration": 8,
    "start_time": "2023-07-24T17:08:40.897Z"
   },
   {
    "duration": 59,
    "start_time": "2023-07-24T17:08:40.907Z"
   },
   {
    "duration": 37,
    "start_time": "2023-07-24T17:08:40.967Z"
   },
   {
    "duration": 25,
    "start_time": "2023-07-24T17:08:41.006Z"
   },
   {
    "duration": 9,
    "start_time": "2023-07-24T17:08:41.033Z"
   },
   {
    "duration": 32,
    "start_time": "2023-07-24T17:08:41.044Z"
   },
   {
    "duration": 19,
    "start_time": "2023-07-24T17:08:41.078Z"
   },
   {
    "duration": 37,
    "start_time": "2023-07-24T17:08:41.099Z"
   },
   {
    "duration": 5,
    "start_time": "2023-07-24T17:08:41.138Z"
   },
   {
    "duration": 25,
    "start_time": "2023-07-24T17:08:41.145Z"
   },
   {
    "duration": 20,
    "start_time": "2023-07-24T17:08:41.171Z"
   },
   {
    "duration": 34,
    "start_time": "2023-07-24T17:08:41.193Z"
   },
   {
    "duration": 47,
    "start_time": "2023-07-24T17:08:41.228Z"
   },
   {
    "duration": 10,
    "start_time": "2023-07-24T17:08:41.276Z"
   },
   {
    "duration": 516,
    "start_time": "2023-07-24T17:08:41.288Z"
   },
   {
    "duration": 17,
    "start_time": "2023-07-24T17:08:41.806Z"
   },
   {
    "duration": 1043,
    "start_time": "2023-07-24T17:08:41.825Z"
   },
   {
    "duration": 7,
    "start_time": "2023-07-24T17:08:42.870Z"
   },
   {
    "duration": 542,
    "start_time": "2023-07-24T17:08:42.878Z"
   },
   {
    "duration": 29,
    "start_time": "2023-07-24T17:08:43.422Z"
   },
   {
    "duration": 124,
    "start_time": "2023-07-24T17:08:43.453Z"
   },
   {
    "duration": 0,
    "start_time": "2023-07-24T17:08:43.579Z"
   },
   {
    "duration": 0,
    "start_time": "2023-07-24T17:08:43.580Z"
   },
   {
    "duration": 0,
    "start_time": "2023-07-24T17:08:43.581Z"
   },
   {
    "duration": 0,
    "start_time": "2023-07-24T17:08:43.583Z"
   },
   {
    "duration": 0,
    "start_time": "2023-07-24T17:08:43.585Z"
   },
   {
    "duration": 0,
    "start_time": "2023-07-24T17:08:43.586Z"
   },
   {
    "duration": 0,
    "start_time": "2023-07-24T17:08:43.588Z"
   },
   {
    "duration": 0,
    "start_time": "2023-07-24T17:08:43.589Z"
   },
   {
    "duration": 0,
    "start_time": "2023-07-24T17:08:43.591Z"
   },
   {
    "duration": 0,
    "start_time": "2023-07-24T17:08:43.592Z"
   },
   {
    "duration": 0,
    "start_time": "2023-07-24T17:08:43.614Z"
   },
   {
    "duration": 0,
    "start_time": "2023-07-24T17:08:43.616Z"
   },
   {
    "duration": 0,
    "start_time": "2023-07-24T17:08:43.618Z"
   },
   {
    "duration": 0,
    "start_time": "2023-07-24T17:08:43.620Z"
   },
   {
    "duration": 188,
    "start_time": "2023-07-24T17:09:03.263Z"
   },
   {
    "duration": 228,
    "start_time": "2023-07-24T17:09:08.298Z"
   },
   {
    "duration": 134,
    "start_time": "2023-07-24T17:09:20.756Z"
   },
   {
    "duration": 230,
    "start_time": "2023-07-24T17:09:27.843Z"
   },
   {
    "duration": 1505,
    "start_time": "2023-07-24T17:09:34.708Z"
   },
   {
    "duration": 95,
    "start_time": "2023-07-24T17:09:36.216Z"
   },
   {
    "duration": 32,
    "start_time": "2023-07-24T17:09:36.314Z"
   },
   {
    "duration": 13,
    "start_time": "2023-07-24T17:09:36.348Z"
   },
   {
    "duration": 15,
    "start_time": "2023-07-24T17:09:36.363Z"
   },
   {
    "duration": 36,
    "start_time": "2023-07-24T17:09:36.380Z"
   },
   {
    "duration": 24,
    "start_time": "2023-07-24T17:09:36.419Z"
   },
   {
    "duration": 8,
    "start_time": "2023-07-24T17:09:36.445Z"
   },
   {
    "duration": 11,
    "start_time": "2023-07-24T17:09:36.455Z"
   },
   {
    "duration": 14,
    "start_time": "2023-07-24T17:09:36.470Z"
   },
   {
    "duration": 27,
    "start_time": "2023-07-24T17:09:36.486Z"
   },
   {
    "duration": 57,
    "start_time": "2023-07-24T17:09:36.514Z"
   },
   {
    "duration": 8,
    "start_time": "2023-07-24T17:09:36.573Z"
   },
   {
    "duration": 7,
    "start_time": "2023-07-24T17:09:36.583Z"
   },
   {
    "duration": 25,
    "start_time": "2023-07-24T17:09:36.592Z"
   },
   {
    "duration": 35,
    "start_time": "2023-07-24T17:09:36.619Z"
   },
   {
    "duration": 5,
    "start_time": "2023-07-24T17:09:36.656Z"
   },
   {
    "duration": 8,
    "start_time": "2023-07-24T17:09:36.663Z"
   },
   {
    "duration": 27,
    "start_time": "2023-07-24T17:09:36.672Z"
   },
   {
    "duration": 57,
    "start_time": "2023-07-24T17:09:36.701Z"
   },
   {
    "duration": 15,
    "start_time": "2023-07-24T17:09:36.760Z"
   },
   {
    "duration": 12,
    "start_time": "2023-07-24T17:09:36.777Z"
   },
   {
    "duration": 13,
    "start_time": "2023-07-24T17:09:36.791Z"
   },
   {
    "duration": 43,
    "start_time": "2023-07-24T17:09:36.806Z"
   },
   {
    "duration": 36,
    "start_time": "2023-07-24T17:09:36.850Z"
   },
   {
    "duration": 32,
    "start_time": "2023-07-24T17:09:36.888Z"
   },
   {
    "duration": 49,
    "start_time": "2023-07-24T17:09:36.922Z"
   },
   {
    "duration": 540,
    "start_time": "2023-07-24T17:09:36.975Z"
   },
   {
    "duration": 9,
    "start_time": "2023-07-24T17:09:37.517Z"
   },
   {
    "duration": 1118,
    "start_time": "2023-07-24T17:09:37.528Z"
   },
   {
    "duration": 6,
    "start_time": "2023-07-24T17:09:38.648Z"
   },
   {
    "duration": 568,
    "start_time": "2023-07-24T17:09:38.656Z"
   },
   {
    "duration": 30,
    "start_time": "2023-07-24T17:09:39.226Z"
   },
   {
    "duration": 254,
    "start_time": "2023-07-24T17:09:39.258Z"
   },
   {
    "duration": 6,
    "start_time": "2023-07-24T17:09:39.515Z"
   },
   {
    "duration": 804,
    "start_time": "2023-07-24T17:09:39.523Z"
   },
   {
    "duration": 764,
    "start_time": "2023-07-24T17:09:40.329Z"
   },
   {
    "duration": 965,
    "start_time": "2023-07-24T17:09:41.095Z"
   },
   {
    "duration": 424,
    "start_time": "2023-07-24T17:09:42.062Z"
   },
   {
    "duration": 402,
    "start_time": "2023-07-24T17:09:42.488Z"
   },
   {
    "duration": 27,
    "start_time": "2023-07-24T17:09:42.892Z"
   },
   {
    "duration": 44,
    "start_time": "2023-07-24T17:09:42.922Z"
   },
   {
    "duration": 4,
    "start_time": "2023-07-24T17:09:42.968Z"
   },
   {
    "duration": 383,
    "start_time": "2023-07-24T17:09:42.973Z"
   },
   {
    "duration": 410,
    "start_time": "2023-07-24T17:09:43.358Z"
   },
   {
    "duration": 498,
    "start_time": "2023-07-24T17:09:43.770Z"
   },
   {
    "duration": 8,
    "start_time": "2023-07-24T17:09:44.270Z"
   },
   {
    "duration": 72,
    "start_time": "2023-07-24T17:09:44.280Z"
   },
   {
    "duration": 2781,
    "start_time": "2023-07-24T17:23:02.697Z"
   },
   {
    "duration": 208,
    "start_time": "2023-07-24T17:23:05.481Z"
   },
   {
    "duration": 24,
    "start_time": "2023-07-24T17:23:05.690Z"
   },
   {
    "duration": 11,
    "start_time": "2023-07-24T17:23:05.716Z"
   },
   {
    "duration": 12,
    "start_time": "2023-07-24T17:23:05.729Z"
   },
   {
    "duration": 15,
    "start_time": "2023-07-24T17:23:05.742Z"
   },
   {
    "duration": 12,
    "start_time": "2023-07-24T17:23:05.758Z"
   },
   {
    "duration": 23,
    "start_time": "2023-07-24T17:23:05.771Z"
   },
   {
    "duration": 13,
    "start_time": "2023-07-24T17:23:05.795Z"
   },
   {
    "duration": 7,
    "start_time": "2023-07-24T17:23:05.809Z"
   },
   {
    "duration": 12,
    "start_time": "2023-07-24T17:23:05.818Z"
   },
   {
    "duration": 18,
    "start_time": "2023-07-24T17:23:05.831Z"
   },
   {
    "duration": 7,
    "start_time": "2023-07-24T17:23:05.850Z"
   },
   {
    "duration": 8,
    "start_time": "2023-07-24T17:23:05.860Z"
   },
   {
    "duration": 26,
    "start_time": "2023-07-24T17:23:05.869Z"
   },
   {
    "duration": 17,
    "start_time": "2023-07-24T17:23:05.897Z"
   },
   {
    "duration": 6,
    "start_time": "2023-07-24T17:23:05.915Z"
   },
   {
    "duration": 6,
    "start_time": "2023-07-24T17:23:05.922Z"
   },
   {
    "duration": 21,
    "start_time": "2023-07-24T17:23:05.930Z"
   },
   {
    "duration": 13,
    "start_time": "2023-07-24T17:23:05.953Z"
   },
   {
    "duration": 14,
    "start_time": "2023-07-24T17:23:05.967Z"
   },
   {
    "duration": 28,
    "start_time": "2023-07-24T17:23:05.982Z"
   },
   {
    "duration": 6,
    "start_time": "2023-07-24T17:23:06.011Z"
   },
   {
    "duration": 22,
    "start_time": "2023-07-24T17:23:06.018Z"
   },
   {
    "duration": 51,
    "start_time": "2023-07-24T17:23:06.041Z"
   },
   {
    "duration": 27,
    "start_time": "2023-07-24T17:23:06.094Z"
   },
   {
    "duration": 8,
    "start_time": "2023-07-24T17:23:06.123Z"
   },
   {
    "duration": 441,
    "start_time": "2023-07-24T17:23:06.133Z"
   },
   {
    "duration": 6,
    "start_time": "2023-07-24T17:23:06.576Z"
   },
   {
    "duration": 787,
    "start_time": "2023-07-24T17:23:06.584Z"
   },
   {
    "duration": 6,
    "start_time": "2023-07-24T17:23:07.372Z"
   },
   {
    "duration": 425,
    "start_time": "2023-07-24T17:23:07.380Z"
   },
   {
    "duration": 22,
    "start_time": "2023-07-24T17:23:07.806Z"
   },
   {
    "duration": 242,
    "start_time": "2023-07-24T17:23:07.829Z"
   },
   {
    "duration": 6,
    "start_time": "2023-07-24T17:23:08.073Z"
   },
   {
    "duration": 611,
    "start_time": "2023-07-24T17:23:08.081Z"
   },
   {
    "duration": 571,
    "start_time": "2023-07-24T17:23:08.694Z"
   },
   {
    "duration": 689,
    "start_time": "2023-07-24T17:23:09.267Z"
   },
   {
    "duration": 403,
    "start_time": "2023-07-24T17:23:09.958Z"
   },
   {
    "duration": 369,
    "start_time": "2023-07-24T17:23:10.363Z"
   },
   {
    "duration": 17,
    "start_time": "2023-07-24T17:23:10.736Z"
   },
   {
    "duration": 32,
    "start_time": "2023-07-24T17:23:10.755Z"
   },
   {
    "duration": 25,
    "start_time": "2023-07-24T17:23:10.788Z"
   },
   {
    "duration": 314,
    "start_time": "2023-07-24T17:23:10.814Z"
   },
   {
    "duration": 284,
    "start_time": "2023-07-24T17:23:11.130Z"
   },
   {
    "duration": 375,
    "start_time": "2023-07-24T17:23:11.416Z"
   },
   {
    "duration": 7,
    "start_time": "2023-07-24T17:23:11.806Z"
   },
   {
    "duration": 24,
    "start_time": "2023-07-24T17:23:11.814Z"
   },
   {
    "duration": 64,
    "start_time": "2023-07-24T17:47:34.951Z"
   },
   {
    "duration": 39,
    "start_time": "2023-07-24T18:16:49.057Z"
   },
   {
    "duration": 7,
    "start_time": "2023-07-24T18:43:48.346Z"
   },
   {
    "duration": 10,
    "start_time": "2023-07-24T18:44:15.662Z"
   },
   {
    "duration": 447,
    "start_time": "2023-07-24T19:38:26.644Z"
   },
   {
    "duration": 1352,
    "start_time": "2023-07-25T15:07:35.608Z"
   },
   {
    "duration": 116,
    "start_time": "2023-07-25T15:07:36.962Z"
   },
   {
    "duration": 16,
    "start_time": "2023-07-25T15:07:37.080Z"
   },
   {
    "duration": 23,
    "start_time": "2023-07-25T15:07:37.098Z"
   },
   {
    "duration": 44,
    "start_time": "2023-07-25T15:07:37.124Z"
   },
   {
    "duration": 13,
    "start_time": "2023-07-25T15:07:37.170Z"
   },
   {
    "duration": 9,
    "start_time": "2023-07-25T15:07:37.184Z"
   },
   {
    "duration": 19,
    "start_time": "2023-07-25T15:07:37.194Z"
   },
   {
    "duration": 51,
    "start_time": "2023-07-25T15:07:37.215Z"
   },
   {
    "duration": 5,
    "start_time": "2023-07-25T15:07:37.268Z"
   },
   {
    "duration": 8,
    "start_time": "2023-07-25T15:07:37.274Z"
   },
   {
    "duration": 19,
    "start_time": "2023-07-25T15:07:37.284Z"
   },
   {
    "duration": 6,
    "start_time": "2023-07-25T15:07:37.305Z"
   },
   {
    "duration": 4,
    "start_time": "2023-07-25T15:07:37.314Z"
   },
   {
    "duration": 22,
    "start_time": "2023-07-25T15:07:37.319Z"
   },
   {
    "duration": 34,
    "start_time": "2023-07-25T15:07:37.343Z"
   },
   {
    "duration": 6,
    "start_time": "2023-07-25T15:07:37.378Z"
   },
   {
    "duration": 8,
    "start_time": "2023-07-25T15:07:37.386Z"
   },
   {
    "duration": 23,
    "start_time": "2023-07-25T15:07:37.396Z"
   },
   {
    "duration": 10,
    "start_time": "2023-07-25T15:07:37.420Z"
   },
   {
    "duration": 34,
    "start_time": "2023-07-25T15:07:37.436Z"
   },
   {
    "duration": 46,
    "start_time": "2023-07-25T15:07:37.471Z"
   },
   {
    "duration": 14,
    "start_time": "2023-07-25T15:07:37.518Z"
   },
   {
    "duration": 28,
    "start_time": "2023-07-25T15:07:37.534Z"
   },
   {
    "duration": 18,
    "start_time": "2023-07-25T15:07:37.564Z"
   },
   {
    "duration": 92,
    "start_time": "2023-07-25T15:07:37.584Z"
   },
   {
    "duration": 18,
    "start_time": "2023-07-25T15:07:37.678Z"
   },
   {
    "duration": 10,
    "start_time": "2023-07-25T15:07:37.697Z"
   },
   {
    "duration": 548,
    "start_time": "2023-07-25T15:07:37.709Z"
   },
   {
    "duration": 6,
    "start_time": "2023-07-25T15:07:38.261Z"
   },
   {
    "duration": 906,
    "start_time": "2023-07-25T15:07:38.268Z"
   },
   {
    "duration": 23,
    "start_time": "2023-07-25T15:07:39.176Z"
   },
   {
    "duration": 26,
    "start_time": "2023-07-25T15:07:39.201Z"
   },
   {
    "duration": 468,
    "start_time": "2023-07-25T15:07:39.229Z"
   },
   {
    "duration": 22,
    "start_time": "2023-07-25T15:07:39.699Z"
   },
   {
    "duration": 192,
    "start_time": "2023-07-25T15:07:39.723Z"
   },
   {
    "duration": 17,
    "start_time": "2023-07-25T15:07:39.916Z"
   },
   {
    "duration": 10,
    "start_time": "2023-07-25T15:07:39.935Z"
   },
   {
    "duration": 723,
    "start_time": "2023-07-25T15:07:39.946Z"
   },
   {
    "duration": 708,
    "start_time": "2023-07-25T15:07:40.672Z"
   },
   {
    "duration": 892,
    "start_time": "2023-07-25T15:07:41.383Z"
   },
   {
    "duration": 438,
    "start_time": "2023-07-25T15:07:42.277Z"
   },
   {
    "duration": 403,
    "start_time": "2023-07-25T15:07:42.717Z"
   },
   {
    "duration": 14,
    "start_time": "2023-07-25T15:07:43.122Z"
   },
   {
    "duration": 48,
    "start_time": "2023-07-25T15:07:43.140Z"
   },
   {
    "duration": 12,
    "start_time": "2023-07-25T15:07:43.189Z"
   },
   {
    "duration": 386,
    "start_time": "2023-07-25T15:07:43.203Z"
   },
   {
    "duration": 378,
    "start_time": "2023-07-25T15:07:43.591Z"
   },
   {
    "duration": 450,
    "start_time": "2023-07-25T15:07:43.971Z"
   },
   {
    "duration": 18,
    "start_time": "2023-07-25T15:07:44.422Z"
   },
   {
    "duration": 32,
    "start_time": "2023-07-25T15:07:44.445Z"
   },
   {
    "duration": 17,
    "start_time": "2023-07-25T15:16:21.324Z"
   },
   {
    "duration": 93,
    "start_time": "2023-07-25T15:23:02.615Z"
   },
   {
    "duration": 7,
    "start_time": "2023-07-25T15:23:12.323Z"
   },
   {
    "duration": 17,
    "start_time": "2023-07-25T15:23:20.051Z"
   },
   {
    "duration": 12,
    "start_time": "2023-07-25T15:23:57.529Z"
   },
   {
    "duration": 16,
    "start_time": "2023-07-25T15:25:29.249Z"
   },
   {
    "duration": 812,
    "start_time": "2023-07-25T15:36:08.715Z"
   },
   {
    "duration": 888,
    "start_time": "2023-07-25T15:36:38.125Z"
   },
   {
    "duration": 827,
    "start_time": "2023-07-25T15:37:45.810Z"
   },
   {
    "duration": 211,
    "start_time": "2023-07-25T15:42:14.506Z"
   },
   {
    "duration": 288,
    "start_time": "2023-07-25T15:43:38.494Z"
   },
   {
    "duration": 11,
    "start_time": "2023-07-25T15:59:54.500Z"
   },
   {
    "duration": 52,
    "start_time": "2023-07-25T16:00:51.915Z"
   },
   {
    "duration": 16,
    "start_time": "2023-07-25T16:00:59.212Z"
   },
   {
    "duration": 2,
    "start_time": "2023-07-25T16:01:39.738Z"
   },
   {
    "duration": 11,
    "start_time": "2023-07-25T16:01:41.033Z"
   },
   {
    "duration": 10,
    "start_time": "2023-07-25T16:02:16.644Z"
   },
   {
    "duration": 160,
    "start_time": "2023-07-25T16:02:21.406Z"
   },
   {
    "duration": 107,
    "start_time": "2023-07-25T16:04:45.246Z"
   },
   {
    "duration": 245,
    "start_time": "2023-07-25T16:04:50.041Z"
   },
   {
    "duration": 630,
    "start_time": "2023-07-25T16:05:59.819Z"
   },
   {
    "duration": 9,
    "start_time": "2023-07-25T16:07:00.097Z"
   },
   {
    "duration": 9,
    "start_time": "2023-07-25T16:08:10.537Z"
   },
   {
    "duration": 5,
    "start_time": "2023-07-25T16:09:39.426Z"
   },
   {
    "duration": 18,
    "start_time": "2023-07-25T16:09:41.501Z"
   },
   {
    "duration": 9,
    "start_time": "2023-07-25T16:09:44.757Z"
   },
   {
    "duration": 785,
    "start_time": "2023-07-25T16:11:43.893Z"
   },
   {
    "duration": 251,
    "start_time": "2023-07-25T16:16:54.405Z"
   },
   {
    "duration": 220,
    "start_time": "2023-07-25T16:17:08.352Z"
   },
   {
    "duration": 226,
    "start_time": "2023-07-25T16:17:23.433Z"
   },
   {
    "duration": 4,
    "start_time": "2023-07-25T16:18:00.197Z"
   },
   {
    "duration": 93,
    "start_time": "2023-07-25T16:18:07.793Z"
   },
   {
    "duration": 146,
    "start_time": "2023-07-25T16:19:09.944Z"
   },
   {
    "duration": 107,
    "start_time": "2023-07-25T16:19:24.952Z"
   },
   {
    "duration": 100,
    "start_time": "2023-07-25T16:21:10.995Z"
   },
   {
    "duration": 115,
    "start_time": "2023-07-25T16:21:22.427Z"
   },
   {
    "duration": 107,
    "start_time": "2023-07-25T16:21:29.426Z"
   },
   {
    "duration": 282,
    "start_time": "2023-07-25T16:23:24.001Z"
   },
   {
    "duration": 276,
    "start_time": "2023-07-25T16:23:38.634Z"
   },
   {
    "duration": 103,
    "start_time": "2023-07-25T16:24:19.830Z"
   },
   {
    "duration": 283,
    "start_time": "2023-07-25T16:24:31.794Z"
   },
   {
    "duration": 286,
    "start_time": "2023-07-25T16:25:22.355Z"
   },
   {
    "duration": 412,
    "start_time": "2023-07-25T16:25:53.922Z"
   },
   {
    "duration": 4,
    "start_time": "2023-07-25T16:37:22.551Z"
   },
   {
    "duration": 431,
    "start_time": "2023-07-25T16:37:24.206Z"
   },
   {
    "duration": 671,
    "start_time": "2023-07-25T16:46:23.061Z"
   },
   {
    "duration": 5,
    "start_time": "2023-07-25T16:49:48.156Z"
   },
   {
    "duration": 8,
    "start_time": "2023-07-25T16:50:05.444Z"
   },
   {
    "duration": 8,
    "start_time": "2023-07-25T16:50:15.100Z"
   },
   {
    "duration": 8,
    "start_time": "2023-07-25T16:50:26.139Z"
   },
   {
    "duration": 7,
    "start_time": "2023-07-25T16:51:13.900Z"
   },
   {
    "duration": 1213,
    "start_time": "2023-07-25T16:54:40.955Z"
   },
   {
    "duration": 61,
    "start_time": "2023-07-25T16:54:42.170Z"
   },
   {
    "duration": 16,
    "start_time": "2023-07-25T16:54:42.232Z"
   },
   {
    "duration": 29,
    "start_time": "2023-07-25T16:54:42.249Z"
   },
   {
    "duration": 14,
    "start_time": "2023-07-25T16:54:42.280Z"
   },
   {
    "duration": 25,
    "start_time": "2023-07-25T16:54:42.296Z"
   },
   {
    "duration": 10,
    "start_time": "2023-07-25T16:54:42.322Z"
   },
   {
    "duration": 23,
    "start_time": "2023-07-25T16:54:42.333Z"
   },
   {
    "duration": 19,
    "start_time": "2023-07-25T16:54:42.357Z"
   },
   {
    "duration": 18,
    "start_time": "2023-07-25T16:54:42.377Z"
   },
   {
    "duration": 18,
    "start_time": "2023-07-25T16:54:42.396Z"
   },
   {
    "duration": 50,
    "start_time": "2023-07-25T16:54:42.416Z"
   },
   {
    "duration": 7,
    "start_time": "2023-07-25T16:54:42.467Z"
   },
   {
    "duration": 16,
    "start_time": "2023-07-25T16:54:42.477Z"
   },
   {
    "duration": 42,
    "start_time": "2023-07-25T16:54:42.495Z"
   },
   {
    "duration": 20,
    "start_time": "2023-07-25T16:54:42.539Z"
   },
   {
    "duration": 13,
    "start_time": "2023-07-25T16:54:42.561Z"
   },
   {
    "duration": 7,
    "start_time": "2023-07-25T16:54:42.576Z"
   },
   {
    "duration": 23,
    "start_time": "2023-07-25T16:54:42.585Z"
   },
   {
    "duration": 11,
    "start_time": "2023-07-25T16:54:42.609Z"
   },
   {
    "duration": 16,
    "start_time": "2023-07-25T16:54:42.622Z"
   },
   {
    "duration": 9,
    "start_time": "2023-07-25T16:54:42.640Z"
   },
   {
    "duration": 8,
    "start_time": "2023-07-25T16:54:42.650Z"
   },
   {
    "duration": 10,
    "start_time": "2023-07-25T16:54:42.660Z"
   },
   {
    "duration": 20,
    "start_time": "2023-07-25T16:54:42.671Z"
   },
   {
    "duration": 16,
    "start_time": "2023-07-25T16:54:42.693Z"
   },
   {
    "duration": 12,
    "start_time": "2023-07-25T16:54:42.711Z"
   },
   {
    "duration": 22,
    "start_time": "2023-07-25T16:54:42.724Z"
   },
   {
    "duration": 67,
    "start_time": "2023-07-25T16:54:42.748Z"
   },
   {
    "duration": 18,
    "start_time": "2023-07-25T16:54:42.833Z"
   },
   {
    "duration": 9,
    "start_time": "2023-07-25T16:54:42.853Z"
   },
   {
    "duration": 427,
    "start_time": "2023-07-25T16:54:42.864Z"
   },
   {
    "duration": 6,
    "start_time": "2023-07-25T16:54:43.293Z"
   },
   {
    "duration": 923,
    "start_time": "2023-07-25T16:54:43.300Z"
   },
   {
    "duration": 27,
    "start_time": "2023-07-25T16:54:44.225Z"
   },
   {
    "duration": 6,
    "start_time": "2023-07-25T16:54:44.253Z"
   },
   {
    "duration": 349,
    "start_time": "2023-07-25T16:54:44.260Z"
   },
   {
    "duration": 30,
    "start_time": "2023-07-25T16:54:44.611Z"
   },
   {
    "duration": 201,
    "start_time": "2023-07-25T16:54:44.643Z"
   },
   {
    "duration": 5,
    "start_time": "2023-07-25T16:54:44.845Z"
   },
   {
    "duration": 5,
    "start_time": "2023-07-25T16:54:44.853Z"
   },
   {
    "duration": 644,
    "start_time": "2023-07-25T16:54:44.860Z"
   },
   {
    "duration": 306,
    "start_time": "2023-07-25T16:54:45.505Z"
   },
   {
    "duration": 698,
    "start_time": "2023-07-25T16:54:45.812Z"
   },
   {
    "duration": 280,
    "start_time": "2023-07-25T16:54:46.512Z"
   },
   {
    "duration": 746,
    "start_time": "2023-07-25T16:54:46.794Z"
   },
   {
    "duration": 346,
    "start_time": "2023-07-25T16:54:47.542Z"
   },
   {
    "duration": 377,
    "start_time": "2023-07-25T16:54:47.889Z"
   },
   {
    "duration": 338,
    "start_time": "2023-07-25T16:54:48.268Z"
   },
   {
    "duration": 12,
    "start_time": "2023-07-25T16:54:48.607Z"
   },
   {
    "duration": 21,
    "start_time": "2023-07-25T16:54:48.620Z"
   },
   {
    "duration": 3,
    "start_time": "2023-07-25T16:54:48.643Z"
   },
   {
    "duration": 519,
    "start_time": "2023-07-25T16:54:48.647Z"
   },
   {
    "duration": 432,
    "start_time": "2023-07-25T16:54:49.168Z"
   },
   {
    "duration": 331,
    "start_time": "2023-07-25T16:54:49.602Z"
   },
   {
    "duration": 6,
    "start_time": "2023-07-25T16:54:49.935Z"
   },
   {
    "duration": 27,
    "start_time": "2023-07-25T16:54:49.942Z"
   },
   {
    "duration": 10,
    "start_time": "2023-07-25T16:54:49.971Z"
   },
   {
    "duration": 1364,
    "start_time": "2023-07-25T19:05:14.884Z"
   },
   {
    "duration": 108,
    "start_time": "2023-07-25T19:05:16.250Z"
   },
   {
    "duration": 21,
    "start_time": "2023-07-25T19:05:16.359Z"
   },
   {
    "duration": 25,
    "start_time": "2023-07-25T19:05:16.382Z"
   },
   {
    "duration": 15,
    "start_time": "2023-07-25T19:05:16.409Z"
   },
   {
    "duration": 30,
    "start_time": "2023-07-25T19:05:16.426Z"
   },
   {
    "duration": 25,
    "start_time": "2023-07-25T19:05:16.458Z"
   },
   {
    "duration": 24,
    "start_time": "2023-07-25T19:05:16.485Z"
   },
   {
    "duration": 24,
    "start_time": "2023-07-25T19:05:16.511Z"
   },
   {
    "duration": 6,
    "start_time": "2023-07-25T19:05:16.537Z"
   },
   {
    "duration": 14,
    "start_time": "2023-07-25T19:05:16.545Z"
   },
   {
    "duration": 34,
    "start_time": "2023-07-25T19:05:16.561Z"
   },
   {
    "duration": 17,
    "start_time": "2023-07-25T19:05:16.596Z"
   },
   {
    "duration": 17,
    "start_time": "2023-07-25T19:05:16.615Z"
   },
   {
    "duration": 31,
    "start_time": "2023-07-25T19:05:16.633Z"
   },
   {
    "duration": 12,
    "start_time": "2023-07-25T19:05:16.666Z"
   },
   {
    "duration": 12,
    "start_time": "2023-07-25T19:05:16.680Z"
   },
   {
    "duration": 25,
    "start_time": "2023-07-25T19:05:16.695Z"
   },
   {
    "duration": 28,
    "start_time": "2023-07-25T19:05:16.722Z"
   },
   {
    "duration": 14,
    "start_time": "2023-07-25T19:05:16.752Z"
   },
   {
    "duration": 12,
    "start_time": "2023-07-25T19:05:16.768Z"
   },
   {
    "duration": 16,
    "start_time": "2023-07-25T19:05:16.782Z"
   },
   {
    "duration": 18,
    "start_time": "2023-07-25T19:05:16.800Z"
   },
   {
    "duration": 11,
    "start_time": "2023-07-25T19:05:16.819Z"
   },
   {
    "duration": 27,
    "start_time": "2023-07-25T19:05:16.832Z"
   },
   {
    "duration": 26,
    "start_time": "2023-07-25T19:05:16.861Z"
   },
   {
    "duration": 20,
    "start_time": "2023-07-25T19:05:16.888Z"
   },
   {
    "duration": 53,
    "start_time": "2023-07-25T19:05:16.909Z"
   },
   {
    "duration": 85,
    "start_time": "2023-07-25T19:05:16.963Z"
   },
   {
    "duration": 19,
    "start_time": "2023-07-25T19:05:17.050Z"
   },
   {
    "duration": 31,
    "start_time": "2023-07-25T19:05:17.070Z"
   },
   {
    "duration": 499,
    "start_time": "2023-07-25T19:05:17.103Z"
   },
   {
    "duration": 9,
    "start_time": "2023-07-25T19:05:17.604Z"
   },
   {
    "duration": 1122,
    "start_time": "2023-07-25T19:05:17.615Z"
   },
   {
    "duration": 27,
    "start_time": "2023-07-25T19:05:18.739Z"
   },
   {
    "duration": 25,
    "start_time": "2023-07-25T19:05:18.768Z"
   },
   {
    "duration": 391,
    "start_time": "2023-07-25T19:05:18.796Z"
   },
   {
    "duration": 27,
    "start_time": "2023-07-25T19:05:19.188Z"
   },
   {
    "duration": 265,
    "start_time": "2023-07-25T19:05:19.217Z"
   },
   {
    "duration": 6,
    "start_time": "2023-07-25T19:05:19.484Z"
   },
   {
    "duration": 45,
    "start_time": "2023-07-25T19:05:19.494Z"
   },
   {
    "duration": 749,
    "start_time": "2023-07-25T19:05:19.541Z"
   },
   {
    "duration": 337,
    "start_time": "2023-07-25T19:05:20.292Z"
   },
   {
    "duration": 857,
    "start_time": "2023-07-25T19:05:20.631Z"
   },
   {
    "duration": 327,
    "start_time": "2023-07-25T19:05:21.489Z"
   },
   {
    "duration": 862,
    "start_time": "2023-07-25T19:05:21.818Z"
   },
   {
    "duration": 353,
    "start_time": "2023-07-25T19:05:22.682Z"
   },
   {
    "duration": 376,
    "start_time": "2023-07-25T19:05:23.037Z"
   },
   {
    "duration": 373,
    "start_time": "2023-07-25T19:05:23.414Z"
   },
   {
    "duration": 23,
    "start_time": "2023-07-25T19:05:23.788Z"
   },
   {
    "duration": 38,
    "start_time": "2023-07-25T19:05:23.813Z"
   },
   {
    "duration": 16,
    "start_time": "2023-07-25T19:05:23.853Z"
   },
   {
    "duration": 634,
    "start_time": "2023-07-25T19:05:23.870Z"
   },
   {
    "duration": 488,
    "start_time": "2023-07-25T19:05:24.508Z"
   },
   {
    "duration": 340,
    "start_time": "2023-07-25T19:05:24.997Z"
   },
   {
    "duration": 5,
    "start_time": "2023-07-25T19:05:25.339Z"
   },
   {
    "duration": 41,
    "start_time": "2023-07-25T19:05:25.346Z"
   },
   {
    "duration": 36,
    "start_time": "2023-07-25T19:05:25.388Z"
   },
   {
    "duration": 1564,
    "start_time": "2023-07-25T23:34:14.407Z"
   },
   {
    "duration": 141,
    "start_time": "2023-07-25T23:34:15.974Z"
   },
   {
    "duration": 27,
    "start_time": "2023-07-25T23:34:16.117Z"
   },
   {
    "duration": 34,
    "start_time": "2023-07-25T23:34:16.146Z"
   },
   {
    "duration": 28,
    "start_time": "2023-07-25T23:34:16.183Z"
   },
   {
    "duration": 18,
    "start_time": "2023-07-25T23:34:16.213Z"
   },
   {
    "duration": 21,
    "start_time": "2023-07-25T23:34:16.233Z"
   },
   {
    "duration": 24,
    "start_time": "2023-07-25T23:34:16.255Z"
   },
   {
    "duration": 13,
    "start_time": "2023-07-25T23:34:16.281Z"
   },
   {
    "duration": 11,
    "start_time": "2023-07-25T23:34:16.295Z"
   },
   {
    "duration": 17,
    "start_time": "2023-07-25T23:34:16.307Z"
   },
   {
    "duration": 19,
    "start_time": "2023-07-25T23:34:16.325Z"
   },
   {
    "duration": 8,
    "start_time": "2023-07-25T23:34:16.346Z"
   },
   {
    "duration": 9,
    "start_time": "2023-07-25T23:34:16.357Z"
   },
   {
    "duration": 18,
    "start_time": "2023-07-25T23:34:16.368Z"
   },
   {
    "duration": 26,
    "start_time": "2023-07-25T23:34:16.387Z"
   },
   {
    "duration": 6,
    "start_time": "2023-07-25T23:34:16.415Z"
   },
   {
    "duration": 15,
    "start_time": "2023-07-25T23:34:16.423Z"
   },
   {
    "duration": 29,
    "start_time": "2023-07-25T23:34:16.440Z"
   },
   {
    "duration": 30,
    "start_time": "2023-07-25T23:34:16.470Z"
   },
   {
    "duration": 9,
    "start_time": "2023-07-25T23:34:16.501Z"
   },
   {
    "duration": 13,
    "start_time": "2023-07-25T23:34:16.511Z"
   },
   {
    "duration": 10,
    "start_time": "2023-07-25T23:34:16.525Z"
   },
   {
    "duration": 14,
    "start_time": "2023-07-25T23:34:16.536Z"
   },
   {
    "duration": 37,
    "start_time": "2023-07-25T23:34:16.551Z"
   },
   {
    "duration": 22,
    "start_time": "2023-07-25T23:34:16.590Z"
   },
   {
    "duration": 23,
    "start_time": "2023-07-25T23:34:16.614Z"
   },
   {
    "duration": 17,
    "start_time": "2023-07-25T23:34:16.639Z"
   },
   {
    "duration": 77,
    "start_time": "2023-07-25T23:34:16.657Z"
   },
   {
    "duration": 17,
    "start_time": "2023-07-25T23:34:16.736Z"
   },
   {
    "duration": 9,
    "start_time": "2023-07-25T23:34:16.755Z"
   },
   {
    "duration": 421,
    "start_time": "2023-07-25T23:34:16.766Z"
   },
   {
    "duration": 14,
    "start_time": "2023-07-25T23:34:17.189Z"
   },
   {
    "duration": 902,
    "start_time": "2023-07-25T23:34:17.205Z"
   },
   {
    "duration": 44,
    "start_time": "2023-07-25T23:34:18.109Z"
   },
   {
    "duration": 7,
    "start_time": "2023-07-25T23:34:18.154Z"
   },
   {
    "duration": 355,
    "start_time": "2023-07-25T23:34:18.164Z"
   },
   {
    "duration": 22,
    "start_time": "2023-07-25T23:34:18.520Z"
   },
   {
    "duration": 200,
    "start_time": "2023-07-25T23:34:18.544Z"
   },
   {
    "duration": 7,
    "start_time": "2023-07-25T23:34:18.746Z"
   },
   {
    "duration": 14,
    "start_time": "2023-07-25T23:34:18.757Z"
   },
   {
    "duration": 668,
    "start_time": "2023-07-25T23:34:18.773Z"
   },
   {
    "duration": 322,
    "start_time": "2023-07-25T23:34:19.443Z"
   },
   {
    "duration": 715,
    "start_time": "2023-07-25T23:34:19.767Z"
   },
   {
    "duration": 292,
    "start_time": "2023-07-25T23:34:20.484Z"
   },
   {
    "duration": 700,
    "start_time": "2023-07-25T23:34:20.778Z"
   },
   {
    "duration": 310,
    "start_time": "2023-07-25T23:34:21.479Z"
   },
   {
    "duration": 405,
    "start_time": "2023-07-25T23:34:21.791Z"
   },
   {
    "duration": 337,
    "start_time": "2023-07-25T23:34:22.200Z"
   },
   {
    "duration": 13,
    "start_time": "2023-07-25T23:34:22.538Z"
   },
   {
    "duration": 17,
    "start_time": "2023-07-25T23:34:22.553Z"
   },
   {
    "duration": 5,
    "start_time": "2023-07-25T23:34:22.572Z"
   },
   {
    "duration": 523,
    "start_time": "2023-07-25T23:34:22.578Z"
   },
   {
    "duration": 431,
    "start_time": "2023-07-25T23:34:23.103Z"
   },
   {
    "duration": 304,
    "start_time": "2023-07-25T23:34:23.536Z"
   },
   {
    "duration": 6,
    "start_time": "2023-07-25T23:34:23.842Z"
   },
   {
    "duration": 14,
    "start_time": "2023-07-25T23:34:23.849Z"
   },
   {
    "duration": 10,
    "start_time": "2023-07-25T23:34:23.865Z"
   },
   {
    "duration": 49,
    "start_time": "2023-07-26T12:59:56.797Z"
   },
   {
    "duration": 1555,
    "start_time": "2023-07-26T13:00:57.002Z"
   },
   {
    "duration": 564,
    "start_time": "2023-07-26T13:00:58.559Z"
   },
   {
    "duration": 25,
    "start_time": "2023-07-26T13:00:59.125Z"
   },
   {
    "duration": 19,
    "start_time": "2023-07-26T13:00:59.152Z"
   },
   {
    "duration": 35,
    "start_time": "2023-07-26T13:00:59.174Z"
   },
   {
    "duration": 12,
    "start_time": "2023-07-26T13:00:59.212Z"
   },
   {
    "duration": 15,
    "start_time": "2023-07-26T13:00:59.226Z"
   },
   {
    "duration": 28,
    "start_time": "2023-07-26T13:00:59.243Z"
   },
   {
    "duration": 11,
    "start_time": "2023-07-26T13:00:59.273Z"
   },
   {
    "duration": 6,
    "start_time": "2023-07-26T13:00:59.288Z"
   },
   {
    "duration": 14,
    "start_time": "2023-07-26T13:00:59.295Z"
   },
   {
    "duration": 25,
    "start_time": "2023-07-26T13:00:59.311Z"
   },
   {
    "duration": 7,
    "start_time": "2023-07-26T13:00:59.338Z"
   },
   {
    "duration": 5,
    "start_time": "2023-07-26T13:00:59.348Z"
   },
   {
    "duration": 29,
    "start_time": "2023-07-26T13:00:59.354Z"
   },
   {
    "duration": 16,
    "start_time": "2023-07-26T13:00:59.385Z"
   },
   {
    "duration": 8,
    "start_time": "2023-07-26T13:00:59.403Z"
   },
   {
    "duration": 17,
    "start_time": "2023-07-26T13:00:59.414Z"
   },
   {
    "duration": 27,
    "start_time": "2023-07-26T13:00:59.432Z"
   },
   {
    "duration": 26,
    "start_time": "2023-07-26T13:00:59.461Z"
   },
   {
    "duration": 17,
    "start_time": "2023-07-26T13:00:59.496Z"
   },
   {
    "duration": 13,
    "start_time": "2023-07-26T13:00:59.515Z"
   },
   {
    "duration": 12,
    "start_time": "2023-07-26T13:00:59.530Z"
   },
   {
    "duration": 9,
    "start_time": "2023-07-26T13:00:59.544Z"
   },
   {
    "duration": 22,
    "start_time": "2023-07-26T13:00:59.555Z"
   },
   {
    "duration": 26,
    "start_time": "2023-07-26T13:00:59.578Z"
   },
   {
    "duration": 26,
    "start_time": "2023-07-26T13:00:59.608Z"
   },
   {
    "duration": 26,
    "start_time": "2023-07-26T13:00:59.636Z"
   },
   {
    "duration": 103,
    "start_time": "2023-07-26T13:00:59.664Z"
   },
   {
    "duration": 21,
    "start_time": "2023-07-26T13:00:59.769Z"
   },
   {
    "duration": 19,
    "start_time": "2023-07-26T13:00:59.791Z"
   },
   {
    "duration": 539,
    "start_time": "2023-07-26T13:00:59.812Z"
   },
   {
    "duration": 9,
    "start_time": "2023-07-26T13:01:00.354Z"
   },
   {
    "duration": 1146,
    "start_time": "2023-07-26T13:01:00.364Z"
   },
   {
    "duration": 26,
    "start_time": "2023-07-26T13:01:01.512Z"
   },
   {
    "duration": 275,
    "start_time": "2023-07-26T13:01:01.540Z"
   },
   {
    "duration": 589,
    "start_time": "2023-07-26T13:01:01.818Z"
   },
   {
    "duration": 28,
    "start_time": "2023-07-26T13:01:02.409Z"
   },
   {
    "duration": 229,
    "start_time": "2023-07-26T13:01:02.439Z"
   },
   {
    "duration": 7,
    "start_time": "2023-07-26T13:01:02.675Z"
   },
   {
    "duration": 20,
    "start_time": "2023-07-26T13:01:02.688Z"
   },
   {
    "duration": 755,
    "start_time": "2023-07-26T13:01:02.711Z"
   },
   {
    "duration": 360,
    "start_time": "2023-07-26T13:01:03.468Z"
   },
   {
    "duration": 863,
    "start_time": "2023-07-26T13:01:03.829Z"
   },
   {
    "duration": 327,
    "start_time": "2023-07-26T13:01:04.693Z"
   },
   {
    "duration": 833,
    "start_time": "2023-07-26T13:01:05.022Z"
   },
   {
    "duration": 354,
    "start_time": "2023-07-26T13:01:05.858Z"
   },
   {
    "duration": 463,
    "start_time": "2023-07-26T13:01:06.214Z"
   },
   {
    "duration": 380,
    "start_time": "2023-07-26T13:01:06.683Z"
   },
   {
    "duration": 38,
    "start_time": "2023-07-26T13:01:07.065Z"
   },
   {
    "duration": 15,
    "start_time": "2023-07-26T13:01:07.109Z"
   },
   {
    "duration": 16,
    "start_time": "2023-07-26T13:01:07.126Z"
   },
   {
    "duration": 616,
    "start_time": "2023-07-26T13:01:07.143Z"
   },
   {
    "duration": 529,
    "start_time": "2023-07-26T13:01:07.760Z"
   },
   {
    "duration": 348,
    "start_time": "2023-07-26T13:01:08.293Z"
   },
   {
    "duration": 5,
    "start_time": "2023-07-26T13:01:08.643Z"
   },
   {
    "duration": 20,
    "start_time": "2023-07-26T13:01:08.650Z"
   },
   {
    "duration": 232,
    "start_time": "2023-07-26T13:01:08.676Z"
   },
   {
    "duration": 388,
    "start_time": "2023-07-26T13:02:35.172Z"
   },
   {
    "duration": 477,
    "start_time": "2023-07-26T13:02:40.728Z"
   },
   {
    "duration": 335,
    "start_time": "2023-07-26T13:02:52.908Z"
   },
   {
    "duration": 932,
    "start_time": "2023-07-26T13:09:14.674Z"
   },
   {
    "duration": 825,
    "start_time": "2023-07-26T13:09:22.021Z"
   },
   {
    "duration": 941,
    "start_time": "2023-07-26T13:11:15.230Z"
   },
   {
    "duration": 973,
    "start_time": "2023-07-26T13:11:26.843Z"
   },
   {
    "duration": 779,
    "start_time": "2023-07-26T13:12:25.619Z"
   },
   {
    "duration": 6,
    "start_time": "2023-07-26T13:15:03.811Z"
   },
   {
    "duration": 7,
    "start_time": "2023-07-26T13:16:00.309Z"
   },
   {
    "duration": 11,
    "start_time": "2023-07-26T13:17:09.809Z"
   },
   {
    "duration": 847,
    "start_time": "2023-07-26T13:17:11.701Z"
   },
   {
    "duration": 199,
    "start_time": "2023-07-26T13:22:26.148Z"
   },
   {
    "duration": 212,
    "start_time": "2023-07-26T13:22:49.202Z"
   },
   {
    "duration": 388,
    "start_time": "2023-07-26T13:29:57.934Z"
   },
   {
    "duration": 380,
    "start_time": "2023-07-26T13:30:15.327Z"
   },
   {
    "duration": 395,
    "start_time": "2023-07-26T13:30:20.030Z"
   },
   {
    "duration": 318,
    "start_time": "2023-07-26T13:30:39.105Z"
   },
   {
    "duration": 405,
    "start_time": "2023-07-26T13:30:59.831Z"
   },
   {
    "duration": 377,
    "start_time": "2023-07-26T13:31:11.369Z"
   },
   {
    "duration": 394,
    "start_time": "2023-07-26T13:31:18.063Z"
   },
   {
    "duration": 545,
    "start_time": "2023-07-26T13:31:34.646Z"
   },
   {
    "duration": 246,
    "start_time": "2023-07-26T13:32:40.309Z"
   },
   {
    "duration": 485,
    "start_time": "2023-07-26T13:33:22.449Z"
   },
   {
    "duration": 624,
    "start_time": "2023-07-26T13:33:31.896Z"
   },
   {
    "duration": 573,
    "start_time": "2023-07-26T13:33:39.782Z"
   },
   {
    "duration": 503,
    "start_time": "2023-07-26T13:33:58.264Z"
   },
   {
    "duration": 4,
    "start_time": "2023-07-26T13:58:37.722Z"
   },
   {
    "duration": 187,
    "start_time": "2023-07-26T13:58:39.906Z"
   },
   {
    "duration": 193,
    "start_time": "2023-07-26T13:59:11.514Z"
   },
   {
    "duration": 12,
    "start_time": "2023-07-26T14:00:27.539Z"
   },
   {
    "duration": 4,
    "start_time": "2023-07-26T14:00:31.843Z"
   },
   {
    "duration": 2572,
    "start_time": "2023-07-26T14:00:33.066Z"
   },
   {
    "duration": 193,
    "start_time": "2023-07-26T14:00:40.323Z"
   },
   {
    "duration": 2059,
    "start_time": "2023-07-26T14:00:43.102Z"
   },
   {
    "duration": 5,
    "start_time": "2023-07-26T14:00:51.250Z"
   },
   {
    "duration": 278,
    "start_time": "2023-07-26T14:02:59.019Z"
   },
   {
    "duration": 14,
    "start_time": "2023-07-26T14:03:01.179Z"
   },
   {
    "duration": 178,
    "start_time": "2023-07-26T14:03:39.452Z"
   },
   {
    "duration": 6,
    "start_time": "2023-07-26T14:03:40.915Z"
   },
   {
    "duration": 8,
    "start_time": "2023-07-26T14:08:34.324Z"
   },
   {
    "duration": 9,
    "start_time": "2023-07-26T14:08:48.340Z"
   },
   {
    "duration": 2,
    "start_time": "2023-07-26T14:10:47.964Z"
   },
   {
    "duration": 2572,
    "start_time": "2023-07-26T14:10:49.467Z"
   },
   {
    "duration": 14,
    "start_time": "2023-07-26T14:11:11.581Z"
   },
   {
    "duration": 4,
    "start_time": "2023-07-26T14:11:17.291Z"
   },
   {
    "duration": 1783,
    "start_time": "2023-07-26T14:11:18.173Z"
   },
   {
    "duration": 4,
    "start_time": "2023-07-26T14:31:17.225Z"
   },
   {
    "duration": 7,
    "start_time": "2023-07-26T14:32:53.728Z"
   },
   {
    "duration": 9,
    "start_time": "2023-07-26T14:33:46.928Z"
   },
   {
    "duration": 6,
    "start_time": "2023-07-26T14:33:54.010Z"
   },
   {
    "duration": 2409,
    "start_time": "2023-07-26T14:33:56.351Z"
   },
   {
    "duration": 288,
    "start_time": "2023-07-26T14:34:13.663Z"
   },
   {
    "duration": 2129,
    "start_time": "2023-07-26T14:34:53.831Z"
   },
   {
    "duration": 6,
    "start_time": "2023-07-26T14:35:04.743Z"
   },
   {
    "duration": 145,
    "start_time": "2023-07-26T14:35:29.103Z"
   },
   {
    "duration": 8,
    "start_time": "2023-07-26T14:35:46.671Z"
   },
   {
    "duration": 11,
    "start_time": "2023-07-26T14:39:47.864Z"
   },
   {
    "duration": 24,
    "start_time": "2023-07-26T14:40:02.249Z"
   },
   {
    "duration": 6,
    "start_time": "2023-07-26T14:40:07.316Z"
   },
   {
    "duration": 139,
    "start_time": "2023-07-26T14:40:18.998Z"
   },
   {
    "duration": 26,
    "start_time": "2023-07-26T14:40:28.493Z"
   },
   {
    "duration": 142,
    "start_time": "2023-07-26T14:41:08.128Z"
   },
   {
    "duration": 2154,
    "start_time": "2023-07-26T14:41:20.167Z"
   },
   {
    "duration": 5,
    "start_time": "2023-07-26T14:41:24.206Z"
   },
   {
    "duration": 32,
    "start_time": "2023-07-26T14:43:11.494Z"
   },
   {
    "duration": 5,
    "start_time": "2023-07-26T14:43:15.403Z"
   },
   {
    "duration": 129,
    "start_time": "2023-07-26T14:44:52.732Z"
   },
   {
    "duration": 223,
    "start_time": "2023-07-26T14:45:00.102Z"
   },
   {
    "duration": 129,
    "start_time": "2023-07-26T14:45:07.307Z"
   },
   {
    "duration": 160,
    "start_time": "2023-07-26T14:45:22.035Z"
   },
   {
    "duration": 6,
    "start_time": "2023-07-26T14:46:06.644Z"
   },
   {
    "duration": 158,
    "start_time": "2023-07-26T14:46:21.571Z"
   },
   {
    "duration": 206,
    "start_time": "2023-07-26T14:46:28.654Z"
   },
   {
    "duration": 194,
    "start_time": "2023-07-26T14:46:32.532Z"
   },
   {
    "duration": 67,
    "start_time": "2023-07-26T14:46:43.704Z"
   },
   {
    "duration": 7,
    "start_time": "2023-07-26T14:50:03.959Z"
   },
   {
    "duration": 145,
    "start_time": "2023-07-26T14:50:24.110Z"
   },
   {
    "duration": 8,
    "start_time": "2023-07-26T14:50:26.164Z"
   },
   {
    "duration": 9,
    "start_time": "2023-07-26T14:52:06.632Z"
   },
   {
    "duration": 149,
    "start_time": "2023-07-26T14:52:17.342Z"
   },
   {
    "duration": 9,
    "start_time": "2023-07-26T14:52:23.804Z"
   },
   {
    "duration": 228,
    "start_time": "2023-07-26T14:52:57.634Z"
   },
   {
    "duration": 5,
    "start_time": "2023-07-26T14:52:59.567Z"
   },
   {
    "duration": 112,
    "start_time": "2023-07-26T14:56:08.752Z"
   },
   {
    "duration": 592,
    "start_time": "2023-07-26T14:57:08.672Z"
   },
   {
    "duration": 678,
    "start_time": "2023-07-26T15:00:58.234Z"
   },
   {
    "duration": 718,
    "start_time": "2023-07-26T15:02:37.460Z"
   },
   {
    "duration": 612,
    "start_time": "2023-07-26T15:02:44.539Z"
   },
   {
    "duration": 6,
    "start_time": "2023-07-26T15:22:58.696Z"
   },
   {
    "duration": 531,
    "start_time": "2023-07-26T15:23:00.820Z"
   },
   {
    "duration": 142,
    "start_time": "2023-07-26T15:34:16.265Z"
   },
   {
    "duration": 10,
    "start_time": "2023-07-26T16:03:06.316Z"
   },
   {
    "duration": 7,
    "start_time": "2023-07-26T16:03:30.028Z"
   },
   {
    "duration": 14,
    "start_time": "2023-07-26T16:03:32.099Z"
   },
   {
    "duration": 12,
    "start_time": "2023-07-26T16:03:41.749Z"
   },
   {
    "duration": 9,
    "start_time": "2023-07-26T16:10:08.614Z"
   },
   {
    "duration": 12,
    "start_time": "2023-07-26T16:10:40.070Z"
   },
   {
    "duration": 10,
    "start_time": "2023-07-26T16:12:30.870Z"
   },
   {
    "duration": 15,
    "start_time": "2023-07-26T16:13:19.871Z"
   },
   {
    "duration": 8,
    "start_time": "2023-07-26T16:13:35.119Z"
   },
   {
    "duration": 5,
    "start_time": "2023-07-26T16:13:45.811Z"
   },
   {
    "duration": 6,
    "start_time": "2023-07-26T16:13:46.975Z"
   },
   {
    "duration": 4,
    "start_time": "2023-07-26T16:13:54.440Z"
   },
   {
    "duration": 4,
    "start_time": "2023-07-26T16:14:43.215Z"
   },
   {
    "duration": 3,
    "start_time": "2023-07-26T16:14:44.388Z"
   },
   {
    "duration": 4,
    "start_time": "2023-07-26T16:14:45.499Z"
   },
   {
    "duration": 4,
    "start_time": "2023-07-26T16:14:54.800Z"
   },
   {
    "duration": 9,
    "start_time": "2023-07-26T16:14:56.585Z"
   },
   {
    "duration": 1412,
    "start_time": "2023-07-26T16:18:42.274Z"
   },
   {
    "duration": 297,
    "start_time": "2023-07-26T16:18:43.687Z"
   },
   {
    "duration": 18,
    "start_time": "2023-07-26T16:18:43.987Z"
   },
   {
    "duration": 12,
    "start_time": "2023-07-26T16:18:44.007Z"
   },
   {
    "duration": 13,
    "start_time": "2023-07-26T16:18:44.021Z"
   },
   {
    "duration": 20,
    "start_time": "2023-07-26T16:18:44.035Z"
   },
   {
    "duration": 4,
    "start_time": "2023-07-26T16:18:44.057Z"
   },
   {
    "duration": 7,
    "start_time": "2023-07-26T16:18:44.074Z"
   },
   {
    "duration": 8,
    "start_time": "2023-07-26T16:18:44.089Z"
   },
   {
    "duration": 4,
    "start_time": "2023-07-26T16:18:44.100Z"
   },
   {
    "duration": 5,
    "start_time": "2023-07-26T16:18:44.108Z"
   },
   {
    "duration": 24,
    "start_time": "2023-07-26T16:18:44.114Z"
   },
   {
    "duration": 8,
    "start_time": "2023-07-26T16:18:44.140Z"
   },
   {
    "duration": 27,
    "start_time": "2023-07-26T16:18:44.150Z"
   },
   {
    "duration": 22,
    "start_time": "2023-07-26T16:18:44.186Z"
   },
   {
    "duration": 13,
    "start_time": "2023-07-26T16:18:44.209Z"
   },
   {
    "duration": 5,
    "start_time": "2023-07-26T16:18:44.223Z"
   },
   {
    "duration": 5,
    "start_time": "2023-07-26T16:18:44.229Z"
   },
   {
    "duration": 27,
    "start_time": "2023-07-26T16:18:44.235Z"
   },
   {
    "duration": 27,
    "start_time": "2023-07-26T16:18:44.263Z"
   },
   {
    "duration": 14,
    "start_time": "2023-07-26T16:18:44.292Z"
   },
   {
    "duration": 12,
    "start_time": "2023-07-26T16:18:44.307Z"
   },
   {
    "duration": 13,
    "start_time": "2023-07-26T16:18:44.321Z"
   },
   {
    "duration": 20,
    "start_time": "2023-07-26T16:18:44.336Z"
   },
   {
    "duration": 31,
    "start_time": "2023-07-26T16:18:44.358Z"
   },
   {
    "duration": 16,
    "start_time": "2023-07-26T16:18:44.391Z"
   },
   {
    "duration": 7,
    "start_time": "2023-07-26T16:18:44.408Z"
   },
   {
    "duration": 19,
    "start_time": "2023-07-26T16:18:44.418Z"
   },
   {
    "duration": 111,
    "start_time": "2023-07-26T16:18:44.439Z"
   },
   {
    "duration": 31,
    "start_time": "2023-07-26T16:18:44.552Z"
   },
   {
    "duration": 10,
    "start_time": "2023-07-26T16:18:44.590Z"
   },
   {
    "duration": 451,
    "start_time": "2023-07-26T16:18:44.601Z"
   },
   {
    "duration": 7,
    "start_time": "2023-07-26T16:18:45.054Z"
   },
   {
    "duration": 996,
    "start_time": "2023-07-26T16:18:45.062Z"
   },
   {
    "duration": 36,
    "start_time": "2023-07-26T16:18:46.059Z"
   },
   {
    "duration": 7,
    "start_time": "2023-07-26T16:18:46.097Z"
   },
   {
    "duration": 357,
    "start_time": "2023-07-26T16:18:46.106Z"
   },
   {
    "duration": 37,
    "start_time": "2023-07-26T16:18:46.464Z"
   },
   {
    "duration": 211,
    "start_time": "2023-07-26T16:18:46.503Z"
   },
   {
    "duration": 8,
    "start_time": "2023-07-26T16:18:46.716Z"
   },
   {
    "duration": 12,
    "start_time": "2023-07-26T16:18:46.726Z"
   },
   {
    "duration": 8,
    "start_time": "2023-07-26T16:18:46.740Z"
   },
   {
    "duration": 167,
    "start_time": "2023-07-26T16:18:46.750Z"
   },
   {
    "duration": 121,
    "start_time": "2023-07-26T16:18:46.919Z"
   },
   {
    "duration": 0,
    "start_time": "2023-07-26T16:18:47.041Z"
   },
   {
    "duration": 0,
    "start_time": "2023-07-26T16:18:47.043Z"
   },
   {
    "duration": 0,
    "start_time": "2023-07-26T16:18:47.044Z"
   },
   {
    "duration": 0,
    "start_time": "2023-07-26T16:18:47.046Z"
   },
   {
    "duration": 0,
    "start_time": "2023-07-26T16:18:47.047Z"
   },
   {
    "duration": 0,
    "start_time": "2023-07-26T16:18:47.048Z"
   },
   {
    "duration": 0,
    "start_time": "2023-07-26T16:18:47.050Z"
   },
   {
    "duration": 0,
    "start_time": "2023-07-26T16:18:47.051Z"
   },
   {
    "duration": 0,
    "start_time": "2023-07-26T16:18:47.053Z"
   },
   {
    "duration": 0,
    "start_time": "2023-07-26T16:18:47.079Z"
   },
   {
    "duration": 0,
    "start_time": "2023-07-26T16:18:47.080Z"
   },
   {
    "duration": 0,
    "start_time": "2023-07-26T16:18:47.081Z"
   },
   {
    "duration": 0,
    "start_time": "2023-07-26T16:18:47.082Z"
   },
   {
    "duration": 0,
    "start_time": "2023-07-26T16:18:47.084Z"
   },
   {
    "duration": 0,
    "start_time": "2023-07-26T16:18:47.085Z"
   },
   {
    "duration": 0,
    "start_time": "2023-07-26T16:18:47.086Z"
   },
   {
    "duration": 0,
    "start_time": "2023-07-26T16:18:47.088Z"
   },
   {
    "duration": 0,
    "start_time": "2023-07-26T16:18:47.089Z"
   },
   {
    "duration": 0,
    "start_time": "2023-07-26T16:18:47.090Z"
   },
   {
    "duration": 0,
    "start_time": "2023-07-26T16:18:47.091Z"
   },
   {
    "duration": 0,
    "start_time": "2023-07-26T16:18:47.092Z"
   },
   {
    "duration": 0,
    "start_time": "2023-07-26T16:18:47.094Z"
   },
   {
    "duration": 0,
    "start_time": "2023-07-26T16:18:47.095Z"
   },
   {
    "duration": 5,
    "start_time": "2023-07-26T16:19:23.066Z"
   },
   {
    "duration": 6,
    "start_time": "2023-07-26T16:19:32.083Z"
   },
   {
    "duration": 1173,
    "start_time": "2023-07-26T16:19:44.636Z"
   },
   {
    "duration": 61,
    "start_time": "2023-07-26T16:19:45.811Z"
   },
   {
    "duration": 19,
    "start_time": "2023-07-26T16:19:45.874Z"
   },
   {
    "duration": 34,
    "start_time": "2023-07-26T16:19:45.895Z"
   },
   {
    "duration": 31,
    "start_time": "2023-07-26T16:19:45.930Z"
   },
   {
    "duration": 26,
    "start_time": "2023-07-26T16:19:45.962Z"
   },
   {
    "duration": 14,
    "start_time": "2023-07-26T16:19:45.990Z"
   },
   {
    "duration": 27,
    "start_time": "2023-07-26T16:19:46.006Z"
   },
   {
    "duration": 18,
    "start_time": "2023-07-26T16:19:46.035Z"
   },
   {
    "duration": 33,
    "start_time": "2023-07-26T16:19:46.055Z"
   },
   {
    "duration": 10,
    "start_time": "2023-07-26T16:19:46.090Z"
   },
   {
    "duration": 44,
    "start_time": "2023-07-26T16:19:46.102Z"
   },
   {
    "duration": 23,
    "start_time": "2023-07-26T16:19:46.148Z"
   },
   {
    "duration": 32,
    "start_time": "2023-07-26T16:19:46.172Z"
   },
   {
    "duration": 31,
    "start_time": "2023-07-26T16:19:46.205Z"
   },
   {
    "duration": 15,
    "start_time": "2023-07-26T16:19:46.238Z"
   },
   {
    "duration": 10,
    "start_time": "2023-07-26T16:19:46.254Z"
   },
   {
    "duration": 20,
    "start_time": "2023-07-26T16:19:46.265Z"
   },
   {
    "duration": 37,
    "start_time": "2023-07-26T16:19:46.286Z"
   },
   {
    "duration": 17,
    "start_time": "2023-07-26T16:19:46.324Z"
   },
   {
    "duration": 38,
    "start_time": "2023-07-26T16:19:46.342Z"
   },
   {
    "duration": 7,
    "start_time": "2023-07-26T16:19:46.387Z"
   },
   {
    "duration": 19,
    "start_time": "2023-07-26T16:19:46.398Z"
   },
   {
    "duration": 17,
    "start_time": "2023-07-26T16:19:46.419Z"
   },
   {
    "duration": 35,
    "start_time": "2023-07-26T16:19:46.437Z"
   },
   {
    "duration": 33,
    "start_time": "2023-07-26T16:19:46.473Z"
   },
   {
    "duration": 6,
    "start_time": "2023-07-26T16:19:46.507Z"
   },
   {
    "duration": 35,
    "start_time": "2023-07-26T16:19:46.516Z"
   },
   {
    "duration": 79,
    "start_time": "2023-07-26T16:19:46.552Z"
   },
   {
    "duration": 19,
    "start_time": "2023-07-26T16:19:46.632Z"
   },
   {
    "duration": 8,
    "start_time": "2023-07-26T16:19:46.652Z"
   },
   {
    "duration": 474,
    "start_time": "2023-07-26T16:19:46.675Z"
   },
   {
    "duration": 6,
    "start_time": "2023-07-26T16:19:47.151Z"
   },
   {
    "duration": 980,
    "start_time": "2023-07-26T16:19:47.158Z"
   },
   {
    "duration": 23,
    "start_time": "2023-07-26T16:19:48.140Z"
   },
   {
    "duration": 15,
    "start_time": "2023-07-26T16:19:48.164Z"
   },
   {
    "duration": 328,
    "start_time": "2023-07-26T16:19:48.182Z"
   },
   {
    "duration": 23,
    "start_time": "2023-07-26T16:19:48.512Z"
   },
   {
    "duration": 208,
    "start_time": "2023-07-26T16:19:48.537Z"
   },
   {
    "duration": 8,
    "start_time": "2023-07-26T16:19:48.746Z"
   },
   {
    "duration": 7,
    "start_time": "2023-07-26T16:19:48.756Z"
   },
   {
    "duration": 22,
    "start_time": "2023-07-26T16:19:48.764Z"
   },
   {
    "duration": 133,
    "start_time": "2023-07-26T16:19:48.787Z"
   },
   {
    "duration": 4,
    "start_time": "2023-07-26T16:19:48.922Z"
   },
   {
    "duration": 158,
    "start_time": "2023-07-26T16:19:48.928Z"
   },
   {
    "duration": 5,
    "start_time": "2023-07-26T16:19:49.088Z"
   },
   {
    "duration": 14,
    "start_time": "2023-07-26T16:19:49.094Z"
   },
   {
    "duration": 143,
    "start_time": "2023-07-26T16:19:49.110Z"
   },
   {
    "duration": 106,
    "start_time": "2023-07-26T16:19:49.255Z"
   },
   {
    "duration": 0,
    "start_time": "2023-07-26T16:19:49.363Z"
   },
   {
    "duration": 0,
    "start_time": "2023-07-26T16:19:49.364Z"
   },
   {
    "duration": 0,
    "start_time": "2023-07-26T16:19:49.365Z"
   },
   {
    "duration": 0,
    "start_time": "2023-07-26T16:19:49.374Z"
   },
   {
    "duration": 0,
    "start_time": "2023-07-26T16:19:49.375Z"
   },
   {
    "duration": 0,
    "start_time": "2023-07-26T16:19:49.376Z"
   },
   {
    "duration": 0,
    "start_time": "2023-07-26T16:19:49.377Z"
   },
   {
    "duration": 0,
    "start_time": "2023-07-26T16:19:49.378Z"
   },
   {
    "duration": 0,
    "start_time": "2023-07-26T16:19:49.378Z"
   },
   {
    "duration": 0,
    "start_time": "2023-07-26T16:19:49.379Z"
   },
   {
    "duration": 0,
    "start_time": "2023-07-26T16:19:49.380Z"
   },
   {
    "duration": 0,
    "start_time": "2023-07-26T16:19:49.381Z"
   },
   {
    "duration": 0,
    "start_time": "2023-07-26T16:19:49.382Z"
   },
   {
    "duration": 0,
    "start_time": "2023-07-26T16:19:49.382Z"
   },
   {
    "duration": 0,
    "start_time": "2023-07-26T16:19:49.383Z"
   },
   {
    "duration": 0,
    "start_time": "2023-07-26T16:19:49.384Z"
   },
   {
    "duration": 0,
    "start_time": "2023-07-26T16:19:49.385Z"
   },
   {
    "duration": 0,
    "start_time": "2023-07-26T16:19:49.386Z"
   },
   {
    "duration": 11,
    "start_time": "2023-07-26T16:20:10.094Z"
   },
   {
    "duration": 189,
    "start_time": "2023-07-26T16:20:13.730Z"
   },
   {
    "duration": 5,
    "start_time": "2023-07-26T16:20:18.947Z"
   },
   {
    "duration": 710,
    "start_time": "2023-07-26T16:20:21.940Z"
   },
   {
    "duration": 837,
    "start_time": "2023-07-26T16:20:24.389Z"
   },
   {
    "duration": 382,
    "start_time": "2023-07-26T16:20:28.362Z"
   },
   {
    "duration": 410,
    "start_time": "2023-07-26T16:20:30.590Z"
   },
   {
    "duration": 13,
    "start_time": "2023-07-26T16:20:33.201Z"
   },
   {
    "duration": 17,
    "start_time": "2023-07-26T16:20:35.078Z"
   },
   {
    "duration": 5,
    "start_time": "2023-07-26T16:20:39.346Z"
   },
   {
    "duration": 1385,
    "start_time": "2023-07-26T16:20:54.265Z"
   },
   {
    "duration": 85,
    "start_time": "2023-07-26T16:20:55.652Z"
   },
   {
    "duration": 19,
    "start_time": "2023-07-26T16:20:55.738Z"
   },
   {
    "duration": 22,
    "start_time": "2023-07-26T16:20:55.759Z"
   },
   {
    "duration": 19,
    "start_time": "2023-07-26T16:20:55.783Z"
   },
   {
    "duration": 24,
    "start_time": "2023-07-26T16:20:55.804Z"
   },
   {
    "duration": 11,
    "start_time": "2023-07-26T16:20:55.829Z"
   },
   {
    "duration": 15,
    "start_time": "2023-07-26T16:20:55.842Z"
   },
   {
    "duration": 17,
    "start_time": "2023-07-26T16:20:55.859Z"
   },
   {
    "duration": 19,
    "start_time": "2023-07-26T16:20:55.878Z"
   },
   {
    "duration": 6,
    "start_time": "2023-07-26T16:20:55.899Z"
   },
   {
    "duration": 21,
    "start_time": "2023-07-26T16:20:55.907Z"
   },
   {
    "duration": 7,
    "start_time": "2023-07-26T16:20:55.929Z"
   },
   {
    "duration": 12,
    "start_time": "2023-07-26T16:20:55.938Z"
   },
   {
    "duration": 44,
    "start_time": "2023-07-26T16:20:55.951Z"
   },
   {
    "duration": 22,
    "start_time": "2023-07-26T16:20:55.997Z"
   },
   {
    "duration": 24,
    "start_time": "2023-07-26T16:20:56.021Z"
   },
   {
    "duration": 9,
    "start_time": "2023-07-26T16:20:56.047Z"
   },
   {
    "duration": 43,
    "start_time": "2023-07-26T16:20:56.058Z"
   },
   {
    "duration": 19,
    "start_time": "2023-07-26T16:20:56.103Z"
   },
   {
    "duration": 21,
    "start_time": "2023-07-26T16:20:56.123Z"
   },
   {
    "duration": 9,
    "start_time": "2023-07-26T16:20:56.146Z"
   },
   {
    "duration": 7,
    "start_time": "2023-07-26T16:20:56.157Z"
   },
   {
    "duration": 7,
    "start_time": "2023-07-26T16:20:56.176Z"
   },
   {
    "duration": 24,
    "start_time": "2023-07-26T16:20:56.185Z"
   },
   {
    "duration": 16,
    "start_time": "2023-07-26T16:20:56.210Z"
   },
   {
    "duration": 6,
    "start_time": "2023-07-26T16:20:56.229Z"
   },
   {
    "duration": 47,
    "start_time": "2023-07-26T16:20:56.239Z"
   },
   {
    "duration": 82,
    "start_time": "2023-07-26T16:20:56.289Z"
   },
   {
    "duration": 24,
    "start_time": "2023-07-26T16:20:56.374Z"
   },
   {
    "duration": 28,
    "start_time": "2023-07-26T16:20:56.399Z"
   },
   {
    "duration": 471,
    "start_time": "2023-07-26T16:20:56.430Z"
   },
   {
    "duration": 7,
    "start_time": "2023-07-26T16:20:56.903Z"
   },
   {
    "duration": 1002,
    "start_time": "2023-07-26T16:20:56.911Z"
   },
   {
    "duration": 27,
    "start_time": "2023-07-26T16:20:57.914Z"
   },
   {
    "duration": 6,
    "start_time": "2023-07-26T16:20:57.942Z"
   },
   {
    "duration": 376,
    "start_time": "2023-07-26T16:20:57.950Z"
   },
   {
    "duration": 33,
    "start_time": "2023-07-26T16:20:58.328Z"
   },
   {
    "duration": 203,
    "start_time": "2023-07-26T16:20:58.364Z"
   },
   {
    "duration": 16,
    "start_time": "2023-07-26T16:20:58.569Z"
   },
   {
    "duration": 9,
    "start_time": "2023-07-26T16:20:58.586Z"
   },
   {
    "duration": 21,
    "start_time": "2023-07-26T16:20:58.596Z"
   },
   {
    "duration": 150,
    "start_time": "2023-07-26T16:20:58.620Z"
   },
   {
    "duration": 11,
    "start_time": "2023-07-26T16:20:58.771Z"
   },
   {
    "duration": 146,
    "start_time": "2023-07-26T16:20:58.789Z"
   },
   {
    "duration": 5,
    "start_time": "2023-07-26T16:20:58.937Z"
   },
   {
    "duration": 12,
    "start_time": "2023-07-26T16:20:58.945Z"
   },
   {
    "duration": 151,
    "start_time": "2023-07-26T16:20:58.959Z"
   },
   {
    "duration": 5,
    "start_time": "2023-07-26T16:20:59.113Z"
   },
   {
    "duration": 144,
    "start_time": "2023-07-26T16:20:59.119Z"
   },
   {
    "duration": 14,
    "start_time": "2023-07-26T16:20:59.265Z"
   },
   {
    "duration": 736,
    "start_time": "2023-07-26T16:20:59.281Z"
   },
   {
    "duration": 783,
    "start_time": "2023-07-26T16:21:00.018Z"
   },
   {
    "duration": 411,
    "start_time": "2023-07-26T16:21:00.804Z"
   },
   {
    "duration": 394,
    "start_time": "2023-07-26T16:21:01.216Z"
   },
   {
    "duration": 15,
    "start_time": "2023-07-26T16:21:01.613Z"
   },
   {
    "duration": 94,
    "start_time": "2023-07-26T16:21:01.629Z"
   },
   {
    "duration": 75,
    "start_time": "2023-07-26T16:21:01.724Z"
   },
   {
    "duration": 493,
    "start_time": "2023-07-26T16:21:01.800Z"
   },
   {
    "duration": 610,
    "start_time": "2023-07-26T16:21:02.296Z"
   },
   {
    "duration": 334,
    "start_time": "2023-07-26T16:21:02.909Z"
   },
   {
    "duration": 5,
    "start_time": "2023-07-26T16:21:03.246Z"
   },
   {
    "duration": 34,
    "start_time": "2023-07-26T16:21:03.253Z"
   },
   {
    "duration": 30,
    "start_time": "2023-07-26T16:21:03.288Z"
   },
   {
    "duration": 41,
    "start_time": "2023-07-26T16:21:03.320Z"
   },
   {
    "duration": 42,
    "start_time": "2023-07-26T16:21:03.363Z"
   },
   {
    "duration": 24,
    "start_time": "2023-07-26T16:21:45.760Z"
   },
   {
    "duration": 12,
    "start_time": "2023-07-26T16:22:11.072Z"
   },
   {
    "duration": 9,
    "start_time": "2023-07-26T16:22:23.961Z"
   },
   {
    "duration": 6,
    "start_time": "2023-07-26T16:22:36.143Z"
   },
   {
    "duration": 7,
    "start_time": "2023-07-26T16:24:25.595Z"
   },
   {
    "duration": 240,
    "start_time": "2023-07-26T16:31:08.298Z"
   },
   {
    "duration": 271,
    "start_time": "2023-07-26T16:32:10.634Z"
   },
   {
    "duration": 288,
    "start_time": "2023-07-26T16:33:08.441Z"
   },
   {
    "duration": 355,
    "start_time": "2023-07-26T16:34:03.883Z"
   },
   {
    "duration": 282,
    "start_time": "2023-07-26T16:34:06.100Z"
   },
   {
    "duration": 301,
    "start_time": "2023-07-26T16:34:08.033Z"
   },
   {
    "duration": 298,
    "start_time": "2023-07-26T16:34:43.697Z"
   },
   {
    "duration": 269,
    "start_time": "2023-07-26T16:34:48.802Z"
   },
   {
    "duration": 239,
    "start_time": "2023-07-26T16:35:32.770Z"
   },
   {
    "duration": 325,
    "start_time": "2023-07-26T16:35:51.789Z"
   },
   {
    "duration": 247,
    "start_time": "2023-07-26T16:36:11.378Z"
   },
   {
    "duration": 267,
    "start_time": "2023-07-26T16:36:51.969Z"
   },
   {
    "duration": 234,
    "start_time": "2023-07-26T16:36:56.297Z"
   },
   {
    "duration": 269,
    "start_time": "2023-07-26T16:41:47.019Z"
   },
   {
    "duration": 244,
    "start_time": "2023-07-26T16:42:16.277Z"
   },
   {
    "duration": 344,
    "start_time": "2023-07-26T16:42:36.914Z"
   },
   {
    "duration": 244,
    "start_time": "2023-07-26T16:43:11.673Z"
   },
   {
    "duration": 108,
    "start_time": "2023-07-26T16:50:42.194Z"
   },
   {
    "duration": 1231,
    "start_time": "2023-07-26T16:52:22.105Z"
   },
   {
    "duration": 73,
    "start_time": "2023-07-26T16:52:23.339Z"
   },
   {
    "duration": 17,
    "start_time": "2023-07-26T16:52:23.414Z"
   },
   {
    "duration": 29,
    "start_time": "2023-07-26T16:52:23.432Z"
   },
   {
    "duration": 40,
    "start_time": "2023-07-26T16:52:23.463Z"
   },
   {
    "duration": 15,
    "start_time": "2023-07-26T16:52:23.506Z"
   },
   {
    "duration": 42,
    "start_time": "2023-07-26T16:52:23.523Z"
   },
   {
    "duration": 48,
    "start_time": "2023-07-26T16:52:23.567Z"
   },
   {
    "duration": 32,
    "start_time": "2023-07-26T16:52:23.616Z"
   },
   {
    "duration": 51,
    "start_time": "2023-07-26T16:52:23.650Z"
   },
   {
    "duration": 21,
    "start_time": "2023-07-26T16:52:23.703Z"
   },
   {
    "duration": 34,
    "start_time": "2023-07-26T16:52:23.725Z"
   },
   {
    "duration": 7,
    "start_time": "2023-07-26T16:52:23.761Z"
   },
   {
    "duration": 20,
    "start_time": "2023-07-26T16:52:23.771Z"
   },
   {
    "duration": 62,
    "start_time": "2023-07-26T16:52:23.796Z"
   },
   {
    "duration": 36,
    "start_time": "2023-07-26T16:52:23.860Z"
   },
   {
    "duration": 8,
    "start_time": "2023-07-26T16:52:23.900Z"
   },
   {
    "duration": 25,
    "start_time": "2023-07-26T16:52:23.911Z"
   },
   {
    "duration": 55,
    "start_time": "2023-07-26T16:52:23.938Z"
   },
   {
    "duration": 15,
    "start_time": "2023-07-26T16:52:23.999Z"
   },
   {
    "duration": 27,
    "start_time": "2023-07-26T16:52:24.016Z"
   },
   {
    "duration": 48,
    "start_time": "2023-07-26T16:52:24.045Z"
   },
   {
    "duration": 18,
    "start_time": "2023-07-26T16:52:24.097Z"
   },
   {
    "duration": 31,
    "start_time": "2023-07-26T16:52:24.117Z"
   },
   {
    "duration": 54,
    "start_time": "2023-07-26T16:52:24.150Z"
   },
   {
    "duration": 41,
    "start_time": "2023-07-26T16:52:24.206Z"
   },
   {
    "duration": 11,
    "start_time": "2023-07-26T16:52:24.249Z"
   },
   {
    "duration": 61,
    "start_time": "2023-07-26T16:52:24.261Z"
   },
   {
    "duration": 120,
    "start_time": "2023-07-26T16:52:24.324Z"
   },
   {
    "duration": 22,
    "start_time": "2023-07-26T16:52:24.445Z"
   },
   {
    "duration": 39,
    "start_time": "2023-07-26T16:52:24.477Z"
   },
   {
    "duration": 544,
    "start_time": "2023-07-26T16:52:24.518Z"
   },
   {
    "duration": 15,
    "start_time": "2023-07-26T16:52:25.065Z"
   },
   {
    "duration": 1060,
    "start_time": "2023-07-26T16:52:25.082Z"
   },
   {
    "duration": 36,
    "start_time": "2023-07-26T16:52:26.144Z"
   },
   {
    "duration": 9,
    "start_time": "2023-07-26T16:52:26.182Z"
   },
   {
    "duration": 335,
    "start_time": "2023-07-26T16:52:26.193Z"
   },
   {
    "duration": 21,
    "start_time": "2023-07-26T16:52:26.530Z"
   },
   {
    "duration": 193,
    "start_time": "2023-07-26T16:52:26.553Z"
   },
   {
    "duration": 7,
    "start_time": "2023-07-26T16:52:26.747Z"
   },
   {
    "duration": 20,
    "start_time": "2023-07-26T16:52:26.757Z"
   },
   {
    "duration": 29,
    "start_time": "2023-07-26T16:52:26.781Z"
   },
   {
    "duration": 169,
    "start_time": "2023-07-26T16:52:26.812Z"
   },
   {
    "duration": 13,
    "start_time": "2023-07-26T16:52:26.985Z"
   },
   {
    "duration": 129,
    "start_time": "2023-07-26T16:52:27.006Z"
   },
   {
    "duration": 5,
    "start_time": "2023-07-26T16:52:27.136Z"
   },
   {
    "duration": 15,
    "start_time": "2023-07-26T16:52:27.142Z"
   },
   {
    "duration": 165,
    "start_time": "2023-07-26T16:52:27.159Z"
   },
   {
    "duration": 5,
    "start_time": "2023-07-26T16:52:27.326Z"
   },
   {
    "duration": 157,
    "start_time": "2023-07-26T16:52:27.332Z"
   },
   {
    "duration": 11,
    "start_time": "2023-07-26T16:52:27.490Z"
   },
   {
    "duration": 732,
    "start_time": "2023-07-26T16:52:27.505Z"
   },
   {
    "duration": 600,
    "start_time": "2023-07-26T16:52:28.238Z"
   },
   {
    "duration": 394,
    "start_time": "2023-07-26T16:52:28.840Z"
   },
   {
    "duration": 428,
    "start_time": "2023-07-26T16:52:29.236Z"
   },
   {
    "duration": 37,
    "start_time": "2023-07-26T16:52:29.666Z"
   },
   {
    "duration": 17,
    "start_time": "2023-07-26T16:52:29.707Z"
   },
   {
    "duration": 261,
    "start_time": "2023-07-26T16:52:29.726Z"
   },
   {
    "duration": 259,
    "start_time": "2023-07-26T16:52:29.989Z"
   },
   {
    "duration": 375,
    "start_time": "2023-07-26T16:52:30.249Z"
   },
   {
    "duration": 6,
    "start_time": "2023-07-26T16:52:30.626Z"
   },
   {
    "duration": 61,
    "start_time": "2023-07-26T16:52:30.634Z"
   },
   {
    "duration": 22,
    "start_time": "2023-07-26T16:52:30.702Z"
   },
   {
    "duration": 69,
    "start_time": "2023-07-26T16:52:30.726Z"
   },
   {
    "duration": 175,
    "start_time": "2023-07-26T16:52:30.796Z"
   },
   {
    "duration": 1308,
    "start_time": "2023-07-27T00:10:41.357Z"
   },
   {
    "duration": 104,
    "start_time": "2023-07-27T00:10:42.667Z"
   },
   {
    "duration": 19,
    "start_time": "2023-07-27T00:10:42.773Z"
   },
   {
    "duration": 20,
    "start_time": "2023-07-27T00:10:42.794Z"
   },
   {
    "duration": 31,
    "start_time": "2023-07-27T00:10:42.817Z"
   },
   {
    "duration": 21,
    "start_time": "2023-07-27T00:10:42.850Z"
   },
   {
    "duration": 8,
    "start_time": "2023-07-27T00:10:42.873Z"
   },
   {
    "duration": 17,
    "start_time": "2023-07-27T00:10:42.883Z"
   },
   {
    "duration": 22,
    "start_time": "2023-07-27T00:10:42.902Z"
   },
   {
    "duration": 5,
    "start_time": "2023-07-27T00:10:42.926Z"
   },
   {
    "duration": 23,
    "start_time": "2023-07-27T00:10:42.932Z"
   },
   {
    "duration": 35,
    "start_time": "2023-07-27T00:10:42.956Z"
   },
   {
    "duration": 6,
    "start_time": "2023-07-27T00:10:42.993Z"
   },
   {
    "duration": 13,
    "start_time": "2023-07-27T00:10:43.002Z"
   },
   {
    "duration": 28,
    "start_time": "2023-07-27T00:10:43.016Z"
   },
   {
    "duration": 12,
    "start_time": "2023-07-27T00:10:43.046Z"
   },
   {
    "duration": 4,
    "start_time": "2023-07-27T00:10:43.060Z"
   },
   {
    "duration": 5,
    "start_time": "2023-07-27T00:10:43.066Z"
   },
   {
    "duration": 34,
    "start_time": "2023-07-27T00:10:43.072Z"
   },
   {
    "duration": 12,
    "start_time": "2023-07-27T00:10:43.107Z"
   },
   {
    "duration": 12,
    "start_time": "2023-07-27T00:10:43.120Z"
   },
   {
    "duration": 5,
    "start_time": "2023-07-27T00:10:43.133Z"
   },
   {
    "duration": 4,
    "start_time": "2023-07-27T00:10:43.140Z"
   },
   {
    "duration": 4,
    "start_time": "2023-07-27T00:10:43.146Z"
   },
   {
    "duration": 45,
    "start_time": "2023-07-27T00:10:43.152Z"
   },
   {
    "duration": 17,
    "start_time": "2023-07-27T00:10:43.199Z"
   },
   {
    "duration": 7,
    "start_time": "2023-07-27T00:10:43.217Z"
   },
   {
    "duration": 19,
    "start_time": "2023-07-27T00:10:43.225Z"
   },
   {
    "duration": 103,
    "start_time": "2023-07-27T00:10:43.245Z"
   },
   {
    "duration": 19,
    "start_time": "2023-07-27T00:10:43.349Z"
   },
   {
    "duration": 25,
    "start_time": "2023-07-27T00:10:43.369Z"
   },
   {
    "duration": 476,
    "start_time": "2023-07-27T00:10:43.395Z"
   },
   {
    "duration": 14,
    "start_time": "2023-07-27T00:10:43.873Z"
   },
   {
    "duration": 1187,
    "start_time": "2023-07-27T00:10:43.889Z"
   },
   {
    "duration": 38,
    "start_time": "2023-07-27T00:10:45.078Z"
   },
   {
    "duration": 6,
    "start_time": "2023-07-27T00:10:45.118Z"
   },
   {
    "duration": 389,
    "start_time": "2023-07-27T00:10:45.125Z"
   },
   {
    "duration": 25,
    "start_time": "2023-07-27T00:10:45.516Z"
   },
   {
    "duration": 200,
    "start_time": "2023-07-27T00:10:45.543Z"
   },
   {
    "duration": 8,
    "start_time": "2023-07-27T00:10:45.745Z"
   },
   {
    "duration": 14,
    "start_time": "2023-07-27T00:10:45.757Z"
   },
   {
    "duration": 17,
    "start_time": "2023-07-27T00:10:45.773Z"
   },
   {
    "duration": 155,
    "start_time": "2023-07-27T00:10:45.791Z"
   },
   {
    "duration": 5,
    "start_time": "2023-07-27T00:10:45.948Z"
   },
   {
    "duration": 170,
    "start_time": "2023-07-27T00:10:45.954Z"
   },
   {
    "duration": 4,
    "start_time": "2023-07-27T00:10:46.126Z"
   },
   {
    "duration": 28,
    "start_time": "2023-07-27T00:10:46.132Z"
   },
   {
    "duration": 154,
    "start_time": "2023-07-27T00:10:46.162Z"
   },
   {
    "duration": 5,
    "start_time": "2023-07-27T00:10:46.318Z"
   },
   {
    "duration": 159,
    "start_time": "2023-07-27T00:10:46.325Z"
   },
   {
    "duration": 6,
    "start_time": "2023-07-27T00:10:46.486Z"
   },
   {
    "duration": 800,
    "start_time": "2023-07-27T00:10:46.494Z"
   },
   {
    "duration": 631,
    "start_time": "2023-07-27T00:10:47.296Z"
   },
   {
    "duration": 405,
    "start_time": "2023-07-27T00:10:47.929Z"
   },
   {
    "duration": 386,
    "start_time": "2023-07-27T00:10:48.335Z"
   },
   {
    "duration": 13,
    "start_time": "2023-07-27T00:10:48.723Z"
   },
   {
    "duration": 52,
    "start_time": "2023-07-27T00:10:48.738Z"
   },
   {
    "duration": 265,
    "start_time": "2023-07-27T00:10:48.792Z"
   },
   {
    "duration": 270,
    "start_time": "2023-07-27T00:10:49.059Z"
   },
   {
    "duration": 351,
    "start_time": "2023-07-27T00:10:49.330Z"
   },
   {
    "duration": 7,
    "start_time": "2023-07-27T00:10:49.683Z"
   },
   {
    "duration": 51,
    "start_time": "2023-07-27T00:10:49.691Z"
   },
   {
    "duration": 11,
    "start_time": "2023-07-27T00:10:49.744Z"
   },
   {
    "duration": 19,
    "start_time": "2023-07-27T00:10:49.757Z"
   },
   {
    "duration": 7,
    "start_time": "2023-07-27T00:10:49.778Z"
   },
   {
    "duration": 51,
    "start_time": "2023-07-27T00:46:17.190Z"
   },
   {
    "duration": 1492,
    "start_time": "2023-07-27T00:46:23.967Z"
   },
   {
    "duration": 106,
    "start_time": "2023-07-27T00:46:25.461Z"
   },
   {
    "duration": 19,
    "start_time": "2023-07-27T00:46:25.569Z"
   },
   {
    "duration": 14,
    "start_time": "2023-07-27T00:46:25.589Z"
   },
   {
    "duration": 25,
    "start_time": "2023-07-27T00:46:25.605Z"
   },
   {
    "duration": 21,
    "start_time": "2023-07-27T00:46:25.631Z"
   },
   {
    "duration": 20,
    "start_time": "2023-07-27T00:46:25.654Z"
   },
   {
    "duration": 22,
    "start_time": "2023-07-27T00:46:25.676Z"
   },
   {
    "duration": 20,
    "start_time": "2023-07-27T00:46:25.700Z"
   },
   {
    "duration": 26,
    "start_time": "2023-07-27T00:46:25.722Z"
   },
   {
    "duration": 44,
    "start_time": "2023-07-27T00:46:25.750Z"
   },
   {
    "duration": 41,
    "start_time": "2023-07-27T00:46:25.796Z"
   },
   {
    "duration": 9,
    "start_time": "2023-07-27T00:46:25.839Z"
   },
   {
    "duration": 29,
    "start_time": "2023-07-27T00:46:25.852Z"
   },
   {
    "duration": 26,
    "start_time": "2023-07-27T00:46:25.883Z"
   },
   {
    "duration": 27,
    "start_time": "2023-07-27T00:46:25.912Z"
   },
   {
    "duration": 19,
    "start_time": "2023-07-27T00:46:25.941Z"
   },
   {
    "duration": 27,
    "start_time": "2023-07-27T00:46:25.962Z"
   },
   {
    "duration": 64,
    "start_time": "2023-07-27T00:46:25.991Z"
   },
   {
    "duration": 13,
    "start_time": "2023-07-27T00:46:26.057Z"
   },
   {
    "duration": 35,
    "start_time": "2023-07-27T00:46:26.072Z"
   },
   {
    "duration": 21,
    "start_time": "2023-07-27T00:46:26.108Z"
   },
   {
    "duration": 39,
    "start_time": "2023-07-27T00:46:26.131Z"
   },
   {
    "duration": 23,
    "start_time": "2023-07-27T00:46:26.172Z"
   },
   {
    "duration": 39,
    "start_time": "2023-07-27T00:46:26.197Z"
   },
   {
    "duration": 20,
    "start_time": "2023-07-27T00:46:26.238Z"
   },
   {
    "duration": 15,
    "start_time": "2023-07-27T00:46:26.260Z"
   },
   {
    "duration": 62,
    "start_time": "2023-07-27T00:46:26.277Z"
   },
   {
    "duration": 84,
    "start_time": "2023-07-27T00:46:26.341Z"
   },
   {
    "duration": 18,
    "start_time": "2023-07-27T00:46:26.427Z"
   },
   {
    "duration": 9,
    "start_time": "2023-07-27T00:46:26.447Z"
   },
   {
    "duration": 479,
    "start_time": "2023-07-27T00:46:26.458Z"
   },
   {
    "duration": 7,
    "start_time": "2023-07-27T00:46:26.939Z"
   },
   {
    "duration": 990,
    "start_time": "2023-07-27T00:46:26.947Z"
   },
   {
    "duration": 25,
    "start_time": "2023-07-27T00:46:27.938Z"
   },
   {
    "duration": 5,
    "start_time": "2023-07-27T00:46:27.965Z"
   },
   {
    "duration": 380,
    "start_time": "2023-07-27T00:46:27.986Z"
   },
   {
    "duration": 25,
    "start_time": "2023-07-27T00:46:28.369Z"
   },
   {
    "duration": 194,
    "start_time": "2023-07-27T00:46:28.396Z"
   },
   {
    "duration": 8,
    "start_time": "2023-07-27T00:46:28.593Z"
   },
   {
    "duration": 55,
    "start_time": "2023-07-27T00:46:28.606Z"
   },
   {
    "duration": 40,
    "start_time": "2023-07-27T00:46:28.663Z"
   },
   {
    "duration": 165,
    "start_time": "2023-07-27T00:46:28.705Z"
   },
   {
    "duration": 5,
    "start_time": "2023-07-27T00:46:28.873Z"
   },
   {
    "duration": 155,
    "start_time": "2023-07-27T00:46:28.887Z"
   },
   {
    "duration": 6,
    "start_time": "2023-07-27T00:46:29.044Z"
   },
   {
    "duration": 30,
    "start_time": "2023-07-27T00:46:29.052Z"
   },
   {
    "duration": 156,
    "start_time": "2023-07-27T00:46:29.084Z"
   },
   {
    "duration": 6,
    "start_time": "2023-07-27T00:46:29.242Z"
   },
   {
    "duration": 161,
    "start_time": "2023-07-27T00:46:29.250Z"
   },
   {
    "duration": 5,
    "start_time": "2023-07-27T00:46:29.413Z"
   },
   {
    "duration": 769,
    "start_time": "2023-07-27T00:46:29.420Z"
   },
   {
    "duration": 643,
    "start_time": "2023-07-27T00:46:30.191Z"
   },
   {
    "duration": 449,
    "start_time": "2023-07-27T00:46:30.835Z"
   },
   {
    "duration": 366,
    "start_time": "2023-07-27T00:46:31.287Z"
   },
   {
    "duration": 13,
    "start_time": "2023-07-27T00:46:31.655Z"
   },
   {
    "duration": 58,
    "start_time": "2023-07-27T00:46:31.670Z"
   },
   {
    "duration": 320,
    "start_time": "2023-07-27T00:46:31.730Z"
   },
   {
    "duration": 278,
    "start_time": "2023-07-27T00:46:32.052Z"
   },
   {
    "duration": 361,
    "start_time": "2023-07-27T00:46:32.333Z"
   },
   {
    "duration": 6,
    "start_time": "2023-07-27T00:46:32.695Z"
   },
   {
    "duration": 35,
    "start_time": "2023-07-27T00:46:32.702Z"
   },
   {
    "duration": 32,
    "start_time": "2023-07-27T00:46:32.738Z"
   },
   {
    "duration": 35,
    "start_time": "2023-07-27T00:46:32.772Z"
   },
   {
    "duration": 32,
    "start_time": "2023-07-27T00:46:32.809Z"
   },
   {
    "duration": 333,
    "start_time": "2023-07-27T00:47:24.600Z"
   },
   {
    "duration": 268,
    "start_time": "2023-07-27T00:47:42.009Z"
   },
   {
    "duration": 265,
    "start_time": "2023-07-27T00:52:22.739Z"
   },
   {
    "duration": 309,
    "start_time": "2023-07-27T00:52:30.115Z"
   },
   {
    "duration": 326,
    "start_time": "2023-07-27T00:52:34.715Z"
   },
   {
    "duration": 387,
    "start_time": "2023-07-27T00:52:43.379Z"
   },
   {
    "duration": 291,
    "start_time": "2023-07-27T00:52:49.043Z"
   },
   {
    "duration": 290,
    "start_time": "2023-07-27T00:53:05.898Z"
   },
   {
    "duration": 296,
    "start_time": "2023-07-27T00:53:13.467Z"
   },
   {
    "duration": 379,
    "start_time": "2023-07-27T00:58:37.563Z"
   },
   {
    "duration": 302,
    "start_time": "2023-07-27T00:58:43.566Z"
   },
   {
    "duration": 60528,
    "start_time": "2023-07-27T00:59:13.854Z"
   },
   {
    "duration": 288,
    "start_time": "2023-07-27T01:01:52.960Z"
   },
   {
    "duration": 1211,
    "start_time": "2023-07-27T01:03:24.828Z"
   },
   {
    "duration": 63,
    "start_time": "2023-07-27T01:03:26.042Z"
   },
   {
    "duration": 18,
    "start_time": "2023-07-27T01:03:26.107Z"
   },
   {
    "duration": 15,
    "start_time": "2023-07-27T01:03:26.127Z"
   },
   {
    "duration": 14,
    "start_time": "2023-07-27T01:03:26.145Z"
   },
   {
    "duration": 31,
    "start_time": "2023-07-27T01:03:26.160Z"
   },
   {
    "duration": 7,
    "start_time": "2023-07-27T01:03:26.193Z"
   },
   {
    "duration": 16,
    "start_time": "2023-07-27T01:03:26.202Z"
   },
   {
    "duration": 12,
    "start_time": "2023-07-27T01:03:26.219Z"
   },
   {
    "duration": 8,
    "start_time": "2023-07-27T01:03:26.232Z"
   },
   {
    "duration": 18,
    "start_time": "2023-07-27T01:03:26.241Z"
   },
   {
    "duration": 37,
    "start_time": "2023-07-27T01:03:26.261Z"
   },
   {
    "duration": 19,
    "start_time": "2023-07-27T01:03:26.300Z"
   },
   {
    "duration": 38,
    "start_time": "2023-07-27T01:03:26.322Z"
   },
   {
    "duration": 19,
    "start_time": "2023-07-27T01:03:26.361Z"
   },
   {
    "duration": 17,
    "start_time": "2023-07-27T01:03:26.382Z"
   },
   {
    "duration": 23,
    "start_time": "2023-07-27T01:03:26.400Z"
   },
   {
    "duration": 33,
    "start_time": "2023-07-27T01:03:26.424Z"
   },
   {
    "duration": 48,
    "start_time": "2023-07-27T01:03:26.459Z"
   },
   {
    "duration": 11,
    "start_time": "2023-07-27T01:03:26.509Z"
   },
   {
    "duration": 14,
    "start_time": "2023-07-27T01:03:26.522Z"
   },
   {
    "duration": 5,
    "start_time": "2023-07-27T01:03:26.537Z"
   },
   {
    "duration": 9,
    "start_time": "2023-07-27T01:03:26.543Z"
   },
   {
    "duration": 34,
    "start_time": "2023-07-27T01:03:26.553Z"
   },
   {
    "duration": 15,
    "start_time": "2023-07-27T01:03:26.589Z"
   },
   {
    "duration": 16,
    "start_time": "2023-07-27T01:03:26.606Z"
   },
   {
    "duration": 13,
    "start_time": "2023-07-27T01:03:26.624Z"
   },
   {
    "duration": 49,
    "start_time": "2023-07-27T01:03:26.639Z"
   },
   {
    "duration": 73,
    "start_time": "2023-07-27T01:03:26.690Z"
   },
   {
    "duration": 38,
    "start_time": "2023-07-27T01:03:26.765Z"
   },
   {
    "duration": 9,
    "start_time": "2023-07-27T01:03:26.805Z"
   },
   {
    "duration": 498,
    "start_time": "2023-07-27T01:03:26.815Z"
   },
   {
    "duration": 8,
    "start_time": "2023-07-27T01:03:27.314Z"
   },
   {
    "duration": 1021,
    "start_time": "2023-07-27T01:03:27.324Z"
   },
   {
    "duration": 25,
    "start_time": "2023-07-27T01:03:28.347Z"
   },
   {
    "duration": 18,
    "start_time": "2023-07-27T01:03:28.374Z"
   },
   {
    "duration": 368,
    "start_time": "2023-07-27T01:03:28.394Z"
   },
   {
    "duration": 24,
    "start_time": "2023-07-27T01:03:28.764Z"
   },
   {
    "duration": 194,
    "start_time": "2023-07-27T01:03:28.789Z"
   },
   {
    "duration": 7,
    "start_time": "2023-07-27T01:03:28.986Z"
   },
   {
    "duration": 6,
    "start_time": "2023-07-27T01:03:28.996Z"
   },
   {
    "duration": 12,
    "start_time": "2023-07-27T01:03:29.004Z"
   },
   {
    "duration": 178,
    "start_time": "2023-07-27T01:03:29.017Z"
   },
   {
    "duration": 4,
    "start_time": "2023-07-27T01:03:29.197Z"
   },
   {
    "duration": 150,
    "start_time": "2023-07-27T01:03:29.203Z"
   },
   {
    "duration": 5,
    "start_time": "2023-07-27T01:03:29.354Z"
   },
   {
    "duration": 9,
    "start_time": "2023-07-27T01:03:29.361Z"
   },
   {
    "duration": 156,
    "start_time": "2023-07-27T01:03:29.371Z"
   },
   {
    "duration": 5,
    "start_time": "2023-07-27T01:03:29.529Z"
   },
   {
    "duration": 159,
    "start_time": "2023-07-27T01:03:29.536Z"
   },
   {
    "duration": 6,
    "start_time": "2023-07-27T01:03:29.697Z"
   },
   {
    "duration": 764,
    "start_time": "2023-07-27T01:03:29.704Z"
   },
   {
    "duration": 649,
    "start_time": "2023-07-27T01:03:30.470Z"
   },
   {
    "duration": 361,
    "start_time": "2023-07-27T01:03:31.121Z"
   },
   {
    "duration": 374,
    "start_time": "2023-07-27T01:03:31.484Z"
   },
   {
    "duration": 29,
    "start_time": "2023-07-27T01:03:31.860Z"
   },
   {
    "duration": 13,
    "start_time": "2023-07-27T01:03:31.891Z"
   },
   {
    "duration": 317,
    "start_time": "2023-07-27T01:03:31.906Z"
   },
   {
    "duration": 380,
    "start_time": "2023-07-27T01:03:32.224Z"
   },
   {
    "duration": 417,
    "start_time": "2023-07-27T01:03:32.606Z"
   },
   {
    "duration": 5,
    "start_time": "2023-07-27T01:03:33.026Z"
   },
   {
    "duration": 28,
    "start_time": "2023-07-27T01:03:33.032Z"
   },
   {
    "duration": 7,
    "start_time": "2023-07-27T01:03:33.062Z"
   },
   {
    "duration": 19,
    "start_time": "2023-07-27T01:03:33.070Z"
   },
   {
    "duration": 5,
    "start_time": "2023-07-27T01:03:33.091Z"
   },
   {
    "duration": 1364,
    "start_time": "2023-07-27T12:21:23.870Z"
   },
   {
    "duration": 208,
    "start_time": "2023-07-27T12:21:25.236Z"
   },
   {
    "duration": 21,
    "start_time": "2023-07-27T12:21:25.446Z"
   },
   {
    "duration": 20,
    "start_time": "2023-07-27T12:21:25.469Z"
   },
   {
    "duration": 14,
    "start_time": "2023-07-27T12:21:25.492Z"
   },
   {
    "duration": 9,
    "start_time": "2023-07-27T12:21:25.508Z"
   },
   {
    "duration": 6,
    "start_time": "2023-07-27T12:21:25.519Z"
   },
   {
    "duration": 37,
    "start_time": "2023-07-27T12:21:25.526Z"
   },
   {
    "duration": 9,
    "start_time": "2023-07-27T12:21:25.565Z"
   },
   {
    "duration": 5,
    "start_time": "2023-07-27T12:21:25.575Z"
   },
   {
    "duration": 8,
    "start_time": "2023-07-27T12:21:25.582Z"
   },
   {
    "duration": 24,
    "start_time": "2023-07-27T12:21:25.592Z"
   },
   {
    "duration": 10,
    "start_time": "2023-07-27T12:21:25.618Z"
   },
   {
    "duration": 7,
    "start_time": "2023-07-27T12:21:25.660Z"
   },
   {
    "duration": 27,
    "start_time": "2023-07-27T12:21:25.669Z"
   },
   {
    "duration": 13,
    "start_time": "2023-07-27T12:21:25.698Z"
   },
   {
    "duration": 6,
    "start_time": "2023-07-27T12:21:25.712Z"
   },
   {
    "duration": 4,
    "start_time": "2023-07-27T12:21:25.720Z"
   },
   {
    "duration": 52,
    "start_time": "2023-07-27T12:21:25.726Z"
   },
   {
    "duration": 12,
    "start_time": "2023-07-27T12:21:25.780Z"
   },
   {
    "duration": 12,
    "start_time": "2023-07-27T12:21:25.794Z"
   },
   {
    "duration": 6,
    "start_time": "2023-07-27T12:21:25.807Z"
   },
   {
    "duration": 10,
    "start_time": "2023-07-27T12:21:25.814Z"
   },
   {
    "duration": 34,
    "start_time": "2023-07-27T12:21:25.826Z"
   },
   {
    "duration": 14,
    "start_time": "2023-07-27T12:21:25.862Z"
   },
   {
    "duration": 18,
    "start_time": "2023-07-27T12:21:25.878Z"
   },
   {
    "duration": 7,
    "start_time": "2023-07-27T12:21:25.898Z"
   },
   {
    "duration": 23,
    "start_time": "2023-07-27T12:21:25.907Z"
   },
   {
    "duration": 81,
    "start_time": "2023-07-27T12:21:25.959Z"
   },
   {
    "duration": 39,
    "start_time": "2023-07-27T12:21:26.042Z"
   },
   {
    "duration": 12,
    "start_time": "2023-07-27T12:21:26.084Z"
   },
   {
    "duration": 471,
    "start_time": "2023-07-27T12:21:26.098Z"
   },
   {
    "duration": 9,
    "start_time": "2023-07-27T12:21:26.571Z"
   },
   {
    "duration": 1004,
    "start_time": "2023-07-27T12:21:26.582Z"
   },
   {
    "duration": 27,
    "start_time": "2023-07-27T12:21:27.587Z"
   },
   {
    "duration": 6,
    "start_time": "2023-07-27T12:21:27.616Z"
   },
   {
    "duration": 354,
    "start_time": "2023-07-27T12:21:27.624Z"
   },
   {
    "duration": 35,
    "start_time": "2023-07-27T12:21:27.980Z"
   },
   {
    "duration": 216,
    "start_time": "2023-07-27T12:21:28.017Z"
   },
   {
    "duration": 9,
    "start_time": "2023-07-27T12:21:28.236Z"
   },
   {
    "duration": 14,
    "start_time": "2023-07-27T12:21:28.259Z"
   },
   {
    "duration": 9,
    "start_time": "2023-07-27T12:21:28.274Z"
   },
   {
    "duration": 151,
    "start_time": "2023-07-27T12:21:28.284Z"
   },
   {
    "duration": 5,
    "start_time": "2023-07-27T12:21:28.436Z"
   },
   {
    "duration": 198,
    "start_time": "2023-07-27T12:21:28.443Z"
   },
   {
    "duration": 5,
    "start_time": "2023-07-27T12:21:28.642Z"
   },
   {
    "duration": 8,
    "start_time": "2023-07-27T12:21:28.659Z"
   },
   {
    "duration": 168,
    "start_time": "2023-07-27T12:21:28.669Z"
   },
   {
    "duration": 6,
    "start_time": "2023-07-27T12:21:28.840Z"
   },
   {
    "duration": 158,
    "start_time": "2023-07-27T12:21:28.847Z"
   },
   {
    "duration": 5,
    "start_time": "2023-07-27T12:21:29.007Z"
   },
   {
    "duration": 736,
    "start_time": "2023-07-27T12:21:29.014Z"
   },
   {
    "duration": 662,
    "start_time": "2023-07-27T12:21:29.752Z"
   },
   {
    "duration": 413,
    "start_time": "2023-07-27T12:21:30.416Z"
   },
   {
    "duration": 399,
    "start_time": "2023-07-27T12:21:30.831Z"
   },
   {
    "duration": 27,
    "start_time": "2023-07-27T12:21:31.232Z"
   },
   {
    "duration": 39,
    "start_time": "2023-07-27T12:21:31.261Z"
   },
   {
    "duration": 331,
    "start_time": "2023-07-27T12:21:31.302Z"
   },
   {
    "duration": 349,
    "start_time": "2023-07-27T12:21:31.635Z"
   },
   {
    "duration": 450,
    "start_time": "2023-07-27T12:21:31.986Z"
   },
   {
    "duration": 7,
    "start_time": "2023-07-27T12:21:32.438Z"
   },
   {
    "duration": 20,
    "start_time": "2023-07-27T12:21:32.446Z"
   },
   {
    "duration": 15,
    "start_time": "2023-07-27T12:21:32.468Z"
   },
   {
    "duration": 24,
    "start_time": "2023-07-27T12:21:32.485Z"
   },
   {
    "duration": 4,
    "start_time": "2023-07-27T12:21:32.510Z"
   },
   {
    "duration": 127,
    "start_time": "2023-07-27T12:39:11.974Z"
   },
   {
    "duration": 19,
    "start_time": "2023-07-27T12:40:23.919Z"
   },
   {
    "duration": 20,
    "start_time": "2023-07-27T12:40:37.081Z"
   },
   {
    "duration": 33,
    "start_time": "2023-07-27T12:41:07.481Z"
   },
   {
    "duration": 14,
    "start_time": "2023-07-27T12:41:39.845Z"
   },
   {
    "duration": 335,
    "start_time": "2023-07-27T12:57:51.918Z"
   },
   {
    "duration": 344,
    "start_time": "2023-07-27T12:59:29.590Z"
   },
   {
    "duration": 409,
    "start_time": "2023-07-27T12:59:53.266Z"
   },
   {
    "duration": 351,
    "start_time": "2023-07-27T13:00:29.708Z"
   },
   {
    "duration": 491,
    "start_time": "2023-07-27T13:04:27.850Z"
   },
   {
    "duration": 410,
    "start_time": "2023-07-27T13:04:54.674Z"
   },
   {
    "duration": 397,
    "start_time": "2023-07-27T13:05:23.887Z"
   },
   {
    "duration": 304,
    "start_time": "2023-07-27T13:06:15.602Z"
   },
   {
    "duration": 367,
    "start_time": "2023-07-27T13:06:24.766Z"
   },
   {
    "duration": 390,
    "start_time": "2023-07-27T13:07:42.601Z"
   },
   {
    "duration": 463,
    "start_time": "2023-07-27T13:08:12.070Z"
   },
   {
    "duration": 400,
    "start_time": "2023-07-27T13:09:50.801Z"
   },
   {
    "duration": 357,
    "start_time": "2023-07-27T13:09:57.404Z"
   },
   {
    "duration": 366,
    "start_time": "2023-07-27T13:11:54.493Z"
   },
   {
    "duration": 294,
    "start_time": "2023-07-27T13:12:24.597Z"
   },
   {
    "duration": 372,
    "start_time": "2023-07-27T13:13:13.090Z"
   },
   {
    "duration": 482,
    "start_time": "2023-07-27T13:13:39.097Z"
   },
   {
    "duration": 48,
    "start_time": "2023-07-27T14:15:16.571Z"
   },
   {
    "duration": 10,
    "start_time": "2023-07-27T14:15:34.195Z"
   },
   {
    "duration": 1440,
    "start_time": "2023-07-27T14:15:40.582Z"
   },
   {
    "duration": 203,
    "start_time": "2023-07-27T14:15:42.025Z"
   },
   {
    "duration": 18,
    "start_time": "2023-07-27T14:15:42.230Z"
   },
   {
    "duration": 166,
    "start_time": "2023-07-27T14:15:42.250Z"
   },
   {
    "duration": 23,
    "start_time": "2023-07-27T14:15:42.418Z"
   },
   {
    "duration": 8,
    "start_time": "2023-07-27T14:15:42.443Z"
   },
   {
    "duration": 6,
    "start_time": "2023-07-27T14:15:42.452Z"
   },
   {
    "duration": 5,
    "start_time": "2023-07-27T14:15:42.460Z"
   },
   {
    "duration": 14,
    "start_time": "2023-07-27T14:15:42.466Z"
   },
   {
    "duration": 4,
    "start_time": "2023-07-27T14:15:42.482Z"
   },
   {
    "duration": 5,
    "start_time": "2023-07-27T14:15:42.488Z"
   },
   {
    "duration": 28,
    "start_time": "2023-07-27T14:15:42.494Z"
   },
   {
    "duration": 7,
    "start_time": "2023-07-27T14:15:42.524Z"
   },
   {
    "duration": 8,
    "start_time": "2023-07-27T14:15:42.533Z"
   },
   {
    "duration": 33,
    "start_time": "2023-07-27T14:15:42.542Z"
   },
   {
    "duration": 11,
    "start_time": "2023-07-27T14:15:42.577Z"
   },
   {
    "duration": 8,
    "start_time": "2023-07-27T14:15:42.590Z"
   },
   {
    "duration": 17,
    "start_time": "2023-07-27T14:15:42.600Z"
   },
   {
    "duration": 25,
    "start_time": "2023-07-27T14:15:42.619Z"
   },
   {
    "duration": 21,
    "start_time": "2023-07-27T14:15:42.646Z"
   },
   {
    "duration": 16,
    "start_time": "2023-07-27T14:15:42.669Z"
   },
   {
    "duration": 5,
    "start_time": "2023-07-27T14:15:42.687Z"
   },
   {
    "duration": 6,
    "start_time": "2023-07-27T14:15:42.693Z"
   },
   {
    "duration": 16,
    "start_time": "2023-07-27T14:15:42.700Z"
   },
   {
    "duration": 29,
    "start_time": "2023-07-27T14:15:42.718Z"
   },
   {
    "duration": 19,
    "start_time": "2023-07-27T14:15:42.749Z"
   },
   {
    "duration": 6,
    "start_time": "2023-07-27T14:15:42.770Z"
   },
   {
    "duration": 35,
    "start_time": "2023-07-27T14:15:42.780Z"
   },
   {
    "duration": 70,
    "start_time": "2023-07-27T14:15:42.817Z"
   },
   {
    "duration": 18,
    "start_time": "2023-07-27T14:15:42.889Z"
   },
   {
    "duration": 10,
    "start_time": "2023-07-27T14:15:42.908Z"
   },
   {
    "duration": 474,
    "start_time": "2023-07-27T14:15:42.919Z"
   },
   {
    "duration": 7,
    "start_time": "2023-07-27T14:15:43.395Z"
   },
   {
    "duration": 1103,
    "start_time": "2023-07-27T14:15:43.404Z"
   },
   {
    "duration": 26,
    "start_time": "2023-07-27T14:15:44.508Z"
   },
   {
    "duration": 7,
    "start_time": "2023-07-27T14:15:44.535Z"
   },
   {
    "duration": 369,
    "start_time": "2023-07-27T14:15:44.560Z"
   },
   {
    "duration": 25,
    "start_time": "2023-07-27T14:15:44.930Z"
   },
   {
    "duration": 215,
    "start_time": "2023-07-27T14:15:44.957Z"
   },
   {
    "duration": 8,
    "start_time": "2023-07-27T14:15:45.174Z"
   },
   {
    "duration": 13,
    "start_time": "2023-07-27T14:15:45.184Z"
   },
   {
    "duration": 27,
    "start_time": "2023-07-27T14:15:45.199Z"
   },
   {
    "duration": 166,
    "start_time": "2023-07-27T14:15:45.227Z"
   },
   {
    "duration": 6,
    "start_time": "2023-07-27T14:15:45.395Z"
   },
   {
    "duration": 162,
    "start_time": "2023-07-27T14:15:45.403Z"
   },
   {
    "duration": 6,
    "start_time": "2023-07-27T14:15:45.567Z"
   },
   {
    "duration": 12,
    "start_time": "2023-07-27T14:15:45.575Z"
   },
   {
    "duration": 160,
    "start_time": "2023-07-27T14:15:45.588Z"
   },
   {
    "duration": 9,
    "start_time": "2023-07-27T14:15:45.750Z"
   },
   {
    "duration": 149,
    "start_time": "2023-07-27T14:15:45.761Z"
   },
   {
    "duration": 4,
    "start_time": "2023-07-27T14:15:45.912Z"
   },
   {
    "duration": 766,
    "start_time": "2023-07-27T14:15:45.918Z"
   },
   {
    "duration": 631,
    "start_time": "2023-07-27T14:15:46.685Z"
   },
   {
    "duration": 437,
    "start_time": "2023-07-27T14:15:47.317Z"
   },
   {
    "duration": 366,
    "start_time": "2023-07-27T14:15:47.759Z"
   },
   {
    "duration": 14,
    "start_time": "2023-07-27T14:15:48.127Z"
   },
   {
    "duration": 129,
    "start_time": "2023-07-27T14:15:48.142Z"
   },
   {
    "duration": 452,
    "start_time": "2023-07-27T14:15:48.273Z"
   },
   {
    "duration": 15,
    "start_time": "2023-07-27T14:15:48.726Z"
   },
   {
    "duration": 42,
    "start_time": "2023-07-27T14:15:48.743Z"
   },
   {
    "duration": 345,
    "start_time": "2023-07-27T14:15:48.786Z"
   },
   {
    "duration": 333,
    "start_time": "2023-07-27T14:15:49.132Z"
   },
   {
    "duration": 159,
    "start_time": "2023-07-27T14:15:49.466Z"
   },
   {
    "duration": 5,
    "start_time": "2023-07-27T14:15:49.627Z"
   },
   {
    "duration": 13,
    "start_time": "2023-07-27T14:15:49.633Z"
   },
   {
    "duration": 4,
    "start_time": "2023-07-27T14:15:49.658Z"
   },
   {
    "duration": 13,
    "start_time": "2023-07-27T14:15:49.664Z"
   },
   {
    "duration": 9,
    "start_time": "2023-07-27T14:15:49.679Z"
   },
   {
    "duration": 198,
    "start_time": "2023-07-27T14:16:24.006Z"
   },
   {
    "duration": 140,
    "start_time": "2023-07-27T14:18:29.332Z"
   },
   {
    "duration": 157,
    "start_time": "2023-07-27T14:18:31.097Z"
   },
   {
    "duration": 140,
    "start_time": "2023-07-27T14:18:42.375Z"
   },
   {
    "duration": 14,
    "start_time": "2023-07-27T14:19:36.260Z"
   },
   {
    "duration": 151,
    "start_time": "2023-07-27T14:20:00.005Z"
   },
   {
    "duration": 197,
    "start_time": "2023-07-27T14:20:03.979Z"
   },
   {
    "duration": 249,
    "start_time": "2023-07-27T14:20:08.163Z"
   },
   {
    "duration": 158,
    "start_time": "2023-07-27T14:20:49.295Z"
   },
   {
    "duration": 145,
    "start_time": "2023-07-27T14:20:50.776Z"
   },
   {
    "duration": 133,
    "start_time": "2023-07-27T14:22:47.129Z"
   },
   {
    "duration": 165,
    "start_time": "2023-07-27T14:22:52.872Z"
   },
   {
    "duration": 155,
    "start_time": "2023-07-27T14:22:57.976Z"
   },
   {
    "duration": 184,
    "start_time": "2023-07-27T14:23:54.235Z"
   },
   {
    "duration": 149,
    "start_time": "2023-07-27T14:23:56.218Z"
   },
   {
    "duration": 147,
    "start_time": "2023-07-27T14:23:57.804Z"
   },
   {
    "duration": 107,
    "start_time": "2023-07-27T14:34:02.766Z"
   },
   {
    "duration": 157,
    "start_time": "2023-07-27T14:34:28.862Z"
   },
   {
    "duration": 161,
    "start_time": "2023-07-27T14:34:36.598Z"
   },
   {
    "duration": 144,
    "start_time": "2023-07-27T14:34:40.910Z"
   },
   {
    "duration": 10,
    "start_time": "2023-07-27T14:53:49.589Z"
   },
   {
    "duration": 10,
    "start_time": "2023-07-27T14:54:53.195Z"
   },
   {
    "duration": 123,
    "start_time": "2023-07-27T14:55:14.300Z"
   },
   {
    "duration": 133,
    "start_time": "2023-07-27T14:55:19.905Z"
   },
   {
    "duration": 4,
    "start_time": "2023-07-27T14:55:31.708Z"
   },
   {
    "duration": 22,
    "start_time": "2023-07-27T14:57:09.116Z"
   },
   {
    "duration": 32,
    "start_time": "2023-07-27T14:57:46.296Z"
   },
   {
    "duration": 333,
    "start_time": "2023-07-27T14:57:51.997Z"
   },
   {
    "duration": 21,
    "start_time": "2023-07-27T14:58:17.256Z"
   },
   {
    "duration": 20,
    "start_time": "2023-07-27T14:58:33.805Z"
   },
   {
    "duration": 25,
    "start_time": "2023-07-27T14:58:36.776Z"
   },
   {
    "duration": 17,
    "start_time": "2023-07-27T14:58:43.413Z"
   },
   {
    "duration": 20,
    "start_time": "2023-07-27T14:59:23.218Z"
   },
   {
    "duration": 54,
    "start_time": "2023-07-27T15:01:24.590Z"
   },
   {
    "duration": 24,
    "start_time": "2023-07-27T15:01:46.039Z"
   },
   {
    "duration": 20,
    "start_time": "2023-07-27T15:02:36.887Z"
   },
   {
    "duration": 10767,
    "start_time": "2023-07-27T15:10:18.937Z"
   },
   {
    "duration": 19,
    "start_time": "2023-07-27T15:11:33.557Z"
   },
   {
    "duration": 119,
    "start_time": "2023-07-27T15:12:32.850Z"
   },
   {
    "duration": 1234,
    "start_time": "2023-07-27T15:17:04.298Z"
   },
   {
    "duration": 63,
    "start_time": "2023-07-27T15:17:05.535Z"
   },
   {
    "duration": 19,
    "start_time": "2023-07-27T15:17:05.600Z"
   },
   {
    "duration": 12,
    "start_time": "2023-07-27T15:17:05.621Z"
   },
   {
    "duration": 35,
    "start_time": "2023-07-27T15:17:05.634Z"
   },
   {
    "duration": 11,
    "start_time": "2023-07-27T15:17:05.671Z"
   },
   {
    "duration": 13,
    "start_time": "2023-07-27T15:17:05.683Z"
   },
   {
    "duration": 20,
    "start_time": "2023-07-27T15:17:05.698Z"
   },
   {
    "duration": 23,
    "start_time": "2023-07-27T15:17:05.720Z"
   },
   {
    "duration": 34,
    "start_time": "2023-07-27T15:17:05.747Z"
   },
   {
    "duration": 8,
    "start_time": "2023-07-27T15:17:05.783Z"
   },
   {
    "duration": 38,
    "start_time": "2023-07-27T15:17:05.793Z"
   },
   {
    "duration": 37,
    "start_time": "2023-07-27T15:17:05.833Z"
   },
   {
    "duration": 37,
    "start_time": "2023-07-27T15:17:05.872Z"
   },
   {
    "duration": 45,
    "start_time": "2023-07-27T15:17:05.911Z"
   },
   {
    "duration": 14,
    "start_time": "2023-07-27T15:17:05.958Z"
   },
   {
    "duration": 5,
    "start_time": "2023-07-27T15:17:05.973Z"
   },
   {
    "duration": 11,
    "start_time": "2023-07-27T15:17:05.980Z"
   },
   {
    "duration": 31,
    "start_time": "2023-07-27T15:17:05.992Z"
   },
   {
    "duration": 18,
    "start_time": "2023-07-27T15:17:06.025Z"
   },
   {
    "duration": 13,
    "start_time": "2023-07-27T15:17:06.060Z"
   },
   {
    "duration": 6,
    "start_time": "2023-07-27T15:17:06.075Z"
   },
   {
    "duration": 7,
    "start_time": "2023-07-27T15:17:06.083Z"
   },
   {
    "duration": 15,
    "start_time": "2023-07-27T15:17:06.091Z"
   },
   {
    "duration": 21,
    "start_time": "2023-07-27T15:17:06.108Z"
   },
   {
    "duration": 41,
    "start_time": "2023-07-27T15:17:06.131Z"
   },
   {
    "duration": 6,
    "start_time": "2023-07-27T15:17:06.174Z"
   },
   {
    "duration": 26,
    "start_time": "2023-07-27T15:17:06.184Z"
   },
   {
    "duration": 86,
    "start_time": "2023-07-27T15:17:06.212Z"
   },
   {
    "duration": 19,
    "start_time": "2023-07-27T15:17:06.300Z"
   },
   {
    "duration": 11,
    "start_time": "2023-07-27T15:17:06.321Z"
   },
   {
    "duration": 478,
    "start_time": "2023-07-27T15:17:06.333Z"
   },
   {
    "duration": 9,
    "start_time": "2023-07-27T15:17:06.813Z"
   },
   {
    "duration": 1036,
    "start_time": "2023-07-27T15:17:06.824Z"
   },
   {
    "duration": 25,
    "start_time": "2023-07-27T15:17:07.862Z"
   },
   {
    "duration": 6,
    "start_time": "2023-07-27T15:17:07.889Z"
   },
   {
    "duration": 381,
    "start_time": "2023-07-27T15:17:07.896Z"
   },
   {
    "duration": 26,
    "start_time": "2023-07-27T15:17:08.278Z"
   },
   {
    "duration": 202,
    "start_time": "2023-07-27T15:17:08.306Z"
   },
   {
    "duration": 8,
    "start_time": "2023-07-27T15:17:08.510Z"
   },
   {
    "duration": 15,
    "start_time": "2023-07-27T15:17:08.520Z"
   },
   {
    "duration": 32,
    "start_time": "2023-07-27T15:17:08.536Z"
   },
   {
    "duration": 157,
    "start_time": "2023-07-27T15:17:08.570Z"
   },
   {
    "duration": 5,
    "start_time": "2023-07-27T15:17:08.729Z"
   },
   {
    "duration": 166,
    "start_time": "2023-07-27T15:17:08.736Z"
   },
   {
    "duration": 6,
    "start_time": "2023-07-27T15:17:08.905Z"
   },
   {
    "duration": 8,
    "start_time": "2023-07-27T15:17:08.913Z"
   },
   {
    "duration": 167,
    "start_time": "2023-07-27T15:17:08.922Z"
   },
   {
    "duration": 5,
    "start_time": "2023-07-27T15:17:09.091Z"
   },
   {
    "duration": 156,
    "start_time": "2023-07-27T15:17:09.097Z"
   },
   {
    "duration": 7,
    "start_time": "2023-07-27T15:17:09.254Z"
   },
   {
    "duration": 721,
    "start_time": "2023-07-27T15:17:09.262Z"
   },
   {
    "duration": 626,
    "start_time": "2023-07-27T15:17:09.985Z"
   },
   {
    "duration": 394,
    "start_time": "2023-07-27T15:17:10.612Z"
   },
   {
    "duration": 404,
    "start_time": "2023-07-27T15:17:11.007Z"
   },
   {
    "duration": 13,
    "start_time": "2023-07-27T15:17:11.412Z"
   },
   {
    "duration": 15,
    "start_time": "2023-07-27T15:17:11.426Z"
   },
   {
    "duration": 313,
    "start_time": "2023-07-27T15:17:11.442Z"
   },
   {
    "duration": 20,
    "start_time": "2023-07-27T15:17:11.757Z"
   },
   {
    "duration": 35,
    "start_time": "2023-07-27T15:17:11.779Z"
   },
   {
    "duration": 323,
    "start_time": "2023-07-27T15:17:11.816Z"
   },
   {
    "duration": 401,
    "start_time": "2023-07-27T15:17:12.141Z"
   },
   {
    "duration": 169,
    "start_time": "2023-07-27T15:17:12.544Z"
   },
   {
    "duration": 181,
    "start_time": "2023-07-27T15:17:12.716Z"
   },
   {
    "duration": 147,
    "start_time": "2023-07-27T15:17:12.899Z"
   },
   {
    "duration": 168,
    "start_time": "2023-07-27T15:17:13.048Z"
   },
   {
    "duration": 10360,
    "start_time": "2023-07-27T15:17:13.218Z"
   },
   {
    "duration": 121,
    "start_time": "2023-07-27T15:17:23.580Z"
   },
   {
    "duration": 0,
    "start_time": "2023-07-27T15:17:23.702Z"
   },
   {
    "duration": 0,
    "start_time": "2023-07-27T15:17:23.704Z"
   },
   {
    "duration": 0,
    "start_time": "2023-07-27T15:17:23.704Z"
   },
   {
    "duration": 0,
    "start_time": "2023-07-27T15:17:23.705Z"
   },
   {
    "duration": 0,
    "start_time": "2023-07-27T15:17:23.706Z"
   },
   {
    "duration": 0,
    "start_time": "2023-07-27T15:17:23.707Z"
   },
   {
    "duration": 0,
    "start_time": "2023-07-27T15:17:23.708Z"
   },
   {
    "duration": 0,
    "start_time": "2023-07-27T15:17:23.709Z"
   },
   {
    "duration": 0,
    "start_time": "2023-07-27T15:17:23.710Z"
   },
   {
    "duration": 123,
    "start_time": "2023-07-27T15:17:32.107Z"
   },
   {
    "duration": 12,
    "start_time": "2023-07-27T15:20:44.866Z"
   },
   {
    "duration": 8,
    "start_time": "2023-07-27T15:23:17.675Z"
   },
   {
    "duration": 299,
    "start_time": "2023-07-27T15:23:40.509Z"
   },
   {
    "duration": 20,
    "start_time": "2023-07-27T15:24:14.895Z"
   },
   {
    "duration": 6,
    "start_time": "2023-07-27T15:24:16.788Z"
   },
   {
    "duration": 1332,
    "start_time": "2023-07-27T15:24:22.950Z"
   },
   {
    "duration": 65,
    "start_time": "2023-07-27T15:24:24.284Z"
   },
   {
    "duration": 19,
    "start_time": "2023-07-27T15:24:24.351Z"
   },
   {
    "duration": 12,
    "start_time": "2023-07-27T15:24:24.371Z"
   },
   {
    "duration": 14,
    "start_time": "2023-07-27T15:24:24.384Z"
   },
   {
    "duration": 8,
    "start_time": "2023-07-27T15:24:24.400Z"
   },
   {
    "duration": 7,
    "start_time": "2023-07-27T15:24:24.409Z"
   },
   {
    "duration": 4,
    "start_time": "2023-07-27T15:24:24.417Z"
   },
   {
    "duration": 42,
    "start_time": "2023-07-27T15:24:24.422Z"
   },
   {
    "duration": 23,
    "start_time": "2023-07-27T15:24:24.466Z"
   },
   {
    "duration": 6,
    "start_time": "2023-07-27T15:24:24.491Z"
   },
   {
    "duration": 19,
    "start_time": "2023-07-27T15:24:24.498Z"
   },
   {
    "duration": 8,
    "start_time": "2023-07-27T15:24:24.519Z"
   },
   {
    "duration": 14,
    "start_time": "2023-07-27T15:24:24.529Z"
   },
   {
    "duration": 22,
    "start_time": "2023-07-27T15:24:24.544Z"
   },
   {
    "duration": 13,
    "start_time": "2023-07-27T15:24:24.568Z"
   },
   {
    "duration": 5,
    "start_time": "2023-07-27T15:24:24.583Z"
   },
   {
    "duration": 5,
    "start_time": "2023-07-27T15:24:24.590Z"
   },
   {
    "duration": 24,
    "start_time": "2023-07-27T15:24:24.597Z"
   },
   {
    "duration": 46,
    "start_time": "2023-07-27T15:24:24.623Z"
   },
   {
    "duration": 14,
    "start_time": "2023-07-27T15:24:24.671Z"
   },
   {
    "duration": 6,
    "start_time": "2023-07-27T15:24:24.687Z"
   },
   {
    "duration": 8,
    "start_time": "2023-07-27T15:24:24.695Z"
   },
   {
    "duration": 6,
    "start_time": "2023-07-27T15:24:24.705Z"
   },
   {
    "duration": 50,
    "start_time": "2023-07-27T15:24:24.712Z"
   },
   {
    "duration": 18,
    "start_time": "2023-07-27T15:24:24.764Z"
   },
   {
    "duration": 6,
    "start_time": "2023-07-27T15:24:24.784Z"
   },
   {
    "duration": 22,
    "start_time": "2023-07-27T15:24:24.792Z"
   },
   {
    "duration": 92,
    "start_time": "2023-07-27T15:24:24.816Z"
   },
   {
    "duration": 19,
    "start_time": "2023-07-27T15:24:24.910Z"
   },
   {
    "duration": 28,
    "start_time": "2023-07-27T15:24:24.931Z"
   },
   {
    "duration": 463,
    "start_time": "2023-07-27T15:24:24.961Z"
   },
   {
    "duration": 7,
    "start_time": "2023-07-27T15:24:25.426Z"
   },
   {
    "duration": 988,
    "start_time": "2023-07-27T15:24:25.434Z"
   },
   {
    "duration": 36,
    "start_time": "2023-07-27T15:24:26.424Z"
   },
   {
    "duration": 7,
    "start_time": "2023-07-27T15:24:26.461Z"
   },
   {
    "duration": 363,
    "start_time": "2023-07-27T15:24:26.470Z"
   },
   {
    "duration": 26,
    "start_time": "2023-07-27T15:24:26.834Z"
   },
   {
    "duration": 193,
    "start_time": "2023-07-27T15:24:26.861Z"
   },
   {
    "duration": 8,
    "start_time": "2023-07-27T15:24:27.058Z"
   },
   {
    "duration": 5,
    "start_time": "2023-07-27T15:24:27.070Z"
   },
   {
    "duration": 9,
    "start_time": "2023-07-27T15:24:27.076Z"
   },
   {
    "duration": 168,
    "start_time": "2023-07-27T15:24:27.087Z"
   },
   {
    "duration": 7,
    "start_time": "2023-07-27T15:24:27.256Z"
   },
   {
    "duration": 164,
    "start_time": "2023-07-27T15:24:27.265Z"
   },
   {
    "duration": 5,
    "start_time": "2023-07-27T15:24:27.431Z"
   },
   {
    "duration": 21,
    "start_time": "2023-07-27T15:24:27.438Z"
   },
   {
    "duration": 147,
    "start_time": "2023-07-27T15:24:27.461Z"
   },
   {
    "duration": 5,
    "start_time": "2023-07-27T15:24:27.610Z"
   },
   {
    "duration": 153,
    "start_time": "2023-07-27T15:24:27.617Z"
   },
   {
    "duration": 5,
    "start_time": "2023-07-27T15:24:27.772Z"
   },
   {
    "duration": 754,
    "start_time": "2023-07-27T15:24:27.778Z"
   },
   {
    "duration": 664,
    "start_time": "2023-07-27T15:24:28.533Z"
   },
   {
    "duration": 375,
    "start_time": "2023-07-27T15:24:29.199Z"
   },
   {
    "duration": 357,
    "start_time": "2023-07-27T15:24:29.576Z"
   },
   {
    "duration": 15,
    "start_time": "2023-07-27T15:24:29.935Z"
   },
   {
    "duration": 14,
    "start_time": "2023-07-27T15:24:29.958Z"
   },
   {
    "duration": 326,
    "start_time": "2023-07-27T15:24:29.974Z"
   },
   {
    "duration": 17,
    "start_time": "2023-07-27T15:24:30.301Z"
   },
   {
    "duration": 45,
    "start_time": "2023-07-27T15:24:30.320Z"
   },
   {
    "duration": 342,
    "start_time": "2023-07-27T15:24:30.366Z"
   },
   {
    "duration": 411,
    "start_time": "2023-07-27T15:24:30.710Z"
   },
   {
    "duration": 165,
    "start_time": "2023-07-27T15:24:31.123Z"
   },
   {
    "duration": 171,
    "start_time": "2023-07-27T15:24:31.291Z"
   },
   {
    "duration": 156,
    "start_time": "2023-07-27T15:24:31.464Z"
   },
   {
    "duration": 153,
    "start_time": "2023-07-27T15:24:31.623Z"
   },
   {
    "duration": 21,
    "start_time": "2023-07-27T15:24:31.778Z"
   },
   {
    "duration": 65,
    "start_time": "2023-07-27T15:24:31.800Z"
   },
   {
    "duration": 199,
    "start_time": "2023-07-27T15:24:31.866Z"
   },
   {
    "duration": 173,
    "start_time": "2023-07-27T15:24:32.067Z"
   },
   {
    "duration": 163,
    "start_time": "2023-07-27T15:24:32.242Z"
   },
   {
    "duration": 7,
    "start_time": "2023-07-27T15:24:32.407Z"
   },
   {
    "duration": 24,
    "start_time": "2023-07-27T15:24:32.415Z"
   },
   {
    "duration": 16,
    "start_time": "2023-07-27T15:24:32.441Z"
   },
   {
    "duration": 14,
    "start_time": "2023-07-27T15:24:32.458Z"
   },
   {
    "duration": 17,
    "start_time": "2023-07-27T15:24:32.473Z"
   },
   {
    "duration": 1914,
    "start_time": "2023-07-27T15:27:32.882Z"
   },
   {
    "duration": 70,
    "start_time": "2023-07-27T15:28:02.358Z"
   },
   {
    "duration": 7,
    "start_time": "2023-07-27T15:28:14.599Z"
   },
   {
    "duration": 9,
    "start_time": "2023-07-27T15:28:16.270Z"
   },
   {
    "duration": 57,
    "start_time": "2023-07-27T15:28:38.713Z"
   },
   {
    "duration": 8,
    "start_time": "2023-07-27T15:28:40.610Z"
   },
   {
    "duration": 54,
    "start_time": "2023-07-27T15:28:51.487Z"
   },
   {
    "duration": 8,
    "start_time": "2023-07-27T15:28:52.958Z"
   },
   {
    "duration": 63,
    "start_time": "2023-07-27T15:31:50.966Z"
   },
   {
    "duration": 59,
    "start_time": "2023-07-27T15:32:07.588Z"
   },
   {
    "duration": 52,
    "start_time": "2023-07-27T15:32:32.862Z"
   },
   {
    "duration": 21,
    "start_time": "2023-07-27T15:33:13.900Z"
   },
   {
    "duration": 8,
    "start_time": "2023-07-27T15:33:17.589Z"
   },
   {
    "duration": 22,
    "start_time": "2023-07-27T15:33:28.690Z"
   },
   {
    "duration": 22,
    "start_time": "2023-07-27T15:33:35.346Z"
   },
   {
    "duration": 7,
    "start_time": "2023-07-27T15:33:37.920Z"
   },
   {
    "duration": 29,
    "start_time": "2023-07-27T15:33:44.112Z"
   },
   {
    "duration": 8,
    "start_time": "2023-07-27T15:33:46.694Z"
   },
   {
    "duration": 21,
    "start_time": "2023-07-27T15:57:58.095Z"
   },
   {
    "duration": 9,
    "start_time": "2023-07-27T15:58:04.223Z"
   },
   {
    "duration": 20,
    "start_time": "2023-07-27T16:00:12.650Z"
   },
   {
    "duration": 8,
    "start_time": "2023-07-27T16:00:17.096Z"
   },
   {
    "duration": 21,
    "start_time": "2023-07-27T16:00:42.292Z"
   },
   {
    "duration": 8,
    "start_time": "2023-07-27T16:00:45.791Z"
   },
   {
    "duration": 22,
    "start_time": "2023-07-27T16:09:18.506Z"
   },
   {
    "duration": 24,
    "start_time": "2023-07-27T16:09:24.762Z"
   },
   {
    "duration": 26,
    "start_time": "2023-07-27T16:09:33.749Z"
   },
   {
    "duration": 27,
    "start_time": "2023-07-27T16:10:46.515Z"
   },
   {
    "duration": 306,
    "start_time": "2023-07-27T16:20:44.000Z"
   },
   {
    "duration": 155,
    "start_time": "2023-07-27T16:21:48.183Z"
   },
   {
    "duration": 23,
    "start_time": "2023-07-27T16:23:14.591Z"
   },
   {
    "duration": 24,
    "start_time": "2023-07-27T16:23:23.894Z"
   },
   {
    "duration": 26,
    "start_time": "2023-07-27T16:23:31.350Z"
   },
   {
    "duration": 27,
    "start_time": "2023-07-27T16:25:07.857Z"
   },
   {
    "duration": 147,
    "start_time": "2023-07-27T16:26:53.581Z"
   },
   {
    "duration": 165,
    "start_time": "2023-07-27T16:27:10.557Z"
   },
   {
    "duration": 159,
    "start_time": "2023-07-27T16:27:20.557Z"
   },
   {
    "duration": 32,
    "start_time": "2023-07-27T16:31:24.254Z"
   },
   {
    "duration": 28,
    "start_time": "2023-07-27T16:31:41.153Z"
   },
   {
    "duration": 25,
    "start_time": "2023-07-27T16:31:55.504Z"
   },
   {
    "duration": 28,
    "start_time": "2023-07-27T16:32:29.201Z"
   },
   {
    "duration": 26,
    "start_time": "2023-07-27T16:32:40.158Z"
   },
   {
    "duration": 14,
    "start_time": "2023-07-27T16:33:54.472Z"
   },
   {
    "duration": 587,
    "start_time": "2023-07-27T16:34:04.403Z"
   },
   {
    "duration": 2179,
    "start_time": "2023-07-27T16:40:40.522Z"
   },
   {
    "duration": 6,
    "start_time": "2023-07-27T16:40:47.761Z"
   },
   {
    "duration": 10,
    "start_time": "2023-07-27T16:41:12.379Z"
   },
   {
    "duration": 9,
    "start_time": "2023-07-27T16:41:46.749Z"
   },
   {
    "duration": 14,
    "start_time": "2023-07-27T16:41:49.600Z"
   },
   {
    "duration": 14,
    "start_time": "2023-07-27T16:42:23.819Z"
   },
   {
    "duration": 15,
    "start_time": "2023-07-27T16:42:28.057Z"
   },
   {
    "duration": 17,
    "start_time": "2023-07-27T16:42:35.752Z"
   },
   {
    "duration": 15,
    "start_time": "2023-07-27T16:42:35.899Z"
   },
   {
    "duration": 151,
    "start_time": "2023-07-27T16:43:52.963Z"
   },
   {
    "duration": 145,
    "start_time": "2023-07-27T16:44:01.761Z"
   },
   {
    "duration": 27,
    "start_time": "2023-07-27T16:44:19.553Z"
   },
   {
    "duration": 29,
    "start_time": "2023-07-27T16:44:48.741Z"
   },
   {
    "duration": 187,
    "start_time": "2023-07-27T16:45:13.462Z"
   },
   {
    "duration": 154,
    "start_time": "2023-07-27T16:45:38.649Z"
   },
   {
    "duration": 252,
    "start_time": "2023-07-27T16:46:05.649Z"
   },
   {
    "duration": 170,
    "start_time": "2023-07-27T16:46:09.449Z"
   },
   {
    "duration": 146,
    "start_time": "2023-07-27T16:46:13.166Z"
   },
   {
    "duration": 1378,
    "start_time": "2023-07-28T01:14:01.478Z"
   },
   {
    "duration": 65,
    "start_time": "2023-07-28T01:14:02.859Z"
   },
   {
    "duration": 20,
    "start_time": "2023-07-28T01:14:02.926Z"
   },
   {
    "duration": 36,
    "start_time": "2023-07-28T01:14:02.949Z"
   },
   {
    "duration": 15,
    "start_time": "2023-07-28T01:14:02.987Z"
   },
   {
    "duration": 13,
    "start_time": "2023-07-28T01:14:03.004Z"
   },
   {
    "duration": 17,
    "start_time": "2023-07-28T01:14:03.019Z"
   },
   {
    "duration": 31,
    "start_time": "2023-07-28T01:14:03.038Z"
   },
   {
    "duration": 25,
    "start_time": "2023-07-28T01:14:03.070Z"
   },
   {
    "duration": 24,
    "start_time": "2023-07-28T01:14:03.097Z"
   },
   {
    "duration": 25,
    "start_time": "2023-07-28T01:14:03.122Z"
   },
   {
    "duration": 40,
    "start_time": "2023-07-28T01:14:03.149Z"
   },
   {
    "duration": 17,
    "start_time": "2023-07-28T01:14:03.190Z"
   },
   {
    "duration": 25,
    "start_time": "2023-07-28T01:14:03.209Z"
   },
   {
    "duration": 38,
    "start_time": "2023-07-28T01:14:03.236Z"
   },
   {
    "duration": 20,
    "start_time": "2023-07-28T01:14:03.276Z"
   },
   {
    "duration": 22,
    "start_time": "2023-07-28T01:14:03.297Z"
   },
   {
    "duration": 5,
    "start_time": "2023-07-28T01:14:03.321Z"
   },
   {
    "duration": 33,
    "start_time": "2023-07-28T01:14:03.328Z"
   },
   {
    "duration": 13,
    "start_time": "2023-07-28T01:14:03.363Z"
   },
   {
    "duration": 39,
    "start_time": "2023-07-28T01:14:03.378Z"
   },
   {
    "duration": 32,
    "start_time": "2023-07-28T01:14:03.418Z"
   },
   {
    "duration": 11,
    "start_time": "2023-07-28T01:14:03.452Z"
   },
   {
    "duration": 5,
    "start_time": "2023-07-28T01:14:03.465Z"
   },
   {
    "duration": 28,
    "start_time": "2023-07-28T01:14:03.472Z"
   },
   {
    "duration": 16,
    "start_time": "2023-07-28T01:14:03.502Z"
   },
   {
    "duration": 7,
    "start_time": "2023-07-28T01:14:03.520Z"
   },
   {
    "duration": 29,
    "start_time": "2023-07-28T01:14:03.531Z"
   },
   {
    "duration": 65,
    "start_time": "2023-07-28T01:14:03.562Z"
   },
   {
    "duration": 38,
    "start_time": "2023-07-28T01:14:03.628Z"
   },
   {
    "duration": 9,
    "start_time": "2023-07-28T01:14:03.668Z"
   },
   {
    "duration": 499,
    "start_time": "2023-07-28T01:14:03.679Z"
   },
   {
    "duration": 8,
    "start_time": "2023-07-28T01:14:04.180Z"
   },
   {
    "duration": 1049,
    "start_time": "2023-07-28T01:14:04.189Z"
   },
   {
    "duration": 32,
    "start_time": "2023-07-28T01:14:05.240Z"
   },
   {
    "duration": 8,
    "start_time": "2023-07-28T01:14:05.274Z"
   },
   {
    "duration": 346,
    "start_time": "2023-07-28T01:14:05.283Z"
   },
   {
    "duration": 31,
    "start_time": "2023-07-28T01:14:05.631Z"
   },
   {
    "duration": 201,
    "start_time": "2023-07-28T01:14:05.664Z"
   },
   {
    "duration": 8,
    "start_time": "2023-07-28T01:14:05.866Z"
   },
   {
    "duration": 25,
    "start_time": "2023-07-28T01:14:05.876Z"
   },
   {
    "duration": 34,
    "start_time": "2023-07-28T01:14:05.903Z"
   },
   {
    "duration": 190,
    "start_time": "2023-07-28T01:14:05.939Z"
   },
   {
    "duration": 5,
    "start_time": "2023-07-28T01:14:06.131Z"
   },
   {
    "duration": 163,
    "start_time": "2023-07-28T01:14:06.138Z"
   },
   {
    "duration": 5,
    "start_time": "2023-07-28T01:14:06.303Z"
   },
   {
    "duration": 48,
    "start_time": "2023-07-28T01:14:06.310Z"
   },
   {
    "duration": 173,
    "start_time": "2023-07-28T01:14:06.360Z"
   },
   {
    "duration": 5,
    "start_time": "2023-07-28T01:14:06.535Z"
   },
   {
    "duration": 143,
    "start_time": "2023-07-28T01:14:06.542Z"
   },
   {
    "duration": 5,
    "start_time": "2023-07-28T01:14:06.686Z"
   },
   {
    "duration": 739,
    "start_time": "2023-07-28T01:14:06.692Z"
   },
   {
    "duration": 657,
    "start_time": "2023-07-28T01:14:07.433Z"
   },
   {
    "duration": 379,
    "start_time": "2023-07-28T01:14:08.092Z"
   },
   {
    "duration": 353,
    "start_time": "2023-07-28T01:14:08.473Z"
   },
   {
    "duration": 14,
    "start_time": "2023-07-28T01:14:08.828Z"
   },
   {
    "duration": 26,
    "start_time": "2023-07-28T01:14:08.845Z"
   },
   {
    "duration": 302,
    "start_time": "2023-07-28T01:14:08.873Z"
   },
   {
    "duration": 18,
    "start_time": "2023-07-28T01:14:09.177Z"
   },
   {
    "duration": 24,
    "start_time": "2023-07-28T01:14:09.197Z"
   },
   {
    "duration": 323,
    "start_time": "2023-07-28T01:14:09.223Z"
   },
   {
    "duration": 422,
    "start_time": "2023-07-28T01:14:09.548Z"
   },
   {
    "duration": 168,
    "start_time": "2023-07-28T01:14:09.972Z"
   },
   {
    "duration": 37,
    "start_time": "2023-07-28T01:14:10.142Z"
   },
   {
    "duration": 162,
    "start_time": "2023-07-28T01:14:10.181Z"
   },
   {
    "duration": 35,
    "start_time": "2023-07-28T01:14:10.345Z"
   },
   {
    "duration": 154,
    "start_time": "2023-07-28T01:14:10.382Z"
   },
   {
    "duration": 42,
    "start_time": "2023-07-28T01:14:10.538Z"
   },
   {
    "duration": 168,
    "start_time": "2023-07-28T01:14:10.582Z"
   },
   {
    "duration": 28,
    "start_time": "2023-07-28T01:14:10.753Z"
   },
   {
    "duration": 173,
    "start_time": "2023-07-28T01:14:10.783Z"
   },
   {
    "duration": 27,
    "start_time": "2023-07-28T01:14:10.959Z"
   },
   {
    "duration": 277,
    "start_time": "2023-07-28T01:14:10.988Z"
   },
   {
    "duration": 142,
    "start_time": "2023-07-28T01:14:11.267Z"
   },
   {
    "duration": 0,
    "start_time": "2023-07-28T01:14:11.411Z"
   },
   {
    "duration": 0,
    "start_time": "2023-07-28T01:14:11.412Z"
   },
   {
    "duration": 0,
    "start_time": "2023-07-28T01:14:11.414Z"
   },
   {
    "duration": 0,
    "start_time": "2023-07-28T01:14:11.415Z"
   },
   {
    "duration": 0,
    "start_time": "2023-07-28T01:14:11.415Z"
   },
   {
    "duration": 0,
    "start_time": "2023-07-28T01:14:11.416Z"
   },
   {
    "duration": 0,
    "start_time": "2023-07-28T01:14:11.417Z"
   },
   {
    "duration": 0,
    "start_time": "2023-07-28T01:14:11.419Z"
   },
   {
    "duration": 0,
    "start_time": "2023-07-28T01:14:11.419Z"
   },
   {
    "duration": 1482,
    "start_time": "2023-07-28T01:43:27.419Z"
   },
   {
    "duration": 121,
    "start_time": "2023-07-28T01:43:28.904Z"
   },
   {
    "duration": 20,
    "start_time": "2023-07-28T01:43:29.027Z"
   },
   {
    "duration": 33,
    "start_time": "2023-07-28T01:43:29.050Z"
   },
   {
    "duration": 30,
    "start_time": "2023-07-28T01:43:29.084Z"
   },
   {
    "duration": 26,
    "start_time": "2023-07-28T01:43:29.115Z"
   },
   {
    "duration": 22,
    "start_time": "2023-07-28T01:43:29.143Z"
   },
   {
    "duration": 18,
    "start_time": "2023-07-28T01:43:29.167Z"
   },
   {
    "duration": 52,
    "start_time": "2023-07-28T01:43:29.187Z"
   },
   {
    "duration": 26,
    "start_time": "2023-07-28T01:43:29.243Z"
   },
   {
    "duration": 31,
    "start_time": "2023-07-28T01:43:29.271Z"
   },
   {
    "duration": 42,
    "start_time": "2023-07-28T01:43:29.304Z"
   },
   {
    "duration": 53,
    "start_time": "2023-07-28T01:43:29.348Z"
   },
   {
    "duration": 26,
    "start_time": "2023-07-28T01:43:29.403Z"
   },
   {
    "duration": 53,
    "start_time": "2023-07-28T01:43:29.431Z"
   },
   {
    "duration": 22,
    "start_time": "2023-07-28T01:43:29.486Z"
   },
   {
    "duration": 45,
    "start_time": "2023-07-28T01:43:29.510Z"
   },
   {
    "duration": 44,
    "start_time": "2023-07-28T01:43:29.556Z"
   },
   {
    "duration": 77,
    "start_time": "2023-07-28T01:43:29.602Z"
   },
   {
    "duration": 41,
    "start_time": "2023-07-28T01:43:29.680Z"
   },
   {
    "duration": 49,
    "start_time": "2023-07-28T01:43:29.723Z"
   },
   {
    "duration": 31,
    "start_time": "2023-07-28T01:43:29.774Z"
   },
   {
    "duration": 32,
    "start_time": "2023-07-28T01:43:29.807Z"
   },
   {
    "duration": 35,
    "start_time": "2023-07-28T01:43:29.841Z"
   },
   {
    "duration": 41,
    "start_time": "2023-07-28T01:43:29.877Z"
   },
   {
    "duration": 60,
    "start_time": "2023-07-28T01:43:29.920Z"
   },
   {
    "duration": 47,
    "start_time": "2023-07-28T01:43:29.981Z"
   },
   {
    "duration": 49,
    "start_time": "2023-07-28T01:43:30.033Z"
   },
   {
    "duration": 122,
    "start_time": "2023-07-28T01:43:30.083Z"
   },
   {
    "duration": 19,
    "start_time": "2023-07-28T01:43:30.207Z"
   },
   {
    "duration": 29,
    "start_time": "2023-07-28T01:43:30.228Z"
   },
   {
    "duration": 521,
    "start_time": "2023-07-28T01:43:30.259Z"
   },
   {
    "duration": 19,
    "start_time": "2023-07-28T01:43:30.782Z"
   },
   {
    "duration": 1071,
    "start_time": "2023-07-28T01:43:30.803Z"
   },
   {
    "duration": 35,
    "start_time": "2023-07-28T01:43:31.876Z"
   },
   {
    "duration": 14,
    "start_time": "2023-07-28T01:43:31.912Z"
   },
   {
    "duration": 412,
    "start_time": "2023-07-28T01:43:31.927Z"
   },
   {
    "duration": 29,
    "start_time": "2023-07-28T01:43:32.340Z"
   },
   {
    "duration": 242,
    "start_time": "2023-07-28T01:43:32.371Z"
   },
   {
    "duration": 6,
    "start_time": "2023-07-28T01:43:32.615Z"
   },
   {
    "duration": 13,
    "start_time": "2023-07-28T01:43:32.623Z"
   },
   {
    "duration": 25,
    "start_time": "2023-07-28T01:43:32.638Z"
   },
   {
    "duration": 182,
    "start_time": "2023-07-28T01:43:32.665Z"
   },
   {
    "duration": 5,
    "start_time": "2023-07-28T01:43:32.848Z"
   },
   {
    "duration": 170,
    "start_time": "2023-07-28T01:43:32.855Z"
   },
   {
    "duration": 5,
    "start_time": "2023-07-28T01:43:33.027Z"
   },
   {
    "duration": 49,
    "start_time": "2023-07-28T01:43:33.034Z"
   },
   {
    "duration": 177,
    "start_time": "2023-07-28T01:43:33.084Z"
   },
   {
    "duration": 6,
    "start_time": "2023-07-28T01:43:33.263Z"
   },
   {
    "duration": 153,
    "start_time": "2023-07-28T01:43:33.270Z"
   },
   {
    "duration": 5,
    "start_time": "2023-07-28T01:43:33.425Z"
   },
   {
    "duration": 738,
    "start_time": "2023-07-28T01:43:33.431Z"
   },
   {
    "duration": 677,
    "start_time": "2023-07-28T01:43:34.171Z"
   },
   {
    "duration": 431,
    "start_time": "2023-07-28T01:43:34.850Z"
   },
   {
    "duration": 393,
    "start_time": "2023-07-28T01:43:35.283Z"
   },
   {
    "duration": 25,
    "start_time": "2023-07-28T01:43:35.678Z"
   },
   {
    "duration": 13,
    "start_time": "2023-07-28T01:43:35.705Z"
   },
   {
    "duration": 312,
    "start_time": "2023-07-28T01:43:35.719Z"
   },
   {
    "duration": 16,
    "start_time": "2023-07-28T01:43:36.032Z"
   },
   {
    "duration": 317,
    "start_time": "2023-07-28T01:43:36.049Z"
   },
   {
    "duration": 433,
    "start_time": "2023-07-28T01:43:36.368Z"
   },
   {
    "duration": 157,
    "start_time": "2023-07-28T01:43:36.802Z"
   },
   {
    "duration": 38,
    "start_time": "2023-07-28T01:43:36.962Z"
   },
   {
    "duration": 160,
    "start_time": "2023-07-28T01:43:37.002Z"
   },
   {
    "duration": 39,
    "start_time": "2023-07-28T01:43:37.164Z"
   },
   {
    "duration": 144,
    "start_time": "2023-07-28T01:43:37.205Z"
   },
   {
    "duration": 24,
    "start_time": "2023-07-28T01:43:37.351Z"
   },
   {
    "duration": 165,
    "start_time": "2023-07-28T01:43:37.388Z"
   },
   {
    "duration": 37,
    "start_time": "2023-07-28T01:43:37.555Z"
   },
   {
    "duration": 160,
    "start_time": "2023-07-28T01:43:37.594Z"
   },
   {
    "duration": 38,
    "start_time": "2023-07-28T01:43:37.756Z"
   },
   {
    "duration": 161,
    "start_time": "2023-07-28T01:43:37.797Z"
   },
   {
    "duration": 97,
    "start_time": "2023-07-28T01:43:37.960Z"
   },
   {
    "duration": 0,
    "start_time": "2023-07-28T01:43:38.059Z"
   },
   {
    "duration": 0,
    "start_time": "2023-07-28T01:43:38.060Z"
   },
   {
    "duration": 0,
    "start_time": "2023-07-28T01:43:38.062Z"
   },
   {
    "duration": 0,
    "start_time": "2023-07-28T01:43:38.064Z"
   },
   {
    "duration": 0,
    "start_time": "2023-07-28T01:43:38.065Z"
   },
   {
    "duration": 0,
    "start_time": "2023-07-28T01:43:38.066Z"
   },
   {
    "duration": 0,
    "start_time": "2023-07-28T01:43:38.067Z"
   },
   {
    "duration": 0,
    "start_time": "2023-07-28T01:43:38.068Z"
   },
   {
    "duration": 0,
    "start_time": "2023-07-28T01:43:38.070Z"
   },
   {
    "duration": 162,
    "start_time": "2023-07-28T01:44:56.438Z"
   },
   {
    "duration": 192,
    "start_time": "2023-07-28T01:45:12.462Z"
   },
   {
    "duration": 18,
    "start_time": "2023-07-28T01:45:34.254Z"
   },
   {
    "duration": 22,
    "start_time": "2023-07-28T01:45:49.231Z"
   },
   {
    "duration": 16,
    "start_time": "2023-07-28T01:45:52.862Z"
   },
   {
    "duration": 1300,
    "start_time": "2023-07-28T01:46:00.755Z"
   },
   {
    "duration": 74,
    "start_time": "2023-07-28T01:46:02.057Z"
   },
   {
    "duration": 20,
    "start_time": "2023-07-28T01:46:02.133Z"
   },
   {
    "duration": 58,
    "start_time": "2023-07-28T01:46:02.155Z"
   },
   {
    "duration": 67,
    "start_time": "2023-07-28T01:46:02.215Z"
   },
   {
    "duration": 77,
    "start_time": "2023-07-28T01:46:02.284Z"
   },
   {
    "duration": 56,
    "start_time": "2023-07-28T01:46:02.363Z"
   },
   {
    "duration": 141,
    "start_time": "2023-07-28T01:46:02.421Z"
   },
   {
    "duration": 103,
    "start_time": "2023-07-28T01:46:02.563Z"
   },
   {
    "duration": 50,
    "start_time": "2023-07-28T01:46:02.669Z"
   },
   {
    "duration": 38,
    "start_time": "2023-07-28T01:46:02.720Z"
   },
   {
    "duration": 38,
    "start_time": "2023-07-28T01:46:02.759Z"
   },
   {
    "duration": 24,
    "start_time": "2023-07-28T01:46:02.799Z"
   },
   {
    "duration": 29,
    "start_time": "2023-07-28T01:46:02.824Z"
   },
   {
    "duration": 73,
    "start_time": "2023-07-28T01:46:02.855Z"
   },
   {
    "duration": 44,
    "start_time": "2023-07-28T01:46:02.929Z"
   },
   {
    "duration": 45,
    "start_time": "2023-07-28T01:46:02.974Z"
   },
   {
    "duration": 89,
    "start_time": "2023-07-28T01:46:03.021Z"
   },
   {
    "duration": 156,
    "start_time": "2023-07-28T01:46:03.112Z"
   },
   {
    "duration": 81,
    "start_time": "2023-07-28T01:46:03.270Z"
   },
   {
    "duration": 105,
    "start_time": "2023-07-28T01:46:03.353Z"
   },
   {
    "duration": 42,
    "start_time": "2023-07-28T01:46:03.459Z"
   },
   {
    "duration": 81,
    "start_time": "2023-07-28T01:46:03.502Z"
   },
   {
    "duration": 71,
    "start_time": "2023-07-28T01:46:03.585Z"
   },
   {
    "duration": 67,
    "start_time": "2023-07-28T01:46:03.658Z"
   },
   {
    "duration": 72,
    "start_time": "2023-07-28T01:46:03.727Z"
   },
   {
    "duration": 8,
    "start_time": "2023-07-28T01:46:03.800Z"
   },
   {
    "duration": 41,
    "start_time": "2023-07-28T01:46:03.812Z"
   },
   {
    "duration": 85,
    "start_time": "2023-07-28T01:46:03.855Z"
   },
   {
    "duration": 18,
    "start_time": "2023-07-28T01:46:03.941Z"
   },
   {
    "duration": 24,
    "start_time": "2023-07-28T01:46:03.961Z"
   },
   {
    "duration": 477,
    "start_time": "2023-07-28T01:46:03.993Z"
   },
   {
    "duration": 15,
    "start_time": "2023-07-28T01:46:04.472Z"
   },
   {
    "duration": 1113,
    "start_time": "2023-07-28T01:46:04.489Z"
   },
   {
    "duration": 29,
    "start_time": "2023-07-28T01:46:05.604Z"
   },
   {
    "duration": 8,
    "start_time": "2023-07-28T01:46:05.635Z"
   },
   {
    "duration": 438,
    "start_time": "2023-07-28T01:46:05.644Z"
   },
   {
    "duration": 33,
    "start_time": "2023-07-28T01:46:06.084Z"
   },
   {
    "duration": 209,
    "start_time": "2023-07-28T01:46:06.119Z"
   },
   {
    "duration": 8,
    "start_time": "2023-07-28T01:46:06.330Z"
   },
   {
    "duration": 61,
    "start_time": "2023-07-28T01:46:06.340Z"
   },
   {
    "duration": 44,
    "start_time": "2023-07-28T01:46:06.403Z"
   },
   {
    "duration": 180,
    "start_time": "2023-07-28T01:46:06.449Z"
   },
   {
    "duration": 6,
    "start_time": "2023-07-28T01:46:06.630Z"
   },
   {
    "duration": 178,
    "start_time": "2023-07-28T01:46:06.637Z"
   },
   {
    "duration": 4,
    "start_time": "2023-07-28T01:46:06.817Z"
   },
   {
    "duration": 34,
    "start_time": "2023-07-28T01:46:06.823Z"
   },
   {
    "duration": 176,
    "start_time": "2023-07-28T01:46:06.859Z"
   },
   {
    "duration": 5,
    "start_time": "2023-07-28T01:46:07.036Z"
   },
   {
    "duration": 183,
    "start_time": "2023-07-28T01:46:07.042Z"
   },
   {
    "duration": 6,
    "start_time": "2023-07-28T01:46:07.227Z"
   },
   {
    "duration": 783,
    "start_time": "2023-07-28T01:46:07.234Z"
   },
   {
    "duration": 648,
    "start_time": "2023-07-28T01:46:08.019Z"
   },
   {
    "duration": 409,
    "start_time": "2023-07-28T01:46:08.669Z"
   },
   {
    "duration": 377,
    "start_time": "2023-07-28T01:46:09.080Z"
   },
   {
    "duration": 14,
    "start_time": "2023-07-28T01:46:09.459Z"
   },
   {
    "duration": 27,
    "start_time": "2023-07-28T01:46:09.488Z"
   },
   {
    "duration": 336,
    "start_time": "2023-07-28T01:46:09.517Z"
   },
   {
    "duration": 15,
    "start_time": "2023-07-28T01:46:09.855Z"
   },
   {
    "duration": 331,
    "start_time": "2023-07-28T01:46:09.871Z"
   },
   {
    "duration": 378,
    "start_time": "2023-07-28T01:46:10.204Z"
   },
   {
    "duration": 167,
    "start_time": "2023-07-28T01:46:10.584Z"
   },
   {
    "duration": 46,
    "start_time": "2023-07-28T01:46:10.754Z"
   },
   {
    "duration": 154,
    "start_time": "2023-07-28T01:46:10.801Z"
   },
   {
    "duration": 36,
    "start_time": "2023-07-28T01:46:10.957Z"
   },
   {
    "duration": 150,
    "start_time": "2023-07-28T01:46:10.994Z"
   },
   {
    "duration": 25,
    "start_time": "2023-07-28T01:46:11.146Z"
   },
   {
    "duration": 200,
    "start_time": "2023-07-28T01:46:11.173Z"
   },
   {
    "duration": 42,
    "start_time": "2023-07-28T01:46:11.375Z"
   },
   {
    "duration": 162,
    "start_time": "2023-07-28T01:46:11.419Z"
   },
   {
    "duration": 32,
    "start_time": "2023-07-28T01:46:11.587Z"
   },
   {
    "duration": 165,
    "start_time": "2023-07-28T01:46:11.620Z"
   },
   {
    "duration": 32,
    "start_time": "2023-07-28T01:46:11.789Z"
   },
   {
    "duration": 14,
    "start_time": "2023-07-28T01:46:11.823Z"
   },
   {
    "duration": 164,
    "start_time": "2023-07-28T01:46:11.838Z"
   },
   {
    "duration": 161,
    "start_time": "2023-07-28T01:46:12.004Z"
   },
   {
    "duration": 159,
    "start_time": "2023-07-28T01:46:12.167Z"
   },
   {
    "duration": 5,
    "start_time": "2023-07-28T01:46:12.328Z"
   },
   {
    "duration": 27,
    "start_time": "2023-07-28T01:46:12.334Z"
   },
   {
    "duration": 9,
    "start_time": "2023-07-28T01:46:12.363Z"
   },
   {
    "duration": 8,
    "start_time": "2023-07-28T01:46:12.374Z"
   },
   {
    "duration": 18,
    "start_time": "2023-07-28T01:46:12.387Z"
   },
   {
    "duration": 1262,
    "start_time": "2023-07-28T01:52:03.383Z"
   },
   {
    "duration": 70,
    "start_time": "2023-07-28T01:52:04.647Z"
   },
   {
    "duration": 26,
    "start_time": "2023-07-28T01:52:04.719Z"
   },
   {
    "duration": 33,
    "start_time": "2023-07-28T01:52:04.748Z"
   },
   {
    "duration": 20,
    "start_time": "2023-07-28T01:52:04.787Z"
   },
   {
    "duration": 23,
    "start_time": "2023-07-28T01:52:04.809Z"
   },
   {
    "duration": 27,
    "start_time": "2023-07-28T01:52:04.834Z"
   },
   {
    "duration": 20,
    "start_time": "2023-07-28T01:52:04.863Z"
   },
   {
    "duration": 20,
    "start_time": "2023-07-28T01:52:04.885Z"
   },
   {
    "duration": 17,
    "start_time": "2023-07-28T01:52:04.908Z"
   },
   {
    "duration": 30,
    "start_time": "2023-07-28T01:52:04.926Z"
   },
   {
    "duration": 35,
    "start_time": "2023-07-28T01:52:04.957Z"
   },
   {
    "duration": 7,
    "start_time": "2023-07-28T01:52:04.994Z"
   },
   {
    "duration": 13,
    "start_time": "2023-07-28T01:52:05.002Z"
   },
   {
    "duration": 23,
    "start_time": "2023-07-28T01:52:05.016Z"
   },
   {
    "duration": 31,
    "start_time": "2023-07-28T01:52:05.040Z"
   },
   {
    "duration": 18,
    "start_time": "2023-07-28T01:52:05.073Z"
   },
   {
    "duration": 16,
    "start_time": "2023-07-28T01:52:05.093Z"
   },
   {
    "duration": 39,
    "start_time": "2023-07-28T01:52:05.110Z"
   },
   {
    "duration": 12,
    "start_time": "2023-07-28T01:52:05.151Z"
   },
   {
    "duration": 22,
    "start_time": "2023-07-28T01:52:05.165Z"
   },
   {
    "duration": 15,
    "start_time": "2023-07-28T01:52:05.189Z"
   },
   {
    "duration": 14,
    "start_time": "2023-07-28T01:52:05.206Z"
   },
   {
    "duration": 19,
    "start_time": "2023-07-28T01:52:05.221Z"
   },
   {
    "duration": 25,
    "start_time": "2023-07-28T01:52:05.242Z"
   },
   {
    "duration": 55,
    "start_time": "2023-07-28T01:52:05.269Z"
   },
   {
    "duration": 41,
    "start_time": "2023-07-28T01:52:05.326Z"
   },
   {
    "duration": 44,
    "start_time": "2023-07-28T01:52:05.373Z"
   },
   {
    "duration": 91,
    "start_time": "2023-07-28T01:52:05.419Z"
   },
   {
    "duration": 107,
    "start_time": "2023-07-28T01:52:05.512Z"
   },
   {
    "duration": 30,
    "start_time": "2023-07-28T01:52:05.620Z"
   },
   {
    "duration": 475,
    "start_time": "2023-07-28T01:52:05.651Z"
   },
   {
    "duration": 6,
    "start_time": "2023-07-28T01:52:06.128Z"
   },
   {
    "duration": 993,
    "start_time": "2023-07-28T01:52:06.136Z"
   },
   {
    "duration": 28,
    "start_time": "2023-07-28T01:52:07.131Z"
   },
   {
    "duration": 6,
    "start_time": "2023-07-28T01:52:07.161Z"
   },
   {
    "duration": 362,
    "start_time": "2023-07-28T01:52:07.168Z"
   },
   {
    "duration": 24,
    "start_time": "2023-07-28T01:52:07.532Z"
   },
   {
    "duration": 190,
    "start_time": "2023-07-28T01:52:07.558Z"
   },
   {
    "duration": 6,
    "start_time": "2023-07-28T01:52:07.750Z"
   },
   {
    "duration": 20,
    "start_time": "2023-07-28T01:52:07.757Z"
   },
   {
    "duration": 18,
    "start_time": "2023-07-28T01:52:07.778Z"
   },
   {
    "duration": 172,
    "start_time": "2023-07-28T01:52:07.798Z"
   },
   {
    "duration": 25,
    "start_time": "2023-07-28T01:52:07.971Z"
   },
   {
    "duration": 181,
    "start_time": "2023-07-28T01:52:07.998Z"
   },
   {
    "duration": 4,
    "start_time": "2023-07-28T01:52:08.181Z"
   },
   {
    "duration": 24,
    "start_time": "2023-07-28T01:52:08.187Z"
   },
   {
    "duration": 148,
    "start_time": "2023-07-28T01:52:08.212Z"
   },
   {
    "duration": 5,
    "start_time": "2023-07-28T01:52:08.361Z"
   },
   {
    "duration": 145,
    "start_time": "2023-07-28T01:52:08.367Z"
   },
   {
    "duration": 5,
    "start_time": "2023-07-28T01:52:08.513Z"
   },
   {
    "duration": 784,
    "start_time": "2023-07-28T01:52:08.519Z"
   },
   {
    "duration": 635,
    "start_time": "2023-07-28T01:52:09.305Z"
   },
   {
    "duration": 396,
    "start_time": "2023-07-28T01:52:09.942Z"
   },
   {
    "duration": 410,
    "start_time": "2023-07-28T01:52:10.339Z"
   },
   {
    "duration": 12,
    "start_time": "2023-07-28T01:52:10.751Z"
   },
   {
    "duration": 31,
    "start_time": "2023-07-28T01:52:10.764Z"
   },
   {
    "duration": 286,
    "start_time": "2023-07-28T01:52:10.797Z"
   },
   {
    "duration": 14,
    "start_time": "2023-07-28T01:52:11.086Z"
   },
   {
    "duration": 305,
    "start_time": "2023-07-28T01:52:11.102Z"
   },
   {
    "duration": 383,
    "start_time": "2023-07-28T01:52:11.408Z"
   },
   {
    "duration": 157,
    "start_time": "2023-07-28T01:52:11.792Z"
   },
   {
    "duration": 23,
    "start_time": "2023-07-28T01:52:11.950Z"
   },
   {
    "duration": 163,
    "start_time": "2023-07-28T01:52:11.975Z"
   },
   {
    "duration": 25,
    "start_time": "2023-07-28T01:52:12.139Z"
   },
   {
    "duration": 157,
    "start_time": "2023-07-28T01:52:12.166Z"
   },
   {
    "duration": 22,
    "start_time": "2023-07-28T01:52:12.325Z"
   },
   {
    "duration": 159,
    "start_time": "2023-07-28T01:52:12.349Z"
   },
   {
    "duration": 24,
    "start_time": "2023-07-28T01:52:12.509Z"
   },
   {
    "duration": 177,
    "start_time": "2023-07-28T01:52:12.534Z"
   },
   {
    "duration": 24,
    "start_time": "2023-07-28T01:52:12.713Z"
   },
   {
    "duration": 172,
    "start_time": "2023-07-28T01:52:12.739Z"
   },
   {
    "duration": 22,
    "start_time": "2023-07-28T01:52:12.912Z"
   },
   {
    "duration": 30,
    "start_time": "2023-07-28T01:52:12.936Z"
   },
   {
    "duration": 139,
    "start_time": "2023-07-28T01:52:12.967Z"
   },
   {
    "duration": 174,
    "start_time": "2023-07-28T01:52:13.107Z"
   },
   {
    "duration": 157,
    "start_time": "2023-07-28T01:52:13.282Z"
   },
   {
    "duration": 6,
    "start_time": "2023-07-28T01:52:13.441Z"
   },
   {
    "duration": 13,
    "start_time": "2023-07-28T01:52:13.449Z"
   },
   {
    "duration": 13,
    "start_time": "2023-07-28T01:52:13.463Z"
   },
   {
    "duration": 23,
    "start_time": "2023-07-28T01:52:13.478Z"
   },
   {
    "duration": 13,
    "start_time": "2023-07-28T01:52:13.506Z"
   },
   {
    "duration": 1337,
    "start_time": "2023-07-28T01:52:42.857Z"
   },
   {
    "duration": 67,
    "start_time": "2023-07-28T01:52:44.197Z"
   },
   {
    "duration": 18,
    "start_time": "2023-07-28T01:52:44.266Z"
   },
   {
    "duration": 20,
    "start_time": "2023-07-28T01:52:44.287Z"
   },
   {
    "duration": 15,
    "start_time": "2023-07-28T01:52:44.309Z"
   },
   {
    "duration": 15,
    "start_time": "2023-07-28T01:52:44.325Z"
   },
   {
    "duration": 7,
    "start_time": "2023-07-28T01:52:44.342Z"
   },
   {
    "duration": 14,
    "start_time": "2023-07-28T01:52:44.351Z"
   },
   {
    "duration": 23,
    "start_time": "2023-07-28T01:52:44.367Z"
   },
   {
    "duration": 5,
    "start_time": "2023-07-28T01:52:44.392Z"
   },
   {
    "duration": 11,
    "start_time": "2023-07-28T01:52:44.398Z"
   },
   {
    "duration": 27,
    "start_time": "2023-07-28T01:52:44.410Z"
   },
   {
    "duration": 7,
    "start_time": "2023-07-28T01:52:44.439Z"
   },
   {
    "duration": 15,
    "start_time": "2023-07-28T01:52:44.447Z"
   },
   {
    "duration": 35,
    "start_time": "2023-07-28T01:52:44.464Z"
   },
   {
    "duration": 10,
    "start_time": "2023-07-28T01:52:44.501Z"
   },
   {
    "duration": 9,
    "start_time": "2023-07-28T01:52:44.513Z"
   },
   {
    "duration": 11,
    "start_time": "2023-07-28T01:52:44.524Z"
   },
   {
    "duration": 34,
    "start_time": "2023-07-28T01:52:44.536Z"
   },
   {
    "duration": 23,
    "start_time": "2023-07-28T01:52:44.572Z"
   },
   {
    "duration": 35,
    "start_time": "2023-07-28T01:52:44.596Z"
   },
   {
    "duration": 7,
    "start_time": "2023-07-28T01:52:44.633Z"
   },
   {
    "duration": 25,
    "start_time": "2023-07-28T01:52:44.642Z"
   },
   {
    "duration": 10,
    "start_time": "2023-07-28T01:52:44.669Z"
   },
   {
    "duration": 25,
    "start_time": "2023-07-28T01:52:44.681Z"
   },
   {
    "duration": 22,
    "start_time": "2023-07-28T01:52:44.708Z"
   },
   {
    "duration": 10,
    "start_time": "2023-07-28T01:52:44.732Z"
   },
   {
    "duration": 49,
    "start_time": "2023-07-28T01:52:44.750Z"
   },
   {
    "duration": 116,
    "start_time": "2023-07-28T01:52:44.801Z"
   },
   {
    "duration": 27,
    "start_time": "2023-07-28T01:52:44.920Z"
   },
   {
    "duration": 13,
    "start_time": "2023-07-28T01:52:44.949Z"
   },
   {
    "duration": 487,
    "start_time": "2023-07-28T01:52:44.964Z"
   },
   {
    "duration": 7,
    "start_time": "2023-07-28T01:52:45.453Z"
   },
   {
    "duration": 1057,
    "start_time": "2023-07-28T01:52:45.461Z"
   },
   {
    "duration": 28,
    "start_time": "2023-07-28T01:52:46.520Z"
   },
   {
    "duration": 7,
    "start_time": "2023-07-28T01:52:46.550Z"
   },
   {
    "duration": 459,
    "start_time": "2023-07-28T01:52:46.559Z"
   },
   {
    "duration": 27,
    "start_time": "2023-07-28T01:52:47.020Z"
   },
   {
    "duration": 199,
    "start_time": "2023-07-28T01:52:47.049Z"
   },
   {
    "duration": 8,
    "start_time": "2023-07-28T01:52:47.250Z"
   },
   {
    "duration": 17,
    "start_time": "2023-07-28T01:52:47.259Z"
   },
   {
    "duration": 38,
    "start_time": "2023-07-28T01:52:47.278Z"
   },
   {
    "duration": 172,
    "start_time": "2023-07-28T01:52:47.318Z"
   },
   {
    "duration": 5,
    "start_time": "2023-07-28T01:52:47.492Z"
   },
   {
    "duration": 155,
    "start_time": "2023-07-28T01:52:47.499Z"
   },
   {
    "duration": 6,
    "start_time": "2023-07-28T01:52:47.656Z"
   },
   {
    "duration": 8,
    "start_time": "2023-07-28T01:52:47.664Z"
   },
   {
    "duration": 152,
    "start_time": "2023-07-28T01:52:47.688Z"
   },
   {
    "duration": 6,
    "start_time": "2023-07-28T01:52:47.842Z"
   },
   {
    "duration": 157,
    "start_time": "2023-07-28T01:52:47.850Z"
   },
   {
    "duration": 6,
    "start_time": "2023-07-28T01:52:48.009Z"
   },
   {
    "duration": 748,
    "start_time": "2023-07-28T01:52:48.016Z"
   },
   {
    "duration": 662,
    "start_time": "2023-07-28T01:52:48.766Z"
   },
   {
    "duration": 435,
    "start_time": "2023-07-28T01:52:49.430Z"
   },
   {
    "duration": 391,
    "start_time": "2023-07-28T01:52:49.867Z"
   },
   {
    "duration": 27,
    "start_time": "2023-07-28T01:52:50.260Z"
   },
   {
    "duration": 22,
    "start_time": "2023-07-28T01:52:50.289Z"
   },
   {
    "duration": 358,
    "start_time": "2023-07-28T01:52:50.313Z"
   },
   {
    "duration": 24,
    "start_time": "2023-07-28T01:52:50.674Z"
   },
   {
    "duration": 364,
    "start_time": "2023-07-28T01:52:50.700Z"
   },
   {
    "duration": 418,
    "start_time": "2023-07-28T01:52:51.066Z"
   },
   {
    "duration": 173,
    "start_time": "2023-07-28T01:52:51.486Z"
   },
   {
    "duration": 35,
    "start_time": "2023-07-28T01:52:51.661Z"
   },
   {
    "duration": 174,
    "start_time": "2023-07-28T01:52:51.698Z"
   },
   {
    "duration": 40,
    "start_time": "2023-07-28T01:52:51.874Z"
   },
   {
    "duration": 175,
    "start_time": "2023-07-28T01:52:51.916Z"
   },
   {
    "duration": 26,
    "start_time": "2023-07-28T01:52:52.093Z"
   },
   {
    "duration": 198,
    "start_time": "2023-07-28T01:52:52.121Z"
   },
   {
    "duration": 28,
    "start_time": "2023-07-28T01:52:52.321Z"
   },
   {
    "duration": 190,
    "start_time": "2023-07-28T01:52:52.350Z"
   },
   {
    "duration": 26,
    "start_time": "2023-07-28T01:52:52.542Z"
   },
   {
    "duration": 212,
    "start_time": "2023-07-28T01:52:52.569Z"
   },
   {
    "duration": 37,
    "start_time": "2023-07-28T01:52:52.783Z"
   },
   {
    "duration": 22,
    "start_time": "2023-07-28T01:52:52.822Z"
   },
   {
    "duration": 169,
    "start_time": "2023-07-28T01:52:52.846Z"
   },
   {
    "duration": 178,
    "start_time": "2023-07-28T01:52:53.017Z"
   },
   {
    "duration": 163,
    "start_time": "2023-07-28T01:52:53.196Z"
   },
   {
    "duration": 6,
    "start_time": "2023-07-28T01:52:53.362Z"
   },
   {
    "duration": 36,
    "start_time": "2023-07-28T01:52:53.370Z"
   },
   {
    "duration": 31,
    "start_time": "2023-07-28T01:52:53.407Z"
   },
   {
    "duration": 57,
    "start_time": "2023-07-28T01:52:53.439Z"
   },
   {
    "duration": 9,
    "start_time": "2023-07-28T01:52:53.500Z"
   },
   {
    "duration": 1302,
    "start_time": "2023-07-28T13:47:00.821Z"
   },
   {
    "duration": 245,
    "start_time": "2023-07-28T13:47:02.125Z"
   },
   {
    "duration": 34,
    "start_time": "2023-07-28T13:47:02.372Z"
   },
   {
    "duration": 40,
    "start_time": "2023-07-28T13:47:02.408Z"
   },
   {
    "duration": 70,
    "start_time": "2023-07-28T13:47:02.451Z"
   },
   {
    "duration": 35,
    "start_time": "2023-07-28T13:47:02.523Z"
   },
   {
    "duration": 29,
    "start_time": "2023-07-28T13:47:02.560Z"
   },
   {
    "duration": 26,
    "start_time": "2023-07-28T13:47:02.592Z"
   },
   {
    "duration": 36,
    "start_time": "2023-07-28T13:47:02.620Z"
   },
   {
    "duration": 38,
    "start_time": "2023-07-28T13:47:02.658Z"
   },
   {
    "duration": 25,
    "start_time": "2023-07-28T13:47:02.698Z"
   },
   {
    "duration": 41,
    "start_time": "2023-07-28T13:47:02.724Z"
   },
   {
    "duration": 26,
    "start_time": "2023-07-28T13:47:02.767Z"
   },
   {
    "duration": 17,
    "start_time": "2023-07-28T13:47:02.797Z"
   },
   {
    "duration": 91,
    "start_time": "2023-07-28T13:47:02.816Z"
   },
   {
    "duration": 24,
    "start_time": "2023-07-28T13:47:02.908Z"
   },
   {
    "duration": 15,
    "start_time": "2023-07-28T13:47:02.935Z"
   },
   {
    "duration": 44,
    "start_time": "2023-07-28T13:47:02.952Z"
   },
   {
    "duration": 48,
    "start_time": "2023-07-28T13:47:03.000Z"
   },
   {
    "duration": 14,
    "start_time": "2023-07-28T13:47:03.050Z"
   },
   {
    "duration": 35,
    "start_time": "2023-07-28T13:47:03.066Z"
   },
   {
    "duration": 14,
    "start_time": "2023-07-28T13:47:03.105Z"
   },
   {
    "duration": 19,
    "start_time": "2023-07-28T13:47:03.121Z"
   },
   {
    "duration": 8,
    "start_time": "2023-07-28T13:47:03.142Z"
   },
   {
    "duration": 46,
    "start_time": "2023-07-28T13:47:03.151Z"
   },
   {
    "duration": 18,
    "start_time": "2023-07-28T13:47:03.200Z"
   },
   {
    "duration": 32,
    "start_time": "2023-07-28T13:47:03.220Z"
   },
   {
    "duration": 39,
    "start_time": "2023-07-28T13:47:03.254Z"
   },
   {
    "duration": 117,
    "start_time": "2023-07-28T13:47:03.294Z"
   },
   {
    "duration": 20,
    "start_time": "2023-07-28T13:47:03.413Z"
   },
   {
    "duration": 15,
    "start_time": "2023-07-28T13:47:03.435Z"
   },
   {
    "duration": 560,
    "start_time": "2023-07-28T13:47:03.452Z"
   },
   {
    "duration": 9,
    "start_time": "2023-07-28T13:47:04.015Z"
   },
   {
    "duration": 1144,
    "start_time": "2023-07-28T13:47:04.027Z"
   },
   {
    "duration": 51,
    "start_time": "2023-07-28T13:47:05.172Z"
   },
   {
    "duration": 6,
    "start_time": "2023-07-28T13:47:05.225Z"
   },
   {
    "duration": 431,
    "start_time": "2023-07-28T13:47:05.232Z"
   },
   {
    "duration": 33,
    "start_time": "2023-07-28T13:47:05.665Z"
   },
   {
    "duration": 208,
    "start_time": "2023-07-28T13:47:05.703Z"
   },
   {
    "duration": 7,
    "start_time": "2023-07-28T13:47:05.913Z"
   },
   {
    "duration": 7,
    "start_time": "2023-07-28T13:47:05.924Z"
   },
   {
    "duration": 29,
    "start_time": "2023-07-28T13:47:05.932Z"
   },
   {
    "duration": 168,
    "start_time": "2023-07-28T13:47:05.963Z"
   },
   {
    "duration": 4,
    "start_time": "2023-07-28T13:47:06.133Z"
   },
   {
    "duration": 176,
    "start_time": "2023-07-28T13:47:06.138Z"
   },
   {
    "duration": 5,
    "start_time": "2023-07-28T13:47:06.316Z"
   },
   {
    "duration": 11,
    "start_time": "2023-07-28T13:47:06.323Z"
   },
   {
    "duration": 180,
    "start_time": "2023-07-28T13:47:06.336Z"
   },
   {
    "duration": 5,
    "start_time": "2023-07-28T13:47:06.518Z"
   },
   {
    "duration": 158,
    "start_time": "2023-07-28T13:47:06.525Z"
   },
   {
    "duration": 6,
    "start_time": "2023-07-28T13:47:06.684Z"
   },
   {
    "duration": 810,
    "start_time": "2023-07-28T13:47:06.693Z"
   },
   {
    "duration": 700,
    "start_time": "2023-07-28T13:47:07.508Z"
   },
   {
    "duration": 419,
    "start_time": "2023-07-28T13:47:08.210Z"
   },
   {
    "duration": 410,
    "start_time": "2023-07-28T13:47:08.631Z"
   },
   {
    "duration": 14,
    "start_time": "2023-07-28T13:47:09.043Z"
   },
   {
    "duration": 34,
    "start_time": "2023-07-28T13:47:09.059Z"
   },
   {
    "duration": 352,
    "start_time": "2023-07-28T13:47:09.095Z"
   },
   {
    "duration": 16,
    "start_time": "2023-07-28T13:47:09.449Z"
   },
   {
    "duration": 368,
    "start_time": "2023-07-28T13:47:09.467Z"
   },
   {
    "duration": 481,
    "start_time": "2023-07-28T13:47:09.837Z"
   },
   {
    "duration": 209,
    "start_time": "2023-07-28T13:47:10.320Z"
   },
   {
    "duration": 72,
    "start_time": "2023-07-28T13:47:10.531Z"
   },
   {
    "duration": 205,
    "start_time": "2023-07-28T13:47:10.609Z"
   },
   {
    "duration": 25,
    "start_time": "2023-07-28T13:47:10.816Z"
   },
   {
    "duration": 184,
    "start_time": "2023-07-28T13:47:10.842Z"
   },
   {
    "duration": 27,
    "start_time": "2023-07-28T13:47:11.028Z"
   },
   {
    "duration": 189,
    "start_time": "2023-07-28T13:47:11.057Z"
   },
   {
    "duration": 46,
    "start_time": "2023-07-28T13:47:11.247Z"
   },
   {
    "duration": 194,
    "start_time": "2023-07-28T13:47:11.295Z"
   },
   {
    "duration": 27,
    "start_time": "2023-07-28T13:47:11.493Z"
   },
   {
    "duration": 202,
    "start_time": "2023-07-28T13:47:11.522Z"
   },
   {
    "duration": 25,
    "start_time": "2023-07-28T13:47:11.726Z"
   },
   {
    "duration": 48,
    "start_time": "2023-07-28T13:47:11.752Z"
   },
   {
    "duration": 153,
    "start_time": "2023-07-28T13:47:11.801Z"
   },
   {
    "duration": 183,
    "start_time": "2023-07-28T13:47:11.956Z"
   },
   {
    "duration": 194,
    "start_time": "2023-07-28T13:47:12.141Z"
   },
   {
    "duration": 6,
    "start_time": "2023-07-28T13:47:12.336Z"
   },
   {
    "duration": 22,
    "start_time": "2023-07-28T13:47:12.344Z"
   },
   {
    "duration": 31,
    "start_time": "2023-07-28T13:47:12.368Z"
   },
   {
    "duration": 18,
    "start_time": "2023-07-28T13:47:12.401Z"
   },
   {
    "duration": 5,
    "start_time": "2023-07-28T13:47:12.421Z"
   }
  ],
  "kernelspec": {
   "display_name": "Python 3 (ipykernel)",
   "language": "python",
   "name": "python3"
  },
  "language_info": {
   "codemirror_mode": {
    "name": "ipython",
    "version": 3
   },
   "file_extension": ".py",
   "mimetype": "text/x-python",
   "name": "python",
   "nbconvert_exporter": "python",
   "pygments_lexer": "ipython3",
   "version": "3.9.7"
  },
  "toc": {
   "base_numbering": 1,
   "nav_menu": {},
   "number_sections": true,
   "sideBar": true,
   "skip_h1_title": true,
   "title_cell": "Table of Contents",
   "title_sidebar": "Contents",
   "toc_cell": false,
   "toc_position": {
    "height": "calc(100% - 180px)",
    "left": "10px",
    "top": "150px",
    "width": "215.932px"
   },
   "toc_section_display": true,
   "toc_window_display": true
  }
 },
 "nbformat": 4,
 "nbformat_minor": 2
}
