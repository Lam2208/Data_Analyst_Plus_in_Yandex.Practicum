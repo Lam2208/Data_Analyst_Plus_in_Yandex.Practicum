{
 "cells": [
  {
   "cell_type": "markdown",
   "metadata": {},
   "source": [
    "# Описание проекта"
   ]
  },
  {
   "cell_type": "markdown",
   "metadata": {},
   "source": [
    "Датасет содержит данные о событиях, совершенных в мобильном приложении \"Ненужные вещи\". В нем пользователи продают свои ненужные вещи, размещая их на доске объявлений.\n",
    "\n",
    "В датасете содержатся данные пользователей, впервые совершивших действия в приложении после 7 октября 2019 года.\n",
    "\n",
    "Датасет *mobile_dataset.csv* содержит колонки:\n",
    "- event.time  — время совершения\n",
    "- event.name  — название события\n",
    "- user.id  — идентификатор пользователя\n",
    "\n",
    "Датасет *mobile_sources.csv* содержит колонки:\n",
    "- userId  — идентификатор пользователя\n",
    "- source  — источник, с которого пользователь установил приложение\n",
    "\n",
    "Расшифровки событий:\n",
    "- advert_open  — открытие карточки объявления\n",
    "- photos_show  — просмотр фотографий в объявлении\n",
    "- tips_show  — пользователь увидел рекомендованные объявления\n",
    "- tips_click  — пользователь кликнул по рекомендованному объявлению\n",
    "- contacts_show  и  show_contacts  — пользователь нажал на кнопку \"посмотреть номер телефона\" на карточке объявления\n",
    "- contacts_call  — пользователь позвонил по номеру телефона на карточке объявления\n",
    "- map  — пользователь открыл карту размещенных объявлений\n",
    "- search_1  —  search_7  — разные события, связанные с пос поиском по сайту\n",
    "- favorites_add  — добавление объявления в избранное"
   ]
  },
  {
   "cell_type": "markdown",
   "metadata": {},
   "source": [
    "**Задачи проекта:**\n",
    "\n",
    "- Выделите группы пользователей, которые различаются по метрикам:\n",
    "    - retention rate,\n",
    "    - время проведенное в приложении,\n",
    "    - частота действий,\n",
    "    - конверсия с целевое действие - просмотр контактов\n",
    "- Проведите исследовательский анализ данных\n",
    "- Сегментируйте пользователей на основе действий\n",
    "- Проверьте статистические гипотезы\n"
   ]
  },
  {
   "cell_type": "markdown",
   "metadata": {},
   "source": [
    "# Декомпозиция"
   ]
  },
  {
   "cell_type": "markdown",
   "metadata": {},
   "source": [
    "**1. Предобработка данных**\n",
    "\n",
    "1.1. Загрузка данных и знакомство с ними\n",
    "    \n",
    "1.2. Привеление названий стобцов к змеиному регистру\n",
    "    \n",
    "1.3. Приведение данных в столбцах к нужным типам\n",
    "    \n",
    "1.4. Проверка на пропуски\n",
    "    \n",
    "1.5. Поверка на дубликаты\n",
    "    \n",
    "    \n",
    "**2. Исследовательский анализ данных**\n",
    "    \n",
    "2.1. Выделение сессий пользователей\n",
    "\n",
    "2.2. Расчет метрик:\n",
    "   - Retention Rate \n",
    "   - Рассчёт сколько в среднем времени пользователи проводят в приложении\n",
    "   - Рассчёт как часто пользователи совершают действия в приложении\n",
    "   - Конверсия в целевое действие — просмотр контактов     \n",
    "\n",
    "\n",
    "**3. Сегментация клиентов**\n",
    "  \n",
    "3.1. Рассчёт Retention rate для каждого сегмента\n",
    "\n",
    "3.2. Сравнение сегментированных групп по количеству событий (действия пользователей)\n",
    "\n",
    "3.3. Для каждого сегмента считаем конверсию в целевое событие (просмотр контактов)\n",
    "\n",
    "    \n",
    "**4. Проверка статистических гипотез**\n",
    "\n",
    "4.1. Проверка гипотезы: две группы клиентов, пришедших по ссылкам из yandex и google, демонстрируют разную конверсию в просмотры контактов\n",
    "    \n",
    "4.3. Проверка собственной гипотезы: пользователи, добавившие объявление в избранное (*favorites_add*) чаще доходят до целевого действия - \"посмотреть номер телефона\" (*contacts_show  и  show_contacts*) на карточке объявления\n",
    "    \n",
    "**5. Выводы и рекомендации**"
   ]
  },
  {
   "cell_type": "markdown",
   "metadata": {},
   "source": [
    "## Предобработка данных"
   ]
  },
  {
   "cell_type": "markdown",
   "metadata": {},
   "source": [
    "**Импортируем бибилотеки и взглянем на имеющиеся датасеты**"
   ]
  },
  {
   "cell_type": "code",
   "execution_count": null,
   "metadata": {},
   "outputs": [],
   "source": [
    "import pandas as pd\n",
    "import datetime as dt\n",
    "import matplotlib.pyplot as plt\n",
    "import seaborn as sns\n",
    "import numpy as np\n",
    "import math as mth\n",
    "from datetime import timedelta\n",
    "from datetime import datetime, timedelta\n",
    "from scipy import stats as st\n",
    "from cmath import sqrt\n",
    "import plotly.express as px\n",
    "from sklearn.preprocessing import StandardScaler\n",
    "from sklearn.linear_model import LogisticRegression\n",
    "from scipy.cluster.hierarchy import dendrogram, linkage\n",
    "from sklearn.cluster import KMeans\n",
    "\n",
    "import warnings \n",
    "warnings.filterwarnings('ignore')"
   ]
  },
  {
   "cell_type": "markdown",
   "metadata": {},
   "source": []
  },
  {
   "cell_type": "code",
   "execution_count": null,
   "metadata": {},
   "outputs": [],
   "source": [
    "mobile_sourсes = pd.read_csv('https://code.s3.yandex.net/datasets/mobile_soures.csv')\n",
    "mobile_dataset = pd.read_csv('https://code.s3.yandex.net/datasets/mobile_dataset.csv')"
   ]
  },
  {
   "cell_type": "code",
   "execution_count": null,
   "metadata": {},
   "outputs": [],
   "source": [
    "display(mobile_sourсes.head())\n",
    "display(mobile_dataset.head())"
   ]
  },
  {
   "cell_type": "code",
   "execution_count": null,
   "metadata": {},
   "outputs": [],
   "source": [
    "mobile_sourсes.info()"
   ]
  },
  {
   "cell_type": "code",
   "execution_count": null,
   "metadata": {},
   "outputs": [],
   "source": [
    "mobile_sourсes"
   ]
  },
  {
   "cell_type": "code",
   "execution_count": null,
   "metadata": {},
   "outputs": [],
   "source": [
    "mobile_dataset.info()"
   ]
  },
  {
   "cell_type": "markdown",
   "metadata": {},
   "source": [
    "**Приведём название столбцов к змеиному регистру**"
   ]
  },
  {
   "cell_type": "code",
   "execution_count": null,
   "metadata": {},
   "outputs": [],
   "source": [
    "mobile_sourсes.rename(columns={'userId': 'user_id'}, inplace=True)"
   ]
  },
  {
   "cell_type": "code",
   "execution_count": null,
   "metadata": {},
   "outputs": [],
   "source": [
    "mobile_dataset.columns = mobile_dataset.columns.str.replace('.','_')\n",
    "mobile_sourсes.columns = mobile_sourсes.columns.str.replace('.','_')"
   ]
  },
  {
   "cell_type": "markdown",
   "metadata": {},
   "source": [
    "**Изменим тип данных в *event_time***"
   ]
  },
  {
   "cell_type": "code",
   "execution_count": null,
   "metadata": {},
   "outputs": [],
   "source": [
    "mobile_dataset['event_time'] = pd.to_datetime(mobile_dataset['event_time'], format='%Y-%m-%d %H:%M:%S')"
   ]
  },
  {
   "cell_type": "code",
   "execution_count": null,
   "metadata": {},
   "outputs": [],
   "source": [
    "mobile_dataset"
   ]
  },
  {
   "cell_type": "markdown",
   "metadata": {},
   "source": [
    "**Проведём проверку на пропуски**"
   ]
  },
  {
   "cell_type": "code",
   "execution_count": null,
   "metadata": {},
   "outputs": [],
   "source": [
    "mobile_dataset.isna().sum()"
   ]
  },
  {
   "cell_type": "code",
   "execution_count": null,
   "metadata": {},
   "outputs": [],
   "source": [
    "mobile_sourсes.isna().sum()"
   ]
  },
  {
   "cell_type": "markdown",
   "metadata": {},
   "source": [
    "**Проверим датасеты на явные и неявные дубликаты**"
   ]
  },
  {
   "cell_type": "code",
   "execution_count": null,
   "metadata": {},
   "outputs": [],
   "source": [
    "mobile_dataset.duplicated().sum()"
   ]
  },
  {
   "cell_type": "code",
   "execution_count": null,
   "metadata": {},
   "outputs": [],
   "source": [
    "mobile_sourсes.duplicated().sum()"
   ]
  },
  {
   "cell_type": "markdown",
   "metadata": {},
   "source": [
    "Явных дубликатов нет. Теперь посмотрим что там с неявными"
   ]
  },
  {
   "cell_type": "code",
   "execution_count": null,
   "metadata": {},
   "outputs": [],
   "source": [
    "mobile_dataset['event_name'].unique()"
   ]
  },
  {
   "cell_type": "markdown",
   "metadata": {},
   "source": [
    "Чтож, заменим *show_contacts* на *contacts_show*, т.к. это одно и тоже, а *search_1*, *search_2* и т.д. на просто *search*"
   ]
  },
  {
   "cell_type": "code",
   "execution_count": null,
   "metadata": {},
   "outputs": [],
   "source": [
    "mobile_dataset['event_name'] = mobile_dataset['event_name'].replace('show_contacts', 'contacts_show')"
   ]
  },
  {
   "cell_type": "code",
   "execution_count": null,
   "metadata": {},
   "outputs": [],
   "source": [
    "mobile_dataset['event_name'] = mobile_dataset['event_name'].replace(['search_1', 'search_2', 'search_3', 'search_4', 'search_5',\n",
    "                                                           'search_6', 'search_7'], 'search')"
   ]
  },
  {
   "cell_type": "code",
   "execution_count": null,
   "metadata": {},
   "outputs": [],
   "source": [
    "mobile_dataset['event_name'].unique()"
   ]
  },
  {
   "cell_type": "code",
   "execution_count": null,
   "metadata": {},
   "outputs": [],
   "source": [
    "mobile_sourсes['source'].unique()"
   ]
  },
  {
   "cell_type": "markdown",
   "metadata": {},
   "source": [
    "**Объединим два датасета в один по id пользователей**"
   ]
  },
  {
   "cell_type": "code",
   "execution_count": null,
   "metadata": {},
   "outputs": [],
   "source": [
    "mobile_dataset['user_id'].nunique()"
   ]
  },
  {
   "cell_type": "code",
   "execution_count": null,
   "metadata": {},
   "outputs": [],
   "source": [
    "mobile_sourсes['user_id'].nunique()"
   ]
  },
  {
   "cell_type": "code",
   "execution_count": null,
   "metadata": {},
   "outputs": [],
   "source": [
    "df = mobile_dataset.merge(mobile_sourсes, on='user_id') "
   ]
  },
  {
   "cell_type": "code",
   "execution_count": null,
   "metadata": {
    "scrolled": true
   },
   "outputs": [],
   "source": [
    "df"
   ]
  },
  {
   "cell_type": "markdown",
   "metadata": {},
   "source": [
    "**Промежуточный вывод по предобработке данных:**\n",
    "\n",
    "- Импортировали бибилотеки\n",
    "- Загрузили данные и ознакомились с ними с ними\n",
    "- Привели названия стобцов к правильному синтаксису\n",
    "- Привели event_time к нужному типу данных\n",
    "- Проверили наличие пропусков\n",
    "- Проверили наличие явных дубликатов\n",
    "- Выявили и обработали неявные дубликаты\n",
    "- Объединили данные в один датасет для исследования"
   ]
  },
  {
   "cell_type": "code",
   "execution_count": null,
   "metadata": {},
   "outputs": [],
   "source": [
    "df['date'] = df['event_time'].dt.date"
   ]
  },
  {
   "cell_type": "code",
   "execution_count": null,
   "metadata": {},
   "outputs": [],
   "source": [
    "df['event_time'] = pd.to_datetime(df['event_time']).dt.round('s')"
   ]
  },
  {
   "cell_type": "markdown",
   "metadata": {},
   "source": [
    "## Исследовательский анализ данных"
   ]
  },
  {
   "cell_type": "markdown",
   "metadata": {},
   "source": [
    "### Выделим сессии пользователей"
   ]
  },
  {
   "cell_type": "code",
   "execution_count": null,
   "metadata": {},
   "outputs": [],
   "source": [
    "g = (df.sort_values(['user_id', 'event_time']).groupby('user_id')['event_time'].diff() > pd.Timedelta('30Min')).cumsum()\n",
    "\n",
    "df['session'] = df.groupby(['user_id', g], sort=False).ngroup() + 1"
   ]
  },
  {
   "cell_type": "code",
   "execution_count": null,
   "metadata": {},
   "outputs": [],
   "source": [
    "df"
   ]
  },
  {
   "cell_type": "code",
   "execution_count": null,
   "metadata": {},
   "outputs": [],
   "source": [
    "df.sort_values(['user_id', 'event_time'])"
   ]
  },
  {
   "cell_type": "markdown",
   "metadata": {},
   "source": [
    "### Расчитаем метрики"
   ]
  },
  {
   "cell_type": "markdown",
   "metadata": {},
   "source": [
    "#### Retention rate"
   ]
  },
  {
   "cell_type": "markdown",
   "metadata": {},
   "source": [
    "Для начала добавим столбец с датами и приведём его к нужному нам формату"
   ]
  },
  {
   "cell_type": "code",
   "execution_count": null,
   "metadata": {},
   "outputs": [],
   "source": [
    "df['date'] = df['event_time'].dt.date\n",
    "df['date'] = pd.to_datetime(df['date'], format='%Y-%m-%d')\n",
    "df.head()"
   ]
  },
  {
   "cell_type": "markdown",
   "metadata": {},
   "source": [
    "А теперь посмотрим данные за какой период хранятся в нашем датасете"
   ]
  },
  {
   "cell_type": "code",
   "execution_count": null,
   "metadata": {},
   "outputs": [],
   "source": [
    "display(df['date'].min())\n",
    "display(df['date'].max())"
   ]
  },
  {
   "cell_type": "markdown",
   "metadata": {},
   "source": [
    "Значится у нас имеются события с 7 октября 2019 по 3 ноября 2019. Примерно месяц, следовательно будет удобно посчитать 4 когорты по неделям. Что ж начнём с самого начала, а именно с первого дня активности пользователей, для чего сделаем отдельный датафрейм *activity_date_first*"
   ]
  },
  {
   "cell_type": "code",
   "execution_count": null,
   "metadata": {},
   "outputs": [],
   "source": [
    "activity_date_first = df.groupby(['user_id'])['date'].min()\n",
    "activity_date_first.name = 'activity_date_first'\n",
    "user_activity = df.join(activity_date_first,on = 'user_id')"
   ]
  },
  {
   "cell_type": "markdown",
   "metadata": {},
   "source": [
    "Теперь найдём первую неделю активности, она же будет нашей первой когортой"
   ]
  },
  {
   "cell_type": "code",
   "execution_count": null,
   "metadata": {},
   "outputs": [],
   "source": [
    "user_activity['activity_week'] = pd.to_datetime(user_activity['date'],\n",
    "                                                unit ='d') - pd.to_timedelta(user_activity['date'].dt.dayofweek, unit = 'd')\n",
    "user_activity['first_activity_week'] = pd.to_datetime(user_activity['activity_date_first'],\n",
    "                                                      unit = 'd') - pd.to_timedelta(\n",
    "user_activity['activity_date_first'].dt.dayofweek, unit = 'd')"
   ]
  },
  {
   "cell_type": "markdown",
   "metadata": {},
   "source": [
    "Рассчитаем *lifetime* пользователя когорт"
   ]
  },
  {
   "cell_type": "code",
   "execution_count": null,
   "metadata": {
    "scrolled": true
   },
   "outputs": [],
   "source": [
    "user_activity['cohort_lifetime'] = user_activity['activity_week'] - user_activity['first_activity_week']\n",
    "user_activity['cohort_lifetime'] = user_activity['cohort_lifetime'] / np.timedelta64(1,'W')\n",
    "user_activity['cohort_lifetime'] = user_activity['cohort_lifetime'].astype(int)"
   ]
  },
  {
   "cell_type": "markdown",
   "metadata": {},
   "source": [
    "Посчитаем размеры когорт"
   ]
  },
  {
   "cell_type": "code",
   "execution_count": null,
   "metadata": {},
   "outputs": [],
   "source": [
    "cohort_sizes = user_activity.groupby(['first_activity_week','cohort_lifetime'], as_index = False\n",
    "                                    ).agg({'user_id':'nunique'})"
   ]
  },
  {
   "cell_type": "markdown",
   "metadata": {},
   "source": [
    "Итак, у нас есть почти все данные для рассчёта Retention Rate, \n",
    "Однако нужно сперва получить число пользователей, которые изначально были в когорте, чтобы на него разделить число пользователей в каждую следующую неделю. "
   ]
  },
  {
   "cell_type": "code",
   "execution_count": null,
   "metadata": {},
   "outputs": [],
   "source": [
    "initial_users_count = cohort_sizes[cohort_sizes['cohort_lifetime'] == 0][['first_activity_week','user_id']]\n",
    "initial_users_count = initial_users_count.rename(columns={'user_id':'original_cohort_users'})\n",
    "cohort_sizes = cohort_sizes.merge(initial_users_count,on='first_activity_week')"
   ]
  },
  {
   "cell_type": "markdown",
   "metadata": {},
   "source": [
    "Наконец мы можем рассчитать нашу метрику"
   ]
  },
  {
   "cell_type": "code",
   "execution_count": null,
   "metadata": {},
   "outputs": [],
   "source": [
    "cohort_sizes['retention'] = cohort_sizes['user_id']/cohort_sizes['original_cohort_users']"
   ]
  },
  {
   "cell_type": "markdown",
   "metadata": {},
   "source": [
    "Построим сводную таблицу удержания"
   ]
  },
  {
   "cell_type": "code",
   "execution_count": null,
   "metadata": {},
   "outputs": [],
   "source": [
    "retention_pivot = cohort_sizes.pivot_table(index='first_activity_week',\n",
    "                                      columns='cohort_lifetime',values='retention',aggfunc='sum').fillna(0)\n",
    "display(retention_pivot)"
   ]
  },
  {
   "cell_type": "markdown",
   "metadata": {},
   "source": [
    "Наглядней будет рассмотреть на тепловой карте"
   ]
  },
  {
   "cell_type": "code",
   "execution_count": null,
   "metadata": {},
   "outputs": [],
   "source": [
    "plt.figure(figsize = (15,10))\n",
    "sns.heatmap(retention_pivot, annot = True, fmt = '.2%', cmap = \"Blues\")\n",
    "plt.title('Тепловая карта удержания')  \n",
    "plt.yticks(rotation = 45) \n",
    "plt.xlabel('Лайфтайм', fontsize = 14)\n",
    "plt.ylabel('Дата начала когорты', fontsize = 14)\n",
    "plt.show()"
   ]
  },
  {
   "cell_type": "markdown",
   "metadata": {},
   "source": [
    "**Промежуточный вывод:**\n",
    "\n",
    "- Показатель удержания падает после первой недели больше, чем на половину. Мало что можно сказать о клиентах, пришедших после 21 октября. К концу первой недели больше половины уникальных пользователей перестает пользоваться приложением.\n",
    "\n",
    "- Чем больше когорта проводит времени в приложении, тем меньше пользователей остаётся, что печально, хоть и вполне закономерно. Не всякий находит приложение удобным и полезным для себя. Это может быть связано с тем, что в нашу цифровую эпоху большинство пользователей установив приложение, могут просто забыть про него уже через час, если у них не возникает необходимости постоянной необходимости пиробретать товары с не сильно высокой ликвидностью(т.е. не товары повседневного использования вроде продуктов питания)."
   ]
  },
  {
   "cell_type": "markdown",
   "metadata": {},
   "source": [
    "#### Сколько в среднем времени пользователи проводят в приложении"
   ]
  },
  {
   "cell_type": "markdown",
   "metadata": {},
   "source": [
    "Теперь нам нужно выделить время начала и конца пользовательских сессий и глянуть на среднюю продолжительность сессий"
   ]
  },
  {
   "cell_type": "code",
   "execution_count": null,
   "metadata": {},
   "outputs": [],
   "source": [
    "df['session_day'] = df['event_time'].dt.day"
   ]
  },
  {
   "cell_type": "code",
   "execution_count": null,
   "metadata": {},
   "outputs": [],
   "source": [
    "first_event_session = df.groupby(['user_id', 'session_day']).agg({'event_time': ['min', 'max']}).reset_index()\n",
    "display(first_event_session)"
   ]
  },
  {
   "cell_type": "code",
   "execution_count": null,
   "metadata": {},
   "outputs": [],
   "source": [
    "first_event_session.columns = [''.join(col) for col in first_event_session.columns]"
   ]
  },
  {
   "cell_type": "code",
   "execution_count": null,
   "metadata": {},
   "outputs": [],
   "source": [
    "display(first_event_session)"
   ]
  },
  {
   "cell_type": "code",
   "execution_count": null,
   "metadata": {},
   "outputs": [],
   "source": [
    "first_event_session['session_duration_sec'] = (\n",
    "    first_event_session['event_timemax'] - first_event_session['event_timemin']).dt.seconds\n",
    "display(first_event_session['session_duration_sec'].mean())"
   ]
  },
  {
   "cell_type": "markdown",
   "metadata": {},
   "source": [
    "Среднее время сессий составило 4982 секунды. Это примерно 1,38 от часа. Теперь нужно взглянуть на среднее время по пользователям"
   ]
  },
  {
   "cell_type": "code",
   "execution_count": null,
   "metadata": {},
   "outputs": [],
   "source": [
    "user_session_duration = first_event_session.groupby('user_id').agg({'session_duration_sec': \n",
    "                        'mean'}).reset_index().sort_values(by='session_duration_sec', ascending=False)"
   ]
  },
  {
   "cell_type": "code",
   "execution_count": null,
   "metadata": {},
   "outputs": [],
   "source": [
    "user_session_duration['session_duration_sec'].describe()"
   ]
  },
  {
   "cell_type": "code",
   "execution_count": null,
   "metadata": {},
   "outputs": [],
   "source": [
    "plt.figure(figsize = (12, 6))\n",
    "user_session_duration['session_duration_sec'].hist(bins = 50, range = (0, 9000))\n",
    "plt.title('Соотношение количества сессий к продолжительности')\n",
    "plt.xlabel('Продолжительность сессии', fontsize = 15)\n",
    "plt.ylabel('Количество сессий', fontsize = 15)\n",
    "plt.show()"
   ]
  },
  {
   "cell_type": "markdown",
   "metadata": {},
   "source": [
    "Пик в районе нуля может обуславливаться техническими ошибками как в приложении, так и в выгружнных данных. Информативней будет взглянуть на медианное значение составляющее около 16,43 от минуты, что в свою очередь сильно меньше среднего значения. Но похоже что этого времени хватит чтобы зайти в приложение и выбрать товар, который изначально искал"
   ]
  },
  {
   "cell_type": "markdown",
   "metadata": {},
   "source": [
    "**Промежуточный вывод:**\n",
    "\n",
    "- В среднем сессии длятся в районе 1 часа и 20 минут. Посмотрим на среднее время по пользователям\n",
    "- Данные про 0 секунд в приложении можно отнести в техническим ошибкам, а слишком длительное времяприпровождение пользователя в приложении, либо к технической ошибке при выгрузке данных, либо предположить, что это суммарное время сессий за разные дни.\n",
    "- Медиана сильно меньше среднего значения, и составляет около 17 минут, что ещё раз позволяет нам убедиться, что от 20 до 30 минут достаточно пользователю на одну сессию."
   ]
  },
  {
   "cell_type": "markdown",
   "metadata": {},
   "source": [
    "#### Частота действий"
   ]
  },
  {
   "cell_type": "code",
   "execution_count": null,
   "metadata": {},
   "outputs": [],
   "source": [
    "event_named = df.sort_values(by = 'event_name', ascending = False)\n",
    "event_named"
   ]
  },
  {
   "cell_type": "code",
   "execution_count": null,
   "metadata": {},
   "outputs": [],
   "source": [
    "event_named.reset_index().groupby('event_name')['user_id'].nunique()"
   ]
  },
  {
   "cell_type": "markdown",
   "metadata": {},
   "source": [
    "Сразу видно что наиболее частое действие в приложении это tips_show, т.е. показ рекомендованного объявления. Это может говорить о том, что в приложении можно грамотно разместить то, что необходимо(например рекламу или важное объявление). Теперь взглянем нп количество действий в рамках отдельной сессии"
   ]
  },
  {
   "cell_type": "code",
   "execution_count": null,
   "metadata": {},
   "outputs": [],
   "source": [
    "event_session = df.groupby(['user_id', 'session_day']).agg({'event_time': ['min', 'max'], 'event_name':'count'}).reset_index()\n",
    "event_session.head()"
   ]
  },
  {
   "cell_type": "code",
   "execution_count": null,
   "metadata": {},
   "outputs": [],
   "source": [
    "event_session.columns = [''.join(col) for col in event_session.columns]\n",
    "event_session = event_session.sort_values(by = 'event_namecount', ascending = False)"
   ]
  },
  {
   "cell_type": "code",
   "execution_count": null,
   "metadata": {},
   "outputs": [],
   "source": [
    "event_session['event_namecount'].describe()"
   ]
  },
  {
   "cell_type": "code",
   "execution_count": null,
   "metadata": {},
   "outputs": [],
   "source": [
    "plt.figure(figsize = (10, 6))\n",
    "event_session['event_namecount'].hist(bins = 20, range=(0, 250))\n",
    "plt.title('Соотношение действий на сессию')\n",
    "plt.xlabel('Кол-во действий', fontsize = 15)\n",
    "plt.ylabel('Частота действий', fontsize = 15)\n",
    "plt.show()"
   ]
  },
  {
   "cell_type": "markdown",
   "metadata": {},
   "source": [
    "**Промежуточный вывод:**\n",
    "\n",
    "- В основном пользователи делают от 10 до 20 действий в приложении\n",
    "- Наибольшее число выбросов в районе 0, связанные с технической частью вопроса. И до 384 действий в большую сторону.\n",
    "- Среднее количество действий за сессию около 9.5, а медианное в районе 6."
   ]
  },
  {
   "cell_type": "markdown",
   "metadata": {},
   "source": [
    "#### Конверсия с целевое действие - просмотр контактов"
   ]
  },
  {
   "cell_type": "code",
   "execution_count": null,
   "metadata": {},
   "outputs": [],
   "source": [
    "df_contacts = df.query('event_name == \"contacts_show\"')\n",
    "df_contacts.head()"
   ]
  },
  {
   "cell_type": "code",
   "execution_count": null,
   "metadata": {},
   "outputs": [],
   "source": [
    "(df_contacts['user_id'].nunique() / df['user_id'].nunique()) * 100"
   ]
  },
  {
   "cell_type": "markdown",
   "metadata": {},
   "source": [
    "**Промежуточный вывод:**\n",
    "\n",
    "Конверсия в целевое действие — 'contacts_show' (просмотр контактов) находится в районе 23%. Не хорошо, но и не ужасно"
   ]
  },
  {
   "cell_type": "markdown",
   "metadata": {},
   "source": [
    "**Вывод по исследовательскому анализу:**\n",
    "\n",
    "- Наш retention составляет около 10,5% за 28 дней. Поведение пользователей находится в рамках нормы.\n",
    "- В среднем пользователь проводит в приложении от 15 до 25 минут в месяц. При поиске конкретного товара такой промежуток времени должен быть достаточным.\n",
    "- Самое популярное действие 'tips_show', однако 'tips_click' на предпоследнем месте. Стоит обратить на это внимание, т.к. объявления, которые приложение рекомендует не соответствуют запросам потребителя.\n",
    "- Конверсия по 'просмотру контакта' находится в районе 23%. Если обратить вниание на алгоритмы рекомендаций, то то и \"показ контактов\" тоже наверняка возрастёт"
   ]
  },
  {
   "cell_type": "markdown",
   "metadata": {},
   "source": [
    "## Сегментация клиентов"
   ]
  },
  {
   "cell_type": "markdown",
   "metadata": {},
   "source": [
    "Проведём кластеризацию по времени проведения в приложении"
   ]
  },
  {
   "cell_type": "code",
   "execution_count": null,
   "metadata": {
    "scrolled": true
   },
   "outputs": [],
   "source": [
    "df.sort_values(['user_id', 'event_time'])"
   ]
  },
  {
   "cell_type": "code",
   "execution_count": null,
   "metadata": {},
   "outputs": [],
   "source": [
    "scaler = StandardScaler() \n",
    "df_cluster = pd.pivot_table(df, index = 'user_id'\\\n",
    "                            ,columns = ['event_name'],values = 'session_day',fill_value=0)\\\n",
    ".rename_axis(None, axis=1)\n",
    "\n",
    "display(df_cluster.head())"
   ]
  },
  {
   "cell_type": "markdown",
   "metadata": {},
   "source": [
    "Уберём действия, которые мало характеризуют клиента, т.к. являются навязанными рекламодателем(платформой)"
   ]
  },
  {
   "cell_type": "code",
   "execution_count": null,
   "metadata": {},
   "outputs": [],
   "source": [
    "x = df_cluster.drop(['tips_show', 'tips_click'], axis = 1)\n",
    "display(x.head())"
   ]
  },
  {
   "cell_type": "code",
   "execution_count": null,
   "metadata": {},
   "outputs": [],
   "source": [
    "x = df_cluster.drop(['tips_show', 'tips_click'], axis = 1)\n",
    "display(x.head())"
   ]
  },
  {
   "cell_type": "code",
   "execution_count": null,
   "metadata": {},
   "outputs": [],
   "source": [
    "x_sc = scaler.fit_transform(x)  \n",
    "linked = linkage(x_sc, method = 'ward')\n",
    "plt.figure(figsize= (25, 10))  \n",
    "dendrogram(linked, orientation = 'top', no_labels = True)\n",
    "plt.title('Дендрограмма иерархической кластеризации')\n",
    "plt.show() "
   ]
  },
  {
   "cell_type": "markdown",
   "metadata": {},
   "source": [
    "Визуально выделяем 2 кластера, стало быть минимальное количество кластеров для обучения модели кластеризации 2. Обучим модель кластеризации и глянем что получилось"
   ]
  },
  {
   "cell_type": "code",
   "execution_count": null,
   "metadata": {},
   "outputs": [],
   "source": [
    "sc = StandardScaler()\n",
    "x_sc_1 = sc.fit_transform(x)\n",
    "\n",
    "km = KMeans(n_clusters = 2, random_state = 0)\n",
    "labels =  km.fit_predict(x_sc)"
   ]
  },
  {
   "cell_type": "code",
   "execution_count": null,
   "metadata": {},
   "outputs": [],
   "source": [
    "df_cluster['cluster'] = labels\n",
    "display(df_cluster.groupby('cluster').mean())"
   ]
  },
  {
   "cell_type": "code",
   "execution_count": null,
   "metadata": {},
   "outputs": [],
   "source": [
    "df_cluster.reset_index().groupby('cluster')['user_id'].nunique()"
   ]
  },
  {
   "cell_type": "code",
   "execution_count": null,
   "metadata": {},
   "outputs": [],
   "source": [
    "df_cluster.groupby('cluster').mean().T"
   ]
  },
  {
   "cell_type": "markdown",
   "metadata": {},
   "source": [
    "**Промежуточный вывод:**\n",
    "\n",
    "- Кластеризация провели методом KMeans. Количество кластеров определили как 3\n",
    "\n",
    "- Характеристика кластеров:\n",
    "    - Кластер \"0\" - самый многочисленный (3365 пользователей). Больше используют карту размещения объявлений и так же пользуются поиском. Видимо здесь тоже преобладает конкретика при поиске товаров, но так же важен вопрос логистики(ведь никто не захочет плестись за нужной ему вещью к чёрту на куличики, если можно преобрести такой же в каком нибудь хоз. магазине неподалёку, пусть и дороже)\n",
    "    - Кластер \"1\" - самый малочисленный (928 пользователей). Чаще всего рассматривают фотографии товара и пользуются функциями поиска. Можно предположить, что пользователи в этом сегменте препочитают искать конкретные товары и довольно большое значение придают внешщему представлению товара.\n",
    "\n",
    "- Таким образом можем приступить к тем вычислениям, которые покажут нам, на каком сегменте стоит строить развитие приложения в будущем\n",
    "\n",
    "    3.1. Рассчёт Retention rate для каждого сегмента\n",
    "\n",
    "    3.2. Сравнение сегментированных групп по количеству событий (действия пользователей)\n",
    "\n",
    "    3.3. Для каждого сегмента считаем конверсию в целевое событие (просмотр контактов)"
   ]
  },
  {
   "cell_type": "markdown",
   "metadata": {},
   "source": [
    "### Рассчёт Retention rate для каждого сегмента"
   ]
  },
  {
   "cell_type": "code",
   "execution_count": null,
   "metadata": {},
   "outputs": [],
   "source": [
    "cluster_id = pd.pivot_table(df_cluster, values = 'cluster',index='user_id').reset_index()\n",
    "display(cluster_id.head())"
   ]
  },
  {
   "cell_type": "code",
   "execution_count": null,
   "metadata": {
    "scrolled": true
   },
   "outputs": [],
   "source": [
    "df = df.merge(cluster_id, how = 'left', on = 'user_id')\n",
    "\n",
    "display(df_cluster)"
   ]
  },
  {
   "cell_type": "code",
   "execution_count": null,
   "metadata": {},
   "outputs": [],
   "source": [
    "df = df_cluster.merge(user_activity, how = 'left', on = 'user_id')"
   ]
  },
  {
   "cell_type": "code",
   "execution_count": null,
   "metadata": {
    "scrolled": true
   },
   "outputs": [],
   "source": [
    "display(df_cluster)"
   ]
  },
  {
   "cell_type": "markdown",
   "metadata": {},
   "source": [
    "Выведем количество пользователей в кластерах и создадим колонку с минимальной датой события"
   ]
  },
  {
   "cell_type": "code",
   "execution_count": null,
   "metadata": {},
   "outputs": [],
   "source": [
    "df.groupby('cluster').agg({'user_id':'nunique'})"
   ]
  },
  {
   "cell_type": "code",
   "execution_count": null,
   "metadata": {
    "scrolled": true
   },
   "outputs": [],
   "source": [
    "df['min'] = df.groupby('user_id')['event_time'].transform('min')"
   ]
  },
  {
   "cell_type": "markdown",
   "metadata": {},
   "source": [
    "Теперь создадим переменные для каждого кластера, чтобы рассчитать Retention rate по ним"
   ]
  },
  {
   "cell_type": "code",
   "execution_count": null,
   "metadata": {},
   "outputs": [],
   "source": [
    "retention_rate_0 = df.query('cluster==0')\n",
    "retention_rate_1 = df.query('cluster==1')"
   ]
  },
  {
   "cell_type": "markdown",
   "metadata": {},
   "source": [
    "Можем вычислить размеры когорт, исходное количество пользователей, рассчитывать показатель Retention rate и построить хитмэп"
   ]
  },
  {
   "cell_type": "markdown",
   "metadata": {},
   "source": [
    "Кластер \"0\""
   ]
  },
  {
   "cell_type": "code",
   "execution_count": null,
   "metadata": {},
   "outputs": [],
   "source": [
    "cohort_sizes = retention_rate_0.groupby(['first_activity_week','cohort_lifetime'], as_index = False\n",
    "                                    ).agg({'user_id':'nunique'})\n",
    "\n",
    "initial_users_count = cohort_sizes[cohort_sizes['cohort_lifetime'] == 0][['first_activity_week','user_id']]\n",
    "initial_users_count = initial_users_count.rename(columns={'user_id':'original_cohort_users'})\n",
    "cohort_sizes = cohort_sizes.merge(initial_users_count,on='first_activity_week')\n",
    "\n",
    "cohort_sizes['retention'] = cohort_sizes['user_id']/cohort_sizes['original_cohort_users']\n",
    "retention_pivot = cohort_sizes.pivot_table(index='first_activity_week',\n",
    "                                      columns='cohort_lifetime',values='retention',aggfunc='sum').fillna(0)\n",
    "\n",
    "plt.figure(figsize=(12, 8))\n",
    "plt.title('Тепловая карта удержания пользователей 0 кластера')\n",
    "sns.heatmap(retention_pivot, annot=True, fmt='.1%', linewidths=2)\n",
    "plt.show()"
   ]
  },
  {
   "cell_type": "markdown",
   "metadata": {},
   "source": [
    "Кластер \"1\""
   ]
  },
  {
   "cell_type": "code",
   "execution_count": null,
   "metadata": {
    "scrolled": false
   },
   "outputs": [],
   "source": [
    "cohort_sizes = retention_rate_1.groupby(['first_activity_week','cohort_lifetime'], as_index = False\n",
    "                                    ).agg({'user_id':'nunique'})\n",
    "\n",
    "initial_users_count = cohort_sizes[cohort_sizes['cohort_lifetime'] == 0][['first_activity_week','user_id']]\n",
    "initial_users_count = initial_users_count.rename(columns={'user_id':'original_cohort_users'})\n",
    "cohort_sizes = cohort_sizes.merge(initial_users_count,on='first_activity_week')\n",
    "\n",
    "cohort_sizes['retention'] = cohort_sizes['user_id']/cohort_sizes['original_cohort_users']\n",
    "retention_pivot = cohort_sizes.pivot_table(index='first_activity_week',\n",
    "                                      columns='cohort_lifetime',values='retention',aggfunc='sum').fillna(0)\n",
    "\n",
    "plt.figure(figsize=(12, 8))\n",
    "plt.title('Тепловая карта удержания пользователей 1 кластера')\n",
    "sns.heatmap(retention_pivot, annot=True, fmt='.1%', linewidths=2)\n",
    "plt.show()"
   ]
  },
  {
   "cell_type": "markdown",
   "metadata": {},
   "source": [
    "**Промежуточный вывод:**\n",
    "\n",
    "- Retention rate по кластерам:\n",
    "    - 0 кластер: при 3365 пользователях, RR = 8,9%\n",
    "    - 1 кластер: при 928 пользователях, RR = 21,6%\n",
    "\n",
    "Таким образом соотношение количества пользователей и показателя RR лучше всего у 1 кластера. "
   ]
  },
  {
   "cell_type": "markdown",
   "metadata": {},
   "source": [
    "### Сравнение сегментированных групп по количеству событий (действия пользователей)"
   ]
  },
  {
   "cell_type": "markdown",
   "metadata": {},
   "source": [
    "Снова выделим отдельные кластеры для расчёта метрики"
   ]
  },
  {
   "cell_type": "code",
   "execution_count": null,
   "metadata": {},
   "outputs": [],
   "source": [
    "cluster_0 = df.query('cluster==0')\n",
    "cluster_1 = df.query('cluster==1')"
   ]
  },
  {
   "cell_type": "markdown",
   "metadata": {},
   "source": [
    "Посчитаем количество каждого действия и частоту этого действия по кластерам"
   ]
  },
  {
   "cell_type": "code",
   "execution_count": null,
   "metadata": {},
   "outputs": [],
   "source": [
    "cluster_0_event_count = (cluster_0.groupby('event_name', as_index=False)\n",
    "                      .agg(event_count=('event_name', 'count'))\n",
    "                      .sort_values(by='event_count', ascending=False))\n",
    "\n",
    "cluster_0_event_count['event_count'] = round(cluster_0_event_count['event_count']/cluster_0_event_count['event_count'].sum(), 3)\n",
    "\n",
    "print()\n",
    "display('Частота событий в кластере 0',cluster_0_event_count)"
   ]
  },
  {
   "cell_type": "code",
   "execution_count": null,
   "metadata": {},
   "outputs": [],
   "source": [
    "cluster_1_event_count = (cluster_1.groupby('event_name', as_index=False)\n",
    "                      .agg(event_count=('event_name', 'count'))\n",
    "                      .sort_values(by='event_count', ascending=False))\n",
    "\n",
    "cluster_1_event_count['event_count'] = round(cluster_1_event_count['event_count']/cluster_1_event_count['event_count'].sum(), 3)\n",
    "\n",
    "print()\n",
    "display('Частота событий в кластере 1',cluster_1_event_count)"
   ]
  },
  {
   "cell_type": "markdown",
   "metadata": {},
   "source": [
    "**Промежуточный вывод:**\n",
    "\n",
    "- Частота событий по кластерам:\n",
    "    - 0 кластер: топ 3 event_count: tips_show, advert_open, search\n",
    "    - 1 кластер: топ 3 event_count: photo_show, search, tips_show \n",
    "\n",
    "\n",
    "Очевидно, что большинство кластеров увидело рекомендованные объявления (tips_show), однако видно, что далеко не все перешли по этим рекомендациям. Зато многие открывали использовали поиск по сайту. Это может говорить о том, что большинство пользователей ищут что то конкретное, нежели заходят в приложение посмотреть чего там в принципе есть. Однако стоит всё же обратить внимание на рекомендации, уж больно хороший инструмент продажи и используется с такой низкой эффективностью"
   ]
  },
  {
   "cell_type": "markdown",
   "metadata": {},
   "source": [
    "### Для каждого сегмента считаем конверсию в целевое событие (просмотр контактов)"
   ]
  },
  {
   "cell_type": "markdown",
   "metadata": {},
   "source": [
    "Напишем функцию для рассчёта конверсии в целевое событие и используем уже разделённые на кластеры данные"
   ]
  },
  {
   "cell_type": "code",
   "execution_count": null,
   "metadata": {},
   "outputs": [],
   "source": [
    "def get_cs (y):\n",
    "    x = y.query('event_name == \"contacts_show\"')\n",
    "    cr = (x['user_id'].nunique() / y['user_id'].nunique()) * 100\n",
    "    print('{:.2f}%'.format(cr))"
   ]
  },
  {
   "cell_type": "code",
   "execution_count": null,
   "metadata": {},
   "outputs": [],
   "source": [
    "print('Конверсия в целевое действие (просмотр контактов) по кластерам')\n",
    "\n",
    "print('Пользователи из 0 кластера:')\n",
    "get_cs(cluster_0)\n",
    "\n",
    "print('Пользователи из 1 кластера:')\n",
    "get_cs(cluster_1)"
   ]
  },
  {
   "cell_type": "markdown",
   "metadata": {},
   "source": [
    "**Вывод по сегментации пользователей приложения:**\n",
    "\n",
    "- Итак, на основании исследования охараткеризуем каждый кластер:\n",
    "\n",
    "    - Кластер 0: состоит из 3365 пользователей, имеет коэфициент удержаний в 8,9%, часто открывают карточку товара. Имеет конверсию в целевое действие в 18.22%;\n",
    "    - Кластер 1: состоит из 928 пользователей, имеет коэфициент удержаний в 21,6%, смотрит фотокарточки товара или ищет что то конкретное. Имеет конверсию в целевое действие в 39.66%;\n",
    "   \n",
    "Таким образом, можно преположить, что наилучшим образом для приложения может сложиться фокусировка на инересах 1 кластера, как кластера с хорошим процентов удержания и конверсией в целевое действие."
   ]
  },
  {
   "cell_type": "markdown",
   "metadata": {},
   "source": [
    "## Проверка статистических гипотез"
   ]
  },
  {
   "cell_type": "markdown",
   "metadata": {},
   "source": [
    "### Проверка гипотезы: две группы клиентов, пришедших по ссылкам из yandex и google, демонстрируют разную конверсию в просмотры контактов"
   ]
  },
  {
   "cell_type": "markdown",
   "metadata": {},
   "source": [
    "Н0: Конверсия в просмотры контактов у пользователей, привлеченных из yandex и google одинаковая \n",
    "\n",
    "Н1: Конверсия в просмотры контактов у пользователей, привлеченных из yandex и google разная"
   ]
  },
  {
   "cell_type": "code",
   "execution_count": null,
   "metadata": {},
   "outputs": [],
   "source": [
    "yandex = df.query('source == \"yandex\"')\n",
    "google = df.query('source == \"google\"')\n",
    "sample_yandex = pd.pivot_table(yandex.query('event_name == \"contacts_show\" and source !=\"other\"')\\\n",
    "                                    ,index = 'event_name', values= ['user_id'],aggfunc = {'user_id':'nunique'}).reset_index()\n",
    "sample_google = pd.pivot_table(google.query('event_name == \"contacts_show\" and source !=\"other\"')\\\n",
    "                                    ,index = 'event_name', values= ['user_id'],aggfunc = {'user_id':'nunique'}).reset_index()\n",
    "action = np.array([sample_yandex.loc[0,'user_id']\n",
    "                  ,sample_google.loc[0,'user_id']]) \n",
    "total = np.array([len(pd.Series(yandex['user_id'].unique())),len(pd.Series(google['user_id'].unique()))])"
   ]
  },
  {
   "cell_type": "code",
   "execution_count": null,
   "metadata": {},
   "outputs": [],
   "source": [
    "def z_test_1(action, total):\n",
    "    alpha = .05\n",
    "    p1 = action[0]/total[0]\n",
    "    p2 = action[1]/total[1]\n",
    "    p_combined = (action[0] + action[1]) / (total[0] + total[1])\n",
    "\n",
    "    difference = p1 - p2 \n",
    "    z_value = difference / mth.sqrt(p_combined * (1 - p_combined) * (1 / total[0] + 1 / total[1]))\n",
    "    \n",
    "    distr = st.norm(0, 1) \n",
    "    z_value = difference / mth.sqrt(p_combined * (1 - p_combined) * (1 / total[0] + 1 / total[1]))\n",
    "\n",
    "    distr = st.norm(0, 1)\n",
    "    p_value = (1 - distr.cdf(abs(z_value))) * 2\n",
    "    \n",
    "    print('p-значение: ', p_value)\n",
    "    if p_value < alpha:\n",
    "        print('Отвергаем нулевую гипотезу: между выборками есть значимая разница')\n",
    "    else:\n",
    "        print(\n",
    "            'Не получилось отвергнуть нулевую гипотезу, нет оснований считать конверсию разной'\n",
    "        ) "
   ]
  },
  {
   "cell_type": "code",
   "execution_count": null,
   "metadata": {},
   "outputs": [],
   "source": [
    "z_test_1(action, total)"
   ]
  },
  {
   "cell_type": "markdown",
   "metadata": {},
   "source": [
    "**Промежуточный вывод:**\n",
    "\n",
    "Гипотеза, что \"две группы клиентов, пришедших по ссылкам из yandex и google, демонстрируют разную конверсию в просмотры контактов\" не подтвердилась"
   ]
  },
  {
   "cell_type": "markdown",
   "metadata": {},
   "source": [
    "### Проверка собственной гипотезы: пользователи, добавившие объявление в избранное (favorites_add) чаще доходят до целевого действия - \"посмотреть номер телефона\" (contacts_show и show_contacts) на карточке объявления"
   ]
  },
  {
   "cell_type": "markdown",
   "metadata": {},
   "source": [
    "Потрачено\n",
    "\n",
    "----\n",
    "\n",
    "Н0: Конверсия в просмотры контактов между теми пользователями, которые добавляют объявления в закладки, от тех кто не добавляет, не демонстрируют статистически важных различий\n",
    "\n",
    "Н1:Конверсия в просмотры контактов между теми пользователями, которые добавляют объявления в закладки, от тех кто не добавляет, демонстрируют разную конверсию в просмотры контактов\n",
    "\n",
    "----"
   ]
  },
  {
   "cell_type": "markdown",
   "metadata": {},
   "source": [
    "Н0: Конверсия в просмотры контактов между теми пользователями, которые добавляют объявления в закладки, от тех кто не добавляет, не демонстрируют статистически важных различий\n",
    "\n",
    "Н1: Конверсия в просмотры контактов между теми пользователями, которые добавляют объявления в закладки, от тех кто не добавляет, демонстрирует статистически важные различия"
   ]
  },
  {
   "cell_type": "code",
   "execution_count": null,
   "metadata": {},
   "outputs": [],
   "source": [
    "hypot_2 = df.query('event_name == \"favorites_add\"')['user_id'].unique()\n",
    "\n",
    "id_group_A = df.query('user_id in @hypot_2')['user_id'].unique()\n",
    "df_group_A = df.query('user_id in @id_group_A')\n",
    "id_target_A = df_group_A.query('event_name == \"contacts_show\"')['user_id'].nunique()\n",
    "\n",
    "id_group_B = df.query('user_id not in @hypot_2')['user_id'].unique()\n",
    "df_group_B = df.query('user_id in @id_group_B')\n",
    "id_target_B = df_group_B.query('event_name == \"contacts_show\"')['user_id'].nunique()\n",
    "\n",
    "print(\"Количество уникальных пользователей в группе А:\", len(id_group_A))\n",
    "print(\"Количество событий в группе А:\", len(df_group_A))\n",
    "print(\"Количество уникальных пользователей группы А, совершивших целевое действие:\", id_target_A)\n",
    "print(\"Количество уникальных пользователей в группе B:\", len(id_group_B))\n",
    "print(\"Количество событий в группе B:\", len(df_group_B))\n",
    "print(\"Количество уникальных пользователей группы В, совершивших целевое действие:\", id_target_B)"
   ]
  },
  {
   "cell_type": "code",
   "execution_count": null,
   "metadata": {},
   "outputs": [],
   "source": [
    "def z_test_3(grpA_2, grpB_2, grpA_1, grpB_1, alpha=0.05):\n",
    "    p1 = grpA_2 / grpA_1\n",
    "    p2 = grpB_2 / grpB_1\n",
    "    \n",
    "    print(grpA_2, grpB_2, grpA_1, grpB_1)\n",
    "\n",
    "    p_combined = (grpA_2 + grpB_2) / (grpA_1 + grpB_1)\n",
    "    difference = p1 - p2\n",
    "    \n",
    "    z_value = difference / mth.sqrt(p_combined * (1 - p_combined) * (1 / grpA_1 + 1 / grpB_1))\n",
    "    distr = st.norm(0, 1)  \n",
    "    p_value = (1 - distr.cdf(abs(z_value))) * 2 \n",
    "    print('p-значение: ', p_value)\n",
    "    if (p_value < alpha): \n",
    "        print('Отвергаем нулевую гипотезу, между выборками есть статистически значимые различия')\n",
    "    else:\n",
    "        print('Не получилось отвергнуть нулевую гипотезу, статистически значимых различий в выборках нет') "
   ]
  },
  {
   "cell_type": "code",
   "execution_count": null,
   "metadata": {},
   "outputs": [],
   "source": [
    "z_test_3(id_target_A, id_target_B, len(id_group_A), len(id_group_B))"
   ]
  },
  {
   "cell_type": "markdown",
   "metadata": {},
   "source": [
    "**Промежуточный вывод:**\n",
    "\n",
    "\n",
    "Гипотеза, что \"Конверсия в просмотры контактов между теми пользователями, которые добавляют объявления в закладки, от тех кто не добавляет, не демонстрируют статистически важных различий\" не подтвердилась"
   ]
  },
  {
   "cell_type": "markdown",
   "metadata": {},
   "source": [
    "## Общие выводы и рекомендации"
   ]
  },
  {
   "cell_type": "markdown",
   "metadata": {},
   "source": [
    "**Мы выполнили изначальные задачи проекта, а именно:**\n",
    "\n",
    "- Провели предобработку имеющих данных\n",
    "- Провели исследовательский анализ данных\n",
    "- Выделили группы пользователей, которые различаются по метрикам:\n",
    "    - retention rate,\n",
    "    - время проведенное в приложении,\n",
    "    - частота действий,\n",
    "    - конверсия с целевое действие - просмотр контактов\n",
    "- Сегментировали пользователей на основе действий\n",
    "- Выделили сегменты пользователей, которые различаются по метрикам:\n",
    "    - retention rate\n",
    "    - по количеству событий (действия пользователей)\n",
    "    - конверсии в целевое событие (просмотр контактов)\n",
    "- Проверили статистические гипотезы:\n",
    "    - Две группы клиентов, пришедших по ссылкам из yandex и google, демонстрируют разную конверсию в просмотры контактов\n",
    "    - Конверсия в просмотры контактов между теми пользователями, которые добавляют объявления в закладки, от тех кто не добавляет, не демонстрируют статистически важных различий\n",
    "\n",
    "На основе проведённых исследований, можно сказать, что коэфициент удержания пользователей можно считать приемлимым, но для дальнейшего развития следует улучшить этот показатель. Для этого можно провести более масштабную рекламную компанию, или улучшить само приложение(например, доработать алгоритм рекомендованных объявлений, чтобы больше пользователей переходили по ним)\n",
    "\n",
    "Так же при выборе кластера, на который стоит ориентироваться, следует обратить внимание на кластер № 1 из исследования, т.к. у него хороший процент удержания и конверсия в целевое действие.\n",
    "\n",
    "Более того, т.к. гипотеза, что \"две группы клиентов, пришедших по ссылкам из yandex и google, демонстрируют разную конверсию в просмотры контактов\" не подтвердилась, то не стоит делать ставку на один из источников привлечения без дополнительных исследований. Но стоит обратить внимание на пользователей, которые добавляют товар \"в избранное\", т.к. их конверсия в просмотр контактов и последующую покупку может быть выше."
   ]
  }
 ],
 "metadata": {
  "ExecuteTimeLog": [
   {
    "duration": 1502,
    "start_time": "2023-08-02T13:06:49.350Z"
   },
   {
    "duration": 338,
    "start_time": "2023-08-02T13:06:53.124Z"
   },
   {
    "duration": 15,
    "start_time": "2023-08-02T13:07:57.517Z"
   },
   {
    "duration": 29,
    "start_time": "2023-08-02T13:08:22.148Z"
   },
   {
    "duration": 19,
    "start_time": "2023-08-02T13:08:33.189Z"
   },
   {
    "duration": 13,
    "start_time": "2023-08-02T13:08:34.891Z"
   },
   {
    "duration": 4,
    "start_time": "2023-08-02T13:12:11.996Z"
   },
   {
    "duration": 12,
    "start_time": "2023-08-02T13:12:20.646Z"
   },
   {
    "duration": 4,
    "start_time": "2023-08-02T13:12:54.430Z"
   },
   {
    "duration": 12,
    "start_time": "2023-08-02T13:12:56.811Z"
   },
   {
    "duration": 66,
    "start_time": "2023-08-02T13:15:06.110Z"
   },
   {
    "duration": 13,
    "start_time": "2023-08-02T13:15:12.111Z"
   },
   {
    "duration": 46,
    "start_time": "2023-08-02T13:15:42.871Z"
   },
   {
    "duration": 1358,
    "start_time": "2023-08-02T13:15:49.576Z"
   },
   {
    "duration": 346,
    "start_time": "2023-08-02T13:15:50.936Z"
   },
   {
    "duration": 15,
    "start_time": "2023-08-02T13:15:51.284Z"
   },
   {
    "duration": 11,
    "start_time": "2023-08-02T13:15:51.300Z"
   },
   {
    "duration": 27,
    "start_time": "2023-08-02T13:15:51.313Z"
   },
   {
    "duration": 3,
    "start_time": "2023-08-02T13:15:51.342Z"
   },
   {
    "duration": 12,
    "start_time": "2023-08-02T13:15:51.347Z"
   },
   {
    "duration": 72,
    "start_time": "2023-08-02T13:15:51.361Z"
   },
   {
    "duration": 14,
    "start_time": "2023-08-02T13:16:00.896Z"
   },
   {
    "duration": 237,
    "start_time": "2023-08-02T13:19:31.993Z"
   },
   {
    "duration": 47,
    "start_time": "2023-08-02T13:19:36.770Z"
   },
   {
    "duration": 14,
    "start_time": "2023-08-02T13:19:38.081Z"
   },
   {
    "duration": 32,
    "start_time": "2023-08-02T13:22:33.458Z"
   },
   {
    "duration": 13,
    "start_time": "2023-08-02T13:22:35.435Z"
   },
   {
    "duration": 18,
    "start_time": "2023-08-02T13:24:00.002Z"
   },
   {
    "duration": 6,
    "start_time": "2023-08-02T13:24:01.770Z"
   },
   {
    "duration": 36,
    "start_time": "2023-08-02T13:24:36.642Z"
   },
   {
    "duration": 6,
    "start_time": "2023-08-02T13:24:41.211Z"
   },
   {
    "duration": 30,
    "start_time": "2023-08-02T13:24:44.619Z"
   },
   {
    "duration": 1556,
    "start_time": "2023-08-02T13:24:53.202Z"
   },
   {
    "duration": 270,
    "start_time": "2023-08-02T13:24:54.761Z"
   },
   {
    "duration": 16,
    "start_time": "2023-08-02T13:24:55.033Z"
   },
   {
    "duration": 19,
    "start_time": "2023-08-02T13:24:55.051Z"
   },
   {
    "duration": 51,
    "start_time": "2023-08-02T13:24:55.073Z"
   },
   {
    "duration": 26,
    "start_time": "2023-08-02T13:24:55.126Z"
   },
   {
    "duration": 59,
    "start_time": "2023-08-02T13:24:55.154Z"
   },
   {
    "duration": 78,
    "start_time": "2023-08-02T13:24:55.215Z"
   },
   {
    "duration": 17,
    "start_time": "2023-08-02T13:24:55.295Z"
   },
   {
    "duration": 29,
    "start_time": "2023-08-02T13:24:55.314Z"
   },
   {
    "duration": 77,
    "start_time": "2023-08-02T13:24:55.345Z"
   },
   {
    "duration": 14,
    "start_time": "2023-08-02T13:24:55.424Z"
   },
   {
    "duration": 8,
    "start_time": "2023-08-02T13:25:33.538Z"
   },
   {
    "duration": 5,
    "start_time": "2023-08-02T13:27:04.380Z"
   },
   {
    "duration": 39,
    "start_time": "2023-08-02T13:27:18.931Z"
   },
   {
    "duration": 9,
    "start_time": "2023-08-02T13:28:19.603Z"
   },
   {
    "duration": 4,
    "start_time": "2023-08-02T13:28:33.628Z"
   },
   {
    "duration": 15,
    "start_time": "2023-08-02T13:34:33.981Z"
   },
   {
    "duration": 7,
    "start_time": "2023-08-02T13:34:35.510Z"
   },
   {
    "duration": 19,
    "start_time": "2023-08-02T13:35:12.167Z"
   },
   {
    "duration": 14,
    "start_time": "2023-08-02T13:35:17.101Z"
   },
   {
    "duration": 45,
    "start_time": "2023-08-02T13:37:41.751Z"
   },
   {
    "duration": 3,
    "start_time": "2023-08-02T13:38:20.175Z"
   },
   {
    "duration": 17,
    "start_time": "2023-08-02T13:38:52.599Z"
   },
   {
    "duration": 1331,
    "start_time": "2023-08-02T13:38:57.705Z"
   },
   {
    "duration": 305,
    "start_time": "2023-08-02T13:38:59.038Z"
   },
   {
    "duration": 16,
    "start_time": "2023-08-02T13:38:59.344Z"
   },
   {
    "duration": 24,
    "start_time": "2023-08-02T13:38:59.362Z"
   },
   {
    "duration": 35,
    "start_time": "2023-08-02T13:38:59.388Z"
   },
   {
    "duration": 31,
    "start_time": "2023-08-02T13:38:59.425Z"
   },
   {
    "duration": 39,
    "start_time": "2023-08-02T13:38:59.458Z"
   },
   {
    "duration": 61,
    "start_time": "2023-08-02T13:38:59.499Z"
   },
   {
    "duration": 14,
    "start_time": "2023-08-02T13:38:59.562Z"
   },
   {
    "duration": 23,
    "start_time": "2023-08-02T13:38:59.579Z"
   },
   {
    "duration": 61,
    "start_time": "2023-08-02T13:38:59.603Z"
   },
   {
    "duration": 6,
    "start_time": "2023-08-02T13:38:59.666Z"
   },
   {
    "duration": 28,
    "start_time": "2023-08-02T13:38:59.673Z"
   },
   {
    "duration": 13,
    "start_time": "2023-08-02T13:38:59.702Z"
   },
   {
    "duration": 5,
    "start_time": "2023-08-02T13:38:59.717Z"
   },
   {
    "duration": 28,
    "start_time": "2023-08-02T13:38:59.723Z"
   },
   {
    "duration": 12,
    "start_time": "2023-08-02T13:38:59.753Z"
   },
   {
    "duration": 47,
    "start_time": "2023-08-02T13:38:59.767Z"
   },
   {
    "duration": 26,
    "start_time": "2023-08-02T13:38:59.815Z"
   },
   {
    "duration": 6,
    "start_time": "2023-08-02T13:38:59.842Z"
   },
   {
    "duration": 41,
    "start_time": "2023-08-02T13:38:59.849Z"
   },
   {
    "duration": 43,
    "start_time": "2023-08-02T13:38:59.892Z"
   },
   {
    "duration": 45,
    "start_time": "2023-08-02T13:38:59.937Z"
   },
   {
    "duration": 20,
    "start_time": "2023-08-02T13:40:13.100Z"
   },
   {
    "duration": 9,
    "start_time": "2023-08-02T13:40:15.968Z"
   },
   {
    "duration": 1322,
    "start_time": "2023-08-02T13:40:40.940Z"
   },
   {
    "duration": 247,
    "start_time": "2023-08-02T13:40:42.264Z"
   },
   {
    "duration": 15,
    "start_time": "2023-08-02T13:40:42.513Z"
   },
   {
    "duration": 14,
    "start_time": "2023-08-02T13:40:42.529Z"
   },
   {
    "duration": 19,
    "start_time": "2023-08-02T13:40:42.545Z"
   },
   {
    "duration": 11,
    "start_time": "2023-08-02T13:40:42.565Z"
   },
   {
    "duration": 13,
    "start_time": "2023-08-02T13:40:42.578Z"
   },
   {
    "duration": 63,
    "start_time": "2023-08-02T13:40:42.592Z"
   },
   {
    "duration": 15,
    "start_time": "2023-08-02T13:40:42.657Z"
   },
   {
    "duration": 30,
    "start_time": "2023-08-02T13:40:42.674Z"
   },
   {
    "duration": 50,
    "start_time": "2023-08-02T13:40:42.705Z"
   },
   {
    "duration": 6,
    "start_time": "2023-08-02T13:40:42.756Z"
   },
   {
    "duration": 60,
    "start_time": "2023-08-02T13:40:42.764Z"
   },
   {
    "duration": 9,
    "start_time": "2023-08-02T13:40:42.827Z"
   },
   {
    "duration": 34,
    "start_time": "2023-08-02T13:40:42.837Z"
   },
   {
    "duration": 111,
    "start_time": "2023-08-02T13:40:42.872Z"
   },
   {
    "duration": 0,
    "start_time": "2023-08-02T13:40:42.984Z"
   },
   {
    "duration": 0,
    "start_time": "2023-08-02T13:40:42.987Z"
   },
   {
    "duration": 0,
    "start_time": "2023-08-02T13:40:42.988Z"
   },
   {
    "duration": 0,
    "start_time": "2023-08-02T13:40:42.990Z"
   },
   {
    "duration": 0,
    "start_time": "2023-08-02T13:40:42.991Z"
   },
   {
    "duration": 0,
    "start_time": "2023-08-02T13:40:42.992Z"
   },
   {
    "duration": 0,
    "start_time": "2023-08-02T13:40:42.993Z"
   },
   {
    "duration": 1423,
    "start_time": "2023-08-02T13:40:59.705Z"
   },
   {
    "duration": 322,
    "start_time": "2023-08-02T13:41:01.130Z"
   },
   {
    "duration": 16,
    "start_time": "2023-08-02T13:41:01.454Z"
   },
   {
    "duration": 93,
    "start_time": "2023-08-02T13:41:01.471Z"
   },
   {
    "duration": 90,
    "start_time": "2023-08-02T13:41:01.567Z"
   },
   {
    "duration": 22,
    "start_time": "2023-08-02T13:41:01.659Z"
   },
   {
    "duration": 37,
    "start_time": "2023-08-02T13:41:01.683Z"
   },
   {
    "duration": 114,
    "start_time": "2023-08-02T13:41:01.722Z"
   },
   {
    "duration": 49,
    "start_time": "2023-08-02T13:41:01.838Z"
   },
   {
    "duration": 22,
    "start_time": "2023-08-02T13:41:01.888Z"
   },
   {
    "duration": 50,
    "start_time": "2023-08-02T13:41:01.912Z"
   },
   {
    "duration": 16,
    "start_time": "2023-08-02T13:41:01.964Z"
   },
   {
    "duration": 60,
    "start_time": "2023-08-02T13:41:01.982Z"
   },
   {
    "duration": 38,
    "start_time": "2023-08-02T13:41:02.045Z"
   },
   {
    "duration": 48,
    "start_time": "2023-08-02T13:41:02.084Z"
   },
   {
    "duration": 48,
    "start_time": "2023-08-02T13:41:02.134Z"
   },
   {
    "duration": 30,
    "start_time": "2023-08-02T13:41:02.184Z"
   },
   {
    "duration": 47,
    "start_time": "2023-08-02T13:41:02.216Z"
   },
   {
    "duration": 49,
    "start_time": "2023-08-02T13:41:02.265Z"
   },
   {
    "duration": 47,
    "start_time": "2023-08-02T13:41:02.315Z"
   },
   {
    "duration": 35,
    "start_time": "2023-08-02T13:41:02.364Z"
   },
   {
    "duration": 74,
    "start_time": "2023-08-02T13:41:02.401Z"
   },
   {
    "duration": 1574,
    "start_time": "2023-08-03T14:04:57.200Z"
   },
   {
    "duration": 538,
    "start_time": "2023-08-03T14:04:58.776Z"
   },
   {
    "duration": 17,
    "start_time": "2023-08-03T14:04:59.316Z"
   },
   {
    "duration": 31,
    "start_time": "2023-08-03T14:04:59.335Z"
   },
   {
    "duration": 41,
    "start_time": "2023-08-03T14:04:59.369Z"
   },
   {
    "duration": 35,
    "start_time": "2023-08-03T14:04:59.412Z"
   },
   {
    "duration": 27,
    "start_time": "2023-08-03T14:04:59.448Z"
   },
   {
    "duration": 71,
    "start_time": "2023-08-03T14:04:59.477Z"
   },
   {
    "duration": 19,
    "start_time": "2023-08-03T14:04:59.549Z"
   },
   {
    "duration": 27,
    "start_time": "2023-08-03T14:04:59.569Z"
   },
   {
    "duration": 41,
    "start_time": "2023-08-03T14:04:59.598Z"
   },
   {
    "duration": 7,
    "start_time": "2023-08-03T14:04:59.641Z"
   },
   {
    "duration": 14,
    "start_time": "2023-08-03T14:04:59.650Z"
   },
   {
    "duration": 23,
    "start_time": "2023-08-03T14:04:59.668Z"
   },
   {
    "duration": 38,
    "start_time": "2023-08-03T14:04:59.693Z"
   },
   {
    "duration": 14,
    "start_time": "2023-08-03T14:04:59.734Z"
   },
   {
    "duration": 24,
    "start_time": "2023-08-03T14:04:59.750Z"
   },
   {
    "duration": 39,
    "start_time": "2023-08-03T14:04:59.776Z"
   },
   {
    "duration": 19,
    "start_time": "2023-08-03T14:04:59.817Z"
   },
   {
    "duration": 37,
    "start_time": "2023-08-03T14:04:59.838Z"
   },
   {
    "duration": 40,
    "start_time": "2023-08-03T14:04:59.877Z"
   },
   {
    "duration": 71,
    "start_time": "2023-08-03T14:04:59.918Z"
   },
   {
    "duration": 1411,
    "start_time": "2023-08-03T14:05:23.801Z"
   },
   {
    "duration": 267,
    "start_time": "2023-08-03T14:05:25.215Z"
   },
   {
    "duration": 17,
    "start_time": "2023-08-03T14:05:25.484Z"
   },
   {
    "duration": 12,
    "start_time": "2023-08-03T14:05:25.503Z"
   },
   {
    "duration": 21,
    "start_time": "2023-08-03T14:05:25.517Z"
   },
   {
    "duration": 4,
    "start_time": "2023-08-03T14:05:25.540Z"
   },
   {
    "duration": 10,
    "start_time": "2023-08-03T14:05:25.546Z"
   },
   {
    "duration": 81,
    "start_time": "2023-08-03T14:05:25.558Z"
   },
   {
    "duration": 15,
    "start_time": "2023-08-03T14:05:25.641Z"
   },
   {
    "duration": 7,
    "start_time": "2023-08-03T14:05:25.657Z"
   },
   {
    "duration": 32,
    "start_time": "2023-08-03T14:05:25.686Z"
   },
   {
    "duration": 7,
    "start_time": "2023-08-03T14:05:25.719Z"
   },
   {
    "duration": 10,
    "start_time": "2023-08-03T14:05:25.728Z"
   },
   {
    "duration": 5,
    "start_time": "2023-08-03T14:05:25.741Z"
   },
   {
    "duration": 50,
    "start_time": "2023-08-03T14:05:25.748Z"
   },
   {
    "duration": 8,
    "start_time": "2023-08-03T14:05:25.800Z"
   },
   {
    "duration": 7,
    "start_time": "2023-08-03T14:05:25.809Z"
   },
   {
    "duration": 15,
    "start_time": "2023-08-03T14:05:25.818Z"
   },
   {
    "duration": 5,
    "start_time": "2023-08-03T14:05:25.835Z"
   },
   {
    "duration": 49,
    "start_time": "2023-08-03T14:05:25.842Z"
   },
   {
    "duration": 14,
    "start_time": "2023-08-03T14:05:25.893Z"
   },
   {
    "duration": 40,
    "start_time": "2023-08-03T14:05:25.909Z"
   },
   {
    "duration": 4,
    "start_time": "2023-08-03T14:08:14.342Z"
   },
   {
    "duration": 812,
    "start_time": "2023-08-03T15:07:03.564Z"
   },
   {
    "duration": 15,
    "start_time": "2023-08-03T15:07:13.896Z"
   },
   {
    "duration": 4,
    "start_time": "2023-08-03T15:08:42.756Z"
   },
   {
    "duration": 829,
    "start_time": "2023-08-03T15:08:53.158Z"
   },
   {
    "duration": 4,
    "start_time": "2023-08-03T15:11:47.661Z"
   },
   {
    "duration": 729,
    "start_time": "2023-08-03T15:11:52.191Z"
   },
   {
    "duration": 741,
    "start_time": "2023-08-03T15:12:19.517Z"
   },
   {
    "duration": 711,
    "start_time": "2023-08-03T15:12:41.958Z"
   },
   {
    "duration": 1201,
    "start_time": "2023-08-03T15:13:11.408Z"
   },
   {
    "duration": 352,
    "start_time": "2023-08-03T15:13:12.611Z"
   },
   {
    "duration": 23,
    "start_time": "2023-08-03T15:13:12.965Z"
   },
   {
    "duration": 11,
    "start_time": "2023-08-03T15:13:12.990Z"
   },
   {
    "duration": 27,
    "start_time": "2023-08-03T15:13:13.003Z"
   },
   {
    "duration": 10,
    "start_time": "2023-08-03T15:13:13.032Z"
   },
   {
    "duration": 49,
    "start_time": "2023-08-03T15:13:13.043Z"
   },
   {
    "duration": 80,
    "start_time": "2023-08-03T15:13:13.094Z"
   },
   {
    "duration": 21,
    "start_time": "2023-08-03T15:13:13.176Z"
   },
   {
    "duration": 15,
    "start_time": "2023-08-03T15:13:13.198Z"
   },
   {
    "duration": 43,
    "start_time": "2023-08-03T15:13:13.215Z"
   },
   {
    "duration": 7,
    "start_time": "2023-08-03T15:13:13.259Z"
   },
   {
    "duration": 8,
    "start_time": "2023-08-03T15:13:13.267Z"
   },
   {
    "duration": 25,
    "start_time": "2023-08-03T15:13:13.286Z"
   },
   {
    "duration": 31,
    "start_time": "2023-08-03T15:13:13.313Z"
   },
   {
    "duration": 10,
    "start_time": "2023-08-03T15:13:13.346Z"
   },
   {
    "duration": 18,
    "start_time": "2023-08-03T15:13:13.358Z"
   },
   {
    "duration": 30,
    "start_time": "2023-08-03T15:13:13.378Z"
   },
   {
    "duration": 10,
    "start_time": "2023-08-03T15:13:13.410Z"
   },
   {
    "duration": 35,
    "start_time": "2023-08-03T15:13:13.422Z"
   },
   {
    "duration": 19,
    "start_time": "2023-08-03T15:13:13.459Z"
   },
   {
    "duration": 51,
    "start_time": "2023-08-03T15:13:13.480Z"
   },
   {
    "duration": 831,
    "start_time": "2023-08-03T15:14:29.346Z"
   },
   {
    "duration": 8,
    "start_time": "2023-08-03T15:22:48.829Z"
   },
   {
    "duration": 6,
    "start_time": "2023-08-03T15:24:30.875Z"
   },
   {
    "duration": 735,
    "start_time": "2023-08-03T15:31:22.319Z"
   },
   {
    "duration": 836,
    "start_time": "2023-08-03T15:33:44.232Z"
   },
   {
    "duration": 106,
    "start_time": "2023-08-03T15:33:56.647Z"
   },
   {
    "duration": 16,
    "start_time": "2023-08-03T15:34:00.263Z"
   },
   {
    "duration": 797,
    "start_time": "2023-08-03T15:34:21.246Z"
   },
   {
    "duration": 14,
    "start_time": "2023-08-03T15:34:23.394Z"
   },
   {
    "duration": 32,
    "start_time": "2023-08-03T15:36:11.215Z"
   },
   {
    "duration": 135,
    "start_time": "2023-08-03T15:36:26.544Z"
   },
   {
    "duration": 772,
    "start_time": "2023-08-03T15:36:31.103Z"
   },
   {
    "duration": 762,
    "start_time": "2023-08-03T15:36:42.664Z"
   },
   {
    "duration": 35,
    "start_time": "2023-08-03T15:36:57.979Z"
   },
   {
    "duration": 1369,
    "start_time": "2023-08-04T16:28:44.938Z"
   },
   {
    "duration": 313,
    "start_time": "2023-08-04T16:28:46.309Z"
   },
   {
    "duration": 21,
    "start_time": "2023-08-04T16:28:46.624Z"
   },
   {
    "duration": 39,
    "start_time": "2023-08-04T16:28:46.647Z"
   },
   {
    "duration": 20,
    "start_time": "2023-08-04T16:28:46.688Z"
   },
   {
    "duration": 24,
    "start_time": "2023-08-04T16:28:46.710Z"
   },
   {
    "duration": 26,
    "start_time": "2023-08-04T16:28:46.736Z"
   },
   {
    "duration": 95,
    "start_time": "2023-08-04T16:28:46.764Z"
   },
   {
    "duration": 13,
    "start_time": "2023-08-04T16:28:46.860Z"
   },
   {
    "duration": 45,
    "start_time": "2023-08-04T16:28:46.876Z"
   },
   {
    "duration": 60,
    "start_time": "2023-08-04T16:28:46.922Z"
   },
   {
    "duration": 7,
    "start_time": "2023-08-04T16:28:46.984Z"
   },
   {
    "duration": 26,
    "start_time": "2023-08-04T16:28:46.992Z"
   },
   {
    "duration": 27,
    "start_time": "2023-08-04T16:28:47.020Z"
   },
   {
    "duration": 44,
    "start_time": "2023-08-04T16:28:47.049Z"
   },
   {
    "duration": 20,
    "start_time": "2023-08-04T16:28:47.094Z"
   },
   {
    "duration": 26,
    "start_time": "2023-08-04T16:28:47.117Z"
   },
   {
    "duration": 44,
    "start_time": "2023-08-04T16:28:47.145Z"
   },
   {
    "duration": 29,
    "start_time": "2023-08-04T16:28:47.191Z"
   },
   {
    "duration": 30,
    "start_time": "2023-08-04T16:28:47.222Z"
   },
   {
    "duration": 18,
    "start_time": "2023-08-04T16:28:47.254Z"
   },
   {
    "duration": 30,
    "start_time": "2023-08-04T16:28:47.274Z"
   },
   {
    "duration": 783,
    "start_time": "2023-08-04T16:28:47.306Z"
   },
   {
    "duration": 665,
    "start_time": "2023-08-04T16:28:48.091Z"
   },
   {
    "duration": 14,
    "start_time": "2023-08-04T16:28:48.757Z"
   },
   {
    "duration": 1503,
    "start_time": "2023-08-05T15:11:58.412Z"
   },
   {
    "duration": 375,
    "start_time": "2023-08-05T15:11:59.917Z"
   },
   {
    "duration": 15,
    "start_time": "2023-08-05T15:12:00.294Z"
   },
   {
    "duration": 26,
    "start_time": "2023-08-05T15:12:00.311Z"
   },
   {
    "duration": 72,
    "start_time": "2023-08-05T15:12:00.340Z"
   },
   {
    "duration": 11,
    "start_time": "2023-08-05T15:12:00.415Z"
   },
   {
    "duration": 44,
    "start_time": "2023-08-05T15:12:00.428Z"
   },
   {
    "duration": 62,
    "start_time": "2023-08-05T15:12:00.483Z"
   },
   {
    "duration": 38,
    "start_time": "2023-08-05T15:12:00.547Z"
   },
   {
    "duration": 6,
    "start_time": "2023-08-05T15:12:00.589Z"
   },
   {
    "duration": 87,
    "start_time": "2023-08-05T15:12:00.596Z"
   },
   {
    "duration": 6,
    "start_time": "2023-08-05T15:12:00.689Z"
   },
   {
    "duration": 30,
    "start_time": "2023-08-05T15:12:00.697Z"
   },
   {
    "duration": 15,
    "start_time": "2023-08-05T15:12:00.730Z"
   },
   {
    "duration": 43,
    "start_time": "2023-08-05T15:12:00.747Z"
   },
   {
    "duration": 19,
    "start_time": "2023-08-05T15:12:00.792Z"
   },
   {
    "duration": 20,
    "start_time": "2023-08-05T15:12:00.813Z"
   },
   {
    "duration": 50,
    "start_time": "2023-08-05T15:12:00.835Z"
   },
   {
    "duration": 8,
    "start_time": "2023-08-05T15:12:00.888Z"
   },
   {
    "duration": 32,
    "start_time": "2023-08-05T15:12:00.898Z"
   },
   {
    "duration": 29,
    "start_time": "2023-08-05T15:12:00.932Z"
   },
   {
    "duration": 30,
    "start_time": "2023-08-05T15:12:00.963Z"
   },
   {
    "duration": 940,
    "start_time": "2023-08-05T15:12:00.994Z"
   },
   {
    "duration": 881,
    "start_time": "2023-08-05T15:12:01.936Z"
   },
   {
    "duration": 17,
    "start_time": "2023-08-05T15:12:02.819Z"
   },
   {
    "duration": 923,
    "start_time": "2023-08-05T15:15:34.319Z"
   },
   {
    "duration": 15,
    "start_time": "2023-08-05T15:15:37.119Z"
   },
   {
    "duration": 1453,
    "start_time": "2023-08-07T13:04:23.582Z"
   },
   {
    "duration": 336,
    "start_time": "2023-08-07T13:04:25.037Z"
   },
   {
    "duration": 20,
    "start_time": "2023-08-07T13:04:25.375Z"
   },
   {
    "duration": 12,
    "start_time": "2023-08-07T13:04:25.396Z"
   },
   {
    "duration": 36,
    "start_time": "2023-08-07T13:04:25.411Z"
   },
   {
    "duration": 41,
    "start_time": "2023-08-07T13:04:25.449Z"
   },
   {
    "duration": 18,
    "start_time": "2023-08-07T13:04:25.492Z"
   },
   {
    "duration": 55,
    "start_time": "2023-08-07T13:04:25.513Z"
   },
   {
    "duration": 14,
    "start_time": "2023-08-07T13:04:25.570Z"
   },
   {
    "duration": 13,
    "start_time": "2023-08-07T13:04:25.586Z"
   },
   {
    "duration": 35,
    "start_time": "2023-08-07T13:04:25.601Z"
   },
   {
    "duration": 19,
    "start_time": "2023-08-07T13:04:25.638Z"
   },
   {
    "duration": 21,
    "start_time": "2023-08-07T13:04:25.659Z"
   },
   {
    "duration": 26,
    "start_time": "2023-08-07T13:04:25.683Z"
   },
   {
    "duration": 34,
    "start_time": "2023-08-07T13:04:25.711Z"
   },
   {
    "duration": 33,
    "start_time": "2023-08-07T13:04:25.746Z"
   },
   {
    "duration": 22,
    "start_time": "2023-08-07T13:04:25.781Z"
   },
   {
    "duration": 33,
    "start_time": "2023-08-07T13:04:25.804Z"
   },
   {
    "duration": 12,
    "start_time": "2023-08-07T13:04:25.839Z"
   },
   {
    "duration": 49,
    "start_time": "2023-08-07T13:04:25.853Z"
   },
   {
    "duration": 14,
    "start_time": "2023-08-07T13:04:25.904Z"
   },
   {
    "duration": 25,
    "start_time": "2023-08-07T13:04:25.919Z"
   },
   {
    "duration": 827,
    "start_time": "2023-08-07T13:04:25.945Z"
   },
   {
    "duration": 746,
    "start_time": "2023-08-07T13:04:26.773Z"
   },
   {
    "duration": 16,
    "start_time": "2023-08-07T13:04:27.520Z"
   },
   {
    "duration": 99,
    "start_time": "2023-08-07T13:29:58.591Z"
   },
   {
    "duration": 782,
    "start_time": "2023-08-07T13:31:25.626Z"
   },
   {
    "duration": 12,
    "start_time": "2023-08-07T13:31:56.090Z"
   },
   {
    "duration": 15,
    "start_time": "2023-08-07T13:32:01.588Z"
   },
   {
    "duration": 750,
    "start_time": "2023-08-07T13:54:21.075Z"
   },
   {
    "duration": 796,
    "start_time": "2023-08-07T13:54:45.101Z"
   },
   {
    "duration": 750,
    "start_time": "2023-08-07T14:18:47.835Z"
   },
   {
    "duration": 15,
    "start_time": "2023-08-07T14:18:50.345Z"
   },
   {
    "duration": 1223,
    "start_time": "2023-08-07T14:45:18.935Z"
   },
   {
    "duration": 269,
    "start_time": "2023-08-07T14:45:20.160Z"
   },
   {
    "duration": 23,
    "start_time": "2023-08-07T14:45:20.431Z"
   },
   {
    "duration": 12,
    "start_time": "2023-08-07T14:45:20.456Z"
   },
   {
    "duration": 24,
    "start_time": "2023-08-07T14:45:20.471Z"
   },
   {
    "duration": 5,
    "start_time": "2023-08-07T14:45:20.497Z"
   },
   {
    "duration": 24,
    "start_time": "2023-08-07T14:45:20.503Z"
   },
   {
    "duration": 48,
    "start_time": "2023-08-07T14:45:20.528Z"
   },
   {
    "duration": 36,
    "start_time": "2023-08-07T14:45:20.578Z"
   },
   {
    "duration": 30,
    "start_time": "2023-08-07T14:45:20.616Z"
   },
   {
    "duration": 44,
    "start_time": "2023-08-07T14:45:20.648Z"
   },
   {
    "duration": 6,
    "start_time": "2023-08-07T14:45:20.694Z"
   },
   {
    "duration": 25,
    "start_time": "2023-08-07T14:45:20.702Z"
   },
   {
    "duration": 17,
    "start_time": "2023-08-07T14:45:20.731Z"
   },
   {
    "duration": 36,
    "start_time": "2023-08-07T14:45:20.750Z"
   },
   {
    "duration": 9,
    "start_time": "2023-08-07T14:45:20.787Z"
   },
   {
    "duration": 19,
    "start_time": "2023-08-07T14:45:20.798Z"
   },
   {
    "duration": 30,
    "start_time": "2023-08-07T14:45:20.819Z"
   },
   {
    "duration": 10,
    "start_time": "2023-08-07T14:45:20.851Z"
   },
   {
    "duration": 41,
    "start_time": "2023-08-07T14:45:20.862Z"
   },
   {
    "duration": 25,
    "start_time": "2023-08-07T14:45:20.905Z"
   },
   {
    "duration": 775,
    "start_time": "2023-08-07T14:45:20.932Z"
   },
   {
    "duration": 13,
    "start_time": "2023-08-07T14:45:21.709Z"
   },
   {
    "duration": 13,
    "start_time": "2023-08-07T14:45:21.724Z"
   },
   {
    "duration": 109,
    "start_time": "2023-08-07T14:55:15.813Z"
   },
   {
    "duration": 12,
    "start_time": "2023-08-07T14:55:23.554Z"
   },
   {
    "duration": 399,
    "start_time": "2023-08-07T14:57:15.205Z"
   },
   {
    "duration": 353,
    "start_time": "2023-08-07T14:58:07.245Z"
   },
   {
    "duration": 16,
    "start_time": "2023-08-07T14:59:21.062Z"
   },
   {
    "duration": 309,
    "start_time": "2023-08-07T15:00:24.767Z"
   },
   {
    "duration": 1728,
    "start_time": "2023-08-07T15:00:58.991Z"
   },
   {
    "duration": 363,
    "start_time": "2023-08-07T15:01:21.055Z"
   },
   {
    "duration": 6,
    "start_time": "2023-08-07T15:01:36.238Z"
   },
   {
    "duration": 350,
    "start_time": "2023-08-07T15:01:38.383Z"
   },
   {
    "duration": 30,
    "start_time": "2023-08-07T15:04:58.329Z"
   },
   {
    "duration": 7,
    "start_time": "2023-08-07T15:05:00.153Z"
   },
   {
    "duration": 370,
    "start_time": "2023-08-07T15:05:01.504Z"
   },
   {
    "duration": 698,
    "start_time": "2023-08-07T15:05:03.529Z"
   },
   {
    "duration": 327,
    "start_time": "2023-08-07T15:06:27.730Z"
   },
   {
    "duration": 28,
    "start_time": "2023-08-07T15:06:32.240Z"
   },
   {
    "duration": 46,
    "start_time": "2023-08-07T15:06:33.401Z"
   },
   {
    "duration": 318,
    "start_time": "2023-08-07T15:06:58.050Z"
   },
   {
    "duration": 337,
    "start_time": "2023-08-07T15:07:17.962Z"
   },
   {
    "duration": 364,
    "start_time": "2023-08-07T15:08:01.690Z"
   },
   {
    "duration": 1228,
    "start_time": "2023-08-07T15:08:10.189Z"
   },
   {
    "duration": 350,
    "start_time": "2023-08-07T15:08:11.419Z"
   },
   {
    "duration": 18,
    "start_time": "2023-08-07T15:08:11.771Z"
   },
   {
    "duration": 24,
    "start_time": "2023-08-07T15:08:11.790Z"
   },
   {
    "duration": 46,
    "start_time": "2023-08-07T15:08:11.816Z"
   },
   {
    "duration": 40,
    "start_time": "2023-08-07T15:08:11.863Z"
   },
   {
    "duration": 20,
    "start_time": "2023-08-07T15:08:11.905Z"
   },
   {
    "duration": 40,
    "start_time": "2023-08-07T15:08:11.927Z"
   },
   {
    "duration": 29,
    "start_time": "2023-08-07T15:08:11.969Z"
   },
   {
    "duration": 6,
    "start_time": "2023-08-07T15:08:12.000Z"
   },
   {
    "duration": 37,
    "start_time": "2023-08-07T15:08:12.008Z"
   },
   {
    "duration": 8,
    "start_time": "2023-08-07T15:08:12.047Z"
   },
   {
    "duration": 27,
    "start_time": "2023-08-07T15:08:12.057Z"
   },
   {
    "duration": 19,
    "start_time": "2023-08-07T15:08:12.087Z"
   },
   {
    "duration": 26,
    "start_time": "2023-08-07T15:08:12.108Z"
   },
   {
    "duration": 12,
    "start_time": "2023-08-07T15:08:12.136Z"
   },
   {
    "duration": 25,
    "start_time": "2023-08-07T15:08:12.150Z"
   },
   {
    "duration": 25,
    "start_time": "2023-08-07T15:08:12.177Z"
   },
   {
    "duration": 14,
    "start_time": "2023-08-07T15:08:12.204Z"
   },
   {
    "duration": 23,
    "start_time": "2023-08-07T15:08:12.220Z"
   },
   {
    "duration": 19,
    "start_time": "2023-08-07T15:08:12.245Z"
   },
   {
    "duration": 985,
    "start_time": "2023-08-07T15:08:12.266Z"
   },
   {
    "duration": 13,
    "start_time": "2023-08-07T15:08:13.253Z"
   },
   {
    "duration": 406,
    "start_time": "2023-08-07T15:08:13.267Z"
   },
   {
    "duration": 7,
    "start_time": "2023-08-07T15:08:13.675Z"
   },
   {
    "duration": 35,
    "start_time": "2023-08-07T15:08:13.684Z"
   },
   {
    "duration": 62,
    "start_time": "2023-08-07T15:08:13.721Z"
   },
   {
    "duration": 55,
    "start_time": "2023-08-07T15:22:52.205Z"
   },
   {
    "duration": 1261,
    "start_time": "2023-08-07T15:22:58.432Z"
   },
   {
    "duration": 354,
    "start_time": "2023-08-07T15:22:59.696Z"
   },
   {
    "duration": 21,
    "start_time": "2023-08-07T15:23:00.052Z"
   },
   {
    "duration": 81,
    "start_time": "2023-08-07T15:23:00.075Z"
   },
   {
    "duration": 56,
    "start_time": "2023-08-07T15:23:00.158Z"
   },
   {
    "duration": 168,
    "start_time": "2023-08-07T15:23:00.216Z"
   },
   {
    "duration": 40,
    "start_time": "2023-08-07T15:23:00.386Z"
   },
   {
    "duration": 119,
    "start_time": "2023-08-07T15:23:00.428Z"
   },
   {
    "duration": 59,
    "start_time": "2023-08-07T15:23:00.549Z"
   },
   {
    "duration": 38,
    "start_time": "2023-08-07T15:23:00.610Z"
   },
   {
    "duration": 51,
    "start_time": "2023-08-07T15:23:00.651Z"
   },
   {
    "duration": 6,
    "start_time": "2023-08-07T15:23:00.705Z"
   },
   {
    "duration": 69,
    "start_time": "2023-08-07T15:23:00.713Z"
   },
   {
    "duration": 62,
    "start_time": "2023-08-07T15:23:00.784Z"
   },
   {
    "duration": 79,
    "start_time": "2023-08-07T15:23:00.848Z"
   },
   {
    "duration": 45,
    "start_time": "2023-08-07T15:23:00.929Z"
   },
   {
    "duration": 64,
    "start_time": "2023-08-07T15:23:00.975Z"
   },
   {
    "duration": 53,
    "start_time": "2023-08-07T15:23:01.042Z"
   },
   {
    "duration": 66,
    "start_time": "2023-08-07T15:23:01.097Z"
   },
   {
    "duration": 79,
    "start_time": "2023-08-07T15:23:01.165Z"
   },
   {
    "duration": 47,
    "start_time": "2023-08-07T15:23:01.246Z"
   },
   {
    "duration": 860,
    "start_time": "2023-08-07T15:23:01.295Z"
   },
   {
    "duration": 13,
    "start_time": "2023-08-07T15:23:02.157Z"
   },
   {
    "duration": 76,
    "start_time": "2023-08-07T15:23:02.172Z"
   },
   {
    "duration": 6,
    "start_time": "2023-08-07T15:23:02.250Z"
   },
   {
    "duration": 47,
    "start_time": "2023-08-07T15:23:02.258Z"
   },
   {
    "duration": 46,
    "start_time": "2023-08-07T15:23:02.307Z"
   },
   {
    "duration": 10,
    "start_time": "2023-08-07T15:24:19.661Z"
   },
   {
    "duration": 172,
    "start_time": "2023-08-07T15:25:30.757Z"
   },
   {
    "duration": 1395,
    "start_time": "2023-08-07T15:27:18.887Z"
   },
   {
    "duration": 1532,
    "start_time": "2023-08-07T15:27:20.285Z"
   },
   {
    "duration": 15,
    "start_time": "2023-08-07T15:27:21.818Z"
   },
   {
    "duration": 25,
    "start_time": "2023-08-07T15:27:21.835Z"
   },
   {
    "duration": 32,
    "start_time": "2023-08-07T15:27:21.863Z"
   },
   {
    "duration": 20,
    "start_time": "2023-08-07T15:27:21.897Z"
   },
   {
    "duration": 8,
    "start_time": "2023-08-07T15:27:21.918Z"
   },
   {
    "duration": 47,
    "start_time": "2023-08-07T15:27:21.927Z"
   },
   {
    "duration": 44,
    "start_time": "2023-08-07T15:27:21.976Z"
   },
   {
    "duration": 23,
    "start_time": "2023-08-07T15:27:22.022Z"
   },
   {
    "duration": 45,
    "start_time": "2023-08-07T15:27:22.047Z"
   },
   {
    "duration": 13,
    "start_time": "2023-08-07T15:27:22.094Z"
   },
   {
    "duration": 23,
    "start_time": "2023-08-07T15:27:22.109Z"
   },
   {
    "duration": 11,
    "start_time": "2023-08-07T15:27:22.134Z"
   },
   {
    "duration": 23,
    "start_time": "2023-08-07T15:27:22.146Z"
   },
   {
    "duration": 8,
    "start_time": "2023-08-07T15:27:22.171Z"
   },
   {
    "duration": 9,
    "start_time": "2023-08-07T15:27:22.180Z"
   },
   {
    "duration": 22,
    "start_time": "2023-08-07T15:27:22.191Z"
   },
   {
    "duration": 6,
    "start_time": "2023-08-07T15:27:22.214Z"
   },
   {
    "duration": 36,
    "start_time": "2023-08-07T15:27:22.222Z"
   },
   {
    "duration": 13,
    "start_time": "2023-08-07T15:27:22.260Z"
   },
   {
    "duration": 927,
    "start_time": "2023-08-07T15:27:22.275Z"
   },
   {
    "duration": 12,
    "start_time": "2023-08-07T15:27:23.204Z"
   },
   {
    "duration": 62,
    "start_time": "2023-08-07T15:27:23.218Z"
   },
   {
    "duration": 6,
    "start_time": "2023-08-07T15:27:23.282Z"
   },
   {
    "duration": 141,
    "start_time": "2023-08-07T15:27:23.290Z"
   },
   {
    "duration": 0,
    "start_time": "2023-08-07T15:27:23.432Z"
   },
   {
    "duration": 0,
    "start_time": "2023-08-07T15:27:23.434Z"
   },
   {
    "duration": 21,
    "start_time": "2023-08-07T15:27:34.996Z"
   },
   {
    "duration": 50,
    "start_time": "2023-08-07T15:27:36.429Z"
   },
   {
    "duration": 1980,
    "start_time": "2023-08-07T15:27:37.612Z"
   },
   {
    "duration": 8,
    "start_time": "2023-08-07T15:28:52.549Z"
   },
   {
    "duration": 32,
    "start_time": "2023-08-07T15:33:05.246Z"
   },
   {
    "duration": 18,
    "start_time": "2023-08-07T15:33:12.462Z"
   },
   {
    "duration": 10,
    "start_time": "2023-08-07T15:33:50.942Z"
   },
   {
    "duration": 8,
    "start_time": "2023-08-07T15:36:29.040Z"
   },
   {
    "duration": 41,
    "start_time": "2023-08-07T15:38:09.956Z"
   },
   {
    "duration": 7,
    "start_time": "2023-08-07T15:38:11.281Z"
   },
   {
    "duration": 23,
    "start_time": "2023-08-07T15:38:12.497Z"
   },
   {
    "duration": 10,
    "start_time": "2023-08-07T15:38:13.713Z"
   },
   {
    "duration": 4712,
    "start_time": "2023-08-07T15:38:15.568Z"
   },
   {
    "duration": 5,
    "start_time": "2023-08-07T15:38:48.402Z"
   },
   {
    "duration": 8,
    "start_time": "2023-08-07T15:39:29.154Z"
   },
   {
    "duration": 23,
    "start_time": "2023-08-07T15:39:39.553Z"
   },
   {
    "duration": 21,
    "start_time": "2023-08-07T15:40:27.433Z"
   },
   {
    "duration": 399,
    "start_time": "2023-08-07T15:46:49.329Z"
   },
   {
    "duration": 389,
    "start_time": "2023-08-07T15:47:00.005Z"
   },
   {
    "duration": 373,
    "start_time": "2023-08-07T15:48:06.510Z"
   },
   {
    "duration": 430,
    "start_time": "2023-08-07T15:48:13.133Z"
   },
   {
    "duration": 473,
    "start_time": "2023-08-07T15:49:37.533Z"
   },
   {
    "duration": 21,
    "start_time": "2023-08-07T15:50:27.215Z"
   },
   {
    "duration": 383,
    "start_time": "2023-08-07T15:51:36.374Z"
   },
   {
    "duration": 361,
    "start_time": "2023-08-07T15:53:30.783Z"
   },
   {
    "duration": 370,
    "start_time": "2023-08-07T15:53:41.071Z"
   },
   {
    "duration": 3311,
    "start_time": "2023-08-07T15:55:50.851Z"
   },
   {
    "duration": 3387,
    "start_time": "2023-08-07T15:56:21.776Z"
   },
   {
    "duration": 433,
    "start_time": "2023-08-07T15:57:45.225Z"
   },
   {
    "duration": 430,
    "start_time": "2023-08-07T15:57:49.851Z"
   },
   {
    "duration": 422,
    "start_time": "2023-08-07T15:57:56.256Z"
   },
   {
    "duration": 17,
    "start_time": "2023-08-07T15:59:02.993Z"
   },
   {
    "duration": 19,
    "start_time": "2023-08-07T15:59:06.161Z"
   },
   {
    "duration": 1849,
    "start_time": "2023-08-07T15:59:47.697Z"
   },
   {
    "duration": 8,
    "start_time": "2023-08-07T16:00:42.810Z"
   },
   {
    "duration": 23,
    "start_time": "2023-08-07T16:00:44.865Z"
   },
   {
    "duration": 372,
    "start_time": "2023-08-07T16:02:27.794Z"
   },
   {
    "duration": 393,
    "start_time": "2023-08-07T16:02:36.778Z"
   },
   {
    "duration": 429,
    "start_time": "2023-08-07T16:03:02.582Z"
   },
   {
    "duration": 452,
    "start_time": "2023-08-07T16:03:13.854Z"
   },
   {
    "duration": 4443,
    "start_time": "2023-08-07T16:05:07.592Z"
   },
   {
    "duration": 19,
    "start_time": "2023-08-07T16:06:22.455Z"
   },
   {
    "duration": 62,
    "start_time": "2023-08-07T16:06:35.600Z"
   },
   {
    "duration": 24,
    "start_time": "2023-08-07T16:08:29.576Z"
   },
   {
    "duration": 11,
    "start_time": "2023-08-07T16:09:23.465Z"
   },
   {
    "duration": 15,
    "start_time": "2023-08-07T16:09:31.905Z"
   },
   {
    "duration": 337,
    "start_time": "2023-08-07T16:10:59.736Z"
   },
   {
    "duration": 126,
    "start_time": "2023-08-07T16:11:01.537Z"
   },
   {
    "duration": 12,
    "start_time": "2023-08-07T16:11:04.256Z"
   },
   {
    "duration": 25,
    "start_time": "2023-08-07T16:11:13.944Z"
   },
   {
    "duration": 86,
    "start_time": "2023-08-07T16:11:52.137Z"
   },
   {
    "duration": 334,
    "start_time": "2023-08-07T16:11:53.175Z"
   },
   {
    "duration": 61,
    "start_time": "2023-08-07T16:12:16.602Z"
   },
   {
    "duration": 40,
    "start_time": "2023-08-07T16:12:17.626Z"
   },
   {
    "duration": 12,
    "start_time": "2023-08-07T16:13:31.778Z"
   },
   {
    "duration": 26,
    "start_time": "2023-08-07T16:13:39.146Z"
   },
   {
    "duration": 22,
    "start_time": "2023-08-07T16:15:31.635Z"
   },
   {
    "duration": 21,
    "start_time": "2023-08-07T16:15:47.467Z"
   },
   {
    "duration": 117,
    "start_time": "2023-08-07T16:16:08.587Z"
   },
   {
    "duration": 19,
    "start_time": "2023-08-07T16:16:26.275Z"
   },
   {
    "duration": 18,
    "start_time": "2023-08-07T16:16:41.827Z"
   },
   {
    "duration": 16,
    "start_time": "2023-08-07T16:17:11.005Z"
   },
   {
    "duration": 12,
    "start_time": "2023-08-07T16:21:15.581Z"
   },
   {
    "duration": 1237,
    "start_time": "2023-08-11T16:41:31.696Z"
   },
   {
    "duration": 351,
    "start_time": "2023-08-11T16:41:32.935Z"
   },
   {
    "duration": 14,
    "start_time": "2023-08-11T16:41:33.288Z"
   },
   {
    "duration": 14,
    "start_time": "2023-08-11T16:41:33.303Z"
   },
   {
    "duration": 22,
    "start_time": "2023-08-11T16:41:33.318Z"
   },
   {
    "duration": 3,
    "start_time": "2023-08-11T16:41:33.341Z"
   },
   {
    "duration": 33,
    "start_time": "2023-08-11T16:41:33.345Z"
   },
   {
    "duration": 22,
    "start_time": "2023-08-11T16:41:33.379Z"
   },
   {
    "duration": 11,
    "start_time": "2023-08-11T16:41:33.403Z"
   },
   {
    "duration": 6,
    "start_time": "2023-08-11T16:41:33.416Z"
   },
   {
    "duration": 42,
    "start_time": "2023-08-11T16:41:33.424Z"
   },
   {
    "duration": 5,
    "start_time": "2023-08-11T16:41:33.467Z"
   },
   {
    "duration": 13,
    "start_time": "2023-08-11T16:41:33.473Z"
   },
   {
    "duration": 11,
    "start_time": "2023-08-11T16:41:33.489Z"
   },
   {
    "duration": 32,
    "start_time": "2023-08-11T16:41:33.502Z"
   },
   {
    "duration": 7,
    "start_time": "2023-08-11T16:41:33.536Z"
   },
   {
    "duration": 12,
    "start_time": "2023-08-11T16:41:33.545Z"
   },
   {
    "duration": 29,
    "start_time": "2023-08-11T16:41:33.559Z"
   },
   {
    "duration": 6,
    "start_time": "2023-08-11T16:41:33.590Z"
   },
   {
    "duration": 22,
    "start_time": "2023-08-11T16:41:33.597Z"
   },
   {
    "duration": 10,
    "start_time": "2023-08-11T16:41:33.621Z"
   },
   {
    "duration": 725,
    "start_time": "2023-08-11T16:41:33.633Z"
   },
   {
    "duration": 11,
    "start_time": "2023-08-11T16:41:34.360Z"
   },
   {
    "duration": 57,
    "start_time": "2023-08-11T16:41:34.372Z"
   },
   {
    "duration": 7,
    "start_time": "2023-08-11T16:41:34.430Z"
   },
   {
    "duration": 33,
    "start_time": "2023-08-11T16:41:34.438Z"
   },
   {
    "duration": 35,
    "start_time": "2023-08-11T16:41:34.473Z"
   },
   {
    "duration": 8,
    "start_time": "2023-08-11T16:41:34.510Z"
   },
   {
    "duration": 45,
    "start_time": "2023-08-11T16:41:34.519Z"
   },
   {
    "duration": 9,
    "start_time": "2023-08-11T16:41:34.566Z"
   },
   {
    "duration": 26,
    "start_time": "2023-08-11T16:41:34.577Z"
   },
   {
    "duration": 29,
    "start_time": "2023-08-11T16:41:34.605Z"
   },
   {
    "duration": 443,
    "start_time": "2023-08-11T16:41:34.635Z"
   },
   {
    "duration": 14,
    "start_time": "2023-08-11T16:41:35.079Z"
   },
   {
    "duration": 35,
    "start_time": "2023-08-11T16:41:35.095Z"
   },
   {
    "duration": 59,
    "start_time": "2023-08-11T16:41:35.131Z"
   },
   {
    "duration": 22,
    "start_time": "2023-08-11T16:41:35.192Z"
   },
   {
    "duration": 30,
    "start_time": "2023-08-11T16:47:12.516Z"
   },
   {
    "duration": 3,
    "start_time": "2023-08-11T16:47:27.742Z"
   },
   {
    "duration": 31,
    "start_time": "2023-08-11T16:47:50.770Z"
   },
   {
    "duration": 11,
    "start_time": "2023-08-11T16:47:53.957Z"
   },
   {
    "duration": 176,
    "start_time": "2023-08-11T16:48:27.294Z"
   },
   {
    "duration": 2059,
    "start_time": "2023-08-11T16:48:38.303Z"
   },
   {
    "duration": 1678,
    "start_time": "2023-08-11T16:49:26.398Z"
   },
   {
    "duration": 3,
    "start_time": "2023-08-11T16:49:59.638Z"
   },
   {
    "duration": 11,
    "start_time": "2023-08-11T16:50:00.726Z"
   },
   {
    "duration": 6,
    "start_time": "2023-08-11T16:50:10.222Z"
   },
   {
    "duration": 5,
    "start_time": "2023-08-11T16:50:36.694Z"
   },
   {
    "duration": 5,
    "start_time": "2023-08-11T16:50:48.526Z"
   },
   {
    "duration": 9,
    "start_time": "2023-08-11T16:52:02.115Z"
   },
   {
    "duration": 8,
    "start_time": "2023-08-11T16:52:12.918Z"
   },
   {
    "duration": 181,
    "start_time": "2023-08-11T16:52:43.958Z"
   },
   {
    "duration": 4,
    "start_time": "2023-08-11T16:53:52.190Z"
   },
   {
    "duration": 217,
    "start_time": "2023-08-11T16:56:46.615Z"
   },
   {
    "duration": 187,
    "start_time": "2023-08-11T16:56:58.816Z"
   },
   {
    "duration": 80,
    "start_time": "2023-08-11T16:57:30.862Z"
   },
   {
    "duration": 12,
    "start_time": "2023-08-11T16:57:49.966Z"
   },
   {
    "duration": 100,
    "start_time": "2023-08-11T16:57:51.518Z"
   },
   {
    "duration": 9,
    "start_time": "2023-08-11T16:57:53.183Z"
   },
   {
    "duration": 84,
    "start_time": "2023-08-11T16:58:37.736Z"
   },
   {
    "duration": 446,
    "start_time": "2023-08-11T16:58:44.847Z"
   },
   {
    "duration": 107,
    "start_time": "2023-08-11T16:59:54.568Z"
   },
   {
    "duration": 38,
    "start_time": "2023-08-11T17:00:32.335Z"
   },
   {
    "duration": 183,
    "start_time": "2023-08-11T17:01:06.321Z"
   },
   {
    "duration": 25,
    "start_time": "2023-08-11T17:01:09.307Z"
   },
   {
    "duration": 1932,
    "start_time": "2023-08-11T17:01:40.336Z"
   },
   {
    "duration": 51,
    "start_time": "2023-08-11T17:02:54.580Z"
   },
   {
    "duration": 36,
    "start_time": "2023-08-11T17:02:57.224Z"
   },
   {
    "duration": 12,
    "start_time": "2023-08-11T17:04:45.169Z"
   },
   {
    "duration": 10,
    "start_time": "2023-08-11T17:04:59.681Z"
   },
   {
    "duration": 10,
    "start_time": "2023-08-11T17:05:15.265Z"
   },
   {
    "duration": 42,
    "start_time": "2023-08-11T17:06:38.517Z"
   },
   {
    "duration": 6,
    "start_time": "2023-08-11T17:06:42.811Z"
   },
   {
    "duration": 5,
    "start_time": "2023-08-11T17:06:47.897Z"
   },
   {
    "duration": 4,
    "start_time": "2023-08-11T17:06:50.042Z"
   },
   {
    "duration": 7,
    "start_time": "2023-08-11T17:07:23.179Z"
   },
   {
    "duration": 30,
    "start_time": "2023-08-11T17:08:46.715Z"
   },
   {
    "duration": 23,
    "start_time": "2023-08-11T17:09:12.690Z"
   },
   {
    "duration": 11,
    "start_time": "2023-08-11T18:05:51.375Z"
   },
   {
    "duration": 262,
    "start_time": "2023-08-11T18:07:37.708Z"
   },
   {
    "duration": 28,
    "start_time": "2023-08-11T18:07:41.359Z"
   },
   {
    "duration": 20,
    "start_time": "2023-08-11T18:08:05.784Z"
   },
   {
    "duration": 15,
    "start_time": "2023-08-11T18:08:09.065Z"
   },
   {
    "duration": 29,
    "start_time": "2023-08-11T18:08:31.936Z"
   },
   {
    "duration": 28,
    "start_time": "2023-08-11T18:08:58.984Z"
   },
   {
    "duration": 12,
    "start_time": "2023-08-11T18:09:50.281Z"
   },
   {
    "duration": 35,
    "start_time": "2023-08-11T18:09:58.545Z"
   },
   {
    "duration": 6,
    "start_time": "2023-08-11T18:11:21.489Z"
   },
   {
    "duration": 14,
    "start_time": "2023-08-11T18:11:28.739Z"
   },
   {
    "duration": 14,
    "start_time": "2023-08-11T18:11:45.985Z"
   },
   {
    "duration": 4,
    "start_time": "2023-08-11T18:11:48.082Z"
   },
   {
    "duration": 8,
    "start_time": "2023-08-11T18:11:49.515Z"
   },
   {
    "duration": 32,
    "start_time": "2023-08-11T18:11:58.114Z"
   },
   {
    "duration": 42,
    "start_time": "2023-08-11T18:12:15.497Z"
   },
   {
    "duration": 7,
    "start_time": "2023-08-11T18:12:21.521Z"
   },
   {
    "duration": 10,
    "start_time": "2023-08-11T18:12:41.241Z"
   },
   {
    "duration": 12,
    "start_time": "2023-08-11T18:12:48.233Z"
   },
   {
    "duration": 4,
    "start_time": "2023-08-11T18:12:54.234Z"
   },
   {
    "duration": 10,
    "start_time": "2023-08-11T18:13:22.706Z"
   },
   {
    "duration": 7,
    "start_time": "2023-08-11T18:13:30.313Z"
   },
   {
    "duration": 12,
    "start_time": "2023-08-11T18:14:01.203Z"
   },
   {
    "duration": 3,
    "start_time": "2023-08-11T18:15:47.835Z"
   },
   {
    "duration": 12,
    "start_time": "2023-08-11T18:15:49.083Z"
   },
   {
    "duration": 1318,
    "start_time": "2023-08-11T18:16:08.970Z"
   },
   {
    "duration": 19,
    "start_time": "2023-08-11T18:16:25.555Z"
   },
   {
    "duration": 1522,
    "start_time": "2023-08-11T18:18:41.372Z"
   },
   {
    "duration": 11,
    "start_time": "2023-08-11T18:20:16.885Z"
   },
   {
    "duration": 1599,
    "start_time": "2023-08-11T18:20:27.028Z"
   },
   {
    "duration": 24,
    "start_time": "2023-08-11T18:20:40.326Z"
   },
   {
    "duration": 27,
    "start_time": "2023-08-11T18:20:43.604Z"
   },
   {
    "duration": 3,
    "start_time": "2023-08-11T18:21:28.876Z"
   },
   {
    "duration": 29,
    "start_time": "2023-08-11T18:21:35.117Z"
   },
   {
    "duration": 28,
    "start_time": "2023-08-11T18:21:41.116Z"
   },
   {
    "duration": 9,
    "start_time": "2023-08-11T18:21:54.997Z"
   },
   {
    "duration": 5,
    "start_time": "2023-08-11T18:22:27.772Z"
   },
   {
    "duration": 1427,
    "start_time": "2023-08-11T18:22:29.661Z"
   },
   {
    "duration": 19,
    "start_time": "2023-08-11T18:23:00.812Z"
   },
   {
    "duration": 5,
    "start_time": "2023-08-11T18:23:19.749Z"
   },
   {
    "duration": 27,
    "start_time": "2023-08-11T18:23:21.453Z"
   },
   {
    "duration": 6,
    "start_time": "2023-08-11T18:24:06.438Z"
   },
   {
    "duration": 27,
    "start_time": "2023-08-11T18:24:08.148Z"
   },
   {
    "duration": 5,
    "start_time": "2023-08-11T18:24:29.812Z"
   },
   {
    "duration": 27,
    "start_time": "2023-08-11T18:24:31.693Z"
   },
   {
    "duration": 5,
    "start_time": "2023-08-11T18:24:48.173Z"
   },
   {
    "duration": 27,
    "start_time": "2023-08-11T18:24:50.740Z"
   },
   {
    "duration": 5,
    "start_time": "2023-08-11T18:25:16.325Z"
   },
   {
    "duration": 13,
    "start_time": "2023-08-11T18:26:02.046Z"
   },
   {
    "duration": 1454,
    "start_time": "2023-08-11T18:26:45.771Z"
   },
   {
    "duration": 317,
    "start_time": "2023-08-11T18:26:47.226Z"
   },
   {
    "duration": 16,
    "start_time": "2023-08-11T18:26:47.544Z"
   },
   {
    "duration": 32,
    "start_time": "2023-08-11T18:26:47.562Z"
   },
   {
    "duration": 28,
    "start_time": "2023-08-11T18:26:47.595Z"
   },
   {
    "duration": 12,
    "start_time": "2023-08-11T18:26:47.624Z"
   },
   {
    "duration": 24,
    "start_time": "2023-08-11T18:26:47.637Z"
   },
   {
    "duration": 59,
    "start_time": "2023-08-11T18:26:47.663Z"
   },
   {
    "duration": 24,
    "start_time": "2023-08-11T18:26:47.724Z"
   },
   {
    "duration": 16,
    "start_time": "2023-08-11T18:26:47.751Z"
   },
   {
    "duration": 47,
    "start_time": "2023-08-11T18:26:47.768Z"
   },
   {
    "duration": 7,
    "start_time": "2023-08-11T18:26:47.817Z"
   },
   {
    "duration": 11,
    "start_time": "2023-08-11T18:26:47.825Z"
   },
   {
    "duration": 15,
    "start_time": "2023-08-11T18:26:47.839Z"
   },
   {
    "duration": 22,
    "start_time": "2023-08-11T18:26:47.855Z"
   },
   {
    "duration": 7,
    "start_time": "2023-08-11T18:26:47.879Z"
   },
   {
    "duration": 17,
    "start_time": "2023-08-11T18:26:47.887Z"
   },
   {
    "duration": 19,
    "start_time": "2023-08-11T18:26:47.906Z"
   },
   {
    "duration": 18,
    "start_time": "2023-08-11T18:26:47.927Z"
   },
   {
    "duration": 19,
    "start_time": "2023-08-11T18:26:47.946Z"
   },
   {
    "duration": 12,
    "start_time": "2023-08-11T18:26:47.966Z"
   },
   {
    "duration": 719,
    "start_time": "2023-08-11T18:26:47.980Z"
   },
   {
    "duration": 11,
    "start_time": "2023-08-11T18:26:48.701Z"
   },
   {
    "duration": 57,
    "start_time": "2023-08-11T18:26:48.714Z"
   },
   {
    "duration": 9,
    "start_time": "2023-08-11T18:26:48.773Z"
   },
   {
    "duration": 27,
    "start_time": "2023-08-11T18:26:48.783Z"
   },
   {
    "duration": 37,
    "start_time": "2023-08-11T18:26:48.812Z"
   },
   {
    "duration": 5,
    "start_time": "2023-08-11T18:26:48.851Z"
   },
   {
    "duration": 22,
    "start_time": "2023-08-11T18:26:48.858Z"
   },
   {
    "duration": 7,
    "start_time": "2023-08-11T18:26:48.882Z"
   },
   {
    "duration": 8,
    "start_time": "2023-08-11T18:26:48.890Z"
   },
   {
    "duration": 31,
    "start_time": "2023-08-11T18:26:48.899Z"
   },
   {
    "duration": 388,
    "start_time": "2023-08-11T18:26:48.931Z"
   },
   {
    "duration": 23,
    "start_time": "2023-08-11T18:26:49.321Z"
   },
   {
    "duration": 123,
    "start_time": "2023-08-11T18:26:49.346Z"
   },
   {
    "duration": 0,
    "start_time": "2023-08-11T18:26:49.471Z"
   },
   {
    "duration": 0,
    "start_time": "2023-08-11T18:26:49.472Z"
   },
   {
    "duration": 0,
    "start_time": "2023-08-11T18:26:49.473Z"
   },
   {
    "duration": 0,
    "start_time": "2023-08-11T18:26:49.474Z"
   },
   {
    "duration": 0,
    "start_time": "2023-08-11T18:26:49.474Z"
   },
   {
    "duration": 0,
    "start_time": "2023-08-11T18:26:49.555Z"
   },
   {
    "duration": 0,
    "start_time": "2023-08-11T18:26:49.557Z"
   },
   {
    "duration": 0,
    "start_time": "2023-08-11T18:26:49.557Z"
   },
   {
    "duration": 0,
    "start_time": "2023-08-11T18:26:49.558Z"
   },
   {
    "duration": 0,
    "start_time": "2023-08-11T18:26:49.559Z"
   },
   {
    "duration": 0,
    "start_time": "2023-08-11T18:26:49.560Z"
   },
   {
    "duration": 0,
    "start_time": "2023-08-11T18:26:49.561Z"
   },
   {
    "duration": 0,
    "start_time": "2023-08-11T18:26:49.561Z"
   },
   {
    "duration": 0,
    "start_time": "2023-08-11T18:26:49.562Z"
   },
   {
    "duration": 0,
    "start_time": "2023-08-11T18:26:49.563Z"
   },
   {
    "duration": 0,
    "start_time": "2023-08-11T18:26:49.564Z"
   },
   {
    "duration": 0,
    "start_time": "2023-08-11T18:26:49.565Z"
   },
   {
    "duration": 0,
    "start_time": "2023-08-11T18:26:49.566Z"
   },
   {
    "duration": 0,
    "start_time": "2023-08-11T18:26:49.566Z"
   },
   {
    "duration": 0,
    "start_time": "2023-08-11T18:26:49.567Z"
   },
   {
    "duration": 0,
    "start_time": "2023-08-11T18:26:49.568Z"
   },
   {
    "duration": 0,
    "start_time": "2023-08-11T18:26:49.568Z"
   },
   {
    "duration": 0,
    "start_time": "2023-08-11T18:26:49.569Z"
   },
   {
    "duration": 0,
    "start_time": "2023-08-11T18:26:49.570Z"
   },
   {
    "duration": 0,
    "start_time": "2023-08-11T18:26:49.571Z"
   },
   {
    "duration": 0,
    "start_time": "2023-08-11T18:26:49.571Z"
   },
   {
    "duration": 0,
    "start_time": "2023-08-11T18:26:49.572Z"
   },
   {
    "duration": 0,
    "start_time": "2023-08-11T18:26:49.573Z"
   },
   {
    "duration": 0,
    "start_time": "2023-08-11T18:26:49.574Z"
   },
   {
    "duration": 0,
    "start_time": "2023-08-11T18:26:49.575Z"
   },
   {
    "duration": 0,
    "start_time": "2023-08-11T18:26:49.576Z"
   },
   {
    "duration": 8,
    "start_time": "2023-08-11T18:28:04.254Z"
   },
   {
    "duration": 14,
    "start_time": "2023-08-11T18:28:08.854Z"
   },
   {
    "duration": 32,
    "start_time": "2023-08-11T18:28:34.017Z"
   },
   {
    "duration": 3,
    "start_time": "2023-08-11T18:28:37.565Z"
   },
   {
    "duration": 11,
    "start_time": "2023-08-11T18:28:38.949Z"
   },
   {
    "duration": 6,
    "start_time": "2023-08-11T18:28:40.982Z"
   },
   {
    "duration": 10,
    "start_time": "2023-08-11T18:28:42.990Z"
   },
   {
    "duration": 10,
    "start_time": "2023-08-11T18:28:44.390Z"
   },
   {
    "duration": 186,
    "start_time": "2023-08-11T18:28:48.246Z"
   },
   {
    "duration": 9,
    "start_time": "2023-08-11T18:29:18.438Z"
   },
   {
    "duration": 43,
    "start_time": "2023-08-11T18:29:23.063Z"
   },
   {
    "duration": 3,
    "start_time": "2023-08-11T18:29:25.158Z"
   },
   {
    "duration": 11,
    "start_time": "2023-08-11T18:29:26.350Z"
   },
   {
    "duration": 6,
    "start_time": "2023-08-11T18:29:27.982Z"
   },
   {
    "duration": 11,
    "start_time": "2023-08-11T18:29:39.121Z"
   },
   {
    "duration": 8,
    "start_time": "2023-08-11T18:29:40.238Z"
   },
   {
    "duration": 187,
    "start_time": "2023-08-11T18:29:41.366Z"
   },
   {
    "duration": 188,
    "start_time": "2023-08-11T18:29:43.366Z"
   },
   {
    "duration": 1503,
    "start_time": "2023-08-11T18:29:49.569Z"
   },
   {
    "duration": 671,
    "start_time": "2023-08-11T18:29:51.074Z"
   },
   {
    "duration": 14,
    "start_time": "2023-08-11T18:29:51.747Z"
   },
   {
    "duration": 18,
    "start_time": "2023-08-11T18:29:51.762Z"
   },
   {
    "duration": 39,
    "start_time": "2023-08-11T18:29:51.782Z"
   },
   {
    "duration": 20,
    "start_time": "2023-08-11T18:29:51.822Z"
   },
   {
    "duration": 62,
    "start_time": "2023-08-11T18:29:51.843Z"
   },
   {
    "duration": 38,
    "start_time": "2023-08-11T18:29:51.907Z"
   },
   {
    "duration": 22,
    "start_time": "2023-08-11T18:29:51.946Z"
   },
   {
    "duration": 31,
    "start_time": "2023-08-11T18:29:51.969Z"
   },
   {
    "duration": 34,
    "start_time": "2023-08-11T18:29:52.001Z"
   },
   {
    "duration": 12,
    "start_time": "2023-08-11T18:29:52.036Z"
   },
   {
    "duration": 34,
    "start_time": "2023-08-11T18:29:52.049Z"
   },
   {
    "duration": 35,
    "start_time": "2023-08-11T18:29:52.085Z"
   },
   {
    "duration": 56,
    "start_time": "2023-08-11T18:29:52.122Z"
   },
   {
    "duration": 8,
    "start_time": "2023-08-11T18:29:52.180Z"
   },
   {
    "duration": 48,
    "start_time": "2023-08-11T18:29:52.189Z"
   },
   {
    "duration": 34,
    "start_time": "2023-08-11T18:29:52.238Z"
   },
   {
    "duration": 14,
    "start_time": "2023-08-11T18:29:52.274Z"
   },
   {
    "duration": 40,
    "start_time": "2023-08-11T18:29:52.290Z"
   },
   {
    "duration": 14,
    "start_time": "2023-08-11T18:29:52.332Z"
   },
   {
    "duration": 783,
    "start_time": "2023-08-11T18:29:52.347Z"
   },
   {
    "duration": 13,
    "start_time": "2023-08-11T18:29:53.132Z"
   },
   {
    "duration": 58,
    "start_time": "2023-08-11T18:29:53.147Z"
   },
   {
    "duration": 19,
    "start_time": "2023-08-11T18:29:53.207Z"
   },
   {
    "duration": 61,
    "start_time": "2023-08-11T18:29:53.228Z"
   },
   {
    "duration": 48,
    "start_time": "2023-08-11T18:29:53.291Z"
   },
   {
    "duration": 30,
    "start_time": "2023-08-11T18:29:53.340Z"
   },
   {
    "duration": 53,
    "start_time": "2023-08-11T18:29:53.372Z"
   },
   {
    "duration": 18,
    "start_time": "2023-08-11T18:29:53.426Z"
   },
   {
    "duration": 51,
    "start_time": "2023-08-11T18:29:53.446Z"
   },
   {
    "duration": 34,
    "start_time": "2023-08-11T18:29:53.499Z"
   },
   {
    "duration": 374,
    "start_time": "2023-08-11T18:29:53.534Z"
   },
   {
    "duration": 14,
    "start_time": "2023-08-11T18:29:53.910Z"
   },
   {
    "duration": 17,
    "start_time": "2023-08-11T18:29:53.938Z"
   },
   {
    "duration": 45,
    "start_time": "2023-08-11T18:29:53.957Z"
   },
   {
    "duration": 11,
    "start_time": "2023-08-11T18:29:54.004Z"
   },
   {
    "duration": 18,
    "start_time": "2023-08-11T18:29:54.016Z"
   },
   {
    "duration": 23,
    "start_time": "2023-08-11T18:29:54.036Z"
   },
   {
    "duration": 18,
    "start_time": "2023-08-11T18:29:54.060Z"
   },
   {
    "duration": 18,
    "start_time": "2023-08-11T18:29:54.083Z"
   },
   {
    "duration": 270,
    "start_time": "2023-08-11T18:29:54.102Z"
   },
   {
    "duration": 215,
    "start_time": "2023-08-11T18:29:54.374Z"
   },
   {
    "duration": 51,
    "start_time": "2023-08-11T18:29:54.591Z"
   },
   {
    "duration": 6,
    "start_time": "2023-08-11T18:29:54.644Z"
   },
   {
    "duration": 24,
    "start_time": "2023-08-11T18:29:54.651Z"
   },
   {
    "duration": 56,
    "start_time": "2023-08-11T18:29:54.677Z"
   },
   {
    "duration": 26,
    "start_time": "2023-08-11T18:29:54.734Z"
   },
   {
    "duration": 25,
    "start_time": "2023-08-11T18:29:54.761Z"
   },
   {
    "duration": 17,
    "start_time": "2023-08-11T18:29:54.788Z"
   },
   {
    "duration": 17,
    "start_time": "2023-08-11T18:29:54.807Z"
   },
   {
    "duration": 16,
    "start_time": "2023-08-11T18:29:54.825Z"
   },
   {
    "duration": 3,
    "start_time": "2023-08-11T18:29:54.842Z"
   },
   {
    "duration": 21,
    "start_time": "2023-08-11T18:29:54.846Z"
   },
   {
    "duration": 58,
    "start_time": "2023-08-11T18:29:54.869Z"
   },
   {
    "duration": 5,
    "start_time": "2023-08-11T18:29:54.929Z"
   },
   {
    "duration": 36,
    "start_time": "2023-08-11T18:29:54.935Z"
   },
   {
    "duration": 24,
    "start_time": "2023-08-11T18:29:54.972Z"
   },
   {
    "duration": 19,
    "start_time": "2023-08-11T18:29:54.998Z"
   },
   {
    "duration": 6,
    "start_time": "2023-08-11T18:29:55.019Z"
   },
   {
    "duration": 51,
    "start_time": "2023-08-11T18:29:55.027Z"
   },
   {
    "duration": 18,
    "start_time": "2023-08-11T18:29:55.080Z"
   },
   {
    "duration": 18,
    "start_time": "2023-08-11T18:29:55.100Z"
   },
   {
    "duration": 6,
    "start_time": "2023-08-11T18:29:55.120Z"
   },
   {
    "duration": 14,
    "start_time": "2023-08-11T18:29:55.128Z"
   },
   {
    "duration": 148,
    "start_time": "2023-08-11T18:29:55.143Z"
   },
   {
    "duration": 0,
    "start_time": "2023-08-11T18:29:55.292Z"
   },
   {
    "duration": 1387,
    "start_time": "2023-08-11T18:30:21.958Z"
   },
   {
    "duration": 33,
    "start_time": "2023-08-11T18:31:10.055Z"
   },
   {
    "duration": 5,
    "start_time": "2023-08-11T18:31:11.334Z"
   },
   {
    "duration": 26,
    "start_time": "2023-08-11T18:31:12.518Z"
   },
   {
    "duration": 5,
    "start_time": "2023-08-11T18:31:24.983Z"
   },
   {
    "duration": 26,
    "start_time": "2023-08-11T18:31:26.615Z"
   },
   {
    "duration": 1506,
    "start_time": "2023-08-11T18:38:37.246Z"
   },
   {
    "duration": 341,
    "start_time": "2023-08-11T18:38:38.753Z"
   },
   {
    "duration": 14,
    "start_time": "2023-08-11T18:38:39.095Z"
   },
   {
    "duration": 9,
    "start_time": "2023-08-11T18:38:39.111Z"
   },
   {
    "duration": 29,
    "start_time": "2023-08-11T18:38:39.121Z"
   },
   {
    "duration": 17,
    "start_time": "2023-08-11T18:38:39.152Z"
   },
   {
    "duration": 10,
    "start_time": "2023-08-11T18:38:39.171Z"
   },
   {
    "duration": 20,
    "start_time": "2023-08-11T18:38:39.182Z"
   },
   {
    "duration": 13,
    "start_time": "2023-08-11T18:38:39.203Z"
   },
   {
    "duration": 6,
    "start_time": "2023-08-11T18:38:39.219Z"
   },
   {
    "duration": 36,
    "start_time": "2023-08-11T18:38:39.227Z"
   },
   {
    "duration": 5,
    "start_time": "2023-08-11T18:38:39.265Z"
   },
   {
    "duration": 7,
    "start_time": "2023-08-11T18:38:39.271Z"
   },
   {
    "duration": 4,
    "start_time": "2023-08-11T18:38:39.280Z"
   },
   {
    "duration": 19,
    "start_time": "2023-08-11T18:38:39.286Z"
   },
   {
    "duration": 7,
    "start_time": "2023-08-11T18:38:39.306Z"
   },
   {
    "duration": 4,
    "start_time": "2023-08-11T18:38:39.337Z"
   },
   {
    "duration": 17,
    "start_time": "2023-08-11T18:38:39.342Z"
   },
   {
    "duration": 4,
    "start_time": "2023-08-11T18:38:39.361Z"
   },
   {
    "duration": 17,
    "start_time": "2023-08-11T18:38:39.366Z"
   },
   {
    "duration": 11,
    "start_time": "2023-08-11T18:38:39.384Z"
   },
   {
    "duration": 732,
    "start_time": "2023-08-11T18:38:39.397Z"
   },
   {
    "duration": 14,
    "start_time": "2023-08-11T18:38:40.131Z"
   },
   {
    "duration": 34,
    "start_time": "2023-08-11T18:38:40.147Z"
   },
   {
    "duration": 5,
    "start_time": "2023-08-11T18:38:40.183Z"
   },
   {
    "duration": 45,
    "start_time": "2023-08-11T18:38:40.190Z"
   },
   {
    "duration": 29,
    "start_time": "2023-08-11T18:38:40.236Z"
   },
   {
    "duration": 6,
    "start_time": "2023-08-11T18:38:40.269Z"
   },
   {
    "duration": 19,
    "start_time": "2023-08-11T18:38:40.276Z"
   },
   {
    "duration": 11,
    "start_time": "2023-08-11T18:38:40.297Z"
   },
   {
    "duration": 6,
    "start_time": "2023-08-11T18:38:40.309Z"
   },
   {
    "duration": 31,
    "start_time": "2023-08-11T18:38:40.316Z"
   },
   {
    "duration": 375,
    "start_time": "2023-08-11T18:38:40.349Z"
   },
   {
    "duration": 21,
    "start_time": "2023-08-11T18:38:40.726Z"
   },
   {
    "duration": 8,
    "start_time": "2023-08-11T18:38:40.749Z"
   },
   {
    "duration": 31,
    "start_time": "2023-08-11T18:38:40.758Z"
   },
   {
    "duration": 3,
    "start_time": "2023-08-11T18:38:40.790Z"
   },
   {
    "duration": 11,
    "start_time": "2023-08-11T18:38:40.795Z"
   },
   {
    "duration": 34,
    "start_time": "2023-08-11T18:38:40.807Z"
   },
   {
    "duration": 8,
    "start_time": "2023-08-11T18:38:40.842Z"
   },
   {
    "duration": 7,
    "start_time": "2023-08-11T18:38:40.851Z"
   },
   {
    "duration": 254,
    "start_time": "2023-08-11T18:38:40.860Z"
   },
   {
    "duration": 206,
    "start_time": "2023-08-11T18:38:41.115Z"
   },
   {
    "duration": 40,
    "start_time": "2023-08-11T18:38:41.323Z"
   },
   {
    "duration": 4,
    "start_time": "2023-08-11T18:38:41.365Z"
   },
   {
    "duration": 11,
    "start_time": "2023-08-11T18:38:41.371Z"
   },
   {
    "duration": 39,
    "start_time": "2023-08-11T18:38:41.383Z"
   },
   {
    "duration": 34,
    "start_time": "2023-08-11T18:38:41.438Z"
   },
   {
    "duration": 27,
    "start_time": "2023-08-11T18:38:41.473Z"
   },
   {
    "duration": 14,
    "start_time": "2023-08-11T18:38:41.502Z"
   },
   {
    "duration": 4,
    "start_time": "2023-08-11T18:38:41.538Z"
   },
   {
    "duration": 14,
    "start_time": "2023-08-11T18:38:41.543Z"
   },
   {
    "duration": 3,
    "start_time": "2023-08-11T18:38:41.558Z"
   },
   {
    "duration": 8,
    "start_time": "2023-08-11T18:38:41.562Z"
   },
   {
    "duration": 74,
    "start_time": "2023-08-11T18:38:41.571Z"
   },
   {
    "duration": 8,
    "start_time": "2023-08-11T18:38:41.648Z"
   },
   {
    "duration": 28,
    "start_time": "2023-08-11T18:38:41.657Z"
   },
   {
    "duration": 7,
    "start_time": "2023-08-11T18:38:41.686Z"
   },
   {
    "duration": 24,
    "start_time": "2023-08-11T18:38:41.695Z"
   },
   {
    "duration": 7,
    "start_time": "2023-08-11T18:38:41.720Z"
   },
   {
    "duration": 33,
    "start_time": "2023-08-11T18:38:41.729Z"
   },
   {
    "duration": 23,
    "start_time": "2023-08-11T18:38:41.764Z"
   },
   {
    "duration": 21,
    "start_time": "2023-08-11T18:38:41.788Z"
   },
   {
    "duration": 61,
    "start_time": "2023-08-11T18:38:41.810Z"
   },
   {
    "duration": 5,
    "start_time": "2023-08-11T18:38:41.874Z"
   },
   {
    "duration": 170,
    "start_time": "2023-08-11T18:38:41.881Z"
   },
   {
    "duration": 0,
    "start_time": "2023-08-11T18:38:42.053Z"
   },
   {
    "duration": 9,
    "start_time": "2023-08-11T18:39:04.754Z"
   },
   {
    "duration": 12,
    "start_time": "2023-08-11T18:39:30.465Z"
   },
   {
    "duration": 678,
    "start_time": "2023-08-11T18:39:44.455Z"
   },
   {
    "duration": 11,
    "start_time": "2023-08-11T18:40:12.937Z"
   },
   {
    "duration": 9,
    "start_time": "2023-08-11T18:40:14.417Z"
   },
   {
    "duration": 7,
    "start_time": "2023-08-11T18:43:49.144Z"
   },
   {
    "duration": 7,
    "start_time": "2023-08-11T18:45:01.971Z"
   },
   {
    "duration": 18,
    "start_time": "2023-08-11T18:46:13.112Z"
   },
   {
    "duration": 5,
    "start_time": "2023-08-11T18:47:10.204Z"
   },
   {
    "duration": 969,
    "start_time": "2023-08-11T18:47:12.796Z"
   },
   {
    "duration": 18,
    "start_time": "2023-08-11T18:48:01.604Z"
   },
   {
    "duration": 21,
    "start_time": "2023-08-11T18:50:18.636Z"
   },
   {
    "duration": 6,
    "start_time": "2023-08-11T18:51:06.052Z"
   },
   {
    "duration": 32,
    "start_time": "2023-08-11T18:51:08.525Z"
   },
   {
    "duration": 5,
    "start_time": "2023-08-11T18:51:21.717Z"
   },
   {
    "duration": 807,
    "start_time": "2023-08-11T18:51:23.493Z"
   },
   {
    "duration": 1091,
    "start_time": "2023-08-11T18:56:44.191Z"
   },
   {
    "duration": 27,
    "start_time": "2023-08-11T18:56:47.543Z"
   },
   {
    "duration": 5,
    "start_time": "2023-08-11T18:56:53.719Z"
   },
   {
    "duration": 740,
    "start_time": "2023-08-11T18:56:55.679Z"
   },
   {
    "duration": 6,
    "start_time": "2023-08-11T18:57:17.319Z"
   },
   {
    "duration": 15,
    "start_time": "2023-08-11T18:57:18.806Z"
   },
   {
    "duration": 5,
    "start_time": "2023-08-11T18:57:49.983Z"
   },
   {
    "duration": 15,
    "start_time": "2023-08-11T18:57:51.943Z"
   },
   {
    "duration": 95,
    "start_time": "2023-08-11T19:05:08.402Z"
   },
   {
    "duration": 81,
    "start_time": "2023-08-11T19:05:24.697Z"
   },
   {
    "duration": 1656,
    "start_time": "2023-08-11T19:06:58.035Z"
   },
   {
    "duration": 1632,
    "start_time": "2023-08-11T19:07:17.535Z"
   },
   {
    "duration": 2846,
    "start_time": "2023-08-11T19:07:27.578Z"
   },
   {
    "duration": 1460,
    "start_time": "2023-08-11T19:07:53.159Z"
   },
   {
    "duration": 219,
    "start_time": "2023-08-11T19:07:54.621Z"
   },
   {
    "duration": 16,
    "start_time": "2023-08-11T19:07:54.841Z"
   },
   {
    "duration": 10,
    "start_time": "2023-08-11T19:07:54.858Z"
   },
   {
    "duration": 21,
    "start_time": "2023-08-11T19:07:54.870Z"
   },
   {
    "duration": 5,
    "start_time": "2023-08-11T19:07:54.892Z"
   },
   {
    "duration": 7,
    "start_time": "2023-08-11T19:07:54.898Z"
   },
   {
    "duration": 50,
    "start_time": "2023-08-11T19:07:54.907Z"
   },
   {
    "duration": 14,
    "start_time": "2023-08-11T19:07:54.959Z"
   },
   {
    "duration": 5,
    "start_time": "2023-08-11T19:07:54.975Z"
   },
   {
    "duration": 24,
    "start_time": "2023-08-11T19:07:54.982Z"
   },
   {
    "duration": 6,
    "start_time": "2023-08-11T19:07:55.007Z"
   },
   {
    "duration": 8,
    "start_time": "2023-08-11T19:07:55.037Z"
   },
   {
    "duration": 7,
    "start_time": "2023-08-11T19:07:55.047Z"
   },
   {
    "duration": 24,
    "start_time": "2023-08-11T19:07:55.056Z"
   },
   {
    "duration": 7,
    "start_time": "2023-08-11T19:07:55.081Z"
   },
   {
    "duration": 27,
    "start_time": "2023-08-11T19:07:55.089Z"
   },
   {
    "duration": 21,
    "start_time": "2023-08-11T19:07:55.118Z"
   },
   {
    "duration": 8,
    "start_time": "2023-08-11T19:07:55.140Z"
   },
   {
    "duration": 24,
    "start_time": "2023-08-11T19:07:55.149Z"
   },
   {
    "duration": 18,
    "start_time": "2023-08-11T19:07:55.174Z"
   },
   {
    "duration": 731,
    "start_time": "2023-08-11T19:07:55.194Z"
   },
   {
    "duration": 12,
    "start_time": "2023-08-11T19:07:55.926Z"
   },
   {
    "duration": 36,
    "start_time": "2023-08-11T19:07:55.939Z"
   },
   {
    "duration": 7,
    "start_time": "2023-08-11T19:07:55.976Z"
   },
   {
    "duration": 19,
    "start_time": "2023-08-11T19:07:55.984Z"
   },
   {
    "duration": 54,
    "start_time": "2023-08-11T19:07:56.005Z"
   },
   {
    "duration": 6,
    "start_time": "2023-08-11T19:07:56.061Z"
   },
   {
    "duration": 18,
    "start_time": "2023-08-11T19:07:56.069Z"
   },
   {
    "duration": 8,
    "start_time": "2023-08-11T19:07:56.089Z"
   },
   {
    "duration": 23,
    "start_time": "2023-08-11T19:07:56.098Z"
   },
   {
    "duration": 29,
    "start_time": "2023-08-11T19:07:56.122Z"
   },
   {
    "duration": 389,
    "start_time": "2023-08-11T19:07:56.152Z"
   },
   {
    "duration": 13,
    "start_time": "2023-08-11T19:07:56.542Z"
   },
   {
    "duration": 8,
    "start_time": "2023-08-11T19:07:56.556Z"
   },
   {
    "duration": 32,
    "start_time": "2023-08-11T19:07:56.565Z"
   },
   {
    "duration": 3,
    "start_time": "2023-08-11T19:07:56.599Z"
   },
   {
    "duration": 40,
    "start_time": "2023-08-11T19:07:56.604Z"
   },
   {
    "duration": 7,
    "start_time": "2023-08-11T19:07:56.646Z"
   },
   {
    "duration": 10,
    "start_time": "2023-08-11T19:07:56.655Z"
   },
   {
    "duration": 8,
    "start_time": "2023-08-11T19:07:56.670Z"
   },
   {
    "duration": 257,
    "start_time": "2023-08-11T19:07:56.679Z"
   },
   {
    "duration": 187,
    "start_time": "2023-08-11T19:07:56.938Z"
   },
   {
    "duration": 54,
    "start_time": "2023-08-11T19:07:57.127Z"
   },
   {
    "duration": 6,
    "start_time": "2023-08-11T19:07:57.182Z"
   },
   {
    "duration": 15,
    "start_time": "2023-08-11T19:07:57.190Z"
   },
   {
    "duration": 46,
    "start_time": "2023-08-11T19:07:57.206Z"
   },
   {
    "duration": 28,
    "start_time": "2023-08-11T19:07:57.254Z"
   },
   {
    "duration": 26,
    "start_time": "2023-08-11T19:07:57.283Z"
   },
   {
    "duration": 31,
    "start_time": "2023-08-11T19:07:57.311Z"
   },
   {
    "duration": 5,
    "start_time": "2023-08-11T19:07:57.343Z"
   },
   {
    "duration": 14,
    "start_time": "2023-08-11T19:07:57.349Z"
   },
   {
    "duration": 14,
    "start_time": "2023-08-11T19:07:57.365Z"
   },
   {
    "duration": 10,
    "start_time": "2023-08-11T19:07:57.380Z"
   },
   {
    "duration": 52,
    "start_time": "2023-08-11T19:07:57.391Z"
   },
   {
    "duration": 5,
    "start_time": "2023-08-11T19:07:57.444Z"
   },
   {
    "duration": 12,
    "start_time": "2023-08-11T19:07:57.450Z"
   },
   {
    "duration": 7,
    "start_time": "2023-08-11T19:07:57.464Z"
   },
   {
    "duration": 23,
    "start_time": "2023-08-11T19:07:57.473Z"
   },
   {
    "duration": 6,
    "start_time": "2023-08-11T19:07:57.498Z"
   },
   {
    "duration": 43,
    "start_time": "2023-08-11T19:07:57.505Z"
   },
   {
    "duration": 21,
    "start_time": "2023-08-11T19:07:57.550Z"
   },
   {
    "duration": 121,
    "start_time": "2023-08-11T19:08:32.558Z"
   },
   {
    "duration": 9,
    "start_time": "2023-08-11T19:08:58.933Z"
   },
   {
    "duration": 9,
    "start_time": "2023-08-11T19:09:32.950Z"
   },
   {
    "duration": 13,
    "start_time": "2023-08-11T19:10:58.215Z"
   },
   {
    "duration": 55,
    "start_time": "2023-08-11T19:11:05.767Z"
   },
   {
    "duration": 8,
    "start_time": "2023-08-11T19:11:39.174Z"
   },
   {
    "duration": 14,
    "start_time": "2023-08-11T19:12:37.167Z"
   },
   {
    "duration": 19,
    "start_time": "2023-08-11T19:12:53.831Z"
   },
   {
    "duration": 9,
    "start_time": "2023-08-11T19:13:48.495Z"
   },
   {
    "duration": 9,
    "start_time": "2023-08-11T19:13:55.216Z"
   },
   {
    "duration": 85,
    "start_time": "2023-08-11T19:14:03.127Z"
   },
   {
    "duration": 47,
    "start_time": "2023-08-11T19:14:05.512Z"
   },
   {
    "duration": 11,
    "start_time": "2023-08-11T19:15:14.600Z"
   },
   {
    "duration": 12,
    "start_time": "2023-08-11T19:15:42.239Z"
   },
   {
    "duration": 16,
    "start_time": "2023-08-11T19:15:44.384Z"
   },
   {
    "duration": 13,
    "start_time": "2023-08-11T19:16:00.000Z"
   },
   {
    "duration": 6,
    "start_time": "2023-08-11T19:16:10.728Z"
   },
   {
    "duration": 486,
    "start_time": "2023-08-11T19:16:17.665Z"
   },
   {
    "duration": 1454,
    "start_time": "2023-08-11T19:17:09.915Z"
   },
   {
    "duration": 259,
    "start_time": "2023-08-11T19:17:11.371Z"
   },
   {
    "duration": 14,
    "start_time": "2023-08-11T19:17:11.632Z"
   },
   {
    "duration": 33,
    "start_time": "2023-08-11T19:17:11.647Z"
   },
   {
    "duration": 37,
    "start_time": "2023-08-11T19:17:11.682Z"
   },
   {
    "duration": 23,
    "start_time": "2023-08-11T19:17:11.720Z"
   },
   {
    "duration": 15,
    "start_time": "2023-08-11T19:17:11.745Z"
   },
   {
    "duration": 50,
    "start_time": "2023-08-11T19:17:11.762Z"
   },
   {
    "duration": 54,
    "start_time": "2023-08-11T19:17:11.814Z"
   },
   {
    "duration": 24,
    "start_time": "2023-08-11T19:17:11.871Z"
   },
   {
    "duration": 70,
    "start_time": "2023-08-11T19:17:11.897Z"
   },
   {
    "duration": 6,
    "start_time": "2023-08-11T19:17:11.970Z"
   },
   {
    "duration": 9,
    "start_time": "2023-08-11T19:17:11.978Z"
   },
   {
    "duration": 19,
    "start_time": "2023-08-11T19:17:11.990Z"
   },
   {
    "duration": 21,
    "start_time": "2023-08-11T19:17:12.011Z"
   },
   {
    "duration": 6,
    "start_time": "2023-08-11T19:17:12.034Z"
   },
   {
    "duration": 18,
    "start_time": "2023-08-11T19:17:12.042Z"
   },
   {
    "duration": 17,
    "start_time": "2023-08-11T19:17:12.061Z"
   },
   {
    "duration": 5,
    "start_time": "2023-08-11T19:17:12.079Z"
   },
   {
    "duration": 24,
    "start_time": "2023-08-11T19:17:12.085Z"
   },
   {
    "duration": 13,
    "start_time": "2023-08-11T19:17:12.111Z"
   },
   {
    "duration": 741,
    "start_time": "2023-08-11T19:17:12.125Z"
   },
   {
    "duration": 11,
    "start_time": "2023-08-11T19:17:12.867Z"
   },
   {
    "duration": 43,
    "start_time": "2023-08-11T19:17:12.880Z"
   },
   {
    "duration": 15,
    "start_time": "2023-08-11T19:17:12.925Z"
   },
   {
    "duration": 19,
    "start_time": "2023-08-11T19:17:12.941Z"
   },
   {
    "duration": 52,
    "start_time": "2023-08-11T19:17:12.962Z"
   },
   {
    "duration": 22,
    "start_time": "2023-08-11T19:17:13.016Z"
   },
   {
    "duration": 26,
    "start_time": "2023-08-11T19:17:13.039Z"
   },
   {
    "duration": 8,
    "start_time": "2023-08-11T19:17:13.067Z"
   },
   {
    "duration": 12,
    "start_time": "2023-08-11T19:17:13.076Z"
   },
   {
    "duration": 23,
    "start_time": "2023-08-11T19:17:13.089Z"
   },
   {
    "duration": 389,
    "start_time": "2023-08-11T19:17:13.114Z"
   },
   {
    "duration": 14,
    "start_time": "2023-08-11T19:17:13.504Z"
   },
   {
    "duration": 6,
    "start_time": "2023-08-11T19:17:13.537Z"
   },
   {
    "duration": 47,
    "start_time": "2023-08-11T19:17:13.545Z"
   },
   {
    "duration": 3,
    "start_time": "2023-08-11T19:17:13.593Z"
   },
   {
    "duration": 44,
    "start_time": "2023-08-11T19:17:13.598Z"
   },
   {
    "duration": 21,
    "start_time": "2023-08-11T19:17:13.643Z"
   },
   {
    "duration": 33,
    "start_time": "2023-08-11T19:17:13.666Z"
   },
   {
    "duration": 9,
    "start_time": "2023-08-11T19:17:13.705Z"
   },
   {
    "duration": 262,
    "start_time": "2023-08-11T19:17:13.716Z"
   },
   {
    "duration": 188,
    "start_time": "2023-08-11T19:17:13.980Z"
   },
   {
    "duration": 33,
    "start_time": "2023-08-11T19:17:14.169Z"
   },
   {
    "duration": 5,
    "start_time": "2023-08-11T19:17:14.203Z"
   },
   {
    "duration": 12,
    "start_time": "2023-08-11T19:17:14.210Z"
   },
   {
    "duration": 48,
    "start_time": "2023-08-11T19:17:14.237Z"
   },
   {
    "duration": 30,
    "start_time": "2023-08-11T19:17:14.286Z"
   },
   {
    "duration": 41,
    "start_time": "2023-08-11T19:17:14.318Z"
   },
   {
    "duration": 14,
    "start_time": "2023-08-11T19:17:14.360Z"
   },
   {
    "duration": 7,
    "start_time": "2023-08-11T19:17:14.375Z"
   },
   {
    "duration": 20,
    "start_time": "2023-08-11T19:17:14.383Z"
   },
   {
    "duration": 17,
    "start_time": "2023-08-11T19:17:14.406Z"
   },
   {
    "duration": 49,
    "start_time": "2023-08-11T19:17:14.425Z"
   },
   {
    "duration": 77,
    "start_time": "2023-08-11T19:17:14.476Z"
   },
   {
    "duration": 56,
    "start_time": "2023-08-11T19:17:14.554Z"
   },
   {
    "duration": 10,
    "start_time": "2023-08-11T19:17:14.612Z"
   },
   {
    "duration": 13,
    "start_time": "2023-08-11T19:17:14.624Z"
   },
   {
    "duration": 26,
    "start_time": "2023-08-11T19:17:14.639Z"
   },
   {
    "duration": 9,
    "start_time": "2023-08-11T19:17:14.667Z"
   },
   {
    "duration": 26,
    "start_time": "2023-08-11T19:17:14.678Z"
   },
   {
    "duration": 26,
    "start_time": "2023-08-11T19:17:14.706Z"
   },
   {
    "duration": 23,
    "start_time": "2023-08-11T19:17:14.734Z"
   },
   {
    "duration": 93,
    "start_time": "2023-08-11T19:17:14.758Z"
   },
   {
    "duration": 50,
    "start_time": "2023-08-11T19:17:14.853Z"
   },
   {
    "duration": 11,
    "start_time": "2023-08-11T19:17:14.905Z"
   },
   {
    "duration": 123,
    "start_time": "2023-08-11T19:17:14.917Z"
   },
   {
    "duration": 0,
    "start_time": "2023-08-11T19:17:15.042Z"
   },
   {
    "duration": 0,
    "start_time": "2023-08-11T19:17:15.043Z"
   },
   {
    "duration": 0,
    "start_time": "2023-08-11T19:17:15.044Z"
   },
   {
    "duration": 0,
    "start_time": "2023-08-11T19:17:15.045Z"
   },
   {
    "duration": 0,
    "start_time": "2023-08-11T19:17:15.046Z"
   },
   {
    "duration": 49,
    "start_time": "2023-08-11T19:18:31.217Z"
   },
   {
    "duration": 15,
    "start_time": "2023-08-11T19:18:39.537Z"
   },
   {
    "duration": 13,
    "start_time": "2023-08-11T19:18:41.833Z"
   },
   {
    "duration": 6,
    "start_time": "2023-08-11T19:18:43.241Z"
   },
   {
    "duration": 492,
    "start_time": "2023-08-11T19:18:44.881Z"
   },
   {
    "duration": 30697,
    "start_time": "2023-08-11T19:18:47.529Z"
   },
   {
    "duration": 10,
    "start_time": "2023-08-11T19:19:28.281Z"
   },
   {
    "duration": 2,
    "start_time": "2023-08-11T19:25:10.595Z"
   },
   {
    "duration": 9,
    "start_time": "2023-08-11T19:25:11.979Z"
   },
   {
    "duration": 16,
    "start_time": "2023-08-11T19:25:16.819Z"
   },
   {
    "duration": 12,
    "start_time": "2023-08-11T19:25:44.596Z"
   },
   {
    "duration": 13,
    "start_time": "2023-08-11T19:25:56.123Z"
   },
   {
    "duration": 46,
    "start_time": "2023-08-11T19:26:20.036Z"
   },
   {
    "duration": 11,
    "start_time": "2023-08-11T19:26:23.693Z"
   },
   {
    "duration": 9,
    "start_time": "2023-08-11T19:26:56.877Z"
   },
   {
    "duration": 455,
    "start_time": "2023-08-11T19:27:03.484Z"
   },
   {
    "duration": 23168,
    "start_time": "2023-08-11T19:27:10.555Z"
   },
   {
    "duration": 0,
    "start_time": "2023-08-11T19:27:33.725Z"
   },
   {
    "duration": 639,
    "start_time": "2023-08-11T19:27:41.500Z"
   },
   {
    "duration": 13,
    "start_time": "2023-08-11T19:28:08.580Z"
   },
   {
    "duration": 927,
    "start_time": "2023-08-11T19:28:41.500Z"
   },
   {
    "duration": 1050,
    "start_time": "2023-08-11T19:28:55.989Z"
   },
   {
    "duration": 1497,
    "start_time": "2023-08-11T19:30:17.228Z"
   },
   {
    "duration": 368,
    "start_time": "2023-08-11T19:30:18.728Z"
   },
   {
    "duration": 16,
    "start_time": "2023-08-11T19:30:19.097Z"
   },
   {
    "duration": 36,
    "start_time": "2023-08-11T19:30:19.115Z"
   },
   {
    "duration": 27,
    "start_time": "2023-08-11T19:30:19.158Z"
   },
   {
    "duration": 19,
    "start_time": "2023-08-11T19:30:19.187Z"
   },
   {
    "duration": 25,
    "start_time": "2023-08-11T19:30:19.208Z"
   },
   {
    "duration": 64,
    "start_time": "2023-08-11T19:30:19.234Z"
   },
   {
    "duration": 35,
    "start_time": "2023-08-11T19:30:19.300Z"
   },
   {
    "duration": 38,
    "start_time": "2023-08-11T19:30:19.337Z"
   },
   {
    "duration": 26,
    "start_time": "2023-08-11T19:30:19.377Z"
   },
   {
    "duration": 14,
    "start_time": "2023-08-11T19:30:19.405Z"
   },
   {
    "duration": 53,
    "start_time": "2023-08-11T19:30:19.421Z"
   },
   {
    "duration": 16,
    "start_time": "2023-08-11T19:30:19.478Z"
   },
   {
    "duration": 65,
    "start_time": "2023-08-11T19:30:19.496Z"
   },
   {
    "duration": 16,
    "start_time": "2023-08-11T19:30:19.562Z"
   },
   {
    "duration": 26,
    "start_time": "2023-08-11T19:30:19.580Z"
   },
   {
    "duration": 67,
    "start_time": "2023-08-11T19:30:19.608Z"
   },
   {
    "duration": 29,
    "start_time": "2023-08-11T19:30:19.677Z"
   },
   {
    "duration": 58,
    "start_time": "2023-08-11T19:30:19.708Z"
   },
   {
    "duration": 29,
    "start_time": "2023-08-11T19:30:19.768Z"
   },
   {
    "duration": 798,
    "start_time": "2023-08-11T19:30:19.799Z"
   },
   {
    "duration": 11,
    "start_time": "2023-08-11T19:30:20.598Z"
   },
   {
    "duration": 78,
    "start_time": "2023-08-11T19:30:20.611Z"
   },
   {
    "duration": 25,
    "start_time": "2023-08-11T19:30:20.690Z"
   },
   {
    "duration": 61,
    "start_time": "2023-08-11T19:30:20.717Z"
   },
   {
    "duration": 44,
    "start_time": "2023-08-11T19:30:20.780Z"
   },
   {
    "duration": 29,
    "start_time": "2023-08-11T19:30:20.826Z"
   },
   {
    "duration": 18,
    "start_time": "2023-08-11T19:30:20.857Z"
   },
   {
    "duration": 30,
    "start_time": "2023-08-11T19:30:20.877Z"
   },
   {
    "duration": 64,
    "start_time": "2023-08-11T19:30:20.909Z"
   },
   {
    "duration": 55,
    "start_time": "2023-08-11T19:30:20.975Z"
   },
   {
    "duration": 429,
    "start_time": "2023-08-11T19:30:21.031Z"
   },
   {
    "duration": 20,
    "start_time": "2023-08-11T19:30:21.462Z"
   },
   {
    "duration": 12,
    "start_time": "2023-08-11T19:30:21.483Z"
   },
   {
    "duration": 59,
    "start_time": "2023-08-11T19:30:21.497Z"
   },
   {
    "duration": 34,
    "start_time": "2023-08-11T19:30:21.558Z"
   },
   {
    "duration": 23,
    "start_time": "2023-08-11T19:30:21.593Z"
   },
   {
    "duration": 18,
    "start_time": "2023-08-11T19:30:21.618Z"
   },
   {
    "duration": 36,
    "start_time": "2023-08-11T19:30:21.640Z"
   },
   {
    "duration": 35,
    "start_time": "2023-08-11T19:30:21.680Z"
   },
   {
    "duration": 344,
    "start_time": "2023-08-11T19:30:21.718Z"
   },
   {
    "duration": 189,
    "start_time": "2023-08-11T19:30:22.063Z"
   },
   {
    "duration": 34,
    "start_time": "2023-08-11T19:30:22.254Z"
   },
   {
    "duration": 7,
    "start_time": "2023-08-11T19:30:22.290Z"
   },
   {
    "duration": 31,
    "start_time": "2023-08-11T19:30:22.299Z"
   },
   {
    "duration": 71,
    "start_time": "2023-08-11T19:30:22.332Z"
   },
   {
    "duration": 27,
    "start_time": "2023-08-11T19:30:22.405Z"
   },
   {
    "duration": 38,
    "start_time": "2023-08-11T19:30:22.434Z"
   },
   {
    "duration": 18,
    "start_time": "2023-08-11T19:30:22.474Z"
   },
   {
    "duration": 29,
    "start_time": "2023-08-11T19:30:22.493Z"
   },
   {
    "duration": 44,
    "start_time": "2023-08-11T19:30:22.524Z"
   },
   {
    "duration": 22,
    "start_time": "2023-08-11T19:30:22.569Z"
   },
   {
    "duration": 33,
    "start_time": "2023-08-11T19:30:22.593Z"
   },
   {
    "duration": 94,
    "start_time": "2023-08-11T19:30:22.627Z"
   },
   {
    "duration": 6,
    "start_time": "2023-08-11T19:30:22.723Z"
   },
   {
    "duration": 62,
    "start_time": "2023-08-11T19:30:22.731Z"
   },
   {
    "duration": 26,
    "start_time": "2023-08-11T19:30:22.794Z"
   },
   {
    "duration": 46,
    "start_time": "2023-08-11T19:30:22.821Z"
   },
   {
    "duration": 6,
    "start_time": "2023-08-11T19:30:22.869Z"
   },
   {
    "duration": 41,
    "start_time": "2023-08-11T19:30:22.876Z"
   },
   {
    "duration": 39,
    "start_time": "2023-08-11T19:30:22.918Z"
   },
   {
    "duration": 36,
    "start_time": "2023-08-11T19:30:22.959Z"
   },
   {
    "duration": 183,
    "start_time": "2023-08-11T19:30:22.997Z"
   },
   {
    "duration": 74,
    "start_time": "2023-08-11T19:30:23.182Z"
   },
   {
    "duration": 14,
    "start_time": "2023-08-11T19:30:23.258Z"
   },
   {
    "duration": 55,
    "start_time": "2023-08-11T19:30:23.273Z"
   },
   {
    "duration": 3,
    "start_time": "2023-08-11T19:30:23.330Z"
   },
   {
    "duration": 81,
    "start_time": "2023-08-11T19:30:23.334Z"
   },
   {
    "duration": 451,
    "start_time": "2023-08-11T19:30:23.417Z"
   },
   {
    "duration": 17,
    "start_time": "2023-08-11T19:30:23.940Z"
   },
   {
    "duration": 981,
    "start_time": "2023-08-11T19:30:23.959Z"
   },
   {
    "duration": 491,
    "start_time": "2023-08-11T19:30:36.666Z"
   },
   {
    "duration": 10,
    "start_time": "2023-08-11T19:30:39.263Z"
   },
   {
    "duration": 986,
    "start_time": "2023-08-11T19:30:41.037Z"
   },
   {
    "duration": 1515,
    "start_time": "2023-08-11T19:32:04.812Z"
   },
   {
    "duration": 297,
    "start_time": "2023-08-11T19:32:06.329Z"
   },
   {
    "duration": 23,
    "start_time": "2023-08-11T19:32:06.630Z"
   },
   {
    "duration": 12,
    "start_time": "2023-08-11T19:32:06.655Z"
   },
   {
    "duration": 23,
    "start_time": "2023-08-11T19:32:06.669Z"
   },
   {
    "duration": 10,
    "start_time": "2023-08-11T19:32:06.694Z"
   },
   {
    "duration": 6,
    "start_time": "2023-08-11T19:32:06.705Z"
   },
   {
    "duration": 48,
    "start_time": "2023-08-11T19:32:06.712Z"
   },
   {
    "duration": 21,
    "start_time": "2023-08-11T19:32:06.761Z"
   },
   {
    "duration": 8,
    "start_time": "2023-08-11T19:32:06.783Z"
   },
   {
    "duration": 26,
    "start_time": "2023-08-11T19:32:06.792Z"
   },
   {
    "duration": 6,
    "start_time": "2023-08-11T19:32:06.819Z"
   },
   {
    "duration": 32,
    "start_time": "2023-08-11T19:32:06.826Z"
   },
   {
    "duration": 4,
    "start_time": "2023-08-11T19:32:06.861Z"
   },
   {
    "duration": 24,
    "start_time": "2023-08-11T19:32:06.867Z"
   },
   {
    "duration": 24,
    "start_time": "2023-08-11T19:32:06.893Z"
   },
   {
    "duration": 35,
    "start_time": "2023-08-11T19:32:06.918Z"
   },
   {
    "duration": 24,
    "start_time": "2023-08-11T19:32:06.955Z"
   },
   {
    "duration": 5,
    "start_time": "2023-08-11T19:32:06.981Z"
   },
   {
    "duration": 24,
    "start_time": "2023-08-11T19:32:06.987Z"
   },
   {
    "duration": 27,
    "start_time": "2023-08-11T19:32:07.013Z"
   },
   {
    "duration": 803,
    "start_time": "2023-08-11T19:32:07.049Z"
   },
   {
    "duration": 11,
    "start_time": "2023-08-11T19:32:07.854Z"
   },
   {
    "duration": 36,
    "start_time": "2023-08-11T19:32:07.867Z"
   },
   {
    "duration": 9,
    "start_time": "2023-08-11T19:32:07.905Z"
   },
   {
    "duration": 20,
    "start_time": "2023-08-11T19:32:07.915Z"
   },
   {
    "duration": 39,
    "start_time": "2023-08-11T19:32:07.936Z"
   },
   {
    "duration": 5,
    "start_time": "2023-08-11T19:32:07.977Z"
   },
   {
    "duration": 17,
    "start_time": "2023-08-11T19:32:07.983Z"
   },
   {
    "duration": 7,
    "start_time": "2023-08-11T19:32:08.001Z"
   },
   {
    "duration": 11,
    "start_time": "2023-08-11T19:32:08.010Z"
   },
   {
    "duration": 52,
    "start_time": "2023-08-11T19:32:08.022Z"
   },
   {
    "duration": 485,
    "start_time": "2023-08-11T19:32:08.075Z"
   },
   {
    "duration": 14,
    "start_time": "2023-08-11T19:32:08.561Z"
   },
   {
    "duration": 15,
    "start_time": "2023-08-11T19:32:08.577Z"
   },
   {
    "duration": 72,
    "start_time": "2023-08-11T19:32:08.594Z"
   },
   {
    "duration": 3,
    "start_time": "2023-08-11T19:32:08.668Z"
   },
   {
    "duration": 37,
    "start_time": "2023-08-11T19:32:08.672Z"
   },
   {
    "duration": 21,
    "start_time": "2023-08-11T19:32:08.710Z"
   },
   {
    "duration": 28,
    "start_time": "2023-08-11T19:32:08.733Z"
   },
   {
    "duration": 11,
    "start_time": "2023-08-11T19:32:08.765Z"
   },
   {
    "duration": 248,
    "start_time": "2023-08-11T19:32:08.778Z"
   },
   {
    "duration": 193,
    "start_time": "2023-08-11T19:32:09.028Z"
   },
   {
    "duration": 47,
    "start_time": "2023-08-11T19:32:09.223Z"
   },
   {
    "duration": 5,
    "start_time": "2023-08-11T19:32:09.271Z"
   },
   {
    "duration": 9,
    "start_time": "2023-08-11T19:32:09.278Z"
   },
   {
    "duration": 55,
    "start_time": "2023-08-11T19:32:09.289Z"
   },
   {
    "duration": 31,
    "start_time": "2023-08-11T19:32:09.345Z"
   },
   {
    "duration": 26,
    "start_time": "2023-08-11T19:32:09.377Z"
   },
   {
    "duration": 13,
    "start_time": "2023-08-11T19:32:09.405Z"
   },
   {
    "duration": 33,
    "start_time": "2023-08-11T19:32:09.420Z"
   },
   {
    "duration": 20,
    "start_time": "2023-08-11T19:32:09.454Z"
   },
   {
    "duration": 3,
    "start_time": "2023-08-11T19:32:09.475Z"
   },
   {
    "duration": 9,
    "start_time": "2023-08-11T19:32:09.480Z"
   },
   {
    "duration": 75,
    "start_time": "2023-08-11T19:32:09.491Z"
   },
   {
    "duration": 5,
    "start_time": "2023-08-11T19:32:09.568Z"
   },
   {
    "duration": 21,
    "start_time": "2023-08-11T19:32:09.574Z"
   },
   {
    "duration": 9,
    "start_time": "2023-08-11T19:32:09.597Z"
   },
   {
    "duration": 12,
    "start_time": "2023-08-11T19:32:09.608Z"
   },
   {
    "duration": 6,
    "start_time": "2023-08-11T19:32:09.621Z"
   },
   {
    "duration": 33,
    "start_time": "2023-08-11T19:32:09.628Z"
   },
   {
    "duration": 19,
    "start_time": "2023-08-11T19:32:09.662Z"
   },
   {
    "duration": 17,
    "start_time": "2023-08-11T19:32:09.682Z"
   },
   {
    "duration": 107,
    "start_time": "2023-08-11T19:32:09.700Z"
   },
   {
    "duration": 54,
    "start_time": "2023-08-11T19:32:09.808Z"
   },
   {
    "duration": 11,
    "start_time": "2023-08-11T19:32:09.864Z"
   },
   {
    "duration": 46,
    "start_time": "2023-08-11T19:32:09.877Z"
   },
   {
    "duration": 19,
    "start_time": "2023-08-11T19:32:09.925Z"
   },
   {
    "duration": 45,
    "start_time": "2023-08-11T19:32:09.953Z"
   },
   {
    "duration": 867,
    "start_time": "2023-08-11T19:32:10.000Z"
   },
   {
    "duration": 575,
    "start_time": "2023-08-11T19:32:10.869Z"
   },
   {
    "duration": 11,
    "start_time": "2023-08-11T19:32:11.445Z"
   },
   {
    "duration": 1407,
    "start_time": "2023-08-11T19:42:10.060Z"
   },
   {
    "duration": 317,
    "start_time": "2023-08-11T19:42:11.468Z"
   },
   {
    "duration": 14,
    "start_time": "2023-08-11T19:42:11.787Z"
   },
   {
    "duration": 28,
    "start_time": "2023-08-11T19:42:11.802Z"
   },
   {
    "duration": 22,
    "start_time": "2023-08-11T19:42:11.832Z"
   },
   {
    "duration": 16,
    "start_time": "2023-08-11T19:42:11.856Z"
   },
   {
    "duration": 42,
    "start_time": "2023-08-11T19:42:11.874Z"
   },
   {
    "duration": 32,
    "start_time": "2023-08-11T19:42:11.917Z"
   },
   {
    "duration": 48,
    "start_time": "2023-08-11T19:42:11.951Z"
   },
   {
    "duration": 7,
    "start_time": "2023-08-11T19:42:12.000Z"
   },
   {
    "duration": 24,
    "start_time": "2023-08-11T19:42:12.009Z"
   },
   {
    "duration": 14,
    "start_time": "2023-08-11T19:42:12.035Z"
   },
   {
    "duration": 16,
    "start_time": "2023-08-11T19:42:12.051Z"
   },
   {
    "duration": 6,
    "start_time": "2023-08-11T19:42:12.070Z"
   },
   {
    "duration": 19,
    "start_time": "2023-08-11T19:42:12.077Z"
   },
   {
    "duration": 7,
    "start_time": "2023-08-11T19:42:12.098Z"
   },
   {
    "duration": 9,
    "start_time": "2023-08-11T19:42:12.106Z"
   },
   {
    "duration": 32,
    "start_time": "2023-08-11T19:42:12.117Z"
   },
   {
    "duration": 5,
    "start_time": "2023-08-11T19:42:12.150Z"
   },
   {
    "duration": 27,
    "start_time": "2023-08-11T19:42:12.157Z"
   },
   {
    "duration": 19,
    "start_time": "2023-08-11T19:42:12.186Z"
   },
   {
    "duration": 730,
    "start_time": "2023-08-11T19:42:12.206Z"
   },
   {
    "duration": 13,
    "start_time": "2023-08-11T19:42:12.937Z"
   },
   {
    "duration": 37,
    "start_time": "2023-08-11T19:42:12.952Z"
   },
   {
    "duration": 5,
    "start_time": "2023-08-11T19:42:12.990Z"
   },
   {
    "duration": 29,
    "start_time": "2023-08-11T19:42:12.996Z"
   },
   {
    "duration": 44,
    "start_time": "2023-08-11T19:42:13.027Z"
   },
   {
    "duration": 5,
    "start_time": "2023-08-11T19:42:13.072Z"
   },
   {
    "duration": 19,
    "start_time": "2023-08-11T19:42:13.079Z"
   },
   {
    "duration": 6,
    "start_time": "2023-08-11T19:42:13.100Z"
   },
   {
    "duration": 12,
    "start_time": "2023-08-11T19:42:13.107Z"
   },
   {
    "duration": 44,
    "start_time": "2023-08-11T19:42:13.120Z"
   },
   {
    "duration": 360,
    "start_time": "2023-08-11T19:42:13.165Z"
   },
   {
    "duration": 28,
    "start_time": "2023-08-11T19:42:13.526Z"
   },
   {
    "duration": 19,
    "start_time": "2023-08-11T19:42:13.556Z"
   },
   {
    "duration": 31,
    "start_time": "2023-08-11T19:42:13.577Z"
   },
   {
    "duration": 2,
    "start_time": "2023-08-11T19:42:13.610Z"
   },
   {
    "duration": 13,
    "start_time": "2023-08-11T19:42:13.614Z"
   },
   {
    "duration": 23,
    "start_time": "2023-08-11T19:42:13.629Z"
   },
   {
    "duration": 22,
    "start_time": "2023-08-11T19:42:13.664Z"
   },
   {
    "duration": 7,
    "start_time": "2023-08-11T19:42:13.689Z"
   },
   {
    "duration": 279,
    "start_time": "2023-08-11T19:42:13.698Z"
   },
   {
    "duration": 201,
    "start_time": "2023-08-11T19:42:13.978Z"
   },
   {
    "duration": 34,
    "start_time": "2023-08-11T19:42:14.180Z"
   },
   {
    "duration": 4,
    "start_time": "2023-08-11T19:42:14.216Z"
   },
   {
    "duration": 22,
    "start_time": "2023-08-11T19:42:14.221Z"
   },
   {
    "duration": 43,
    "start_time": "2023-08-11T19:42:14.244Z"
   },
   {
    "duration": 27,
    "start_time": "2023-08-11T19:42:14.289Z"
   },
   {
    "duration": 47,
    "start_time": "2023-08-11T19:42:14.318Z"
   },
   {
    "duration": 15,
    "start_time": "2023-08-11T19:42:14.366Z"
   },
   {
    "duration": 14,
    "start_time": "2023-08-11T19:42:14.382Z"
   },
   {
    "duration": 62,
    "start_time": "2023-08-11T19:42:14.397Z"
   },
   {
    "duration": 860,
    "start_time": "2023-08-11T19:42:14.460Z"
   },
   {
    "duration": 423,
    "start_time": "2023-08-11T19:42:15.322Z"
   },
   {
    "duration": 24,
    "start_time": "2023-08-11T19:42:15.752Z"
   },
   {
    "duration": 134,
    "start_time": "2023-08-11T19:42:45.392Z"
   },
   {
    "duration": 14,
    "start_time": "2023-08-11T19:42:54.632Z"
   },
   {
    "duration": 9,
    "start_time": "2023-08-11T19:43:09.761Z"
   },
   {
    "duration": 9,
    "start_time": "2023-08-11T19:43:13.472Z"
   },
   {
    "duration": 28,
    "start_time": "2023-08-11T19:43:23.801Z"
   },
   {
    "duration": 30,
    "start_time": "2023-08-11T19:43:28.025Z"
   },
   {
    "duration": 9,
    "start_time": "2023-08-11T19:44:06.657Z"
   },
   {
    "duration": 10,
    "start_time": "2023-08-11T19:44:11.097Z"
   },
   {
    "duration": 11,
    "start_time": "2023-08-11T19:44:13.600Z"
   },
   {
    "duration": 17,
    "start_time": "2023-08-11T19:47:28.594Z"
   },
   {
    "duration": 39,
    "start_time": "2023-08-11T19:47:46.682Z"
   },
   {
    "duration": 17,
    "start_time": "2023-08-11T19:47:58.891Z"
   },
   {
    "duration": 1582,
    "start_time": "2023-08-11T19:48:07.425Z"
   },
   {
    "duration": 208,
    "start_time": "2023-08-11T19:48:09.009Z"
   },
   {
    "duration": 18,
    "start_time": "2023-08-11T19:48:09.221Z"
   },
   {
    "duration": 9,
    "start_time": "2023-08-11T19:48:09.241Z"
   },
   {
    "duration": 20,
    "start_time": "2023-08-11T19:48:09.251Z"
   },
   {
    "duration": 13,
    "start_time": "2023-08-11T19:48:09.273Z"
   },
   {
    "duration": 31,
    "start_time": "2023-08-11T19:48:09.287Z"
   },
   {
    "duration": 31,
    "start_time": "2023-08-11T19:48:09.320Z"
   },
   {
    "duration": 21,
    "start_time": "2023-08-11T19:48:09.352Z"
   },
   {
    "duration": 5,
    "start_time": "2023-08-11T19:48:09.374Z"
   },
   {
    "duration": 38,
    "start_time": "2023-08-11T19:48:09.381Z"
   },
   {
    "duration": 5,
    "start_time": "2023-08-11T19:48:09.421Z"
   },
   {
    "duration": 23,
    "start_time": "2023-08-11T19:48:09.428Z"
   },
   {
    "duration": 5,
    "start_time": "2023-08-11T19:48:09.453Z"
   },
   {
    "duration": 29,
    "start_time": "2023-08-11T19:48:09.459Z"
   },
   {
    "duration": 9,
    "start_time": "2023-08-11T19:48:09.490Z"
   },
   {
    "duration": 5,
    "start_time": "2023-08-11T19:48:09.500Z"
   },
   {
    "duration": 29,
    "start_time": "2023-08-11T19:48:09.506Z"
   },
   {
    "duration": 22,
    "start_time": "2023-08-11T19:48:09.537Z"
   },
   {
    "duration": 17,
    "start_time": "2023-08-11T19:48:09.561Z"
   },
   {
    "duration": 36,
    "start_time": "2023-08-11T19:48:09.579Z"
   },
   {
    "duration": 727,
    "start_time": "2023-08-11T19:48:09.617Z"
   },
   {
    "duration": 13,
    "start_time": "2023-08-11T19:48:10.346Z"
   },
   {
    "duration": 36,
    "start_time": "2023-08-11T19:48:10.361Z"
   },
   {
    "duration": 7,
    "start_time": "2023-08-11T19:48:10.398Z"
   },
   {
    "duration": 43,
    "start_time": "2023-08-11T19:48:10.406Z"
   },
   {
    "duration": 28,
    "start_time": "2023-08-11T19:48:10.451Z"
   },
   {
    "duration": 7,
    "start_time": "2023-08-11T19:48:10.481Z"
   },
   {
    "duration": 19,
    "start_time": "2023-08-11T19:48:10.489Z"
   },
   {
    "duration": 35,
    "start_time": "2023-08-11T19:48:10.509Z"
   },
   {
    "duration": 17,
    "start_time": "2023-08-11T19:48:10.545Z"
   },
   {
    "duration": 45,
    "start_time": "2023-08-11T19:48:10.564Z"
   },
   {
    "duration": 413,
    "start_time": "2023-08-11T19:48:10.611Z"
   },
   {
    "duration": 23,
    "start_time": "2023-08-11T19:48:11.026Z"
   },
   {
    "duration": 20,
    "start_time": "2023-08-11T19:48:11.051Z"
   },
   {
    "duration": 32,
    "start_time": "2023-08-11T19:48:11.072Z"
   },
   {
    "duration": 3,
    "start_time": "2023-08-11T19:48:11.106Z"
   },
   {
    "duration": 12,
    "start_time": "2023-08-11T19:48:11.110Z"
   },
   {
    "duration": 15,
    "start_time": "2023-08-11T19:48:11.124Z"
   },
   {
    "duration": 10,
    "start_time": "2023-08-11T19:48:11.142Z"
   },
   {
    "duration": 8,
    "start_time": "2023-08-11T19:48:11.153Z"
   },
   {
    "duration": 261,
    "start_time": "2023-08-11T19:48:11.163Z"
   },
   {
    "duration": 180,
    "start_time": "2023-08-11T19:48:11.426Z"
   },
   {
    "duration": 47,
    "start_time": "2023-08-11T19:48:11.608Z"
   },
   {
    "duration": 5,
    "start_time": "2023-08-11T19:48:11.657Z"
   },
   {
    "duration": 11,
    "start_time": "2023-08-11T19:48:11.663Z"
   },
   {
    "duration": 35,
    "start_time": "2023-08-11T19:48:11.675Z"
   },
   {
    "duration": 49,
    "start_time": "2023-08-11T19:48:11.712Z"
   },
   {
    "duration": 28,
    "start_time": "2023-08-11T19:48:11.762Z"
   },
   {
    "duration": 15,
    "start_time": "2023-08-11T19:48:11.792Z"
   },
   {
    "duration": 23,
    "start_time": "2023-08-11T19:48:11.809Z"
   },
   {
    "duration": 77,
    "start_time": "2023-08-11T19:48:11.833Z"
   },
   {
    "duration": 890,
    "start_time": "2023-08-11T19:48:11.912Z"
   },
   {
    "duration": 642,
    "start_time": "2023-08-11T19:48:12.804Z"
   },
   {
    "duration": 12,
    "start_time": "2023-08-11T19:48:13.448Z"
   },
   {
    "duration": 28,
    "start_time": "2023-08-11T19:48:13.462Z"
   },
   {
    "duration": 54,
    "start_time": "2023-08-11T19:48:13.491Z"
   },
   {
    "duration": 17,
    "start_time": "2023-08-11T19:48:13.547Z"
   },
   {
    "duration": 124,
    "start_time": "2023-08-11T19:49:36.950Z"
   },
   {
    "duration": 23,
    "start_time": "2023-08-11T19:49:44.067Z"
   },
   {
    "duration": 9,
    "start_time": "2023-08-11T19:50:03.402Z"
   },
   {
    "duration": 26,
    "start_time": "2023-08-11T19:50:09.514Z"
   },
   {
    "duration": 23,
    "start_time": "2023-08-11T19:50:32.587Z"
   },
   {
    "duration": 316,
    "start_time": "2023-08-11T19:50:55.235Z"
   },
   {
    "duration": 9,
    "start_time": "2023-08-11T19:51:15.699Z"
   },
   {
    "duration": 16,
    "start_time": "2023-08-11T19:51:19.315Z"
   },
   {
    "duration": 305,
    "start_time": "2023-08-11T19:51:33.155Z"
   },
   {
    "duration": 23,
    "start_time": "2023-08-11T19:52:01.795Z"
   },
   {
    "duration": 462,
    "start_time": "2023-08-11T19:52:08.414Z"
   },
   {
    "duration": 9,
    "start_time": "2023-08-11T19:52:28.596Z"
   },
   {
    "duration": 11,
    "start_time": "2023-08-11T19:52:30.668Z"
   },
   {
    "duration": 42,
    "start_time": "2023-08-11T19:56:33.085Z"
   },
   {
    "duration": 44,
    "start_time": "2023-08-11T19:56:39.805Z"
   },
   {
    "duration": 6,
    "start_time": "2023-08-11T19:58:34.390Z"
   },
   {
    "duration": 319,
    "start_time": "2023-08-11T19:58:38.333Z"
   },
   {
    "duration": 1396,
    "start_time": "2023-08-11T19:59:12.952Z"
   },
   {
    "duration": 276,
    "start_time": "2023-08-11T19:59:14.350Z"
   },
   {
    "duration": 15,
    "start_time": "2023-08-11T19:59:14.628Z"
   },
   {
    "duration": 47,
    "start_time": "2023-08-11T19:59:14.645Z"
   },
   {
    "duration": 26,
    "start_time": "2023-08-11T19:59:14.694Z"
   },
   {
    "duration": 3,
    "start_time": "2023-08-11T19:59:14.721Z"
   },
   {
    "duration": 11,
    "start_time": "2023-08-11T19:59:14.726Z"
   },
   {
    "duration": 33,
    "start_time": "2023-08-11T19:59:14.738Z"
   },
   {
    "duration": 68,
    "start_time": "2023-08-11T19:59:14.773Z"
   },
   {
    "duration": 28,
    "start_time": "2023-08-11T19:59:14.842Z"
   },
   {
    "duration": 31,
    "start_time": "2023-08-11T19:59:14.871Z"
   },
   {
    "duration": 5,
    "start_time": "2023-08-11T19:59:14.903Z"
   },
   {
    "duration": 23,
    "start_time": "2023-08-11T19:59:14.909Z"
   },
   {
    "duration": 6,
    "start_time": "2023-08-11T19:59:14.934Z"
   },
   {
    "duration": 34,
    "start_time": "2023-08-11T19:59:14.941Z"
   },
   {
    "duration": 7,
    "start_time": "2023-08-11T19:59:14.977Z"
   },
   {
    "duration": 20,
    "start_time": "2023-08-11T19:59:14.986Z"
   },
   {
    "duration": 63,
    "start_time": "2023-08-11T19:59:15.007Z"
   },
   {
    "duration": 32,
    "start_time": "2023-08-11T19:59:15.071Z"
   },
   {
    "duration": 45,
    "start_time": "2023-08-11T19:59:15.104Z"
   },
   {
    "duration": 45,
    "start_time": "2023-08-11T19:59:15.151Z"
   },
   {
    "duration": 784,
    "start_time": "2023-08-11T19:59:15.198Z"
   },
   {
    "duration": 13,
    "start_time": "2023-08-11T19:59:15.984Z"
   },
   {
    "duration": 64,
    "start_time": "2023-08-11T19:59:15.999Z"
   },
   {
    "duration": 5,
    "start_time": "2023-08-11T19:59:16.065Z"
   },
   {
    "duration": 25,
    "start_time": "2023-08-11T19:59:16.072Z"
   },
   {
    "duration": 43,
    "start_time": "2023-08-11T19:59:16.098Z"
   },
   {
    "duration": 7,
    "start_time": "2023-08-11T19:59:16.142Z"
   },
   {
    "duration": 25,
    "start_time": "2023-08-11T19:59:16.150Z"
   },
   {
    "duration": 8,
    "start_time": "2023-08-11T19:59:16.176Z"
   },
   {
    "duration": 6,
    "start_time": "2023-08-11T19:59:16.185Z"
   },
   {
    "duration": 27,
    "start_time": "2023-08-11T19:59:16.192Z"
   },
   {
    "duration": 392,
    "start_time": "2023-08-11T19:59:16.220Z"
   },
   {
    "duration": 24,
    "start_time": "2023-08-11T19:59:16.614Z"
   },
   {
    "duration": 6,
    "start_time": "2023-08-11T19:59:16.639Z"
   },
   {
    "duration": 37,
    "start_time": "2023-08-11T19:59:16.646Z"
   },
   {
    "duration": 3,
    "start_time": "2023-08-11T19:59:16.684Z"
   },
   {
    "duration": 20,
    "start_time": "2023-08-11T19:59:16.688Z"
   },
   {
    "duration": 13,
    "start_time": "2023-08-11T19:59:16.710Z"
   },
   {
    "duration": 17,
    "start_time": "2023-08-11T19:59:16.724Z"
   },
   {
    "duration": 6,
    "start_time": "2023-08-11T19:59:16.745Z"
   },
   {
    "duration": 238,
    "start_time": "2023-08-11T19:59:16.752Z"
   },
   {
    "duration": 184,
    "start_time": "2023-08-11T19:59:16.992Z"
   },
   {
    "duration": 39,
    "start_time": "2023-08-11T19:59:17.178Z"
   },
   {
    "duration": 20,
    "start_time": "2023-08-11T19:59:17.218Z"
   },
   {
    "duration": 12,
    "start_time": "2023-08-11T19:59:17.239Z"
   },
   {
    "duration": 46,
    "start_time": "2023-08-11T19:59:17.252Z"
   },
   {
    "duration": 27,
    "start_time": "2023-08-11T19:59:17.299Z"
   },
   {
    "duration": 32,
    "start_time": "2023-08-11T19:59:17.327Z"
   },
   {
    "duration": 14,
    "start_time": "2023-08-11T19:59:17.360Z"
   },
   {
    "duration": 4,
    "start_time": "2023-08-11T19:59:17.375Z"
   },
   {
    "duration": 59,
    "start_time": "2023-08-11T19:59:17.380Z"
   },
   {
    "duration": 820,
    "start_time": "2023-08-11T19:59:17.440Z"
   },
   {
    "duration": 584,
    "start_time": "2023-08-11T19:59:18.262Z"
   },
   {
    "duration": 96,
    "start_time": "2023-08-11T19:59:18.847Z"
   },
   {
    "duration": 56,
    "start_time": "2023-08-11T19:59:18.944Z"
   },
   {
    "duration": 37,
    "start_time": "2023-08-11T19:59:19.002Z"
   },
   {
    "duration": 15,
    "start_time": "2023-08-11T19:59:19.040Z"
   },
   {
    "duration": 26,
    "start_time": "2023-08-11T19:59:19.057Z"
   },
   {
    "duration": 6,
    "start_time": "2023-08-11T19:59:19.084Z"
   },
   {
    "duration": 34,
    "start_time": "2023-08-11T19:59:19.091Z"
   },
   {
    "duration": 323,
    "start_time": "2023-08-11T19:59:19.126Z"
   },
   {
    "duration": 15,
    "start_time": "2023-08-11T19:59:19.451Z"
   },
   {
    "duration": 313,
    "start_time": "2023-08-11T19:59:19.467Z"
   },
   {
    "duration": 21,
    "start_time": "2023-08-11T19:59:19.782Z"
   },
   {
    "duration": 459,
    "start_time": "2023-08-11T19:59:19.804Z"
   },
   {
    "duration": 122,
    "start_time": "2023-08-11T20:01:34.983Z"
   },
   {
    "duration": 10,
    "start_time": "2023-08-11T20:02:09.303Z"
   },
   {
    "duration": 16,
    "start_time": "2023-08-11T20:02:27.655Z"
   },
   {
    "duration": 584,
    "start_time": "2023-08-11T20:03:50.671Z"
   },
   {
    "duration": 375,
    "start_time": "2023-08-11T20:05:02.224Z"
   },
   {
    "duration": 9,
    "start_time": "2023-08-11T20:05:12.280Z"
   },
   {
    "duration": 10,
    "start_time": "2023-08-11T20:11:16.818Z"
   },
   {
    "duration": 18,
    "start_time": "2023-08-11T20:11:25.379Z"
   },
   {
    "duration": 10,
    "start_time": "2023-08-11T20:12:07.387Z"
   },
   {
    "duration": 16,
    "start_time": "2023-08-11T20:12:12.331Z"
   },
   {
    "duration": 15,
    "start_time": "2023-08-11T20:12:39.555Z"
   },
   {
    "duration": 16,
    "start_time": "2023-08-11T20:12:52.875Z"
   },
   {
    "duration": 24,
    "start_time": "2023-08-11T20:13:01.141Z"
   },
   {
    "duration": 10,
    "start_time": "2023-08-11T20:13:14.853Z"
   },
   {
    "duration": 1470,
    "start_time": "2023-08-11T20:13:36.357Z"
   },
   {
    "duration": 21,
    "start_time": "2023-08-11T20:13:42.308Z"
   },
   {
    "duration": 31,
    "start_time": "2023-08-11T20:14:13.884Z"
   },
   {
    "duration": 15,
    "start_time": "2023-08-11T20:14:29.684Z"
   },
   {
    "duration": 15,
    "start_time": "2023-08-11T20:14:38.820Z"
   },
   {
    "duration": 17,
    "start_time": "2023-08-11T20:15:04.404Z"
   },
   {
    "duration": 95,
    "start_time": "2023-08-11T20:16:42.514Z"
   },
   {
    "duration": 36,
    "start_time": "2023-08-11T20:17:09.901Z"
   },
   {
    "duration": 11,
    "start_time": "2023-08-11T20:18:14.046Z"
   },
   {
    "duration": 12,
    "start_time": "2023-08-11T20:18:19.238Z"
   },
   {
    "duration": 4,
    "start_time": "2023-08-11T20:18:25.124Z"
   },
   {
    "duration": 6,
    "start_time": "2023-08-11T20:20:03.990Z"
   },
   {
    "duration": 17,
    "start_time": "2023-08-11T20:20:05.550Z"
   },
   {
    "duration": 159,
    "start_time": "2023-08-11T20:20:07.222Z"
   },
   {
    "duration": 1410,
    "start_time": "2023-08-11T20:20:22.548Z"
   },
   {
    "duration": 205,
    "start_time": "2023-08-11T20:20:23.960Z"
   },
   {
    "duration": 15,
    "start_time": "2023-08-11T20:20:24.167Z"
   },
   {
    "duration": 20,
    "start_time": "2023-08-11T20:20:24.183Z"
   },
   {
    "duration": 23,
    "start_time": "2023-08-11T20:20:24.204Z"
   },
   {
    "duration": 9,
    "start_time": "2023-08-11T20:20:24.229Z"
   },
   {
    "duration": 7,
    "start_time": "2023-08-11T20:20:24.240Z"
   },
   {
    "duration": 20,
    "start_time": "2023-08-11T20:20:24.248Z"
   },
   {
    "duration": 13,
    "start_time": "2023-08-11T20:20:24.269Z"
   },
   {
    "duration": 5,
    "start_time": "2023-08-11T20:20:24.284Z"
   },
   {
    "duration": 40,
    "start_time": "2023-08-11T20:20:24.290Z"
   },
   {
    "duration": 8,
    "start_time": "2023-08-11T20:20:24.331Z"
   },
   {
    "duration": 23,
    "start_time": "2023-08-11T20:20:24.341Z"
   },
   {
    "duration": 25,
    "start_time": "2023-08-11T20:20:24.366Z"
   },
   {
    "duration": 41,
    "start_time": "2023-08-11T20:20:24.392Z"
   },
   {
    "duration": 52,
    "start_time": "2023-08-11T20:20:24.435Z"
   },
   {
    "duration": 26,
    "start_time": "2023-08-11T20:20:24.489Z"
   },
   {
    "duration": 37,
    "start_time": "2023-08-11T20:20:24.517Z"
   },
   {
    "duration": 21,
    "start_time": "2023-08-11T20:20:24.556Z"
   },
   {
    "duration": 31,
    "start_time": "2023-08-11T20:20:24.579Z"
   },
   {
    "duration": 33,
    "start_time": "2023-08-11T20:20:24.612Z"
   },
   {
    "duration": 844,
    "start_time": "2023-08-11T20:20:24.647Z"
   },
   {
    "duration": 11,
    "start_time": "2023-08-11T20:20:25.493Z"
   },
   {
    "duration": 49,
    "start_time": "2023-08-11T20:20:25.505Z"
   },
   {
    "duration": 7,
    "start_time": "2023-08-11T20:20:25.556Z"
   },
   {
    "duration": 22,
    "start_time": "2023-08-11T20:20:25.564Z"
   },
   {
    "duration": 28,
    "start_time": "2023-08-11T20:20:25.587Z"
   },
   {
    "duration": 19,
    "start_time": "2023-08-11T20:20:25.619Z"
   },
   {
    "duration": 24,
    "start_time": "2023-08-11T20:20:25.639Z"
   },
   {
    "duration": 8,
    "start_time": "2023-08-11T20:20:25.664Z"
   },
   {
    "duration": 27,
    "start_time": "2023-08-11T20:20:25.673Z"
   },
   {
    "duration": 26,
    "start_time": "2023-08-11T20:20:25.701Z"
   },
   {
    "duration": 397,
    "start_time": "2023-08-11T20:20:25.728Z"
   },
   {
    "duration": 21,
    "start_time": "2023-08-11T20:20:26.127Z"
   },
   {
    "duration": 6,
    "start_time": "2023-08-11T20:20:26.150Z"
   },
   {
    "duration": 47,
    "start_time": "2023-08-11T20:20:26.158Z"
   },
   {
    "duration": 3,
    "start_time": "2023-08-11T20:20:26.207Z"
   },
   {
    "duration": 29,
    "start_time": "2023-08-11T20:20:26.212Z"
   },
   {
    "duration": 16,
    "start_time": "2023-08-11T20:20:26.243Z"
   },
   {
    "duration": 17,
    "start_time": "2023-08-11T20:20:26.260Z"
   },
   {
    "duration": 8,
    "start_time": "2023-08-11T20:20:26.279Z"
   },
   {
    "duration": 257,
    "start_time": "2023-08-11T20:20:26.289Z"
   },
   {
    "duration": 195,
    "start_time": "2023-08-11T20:20:26.548Z"
   },
   {
    "duration": 50,
    "start_time": "2023-08-11T20:20:26.745Z"
   },
   {
    "duration": 5,
    "start_time": "2023-08-11T20:20:26.796Z"
   },
   {
    "duration": 9,
    "start_time": "2023-08-11T20:20:26.803Z"
   },
   {
    "duration": 56,
    "start_time": "2023-08-11T20:20:26.814Z"
   },
   {
    "duration": 30,
    "start_time": "2023-08-11T20:20:26.871Z"
   },
   {
    "duration": 40,
    "start_time": "2023-08-11T20:20:26.903Z"
   },
   {
    "duration": 13,
    "start_time": "2023-08-11T20:20:26.944Z"
   },
   {
    "duration": 2,
    "start_time": "2023-08-11T20:20:26.959Z"
   },
   {
    "duration": 46,
    "start_time": "2023-08-11T20:20:26.962Z"
   },
   {
    "duration": 812,
    "start_time": "2023-08-11T20:20:27.010Z"
   },
   {
    "duration": 422,
    "start_time": "2023-08-11T20:20:27.823Z"
   },
   {
    "duration": 93,
    "start_time": "2023-08-11T20:20:28.248Z"
   },
   {
    "duration": 27,
    "start_time": "2023-08-11T20:20:28.342Z"
   },
   {
    "duration": 43,
    "start_time": "2023-08-11T20:20:28.371Z"
   },
   {
    "duration": 34,
    "start_time": "2023-08-11T20:20:28.415Z"
   },
   {
    "duration": 22,
    "start_time": "2023-08-11T20:20:28.451Z"
   },
   {
    "duration": 6,
    "start_time": "2023-08-11T20:20:28.475Z"
   },
   {
    "duration": 49,
    "start_time": "2023-08-11T20:20:28.482Z"
   },
   {
    "duration": 324,
    "start_time": "2023-08-11T20:20:28.532Z"
   },
   {
    "duration": 16,
    "start_time": "2023-08-11T20:20:28.857Z"
   },
   {
    "duration": 393,
    "start_time": "2023-08-11T20:20:28.874Z"
   },
   {
    "duration": 23,
    "start_time": "2023-08-11T20:20:29.269Z"
   },
   {
    "duration": 482,
    "start_time": "2023-08-11T20:20:29.295Z"
   },
   {
    "duration": 14,
    "start_time": "2023-08-11T20:20:29.779Z"
   },
   {
    "duration": 14,
    "start_time": "2023-08-11T20:20:29.794Z"
   },
   {
    "duration": 42,
    "start_time": "2023-08-11T20:20:29.809Z"
   },
   {
    "duration": 9,
    "start_time": "2023-08-11T20:21:17.795Z"
   },
   {
    "duration": 6,
    "start_time": "2023-08-11T20:21:19.827Z"
   },
   {
    "duration": 355,
    "start_time": "2023-08-11T20:21:21.563Z"
   },
   {
    "duration": 362,
    "start_time": "2023-08-11T20:21:26.380Z"
   },
   {
    "duration": 338,
    "start_time": "2023-08-11T20:21:28.547Z"
   },
   {
    "duration": 11,
    "start_time": "2023-08-11T20:26:04.421Z"
   },
   {
    "duration": 115,
    "start_time": "2023-08-11T20:26:17.661Z"
   },
   {
    "duration": 6,
    "start_time": "2023-08-11T20:26:26.597Z"
   },
   {
    "duration": 35,
    "start_time": "2023-08-11T20:26:50.109Z"
   },
   {
    "duration": 15,
    "start_time": "2023-08-11T20:27:00.758Z"
   },
   {
    "duration": 355,
    "start_time": "2023-08-11T20:27:09.278Z"
   },
   {
    "duration": 16,
    "start_time": "2023-08-11T20:28:06.182Z"
   },
   {
    "duration": 356,
    "start_time": "2023-08-11T20:28:24.934Z"
   },
   {
    "duration": 415,
    "start_time": "2023-08-11T20:28:26.870Z"
   },
   {
    "duration": 448,
    "start_time": "2023-08-11T20:30:13.191Z"
   },
   {
    "duration": 10,
    "start_time": "2023-08-11T20:31:21.335Z"
   },
   {
    "duration": 13,
    "start_time": "2023-08-11T20:31:35.871Z"
   },
   {
    "duration": 80,
    "start_time": "2023-08-11T20:32:17.785Z"
   },
   {
    "duration": 12,
    "start_time": "2023-08-11T20:32:21.631Z"
   },
   {
    "duration": 23,
    "start_time": "2023-08-11T20:32:29.374Z"
   },
   {
    "duration": 1547,
    "start_time": "2023-08-11T20:32:47.138Z"
   },
   {
    "duration": 251,
    "start_time": "2023-08-11T20:32:48.687Z"
   },
   {
    "duration": 15,
    "start_time": "2023-08-11T20:32:48.940Z"
   },
   {
    "duration": 19,
    "start_time": "2023-08-11T20:32:48.957Z"
   },
   {
    "duration": 166,
    "start_time": "2023-08-11T20:32:48.979Z"
   },
   {
    "duration": 4,
    "start_time": "2023-08-11T20:32:49.147Z"
   },
   {
    "duration": 13,
    "start_time": "2023-08-11T20:32:49.153Z"
   },
   {
    "duration": 32,
    "start_time": "2023-08-11T20:32:49.168Z"
   },
   {
    "duration": 27,
    "start_time": "2023-08-11T20:32:49.201Z"
   },
   {
    "duration": 13,
    "start_time": "2023-08-11T20:32:49.230Z"
   },
   {
    "duration": 34,
    "start_time": "2023-08-11T20:32:49.245Z"
   },
   {
    "duration": 6,
    "start_time": "2023-08-11T20:32:49.280Z"
   },
   {
    "duration": 7,
    "start_time": "2023-08-11T20:32:49.288Z"
   },
   {
    "duration": 5,
    "start_time": "2023-08-11T20:32:49.298Z"
   },
   {
    "duration": 24,
    "start_time": "2023-08-11T20:32:49.304Z"
   },
   {
    "duration": 7,
    "start_time": "2023-08-11T20:32:49.338Z"
   },
   {
    "duration": 4,
    "start_time": "2023-08-11T20:32:49.346Z"
   },
   {
    "duration": 14,
    "start_time": "2023-08-11T20:32:49.351Z"
   },
   {
    "duration": 5,
    "start_time": "2023-08-11T20:32:49.366Z"
   },
   {
    "duration": 17,
    "start_time": "2023-08-11T20:32:49.372Z"
   },
   {
    "duration": 11,
    "start_time": "2023-08-11T20:32:49.390Z"
   },
   {
    "duration": 782,
    "start_time": "2023-08-11T20:32:49.403Z"
   },
   {
    "duration": 9,
    "start_time": "2023-08-11T20:32:50.187Z"
   },
   {
    "duration": 49,
    "start_time": "2023-08-11T20:32:50.197Z"
   },
   {
    "duration": 6,
    "start_time": "2023-08-11T20:32:50.247Z"
   },
   {
    "duration": 33,
    "start_time": "2023-08-11T20:32:50.254Z"
   },
   {
    "duration": 26,
    "start_time": "2023-08-11T20:32:50.289Z"
   },
   {
    "duration": 5,
    "start_time": "2023-08-11T20:32:50.317Z"
   },
   {
    "duration": 32,
    "start_time": "2023-08-11T20:32:50.324Z"
   },
   {
    "duration": 7,
    "start_time": "2023-08-11T20:32:50.357Z"
   },
   {
    "duration": 8,
    "start_time": "2023-08-11T20:32:50.365Z"
   },
   {
    "duration": 23,
    "start_time": "2023-08-11T20:32:50.374Z"
   },
   {
    "duration": 416,
    "start_time": "2023-08-11T20:32:50.399Z"
   },
   {
    "duration": 27,
    "start_time": "2023-08-11T20:32:50.817Z"
   },
   {
    "duration": 8,
    "start_time": "2023-08-11T20:32:50.845Z"
   },
   {
    "duration": 44,
    "start_time": "2023-08-11T20:32:50.854Z"
   },
   {
    "duration": 3,
    "start_time": "2023-08-11T20:32:50.899Z"
   },
   {
    "duration": 28,
    "start_time": "2023-08-11T20:32:50.903Z"
   },
   {
    "duration": 9,
    "start_time": "2023-08-11T20:32:50.933Z"
   },
   {
    "duration": 8,
    "start_time": "2023-08-11T20:32:50.944Z"
   },
   {
    "duration": 11,
    "start_time": "2023-08-11T20:32:50.955Z"
   },
   {
    "duration": 265,
    "start_time": "2023-08-11T20:32:50.968Z"
   },
   {
    "duration": 182,
    "start_time": "2023-08-11T20:32:51.234Z"
   },
   {
    "duration": 41,
    "start_time": "2023-08-11T20:32:51.417Z"
   },
   {
    "duration": 4,
    "start_time": "2023-08-11T20:32:51.459Z"
   },
   {
    "duration": 15,
    "start_time": "2023-08-11T20:32:51.464Z"
   },
   {
    "duration": 45,
    "start_time": "2023-08-11T20:32:51.481Z"
   },
   {
    "duration": 35,
    "start_time": "2023-08-11T20:32:51.527Z"
   },
   {
    "duration": 28,
    "start_time": "2023-08-11T20:32:51.563Z"
   },
   {
    "duration": 14,
    "start_time": "2023-08-11T20:32:51.593Z"
   },
   {
    "duration": 25,
    "start_time": "2023-08-11T20:32:51.608Z"
   },
   {
    "duration": 66,
    "start_time": "2023-08-11T20:32:51.638Z"
   },
   {
    "duration": 841,
    "start_time": "2023-08-11T20:32:51.705Z"
   },
   {
    "duration": 594,
    "start_time": "2023-08-11T20:32:52.548Z"
   },
   {
    "duration": 11,
    "start_time": "2023-08-11T20:32:53.144Z"
   },
   {
    "duration": 102,
    "start_time": "2023-08-11T20:32:53.156Z"
   },
   {
    "duration": 49,
    "start_time": "2023-08-11T20:32:53.260Z"
   },
   {
    "duration": 22,
    "start_time": "2023-08-11T20:32:53.310Z"
   },
   {
    "duration": 366,
    "start_time": "2023-08-11T20:32:53.333Z"
   },
   {
    "duration": 393,
    "start_time": "2023-08-11T20:32:53.701Z"
   },
   {
    "duration": 497,
    "start_time": "2023-08-11T20:32:54.095Z"
   },
   {
    "duration": 155,
    "start_time": "2023-08-11T20:32:54.594Z"
   },
   {
    "duration": 27,
    "start_time": "2023-08-11T20:32:54.750Z"
   },
   {
    "duration": 143,
    "start_time": "2023-08-11T20:32:54.779Z"
   },
   {
    "duration": 0,
    "start_time": "2023-08-11T20:32:54.924Z"
   },
   {
    "duration": 0,
    "start_time": "2023-08-11T20:32:54.925Z"
   },
   {
    "duration": 0,
    "start_time": "2023-08-11T20:32:54.926Z"
   },
   {
    "duration": 0,
    "start_time": "2023-08-11T20:32:54.927Z"
   },
   {
    "duration": 0,
    "start_time": "2023-08-11T20:32:54.928Z"
   },
   {
    "duration": 0,
    "start_time": "2023-08-11T20:32:54.937Z"
   },
   {
    "duration": 0,
    "start_time": "2023-08-11T20:32:54.939Z"
   },
   {
    "duration": 0,
    "start_time": "2023-08-11T20:32:54.940Z"
   },
   {
    "duration": 0,
    "start_time": "2023-08-11T20:32:54.941Z"
   },
   {
    "duration": 0,
    "start_time": "2023-08-11T20:32:54.943Z"
   },
   {
    "duration": 0,
    "start_time": "2023-08-11T20:32:54.944Z"
   },
   {
    "duration": 0,
    "start_time": "2023-08-11T20:32:54.945Z"
   },
   {
    "duration": 0,
    "start_time": "2023-08-11T20:32:54.946Z"
   },
   {
    "duration": 0,
    "start_time": "2023-08-11T20:32:54.947Z"
   },
   {
    "duration": 11,
    "start_time": "2023-08-11T20:33:10.056Z"
   },
   {
    "duration": 8,
    "start_time": "2023-08-11T20:35:58.496Z"
   },
   {
    "duration": 356,
    "start_time": "2023-08-11T20:37:09.490Z"
   },
   {
    "duration": 340,
    "start_time": "2023-08-11T20:37:17.785Z"
   },
   {
    "duration": 8,
    "start_time": "2023-08-11T20:37:22.625Z"
   },
   {
    "duration": 1398,
    "start_time": "2023-08-11T20:38:18.351Z"
   },
   {
    "duration": 242,
    "start_time": "2023-08-11T20:38:19.751Z"
   },
   {
    "duration": 15,
    "start_time": "2023-08-11T20:38:19.995Z"
   },
   {
    "duration": 31,
    "start_time": "2023-08-11T20:38:20.012Z"
   },
   {
    "duration": 38,
    "start_time": "2023-08-11T20:38:20.044Z"
   },
   {
    "duration": 6,
    "start_time": "2023-08-11T20:38:20.084Z"
   },
   {
    "duration": 5,
    "start_time": "2023-08-11T20:38:20.092Z"
   },
   {
    "duration": 40,
    "start_time": "2023-08-11T20:38:20.098Z"
   },
   {
    "duration": 15,
    "start_time": "2023-08-11T20:38:20.140Z"
   },
   {
    "duration": 9,
    "start_time": "2023-08-11T20:38:20.158Z"
   },
   {
    "duration": 33,
    "start_time": "2023-08-11T20:38:20.169Z"
   },
   {
    "duration": 5,
    "start_time": "2023-08-11T20:38:20.204Z"
   },
   {
    "duration": 8,
    "start_time": "2023-08-11T20:38:20.210Z"
   },
   {
    "duration": 22,
    "start_time": "2023-08-11T20:38:20.219Z"
   },
   {
    "duration": 24,
    "start_time": "2023-08-11T20:38:20.242Z"
   },
   {
    "duration": 8,
    "start_time": "2023-08-11T20:38:20.268Z"
   },
   {
    "duration": 7,
    "start_time": "2023-08-11T20:38:20.278Z"
   },
   {
    "duration": 21,
    "start_time": "2023-08-11T20:38:20.287Z"
   },
   {
    "duration": 5,
    "start_time": "2023-08-11T20:38:20.310Z"
   },
   {
    "duration": 41,
    "start_time": "2023-08-11T20:38:20.316Z"
   },
   {
    "duration": 13,
    "start_time": "2023-08-11T20:38:20.359Z"
   },
   {
    "duration": 748,
    "start_time": "2023-08-11T20:38:20.373Z"
   },
   {
    "duration": 20,
    "start_time": "2023-08-11T20:38:21.123Z"
   },
   {
    "duration": 46,
    "start_time": "2023-08-11T20:38:21.144Z"
   },
   {
    "duration": 13,
    "start_time": "2023-08-11T20:38:21.192Z"
   },
   {
    "duration": 34,
    "start_time": "2023-08-11T20:38:21.206Z"
   },
   {
    "duration": 29,
    "start_time": "2023-08-11T20:38:21.242Z"
   },
   {
    "duration": 6,
    "start_time": "2023-08-11T20:38:21.276Z"
   },
   {
    "duration": 19,
    "start_time": "2023-08-11T20:38:21.283Z"
   },
   {
    "duration": 7,
    "start_time": "2023-08-11T20:38:21.304Z"
   },
   {
    "duration": 28,
    "start_time": "2023-08-11T20:38:21.312Z"
   },
   {
    "duration": 19,
    "start_time": "2023-08-11T20:38:21.342Z"
   },
   {
    "duration": 377,
    "start_time": "2023-08-11T20:38:21.363Z"
   },
   {
    "duration": 14,
    "start_time": "2023-08-11T20:38:21.741Z"
   },
   {
    "duration": 9,
    "start_time": "2023-08-11T20:38:21.756Z"
   },
   {
    "duration": 33,
    "start_time": "2023-08-11T20:38:21.766Z"
   },
   {
    "duration": 4,
    "start_time": "2023-08-11T20:38:21.801Z"
   },
   {
    "duration": 48,
    "start_time": "2023-08-11T20:38:21.807Z"
   },
   {
    "duration": 10,
    "start_time": "2023-08-11T20:38:21.857Z"
   },
   {
    "duration": 17,
    "start_time": "2023-08-11T20:38:21.869Z"
   },
   {
    "duration": 17,
    "start_time": "2023-08-11T20:38:21.888Z"
   },
   {
    "duration": 225,
    "start_time": "2023-08-11T20:38:21.907Z"
   },
   {
    "duration": 179,
    "start_time": "2023-08-11T20:38:22.134Z"
   },
   {
    "duration": 38,
    "start_time": "2023-08-11T20:38:22.314Z"
   },
   {
    "duration": 4,
    "start_time": "2023-08-11T20:38:22.353Z"
   },
   {
    "duration": 28,
    "start_time": "2023-08-11T20:38:22.359Z"
   },
   {
    "duration": 37,
    "start_time": "2023-08-11T20:38:22.389Z"
   },
   {
    "duration": 28,
    "start_time": "2023-08-11T20:38:22.428Z"
   },
   {
    "duration": 26,
    "start_time": "2023-08-11T20:38:22.457Z"
   },
   {
    "duration": 13,
    "start_time": "2023-08-11T20:38:22.484Z"
   },
   {
    "duration": 2,
    "start_time": "2023-08-11T20:38:22.498Z"
   },
   {
    "duration": 63,
    "start_time": "2023-08-11T20:38:22.502Z"
   },
   {
    "duration": 848,
    "start_time": "2023-08-11T20:38:22.566Z"
   },
   {
    "duration": 623,
    "start_time": "2023-08-11T20:38:23.416Z"
   },
   {
    "duration": 14,
    "start_time": "2023-08-11T20:38:24.041Z"
   },
   {
    "duration": 6,
    "start_time": "2023-08-11T20:38:24.056Z"
   },
   {
    "duration": 42,
    "start_time": "2023-08-11T20:38:24.064Z"
   },
   {
    "duration": 45,
    "start_time": "2023-08-11T20:38:24.108Z"
   },
   {
    "duration": 360,
    "start_time": "2023-08-11T20:38:24.154Z"
   },
   {
    "duration": 1488,
    "start_time": "2023-08-11T20:38:24.517Z"
   },
   {
    "duration": 0,
    "start_time": "2023-08-11T20:38:26.007Z"
   },
   {
    "duration": 0,
    "start_time": "2023-08-11T20:38:26.008Z"
   },
   {
    "duration": 0,
    "start_time": "2023-08-11T20:38:26.009Z"
   },
   {
    "duration": 0,
    "start_time": "2023-08-11T20:38:26.010Z"
   },
   {
    "duration": 0,
    "start_time": "2023-08-11T20:38:26.011Z"
   },
   {
    "duration": 0,
    "start_time": "2023-08-11T20:38:26.012Z"
   },
   {
    "duration": 0,
    "start_time": "2023-08-11T20:38:26.013Z"
   },
   {
    "duration": 0,
    "start_time": "2023-08-11T20:38:26.014Z"
   },
   {
    "duration": 0,
    "start_time": "2023-08-11T20:38:26.015Z"
   },
   {
    "duration": 0,
    "start_time": "2023-08-11T20:38:26.016Z"
   },
   {
    "duration": 0,
    "start_time": "2023-08-11T20:38:26.017Z"
   },
   {
    "duration": 0,
    "start_time": "2023-08-11T20:38:26.018Z"
   },
   {
    "duration": 0,
    "start_time": "2023-08-11T20:38:26.019Z"
   },
   {
    "duration": 0,
    "start_time": "2023-08-11T20:38:26.021Z"
   },
   {
    "duration": 0,
    "start_time": "2023-08-11T20:38:26.022Z"
   },
   {
    "duration": 354,
    "start_time": "2023-08-11T20:39:06.830Z"
   },
   {
    "duration": 461,
    "start_time": "2023-08-11T20:39:14.237Z"
   },
   {
    "duration": 1443,
    "start_time": "2023-08-11T20:39:23.075Z"
   },
   {
    "duration": 245,
    "start_time": "2023-08-11T20:39:24.520Z"
   },
   {
    "duration": 14,
    "start_time": "2023-08-11T20:39:24.769Z"
   },
   {
    "duration": 18,
    "start_time": "2023-08-11T20:39:24.786Z"
   },
   {
    "duration": 31,
    "start_time": "2023-08-11T20:39:24.805Z"
   },
   {
    "duration": 20,
    "start_time": "2023-08-11T20:39:24.838Z"
   },
   {
    "duration": 22,
    "start_time": "2023-08-11T20:39:24.859Z"
   },
   {
    "duration": 33,
    "start_time": "2023-08-11T20:39:24.882Z"
   },
   {
    "duration": 17,
    "start_time": "2023-08-11T20:39:24.918Z"
   },
   {
    "duration": 23,
    "start_time": "2023-08-11T20:39:24.937Z"
   },
   {
    "duration": 39,
    "start_time": "2023-08-11T20:39:24.961Z"
   },
   {
    "duration": 5,
    "start_time": "2023-08-11T20:39:25.001Z"
   },
   {
    "duration": 26,
    "start_time": "2023-08-11T20:39:25.007Z"
   },
   {
    "duration": 9,
    "start_time": "2023-08-11T20:39:25.034Z"
   },
   {
    "duration": 35,
    "start_time": "2023-08-11T20:39:25.044Z"
   },
   {
    "duration": 17,
    "start_time": "2023-08-11T20:39:25.081Z"
   },
   {
    "duration": 19,
    "start_time": "2023-08-11T20:39:25.100Z"
   },
   {
    "duration": 34,
    "start_time": "2023-08-11T20:39:25.121Z"
   },
   {
    "duration": 5,
    "start_time": "2023-08-11T20:39:25.157Z"
   },
   {
    "duration": 27,
    "start_time": "2023-08-11T20:39:25.163Z"
   },
   {
    "duration": 11,
    "start_time": "2023-08-11T20:39:25.191Z"
   },
   {
    "duration": 801,
    "start_time": "2023-08-11T20:39:25.204Z"
   },
   {
    "duration": 16,
    "start_time": "2023-08-11T20:39:26.006Z"
   },
   {
    "duration": 57,
    "start_time": "2023-08-11T20:39:26.023Z"
   },
   {
    "duration": 12,
    "start_time": "2023-08-11T20:39:26.082Z"
   },
   {
    "duration": 34,
    "start_time": "2023-08-11T20:39:26.095Z"
   },
   {
    "duration": 31,
    "start_time": "2023-08-11T20:39:26.133Z"
   },
   {
    "duration": 7,
    "start_time": "2023-08-11T20:39:26.167Z"
   },
   {
    "duration": 49,
    "start_time": "2023-08-11T20:39:26.176Z"
   },
   {
    "duration": 9,
    "start_time": "2023-08-11T20:39:26.226Z"
   },
   {
    "duration": 9,
    "start_time": "2023-08-11T20:39:26.236Z"
   },
   {
    "duration": 25,
    "start_time": "2023-08-11T20:39:26.246Z"
   },
   {
    "duration": 404,
    "start_time": "2023-08-11T20:39:26.273Z"
   },
   {
    "duration": 16,
    "start_time": "2023-08-11T20:39:26.679Z"
   },
   {
    "duration": 11,
    "start_time": "2023-08-11T20:39:26.697Z"
   },
   {
    "duration": 49,
    "start_time": "2023-08-11T20:39:26.709Z"
   },
   {
    "duration": 3,
    "start_time": "2023-08-11T20:39:26.760Z"
   },
   {
    "duration": 30,
    "start_time": "2023-08-11T20:39:26.765Z"
   },
   {
    "duration": 29,
    "start_time": "2023-08-11T20:39:26.797Z"
   },
   {
    "duration": 15,
    "start_time": "2023-08-11T20:39:26.828Z"
   },
   {
    "duration": 7,
    "start_time": "2023-08-11T20:39:26.845Z"
   },
   {
    "duration": 245,
    "start_time": "2023-08-11T20:39:26.854Z"
   },
   {
    "duration": 205,
    "start_time": "2023-08-11T20:39:27.101Z"
   },
   {
    "duration": 40,
    "start_time": "2023-08-11T20:39:27.307Z"
   },
   {
    "duration": 5,
    "start_time": "2023-08-11T20:39:27.348Z"
   },
   {
    "duration": 14,
    "start_time": "2023-08-11T20:39:27.354Z"
   },
   {
    "duration": 74,
    "start_time": "2023-08-11T20:39:27.369Z"
   },
   {
    "duration": 30,
    "start_time": "2023-08-11T20:39:27.445Z"
   },
   {
    "duration": 34,
    "start_time": "2023-08-11T20:39:27.477Z"
   },
   {
    "duration": 42,
    "start_time": "2023-08-11T20:39:27.513Z"
   },
   {
    "duration": 2,
    "start_time": "2023-08-11T20:39:27.557Z"
   },
   {
    "duration": 64,
    "start_time": "2023-08-11T20:39:27.561Z"
   },
   {
    "duration": 890,
    "start_time": "2023-08-11T20:39:27.626Z"
   },
   {
    "duration": 620,
    "start_time": "2023-08-11T20:39:28.518Z"
   },
   {
    "duration": 9,
    "start_time": "2023-08-11T20:39:29.140Z"
   },
   {
    "duration": 6,
    "start_time": "2023-08-11T20:39:29.150Z"
   },
   {
    "duration": 39,
    "start_time": "2023-08-11T20:39:29.157Z"
   },
   {
    "duration": 41,
    "start_time": "2023-08-11T20:39:29.197Z"
   },
   {
    "duration": 331,
    "start_time": "2023-08-11T20:39:29.239Z"
   },
   {
    "duration": 343,
    "start_time": "2023-08-11T20:39:29.572Z"
   },
   {
    "duration": 440,
    "start_time": "2023-08-11T20:39:29.916Z"
   },
   {
    "duration": 15,
    "start_time": "2023-08-11T20:39:30.357Z"
   },
   {
    "duration": 40,
    "start_time": "2023-08-11T20:39:30.373Z"
   },
   {
    "duration": 34,
    "start_time": "2023-08-11T20:39:30.414Z"
   },
   {
    "duration": 30,
    "start_time": "2023-08-11T20:39:30.449Z"
   },
   {
    "duration": 12,
    "start_time": "2023-08-11T20:39:30.480Z"
   },
   {
    "duration": 76,
    "start_time": "2023-08-11T20:39:30.494Z"
   },
   {
    "duration": 368,
    "start_time": "2023-08-11T20:39:30.571Z"
   },
   {
    "duration": 16,
    "start_time": "2023-08-11T20:39:30.941Z"
   },
   {
    "duration": 374,
    "start_time": "2023-08-11T20:39:30.958Z"
   },
   {
    "duration": 21,
    "start_time": "2023-08-11T20:39:31.337Z"
   },
   {
    "duration": 415,
    "start_time": "2023-08-11T20:39:31.359Z"
   },
   {
    "duration": 14,
    "start_time": "2023-08-11T20:39:31.776Z"
   },
   {
    "duration": 46,
    "start_time": "2023-08-11T20:39:31.791Z"
   },
   {
    "duration": 53,
    "start_time": "2023-08-11T20:39:31.839Z"
   },
   {
    "duration": 122,
    "start_time": "2023-08-11T20:42:41.966Z"
   },
   {
    "duration": 6,
    "start_time": "2023-08-11T20:43:14.711Z"
   },
   {
    "duration": 786,
    "start_time": "2023-08-11T20:43:17.422Z"
   },
   {
    "duration": 447,
    "start_time": "2023-08-11T20:43:41.294Z"
   },
   {
    "duration": 11,
    "start_time": "2023-08-11T20:43:43.822Z"
   },
   {
    "duration": 5,
    "start_time": "2023-08-11T20:43:45.718Z"
   },
   {
    "duration": 40,
    "start_time": "2023-08-11T20:43:47.030Z"
   },
   {
    "duration": 28,
    "start_time": "2023-08-11T20:43:49.175Z"
   },
   {
    "duration": 829,
    "start_time": "2023-08-11T20:45:10.384Z"
   },
   {
    "duration": 496,
    "start_time": "2023-08-11T20:45:37.943Z"
   },
   {
    "duration": 1447,
    "start_time": "2023-08-11T20:45:54.400Z"
   },
   {
    "duration": 202,
    "start_time": "2023-08-11T20:45:55.849Z"
   },
   {
    "duration": 13,
    "start_time": "2023-08-11T20:45:56.053Z"
   },
   {
    "duration": 9,
    "start_time": "2023-08-11T20:45:56.068Z"
   },
   {
    "duration": 27,
    "start_time": "2023-08-11T20:45:56.079Z"
   },
   {
    "duration": 4,
    "start_time": "2023-08-11T20:45:56.107Z"
   },
   {
    "duration": 6,
    "start_time": "2023-08-11T20:45:56.112Z"
   },
   {
    "duration": 29,
    "start_time": "2023-08-11T20:45:56.120Z"
   },
   {
    "duration": 10,
    "start_time": "2023-08-11T20:45:56.151Z"
   },
   {
    "duration": 7,
    "start_time": "2023-08-11T20:45:56.163Z"
   },
   {
    "duration": 39,
    "start_time": "2023-08-11T20:45:56.172Z"
   },
   {
    "duration": 5,
    "start_time": "2023-08-11T20:45:56.213Z"
   },
   {
    "duration": 27,
    "start_time": "2023-08-11T20:45:56.219Z"
   },
   {
    "duration": 8,
    "start_time": "2023-08-11T20:45:56.250Z"
   },
   {
    "duration": 24,
    "start_time": "2023-08-11T20:45:56.259Z"
   },
   {
    "duration": 11,
    "start_time": "2023-08-11T20:45:56.285Z"
   },
   {
    "duration": 4,
    "start_time": "2023-08-11T20:45:56.298Z"
   },
   {
    "duration": 15,
    "start_time": "2023-08-11T20:45:56.303Z"
   },
   {
    "duration": 5,
    "start_time": "2023-08-11T20:45:56.319Z"
   },
   {
    "duration": 14,
    "start_time": "2023-08-11T20:45:56.337Z"
   },
   {
    "duration": 14,
    "start_time": "2023-08-11T20:45:56.353Z"
   },
   {
    "duration": 729,
    "start_time": "2023-08-11T20:45:56.368Z"
   },
   {
    "duration": 11,
    "start_time": "2023-08-11T20:45:57.098Z"
   },
   {
    "duration": 54,
    "start_time": "2023-08-11T20:45:57.110Z"
   },
   {
    "duration": 7,
    "start_time": "2023-08-11T20:45:57.165Z"
   },
   {
    "duration": 22,
    "start_time": "2023-08-11T20:45:57.174Z"
   },
   {
    "duration": 45,
    "start_time": "2023-08-11T20:45:57.198Z"
   },
   {
    "duration": 6,
    "start_time": "2023-08-11T20:45:57.245Z"
   },
   {
    "duration": 20,
    "start_time": "2023-08-11T20:45:57.252Z"
   },
   {
    "duration": 8,
    "start_time": "2023-08-11T20:45:57.274Z"
   },
   {
    "duration": 14,
    "start_time": "2023-08-11T20:45:57.284Z"
   },
   {
    "duration": 23,
    "start_time": "2023-08-11T20:45:57.299Z"
   },
   {
    "duration": 406,
    "start_time": "2023-08-11T20:45:57.324Z"
   },
   {
    "duration": 18,
    "start_time": "2023-08-11T20:45:57.732Z"
   },
   {
    "duration": 7,
    "start_time": "2023-08-11T20:45:57.752Z"
   },
   {
    "duration": 33,
    "start_time": "2023-08-11T20:45:57.760Z"
   },
   {
    "duration": 3,
    "start_time": "2023-08-11T20:45:57.795Z"
   },
   {
    "duration": 42,
    "start_time": "2023-08-11T20:45:57.800Z"
   },
   {
    "duration": 11,
    "start_time": "2023-08-11T20:45:57.843Z"
   },
   {
    "duration": 18,
    "start_time": "2023-08-11T20:45:57.855Z"
   },
   {
    "duration": 11,
    "start_time": "2023-08-11T20:45:57.878Z"
   },
   {
    "duration": 237,
    "start_time": "2023-08-11T20:45:57.891Z"
   },
   {
    "duration": 179,
    "start_time": "2023-08-11T20:45:58.130Z"
   },
   {
    "duration": 42,
    "start_time": "2023-08-11T20:45:58.310Z"
   },
   {
    "duration": 4,
    "start_time": "2023-08-11T20:45:58.354Z"
   },
   {
    "duration": 12,
    "start_time": "2023-08-11T20:45:58.359Z"
   },
   {
    "duration": 36,
    "start_time": "2023-08-11T20:45:58.373Z"
   },
   {
    "duration": 46,
    "start_time": "2023-08-11T20:45:58.411Z"
   },
   {
    "duration": 32,
    "start_time": "2023-08-11T20:45:58.459Z"
   },
   {
    "duration": 16,
    "start_time": "2023-08-11T20:45:58.493Z"
   },
   {
    "duration": 60,
    "start_time": "2023-08-11T20:45:58.511Z"
   },
   {
    "duration": 569,
    "start_time": "2023-08-11T20:45:58.573Z"
   },
   {
    "duration": 770,
    "start_time": "2023-08-11T20:45:59.143Z"
   },
   {
    "duration": 11,
    "start_time": "2023-08-11T20:45:59.914Z"
   },
   {
    "duration": 5,
    "start_time": "2023-08-11T20:45:59.938Z"
   },
   {
    "duration": 60,
    "start_time": "2023-08-11T20:45:59.945Z"
   },
   {
    "duration": 24,
    "start_time": "2023-08-11T20:46:00.007Z"
   },
   {
    "duration": 336,
    "start_time": "2023-08-11T20:46:00.033Z"
   },
   {
    "duration": 352,
    "start_time": "2023-08-11T20:46:00.370Z"
   },
   {
    "duration": 453,
    "start_time": "2023-08-11T20:46:00.723Z"
   },
   {
    "duration": 13,
    "start_time": "2023-08-11T20:46:01.177Z"
   },
   {
    "duration": 52,
    "start_time": "2023-08-11T20:46:01.192Z"
   },
   {
    "duration": 20,
    "start_time": "2023-08-11T20:46:01.246Z"
   },
   {
    "duration": 41,
    "start_time": "2023-08-11T20:46:01.268Z"
   },
   {
    "duration": 9,
    "start_time": "2023-08-11T20:46:01.311Z"
   },
   {
    "duration": 67,
    "start_time": "2023-08-11T20:46:01.322Z"
   },
   {
    "duration": 358,
    "start_time": "2023-08-11T20:46:01.391Z"
   },
   {
    "duration": 17,
    "start_time": "2023-08-11T20:46:01.750Z"
   },
   {
    "duration": 371,
    "start_time": "2023-08-11T20:46:01.769Z"
   },
   {
    "duration": 20,
    "start_time": "2023-08-11T20:46:02.142Z"
   },
   {
    "duration": 416,
    "start_time": "2023-08-11T20:46:02.164Z"
   },
   {
    "duration": 13,
    "start_time": "2023-08-11T20:46:02.582Z"
   },
   {
    "duration": 39,
    "start_time": "2023-08-11T20:46:02.597Z"
   },
   {
    "duration": 25,
    "start_time": "2023-08-11T20:46:02.638Z"
   },
   {
    "duration": 883,
    "start_time": "2023-08-11T20:46:32.958Z"
   },
   {
    "duration": 801,
    "start_time": "2023-08-11T20:46:35.902Z"
   },
   {
    "duration": 13,
    "start_time": "2023-08-11T20:46:51.101Z"
   },
   {
    "duration": 837,
    "start_time": "2023-08-11T20:46:53.462Z"
   },
   {
    "duration": 896,
    "start_time": "2023-08-11T20:47:00.543Z"
   },
   {
    "duration": 814,
    "start_time": "2023-08-11T20:47:02.573Z"
   },
   {
    "duration": 44,
    "start_time": "2023-08-12T11:29:33.407Z"
   },
   {
    "duration": 1554,
    "start_time": "2023-08-12T11:29:39.827Z"
   },
   {
    "duration": 208,
    "start_time": "2023-08-12T11:29:41.383Z"
   },
   {
    "duration": 13,
    "start_time": "2023-08-12T11:29:41.592Z"
   },
   {
    "duration": 8,
    "start_time": "2023-08-12T11:29:41.607Z"
   },
   {
    "duration": 15,
    "start_time": "2023-08-12T11:29:41.617Z"
   },
   {
    "duration": 9,
    "start_time": "2023-08-12T11:29:41.634Z"
   },
   {
    "duration": 8,
    "start_time": "2023-08-12T11:29:41.645Z"
   },
   {
    "duration": 26,
    "start_time": "2023-08-12T11:29:41.654Z"
   },
   {
    "duration": 19,
    "start_time": "2023-08-12T11:29:41.681Z"
   },
   {
    "duration": 5,
    "start_time": "2023-08-12T11:29:41.701Z"
   },
   {
    "duration": 30,
    "start_time": "2023-08-12T11:29:41.707Z"
   },
   {
    "duration": 5,
    "start_time": "2023-08-12T11:29:41.738Z"
   },
   {
    "duration": 15,
    "start_time": "2023-08-12T11:29:41.744Z"
   },
   {
    "duration": 9,
    "start_time": "2023-08-12T11:29:41.762Z"
   },
   {
    "duration": 29,
    "start_time": "2023-08-12T11:29:41.772Z"
   },
   {
    "duration": 7,
    "start_time": "2023-08-12T11:29:41.802Z"
   },
   {
    "duration": 8,
    "start_time": "2023-08-12T11:29:41.811Z"
   },
   {
    "duration": 13,
    "start_time": "2023-08-12T11:29:41.821Z"
   },
   {
    "duration": 8,
    "start_time": "2023-08-12T11:29:41.835Z"
   },
   {
    "duration": 19,
    "start_time": "2023-08-12T11:29:41.844Z"
   },
   {
    "duration": 10,
    "start_time": "2023-08-12T11:29:41.865Z"
   },
   {
    "duration": 679,
    "start_time": "2023-08-12T11:29:41.876Z"
   },
   {
    "duration": 10,
    "start_time": "2023-08-12T11:29:42.557Z"
   },
   {
    "duration": 42,
    "start_time": "2023-08-12T11:29:42.568Z"
   },
   {
    "duration": 4,
    "start_time": "2023-08-12T11:29:42.611Z"
   },
   {
    "duration": 29,
    "start_time": "2023-08-12T11:29:42.617Z"
   },
   {
    "duration": 32,
    "start_time": "2023-08-12T11:29:42.648Z"
   },
   {
    "duration": 6,
    "start_time": "2023-08-12T11:29:42.682Z"
   },
   {
    "duration": 23,
    "start_time": "2023-08-12T11:29:42.690Z"
   },
   {
    "duration": 7,
    "start_time": "2023-08-12T11:29:42.714Z"
   },
   {
    "duration": 8,
    "start_time": "2023-08-12T11:29:42.723Z"
   },
   {
    "duration": 24,
    "start_time": "2023-08-12T11:29:42.732Z"
   },
   {
    "duration": 449,
    "start_time": "2023-08-12T11:29:42.757Z"
   },
   {
    "duration": 13,
    "start_time": "2023-08-12T11:29:43.208Z"
   },
   {
    "duration": 16,
    "start_time": "2023-08-12T11:29:43.223Z"
   },
   {
    "duration": 29,
    "start_time": "2023-08-12T11:29:43.241Z"
   },
   {
    "duration": 3,
    "start_time": "2023-08-12T11:29:43.271Z"
   },
   {
    "duration": 24,
    "start_time": "2023-08-12T11:29:43.276Z"
   },
   {
    "duration": 5,
    "start_time": "2023-08-12T11:29:43.301Z"
   },
   {
    "duration": 11,
    "start_time": "2023-08-12T11:29:43.308Z"
   },
   {
    "duration": 7,
    "start_time": "2023-08-12T11:29:43.322Z"
   },
   {
    "duration": 241,
    "start_time": "2023-08-12T11:29:43.330Z"
   },
   {
    "duration": 170,
    "start_time": "2023-08-12T11:29:43.573Z"
   },
   {
    "duration": 30,
    "start_time": "2023-08-12T11:29:43.745Z"
   },
   {
    "duration": 3,
    "start_time": "2023-08-12T11:29:43.777Z"
   },
   {
    "duration": 24,
    "start_time": "2023-08-12T11:29:43.781Z"
   },
   {
    "duration": 37,
    "start_time": "2023-08-12T11:29:43.806Z"
   },
   {
    "duration": 27,
    "start_time": "2023-08-12T11:29:43.845Z"
   },
   {
    "duration": 35,
    "start_time": "2023-08-12T11:29:43.873Z"
   },
   {
    "duration": 12,
    "start_time": "2023-08-12T11:29:43.910Z"
   },
   {
    "duration": 128,
    "start_time": "2023-08-12T11:29:43.923Z"
   },
   {
    "duration": 5,
    "start_time": "2023-08-12T11:39:00.347Z"
   },
   {
    "duration": 26,
    "start_time": "2023-08-12T11:39:28.825Z"
   },
   {
    "duration": 6,
    "start_time": "2023-08-12T11:40:16.721Z"
   },
   {
    "duration": 18,
    "start_time": "2023-08-12T11:40:18.640Z"
   },
   {
    "duration": 1347,
    "start_time": "2023-08-12T11:41:08.312Z"
   },
   {
    "duration": 18,
    "start_time": "2023-08-12T11:41:21.920Z"
   },
   {
    "duration": 19,
    "start_time": "2023-08-12T11:43:02.738Z"
   },
   {
    "duration": 22,
    "start_time": "2023-08-12T11:43:10.875Z"
   },
   {
    "duration": 5,
    "start_time": "2023-08-12T11:43:16.363Z"
   },
   {
    "duration": 847,
    "start_time": "2023-08-12T11:43:17.859Z"
   },
   {
    "duration": 6,
    "start_time": "2023-08-12T11:43:51.032Z"
   },
   {
    "duration": 351,
    "start_time": "2023-08-12T11:43:52.754Z"
   },
   {
    "duration": 18,
    "start_time": "2023-08-12T11:45:35.616Z"
   },
   {
    "duration": 26,
    "start_time": "2023-08-12T11:45:51.905Z"
   },
   {
    "duration": 5,
    "start_time": "2023-08-12T11:46:16.516Z"
   },
   {
    "duration": 18,
    "start_time": "2023-08-12T11:46:17.740Z"
   },
   {
    "duration": 5,
    "start_time": "2023-08-12T11:46:41.052Z"
   },
   {
    "duration": 30,
    "start_time": "2023-08-12T11:46:42.252Z"
   },
   {
    "duration": 20,
    "start_time": "2023-08-12T11:46:53.076Z"
   },
   {
    "duration": 5,
    "start_time": "2023-08-12T11:47:07.549Z"
   },
   {
    "duration": 17,
    "start_time": "2023-08-12T11:47:08.934Z"
   },
   {
    "duration": 6,
    "start_time": "2023-08-12T11:47:36.876Z"
   },
   {
    "duration": 329,
    "start_time": "2023-08-12T11:47:38.188Z"
   },
   {
    "duration": 354,
    "start_time": "2023-08-12T11:47:57.245Z"
   },
   {
    "duration": 1538,
    "start_time": "2023-08-12T12:07:21.671Z"
   },
   {
    "duration": 217,
    "start_time": "2023-08-12T12:07:23.218Z"
   },
   {
    "duration": 12,
    "start_time": "2023-08-12T12:07:23.436Z"
   },
   {
    "duration": 28,
    "start_time": "2023-08-12T12:07:23.449Z"
   },
   {
    "duration": 56,
    "start_time": "2023-08-12T12:07:23.478Z"
   },
   {
    "duration": 22,
    "start_time": "2023-08-12T12:07:23.536Z"
   },
   {
    "duration": 5,
    "start_time": "2023-08-12T12:07:23.559Z"
   },
   {
    "duration": 24,
    "start_time": "2023-08-12T12:07:23.566Z"
   },
   {
    "duration": 20,
    "start_time": "2023-08-12T12:07:23.591Z"
   },
   {
    "duration": 25,
    "start_time": "2023-08-12T12:07:23.615Z"
   },
   {
    "duration": 38,
    "start_time": "2023-08-12T12:07:23.641Z"
   },
   {
    "duration": 6,
    "start_time": "2023-08-12T12:07:23.681Z"
   },
   {
    "duration": 70,
    "start_time": "2023-08-12T12:07:23.689Z"
   },
   {
    "duration": 23,
    "start_time": "2023-08-12T12:07:23.761Z"
   },
   {
    "duration": 25,
    "start_time": "2023-08-12T12:07:23.786Z"
   },
   {
    "duration": 10,
    "start_time": "2023-08-12T12:07:23.816Z"
   },
   {
    "duration": 33,
    "start_time": "2023-08-12T12:07:23.828Z"
   },
   {
    "duration": 55,
    "start_time": "2023-08-12T12:07:23.862Z"
   },
   {
    "duration": 9,
    "start_time": "2023-08-12T12:07:23.918Z"
   },
   {
    "duration": 20,
    "start_time": "2023-08-12T12:07:23.929Z"
   },
   {
    "duration": 22,
    "start_time": "2023-08-12T12:07:23.950Z"
   },
   {
    "duration": 691,
    "start_time": "2023-08-12T12:07:23.973Z"
   },
   {
    "duration": 11,
    "start_time": "2023-08-12T12:07:24.665Z"
   },
   {
    "duration": 50,
    "start_time": "2023-08-12T12:07:24.677Z"
   },
   {
    "duration": 23,
    "start_time": "2023-08-12T12:07:24.728Z"
   },
   {
    "duration": 37,
    "start_time": "2023-08-12T12:07:24.752Z"
   },
   {
    "duration": 34,
    "start_time": "2023-08-12T12:07:24.791Z"
   },
   {
    "duration": 6,
    "start_time": "2023-08-12T12:07:24.826Z"
   },
   {
    "duration": 26,
    "start_time": "2023-08-12T12:07:24.833Z"
   },
   {
    "duration": 19,
    "start_time": "2023-08-12T12:07:24.860Z"
   },
   {
    "duration": 7,
    "start_time": "2023-08-12T12:07:24.881Z"
   },
   {
    "duration": 26,
    "start_time": "2023-08-12T12:07:24.889Z"
   },
   {
    "duration": 359,
    "start_time": "2023-08-12T12:07:24.916Z"
   },
   {
    "duration": 37,
    "start_time": "2023-08-12T12:07:25.276Z"
   },
   {
    "duration": 23,
    "start_time": "2023-08-12T12:07:25.314Z"
   },
   {
    "duration": 77,
    "start_time": "2023-08-12T12:07:25.338Z"
   },
   {
    "duration": 8,
    "start_time": "2023-08-12T12:07:25.416Z"
   },
   {
    "duration": 45,
    "start_time": "2023-08-12T12:07:25.426Z"
   },
   {
    "duration": 70,
    "start_time": "2023-08-12T12:07:25.472Z"
   },
   {
    "duration": 51,
    "start_time": "2023-08-12T12:07:25.543Z"
   },
   {
    "duration": 27,
    "start_time": "2023-08-12T12:07:25.597Z"
   },
   {
    "duration": 263,
    "start_time": "2023-08-12T12:07:25.625Z"
   },
   {
    "duration": 205,
    "start_time": "2023-08-12T12:07:25.890Z"
   },
   {
    "duration": 43,
    "start_time": "2023-08-12T12:07:26.097Z"
   },
   {
    "duration": 28,
    "start_time": "2023-08-12T12:07:26.142Z"
   },
   {
    "duration": 95,
    "start_time": "2023-08-12T12:07:26.172Z"
   },
   {
    "duration": 64,
    "start_time": "2023-08-12T12:07:26.268Z"
   },
   {
    "duration": 42,
    "start_time": "2023-08-12T12:07:26.333Z"
   },
   {
    "duration": 40,
    "start_time": "2023-08-12T12:07:26.376Z"
   },
   {
    "duration": 44,
    "start_time": "2023-08-12T12:07:26.417Z"
   },
   {
    "duration": 129,
    "start_time": "2023-08-12T12:07:31.489Z"
   },
   {
    "duration": 1719,
    "start_time": "2023-08-12T12:07:39.834Z"
   },
   {
    "duration": 0,
    "start_time": "2023-08-12T12:08:12.515Z"
   },
   {
    "duration": 1504,
    "start_time": "2023-08-12T12:08:14.793Z"
   },
   {
    "duration": 1671,
    "start_time": "2023-08-12T12:08:42.154Z"
   },
   {
    "duration": 12268,
    "start_time": "2023-08-12T12:08:45.377Z"
   },
   {
    "duration": 20250,
    "start_time": "2023-08-12T12:09:04.978Z"
   },
   {
    "duration": 1438,
    "start_time": "2023-08-12T12:09:40.695Z"
   },
   {
    "duration": 230,
    "start_time": "2023-08-12T12:09:42.135Z"
   },
   {
    "duration": 14,
    "start_time": "2023-08-12T12:09:42.366Z"
   },
   {
    "duration": 9,
    "start_time": "2023-08-12T12:09:42.381Z"
   },
   {
    "duration": 19,
    "start_time": "2023-08-12T12:09:42.399Z"
   },
   {
    "duration": 6,
    "start_time": "2023-08-12T12:09:42.419Z"
   },
   {
    "duration": 14,
    "start_time": "2023-08-12T12:09:42.426Z"
   },
   {
    "duration": 22,
    "start_time": "2023-08-12T12:09:42.441Z"
   },
   {
    "duration": 10,
    "start_time": "2023-08-12T12:09:42.465Z"
   },
   {
    "duration": 19,
    "start_time": "2023-08-12T12:09:42.477Z"
   },
   {
    "duration": 38,
    "start_time": "2023-08-12T12:09:42.498Z"
   },
   {
    "duration": 5,
    "start_time": "2023-08-12T12:09:42.537Z"
   },
   {
    "duration": 11,
    "start_time": "2023-08-12T12:09:42.544Z"
   },
   {
    "duration": 15,
    "start_time": "2023-08-12T12:09:42.556Z"
   },
   {
    "duration": 37,
    "start_time": "2023-08-12T12:09:42.573Z"
   },
   {
    "duration": 10,
    "start_time": "2023-08-12T12:09:42.611Z"
   },
   {
    "duration": 21,
    "start_time": "2023-08-12T12:09:42.623Z"
   },
   {
    "duration": 15,
    "start_time": "2023-08-12T12:09:42.645Z"
   },
   {
    "duration": 4,
    "start_time": "2023-08-12T12:09:42.661Z"
   },
   {
    "duration": 18,
    "start_time": "2023-08-12T12:09:42.666Z"
   },
   {
    "duration": 27,
    "start_time": "2023-08-12T12:09:42.686Z"
   },
   {
    "duration": 668,
    "start_time": "2023-08-12T12:09:42.717Z"
   },
   {
    "duration": 29,
    "start_time": "2023-08-12T12:09:43.386Z"
   },
   {
    "duration": 57,
    "start_time": "2023-08-12T12:09:43.416Z"
   },
   {
    "duration": 5,
    "start_time": "2023-08-12T12:09:43.474Z"
   },
   {
    "duration": 33,
    "start_time": "2023-08-12T12:09:43.480Z"
   },
   {
    "duration": 26,
    "start_time": "2023-08-12T12:09:43.515Z"
   },
   {
    "duration": 5,
    "start_time": "2023-08-12T12:09:43.544Z"
   },
   {
    "duration": 34,
    "start_time": "2023-08-12T12:09:43.550Z"
   },
   {
    "duration": 7,
    "start_time": "2023-08-12T12:09:43.585Z"
   },
   {
    "duration": 29,
    "start_time": "2023-08-12T12:09:43.593Z"
   },
   {
    "duration": 21,
    "start_time": "2023-08-12T12:09:43.623Z"
   },
   {
    "duration": 389,
    "start_time": "2023-08-12T12:09:43.645Z"
   },
   {
    "duration": 12,
    "start_time": "2023-08-12T12:09:44.035Z"
   },
   {
    "duration": 6,
    "start_time": "2023-08-12T12:09:44.048Z"
   },
   {
    "duration": 54,
    "start_time": "2023-08-12T12:09:44.055Z"
   },
   {
    "duration": 4,
    "start_time": "2023-08-12T12:09:44.111Z"
   },
   {
    "duration": 18,
    "start_time": "2023-08-12T12:09:44.117Z"
   },
   {
    "duration": 8,
    "start_time": "2023-08-12T12:09:44.136Z"
   },
   {
    "duration": 13,
    "start_time": "2023-08-12T12:09:44.145Z"
   },
   {
    "duration": 5,
    "start_time": "2023-08-12T12:09:44.160Z"
   },
   {
    "duration": 225,
    "start_time": "2023-08-12T12:09:44.166Z"
   },
   {
    "duration": 171,
    "start_time": "2023-08-12T12:09:44.393Z"
   },
   {
    "duration": 45,
    "start_time": "2023-08-12T12:09:44.566Z"
   },
   {
    "duration": 5,
    "start_time": "2023-08-12T12:09:44.612Z"
   },
   {
    "duration": 43,
    "start_time": "2023-08-12T12:09:44.619Z"
   },
   {
    "duration": 50,
    "start_time": "2023-08-12T12:09:44.663Z"
   },
   {
    "duration": 25,
    "start_time": "2023-08-12T12:09:44.714Z"
   },
   {
    "duration": 25,
    "start_time": "2023-08-12T12:09:44.740Z"
   },
   {
    "duration": 12,
    "start_time": "2023-08-12T12:09:44.766Z"
   },
   {
    "duration": 1748,
    "start_time": "2023-08-12T12:09:44.780Z"
   },
   {
    "duration": 19688,
    "start_time": "2023-08-12T12:09:46.529Z"
   },
   {
    "duration": 1405,
    "start_time": "2023-08-12T12:11:23.599Z"
   },
   {
    "duration": 203,
    "start_time": "2023-08-12T12:11:25.005Z"
   },
   {
    "duration": 12,
    "start_time": "2023-08-12T12:11:25.209Z"
   },
   {
    "duration": 9,
    "start_time": "2023-08-12T12:11:25.222Z"
   },
   {
    "duration": 23,
    "start_time": "2023-08-12T12:11:25.233Z"
   },
   {
    "duration": 13,
    "start_time": "2023-08-12T12:11:25.257Z"
   },
   {
    "duration": 29,
    "start_time": "2023-08-12T12:11:25.271Z"
   },
   {
    "duration": 79,
    "start_time": "2023-08-12T12:11:25.302Z"
   },
   {
    "duration": 10,
    "start_time": "2023-08-12T12:11:25.383Z"
   },
   {
    "duration": 10,
    "start_time": "2023-08-12T12:11:25.395Z"
   },
   {
    "duration": 38,
    "start_time": "2023-08-12T12:11:25.406Z"
   },
   {
    "duration": 6,
    "start_time": "2023-08-12T12:11:25.445Z"
   },
   {
    "duration": 9,
    "start_time": "2023-08-12T12:11:25.453Z"
   },
   {
    "duration": 34,
    "start_time": "2023-08-12T12:11:25.464Z"
   },
   {
    "duration": 68,
    "start_time": "2023-08-12T12:11:25.500Z"
   },
   {
    "duration": 13,
    "start_time": "2023-08-12T12:11:25.569Z"
   },
   {
    "duration": 7,
    "start_time": "2023-08-12T12:11:25.584Z"
   },
   {
    "duration": 30,
    "start_time": "2023-08-12T12:11:25.593Z"
   },
   {
    "duration": 5,
    "start_time": "2023-08-12T12:11:25.625Z"
   },
   {
    "duration": 26,
    "start_time": "2023-08-12T12:11:25.631Z"
   },
   {
    "duration": 14,
    "start_time": "2023-08-12T12:11:25.659Z"
   },
   {
    "duration": 775,
    "start_time": "2023-08-12T12:11:25.674Z"
   },
   {
    "duration": 10,
    "start_time": "2023-08-12T12:11:26.451Z"
   },
   {
    "duration": 49,
    "start_time": "2023-08-12T12:11:26.463Z"
   },
   {
    "duration": 6,
    "start_time": "2023-08-12T12:11:26.514Z"
   },
   {
    "duration": 36,
    "start_time": "2023-08-12T12:11:26.521Z"
   },
   {
    "duration": 25,
    "start_time": "2023-08-12T12:11:26.559Z"
   },
   {
    "duration": 25,
    "start_time": "2023-08-12T12:11:26.586Z"
   },
   {
    "duration": 50,
    "start_time": "2023-08-12T12:11:26.612Z"
   },
   {
    "duration": 31,
    "start_time": "2023-08-12T12:11:26.664Z"
   },
   {
    "duration": 44,
    "start_time": "2023-08-12T12:11:26.697Z"
   },
   {
    "duration": 58,
    "start_time": "2023-08-12T12:11:26.743Z"
   },
   {
    "duration": 381,
    "start_time": "2023-08-12T12:11:26.803Z"
   },
   {
    "duration": 22,
    "start_time": "2023-08-12T12:11:27.185Z"
   },
   {
    "duration": 8,
    "start_time": "2023-08-12T12:11:27.209Z"
   },
   {
    "duration": 37,
    "start_time": "2023-08-12T12:11:27.218Z"
   },
   {
    "duration": 3,
    "start_time": "2023-08-12T12:11:27.257Z"
   },
   {
    "duration": 23,
    "start_time": "2023-08-12T12:11:27.261Z"
   },
   {
    "duration": 14,
    "start_time": "2023-08-12T12:11:27.285Z"
   },
   {
    "duration": 8,
    "start_time": "2023-08-12T12:11:27.301Z"
   },
   {
    "duration": 11,
    "start_time": "2023-08-12T12:11:27.314Z"
   },
   {
    "duration": 272,
    "start_time": "2023-08-12T12:11:27.327Z"
   },
   {
    "duration": 168,
    "start_time": "2023-08-12T12:11:27.601Z"
   },
   {
    "duration": 41,
    "start_time": "2023-08-12T12:11:27.770Z"
   },
   {
    "duration": 5,
    "start_time": "2023-08-12T12:11:27.812Z"
   },
   {
    "duration": 14,
    "start_time": "2023-08-12T12:11:27.818Z"
   },
   {
    "duration": 36,
    "start_time": "2023-08-12T12:11:27.834Z"
   },
   {
    "duration": 37,
    "start_time": "2023-08-12T12:11:27.871Z"
   },
   {
    "duration": 26,
    "start_time": "2023-08-12T12:11:27.909Z"
   },
   {
    "duration": 14,
    "start_time": "2023-08-12T12:11:27.937Z"
   },
   {
    "duration": 1753,
    "start_time": "2023-08-12T12:11:27.953Z"
   },
   {
    "duration": 19261,
    "start_time": "2023-08-12T12:11:29.707Z"
   },
   {
    "duration": 119,
    "start_time": "2023-08-12T12:11:48.969Z"
   },
   {
    "duration": 4937,
    "start_time": "2023-08-12T12:12:26.079Z"
   },
   {
    "duration": 84,
    "start_time": "2023-08-12T12:13:39.545Z"
   },
   {
    "duration": 152,
    "start_time": "2023-08-12T12:13:49.312Z"
   },
   {
    "duration": 6578,
    "start_time": "2023-08-12T12:14:01.168Z"
   },
   {
    "duration": 200,
    "start_time": "2023-08-12T12:14:27.432Z"
   },
   {
    "duration": 1423,
    "start_time": "2023-08-12T12:15:26.893Z"
   },
   {
    "duration": 285,
    "start_time": "2023-08-12T12:15:28.318Z"
   },
   {
    "duration": 17,
    "start_time": "2023-08-12T12:15:28.604Z"
   },
   {
    "duration": 67,
    "start_time": "2023-08-12T12:15:28.622Z"
   },
   {
    "duration": 44,
    "start_time": "2023-08-12T12:15:28.692Z"
   },
   {
    "duration": 3,
    "start_time": "2023-08-12T12:15:28.738Z"
   },
   {
    "duration": 6,
    "start_time": "2023-08-12T12:15:28.742Z"
   },
   {
    "duration": 31,
    "start_time": "2023-08-12T12:15:28.749Z"
   },
   {
    "duration": 12,
    "start_time": "2023-08-12T12:15:28.782Z"
   },
   {
    "duration": 6,
    "start_time": "2023-08-12T12:15:28.795Z"
   },
   {
    "duration": 31,
    "start_time": "2023-08-12T12:15:28.802Z"
   },
   {
    "duration": 5,
    "start_time": "2023-08-12T12:15:28.834Z"
   },
   {
    "duration": 12,
    "start_time": "2023-08-12T12:15:28.840Z"
   },
   {
    "duration": 5,
    "start_time": "2023-08-12T12:15:28.855Z"
   },
   {
    "duration": 20,
    "start_time": "2023-08-12T12:15:28.861Z"
   },
   {
    "duration": 23,
    "start_time": "2023-08-12T12:15:28.882Z"
   },
   {
    "duration": 6,
    "start_time": "2023-08-12T12:15:28.907Z"
   },
   {
    "duration": 15,
    "start_time": "2023-08-12T12:15:28.915Z"
   },
   {
    "duration": 7,
    "start_time": "2023-08-12T12:15:28.932Z"
   },
   {
    "duration": 23,
    "start_time": "2023-08-12T12:15:28.940Z"
   },
   {
    "duration": 11,
    "start_time": "2023-08-12T12:15:28.964Z"
   },
   {
    "duration": 791,
    "start_time": "2023-08-12T12:15:28.976Z"
   },
   {
    "duration": 12,
    "start_time": "2023-08-12T12:15:29.768Z"
   },
   {
    "duration": 54,
    "start_time": "2023-08-12T12:15:29.781Z"
   },
   {
    "duration": 7,
    "start_time": "2023-08-12T12:15:29.836Z"
   },
   {
    "duration": 23,
    "start_time": "2023-08-12T12:15:29.844Z"
   },
   {
    "duration": 40,
    "start_time": "2023-08-12T12:15:29.869Z"
   },
   {
    "duration": 7,
    "start_time": "2023-08-12T12:15:29.911Z"
   },
   {
    "duration": 36,
    "start_time": "2023-08-12T12:15:29.920Z"
   },
   {
    "duration": 7,
    "start_time": "2023-08-12T12:15:29.958Z"
   },
   {
    "duration": 9,
    "start_time": "2023-08-12T12:15:29.966Z"
   },
   {
    "duration": 50,
    "start_time": "2023-08-12T12:15:29.976Z"
   },
   {
    "duration": 450,
    "start_time": "2023-08-12T12:15:30.027Z"
   },
   {
    "duration": 21,
    "start_time": "2023-08-12T12:15:30.478Z"
   },
   {
    "duration": 24,
    "start_time": "2023-08-12T12:15:30.501Z"
   },
   {
    "duration": 56,
    "start_time": "2023-08-12T12:15:30.526Z"
   },
   {
    "duration": 3,
    "start_time": "2023-08-12T12:15:30.584Z"
   },
   {
    "duration": 72,
    "start_time": "2023-08-12T12:15:30.588Z"
   },
   {
    "duration": 40,
    "start_time": "2023-08-12T12:15:30.662Z"
   },
   {
    "duration": 53,
    "start_time": "2023-08-12T12:15:30.704Z"
   },
   {
    "duration": 35,
    "start_time": "2023-08-12T12:15:30.760Z"
   },
   {
    "duration": 258,
    "start_time": "2023-08-12T12:15:30.796Z"
   },
   {
    "duration": 182,
    "start_time": "2023-08-12T12:15:31.055Z"
   },
   {
    "duration": 32,
    "start_time": "2023-08-12T12:15:31.238Z"
   },
   {
    "duration": 14,
    "start_time": "2023-08-12T12:15:31.271Z"
   },
   {
    "duration": 77,
    "start_time": "2023-08-12T12:15:31.286Z"
   },
   {
    "duration": 95,
    "start_time": "2023-08-12T12:15:31.365Z"
   },
   {
    "duration": 73,
    "start_time": "2023-08-12T12:15:31.462Z"
   },
   {
    "duration": 42,
    "start_time": "2023-08-12T12:15:31.537Z"
   },
   {
    "duration": 134,
    "start_time": "2023-08-12T12:15:31.581Z"
   },
   {
    "duration": 1957,
    "start_time": "2023-08-12T12:15:31.716Z"
   },
   {
    "duration": 17585,
    "start_time": "2023-08-12T12:15:33.675Z"
   },
   {
    "duration": 4762,
    "start_time": "2023-08-12T12:15:51.261Z"
   },
   {
    "duration": 6061,
    "start_time": "2023-08-12T12:15:56.024Z"
   },
   {
    "duration": 173,
    "start_time": "2023-08-12T12:16:02.087Z"
   },
   {
    "duration": 1404,
    "start_time": "2023-08-12T12:16:19.097Z"
   },
   {
    "duration": 259,
    "start_time": "2023-08-12T12:16:20.503Z"
   },
   {
    "duration": 13,
    "start_time": "2023-08-12T12:16:20.764Z"
   },
   {
    "duration": 25,
    "start_time": "2023-08-12T12:16:20.778Z"
   },
   {
    "duration": 19,
    "start_time": "2023-08-12T12:16:20.805Z"
   },
   {
    "duration": 12,
    "start_time": "2023-08-12T12:16:20.825Z"
   },
   {
    "duration": 27,
    "start_time": "2023-08-12T12:16:20.838Z"
   },
   {
    "duration": 37,
    "start_time": "2023-08-12T12:16:20.866Z"
   },
   {
    "duration": 17,
    "start_time": "2023-08-12T12:16:20.904Z"
   },
   {
    "duration": 24,
    "start_time": "2023-08-12T12:16:20.922Z"
   },
   {
    "duration": 50,
    "start_time": "2023-08-12T12:16:20.947Z"
   },
   {
    "duration": 6,
    "start_time": "2023-08-12T12:16:20.998Z"
   },
   {
    "duration": 8,
    "start_time": "2023-08-12T12:16:21.005Z"
   },
   {
    "duration": 8,
    "start_time": "2023-08-12T12:16:21.016Z"
   },
   {
    "duration": 31,
    "start_time": "2023-08-12T12:16:21.025Z"
   },
   {
    "duration": 14,
    "start_time": "2023-08-12T12:16:21.057Z"
   },
   {
    "duration": 46,
    "start_time": "2023-08-12T12:16:21.072Z"
   },
   {
    "duration": 26,
    "start_time": "2023-08-12T12:16:21.119Z"
   },
   {
    "duration": 4,
    "start_time": "2023-08-12T12:16:21.147Z"
   },
   {
    "duration": 23,
    "start_time": "2023-08-12T12:16:21.152Z"
   },
   {
    "duration": 18,
    "start_time": "2023-08-12T12:16:21.177Z"
   },
   {
    "duration": 710,
    "start_time": "2023-08-12T12:16:21.197Z"
   },
   {
    "duration": 9,
    "start_time": "2023-08-12T12:16:21.909Z"
   },
   {
    "duration": 39,
    "start_time": "2023-08-12T12:16:21.919Z"
   },
   {
    "duration": 6,
    "start_time": "2023-08-12T12:16:21.959Z"
   },
   {
    "duration": 33,
    "start_time": "2023-08-12T12:16:21.966Z"
   },
   {
    "duration": 26,
    "start_time": "2023-08-12T12:16:22.001Z"
   },
   {
    "duration": 6,
    "start_time": "2023-08-12T12:16:22.028Z"
   },
   {
    "duration": 16,
    "start_time": "2023-08-12T12:16:22.035Z"
   },
   {
    "duration": 7,
    "start_time": "2023-08-12T12:16:22.053Z"
   },
   {
    "duration": 7,
    "start_time": "2023-08-12T12:16:22.061Z"
   },
   {
    "duration": 32,
    "start_time": "2023-08-12T12:16:22.070Z"
   },
   {
    "duration": 358,
    "start_time": "2023-08-12T12:16:22.104Z"
   },
   {
    "duration": 13,
    "start_time": "2023-08-12T12:16:22.463Z"
   },
   {
    "duration": 8,
    "start_time": "2023-08-12T12:16:22.477Z"
   },
   {
    "duration": 48,
    "start_time": "2023-08-12T12:16:22.486Z"
   },
   {
    "duration": 3,
    "start_time": "2023-08-12T12:16:22.535Z"
   },
   {
    "duration": 36,
    "start_time": "2023-08-12T12:16:22.539Z"
   },
   {
    "duration": 21,
    "start_time": "2023-08-12T12:16:22.576Z"
   },
   {
    "duration": 12,
    "start_time": "2023-08-12T12:16:22.598Z"
   },
   {
    "duration": 7,
    "start_time": "2023-08-12T12:16:22.614Z"
   },
   {
    "duration": 232,
    "start_time": "2023-08-12T12:16:22.622Z"
   },
   {
    "duration": 169,
    "start_time": "2023-08-12T12:16:22.856Z"
   },
   {
    "duration": 30,
    "start_time": "2023-08-12T12:16:23.027Z"
   },
   {
    "duration": 4,
    "start_time": "2023-08-12T12:16:23.059Z"
   },
   {
    "duration": 26,
    "start_time": "2023-08-12T12:16:23.064Z"
   },
   {
    "duration": 45,
    "start_time": "2023-08-12T12:16:23.091Z"
   },
   {
    "duration": 27,
    "start_time": "2023-08-12T12:16:23.137Z"
   },
   {
    "duration": 25,
    "start_time": "2023-08-12T12:16:23.165Z"
   },
   {
    "duration": 13,
    "start_time": "2023-08-12T12:16:23.200Z"
   },
   {
    "duration": 4,
    "start_time": "2023-08-12T12:17:47.826Z"
   },
   {
    "duration": 108,
    "start_time": "2023-08-12T12:21:55.195Z"
   },
   {
    "duration": 8,
    "start_time": "2023-08-12T12:22:22.050Z"
   },
   {
    "duration": 4,
    "start_time": "2023-08-12T12:23:05.451Z"
   },
   {
    "duration": 9,
    "start_time": "2023-08-12T12:23:20.707Z"
   },
   {
    "duration": 47,
    "start_time": "2023-08-12T12:23:50.091Z"
   },
   {
    "duration": 5,
    "start_time": "2023-08-12T12:23:55.915Z"
   },
   {
    "duration": 1503,
    "start_time": "2023-08-12T12:24:15.204Z"
   },
   {
    "duration": 281,
    "start_time": "2023-08-12T12:24:16.708Z"
   },
   {
    "duration": 14,
    "start_time": "2023-08-12T12:24:16.991Z"
   },
   {
    "duration": 21,
    "start_time": "2023-08-12T12:24:17.006Z"
   },
   {
    "duration": 47,
    "start_time": "2023-08-12T12:24:17.029Z"
   },
   {
    "duration": 14,
    "start_time": "2023-08-12T12:24:17.078Z"
   },
   {
    "duration": 10,
    "start_time": "2023-08-12T12:24:17.093Z"
   },
   {
    "duration": 32,
    "start_time": "2023-08-12T12:24:17.105Z"
   },
   {
    "duration": 18,
    "start_time": "2023-08-12T12:24:17.139Z"
   },
   {
    "duration": 7,
    "start_time": "2023-08-12T12:24:17.159Z"
   },
   {
    "duration": 34,
    "start_time": "2023-08-12T12:24:17.168Z"
   },
   {
    "duration": 5,
    "start_time": "2023-08-12T12:24:17.204Z"
   },
   {
    "duration": 19,
    "start_time": "2023-08-12T12:24:17.211Z"
   },
   {
    "duration": 15,
    "start_time": "2023-08-12T12:24:17.232Z"
   },
   {
    "duration": 30,
    "start_time": "2023-08-12T12:24:17.248Z"
   },
   {
    "duration": 43,
    "start_time": "2023-08-12T12:24:17.279Z"
   },
   {
    "duration": 20,
    "start_time": "2023-08-12T12:24:17.324Z"
   },
   {
    "duration": 22,
    "start_time": "2023-08-12T12:24:17.346Z"
   },
   {
    "duration": 32,
    "start_time": "2023-08-12T12:24:17.369Z"
   },
   {
    "duration": 38,
    "start_time": "2023-08-12T12:24:17.403Z"
   },
   {
    "duration": 17,
    "start_time": "2023-08-12T12:24:17.443Z"
   },
   {
    "duration": 736,
    "start_time": "2023-08-12T12:24:17.461Z"
   },
   {
    "duration": 6,
    "start_time": "2023-08-12T12:24:18.205Z"
   },
   {
    "duration": 59,
    "start_time": "2023-08-12T12:24:18.212Z"
   },
   {
    "duration": 5,
    "start_time": "2023-08-12T12:24:18.273Z"
   },
   {
    "duration": 32,
    "start_time": "2023-08-12T12:24:18.279Z"
   },
   {
    "duration": 36,
    "start_time": "2023-08-12T12:24:18.312Z"
   },
   {
    "duration": 5,
    "start_time": "2023-08-12T12:24:18.350Z"
   },
   {
    "duration": 39,
    "start_time": "2023-08-12T12:24:18.357Z"
   },
   {
    "duration": 7,
    "start_time": "2023-08-12T12:24:18.398Z"
   },
   {
    "duration": 13,
    "start_time": "2023-08-12T12:24:18.407Z"
   },
   {
    "duration": 25,
    "start_time": "2023-08-12T12:24:18.421Z"
   },
   {
    "duration": 392,
    "start_time": "2023-08-12T12:24:18.447Z"
   },
   {
    "duration": 15,
    "start_time": "2023-08-12T12:24:18.840Z"
   },
   {
    "duration": 8,
    "start_time": "2023-08-12T12:24:18.857Z"
   },
   {
    "duration": 46,
    "start_time": "2023-08-12T12:24:18.866Z"
   },
   {
    "duration": 3,
    "start_time": "2023-08-12T12:24:18.914Z"
   },
   {
    "duration": 12,
    "start_time": "2023-08-12T12:24:18.919Z"
   },
   {
    "duration": 15,
    "start_time": "2023-08-12T12:24:18.933Z"
   },
   {
    "duration": 13,
    "start_time": "2023-08-12T12:24:18.949Z"
   },
   {
    "duration": 8,
    "start_time": "2023-08-12T12:24:18.967Z"
   },
   {
    "duration": 239,
    "start_time": "2023-08-12T12:24:18.999Z"
   },
   {
    "duration": 180,
    "start_time": "2023-08-12T12:24:19.240Z"
   },
   {
    "duration": 34,
    "start_time": "2023-08-12T12:24:19.421Z"
   },
   {
    "duration": 6,
    "start_time": "2023-08-12T12:24:19.456Z"
   },
   {
    "duration": 20,
    "start_time": "2023-08-12T12:24:19.463Z"
   },
   {
    "duration": 60,
    "start_time": "2023-08-12T12:24:19.485Z"
   },
   {
    "duration": 30,
    "start_time": "2023-08-12T12:24:19.546Z"
   },
   {
    "duration": 40,
    "start_time": "2023-08-12T12:24:19.577Z"
   },
   {
    "duration": 14,
    "start_time": "2023-08-12T12:24:19.619Z"
   },
   {
    "duration": 5,
    "start_time": "2023-08-12T12:24:19.634Z"
   },
   {
    "duration": 30,
    "start_time": "2023-08-12T12:24:19.640Z"
   },
   {
    "duration": 52,
    "start_time": "2023-08-12T12:24:19.671Z"
   },
   {
    "duration": 7,
    "start_time": "2023-08-12T12:24:19.725Z"
   },
   {
    "duration": 10,
    "start_time": "2023-08-12T12:24:50.797Z"
   },
   {
    "duration": 4,
    "start_time": "2023-08-12T12:24:52.565Z"
   },
   {
    "duration": 3,
    "start_time": "2023-08-12T12:25:08.710Z"
   },
   {
    "duration": 10,
    "start_time": "2023-08-12T12:25:10.654Z"
   },
   {
    "duration": 7,
    "start_time": "2023-08-12T12:25:23.413Z"
   },
   {
    "duration": 38,
    "start_time": "2023-08-12T12:34:04.945Z"
   },
   {
    "duration": 3,
    "start_time": "2023-08-12T12:34:59.434Z"
   },
   {
    "duration": 8,
    "start_time": "2023-08-12T12:35:02.890Z"
   },
   {
    "duration": 22,
    "start_time": "2023-08-12T12:35:57.490Z"
   },
   {
    "duration": 1736,
    "start_time": "2023-08-12T12:36:21.154Z"
   },
   {
    "duration": 1417,
    "start_time": "2023-08-12T13:02:37.986Z"
   },
   {
    "duration": 231,
    "start_time": "2023-08-12T13:02:39.405Z"
   },
   {
    "duration": 13,
    "start_time": "2023-08-12T13:02:39.638Z"
   },
   {
    "duration": 10,
    "start_time": "2023-08-12T13:02:39.652Z"
   },
   {
    "duration": 21,
    "start_time": "2023-08-12T13:02:39.664Z"
   },
   {
    "duration": 3,
    "start_time": "2023-08-12T13:02:39.686Z"
   },
   {
    "duration": 11,
    "start_time": "2023-08-12T13:02:39.690Z"
   },
   {
    "duration": 20,
    "start_time": "2023-08-12T13:02:39.702Z"
   },
   {
    "duration": 12,
    "start_time": "2023-08-12T13:02:39.724Z"
   },
   {
    "duration": 7,
    "start_time": "2023-08-12T13:02:39.738Z"
   },
   {
    "duration": 31,
    "start_time": "2023-08-12T13:02:39.746Z"
   },
   {
    "duration": 9,
    "start_time": "2023-08-12T13:02:39.778Z"
   },
   {
    "duration": 17,
    "start_time": "2023-08-12T13:02:39.788Z"
   },
   {
    "duration": 15,
    "start_time": "2023-08-12T13:02:39.808Z"
   },
   {
    "duration": 29,
    "start_time": "2023-08-12T13:02:39.825Z"
   },
   {
    "duration": 8,
    "start_time": "2023-08-12T13:02:39.855Z"
   },
   {
    "duration": 14,
    "start_time": "2023-08-12T13:02:39.864Z"
   },
   {
    "duration": 16,
    "start_time": "2023-08-12T13:02:39.880Z"
   },
   {
    "duration": 4,
    "start_time": "2023-08-12T13:02:39.898Z"
   },
   {
    "duration": 18,
    "start_time": "2023-08-12T13:02:39.903Z"
   },
   {
    "duration": 14,
    "start_time": "2023-08-12T13:02:39.923Z"
   },
   {
    "duration": 691,
    "start_time": "2023-08-12T13:02:39.938Z"
   },
   {
    "duration": 3,
    "start_time": "2023-08-12T13:02:40.631Z"
   },
   {
    "duration": 42,
    "start_time": "2023-08-12T13:02:40.636Z"
   },
   {
    "duration": 6,
    "start_time": "2023-08-12T13:02:40.679Z"
   },
   {
    "duration": 21,
    "start_time": "2023-08-12T13:02:40.700Z"
   },
   {
    "duration": 27,
    "start_time": "2023-08-12T13:02:40.723Z"
   },
   {
    "duration": 6,
    "start_time": "2023-08-12T13:02:40.751Z"
   },
   {
    "duration": 22,
    "start_time": "2023-08-12T13:02:40.758Z"
   },
   {
    "duration": 24,
    "start_time": "2023-08-12T13:02:40.781Z"
   },
   {
    "duration": 12,
    "start_time": "2023-08-12T13:02:40.806Z"
   },
   {
    "duration": 18,
    "start_time": "2023-08-12T13:02:40.819Z"
   },
   {
    "duration": 364,
    "start_time": "2023-08-12T13:02:40.839Z"
   },
   {
    "duration": 6,
    "start_time": "2023-08-12T13:02:41.204Z"
   },
   {
    "duration": 33,
    "start_time": "2023-08-12T13:02:41.211Z"
   },
   {
    "duration": 3,
    "start_time": "2023-08-12T13:02:41.246Z"
   },
   {
    "duration": 16,
    "start_time": "2023-08-12T13:02:41.250Z"
   },
   {
    "duration": 13,
    "start_time": "2023-08-12T13:02:41.267Z"
   },
   {
    "duration": 25,
    "start_time": "2023-08-12T13:02:41.281Z"
   },
   {
    "duration": 6,
    "start_time": "2023-08-12T13:02:41.307Z"
   },
   {
    "duration": 243,
    "start_time": "2023-08-12T13:02:41.318Z"
   },
   {
    "duration": 173,
    "start_time": "2023-08-12T13:02:41.562Z"
   },
   {
    "duration": 33,
    "start_time": "2023-08-12T13:02:41.736Z"
   },
   {
    "duration": 5,
    "start_time": "2023-08-12T13:02:41.771Z"
   },
   {
    "duration": 26,
    "start_time": "2023-08-12T13:02:41.777Z"
   },
   {
    "duration": 13,
    "start_time": "2023-08-12T13:02:41.805Z"
   },
   {
    "duration": 13,
    "start_time": "2023-08-12T13:02:41.820Z"
   },
   {
    "duration": 35,
    "start_time": "2023-08-12T13:02:41.835Z"
   },
   {
    "duration": 50,
    "start_time": "2023-08-12T13:02:41.872Z"
   },
   {
    "duration": 4,
    "start_time": "2023-08-12T13:02:41.923Z"
   },
   {
    "duration": 13,
    "start_time": "2023-08-12T13:02:41.928Z"
   },
   {
    "duration": 64,
    "start_time": "2023-08-12T13:02:41.942Z"
   },
   {
    "duration": 5,
    "start_time": "2023-08-12T13:02:42.008Z"
   },
   {
    "duration": 13,
    "start_time": "2023-08-12T13:02:42.014Z"
   },
   {
    "duration": 10,
    "start_time": "2023-08-12T13:02:42.028Z"
   },
   {
    "duration": 6,
    "start_time": "2023-08-12T13:02:42.039Z"
   },
   {
    "duration": 11,
    "start_time": "2023-08-12T13:02:42.047Z"
   },
   {
    "duration": 5,
    "start_time": "2023-08-12T13:02:42.060Z"
   },
   {
    "duration": 54,
    "start_time": "2023-08-12T13:02:42.067Z"
   },
   {
    "duration": 18,
    "start_time": "2023-08-12T13:02:42.122Z"
   },
   {
    "duration": 3,
    "start_time": "2023-08-12T13:02:42.141Z"
   },
   {
    "duration": 18,
    "start_time": "2023-08-12T13:04:17.179Z"
   },
   {
    "duration": 17,
    "start_time": "2023-08-12T13:04:20.172Z"
   },
   {
    "duration": 5,
    "start_time": "2023-08-12T13:04:46.051Z"
   },
   {
    "duration": 2236,
    "start_time": "2023-08-12T13:05:01.596Z"
   },
   {
    "duration": 17,
    "start_time": "2023-08-12T13:05:28.086Z"
   },
   {
    "duration": 6,
    "start_time": "2023-08-12T13:06:02.876Z"
   },
   {
    "duration": 25,
    "start_time": "2023-08-12T13:06:05.228Z"
   },
   {
    "duration": 4,
    "start_time": "2023-08-12T13:07:26.861Z"
   },
   {
    "duration": 24,
    "start_time": "2023-08-12T13:07:28.940Z"
   },
   {
    "duration": 5,
    "start_time": "2023-08-12T13:08:06.485Z"
   },
   {
    "duration": 22,
    "start_time": "2023-08-12T13:08:08.301Z"
   },
   {
    "duration": 36,
    "start_time": "2023-08-12T13:09:50.205Z"
   },
   {
    "duration": 10,
    "start_time": "2023-08-12T13:20:08.905Z"
   },
   {
    "duration": 43,
    "start_time": "2023-08-12T13:20:17.593Z"
   },
   {
    "duration": 353,
    "start_time": "2023-08-12T13:20:38.097Z"
   },
   {
    "duration": 939,
    "start_time": "2023-08-12T13:21:05.393Z"
   },
   {
    "duration": 29,
    "start_time": "2023-08-12T13:21:49.818Z"
   },
   {
    "duration": 52,
    "start_time": "2023-08-12T13:21:58.418Z"
   },
   {
    "duration": 108,
    "start_time": "2023-08-12T13:22:04.017Z"
   },
   {
    "duration": 80,
    "start_time": "2023-08-12T13:22:10.456Z"
   },
   {
    "duration": 8,
    "start_time": "2023-08-12T13:22:23.169Z"
   },
   {
    "duration": 9,
    "start_time": "2023-08-12T13:22:30.825Z"
   },
   {
    "duration": 2833,
    "start_time": "2023-08-12T13:23:01.338Z"
   },
   {
    "duration": 6,
    "start_time": "2023-08-12T13:23:15.497Z"
   },
   {
    "duration": 2598,
    "start_time": "2023-08-12T13:23:35.298Z"
   },
   {
    "duration": 15,
    "start_time": "2023-08-12T13:23:53.233Z"
   },
   {
    "duration": 5,
    "start_time": "2023-08-12T13:24:22.714Z"
   },
   {
    "duration": 9,
    "start_time": "2023-08-12T13:24:44.001Z"
   },
   {
    "duration": 3,
    "start_time": "2023-08-12T13:25:14.386Z"
   },
   {
    "duration": 11,
    "start_time": "2023-08-12T13:25:18.730Z"
   },
   {
    "duration": 1483,
    "start_time": "2023-08-12T13:25:42.802Z"
   },
   {
    "duration": 342,
    "start_time": "2023-08-12T13:25:44.287Z"
   },
   {
    "duration": 14,
    "start_time": "2023-08-12T13:25:44.631Z"
   },
   {
    "duration": 18,
    "start_time": "2023-08-12T13:25:44.646Z"
   },
   {
    "duration": 14,
    "start_time": "2023-08-12T13:25:44.667Z"
   },
   {
    "duration": 3,
    "start_time": "2023-08-12T13:25:44.682Z"
   },
   {
    "duration": 3,
    "start_time": "2023-08-12T13:25:44.705Z"
   },
   {
    "duration": 30,
    "start_time": "2023-08-12T13:25:44.710Z"
   },
   {
    "duration": 25,
    "start_time": "2023-08-12T13:25:44.742Z"
   },
   {
    "duration": 6,
    "start_time": "2023-08-12T13:25:44.768Z"
   },
   {
    "duration": 27,
    "start_time": "2023-08-12T13:25:44.775Z"
   },
   {
    "duration": 6,
    "start_time": "2023-08-12T13:25:44.803Z"
   },
   {
    "duration": 10,
    "start_time": "2023-08-12T13:25:44.811Z"
   },
   {
    "duration": 6,
    "start_time": "2023-08-12T13:25:44.824Z"
   },
   {
    "duration": 18,
    "start_time": "2023-08-12T13:25:44.831Z"
   },
   {
    "duration": 11,
    "start_time": "2023-08-12T13:25:44.850Z"
   },
   {
    "duration": 10,
    "start_time": "2023-08-12T13:25:44.862Z"
   },
   {
    "duration": 30,
    "start_time": "2023-08-12T13:25:44.873Z"
   },
   {
    "duration": 5,
    "start_time": "2023-08-12T13:25:44.904Z"
   },
   {
    "duration": 13,
    "start_time": "2023-08-12T13:25:44.911Z"
   },
   {
    "duration": 10,
    "start_time": "2023-08-12T13:25:44.925Z"
   },
   {
    "duration": 698,
    "start_time": "2023-08-12T13:25:44.937Z"
   },
   {
    "duration": 5,
    "start_time": "2023-08-12T13:25:45.637Z"
   },
   {
    "duration": 37,
    "start_time": "2023-08-12T13:25:45.643Z"
   },
   {
    "duration": 19,
    "start_time": "2023-08-12T13:25:45.681Z"
   },
   {
    "duration": 19,
    "start_time": "2023-08-12T13:25:45.701Z"
   },
   {
    "duration": 25,
    "start_time": "2023-08-12T13:25:45.722Z"
   },
   {
    "duration": 6,
    "start_time": "2023-08-12T13:25:45.748Z"
   },
   {
    "duration": 21,
    "start_time": "2023-08-12T13:25:45.756Z"
   },
   {
    "duration": 25,
    "start_time": "2023-08-12T13:25:45.778Z"
   },
   {
    "duration": 9,
    "start_time": "2023-08-12T13:25:45.804Z"
   },
   {
    "duration": 23,
    "start_time": "2023-08-12T13:25:45.814Z"
   },
   {
    "duration": 411,
    "start_time": "2023-08-12T13:25:45.838Z"
   },
   {
    "duration": 6,
    "start_time": "2023-08-12T13:25:46.251Z"
   },
   {
    "duration": 41,
    "start_time": "2023-08-12T13:25:46.259Z"
   },
   {
    "duration": 3,
    "start_time": "2023-08-12T13:25:46.301Z"
   },
   {
    "duration": 24,
    "start_time": "2023-08-12T13:25:46.305Z"
   },
   {
    "duration": 15,
    "start_time": "2023-08-12T13:25:46.331Z"
   },
   {
    "duration": 18,
    "start_time": "2023-08-12T13:25:46.347Z"
   },
   {
    "duration": 7,
    "start_time": "2023-08-12T13:25:46.366Z"
   },
   {
    "duration": 218,
    "start_time": "2023-08-12T13:25:46.376Z"
   },
   {
    "duration": 159,
    "start_time": "2023-08-12T13:25:46.596Z"
   },
   {
    "duration": 32,
    "start_time": "2023-08-12T13:25:46.757Z"
   },
   {
    "duration": 4,
    "start_time": "2023-08-12T13:25:46.799Z"
   },
   {
    "duration": 8,
    "start_time": "2023-08-12T13:25:46.804Z"
   },
   {
    "duration": 12,
    "start_time": "2023-08-12T13:25:46.813Z"
   },
   {
    "duration": 13,
    "start_time": "2023-08-12T13:25:46.827Z"
   },
   {
    "duration": 25,
    "start_time": "2023-08-12T13:25:46.841Z"
   },
   {
    "duration": 300,
    "start_time": "2023-08-12T13:25:46.867Z"
   },
   {
    "duration": 707,
    "start_time": "2023-08-12T13:25:47.169Z"
   },
   {
    "duration": 87,
    "start_time": "2023-08-12T13:25:47.878Z"
   },
   {
    "duration": 9,
    "start_time": "2023-08-12T13:25:47.967Z"
   },
   {
    "duration": 2092,
    "start_time": "2023-08-12T13:25:47.978Z"
   },
   {
    "duration": 6,
    "start_time": "2023-08-12T13:25:50.072Z"
   },
   {
    "duration": 1772,
    "start_time": "2023-08-12T13:25:50.079Z"
   },
   {
    "duration": 14,
    "start_time": "2023-08-12T13:25:51.853Z"
   },
   {
    "duration": 44,
    "start_time": "2023-08-12T13:25:51.869Z"
   },
   {
    "duration": 176,
    "start_time": "2023-08-12T13:25:51.914Z"
   },
   {
    "duration": 0,
    "start_time": "2023-08-12T13:25:52.092Z"
   },
   {
    "duration": 5,
    "start_time": "2023-08-12T13:26:15.408Z"
   },
   {
    "duration": 62,
    "start_time": "2023-08-12T13:26:16.512Z"
   },
   {
    "duration": 769,
    "start_time": "2023-08-12T13:26:51.737Z"
   },
   {
    "duration": 228,
    "start_time": "2023-08-12T13:27:09.218Z"
   },
   {
    "duration": 9,
    "start_time": "2023-08-12T13:29:18.970Z"
   },
   {
    "duration": 1316,
    "start_time": "2023-08-12T13:29:29.866Z"
   },
   {
    "duration": 487,
    "start_time": "2023-08-12T13:30:08.419Z"
   },
   {
    "duration": 13,
    "start_time": "2023-08-12T13:30:43.955Z"
   },
   {
    "duration": 119,
    "start_time": "2023-08-12T13:31:12.138Z"
   },
   {
    "duration": 9,
    "start_time": "2023-08-12T13:32:02.299Z"
   },
   {
    "duration": 9,
    "start_time": "2023-08-12T13:32:58.418Z"
   },
   {
    "duration": 11,
    "start_time": "2023-08-12T13:34:25.165Z"
   },
   {
    "duration": 9,
    "start_time": "2023-08-12T13:38:59.930Z"
   },
   {
    "duration": 374,
    "start_time": "2023-08-12T13:39:46.130Z"
   },
   {
    "duration": 46,
    "start_time": "2023-08-12T13:40:56.825Z"
   },
   {
    "duration": 9,
    "start_time": "2023-08-12T13:42:03.049Z"
   },
   {
    "duration": 9,
    "start_time": "2023-08-12T13:42:10.665Z"
   },
   {
    "duration": 9,
    "start_time": "2023-08-12T13:42:14.401Z"
   },
   {
    "duration": 15,
    "start_time": "2023-08-12T14:14:22.477Z"
   },
   {
    "duration": 14,
    "start_time": "2023-08-12T14:14:29.460Z"
   },
   {
    "duration": 8,
    "start_time": "2023-08-12T14:15:09.293Z"
   },
   {
    "duration": 74,
    "start_time": "2023-08-12T14:15:13.764Z"
   },
   {
    "duration": 40,
    "start_time": "2023-08-12T14:15:15.237Z"
   },
   {
    "duration": 7,
    "start_time": "2023-08-12T14:15:29.530Z"
   },
   {
    "duration": 13,
    "start_time": "2023-08-12T14:15:38.837Z"
   },
   {
    "duration": 10,
    "start_time": "2023-08-12T14:15:49.405Z"
   },
   {
    "duration": 4,
    "start_time": "2023-08-12T14:15:58.781Z"
   },
   {
    "duration": 213,
    "start_time": "2023-08-12T14:16:06.829Z"
   },
   {
    "duration": 8,
    "start_time": "2023-08-12T14:16:18.093Z"
   },
   {
    "duration": 9,
    "start_time": "2023-08-12T14:16:26.220Z"
   },
   {
    "duration": 8,
    "start_time": "2023-08-12T14:16:39.949Z"
   },
   {
    "duration": 8,
    "start_time": "2023-08-12T14:16:45.804Z"
   },
   {
    "duration": 8,
    "start_time": "2023-08-12T14:16:48.221Z"
   },
   {
    "duration": 20,
    "start_time": "2023-08-12T14:16:51.221Z"
   },
   {
    "duration": 8,
    "start_time": "2023-08-12T14:17:00.830Z"
   },
   {
    "duration": 26,
    "start_time": "2023-08-12T14:17:05.517Z"
   },
   {
    "duration": 9,
    "start_time": "2023-08-12T14:17:14.965Z"
   },
   {
    "duration": 16,
    "start_time": "2023-08-12T14:17:20.750Z"
   },
   {
    "duration": 597,
    "start_time": "2023-08-12T14:17:24.277Z"
   },
   {
    "duration": 98,
    "start_time": "2023-08-12T14:23:59.278Z"
   },
   {
    "duration": 65,
    "start_time": "2023-08-12T14:26:02.747Z"
   },
   {
    "duration": 124,
    "start_time": "2023-08-12T14:26:09.887Z"
   },
   {
    "duration": 553,
    "start_time": "2023-08-12T14:26:11.791Z"
   },
   {
    "duration": 9,
    "start_time": "2023-08-12T14:27:13.224Z"
   },
   {
    "duration": 31,
    "start_time": "2023-08-12T14:29:01.719Z"
   },
   {
    "duration": 104,
    "start_time": "2023-08-12T14:29:58.232Z"
   },
   {
    "duration": 1393,
    "start_time": "2023-08-12T14:30:45.985Z"
   },
   {
    "duration": 273,
    "start_time": "2023-08-12T14:30:47.379Z"
   },
   {
    "duration": 14,
    "start_time": "2023-08-12T14:30:47.653Z"
   },
   {
    "duration": 9,
    "start_time": "2023-08-12T14:30:47.668Z"
   },
   {
    "duration": 30,
    "start_time": "2023-08-12T14:30:47.678Z"
   },
   {
    "duration": 7,
    "start_time": "2023-08-12T14:30:47.709Z"
   },
   {
    "duration": 8,
    "start_time": "2023-08-12T14:30:47.717Z"
   },
   {
    "duration": 19,
    "start_time": "2023-08-12T14:30:47.726Z"
   },
   {
    "duration": 9,
    "start_time": "2023-08-12T14:30:47.746Z"
   },
   {
    "duration": 4,
    "start_time": "2023-08-12T14:30:47.756Z"
   },
   {
    "duration": 22,
    "start_time": "2023-08-12T14:30:47.762Z"
   },
   {
    "duration": 16,
    "start_time": "2023-08-12T14:30:47.785Z"
   },
   {
    "duration": 7,
    "start_time": "2023-08-12T14:30:47.802Z"
   },
   {
    "duration": 6,
    "start_time": "2023-08-12T14:30:47.812Z"
   },
   {
    "duration": 19,
    "start_time": "2023-08-12T14:30:47.819Z"
   },
   {
    "duration": 7,
    "start_time": "2023-08-12T14:30:47.839Z"
   },
   {
    "duration": 3,
    "start_time": "2023-08-12T14:30:47.847Z"
   },
   {
    "duration": 12,
    "start_time": "2023-08-12T14:30:47.852Z"
   },
   {
    "duration": 4,
    "start_time": "2023-08-12T14:30:47.865Z"
   },
   {
    "duration": 39,
    "start_time": "2023-08-12T14:30:47.870Z"
   },
   {
    "duration": 12,
    "start_time": "2023-08-12T14:30:47.910Z"
   },
   {
    "duration": 32,
    "start_time": "2023-08-12T14:30:47.923Z"
   },
   {
    "duration": 6,
    "start_time": "2023-08-12T14:30:47.957Z"
   },
   {
    "duration": 49,
    "start_time": "2023-08-12T14:30:47.965Z"
   },
   {
    "duration": 28,
    "start_time": "2023-08-12T14:30:48.016Z"
   },
   {
    "duration": 6,
    "start_time": "2023-08-12T14:30:48.046Z"
   },
   {
    "duration": 18,
    "start_time": "2023-08-12T14:30:48.053Z"
   },
   {
    "duration": 32,
    "start_time": "2023-08-12T14:30:48.072Z"
   },
   {
    "duration": 4,
    "start_time": "2023-08-12T14:30:48.105Z"
   },
   {
    "duration": 21,
    "start_time": "2023-08-12T14:30:48.110Z"
   },
   {
    "duration": 436,
    "start_time": "2023-08-12T14:30:48.133Z"
   },
   {
    "duration": 8,
    "start_time": "2023-08-12T14:30:48.570Z"
   },
   {
    "duration": 41,
    "start_time": "2023-08-12T14:30:48.579Z"
   },
   {
    "duration": 3,
    "start_time": "2023-08-12T14:30:48.622Z"
   },
   {
    "duration": 18,
    "start_time": "2023-08-12T14:30:48.626Z"
   },
   {
    "duration": 5,
    "start_time": "2023-08-12T14:30:48.646Z"
   },
   {
    "duration": 12,
    "start_time": "2023-08-12T14:30:48.653Z"
   },
   {
    "duration": 7,
    "start_time": "2023-08-12T14:30:48.666Z"
   },
   {
    "duration": 187,
    "start_time": "2023-08-12T14:30:48.675Z"
   },
   {
    "duration": 170,
    "start_time": "2023-08-12T14:30:48.864Z"
   },
   {
    "duration": 32,
    "start_time": "2023-08-12T14:30:49.038Z"
   },
   {
    "duration": 4,
    "start_time": "2023-08-12T14:30:49.072Z"
   },
   {
    "duration": 25,
    "start_time": "2023-08-12T14:30:49.078Z"
   },
   {
    "duration": 16,
    "start_time": "2023-08-12T14:30:49.104Z"
   },
   {
    "duration": 13,
    "start_time": "2023-08-12T14:30:49.121Z"
   },
   {
    "duration": 115,
    "start_time": "2023-08-12T14:31:29.522Z"
   },
   {
    "duration": 20,
    "start_time": "2023-08-12T14:31:34.961Z"
   },
   {
    "duration": 13,
    "start_time": "2023-08-12T14:32:03.873Z"
   },
   {
    "duration": 99,
    "start_time": "2023-08-12T14:32:15.265Z"
   },
   {
    "duration": 12,
    "start_time": "2023-08-12T14:32:36.817Z"
   },
   {
    "duration": 3,
    "start_time": "2023-08-12T14:33:43.304Z"
   },
   {
    "duration": 2,
    "start_time": "2023-08-12T14:33:57.009Z"
   },
   {
    "duration": 511,
    "start_time": "2023-08-12T14:34:03.865Z"
   },
   {
    "duration": 14,
    "start_time": "2023-08-12T14:34:38.313Z"
   },
   {
    "duration": 11,
    "start_time": "2023-08-12T14:34:42.809Z"
   },
   {
    "duration": 13,
    "start_time": "2023-08-12T14:35:10.802Z"
   },
   {
    "duration": 12,
    "start_time": "2023-08-12T14:35:17.465Z"
   },
   {
    "duration": 404,
    "start_time": "2023-08-12T14:35:22.137Z"
   },
   {
    "duration": 1230,
    "start_time": "2023-08-12T14:36:50.577Z"
   },
   {
    "duration": 13,
    "start_time": "2023-08-12T14:38:13.058Z"
   },
   {
    "duration": 20,
    "start_time": "2023-08-12T14:38:25.458Z"
   },
   {
    "duration": 21,
    "start_time": "2023-08-12T14:38:34.034Z"
   },
   {
    "duration": 733,
    "start_time": "2023-08-12T14:38:41.876Z"
   },
   {
    "duration": 12,
    "start_time": "2023-08-12T14:46:57.349Z"
   },
   {
    "duration": 13,
    "start_time": "2023-08-12T14:47:02.251Z"
   },
   {
    "duration": 42,
    "start_time": "2023-08-12T14:47:18.564Z"
   },
   {
    "duration": 46,
    "start_time": "2023-08-12T14:48:15.716Z"
   },
   {
    "duration": 29,
    "start_time": "2023-08-12T14:48:28.044Z"
   },
   {
    "duration": 9,
    "start_time": "2023-08-12T14:48:45.348Z"
   },
   {
    "duration": 18,
    "start_time": "2023-08-12T14:49:04.101Z"
   },
   {
    "duration": 12,
    "start_time": "2023-08-12T14:49:28.564Z"
   },
   {
    "duration": 85621,
    "start_time": "2023-08-12T14:49:37.461Z"
   },
   {
    "duration": 12,
    "start_time": "2023-08-12T15:07:46.887Z"
   },
   {
    "duration": 1377,
    "start_time": "2023-08-12T15:07:53.140Z"
   },
   {
    "duration": 317,
    "start_time": "2023-08-12T15:07:54.519Z"
   },
   {
    "duration": 17,
    "start_time": "2023-08-12T15:07:54.838Z"
   },
   {
    "duration": 9,
    "start_time": "2023-08-12T15:07:54.857Z"
   },
   {
    "duration": 37,
    "start_time": "2023-08-12T15:07:54.869Z"
   },
   {
    "duration": 4,
    "start_time": "2023-08-12T15:07:54.908Z"
   },
   {
    "duration": 15,
    "start_time": "2023-08-12T15:07:54.913Z"
   },
   {
    "duration": 27,
    "start_time": "2023-08-12T15:07:54.930Z"
   },
   {
    "duration": 18,
    "start_time": "2023-08-12T15:07:54.958Z"
   },
   {
    "duration": 12,
    "start_time": "2023-08-12T15:07:54.977Z"
   },
   {
    "duration": 36,
    "start_time": "2023-08-12T15:07:54.990Z"
   },
   {
    "duration": 7,
    "start_time": "2023-08-12T15:07:55.028Z"
   },
   {
    "duration": 14,
    "start_time": "2023-08-12T15:07:55.037Z"
   },
   {
    "duration": 5,
    "start_time": "2023-08-12T15:07:55.055Z"
   },
   {
    "duration": 44,
    "start_time": "2023-08-12T15:07:55.063Z"
   },
   {
    "duration": 10,
    "start_time": "2023-08-12T15:07:55.109Z"
   },
   {
    "duration": 6,
    "start_time": "2023-08-12T15:07:55.121Z"
   },
   {
    "duration": 22,
    "start_time": "2023-08-12T15:07:55.128Z"
   },
   {
    "duration": 4,
    "start_time": "2023-08-12T15:07:55.152Z"
   },
   {
    "duration": 20,
    "start_time": "2023-08-12T15:07:55.158Z"
   },
   {
    "duration": 14,
    "start_time": "2023-08-12T15:07:55.199Z"
   },
   {
    "duration": 66,
    "start_time": "2023-08-12T15:07:55.215Z"
   },
   {
    "duration": 7,
    "start_time": "2023-08-12T15:07:55.283Z"
   },
   {
    "duration": 34,
    "start_time": "2023-08-12T15:07:55.292Z"
   },
   {
    "duration": 44,
    "start_time": "2023-08-12T15:07:55.328Z"
   },
   {
    "duration": 20,
    "start_time": "2023-08-12T15:07:55.374Z"
   },
   {
    "duration": 25,
    "start_time": "2023-08-12T15:07:55.399Z"
   },
   {
    "duration": 9,
    "start_time": "2023-08-12T15:07:55.426Z"
   },
   {
    "duration": 4,
    "start_time": "2023-08-12T15:07:55.437Z"
   },
   {
    "duration": 30,
    "start_time": "2023-08-12T15:07:55.443Z"
   },
   {
    "duration": 555,
    "start_time": "2023-08-12T15:07:55.474Z"
   },
   {
    "duration": 8,
    "start_time": "2023-08-12T15:07:56.031Z"
   },
   {
    "duration": 70,
    "start_time": "2023-08-12T15:07:56.041Z"
   },
   {
    "duration": 5,
    "start_time": "2023-08-12T15:07:56.113Z"
   },
   {
    "duration": 38,
    "start_time": "2023-08-12T15:07:56.121Z"
   },
   {
    "duration": 19,
    "start_time": "2023-08-12T15:07:56.161Z"
   },
   {
    "duration": 29,
    "start_time": "2023-08-12T15:07:56.182Z"
   },
   {
    "duration": 35,
    "start_time": "2023-08-12T15:07:56.213Z"
   },
   {
    "duration": 196,
    "start_time": "2023-08-12T15:07:56.250Z"
   },
   {
    "duration": 197,
    "start_time": "2023-08-12T15:07:56.447Z"
   },
   {
    "duration": 38,
    "start_time": "2023-08-12T15:07:56.648Z"
   },
   {
    "duration": 14,
    "start_time": "2023-08-12T15:07:56.688Z"
   },
   {
    "duration": 8,
    "start_time": "2023-08-12T15:07:56.703Z"
   },
   {
    "duration": 16,
    "start_time": "2023-08-12T15:07:56.713Z"
   },
   {
    "duration": 13,
    "start_time": "2023-08-12T15:07:56.731Z"
   },
   {
    "duration": 109,
    "start_time": "2023-08-12T15:08:39.188Z"
   },
   {
    "duration": 701,
    "start_time": "2023-08-12T15:08:49.015Z"
   },
   {
    "duration": 16,
    "start_time": "2023-08-12T17:18:11.156Z"
   },
   {
    "duration": 6,
    "start_time": "2023-08-12T17:19:13.456Z"
   },
   {
    "duration": 13,
    "start_time": "2023-08-12T17:19:14.716Z"
   },
   {
    "duration": 22,
    "start_time": "2023-08-12T17:19:43.395Z"
   },
   {
    "duration": 47,
    "start_time": "2023-08-12T17:19:44.795Z"
   },
   {
    "duration": 14,
    "start_time": "2023-08-12T17:20:01.683Z"
   },
   {
    "duration": 13,
    "start_time": "2023-08-12T17:20:07.363Z"
   },
   {
    "duration": 14,
    "start_time": "2023-08-12T17:20:19.243Z"
   },
   {
    "duration": 13,
    "start_time": "2023-08-12T17:20:26.443Z"
   },
   {
    "duration": 34,
    "start_time": "2023-08-12T17:20:36.291Z"
   },
   {
    "duration": 18,
    "start_time": "2023-08-12T17:21:07.971Z"
   },
   {
    "duration": 17,
    "start_time": "2023-08-12T17:21:15.252Z"
   },
   {
    "duration": 49321,
    "start_time": "2023-08-12T17:21:25.500Z"
   },
   {
    "duration": 55901,
    "start_time": "2023-08-12T17:22:21.124Z"
   },
   {
    "duration": 24,
    "start_time": "2023-08-12T17:23:46.164Z"
   },
   {
    "duration": 115,
    "start_time": "2023-08-12T17:23:55.156Z"
   },
   {
    "duration": 1534,
    "start_time": "2023-08-12T17:25:55.294Z"
   },
   {
    "duration": 285,
    "start_time": "2023-08-12T17:25:56.830Z"
   },
   {
    "duration": 14,
    "start_time": "2023-08-12T17:25:57.116Z"
   },
   {
    "duration": 9,
    "start_time": "2023-08-12T17:25:57.131Z"
   },
   {
    "duration": 17,
    "start_time": "2023-08-12T17:25:57.142Z"
   },
   {
    "duration": 4,
    "start_time": "2023-08-12T17:25:57.160Z"
   },
   {
    "duration": 7,
    "start_time": "2023-08-12T17:25:57.165Z"
   },
   {
    "duration": 49,
    "start_time": "2023-08-12T17:25:57.174Z"
   },
   {
    "duration": 10,
    "start_time": "2023-08-12T17:25:57.224Z"
   },
   {
    "duration": 8,
    "start_time": "2023-08-12T17:25:57.235Z"
   },
   {
    "duration": 22,
    "start_time": "2023-08-12T17:25:57.244Z"
   },
   {
    "duration": 5,
    "start_time": "2023-08-12T17:25:57.267Z"
   },
   {
    "duration": 38,
    "start_time": "2023-08-12T17:25:57.273Z"
   },
   {
    "duration": 7,
    "start_time": "2023-08-12T17:25:57.313Z"
   },
   {
    "duration": 16,
    "start_time": "2023-08-12T17:25:57.322Z"
   },
   {
    "duration": 6,
    "start_time": "2023-08-12T17:25:57.339Z"
   },
   {
    "duration": 5,
    "start_time": "2023-08-12T17:25:57.346Z"
   },
   {
    "duration": 16,
    "start_time": "2023-08-12T17:25:57.353Z"
   },
   {
    "duration": 8,
    "start_time": "2023-08-12T17:25:57.371Z"
   },
   {
    "duration": 39,
    "start_time": "2023-08-12T17:25:57.380Z"
   },
   {
    "duration": 16,
    "start_time": "2023-08-12T17:25:57.421Z"
   },
   {
    "duration": 789,
    "start_time": "2023-08-12T17:25:57.439Z"
   },
   {
    "duration": 46,
    "start_time": "2023-08-12T17:25:58.231Z"
   },
   {
    "duration": 5,
    "start_time": "2023-08-12T17:25:58.278Z"
   },
   {
    "duration": 34,
    "start_time": "2023-08-12T17:25:58.284Z"
   },
   {
    "duration": 25,
    "start_time": "2023-08-12T17:25:58.320Z"
   },
   {
    "duration": 5,
    "start_time": "2023-08-12T17:25:58.347Z"
   },
   {
    "duration": 19,
    "start_time": "2023-08-12T17:25:58.353Z"
   },
   {
    "duration": 7,
    "start_time": "2023-08-12T17:25:58.373Z"
   },
   {
    "duration": 39,
    "start_time": "2023-08-12T17:25:58.381Z"
   },
   {
    "duration": 17,
    "start_time": "2023-08-12T17:25:58.421Z"
   },
   {
    "duration": 346,
    "start_time": "2023-08-12T17:25:58.439Z"
   },
   {
    "duration": 5,
    "start_time": "2023-08-12T17:25:58.787Z"
   },
   {
    "duration": 40,
    "start_time": "2023-08-12T17:25:58.799Z"
   },
   {
    "duration": 3,
    "start_time": "2023-08-12T17:25:58.841Z"
   },
   {
    "duration": 11,
    "start_time": "2023-08-12T17:25:58.845Z"
   },
   {
    "duration": 7,
    "start_time": "2023-08-12T17:25:58.858Z"
   },
   {
    "duration": 15,
    "start_time": "2023-08-12T17:25:58.866Z"
   },
   {
    "duration": 30,
    "start_time": "2023-08-12T17:25:58.882Z"
   },
   {
    "duration": 264,
    "start_time": "2023-08-12T17:25:58.913Z"
   },
   {
    "duration": 181,
    "start_time": "2023-08-12T17:25:59.181Z"
   },
   {
    "duration": 50,
    "start_time": "2023-08-12T17:25:59.363Z"
   },
   {
    "duration": 5,
    "start_time": "2023-08-12T17:25:59.418Z"
   },
   {
    "duration": 18,
    "start_time": "2023-08-12T17:25:59.424Z"
   },
   {
    "duration": 20,
    "start_time": "2023-08-12T17:25:59.443Z"
   },
   {
    "duration": 15,
    "start_time": "2023-08-12T17:25:59.464Z"
   },
   {
    "duration": 5,
    "start_time": "2023-08-12T17:26:03.925Z"
   },
   {
    "duration": 16,
    "start_time": "2023-08-12T17:26:17.526Z"
   },
   {
    "duration": 61,
    "start_time": "2023-08-12T17:26:28.306Z"
   },
   {
    "duration": 5,
    "start_time": "2023-08-12T17:26:34.567Z"
   },
   {
    "duration": 26,
    "start_time": "2023-08-12T17:26:47.494Z"
   },
   {
    "duration": 119,
    "start_time": "2023-08-12T17:27:23.527Z"
   },
   {
    "duration": 1589,
    "start_time": "2023-08-12T17:27:34.289Z"
   },
   {
    "duration": 284,
    "start_time": "2023-08-12T17:27:35.879Z"
   },
   {
    "duration": 15,
    "start_time": "2023-08-12T17:27:36.165Z"
   },
   {
    "duration": 43,
    "start_time": "2023-08-12T17:27:36.182Z"
   },
   {
    "duration": 28,
    "start_time": "2023-08-12T17:27:36.229Z"
   },
   {
    "duration": 9,
    "start_time": "2023-08-12T17:27:36.258Z"
   },
   {
    "duration": 6,
    "start_time": "2023-08-12T17:27:36.268Z"
   },
   {
    "duration": 49,
    "start_time": "2023-08-12T17:27:36.276Z"
   },
   {
    "duration": 11,
    "start_time": "2023-08-12T17:27:36.328Z"
   },
   {
    "duration": 9,
    "start_time": "2023-08-12T17:27:36.341Z"
   },
   {
    "duration": 22,
    "start_time": "2023-08-12T17:27:36.351Z"
   },
   {
    "duration": 5,
    "start_time": "2023-08-12T17:27:36.375Z"
   },
   {
    "duration": 49,
    "start_time": "2023-08-12T17:27:36.381Z"
   },
   {
    "duration": 5,
    "start_time": "2023-08-12T17:27:36.433Z"
   },
   {
    "duration": 18,
    "start_time": "2023-08-12T17:27:36.440Z"
   },
   {
    "duration": 7,
    "start_time": "2023-08-12T17:27:36.459Z"
   },
   {
    "duration": 9,
    "start_time": "2023-08-12T17:27:36.467Z"
   },
   {
    "duration": 14,
    "start_time": "2023-08-12T17:27:36.477Z"
   },
   {
    "duration": 5,
    "start_time": "2023-08-12T17:27:36.492Z"
   },
   {
    "duration": 43,
    "start_time": "2023-08-12T17:27:36.501Z"
   },
   {
    "duration": 11,
    "start_time": "2023-08-12T17:27:36.545Z"
   },
   {
    "duration": 742,
    "start_time": "2023-08-12T17:27:36.557Z"
   },
   {
    "duration": 38,
    "start_time": "2023-08-12T17:27:37.324Z"
   },
   {
    "duration": 5,
    "start_time": "2023-08-12T17:27:37.364Z"
   },
   {
    "duration": 21,
    "start_time": "2023-08-12T17:27:37.370Z"
   },
   {
    "duration": 38,
    "start_time": "2023-08-12T17:27:37.392Z"
   },
   {
    "duration": 9,
    "start_time": "2023-08-12T17:27:37.432Z"
   },
   {
    "duration": 16,
    "start_time": "2023-08-12T17:27:37.443Z"
   },
   {
    "duration": 7,
    "start_time": "2023-08-12T17:27:37.460Z"
   },
   {
    "duration": 4,
    "start_time": "2023-08-12T17:27:37.469Z"
   },
   {
    "duration": 58,
    "start_time": "2023-08-12T17:27:37.475Z"
   },
   {
    "duration": 454,
    "start_time": "2023-08-12T17:27:37.538Z"
   },
   {
    "duration": 8,
    "start_time": "2023-08-12T17:27:37.994Z"
   },
   {
    "duration": 64,
    "start_time": "2023-08-12T17:27:38.003Z"
   },
   {
    "duration": 3,
    "start_time": "2023-08-12T17:27:38.069Z"
   },
   {
    "duration": 13,
    "start_time": "2023-08-12T17:27:38.073Z"
   },
   {
    "duration": 15,
    "start_time": "2023-08-12T17:27:38.087Z"
   },
   {
    "duration": 39,
    "start_time": "2023-08-12T17:27:38.103Z"
   },
   {
    "duration": 13,
    "start_time": "2023-08-12T17:27:38.144Z"
   },
   {
    "duration": 272,
    "start_time": "2023-08-12T17:27:38.159Z"
   },
   {
    "duration": 191,
    "start_time": "2023-08-12T17:27:38.435Z"
   },
   {
    "duration": 34,
    "start_time": "2023-08-12T17:27:38.627Z"
   },
   {
    "duration": 4,
    "start_time": "2023-08-12T17:27:38.662Z"
   },
   {
    "duration": 14,
    "start_time": "2023-08-12T17:27:38.668Z"
   },
   {
    "duration": 41,
    "start_time": "2023-08-12T17:27:38.684Z"
   },
   {
    "duration": 20,
    "start_time": "2023-08-12T17:27:38.726Z"
   },
   {
    "duration": 48,
    "start_time": "2023-08-12T17:27:38.748Z"
   },
   {
    "duration": 124,
    "start_time": "2023-08-12T17:27:38.797Z"
   },
   {
    "duration": 7,
    "start_time": "2023-08-12T17:27:38.922Z"
   },
   {
    "duration": 18,
    "start_time": "2023-08-12T17:27:38.930Z"
   },
   {
    "duration": 30,
    "start_time": "2023-08-12T17:27:48.191Z"
   },
   {
    "duration": 6,
    "start_time": "2023-08-12T17:28:49.062Z"
   },
   {
    "duration": 27,
    "start_time": "2023-08-12T17:29:05.014Z"
   },
   {
    "duration": 1383,
    "start_time": "2023-08-12T17:30:52.931Z"
   },
   {
    "duration": 9,
    "start_time": "2023-08-12T17:31:05.191Z"
   },
   {
    "duration": 17,
    "start_time": "2023-08-12T17:31:14.847Z"
   },
   {
    "duration": 22,
    "start_time": "2023-08-12T17:33:29.016Z"
   },
   {
    "duration": 19,
    "start_time": "2023-08-12T17:33:36.776Z"
   },
   {
    "duration": 23,
    "start_time": "2023-08-12T17:33:44.456Z"
   },
   {
    "duration": 1431,
    "start_time": "2023-08-12T17:33:49.561Z"
   },
   {
    "duration": 27,
    "start_time": "2023-08-12T17:34:01.808Z"
   },
   {
    "duration": 27,
    "start_time": "2023-08-12T17:34:04.064Z"
   },
   {
    "duration": 11,
    "start_time": "2023-08-12T17:34:56.009Z"
   },
   {
    "duration": 27,
    "start_time": "2023-08-12T17:35:00.977Z"
   },
   {
    "duration": 27,
    "start_time": "2023-08-12T17:35:05.009Z"
   },
   {
    "duration": 8,
    "start_time": "2023-08-12T17:35:15.498Z"
   },
   {
    "duration": 27,
    "start_time": "2023-08-12T17:35:16.777Z"
   },
   {
    "duration": 16,
    "start_time": "2023-08-12T17:35:20.633Z"
   },
   {
    "duration": 29,
    "start_time": "2023-08-12T17:35:24.585Z"
   },
   {
    "duration": 19,
    "start_time": "2023-08-12T17:35:41.465Z"
   },
   {
    "duration": 1482,
    "start_time": "2023-08-12T17:35:45.883Z"
   },
   {
    "duration": 222,
    "start_time": "2023-08-12T17:35:47.366Z"
   },
   {
    "duration": 19,
    "start_time": "2023-08-12T17:35:47.590Z"
   },
   {
    "duration": 13,
    "start_time": "2023-08-12T17:35:47.611Z"
   },
   {
    "duration": 19,
    "start_time": "2023-08-12T17:35:47.626Z"
   },
   {
    "duration": 5,
    "start_time": "2023-08-12T17:35:47.647Z"
   },
   {
    "duration": 6,
    "start_time": "2023-08-12T17:35:47.654Z"
   },
   {
    "duration": 33,
    "start_time": "2023-08-12T17:35:47.661Z"
   },
   {
    "duration": 11,
    "start_time": "2023-08-12T17:35:47.695Z"
   },
   {
    "duration": 13,
    "start_time": "2023-08-12T17:35:47.708Z"
   },
   {
    "duration": 27,
    "start_time": "2023-08-12T17:35:47.723Z"
   },
   {
    "duration": 4,
    "start_time": "2023-08-12T17:35:47.751Z"
   },
   {
    "duration": 10,
    "start_time": "2023-08-12T17:35:47.757Z"
   },
   {
    "duration": 12,
    "start_time": "2023-08-12T17:35:47.770Z"
   },
   {
    "duration": 44,
    "start_time": "2023-08-12T17:35:47.783Z"
   },
   {
    "duration": 8,
    "start_time": "2023-08-12T17:35:47.828Z"
   },
   {
    "duration": 4,
    "start_time": "2023-08-12T17:35:47.837Z"
   },
   {
    "duration": 14,
    "start_time": "2023-08-12T17:35:47.842Z"
   },
   {
    "duration": 10,
    "start_time": "2023-08-12T17:35:47.857Z"
   },
   {
    "duration": 13,
    "start_time": "2023-08-12T17:35:47.868Z"
   },
   {
    "duration": 28,
    "start_time": "2023-08-12T17:35:47.882Z"
   },
   {
    "duration": 772,
    "start_time": "2023-08-12T17:35:47.911Z"
   },
   {
    "duration": 42,
    "start_time": "2023-08-12T17:35:48.684Z"
   },
   {
    "duration": 7,
    "start_time": "2023-08-12T17:35:48.727Z"
   },
   {
    "duration": 20,
    "start_time": "2023-08-12T17:35:48.736Z"
   },
   {
    "duration": 60,
    "start_time": "2023-08-12T17:35:48.758Z"
   },
   {
    "duration": 8,
    "start_time": "2023-08-12T17:35:48.820Z"
   },
   {
    "duration": 26,
    "start_time": "2023-08-12T17:35:48.830Z"
   },
   {
    "duration": 8,
    "start_time": "2023-08-12T17:35:48.858Z"
   },
   {
    "duration": 6,
    "start_time": "2023-08-12T17:35:48.867Z"
   },
   {
    "duration": 43,
    "start_time": "2023-08-12T17:35:48.874Z"
   },
   {
    "duration": 369,
    "start_time": "2023-08-12T17:35:48.918Z"
   },
   {
    "duration": 14,
    "start_time": "2023-08-12T17:35:49.288Z"
   },
   {
    "duration": 46,
    "start_time": "2023-08-12T17:35:49.304Z"
   },
   {
    "duration": 3,
    "start_time": "2023-08-12T17:35:49.351Z"
   },
   {
    "duration": 16,
    "start_time": "2023-08-12T17:35:49.355Z"
   },
   {
    "duration": 6,
    "start_time": "2023-08-12T17:35:49.373Z"
   },
   {
    "duration": 9,
    "start_time": "2023-08-12T17:35:49.380Z"
   },
   {
    "duration": 16,
    "start_time": "2023-08-12T17:35:49.390Z"
   },
   {
    "duration": 259,
    "start_time": "2023-08-12T17:35:49.407Z"
   },
   {
    "duration": 186,
    "start_time": "2023-08-12T17:35:49.670Z"
   },
   {
    "duration": 44,
    "start_time": "2023-08-12T17:35:49.857Z"
   },
   {
    "duration": 6,
    "start_time": "2023-08-12T17:35:49.902Z"
   },
   {
    "duration": 16,
    "start_time": "2023-08-12T17:35:49.909Z"
   },
   {
    "duration": 14,
    "start_time": "2023-08-12T17:35:49.926Z"
   },
   {
    "duration": 14,
    "start_time": "2023-08-12T17:35:49.942Z"
   },
   {
    "duration": 12,
    "start_time": "2023-08-12T17:35:49.957Z"
   },
   {
    "duration": 74,
    "start_time": "2023-08-12T17:35:49.971Z"
   },
   {
    "duration": 6,
    "start_time": "2023-08-12T17:35:50.046Z"
   },
   {
    "duration": 11,
    "start_time": "2023-08-12T17:35:50.054Z"
   },
   {
    "duration": 8,
    "start_time": "2023-08-12T17:35:50.067Z"
   },
   {
    "duration": 25,
    "start_time": "2023-08-12T17:35:50.077Z"
   },
   {
    "duration": 29,
    "start_time": "2023-08-12T17:35:50.103Z"
   },
   {
    "duration": 14,
    "start_time": "2023-08-12T17:35:50.133Z"
   },
   {
    "duration": 19,
    "start_time": "2023-08-12T17:35:50.148Z"
   },
   {
    "duration": 42,
    "start_time": "2023-08-12T17:35:50.169Z"
   },
   {
    "duration": 78,
    "start_time": "2023-08-12T17:35:50.213Z"
   },
   {
    "duration": 39,
    "start_time": "2023-08-12T17:35:50.292Z"
   },
   {
    "duration": 1489,
    "start_time": "2023-08-12T17:35:50.333Z"
   },
   {
    "duration": 0,
    "start_time": "2023-08-12T17:35:51.824Z"
   },
   {
    "duration": 30,
    "start_time": "2023-08-12T17:36:15.409Z"
   },
   {
    "duration": 26,
    "start_time": "2023-08-12T17:36:16.507Z"
   },
   {
    "duration": 19,
    "start_time": "2023-08-12T17:36:33.074Z"
   },
   {
    "duration": 25,
    "start_time": "2023-08-12T17:36:52.915Z"
   },
   {
    "duration": 3,
    "start_time": "2023-08-12T17:38:54.037Z"
   },
   {
    "duration": 26,
    "start_time": "2023-08-12T17:38:55.188Z"
   },
   {
    "duration": 434,
    "start_time": "2023-08-12T17:39:10.453Z"
   },
   {
    "duration": 28,
    "start_time": "2023-08-12T17:39:26.620Z"
   },
   {
    "duration": 12,
    "start_time": "2023-08-12T17:40:22.533Z"
   },
   {
    "duration": 1261,
    "start_time": "2023-08-12T17:40:37.326Z"
   },
   {
    "duration": 1519,
    "start_time": "2023-08-12T17:41:29.671Z"
   },
   {
    "duration": 204,
    "start_time": "2023-08-12T17:41:31.192Z"
   },
   {
    "duration": 14,
    "start_time": "2023-08-12T17:41:31.397Z"
   },
   {
    "duration": 24,
    "start_time": "2023-08-12T17:41:31.413Z"
   },
   {
    "duration": 48,
    "start_time": "2023-08-12T17:41:31.439Z"
   },
   {
    "duration": 24,
    "start_time": "2023-08-12T17:41:31.489Z"
   },
   {
    "duration": 27,
    "start_time": "2023-08-12T17:41:31.514Z"
   },
   {
    "duration": 38,
    "start_time": "2023-08-12T17:41:31.542Z"
   },
   {
    "duration": 22,
    "start_time": "2023-08-12T17:41:31.581Z"
   },
   {
    "duration": 22,
    "start_time": "2023-08-12T17:41:31.604Z"
   },
   {
    "duration": 65,
    "start_time": "2023-08-12T17:41:31.627Z"
   },
   {
    "duration": 27,
    "start_time": "2023-08-12T17:41:31.694Z"
   },
   {
    "duration": 29,
    "start_time": "2023-08-12T17:41:31.723Z"
   },
   {
    "duration": 36,
    "start_time": "2023-08-12T17:41:31.755Z"
   },
   {
    "duration": 38,
    "start_time": "2023-08-12T17:41:31.793Z"
   },
   {
    "duration": 48,
    "start_time": "2023-08-12T17:41:31.833Z"
   },
   {
    "duration": 24,
    "start_time": "2023-08-12T17:41:31.883Z"
   },
   {
    "duration": 34,
    "start_time": "2023-08-12T17:41:31.908Z"
   },
   {
    "duration": 132,
    "start_time": "2023-08-12T17:41:31.944Z"
   },
   {
    "duration": 86,
    "start_time": "2023-08-12T17:41:32.078Z"
   },
   {
    "duration": 44,
    "start_time": "2023-08-12T17:41:32.165Z"
   },
   {
    "duration": 809,
    "start_time": "2023-08-12T17:41:32.210Z"
   },
   {
    "duration": 34,
    "start_time": "2023-08-12T17:41:33.020Z"
   },
   {
    "duration": 10,
    "start_time": "2023-08-12T17:41:33.056Z"
   },
   {
    "duration": 31,
    "start_time": "2023-08-12T17:41:33.068Z"
   },
   {
    "duration": 38,
    "start_time": "2023-08-12T17:41:33.101Z"
   },
   {
    "duration": 6,
    "start_time": "2023-08-12T17:41:33.141Z"
   },
   {
    "duration": 28,
    "start_time": "2023-08-12T17:41:33.148Z"
   },
   {
    "duration": 9,
    "start_time": "2023-08-12T17:41:33.177Z"
   },
   {
    "duration": 18,
    "start_time": "2023-08-12T17:41:33.187Z"
   },
   {
    "duration": 20,
    "start_time": "2023-08-12T17:41:33.206Z"
   },
   {
    "duration": 372,
    "start_time": "2023-08-12T17:41:33.227Z"
   },
   {
    "duration": 6,
    "start_time": "2023-08-12T17:41:33.601Z"
   },
   {
    "duration": 32,
    "start_time": "2023-08-12T17:41:33.608Z"
   },
   {
    "duration": 2,
    "start_time": "2023-08-12T17:41:33.642Z"
   },
   {
    "duration": 15,
    "start_time": "2023-08-12T17:41:33.646Z"
   },
   {
    "duration": 7,
    "start_time": "2023-08-12T17:41:33.662Z"
   },
   {
    "duration": 30,
    "start_time": "2023-08-12T17:41:33.670Z"
   },
   {
    "duration": 7,
    "start_time": "2023-08-12T17:41:33.702Z"
   },
   {
    "duration": 258,
    "start_time": "2023-08-12T17:41:33.710Z"
   },
   {
    "duration": 199,
    "start_time": "2023-08-12T17:41:33.972Z"
   },
   {
    "duration": 46,
    "start_time": "2023-08-12T17:41:34.172Z"
   },
   {
    "duration": 4,
    "start_time": "2023-08-12T17:41:34.219Z"
   },
   {
    "duration": 30,
    "start_time": "2023-08-12T17:41:34.224Z"
   },
   {
    "duration": 24,
    "start_time": "2023-08-12T17:41:34.255Z"
   },
   {
    "duration": 15,
    "start_time": "2023-08-12T17:41:34.280Z"
   },
   {
    "duration": 1446,
    "start_time": "2023-08-12T17:44:21.879Z"
   },
   {
    "duration": 7,
    "start_time": "2023-08-12T17:46:03.511Z"
   },
   {
    "duration": 15,
    "start_time": "2023-08-12T17:46:23.112Z"
   },
   {
    "duration": 52,
    "start_time": "2023-08-12T17:46:30.639Z"
   },
   {
    "duration": 7,
    "start_time": "2023-08-12T17:46:35.815Z"
   },
   {
    "duration": 9,
    "start_time": "2023-08-12T17:46:42.791Z"
   },
   {
    "duration": 10,
    "start_time": "2023-08-12T17:46:48.007Z"
   },
   {
    "duration": 8,
    "start_time": "2023-08-12T17:46:54.703Z"
   },
   {
    "duration": 28,
    "start_time": "2023-08-12T17:47:06.577Z"
   },
   {
    "duration": 5,
    "start_time": "2023-08-12T17:47:22.648Z"
   },
   {
    "duration": 4,
    "start_time": "2023-08-12T17:47:27.735Z"
   },
   {
    "duration": 1290,
    "start_time": "2023-08-12T17:47:40.671Z"
   },
   {
    "duration": 24,
    "start_time": "2023-08-12T17:48:36.039Z"
   },
   {
    "duration": 18,
    "start_time": "2023-08-12T17:48:42.576Z"
   },
   {
    "duration": 24,
    "start_time": "2023-08-12T17:48:47.079Z"
   },
   {
    "duration": 1451,
    "start_time": "2023-08-12T17:48:54.795Z"
   },
   {
    "duration": 279,
    "start_time": "2023-08-12T17:48:56.248Z"
   },
   {
    "duration": 17,
    "start_time": "2023-08-12T17:48:56.529Z"
   },
   {
    "duration": 12,
    "start_time": "2023-08-12T17:48:56.547Z"
   },
   {
    "duration": 23,
    "start_time": "2023-08-12T17:48:56.561Z"
   },
   {
    "duration": 4,
    "start_time": "2023-08-12T17:48:56.603Z"
   },
   {
    "duration": 17,
    "start_time": "2023-08-12T17:48:56.609Z"
   },
   {
    "duration": 27,
    "start_time": "2023-08-12T17:48:56.627Z"
   },
   {
    "duration": 10,
    "start_time": "2023-08-12T17:48:56.655Z"
   },
   {
    "duration": 11,
    "start_time": "2023-08-12T17:48:56.667Z"
   },
   {
    "duration": 27,
    "start_time": "2023-08-12T17:48:56.679Z"
   },
   {
    "duration": 6,
    "start_time": "2023-08-12T17:48:56.708Z"
   },
   {
    "duration": 17,
    "start_time": "2023-08-12T17:48:56.715Z"
   },
   {
    "duration": 6,
    "start_time": "2023-08-12T17:48:56.735Z"
   },
   {
    "duration": 25,
    "start_time": "2023-08-12T17:48:56.742Z"
   },
   {
    "duration": 7,
    "start_time": "2023-08-12T17:48:56.769Z"
   },
   {
    "duration": 9,
    "start_time": "2023-08-12T17:48:56.777Z"
   },
   {
    "duration": 31,
    "start_time": "2023-08-12T17:48:56.788Z"
   },
   {
    "duration": 8,
    "start_time": "2023-08-12T17:48:56.820Z"
   },
   {
    "duration": 25,
    "start_time": "2023-08-12T17:48:56.829Z"
   },
   {
    "duration": 10,
    "start_time": "2023-08-12T17:48:56.856Z"
   },
   {
    "duration": 732,
    "start_time": "2023-08-12T17:48:56.867Z"
   },
   {
    "duration": 35,
    "start_time": "2023-08-12T17:48:57.601Z"
   },
   {
    "duration": 5,
    "start_time": "2023-08-12T17:48:57.637Z"
   },
   {
    "duration": 18,
    "start_time": "2023-08-12T17:48:57.644Z"
   },
   {
    "duration": 49,
    "start_time": "2023-08-12T17:48:57.664Z"
   },
   {
    "duration": 5,
    "start_time": "2023-08-12T17:48:57.715Z"
   },
   {
    "duration": 17,
    "start_time": "2023-08-12T17:48:57.721Z"
   },
   {
    "duration": 7,
    "start_time": "2023-08-12T17:48:57.739Z"
   },
   {
    "duration": 4,
    "start_time": "2023-08-12T17:48:57.747Z"
   },
   {
    "duration": 19,
    "start_time": "2023-08-12T17:48:57.752Z"
   },
   {
    "duration": 430,
    "start_time": "2023-08-12T17:48:57.773Z"
   },
   {
    "duration": 6,
    "start_time": "2023-08-12T17:48:58.205Z"
   },
   {
    "duration": 31,
    "start_time": "2023-08-12T17:48:58.212Z"
   },
   {
    "duration": 3,
    "start_time": "2023-08-12T17:48:58.245Z"
   },
   {
    "duration": 16,
    "start_time": "2023-08-12T17:48:58.249Z"
   },
   {
    "duration": 7,
    "start_time": "2023-08-12T17:48:58.266Z"
   },
   {
    "duration": 28,
    "start_time": "2023-08-12T17:48:58.274Z"
   },
   {
    "duration": 8,
    "start_time": "2023-08-12T17:48:58.304Z"
   },
   {
    "duration": 258,
    "start_time": "2023-08-12T17:48:58.313Z"
   },
   {
    "duration": 179,
    "start_time": "2023-08-12T17:48:58.575Z"
   },
   {
    "duration": 33,
    "start_time": "2023-08-12T17:48:58.755Z"
   },
   {
    "duration": 4,
    "start_time": "2023-08-12T17:48:58.799Z"
   },
   {
    "duration": 23,
    "start_time": "2023-08-12T17:48:58.804Z"
   },
   {
    "duration": 12,
    "start_time": "2023-08-12T17:48:58.829Z"
   },
   {
    "duration": 13,
    "start_time": "2023-08-12T17:48:58.843Z"
   },
   {
    "duration": 12,
    "start_time": "2023-08-12T17:48:58.857Z"
   },
   {
    "duration": 31,
    "start_time": "2023-08-12T17:48:58.871Z"
   },
   {
    "duration": 18,
    "start_time": "2023-08-12T17:48:58.903Z"
   },
   {
    "duration": 20,
    "start_time": "2023-08-12T17:48:58.922Z"
   },
   {
    "duration": 68,
    "start_time": "2023-08-12T17:48:58.943Z"
   },
   {
    "duration": 6,
    "start_time": "2023-08-12T17:48:59.012Z"
   },
   {
    "duration": 11,
    "start_time": "2023-08-12T17:48:59.019Z"
   },
   {
    "duration": 11,
    "start_time": "2023-08-12T17:48:59.032Z"
   },
   {
    "duration": 11,
    "start_time": "2023-08-12T17:48:59.044Z"
   },
   {
    "duration": 45,
    "start_time": "2023-08-12T17:48:59.056Z"
   },
   {
    "duration": 4,
    "start_time": "2023-08-12T17:48:59.102Z"
   },
   {
    "duration": 7,
    "start_time": "2023-08-12T17:48:59.107Z"
   },
   {
    "duration": 535,
    "start_time": "2023-08-12T17:48:59.115Z"
   },
   {
    "duration": 0,
    "start_time": "2023-08-12T17:48:59.651Z"
   },
   {
    "duration": 1614,
    "start_time": "2023-08-12T17:50:04.186Z"
   },
   {
    "duration": 259,
    "start_time": "2023-08-12T17:50:05.802Z"
   },
   {
    "duration": 30,
    "start_time": "2023-08-12T17:50:06.070Z"
   },
   {
    "duration": 17,
    "start_time": "2023-08-12T17:50:06.102Z"
   },
   {
    "duration": 40,
    "start_time": "2023-08-12T17:50:06.122Z"
   },
   {
    "duration": 9,
    "start_time": "2023-08-12T17:50:06.165Z"
   },
   {
    "duration": 10,
    "start_time": "2023-08-12T17:50:06.176Z"
   },
   {
    "duration": 26,
    "start_time": "2023-08-12T17:50:06.188Z"
   },
   {
    "duration": 25,
    "start_time": "2023-08-12T17:50:06.218Z"
   },
   {
    "duration": 27,
    "start_time": "2023-08-12T17:50:06.246Z"
   },
   {
    "duration": 51,
    "start_time": "2023-08-12T17:50:06.275Z"
   },
   {
    "duration": 7,
    "start_time": "2023-08-12T17:50:06.328Z"
   },
   {
    "duration": 11,
    "start_time": "2023-08-12T17:50:06.337Z"
   },
   {
    "duration": 7,
    "start_time": "2023-08-12T17:50:06.350Z"
   },
   {
    "duration": 53,
    "start_time": "2023-08-12T17:50:06.359Z"
   },
   {
    "duration": 12,
    "start_time": "2023-08-12T17:50:06.414Z"
   },
   {
    "duration": 15,
    "start_time": "2023-08-12T17:50:06.428Z"
   },
   {
    "duration": 27,
    "start_time": "2023-08-12T17:50:06.445Z"
   },
   {
    "duration": 7,
    "start_time": "2023-08-12T17:50:06.474Z"
   },
   {
    "duration": 33,
    "start_time": "2023-08-12T17:50:06.482Z"
   },
   {
    "duration": 17,
    "start_time": "2023-08-12T17:50:06.517Z"
   },
   {
    "duration": 825,
    "start_time": "2023-08-12T17:50:06.536Z"
   },
   {
    "duration": 44,
    "start_time": "2023-08-12T17:50:07.363Z"
   },
   {
    "duration": 5,
    "start_time": "2023-08-12T17:50:07.409Z"
   },
   {
    "duration": 25,
    "start_time": "2023-08-12T17:50:07.415Z"
   },
   {
    "duration": 30,
    "start_time": "2023-08-12T17:50:07.441Z"
   },
   {
    "duration": 25,
    "start_time": "2023-08-12T17:50:07.474Z"
   },
   {
    "duration": 21,
    "start_time": "2023-08-12T17:50:07.501Z"
   },
   {
    "duration": 8,
    "start_time": "2023-08-12T17:50:07.523Z"
   },
   {
    "duration": 16,
    "start_time": "2023-08-12T17:50:07.532Z"
   },
   {
    "duration": 46,
    "start_time": "2023-08-12T17:50:07.549Z"
   },
   {
    "duration": 405,
    "start_time": "2023-08-12T17:50:07.596Z"
   },
   {
    "duration": 7,
    "start_time": "2023-08-12T17:50:08.003Z"
   },
   {
    "duration": 52,
    "start_time": "2023-08-12T17:50:08.012Z"
   },
   {
    "duration": 3,
    "start_time": "2023-08-12T17:50:08.065Z"
   },
   {
    "duration": 15,
    "start_time": "2023-08-12T17:50:08.070Z"
   },
   {
    "duration": 14,
    "start_time": "2023-08-12T17:50:08.086Z"
   },
   {
    "duration": 17,
    "start_time": "2023-08-12T17:50:08.102Z"
   },
   {
    "duration": 10,
    "start_time": "2023-08-12T17:50:08.120Z"
   },
   {
    "duration": 296,
    "start_time": "2023-08-12T17:50:08.132Z"
   },
   {
    "duration": 202,
    "start_time": "2023-08-12T17:50:08.430Z"
   },
   {
    "duration": 35,
    "start_time": "2023-08-12T17:50:08.634Z"
   },
   {
    "duration": 5,
    "start_time": "2023-08-12T17:50:08.670Z"
   },
   {
    "duration": 27,
    "start_time": "2023-08-12T17:50:08.676Z"
   },
   {
    "duration": 16,
    "start_time": "2023-08-12T17:50:08.704Z"
   },
   {
    "duration": 14,
    "start_time": "2023-08-12T17:50:08.722Z"
   },
   {
    "duration": 158,
    "start_time": "2023-08-12T17:50:08.737Z"
   },
   {
    "duration": 9,
    "start_time": "2023-08-12T17:50:53.753Z"
   },
   {
    "duration": 21,
    "start_time": "2023-08-12T17:52:00.674Z"
   },
   {
    "duration": 13,
    "start_time": "2023-08-12T17:52:07.546Z"
   },
   {
    "duration": 43,
    "start_time": "2023-08-12T17:52:17.891Z"
   },
   {
    "duration": 44,
    "start_time": "2023-08-12T17:52:36.594Z"
   },
   {
    "duration": 8,
    "start_time": "2023-08-12T17:53:05.378Z"
   },
   {
    "duration": 13,
    "start_time": "2023-08-12T17:53:21.266Z"
   },
   {
    "duration": 7,
    "start_time": "2023-08-12T17:53:31.938Z"
   },
   {
    "duration": 4,
    "start_time": "2023-08-12T17:53:38.506Z"
   },
   {
    "duration": 29,
    "start_time": "2023-08-12T17:54:05.202Z"
   },
   {
    "duration": 24,
    "start_time": "2023-08-12T17:54:08.290Z"
   },
   {
    "duration": 11,
    "start_time": "2023-08-12T17:54:18.114Z"
   },
   {
    "duration": 32,
    "start_time": "2023-08-12T17:54:22.243Z"
   },
   {
    "duration": 10,
    "start_time": "2023-08-12T17:54:32.586Z"
   },
   {
    "duration": 27,
    "start_time": "2023-08-12T17:54:44.411Z"
   },
   {
    "duration": 25,
    "start_time": "2023-08-12T17:55:33.098Z"
   },
   {
    "duration": 27,
    "start_time": "2023-08-12T17:55:47.818Z"
   },
   {
    "duration": 8,
    "start_time": "2023-08-12T17:55:56.763Z"
   },
   {
    "duration": 50,
    "start_time": "2023-08-12T17:55:57.939Z"
   },
   {
    "duration": 1459,
    "start_time": "2023-08-12T17:56:12.257Z"
   },
   {
    "duration": 281,
    "start_time": "2023-08-12T17:56:13.718Z"
   },
   {
    "duration": 14,
    "start_time": "2023-08-12T17:56:14.000Z"
   },
   {
    "duration": 9,
    "start_time": "2023-08-12T17:56:14.015Z"
   },
   {
    "duration": 17,
    "start_time": "2023-08-12T17:56:14.026Z"
   },
   {
    "duration": 3,
    "start_time": "2023-08-12T17:56:14.044Z"
   },
   {
    "duration": 16,
    "start_time": "2023-08-12T17:56:14.048Z"
   },
   {
    "duration": 35,
    "start_time": "2023-08-12T17:56:14.065Z"
   },
   {
    "duration": 15,
    "start_time": "2023-08-12T17:56:14.101Z"
   },
   {
    "duration": 13,
    "start_time": "2023-08-12T17:56:14.117Z"
   },
   {
    "duration": 30,
    "start_time": "2023-08-12T17:56:14.132Z"
   },
   {
    "duration": 5,
    "start_time": "2023-08-12T17:56:14.164Z"
   },
   {
    "duration": 9,
    "start_time": "2023-08-12T17:56:14.171Z"
   },
   {
    "duration": 27,
    "start_time": "2023-08-12T17:56:14.182Z"
   },
   {
    "duration": 18,
    "start_time": "2023-08-12T17:56:14.210Z"
   },
   {
    "duration": 8,
    "start_time": "2023-08-12T17:56:14.230Z"
   },
   {
    "duration": 6,
    "start_time": "2023-08-12T17:56:14.239Z"
   },
   {
    "duration": 19,
    "start_time": "2023-08-12T17:56:14.246Z"
   },
   {
    "duration": 22,
    "start_time": "2023-08-12T17:56:14.266Z"
   },
   {
    "duration": 20,
    "start_time": "2023-08-12T17:56:14.290Z"
   },
   {
    "duration": 20,
    "start_time": "2023-08-12T17:56:14.312Z"
   },
   {
    "duration": 767,
    "start_time": "2023-08-12T17:56:14.334Z"
   },
   {
    "duration": 35,
    "start_time": "2023-08-12T17:56:15.102Z"
   },
   {
    "duration": 6,
    "start_time": "2023-08-12T17:56:15.138Z"
   },
   {
    "duration": 24,
    "start_time": "2023-08-12T17:56:15.146Z"
   },
   {
    "duration": 52,
    "start_time": "2023-08-12T17:56:15.171Z"
   },
   {
    "duration": 6,
    "start_time": "2023-08-12T17:56:15.225Z"
   },
   {
    "duration": 18,
    "start_time": "2023-08-12T17:56:15.232Z"
   },
   {
    "duration": 8,
    "start_time": "2023-08-12T17:56:15.252Z"
   },
   {
    "duration": 9,
    "start_time": "2023-08-12T17:56:15.261Z"
   },
   {
    "duration": 36,
    "start_time": "2023-08-12T17:56:15.272Z"
   },
   {
    "duration": 378,
    "start_time": "2023-08-12T17:56:15.310Z"
   },
   {
    "duration": 7,
    "start_time": "2023-08-12T17:56:15.699Z"
   },
   {
    "duration": 35,
    "start_time": "2023-08-12T17:56:15.707Z"
   },
   {
    "duration": 3,
    "start_time": "2023-08-12T17:56:15.744Z"
   },
   {
    "duration": 18,
    "start_time": "2023-08-12T17:56:15.749Z"
   },
   {
    "duration": 19,
    "start_time": "2023-08-12T17:56:15.769Z"
   },
   {
    "duration": 14,
    "start_time": "2023-08-12T17:56:15.790Z"
   },
   {
    "duration": 7,
    "start_time": "2023-08-12T17:56:15.805Z"
   },
   {
    "duration": 291,
    "start_time": "2023-08-12T17:56:15.814Z"
   },
   {
    "duration": 204,
    "start_time": "2023-08-12T17:56:16.109Z"
   },
   {
    "duration": 34,
    "start_time": "2023-08-12T17:56:16.314Z"
   },
   {
    "duration": 4,
    "start_time": "2023-08-12T17:56:16.349Z"
   },
   {
    "duration": 21,
    "start_time": "2023-08-12T17:56:16.354Z"
   },
   {
    "duration": 29,
    "start_time": "2023-08-12T17:56:16.377Z"
   },
   {
    "duration": 14,
    "start_time": "2023-08-12T17:56:16.407Z"
   },
   {
    "duration": 14,
    "start_time": "2023-08-12T17:56:16.423Z"
   },
   {
    "duration": 62,
    "start_time": "2023-08-12T17:56:16.439Z"
   },
   {
    "duration": 7,
    "start_time": "2023-08-12T17:56:16.503Z"
   },
   {
    "duration": 26,
    "start_time": "2023-08-12T17:56:16.511Z"
   },
   {
    "duration": 17,
    "start_time": "2023-08-12T17:56:16.538Z"
   },
   {
    "duration": 6,
    "start_time": "2023-08-12T17:56:16.557Z"
   },
   {
    "duration": 24,
    "start_time": "2023-08-12T17:56:16.565Z"
   },
   {
    "duration": 25,
    "start_time": "2023-08-12T17:56:16.591Z"
   },
   {
    "duration": 481,
    "start_time": "2023-08-12T17:56:16.617Z"
   },
   {
    "duration": 1429,
    "start_time": "2023-08-12T17:57:50.799Z"
   },
   {
    "duration": 250,
    "start_time": "2023-08-12T17:57:52.230Z"
   },
   {
    "duration": 13,
    "start_time": "2023-08-12T17:57:52.482Z"
   },
   {
    "duration": 10,
    "start_time": "2023-08-12T17:57:52.497Z"
   },
   {
    "duration": 13,
    "start_time": "2023-08-12T17:57:52.509Z"
   },
   {
    "duration": 2,
    "start_time": "2023-08-12T17:57:52.524Z"
   },
   {
    "duration": 8,
    "start_time": "2023-08-12T17:57:52.528Z"
   },
   {
    "duration": 18,
    "start_time": "2023-08-12T17:57:52.537Z"
   },
   {
    "duration": 8,
    "start_time": "2023-08-12T17:57:52.557Z"
   },
   {
    "duration": 5,
    "start_time": "2023-08-12T17:57:52.567Z"
   },
   {
    "duration": 47,
    "start_time": "2023-08-12T17:57:52.573Z"
   },
   {
    "duration": 4,
    "start_time": "2023-08-12T17:57:52.622Z"
   },
   {
    "duration": 10,
    "start_time": "2023-08-12T17:57:52.627Z"
   },
   {
    "duration": 7,
    "start_time": "2023-08-12T17:57:52.639Z"
   },
   {
    "duration": 19,
    "start_time": "2023-08-12T17:57:52.647Z"
   },
   {
    "duration": 7,
    "start_time": "2023-08-12T17:57:52.667Z"
   },
   {
    "duration": 29,
    "start_time": "2023-08-12T17:57:52.676Z"
   },
   {
    "duration": 20,
    "start_time": "2023-08-12T17:57:52.707Z"
   },
   {
    "duration": 5,
    "start_time": "2023-08-12T17:57:52.729Z"
   },
   {
    "duration": 14,
    "start_time": "2023-08-12T17:57:52.735Z"
   },
   {
    "duration": 11,
    "start_time": "2023-08-12T17:57:52.750Z"
   },
   {
    "duration": 701,
    "start_time": "2023-08-12T17:57:52.763Z"
   },
   {
    "duration": 48,
    "start_time": "2023-08-12T17:57:53.465Z"
   },
   {
    "duration": 7,
    "start_time": "2023-08-12T17:57:53.514Z"
   },
   {
    "duration": 20,
    "start_time": "2023-08-12T17:57:53.522Z"
   },
   {
    "duration": 28,
    "start_time": "2023-08-12T17:57:53.544Z"
   },
   {
    "duration": 25,
    "start_time": "2023-08-12T17:57:53.574Z"
   },
   {
    "duration": 19,
    "start_time": "2023-08-12T17:57:53.601Z"
   },
   {
    "duration": 7,
    "start_time": "2023-08-12T17:57:53.621Z"
   },
   {
    "duration": 9,
    "start_time": "2023-08-12T17:57:53.630Z"
   },
   {
    "duration": 19,
    "start_time": "2023-08-12T17:57:53.640Z"
   },
   {
    "duration": 409,
    "start_time": "2023-08-12T17:57:53.660Z"
   },
   {
    "duration": 6,
    "start_time": "2023-08-12T17:57:54.070Z"
   },
   {
    "duration": 47,
    "start_time": "2023-08-12T17:57:54.078Z"
   },
   {
    "duration": 3,
    "start_time": "2023-08-12T17:57:54.126Z"
   },
   {
    "duration": 13,
    "start_time": "2023-08-12T17:57:54.130Z"
   },
   {
    "duration": 5,
    "start_time": "2023-08-12T17:57:54.144Z"
   },
   {
    "duration": 8,
    "start_time": "2023-08-12T17:57:54.151Z"
   },
   {
    "duration": 7,
    "start_time": "2023-08-12T17:57:54.160Z"
   },
   {
    "duration": 277,
    "start_time": "2023-08-12T17:57:54.168Z"
   },
   {
    "duration": 187,
    "start_time": "2023-08-12T17:57:54.448Z"
   },
   {
    "duration": 33,
    "start_time": "2023-08-12T17:57:54.636Z"
   },
   {
    "duration": 4,
    "start_time": "2023-08-12T17:57:54.671Z"
   },
   {
    "duration": 24,
    "start_time": "2023-08-12T17:57:54.676Z"
   },
   {
    "duration": 14,
    "start_time": "2023-08-12T17:57:54.702Z"
   },
   {
    "duration": 13,
    "start_time": "2023-08-12T17:57:54.718Z"
   },
   {
    "duration": 14,
    "start_time": "2023-08-12T17:57:54.732Z"
   },
   {
    "duration": 30,
    "start_time": "2023-08-12T18:12:04.652Z"
   },
   {
    "duration": 110,
    "start_time": "2023-08-12T18:12:15.847Z"
   },
   {
    "duration": 8,
    "start_time": "2023-08-12T18:12:21.700Z"
   },
   {
    "duration": 357,
    "start_time": "2023-08-12T18:12:25.828Z"
   },
   {
    "duration": 10,
    "start_time": "2023-08-12T18:12:38.300Z"
   },
   {
    "duration": 701,
    "start_time": "2023-08-12T18:12:50.996Z"
   },
   {
    "duration": 49,
    "start_time": "2023-08-12T18:13:23.076Z"
   },
   {
    "duration": 1359,
    "start_time": "2023-08-12T18:13:31.069Z"
   },
   {
    "duration": 27,
    "start_time": "2023-08-12T18:15:47.596Z"
   },
   {
    "duration": 16,
    "start_time": "2023-08-12T18:16:13.972Z"
   },
   {
    "duration": 12,
    "start_time": "2023-08-12T18:16:17.532Z"
   },
   {
    "duration": 22,
    "start_time": "2023-08-12T18:16:31.135Z"
   },
   {
    "duration": 1740,
    "start_time": "2023-08-12T18:18:19.957Z"
   },
   {
    "duration": 1573,
    "start_time": "2023-08-12T18:18:45.965Z"
   },
   {
    "duration": 16,
    "start_time": "2023-08-12T18:20:37.431Z"
   },
   {
    "duration": 73,
    "start_time": "2023-08-12T18:22:28.153Z"
   },
   {
    "duration": 1625,
    "start_time": "2023-08-12T18:22:34.581Z"
   },
   {
    "duration": 20,
    "start_time": "2023-08-12T18:22:47.456Z"
   },
   {
    "duration": 1542,
    "start_time": "2023-08-12T18:25:35.314Z"
   },
   {
    "duration": 214,
    "start_time": "2023-08-12T18:25:36.857Z"
   },
   {
    "duration": 15,
    "start_time": "2023-08-12T18:25:37.072Z"
   },
   {
    "duration": 17,
    "start_time": "2023-08-12T18:25:37.089Z"
   },
   {
    "duration": 18,
    "start_time": "2023-08-12T18:25:37.108Z"
   },
   {
    "duration": 3,
    "start_time": "2023-08-12T18:25:37.127Z"
   },
   {
    "duration": 9,
    "start_time": "2023-08-12T18:25:37.132Z"
   },
   {
    "duration": 31,
    "start_time": "2023-08-12T18:25:37.143Z"
   },
   {
    "duration": 27,
    "start_time": "2023-08-12T18:25:37.176Z"
   },
   {
    "duration": 5,
    "start_time": "2023-08-12T18:25:37.206Z"
   },
   {
    "duration": 26,
    "start_time": "2023-08-12T18:25:37.213Z"
   },
   {
    "duration": 6,
    "start_time": "2023-08-12T18:25:37.240Z"
   },
   {
    "duration": 8,
    "start_time": "2023-08-12T18:25:37.247Z"
   },
   {
    "duration": 47,
    "start_time": "2023-08-12T18:25:37.257Z"
   },
   {
    "duration": 21,
    "start_time": "2023-08-12T18:25:37.305Z"
   },
   {
    "duration": 8,
    "start_time": "2023-08-12T18:25:37.327Z"
   },
   {
    "duration": 7,
    "start_time": "2023-08-12T18:25:37.336Z"
   },
   {
    "duration": 15,
    "start_time": "2023-08-12T18:25:37.344Z"
   },
   {
    "duration": 8,
    "start_time": "2023-08-12T18:25:37.361Z"
   },
   {
    "duration": 30,
    "start_time": "2023-08-12T18:25:37.371Z"
   },
   {
    "duration": 13,
    "start_time": "2023-08-12T18:25:37.402Z"
   },
   {
    "duration": 869,
    "start_time": "2023-08-12T18:25:37.416Z"
   },
   {
    "duration": 43,
    "start_time": "2023-08-12T18:25:38.287Z"
   },
   {
    "duration": 10,
    "start_time": "2023-08-12T18:25:38.332Z"
   },
   {
    "duration": 24,
    "start_time": "2023-08-12T18:25:38.344Z"
   },
   {
    "duration": 49,
    "start_time": "2023-08-12T18:25:38.370Z"
   },
   {
    "duration": 6,
    "start_time": "2023-08-12T18:25:38.421Z"
   },
   {
    "duration": 28,
    "start_time": "2023-08-12T18:25:38.431Z"
   },
   {
    "duration": 8,
    "start_time": "2023-08-12T18:25:38.461Z"
   },
   {
    "duration": 14,
    "start_time": "2023-08-12T18:25:38.470Z"
   },
   {
    "duration": 27,
    "start_time": "2023-08-12T18:25:38.485Z"
   },
   {
    "duration": 406,
    "start_time": "2023-08-12T18:25:38.513Z"
   },
   {
    "duration": 7,
    "start_time": "2023-08-12T18:25:38.921Z"
   },
   {
    "duration": 41,
    "start_time": "2023-08-12T18:25:38.930Z"
   },
   {
    "duration": 3,
    "start_time": "2023-08-12T18:25:38.973Z"
   },
   {
    "duration": 52,
    "start_time": "2023-08-12T18:25:38.978Z"
   },
   {
    "duration": 9,
    "start_time": "2023-08-12T18:25:39.032Z"
   },
   {
    "duration": 17,
    "start_time": "2023-08-12T18:25:39.043Z"
   },
   {
    "duration": 8,
    "start_time": "2023-08-12T18:25:39.062Z"
   },
   {
    "duration": 255,
    "start_time": "2023-08-12T18:25:39.071Z"
   },
   {
    "duration": 209,
    "start_time": "2023-08-12T18:25:39.328Z"
   },
   {
    "duration": 39,
    "start_time": "2023-08-12T18:25:39.538Z"
   },
   {
    "duration": 4,
    "start_time": "2023-08-12T18:25:39.578Z"
   },
   {
    "duration": 22,
    "start_time": "2023-08-12T18:25:39.584Z"
   },
   {
    "duration": 17,
    "start_time": "2023-08-12T18:25:39.607Z"
   },
   {
    "duration": 15,
    "start_time": "2023-08-12T18:25:39.625Z"
   },
   {
    "duration": 111,
    "start_time": "2023-08-12T18:27:09.174Z"
   },
   {
    "duration": 463,
    "start_time": "2023-08-12T18:27:29.766Z"
   },
   {
    "duration": 13,
    "start_time": "2023-08-12T18:27:45.305Z"
   },
   {
    "duration": 1798,
    "start_time": "2023-08-13T10:20:00.847Z"
   },
   {
    "duration": 255,
    "start_time": "2023-08-13T10:20:02.647Z"
   },
   {
    "duration": 15,
    "start_time": "2023-08-13T10:20:02.904Z"
   },
   {
    "duration": 16,
    "start_time": "2023-08-13T10:20:02.920Z"
   },
   {
    "duration": 34,
    "start_time": "2023-08-13T10:20:02.938Z"
   },
   {
    "duration": 5,
    "start_time": "2023-08-13T10:20:02.973Z"
   },
   {
    "duration": 12,
    "start_time": "2023-08-13T10:20:02.979Z"
   },
   {
    "duration": 39,
    "start_time": "2023-08-13T10:20:02.992Z"
   },
   {
    "duration": 26,
    "start_time": "2023-08-13T10:20:03.033Z"
   },
   {
    "duration": 16,
    "start_time": "2023-08-13T10:20:03.061Z"
   },
   {
    "duration": 38,
    "start_time": "2023-08-13T10:20:03.079Z"
   },
   {
    "duration": 5,
    "start_time": "2023-08-13T10:20:03.119Z"
   },
   {
    "duration": 20,
    "start_time": "2023-08-13T10:20:03.126Z"
   },
   {
    "duration": 11,
    "start_time": "2023-08-13T10:20:03.149Z"
   },
   {
    "duration": 31,
    "start_time": "2023-08-13T10:20:03.161Z"
   },
   {
    "duration": 20,
    "start_time": "2023-08-13T10:20:03.194Z"
   },
   {
    "duration": 23,
    "start_time": "2023-08-13T10:20:03.216Z"
   },
   {
    "duration": 188,
    "start_time": "2023-08-13T10:20:03.241Z"
   },
   {
    "duration": 113,
    "start_time": "2023-08-13T10:20:03.430Z"
   },
   {
    "duration": 86,
    "start_time": "2023-08-13T10:20:03.545Z"
   },
   {
    "duration": 836,
    "start_time": "2023-08-13T10:20:03.634Z"
   },
   {
    "duration": 1566,
    "start_time": "2023-08-13T10:20:04.471Z"
   },
   {
    "duration": 53,
    "start_time": "2023-08-13T10:20:06.039Z"
   },
   {
    "duration": 31,
    "start_time": "2023-08-13T10:20:06.093Z"
   },
   {
    "duration": 58,
    "start_time": "2023-08-13T10:20:06.126Z"
   },
   {
    "duration": 44,
    "start_time": "2023-08-13T10:20:06.186Z"
   },
   {
    "duration": 6,
    "start_time": "2023-08-13T10:20:06.233Z"
   },
   {
    "duration": 37,
    "start_time": "2023-08-13T10:20:06.241Z"
   },
   {
    "duration": 11,
    "start_time": "2023-08-13T10:20:06.280Z"
   },
   {
    "duration": 14,
    "start_time": "2023-08-13T10:20:06.292Z"
   },
   {
    "duration": 26,
    "start_time": "2023-08-13T10:20:06.308Z"
   },
   {
    "duration": 474,
    "start_time": "2023-08-13T10:20:06.336Z"
   },
   {
    "duration": 9,
    "start_time": "2023-08-13T10:20:06.811Z"
   },
   {
    "duration": 39,
    "start_time": "2023-08-13T10:20:06.822Z"
   },
   {
    "duration": 11,
    "start_time": "2023-08-13T10:20:06.863Z"
   },
   {
    "duration": 26,
    "start_time": "2023-08-13T10:20:06.876Z"
   },
   {
    "duration": 11,
    "start_time": "2023-08-13T10:20:06.903Z"
   },
   {
    "duration": 35,
    "start_time": "2023-08-13T10:20:06.916Z"
   },
   {
    "duration": 16,
    "start_time": "2023-08-13T10:20:06.952Z"
   },
   {
    "duration": 305,
    "start_time": "2023-08-13T10:20:06.969Z"
   },
   {
    "duration": 206,
    "start_time": "2023-08-13T10:20:07.278Z"
   },
   {
    "duration": 37,
    "start_time": "2023-08-13T10:20:07.485Z"
   },
   {
    "duration": 4,
    "start_time": "2023-08-13T10:20:07.524Z"
   },
   {
    "duration": 57,
    "start_time": "2023-08-13T10:20:07.530Z"
   },
   {
    "duration": 20,
    "start_time": "2023-08-13T10:20:07.589Z"
   },
   {
    "duration": 23,
    "start_time": "2023-08-13T10:20:07.611Z"
   },
   {
    "duration": 16,
    "start_time": "2023-08-13T10:20:15.527Z"
   },
   {
    "duration": 311,
    "start_time": "2023-08-13T10:20:49.216Z"
   },
   {
    "duration": 13,
    "start_time": "2023-08-13T10:20:51.945Z"
   },
   {
    "duration": 6,
    "start_time": "2023-08-13T10:22:27.327Z"
   },
   {
    "duration": 29,
    "start_time": "2023-08-13T10:22:29.368Z"
   },
   {
    "duration": 42,
    "start_time": "2023-08-13T10:22:30.746Z"
   },
   {
    "duration": 8,
    "start_time": "2023-08-13T10:22:32.345Z"
   },
   {
    "duration": 17,
    "start_time": "2023-08-13T10:22:33.746Z"
   },
   {
    "duration": 9,
    "start_time": "2023-08-13T10:22:35.560Z"
   },
   {
    "duration": 4,
    "start_time": "2023-08-13T10:22:37.064Z"
   },
   {
    "duration": 19,
    "start_time": "2023-08-13T10:22:38.408Z"
   },
   {
    "duration": 480,
    "start_time": "2023-08-13T10:22:40.144Z"
   },
   {
    "duration": 22,
    "start_time": "2023-08-13T10:23:01.272Z"
   },
   {
    "duration": 11,
    "start_time": "2023-08-13T10:24:02.823Z"
   },
   {
    "duration": 114,
    "start_time": "2023-08-13T10:25:04.089Z"
   },
   {
    "duration": 13,
    "start_time": "2023-08-13T10:25:07.865Z"
   },
   {
    "duration": 10,
    "start_time": "2023-08-13T10:25:25.929Z"
   },
   {
    "duration": 301,
    "start_time": "2023-08-13T10:26:39.349Z"
   },
   {
    "duration": 1611,
    "start_time": "2023-08-13T10:28:11.828Z"
   },
   {
    "duration": 394,
    "start_time": "2023-08-13T10:28:13.441Z"
   },
   {
    "duration": 16,
    "start_time": "2023-08-13T10:28:13.837Z"
   },
   {
    "duration": 11,
    "start_time": "2023-08-13T10:28:13.856Z"
   },
   {
    "duration": 35,
    "start_time": "2023-08-13T10:28:13.869Z"
   },
   {
    "duration": 9,
    "start_time": "2023-08-13T10:28:13.906Z"
   },
   {
    "duration": 29,
    "start_time": "2023-08-13T10:28:13.917Z"
   },
   {
    "duration": 22,
    "start_time": "2023-08-13T10:28:13.948Z"
   },
   {
    "duration": 21,
    "start_time": "2023-08-13T10:28:13.971Z"
   },
   {
    "duration": 19,
    "start_time": "2023-08-13T10:28:13.994Z"
   },
   {
    "duration": 8,
    "start_time": "2023-08-13T10:28:14.015Z"
   },
   {
    "duration": 42,
    "start_time": "2023-08-13T10:28:14.025Z"
   },
   {
    "duration": 27,
    "start_time": "2023-08-13T10:28:14.068Z"
   },
   {
    "duration": 9,
    "start_time": "2023-08-13T10:28:14.098Z"
   },
   {
    "duration": 5,
    "start_time": "2023-08-13T10:28:14.110Z"
   },
   {
    "duration": 21,
    "start_time": "2023-08-13T10:28:14.116Z"
   },
   {
    "duration": 7,
    "start_time": "2023-08-13T10:28:14.139Z"
   },
   {
    "duration": 14,
    "start_time": "2023-08-13T10:28:14.147Z"
   },
   {
    "duration": 31,
    "start_time": "2023-08-13T10:28:14.163Z"
   },
   {
    "duration": 6,
    "start_time": "2023-08-13T10:28:14.195Z"
   },
   {
    "duration": 16,
    "start_time": "2023-08-13T10:28:14.203Z"
   },
   {
    "duration": 11,
    "start_time": "2023-08-13T10:28:14.221Z"
   },
   {
    "duration": 875,
    "start_time": "2023-08-13T10:28:14.234Z"
   },
   {
    "duration": 40,
    "start_time": "2023-08-13T10:28:15.111Z"
   },
   {
    "duration": 22,
    "start_time": "2023-08-13T10:28:15.153Z"
   },
   {
    "duration": 26,
    "start_time": "2023-08-13T10:28:15.177Z"
   },
   {
    "duration": 36,
    "start_time": "2023-08-13T10:28:15.205Z"
   },
   {
    "duration": 5,
    "start_time": "2023-08-13T10:28:15.243Z"
   },
   {
    "duration": 43,
    "start_time": "2023-08-13T10:28:15.250Z"
   },
   {
    "duration": 7,
    "start_time": "2023-08-13T10:28:15.295Z"
   },
   {
    "duration": 10,
    "start_time": "2023-08-13T10:28:15.304Z"
   },
   {
    "duration": 24,
    "start_time": "2023-08-13T10:28:15.315Z"
   },
   {
    "duration": 425,
    "start_time": "2023-08-13T10:28:15.340Z"
   },
   {
    "duration": 16,
    "start_time": "2023-08-13T10:28:15.774Z"
   },
   {
    "duration": 371,
    "start_time": "2023-08-13T10:28:15.792Z"
   },
   {
    "duration": 1159,
    "start_time": "2023-08-13T10:28:16.165Z"
   },
   {
    "duration": 3,
    "start_time": "2023-08-13T10:28:17.326Z"
   },
   {
    "duration": 15,
    "start_time": "2023-08-13T10:28:17.331Z"
   },
   {
    "duration": 143,
    "start_time": "2023-08-13T10:28:17.348Z"
   },
   {
    "duration": 0,
    "start_time": "2023-08-13T10:28:17.494Z"
   },
   {
    "duration": 0,
    "start_time": "2023-08-13T10:28:17.495Z"
   },
   {
    "duration": 0,
    "start_time": "2023-08-13T10:28:17.497Z"
   },
   {
    "duration": 0,
    "start_time": "2023-08-13T10:28:17.498Z"
   },
   {
    "duration": 0,
    "start_time": "2023-08-13T10:28:17.500Z"
   },
   {
    "duration": 0,
    "start_time": "2023-08-13T10:28:17.501Z"
   },
   {
    "duration": 0,
    "start_time": "2023-08-13T10:28:17.502Z"
   },
   {
    "duration": 0,
    "start_time": "2023-08-13T10:28:17.504Z"
   },
   {
    "duration": 0,
    "start_time": "2023-08-13T10:28:17.505Z"
   },
   {
    "duration": 0,
    "start_time": "2023-08-13T10:28:17.506Z"
   },
   {
    "duration": 0,
    "start_time": "2023-08-13T10:28:17.508Z"
   },
   {
    "duration": 0,
    "start_time": "2023-08-13T10:28:17.509Z"
   },
   {
    "duration": 1641,
    "start_time": "2023-08-13T10:28:48.555Z"
   },
   {
    "duration": 271,
    "start_time": "2023-08-13T10:28:50.199Z"
   },
   {
    "duration": 21,
    "start_time": "2023-08-13T10:28:50.472Z"
   },
   {
    "duration": 29,
    "start_time": "2023-08-13T10:28:50.495Z"
   },
   {
    "duration": 32,
    "start_time": "2023-08-13T10:28:50.527Z"
   },
   {
    "duration": 10,
    "start_time": "2023-08-13T10:28:50.561Z"
   },
   {
    "duration": 10,
    "start_time": "2023-08-13T10:28:50.573Z"
   },
   {
    "duration": 33,
    "start_time": "2023-08-13T10:28:50.584Z"
   },
   {
    "duration": 27,
    "start_time": "2023-08-13T10:28:50.619Z"
   },
   {
    "duration": 30,
    "start_time": "2023-08-13T10:28:50.647Z"
   },
   {
    "duration": 7,
    "start_time": "2023-08-13T10:28:50.678Z"
   },
   {
    "duration": 32,
    "start_time": "2023-08-13T10:28:50.687Z"
   },
   {
    "duration": 8,
    "start_time": "2023-08-13T10:28:50.721Z"
   },
   {
    "duration": 31,
    "start_time": "2023-08-13T10:28:50.732Z"
   },
   {
    "duration": 14,
    "start_time": "2023-08-13T10:28:50.765Z"
   },
   {
    "duration": 27,
    "start_time": "2023-08-13T10:28:50.781Z"
   },
   {
    "duration": 16,
    "start_time": "2023-08-13T10:28:50.810Z"
   },
   {
    "duration": 9,
    "start_time": "2023-08-13T10:28:50.827Z"
   },
   {
    "duration": 25,
    "start_time": "2023-08-13T10:28:50.838Z"
   },
   {
    "duration": 6,
    "start_time": "2023-08-13T10:28:50.864Z"
   },
   {
    "duration": 25,
    "start_time": "2023-08-13T10:28:50.874Z"
   },
   {
    "duration": 15,
    "start_time": "2023-08-13T10:28:50.901Z"
   },
   {
    "duration": 786,
    "start_time": "2023-08-13T10:28:50.917Z"
   },
   {
    "duration": 40,
    "start_time": "2023-08-13T10:28:51.705Z"
   },
   {
    "duration": 9,
    "start_time": "2023-08-13T10:28:51.747Z"
   },
   {
    "duration": 37,
    "start_time": "2023-08-13T10:28:51.758Z"
   },
   {
    "duration": 38,
    "start_time": "2023-08-13T10:28:51.798Z"
   },
   {
    "duration": 7,
    "start_time": "2023-08-13T10:28:51.838Z"
   },
   {
    "duration": 44,
    "start_time": "2023-08-13T10:28:51.847Z"
   },
   {
    "duration": 12,
    "start_time": "2023-08-13T10:28:51.893Z"
   },
   {
    "duration": 19,
    "start_time": "2023-08-13T10:28:51.907Z"
   },
   {
    "duration": 28,
    "start_time": "2023-08-13T10:28:51.927Z"
   },
   {
    "duration": 421,
    "start_time": "2023-08-13T10:28:51.956Z"
   },
   {
    "duration": 10,
    "start_time": "2023-08-13T10:28:52.379Z"
   },
   {
    "duration": 35,
    "start_time": "2023-08-13T10:28:52.391Z"
   },
   {
    "duration": 3,
    "start_time": "2023-08-13T10:28:52.428Z"
   },
   {
    "duration": 32,
    "start_time": "2023-08-13T10:28:52.432Z"
   },
   {
    "duration": 23,
    "start_time": "2023-08-13T10:28:52.466Z"
   },
   {
    "duration": 14,
    "start_time": "2023-08-13T10:28:52.491Z"
   },
   {
    "duration": 27,
    "start_time": "2023-08-13T10:28:52.507Z"
   },
   {
    "duration": 307,
    "start_time": "2023-08-13T10:28:52.537Z"
   },
   {
    "duration": 194,
    "start_time": "2023-08-13T10:28:52.846Z"
   },
   {
    "duration": 62,
    "start_time": "2023-08-13T10:28:53.042Z"
   },
   {
    "duration": 5,
    "start_time": "2023-08-13T10:28:53.105Z"
   },
   {
    "duration": 11,
    "start_time": "2023-08-13T10:28:53.111Z"
   },
   {
    "duration": 14,
    "start_time": "2023-08-13T10:28:53.124Z"
   },
   {
    "duration": 40,
    "start_time": "2023-08-13T10:28:53.140Z"
   },
   {
    "duration": 16,
    "start_time": "2023-08-13T10:28:53.181Z"
   },
   {
    "duration": 314,
    "start_time": "2023-08-13T10:28:53.198Z"
   },
   {
    "duration": 21,
    "start_time": "2023-08-13T10:28:53.514Z"
   },
   {
    "duration": 6,
    "start_time": "2023-08-13T11:14:29.925Z"
   },
   {
    "duration": 16,
    "start_time": "2023-08-13T11:15:39.686Z"
   },
   {
    "duration": 118,
    "start_time": "2023-08-13T11:15:43.117Z"
   },
   {
    "duration": 1604,
    "start_time": "2023-08-13T11:16:02.452Z"
   },
   {
    "duration": 208,
    "start_time": "2023-08-13T11:16:04.058Z"
   },
   {
    "duration": 15,
    "start_time": "2023-08-13T11:16:04.267Z"
   },
   {
    "duration": 27,
    "start_time": "2023-08-13T11:16:04.284Z"
   },
   {
    "duration": 31,
    "start_time": "2023-08-13T11:16:04.313Z"
   },
   {
    "duration": 4,
    "start_time": "2023-08-13T11:16:04.346Z"
   },
   {
    "duration": 11,
    "start_time": "2023-08-13T11:16:04.352Z"
   },
   {
    "duration": 21,
    "start_time": "2023-08-13T11:16:04.364Z"
   },
   {
    "duration": 15,
    "start_time": "2023-08-13T11:16:04.387Z"
   },
   {
    "duration": 50,
    "start_time": "2023-08-13T11:16:04.404Z"
   },
   {
    "duration": 8,
    "start_time": "2023-08-13T11:16:04.456Z"
   },
   {
    "duration": 32,
    "start_time": "2023-08-13T11:16:04.467Z"
   },
   {
    "duration": 8,
    "start_time": "2023-08-13T11:16:04.500Z"
   },
   {
    "duration": 8,
    "start_time": "2023-08-13T11:16:04.511Z"
   },
   {
    "duration": 6,
    "start_time": "2023-08-13T11:16:04.521Z"
   },
   {
    "duration": 19,
    "start_time": "2023-08-13T11:16:04.529Z"
   },
   {
    "duration": 8,
    "start_time": "2023-08-13T11:16:04.574Z"
   },
   {
    "duration": 5,
    "start_time": "2023-08-13T11:16:04.584Z"
   },
   {
    "duration": 18,
    "start_time": "2023-08-13T11:16:04.590Z"
   },
   {
    "duration": 6,
    "start_time": "2023-08-13T11:16:04.609Z"
   },
   {
    "duration": 16,
    "start_time": "2023-08-13T11:16:04.617Z"
   },
   {
    "duration": 47,
    "start_time": "2023-08-13T11:16:04.635Z"
   },
   {
    "duration": 820,
    "start_time": "2023-08-13T11:16:04.683Z"
   },
   {
    "duration": 15,
    "start_time": "2023-08-13T11:16:05.505Z"
   },
   {
    "duration": 63,
    "start_time": "2023-08-13T11:16:05.522Z"
   },
   {
    "duration": 66,
    "start_time": "2023-08-13T11:16:05.587Z"
   },
   {
    "duration": 22,
    "start_time": "2023-08-13T11:16:05.655Z"
   },
   {
    "duration": 21,
    "start_time": "2023-08-13T11:16:05.678Z"
   },
   {
    "duration": 39,
    "start_time": "2023-08-13T11:16:05.700Z"
   },
   {
    "duration": 8,
    "start_time": "2023-08-13T11:16:05.741Z"
   },
   {
    "duration": 20,
    "start_time": "2023-08-13T11:16:05.775Z"
   },
   {
    "duration": 11,
    "start_time": "2023-08-13T11:16:05.797Z"
   },
   {
    "duration": 9,
    "start_time": "2023-08-13T11:16:05.810Z"
   },
   {
    "duration": 33,
    "start_time": "2023-08-13T11:16:05.821Z"
   },
   {
    "duration": 489,
    "start_time": "2023-08-13T11:16:05.857Z"
   },
   {
    "duration": 10,
    "start_time": "2023-08-13T11:16:06.348Z"
   },
   {
    "duration": 57,
    "start_time": "2023-08-13T11:16:06.360Z"
   },
   {
    "duration": 4,
    "start_time": "2023-08-13T11:16:06.419Z"
   },
   {
    "duration": 19,
    "start_time": "2023-08-13T11:16:06.425Z"
   },
   {
    "duration": 7,
    "start_time": "2023-08-13T11:16:06.446Z"
   },
   {
    "duration": 15,
    "start_time": "2023-08-13T11:16:06.478Z"
   },
   {
    "duration": 9,
    "start_time": "2023-08-13T11:16:06.496Z"
   },
   {
    "duration": 307,
    "start_time": "2023-08-13T11:16:06.507Z"
   },
   {
    "duration": 208,
    "start_time": "2023-08-13T11:16:06.816Z"
   },
   {
    "duration": 48,
    "start_time": "2023-08-13T11:16:07.026Z"
   },
   {
    "duration": 6,
    "start_time": "2023-08-13T11:16:07.076Z"
   },
   {
    "duration": 9,
    "start_time": "2023-08-13T11:16:07.085Z"
   },
   {
    "duration": 28,
    "start_time": "2023-08-13T11:16:07.096Z"
   },
   {
    "duration": 23,
    "start_time": "2023-08-13T11:16:07.126Z"
   },
   {
    "duration": 22,
    "start_time": "2023-08-13T11:16:07.175Z"
   },
   {
    "duration": 318,
    "start_time": "2023-08-13T11:16:07.199Z"
   },
   {
    "duration": 15,
    "start_time": "2023-08-13T11:16:07.518Z"
   },
   {
    "duration": 125,
    "start_time": "2023-08-13T11:17:22.814Z"
   },
   {
    "duration": 115,
    "start_time": "2023-08-13T11:19:32.947Z"
   },
   {
    "duration": 16,
    "start_time": "2023-08-13T11:19:45.055Z"
   },
   {
    "duration": 1261,
    "start_time": "2023-08-13T11:19:57.911Z"
   },
   {
    "duration": 3,
    "start_time": "2023-08-13T11:20:15.198Z"
   },
   {
    "duration": 1772,
    "start_time": "2023-08-13T11:20:21.085Z"
   },
   {
    "duration": 234,
    "start_time": "2023-08-13T11:20:22.859Z"
   },
   {
    "duration": 17,
    "start_time": "2023-08-13T11:20:23.095Z"
   },
   {
    "duration": 12,
    "start_time": "2023-08-13T11:20:23.113Z"
   },
   {
    "duration": 21,
    "start_time": "2023-08-13T11:20:23.128Z"
   },
   {
    "duration": 28,
    "start_time": "2023-08-13T11:20:23.151Z"
   },
   {
    "duration": 11,
    "start_time": "2023-08-13T11:20:23.180Z"
   },
   {
    "duration": 20,
    "start_time": "2023-08-13T11:20:23.193Z"
   },
   {
    "duration": 29,
    "start_time": "2023-08-13T11:20:23.215Z"
   },
   {
    "duration": 21,
    "start_time": "2023-08-13T11:20:23.246Z"
   },
   {
    "duration": 8,
    "start_time": "2023-08-13T11:20:23.269Z"
   },
   {
    "duration": 34,
    "start_time": "2023-08-13T11:20:23.279Z"
   },
   {
    "duration": 6,
    "start_time": "2023-08-13T11:20:23.315Z"
   },
   {
    "duration": 19,
    "start_time": "2023-08-13T11:20:23.324Z"
   },
   {
    "duration": 6,
    "start_time": "2023-08-13T11:20:23.345Z"
   },
   {
    "duration": 44,
    "start_time": "2023-08-13T11:20:23.352Z"
   },
   {
    "duration": 9,
    "start_time": "2023-08-13T11:20:23.398Z"
   },
   {
    "duration": 25,
    "start_time": "2023-08-13T11:20:23.408Z"
   },
   {
    "duration": 22,
    "start_time": "2023-08-13T11:20:23.435Z"
   },
   {
    "duration": 5,
    "start_time": "2023-08-13T11:20:23.459Z"
   },
   {
    "duration": 27,
    "start_time": "2023-08-13T11:20:23.465Z"
   },
   {
    "duration": 21,
    "start_time": "2023-08-13T11:20:23.494Z"
   },
   {
    "duration": 901,
    "start_time": "2023-08-13T11:20:23.516Z"
   },
   {
    "duration": 13,
    "start_time": "2023-08-13T11:20:24.418Z"
   },
   {
    "duration": 76,
    "start_time": "2023-08-13T11:20:24.432Z"
   },
   {
    "duration": 67,
    "start_time": "2023-08-13T11:20:24.510Z"
   },
   {
    "duration": 6,
    "start_time": "2023-08-13T11:20:24.579Z"
   },
   {
    "duration": 42,
    "start_time": "2023-08-13T11:20:24.587Z"
   },
   {
    "duration": 70,
    "start_time": "2023-08-13T11:20:24.631Z"
   },
   {
    "duration": 8,
    "start_time": "2023-08-13T11:20:24.704Z"
   },
   {
    "duration": 62,
    "start_time": "2023-08-13T11:20:24.714Z"
   },
   {
    "duration": 8,
    "start_time": "2023-08-13T11:20:24.778Z"
   },
   {
    "duration": 16,
    "start_time": "2023-08-13T11:20:24.788Z"
   },
   {
    "duration": 48,
    "start_time": "2023-08-13T11:20:24.806Z"
   },
   {
    "duration": 431,
    "start_time": "2023-08-13T11:20:24.856Z"
   },
   {
    "duration": 8,
    "start_time": "2023-08-13T11:20:25.289Z"
   },
   {
    "duration": 53,
    "start_time": "2023-08-13T11:20:25.299Z"
   },
   {
    "duration": 3,
    "start_time": "2023-08-13T11:20:25.353Z"
   },
   {
    "duration": 25,
    "start_time": "2023-08-13T11:20:25.358Z"
   },
   {
    "duration": 28,
    "start_time": "2023-08-13T11:20:25.385Z"
   },
   {
    "duration": 19,
    "start_time": "2023-08-13T11:20:25.418Z"
   },
   {
    "duration": 10,
    "start_time": "2023-08-13T11:20:25.439Z"
   },
   {
    "duration": 286,
    "start_time": "2023-08-13T11:20:25.450Z"
   },
   {
    "duration": 204,
    "start_time": "2023-08-13T11:20:25.738Z"
   },
   {
    "duration": 44,
    "start_time": "2023-08-13T11:20:25.943Z"
   },
   {
    "duration": 4,
    "start_time": "2023-08-13T11:20:25.989Z"
   },
   {
    "duration": 18,
    "start_time": "2023-08-13T11:20:25.995Z"
   },
   {
    "duration": 14,
    "start_time": "2023-08-13T11:20:26.014Z"
   },
   {
    "duration": 20,
    "start_time": "2023-08-13T11:20:26.032Z"
   },
   {
    "duration": 31,
    "start_time": "2023-08-13T11:20:26.054Z"
   },
   {
    "duration": 18,
    "start_time": "2023-08-13T11:20:26.087Z"
   },
   {
    "duration": 17,
    "start_time": "2023-08-13T11:20:26.107Z"
   },
   {
    "duration": 62,
    "start_time": "2023-08-13T11:20:26.126Z"
   },
   {
    "duration": 46,
    "start_time": "2023-08-13T11:20:26.190Z"
   },
   {
    "duration": 10,
    "start_time": "2023-08-13T11:20:50.255Z"
   },
   {
    "duration": 18,
    "start_time": "2023-08-13T11:21:01.024Z"
   },
   {
    "duration": 17,
    "start_time": "2023-08-13T11:21:09.423Z"
   },
   {
    "duration": 5,
    "start_time": "2023-08-13T11:21:18.912Z"
   },
   {
    "duration": 48,
    "start_time": "2023-08-13T11:21:58.647Z"
   },
   {
    "duration": 18,
    "start_time": "2023-08-13T11:22:43.352Z"
   },
   {
    "duration": 14,
    "start_time": "2023-08-13T11:22:51.319Z"
   },
   {
    "duration": 6573,
    "start_time": "2023-08-13T11:23:05.328Z"
   },
   {
    "duration": 8,
    "start_time": "2023-08-13T11:23:27.943Z"
   },
   {
    "duration": 9,
    "start_time": "2023-08-13T11:23:29.503Z"
   },
   {
    "duration": 67994,
    "start_time": "2023-08-13T11:23:31.034Z"
   },
   {
    "duration": 0,
    "start_time": "2023-08-13T11:24:39.030Z"
   },
   {
    "duration": 801,
    "start_time": "2023-08-13T11:24:41.776Z"
   },
   {
    "duration": 43598,
    "start_time": "2023-08-13T11:24:45.488Z"
   },
   {
    "duration": 0,
    "start_time": "2023-08-13T11:25:29.091Z"
   },
   {
    "duration": 1580,
    "start_time": "2023-08-13T11:25:42.605Z"
   },
   {
    "duration": 251,
    "start_time": "2023-08-13T11:25:44.187Z"
   },
   {
    "duration": 21,
    "start_time": "2023-08-13T11:25:44.440Z"
   },
   {
    "duration": 24,
    "start_time": "2023-08-13T11:25:44.463Z"
   },
   {
    "duration": 35,
    "start_time": "2023-08-13T11:25:44.490Z"
   },
   {
    "duration": 8,
    "start_time": "2023-08-13T11:25:44.527Z"
   },
   {
    "duration": 9,
    "start_time": "2023-08-13T11:25:44.537Z"
   },
   {
    "duration": 52,
    "start_time": "2023-08-13T11:25:44.548Z"
   },
   {
    "duration": 25,
    "start_time": "2023-08-13T11:25:44.602Z"
   },
   {
    "duration": 33,
    "start_time": "2023-08-13T11:25:44.629Z"
   },
   {
    "duration": 13,
    "start_time": "2023-08-13T11:25:44.664Z"
   },
   {
    "duration": 37,
    "start_time": "2023-08-13T11:25:44.678Z"
   },
   {
    "duration": 9,
    "start_time": "2023-08-13T11:25:44.717Z"
   },
   {
    "duration": 25,
    "start_time": "2023-08-13T11:25:44.730Z"
   },
   {
    "duration": 24,
    "start_time": "2023-08-13T11:25:44.757Z"
   },
   {
    "duration": 36,
    "start_time": "2023-08-13T11:25:44.783Z"
   },
   {
    "duration": 8,
    "start_time": "2023-08-13T11:25:44.820Z"
   },
   {
    "duration": 14,
    "start_time": "2023-08-13T11:25:44.830Z"
   },
   {
    "duration": 40,
    "start_time": "2023-08-13T11:25:44.847Z"
   },
   {
    "duration": 6,
    "start_time": "2023-08-13T11:25:44.888Z"
   },
   {
    "duration": 20,
    "start_time": "2023-08-13T11:25:44.896Z"
   },
   {
    "duration": 20,
    "start_time": "2023-08-13T11:25:44.917Z"
   },
   {
    "duration": 868,
    "start_time": "2023-08-13T11:25:44.939Z"
   },
   {
    "duration": 13,
    "start_time": "2023-08-13T11:25:45.809Z"
   },
   {
    "duration": 62,
    "start_time": "2023-08-13T11:25:45.824Z"
   },
   {
    "duration": 63,
    "start_time": "2023-08-13T11:25:45.889Z"
   },
   {
    "duration": 23,
    "start_time": "2023-08-13T11:25:45.954Z"
   },
   {
    "duration": 25,
    "start_time": "2023-08-13T11:25:45.979Z"
   },
   {
    "duration": 47,
    "start_time": "2023-08-13T11:25:46.005Z"
   },
   {
    "duration": 22,
    "start_time": "2023-08-13T11:25:46.054Z"
   },
   {
    "duration": 20,
    "start_time": "2023-08-13T11:25:46.078Z"
   },
   {
    "duration": 16,
    "start_time": "2023-08-13T11:25:46.100Z"
   },
   {
    "duration": 9,
    "start_time": "2023-08-13T11:25:46.118Z"
   },
   {
    "duration": 45,
    "start_time": "2023-08-13T11:25:46.129Z"
   },
   {
    "duration": 427,
    "start_time": "2023-08-13T11:25:46.176Z"
   },
   {
    "duration": 14,
    "start_time": "2023-08-13T11:25:46.605Z"
   },
   {
    "duration": 70,
    "start_time": "2023-08-13T11:25:46.621Z"
   },
   {
    "duration": 3,
    "start_time": "2023-08-13T11:25:46.694Z"
   },
   {
    "duration": 42,
    "start_time": "2023-08-13T11:25:46.699Z"
   },
   {
    "duration": 18,
    "start_time": "2023-08-13T11:25:46.743Z"
   },
   {
    "duration": 16,
    "start_time": "2023-08-13T11:25:46.767Z"
   },
   {
    "duration": 13,
    "start_time": "2023-08-13T11:25:46.785Z"
   },
   {
    "duration": 325,
    "start_time": "2023-08-13T11:25:46.800Z"
   },
   {
    "duration": 257,
    "start_time": "2023-08-13T11:25:47.127Z"
   },
   {
    "duration": 46,
    "start_time": "2023-08-13T11:25:47.386Z"
   },
   {
    "duration": 6,
    "start_time": "2023-08-13T11:25:47.435Z"
   },
   {
    "duration": 33,
    "start_time": "2023-08-13T11:25:47.443Z"
   },
   {
    "duration": 27,
    "start_time": "2023-08-13T11:25:47.478Z"
   },
   {
    "duration": 22,
    "start_time": "2023-08-13T11:25:47.507Z"
   },
   {
    "duration": 43,
    "start_time": "2023-08-13T11:25:47.532Z"
   },
   {
    "duration": 2,
    "start_time": "2023-08-13T11:25:47.578Z"
   },
   {
    "duration": 27,
    "start_time": "2023-08-13T11:25:47.583Z"
   },
   {
    "duration": 71,
    "start_time": "2023-08-13T11:25:47.612Z"
   },
   {
    "duration": 5,
    "start_time": "2023-08-13T11:25:56.696Z"
   },
   {
    "duration": 141,
    "start_time": "2023-08-13T11:26:12.129Z"
   },
   {
    "duration": 12,
    "start_time": "2023-08-13T11:26:37.880Z"
   },
   {
    "duration": 12,
    "start_time": "2023-08-13T11:27:37.953Z"
   },
   {
    "duration": 51,
    "start_time": "2023-08-13T11:28:41.139Z"
   },
   {
    "duration": 20,
    "start_time": "2023-08-13T11:28:43.522Z"
   },
   {
    "duration": 9,
    "start_time": "2023-08-13T11:29:28.058Z"
   },
   {
    "duration": 593,
    "start_time": "2023-08-13T11:29:36.340Z"
   },
   {
    "duration": 0,
    "start_time": "2023-08-13T11:30:47.898Z"
   },
   {
    "duration": 533,
    "start_time": "2023-08-13T11:31:51.050Z"
   },
   {
    "duration": 1102,
    "start_time": "2023-08-13T11:32:34.380Z"
   },
   {
    "duration": 1036,
    "start_time": "2023-08-13T11:32:43.739Z"
   },
   {
    "duration": 1074,
    "start_time": "2023-08-13T11:33:02.715Z"
   },
   {
    "duration": 11,
    "start_time": "2023-08-13T11:33:13.980Z"
   },
   {
    "duration": 16,
    "start_time": "2023-08-13T11:33:27.275Z"
   },
   {
    "duration": 14,
    "start_time": "2023-08-13T11:33:32.715Z"
   },
   {
    "duration": 11,
    "start_time": "2023-08-13T11:33:40.380Z"
   },
   {
    "duration": 16,
    "start_time": "2023-08-13T11:34:14.242Z"
   },
   {
    "duration": 29,
    "start_time": "2023-08-13T11:34:20.357Z"
   },
   {
    "duration": 13,
    "start_time": "2023-08-13T11:34:40.838Z"
   },
   {
    "duration": 17,
    "start_time": "2023-08-13T11:34:47.275Z"
   },
   {
    "duration": 10,
    "start_time": "2023-08-13T11:35:05.516Z"
   },
   {
    "duration": 23,
    "start_time": "2023-08-13T11:35:21.286Z"
   },
   {
    "duration": 18,
    "start_time": "2023-08-13T11:35:37.100Z"
   },
   {
    "duration": 6,
    "start_time": "2023-08-13T11:35:57.260Z"
   },
   {
    "duration": 20,
    "start_time": "2023-08-13T11:36:08.180Z"
   },
   {
    "duration": 6,
    "start_time": "2023-08-13T11:36:25.924Z"
   },
   {
    "duration": 1764,
    "start_time": "2023-08-13T11:36:28.044Z"
   },
   {
    "duration": 31,
    "start_time": "2023-08-13T11:40:12.989Z"
   },
   {
    "duration": 118,
    "start_time": "2023-08-13T11:40:35.638Z"
   },
   {
    "duration": 40,
    "start_time": "2023-08-13T11:40:38.357Z"
   },
   {
    "duration": 399,
    "start_time": "2023-08-13T11:41:59.792Z"
   },
   {
    "duration": 37,
    "start_time": "2023-08-13T11:42:40.991Z"
   },
   {
    "duration": 28,
    "start_time": "2023-08-13T11:43:35.454Z"
   },
   {
    "duration": 1957,
    "start_time": "2023-08-13T11:44:04.109Z"
   },
   {
    "duration": 14,
    "start_time": "2023-08-13T11:44:43.541Z"
   },
   {
    "duration": 15,
    "start_time": "2023-08-13T11:45:34.688Z"
   },
   {
    "duration": 1074,
    "start_time": "2023-08-13T11:48:50.158Z"
   },
   {
    "duration": 31,
    "start_time": "2023-08-13T11:48:55.759Z"
   },
   {
    "duration": 15,
    "start_time": "2023-08-13T11:49:06.847Z"
   },
   {
    "duration": 63,
    "start_time": "2023-08-13T11:49:17.454Z"
   },
   {
    "duration": 1675,
    "start_time": "2023-08-13T11:50:29.858Z"
   },
   {
    "duration": 307,
    "start_time": "2023-08-13T11:50:31.535Z"
   },
   {
    "duration": 15,
    "start_time": "2023-08-13T11:50:31.844Z"
   },
   {
    "duration": 38,
    "start_time": "2023-08-13T11:50:31.861Z"
   },
   {
    "duration": 50,
    "start_time": "2023-08-13T11:50:31.901Z"
   },
   {
    "duration": 5,
    "start_time": "2023-08-13T11:50:31.953Z"
   },
   {
    "duration": 22,
    "start_time": "2023-08-13T11:50:31.960Z"
   },
   {
    "duration": 31,
    "start_time": "2023-08-13T11:50:31.984Z"
   },
   {
    "duration": 30,
    "start_time": "2023-08-13T11:50:32.016Z"
   },
   {
    "duration": 18,
    "start_time": "2023-08-13T11:50:32.050Z"
   },
   {
    "duration": 8,
    "start_time": "2023-08-13T11:50:32.069Z"
   },
   {
    "duration": 49,
    "start_time": "2023-08-13T11:50:32.078Z"
   },
   {
    "duration": 7,
    "start_time": "2023-08-13T11:50:32.130Z"
   },
   {
    "duration": 12,
    "start_time": "2023-08-13T11:50:32.139Z"
   },
   {
    "duration": 7,
    "start_time": "2023-08-13T11:50:32.153Z"
   },
   {
    "duration": 29,
    "start_time": "2023-08-13T11:50:32.161Z"
   },
   {
    "duration": 12,
    "start_time": "2023-08-13T11:50:32.192Z"
   },
   {
    "duration": 13,
    "start_time": "2023-08-13T11:50:32.206Z"
   },
   {
    "duration": 38,
    "start_time": "2023-08-13T11:50:32.221Z"
   },
   {
    "duration": 15,
    "start_time": "2023-08-13T11:50:32.261Z"
   },
   {
    "duration": 26,
    "start_time": "2023-08-13T11:50:32.278Z"
   },
   {
    "duration": 24,
    "start_time": "2023-08-13T11:50:32.306Z"
   },
   {
    "duration": 768,
    "start_time": "2023-08-13T11:50:32.332Z"
   },
   {
    "duration": 14,
    "start_time": "2023-08-13T11:50:33.102Z"
   },
   {
    "duration": 85,
    "start_time": "2023-08-13T11:50:33.117Z"
   },
   {
    "duration": 39,
    "start_time": "2023-08-13T11:50:33.204Z"
   },
   {
    "duration": 18,
    "start_time": "2023-08-13T11:50:33.245Z"
   },
   {
    "duration": 40,
    "start_time": "2023-08-13T11:50:33.267Z"
   },
   {
    "duration": 37,
    "start_time": "2023-08-13T11:50:33.308Z"
   },
   {
    "duration": 5,
    "start_time": "2023-08-13T11:50:33.347Z"
   },
   {
    "duration": 43,
    "start_time": "2023-08-13T11:50:33.354Z"
   },
   {
    "duration": 9,
    "start_time": "2023-08-13T11:50:33.399Z"
   },
   {
    "duration": 39,
    "start_time": "2023-08-13T11:50:33.410Z"
   },
   {
    "duration": 56,
    "start_time": "2023-08-13T11:50:33.451Z"
   },
   {
    "duration": 401,
    "start_time": "2023-08-13T11:50:33.509Z"
   },
   {
    "duration": 12,
    "start_time": "2023-08-13T11:50:33.912Z"
   },
   {
    "duration": 94,
    "start_time": "2023-08-13T11:50:33.926Z"
   },
   {
    "duration": 5,
    "start_time": "2023-08-13T11:50:34.022Z"
   },
   {
    "duration": 20,
    "start_time": "2023-08-13T11:50:34.029Z"
   },
   {
    "duration": 17,
    "start_time": "2023-08-13T11:50:34.051Z"
   },
   {
    "duration": 12,
    "start_time": "2023-08-13T11:50:34.070Z"
   },
   {
    "duration": 26,
    "start_time": "2023-08-13T11:50:34.084Z"
   },
   {
    "duration": 265,
    "start_time": "2023-08-13T11:50:34.112Z"
   },
   {
    "duration": 195,
    "start_time": "2023-08-13T11:50:34.379Z"
   },
   {
    "duration": 36,
    "start_time": "2023-08-13T11:50:34.575Z"
   },
   {
    "duration": 6,
    "start_time": "2023-08-13T11:50:34.613Z"
   },
   {
    "duration": 11,
    "start_time": "2023-08-13T11:50:34.621Z"
   },
   {
    "duration": 33,
    "start_time": "2023-08-13T11:50:34.634Z"
   },
   {
    "duration": 23,
    "start_time": "2023-08-13T11:50:34.675Z"
   },
   {
    "duration": 18,
    "start_time": "2023-08-13T11:50:34.700Z"
   },
   {
    "duration": 5,
    "start_time": "2023-08-13T11:50:34.719Z"
   },
   {
    "duration": 21,
    "start_time": "2023-08-13T11:50:34.726Z"
   },
   {
    "duration": 58,
    "start_time": "2023-08-13T11:50:34.775Z"
   },
   {
    "duration": 3,
    "start_time": "2023-08-13T11:50:34.834Z"
   },
   {
    "duration": 63,
    "start_time": "2023-08-13T11:50:34.838Z"
   },
   {
    "duration": 13,
    "start_time": "2023-08-13T11:50:34.902Z"
   },
   {
    "duration": 11,
    "start_time": "2023-08-13T11:50:34.916Z"
   },
   {
    "duration": 569,
    "start_time": "2023-08-13T11:50:34.929Z"
   },
   {
    "duration": 348,
    "start_time": "2023-08-13T11:50:35.500Z"
   },
   {
    "duration": 1027,
    "start_time": "2023-08-13T11:50:35.849Z"
   },
   {
    "duration": 12,
    "start_time": "2023-08-13T11:50:36.878Z"
   },
   {
    "duration": 21,
    "start_time": "2023-08-13T11:50:36.892Z"
   },
   {
    "duration": 61,
    "start_time": "2023-08-13T11:50:36.915Z"
   },
   {
    "duration": 24,
    "start_time": "2023-08-13T11:50:36.978Z"
   },
   {
    "duration": 42,
    "start_time": "2023-08-13T11:50:37.004Z"
   },
   {
    "duration": 27,
    "start_time": "2023-08-13T11:50:37.048Z"
   },
   {
    "duration": 50,
    "start_time": "2023-08-13T11:50:37.076Z"
   },
   {
    "duration": 19,
    "start_time": "2023-08-13T11:50:37.128Z"
   },
   {
    "duration": 973,
    "start_time": "2023-08-13T11:50:37.149Z"
   },
   {
    "duration": 23,
    "start_time": "2023-08-13T11:50:38.124Z"
   },
   {
    "duration": 125,
    "start_time": "2023-08-13T11:50:38.149Z"
   },
   {
    "duration": 82,
    "start_time": "2023-08-13T11:51:23.235Z"
   },
   {
    "duration": 1816,
    "start_time": "2023-08-13T11:52:12.957Z"
   },
   {
    "duration": 1664,
    "start_time": "2023-08-13T11:56:04.211Z"
   },
   {
    "duration": 236,
    "start_time": "2023-08-13T11:56:05.877Z"
   },
   {
    "duration": 23,
    "start_time": "2023-08-13T11:56:06.115Z"
   },
   {
    "duration": 15,
    "start_time": "2023-08-13T11:56:06.141Z"
   },
   {
    "duration": 38,
    "start_time": "2023-08-13T11:56:06.161Z"
   },
   {
    "duration": 4,
    "start_time": "2023-08-13T11:56:06.202Z"
   },
   {
    "duration": 8,
    "start_time": "2023-08-13T11:56:06.207Z"
   },
   {
    "duration": 36,
    "start_time": "2023-08-13T11:56:06.217Z"
   },
   {
    "duration": 25,
    "start_time": "2023-08-13T11:56:06.255Z"
   },
   {
    "duration": 14,
    "start_time": "2023-08-13T11:56:06.281Z"
   },
   {
    "duration": 8,
    "start_time": "2023-08-13T11:56:06.296Z"
   },
   {
    "duration": 45,
    "start_time": "2023-08-13T11:56:06.306Z"
   },
   {
    "duration": 8,
    "start_time": "2023-08-13T11:56:06.353Z"
   },
   {
    "duration": 17,
    "start_time": "2023-08-13T11:56:06.364Z"
   },
   {
    "duration": 7,
    "start_time": "2023-08-13T11:56:06.383Z"
   },
   {
    "duration": 27,
    "start_time": "2023-08-13T11:56:06.391Z"
   },
   {
    "duration": 12,
    "start_time": "2023-08-13T11:56:06.420Z"
   },
   {
    "duration": 18,
    "start_time": "2023-08-13T11:56:06.434Z"
   },
   {
    "duration": 23,
    "start_time": "2023-08-13T11:56:06.453Z"
   },
   {
    "duration": 6,
    "start_time": "2023-08-13T11:56:06.478Z"
   },
   {
    "duration": 30,
    "start_time": "2023-08-13T11:56:06.486Z"
   },
   {
    "duration": 13,
    "start_time": "2023-08-13T11:56:06.518Z"
   },
   {
    "duration": 836,
    "start_time": "2023-08-13T11:56:06.533Z"
   },
   {
    "duration": 15,
    "start_time": "2023-08-13T11:56:07.370Z"
   },
   {
    "duration": 48,
    "start_time": "2023-08-13T11:56:07.387Z"
   },
   {
    "duration": 58,
    "start_time": "2023-08-13T11:56:07.436Z"
   },
   {
    "duration": 6,
    "start_time": "2023-08-13T11:56:07.496Z"
   },
   {
    "duration": 47,
    "start_time": "2023-08-13T11:56:07.504Z"
   },
   {
    "duration": 54,
    "start_time": "2023-08-13T11:56:07.553Z"
   },
   {
    "duration": 8,
    "start_time": "2023-08-13T11:56:07.610Z"
   },
   {
    "duration": 39,
    "start_time": "2023-08-13T11:56:07.620Z"
   },
   {
    "duration": 15,
    "start_time": "2023-08-13T11:56:07.661Z"
   },
   {
    "duration": 18,
    "start_time": "2023-08-13T11:56:07.678Z"
   },
   {
    "duration": 27,
    "start_time": "2023-08-13T11:56:07.698Z"
   },
   {
    "duration": 489,
    "start_time": "2023-08-13T11:56:07.727Z"
   },
   {
    "duration": 11,
    "start_time": "2023-08-13T11:56:08.219Z"
   },
   {
    "duration": 67,
    "start_time": "2023-08-13T11:56:08.232Z"
   },
   {
    "duration": 4,
    "start_time": "2023-08-13T11:56:08.301Z"
   },
   {
    "duration": 14,
    "start_time": "2023-08-13T11:56:08.307Z"
   },
   {
    "duration": 9,
    "start_time": "2023-08-13T11:56:08.322Z"
   },
   {
    "duration": 36,
    "start_time": "2023-08-13T11:56:08.338Z"
   },
   {
    "duration": 10,
    "start_time": "2023-08-13T11:56:08.376Z"
   },
   {
    "duration": 316,
    "start_time": "2023-08-13T11:56:08.388Z"
   },
   {
    "duration": 211,
    "start_time": "2023-08-13T11:56:08.705Z"
   },
   {
    "duration": 57,
    "start_time": "2023-08-13T11:56:08.918Z"
   },
   {
    "duration": 5,
    "start_time": "2023-08-13T11:56:08.978Z"
   },
   {
    "duration": 8,
    "start_time": "2023-08-13T11:56:08.985Z"
   },
   {
    "duration": 17,
    "start_time": "2023-08-13T11:56:08.994Z"
   },
   {
    "duration": 15,
    "start_time": "2023-08-13T11:56:09.013Z"
   },
   {
    "duration": 46,
    "start_time": "2023-08-13T11:56:09.030Z"
   },
   {
    "duration": 3,
    "start_time": "2023-08-13T11:56:09.078Z"
   },
   {
    "duration": 17,
    "start_time": "2023-08-13T11:56:09.083Z"
   },
   {
    "duration": 55,
    "start_time": "2023-08-13T11:56:09.102Z"
   },
   {
    "duration": 3,
    "start_time": "2023-08-13T11:56:09.176Z"
   },
   {
    "duration": 58,
    "start_time": "2023-08-13T11:56:09.181Z"
   },
   {
    "duration": 12,
    "start_time": "2023-08-13T11:56:09.241Z"
   },
   {
    "duration": 10,
    "start_time": "2023-08-13T11:56:09.274Z"
   },
   {
    "duration": 566,
    "start_time": "2023-08-13T11:56:09.285Z"
   },
   {
    "duration": 318,
    "start_time": "2023-08-13T11:56:09.852Z"
   },
   {
    "duration": 904,
    "start_time": "2023-08-13T11:56:10.174Z"
   },
   {
    "duration": 15,
    "start_time": "2023-08-13T11:56:11.080Z"
   },
   {
    "duration": 25,
    "start_time": "2023-08-13T11:56:11.097Z"
   },
   {
    "duration": 37,
    "start_time": "2023-08-13T11:56:11.124Z"
   },
   {
    "duration": 1042,
    "start_time": "2023-08-13T11:56:11.175Z"
   },
   {
    "duration": 15,
    "start_time": "2023-08-13T11:56:12.219Z"
   },
   {
    "duration": 727,
    "start_time": "2023-08-13T11:56:12.235Z"
   },
   {
    "duration": 122,
    "start_time": "2023-08-13T11:56:12.964Z"
   },
   {
    "duration": 0,
    "start_time": "2023-08-13T11:56:13.088Z"
   },
   {
    "duration": 0,
    "start_time": "2023-08-13T11:56:13.089Z"
   },
   {
    "duration": 0,
    "start_time": "2023-08-13T11:56:13.090Z"
   },
   {
    "duration": 0,
    "start_time": "2023-08-13T11:56:13.091Z"
   },
   {
    "duration": 563,
    "start_time": "2023-08-13T11:57:14.837Z"
   },
   {
    "duration": 7,
    "start_time": "2023-08-13T11:57:31.862Z"
   },
   {
    "duration": 1821,
    "start_time": "2023-08-13T11:57:33.862Z"
   },
   {
    "duration": 1718,
    "start_time": "2023-08-13T11:57:37.854Z"
   },
   {
    "duration": 44,
    "start_time": "2023-08-13T11:58:05.358Z"
   },
   {
    "duration": 825,
    "start_time": "2023-08-13T11:58:07.537Z"
   },
   {
    "duration": 559,
    "start_time": "2023-08-13T11:58:09.241Z"
   },
   {
    "duration": 431,
    "start_time": "2023-08-13T11:58:17.295Z"
   },
   {
    "duration": 878,
    "start_time": "2023-08-13T11:58:42.446Z"
   },
   {
    "duration": 339,
    "start_time": "2023-08-13T11:58:54.871Z"
   },
   {
    "duration": 391,
    "start_time": "2023-08-13T11:59:14.134Z"
   },
   {
    "duration": 470,
    "start_time": "2023-08-13T11:59:16.174Z"
   },
   {
    "duration": 467,
    "start_time": "2023-08-13T11:59:18.199Z"
   },
   {
    "duration": 1764,
    "start_time": "2023-08-13T11:59:53.191Z"
   },
   {
    "duration": 470,
    "start_time": "2023-08-13T12:00:02.062Z"
   },
   {
    "duration": 457,
    "start_time": "2023-08-13T12:00:14.663Z"
   },
   {
    "duration": 723,
    "start_time": "2023-08-13T12:00:17.279Z"
   },
   {
    "duration": 657,
    "start_time": "2023-08-13T12:00:19.637Z"
   },
   {
    "duration": 25,
    "start_time": "2023-08-13T12:13:16.259Z"
   },
   {
    "duration": 12,
    "start_time": "2023-08-13T12:13:28.789Z"
   },
   {
    "duration": 12,
    "start_time": "2023-08-13T12:13:47.700Z"
   },
   {
    "duration": 35,
    "start_time": "2023-08-13T12:14:06.405Z"
   },
   {
    "duration": 45,
    "start_time": "2023-08-13T12:14:17.584Z"
   },
   {
    "duration": 11,
    "start_time": "2023-08-13T12:14:24.508Z"
   },
   {
    "duration": 36,
    "start_time": "2023-08-13T12:14:31.495Z"
   },
   {
    "duration": 118,
    "start_time": "2023-08-13T12:15:23.107Z"
   },
   {
    "duration": 30,
    "start_time": "2023-08-13T12:15:54.195Z"
   },
   {
    "duration": 18,
    "start_time": "2023-08-13T12:16:56.037Z"
   },
   {
    "duration": 43,
    "start_time": "2023-08-13T12:17:03.420Z"
   },
   {
    "duration": 34,
    "start_time": "2023-08-13T12:17:55.985Z"
   },
   {
    "duration": 49,
    "start_time": "2023-08-13T12:18:56.936Z"
   },
   {
    "duration": 1647,
    "start_time": "2023-08-13T12:19:04.605Z"
   },
   {
    "duration": 364,
    "start_time": "2023-08-13T12:19:06.254Z"
   },
   {
    "duration": 20,
    "start_time": "2023-08-13T12:19:06.620Z"
   },
   {
    "duration": 23,
    "start_time": "2023-08-13T12:19:06.642Z"
   },
   {
    "duration": 31,
    "start_time": "2023-08-13T12:19:06.675Z"
   },
   {
    "duration": 26,
    "start_time": "2023-08-13T12:19:06.708Z"
   },
   {
    "duration": 11,
    "start_time": "2023-08-13T12:19:06.736Z"
   },
   {
    "duration": 30,
    "start_time": "2023-08-13T12:19:06.750Z"
   },
   {
    "duration": 17,
    "start_time": "2023-08-13T12:19:06.782Z"
   },
   {
    "duration": 20,
    "start_time": "2023-08-13T12:19:06.801Z"
   },
   {
    "duration": 11,
    "start_time": "2023-08-13T12:19:06.824Z"
   },
   {
    "duration": 56,
    "start_time": "2023-08-13T12:19:06.837Z"
   },
   {
    "duration": 9,
    "start_time": "2023-08-13T12:19:06.895Z"
   },
   {
    "duration": 15,
    "start_time": "2023-08-13T12:19:06.909Z"
   },
   {
    "duration": 16,
    "start_time": "2023-08-13T12:19:06.926Z"
   },
   {
    "duration": 51,
    "start_time": "2023-08-13T12:19:06.945Z"
   },
   {
    "duration": 11,
    "start_time": "2023-08-13T12:19:06.999Z"
   },
   {
    "duration": 35,
    "start_time": "2023-08-13T12:19:07.011Z"
   },
   {
    "duration": 37,
    "start_time": "2023-08-13T12:19:07.048Z"
   },
   {
    "duration": 7,
    "start_time": "2023-08-13T12:19:07.087Z"
   },
   {
    "duration": 32,
    "start_time": "2023-08-13T12:19:07.096Z"
   },
   {
    "duration": 62,
    "start_time": "2023-08-13T12:19:07.131Z"
   },
   {
    "duration": 1335,
    "start_time": "2023-08-13T12:19:07.194Z"
   },
   {
    "duration": 16,
    "start_time": "2023-08-13T12:19:08.531Z"
   },
   {
    "duration": 87,
    "start_time": "2023-08-13T12:19:08.549Z"
   },
   {
    "duration": 67,
    "start_time": "2023-08-13T12:19:08.638Z"
   },
   {
    "duration": 9,
    "start_time": "2023-08-13T12:19:08.706Z"
   },
   {
    "duration": 35,
    "start_time": "2023-08-13T12:19:08.717Z"
   },
   {
    "duration": 56,
    "start_time": "2023-08-13T12:19:08.755Z"
   },
   {
    "duration": 9,
    "start_time": "2023-08-13T12:19:08.813Z"
   },
   {
    "duration": 28,
    "start_time": "2023-08-13T12:19:08.824Z"
   },
   {
    "duration": 28,
    "start_time": "2023-08-13T12:19:08.854Z"
   },
   {
    "duration": 5,
    "start_time": "2023-08-13T12:19:08.884Z"
   },
   {
    "duration": 43,
    "start_time": "2023-08-13T12:19:08.890Z"
   },
   {
    "duration": 554,
    "start_time": "2023-08-13T12:19:08.935Z"
   },
   {
    "duration": 12,
    "start_time": "2023-08-13T12:19:09.491Z"
   },
   {
    "duration": 50,
    "start_time": "2023-08-13T12:19:09.504Z"
   },
   {
    "duration": 19,
    "start_time": "2023-08-13T12:19:09.556Z"
   },
   {
    "duration": 16,
    "start_time": "2023-08-13T12:19:09.577Z"
   },
   {
    "duration": 16,
    "start_time": "2023-08-13T12:19:09.595Z"
   },
   {
    "duration": 19,
    "start_time": "2023-08-13T12:19:09.619Z"
   },
   {
    "duration": 12,
    "start_time": "2023-08-13T12:19:09.641Z"
   },
   {
    "duration": 340,
    "start_time": "2023-08-13T12:19:09.676Z"
   },
   {
    "duration": 273,
    "start_time": "2023-08-13T12:19:10.018Z"
   },
   {
    "duration": 60,
    "start_time": "2023-08-13T12:19:10.293Z"
   },
   {
    "duration": 79,
    "start_time": "2023-08-13T12:19:10.355Z"
   },
   {
    "duration": 30,
    "start_time": "2023-08-13T12:19:10.437Z"
   },
   {
    "duration": 56,
    "start_time": "2023-08-13T12:19:10.470Z"
   },
   {
    "duration": 31,
    "start_time": "2023-08-13T12:19:10.529Z"
   },
   {
    "duration": 23,
    "start_time": "2023-08-13T12:19:10.563Z"
   },
   {
    "duration": 12,
    "start_time": "2023-08-13T12:19:10.589Z"
   },
   {
    "duration": 35,
    "start_time": "2023-08-13T12:19:10.604Z"
   },
   {
    "duration": 77,
    "start_time": "2023-08-13T12:19:10.642Z"
   },
   {
    "duration": 11,
    "start_time": "2023-08-13T12:19:10.722Z"
   },
   {
    "duration": 113,
    "start_time": "2023-08-13T12:19:10.735Z"
   },
   {
    "duration": 17,
    "start_time": "2023-08-13T12:19:10.851Z"
   },
   {
    "duration": 12,
    "start_time": "2023-08-13T12:19:10.876Z"
   },
   {
    "duration": 878,
    "start_time": "2023-08-13T12:19:10.891Z"
   },
   {
    "duration": 427,
    "start_time": "2023-08-13T12:19:11.777Z"
   },
   {
    "duration": 1280,
    "start_time": "2023-08-13T12:19:12.206Z"
   },
   {
    "duration": 13,
    "start_time": "2023-08-13T12:19:13.489Z"
   },
   {
    "duration": 55,
    "start_time": "2023-08-13T12:19:13.504Z"
   },
   {
    "duration": 45,
    "start_time": "2023-08-13T12:19:13.563Z"
   },
   {
    "duration": 78,
    "start_time": "2023-08-13T12:19:13.610Z"
   },
   {
    "duration": 19,
    "start_time": "2023-08-13T12:19:13.690Z"
   },
   {
    "duration": 34,
    "start_time": "2023-08-13T12:19:13.712Z"
   },
   {
    "duration": 185,
    "start_time": "2023-08-13T12:19:13.749Z"
   },
   {
    "duration": 0,
    "start_time": "2023-08-13T12:19:13.936Z"
   },
   {
    "duration": 0,
    "start_time": "2023-08-13T12:19:13.937Z"
   },
   {
    "duration": 0,
    "start_time": "2023-08-13T12:19:13.938Z"
   },
   {
    "duration": 0,
    "start_time": "2023-08-13T12:19:13.939Z"
   },
   {
    "duration": 0,
    "start_time": "2023-08-13T12:19:13.942Z"
   },
   {
    "duration": 0,
    "start_time": "2023-08-13T12:19:13.943Z"
   },
   {
    "duration": 0,
    "start_time": "2023-08-13T12:19:13.944Z"
   },
   {
    "duration": 0,
    "start_time": "2023-08-13T12:19:13.945Z"
   },
   {
    "duration": 0,
    "start_time": "2023-08-13T12:19:13.946Z"
   },
   {
    "duration": 0,
    "start_time": "2023-08-13T12:19:13.950Z"
   },
   {
    "duration": 0,
    "start_time": "2023-08-13T12:19:13.952Z"
   },
   {
    "duration": 0,
    "start_time": "2023-08-13T12:19:13.980Z"
   },
   {
    "duration": 0,
    "start_time": "2023-08-13T12:19:13.983Z"
   },
   {
    "duration": 0,
    "start_time": "2023-08-13T12:19:13.985Z"
   },
   {
    "duration": 44,
    "start_time": "2023-08-13T12:19:31.607Z"
   },
   {
    "duration": 86,
    "start_time": "2023-08-13T12:19:50.112Z"
   },
   {
    "duration": 33,
    "start_time": "2023-08-13T12:19:55.316Z"
   },
   {
    "duration": 383,
    "start_time": "2023-08-13T12:19:56.630Z"
   },
   {
    "duration": 421,
    "start_time": "2023-08-13T12:19:59.121Z"
   },
   {
    "duration": 492,
    "start_time": "2023-08-13T12:20:01.257Z"
   },
   {
    "duration": 432,
    "start_time": "2023-08-13T12:20:03.128Z"
   },
   {
    "duration": 400,
    "start_time": "2023-08-13T12:20:05.693Z"
   },
   {
    "duration": 420,
    "start_time": "2023-08-13T12:20:07.424Z"
   },
   {
    "duration": 25,
    "start_time": "2023-08-13T12:20:12.171Z"
   },
   {
    "duration": 8,
    "start_time": "2023-08-13T12:20:13.712Z"
   },
   {
    "duration": 9,
    "start_time": "2023-08-13T12:20:15.263Z"
   },
   {
    "duration": 74,
    "start_time": "2023-08-13T12:20:16.728Z"
   },
   {
    "duration": 54,
    "start_time": "2023-08-13T12:20:17.915Z"
   },
   {
    "duration": 60,
    "start_time": "2023-08-13T12:20:19.153Z"
   },
   {
    "duration": 110,
    "start_time": "2023-08-13T12:21:19.491Z"
   },
   {
    "duration": 107,
    "start_time": "2023-08-13T12:21:26.656Z"
   },
   {
    "duration": 5,
    "start_time": "2023-08-13T12:24:53.859Z"
   },
   {
    "duration": 35,
    "start_time": "2023-08-13T12:26:45.858Z"
   },
   {
    "duration": 38,
    "start_time": "2023-08-13T12:27:17.295Z"
   },
   {
    "duration": 61,
    "start_time": "2023-08-13T12:29:08.417Z"
   },
   {
    "duration": 55,
    "start_time": "2023-08-13T12:29:23.476Z"
   },
   {
    "duration": 54,
    "start_time": "2023-08-13T12:29:31.284Z"
   },
   {
    "duration": 3,
    "start_time": "2023-08-13T12:30:35.091Z"
   },
   {
    "duration": 39,
    "start_time": "2023-08-13T12:30:36.484Z"
   },
   {
    "duration": 1582,
    "start_time": "2023-08-13T12:31:15.163Z"
   },
   {
    "duration": 436,
    "start_time": "2023-08-13T12:31:16.747Z"
   },
   {
    "duration": 18,
    "start_time": "2023-08-13T12:31:17.185Z"
   },
   {
    "duration": 12,
    "start_time": "2023-08-13T12:31:17.205Z"
   },
   {
    "duration": 52,
    "start_time": "2023-08-13T12:31:17.219Z"
   },
   {
    "duration": 12,
    "start_time": "2023-08-13T12:31:17.272Z"
   },
   {
    "duration": 6,
    "start_time": "2023-08-13T12:31:17.286Z"
   },
   {
    "duration": 27,
    "start_time": "2023-08-13T12:31:17.294Z"
   },
   {
    "duration": 18,
    "start_time": "2023-08-13T12:31:17.322Z"
   },
   {
    "duration": 15,
    "start_time": "2023-08-13T12:31:17.343Z"
   },
   {
    "duration": 6,
    "start_time": "2023-08-13T12:31:17.359Z"
   },
   {
    "duration": 28,
    "start_time": "2023-08-13T12:31:17.367Z"
   },
   {
    "duration": 6,
    "start_time": "2023-08-13T12:31:17.396Z"
   },
   {
    "duration": 13,
    "start_time": "2023-08-13T12:31:17.403Z"
   },
   {
    "duration": 12,
    "start_time": "2023-08-13T12:31:17.417Z"
   },
   {
    "duration": 25,
    "start_time": "2023-08-13T12:31:17.431Z"
   },
   {
    "duration": 17,
    "start_time": "2023-08-13T12:31:17.458Z"
   },
   {
    "duration": 4,
    "start_time": "2023-08-13T12:31:17.476Z"
   },
   {
    "duration": 31,
    "start_time": "2023-08-13T12:31:17.481Z"
   },
   {
    "duration": 5,
    "start_time": "2023-08-13T12:31:17.514Z"
   },
   {
    "duration": 38,
    "start_time": "2023-08-13T12:31:17.520Z"
   },
   {
    "duration": 12,
    "start_time": "2023-08-13T12:31:17.560Z"
   },
   {
    "duration": 791,
    "start_time": "2023-08-13T12:31:17.573Z"
   },
   {
    "duration": 13,
    "start_time": "2023-08-13T12:31:18.366Z"
   },
   {
    "duration": 49,
    "start_time": "2023-08-13T12:31:18.380Z"
   },
   {
    "duration": 49,
    "start_time": "2023-08-13T12:31:18.431Z"
   },
   {
    "duration": 6,
    "start_time": "2023-08-13T12:31:18.481Z"
   },
   {
    "duration": 22,
    "start_time": "2023-08-13T12:31:18.491Z"
   },
   {
    "duration": 35,
    "start_time": "2023-08-13T12:31:18.514Z"
   },
   {
    "duration": 27,
    "start_time": "2023-08-13T12:31:18.551Z"
   },
   {
    "duration": 18,
    "start_time": "2023-08-13T12:31:18.579Z"
   },
   {
    "duration": 7,
    "start_time": "2023-08-13T12:31:18.599Z"
   },
   {
    "duration": 8,
    "start_time": "2023-08-13T12:31:18.607Z"
   },
   {
    "duration": 20,
    "start_time": "2023-08-13T12:31:18.616Z"
   },
   {
    "duration": 430,
    "start_time": "2023-08-13T12:31:18.638Z"
   },
   {
    "duration": 9,
    "start_time": "2023-08-13T12:31:19.070Z"
   },
   {
    "duration": 32,
    "start_time": "2023-08-13T12:31:19.081Z"
   },
   {
    "duration": 2,
    "start_time": "2023-08-13T12:31:19.115Z"
   },
   {
    "duration": 15,
    "start_time": "2023-08-13T12:31:19.119Z"
   },
   {
    "duration": 17,
    "start_time": "2023-08-13T12:31:19.135Z"
   },
   {
    "duration": 29,
    "start_time": "2023-08-13T12:31:19.153Z"
   },
   {
    "duration": 8,
    "start_time": "2023-08-13T12:31:19.183Z"
   },
   {
    "duration": 287,
    "start_time": "2023-08-13T12:31:19.192Z"
   },
   {
    "duration": 207,
    "start_time": "2023-08-13T12:31:19.481Z"
   },
   {
    "duration": 35,
    "start_time": "2023-08-13T12:31:19.689Z"
   },
   {
    "duration": 4,
    "start_time": "2023-08-13T12:31:19.726Z"
   },
   {
    "duration": 10,
    "start_time": "2023-08-13T12:31:19.732Z"
   },
   {
    "duration": 43,
    "start_time": "2023-08-13T12:31:19.745Z"
   },
   {
    "duration": 16,
    "start_time": "2023-08-13T12:31:19.790Z"
   },
   {
    "duration": 16,
    "start_time": "2023-08-13T12:31:19.807Z"
   },
   {
    "duration": 6,
    "start_time": "2023-08-13T12:31:19.824Z"
   },
   {
    "duration": 38,
    "start_time": "2023-08-13T12:31:19.832Z"
   },
   {
    "duration": 60,
    "start_time": "2023-08-13T12:31:19.871Z"
   },
   {
    "duration": 2,
    "start_time": "2023-08-13T12:31:19.933Z"
   },
   {
    "duration": 73,
    "start_time": "2023-08-13T12:31:19.937Z"
   },
   {
    "duration": 12,
    "start_time": "2023-08-13T12:31:20.012Z"
   },
   {
    "duration": 27,
    "start_time": "2023-08-13T12:31:20.025Z"
   },
   {
    "duration": 652,
    "start_time": "2023-08-13T12:31:20.054Z"
   },
   {
    "duration": 326,
    "start_time": "2023-08-13T12:31:20.708Z"
   },
   {
    "duration": 1040,
    "start_time": "2023-08-13T12:31:21.036Z"
   },
   {
    "duration": 11,
    "start_time": "2023-08-13T12:31:22.077Z"
   },
   {
    "duration": 35,
    "start_time": "2023-08-13T12:31:22.090Z"
   },
   {
    "duration": 41,
    "start_time": "2023-08-13T12:31:22.127Z"
   },
   {
    "duration": 48,
    "start_time": "2023-08-13T12:31:22.175Z"
   },
   {
    "duration": 14,
    "start_time": "2023-08-13T12:31:22.225Z"
   },
   {
    "duration": 35,
    "start_time": "2023-08-13T12:31:22.241Z"
   },
   {
    "duration": 30,
    "start_time": "2023-08-13T12:31:22.278Z"
   },
   {
    "duration": 101,
    "start_time": "2023-08-13T12:31:22.310Z"
   },
   {
    "duration": 33,
    "start_time": "2023-08-13T12:31:22.413Z"
   },
   {
    "duration": 390,
    "start_time": "2023-08-13T12:31:22.449Z"
   },
   {
    "duration": 398,
    "start_time": "2023-08-13T12:31:22.841Z"
   },
   {
    "duration": 459,
    "start_time": "2023-08-13T12:31:23.242Z"
   },
   {
    "duration": 401,
    "start_time": "2023-08-13T12:31:23.703Z"
   },
   {
    "duration": 397,
    "start_time": "2023-08-13T12:31:24.106Z"
   },
   {
    "duration": 429,
    "start_time": "2023-08-13T12:31:24.504Z"
   },
   {
    "duration": 39,
    "start_time": "2023-08-13T12:31:24.935Z"
   },
   {
    "duration": 4,
    "start_time": "2023-08-13T12:31:24.976Z"
   },
   {
    "duration": 82,
    "start_time": "2023-08-13T12:31:24.981Z"
   },
   {
    "duration": 7,
    "start_time": "2023-08-13T12:33:42.752Z"
   },
   {
    "duration": 904,
    "start_time": "2023-08-13T12:34:06.353Z"
   },
   {
    "duration": 1547,
    "start_time": "2023-08-13T12:41:15.078Z"
   },
   {
    "duration": 336,
    "start_time": "2023-08-13T12:41:16.626Z"
   },
   {
    "duration": 15,
    "start_time": "2023-08-13T12:41:16.964Z"
   },
   {
    "duration": 13,
    "start_time": "2023-08-13T12:41:16.981Z"
   },
   {
    "duration": 21,
    "start_time": "2023-08-13T12:41:16.996Z"
   },
   {
    "duration": 3,
    "start_time": "2023-08-13T12:41:17.019Z"
   },
   {
    "duration": 11,
    "start_time": "2023-08-13T12:41:17.024Z"
   },
   {
    "duration": 33,
    "start_time": "2023-08-13T12:41:17.037Z"
   },
   {
    "duration": 19,
    "start_time": "2023-08-13T12:41:17.071Z"
   },
   {
    "duration": 20,
    "start_time": "2023-08-13T12:41:17.092Z"
   },
   {
    "duration": 6,
    "start_time": "2023-08-13T12:41:17.113Z"
   },
   {
    "duration": 31,
    "start_time": "2023-08-13T12:41:17.121Z"
   },
   {
    "duration": 5,
    "start_time": "2023-08-13T12:41:17.154Z"
   },
   {
    "duration": 13,
    "start_time": "2023-08-13T12:41:17.162Z"
   },
   {
    "duration": 6,
    "start_time": "2023-08-13T12:41:17.177Z"
   },
   {
    "duration": 32,
    "start_time": "2023-08-13T12:41:17.184Z"
   },
   {
    "duration": 7,
    "start_time": "2023-08-13T12:41:17.218Z"
   },
   {
    "duration": 7,
    "start_time": "2023-08-13T12:41:17.227Z"
   },
   {
    "duration": 13,
    "start_time": "2023-08-13T12:41:17.236Z"
   },
   {
    "duration": 25,
    "start_time": "2023-08-13T12:41:17.250Z"
   },
   {
    "duration": 15,
    "start_time": "2023-08-13T12:41:17.276Z"
   },
   {
    "duration": 17,
    "start_time": "2023-08-13T12:41:17.292Z"
   },
   {
    "duration": 844,
    "start_time": "2023-08-13T12:41:17.310Z"
   },
   {
    "duration": 12,
    "start_time": "2023-08-13T12:41:18.156Z"
   },
   {
    "duration": 49,
    "start_time": "2023-08-13T12:41:18.174Z"
   },
   {
    "duration": 50,
    "start_time": "2023-08-13T12:41:18.225Z"
   },
   {
    "duration": 7,
    "start_time": "2023-08-13T12:41:18.277Z"
   },
   {
    "duration": 24,
    "start_time": "2023-08-13T12:41:18.286Z"
   },
   {
    "duration": 36,
    "start_time": "2023-08-13T12:41:18.312Z"
   },
   {
    "duration": 29,
    "start_time": "2023-08-13T12:41:18.350Z"
   },
   {
    "duration": 19,
    "start_time": "2023-08-13T12:41:18.381Z"
   },
   {
    "duration": 8,
    "start_time": "2023-08-13T12:41:18.402Z"
   },
   {
    "duration": 6,
    "start_time": "2023-08-13T12:41:18.412Z"
   },
   {
    "duration": 22,
    "start_time": "2023-08-13T12:41:18.420Z"
   },
   {
    "duration": 433,
    "start_time": "2023-08-13T12:41:18.444Z"
   },
   {
    "duration": 11,
    "start_time": "2023-08-13T12:41:18.879Z"
   },
   {
    "duration": 54,
    "start_time": "2023-08-13T12:41:18.892Z"
   },
   {
    "duration": 3,
    "start_time": "2023-08-13T12:41:18.948Z"
   },
   {
    "duration": 34,
    "start_time": "2023-08-13T12:41:18.952Z"
   },
   {
    "duration": 24,
    "start_time": "2023-08-13T12:41:18.987Z"
   },
   {
    "duration": 35,
    "start_time": "2023-08-13T12:41:19.015Z"
   },
   {
    "duration": 36,
    "start_time": "2023-08-13T12:41:19.051Z"
   },
   {
    "duration": 283,
    "start_time": "2023-08-13T12:41:19.089Z"
   },
   {
    "duration": 194,
    "start_time": "2023-08-13T12:41:19.374Z"
   },
   {
    "duration": 35,
    "start_time": "2023-08-13T12:41:19.570Z"
   },
   {
    "duration": 4,
    "start_time": "2023-08-13T12:41:19.607Z"
   },
   {
    "duration": 12,
    "start_time": "2023-08-13T12:41:19.612Z"
   },
   {
    "duration": 13,
    "start_time": "2023-08-13T12:41:19.625Z"
   },
   {
    "duration": 35,
    "start_time": "2023-08-13T12:41:19.640Z"
   },
   {
    "duration": 14,
    "start_time": "2023-08-13T12:41:19.676Z"
   },
   {
    "duration": 2,
    "start_time": "2023-08-13T12:41:19.692Z"
   },
   {
    "duration": 23,
    "start_time": "2023-08-13T12:41:19.695Z"
   },
   {
    "duration": 57,
    "start_time": "2023-08-13T12:41:19.719Z"
   },
   {
    "duration": 1,
    "start_time": "2023-08-13T12:41:19.778Z"
   },
   {
    "duration": 47,
    "start_time": "2023-08-13T12:41:19.781Z"
   },
   {
    "duration": 11,
    "start_time": "2023-08-13T12:41:19.829Z"
   },
   {
    "duration": 938,
    "start_time": "2023-08-13T12:41:19.841Z"
   },
   {
    "duration": 997,
    "start_time": "2023-08-13T12:41:20.780Z"
   },
   {
    "duration": 11,
    "start_time": "2023-08-13T12:41:21.778Z"
   },
   {
    "duration": 16,
    "start_time": "2023-08-13T12:41:21.790Z"
   },
   {
    "duration": 25,
    "start_time": "2023-08-13T12:41:21.808Z"
   },
   {
    "duration": 74,
    "start_time": "2023-08-13T12:41:21.835Z"
   },
   {
    "duration": 15,
    "start_time": "2023-08-13T12:41:21.911Z"
   },
   {
    "duration": 52,
    "start_time": "2023-08-13T12:41:21.927Z"
   },
   {
    "duration": 47,
    "start_time": "2023-08-13T12:41:21.980Z"
   },
   {
    "duration": 89,
    "start_time": "2023-08-13T12:41:22.028Z"
   },
   {
    "duration": 31,
    "start_time": "2023-08-13T12:41:22.119Z"
   },
   {
    "duration": 352,
    "start_time": "2023-08-13T12:41:22.151Z"
   },
   {
    "duration": 384,
    "start_time": "2023-08-13T12:41:22.505Z"
   },
   {
    "duration": 440,
    "start_time": "2023-08-13T12:41:22.891Z"
   },
   {
    "duration": 381,
    "start_time": "2023-08-13T12:41:23.332Z"
   },
   {
    "duration": 366,
    "start_time": "2023-08-13T12:41:23.714Z"
   },
   {
    "duration": 381,
    "start_time": "2023-08-13T12:41:24.082Z"
   },
   {
    "duration": 31,
    "start_time": "2023-08-13T12:41:24.465Z"
   },
   {
    "duration": 3,
    "start_time": "2023-08-13T12:41:24.498Z"
   },
   {
    "duration": 41,
    "start_time": "2023-08-13T12:41:24.503Z"
   },
   {
    "duration": 47,
    "start_time": "2023-08-13T12:42:57.287Z"
   },
   {
    "duration": 125,
    "start_time": "2023-08-13T12:44:11.807Z"
   },
   {
    "duration": 24,
    "start_time": "2023-08-13T12:44:25.104Z"
   },
   {
    "duration": 24,
    "start_time": "2023-08-13T12:44:38.272Z"
   },
   {
    "duration": 25,
    "start_time": "2023-08-13T12:45:34.078Z"
   },
   {
    "duration": 25,
    "start_time": "2023-08-13T12:46:09.352Z"
   },
   {
    "duration": 18,
    "start_time": "2023-08-13T12:46:37.408Z"
   },
   {
    "duration": 20,
    "start_time": "2023-08-13T12:46:45.374Z"
   },
   {
    "duration": 18,
    "start_time": "2023-08-13T12:47:21.184Z"
   },
   {
    "duration": 21,
    "start_time": "2023-08-13T12:47:49.224Z"
   },
   {
    "duration": 33,
    "start_time": "2023-08-13T12:47:58.641Z"
   },
   {
    "duration": 36,
    "start_time": "2023-08-13T12:48:02.609Z"
   },
   {
    "duration": 25,
    "start_time": "2023-08-13T12:48:38.056Z"
   },
   {
    "duration": 20,
    "start_time": "2023-08-13T12:49:03.192Z"
   },
   {
    "duration": 21,
    "start_time": "2023-08-13T13:06:37.413Z"
   },
   {
    "duration": 1790,
    "start_time": "2023-08-13T13:40:43.577Z"
   },
   {
    "duration": 229,
    "start_time": "2023-08-13T13:40:45.369Z"
   },
   {
    "duration": 15,
    "start_time": "2023-08-13T13:40:45.600Z"
   },
   {
    "duration": 10,
    "start_time": "2023-08-13T13:40:45.617Z"
   },
   {
    "duration": 21,
    "start_time": "2023-08-13T13:40:45.629Z"
   },
   {
    "duration": 3,
    "start_time": "2023-08-13T13:40:45.652Z"
   },
   {
    "duration": 22,
    "start_time": "2023-08-13T13:40:45.656Z"
   },
   {
    "duration": 42,
    "start_time": "2023-08-13T13:40:45.681Z"
   },
   {
    "duration": 31,
    "start_time": "2023-08-13T13:40:45.725Z"
   },
   {
    "duration": 36,
    "start_time": "2023-08-13T13:40:45.757Z"
   },
   {
    "duration": 13,
    "start_time": "2023-08-13T13:40:45.795Z"
   },
   {
    "duration": 25,
    "start_time": "2023-08-13T13:40:45.810Z"
   },
   {
    "duration": 6,
    "start_time": "2023-08-13T13:40:45.836Z"
   },
   {
    "duration": 21,
    "start_time": "2023-08-13T13:40:45.844Z"
   },
   {
    "duration": 6,
    "start_time": "2023-08-13T13:40:45.866Z"
   },
   {
    "duration": 25,
    "start_time": "2023-08-13T13:40:45.874Z"
   },
   {
    "duration": 8,
    "start_time": "2023-08-13T13:40:45.901Z"
   },
   {
    "duration": 12,
    "start_time": "2023-08-13T13:40:45.911Z"
   },
   {
    "duration": 22,
    "start_time": "2023-08-13T13:40:45.924Z"
   },
   {
    "duration": 5,
    "start_time": "2023-08-13T13:40:45.948Z"
   },
   {
    "duration": 37,
    "start_time": "2023-08-13T13:40:45.955Z"
   },
   {
    "duration": 11,
    "start_time": "2023-08-13T13:40:45.994Z"
   },
   {
    "duration": 884,
    "start_time": "2023-08-13T13:40:46.006Z"
   },
   {
    "duration": 12,
    "start_time": "2023-08-13T13:40:46.892Z"
   },
   {
    "duration": 52,
    "start_time": "2023-08-13T13:40:46.905Z"
   },
   {
    "duration": 58,
    "start_time": "2023-08-13T13:40:46.959Z"
   },
   {
    "duration": 17,
    "start_time": "2023-08-13T13:40:47.019Z"
   },
   {
    "duration": 30,
    "start_time": "2023-08-13T13:40:47.037Z"
   },
   {
    "duration": 53,
    "start_time": "2023-08-13T13:40:47.068Z"
   },
   {
    "duration": 7,
    "start_time": "2023-08-13T13:40:47.122Z"
   },
   {
    "duration": 59,
    "start_time": "2023-08-13T13:40:47.130Z"
   },
   {
    "duration": 9,
    "start_time": "2023-08-13T13:40:47.192Z"
   },
   {
    "duration": 27,
    "start_time": "2023-08-13T13:40:47.203Z"
   },
   {
    "duration": 41,
    "start_time": "2023-08-13T13:40:47.232Z"
   },
   {
    "duration": 443,
    "start_time": "2023-08-13T13:40:47.279Z"
   },
   {
    "duration": 9,
    "start_time": "2023-08-13T13:40:47.724Z"
   },
   {
    "duration": 58,
    "start_time": "2023-08-13T13:40:47.735Z"
   },
   {
    "duration": 4,
    "start_time": "2023-08-13T13:40:47.795Z"
   },
   {
    "duration": 26,
    "start_time": "2023-08-13T13:40:47.801Z"
   },
   {
    "duration": 17,
    "start_time": "2023-08-13T13:40:47.830Z"
   },
   {
    "duration": 11,
    "start_time": "2023-08-13T13:40:47.854Z"
   },
   {
    "duration": 22,
    "start_time": "2023-08-13T13:40:47.867Z"
   },
   {
    "duration": 325,
    "start_time": "2023-08-13T13:40:47.891Z"
   },
   {
    "duration": 225,
    "start_time": "2023-08-13T13:40:48.218Z"
   },
   {
    "duration": 50,
    "start_time": "2023-08-13T13:40:48.445Z"
   },
   {
    "duration": 4,
    "start_time": "2023-08-13T13:40:48.497Z"
   },
   {
    "duration": 13,
    "start_time": "2023-08-13T13:40:48.503Z"
   },
   {
    "duration": 27,
    "start_time": "2023-08-13T13:40:48.517Z"
   },
   {
    "duration": 16,
    "start_time": "2023-08-13T13:40:48.546Z"
   },
   {
    "duration": 31,
    "start_time": "2023-08-13T13:40:48.563Z"
   },
   {
    "duration": 21,
    "start_time": "2023-08-13T13:40:48.596Z"
   },
   {
    "duration": 19,
    "start_time": "2023-08-13T13:40:48.618Z"
   },
   {
    "duration": 65,
    "start_time": "2023-08-13T13:40:48.639Z"
   },
   {
    "duration": 2,
    "start_time": "2023-08-13T13:40:48.706Z"
   },
   {
    "duration": 65,
    "start_time": "2023-08-13T13:40:48.709Z"
   },
   {
    "duration": 18,
    "start_time": "2023-08-13T13:40:48.776Z"
   },
   {
    "duration": 959,
    "start_time": "2023-08-13T13:40:48.796Z"
   },
   {
    "duration": 832,
    "start_time": "2023-08-13T13:40:49.757Z"
   },
   {
    "duration": 10,
    "start_time": "2023-08-13T13:40:50.591Z"
   },
   {
    "duration": 21,
    "start_time": "2023-08-13T13:40:50.602Z"
   },
   {
    "duration": 36,
    "start_time": "2023-08-13T13:40:50.624Z"
   },
   {
    "duration": 56,
    "start_time": "2023-08-13T13:40:50.662Z"
   },
   {
    "duration": 12,
    "start_time": "2023-08-13T13:40:50.720Z"
   },
   {
    "duration": 48,
    "start_time": "2023-08-13T13:40:50.734Z"
   },
   {
    "duration": 35,
    "start_time": "2023-08-13T13:40:50.785Z"
   },
   {
    "duration": 33,
    "start_time": "2023-08-13T13:40:50.822Z"
   },
   {
    "duration": 382,
    "start_time": "2023-08-13T13:40:50.856Z"
   },
   {
    "duration": 419,
    "start_time": "2023-08-13T13:40:51.240Z"
   },
   {
    "duration": 462,
    "start_time": "2023-08-13T13:40:51.661Z"
   },
   {
    "duration": 402,
    "start_time": "2023-08-13T13:40:52.125Z"
   },
   {
    "duration": 386,
    "start_time": "2023-08-13T13:40:52.528Z"
   },
   {
    "duration": 404,
    "start_time": "2023-08-13T13:40:52.915Z"
   },
   {
    "duration": 26,
    "start_time": "2023-08-13T13:40:53.321Z"
   },
   {
    "duration": 28,
    "start_time": "2023-08-13T13:40:53.349Z"
   },
   {
    "duration": 22,
    "start_time": "2023-08-13T13:40:53.379Z"
   },
   {
    "duration": 40,
    "start_time": "2023-08-13T13:40:53.403Z"
   },
   {
    "duration": 32,
    "start_time": "2023-08-13T13:40:53.445Z"
   },
   {
    "duration": 21,
    "start_time": "2023-08-13T13:40:53.481Z"
   },
   {
    "duration": 37,
    "start_time": "2023-08-13T13:40:53.504Z"
   },
   {
    "duration": 40,
    "start_time": "2023-08-13T13:40:53.542Z"
   },
   {
    "duration": 5,
    "start_time": "2023-08-13T13:40:53.584Z"
   },
   {
    "duration": 58,
    "start_time": "2023-08-13T13:40:53.592Z"
   },
   {
    "duration": 30,
    "start_time": "2023-08-13T13:40:53.651Z"
   },
   {
    "duration": 5,
    "start_time": "2023-08-13T13:45:23.720Z"
   },
   {
    "duration": 68,
    "start_time": "2023-08-13T13:47:48.227Z"
   },
   {
    "duration": 5,
    "start_time": "2023-08-13T13:48:26.803Z"
   },
   {
    "duration": 6,
    "start_time": "2023-08-13T13:48:35.555Z"
   },
   {
    "duration": 15,
    "start_time": "2023-08-13T13:55:02.018Z"
   },
   {
    "duration": 24,
    "start_time": "2023-08-13T13:55:03.540Z"
   },
   {
    "duration": 23,
    "start_time": "2023-08-13T13:55:04.688Z"
   },
   {
    "duration": 140,
    "start_time": "2023-08-13T13:55:28.040Z"
   },
   {
    "duration": 4,
    "start_time": "2023-08-13T14:04:23.587Z"
   },
   {
    "duration": 11,
    "start_time": "2023-08-13T14:05:23.059Z"
   },
   {
    "duration": 18,
    "start_time": "2023-08-13T14:59:55.409Z"
   },
   {
    "duration": 33,
    "start_time": "2023-08-13T15:00:05.540Z"
   },
   {
    "duration": 52,
    "start_time": "2023-08-13T15:00:12.409Z"
   },
   {
    "duration": 66,
    "start_time": "2023-08-13T15:00:21.357Z"
   },
   {
    "duration": 12,
    "start_time": "2023-08-13T15:00:25.306Z"
   },
   {
    "duration": 632,
    "start_time": "2023-08-13T15:01:50.623Z"
   },
   {
    "duration": 61,
    "start_time": "2023-08-13T15:04:29.887Z"
   },
   {
    "duration": 18,
    "start_time": "2023-08-13T15:04:31.427Z"
   },
   {
    "duration": 56,
    "start_time": "2023-08-13T15:38:18.466Z"
   },
   {
    "duration": 70,
    "start_time": "2023-08-13T15:38:34.452Z"
   },
   {
    "duration": 38,
    "start_time": "2023-08-13T15:38:46.918Z"
   },
   {
    "duration": 19,
    "start_time": "2023-08-13T15:38:50.750Z"
   },
   {
    "duration": 8,
    "start_time": "2023-08-13T15:39:39.758Z"
   },
   {
    "duration": 14,
    "start_time": "2023-08-13T15:39:41.668Z"
   },
   {
    "duration": 11,
    "start_time": "2023-08-13T15:40:37.650Z"
   },
   {
    "duration": 24,
    "start_time": "2023-08-13T15:40:40.957Z"
   },
   {
    "duration": 10,
    "start_time": "2023-08-13T15:40:42.321Z"
   },
   {
    "duration": 5,
    "start_time": "2023-08-13T15:41:33.926Z"
   },
   {
    "duration": 23,
    "start_time": "2023-08-13T15:41:35.700Z"
   },
   {
    "duration": 8,
    "start_time": "2023-08-13T15:41:36.861Z"
   },
   {
    "duration": 12,
    "start_time": "2023-08-13T15:46:22.217Z"
   },
   {
    "duration": 63,
    "start_time": "2023-08-13T15:46:27.468Z"
   },
   {
    "duration": 38,
    "start_time": "2023-08-13T15:46:51.325Z"
   },
   {
    "duration": 23,
    "start_time": "2023-08-13T15:48:12.028Z"
   },
   {
    "duration": 12,
    "start_time": "2023-08-13T15:48:13.416Z"
   },
   {
    "duration": 10,
    "start_time": "2023-08-13T15:49:03.311Z"
   },
   {
    "duration": 13,
    "start_time": "2023-08-13T15:49:05.111Z"
   },
   {
    "duration": 48,
    "start_time": "2023-08-13T15:49:13.304Z"
   },
   {
    "duration": 14,
    "start_time": "2023-08-13T15:49:15.270Z"
   },
   {
    "duration": 1875,
    "start_time": "2023-08-13T15:49:39.043Z"
   },
   {
    "duration": 386,
    "start_time": "2023-08-13T15:49:40.924Z"
   },
   {
    "duration": 21,
    "start_time": "2023-08-13T15:49:41.313Z"
   },
   {
    "duration": 11,
    "start_time": "2023-08-13T15:49:41.335Z"
   },
   {
    "duration": 45,
    "start_time": "2023-08-13T15:49:41.349Z"
   },
   {
    "duration": 5,
    "start_time": "2023-08-13T15:49:41.397Z"
   },
   {
    "duration": 18,
    "start_time": "2023-08-13T15:49:41.404Z"
   },
   {
    "duration": 40,
    "start_time": "2023-08-13T15:49:41.424Z"
   },
   {
    "duration": 37,
    "start_time": "2023-08-13T15:49:41.465Z"
   },
   {
    "duration": 19,
    "start_time": "2023-08-13T15:49:41.504Z"
   },
   {
    "duration": 37,
    "start_time": "2023-08-13T15:49:41.524Z"
   },
   {
    "duration": 67,
    "start_time": "2023-08-13T15:49:41.563Z"
   },
   {
    "duration": 6,
    "start_time": "2023-08-13T15:49:41.632Z"
   },
   {
    "duration": 8,
    "start_time": "2023-08-13T15:49:41.640Z"
   },
   {
    "duration": 5,
    "start_time": "2023-08-13T15:49:41.650Z"
   },
   {
    "duration": 25,
    "start_time": "2023-08-13T15:49:41.656Z"
   },
   {
    "duration": 12,
    "start_time": "2023-08-13T15:49:41.682Z"
   },
   {
    "duration": 9,
    "start_time": "2023-08-13T15:49:41.695Z"
   },
   {
    "duration": 25,
    "start_time": "2023-08-13T15:49:41.706Z"
   },
   {
    "duration": 5,
    "start_time": "2023-08-13T15:49:41.733Z"
   },
   {
    "duration": 14,
    "start_time": "2023-08-13T15:49:41.740Z"
   },
   {
    "duration": 36,
    "start_time": "2023-08-13T15:49:41.755Z"
   },
   {
    "duration": 1028,
    "start_time": "2023-08-13T15:49:41.793Z"
   },
   {
    "duration": 15,
    "start_time": "2023-08-13T15:49:42.822Z"
   },
   {
    "duration": 76,
    "start_time": "2023-08-13T15:49:42.838Z"
   },
   {
    "duration": 45,
    "start_time": "2023-08-13T15:49:42.918Z"
   },
   {
    "duration": 7,
    "start_time": "2023-08-13T15:49:42.965Z"
   },
   {
    "duration": 58,
    "start_time": "2023-08-13T15:49:42.973Z"
   },
   {
    "duration": 45,
    "start_time": "2023-08-13T15:49:43.033Z"
   },
   {
    "duration": 9,
    "start_time": "2023-08-13T15:49:43.082Z"
   },
   {
    "duration": 38,
    "start_time": "2023-08-13T15:49:43.094Z"
   },
   {
    "duration": 9,
    "start_time": "2023-08-13T15:49:43.135Z"
   },
   {
    "duration": 6,
    "start_time": "2023-08-13T15:49:43.146Z"
   },
   {
    "duration": 30,
    "start_time": "2023-08-13T15:49:43.154Z"
   },
   {
    "duration": 483,
    "start_time": "2023-08-13T15:49:43.186Z"
   },
   {
    "duration": 32,
    "start_time": "2023-08-13T15:49:43.671Z"
   },
   {
    "duration": 41,
    "start_time": "2023-08-13T15:49:43.706Z"
   },
   {
    "duration": 3,
    "start_time": "2023-08-13T15:49:43.749Z"
   },
   {
    "duration": 17,
    "start_time": "2023-08-13T15:49:43.754Z"
   },
   {
    "duration": 13,
    "start_time": "2023-08-13T15:49:43.779Z"
   },
   {
    "duration": 17,
    "start_time": "2023-08-13T15:49:43.798Z"
   },
   {
    "duration": 98,
    "start_time": "2023-08-13T15:49:43.817Z"
   },
   {
    "duration": 311,
    "start_time": "2023-08-13T15:49:43.917Z"
   },
   {
    "duration": 277,
    "start_time": "2023-08-13T15:49:44.231Z"
   },
   {
    "duration": 46,
    "start_time": "2023-08-13T15:49:44.513Z"
   },
   {
    "duration": 5,
    "start_time": "2023-08-13T15:49:44.561Z"
   },
   {
    "duration": 25,
    "start_time": "2023-08-13T15:49:44.568Z"
   },
   {
    "duration": 24,
    "start_time": "2023-08-13T15:49:44.595Z"
   },
   {
    "duration": 18,
    "start_time": "2023-08-13T15:49:44.624Z"
   },
   {
    "duration": 16,
    "start_time": "2023-08-13T15:49:44.644Z"
   },
   {
    "duration": 4,
    "start_time": "2023-08-13T15:49:44.679Z"
   },
   {
    "duration": 33,
    "start_time": "2023-08-13T15:49:44.687Z"
   },
   {
    "duration": 72,
    "start_time": "2023-08-13T15:49:44.722Z"
   },
   {
    "duration": 3,
    "start_time": "2023-08-13T15:49:44.795Z"
   },
   {
    "duration": 65,
    "start_time": "2023-08-13T15:49:44.799Z"
   },
   {
    "duration": 36,
    "start_time": "2023-08-13T15:49:44.866Z"
   },
   {
    "duration": 1071,
    "start_time": "2023-08-13T15:49:44.907Z"
   },
   {
    "duration": 955,
    "start_time": "2023-08-13T15:49:45.980Z"
   },
   {
    "duration": 12,
    "start_time": "2023-08-13T15:49:46.938Z"
   },
   {
    "duration": 60,
    "start_time": "2023-08-13T15:49:46.951Z"
   },
   {
    "duration": 33,
    "start_time": "2023-08-13T15:49:47.012Z"
   },
   {
    "duration": 67,
    "start_time": "2023-08-13T15:49:47.046Z"
   },
   {
    "duration": 13,
    "start_time": "2023-08-13T15:49:47.120Z"
   },
   {
    "duration": 23,
    "start_time": "2023-08-13T15:49:47.134Z"
   },
   {
    "duration": 39,
    "start_time": "2023-08-13T15:49:47.159Z"
   },
   {
    "duration": 39,
    "start_time": "2023-08-13T15:49:47.200Z"
   },
   {
    "duration": 409,
    "start_time": "2023-08-13T15:49:47.240Z"
   },
   {
    "duration": 402,
    "start_time": "2023-08-13T15:49:47.651Z"
   },
   {
    "duration": 471,
    "start_time": "2023-08-13T15:49:48.055Z"
   },
   {
    "duration": 423,
    "start_time": "2023-08-13T15:49:48.527Z"
   },
   {
    "duration": 391,
    "start_time": "2023-08-13T15:49:48.952Z"
   },
   {
    "duration": 440,
    "start_time": "2023-08-13T15:49:49.345Z"
   },
   {
    "duration": 39,
    "start_time": "2023-08-13T15:49:49.789Z"
   },
   {
    "duration": 18,
    "start_time": "2023-08-13T15:49:49.830Z"
   },
   {
    "duration": 33,
    "start_time": "2023-08-13T15:49:49.850Z"
   },
   {
    "duration": 41,
    "start_time": "2023-08-13T15:49:49.886Z"
   },
   {
    "duration": 17,
    "start_time": "2023-08-13T15:49:49.929Z"
   },
   {
    "duration": 42,
    "start_time": "2023-08-13T15:49:49.947Z"
   },
   {
    "duration": 33,
    "start_time": "2023-08-13T15:49:49.991Z"
   },
   {
    "duration": 22,
    "start_time": "2023-08-13T15:49:50.027Z"
   },
   {
    "duration": 9,
    "start_time": "2023-08-13T15:49:50.051Z"
   },
   {
    "duration": 108,
    "start_time": "2023-08-13T15:49:50.061Z"
   },
   {
    "duration": 73,
    "start_time": "2023-08-13T15:49:50.170Z"
   },
   {
    "duration": 8,
    "start_time": "2023-08-13T15:49:50.246Z"
   },
   {
    "duration": 205,
    "start_time": "2023-08-13T15:49:50.256Z"
   },
   {
    "duration": 0,
    "start_time": "2023-08-13T15:49:50.463Z"
   },
   {
    "duration": 0,
    "start_time": "2023-08-13T15:49:50.465Z"
   },
   {
    "duration": 0,
    "start_time": "2023-08-13T15:49:50.466Z"
   },
   {
    "duration": 1886,
    "start_time": "2023-08-13T15:50:04.807Z"
   },
   {
    "duration": 322,
    "start_time": "2023-08-13T15:50:06.696Z"
   },
   {
    "duration": 16,
    "start_time": "2023-08-13T15:50:07.019Z"
   },
   {
    "duration": 29,
    "start_time": "2023-08-13T15:50:07.037Z"
   },
   {
    "duration": 51,
    "start_time": "2023-08-13T15:50:07.068Z"
   },
   {
    "duration": 4,
    "start_time": "2023-08-13T15:50:07.122Z"
   },
   {
    "duration": 20,
    "start_time": "2023-08-13T15:50:07.128Z"
   },
   {
    "duration": 58,
    "start_time": "2023-08-13T15:50:07.150Z"
   },
   {
    "duration": 23,
    "start_time": "2023-08-13T15:50:07.210Z"
   },
   {
    "duration": 27,
    "start_time": "2023-08-13T15:50:07.235Z"
   },
   {
    "duration": 8,
    "start_time": "2023-08-13T15:50:07.263Z"
   },
   {
    "duration": 56,
    "start_time": "2023-08-13T15:50:07.272Z"
   },
   {
    "duration": 6,
    "start_time": "2023-08-13T15:50:07.330Z"
   },
   {
    "duration": 11,
    "start_time": "2023-08-13T15:50:07.340Z"
   },
   {
    "duration": 10,
    "start_time": "2023-08-13T15:50:07.352Z"
   },
   {
    "duration": 44,
    "start_time": "2023-08-13T15:50:07.363Z"
   },
   {
    "duration": 11,
    "start_time": "2023-08-13T15:50:07.413Z"
   },
   {
    "duration": 9,
    "start_time": "2023-08-13T15:50:07.426Z"
   },
   {
    "duration": 41,
    "start_time": "2023-08-13T15:50:07.437Z"
   },
   {
    "duration": 11,
    "start_time": "2023-08-13T15:50:07.481Z"
   },
   {
    "duration": 44,
    "start_time": "2023-08-13T15:50:07.494Z"
   },
   {
    "duration": 29,
    "start_time": "2023-08-13T15:50:07.539Z"
   },
   {
    "duration": 1016,
    "start_time": "2023-08-13T15:50:07.570Z"
   },
   {
    "duration": 20,
    "start_time": "2023-08-13T15:50:08.588Z"
   },
   {
    "duration": 55,
    "start_time": "2023-08-13T15:50:08.610Z"
   },
   {
    "duration": 76,
    "start_time": "2023-08-13T15:50:08.667Z"
   },
   {
    "duration": 7,
    "start_time": "2023-08-13T15:50:08.745Z"
   },
   {
    "duration": 64,
    "start_time": "2023-08-13T15:50:08.754Z"
   },
   {
    "duration": 36,
    "start_time": "2023-08-13T15:50:08.823Z"
   },
   {
    "duration": 6,
    "start_time": "2023-08-13T15:50:08.861Z"
   },
   {
    "duration": 45,
    "start_time": "2023-08-13T15:50:08.869Z"
   },
   {
    "duration": 9,
    "start_time": "2023-08-13T15:50:08.919Z"
   },
   {
    "duration": 73,
    "start_time": "2023-08-13T15:50:08.930Z"
   },
   {
    "duration": 60,
    "start_time": "2023-08-13T15:50:09.005Z"
   },
   {
    "duration": 503,
    "start_time": "2023-08-13T15:50:09.067Z"
   },
   {
    "duration": 32,
    "start_time": "2023-08-13T15:50:09.573Z"
   },
   {
    "duration": 41,
    "start_time": "2023-08-13T15:50:09.609Z"
   },
   {
    "duration": 4,
    "start_time": "2023-08-13T15:50:09.652Z"
   },
   {
    "duration": 25,
    "start_time": "2023-08-13T15:50:09.657Z"
   },
   {
    "duration": 9,
    "start_time": "2023-08-13T15:50:09.686Z"
   },
   {
    "duration": 19,
    "start_time": "2023-08-13T15:50:09.702Z"
   },
   {
    "duration": 100,
    "start_time": "2023-08-13T15:50:09.727Z"
   },
   {
    "duration": 245,
    "start_time": "2023-08-13T15:50:09.828Z"
   },
   {
    "duration": 280,
    "start_time": "2023-08-13T15:50:10.081Z"
   },
   {
    "duration": 66,
    "start_time": "2023-08-13T15:50:10.363Z"
   },
   {
    "duration": 7,
    "start_time": "2023-08-13T15:50:10.431Z"
   },
   {
    "duration": 9,
    "start_time": "2023-08-13T15:50:10.440Z"
   },
   {
    "duration": 50,
    "start_time": "2023-08-13T15:50:10.451Z"
   },
   {
    "duration": 36,
    "start_time": "2023-08-13T15:50:10.504Z"
   },
   {
    "duration": 25,
    "start_time": "2023-08-13T15:50:10.542Z"
   },
   {
    "duration": 21,
    "start_time": "2023-08-13T15:50:10.570Z"
   },
   {
    "duration": 34,
    "start_time": "2023-08-13T15:50:10.593Z"
   },
   {
    "duration": 80,
    "start_time": "2023-08-13T15:50:10.629Z"
   },
   {
    "duration": 10,
    "start_time": "2023-08-13T15:50:10.711Z"
   },
   {
    "duration": 102,
    "start_time": "2023-08-13T15:50:10.724Z"
   },
   {
    "duration": 15,
    "start_time": "2023-08-13T15:50:10.830Z"
   },
   {
    "duration": 1070,
    "start_time": "2023-08-13T15:50:10.846Z"
   },
   {
    "duration": 683,
    "start_time": "2023-08-13T15:50:11.918Z"
   },
   {
    "duration": 85,
    "start_time": "2023-08-13T15:50:12.607Z"
   },
   {
    "duration": 30,
    "start_time": "2023-08-13T15:50:12.706Z"
   },
   {
    "duration": 26,
    "start_time": "2023-08-13T15:50:12.738Z"
   },
   {
    "duration": 62,
    "start_time": "2023-08-13T15:50:12.766Z"
   },
   {
    "duration": 12,
    "start_time": "2023-08-13T15:50:12.830Z"
   },
   {
    "duration": 27,
    "start_time": "2023-08-13T15:50:12.844Z"
   },
   {
    "duration": 69,
    "start_time": "2023-08-13T15:50:12.872Z"
   },
   {
    "duration": 38,
    "start_time": "2023-08-13T15:50:12.943Z"
   },
   {
    "duration": 368,
    "start_time": "2023-08-13T15:50:12.983Z"
   },
   {
    "duration": 457,
    "start_time": "2023-08-13T15:50:13.353Z"
   },
   {
    "duration": 515,
    "start_time": "2023-08-13T15:50:13.812Z"
   },
   {
    "duration": 450,
    "start_time": "2023-08-13T15:50:14.329Z"
   },
   {
    "duration": 382,
    "start_time": "2023-08-13T15:50:14.781Z"
   },
   {
    "duration": 404,
    "start_time": "2023-08-13T15:50:15.165Z"
   },
   {
    "duration": 40,
    "start_time": "2023-08-13T15:50:15.571Z"
   },
   {
    "duration": 24,
    "start_time": "2023-08-13T15:50:15.613Z"
   },
   {
    "duration": 19,
    "start_time": "2023-08-13T15:50:15.638Z"
   },
   {
    "duration": 39,
    "start_time": "2023-08-13T15:50:15.682Z"
   },
   {
    "duration": 18,
    "start_time": "2023-08-13T15:50:15.723Z"
   },
   {
    "duration": 57,
    "start_time": "2023-08-13T15:50:15.742Z"
   },
   {
    "duration": 30,
    "start_time": "2023-08-13T15:50:15.801Z"
   },
   {
    "duration": 29,
    "start_time": "2023-08-13T15:50:15.833Z"
   },
   {
    "duration": 7,
    "start_time": "2023-08-13T15:50:15.864Z"
   },
   {
    "duration": 68,
    "start_time": "2023-08-13T15:50:15.873Z"
   },
   {
    "duration": 52,
    "start_time": "2023-08-13T15:50:15.942Z"
   },
   {
    "duration": 8,
    "start_time": "2023-08-13T15:50:15.996Z"
   },
   {
    "duration": 161,
    "start_time": "2023-08-13T15:50:16.006Z"
   },
   {
    "duration": 0,
    "start_time": "2023-08-13T15:50:16.169Z"
   },
   {
    "duration": 0,
    "start_time": "2023-08-13T15:50:16.170Z"
   },
   {
    "duration": 0,
    "start_time": "2023-08-13T15:50:16.171Z"
   },
   {
    "duration": 1795,
    "start_time": "2023-08-13T15:50:58.066Z"
   },
   {
    "duration": 267,
    "start_time": "2023-08-13T15:50:59.863Z"
   },
   {
    "duration": 16,
    "start_time": "2023-08-13T15:51:00.132Z"
   },
   {
    "duration": 60,
    "start_time": "2023-08-13T15:51:00.151Z"
   },
   {
    "duration": 71,
    "start_time": "2023-08-13T15:51:00.213Z"
   },
   {
    "duration": 38,
    "start_time": "2023-08-13T15:51:00.286Z"
   },
   {
    "duration": 54,
    "start_time": "2023-08-13T15:51:00.326Z"
   },
   {
    "duration": 76,
    "start_time": "2023-08-13T15:51:00.382Z"
   },
   {
    "duration": 63,
    "start_time": "2023-08-13T15:51:00.460Z"
   },
   {
    "duration": 56,
    "start_time": "2023-08-13T15:51:00.526Z"
   },
   {
    "duration": 40,
    "start_time": "2023-08-13T15:51:00.584Z"
   },
   {
    "duration": 96,
    "start_time": "2023-08-13T15:51:00.628Z"
   },
   {
    "duration": 14,
    "start_time": "2023-08-13T15:51:00.725Z"
   },
   {
    "duration": 133,
    "start_time": "2023-08-13T15:51:00.741Z"
   },
   {
    "duration": 85,
    "start_time": "2023-08-13T15:51:00.878Z"
   },
   {
    "duration": 233,
    "start_time": "2023-08-13T15:51:00.965Z"
   },
   {
    "duration": 53,
    "start_time": "2023-08-13T15:51:01.200Z"
   },
   {
    "duration": 35,
    "start_time": "2023-08-13T15:51:01.255Z"
   },
   {
    "duration": 116,
    "start_time": "2023-08-13T15:51:01.292Z"
   },
   {
    "duration": 36,
    "start_time": "2023-08-13T15:51:01.410Z"
   },
   {
    "duration": 52,
    "start_time": "2023-08-13T15:51:01.447Z"
   },
   {
    "duration": 129,
    "start_time": "2023-08-13T15:51:01.501Z"
   },
   {
    "duration": 1131,
    "start_time": "2023-08-13T15:51:01.632Z"
   },
   {
    "duration": 14,
    "start_time": "2023-08-13T15:51:02.765Z"
   },
   {
    "duration": 58,
    "start_time": "2023-08-13T15:51:02.780Z"
   },
   {
    "duration": 47,
    "start_time": "2023-08-13T15:51:02.840Z"
   },
   {
    "duration": 7,
    "start_time": "2023-08-13T15:51:02.888Z"
   },
   {
    "duration": 27,
    "start_time": "2023-08-13T15:51:02.900Z"
   },
   {
    "duration": 76,
    "start_time": "2023-08-13T15:51:02.928Z"
   },
   {
    "duration": 7,
    "start_time": "2023-08-13T15:51:03.005Z"
   },
   {
    "duration": 22,
    "start_time": "2023-08-13T15:51:03.014Z"
   },
   {
    "duration": 7,
    "start_time": "2023-08-13T15:51:03.038Z"
   },
   {
    "duration": 5,
    "start_time": "2023-08-13T15:51:03.047Z"
   },
   {
    "duration": 27,
    "start_time": "2023-08-13T15:51:03.053Z"
   },
   {
    "duration": 455,
    "start_time": "2023-08-13T15:51:03.082Z"
   },
   {
    "duration": 10,
    "start_time": "2023-08-13T15:51:03.538Z"
   },
   {
    "duration": 61,
    "start_time": "2023-08-13T15:51:03.549Z"
   },
   {
    "duration": 4,
    "start_time": "2023-08-13T15:51:03.611Z"
   },
   {
    "duration": 29,
    "start_time": "2023-08-13T15:51:03.616Z"
   },
   {
    "duration": 15,
    "start_time": "2023-08-13T15:51:03.648Z"
   },
   {
    "duration": 32,
    "start_time": "2023-08-13T15:51:03.665Z"
   },
   {
    "duration": 15,
    "start_time": "2023-08-13T15:51:03.699Z"
   },
   {
    "duration": 332,
    "start_time": "2023-08-13T15:51:03.715Z"
   },
   {
    "duration": 257,
    "start_time": "2023-08-13T15:51:04.049Z"
   },
   {
    "duration": 38,
    "start_time": "2023-08-13T15:51:04.307Z"
   },
   {
    "duration": 5,
    "start_time": "2023-08-13T15:51:04.347Z"
   },
   {
    "duration": 17,
    "start_time": "2023-08-13T15:51:04.353Z"
   },
   {
    "duration": 35,
    "start_time": "2023-08-13T15:51:04.372Z"
   },
   {
    "duration": 15,
    "start_time": "2023-08-13T15:51:04.409Z"
   },
   {
    "duration": 23,
    "start_time": "2023-08-13T15:51:04.426Z"
   },
   {
    "duration": 22,
    "start_time": "2023-08-13T15:51:04.451Z"
   },
   {
    "duration": 29,
    "start_time": "2023-08-13T15:51:04.477Z"
   },
   {
    "duration": 53,
    "start_time": "2023-08-13T15:51:04.509Z"
   },
   {
    "duration": 11,
    "start_time": "2023-08-13T15:51:04.563Z"
   },
   {
    "duration": 60,
    "start_time": "2023-08-13T15:51:04.579Z"
   },
   {
    "duration": 11,
    "start_time": "2023-08-13T15:51:04.641Z"
   },
   {
    "duration": 1022,
    "start_time": "2023-08-13T15:51:04.677Z"
   },
   {
    "duration": 1005,
    "start_time": "2023-08-13T15:51:05.705Z"
   },
   {
    "duration": 11,
    "start_time": "2023-08-13T15:51:06.712Z"
   },
   {
    "duration": 24,
    "start_time": "2023-08-13T15:51:06.724Z"
   },
   {
    "duration": 42,
    "start_time": "2023-08-13T15:51:06.750Z"
   },
   {
    "duration": 49,
    "start_time": "2023-08-13T15:51:06.796Z"
   },
   {
    "duration": 14,
    "start_time": "2023-08-13T15:51:06.846Z"
   },
   {
    "duration": 35,
    "start_time": "2023-08-13T15:51:06.876Z"
   },
   {
    "duration": 34,
    "start_time": "2023-08-13T15:51:06.913Z"
   },
   {
    "duration": 54,
    "start_time": "2023-08-13T15:51:06.949Z"
   },
   {
    "duration": 358,
    "start_time": "2023-08-13T15:51:07.005Z"
   },
   {
    "duration": 392,
    "start_time": "2023-08-13T15:51:07.365Z"
   },
   {
    "duration": 478,
    "start_time": "2023-08-13T15:51:07.759Z"
   },
   {
    "duration": 397,
    "start_time": "2023-08-13T15:51:08.239Z"
   },
   {
    "duration": 396,
    "start_time": "2023-08-13T15:51:08.637Z"
   },
   {
    "duration": 409,
    "start_time": "2023-08-13T15:51:09.035Z"
   },
   {
    "duration": 29,
    "start_time": "2023-08-13T15:51:09.445Z"
   },
   {
    "duration": 30,
    "start_time": "2023-08-13T15:51:09.476Z"
   },
   {
    "duration": 20,
    "start_time": "2023-08-13T15:51:09.509Z"
   },
   {
    "duration": 65,
    "start_time": "2023-08-13T15:51:09.531Z"
   },
   {
    "duration": 25,
    "start_time": "2023-08-13T15:51:09.598Z"
   },
   {
    "duration": 19,
    "start_time": "2023-08-13T15:51:09.625Z"
   },
   {
    "duration": 35,
    "start_time": "2023-08-13T15:51:09.674Z"
   },
   {
    "duration": 19,
    "start_time": "2023-08-13T15:51:09.711Z"
   },
   {
    "duration": 3,
    "start_time": "2023-08-13T15:51:09.731Z"
   },
   {
    "duration": 78,
    "start_time": "2023-08-13T15:51:09.740Z"
   },
   {
    "duration": 57,
    "start_time": "2023-08-13T15:51:09.820Z"
   },
   {
    "duration": 7,
    "start_time": "2023-08-13T15:51:09.887Z"
   },
   {
    "duration": 10,
    "start_time": "2023-08-13T15:51:09.896Z"
   },
   {
    "duration": 7,
    "start_time": "2023-08-13T15:51:09.908Z"
   },
   {
    "duration": 19,
    "start_time": "2023-08-13T15:51:09.917Z"
   },
   {
    "duration": 9,
    "start_time": "2023-08-13T15:51:09.937Z"
   },
   {
    "duration": 5,
    "start_time": "2023-08-13T15:53:23.419Z"
   },
   {
    "duration": 5,
    "start_time": "2023-08-13T15:53:25.523Z"
   },
   {
    "duration": 1923,
    "start_time": "2023-08-13T15:57:11.159Z"
   },
   {
    "duration": 349,
    "start_time": "2023-08-13T15:57:13.090Z"
   },
   {
    "duration": 16,
    "start_time": "2023-08-13T15:57:13.441Z"
   },
   {
    "duration": 38,
    "start_time": "2023-08-13T15:57:13.460Z"
   },
   {
    "duration": 39,
    "start_time": "2023-08-13T15:57:13.500Z"
   },
   {
    "duration": 4,
    "start_time": "2023-08-13T15:57:13.542Z"
   },
   {
    "duration": 10,
    "start_time": "2023-08-13T15:57:13.548Z"
   },
   {
    "duration": 36,
    "start_time": "2023-08-13T15:57:13.559Z"
   },
   {
    "duration": 19,
    "start_time": "2023-08-13T15:57:13.597Z"
   },
   {
    "duration": 20,
    "start_time": "2023-08-13T15:57:13.619Z"
   },
   {
    "duration": 9,
    "start_time": "2023-08-13T15:57:13.641Z"
   },
   {
    "duration": 27,
    "start_time": "2023-08-13T15:57:13.651Z"
   },
   {
    "duration": 7,
    "start_time": "2023-08-13T15:57:13.679Z"
   },
   {
    "duration": 21,
    "start_time": "2023-08-13T15:57:13.688Z"
   },
   {
    "duration": 14,
    "start_time": "2023-08-13T15:57:13.712Z"
   },
   {
    "duration": 22,
    "start_time": "2023-08-13T15:57:13.729Z"
   },
   {
    "duration": 23,
    "start_time": "2023-08-13T15:57:13.754Z"
   },
   {
    "duration": 15,
    "start_time": "2023-08-13T15:57:13.779Z"
   },
   {
    "duration": 33,
    "start_time": "2023-08-13T15:57:13.796Z"
   },
   {
    "duration": 7,
    "start_time": "2023-08-13T15:57:13.835Z"
   },
   {
    "duration": 24,
    "start_time": "2023-08-13T15:57:13.844Z"
   },
   {
    "duration": 26,
    "start_time": "2023-08-13T15:57:13.870Z"
   },
   {
    "duration": 1056,
    "start_time": "2023-08-13T15:57:13.898Z"
   },
   {
    "duration": 12,
    "start_time": "2023-08-13T15:57:14.956Z"
   },
   {
    "duration": 79,
    "start_time": "2023-08-13T15:57:14.974Z"
   },
   {
    "duration": 72,
    "start_time": "2023-08-13T15:57:15.055Z"
   },
   {
    "duration": 6,
    "start_time": "2023-08-13T15:57:15.129Z"
   },
   {
    "duration": 25,
    "start_time": "2023-08-13T15:57:15.139Z"
   },
   {
    "duration": 64,
    "start_time": "2023-08-13T15:57:15.173Z"
   },
   {
    "duration": 6,
    "start_time": "2023-08-13T15:57:15.238Z"
   },
   {
    "duration": 21,
    "start_time": "2023-08-13T15:57:15.246Z"
   },
   {
    "duration": 11,
    "start_time": "2023-08-13T15:57:15.281Z"
   },
   {
    "duration": 5,
    "start_time": "2023-08-13T15:57:15.295Z"
   },
   {
    "duration": 31,
    "start_time": "2023-08-13T15:57:15.301Z"
   },
   {
    "duration": 519,
    "start_time": "2023-08-13T15:57:15.334Z"
   },
   {
    "duration": 9,
    "start_time": "2023-08-13T15:57:15.855Z"
   },
   {
    "duration": 77,
    "start_time": "2023-08-13T15:57:15.865Z"
   },
   {
    "duration": 3,
    "start_time": "2023-08-13T15:57:15.944Z"
   },
   {
    "duration": 35,
    "start_time": "2023-08-13T15:57:15.948Z"
   },
   {
    "duration": 24,
    "start_time": "2023-08-13T15:57:15.985Z"
   },
   {
    "duration": 13,
    "start_time": "2023-08-13T15:57:16.013Z"
   },
   {
    "duration": 53,
    "start_time": "2023-08-13T15:57:16.028Z"
   },
   {
    "duration": 354,
    "start_time": "2023-08-13T15:57:16.082Z"
   },
   {
    "duration": 259,
    "start_time": "2023-08-13T15:57:16.438Z"
   },
   {
    "duration": 47,
    "start_time": "2023-08-13T15:57:16.700Z"
   },
   {
    "duration": 5,
    "start_time": "2023-08-13T15:57:16.749Z"
   },
   {
    "duration": 12,
    "start_time": "2023-08-13T15:57:16.756Z"
   },
   {
    "duration": 30,
    "start_time": "2023-08-13T15:57:16.770Z"
   },
   {
    "duration": 24,
    "start_time": "2023-08-13T15:57:16.802Z"
   },
   {
    "duration": 14,
    "start_time": "2023-08-13T15:57:16.828Z"
   },
   {
    "duration": 3,
    "start_time": "2023-08-13T15:57:16.844Z"
   },
   {
    "duration": 41,
    "start_time": "2023-08-13T15:57:16.849Z"
   },
   {
    "duration": 63,
    "start_time": "2023-08-13T15:57:16.892Z"
   },
   {
    "duration": 3,
    "start_time": "2023-08-13T15:57:16.957Z"
   },
   {
    "duration": 82,
    "start_time": "2023-08-13T15:57:16.961Z"
   },
   {
    "duration": 13,
    "start_time": "2023-08-13T15:57:17.044Z"
   },
   {
    "duration": 1135,
    "start_time": "2023-08-13T15:57:17.058Z"
   },
   {
    "duration": 1126,
    "start_time": "2023-08-13T15:57:18.195Z"
   },
   {
    "duration": 10,
    "start_time": "2023-08-13T15:57:19.323Z"
   },
   {
    "duration": 19,
    "start_time": "2023-08-13T15:57:19.335Z"
   },
   {
    "duration": 38,
    "start_time": "2023-08-13T15:57:19.355Z"
   },
   {
    "duration": 52,
    "start_time": "2023-08-13T15:57:19.395Z"
   },
   {
    "duration": 12,
    "start_time": "2023-08-13T15:57:19.449Z"
   },
   {
    "duration": 57,
    "start_time": "2023-08-13T15:57:19.463Z"
   },
   {
    "duration": 34,
    "start_time": "2023-08-13T15:57:19.522Z"
   },
   {
    "duration": 51,
    "start_time": "2023-08-13T15:57:19.558Z"
   },
   {
    "duration": 355,
    "start_time": "2023-08-13T15:57:19.611Z"
   },
   {
    "duration": 478,
    "start_time": "2023-08-13T15:57:19.967Z"
   },
   {
    "duration": 532,
    "start_time": "2023-08-13T15:57:20.447Z"
   },
   {
    "duration": 419,
    "start_time": "2023-08-13T15:57:20.983Z"
   },
   {
    "duration": 380,
    "start_time": "2023-08-13T15:57:21.404Z"
   },
   {
    "duration": 416,
    "start_time": "2023-08-13T15:57:21.786Z"
   },
   {
    "duration": 35,
    "start_time": "2023-08-13T15:57:22.206Z"
   },
   {
    "duration": 20,
    "start_time": "2023-08-13T15:57:22.243Z"
   },
   {
    "duration": 31,
    "start_time": "2023-08-13T15:57:22.265Z"
   },
   {
    "duration": 90,
    "start_time": "2023-08-13T15:57:22.300Z"
   },
   {
    "duration": 28,
    "start_time": "2023-08-13T15:57:22.394Z"
   },
   {
    "duration": 28,
    "start_time": "2023-08-13T15:57:22.431Z"
   },
   {
    "duration": 65,
    "start_time": "2023-08-13T15:57:22.460Z"
   },
   {
    "duration": 30,
    "start_time": "2023-08-13T15:57:22.531Z"
   },
   {
    "duration": 4,
    "start_time": "2023-08-13T15:57:22.567Z"
   },
   {
    "duration": 68,
    "start_time": "2023-08-13T15:57:22.581Z"
   },
   {
    "duration": 75,
    "start_time": "2023-08-13T15:57:22.651Z"
   },
   {
    "duration": 5,
    "start_time": "2023-08-13T15:57:22.728Z"
   },
   {
    "duration": 190,
    "start_time": "2023-08-13T15:57:22.734Z"
   },
   {
    "duration": 0,
    "start_time": "2023-08-13T15:57:22.926Z"
   },
   {
    "duration": 0,
    "start_time": "2023-08-13T15:57:22.927Z"
   },
   {
    "duration": 0,
    "start_time": "2023-08-13T15:57:22.928Z"
   },
   {
    "duration": 7,
    "start_time": "2023-08-13T15:57:51.965Z"
   },
   {
    "duration": 29,
    "start_time": "2023-08-13T15:57:53.462Z"
   },
   {
    "duration": 19,
    "start_time": "2023-08-13T15:57:54.521Z"
   },
   {
    "duration": 5,
    "start_time": "2023-08-13T15:58:46.662Z"
   },
   {
    "duration": 10,
    "start_time": "2023-08-13T15:58:48.211Z"
   },
   {
    "duration": 4,
    "start_time": "2023-08-13T15:58:52.639Z"
   },
   {
    "duration": 8,
    "start_time": "2023-08-13T15:58:57.039Z"
   },
   {
    "duration": 2118,
    "start_time": "2023-08-13T15:59:02.698Z"
   },
   {
    "duration": 382,
    "start_time": "2023-08-13T15:59:04.819Z"
   },
   {
    "duration": 26,
    "start_time": "2023-08-13T15:59:05.206Z"
   },
   {
    "duration": 33,
    "start_time": "2023-08-13T15:59:05.237Z"
   },
   {
    "duration": 52,
    "start_time": "2023-08-13T15:59:05.272Z"
   },
   {
    "duration": 7,
    "start_time": "2023-08-13T15:59:05.332Z"
   },
   {
    "duration": 24,
    "start_time": "2023-08-13T15:59:05.340Z"
   },
   {
    "duration": 46,
    "start_time": "2023-08-13T15:59:05.365Z"
   },
   {
    "duration": 16,
    "start_time": "2023-08-13T15:59:05.413Z"
   },
   {
    "duration": 17,
    "start_time": "2023-08-13T15:59:05.431Z"
   },
   {
    "duration": 16,
    "start_time": "2023-08-13T15:59:05.450Z"
   },
   {
    "duration": 58,
    "start_time": "2023-08-13T15:59:05.467Z"
   },
   {
    "duration": 7,
    "start_time": "2023-08-13T15:59:05.527Z"
   },
   {
    "duration": 22,
    "start_time": "2023-08-13T15:59:05.538Z"
   },
   {
    "duration": 7,
    "start_time": "2023-08-13T15:59:05.562Z"
   },
   {
    "duration": 63,
    "start_time": "2023-08-13T15:59:05.570Z"
   },
   {
    "duration": 10,
    "start_time": "2023-08-13T15:59:05.635Z"
   },
   {
    "duration": 7,
    "start_time": "2023-08-13T15:59:05.647Z"
   },
   {
    "duration": 20,
    "start_time": "2023-08-13T15:59:05.656Z"
   },
   {
    "duration": 16,
    "start_time": "2023-08-13T15:59:05.678Z"
   },
   {
    "duration": 33,
    "start_time": "2023-08-13T15:59:05.701Z"
   },
   {
    "duration": 14,
    "start_time": "2023-08-13T15:59:05.742Z"
   },
   {
    "duration": 1199,
    "start_time": "2023-08-13T15:59:05.758Z"
   },
   {
    "duration": 13,
    "start_time": "2023-08-13T15:59:06.959Z"
   },
   {
    "duration": 96,
    "start_time": "2023-08-13T15:59:06.973Z"
   },
   {
    "duration": 82,
    "start_time": "2023-08-13T15:59:07.074Z"
   },
   {
    "duration": 7,
    "start_time": "2023-08-13T15:59:07.158Z"
   },
   {
    "duration": 43,
    "start_time": "2023-08-13T15:59:07.167Z"
   },
   {
    "duration": 69,
    "start_time": "2023-08-13T15:59:07.213Z"
   },
   {
    "duration": 9,
    "start_time": "2023-08-13T15:59:07.286Z"
   },
   {
    "duration": 31,
    "start_time": "2023-08-13T15:59:07.297Z"
   },
   {
    "duration": 17,
    "start_time": "2023-08-13T15:59:07.331Z"
   },
   {
    "duration": 4,
    "start_time": "2023-08-13T15:59:07.356Z"
   },
   {
    "duration": 51,
    "start_time": "2023-08-13T15:59:07.362Z"
   },
   {
    "duration": 515,
    "start_time": "2023-08-13T15:59:07.415Z"
   },
   {
    "duration": 10,
    "start_time": "2023-08-13T15:59:07.938Z"
   },
   {
    "duration": 61,
    "start_time": "2023-08-13T15:59:07.949Z"
   },
   {
    "duration": 6,
    "start_time": "2023-08-13T15:59:08.012Z"
   },
   {
    "duration": 21,
    "start_time": "2023-08-13T15:59:08.021Z"
   },
   {
    "duration": 16,
    "start_time": "2023-08-13T15:59:08.043Z"
   },
   {
    "duration": 27,
    "start_time": "2023-08-13T15:59:08.064Z"
   },
   {
    "duration": 112,
    "start_time": "2023-08-13T15:59:08.095Z"
   },
   {
    "duration": 269,
    "start_time": "2023-08-13T15:59:08.209Z"
   },
   {
    "duration": 288,
    "start_time": "2023-08-13T15:59:08.482Z"
   },
   {
    "duration": 69,
    "start_time": "2023-08-13T15:59:08.772Z"
   },
   {
    "duration": 6,
    "start_time": "2023-08-13T15:59:08.843Z"
   },
   {
    "duration": 13,
    "start_time": "2023-08-13T15:59:08.850Z"
   },
   {
    "duration": 37,
    "start_time": "2023-08-13T15:59:08.864Z"
   },
   {
    "duration": 35,
    "start_time": "2023-08-13T15:59:08.904Z"
   },
   {
    "duration": 19,
    "start_time": "2023-08-13T15:59:08.941Z"
   },
   {
    "duration": 70,
    "start_time": "2023-08-13T15:59:08.961Z"
   },
   {
    "duration": 21,
    "start_time": "2023-08-13T15:59:09.033Z"
   },
   {
    "duration": 97,
    "start_time": "2023-08-13T15:59:09.056Z"
   },
   {
    "duration": 3,
    "start_time": "2023-08-13T15:59:09.154Z"
   },
   {
    "duration": 92,
    "start_time": "2023-08-13T15:59:09.158Z"
   },
   {
    "duration": 12,
    "start_time": "2023-08-13T15:59:09.252Z"
   },
   {
    "duration": 1402,
    "start_time": "2023-08-13T15:59:09.266Z"
   },
   {
    "duration": 1073,
    "start_time": "2023-08-13T15:59:10.670Z"
   },
   {
    "duration": 12,
    "start_time": "2023-08-13T15:59:11.744Z"
   },
   {
    "duration": 28,
    "start_time": "2023-08-13T15:59:11.758Z"
   },
   {
    "duration": 50,
    "start_time": "2023-08-13T15:59:11.789Z"
   },
   {
    "duration": 50,
    "start_time": "2023-08-13T15:59:11.841Z"
   },
   {
    "duration": 24,
    "start_time": "2023-08-13T15:59:11.893Z"
   },
   {
    "duration": 32,
    "start_time": "2023-08-13T15:59:11.919Z"
   },
   {
    "duration": 86,
    "start_time": "2023-08-13T15:59:11.955Z"
   },
   {
    "duration": 46,
    "start_time": "2023-08-13T15:59:12.043Z"
   },
   {
    "duration": 416,
    "start_time": "2023-08-13T15:59:12.092Z"
   },
   {
    "duration": 529,
    "start_time": "2023-08-13T15:59:12.510Z"
   },
   {
    "duration": 522,
    "start_time": "2023-08-13T15:59:13.051Z"
   },
   {
    "duration": 498,
    "start_time": "2023-08-13T15:59:13.574Z"
   },
   {
    "duration": 414,
    "start_time": "2023-08-13T15:59:14.074Z"
   },
   {
    "duration": 455,
    "start_time": "2023-08-13T15:59:14.490Z"
   },
   {
    "duration": 26,
    "start_time": "2023-08-13T15:59:14.947Z"
   },
   {
    "duration": 29,
    "start_time": "2023-08-13T15:59:14.977Z"
   },
   {
    "duration": 36,
    "start_time": "2023-08-13T15:59:15.008Z"
   },
   {
    "duration": 67,
    "start_time": "2023-08-13T15:59:15.046Z"
   },
   {
    "duration": 26,
    "start_time": "2023-08-13T15:59:15.116Z"
   },
   {
    "duration": 74,
    "start_time": "2023-08-13T15:59:15.144Z"
   },
   {
    "duration": 25,
    "start_time": "2023-08-13T15:59:15.225Z"
   },
   {
    "duration": 50,
    "start_time": "2023-08-13T15:59:15.252Z"
   },
   {
    "duration": 5,
    "start_time": "2023-08-13T15:59:15.304Z"
   },
   {
    "duration": 109,
    "start_time": "2023-08-13T15:59:15.311Z"
   },
   {
    "duration": 63,
    "start_time": "2023-08-13T15:59:15.424Z"
   },
   {
    "duration": 9,
    "start_time": "2023-08-13T15:59:15.493Z"
   },
   {
    "duration": 44,
    "start_time": "2023-08-13T15:59:15.509Z"
   },
   {
    "duration": 18,
    "start_time": "2023-08-13T15:59:15.554Z"
   },
   {
    "duration": 74,
    "start_time": "2023-08-13T15:59:15.577Z"
   },
   {
    "duration": 8,
    "start_time": "2023-08-13T15:59:15.653Z"
   },
   {
    "duration": 4,
    "start_time": "2023-08-13T17:01:21.487Z"
   },
   {
    "duration": 171,
    "start_time": "2023-08-13T17:43:55.808Z"
   },
   {
    "duration": 264,
    "start_time": "2023-08-13T17:44:30.195Z"
   },
   {
    "duration": 188,
    "start_time": "2023-08-13T17:44:55.600Z"
   },
   {
    "duration": 213,
    "start_time": "2023-08-13T17:49:50.127Z"
   },
   {
    "duration": 176,
    "start_time": "2023-08-13T17:49:57.498Z"
   },
   {
    "duration": 168,
    "start_time": "2023-08-13T17:50:01.800Z"
   },
   {
    "duration": 289,
    "start_time": "2023-08-13T17:50:06.391Z"
   },
   {
    "duration": 732,
    "start_time": "2023-08-13T18:04:55.455Z"
   },
   {
    "duration": 25,
    "start_time": "2023-08-13T18:19:06.960Z"
   },
   {
    "duration": 189,
    "start_time": "2023-08-13T18:19:57.766Z"
   },
   {
    "duration": 114,
    "start_time": "2023-08-13T18:20:01.900Z"
   },
   {
    "duration": 118,
    "start_time": "2023-08-13T18:20:15.223Z"
   },
   {
    "duration": 69,
    "start_time": "2023-08-13T18:20:50.030Z"
   },
   {
    "duration": 40,
    "start_time": "2023-08-13T18:22:02.919Z"
   },
   {
    "duration": 37,
    "start_time": "2023-08-13T18:22:05.718Z"
   },
   {
    "duration": 33,
    "start_time": "2023-08-13T18:22:16.872Z"
   },
   {
    "duration": 41,
    "start_time": "2023-08-13T18:22:23.999Z"
   },
   {
    "duration": 33,
    "start_time": "2023-08-13T18:28:58.712Z"
   },
   {
    "duration": 17,
    "start_time": "2023-08-13T18:29:25.224Z"
   },
   {
    "duration": 344,
    "start_time": "2023-08-13T18:37:13.403Z"
   },
   {
    "duration": 364,
    "start_time": "2023-08-13T18:37:16.770Z"
   },
   {
    "duration": 335,
    "start_time": "2023-08-13T18:37:25.094Z"
   },
   {
    "duration": 424,
    "start_time": "2023-08-13T18:37:29.235Z"
   },
   {
    "duration": 25,
    "start_time": "2023-08-13T18:44:35.861Z"
   },
   {
    "duration": 21,
    "start_time": "2023-08-13T18:44:42.591Z"
   },
   {
    "duration": 21,
    "start_time": "2023-08-13T18:50:58.857Z"
   },
   {
    "duration": 7,
    "start_time": "2023-08-13T19:18:02.087Z"
   },
   {
    "duration": 9,
    "start_time": "2023-08-13T20:03:01.608Z"
   },
   {
    "duration": 1726,
    "start_time": "2023-08-13T20:03:26.095Z"
   },
   {
    "duration": 541,
    "start_time": "2023-08-13T20:03:27.823Z"
   },
   {
    "duration": 24,
    "start_time": "2023-08-13T20:03:28.365Z"
   },
   {
    "duration": 13,
    "start_time": "2023-08-13T20:03:28.393Z"
   },
   {
    "duration": 33,
    "start_time": "2023-08-13T20:03:28.408Z"
   },
   {
    "duration": 3,
    "start_time": "2023-08-13T20:03:28.444Z"
   },
   {
    "duration": 21,
    "start_time": "2023-08-13T20:03:28.448Z"
   },
   {
    "duration": 38,
    "start_time": "2023-08-13T20:03:28.471Z"
   },
   {
    "duration": 21,
    "start_time": "2023-08-13T20:03:28.511Z"
   },
   {
    "duration": 25,
    "start_time": "2023-08-13T20:03:28.533Z"
   },
   {
    "duration": 15,
    "start_time": "2023-08-13T20:03:28.560Z"
   },
   {
    "duration": 42,
    "start_time": "2023-08-13T20:03:28.576Z"
   },
   {
    "duration": 7,
    "start_time": "2023-08-13T20:03:28.620Z"
   },
   {
    "duration": 14,
    "start_time": "2023-08-13T20:03:28.630Z"
   },
   {
    "duration": 6,
    "start_time": "2023-08-13T20:03:28.646Z"
   },
   {
    "duration": 59,
    "start_time": "2023-08-13T20:03:28.654Z"
   },
   {
    "duration": 8,
    "start_time": "2023-08-13T20:03:28.715Z"
   },
   {
    "duration": 12,
    "start_time": "2023-08-13T20:03:28.724Z"
   },
   {
    "duration": 21,
    "start_time": "2023-08-13T20:03:28.737Z"
   },
   {
    "duration": 7,
    "start_time": "2023-08-13T20:03:28.761Z"
   },
   {
    "duration": 34,
    "start_time": "2023-08-13T20:03:28.769Z"
   },
   {
    "duration": 15,
    "start_time": "2023-08-13T20:03:28.806Z"
   },
   {
    "duration": 879,
    "start_time": "2023-08-13T20:03:28.823Z"
   },
   {
    "duration": 12,
    "start_time": "2023-08-13T20:03:29.704Z"
   },
   {
    "duration": 59,
    "start_time": "2023-08-13T20:03:29.718Z"
   },
   {
    "duration": 50,
    "start_time": "2023-08-13T20:03:29.780Z"
   },
   {
    "duration": 8,
    "start_time": "2023-08-13T20:03:29.832Z"
   },
   {
    "duration": 49,
    "start_time": "2023-08-13T20:03:29.842Z"
   },
   {
    "duration": 40,
    "start_time": "2023-08-13T20:03:29.894Z"
   },
   {
    "duration": 7,
    "start_time": "2023-08-13T20:03:29.936Z"
   },
   {
    "duration": 44,
    "start_time": "2023-08-13T20:03:29.945Z"
   },
   {
    "duration": 11,
    "start_time": "2023-08-13T20:03:29.993Z"
   },
   {
    "duration": 81,
    "start_time": "2023-08-13T20:03:30.007Z"
   },
   {
    "duration": 49,
    "start_time": "2023-08-13T20:03:30.090Z"
   },
   {
    "duration": 514,
    "start_time": "2023-08-13T20:03:30.141Z"
   },
   {
    "duration": 18,
    "start_time": "2023-08-13T20:03:30.659Z"
   },
   {
    "duration": 115,
    "start_time": "2023-08-13T20:03:30.679Z"
   },
   {
    "duration": 3,
    "start_time": "2023-08-13T20:03:30.796Z"
   },
   {
    "duration": 77,
    "start_time": "2023-08-13T20:03:30.801Z"
   },
   {
    "duration": 78,
    "start_time": "2023-08-13T20:03:30.880Z"
   },
   {
    "duration": 84,
    "start_time": "2023-08-13T20:03:30.964Z"
   },
   {
    "duration": 36,
    "start_time": "2023-08-13T20:03:31.050Z"
   },
   {
    "duration": 335,
    "start_time": "2023-08-13T20:03:31.088Z"
   },
   {
    "duration": 232,
    "start_time": "2023-08-13T20:03:31.425Z"
   },
   {
    "duration": 60,
    "start_time": "2023-08-13T20:03:31.659Z"
   },
   {
    "duration": 48,
    "start_time": "2023-08-13T20:03:31.721Z"
   },
   {
    "duration": 82,
    "start_time": "2023-08-13T20:03:31.771Z"
   },
   {
    "duration": 251,
    "start_time": "2023-08-13T20:03:31.855Z"
   },
   {
    "duration": 23,
    "start_time": "2023-08-13T20:03:32.107Z"
   },
   {
    "duration": 24,
    "start_time": "2023-08-13T20:03:32.132Z"
   },
   {
    "duration": 76,
    "start_time": "2023-08-13T20:03:32.159Z"
   },
   {
    "duration": 78,
    "start_time": "2023-08-13T20:03:32.237Z"
   },
   {
    "duration": 14,
    "start_time": "2023-08-13T20:03:32.316Z"
   },
   {
    "duration": 1026,
    "start_time": "2023-08-13T20:03:32.333Z"
   },
   {
    "duration": 718,
    "start_time": "2023-08-13T20:03:33.361Z"
   },
   {
    "duration": 35,
    "start_time": "2023-08-13T20:03:34.081Z"
   },
   {
    "duration": 86,
    "start_time": "2023-08-13T20:03:34.118Z"
   },
   {
    "duration": 36,
    "start_time": "2023-08-13T20:03:34.206Z"
   },
   {
    "duration": 49,
    "start_time": "2023-08-13T20:03:34.243Z"
   },
   {
    "duration": 18,
    "start_time": "2023-08-13T20:03:34.293Z"
   },
   {
    "duration": 30,
    "start_time": "2023-08-13T20:03:34.313Z"
   },
   {
    "duration": 15,
    "start_time": "2023-08-13T20:03:34.345Z"
   },
   {
    "duration": 48,
    "start_time": "2023-08-13T20:03:34.374Z"
   },
   {
    "duration": 398,
    "start_time": "2023-08-13T20:03:34.423Z"
   },
   {
    "duration": 528,
    "start_time": "2023-08-13T20:03:34.823Z"
   },
   {
    "duration": 371,
    "start_time": "2023-08-13T20:03:35.353Z"
   },
   {
    "duration": 428,
    "start_time": "2023-08-13T20:03:35.726Z"
   },
   {
    "duration": 393,
    "start_time": "2023-08-13T20:03:36.156Z"
   },
   {
    "duration": 396,
    "start_time": "2023-08-13T20:03:36.551Z"
   },
   {
    "duration": 41,
    "start_time": "2023-08-13T20:03:36.949Z"
   },
   {
    "duration": 21,
    "start_time": "2023-08-13T20:03:36.992Z"
   },
   {
    "duration": 24,
    "start_time": "2023-08-13T20:03:37.015Z"
   },
   {
    "duration": 58,
    "start_time": "2023-08-13T20:03:37.041Z"
   },
   {
    "duration": 29,
    "start_time": "2023-08-13T20:03:37.101Z"
   },
   {
    "duration": 53,
    "start_time": "2023-08-13T20:03:37.132Z"
   },
   {
    "duration": 20,
    "start_time": "2023-08-13T20:03:37.187Z"
   },
   {
    "duration": 3,
    "start_time": "2023-08-13T20:03:37.209Z"
   },
   {
    "duration": 68,
    "start_time": "2023-08-13T20:03:37.213Z"
   },
   {
    "duration": 48,
    "start_time": "2023-08-13T20:03:37.283Z"
   },
   {
    "duration": 5,
    "start_time": "2023-08-13T20:03:37.333Z"
   },
   {
    "duration": 17,
    "start_time": "2023-08-13T20:03:37.339Z"
   },
   {
    "duration": 17,
    "start_time": "2023-08-13T20:03:37.358Z"
   },
   {
    "duration": 31,
    "start_time": "2023-08-13T20:03:37.378Z"
   },
   {
    "duration": 38,
    "start_time": "2023-08-13T20:03:37.411Z"
   },
   {
    "duration": 1973,
    "start_time": "2023-08-13T20:20:34.275Z"
   },
   {
    "duration": 403,
    "start_time": "2023-08-13T20:20:36.250Z"
   },
   {
    "duration": 15,
    "start_time": "2023-08-13T20:20:36.655Z"
   },
   {
    "duration": 19,
    "start_time": "2023-08-13T20:20:36.672Z"
   },
   {
    "duration": 31,
    "start_time": "2023-08-13T20:20:36.694Z"
   },
   {
    "duration": 4,
    "start_time": "2023-08-13T20:20:36.727Z"
   },
   {
    "duration": 13,
    "start_time": "2023-08-13T20:20:36.733Z"
   },
   {
    "duration": 30,
    "start_time": "2023-08-13T20:20:36.747Z"
   },
   {
    "duration": 20,
    "start_time": "2023-08-13T20:20:36.779Z"
   },
   {
    "duration": 31,
    "start_time": "2023-08-13T20:20:36.802Z"
   },
   {
    "duration": 45,
    "start_time": "2023-08-13T20:20:36.834Z"
   },
   {
    "duration": 44,
    "start_time": "2023-08-13T20:20:36.883Z"
   },
   {
    "duration": 5,
    "start_time": "2023-08-13T20:20:36.930Z"
   },
   {
    "duration": 17,
    "start_time": "2023-08-13T20:20:36.937Z"
   },
   {
    "duration": 13,
    "start_time": "2023-08-13T20:20:36.956Z"
   },
   {
    "duration": 47,
    "start_time": "2023-08-13T20:20:36.971Z"
   },
   {
    "duration": 12,
    "start_time": "2023-08-13T20:20:37.020Z"
   },
   {
    "duration": 28,
    "start_time": "2023-08-13T20:20:37.033Z"
   },
   {
    "duration": 39,
    "start_time": "2023-08-13T20:20:37.063Z"
   },
   {
    "duration": 15,
    "start_time": "2023-08-13T20:20:37.106Z"
   },
   {
    "duration": 24,
    "start_time": "2023-08-13T20:20:37.123Z"
   },
   {
    "duration": 15,
    "start_time": "2023-08-13T20:20:37.149Z"
   },
   {
    "duration": 920,
    "start_time": "2023-08-13T20:20:37.166Z"
   },
   {
    "duration": 17,
    "start_time": "2023-08-13T20:20:38.088Z"
   },
   {
    "duration": 60,
    "start_time": "2023-08-13T20:20:38.107Z"
   },
   {
    "duration": 70,
    "start_time": "2023-08-13T20:20:38.169Z"
   },
   {
    "duration": 9,
    "start_time": "2023-08-13T20:20:38.240Z"
   },
   {
    "duration": 60,
    "start_time": "2023-08-13T20:20:38.255Z"
   },
   {
    "duration": 39,
    "start_time": "2023-08-13T20:20:38.317Z"
   },
   {
    "duration": 17,
    "start_time": "2023-08-13T20:20:38.358Z"
   },
   {
    "duration": 35,
    "start_time": "2023-08-13T20:20:38.378Z"
   },
   {
    "duration": 10,
    "start_time": "2023-08-13T20:20:38.415Z"
   },
   {
    "duration": 12,
    "start_time": "2023-08-13T20:20:38.427Z"
   },
   {
    "duration": 26,
    "start_time": "2023-08-13T20:20:38.441Z"
   },
   {
    "duration": 463,
    "start_time": "2023-08-13T20:20:38.475Z"
   },
   {
    "duration": 9,
    "start_time": "2023-08-13T20:20:38.939Z"
   },
   {
    "duration": 62,
    "start_time": "2023-08-13T20:20:38.950Z"
   },
   {
    "duration": 5,
    "start_time": "2023-08-13T20:20:39.014Z"
   },
   {
    "duration": 27,
    "start_time": "2023-08-13T20:20:39.020Z"
   },
   {
    "duration": 18,
    "start_time": "2023-08-13T20:20:39.048Z"
   },
   {
    "duration": 16,
    "start_time": "2023-08-13T20:20:39.068Z"
   },
   {
    "duration": 25,
    "start_time": "2023-08-13T20:20:39.087Z"
   },
   {
    "duration": 322,
    "start_time": "2023-08-13T20:20:39.114Z"
   },
   {
    "duration": 241,
    "start_time": "2023-08-13T20:20:39.440Z"
   },
   {
    "duration": 50,
    "start_time": "2023-08-13T20:20:39.683Z"
   },
   {
    "duration": 5,
    "start_time": "2023-08-13T20:20:39.735Z"
   },
   {
    "duration": 21,
    "start_time": "2023-08-13T20:20:39.741Z"
   },
   {
    "duration": 200,
    "start_time": "2023-08-13T20:20:39.764Z"
   },
   {
    "duration": 23,
    "start_time": "2023-08-13T20:20:39.966Z"
   },
   {
    "duration": 23,
    "start_time": "2023-08-13T20:20:39.992Z"
   },
   {
    "duration": 99,
    "start_time": "2023-08-13T20:20:40.017Z"
   },
   {
    "duration": 51,
    "start_time": "2023-08-13T20:20:40.118Z"
   },
   {
    "duration": 22,
    "start_time": "2023-08-13T20:20:40.170Z"
   },
   {
    "duration": 202,
    "start_time": "2023-08-13T20:20:40.194Z"
   },
   {
    "duration": 0,
    "start_time": "2023-08-13T20:20:40.399Z"
   },
   {
    "duration": 0,
    "start_time": "2023-08-13T20:20:40.400Z"
   },
   {
    "duration": 0,
    "start_time": "2023-08-13T20:20:40.403Z"
   },
   {
    "duration": 0,
    "start_time": "2023-08-13T20:20:40.405Z"
   },
   {
    "duration": 0,
    "start_time": "2023-08-13T20:20:40.406Z"
   },
   {
    "duration": 0,
    "start_time": "2023-08-13T20:20:40.408Z"
   },
   {
    "duration": 0,
    "start_time": "2023-08-13T20:20:40.410Z"
   },
   {
    "duration": 0,
    "start_time": "2023-08-13T20:20:40.412Z"
   },
   {
    "duration": 0,
    "start_time": "2023-08-13T20:20:40.413Z"
   },
   {
    "duration": 0,
    "start_time": "2023-08-13T20:20:40.414Z"
   },
   {
    "duration": 0,
    "start_time": "2023-08-13T20:20:40.415Z"
   },
   {
    "duration": 0,
    "start_time": "2023-08-13T20:20:40.415Z"
   },
   {
    "duration": 0,
    "start_time": "2023-08-13T20:20:40.416Z"
   },
   {
    "duration": 0,
    "start_time": "2023-08-13T20:20:40.417Z"
   },
   {
    "duration": 0,
    "start_time": "2023-08-13T20:20:40.419Z"
   },
   {
    "duration": 0,
    "start_time": "2023-08-13T20:20:40.420Z"
   },
   {
    "duration": 0,
    "start_time": "2023-08-13T20:20:40.421Z"
   },
   {
    "duration": 0,
    "start_time": "2023-08-13T20:20:40.423Z"
   },
   {
    "duration": 0,
    "start_time": "2023-08-13T20:20:40.425Z"
   },
   {
    "duration": 0,
    "start_time": "2023-08-13T20:20:40.428Z"
   },
   {
    "duration": 0,
    "start_time": "2023-08-13T20:20:40.429Z"
   },
   {
    "duration": 0,
    "start_time": "2023-08-13T20:20:40.430Z"
   },
   {
    "duration": 0,
    "start_time": "2023-08-13T20:20:40.431Z"
   },
   {
    "duration": 0,
    "start_time": "2023-08-13T20:20:40.433Z"
   },
   {
    "duration": 0,
    "start_time": "2023-08-13T20:20:40.434Z"
   },
   {
    "duration": 0,
    "start_time": "2023-08-13T20:20:40.436Z"
   },
   {
    "duration": 0,
    "start_time": "2023-08-13T20:20:40.437Z"
   },
   {
    "duration": 0,
    "start_time": "2023-08-13T20:20:40.439Z"
   },
   {
    "duration": 0,
    "start_time": "2023-08-13T20:20:40.440Z"
   },
   {
    "duration": 0,
    "start_time": "2023-08-13T20:20:40.442Z"
   },
   {
    "duration": 1728,
    "start_time": "2023-08-13T20:21:18.507Z"
   },
   {
    "duration": 331,
    "start_time": "2023-08-13T20:21:20.238Z"
   },
   {
    "duration": 23,
    "start_time": "2023-08-13T20:21:20.571Z"
   },
   {
    "duration": 24,
    "start_time": "2023-08-13T20:21:20.596Z"
   },
   {
    "duration": 43,
    "start_time": "2023-08-13T20:21:20.623Z"
   },
   {
    "duration": 13,
    "start_time": "2023-08-13T20:21:20.668Z"
   },
   {
    "duration": 31,
    "start_time": "2023-08-13T20:21:20.683Z"
   },
   {
    "duration": 37,
    "start_time": "2023-08-13T20:21:20.716Z"
   },
   {
    "duration": 40,
    "start_time": "2023-08-13T20:21:20.755Z"
   },
   {
    "duration": 45,
    "start_time": "2023-08-13T20:21:20.797Z"
   },
   {
    "duration": 26,
    "start_time": "2023-08-13T20:21:20.843Z"
   },
   {
    "duration": 43,
    "start_time": "2023-08-13T20:21:20.871Z"
   },
   {
    "duration": 7,
    "start_time": "2023-08-13T20:21:20.916Z"
   },
   {
    "duration": 60,
    "start_time": "2023-08-13T20:21:20.927Z"
   },
   {
    "duration": 34,
    "start_time": "2023-08-13T20:21:20.988Z"
   },
   {
    "duration": 61,
    "start_time": "2023-08-13T20:21:21.024Z"
   },
   {
    "duration": 12,
    "start_time": "2023-08-13T20:21:21.088Z"
   },
   {
    "duration": 33,
    "start_time": "2023-08-13T20:21:21.102Z"
   },
   {
    "duration": 41,
    "start_time": "2023-08-13T20:21:21.137Z"
   },
   {
    "duration": 16,
    "start_time": "2023-08-13T20:21:21.181Z"
   },
   {
    "duration": 39,
    "start_time": "2023-08-13T20:21:21.200Z"
   },
   {
    "duration": 20,
    "start_time": "2023-08-13T20:21:21.241Z"
   },
   {
    "duration": 908,
    "start_time": "2023-08-13T20:21:21.262Z"
   },
   {
    "duration": 20,
    "start_time": "2023-08-13T20:21:22.172Z"
   },
   {
    "duration": 55,
    "start_time": "2023-08-13T20:21:22.195Z"
   },
   {
    "duration": 72,
    "start_time": "2023-08-13T20:21:22.252Z"
   },
   {
    "duration": 6,
    "start_time": "2023-08-13T20:21:22.326Z"
   },
   {
    "duration": 34,
    "start_time": "2023-08-13T20:21:22.333Z"
   },
   {
    "duration": 62,
    "start_time": "2023-08-13T20:21:22.368Z"
   },
   {
    "duration": 6,
    "start_time": "2023-08-13T20:21:22.432Z"
   },
   {
    "duration": 21,
    "start_time": "2023-08-13T20:21:22.440Z"
   },
   {
    "duration": 15,
    "start_time": "2023-08-13T20:21:22.463Z"
   },
   {
    "duration": 28,
    "start_time": "2023-08-13T20:21:22.481Z"
   },
   {
    "duration": 34,
    "start_time": "2023-08-13T20:21:22.511Z"
   },
   {
    "duration": 487,
    "start_time": "2023-08-13T20:21:22.547Z"
   },
   {
    "duration": 10,
    "start_time": "2023-08-13T20:21:23.035Z"
   },
   {
    "duration": 68,
    "start_time": "2023-08-13T20:21:23.046Z"
   },
   {
    "duration": 3,
    "start_time": "2023-08-13T20:21:23.116Z"
   },
   {
    "duration": 38,
    "start_time": "2023-08-13T20:21:23.121Z"
   },
   {
    "duration": 16,
    "start_time": "2023-08-13T20:21:23.161Z"
   },
   {
    "duration": 23,
    "start_time": "2023-08-13T20:21:23.186Z"
   },
   {
    "duration": 10,
    "start_time": "2023-08-13T20:21:23.211Z"
   },
   {
    "duration": 346,
    "start_time": "2023-08-13T20:21:23.223Z"
   },
   {
    "duration": 265,
    "start_time": "2023-08-13T20:21:23.571Z"
   },
   {
    "duration": 53,
    "start_time": "2023-08-13T20:21:23.838Z"
   },
   {
    "duration": 12,
    "start_time": "2023-08-13T20:21:23.893Z"
   },
   {
    "duration": 30,
    "start_time": "2023-08-13T20:21:23.907Z"
   },
   {
    "duration": 202,
    "start_time": "2023-08-13T20:21:23.939Z"
   },
   {
    "duration": 17,
    "start_time": "2023-08-13T20:21:24.143Z"
   },
   {
    "duration": 26,
    "start_time": "2023-08-13T20:21:24.162Z"
   },
   {
    "duration": 94,
    "start_time": "2023-08-13T20:21:24.191Z"
   },
   {
    "duration": 56,
    "start_time": "2023-08-13T20:21:24.288Z"
   },
   {
    "duration": 12,
    "start_time": "2023-08-13T20:21:24.346Z"
   },
   {
    "duration": 1096,
    "start_time": "2023-08-13T20:21:24.360Z"
   },
   {
    "duration": 718,
    "start_time": "2023-08-13T20:21:25.457Z"
   },
   {
    "duration": 99,
    "start_time": "2023-08-13T20:21:26.178Z"
   },
   {
    "duration": 28,
    "start_time": "2023-08-13T20:21:26.280Z"
   },
   {
    "duration": 34,
    "start_time": "2023-08-13T20:21:26.310Z"
   },
   {
    "duration": 80,
    "start_time": "2023-08-13T20:21:26.347Z"
   },
   {
    "duration": 17,
    "start_time": "2023-08-13T20:21:26.429Z"
   },
   {
    "duration": 23,
    "start_time": "2023-08-13T20:21:26.447Z"
   },
   {
    "duration": 34,
    "start_time": "2023-08-13T20:21:26.476Z"
   },
   {
    "duration": 39,
    "start_time": "2023-08-13T20:21:26.513Z"
   },
   {
    "duration": 400,
    "start_time": "2023-08-13T20:21:26.554Z"
   },
   {
    "duration": 523,
    "start_time": "2023-08-13T20:21:26.955Z"
   },
   {
    "duration": 381,
    "start_time": "2023-08-13T20:21:27.480Z"
   },
   {
    "duration": 409,
    "start_time": "2023-08-13T20:21:27.863Z"
   },
   {
    "duration": 368,
    "start_time": "2023-08-13T20:21:28.274Z"
   },
   {
    "duration": 427,
    "start_time": "2023-08-13T20:21:28.644Z"
   },
   {
    "duration": 42,
    "start_time": "2023-08-13T20:21:29.073Z"
   },
   {
    "duration": 19,
    "start_time": "2023-08-13T20:21:29.117Z"
   },
   {
    "duration": 43,
    "start_time": "2023-08-13T20:21:29.137Z"
   },
   {
    "duration": 31,
    "start_time": "2023-08-13T20:21:29.183Z"
   },
   {
    "duration": 18,
    "start_time": "2023-08-13T20:21:29.216Z"
   },
   {
    "duration": 63,
    "start_time": "2023-08-13T20:21:29.235Z"
   },
   {
    "duration": 27,
    "start_time": "2023-08-13T20:21:29.300Z"
   },
   {
    "duration": 12,
    "start_time": "2023-08-13T20:21:29.329Z"
   },
   {
    "duration": 80,
    "start_time": "2023-08-13T20:21:29.342Z"
   },
   {
    "duration": 45,
    "start_time": "2023-08-13T20:21:29.424Z"
   },
   {
    "duration": 6,
    "start_time": "2023-08-13T20:21:29.471Z"
   },
   {
    "duration": 19,
    "start_time": "2023-08-13T20:21:29.479Z"
   },
   {
    "duration": 8,
    "start_time": "2023-08-13T20:21:29.501Z"
   },
   {
    "duration": 28,
    "start_time": "2023-08-13T20:21:29.511Z"
   },
   {
    "duration": 7,
    "start_time": "2023-08-13T20:21:29.542Z"
   },
   {
    "duration": 2267,
    "start_time": "2023-08-13T20:25:48.304Z"
   },
   {
    "duration": 403,
    "start_time": "2023-08-13T20:25:50.574Z"
   },
   {
    "duration": 23,
    "start_time": "2023-08-13T20:25:50.980Z"
   },
   {
    "duration": 24,
    "start_time": "2023-08-13T20:25:51.006Z"
   },
   {
    "duration": 98,
    "start_time": "2023-08-13T20:25:51.033Z"
   },
   {
    "duration": 37,
    "start_time": "2023-08-13T20:25:51.133Z"
   },
   {
    "duration": 21,
    "start_time": "2023-08-13T20:25:51.172Z"
   },
   {
    "duration": 49,
    "start_time": "2023-08-13T20:25:51.198Z"
   },
   {
    "duration": 56,
    "start_time": "2023-08-13T20:25:51.249Z"
   },
   {
    "duration": 41,
    "start_time": "2023-08-13T20:25:51.307Z"
   },
   {
    "duration": 51,
    "start_time": "2023-08-13T20:25:51.350Z"
   },
   {
    "duration": 46,
    "start_time": "2023-08-13T20:25:51.403Z"
   },
   {
    "duration": 7,
    "start_time": "2023-08-13T20:25:51.450Z"
   },
   {
    "duration": 41,
    "start_time": "2023-08-13T20:25:51.459Z"
   },
   {
    "duration": 31,
    "start_time": "2023-08-13T20:25:51.504Z"
   },
   {
    "duration": 44,
    "start_time": "2023-08-13T20:25:51.537Z"
   },
   {
    "duration": 48,
    "start_time": "2023-08-13T20:25:51.585Z"
   },
   {
    "duration": 49,
    "start_time": "2023-08-13T20:25:51.635Z"
   },
   {
    "duration": 61,
    "start_time": "2023-08-13T20:25:51.687Z"
   },
   {
    "duration": 19,
    "start_time": "2023-08-13T20:25:51.750Z"
   },
   {
    "duration": 50,
    "start_time": "2023-08-13T20:25:51.771Z"
   },
   {
    "duration": 27,
    "start_time": "2023-08-13T20:25:51.822Z"
   },
   {
    "duration": 1106,
    "start_time": "2023-08-13T20:25:51.850Z"
   },
   {
    "duration": 14,
    "start_time": "2023-08-13T20:25:52.958Z"
   },
   {
    "duration": 82,
    "start_time": "2023-08-13T20:25:52.974Z"
   },
   {
    "duration": 67,
    "start_time": "2023-08-13T20:25:53.058Z"
   },
   {
    "duration": 21,
    "start_time": "2023-08-13T20:25:53.126Z"
   },
   {
    "duration": 40,
    "start_time": "2023-08-13T20:25:53.148Z"
   },
   {
    "duration": 54,
    "start_time": "2023-08-13T20:25:53.190Z"
   },
   {
    "duration": 6,
    "start_time": "2023-08-13T20:25:53.246Z"
   },
   {
    "duration": 50,
    "start_time": "2023-08-13T20:25:53.254Z"
   },
   {
    "duration": 15,
    "start_time": "2023-08-13T20:25:53.306Z"
   },
   {
    "duration": 16,
    "start_time": "2023-08-13T20:25:53.323Z"
   },
   {
    "duration": 21,
    "start_time": "2023-08-13T20:25:53.340Z"
   },
   {
    "duration": 518,
    "start_time": "2023-08-13T20:25:53.363Z"
   },
   {
    "duration": 12,
    "start_time": "2023-08-13T20:25:53.883Z"
   },
   {
    "duration": 59,
    "start_time": "2023-08-13T20:25:53.897Z"
   },
   {
    "duration": 3,
    "start_time": "2023-08-13T20:25:53.958Z"
   },
   {
    "duration": 28,
    "start_time": "2023-08-13T20:25:53.975Z"
   },
   {
    "duration": 20,
    "start_time": "2023-08-13T20:25:54.006Z"
   },
   {
    "duration": 31,
    "start_time": "2023-08-13T20:25:54.032Z"
   },
   {
    "duration": 40,
    "start_time": "2023-08-13T20:25:54.064Z"
   },
   {
    "duration": 379,
    "start_time": "2023-08-13T20:25:54.106Z"
   },
   {
    "duration": 264,
    "start_time": "2023-08-13T20:25:54.488Z"
   },
   {
    "duration": 69,
    "start_time": "2023-08-13T20:25:54.754Z"
   },
   {
    "duration": 5,
    "start_time": "2023-08-13T20:25:54.825Z"
   },
   {
    "duration": 23,
    "start_time": "2023-08-13T20:25:54.831Z"
   },
   {
    "duration": 239,
    "start_time": "2023-08-13T20:25:54.856Z"
   },
   {
    "duration": 26,
    "start_time": "2023-08-13T20:25:55.099Z"
   },
   {
    "duration": 31,
    "start_time": "2023-08-13T20:25:55.127Z"
   },
   {
    "duration": 80,
    "start_time": "2023-08-13T20:25:55.160Z"
   },
   {
    "duration": 70,
    "start_time": "2023-08-13T20:25:55.242Z"
   },
   {
    "duration": 15,
    "start_time": "2023-08-13T20:25:55.314Z"
   },
   {
    "duration": 1212,
    "start_time": "2023-08-13T20:25:55.331Z"
   },
   {
    "duration": 945,
    "start_time": "2023-08-13T20:25:56.545Z"
   },
   {
    "duration": 32,
    "start_time": "2023-08-13T20:25:57.495Z"
   },
   {
    "duration": 16,
    "start_time": "2023-08-13T20:25:57.528Z"
   },
   {
    "duration": 47,
    "start_time": "2023-08-13T20:25:57.546Z"
   },
   {
    "duration": 56,
    "start_time": "2023-08-13T20:25:57.596Z"
   },
   {
    "duration": 16,
    "start_time": "2023-08-13T20:25:57.654Z"
   },
   {
    "duration": 49,
    "start_time": "2023-08-13T20:25:57.672Z"
   },
   {
    "duration": 14,
    "start_time": "2023-08-13T20:25:57.722Z"
   },
   {
    "duration": 48,
    "start_time": "2023-08-13T20:25:57.738Z"
   },
   {
    "duration": 388,
    "start_time": "2023-08-13T20:25:57.789Z"
   },
   {
    "duration": 574,
    "start_time": "2023-08-13T20:25:58.180Z"
   },
   {
    "duration": 404,
    "start_time": "2023-08-13T20:25:58.756Z"
   },
   {
    "duration": 419,
    "start_time": "2023-08-13T20:25:59.161Z"
   },
   {
    "duration": 366,
    "start_time": "2023-08-13T20:25:59.585Z"
   },
   {
    "duration": 505,
    "start_time": "2023-08-13T20:25:59.953Z"
   },
   {
    "duration": 55,
    "start_time": "2023-08-13T20:26:00.460Z"
   },
   {
    "duration": 28,
    "start_time": "2023-08-13T20:26:00.521Z"
   },
   {
    "duration": 59,
    "start_time": "2023-08-13T20:26:00.551Z"
   },
   {
    "duration": 27,
    "start_time": "2023-08-13T20:26:00.612Z"
   },
   {
    "duration": 59,
    "start_time": "2023-08-13T20:26:00.641Z"
   },
   {
    "duration": 38,
    "start_time": "2023-08-13T20:26:00.703Z"
   },
   {
    "duration": 23,
    "start_time": "2023-08-13T20:26:00.743Z"
   },
   {
    "duration": 55,
    "start_time": "2023-08-13T20:26:00.768Z"
   },
   {
    "duration": 69,
    "start_time": "2023-08-13T20:26:00.825Z"
   },
   {
    "duration": 60,
    "start_time": "2023-08-13T20:26:00.897Z"
   },
   {
    "duration": 5,
    "start_time": "2023-08-13T20:26:00.959Z"
   },
   {
    "duration": 50,
    "start_time": "2023-08-13T20:26:00.965Z"
   },
   {
    "duration": 143,
    "start_time": "2023-08-13T20:26:01.018Z"
   },
   {
    "duration": 85,
    "start_time": "2023-08-13T20:26:01.163Z"
   },
   {
    "duration": 93,
    "start_time": "2023-08-13T20:26:01.250Z"
   },
   {
    "duration": 425,
    "start_time": "2023-08-13T20:27:27.323Z"
   },
   {
    "duration": 442,
    "start_time": "2023-08-13T20:27:39.429Z"
   },
   {
    "duration": 619,
    "start_time": "2023-08-13T20:27:50.102Z"
   },
   {
    "duration": 461,
    "start_time": "2023-08-13T20:27:56.135Z"
   },
   {
    "duration": 438,
    "start_time": "2023-08-13T20:28:04.196Z"
   },
   {
    "duration": 559,
    "start_time": "2023-08-13T20:28:13.371Z"
   },
   {
    "duration": 523,
    "start_time": "2023-08-13T20:28:27.540Z"
   },
   {
    "duration": 2079,
    "start_time": "2023-08-13T20:29:19.728Z"
   },
   {
    "duration": 381,
    "start_time": "2023-08-13T20:29:21.811Z"
   },
   {
    "duration": 22,
    "start_time": "2023-08-13T20:29:22.194Z"
   },
   {
    "duration": 19,
    "start_time": "2023-08-13T20:29:22.218Z"
   },
   {
    "duration": 58,
    "start_time": "2023-08-13T20:29:22.240Z"
   },
   {
    "duration": 8,
    "start_time": "2023-08-13T20:29:22.303Z"
   },
   {
    "duration": 22,
    "start_time": "2023-08-13T20:29:22.314Z"
   },
   {
    "duration": 39,
    "start_time": "2023-08-13T20:29:22.342Z"
   },
   {
    "duration": 20,
    "start_time": "2023-08-13T20:29:22.388Z"
   },
   {
    "duration": 22,
    "start_time": "2023-08-13T20:29:22.411Z"
   },
   {
    "duration": 7,
    "start_time": "2023-08-13T20:29:22.440Z"
   },
   {
    "duration": 79,
    "start_time": "2023-08-13T20:29:22.449Z"
   },
   {
    "duration": 7,
    "start_time": "2023-08-13T20:29:22.530Z"
   },
   {
    "duration": 11,
    "start_time": "2023-08-13T20:29:22.542Z"
   },
   {
    "duration": 21,
    "start_time": "2023-08-13T20:29:22.556Z"
   },
   {
    "duration": 44,
    "start_time": "2023-08-13T20:29:22.579Z"
   },
   {
    "duration": 11,
    "start_time": "2023-08-13T20:29:22.626Z"
   },
   {
    "duration": 14,
    "start_time": "2023-08-13T20:29:22.639Z"
   },
   {
    "duration": 59,
    "start_time": "2023-08-13T20:29:22.655Z"
   },
   {
    "duration": 7,
    "start_time": "2023-08-13T20:29:22.716Z"
   },
   {
    "duration": 29,
    "start_time": "2023-08-13T20:29:22.725Z"
   },
   {
    "duration": 15,
    "start_time": "2023-08-13T20:29:22.757Z"
   },
   {
    "duration": 1053,
    "start_time": "2023-08-13T20:29:22.774Z"
   },
   {
    "duration": 14,
    "start_time": "2023-08-13T20:29:23.829Z"
   },
   {
    "duration": 111,
    "start_time": "2023-08-13T20:29:23.845Z"
   },
   {
    "duration": 72,
    "start_time": "2023-08-13T20:29:23.958Z"
   },
   {
    "duration": 8,
    "start_time": "2023-08-13T20:29:24.032Z"
   },
   {
    "duration": 28,
    "start_time": "2023-08-13T20:29:24.042Z"
   },
   {
    "duration": 72,
    "start_time": "2023-08-13T20:29:24.071Z"
   },
   {
    "duration": 7,
    "start_time": "2023-08-13T20:29:24.144Z"
   },
   {
    "duration": 30,
    "start_time": "2023-08-13T20:29:24.153Z"
   },
   {
    "duration": 12,
    "start_time": "2023-08-13T20:29:24.185Z"
   },
   {
    "duration": 8,
    "start_time": "2023-08-13T20:29:24.200Z"
   },
   {
    "duration": 24,
    "start_time": "2023-08-13T20:29:24.211Z"
   },
   {
    "duration": 551,
    "start_time": "2023-08-13T20:29:24.236Z"
   },
   {
    "duration": 16,
    "start_time": "2023-08-13T20:29:24.792Z"
   },
   {
    "duration": 44,
    "start_time": "2023-08-13T20:29:24.810Z"
   },
   {
    "duration": 3,
    "start_time": "2023-08-13T20:29:24.856Z"
   },
   {
    "duration": 31,
    "start_time": "2023-08-13T20:29:24.875Z"
   },
   {
    "duration": 12,
    "start_time": "2023-08-13T20:29:24.908Z"
   },
   {
    "duration": 13,
    "start_time": "2023-08-13T20:29:24.929Z"
   },
   {
    "duration": 10,
    "start_time": "2023-08-13T20:29:24.944Z"
   },
   {
    "duration": 385,
    "start_time": "2023-08-13T20:29:24.955Z"
   },
   {
    "duration": 295,
    "start_time": "2023-08-13T20:29:25.342Z"
   },
   {
    "duration": 44,
    "start_time": "2023-08-13T20:29:25.639Z"
   },
   {
    "duration": 23,
    "start_time": "2023-08-13T20:29:25.684Z"
   },
   {
    "duration": 40,
    "start_time": "2023-08-13T20:29:25.711Z"
   },
   {
    "duration": 235,
    "start_time": "2023-08-13T20:29:25.753Z"
   },
   {
    "duration": 40,
    "start_time": "2023-08-13T20:29:25.991Z"
   },
   {
    "duration": 29,
    "start_time": "2023-08-13T20:29:26.034Z"
   },
   {
    "duration": 106,
    "start_time": "2023-08-13T20:29:26.065Z"
   },
   {
    "duration": 92,
    "start_time": "2023-08-13T20:29:26.173Z"
   },
   {
    "duration": 17,
    "start_time": "2023-08-13T20:29:26.267Z"
   },
   {
    "duration": 1223,
    "start_time": "2023-08-13T20:29:26.286Z"
   },
   {
    "duration": 1006,
    "start_time": "2023-08-13T20:29:27.511Z"
   },
   {
    "duration": 42,
    "start_time": "2023-08-13T20:29:28.579Z"
   },
   {
    "duration": 16,
    "start_time": "2023-08-13T20:29:28.623Z"
   },
   {
    "duration": 52,
    "start_time": "2023-08-13T20:29:28.641Z"
   },
   {
    "duration": 58,
    "start_time": "2023-08-13T20:29:28.695Z"
   },
   {
    "duration": 21,
    "start_time": "2023-08-13T20:29:28.755Z"
   },
   {
    "duration": 44,
    "start_time": "2023-08-13T20:29:28.782Z"
   },
   {
    "duration": 14,
    "start_time": "2023-08-13T20:29:28.828Z"
   },
   {
    "duration": 45,
    "start_time": "2023-08-13T20:29:28.843Z"
   },
   {
    "duration": 410,
    "start_time": "2023-08-13T20:29:28.891Z"
   },
   {
    "duration": 603,
    "start_time": "2023-08-13T20:29:29.304Z"
   },
   {
    "duration": 394,
    "start_time": "2023-08-13T20:29:29.913Z"
   },
   {
    "duration": 519,
    "start_time": "2023-08-13T20:29:30.310Z"
   },
   {
    "duration": 460,
    "start_time": "2023-08-13T20:29:30.835Z"
   },
   {
    "duration": 442,
    "start_time": "2023-08-13T20:29:31.298Z"
   },
   {
    "duration": 30,
    "start_time": "2023-08-13T20:29:31.742Z"
   },
   {
    "duration": 40,
    "start_time": "2023-08-13T20:29:31.774Z"
   },
   {
    "duration": 37,
    "start_time": "2023-08-13T20:29:31.816Z"
   },
   {
    "duration": 37,
    "start_time": "2023-08-13T20:29:31.855Z"
   },
   {
    "duration": 50,
    "start_time": "2023-08-13T20:29:31.895Z"
   },
   {
    "duration": 86,
    "start_time": "2023-08-13T20:29:31.947Z"
   },
   {
    "duration": 75,
    "start_time": "2023-08-13T20:29:32.035Z"
   },
   {
    "duration": 6,
    "start_time": "2023-08-13T20:29:32.114Z"
   },
   {
    "duration": 98,
    "start_time": "2023-08-13T20:29:32.122Z"
   },
   {
    "duration": 64,
    "start_time": "2023-08-13T20:29:32.224Z"
   },
   {
    "duration": 9,
    "start_time": "2023-08-13T20:29:32.291Z"
   },
   {
    "duration": 21,
    "start_time": "2023-08-13T20:29:32.303Z"
   },
   {
    "duration": 35,
    "start_time": "2023-08-13T20:29:32.329Z"
   },
   {
    "duration": 53,
    "start_time": "2023-08-13T20:29:32.366Z"
   },
   {
    "duration": 11,
    "start_time": "2023-08-13T20:29:32.422Z"
   },
   {
    "duration": 471,
    "start_time": "2023-08-13T20:30:22.541Z"
   },
   {
    "duration": 2268,
    "start_time": "2023-08-13T20:30:27.997Z"
   },
   {
    "duration": 482,
    "start_time": "2023-08-13T20:30:30.267Z"
   },
   {
    "duration": 22,
    "start_time": "2023-08-13T20:30:30.751Z"
   },
   {
    "duration": 59,
    "start_time": "2023-08-13T20:30:30.775Z"
   },
   {
    "duration": 78,
    "start_time": "2023-08-13T20:30:30.837Z"
   },
   {
    "duration": 83,
    "start_time": "2023-08-13T20:30:30.919Z"
   },
   {
    "duration": 339,
    "start_time": "2023-08-13T20:30:31.005Z"
   },
   {
    "duration": 84,
    "start_time": "2023-08-13T20:30:31.346Z"
   },
   {
    "duration": 80,
    "start_time": "2023-08-13T20:30:31.432Z"
   },
   {
    "duration": 81,
    "start_time": "2023-08-13T20:30:31.518Z"
   },
   {
    "duration": 54,
    "start_time": "2023-08-13T20:30:31.601Z"
   },
   {
    "duration": 78,
    "start_time": "2023-08-13T20:30:31.657Z"
   },
   {
    "duration": 28,
    "start_time": "2023-08-13T20:30:31.737Z"
   },
   {
    "duration": 54,
    "start_time": "2023-08-13T20:30:31.769Z"
   },
   {
    "duration": 49,
    "start_time": "2023-08-13T20:30:31.824Z"
   },
   {
    "duration": 57,
    "start_time": "2023-08-13T20:30:31.876Z"
   },
   {
    "duration": 27,
    "start_time": "2023-08-13T20:30:31.935Z"
   },
   {
    "duration": 23,
    "start_time": "2023-08-13T20:30:31.964Z"
   },
   {
    "duration": 33,
    "start_time": "2023-08-13T20:30:31.992Z"
   },
   {
    "duration": 12,
    "start_time": "2023-08-13T20:30:32.027Z"
   },
   {
    "duration": 75,
    "start_time": "2023-08-13T20:30:32.041Z"
   },
   {
    "duration": 28,
    "start_time": "2023-08-13T20:30:32.118Z"
   },
   {
    "duration": 1198,
    "start_time": "2023-08-13T20:30:32.147Z"
   },
   {
    "duration": 12,
    "start_time": "2023-08-13T20:30:33.347Z"
   },
   {
    "duration": 83,
    "start_time": "2023-08-13T20:30:33.360Z"
   },
   {
    "duration": 52,
    "start_time": "2023-08-13T20:30:33.445Z"
   },
   {
    "duration": 11,
    "start_time": "2023-08-13T20:30:33.500Z"
   },
   {
    "duration": 52,
    "start_time": "2023-08-13T20:30:33.513Z"
   },
   {
    "duration": 69,
    "start_time": "2023-08-13T20:30:33.568Z"
   },
   {
    "duration": 6,
    "start_time": "2023-08-13T20:30:33.639Z"
   },
   {
    "duration": 24,
    "start_time": "2023-08-13T20:30:33.647Z"
   },
   {
    "duration": 42,
    "start_time": "2023-08-13T20:30:33.673Z"
   },
   {
    "duration": 4,
    "start_time": "2023-08-13T20:30:33.719Z"
   },
   {
    "duration": 32,
    "start_time": "2023-08-13T20:30:33.724Z"
   },
   {
    "duration": 572,
    "start_time": "2023-08-13T20:30:33.757Z"
   },
   {
    "duration": 10,
    "start_time": "2023-08-13T20:30:34.331Z"
   },
   {
    "duration": 83,
    "start_time": "2023-08-13T20:30:34.342Z"
   },
   {
    "duration": 4,
    "start_time": "2023-08-13T20:30:34.427Z"
   },
   {
    "duration": 27,
    "start_time": "2023-08-13T20:30:34.432Z"
   },
   {
    "duration": 17,
    "start_time": "2023-08-13T20:30:34.461Z"
   },
   {
    "duration": 19,
    "start_time": "2023-08-13T20:30:34.485Z"
   },
   {
    "duration": 14,
    "start_time": "2023-08-13T20:30:34.506Z"
   },
   {
    "duration": 387,
    "start_time": "2023-08-13T20:30:34.524Z"
   },
   {
    "duration": 278,
    "start_time": "2023-08-13T20:30:34.913Z"
   },
   {
    "duration": 52,
    "start_time": "2023-08-13T20:30:35.193Z"
   },
   {
    "duration": 6,
    "start_time": "2023-08-13T20:30:35.247Z"
   },
   {
    "duration": 28,
    "start_time": "2023-08-13T20:30:35.255Z"
   },
   {
    "duration": 234,
    "start_time": "2023-08-13T20:30:35.286Z"
   },
   {
    "duration": 19,
    "start_time": "2023-08-13T20:30:35.522Z"
   },
   {
    "duration": 16,
    "start_time": "2023-08-13T20:30:35.543Z"
   },
   {
    "duration": 88,
    "start_time": "2023-08-13T20:30:35.561Z"
   },
   {
    "duration": 75,
    "start_time": "2023-08-13T20:30:35.651Z"
   },
   {
    "duration": 13,
    "start_time": "2023-08-13T20:30:35.729Z"
   },
   {
    "duration": 1290,
    "start_time": "2023-08-13T20:30:35.744Z"
   },
   {
    "duration": 944,
    "start_time": "2023-08-13T20:30:37.035Z"
   },
   {
    "duration": 41,
    "start_time": "2023-08-13T20:30:37.981Z"
   },
   {
    "duration": 23,
    "start_time": "2023-08-13T20:30:38.024Z"
   },
   {
    "duration": 70,
    "start_time": "2023-08-13T20:30:38.049Z"
   },
   {
    "duration": 58,
    "start_time": "2023-08-13T20:30:38.121Z"
   },
   {
    "duration": 34,
    "start_time": "2023-08-13T20:30:38.182Z"
   },
   {
    "duration": 21,
    "start_time": "2023-08-13T20:30:38.218Z"
   },
   {
    "duration": 14,
    "start_time": "2023-08-13T20:30:38.241Z"
   },
   {
    "duration": 74,
    "start_time": "2023-08-13T20:30:38.257Z"
   },
   {
    "duration": 419,
    "start_time": "2023-08-13T20:30:38.333Z"
   },
   {
    "duration": 535,
    "start_time": "2023-08-13T20:30:38.753Z"
   },
   {
    "duration": 392,
    "start_time": "2023-08-13T20:30:39.291Z"
   },
   {
    "duration": 450,
    "start_time": "2023-08-13T20:30:39.686Z"
   },
   {
    "duration": 456,
    "start_time": "2023-08-13T20:30:40.139Z"
   },
   {
    "duration": 422,
    "start_time": "2023-08-13T20:30:40.598Z"
   },
   {
    "duration": 33,
    "start_time": "2023-08-13T20:30:41.022Z"
   },
   {
    "duration": 34,
    "start_time": "2023-08-13T20:30:41.056Z"
   },
   {
    "duration": 36,
    "start_time": "2023-08-13T20:30:41.094Z"
   },
   {
    "duration": 56,
    "start_time": "2023-08-13T20:30:41.132Z"
   },
   {
    "duration": 33,
    "start_time": "2023-08-13T20:30:41.190Z"
   },
   {
    "duration": 20,
    "start_time": "2023-08-13T20:30:41.224Z"
   },
   {
    "duration": 44,
    "start_time": "2023-08-13T20:30:41.245Z"
   },
   {
    "duration": 4,
    "start_time": "2023-08-13T20:30:41.291Z"
   },
   {
    "duration": 61,
    "start_time": "2023-08-13T20:30:41.297Z"
   },
   {
    "duration": 70,
    "start_time": "2023-08-13T20:30:41.360Z"
   },
   {
    "duration": 6,
    "start_time": "2023-08-13T20:30:41.432Z"
   },
   {
    "duration": 26,
    "start_time": "2023-08-13T20:30:41.440Z"
   },
   {
    "duration": 8,
    "start_time": "2023-08-13T20:30:41.468Z"
   },
   {
    "duration": 32,
    "start_time": "2023-08-13T20:30:41.477Z"
   },
   {
    "duration": 9,
    "start_time": "2023-08-13T20:30:41.514Z"
   },
   {
    "duration": 446,
    "start_time": "2023-08-13T20:31:04.593Z"
   },
   {
    "duration": 1830,
    "start_time": "2023-08-13T20:31:11.368Z"
   },
   {
    "duration": 354,
    "start_time": "2023-08-13T20:31:13.202Z"
   },
   {
    "duration": 14,
    "start_time": "2023-08-13T20:31:13.558Z"
   },
   {
    "duration": 23,
    "start_time": "2023-08-13T20:31:13.573Z"
   },
   {
    "duration": 32,
    "start_time": "2023-08-13T20:31:13.599Z"
   },
   {
    "duration": 20,
    "start_time": "2023-08-13T20:31:13.633Z"
   },
   {
    "duration": 11,
    "start_time": "2023-08-13T20:31:13.655Z"
   },
   {
    "duration": 54,
    "start_time": "2023-08-13T20:31:13.668Z"
   },
   {
    "duration": 16,
    "start_time": "2023-08-13T20:31:13.724Z"
   },
   {
    "duration": 64,
    "start_time": "2023-08-13T20:31:13.741Z"
   },
   {
    "duration": 20,
    "start_time": "2023-08-13T20:31:13.808Z"
   },
   {
    "duration": 23,
    "start_time": "2023-08-13T20:31:13.830Z"
   },
   {
    "duration": 7,
    "start_time": "2023-08-13T20:31:13.854Z"
   },
   {
    "duration": 24,
    "start_time": "2023-08-13T20:31:13.865Z"
   },
   {
    "duration": 18,
    "start_time": "2023-08-13T20:31:13.891Z"
   },
   {
    "duration": 30,
    "start_time": "2023-08-13T20:31:13.911Z"
   },
   {
    "duration": 8,
    "start_time": "2023-08-13T20:31:13.944Z"
   },
   {
    "duration": 30,
    "start_time": "2023-08-13T20:31:13.954Z"
   },
   {
    "duration": 34,
    "start_time": "2023-08-13T20:31:13.987Z"
   },
   {
    "duration": 10,
    "start_time": "2023-08-13T20:31:14.028Z"
   },
   {
    "duration": 31,
    "start_time": "2023-08-13T20:31:14.040Z"
   },
   {
    "duration": 40,
    "start_time": "2023-08-13T20:31:14.072Z"
   },
   {
    "duration": 1015,
    "start_time": "2023-08-13T20:31:14.114Z"
   },
   {
    "duration": 13,
    "start_time": "2023-08-13T20:31:15.131Z"
   },
   {
    "duration": 78,
    "start_time": "2023-08-13T20:31:15.146Z"
   },
   {
    "duration": 40,
    "start_time": "2023-08-13T20:31:15.226Z"
   },
   {
    "duration": 18,
    "start_time": "2023-08-13T20:31:15.278Z"
   },
   {
    "duration": 41,
    "start_time": "2023-08-13T20:31:15.298Z"
   },
   {
    "duration": 58,
    "start_time": "2023-08-13T20:31:15.342Z"
   },
   {
    "duration": 13,
    "start_time": "2023-08-13T20:31:15.404Z"
   },
   {
    "duration": 36,
    "start_time": "2023-08-13T20:31:15.419Z"
   },
   {
    "duration": 15,
    "start_time": "2023-08-13T20:31:15.457Z"
   },
   {
    "duration": 25,
    "start_time": "2023-08-13T20:31:15.478Z"
   },
   {
    "duration": 50,
    "start_time": "2023-08-13T20:31:15.507Z"
   },
   {
    "duration": 490,
    "start_time": "2023-08-13T20:31:15.560Z"
   },
   {
    "duration": 9,
    "start_time": "2023-08-13T20:31:16.052Z"
   },
   {
    "duration": 73,
    "start_time": "2023-08-13T20:31:16.063Z"
   },
   {
    "duration": 3,
    "start_time": "2023-08-13T20:31:16.138Z"
   },
   {
    "duration": 41,
    "start_time": "2023-08-13T20:31:16.143Z"
   },
   {
    "duration": 37,
    "start_time": "2023-08-13T20:31:16.186Z"
   },
   {
    "duration": 15,
    "start_time": "2023-08-13T20:31:16.230Z"
   },
   {
    "duration": 31,
    "start_time": "2023-08-13T20:31:16.247Z"
   },
   {
    "duration": 362,
    "start_time": "2023-08-13T20:31:16.283Z"
   },
   {
    "duration": 282,
    "start_time": "2023-08-13T20:31:16.647Z"
   },
   {
    "duration": 36,
    "start_time": "2023-08-13T20:31:16.931Z"
   },
   {
    "duration": 11,
    "start_time": "2023-08-13T20:31:16.969Z"
   },
   {
    "duration": 11,
    "start_time": "2023-08-13T20:31:16.982Z"
   },
   {
    "duration": 223,
    "start_time": "2023-08-13T20:31:16.995Z"
   },
   {
    "duration": 20,
    "start_time": "2023-08-13T20:31:17.221Z"
   },
   {
    "duration": 17,
    "start_time": "2023-08-13T20:31:17.242Z"
   },
   {
    "duration": 88,
    "start_time": "2023-08-13T20:31:17.261Z"
   },
   {
    "duration": 79,
    "start_time": "2023-08-13T20:31:17.351Z"
   },
   {
    "duration": 12,
    "start_time": "2023-08-13T20:31:17.432Z"
   },
   {
    "duration": 1123,
    "start_time": "2023-08-13T20:31:17.445Z"
   },
   {
    "duration": 945,
    "start_time": "2023-08-13T20:31:18.570Z"
   },
   {
    "duration": 107,
    "start_time": "2023-08-13T20:31:19.520Z"
   },
   {
    "duration": 16,
    "start_time": "2023-08-13T20:31:19.628Z"
   },
   {
    "duration": 38,
    "start_time": "2023-08-13T20:31:19.646Z"
   },
   {
    "duration": 62,
    "start_time": "2023-08-13T20:31:19.687Z"
   },
   {
    "duration": 27,
    "start_time": "2023-08-13T20:31:19.751Z"
   },
   {
    "duration": 47,
    "start_time": "2023-08-13T20:31:19.781Z"
   },
   {
    "duration": 14,
    "start_time": "2023-08-13T20:31:19.830Z"
   },
   {
    "duration": 56,
    "start_time": "2023-08-13T20:31:19.846Z"
   },
   {
    "duration": 520,
    "start_time": "2023-08-13T20:31:19.905Z"
   },
   {
    "duration": 593,
    "start_time": "2023-08-13T20:31:20.431Z"
   },
   {
    "duration": 435,
    "start_time": "2023-08-13T20:31:21.028Z"
   },
   {
    "duration": 422,
    "start_time": "2023-08-13T20:31:21.465Z"
   },
   {
    "duration": 437,
    "start_time": "2023-08-13T20:31:21.891Z"
   },
   {
    "duration": 468,
    "start_time": "2023-08-13T20:31:22.331Z"
   },
   {
    "duration": 40,
    "start_time": "2023-08-13T20:31:22.801Z"
   },
   {
    "duration": 37,
    "start_time": "2023-08-13T20:31:22.843Z"
   },
   {
    "duration": 48,
    "start_time": "2023-08-13T20:31:22.881Z"
   },
   {
    "duration": 21,
    "start_time": "2023-08-13T20:31:22.931Z"
   },
   {
    "duration": 46,
    "start_time": "2023-08-13T20:31:22.955Z"
   },
   {
    "duration": 26,
    "start_time": "2023-08-13T20:31:23.003Z"
   },
   {
    "duration": 24,
    "start_time": "2023-08-13T20:31:23.031Z"
   },
   {
    "duration": 6,
    "start_time": "2023-08-13T20:31:23.078Z"
   },
   {
    "duration": 58,
    "start_time": "2023-08-13T20:31:23.086Z"
   },
   {
    "duration": 75,
    "start_time": "2023-08-13T20:31:23.146Z"
   },
   {
    "duration": 6,
    "start_time": "2023-08-13T20:31:23.224Z"
   },
   {
    "duration": 15,
    "start_time": "2023-08-13T20:31:23.232Z"
   },
   {
    "duration": 7,
    "start_time": "2023-08-13T20:31:23.248Z"
   },
   {
    "duration": 32,
    "start_time": "2023-08-13T20:31:23.256Z"
   },
   {
    "duration": 16,
    "start_time": "2023-08-13T20:31:23.290Z"
   },
   {
    "duration": 1897,
    "start_time": "2023-08-13T20:31:37.965Z"
   },
   {
    "duration": 372,
    "start_time": "2023-08-13T20:31:39.864Z"
   },
   {
    "duration": 20,
    "start_time": "2023-08-13T20:31:40.239Z"
   },
   {
    "duration": 15,
    "start_time": "2023-08-13T20:31:40.262Z"
   },
   {
    "duration": 42,
    "start_time": "2023-08-13T20:31:40.279Z"
   },
   {
    "duration": 6,
    "start_time": "2023-08-13T20:31:40.322Z"
   },
   {
    "duration": 16,
    "start_time": "2023-08-13T20:31:40.330Z"
   },
   {
    "duration": 42,
    "start_time": "2023-08-13T20:31:40.349Z"
   },
   {
    "duration": 18,
    "start_time": "2023-08-13T20:31:40.396Z"
   },
   {
    "duration": 20,
    "start_time": "2023-08-13T20:31:40.418Z"
   },
   {
    "duration": 27,
    "start_time": "2023-08-13T20:31:40.441Z"
   },
   {
    "duration": 57,
    "start_time": "2023-08-13T20:31:40.470Z"
   },
   {
    "duration": 8,
    "start_time": "2023-08-13T20:31:40.532Z"
   },
   {
    "duration": 10,
    "start_time": "2023-08-13T20:31:40.543Z"
   },
   {
    "duration": 11,
    "start_time": "2023-08-13T20:31:40.555Z"
   },
   {
    "duration": 59,
    "start_time": "2023-08-13T20:31:40.569Z"
   },
   {
    "duration": 12,
    "start_time": "2023-08-13T20:31:40.631Z"
   },
   {
    "duration": 5,
    "start_time": "2023-08-13T20:31:40.645Z"
   },
   {
    "duration": 17,
    "start_time": "2023-08-13T20:31:40.652Z"
   },
   {
    "duration": 14,
    "start_time": "2023-08-13T20:31:40.673Z"
   },
   {
    "duration": 35,
    "start_time": "2023-08-13T20:31:40.691Z"
   },
   {
    "duration": 20,
    "start_time": "2023-08-13T20:31:40.728Z"
   },
   {
    "duration": 1064,
    "start_time": "2023-08-13T20:31:40.750Z"
   },
   {
    "duration": 12,
    "start_time": "2023-08-13T20:31:41.817Z"
   },
   {
    "duration": 82,
    "start_time": "2023-08-13T20:31:41.831Z"
   },
   {
    "duration": 44,
    "start_time": "2023-08-13T20:31:41.922Z"
   },
   {
    "duration": 7,
    "start_time": "2023-08-13T20:31:41.967Z"
   },
   {
    "duration": 45,
    "start_time": "2023-08-13T20:31:41.981Z"
   },
   {
    "duration": 42,
    "start_time": "2023-08-13T20:31:42.028Z"
   },
   {
    "duration": 11,
    "start_time": "2023-08-13T20:31:42.072Z"
   },
   {
    "duration": 65,
    "start_time": "2023-08-13T20:31:42.086Z"
   },
   {
    "duration": 10,
    "start_time": "2023-08-13T20:31:42.153Z"
   },
   {
    "duration": 45,
    "start_time": "2023-08-13T20:31:42.165Z"
   },
   {
    "duration": 31,
    "start_time": "2023-08-13T20:31:42.213Z"
   },
   {
    "duration": 487,
    "start_time": "2023-08-13T20:31:42.246Z"
   },
   {
    "duration": 10,
    "start_time": "2023-08-13T20:31:42.735Z"
   },
   {
    "duration": 51,
    "start_time": "2023-08-13T20:31:42.746Z"
   },
   {
    "duration": 4,
    "start_time": "2023-08-13T20:31:42.799Z"
   },
   {
    "duration": 29,
    "start_time": "2023-08-13T20:31:42.804Z"
   },
   {
    "duration": 11,
    "start_time": "2023-08-13T20:31:42.835Z"
   },
   {
    "duration": 9,
    "start_time": "2023-08-13T20:31:42.848Z"
   },
   {
    "duration": 19,
    "start_time": "2023-08-13T20:31:42.859Z"
   },
   {
    "duration": 364,
    "start_time": "2023-08-13T20:31:42.880Z"
   },
   {
    "duration": 239,
    "start_time": "2023-08-13T20:31:43.246Z"
   },
   {
    "duration": 52,
    "start_time": "2023-08-13T20:31:43.487Z"
   },
   {
    "duration": 5,
    "start_time": "2023-08-13T20:31:43.541Z"
   },
   {
    "duration": 42,
    "start_time": "2023-08-13T20:31:43.547Z"
   },
   {
    "duration": 190,
    "start_time": "2023-08-13T20:31:43.593Z"
   },
   {
    "duration": 23,
    "start_time": "2023-08-13T20:31:43.785Z"
   },
   {
    "duration": 28,
    "start_time": "2023-08-13T20:31:43.810Z"
   },
   {
    "duration": 101,
    "start_time": "2023-08-13T20:31:43.839Z"
   },
   {
    "duration": 67,
    "start_time": "2023-08-13T20:31:43.942Z"
   },
   {
    "duration": 23,
    "start_time": "2023-08-13T20:31:44.013Z"
   },
   {
    "duration": 1159,
    "start_time": "2023-08-13T20:31:44.038Z"
   },
   {
    "duration": 677,
    "start_time": "2023-08-13T20:31:45.199Z"
   },
   {
    "duration": 115,
    "start_time": "2023-08-13T20:31:45.895Z"
   },
   {
    "duration": 22,
    "start_time": "2023-08-13T20:31:46.015Z"
   },
   {
    "duration": 31,
    "start_time": "2023-08-13T20:31:46.039Z"
   },
   {
    "duration": 75,
    "start_time": "2023-08-13T20:31:46.072Z"
   },
   {
    "duration": 18,
    "start_time": "2023-08-13T20:31:46.149Z"
   },
   {
    "duration": 54,
    "start_time": "2023-08-13T20:31:46.168Z"
   },
   {
    "duration": 12,
    "start_time": "2023-08-13T20:31:46.224Z"
   },
   {
    "duration": 60,
    "start_time": "2023-08-13T20:31:46.238Z"
   },
   {
    "duration": 367,
    "start_time": "2023-08-13T20:31:46.302Z"
   },
   {
    "duration": 502,
    "start_time": "2023-08-13T20:31:46.676Z"
   },
   {
    "duration": 384,
    "start_time": "2023-08-13T20:31:47.181Z"
   },
   {
    "duration": 442,
    "start_time": "2023-08-13T20:31:47.566Z"
   },
   {
    "duration": 424,
    "start_time": "2023-08-13T20:31:48.011Z"
   },
   {
    "duration": 452,
    "start_time": "2023-08-13T20:31:48.437Z"
   },
   {
    "duration": 46,
    "start_time": "2023-08-13T20:31:48.892Z"
   },
   {
    "duration": 21,
    "start_time": "2023-08-13T20:31:48.940Z"
   },
   {
    "duration": 69,
    "start_time": "2023-08-13T20:31:48.962Z"
   },
   {
    "duration": 20,
    "start_time": "2023-08-13T20:31:49.033Z"
   },
   {
    "duration": 40,
    "start_time": "2023-08-13T20:31:49.055Z"
   },
   {
    "duration": 32,
    "start_time": "2023-08-13T20:31:49.097Z"
   },
   {
    "duration": 20,
    "start_time": "2023-08-13T20:31:49.133Z"
   },
   {
    "duration": 7,
    "start_time": "2023-08-13T20:31:49.176Z"
   },
   {
    "duration": 80,
    "start_time": "2023-08-13T20:31:49.186Z"
   },
   {
    "duration": 82,
    "start_time": "2023-08-13T20:31:49.267Z"
   },
   {
    "duration": 6,
    "start_time": "2023-08-13T20:31:49.351Z"
   },
   {
    "duration": 28,
    "start_time": "2023-08-13T20:31:49.359Z"
   },
   {
    "duration": 17,
    "start_time": "2023-08-13T20:31:49.397Z"
   },
   {
    "duration": 33,
    "start_time": "2023-08-13T20:31:49.417Z"
   },
   {
    "duration": 12,
    "start_time": "2023-08-13T20:31:49.452Z"
   },
   {
    "duration": 10,
    "start_time": "2023-08-13T20:32:41.122Z"
   },
   {
    "duration": 330,
    "start_time": "2023-08-13T20:33:06.064Z"
   },
   {
    "duration": 262,
    "start_time": "2023-08-13T20:33:16.002Z"
   },
   {
    "duration": 257,
    "start_time": "2023-08-13T20:33:21.993Z"
   },
   {
    "duration": 302,
    "start_time": "2023-08-13T20:33:26.935Z"
   },
   {
    "duration": 264,
    "start_time": "2023-08-13T20:33:56.707Z"
   },
   {
    "duration": 471,
    "start_time": "2023-08-13T20:34:09.967Z"
   },
   {
    "duration": 241,
    "start_time": "2023-08-13T20:34:21.724Z"
   },
   {
    "duration": 258,
    "start_time": "2023-08-13T20:34:34.106Z"
   },
   {
    "duration": 233,
    "start_time": "2023-08-13T20:34:47.336Z"
   },
   {
    "duration": 287,
    "start_time": "2023-08-13T20:35:26.242Z"
   },
   {
    "duration": 229,
    "start_time": "2023-08-13T20:35:31.129Z"
   },
   {
    "duration": 228,
    "start_time": "2023-08-13T20:35:35.728Z"
   },
   {
    "duration": 347,
    "start_time": "2023-08-13T20:35:41.394Z"
   },
   {
    "duration": 280,
    "start_time": "2023-08-13T20:35:47.657Z"
   },
   {
    "duration": 1280,
    "start_time": "2023-08-13T20:36:18.675Z"
   },
   {
    "duration": 410,
    "start_time": "2023-08-13T20:37:34.663Z"
   },
   {
    "duration": 392,
    "start_time": "2023-08-13T20:37:43.006Z"
   },
   {
    "duration": 398,
    "start_time": "2023-08-13T20:37:46.570Z"
   },
   {
    "duration": 419,
    "start_time": "2023-08-13T20:37:54.499Z"
   },
   {
    "duration": 461,
    "start_time": "2023-08-13T20:38:00.922Z"
   },
   {
    "duration": 356,
    "start_time": "2023-08-13T20:38:04.891Z"
   },
   {
    "duration": 519,
    "start_time": "2023-08-13T20:38:08.925Z"
   },
   {
    "duration": 512,
    "start_time": "2023-08-13T20:38:59.109Z"
   },
   {
    "duration": 434,
    "start_time": "2023-08-13T20:39:08.200Z"
   },
   {
    "duration": 381,
    "start_time": "2023-08-13T20:39:26.066Z"
   },
   {
    "duration": 438,
    "start_time": "2023-08-13T20:39:37.316Z"
   },
   {
    "duration": 408,
    "start_time": "2023-08-13T20:39:42.505Z"
   },
   {
    "duration": 433,
    "start_time": "2023-08-13T20:39:47.659Z"
   },
   {
    "duration": 437,
    "start_time": "2023-08-13T20:39:53.619Z"
   },
   {
    "duration": 458,
    "start_time": "2023-08-13T20:39:59.915Z"
   },
   {
    "duration": 1800,
    "start_time": "2023-08-13T20:41:59.751Z"
   },
   {
    "duration": 277,
    "start_time": "2023-08-13T20:42:01.553Z"
   },
   {
    "duration": 15,
    "start_time": "2023-08-13T20:42:01.832Z"
   },
   {
    "duration": 50,
    "start_time": "2023-08-13T20:42:01.849Z"
   },
   {
    "duration": 76,
    "start_time": "2023-08-13T20:42:01.902Z"
   },
   {
    "duration": 22,
    "start_time": "2023-08-13T20:42:01.980Z"
   },
   {
    "duration": 22,
    "start_time": "2023-08-13T20:42:02.006Z"
   },
   {
    "duration": 61,
    "start_time": "2023-08-13T20:42:02.030Z"
   },
   {
    "duration": 17,
    "start_time": "2023-08-13T20:42:02.104Z"
   },
   {
    "duration": 47,
    "start_time": "2023-08-13T20:42:02.123Z"
   },
   {
    "duration": 47,
    "start_time": "2023-08-13T20:42:02.172Z"
   },
   {
    "duration": 42,
    "start_time": "2023-08-13T20:42:02.221Z"
   },
   {
    "duration": 6,
    "start_time": "2023-08-13T20:42:02.265Z"
   },
   {
    "duration": 29,
    "start_time": "2023-08-13T20:42:02.273Z"
   },
   {
    "duration": 27,
    "start_time": "2023-08-13T20:42:02.303Z"
   },
   {
    "duration": 31,
    "start_time": "2023-08-13T20:42:02.332Z"
   },
   {
    "duration": 13,
    "start_time": "2023-08-13T20:42:02.366Z"
   },
   {
    "duration": 16,
    "start_time": "2023-08-13T20:42:02.382Z"
   },
   {
    "duration": 27,
    "start_time": "2023-08-13T20:42:02.402Z"
   },
   {
    "duration": 5,
    "start_time": "2023-08-13T20:42:02.431Z"
   },
   {
    "duration": 22,
    "start_time": "2023-08-13T20:42:02.438Z"
   },
   {
    "duration": 14,
    "start_time": "2023-08-13T20:42:02.462Z"
   },
   {
    "duration": 852,
    "start_time": "2023-08-13T20:42:02.481Z"
   },
   {
    "duration": 12,
    "start_time": "2023-08-13T20:42:03.334Z"
   },
   {
    "duration": 73,
    "start_time": "2023-08-13T20:42:03.348Z"
   },
   {
    "duration": 42,
    "start_time": "2023-08-13T20:42:03.423Z"
   },
   {
    "duration": 9,
    "start_time": "2023-08-13T20:42:03.483Z"
   },
   {
    "duration": 49,
    "start_time": "2023-08-13T20:42:03.498Z"
   },
   {
    "duration": 50,
    "start_time": "2023-08-13T20:42:03.549Z"
   },
   {
    "duration": 8,
    "start_time": "2023-08-13T20:42:03.600Z"
   },
   {
    "duration": 28,
    "start_time": "2023-08-13T20:42:03.609Z"
   },
   {
    "duration": 8,
    "start_time": "2023-08-13T20:42:03.638Z"
   },
   {
    "duration": 38,
    "start_time": "2023-08-13T20:42:03.647Z"
   },
   {
    "duration": 41,
    "start_time": "2023-08-13T20:42:03.687Z"
   },
   {
    "duration": 435,
    "start_time": "2023-08-13T20:42:03.730Z"
   },
   {
    "duration": 11,
    "start_time": "2023-08-13T20:42:04.166Z"
   },
   {
    "duration": 44,
    "start_time": "2023-08-13T20:42:04.179Z"
   },
   {
    "duration": 3,
    "start_time": "2023-08-13T20:42:04.224Z"
   },
   {
    "duration": 13,
    "start_time": "2023-08-13T20:42:04.229Z"
   },
   {
    "duration": 8,
    "start_time": "2023-08-13T20:42:04.244Z"
   },
   {
    "duration": 15,
    "start_time": "2023-08-13T20:42:04.282Z"
   },
   {
    "duration": 37,
    "start_time": "2023-08-13T20:42:04.299Z"
   },
   {
    "duration": 301,
    "start_time": "2023-08-13T20:42:04.338Z"
   },
   {
    "duration": 225,
    "start_time": "2023-08-13T20:42:04.640Z"
   },
   {
    "duration": 64,
    "start_time": "2023-08-13T20:42:04.866Z"
   },
   {
    "duration": 6,
    "start_time": "2023-08-13T20:42:04.932Z"
   },
   {
    "duration": 35,
    "start_time": "2023-08-13T20:42:04.940Z"
   },
   {
    "duration": 214,
    "start_time": "2023-08-13T20:42:04.977Z"
   },
   {
    "duration": 22,
    "start_time": "2023-08-13T20:42:05.193Z"
   },
   {
    "duration": 16,
    "start_time": "2023-08-13T20:42:05.217Z"
   },
   {
    "duration": 83,
    "start_time": "2023-08-13T20:42:05.235Z"
   },
   {
    "duration": 48,
    "start_time": "2023-08-13T20:42:05.319Z"
   },
   {
    "duration": 26,
    "start_time": "2023-08-13T20:42:05.368Z"
   },
   {
    "duration": 1084,
    "start_time": "2023-08-13T20:42:05.397Z"
   },
   {
    "duration": 704,
    "start_time": "2023-08-13T20:42:06.483Z"
   },
   {
    "duration": 112,
    "start_time": "2023-08-13T20:42:07.198Z"
   },
   {
    "duration": 16,
    "start_time": "2023-08-13T20:42:07.312Z"
   },
   {
    "duration": 30,
    "start_time": "2023-08-13T20:42:07.329Z"
   },
   {
    "duration": 55,
    "start_time": "2023-08-13T20:42:07.360Z"
   },
   {
    "duration": 18,
    "start_time": "2023-08-13T20:42:07.417Z"
   },
   {
    "duration": 17,
    "start_time": "2023-08-13T20:42:07.436Z"
   },
   {
    "duration": 37,
    "start_time": "2023-08-13T20:42:07.455Z"
   },
   {
    "duration": 37,
    "start_time": "2023-08-13T20:42:07.494Z"
   },
   {
    "duration": 402,
    "start_time": "2023-08-13T20:42:07.533Z"
   },
   {
    "duration": 513,
    "start_time": "2023-08-13T20:42:07.937Z"
   },
   {
    "duration": 372,
    "start_time": "2023-08-13T20:42:08.451Z"
   },
   {
    "duration": 427,
    "start_time": "2023-08-13T20:42:08.825Z"
   },
   {
    "duration": 385,
    "start_time": "2023-08-13T20:42:09.254Z"
   },
   {
    "duration": 415,
    "start_time": "2023-08-13T20:42:09.641Z"
   },
   {
    "duration": 39,
    "start_time": "2023-08-13T20:42:10.057Z"
   },
   {
    "duration": 26,
    "start_time": "2023-08-13T20:42:10.099Z"
   },
   {
    "duration": 25,
    "start_time": "2023-08-13T20:42:10.127Z"
   },
   {
    "duration": 40,
    "start_time": "2023-08-13T20:42:10.154Z"
   },
   {
    "duration": 36,
    "start_time": "2023-08-13T20:42:10.197Z"
   },
   {
    "duration": 43,
    "start_time": "2023-08-13T20:42:10.235Z"
   },
   {
    "duration": 38,
    "start_time": "2023-08-13T20:42:10.280Z"
   },
   {
    "duration": 3,
    "start_time": "2023-08-13T20:42:10.320Z"
   },
   {
    "duration": 78,
    "start_time": "2023-08-13T20:42:10.326Z"
   },
   {
    "duration": 70,
    "start_time": "2023-08-13T20:42:10.406Z"
   },
   {
    "duration": 7,
    "start_time": "2023-08-13T20:42:10.478Z"
   },
   {
    "duration": 19,
    "start_time": "2023-08-13T20:42:10.486Z"
   },
   {
    "duration": 22,
    "start_time": "2023-08-13T20:42:10.511Z"
   },
   {
    "duration": 25,
    "start_time": "2023-08-13T20:42:10.535Z"
   },
   {
    "duration": 22,
    "start_time": "2023-08-13T20:42:10.562Z"
   },
   {
    "duration": 1752,
    "start_time": "2023-08-13T20:42:43.957Z"
   },
   {
    "duration": 276,
    "start_time": "2023-08-13T20:42:45.711Z"
   },
   {
    "duration": 23,
    "start_time": "2023-08-13T20:42:45.989Z"
   },
   {
    "duration": 19,
    "start_time": "2023-08-13T20:42:46.015Z"
   },
   {
    "duration": 50,
    "start_time": "2023-08-13T20:42:46.036Z"
   },
   {
    "duration": 12,
    "start_time": "2023-08-13T20:42:46.095Z"
   },
   {
    "duration": 6,
    "start_time": "2023-08-13T20:42:46.109Z"
   },
   {
    "duration": 24,
    "start_time": "2023-08-13T20:42:46.117Z"
   },
   {
    "duration": 11,
    "start_time": "2023-08-13T20:42:46.143Z"
   },
   {
    "duration": 11,
    "start_time": "2023-08-13T20:42:46.157Z"
   },
   {
    "duration": 11,
    "start_time": "2023-08-13T20:42:46.170Z"
   },
   {
    "duration": 40,
    "start_time": "2023-08-13T20:42:46.183Z"
   },
   {
    "duration": 7,
    "start_time": "2023-08-13T20:42:46.225Z"
   },
   {
    "duration": 10,
    "start_time": "2023-08-13T20:42:46.234Z"
   },
   {
    "duration": 6,
    "start_time": "2023-08-13T20:42:46.246Z"
   },
   {
    "duration": 45,
    "start_time": "2023-08-13T20:42:46.253Z"
   },
   {
    "duration": 8,
    "start_time": "2023-08-13T20:42:46.300Z"
   },
   {
    "duration": 8,
    "start_time": "2023-08-13T20:42:46.310Z"
   },
   {
    "duration": 30,
    "start_time": "2023-08-13T20:42:46.319Z"
   },
   {
    "duration": 33,
    "start_time": "2023-08-13T20:42:46.350Z"
   },
   {
    "duration": 27,
    "start_time": "2023-08-13T20:42:46.385Z"
   },
   {
    "duration": 17,
    "start_time": "2023-08-13T20:42:46.414Z"
   },
   {
    "duration": 893,
    "start_time": "2023-08-13T20:42:46.433Z"
   },
   {
    "duration": 11,
    "start_time": "2023-08-13T20:42:47.329Z"
   },
   {
    "duration": 72,
    "start_time": "2023-08-13T20:42:47.342Z"
   },
   {
    "duration": 40,
    "start_time": "2023-08-13T20:42:47.416Z"
   },
   {
    "duration": 5,
    "start_time": "2023-08-13T20:42:47.458Z"
   },
   {
    "duration": 35,
    "start_time": "2023-08-13T20:42:47.478Z"
   },
   {
    "duration": 37,
    "start_time": "2023-08-13T20:42:47.515Z"
   },
   {
    "duration": 20,
    "start_time": "2023-08-13T20:42:47.554Z"
   },
   {
    "duration": 41,
    "start_time": "2023-08-13T20:42:47.576Z"
   },
   {
    "duration": 8,
    "start_time": "2023-08-13T20:42:47.619Z"
   },
   {
    "duration": 17,
    "start_time": "2023-08-13T20:42:47.629Z"
   },
   {
    "duration": 23,
    "start_time": "2023-08-13T20:42:47.647Z"
   },
   {
    "duration": 443,
    "start_time": "2023-08-13T20:42:47.673Z"
   },
   {
    "duration": 10,
    "start_time": "2023-08-13T20:42:48.118Z"
   },
   {
    "duration": 36,
    "start_time": "2023-08-13T20:42:48.130Z"
   },
   {
    "duration": 12,
    "start_time": "2023-08-13T20:42:48.168Z"
   },
   {
    "duration": 18,
    "start_time": "2023-08-13T20:42:48.182Z"
   },
   {
    "duration": 14,
    "start_time": "2023-08-13T20:42:48.205Z"
   },
   {
    "duration": 26,
    "start_time": "2023-08-13T20:42:48.221Z"
   },
   {
    "duration": 12,
    "start_time": "2023-08-13T20:42:48.249Z"
   },
   {
    "duration": 303,
    "start_time": "2023-08-13T20:42:48.263Z"
   },
   {
    "duration": 248,
    "start_time": "2023-08-13T20:42:48.567Z"
   },
   {
    "duration": 35,
    "start_time": "2023-08-13T20:42:48.817Z"
   },
   {
    "duration": 4,
    "start_time": "2023-08-13T20:42:48.853Z"
   },
   {
    "duration": 20,
    "start_time": "2023-08-13T20:42:48.859Z"
   },
   {
    "duration": 186,
    "start_time": "2023-08-13T20:42:48.881Z"
   },
   {
    "duration": 26,
    "start_time": "2023-08-13T20:42:49.069Z"
   },
   {
    "duration": 22,
    "start_time": "2023-08-13T20:42:49.097Z"
   },
   {
    "duration": 59,
    "start_time": "2023-08-13T20:42:49.121Z"
   },
   {
    "duration": 66,
    "start_time": "2023-08-13T20:42:49.182Z"
   },
   {
    "duration": 26,
    "start_time": "2023-08-13T20:42:49.250Z"
   },
   {
    "duration": 1075,
    "start_time": "2023-08-13T20:42:49.278Z"
   },
   {
    "duration": 753,
    "start_time": "2023-08-13T20:42:50.355Z"
   },
   {
    "duration": 89,
    "start_time": "2023-08-13T20:42:51.114Z"
   },
   {
    "duration": 23,
    "start_time": "2023-08-13T20:42:51.205Z"
   },
   {
    "duration": 47,
    "start_time": "2023-08-13T20:42:51.230Z"
   },
   {
    "duration": 51,
    "start_time": "2023-08-13T20:42:51.279Z"
   },
   {
    "duration": 17,
    "start_time": "2023-08-13T20:42:51.332Z"
   },
   {
    "duration": 44,
    "start_time": "2023-08-13T20:42:51.351Z"
   },
   {
    "duration": 16,
    "start_time": "2023-08-13T20:42:51.402Z"
   },
   {
    "duration": 90,
    "start_time": "2023-08-13T20:42:51.420Z"
   },
   {
    "duration": 361,
    "start_time": "2023-08-13T20:42:51.512Z"
   },
   {
    "duration": 491,
    "start_time": "2023-08-13T20:42:51.875Z"
   },
   {
    "duration": 393,
    "start_time": "2023-08-13T20:42:52.368Z"
   },
   {
    "duration": 481,
    "start_time": "2023-08-13T20:42:52.762Z"
   },
   {
    "duration": 383,
    "start_time": "2023-08-13T20:42:53.246Z"
   },
   {
    "duration": 431,
    "start_time": "2023-08-13T20:42:53.631Z"
   },
   {
    "duration": 44,
    "start_time": "2023-08-13T20:42:54.063Z"
   },
   {
    "duration": 24,
    "start_time": "2023-08-13T20:42:54.109Z"
   },
   {
    "duration": 24,
    "start_time": "2023-08-13T20:42:54.135Z"
   },
   {
    "duration": 40,
    "start_time": "2023-08-13T20:42:54.160Z"
   },
   {
    "duration": 20,
    "start_time": "2023-08-13T20:42:54.201Z"
   },
   {
    "duration": 17,
    "start_time": "2023-08-13T20:42:54.223Z"
   },
   {
    "duration": 55,
    "start_time": "2023-08-13T20:42:54.242Z"
   },
   {
    "duration": 4,
    "start_time": "2023-08-13T20:42:54.299Z"
   },
   {
    "duration": 45,
    "start_time": "2023-08-13T20:42:54.305Z"
   },
   {
    "duration": 80,
    "start_time": "2023-08-13T20:42:54.351Z"
   },
   {
    "duration": 4,
    "start_time": "2023-08-13T20:42:54.433Z"
   },
   {
    "duration": 22,
    "start_time": "2023-08-13T20:42:54.439Z"
   },
   {
    "duration": 12,
    "start_time": "2023-08-13T20:42:54.466Z"
   },
   {
    "duration": 32,
    "start_time": "2023-08-13T20:42:54.480Z"
   },
   {
    "duration": 9,
    "start_time": "2023-08-13T20:42:54.514Z"
   },
   {
    "duration": 5489,
    "start_time": "2023-08-13T22:00:19.970Z"
   },
   {
    "duration": 220,
    "start_time": "2023-08-13T22:00:25.461Z"
   },
   {
    "duration": 16,
    "start_time": "2023-08-13T22:00:25.684Z"
   },
   {
    "duration": 20,
    "start_time": "2023-08-13T22:00:25.702Z"
   },
   {
    "duration": 37,
    "start_time": "2023-08-13T22:00:25.724Z"
   },
   {
    "duration": 5,
    "start_time": "2023-08-13T22:00:25.762Z"
   },
   {
    "duration": 12,
    "start_time": "2023-08-13T22:00:25.768Z"
   },
   {
    "duration": 29,
    "start_time": "2023-08-13T22:00:25.782Z"
   },
   {
    "duration": 26,
    "start_time": "2023-08-13T22:00:25.813Z"
   },
   {
    "duration": 36,
    "start_time": "2023-08-13T22:00:25.842Z"
   },
   {
    "duration": 16,
    "start_time": "2023-08-13T22:00:25.880Z"
   },
   {
    "duration": 45,
    "start_time": "2023-08-13T22:00:25.898Z"
   },
   {
    "duration": 8,
    "start_time": "2023-08-13T22:00:25.945Z"
   },
   {
    "duration": 18,
    "start_time": "2023-08-13T22:00:25.955Z"
   },
   {
    "duration": 21,
    "start_time": "2023-08-13T22:00:25.975Z"
   },
   {
    "duration": 21,
    "start_time": "2023-08-13T22:00:25.997Z"
   },
   {
    "duration": 7,
    "start_time": "2023-08-13T22:00:26.020Z"
   },
   {
    "duration": 6,
    "start_time": "2023-08-13T22:00:26.029Z"
   },
   {
    "duration": 25,
    "start_time": "2023-08-13T22:00:26.036Z"
   },
   {
    "duration": 7,
    "start_time": "2023-08-13T22:00:26.063Z"
   },
   {
    "duration": 19,
    "start_time": "2023-08-13T22:00:26.072Z"
   },
   {
    "duration": 15,
    "start_time": "2023-08-13T22:00:26.093Z"
   },
   {
    "duration": 830,
    "start_time": "2023-08-13T22:00:26.109Z"
   },
   {
    "duration": 18,
    "start_time": "2023-08-13T22:00:26.941Z"
   },
   {
    "duration": 59,
    "start_time": "2023-08-13T22:00:26.961Z"
   },
   {
    "duration": 49,
    "start_time": "2023-08-13T22:00:27.022Z"
   },
   {
    "duration": 7,
    "start_time": "2023-08-13T22:00:27.073Z"
   },
   {
    "duration": 22,
    "start_time": "2023-08-13T22:00:27.085Z"
   },
   {
    "duration": 71,
    "start_time": "2023-08-13T22:00:27.109Z"
   },
   {
    "duration": 6,
    "start_time": "2023-08-13T22:00:27.182Z"
   },
   {
    "duration": 20,
    "start_time": "2023-08-13T22:00:27.190Z"
   },
   {
    "duration": 9,
    "start_time": "2023-08-13T22:00:27.212Z"
   },
   {
    "duration": 6,
    "start_time": "2023-08-13T22:00:27.223Z"
   },
   {
    "duration": 39,
    "start_time": "2023-08-13T22:00:27.231Z"
   },
   {
    "duration": 390,
    "start_time": "2023-08-13T22:00:27.272Z"
   },
   {
    "duration": 9,
    "start_time": "2023-08-13T22:00:27.663Z"
   },
   {
    "duration": 35,
    "start_time": "2023-08-13T22:00:27.674Z"
   },
   {
    "duration": 4,
    "start_time": "2023-08-13T22:00:27.710Z"
   },
   {
    "duration": 24,
    "start_time": "2023-08-13T22:00:27.716Z"
   },
   {
    "duration": 23,
    "start_time": "2023-08-13T22:00:27.742Z"
   },
   {
    "duration": 12,
    "start_time": "2023-08-13T22:00:27.767Z"
   },
   {
    "duration": 9,
    "start_time": "2023-08-13T22:00:27.781Z"
   },
   {
    "duration": 331,
    "start_time": "2023-08-13T22:00:27.791Z"
   },
   {
    "duration": 221,
    "start_time": "2023-08-13T22:00:28.124Z"
   },
   {
    "duration": 44,
    "start_time": "2023-08-13T22:00:28.347Z"
   },
   {
    "duration": 5,
    "start_time": "2023-08-13T22:00:28.393Z"
   },
   {
    "duration": 30,
    "start_time": "2023-08-13T22:00:28.399Z"
   },
   {
    "duration": 177,
    "start_time": "2023-08-13T22:00:28.430Z"
   },
   {
    "duration": 17,
    "start_time": "2023-08-13T22:00:28.609Z"
   },
   {
    "duration": 35,
    "start_time": "2023-08-13T22:00:28.628Z"
   },
   {
    "duration": 53,
    "start_time": "2023-08-13T22:00:28.665Z"
   },
   {
    "duration": 65,
    "start_time": "2023-08-13T22:00:28.720Z"
   },
   {
    "duration": 11,
    "start_time": "2023-08-13T22:00:28.786Z"
   },
   {
    "duration": 964,
    "start_time": "2023-08-13T22:00:28.799Z"
   },
   {
    "duration": 1402,
    "start_time": "2023-08-13T22:00:29.764Z"
   },
   {
    "duration": 101,
    "start_time": "2023-08-13T22:00:31.169Z"
   },
   {
    "duration": 38,
    "start_time": "2023-08-13T22:00:31.271Z"
   },
   {
    "duration": 50,
    "start_time": "2023-08-13T22:00:31.311Z"
   },
   {
    "duration": 53,
    "start_time": "2023-08-13T22:00:31.363Z"
   },
   {
    "duration": 19,
    "start_time": "2023-08-13T22:00:31.418Z"
   },
   {
    "duration": 53,
    "start_time": "2023-08-13T22:00:31.439Z"
   },
   {
    "duration": 20,
    "start_time": "2023-08-13T22:00:31.494Z"
   },
   {
    "duration": 46,
    "start_time": "2023-08-13T22:00:31.516Z"
   },
   {
    "duration": 345,
    "start_time": "2023-08-13T22:00:31.564Z"
   },
   {
    "duration": 540,
    "start_time": "2023-08-13T22:00:31.911Z"
   },
   {
    "duration": 353,
    "start_time": "2023-08-13T22:00:32.453Z"
   },
   {
    "duration": 405,
    "start_time": "2023-08-13T22:00:32.807Z"
   },
   {
    "duration": 393,
    "start_time": "2023-08-13T22:00:33.213Z"
   },
   {
    "duration": 395,
    "start_time": "2023-08-13T22:00:33.609Z"
   },
   {
    "duration": 40,
    "start_time": "2023-08-13T22:00:34.006Z"
   },
   {
    "duration": 34,
    "start_time": "2023-08-13T22:00:34.049Z"
   },
   {
    "duration": 40,
    "start_time": "2023-08-13T22:00:34.085Z"
   },
   {
    "duration": 56,
    "start_time": "2023-08-13T22:00:34.127Z"
   },
   {
    "duration": 28,
    "start_time": "2023-08-13T22:00:34.185Z"
   },
   {
    "duration": 52,
    "start_time": "2023-08-13T22:00:34.215Z"
   },
   {
    "duration": 20,
    "start_time": "2023-08-13T22:00:34.269Z"
   },
   {
    "duration": 4,
    "start_time": "2023-08-13T22:00:34.290Z"
   },
   {
    "duration": 70,
    "start_time": "2023-08-13T22:00:34.296Z"
   },
   {
    "duration": 47,
    "start_time": "2023-08-13T22:00:34.368Z"
   },
   {
    "duration": 5,
    "start_time": "2023-08-13T22:00:34.417Z"
   },
   {
    "duration": 7,
    "start_time": "2023-08-13T22:00:34.424Z"
   },
   {
    "duration": 25,
    "start_time": "2023-08-13T22:00:34.437Z"
   },
   {
    "duration": 20,
    "start_time": "2023-08-13T22:00:34.464Z"
   },
   {
    "duration": 9,
    "start_time": "2023-08-13T22:00:34.486Z"
   },
   {
    "duration": 18,
    "start_time": "2023-08-13T22:07:16.169Z"
   },
   {
    "duration": 145,
    "start_time": "2023-08-13T22:07:32.202Z"
   },
   {
    "duration": 18,
    "start_time": "2023-08-13T22:07:39.109Z"
   },
   {
    "duration": 9,
    "start_time": "2023-08-13T22:07:50.416Z"
   },
   {
    "duration": 6,
    "start_time": "2023-08-13T22:09:49.242Z"
   },
   {
    "duration": 15,
    "start_time": "2023-08-13T22:09:51.066Z"
   },
   {
    "duration": 10,
    "start_time": "2023-08-13T22:09:51.973Z"
   },
   {
    "duration": 61,
    "start_time": "2023-08-13T22:18:06.657Z"
   },
   {
    "duration": 1800,
    "start_time": "2023-08-13T22:18:13.010Z"
   },
   {
    "duration": 325,
    "start_time": "2023-08-13T22:18:14.815Z"
   },
   {
    "duration": 15,
    "start_time": "2023-08-13T22:18:15.142Z"
   },
   {
    "duration": 13,
    "start_time": "2023-08-13T22:18:15.158Z"
   },
   {
    "duration": 46,
    "start_time": "2023-08-13T22:18:15.173Z"
   },
   {
    "duration": 4,
    "start_time": "2023-08-13T22:18:15.221Z"
   },
   {
    "duration": 6,
    "start_time": "2023-08-13T22:18:15.226Z"
   },
   {
    "duration": 21,
    "start_time": "2023-08-13T22:18:15.234Z"
   },
   {
    "duration": 11,
    "start_time": "2023-08-13T22:18:15.257Z"
   },
   {
    "duration": 32,
    "start_time": "2023-08-13T22:18:15.269Z"
   },
   {
    "duration": 20,
    "start_time": "2023-08-13T22:18:15.303Z"
   },
   {
    "duration": 26,
    "start_time": "2023-08-13T22:18:15.324Z"
   },
   {
    "duration": 6,
    "start_time": "2023-08-13T22:18:15.351Z"
   },
   {
    "duration": 14,
    "start_time": "2023-08-13T22:18:15.361Z"
   },
   {
    "duration": 28,
    "start_time": "2023-08-13T22:18:15.377Z"
   },
   {
    "duration": 32,
    "start_time": "2023-08-13T22:18:15.407Z"
   },
   {
    "duration": 10,
    "start_time": "2023-08-13T22:18:15.441Z"
   },
   {
    "duration": 6,
    "start_time": "2023-08-13T22:18:15.452Z"
   },
   {
    "duration": 18,
    "start_time": "2023-08-13T22:18:15.459Z"
   },
   {
    "duration": 5,
    "start_time": "2023-08-13T22:18:15.478Z"
   },
   {
    "duration": 26,
    "start_time": "2023-08-13T22:18:15.485Z"
   },
   {
    "duration": 18,
    "start_time": "2023-08-13T22:18:15.512Z"
   },
   {
    "duration": 850,
    "start_time": "2023-08-13T22:18:15.531Z"
   },
   {
    "duration": 26,
    "start_time": "2023-08-13T22:18:16.382Z"
   },
   {
    "duration": 53,
    "start_time": "2023-08-13T22:18:16.410Z"
   },
   {
    "duration": 46,
    "start_time": "2023-08-13T22:18:16.465Z"
   },
   {
    "duration": 8,
    "start_time": "2023-08-13T22:18:16.512Z"
   },
   {
    "duration": 22,
    "start_time": "2023-08-13T22:18:16.521Z"
   },
   {
    "duration": 64,
    "start_time": "2023-08-13T22:18:16.544Z"
   },
   {
    "duration": 7,
    "start_time": "2023-08-13T22:18:16.610Z"
   },
   {
    "duration": 34,
    "start_time": "2023-08-13T22:18:16.619Z"
   },
   {
    "duration": 9,
    "start_time": "2023-08-13T22:18:16.654Z"
   },
   {
    "duration": 12,
    "start_time": "2023-08-13T22:18:16.665Z"
   },
   {
    "duration": 33,
    "start_time": "2023-08-13T22:18:16.679Z"
   },
   {
    "duration": 532,
    "start_time": "2023-08-13T22:18:16.714Z"
   },
   {
    "duration": 9,
    "start_time": "2023-08-13T22:18:17.248Z"
   },
   {
    "duration": 56,
    "start_time": "2023-08-13T22:18:17.259Z"
   },
   {
    "duration": 4,
    "start_time": "2023-08-13T22:18:17.316Z"
   },
   {
    "duration": 25,
    "start_time": "2023-08-13T22:18:17.321Z"
   },
   {
    "duration": 23,
    "start_time": "2023-08-13T22:18:17.348Z"
   },
   {
    "duration": 10,
    "start_time": "2023-08-13T22:18:17.375Z"
   },
   {
    "duration": 8,
    "start_time": "2023-08-13T22:18:17.386Z"
   },
   {
    "duration": 203,
    "start_time": "2023-08-13T22:18:17.408Z"
   },
   {
    "duration": 200,
    "start_time": "2023-08-13T22:18:17.612Z"
   },
   {
    "duration": 37,
    "start_time": "2023-08-13T22:18:17.814Z"
   },
   {
    "duration": 5,
    "start_time": "2023-08-13T22:18:17.853Z"
   },
   {
    "duration": 14,
    "start_time": "2023-08-13T22:18:17.860Z"
   },
   {
    "duration": 203,
    "start_time": "2023-08-13T22:18:17.880Z"
   },
   {
    "duration": 30,
    "start_time": "2023-08-13T22:18:18.085Z"
   },
   {
    "duration": 24,
    "start_time": "2023-08-13T22:18:18.117Z"
   },
   {
    "duration": 51,
    "start_time": "2023-08-13T22:18:18.142Z"
   },
   {
    "duration": 45,
    "start_time": "2023-08-13T22:18:18.202Z"
   },
   {
    "duration": 10,
    "start_time": "2023-08-13T22:18:18.249Z"
   },
   {
    "duration": 940,
    "start_time": "2023-08-13T22:18:18.261Z"
   },
   {
    "duration": 996,
    "start_time": "2023-08-13T22:18:19.203Z"
   },
   {
    "duration": 16,
    "start_time": "2023-08-13T22:18:20.204Z"
   },
   {
    "duration": 21,
    "start_time": "2023-08-13T22:18:20.222Z"
   },
   {
    "duration": 21,
    "start_time": "2023-08-13T22:18:20.244Z"
   },
   {
    "duration": 42,
    "start_time": "2023-08-13T22:18:20.267Z"
   },
   {
    "duration": 44,
    "start_time": "2023-08-13T22:18:20.312Z"
   },
   {
    "duration": 19,
    "start_time": "2023-08-13T22:18:20.358Z"
   },
   {
    "duration": 36,
    "start_time": "2023-08-13T22:18:20.379Z"
   },
   {
    "duration": 13,
    "start_time": "2023-08-13T22:18:20.417Z"
   },
   {
    "duration": 146,
    "start_time": "2023-08-13T22:18:20.432Z"
   },
   {
    "duration": 375,
    "start_time": "2023-08-13T22:18:20.580Z"
   },
   {
    "duration": 375,
    "start_time": "2023-08-13T22:18:20.957Z"
   },
   {
    "duration": 432,
    "start_time": "2023-08-13T22:18:21.334Z"
   },
   {
    "duration": 408,
    "start_time": "2023-08-13T22:18:21.767Z"
   },
   {
    "duration": 365,
    "start_time": "2023-08-13T22:18:22.176Z"
   },
   {
    "duration": 376,
    "start_time": "2023-08-13T22:18:22.542Z"
   },
   {
    "duration": 0,
    "start_time": "2023-08-13T22:18:22.920Z"
   },
   {
    "duration": 0,
    "start_time": "2023-08-13T22:18:22.921Z"
   },
   {
    "duration": 0,
    "start_time": "2023-08-13T22:18:22.922Z"
   },
   {
    "duration": 0,
    "start_time": "2023-08-13T22:18:22.923Z"
   },
   {
    "duration": 0,
    "start_time": "2023-08-13T22:18:22.925Z"
   },
   {
    "duration": 0,
    "start_time": "2023-08-13T22:18:22.926Z"
   },
   {
    "duration": 0,
    "start_time": "2023-08-13T22:18:22.927Z"
   },
   {
    "duration": 0,
    "start_time": "2023-08-13T22:18:22.928Z"
   },
   {
    "duration": 0,
    "start_time": "2023-08-13T22:18:22.930Z"
   },
   {
    "duration": 0,
    "start_time": "2023-08-13T22:18:22.931Z"
   },
   {
    "duration": 0,
    "start_time": "2023-08-13T22:18:22.932Z"
   },
   {
    "duration": 0,
    "start_time": "2023-08-13T22:18:22.934Z"
   },
   {
    "duration": 0,
    "start_time": "2023-08-13T22:18:22.936Z"
   },
   {
    "duration": 0,
    "start_time": "2023-08-13T22:18:22.936Z"
   },
   {
    "duration": 0,
    "start_time": "2023-08-13T22:18:22.938Z"
   },
   {
    "duration": 880,
    "start_time": "2023-08-13T22:19:23.619Z"
   },
   {
    "duration": 8,
    "start_time": "2023-08-13T22:19:25.456Z"
   },
   {
    "duration": 1404,
    "start_time": "2023-08-13T22:19:43.225Z"
   },
   {
    "duration": 203,
    "start_time": "2023-08-13T22:19:44.631Z"
   },
   {
    "duration": 14,
    "start_time": "2023-08-13T22:19:44.836Z"
   },
   {
    "duration": 11,
    "start_time": "2023-08-13T22:19:44.852Z"
   },
   {
    "duration": 30,
    "start_time": "2023-08-13T22:19:44.865Z"
   },
   {
    "duration": 3,
    "start_time": "2023-08-13T22:19:44.896Z"
   },
   {
    "duration": 10,
    "start_time": "2023-08-13T22:19:44.901Z"
   },
   {
    "duration": 25,
    "start_time": "2023-08-13T22:19:44.912Z"
   },
   {
    "duration": 14,
    "start_time": "2023-08-13T22:19:44.939Z"
   },
   {
    "duration": 17,
    "start_time": "2023-08-13T22:19:44.957Z"
   },
   {
    "duration": 20,
    "start_time": "2023-08-13T22:19:44.975Z"
   },
   {
    "duration": 22,
    "start_time": "2023-08-13T22:19:44.997Z"
   },
   {
    "duration": 6,
    "start_time": "2023-08-13T22:19:45.021Z"
   },
   {
    "duration": 39,
    "start_time": "2023-08-13T22:19:45.029Z"
   },
   {
    "duration": 11,
    "start_time": "2023-08-13T22:19:45.069Z"
   },
   {
    "duration": 29,
    "start_time": "2023-08-13T22:19:45.081Z"
   },
   {
    "duration": 7,
    "start_time": "2023-08-13T22:19:45.112Z"
   },
   {
    "duration": 25,
    "start_time": "2023-08-13T22:19:45.120Z"
   },
   {
    "duration": 18,
    "start_time": "2023-08-13T22:19:45.146Z"
   },
   {
    "duration": 5,
    "start_time": "2023-08-13T22:19:45.166Z"
   },
   {
    "duration": 22,
    "start_time": "2023-08-13T22:19:45.173Z"
   },
   {
    "duration": 21,
    "start_time": "2023-08-13T22:19:45.197Z"
   },
   {
    "duration": 700,
    "start_time": "2023-08-13T22:19:45.220Z"
   },
   {
    "duration": 12,
    "start_time": "2023-08-13T22:19:45.922Z"
   },
   {
    "duration": 61,
    "start_time": "2023-08-13T22:19:45.936Z"
   },
   {
    "duration": 41,
    "start_time": "2023-08-13T22:19:45.998Z"
   },
   {
    "duration": 6,
    "start_time": "2023-08-13T22:19:46.040Z"
   },
   {
    "duration": 20,
    "start_time": "2023-08-13T22:19:46.050Z"
   },
   {
    "duration": 58,
    "start_time": "2023-08-13T22:19:46.071Z"
   },
   {
    "duration": 6,
    "start_time": "2023-08-13T22:19:46.131Z"
   },
   {
    "duration": 20,
    "start_time": "2023-08-13T22:19:46.138Z"
   },
   {
    "duration": 8,
    "start_time": "2023-08-13T22:19:46.160Z"
   },
   {
    "duration": 30,
    "start_time": "2023-08-13T22:19:46.169Z"
   },
   {
    "duration": 23,
    "start_time": "2023-08-13T22:19:46.201Z"
   },
   {
    "duration": 400,
    "start_time": "2023-08-13T22:19:46.226Z"
   },
   {
    "duration": 9,
    "start_time": "2023-08-13T22:19:46.628Z"
   },
   {
    "duration": 35,
    "start_time": "2023-08-13T22:19:46.639Z"
   },
   {
    "duration": 3,
    "start_time": "2023-08-13T22:19:46.675Z"
   },
   {
    "duration": 28,
    "start_time": "2023-08-13T22:19:46.694Z"
   },
   {
    "duration": 11,
    "start_time": "2023-08-13T22:19:46.723Z"
   },
   {
    "duration": 12,
    "start_time": "2023-08-13T22:19:46.735Z"
   },
   {
    "duration": 9,
    "start_time": "2023-08-13T22:19:46.749Z"
   },
   {
    "duration": 326,
    "start_time": "2023-08-13T22:19:46.760Z"
   },
   {
    "duration": 215,
    "start_time": "2023-08-13T22:19:47.088Z"
   },
   {
    "duration": 49,
    "start_time": "2023-08-13T22:19:47.304Z"
   },
   {
    "duration": 5,
    "start_time": "2023-08-13T22:19:47.354Z"
   },
   {
    "duration": 25,
    "start_time": "2023-08-13T22:19:47.361Z"
   },
   {
    "duration": 202,
    "start_time": "2023-08-13T22:19:47.394Z"
   },
   {
    "duration": 16,
    "start_time": "2023-08-13T22:19:47.598Z"
   },
   {
    "duration": 16,
    "start_time": "2023-08-13T22:19:47.616Z"
   },
   {
    "duration": 71,
    "start_time": "2023-08-13T22:19:47.633Z"
   },
   {
    "duration": 52,
    "start_time": "2023-08-13T22:19:47.705Z"
   },
   {
    "duration": 14,
    "start_time": "2023-08-13T22:19:47.758Z"
   },
   {
    "duration": 923,
    "start_time": "2023-08-13T22:19:47.774Z"
   },
   {
    "duration": 1100,
    "start_time": "2023-08-13T22:19:48.699Z"
   },
   {
    "duration": 105,
    "start_time": "2023-08-13T22:19:49.801Z"
   },
   {
    "duration": 8,
    "start_time": "2023-08-13T22:19:49.908Z"
   },
   {
    "duration": 24,
    "start_time": "2023-08-13T22:19:49.917Z"
   },
   {
    "duration": 58,
    "start_time": "2023-08-13T22:19:49.943Z"
   },
   {
    "duration": 38,
    "start_time": "2023-08-13T22:19:50.003Z"
   },
   {
    "duration": 15,
    "start_time": "2023-08-13T22:19:50.043Z"
   },
   {
    "duration": 36,
    "start_time": "2023-08-13T22:19:50.060Z"
   },
   {
    "duration": 14,
    "start_time": "2023-08-13T22:19:50.097Z"
   },
   {
    "duration": 39,
    "start_time": "2023-08-13T22:19:50.112Z"
   },
   {
    "duration": 361,
    "start_time": "2023-08-13T22:19:50.152Z"
   },
   {
    "duration": 435,
    "start_time": "2023-08-13T22:19:50.514Z"
   },
   {
    "duration": 383,
    "start_time": "2023-08-13T22:19:50.950Z"
   },
   {
    "duration": 411,
    "start_time": "2023-08-13T22:19:51.334Z"
   },
   {
    "duration": 357,
    "start_time": "2023-08-13T22:19:51.747Z"
   },
   {
    "duration": 0,
    "start_time": "2023-08-13T22:19:52.106Z"
   },
   {
    "duration": 0,
    "start_time": "2023-08-13T22:19:52.107Z"
   },
   {
    "duration": 0,
    "start_time": "2023-08-13T22:19:52.108Z"
   },
   {
    "duration": 0,
    "start_time": "2023-08-13T22:19:52.109Z"
   },
   {
    "duration": 0,
    "start_time": "2023-08-13T22:19:52.110Z"
   },
   {
    "duration": 0,
    "start_time": "2023-08-13T22:19:52.111Z"
   },
   {
    "duration": 0,
    "start_time": "2023-08-13T22:19:52.112Z"
   },
   {
    "duration": 0,
    "start_time": "2023-08-13T22:19:52.113Z"
   },
   {
    "duration": 0,
    "start_time": "2023-08-13T22:19:52.114Z"
   },
   {
    "duration": 0,
    "start_time": "2023-08-13T22:19:52.115Z"
   },
   {
    "duration": 0,
    "start_time": "2023-08-13T22:19:52.116Z"
   },
   {
    "duration": 0,
    "start_time": "2023-08-13T22:19:52.118Z"
   },
   {
    "duration": 0,
    "start_time": "2023-08-13T22:19:52.119Z"
   },
   {
    "duration": 0,
    "start_time": "2023-08-13T22:19:52.120Z"
   },
   {
    "duration": 0,
    "start_time": "2023-08-13T22:19:52.121Z"
   },
   {
    "duration": 0,
    "start_time": "2023-08-13T22:19:52.122Z"
   },
   {
    "duration": 1433,
    "start_time": "2023-08-13T22:20:38.642Z"
   },
   {
    "duration": 209,
    "start_time": "2023-08-13T22:20:40.076Z"
   },
   {
    "duration": 16,
    "start_time": "2023-08-13T22:20:40.287Z"
   },
   {
    "duration": 19,
    "start_time": "2023-08-13T22:20:40.305Z"
   },
   {
    "duration": 43,
    "start_time": "2023-08-13T22:20:40.325Z"
   },
   {
    "duration": 11,
    "start_time": "2023-08-13T22:20:40.370Z"
   },
   {
    "duration": 30,
    "start_time": "2023-08-13T22:20:40.382Z"
   },
   {
    "duration": 35,
    "start_time": "2023-08-13T22:20:40.413Z"
   },
   {
    "duration": 36,
    "start_time": "2023-08-13T22:20:40.450Z"
   },
   {
    "duration": 35,
    "start_time": "2023-08-13T22:20:40.489Z"
   },
   {
    "duration": 24,
    "start_time": "2023-08-13T22:20:40.526Z"
   },
   {
    "duration": 44,
    "start_time": "2023-08-13T22:20:40.552Z"
   },
   {
    "duration": 6,
    "start_time": "2023-08-13T22:20:40.597Z"
   },
   {
    "duration": 45,
    "start_time": "2023-08-13T22:20:40.605Z"
   },
   {
    "duration": 17,
    "start_time": "2023-08-13T22:20:40.651Z"
   },
   {
    "duration": 35,
    "start_time": "2023-08-13T22:20:40.670Z"
   },
   {
    "duration": 14,
    "start_time": "2023-08-13T22:20:40.706Z"
   },
   {
    "duration": 12,
    "start_time": "2023-08-13T22:20:40.722Z"
   },
   {
    "duration": 18,
    "start_time": "2023-08-13T22:20:40.735Z"
   },
   {
    "duration": 6,
    "start_time": "2023-08-13T22:20:40.755Z"
   },
   {
    "duration": 24,
    "start_time": "2023-08-13T22:20:40.762Z"
   },
   {
    "duration": 17,
    "start_time": "2023-08-13T22:20:40.788Z"
   },
   {
    "duration": 793,
    "start_time": "2023-08-13T22:20:40.807Z"
   },
   {
    "duration": 11,
    "start_time": "2023-08-13T22:20:41.601Z"
   },
   {
    "duration": 43,
    "start_time": "2023-08-13T22:20:41.614Z"
   },
   {
    "duration": 52,
    "start_time": "2023-08-13T22:20:41.659Z"
   },
   {
    "duration": 6,
    "start_time": "2023-08-13T22:20:41.712Z"
   },
   {
    "duration": 22,
    "start_time": "2023-08-13T22:20:41.723Z"
   },
   {
    "duration": 63,
    "start_time": "2023-08-13T22:20:41.746Z"
   },
   {
    "duration": 6,
    "start_time": "2023-08-13T22:20:41.811Z"
   },
   {
    "duration": 23,
    "start_time": "2023-08-13T22:20:41.818Z"
   },
   {
    "duration": 8,
    "start_time": "2023-08-13T22:20:41.842Z"
   },
   {
    "duration": 14,
    "start_time": "2023-08-13T22:20:41.852Z"
   },
   {
    "duration": 30,
    "start_time": "2023-08-13T22:20:41.867Z"
   },
   {
    "duration": 381,
    "start_time": "2023-08-13T22:20:41.898Z"
   },
   {
    "duration": 19,
    "start_time": "2023-08-13T22:20:42.280Z"
   },
   {
    "duration": 52,
    "start_time": "2023-08-13T22:20:42.302Z"
   },
   {
    "duration": 3,
    "start_time": "2023-08-13T22:20:42.356Z"
   },
   {
    "duration": 17,
    "start_time": "2023-08-13T22:20:42.360Z"
   },
   {
    "duration": 19,
    "start_time": "2023-08-13T22:20:42.379Z"
   },
   {
    "duration": 29,
    "start_time": "2023-08-13T22:20:42.400Z"
   },
   {
    "duration": 24,
    "start_time": "2023-08-13T22:20:42.430Z"
   },
   {
    "duration": 261,
    "start_time": "2023-08-13T22:20:42.456Z"
   },
   {
    "duration": 204,
    "start_time": "2023-08-13T22:20:42.719Z"
   },
   {
    "duration": 35,
    "start_time": "2023-08-13T22:20:42.924Z"
   },
   {
    "duration": 4,
    "start_time": "2023-08-13T22:20:42.961Z"
   },
   {
    "duration": 29,
    "start_time": "2023-08-13T22:20:42.967Z"
   },
   {
    "duration": 177,
    "start_time": "2023-08-13T22:20:42.997Z"
   },
   {
    "duration": 23,
    "start_time": "2023-08-13T22:20:43.176Z"
   },
   {
    "duration": 15,
    "start_time": "2023-08-13T22:20:43.200Z"
   },
   {
    "duration": 47,
    "start_time": "2023-08-13T22:20:43.217Z"
   },
   {
    "duration": 66,
    "start_time": "2023-08-13T22:20:43.266Z"
   },
   {
    "duration": 11,
    "start_time": "2023-08-13T22:20:43.334Z"
   },
   {
    "duration": 866,
    "start_time": "2023-08-13T22:20:43.346Z"
   },
   {
    "duration": 1184,
    "start_time": "2023-08-13T22:20:44.213Z"
   },
   {
    "duration": 97,
    "start_time": "2023-08-13T22:20:45.399Z"
   },
   {
    "duration": 8,
    "start_time": "2023-08-13T22:20:45.497Z"
   },
   {
    "duration": 20,
    "start_time": "2023-08-13T22:20:45.507Z"
   },
   {
    "duration": 28,
    "start_time": "2023-08-13T22:20:45.529Z"
   },
   {
    "duration": 63,
    "start_time": "2023-08-13T22:20:45.559Z"
   },
   {
    "duration": 16,
    "start_time": "2023-08-13T22:20:45.624Z"
   },
   {
    "duration": 21,
    "start_time": "2023-08-13T22:20:45.642Z"
   },
   {
    "duration": 31,
    "start_time": "2023-08-13T22:20:45.665Z"
   },
   {
    "duration": 31,
    "start_time": "2023-08-13T22:20:45.698Z"
   },
   {
    "duration": 367,
    "start_time": "2023-08-13T22:20:45.730Z"
   },
   {
    "duration": 467,
    "start_time": "2023-08-13T22:20:46.099Z"
   },
   {
    "duration": 350,
    "start_time": "2023-08-13T22:20:46.567Z"
   },
   {
    "duration": 424,
    "start_time": "2023-08-13T22:20:46.919Z"
   },
   {
    "duration": 374,
    "start_time": "2023-08-13T22:20:47.345Z"
   },
   {
    "duration": 353,
    "start_time": "2023-08-13T22:20:47.721Z"
   },
   {
    "duration": 37,
    "start_time": "2023-08-13T22:20:48.076Z"
   },
   {
    "duration": 18,
    "start_time": "2023-08-13T22:20:48.114Z"
   },
   {
    "duration": 30,
    "start_time": "2023-08-13T22:20:48.133Z"
   },
   {
    "duration": 35,
    "start_time": "2023-08-13T22:20:48.164Z"
   },
   {
    "duration": 25,
    "start_time": "2023-08-13T22:20:48.200Z"
   },
   {
    "duration": 23,
    "start_time": "2023-08-13T22:20:48.226Z"
   },
   {
    "duration": 17,
    "start_time": "2023-08-13T22:20:48.251Z"
   },
   {
    "duration": 29,
    "start_time": "2023-08-13T22:20:48.269Z"
   },
   {
    "duration": 47,
    "start_time": "2023-08-13T22:20:48.299Z"
   },
   {
    "duration": 54,
    "start_time": "2023-08-13T22:20:48.348Z"
   },
   {
    "duration": 4,
    "start_time": "2023-08-13T22:20:48.404Z"
   },
   {
    "duration": 27,
    "start_time": "2023-08-13T22:20:48.414Z"
   },
   {
    "duration": 19,
    "start_time": "2023-08-13T22:20:48.443Z"
   },
   {
    "duration": 33,
    "start_time": "2023-08-13T22:20:48.464Z"
   },
   {
    "duration": 12,
    "start_time": "2023-08-13T22:20:48.499Z"
   },
   {
    "duration": 11,
    "start_time": "2023-08-13T22:22:08.473Z"
   },
   {
    "duration": 54,
    "start_time": "2023-08-13T22:22:13.993Z"
   },
   {
    "duration": 124,
    "start_time": "2023-08-13T22:22:38.507Z"
   },
   {
    "duration": 12,
    "start_time": "2023-08-13T22:22:47.226Z"
   },
   {
    "duration": 14,
    "start_time": "2023-08-13T22:23:24.610Z"
   },
   {
    "duration": 449,
    "start_time": "2023-08-13T22:26:45.155Z"
   },
   {
    "duration": 14,
    "start_time": "2023-08-13T22:26:47.210Z"
   },
   {
    "duration": 9,
    "start_time": "2023-08-13T22:26:48.539Z"
   },
   {
    "duration": 1003,
    "start_time": "2023-08-13T22:27:02.292Z"
   },
   {
    "duration": 15,
    "start_time": "2023-08-13T22:27:04.283Z"
   },
   {
    "duration": 8,
    "start_time": "2023-08-13T22:27:05.732Z"
   },
   {
    "duration": 712,
    "start_time": "2023-08-13T22:27:11.491Z"
   },
   {
    "duration": 8,
    "start_time": "2023-08-13T22:27:13.826Z"
   },
   {
    "duration": 13,
    "start_time": "2023-08-13T22:27:16.210Z"
   },
   {
    "duration": 7,
    "start_time": "2023-08-13T22:27:17.891Z"
   },
   {
    "duration": 17,
    "start_time": "2023-08-13T22:35:13.845Z"
   },
   {
    "duration": 17,
    "start_time": "2023-08-13T22:35:18.389Z"
   },
   {
    "duration": 42,
    "start_time": "2023-08-13T22:36:01.742Z"
   },
   {
    "duration": 5,
    "start_time": "2023-08-13T22:36:03.182Z"
   },
   {
    "duration": 5,
    "start_time": "2023-08-13T22:36:05.925Z"
   },
   {
    "duration": 8,
    "start_time": "2023-08-13T22:36:15.909Z"
   },
   {
    "duration": 1534,
    "start_time": "2023-08-13T22:36:59.642Z"
   },
   {
    "duration": 242,
    "start_time": "2023-08-13T22:37:01.178Z"
   },
   {
    "duration": 17,
    "start_time": "2023-08-13T22:37:01.421Z"
   },
   {
    "duration": 46,
    "start_time": "2023-08-13T22:37:01.440Z"
   },
   {
    "duration": 66,
    "start_time": "2023-08-13T22:37:01.487Z"
   },
   {
    "duration": 63,
    "start_time": "2023-08-13T22:37:01.555Z"
   },
   {
    "duration": 71,
    "start_time": "2023-08-13T22:37:01.620Z"
   },
   {
    "duration": 54,
    "start_time": "2023-08-13T22:37:01.693Z"
   },
   {
    "duration": 74,
    "start_time": "2023-08-13T22:37:01.749Z"
   },
   {
    "duration": 38,
    "start_time": "2023-08-13T22:37:01.827Z"
   },
   {
    "duration": 31,
    "start_time": "2023-08-13T22:37:01.867Z"
   },
   {
    "duration": 49,
    "start_time": "2023-08-13T22:37:01.900Z"
   },
   {
    "duration": 24,
    "start_time": "2023-08-13T22:37:01.951Z"
   },
   {
    "duration": 41,
    "start_time": "2023-08-13T22:37:01.977Z"
   },
   {
    "duration": 31,
    "start_time": "2023-08-13T22:37:02.021Z"
   },
   {
    "duration": 72,
    "start_time": "2023-08-13T22:37:02.054Z"
   },
   {
    "duration": 16,
    "start_time": "2023-08-13T22:37:02.128Z"
   },
   {
    "duration": 31,
    "start_time": "2023-08-13T22:37:02.147Z"
   },
   {
    "duration": 51,
    "start_time": "2023-08-13T22:37:02.180Z"
   },
   {
    "duration": 29,
    "start_time": "2023-08-13T22:37:02.232Z"
   },
   {
    "duration": 27,
    "start_time": "2023-08-13T22:37:02.263Z"
   },
   {
    "duration": 46,
    "start_time": "2023-08-13T22:37:02.292Z"
   },
   {
    "duration": 863,
    "start_time": "2023-08-13T22:37:02.340Z"
   },
   {
    "duration": 16,
    "start_time": "2023-08-13T22:37:03.204Z"
   },
   {
    "duration": 151,
    "start_time": "2023-08-13T22:37:03.222Z"
   },
   {
    "duration": 49,
    "start_time": "2023-08-13T22:37:03.375Z"
   },
   {
    "duration": 7,
    "start_time": "2023-08-13T22:37:03.426Z"
   },
   {
    "duration": 31,
    "start_time": "2023-08-13T22:37:03.440Z"
   },
   {
    "duration": 67,
    "start_time": "2023-08-13T22:37:03.472Z"
   },
   {
    "duration": 7,
    "start_time": "2023-08-13T22:37:03.541Z"
   },
   {
    "duration": 21,
    "start_time": "2023-08-13T22:37:03.549Z"
   },
   {
    "duration": 9,
    "start_time": "2023-08-13T22:37:03.572Z"
   },
   {
    "duration": 58,
    "start_time": "2023-08-13T22:37:03.595Z"
   },
   {
    "duration": 29,
    "start_time": "2023-08-13T22:37:03.655Z"
   },
   {
    "duration": 446,
    "start_time": "2023-08-13T22:37:03.686Z"
   },
   {
    "duration": 11,
    "start_time": "2023-08-13T22:37:04.133Z"
   },
   {
    "duration": 53,
    "start_time": "2023-08-13T22:37:04.145Z"
   },
   {
    "duration": 5,
    "start_time": "2023-08-13T22:37:04.204Z"
   },
   {
    "duration": 32,
    "start_time": "2023-08-13T22:37:04.212Z"
   },
   {
    "duration": 12,
    "start_time": "2023-08-13T22:37:04.246Z"
   },
   {
    "duration": 11,
    "start_time": "2023-08-13T22:37:04.260Z"
   },
   {
    "duration": 25,
    "start_time": "2023-08-13T22:37:04.273Z"
   },
   {
    "duration": 285,
    "start_time": "2023-08-13T22:37:04.300Z"
   },
   {
    "duration": 239,
    "start_time": "2023-08-13T22:37:04.587Z"
   },
   {
    "duration": 48,
    "start_time": "2023-08-13T22:37:04.830Z"
   },
   {
    "duration": 30,
    "start_time": "2023-08-13T22:37:04.880Z"
   },
   {
    "duration": 9,
    "start_time": "2023-08-13T22:37:04.913Z"
   },
   {
    "duration": 182,
    "start_time": "2023-08-13T22:37:04.924Z"
   },
   {
    "duration": 17,
    "start_time": "2023-08-13T22:37:05.108Z"
   },
   {
    "duration": 18,
    "start_time": "2023-08-13T22:37:05.127Z"
   },
   {
    "duration": 74,
    "start_time": "2023-08-13T22:37:05.146Z"
   },
   {
    "duration": 49,
    "start_time": "2023-08-13T22:37:05.221Z"
   },
   {
    "duration": 29,
    "start_time": "2023-08-13T22:37:05.271Z"
   },
   {
    "duration": 1008,
    "start_time": "2023-08-13T22:37:05.305Z"
   },
   {
    "duration": 909,
    "start_time": "2023-08-13T22:37:06.317Z"
   },
   {
    "duration": 99,
    "start_time": "2023-08-13T22:37:07.300Z"
   },
   {
    "duration": 19,
    "start_time": "2023-08-13T22:37:07.403Z"
   },
   {
    "duration": 20,
    "start_time": "2023-08-13T22:37:07.423Z"
   },
   {
    "duration": 31,
    "start_time": "2023-08-13T22:37:07.445Z"
   },
   {
    "duration": 59,
    "start_time": "2023-08-13T22:37:07.478Z"
   },
   {
    "duration": 24,
    "start_time": "2023-08-13T22:37:07.538Z"
   },
   {
    "duration": 56,
    "start_time": "2023-08-13T22:37:07.564Z"
   },
   {
    "duration": 52,
    "start_time": "2023-08-13T22:37:07.622Z"
   },
   {
    "duration": 38,
    "start_time": "2023-08-13T22:37:07.676Z"
   },
   {
    "duration": 366,
    "start_time": "2023-08-13T22:37:07.716Z"
   },
   {
    "duration": 520,
    "start_time": "2023-08-13T22:37:08.084Z"
   },
   {
    "duration": 356,
    "start_time": "2023-08-13T22:37:08.607Z"
   },
   {
    "duration": 396,
    "start_time": "2023-08-13T22:37:08.965Z"
   },
   {
    "duration": 402,
    "start_time": "2023-08-13T22:37:09.363Z"
   },
   {
    "duration": 418,
    "start_time": "2023-08-13T22:37:09.767Z"
   },
   {
    "duration": 39,
    "start_time": "2023-08-13T22:37:10.187Z"
   },
   {
    "duration": 18,
    "start_time": "2023-08-13T22:37:10.227Z"
   },
   {
    "duration": 25,
    "start_time": "2023-08-13T22:37:10.247Z"
   },
   {
    "duration": 52,
    "start_time": "2023-08-13T22:37:10.273Z"
   },
   {
    "duration": 20,
    "start_time": "2023-08-13T22:37:10.327Z"
   },
   {
    "duration": 18,
    "start_time": "2023-08-13T22:37:10.349Z"
   },
   {
    "duration": 50,
    "start_time": "2023-08-13T22:37:10.368Z"
   },
   {
    "duration": 9,
    "start_time": "2023-08-13T22:37:10.420Z"
   },
   {
    "duration": 43,
    "start_time": "2023-08-13T22:37:10.431Z"
   },
   {
    "duration": 62,
    "start_time": "2023-08-13T22:37:10.475Z"
   },
   {
    "duration": 6,
    "start_time": "2023-08-13T22:37:10.539Z"
   },
   {
    "duration": 5,
    "start_time": "2023-08-13T22:37:10.549Z"
   },
   {
    "duration": 7,
    "start_time": "2023-08-13T22:37:10.555Z"
   },
   {
    "duration": 51,
    "start_time": "2023-08-13T22:37:10.563Z"
   },
   {
    "duration": 10,
    "start_time": "2023-08-13T22:37:10.617Z"
   },
   {
    "duration": 9,
    "start_time": "2023-08-13T22:38:18.021Z"
   },
   {
    "duration": 112,
    "start_time": "2023-08-13T22:42:09.928Z"
   },
   {
    "duration": 116,
    "start_time": "2023-08-13T22:42:13.639Z"
   },
   {
    "duration": 1534,
    "start_time": "2023-08-13T22:43:31.232Z"
   },
   {
    "duration": 357,
    "start_time": "2023-08-13T22:43:32.768Z"
   },
   {
    "duration": 15,
    "start_time": "2023-08-13T22:43:33.127Z"
   },
   {
    "duration": 23,
    "start_time": "2023-08-13T22:43:33.145Z"
   },
   {
    "duration": 84,
    "start_time": "2023-08-13T22:43:33.170Z"
   },
   {
    "duration": 0,
    "start_time": "2023-08-13T22:43:33.258Z"
   },
   {
    "duration": 0,
    "start_time": "2023-08-13T22:43:33.259Z"
   },
   {
    "duration": 0,
    "start_time": "2023-08-13T22:43:33.260Z"
   },
   {
    "duration": 0,
    "start_time": "2023-08-13T22:43:33.261Z"
   },
   {
    "duration": 0,
    "start_time": "2023-08-13T22:43:33.262Z"
   },
   {
    "duration": 0,
    "start_time": "2023-08-13T22:43:33.263Z"
   },
   {
    "duration": 0,
    "start_time": "2023-08-13T22:43:33.264Z"
   },
   {
    "duration": 0,
    "start_time": "2023-08-13T22:43:33.265Z"
   },
   {
    "duration": 0,
    "start_time": "2023-08-13T22:43:33.266Z"
   },
   {
    "duration": 0,
    "start_time": "2023-08-13T22:43:33.267Z"
   },
   {
    "duration": 0,
    "start_time": "2023-08-13T22:43:33.268Z"
   },
   {
    "duration": 0,
    "start_time": "2023-08-13T22:43:33.269Z"
   },
   {
    "duration": 0,
    "start_time": "2023-08-13T22:43:33.270Z"
   },
   {
    "duration": 0,
    "start_time": "2023-08-13T22:43:33.271Z"
   },
   {
    "duration": 0,
    "start_time": "2023-08-13T22:43:33.272Z"
   },
   {
    "duration": 0,
    "start_time": "2023-08-13T22:43:33.273Z"
   },
   {
    "duration": 0,
    "start_time": "2023-08-13T22:43:33.274Z"
   },
   {
    "duration": 0,
    "start_time": "2023-08-13T22:43:33.275Z"
   },
   {
    "duration": 0,
    "start_time": "2023-08-13T22:43:33.276Z"
   },
   {
    "duration": 0,
    "start_time": "2023-08-13T22:43:33.277Z"
   },
   {
    "duration": 0,
    "start_time": "2023-08-13T22:43:33.278Z"
   },
   {
    "duration": 0,
    "start_time": "2023-08-13T22:43:33.279Z"
   },
   {
    "duration": 0,
    "start_time": "2023-08-13T22:43:33.280Z"
   },
   {
    "duration": 0,
    "start_time": "2023-08-13T22:43:33.281Z"
   },
   {
    "duration": 0,
    "start_time": "2023-08-13T22:43:33.282Z"
   },
   {
    "duration": 0,
    "start_time": "2023-08-13T22:43:33.283Z"
   },
   {
    "duration": 0,
    "start_time": "2023-08-13T22:43:33.284Z"
   },
   {
    "duration": 0,
    "start_time": "2023-08-13T22:43:33.285Z"
   },
   {
    "duration": 0,
    "start_time": "2023-08-13T22:43:33.286Z"
   },
   {
    "duration": 0,
    "start_time": "2023-08-13T22:43:33.287Z"
   },
   {
    "duration": 0,
    "start_time": "2023-08-13T22:43:33.288Z"
   },
   {
    "duration": 0,
    "start_time": "2023-08-13T22:43:33.289Z"
   },
   {
    "duration": 0,
    "start_time": "2023-08-13T22:43:33.290Z"
   },
   {
    "duration": 0,
    "start_time": "2023-08-13T22:43:33.291Z"
   },
   {
    "duration": 0,
    "start_time": "2023-08-13T22:43:33.292Z"
   },
   {
    "duration": 0,
    "start_time": "2023-08-13T22:43:33.294Z"
   },
   {
    "duration": 0,
    "start_time": "2023-08-13T22:43:33.296Z"
   },
   {
    "duration": 0,
    "start_time": "2023-08-13T22:43:33.297Z"
   },
   {
    "duration": 0,
    "start_time": "2023-08-13T22:43:33.297Z"
   },
   {
    "duration": 0,
    "start_time": "2023-08-13T22:43:33.298Z"
   },
   {
    "duration": 0,
    "start_time": "2023-08-13T22:43:33.299Z"
   },
   {
    "duration": 0,
    "start_time": "2023-08-13T22:43:33.305Z"
   },
   {
    "duration": 0,
    "start_time": "2023-08-13T22:43:33.306Z"
   },
   {
    "duration": 0,
    "start_time": "2023-08-13T22:43:33.307Z"
   },
   {
    "duration": 0,
    "start_time": "2023-08-13T22:43:33.308Z"
   },
   {
    "duration": 0,
    "start_time": "2023-08-13T22:43:33.308Z"
   },
   {
    "duration": 0,
    "start_time": "2023-08-13T22:43:33.310Z"
   },
   {
    "duration": 0,
    "start_time": "2023-08-13T22:43:33.311Z"
   },
   {
    "duration": 0,
    "start_time": "2023-08-13T22:43:33.312Z"
   },
   {
    "duration": 0,
    "start_time": "2023-08-13T22:43:33.312Z"
   },
   {
    "duration": 0,
    "start_time": "2023-08-13T22:43:33.314Z"
   },
   {
    "duration": 0,
    "start_time": "2023-08-13T22:43:33.315Z"
   },
   {
    "duration": 0,
    "start_time": "2023-08-13T22:43:33.317Z"
   },
   {
    "duration": 0,
    "start_time": "2023-08-13T22:43:33.318Z"
   },
   {
    "duration": 0,
    "start_time": "2023-08-13T22:43:33.319Z"
   },
   {
    "duration": 0,
    "start_time": "2023-08-13T22:43:33.320Z"
   },
   {
    "duration": 0,
    "start_time": "2023-08-13T22:43:33.321Z"
   },
   {
    "duration": 0,
    "start_time": "2023-08-13T22:43:33.322Z"
   },
   {
    "duration": 0,
    "start_time": "2023-08-13T22:43:33.323Z"
   },
   {
    "duration": 0,
    "start_time": "2023-08-13T22:43:33.324Z"
   },
   {
    "duration": 0,
    "start_time": "2023-08-13T22:43:33.325Z"
   },
   {
    "duration": 0,
    "start_time": "2023-08-13T22:43:33.326Z"
   },
   {
    "duration": 0,
    "start_time": "2023-08-13T22:43:33.327Z"
   },
   {
    "duration": 0,
    "start_time": "2023-08-13T22:43:33.328Z"
   },
   {
    "duration": 0,
    "start_time": "2023-08-13T22:43:33.329Z"
   },
   {
    "duration": 0,
    "start_time": "2023-08-13T22:43:33.331Z"
   },
   {
    "duration": 0,
    "start_time": "2023-08-13T22:43:33.331Z"
   },
   {
    "duration": 0,
    "start_time": "2023-08-13T22:43:33.332Z"
   },
   {
    "duration": 0,
    "start_time": "2023-08-13T22:43:33.334Z"
   },
   {
    "duration": 0,
    "start_time": "2023-08-13T22:43:33.335Z"
   },
   {
    "duration": 0,
    "start_time": "2023-08-13T22:43:33.336Z"
   },
   {
    "duration": 0,
    "start_time": "2023-08-13T22:43:33.337Z"
   },
   {
    "duration": 0,
    "start_time": "2023-08-13T22:43:33.337Z"
   },
   {
    "duration": 0,
    "start_time": "2023-08-13T22:43:33.338Z"
   },
   {
    "duration": 0,
    "start_time": "2023-08-13T22:43:33.395Z"
   },
   {
    "duration": 0,
    "start_time": "2023-08-13T22:43:33.397Z"
   },
   {
    "duration": 0,
    "start_time": "2023-08-13T22:43:33.398Z"
   },
   {
    "duration": 0,
    "start_time": "2023-08-13T22:43:33.398Z"
   },
   {
    "duration": 0,
    "start_time": "2023-08-13T22:43:33.401Z"
   },
   {
    "duration": 0,
    "start_time": "2023-08-13T22:43:33.402Z"
   },
   {
    "duration": 0,
    "start_time": "2023-08-13T22:43:33.403Z"
   },
   {
    "duration": 0,
    "start_time": "2023-08-13T22:43:33.403Z"
   },
   {
    "duration": 0,
    "start_time": "2023-08-13T22:43:33.404Z"
   },
   {
    "duration": 1618,
    "start_time": "2023-08-13T22:44:00.877Z"
   },
   {
    "duration": 220,
    "start_time": "2023-08-13T22:44:02.497Z"
   },
   {
    "duration": 14,
    "start_time": "2023-08-13T22:44:02.719Z"
   },
   {
    "duration": 21,
    "start_time": "2023-08-13T22:44:02.734Z"
   },
   {
    "duration": 35,
    "start_time": "2023-08-13T22:44:02.757Z"
   },
   {
    "duration": 43,
    "start_time": "2023-08-13T22:44:02.793Z"
   },
   {
    "duration": 50,
    "start_time": "2023-08-13T22:44:02.838Z"
   },
   {
    "duration": 34,
    "start_time": "2023-08-13T22:44:02.890Z"
   },
   {
    "duration": 29,
    "start_time": "2023-08-13T22:44:02.925Z"
   },
   {
    "duration": 10,
    "start_time": "2023-08-13T22:44:02.956Z"
   },
   {
    "duration": 11,
    "start_time": "2023-08-13T22:44:02.968Z"
   },
   {
    "duration": 16,
    "start_time": "2023-08-13T22:44:02.981Z"
   },
   {
    "duration": 26,
    "start_time": "2023-08-13T22:44:03.008Z"
   },
   {
    "duration": 5,
    "start_time": "2023-08-13T22:44:03.036Z"
   },
   {
    "duration": 22,
    "start_time": "2023-08-13T22:44:03.043Z"
   },
   {
    "duration": 11,
    "start_time": "2023-08-13T22:44:03.067Z"
   },
   {
    "duration": 61,
    "start_time": "2023-08-13T22:44:03.079Z"
   },
   {
    "duration": 14,
    "start_time": "2023-08-13T22:44:03.142Z"
   },
   {
    "duration": 29,
    "start_time": "2023-08-13T22:44:03.158Z"
   },
   {
    "duration": 44,
    "start_time": "2023-08-13T22:44:03.189Z"
   },
   {
    "duration": 25,
    "start_time": "2023-08-13T22:44:03.235Z"
   },
   {
    "duration": 43,
    "start_time": "2023-08-13T22:44:03.262Z"
   },
   {
    "duration": 22,
    "start_time": "2023-08-13T22:44:03.307Z"
   },
   {
    "duration": 756,
    "start_time": "2023-08-13T22:44:03.330Z"
   },
   {
    "duration": 23,
    "start_time": "2023-08-13T22:44:04.088Z"
   },
   {
    "duration": 45,
    "start_time": "2023-08-13T22:44:04.112Z"
   },
   {
    "duration": 53,
    "start_time": "2023-08-13T22:44:04.158Z"
   },
   {
    "duration": 6,
    "start_time": "2023-08-13T22:44:04.217Z"
   },
   {
    "duration": 22,
    "start_time": "2023-08-13T22:44:04.225Z"
   },
   {
    "duration": 60,
    "start_time": "2023-08-13T22:44:04.248Z"
   },
   {
    "duration": 9,
    "start_time": "2023-08-13T22:44:04.310Z"
   },
   {
    "duration": 29,
    "start_time": "2023-08-13T22:44:04.320Z"
   },
   {
    "duration": 7,
    "start_time": "2023-08-13T22:44:04.351Z"
   },
   {
    "duration": 16,
    "start_time": "2023-08-13T22:44:04.360Z"
   },
   {
    "duration": 36,
    "start_time": "2023-08-13T22:44:04.378Z"
   },
   {
    "duration": 422,
    "start_time": "2023-08-13T22:44:04.416Z"
   },
   {
    "duration": 10,
    "start_time": "2023-08-13T22:44:04.839Z"
   },
   {
    "duration": 57,
    "start_time": "2023-08-13T22:44:04.850Z"
   },
   {
    "duration": 3,
    "start_time": "2023-08-13T22:44:04.909Z"
   },
   {
    "duration": 16,
    "start_time": "2023-08-13T22:44:04.914Z"
   },
   {
    "duration": 7,
    "start_time": "2023-08-13T22:44:04.932Z"
   },
   {
    "duration": 15,
    "start_time": "2023-08-13T22:44:04.941Z"
   },
   {
    "duration": 9,
    "start_time": "2023-08-13T22:44:04.958Z"
   },
   {
    "duration": 298,
    "start_time": "2023-08-13T22:44:04.969Z"
   },
   {
    "duration": 238,
    "start_time": "2023-08-13T22:44:05.269Z"
   },
   {
    "duration": 36,
    "start_time": "2023-08-13T22:44:05.509Z"
   },
   {
    "duration": 4,
    "start_time": "2023-08-13T22:44:05.546Z"
   },
   {
    "duration": 20,
    "start_time": "2023-08-13T22:44:05.551Z"
   },
   {
    "duration": 216,
    "start_time": "2023-08-13T22:44:05.573Z"
   },
   {
    "duration": 24,
    "start_time": "2023-08-13T22:44:05.791Z"
   },
   {
    "duration": 24,
    "start_time": "2023-08-13T22:44:05.817Z"
   },
   {
    "duration": 64,
    "start_time": "2023-08-13T22:44:05.843Z"
   },
   {
    "duration": 142,
    "start_time": "2023-08-13T22:44:05.909Z"
   },
   {
    "duration": 0,
    "start_time": "2023-08-13T22:44:06.053Z"
   },
   {
    "duration": 0,
    "start_time": "2023-08-13T22:44:06.055Z"
   },
   {
    "duration": 0,
    "start_time": "2023-08-13T22:44:06.056Z"
   },
   {
    "duration": 0,
    "start_time": "2023-08-13T22:44:06.057Z"
   },
   {
    "duration": 0,
    "start_time": "2023-08-13T22:44:06.059Z"
   },
   {
    "duration": 0,
    "start_time": "2023-08-13T22:44:06.060Z"
   },
   {
    "duration": 0,
    "start_time": "2023-08-13T22:44:06.061Z"
   },
   {
    "duration": 0,
    "start_time": "2023-08-13T22:44:06.061Z"
   },
   {
    "duration": 0,
    "start_time": "2023-08-13T22:44:06.063Z"
   },
   {
    "duration": 0,
    "start_time": "2023-08-13T22:44:06.064Z"
   },
   {
    "duration": 0,
    "start_time": "2023-08-13T22:44:06.065Z"
   },
   {
    "duration": 0,
    "start_time": "2023-08-13T22:44:06.066Z"
   },
   {
    "duration": 0,
    "start_time": "2023-08-13T22:44:06.067Z"
   },
   {
    "duration": 0,
    "start_time": "2023-08-13T22:44:06.068Z"
   },
   {
    "duration": 0,
    "start_time": "2023-08-13T22:44:06.069Z"
   },
   {
    "duration": 0,
    "start_time": "2023-08-13T22:44:06.070Z"
   },
   {
    "duration": 0,
    "start_time": "2023-08-13T22:44:06.099Z"
   },
   {
    "duration": 0,
    "start_time": "2023-08-13T22:44:06.100Z"
   },
   {
    "duration": 0,
    "start_time": "2023-08-13T22:44:06.101Z"
   },
   {
    "duration": 0,
    "start_time": "2023-08-13T22:44:06.101Z"
   },
   {
    "duration": 0,
    "start_time": "2023-08-13T22:44:06.102Z"
   },
   {
    "duration": 0,
    "start_time": "2023-08-13T22:44:06.102Z"
   },
   {
    "duration": 0,
    "start_time": "2023-08-13T22:44:06.103Z"
   },
   {
    "duration": 0,
    "start_time": "2023-08-13T22:44:06.104Z"
   },
   {
    "duration": 0,
    "start_time": "2023-08-13T22:44:06.105Z"
   },
   {
    "duration": 0,
    "start_time": "2023-08-13T22:44:06.105Z"
   },
   {
    "duration": 0,
    "start_time": "2023-08-13T22:44:06.106Z"
   },
   {
    "duration": 0,
    "start_time": "2023-08-13T22:44:06.106Z"
   },
   {
    "duration": 0,
    "start_time": "2023-08-13T22:44:06.107Z"
   },
   {
    "duration": 0,
    "start_time": "2023-08-13T22:44:06.108Z"
   },
   {
    "duration": 0,
    "start_time": "2023-08-13T22:44:06.108Z"
   },
   {
    "duration": 0,
    "start_time": "2023-08-13T22:44:06.109Z"
   },
   {
    "duration": 0,
    "start_time": "2023-08-13T22:44:06.111Z"
   },
   {
    "duration": 0,
    "start_time": "2023-08-13T22:44:06.112Z"
   },
   {
    "duration": 6,
    "start_time": "2023-08-13T22:44:50.769Z"
   },
   {
    "duration": 32,
    "start_time": "2023-08-13T22:44:53.088Z"
   },
   {
    "duration": 13,
    "start_time": "2023-08-13T22:44:55.351Z"
   },
   {
    "duration": 311,
    "start_time": "2023-08-13T22:44:57.200Z"
   },
   {
    "duration": 23,
    "start_time": "2023-08-13T22:45:29.882Z"
   },
   {
    "duration": 1642,
    "start_time": "2023-08-13T22:45:35.109Z"
   },
   {
    "duration": 270,
    "start_time": "2023-08-13T22:45:36.754Z"
   },
   {
    "duration": 16,
    "start_time": "2023-08-13T22:45:37.026Z"
   },
   {
    "duration": 15,
    "start_time": "2023-08-13T22:45:37.044Z"
   },
   {
    "duration": 16,
    "start_time": "2023-08-13T22:45:37.062Z"
   },
   {
    "duration": 33,
    "start_time": "2023-08-13T22:45:37.080Z"
   },
   {
    "duration": 4,
    "start_time": "2023-08-13T22:45:37.115Z"
   },
   {
    "duration": 21,
    "start_time": "2023-08-13T22:45:37.121Z"
   },
   {
    "duration": 21,
    "start_time": "2023-08-13T22:45:37.144Z"
   },
   {
    "duration": 23,
    "start_time": "2023-08-13T22:45:37.167Z"
   },
   {
    "duration": 29,
    "start_time": "2023-08-13T22:45:37.192Z"
   },
   {
    "duration": 15,
    "start_time": "2023-08-13T22:45:37.222Z"
   },
   {
    "duration": 29,
    "start_time": "2023-08-13T22:45:37.239Z"
   },
   {
    "duration": 6,
    "start_time": "2023-08-13T22:45:37.271Z"
   },
   {
    "duration": 13,
    "start_time": "2023-08-13T22:45:37.279Z"
   },
   {
    "duration": 28,
    "start_time": "2023-08-13T22:45:37.294Z"
   },
   {
    "duration": 24,
    "start_time": "2023-08-13T22:45:37.324Z"
   },
   {
    "duration": 9,
    "start_time": "2023-08-13T22:45:37.350Z"
   },
   {
    "duration": 6,
    "start_time": "2023-08-13T22:45:37.360Z"
   },
   {
    "duration": 14,
    "start_time": "2023-08-13T22:45:37.368Z"
   },
   {
    "duration": 5,
    "start_time": "2023-08-13T22:45:37.384Z"
   },
   {
    "duration": 24,
    "start_time": "2023-08-13T22:45:37.394Z"
   },
   {
    "duration": 13,
    "start_time": "2023-08-13T22:45:37.420Z"
   },
   {
    "duration": 880,
    "start_time": "2023-08-13T22:45:37.436Z"
   },
   {
    "duration": 15,
    "start_time": "2023-08-13T22:45:38.318Z"
   },
   {
    "duration": 51,
    "start_time": "2023-08-13T22:45:38.335Z"
   },
   {
    "duration": 54,
    "start_time": "2023-08-13T22:45:38.387Z"
   },
   {
    "duration": 6,
    "start_time": "2023-08-13T22:45:38.442Z"
   },
   {
    "duration": 30,
    "start_time": "2023-08-13T22:45:38.449Z"
   },
   {
    "duration": 57,
    "start_time": "2023-08-13T22:45:38.480Z"
   },
   {
    "duration": 16,
    "start_time": "2023-08-13T22:45:38.538Z"
   },
   {
    "duration": 25,
    "start_time": "2023-08-13T22:45:38.556Z"
   },
   {
    "duration": 24,
    "start_time": "2023-08-13T22:45:38.582Z"
   },
   {
    "duration": 10,
    "start_time": "2023-08-13T22:45:38.607Z"
   },
   {
    "duration": 23,
    "start_time": "2023-08-13T22:45:38.618Z"
   },
   {
    "duration": 404,
    "start_time": "2023-08-13T22:45:38.642Z"
   },
   {
    "duration": 9,
    "start_time": "2023-08-13T22:45:39.047Z"
   },
   {
    "duration": 54,
    "start_time": "2023-08-13T22:45:39.058Z"
   },
   {
    "duration": 4,
    "start_time": "2023-08-13T22:45:39.113Z"
   },
   {
    "duration": 51,
    "start_time": "2023-08-13T22:45:39.119Z"
   },
   {
    "duration": 39,
    "start_time": "2023-08-13T22:45:39.176Z"
   },
   {
    "duration": 10,
    "start_time": "2023-08-13T22:45:39.217Z"
   },
   {
    "duration": 83,
    "start_time": "2023-08-13T22:45:39.228Z"
   },
   {
    "duration": 209,
    "start_time": "2023-08-13T22:45:39.313Z"
   },
   {
    "duration": 231,
    "start_time": "2023-08-13T22:45:39.524Z"
   },
   {
    "duration": 53,
    "start_time": "2023-08-13T22:45:39.757Z"
   },
   {
    "duration": 4,
    "start_time": "2023-08-13T22:45:39.812Z"
   },
   {
    "duration": 12,
    "start_time": "2023-08-13T22:45:39.818Z"
   },
   {
    "duration": 173,
    "start_time": "2023-08-13T22:45:39.832Z"
   },
   {
    "duration": 17,
    "start_time": "2023-08-13T22:45:40.007Z"
   },
   {
    "duration": 27,
    "start_time": "2023-08-13T22:45:40.026Z"
   },
   {
    "duration": 79,
    "start_time": "2023-08-13T22:45:40.054Z"
   },
   {
    "duration": 117,
    "start_time": "2023-08-13T22:45:40.135Z"
   },
   {
    "duration": 0,
    "start_time": "2023-08-13T22:45:40.253Z"
   },
   {
    "duration": 0,
    "start_time": "2023-08-13T22:45:40.254Z"
   },
   {
    "duration": 0,
    "start_time": "2023-08-13T22:45:40.255Z"
   },
   {
    "duration": 0,
    "start_time": "2023-08-13T22:45:40.256Z"
   },
   {
    "duration": 0,
    "start_time": "2023-08-13T22:45:40.257Z"
   },
   {
    "duration": 0,
    "start_time": "2023-08-13T22:45:40.258Z"
   },
   {
    "duration": 0,
    "start_time": "2023-08-13T22:45:40.259Z"
   },
   {
    "duration": 0,
    "start_time": "2023-08-13T22:45:40.260Z"
   },
   {
    "duration": 0,
    "start_time": "2023-08-13T22:45:40.261Z"
   },
   {
    "duration": 0,
    "start_time": "2023-08-13T22:45:40.262Z"
   },
   {
    "duration": 0,
    "start_time": "2023-08-13T22:45:40.263Z"
   },
   {
    "duration": 0,
    "start_time": "2023-08-13T22:45:40.264Z"
   },
   {
    "duration": 0,
    "start_time": "2023-08-13T22:45:40.265Z"
   },
   {
    "duration": 0,
    "start_time": "2023-08-13T22:45:40.294Z"
   },
   {
    "duration": 0,
    "start_time": "2023-08-13T22:45:40.296Z"
   },
   {
    "duration": 0,
    "start_time": "2023-08-13T22:45:40.297Z"
   },
   {
    "duration": 0,
    "start_time": "2023-08-13T22:45:40.300Z"
   },
   {
    "duration": 0,
    "start_time": "2023-08-13T22:45:40.301Z"
   },
   {
    "duration": 0,
    "start_time": "2023-08-13T22:45:40.302Z"
   },
   {
    "duration": 0,
    "start_time": "2023-08-13T22:45:40.302Z"
   },
   {
    "duration": 0,
    "start_time": "2023-08-13T22:45:40.303Z"
   },
   {
    "duration": 0,
    "start_time": "2023-08-13T22:45:40.304Z"
   },
   {
    "duration": 0,
    "start_time": "2023-08-13T22:45:40.304Z"
   },
   {
    "duration": 0,
    "start_time": "2023-08-13T22:45:40.305Z"
   },
   {
    "duration": 0,
    "start_time": "2023-08-13T22:45:40.306Z"
   },
   {
    "duration": 0,
    "start_time": "2023-08-13T22:45:40.306Z"
   },
   {
    "duration": 0,
    "start_time": "2023-08-13T22:45:40.307Z"
   },
   {
    "duration": 0,
    "start_time": "2023-08-13T22:45:40.308Z"
   },
   {
    "duration": 0,
    "start_time": "2023-08-13T22:45:40.309Z"
   },
   {
    "duration": 0,
    "start_time": "2023-08-13T22:45:40.311Z"
   },
   {
    "duration": 0,
    "start_time": "2023-08-13T22:45:40.313Z"
   },
   {
    "duration": 0,
    "start_time": "2023-08-13T22:45:40.314Z"
   },
   {
    "duration": 0,
    "start_time": "2023-08-13T22:45:40.315Z"
   },
   {
    "duration": 1667,
    "start_time": "2023-08-13T22:46:10.644Z"
   },
   {
    "duration": 228,
    "start_time": "2023-08-13T22:46:12.313Z"
   },
   {
    "duration": 15,
    "start_time": "2023-08-13T22:46:12.543Z"
   },
   {
    "duration": 14,
    "start_time": "2023-08-13T22:46:12.560Z"
   },
   {
    "duration": 26,
    "start_time": "2023-08-13T22:46:12.575Z"
   },
   {
    "duration": 26,
    "start_time": "2023-08-13T22:46:12.603Z"
   },
   {
    "duration": 3,
    "start_time": "2023-08-13T22:46:12.630Z"
   },
   {
    "duration": 6,
    "start_time": "2023-08-13T22:46:12.635Z"
   },
   {
    "duration": 28,
    "start_time": "2023-08-13T22:46:12.643Z"
   },
   {
    "duration": 28,
    "start_time": "2023-08-13T22:46:12.674Z"
   },
   {
    "duration": 11,
    "start_time": "2023-08-13T22:46:12.709Z"
   },
   {
    "duration": 10,
    "start_time": "2023-08-13T22:46:12.722Z"
   },
   {
    "duration": 28,
    "start_time": "2023-08-13T22:46:12.733Z"
   },
   {
    "duration": 6,
    "start_time": "2023-08-13T22:46:12.762Z"
   },
   {
    "duration": 11,
    "start_time": "2023-08-13T22:46:12.770Z"
   },
   {
    "duration": 11,
    "start_time": "2023-08-13T22:46:12.797Z"
   },
   {
    "duration": 19,
    "start_time": "2023-08-13T22:46:12.810Z"
   },
   {
    "duration": 9,
    "start_time": "2023-08-13T22:46:12.831Z"
   },
   {
    "duration": 5,
    "start_time": "2023-08-13T22:46:12.841Z"
   },
   {
    "duration": 14,
    "start_time": "2023-08-13T22:46:12.848Z"
   },
   {
    "duration": 5,
    "start_time": "2023-08-13T22:46:12.863Z"
   },
   {
    "duration": 17,
    "start_time": "2023-08-13T22:46:12.897Z"
   },
   {
    "duration": 11,
    "start_time": "2023-08-13T22:46:12.916Z"
   },
   {
    "duration": 765,
    "start_time": "2023-08-13T22:46:12.928Z"
   },
   {
    "duration": 12,
    "start_time": "2023-08-13T22:46:13.707Z"
   },
   {
    "duration": 47,
    "start_time": "2023-08-13T22:46:13.721Z"
   },
   {
    "duration": 48,
    "start_time": "2023-08-13T22:46:13.770Z"
   },
   {
    "duration": 5,
    "start_time": "2023-08-13T22:46:13.822Z"
   },
   {
    "duration": 19,
    "start_time": "2023-08-13T22:46:13.829Z"
   },
   {
    "duration": 57,
    "start_time": "2023-08-13T22:46:13.850Z"
   },
   {
    "duration": 7,
    "start_time": "2023-08-13T22:46:13.909Z"
   },
   {
    "duration": 18,
    "start_time": "2023-08-13T22:46:13.917Z"
   },
   {
    "duration": 8,
    "start_time": "2023-08-13T22:46:13.937Z"
   },
   {
    "duration": 7,
    "start_time": "2023-08-13T22:46:13.946Z"
   },
   {
    "duration": 50,
    "start_time": "2023-08-13T22:46:13.955Z"
   },
   {
    "duration": 415,
    "start_time": "2023-08-13T22:46:14.007Z"
   },
   {
    "duration": 10,
    "start_time": "2023-08-13T22:46:14.423Z"
   },
   {
    "duration": 36,
    "start_time": "2023-08-13T22:46:14.434Z"
   },
   {
    "duration": 3,
    "start_time": "2023-08-13T22:46:14.472Z"
   },
   {
    "duration": 36,
    "start_time": "2023-08-13T22:46:14.476Z"
   },
   {
    "duration": 14,
    "start_time": "2023-08-13T22:46:14.513Z"
   },
   {
    "duration": 16,
    "start_time": "2023-08-13T22:46:14.529Z"
   },
   {
    "duration": 14,
    "start_time": "2023-08-13T22:46:14.547Z"
   },
   {
    "duration": 277,
    "start_time": "2023-08-13T22:46:14.563Z"
   },
   {
    "duration": 234,
    "start_time": "2023-08-13T22:46:14.842Z"
   },
   {
    "duration": 53,
    "start_time": "2023-08-13T22:46:15.078Z"
   },
   {
    "duration": 6,
    "start_time": "2023-08-13T22:46:15.133Z"
   },
   {
    "duration": 15,
    "start_time": "2023-08-13T22:46:15.141Z"
   },
   {
    "duration": 194,
    "start_time": "2023-08-13T22:46:15.158Z"
   },
   {
    "duration": 18,
    "start_time": "2023-08-13T22:46:15.354Z"
   },
   {
    "duration": 39,
    "start_time": "2023-08-13T22:46:15.374Z"
   },
   {
    "duration": 54,
    "start_time": "2023-08-13T22:46:15.415Z"
   },
   {
    "duration": 72,
    "start_time": "2023-08-13T22:46:15.471Z"
   },
   {
    "duration": 12,
    "start_time": "2023-08-13T22:46:15.545Z"
   },
   {
    "duration": 1049,
    "start_time": "2023-08-13T22:46:15.559Z"
   },
   {
    "duration": 1194,
    "start_time": "2023-08-13T22:46:16.610Z"
   },
   {
    "duration": 14,
    "start_time": "2023-08-13T22:46:17.806Z"
   },
   {
    "duration": 7,
    "start_time": "2023-08-13T22:46:17.822Z"
   },
   {
    "duration": 18,
    "start_time": "2023-08-13T22:46:17.830Z"
   },
   {
    "duration": 57,
    "start_time": "2023-08-13T22:46:17.850Z"
   },
   {
    "duration": 37,
    "start_time": "2023-08-13T22:46:17.909Z"
   },
   {
    "duration": 16,
    "start_time": "2023-08-13T22:46:17.948Z"
   },
   {
    "duration": 24,
    "start_time": "2023-08-13T22:46:17.965Z"
   },
   {
    "duration": 29,
    "start_time": "2023-08-13T22:46:17.990Z"
   },
   {
    "duration": 39,
    "start_time": "2023-08-13T22:46:18.020Z"
   },
   {
    "duration": 399,
    "start_time": "2023-08-13T22:46:18.061Z"
   },
   {
    "duration": 483,
    "start_time": "2023-08-13T22:46:18.462Z"
   },
   {
    "duration": 405,
    "start_time": "2023-08-13T22:46:18.946Z"
   },
   {
    "duration": 410,
    "start_time": "2023-08-13T22:46:19.352Z"
   },
   {
    "duration": 397,
    "start_time": "2023-08-13T22:46:19.764Z"
   },
   {
    "duration": 402,
    "start_time": "2023-08-13T22:46:20.163Z"
   },
   {
    "duration": 40,
    "start_time": "2023-08-13T22:46:20.567Z"
   },
   {
    "duration": 19,
    "start_time": "2023-08-13T22:46:20.609Z"
   },
   {
    "duration": 49,
    "start_time": "2023-08-13T22:46:20.630Z"
   },
   {
    "duration": 31,
    "start_time": "2023-08-13T22:46:20.681Z"
   },
   {
    "duration": 25,
    "start_time": "2023-08-13T22:46:20.714Z"
   },
   {
    "duration": 26,
    "start_time": "2023-08-13T22:46:20.741Z"
   },
   {
    "duration": 61,
    "start_time": "2023-08-13T22:46:20.769Z"
   },
   {
    "duration": 24,
    "start_time": "2023-08-13T22:46:20.831Z"
   },
   {
    "duration": 63,
    "start_time": "2023-08-13T22:46:20.857Z"
   },
   {
    "duration": 66,
    "start_time": "2023-08-13T22:46:20.921Z"
   },
   {
    "duration": 46,
    "start_time": "2023-08-13T22:46:20.992Z"
   },
   {
    "duration": 52,
    "start_time": "2023-08-13T22:46:21.039Z"
   },
   {
    "duration": 41,
    "start_time": "2023-08-13T22:46:21.093Z"
   },
   {
    "duration": 71,
    "start_time": "2023-08-13T22:46:21.135Z"
   },
   {
    "duration": 9,
    "start_time": "2023-08-13T22:46:21.208Z"
   },
   {
    "duration": 45,
    "start_time": "2023-08-13T22:48:35.641Z"
   },
   {
    "duration": 1550,
    "start_time": "2023-08-13T22:48:44.390Z"
   },
   {
    "duration": 221,
    "start_time": "2023-08-13T22:48:45.941Z"
   },
   {
    "duration": 15,
    "start_time": "2023-08-13T22:48:46.164Z"
   },
   {
    "duration": 21,
    "start_time": "2023-08-13T22:48:46.181Z"
   },
   {
    "duration": 17,
    "start_time": "2023-08-13T22:48:46.203Z"
   },
   {
    "duration": 20,
    "start_time": "2023-08-13T22:48:46.221Z"
   },
   {
    "duration": 3,
    "start_time": "2023-08-13T22:48:46.242Z"
   },
   {
    "duration": 9,
    "start_time": "2023-08-13T22:48:46.247Z"
   },
   {
    "duration": 21,
    "start_time": "2023-08-13T22:48:46.257Z"
   },
   {
    "duration": 27,
    "start_time": "2023-08-13T22:48:46.281Z"
   },
   {
    "duration": 23,
    "start_time": "2023-08-13T22:48:46.310Z"
   },
   {
    "duration": 12,
    "start_time": "2023-08-13T22:48:46.335Z"
   },
   {
    "duration": 32,
    "start_time": "2023-08-13T22:48:46.349Z"
   },
   {
    "duration": 12,
    "start_time": "2023-08-13T22:48:46.383Z"
   },
   {
    "duration": 7,
    "start_time": "2023-08-13T22:48:46.397Z"
   },
   {
    "duration": 6,
    "start_time": "2023-08-13T22:48:46.405Z"
   },
   {
    "duration": 19,
    "start_time": "2023-08-13T22:48:46.412Z"
   },
   {
    "duration": 7,
    "start_time": "2023-08-13T22:48:46.432Z"
   },
   {
    "duration": 4,
    "start_time": "2023-08-13T22:48:46.441Z"
   },
   {
    "duration": 16,
    "start_time": "2023-08-13T22:48:46.446Z"
   },
   {
    "duration": 4,
    "start_time": "2023-08-13T22:48:46.494Z"
   },
   {
    "duration": 19,
    "start_time": "2023-08-13T22:48:46.500Z"
   },
   {
    "duration": 12,
    "start_time": "2023-08-13T22:48:46.520Z"
   },
   {
    "duration": 818,
    "start_time": "2023-08-13T22:48:46.533Z"
   },
   {
    "duration": 11,
    "start_time": "2023-08-13T22:48:47.353Z"
   },
   {
    "duration": 51,
    "start_time": "2023-08-13T22:48:47.365Z"
   },
   {
    "duration": 37,
    "start_time": "2023-08-13T22:48:47.418Z"
   },
   {
    "duration": 6,
    "start_time": "2023-08-13T22:48:47.459Z"
   },
   {
    "duration": 41,
    "start_time": "2023-08-13T22:48:47.466Z"
   },
   {
    "duration": 37,
    "start_time": "2023-08-13T22:48:47.508Z"
   },
   {
    "duration": 7,
    "start_time": "2023-08-13T22:48:47.547Z"
   },
   {
    "duration": 19,
    "start_time": "2023-08-13T22:48:47.555Z"
   },
   {
    "duration": 7,
    "start_time": "2023-08-13T22:48:47.594Z"
   },
   {
    "duration": 7,
    "start_time": "2023-08-13T22:48:47.603Z"
   },
   {
    "duration": 21,
    "start_time": "2023-08-13T22:48:47.611Z"
   },
   {
    "duration": 372,
    "start_time": "2023-08-13T22:48:47.634Z"
   },
   {
    "duration": 10,
    "start_time": "2023-08-13T22:48:48.008Z"
   },
   {
    "duration": 34,
    "start_time": "2023-08-13T22:48:48.020Z"
   },
   {
    "duration": 4,
    "start_time": "2023-08-13T22:48:48.056Z"
   },
   {
    "duration": 35,
    "start_time": "2023-08-13T22:48:48.061Z"
   },
   {
    "duration": 8,
    "start_time": "2023-08-13T22:48:48.098Z"
   },
   {
    "duration": 10,
    "start_time": "2023-08-13T22:48:48.108Z"
   },
   {
    "duration": 8,
    "start_time": "2023-08-13T22:48:48.119Z"
   },
   {
    "duration": 275,
    "start_time": "2023-08-13T22:48:48.128Z"
   },
   {
    "duration": 192,
    "start_time": "2023-08-13T22:48:48.405Z"
   },
   {
    "duration": 35,
    "start_time": "2023-08-13T22:48:48.599Z"
   },
   {
    "duration": 5,
    "start_time": "2023-08-13T22:48:48.636Z"
   },
   {
    "duration": 15,
    "start_time": "2023-08-13T22:48:48.642Z"
   },
   {
    "duration": 174,
    "start_time": "2023-08-13T22:48:48.658Z"
   },
   {
    "duration": 15,
    "start_time": "2023-08-13T22:48:48.834Z"
   },
   {
    "duration": 15,
    "start_time": "2023-08-13T22:48:48.850Z"
   },
   {
    "duration": 67,
    "start_time": "2023-08-13T22:48:48.866Z"
   },
   {
    "duration": 45,
    "start_time": "2023-08-13T22:48:48.935Z"
   },
   {
    "duration": 21,
    "start_time": "2023-08-13T22:48:48.982Z"
   },
   {
    "duration": 943,
    "start_time": "2023-08-13T22:48:49.005Z"
   },
   {
    "duration": 1248,
    "start_time": "2023-08-13T22:48:49.950Z"
   },
   {
    "duration": 103,
    "start_time": "2023-08-13T22:48:51.200Z"
   },
   {
    "duration": 7,
    "start_time": "2023-08-13T22:48:51.305Z"
   },
   {
    "duration": 21,
    "start_time": "2023-08-13T22:48:51.314Z"
   },
   {
    "duration": 29,
    "start_time": "2023-08-13T22:48:51.336Z"
   },
   {
    "duration": 59,
    "start_time": "2023-08-13T22:48:51.366Z"
   },
   {
    "duration": 16,
    "start_time": "2023-08-13T22:48:51.426Z"
   },
   {
    "duration": 23,
    "start_time": "2023-08-13T22:48:51.443Z"
   },
   {
    "duration": 33,
    "start_time": "2023-08-13T22:48:51.467Z"
   },
   {
    "duration": 31,
    "start_time": "2023-08-13T22:48:51.502Z"
   },
   {
    "duration": 397,
    "start_time": "2023-08-13T22:48:51.535Z"
   },
   {
    "duration": 441,
    "start_time": "2023-08-13T22:48:51.933Z"
   },
   {
    "duration": 371,
    "start_time": "2023-08-13T22:48:52.376Z"
   },
   {
    "duration": 380,
    "start_time": "2023-08-13T22:48:52.748Z"
   },
   {
    "duration": 365,
    "start_time": "2023-08-13T22:48:53.130Z"
   },
   {
    "duration": 356,
    "start_time": "2023-08-13T22:48:53.497Z"
   },
   {
    "duration": 28,
    "start_time": "2023-08-13T22:48:53.854Z"
   },
   {
    "duration": 23,
    "start_time": "2023-08-13T22:48:53.884Z"
   },
   {
    "duration": 20,
    "start_time": "2023-08-13T22:48:53.908Z"
   },
   {
    "duration": 16,
    "start_time": "2023-08-13T22:48:53.929Z"
   },
   {
    "duration": 50,
    "start_time": "2023-08-13T22:48:53.946Z"
   },
   {
    "duration": 18,
    "start_time": "2023-08-13T22:48:53.998Z"
   },
   {
    "duration": 17,
    "start_time": "2023-08-13T22:48:54.017Z"
   },
   {
    "duration": 3,
    "start_time": "2023-08-13T22:48:54.035Z"
   },
   {
    "duration": 68,
    "start_time": "2023-08-13T22:48:54.039Z"
   },
   {
    "duration": 45,
    "start_time": "2023-08-13T22:48:54.108Z"
   },
   {
    "duration": 4,
    "start_time": "2023-08-13T22:48:54.158Z"
   },
   {
    "duration": 12,
    "start_time": "2023-08-13T22:48:54.163Z"
   },
   {
    "duration": 5,
    "start_time": "2023-08-13T22:48:54.194Z"
   },
   {
    "duration": 46,
    "start_time": "2023-08-13T22:48:54.200Z"
   },
   {
    "duration": 0,
    "start_time": "2023-08-13T22:48:54.247Z"
   },
   {
    "duration": 19,
    "start_time": "2023-08-13T22:49:23.905Z"
   },
   {
    "duration": 9,
    "start_time": "2023-08-13T22:49:28.906Z"
   },
   {
    "duration": 18,
    "start_time": "2023-08-13T22:49:48.153Z"
   },
   {
    "duration": 8,
    "start_time": "2023-08-13T22:49:49.833Z"
   },
   {
    "duration": 663,
    "start_time": "2023-08-13T22:52:45.042Z"
   },
   {
    "duration": 13,
    "start_time": "2023-08-13T22:52:47.578Z"
   },
   {
    "duration": 8,
    "start_time": "2023-08-13T22:52:50.154Z"
   },
   {
    "duration": 51,
    "start_time": "2023-08-13T22:53:05.458Z"
   },
   {
    "duration": 12,
    "start_time": "2023-08-13T22:53:07.938Z"
   },
   {
    "duration": 934,
    "start_time": "2023-08-13T22:53:09.978Z"
   },
   {
    "duration": 707,
    "start_time": "2023-08-13T22:53:13.194Z"
   },
   {
    "duration": 15,
    "start_time": "2023-08-13T22:53:15.451Z"
   },
   {
    "duration": 9,
    "start_time": "2023-08-13T22:53:17.313Z"
   },
   {
    "duration": 1759,
    "start_time": "2023-08-13T22:53:33.706Z"
   },
   {
    "duration": 295,
    "start_time": "2023-08-13T22:53:35.467Z"
   },
   {
    "duration": 14,
    "start_time": "2023-08-13T22:53:35.764Z"
   },
   {
    "duration": 30,
    "start_time": "2023-08-13T22:53:35.779Z"
   },
   {
    "duration": 11,
    "start_time": "2023-08-13T22:53:35.812Z"
   },
   {
    "duration": 56,
    "start_time": "2023-08-13T22:53:35.825Z"
   },
   {
    "duration": 7,
    "start_time": "2023-08-13T22:53:35.882Z"
   },
   {
    "duration": 35,
    "start_time": "2023-08-13T22:53:35.890Z"
   },
   {
    "duration": 34,
    "start_time": "2023-08-13T22:53:35.927Z"
   },
   {
    "duration": 29,
    "start_time": "2023-08-13T22:53:35.963Z"
   },
   {
    "duration": 31,
    "start_time": "2023-08-13T22:53:35.994Z"
   },
   {
    "duration": 6,
    "start_time": "2023-08-13T22:53:36.026Z"
   },
   {
    "duration": 23,
    "start_time": "2023-08-13T22:53:36.034Z"
   },
   {
    "duration": 6,
    "start_time": "2023-08-13T22:53:36.060Z"
   },
   {
    "duration": 11,
    "start_time": "2023-08-13T22:53:36.068Z"
   },
   {
    "duration": 25,
    "start_time": "2023-08-13T22:53:36.081Z"
   },
   {
    "duration": 18,
    "start_time": "2023-08-13T22:53:36.108Z"
   },
   {
    "duration": 9,
    "start_time": "2023-08-13T22:53:36.128Z"
   },
   {
    "duration": 5,
    "start_time": "2023-08-13T22:53:36.139Z"
   },
   {
    "duration": 23,
    "start_time": "2023-08-13T22:53:36.145Z"
   },
   {
    "duration": 8,
    "start_time": "2023-08-13T22:53:36.170Z"
   },
   {
    "duration": 29,
    "start_time": "2023-08-13T22:53:36.180Z"
   },
   {
    "duration": 16,
    "start_time": "2023-08-13T22:53:36.211Z"
   },
   {
    "duration": 847,
    "start_time": "2023-08-13T22:53:36.228Z"
   },
   {
    "duration": 11,
    "start_time": "2023-08-13T22:53:37.077Z"
   },
   {
    "duration": 51,
    "start_time": "2023-08-13T22:53:37.094Z"
   },
   {
    "duration": 62,
    "start_time": "2023-08-13T22:53:37.147Z"
   },
   {
    "duration": 5,
    "start_time": "2023-08-13T22:53:37.211Z"
   },
   {
    "duration": 26,
    "start_time": "2023-08-13T22:53:37.218Z"
   },
   {
    "duration": 34,
    "start_time": "2023-08-13T22:53:37.245Z"
   },
   {
    "duration": 28,
    "start_time": "2023-08-13T22:53:37.281Z"
   },
   {
    "duration": 30,
    "start_time": "2023-08-13T22:53:37.310Z"
   },
   {
    "duration": 8,
    "start_time": "2023-08-13T22:53:37.342Z"
   },
   {
    "duration": 6,
    "start_time": "2023-08-13T22:53:37.351Z"
   },
   {
    "duration": 19,
    "start_time": "2023-08-13T22:53:37.358Z"
   },
   {
    "duration": 399,
    "start_time": "2023-08-13T22:53:37.379Z"
   },
   {
    "duration": 26,
    "start_time": "2023-08-13T22:53:37.780Z"
   },
   {
    "duration": 36,
    "start_time": "2023-08-13T22:53:37.808Z"
   },
   {
    "duration": 4,
    "start_time": "2023-08-13T22:53:37.846Z"
   },
   {
    "duration": 24,
    "start_time": "2023-08-13T22:53:37.851Z"
   },
   {
    "duration": 6,
    "start_time": "2023-08-13T22:53:37.879Z"
   },
   {
    "duration": 24,
    "start_time": "2023-08-13T22:53:37.886Z"
   },
   {
    "duration": 85,
    "start_time": "2023-08-13T22:53:37.912Z"
   },
   {
    "duration": 189,
    "start_time": "2023-08-13T22:53:37.998Z"
   },
   {
    "duration": 224,
    "start_time": "2023-08-13T22:53:38.189Z"
   },
   {
    "duration": 34,
    "start_time": "2023-08-13T22:53:38.415Z"
   },
   {
    "duration": 5,
    "start_time": "2023-08-13T22:53:38.451Z"
   },
   {
    "duration": 10,
    "start_time": "2023-08-13T22:53:38.457Z"
   },
   {
    "duration": 189,
    "start_time": "2023-08-13T22:53:38.469Z"
   },
   {
    "duration": 15,
    "start_time": "2023-08-13T22:53:38.659Z"
   },
   {
    "duration": 34,
    "start_time": "2023-08-13T22:53:38.675Z"
   },
   {
    "duration": 51,
    "start_time": "2023-08-13T22:53:38.710Z"
   },
   {
    "duration": 66,
    "start_time": "2023-08-13T22:53:38.763Z"
   },
   {
    "duration": 11,
    "start_time": "2023-08-13T22:53:38.831Z"
   },
   {
    "duration": 966,
    "start_time": "2023-08-13T22:53:38.844Z"
   },
   {
    "duration": 587,
    "start_time": "2023-08-13T22:53:39.812Z"
   },
   {
    "duration": 107,
    "start_time": "2023-08-13T22:53:40.401Z"
   },
   {
    "duration": 10,
    "start_time": "2023-08-13T22:53:40.510Z"
   },
   {
    "duration": 20,
    "start_time": "2023-08-13T22:53:40.521Z"
   },
   {
    "duration": 27,
    "start_time": "2023-08-13T22:53:40.543Z"
   },
   {
    "duration": 55,
    "start_time": "2023-08-13T22:53:40.572Z"
   },
   {
    "duration": 16,
    "start_time": "2023-08-13T22:53:40.629Z"
   },
   {
    "duration": 36,
    "start_time": "2023-08-13T22:53:40.646Z"
   },
   {
    "duration": 25,
    "start_time": "2023-08-13T22:53:40.683Z"
   },
   {
    "duration": 61,
    "start_time": "2023-08-13T22:53:40.710Z"
   },
   {
    "duration": 379,
    "start_time": "2023-08-13T22:53:40.773Z"
   },
   {
    "duration": 555,
    "start_time": "2023-08-13T22:53:41.154Z"
   },
   {
    "duration": 407,
    "start_time": "2023-08-13T22:53:41.711Z"
   },
   {
    "duration": 365,
    "start_time": "2023-08-13T22:53:42.120Z"
   },
   {
    "duration": 0,
    "start_time": "2023-08-13T22:53:42.486Z"
   },
   {
    "duration": 0,
    "start_time": "2023-08-13T22:53:42.488Z"
   },
   {
    "duration": 0,
    "start_time": "2023-08-13T22:53:42.488Z"
   },
   {
    "duration": 1,
    "start_time": "2023-08-13T22:53:42.497Z"
   },
   {
    "duration": 0,
    "start_time": "2023-08-13T22:53:42.498Z"
   },
   {
    "duration": 0,
    "start_time": "2023-08-13T22:53:42.499Z"
   },
   {
    "duration": 0,
    "start_time": "2023-08-13T22:53:42.499Z"
   },
   {
    "duration": 0,
    "start_time": "2023-08-13T22:53:42.500Z"
   },
   {
    "duration": 0,
    "start_time": "2023-08-13T22:53:42.500Z"
   },
   {
    "duration": 0,
    "start_time": "2023-08-13T22:53:42.506Z"
   },
   {
    "duration": 0,
    "start_time": "2023-08-13T22:53:42.507Z"
   },
   {
    "duration": 0,
    "start_time": "2023-08-13T22:53:42.507Z"
   },
   {
    "duration": 0,
    "start_time": "2023-08-13T22:53:42.508Z"
   },
   {
    "duration": 0,
    "start_time": "2023-08-13T22:53:42.509Z"
   },
   {
    "duration": 0,
    "start_time": "2023-08-13T22:53:42.510Z"
   },
   {
    "duration": 0,
    "start_time": "2023-08-13T22:53:42.511Z"
   },
   {
    "duration": 0,
    "start_time": "2023-08-13T22:53:42.512Z"
   },
   {
    "duration": 193,
    "start_time": "2023-08-13T22:57:00.707Z"
   },
   {
    "duration": 14,
    "start_time": "2023-08-13T22:58:17.020Z"
   },
   {
    "duration": 48,
    "start_time": "2023-08-13T22:59:07.307Z"
   },
   {
    "duration": 211,
    "start_time": "2023-08-13T22:59:19.444Z"
   },
   {
    "duration": 219,
    "start_time": "2023-08-13T22:59:36.261Z"
   },
   {
    "duration": 67,
    "start_time": "2023-08-13T23:03:58.486Z"
   },
   {
    "duration": 890,
    "start_time": "2023-08-13T23:04:21.608Z"
   },
   {
    "duration": 1632,
    "start_time": "2023-08-13T23:04:27.191Z"
   },
   {
    "duration": 319,
    "start_time": "2023-08-13T23:04:28.826Z"
   },
   {
    "duration": 14,
    "start_time": "2023-08-13T23:04:29.147Z"
   },
   {
    "duration": 22,
    "start_time": "2023-08-13T23:04:29.163Z"
   },
   {
    "duration": 34,
    "start_time": "2023-08-13T23:04:29.186Z"
   },
   {
    "duration": 25,
    "start_time": "2023-08-13T23:04:29.222Z"
   },
   {
    "duration": 11,
    "start_time": "2023-08-13T23:04:29.249Z"
   },
   {
    "duration": 9,
    "start_time": "2023-08-13T23:04:29.261Z"
   },
   {
    "duration": 46,
    "start_time": "2023-08-13T23:04:29.271Z"
   },
   {
    "duration": 10,
    "start_time": "2023-08-13T23:04:29.320Z"
   },
   {
    "duration": 14,
    "start_time": "2023-08-13T23:04:29.332Z"
   },
   {
    "duration": 5,
    "start_time": "2023-08-13T23:04:29.348Z"
   },
   {
    "duration": 25,
    "start_time": "2023-08-13T23:04:29.354Z"
   },
   {
    "duration": 29,
    "start_time": "2023-08-13T23:04:29.381Z"
   },
   {
    "duration": 13,
    "start_time": "2023-08-13T23:04:29.412Z"
   },
   {
    "duration": 5,
    "start_time": "2023-08-13T23:04:29.427Z"
   },
   {
    "duration": 28,
    "start_time": "2023-08-13T23:04:29.434Z"
   },
   {
    "duration": 14,
    "start_time": "2023-08-13T23:04:29.464Z"
   },
   {
    "duration": 7,
    "start_time": "2023-08-13T23:04:29.479Z"
   },
   {
    "duration": 23,
    "start_time": "2023-08-13T23:04:29.487Z"
   },
   {
    "duration": 18,
    "start_time": "2023-08-13T23:04:29.511Z"
   },
   {
    "duration": 27,
    "start_time": "2023-08-13T23:04:29.531Z"
   },
   {
    "duration": 28,
    "start_time": "2023-08-13T23:04:29.559Z"
   },
   {
    "duration": 831,
    "start_time": "2023-08-13T23:04:29.589Z"
   },
   {
    "duration": 12,
    "start_time": "2023-08-13T23:04:30.422Z"
   },
   {
    "duration": 86,
    "start_time": "2023-08-13T23:04:30.435Z"
   },
   {
    "duration": 54,
    "start_time": "2023-08-13T23:04:30.522Z"
   },
   {
    "duration": 41,
    "start_time": "2023-08-13T23:04:30.580Z"
   },
   {
    "duration": 106,
    "start_time": "2023-08-13T23:04:30.622Z"
   },
   {
    "duration": 52,
    "start_time": "2023-08-13T23:04:30.730Z"
   },
   {
    "duration": 44,
    "start_time": "2023-08-13T23:04:30.784Z"
   },
   {
    "duration": 120,
    "start_time": "2023-08-13T23:04:30.830Z"
   },
   {
    "duration": 265,
    "start_time": "2023-08-13T23:04:30.952Z"
   },
   {
    "duration": 62,
    "start_time": "2023-08-13T23:04:31.219Z"
   },
   {
    "duration": 58,
    "start_time": "2023-08-13T23:04:31.282Z"
   },
   {
    "duration": 467,
    "start_time": "2023-08-13T23:04:31.342Z"
   },
   {
    "duration": 10,
    "start_time": "2023-08-13T23:04:31.811Z"
   },
   {
    "duration": 128,
    "start_time": "2023-08-13T23:04:31.824Z"
   },
   {
    "duration": 69,
    "start_time": "2023-08-13T23:04:31.954Z"
   },
   {
    "duration": 79,
    "start_time": "2023-08-13T23:04:32.025Z"
   },
   {
    "duration": 81,
    "start_time": "2023-08-13T23:04:32.106Z"
   },
   {
    "duration": 137,
    "start_time": "2023-08-13T23:04:32.189Z"
   },
   {
    "duration": 113,
    "start_time": "2023-08-13T23:04:32.327Z"
   },
   {
    "duration": 337,
    "start_time": "2023-08-13T23:04:32.442Z"
   },
   {
    "duration": 230,
    "start_time": "2023-08-13T23:04:32.780Z"
   },
   {
    "duration": 35,
    "start_time": "2023-08-13T23:04:33.012Z"
   },
   {
    "duration": 61,
    "start_time": "2023-08-13T23:04:33.049Z"
   },
   {
    "duration": 52,
    "start_time": "2023-08-13T23:04:33.112Z"
   },
   {
    "duration": 250,
    "start_time": "2023-08-13T23:04:33.166Z"
   },
   {
    "duration": 17,
    "start_time": "2023-08-13T23:04:33.418Z"
   },
   {
    "duration": 86,
    "start_time": "2023-08-13T23:04:33.436Z"
   },
   {
    "duration": 87,
    "start_time": "2023-08-13T23:04:33.524Z"
   },
   {
    "duration": 106,
    "start_time": "2023-08-13T23:04:33.614Z"
   },
   {
    "duration": 14,
    "start_time": "2023-08-13T23:04:33.722Z"
   },
   {
    "duration": 1070,
    "start_time": "2023-08-13T23:04:33.738Z"
   },
   {
    "duration": 704,
    "start_time": "2023-08-13T23:04:34.811Z"
   },
   {
    "duration": 92,
    "start_time": "2023-08-13T23:04:35.517Z"
   },
   {
    "duration": 28,
    "start_time": "2023-08-13T23:04:35.611Z"
   },
   {
    "duration": 18,
    "start_time": "2023-08-13T23:04:35.641Z"
   },
   {
    "duration": 48,
    "start_time": "2023-08-13T23:04:35.661Z"
   },
   {
    "duration": 42,
    "start_time": "2023-08-13T23:04:35.711Z"
   },
   {
    "duration": 17,
    "start_time": "2023-08-13T23:04:35.755Z"
   },
   {
    "duration": 43,
    "start_time": "2023-08-13T23:04:35.774Z"
   },
   {
    "duration": 35,
    "start_time": "2023-08-13T23:04:35.819Z"
   },
   {
    "duration": 49,
    "start_time": "2023-08-13T23:04:35.856Z"
   },
   {
    "duration": 374,
    "start_time": "2023-08-13T23:04:35.907Z"
   },
   {
    "duration": 531,
    "start_time": "2023-08-13T23:04:36.284Z"
   },
   {
    "duration": 353,
    "start_time": "2023-08-13T23:04:36.817Z"
   },
   {
    "duration": 415,
    "start_time": "2023-08-13T23:04:37.172Z"
   },
   {
    "duration": 373,
    "start_time": "2023-08-13T23:04:37.589Z"
   },
   {
    "duration": 413,
    "start_time": "2023-08-13T23:04:37.964Z"
   },
   {
    "duration": 41,
    "start_time": "2023-08-13T23:04:38.379Z"
   },
   {
    "duration": 19,
    "start_time": "2023-08-13T23:04:38.422Z"
   },
   {
    "duration": 45,
    "start_time": "2023-08-13T23:04:38.443Z"
   },
   {
    "duration": 27,
    "start_time": "2023-08-13T23:04:38.490Z"
   },
   {
    "duration": 94,
    "start_time": "2023-08-13T23:04:38.519Z"
   },
   {
    "duration": 43,
    "start_time": "2023-08-13T23:04:38.615Z"
   },
   {
    "duration": 20,
    "start_time": "2023-08-13T23:04:38.660Z"
   },
   {
    "duration": 14,
    "start_time": "2023-08-13T23:04:38.682Z"
   },
   {
    "duration": 63,
    "start_time": "2023-08-13T23:04:38.698Z"
   },
   {
    "duration": 60,
    "start_time": "2023-08-13T23:04:38.763Z"
   },
   {
    "duration": 5,
    "start_time": "2023-08-13T23:04:38.828Z"
   },
   {
    "duration": 31,
    "start_time": "2023-08-13T23:04:38.835Z"
   },
   {
    "duration": 45,
    "start_time": "2023-08-13T23:04:38.868Z"
   },
   {
    "duration": 96,
    "start_time": "2023-08-13T23:04:38.915Z"
   },
   {
    "duration": 0,
    "start_time": "2023-08-13T23:04:39.013Z"
   },
   {
    "duration": 21,
    "start_time": "2023-08-13T23:04:54.315Z"
   },
   {
    "duration": 23,
    "start_time": "2023-08-13T23:04:56.285Z"
   },
   {
    "duration": 17,
    "start_time": "2023-08-13T23:05:09.965Z"
   },
   {
    "duration": 11,
    "start_time": "2023-08-13T23:05:11.294Z"
   },
   {
    "duration": 5,
    "start_time": "2023-08-13T23:06:44.382Z"
   },
   {
    "duration": 5,
    "start_time": "2023-08-13T23:06:52.846Z"
   },
   {
    "duration": 17,
    "start_time": "2023-08-13T23:08:08.319Z"
   },
   {
    "duration": 10,
    "start_time": "2023-08-13T23:08:10.054Z"
   },
   {
    "duration": 17,
    "start_time": "2023-08-13T23:09:26.174Z"
   },
   {
    "duration": 10,
    "start_time": "2023-08-13T23:09:27.822Z"
   },
   {
    "duration": 1689,
    "start_time": "2023-08-13T23:09:35.382Z"
   },
   {
    "duration": 274,
    "start_time": "2023-08-13T23:09:37.073Z"
   },
   {
    "duration": 13,
    "start_time": "2023-08-13T23:09:37.349Z"
   },
   {
    "duration": 11,
    "start_time": "2023-08-13T23:09:37.364Z"
   },
   {
    "duration": 32,
    "start_time": "2023-08-13T23:09:37.377Z"
   },
   {
    "duration": 18,
    "start_time": "2023-08-13T23:09:37.411Z"
   },
   {
    "duration": 3,
    "start_time": "2023-08-13T23:09:37.431Z"
   },
   {
    "duration": 7,
    "start_time": "2023-08-13T23:09:37.436Z"
   },
   {
    "duration": 25,
    "start_time": "2023-08-13T23:09:37.444Z"
   },
   {
    "duration": 13,
    "start_time": "2023-08-13T23:09:37.471Z"
   },
   {
    "duration": 18,
    "start_time": "2023-08-13T23:09:37.494Z"
   },
   {
    "duration": 8,
    "start_time": "2023-08-13T23:09:37.513Z"
   },
   {
    "duration": 23,
    "start_time": "2023-08-13T23:09:37.522Z"
   },
   {
    "duration": 6,
    "start_time": "2023-08-13T23:09:37.548Z"
   },
   {
    "duration": 12,
    "start_time": "2023-08-13T23:09:37.555Z"
   },
   {
    "duration": 39,
    "start_time": "2023-08-13T23:09:37.568Z"
   },
   {
    "duration": 20,
    "start_time": "2023-08-13T23:09:37.609Z"
   },
   {
    "duration": 7,
    "start_time": "2023-08-13T23:09:37.630Z"
   },
   {
    "duration": 14,
    "start_time": "2023-08-13T23:09:37.639Z"
   },
   {
    "duration": 14,
    "start_time": "2023-08-13T23:09:37.655Z"
   },
   {
    "duration": 5,
    "start_time": "2023-08-13T23:09:37.670Z"
   },
   {
    "duration": 29,
    "start_time": "2023-08-13T23:09:37.677Z"
   },
   {
    "duration": 18,
    "start_time": "2023-08-13T23:09:37.708Z"
   },
   {
    "duration": 792,
    "start_time": "2023-08-13T23:09:37.728Z"
   },
   {
    "duration": 12,
    "start_time": "2023-08-13T23:09:38.522Z"
   },
   {
    "duration": 74,
    "start_time": "2023-08-13T23:09:38.535Z"
   },
   {
    "duration": 40,
    "start_time": "2023-08-13T23:09:38.615Z"
   },
   {
    "duration": 21,
    "start_time": "2023-08-13T23:09:38.657Z"
   },
   {
    "duration": 38,
    "start_time": "2023-08-13T23:09:38.679Z"
   },
   {
    "duration": 47,
    "start_time": "2023-08-13T23:09:38.719Z"
   },
   {
    "duration": 6,
    "start_time": "2023-08-13T23:09:38.767Z"
   },
   {
    "duration": 28,
    "start_time": "2023-08-13T23:09:38.775Z"
   },
   {
    "duration": 8,
    "start_time": "2023-08-13T23:09:38.807Z"
   },
   {
    "duration": 9,
    "start_time": "2023-08-13T23:09:38.816Z"
   },
   {
    "duration": 23,
    "start_time": "2023-08-13T23:09:38.826Z"
   },
   {
    "duration": 462,
    "start_time": "2023-08-13T23:09:38.851Z"
   },
   {
    "duration": 10,
    "start_time": "2023-08-13T23:09:39.315Z"
   },
   {
    "duration": 34,
    "start_time": "2023-08-13T23:09:39.327Z"
   },
   {
    "duration": 3,
    "start_time": "2023-08-13T23:09:39.362Z"
   },
   {
    "duration": 36,
    "start_time": "2023-08-13T23:09:39.367Z"
   },
   {
    "duration": 14,
    "start_time": "2023-08-13T23:09:39.407Z"
   },
   {
    "duration": 9,
    "start_time": "2023-08-13T23:09:39.423Z"
   },
   {
    "duration": 85,
    "start_time": "2023-08-13T23:09:39.434Z"
   },
   {
    "duration": 215,
    "start_time": "2023-08-13T23:09:39.520Z"
   },
   {
    "duration": 219,
    "start_time": "2023-08-13T23:09:39.736Z"
   },
   {
    "duration": 47,
    "start_time": "2023-08-13T23:09:39.957Z"
   },
   {
    "duration": 6,
    "start_time": "2023-08-13T23:09:40.010Z"
   },
   {
    "duration": 11,
    "start_time": "2023-08-13T23:09:40.018Z"
   },
   {
    "duration": 188,
    "start_time": "2023-08-13T23:09:40.031Z"
   },
   {
    "duration": 16,
    "start_time": "2023-08-13T23:09:40.221Z"
   },
   {
    "duration": 17,
    "start_time": "2023-08-13T23:09:40.239Z"
   },
   {
    "duration": 75,
    "start_time": "2023-08-13T23:09:40.258Z"
   },
   {
    "duration": 66,
    "start_time": "2023-08-13T23:09:40.336Z"
   },
   {
    "duration": 14,
    "start_time": "2023-08-13T23:09:40.403Z"
   },
   {
    "duration": 994,
    "start_time": "2023-08-13T23:09:40.418Z"
   },
   {
    "duration": 800,
    "start_time": "2023-08-13T23:09:41.414Z"
   },
   {
    "duration": 111,
    "start_time": "2023-08-13T23:09:42.217Z"
   },
   {
    "duration": 82,
    "start_time": "2023-08-13T23:09:42.330Z"
   },
   {
    "duration": 23,
    "start_time": "2023-08-13T23:09:42.414Z"
   },
   {
    "duration": 35,
    "start_time": "2023-08-13T23:09:42.438Z"
   },
   {
    "duration": 45,
    "start_time": "2023-08-13T23:09:42.474Z"
   },
   {
    "duration": 16,
    "start_time": "2023-08-13T23:09:42.521Z"
   },
   {
    "duration": 28,
    "start_time": "2023-08-13T23:09:42.538Z"
   },
   {
    "duration": 13,
    "start_time": "2023-08-13T23:09:42.567Z"
   },
   {
    "duration": 42,
    "start_time": "2023-08-13T23:09:42.582Z"
   },
   {
    "duration": 371,
    "start_time": "2023-08-13T23:09:42.626Z"
   },
   {
    "duration": 466,
    "start_time": "2023-08-13T23:09:43.003Z"
   },
   {
    "duration": 373,
    "start_time": "2023-08-13T23:09:43.471Z"
   },
   {
    "duration": 405,
    "start_time": "2023-08-13T23:09:43.846Z"
   },
   {
    "duration": 381,
    "start_time": "2023-08-13T23:09:44.253Z"
   },
   {
    "duration": 402,
    "start_time": "2023-08-13T23:09:44.635Z"
   },
   {
    "duration": 30,
    "start_time": "2023-08-13T23:09:45.038Z"
   },
   {
    "duration": 46,
    "start_time": "2023-08-13T23:09:45.070Z"
   },
   {
    "duration": 22,
    "start_time": "2023-08-13T23:09:45.118Z"
   },
   {
    "duration": 16,
    "start_time": "2023-08-13T23:09:45.142Z"
   },
   {
    "duration": 44,
    "start_time": "2023-08-13T23:09:45.160Z"
   },
   {
    "duration": 18,
    "start_time": "2023-08-13T23:09:45.206Z"
   },
   {
    "duration": 20,
    "start_time": "2023-08-13T23:09:45.226Z"
   },
   {
    "duration": 4,
    "start_time": "2023-08-13T23:09:45.247Z"
   },
   {
    "duration": 73,
    "start_time": "2023-08-13T23:09:45.253Z"
   },
   {
    "duration": 49,
    "start_time": "2023-08-13T23:09:45.327Z"
   },
   {
    "duration": 33,
    "start_time": "2023-08-13T23:09:45.378Z"
   },
   {
    "duration": 9,
    "start_time": "2023-08-13T23:09:45.413Z"
   },
   {
    "duration": 8,
    "start_time": "2023-08-13T23:09:45.425Z"
   },
   {
    "duration": 22,
    "start_time": "2023-08-13T23:09:45.435Z"
   },
   {
    "duration": 9,
    "start_time": "2023-08-13T23:09:45.459Z"
   },
   {
    "duration": 145,
    "start_time": "2023-08-13T23:12:10.223Z"
   },
   {
    "duration": 19,
    "start_time": "2023-08-13T23:12:22.969Z"
   },
   {
    "duration": 20,
    "start_time": "2023-08-13T23:13:22.817Z"
   },
   {
    "duration": 19,
    "start_time": "2023-08-13T23:13:46.856Z"
   },
   {
    "duration": 6,
    "start_time": "2023-08-13T23:14:58.833Z"
   },
   {
    "duration": 7,
    "start_time": "2023-08-13T23:15:03.072Z"
   },
   {
    "duration": 13,
    "start_time": "2023-08-13T23:15:17.897Z"
   },
   {
    "duration": 4,
    "start_time": "2023-08-13T23:15:44.657Z"
   },
   {
    "duration": 4,
    "start_time": "2023-08-13T23:15:55.463Z"
   },
   {
    "duration": 1527,
    "start_time": "2023-08-13T23:16:50.623Z"
   },
   {
    "duration": 283,
    "start_time": "2023-08-13T23:16:52.152Z"
   },
   {
    "duration": 15,
    "start_time": "2023-08-13T23:16:52.436Z"
   },
   {
    "duration": 31,
    "start_time": "2023-08-13T23:16:52.452Z"
   },
   {
    "duration": 36,
    "start_time": "2023-08-13T23:16:52.484Z"
   },
   {
    "duration": 38,
    "start_time": "2023-08-13T23:16:52.522Z"
   },
   {
    "duration": 7,
    "start_time": "2023-08-13T23:16:52.562Z"
   },
   {
    "duration": 14,
    "start_time": "2023-08-13T23:16:52.570Z"
   },
   {
    "duration": 60,
    "start_time": "2023-08-13T23:16:52.586Z"
   },
   {
    "duration": 13,
    "start_time": "2023-08-13T23:16:52.649Z"
   },
   {
    "duration": 58,
    "start_time": "2023-08-13T23:16:52.663Z"
   },
   {
    "duration": 10,
    "start_time": "2023-08-13T23:16:52.722Z"
   },
   {
    "duration": 42,
    "start_time": "2023-08-13T23:16:52.734Z"
   },
   {
    "duration": 40,
    "start_time": "2023-08-13T23:16:52.777Z"
   },
   {
    "duration": 23,
    "start_time": "2023-08-13T23:16:52.818Z"
   },
   {
    "duration": 31,
    "start_time": "2023-08-13T23:16:52.842Z"
   },
   {
    "duration": 73,
    "start_time": "2023-08-13T23:16:52.874Z"
   },
   {
    "duration": 43,
    "start_time": "2023-08-13T23:16:52.949Z"
   },
   {
    "duration": 58,
    "start_time": "2023-08-13T23:16:52.994Z"
   },
   {
    "duration": 48,
    "start_time": "2023-08-13T23:16:53.054Z"
   },
   {
    "duration": 16,
    "start_time": "2023-08-13T23:16:53.104Z"
   },
   {
    "duration": 45,
    "start_time": "2023-08-13T23:16:53.122Z"
   },
   {
    "duration": 47,
    "start_time": "2023-08-13T23:16:53.169Z"
   },
   {
    "duration": 801,
    "start_time": "2023-08-13T23:16:53.218Z"
   },
   {
    "duration": 13,
    "start_time": "2023-08-13T23:16:54.021Z"
   },
   {
    "duration": 62,
    "start_time": "2023-08-13T23:16:54.035Z"
   },
   {
    "duration": 46,
    "start_time": "2023-08-13T23:16:54.101Z"
   },
   {
    "duration": 6,
    "start_time": "2023-08-13T23:16:54.152Z"
   },
   {
    "duration": 43,
    "start_time": "2023-08-13T23:16:54.159Z"
   },
   {
    "duration": 41,
    "start_time": "2023-08-13T23:16:54.203Z"
   },
   {
    "duration": 7,
    "start_time": "2023-08-13T23:16:54.246Z"
   },
   {
    "duration": 26,
    "start_time": "2023-08-13T23:16:54.255Z"
   },
   {
    "duration": 25,
    "start_time": "2023-08-13T23:16:54.283Z"
   },
   {
    "duration": 28,
    "start_time": "2023-08-13T23:16:54.310Z"
   },
   {
    "duration": 26,
    "start_time": "2023-08-13T23:16:54.341Z"
   },
   {
    "duration": 458,
    "start_time": "2023-08-13T23:16:54.368Z"
   },
   {
    "duration": 11,
    "start_time": "2023-08-13T23:16:54.828Z"
   },
   {
    "duration": 39,
    "start_time": "2023-08-13T23:16:54.841Z"
   },
   {
    "duration": 3,
    "start_time": "2023-08-13T23:16:54.882Z"
   },
   {
    "duration": 33,
    "start_time": "2023-08-13T23:16:54.887Z"
   },
   {
    "duration": 14,
    "start_time": "2023-08-13T23:16:54.922Z"
   },
   {
    "duration": 15,
    "start_time": "2023-08-13T23:16:54.937Z"
   },
   {
    "duration": 54,
    "start_time": "2023-08-13T23:16:54.954Z"
   },
   {
    "duration": 525,
    "start_time": "2023-08-13T23:16:55.010Z"
   },
   {
    "duration": 290,
    "start_time": "2023-08-13T23:16:55.537Z"
   },
   {
    "duration": 36,
    "start_time": "2023-08-13T23:16:55.828Z"
   },
   {
    "duration": 4,
    "start_time": "2023-08-13T23:16:55.866Z"
   },
   {
    "duration": 36,
    "start_time": "2023-08-13T23:16:55.872Z"
   },
   {
    "duration": 197,
    "start_time": "2023-08-13T23:16:55.909Z"
   },
   {
    "duration": 17,
    "start_time": "2023-08-13T23:16:56.108Z"
   },
   {
    "duration": 18,
    "start_time": "2023-08-13T23:16:56.127Z"
   },
   {
    "duration": 72,
    "start_time": "2023-08-13T23:16:56.147Z"
   },
   {
    "duration": 50,
    "start_time": "2023-08-13T23:16:56.221Z"
   },
   {
    "duration": 36,
    "start_time": "2023-08-13T23:16:56.273Z"
   },
   {
    "duration": 1095,
    "start_time": "2023-08-13T23:16:56.318Z"
   },
   {
    "duration": 805,
    "start_time": "2023-08-13T23:16:57.415Z"
   },
   {
    "duration": 25,
    "start_time": "2023-08-13T23:16:58.297Z"
   },
   {
    "duration": 14,
    "start_time": "2023-08-13T23:16:58.325Z"
   },
   {
    "duration": 19,
    "start_time": "2023-08-13T23:16:58.340Z"
   },
   {
    "duration": 54,
    "start_time": "2023-08-13T23:16:58.361Z"
   },
   {
    "duration": 40,
    "start_time": "2023-08-13T23:16:58.418Z"
   },
   {
    "duration": 16,
    "start_time": "2023-08-13T23:16:58.460Z"
   },
   {
    "duration": 23,
    "start_time": "2023-08-13T23:16:58.494Z"
   },
   {
    "duration": 16,
    "start_time": "2023-08-13T23:16:58.519Z"
   },
   {
    "duration": 31,
    "start_time": "2023-08-13T23:16:58.536Z"
   },
   {
    "duration": 381,
    "start_time": "2023-08-13T23:16:58.568Z"
   },
   {
    "duration": 510,
    "start_time": "2023-08-13T23:16:58.951Z"
   },
   {
    "duration": 373,
    "start_time": "2023-08-13T23:16:59.463Z"
   },
   {
    "duration": 407,
    "start_time": "2023-08-13T23:16:59.838Z"
   },
   {
    "duration": 402,
    "start_time": "2023-08-13T23:17:00.247Z"
   },
   {
    "duration": 436,
    "start_time": "2023-08-13T23:17:00.651Z"
   },
   {
    "duration": 35,
    "start_time": "2023-08-13T23:17:01.089Z"
   },
   {
    "duration": 23,
    "start_time": "2023-08-13T23:17:01.126Z"
   },
   {
    "duration": 54,
    "start_time": "2023-08-13T23:17:01.151Z"
   },
   {
    "duration": 20,
    "start_time": "2023-08-13T23:17:01.207Z"
   },
   {
    "duration": 44,
    "start_time": "2023-08-13T23:17:01.229Z"
   },
   {
    "duration": 74,
    "start_time": "2023-08-13T23:17:01.275Z"
   },
   {
    "duration": 46,
    "start_time": "2023-08-13T23:17:01.350Z"
   },
   {
    "duration": 104,
    "start_time": "2023-08-13T23:17:01.403Z"
   },
   {
    "duration": 84,
    "start_time": "2023-08-13T23:17:01.510Z"
   },
   {
    "duration": 186,
    "start_time": "2023-08-13T23:17:01.596Z"
   },
   {
    "duration": 5,
    "start_time": "2023-08-13T23:17:01.788Z"
   },
   {
    "duration": 93,
    "start_time": "2023-08-13T23:17:01.799Z"
   },
   {
    "duration": 83,
    "start_time": "2023-08-13T23:17:01.894Z"
   },
   {
    "duration": 78,
    "start_time": "2023-08-13T23:17:01.979Z"
   },
   {
    "duration": 48,
    "start_time": "2023-08-13T23:17:02.058Z"
   },
   {
    "duration": 146,
    "start_time": "2023-08-13T23:17:02.111Z"
   },
   {
    "duration": 0,
    "start_time": "2023-08-13T23:17:02.259Z"
   },
   {
    "duration": 0,
    "start_time": "2023-08-13T23:17:02.260Z"
   },
   {
    "duration": 13,
    "start_time": "2023-08-13T23:17:06.680Z"
   },
   {
    "duration": 10,
    "start_time": "2023-08-13T23:19:51.051Z"
   },
   {
    "duration": 283,
    "start_time": "2023-08-13T23:20:15.611Z"
   },
   {
    "duration": 229,
    "start_time": "2023-08-13T23:20:38.650Z"
   },
   {
    "duration": 269,
    "start_time": "2023-08-13T23:20:49.858Z"
   },
   {
    "duration": 247,
    "start_time": "2023-08-13T23:22:57.397Z"
   },
   {
    "duration": 158,
    "start_time": "2023-08-13T23:24:54.092Z"
   },
   {
    "duration": 266,
    "start_time": "2023-08-13T23:25:02.155Z"
   },
   {
    "duration": 9,
    "start_time": "2023-08-13T23:26:25.109Z"
   },
   {
    "duration": 52,
    "start_time": "2023-08-13T23:27:09.875Z"
   },
   {
    "duration": 24,
    "start_time": "2023-08-13T23:27:15.008Z"
   },
   {
    "duration": 22,
    "start_time": "2023-08-13T23:27:41.256Z"
   },
   {
    "duration": 9,
    "start_time": "2023-08-13T23:27:42.628Z"
   },
   {
    "duration": 14,
    "start_time": "2023-08-13T23:27:45.260Z"
   },
   {
    "duration": 38,
    "start_time": "2023-08-13T23:27:55.195Z"
   },
   {
    "duration": 9,
    "start_time": "2023-08-13T23:28:19.124Z"
   },
   {
    "duration": 9,
    "start_time": "2023-08-13T23:28:20.740Z"
   },
   {
    "duration": 10,
    "start_time": "2023-08-13T23:28:23.227Z"
   },
   {
    "duration": 12,
    "start_time": "2023-08-13T23:28:26.453Z"
   },
   {
    "duration": 3,
    "start_time": "2023-08-13T23:28:33.308Z"
   },
   {
    "duration": 4,
    "start_time": "2023-08-13T23:28:41.116Z"
   },
   {
    "duration": 3,
    "start_time": "2023-08-13T23:28:46.444Z"
   },
   {
    "duration": 9,
    "start_time": "2023-08-13T23:28:52.356Z"
   },
   {
    "duration": 17,
    "start_time": "2023-08-13T23:28:55.306Z"
   },
   {
    "duration": 4,
    "start_time": "2023-08-13T23:29:22.008Z"
   },
   {
    "duration": 6,
    "start_time": "2023-08-13T23:29:24.155Z"
   },
   {
    "duration": 4,
    "start_time": "2023-08-13T23:33:18.126Z"
   },
   {
    "duration": 24,
    "start_time": "2023-08-13T23:34:05.807Z"
   },
   {
    "duration": 15,
    "start_time": "2023-08-13T23:34:08.926Z"
   },
   {
    "duration": 7,
    "start_time": "2023-08-13T23:34:10.070Z"
   },
   {
    "duration": 12,
    "start_time": "2023-08-13T23:34:11.534Z"
   },
   {
    "duration": 4,
    "start_time": "2023-08-13T23:34:12.790Z"
   },
   {
    "duration": 4,
    "start_time": "2023-08-13T23:34:16.107Z"
   },
   {
    "duration": 18,
    "start_time": "2023-08-13T23:36:38.559Z"
   },
   {
    "duration": 34,
    "start_time": "2023-08-13T23:36:40.662Z"
   },
   {
    "duration": 10,
    "start_time": "2023-08-13T23:37:11.415Z"
   },
   {
    "duration": 12,
    "start_time": "2023-08-13T23:38:14.319Z"
   },
   {
    "duration": 12,
    "start_time": "2023-08-13T23:38:18.831Z"
   },
   {
    "duration": 1801,
    "start_time": "2023-08-14T13:05:58.673Z"
   },
   {
    "duration": 337,
    "start_time": "2023-08-14T13:06:00.476Z"
   },
   {
    "duration": 16,
    "start_time": "2023-08-14T13:06:00.815Z"
   },
   {
    "duration": 50,
    "start_time": "2023-08-14T13:06:00.834Z"
   },
   {
    "duration": 32,
    "start_time": "2023-08-14T13:06:00.886Z"
   },
   {
    "duration": 41,
    "start_time": "2023-08-14T13:06:00.920Z"
   },
   {
    "duration": 32,
    "start_time": "2023-08-14T13:06:00.963Z"
   },
   {
    "duration": 33,
    "start_time": "2023-08-14T13:06:00.997Z"
   },
   {
    "duration": 45,
    "start_time": "2023-08-14T13:06:01.032Z"
   },
   {
    "duration": 37,
    "start_time": "2023-08-14T13:06:01.079Z"
   },
   {
    "duration": 36,
    "start_time": "2023-08-14T13:06:01.118Z"
   },
   {
    "duration": 38,
    "start_time": "2023-08-14T13:06:01.156Z"
   },
   {
    "duration": 65,
    "start_time": "2023-08-14T13:06:01.196Z"
   },
   {
    "duration": 57,
    "start_time": "2023-08-14T13:06:01.264Z"
   },
   {
    "duration": 89,
    "start_time": "2023-08-14T13:06:01.323Z"
   },
   {
    "duration": 20,
    "start_time": "2023-08-14T13:06:01.414Z"
   },
   {
    "duration": 73,
    "start_time": "2023-08-14T13:06:01.435Z"
   },
   {
    "duration": 23,
    "start_time": "2023-08-14T13:06:01.510Z"
   },
   {
    "duration": 36,
    "start_time": "2023-08-14T13:06:01.535Z"
   },
   {
    "duration": 46,
    "start_time": "2023-08-14T13:06:01.573Z"
   },
   {
    "duration": 33,
    "start_time": "2023-08-14T13:06:01.622Z"
   },
   {
    "duration": 71,
    "start_time": "2023-08-14T13:06:01.656Z"
   },
   {
    "duration": 39,
    "start_time": "2023-08-14T13:06:01.729Z"
   },
   {
    "duration": 924,
    "start_time": "2023-08-14T13:06:01.770Z"
   },
   {
    "duration": 25,
    "start_time": "2023-08-14T13:06:02.695Z"
   },
   {
    "duration": 64,
    "start_time": "2023-08-14T13:06:02.722Z"
   },
   {
    "duration": 47,
    "start_time": "2023-08-14T13:06:02.788Z"
   },
   {
    "duration": 159,
    "start_time": "2023-08-14T13:06:02.837Z"
   },
   {
    "duration": 84,
    "start_time": "2023-08-14T13:06:02.998Z"
   },
   {
    "duration": 55,
    "start_time": "2023-08-14T13:06:03.083Z"
   },
   {
    "duration": 8,
    "start_time": "2023-08-14T13:06:03.139Z"
   },
   {
    "duration": 34,
    "start_time": "2023-08-14T13:06:03.148Z"
   },
   {
    "duration": 18,
    "start_time": "2023-08-14T13:06:03.184Z"
   },
   {
    "duration": 29,
    "start_time": "2023-08-14T13:06:03.204Z"
   },
   {
    "duration": 61,
    "start_time": "2023-08-14T13:06:03.235Z"
   },
   {
    "duration": 487,
    "start_time": "2023-08-14T13:06:03.298Z"
   },
   {
    "duration": 11,
    "start_time": "2023-08-14T13:06:03.787Z"
   },
   {
    "duration": 48,
    "start_time": "2023-08-14T13:06:03.800Z"
   },
   {
    "duration": 4,
    "start_time": "2023-08-14T13:06:03.850Z"
   },
   {
    "duration": 28,
    "start_time": "2023-08-14T13:06:03.856Z"
   },
   {
    "duration": 24,
    "start_time": "2023-08-14T13:06:03.891Z"
   },
   {
    "duration": 18,
    "start_time": "2023-08-14T13:06:03.917Z"
   },
   {
    "duration": 113,
    "start_time": "2023-08-14T13:06:03.937Z"
   },
   {
    "duration": 215,
    "start_time": "2023-08-14T13:06:04.052Z"
   },
   {
    "duration": 64,
    "start_time": "2023-08-14T13:06:04.268Z"
   },
   {
    "duration": 218,
    "start_time": "2023-08-14T13:06:04.334Z"
   },
   {
    "duration": 40,
    "start_time": "2023-08-14T13:06:04.553Z"
   },
   {
    "duration": 19,
    "start_time": "2023-08-14T13:06:04.594Z"
   },
   {
    "duration": 18,
    "start_time": "2023-08-14T13:06:04.615Z"
   },
   {
    "duration": 183,
    "start_time": "2023-08-14T13:06:04.635Z"
   },
   {
    "duration": 17,
    "start_time": "2023-08-14T13:06:04.820Z"
   },
   {
    "duration": 17,
    "start_time": "2023-08-14T13:06:04.838Z"
   },
   {
    "duration": 79,
    "start_time": "2023-08-14T13:06:04.857Z"
   },
   {
    "duration": 52,
    "start_time": "2023-08-14T13:06:04.938Z"
   },
   {
    "duration": 32,
    "start_time": "2023-08-14T13:06:04.991Z"
   },
   {
    "duration": 946,
    "start_time": "2023-08-14T13:06:05.025Z"
   },
   {
    "duration": 949,
    "start_time": "2023-08-14T13:06:05.973Z"
   },
   {
    "duration": 102,
    "start_time": "2023-08-14T13:06:06.924Z"
   },
   {
    "duration": 51,
    "start_time": "2023-08-14T13:06:07.028Z"
   },
   {
    "duration": 15,
    "start_time": "2023-08-14T13:06:07.081Z"
   },
   {
    "duration": 35,
    "start_time": "2023-08-14T13:06:07.097Z"
   },
   {
    "duration": 39,
    "start_time": "2023-08-14T13:06:07.134Z"
   },
   {
    "duration": 18,
    "start_time": "2023-08-14T13:06:07.175Z"
   },
   {
    "duration": 29,
    "start_time": "2023-08-14T13:06:07.214Z"
   },
   {
    "duration": 32,
    "start_time": "2023-08-14T13:06:07.245Z"
   },
   {
    "duration": 65,
    "start_time": "2023-08-14T13:06:07.279Z"
   },
   {
    "duration": 385,
    "start_time": "2023-08-14T13:06:07.346Z"
   },
   {
    "duration": 526,
    "start_time": "2023-08-14T13:06:07.733Z"
   },
   {
    "duration": 385,
    "start_time": "2023-08-14T13:06:08.261Z"
   },
   {
    "duration": 416,
    "start_time": "2023-08-14T13:06:08.648Z"
   },
   {
    "duration": 381,
    "start_time": "2023-08-14T13:06:09.066Z"
   },
   {
    "duration": 458,
    "start_time": "2023-08-14T13:06:09.449Z"
   },
   {
    "duration": 28,
    "start_time": "2023-08-14T13:06:09.913Z"
   },
   {
    "duration": 20,
    "start_time": "2023-08-14T13:06:09.943Z"
   },
   {
    "duration": 50,
    "start_time": "2023-08-14T13:06:09.965Z"
   },
   {
    "duration": 21,
    "start_time": "2023-08-14T13:06:10.017Z"
   },
   {
    "duration": 58,
    "start_time": "2023-08-14T13:06:10.040Z"
   },
   {
    "duration": 43,
    "start_time": "2023-08-14T13:06:10.100Z"
   },
   {
    "duration": 23,
    "start_time": "2023-08-14T13:06:10.145Z"
   },
   {
    "duration": 16,
    "start_time": "2023-08-14T13:06:10.170Z"
   },
   {
    "duration": 74,
    "start_time": "2023-08-14T13:06:10.188Z"
   },
   {
    "duration": 50,
    "start_time": "2023-08-14T13:06:10.264Z"
   },
   {
    "duration": 7,
    "start_time": "2023-08-14T13:06:10.316Z"
   },
   {
    "duration": 38,
    "start_time": "2023-08-14T13:06:10.324Z"
   },
   {
    "duration": 26,
    "start_time": "2023-08-14T13:06:10.364Z"
   },
   {
    "duration": 30,
    "start_time": "2023-08-14T13:06:10.392Z"
   },
   {
    "duration": 30,
    "start_time": "2023-08-14T13:06:10.424Z"
   },
   {
    "duration": 7,
    "start_time": "2023-08-14T13:06:53.612Z"
   },
   {
    "duration": 1622,
    "start_time": "2023-08-14T13:06:59.873Z"
   },
   {
    "duration": 295,
    "start_time": "2023-08-14T13:07:01.497Z"
   },
   {
    "duration": 29,
    "start_time": "2023-08-14T13:07:01.794Z"
   },
   {
    "duration": 127,
    "start_time": "2023-08-14T13:07:01.824Z"
   },
   {
    "duration": 68,
    "start_time": "2023-08-14T13:07:01.954Z"
   },
   {
    "duration": 51,
    "start_time": "2023-08-14T13:07:02.024Z"
   },
   {
    "duration": 62,
    "start_time": "2023-08-14T13:07:02.077Z"
   },
   {
    "duration": 244,
    "start_time": "2023-08-14T13:07:02.141Z"
   },
   {
    "duration": 148,
    "start_time": "2023-08-14T13:07:02.387Z"
   },
   {
    "duration": 62,
    "start_time": "2023-08-14T13:07:02.536Z"
   },
   {
    "duration": 54,
    "start_time": "2023-08-14T13:07:02.601Z"
   },
   {
    "duration": 75,
    "start_time": "2023-08-14T13:07:02.656Z"
   },
   {
    "duration": 76,
    "start_time": "2023-08-14T13:07:02.733Z"
   },
   {
    "duration": 22,
    "start_time": "2023-08-14T13:07:02.813Z"
   },
   {
    "duration": 37,
    "start_time": "2023-08-14T13:07:02.837Z"
   },
   {
    "duration": 46,
    "start_time": "2023-08-14T13:07:02.877Z"
   },
   {
    "duration": 40,
    "start_time": "2023-08-14T13:07:02.925Z"
   },
   {
    "duration": 77,
    "start_time": "2023-08-14T13:07:02.967Z"
   },
   {
    "duration": 37,
    "start_time": "2023-08-14T13:07:03.046Z"
   },
   {
    "duration": 120,
    "start_time": "2023-08-14T13:07:03.085Z"
   },
   {
    "duration": 49,
    "start_time": "2023-08-14T13:07:03.207Z"
   },
   {
    "duration": 25,
    "start_time": "2023-08-14T13:07:03.258Z"
   },
   {
    "duration": 23,
    "start_time": "2023-08-14T13:07:03.285Z"
   },
   {
    "duration": 882,
    "start_time": "2023-08-14T13:07:03.310Z"
   },
   {
    "duration": 27,
    "start_time": "2023-08-14T13:07:04.194Z"
   },
   {
    "duration": 66,
    "start_time": "2023-08-14T13:07:04.223Z"
   },
   {
    "duration": 59,
    "start_time": "2023-08-14T13:07:04.291Z"
   },
   {
    "duration": 27,
    "start_time": "2023-08-14T13:07:04.351Z"
   },
   {
    "duration": 42,
    "start_time": "2023-08-14T13:07:04.380Z"
   },
   {
    "duration": 50,
    "start_time": "2023-08-14T13:07:04.425Z"
   },
   {
    "duration": 12,
    "start_time": "2023-08-14T13:07:04.477Z"
   },
   {
    "duration": 45,
    "start_time": "2023-08-14T13:07:04.491Z"
   },
   {
    "duration": 30,
    "start_time": "2023-08-14T13:07:04.537Z"
   },
   {
    "duration": 38,
    "start_time": "2023-08-14T13:07:04.570Z"
   },
   {
    "duration": 33,
    "start_time": "2023-08-14T13:07:04.610Z"
   },
   {
    "duration": 453,
    "start_time": "2023-08-14T13:07:04.645Z"
   },
   {
    "duration": 13,
    "start_time": "2023-08-14T13:07:05.100Z"
   },
   {
    "duration": 52,
    "start_time": "2023-08-14T13:07:05.115Z"
   },
   {
    "duration": 4,
    "start_time": "2023-08-14T13:07:05.169Z"
   },
   {
    "duration": 30,
    "start_time": "2023-08-14T13:07:05.175Z"
   },
   {
    "duration": 15,
    "start_time": "2023-08-14T13:07:05.209Z"
   },
   {
    "duration": 27,
    "start_time": "2023-08-14T13:07:05.225Z"
   },
   {
    "duration": 95,
    "start_time": "2023-08-14T13:07:05.253Z"
   },
   {
    "duration": 219,
    "start_time": "2023-08-14T13:07:05.349Z"
   },
   {
    "duration": 69,
    "start_time": "2023-08-14T13:07:05.570Z"
   },
   {
    "duration": 225,
    "start_time": "2023-08-14T13:07:05.641Z"
   },
   {
    "duration": 52,
    "start_time": "2023-08-14T13:07:05.868Z"
   },
   {
    "duration": 6,
    "start_time": "2023-08-14T13:07:05.921Z"
   },
   {
    "duration": 51,
    "start_time": "2023-08-14T13:07:05.929Z"
   },
   {
    "duration": 211,
    "start_time": "2023-08-14T13:07:05.982Z"
   },
   {
    "duration": 32,
    "start_time": "2023-08-14T13:07:06.195Z"
   },
   {
    "duration": 21,
    "start_time": "2023-08-14T13:07:06.228Z"
   },
   {
    "duration": 68,
    "start_time": "2023-08-14T13:07:06.251Z"
   },
   {
    "duration": 50,
    "start_time": "2023-08-14T13:07:06.321Z"
   },
   {
    "duration": 13,
    "start_time": "2023-08-14T13:07:06.373Z"
   },
   {
    "duration": 964,
    "start_time": "2023-08-14T13:07:06.388Z"
   },
   {
    "duration": 759,
    "start_time": "2023-08-14T13:07:07.354Z"
   },
   {
    "duration": 106,
    "start_time": "2023-08-14T13:07:08.115Z"
   },
   {
    "duration": 10,
    "start_time": "2023-08-14T13:07:08.225Z"
   },
   {
    "duration": 130,
    "start_time": "2023-08-14T13:07:08.237Z"
   },
   {
    "duration": 81,
    "start_time": "2023-08-14T13:07:08.369Z"
   },
   {
    "duration": 88,
    "start_time": "2023-08-14T13:07:08.452Z"
   },
   {
    "duration": 69,
    "start_time": "2023-08-14T13:07:08.541Z"
   },
   {
    "duration": 30,
    "start_time": "2023-08-14T13:07:08.612Z"
   },
   {
    "duration": 14,
    "start_time": "2023-08-14T13:07:08.643Z"
   },
   {
    "duration": 43,
    "start_time": "2023-08-14T13:07:08.659Z"
   },
   {
    "duration": 361,
    "start_time": "2023-08-14T13:07:08.703Z"
   },
   {
    "duration": 542,
    "start_time": "2023-08-14T13:07:09.066Z"
   },
   {
    "duration": 407,
    "start_time": "2023-08-14T13:07:09.612Z"
   },
   {
    "duration": 374,
    "start_time": "2023-08-14T13:07:10.020Z"
   },
   {
    "duration": 357,
    "start_time": "2023-08-14T13:07:10.395Z"
   },
   {
    "duration": 419,
    "start_time": "2023-08-14T13:07:10.754Z"
   },
   {
    "duration": 38,
    "start_time": "2023-08-14T13:07:11.175Z"
   },
   {
    "duration": 21,
    "start_time": "2023-08-14T13:07:11.215Z"
   },
   {
    "duration": 23,
    "start_time": "2023-08-14T13:07:11.238Z"
   },
   {
    "duration": 52,
    "start_time": "2023-08-14T13:07:11.263Z"
   },
   {
    "duration": 23,
    "start_time": "2023-08-14T13:07:11.316Z"
   },
   {
    "duration": 28,
    "start_time": "2023-08-14T13:07:11.341Z"
   },
   {
    "duration": 59,
    "start_time": "2023-08-14T13:07:11.371Z"
   },
   {
    "duration": 4,
    "start_time": "2023-08-14T13:07:11.433Z"
   },
   {
    "duration": 79,
    "start_time": "2023-08-14T13:07:11.439Z"
   },
   {
    "duration": 49,
    "start_time": "2023-08-14T13:07:11.520Z"
   },
   {
    "duration": 5,
    "start_time": "2023-08-14T13:07:11.571Z"
   },
   {
    "duration": 10,
    "start_time": "2023-08-14T13:07:11.578Z"
   },
   {
    "duration": 24,
    "start_time": "2023-08-14T13:07:11.590Z"
   },
   {
    "duration": 19,
    "start_time": "2023-08-14T13:07:11.616Z"
   },
   {
    "duration": 126,
    "start_time": "2023-08-14T13:07:11.637Z"
   },
   {
    "duration": 1811,
    "start_time": "2023-08-14T13:07:37.231Z"
   },
   {
    "duration": 13,
    "start_time": "2023-08-14T13:08:26.602Z"
   },
   {
    "duration": 7,
    "start_time": "2023-08-14T13:09:29.178Z"
   },
   {
    "duration": 6,
    "start_time": "2023-08-14T13:09:30.840Z"
   },
   {
    "duration": 3,
    "start_time": "2023-08-14T13:12:55.723Z"
   },
   {
    "duration": 4,
    "start_time": "2023-08-14T13:13:00.669Z"
   },
   {
    "duration": 5,
    "start_time": "2023-08-14T13:13:16.169Z"
   },
   {
    "duration": 1646,
    "start_time": "2023-08-14T13:13:27.996Z"
   },
   {
    "duration": 263,
    "start_time": "2023-08-14T13:13:29.645Z"
   },
   {
    "duration": 16,
    "start_time": "2023-08-14T13:13:29.909Z"
   },
   {
    "duration": 21,
    "start_time": "2023-08-14T13:13:29.926Z"
   },
   {
    "duration": 21,
    "start_time": "2023-08-14T13:13:29.949Z"
   },
   {
    "duration": 27,
    "start_time": "2023-08-14T13:13:29.971Z"
   },
   {
    "duration": 33,
    "start_time": "2023-08-14T13:13:30.000Z"
   },
   {
    "duration": 41,
    "start_time": "2023-08-14T13:13:30.035Z"
   },
   {
    "duration": 57,
    "start_time": "2023-08-14T13:13:30.078Z"
   },
   {
    "duration": 90,
    "start_time": "2023-08-14T13:13:30.137Z"
   },
   {
    "duration": 47,
    "start_time": "2023-08-14T13:13:30.228Z"
   },
   {
    "duration": 57,
    "start_time": "2023-08-14T13:13:30.276Z"
   },
   {
    "duration": 57,
    "start_time": "2023-08-14T13:13:30.334Z"
   },
   {
    "duration": 13,
    "start_time": "2023-08-14T13:13:30.394Z"
   },
   {
    "duration": 26,
    "start_time": "2023-08-14T13:13:30.409Z"
   },
   {
    "duration": 14,
    "start_time": "2023-08-14T13:13:30.437Z"
   },
   {
    "duration": 39,
    "start_time": "2023-08-14T13:13:30.452Z"
   },
   {
    "duration": 15,
    "start_time": "2023-08-14T13:13:30.493Z"
   },
   {
    "duration": 32,
    "start_time": "2023-08-14T13:13:30.509Z"
   },
   {
    "duration": 53,
    "start_time": "2023-08-14T13:13:30.543Z"
   },
   {
    "duration": 17,
    "start_time": "2023-08-14T13:13:30.598Z"
   },
   {
    "duration": 64,
    "start_time": "2023-08-14T13:13:30.616Z"
   },
   {
    "duration": 34,
    "start_time": "2023-08-14T13:13:30.682Z"
   },
   {
    "duration": 827,
    "start_time": "2023-08-14T13:13:30.718Z"
   },
   {
    "duration": 14,
    "start_time": "2023-08-14T13:13:31.546Z"
   },
   {
    "duration": 97,
    "start_time": "2023-08-14T13:13:31.562Z"
   },
   {
    "duration": 53,
    "start_time": "2023-08-14T13:13:31.661Z"
   },
   {
    "duration": 52,
    "start_time": "2023-08-14T13:13:31.716Z"
   },
   {
    "duration": 54,
    "start_time": "2023-08-14T13:13:31.770Z"
   },
   {
    "duration": 125,
    "start_time": "2023-08-14T13:13:31.826Z"
   },
   {
    "duration": 30,
    "start_time": "2023-08-14T13:13:31.953Z"
   },
   {
    "duration": 57,
    "start_time": "2023-08-14T13:13:31.985Z"
   },
   {
    "duration": 41,
    "start_time": "2023-08-14T13:13:32.044Z"
   },
   {
    "duration": 36,
    "start_time": "2023-08-14T13:13:32.087Z"
   },
   {
    "duration": 59,
    "start_time": "2023-08-14T13:13:32.124Z"
   },
   {
    "duration": 441,
    "start_time": "2023-08-14T13:13:32.185Z"
   },
   {
    "duration": 11,
    "start_time": "2023-08-14T13:13:32.628Z"
   },
   {
    "duration": 58,
    "start_time": "2023-08-14T13:13:32.641Z"
   },
   {
    "duration": 3,
    "start_time": "2023-08-14T13:13:32.701Z"
   },
   {
    "duration": 54,
    "start_time": "2023-08-14T13:13:32.705Z"
   },
   {
    "duration": 43,
    "start_time": "2023-08-14T13:13:32.764Z"
   },
   {
    "duration": 24,
    "start_time": "2023-08-14T13:13:32.809Z"
   },
   {
    "duration": 140,
    "start_time": "2023-08-14T13:13:32.835Z"
   },
   {
    "duration": 246,
    "start_time": "2023-08-14T13:13:32.977Z"
   },
   {
    "duration": 56,
    "start_time": "2023-08-14T13:13:33.225Z"
   },
   {
    "duration": 231,
    "start_time": "2023-08-14T13:13:33.282Z"
   },
   {
    "duration": 5,
    "start_time": "2023-08-14T13:13:33.514Z"
   },
   {
    "duration": 59,
    "start_time": "2023-08-14T13:13:33.521Z"
   },
   {
    "duration": 5,
    "start_time": "2023-08-14T13:13:33.582Z"
   },
   {
    "duration": 32,
    "start_time": "2023-08-14T13:13:33.589Z"
   },
   {
    "duration": 216,
    "start_time": "2023-08-14T13:13:33.623Z"
   },
   {
    "duration": 17,
    "start_time": "2023-08-14T13:13:33.841Z"
   },
   {
    "duration": 38,
    "start_time": "2023-08-14T13:13:33.860Z"
   },
   {
    "duration": 68,
    "start_time": "2023-08-14T13:13:33.900Z"
   },
   {
    "duration": 65,
    "start_time": "2023-08-14T13:13:33.971Z"
   },
   {
    "duration": 14,
    "start_time": "2023-08-14T13:13:34.037Z"
   },
   {
    "duration": 948,
    "start_time": "2023-08-14T13:13:34.053Z"
   },
   {
    "duration": 814,
    "start_time": "2023-08-14T13:13:35.003Z"
   },
   {
    "duration": 101,
    "start_time": "2023-08-14T13:13:35.819Z"
   },
   {
    "duration": 141,
    "start_time": "2023-08-14T13:13:35.922Z"
   },
   {
    "duration": 31,
    "start_time": "2023-08-14T13:13:36.064Z"
   },
   {
    "duration": 38,
    "start_time": "2023-08-14T13:13:36.097Z"
   },
   {
    "duration": 41,
    "start_time": "2023-08-14T13:13:36.137Z"
   },
   {
    "duration": 23,
    "start_time": "2023-08-14T13:13:36.180Z"
   },
   {
    "duration": 33,
    "start_time": "2023-08-14T13:13:36.205Z"
   },
   {
    "duration": 14,
    "start_time": "2023-08-14T13:13:36.240Z"
   },
   {
    "duration": 39,
    "start_time": "2023-08-14T13:13:36.256Z"
   },
   {
    "duration": 371,
    "start_time": "2023-08-14T13:13:36.297Z"
   },
   {
    "duration": 517,
    "start_time": "2023-08-14T13:13:36.671Z"
   },
   {
    "duration": 375,
    "start_time": "2023-08-14T13:13:37.190Z"
   },
   {
    "duration": 415,
    "start_time": "2023-08-14T13:13:37.567Z"
   },
   {
    "duration": 383,
    "start_time": "2023-08-14T13:13:37.984Z"
   },
   {
    "duration": 407,
    "start_time": "2023-08-14T13:13:38.370Z"
   },
   {
    "duration": 44,
    "start_time": "2023-08-14T13:13:38.779Z"
   },
   {
    "duration": 22,
    "start_time": "2023-08-14T13:13:38.825Z"
   },
   {
    "duration": 25,
    "start_time": "2023-08-14T13:13:38.849Z"
   },
   {
    "duration": 52,
    "start_time": "2023-08-14T13:13:38.876Z"
   },
   {
    "duration": 21,
    "start_time": "2023-08-14T13:13:38.930Z"
   },
   {
    "duration": 20,
    "start_time": "2023-08-14T13:13:38.953Z"
   },
   {
    "duration": 50,
    "start_time": "2023-08-14T13:13:38.975Z"
   },
   {
    "duration": 3,
    "start_time": "2023-08-14T13:13:39.027Z"
   },
   {
    "duration": 56,
    "start_time": "2023-08-14T13:13:39.032Z"
   },
   {
    "duration": 66,
    "start_time": "2023-08-14T13:13:39.090Z"
   },
   {
    "duration": 6,
    "start_time": "2023-08-14T13:13:39.157Z"
   },
   {
    "duration": 11,
    "start_time": "2023-08-14T13:13:39.164Z"
   },
   {
    "duration": 17,
    "start_time": "2023-08-14T13:13:39.177Z"
   },
   {
    "duration": 23,
    "start_time": "2023-08-14T13:13:39.195Z"
   },
   {
    "duration": 6,
    "start_time": "2023-08-14T13:13:39.220Z"
   },
   {
    "duration": 27,
    "start_time": "2023-08-14T13:13:39.228Z"
   },
   {
    "duration": 113,
    "start_time": "2023-08-14T13:14:19.274Z"
   },
   {
    "duration": 1578,
    "start_time": "2023-08-14T13:14:29.770Z"
   },
   {
    "duration": 327,
    "start_time": "2023-08-14T13:14:31.350Z"
   },
   {
    "duration": 17,
    "start_time": "2023-08-14T13:14:31.678Z"
   },
   {
    "duration": 175,
    "start_time": "2023-08-14T13:14:31.697Z"
   },
   {
    "duration": 69,
    "start_time": "2023-08-14T13:14:31.876Z"
   },
   {
    "duration": 52,
    "start_time": "2023-08-14T13:14:31.947Z"
   },
   {
    "duration": 54,
    "start_time": "2023-08-14T13:14:32.002Z"
   },
   {
    "duration": 57,
    "start_time": "2023-08-14T13:14:32.059Z"
   },
   {
    "duration": 68,
    "start_time": "2023-08-14T13:14:32.117Z"
   },
   {
    "duration": 236,
    "start_time": "2023-08-14T13:14:32.187Z"
   },
   {
    "duration": 369,
    "start_time": "2023-08-14T13:14:32.425Z"
   },
   {
    "duration": 560,
    "start_time": "2023-08-14T13:14:32.796Z"
   },
   {
    "duration": 464,
    "start_time": "2023-08-14T13:14:33.358Z"
   },
   {
    "duration": 108,
    "start_time": "2023-08-14T13:14:33.825Z"
   },
   {
    "duration": 30,
    "start_time": "2023-08-14T13:14:33.935Z"
   },
   {
    "duration": 23,
    "start_time": "2023-08-14T13:14:33.967Z"
   },
   {
    "duration": 37,
    "start_time": "2023-08-14T13:14:33.992Z"
   },
   {
    "duration": 42,
    "start_time": "2023-08-14T13:14:34.031Z"
   },
   {
    "duration": 168,
    "start_time": "2023-08-14T13:14:34.075Z"
   },
   {
    "duration": 90,
    "start_time": "2023-08-14T13:14:34.245Z"
   },
   {
    "duration": 20,
    "start_time": "2023-08-14T13:14:34.337Z"
   },
   {
    "duration": 31,
    "start_time": "2023-08-14T13:14:34.359Z"
   },
   {
    "duration": 36,
    "start_time": "2023-08-14T13:14:34.392Z"
   },
   {
    "duration": 842,
    "start_time": "2023-08-14T13:14:34.430Z"
   },
   {
    "duration": 14,
    "start_time": "2023-08-14T13:14:35.273Z"
   },
   {
    "duration": 74,
    "start_time": "2023-08-14T13:14:35.288Z"
   },
   {
    "duration": 50,
    "start_time": "2023-08-14T13:14:35.365Z"
   },
   {
    "duration": 19,
    "start_time": "2023-08-14T13:14:35.418Z"
   },
   {
    "duration": 53,
    "start_time": "2023-08-14T13:14:35.439Z"
   },
   {
    "duration": 49,
    "start_time": "2023-08-14T13:14:35.494Z"
   },
   {
    "duration": 7,
    "start_time": "2023-08-14T13:14:35.545Z"
   },
   {
    "duration": 40,
    "start_time": "2023-08-14T13:14:35.553Z"
   },
   {
    "duration": 48,
    "start_time": "2023-08-14T13:14:35.595Z"
   },
   {
    "duration": 24,
    "start_time": "2023-08-14T13:14:35.645Z"
   },
   {
    "duration": 51,
    "start_time": "2023-08-14T13:14:35.671Z"
   },
   {
    "duration": 421,
    "start_time": "2023-08-14T13:14:35.724Z"
   },
   {
    "duration": 13,
    "start_time": "2023-08-14T13:14:36.147Z"
   },
   {
    "duration": 68,
    "start_time": "2023-08-14T13:14:36.162Z"
   },
   {
    "duration": 8,
    "start_time": "2023-08-14T13:14:36.232Z"
   },
   {
    "duration": 72,
    "start_time": "2023-08-14T13:14:36.242Z"
   },
   {
    "duration": 16,
    "start_time": "2023-08-14T13:14:36.321Z"
   },
   {
    "duration": 28,
    "start_time": "2023-08-14T13:14:36.339Z"
   },
   {
    "duration": 102,
    "start_time": "2023-08-14T13:14:36.369Z"
   },
   {
    "duration": 218,
    "start_time": "2023-08-14T13:14:36.473Z"
   },
   {
    "duration": 62,
    "start_time": "2023-08-14T13:14:36.693Z"
   },
   {
    "duration": 219,
    "start_time": "2023-08-14T13:14:36.757Z"
   },
   {
    "duration": 65,
    "start_time": "2023-08-14T13:14:36.978Z"
   },
   {
    "duration": 42,
    "start_time": "2023-08-14T13:14:37.045Z"
   },
   {
    "duration": 25,
    "start_time": "2023-08-14T13:14:37.089Z"
   },
   {
    "duration": 16,
    "start_time": "2023-08-14T13:14:37.117Z"
   },
   {
    "duration": 197,
    "start_time": "2023-08-14T13:14:37.135Z"
   },
   {
    "duration": 22,
    "start_time": "2023-08-14T13:14:37.334Z"
   },
   {
    "duration": 16,
    "start_time": "2023-08-14T13:14:37.358Z"
   },
   {
    "duration": 77,
    "start_time": "2023-08-14T13:14:37.376Z"
   },
   {
    "duration": 59,
    "start_time": "2023-08-14T13:14:37.455Z"
   },
   {
    "duration": 13,
    "start_time": "2023-08-14T13:14:37.516Z"
   },
   {
    "duration": 912,
    "start_time": "2023-08-14T13:14:37.531Z"
   },
   {
    "duration": 876,
    "start_time": "2023-08-14T13:14:38.444Z"
   },
   {
    "duration": 104,
    "start_time": "2023-08-14T13:14:39.322Z"
   },
   {
    "duration": 80,
    "start_time": "2023-08-14T13:14:39.428Z"
   },
   {
    "duration": 35,
    "start_time": "2023-08-14T13:14:39.510Z"
   },
   {
    "duration": 80,
    "start_time": "2023-08-14T13:14:39.547Z"
   },
   {
    "duration": 53,
    "start_time": "2023-08-14T13:14:39.629Z"
   },
   {
    "duration": 34,
    "start_time": "2023-08-14T13:14:39.685Z"
   },
   {
    "duration": 54,
    "start_time": "2023-08-14T13:14:39.721Z"
   },
   {
    "duration": 17,
    "start_time": "2023-08-14T13:14:39.778Z"
   },
   {
    "duration": 34,
    "start_time": "2023-08-14T13:14:39.797Z"
   },
   {
    "duration": 366,
    "start_time": "2023-08-14T13:14:39.833Z"
   },
   {
    "duration": 515,
    "start_time": "2023-08-14T13:14:40.201Z"
   },
   {
    "duration": 366,
    "start_time": "2023-08-14T13:14:40.718Z"
   },
   {
    "duration": 406,
    "start_time": "2023-08-14T13:14:41.086Z"
   },
   {
    "duration": 387,
    "start_time": "2023-08-14T13:14:41.494Z"
   },
   {
    "duration": 413,
    "start_time": "2023-08-14T13:14:41.883Z"
   },
   {
    "duration": 40,
    "start_time": "2023-08-14T13:14:42.298Z"
   },
   {
    "duration": 23,
    "start_time": "2023-08-14T13:14:42.339Z"
   },
   {
    "duration": 54,
    "start_time": "2023-08-14T13:14:42.364Z"
   },
   {
    "duration": 21,
    "start_time": "2023-08-14T13:14:42.421Z"
   },
   {
    "duration": 20,
    "start_time": "2023-08-14T13:14:42.444Z"
   },
   {
    "duration": 63,
    "start_time": "2023-08-14T13:14:42.465Z"
   },
   {
    "duration": 20,
    "start_time": "2023-08-14T13:14:42.530Z"
   },
   {
    "duration": 3,
    "start_time": "2023-08-14T13:14:42.552Z"
   },
   {
    "duration": 100,
    "start_time": "2023-08-14T13:14:42.556Z"
   },
   {
    "duration": 61,
    "start_time": "2023-08-14T13:14:42.658Z"
   },
   {
    "duration": 5,
    "start_time": "2023-08-14T13:14:42.721Z"
   },
   {
    "duration": 12,
    "start_time": "2023-08-14T13:14:42.728Z"
   },
   {
    "duration": 22,
    "start_time": "2023-08-14T13:14:42.741Z"
   },
   {
    "duration": 41,
    "start_time": "2023-08-14T13:14:42.765Z"
   },
   {
    "duration": 7,
    "start_time": "2023-08-14T13:14:42.808Z"
   },
   {
    "duration": 7,
    "start_time": "2023-08-14T13:14:42.816Z"
   },
   {
    "duration": 39,
    "start_time": "2023-08-14T13:17:35.818Z"
   },
   {
    "duration": 178,
    "start_time": "2023-08-14T13:22:16.630Z"
   },
   {
    "duration": 178,
    "start_time": "2023-08-14T13:22:21.238Z"
   },
   {
    "duration": 9,
    "start_time": "2023-08-14T13:22:44.868Z"
   },
   {
    "duration": 527,
    "start_time": "2023-08-14T13:24:44.190Z"
   },
   {
    "duration": 19,
    "start_time": "2023-08-14T13:24:45.879Z"
   },
   {
    "duration": 11,
    "start_time": "2023-08-14T13:24:47.872Z"
   },
   {
    "duration": 845,
    "start_time": "2023-08-14T13:24:53.468Z"
   },
   {
    "duration": 16,
    "start_time": "2023-08-14T13:24:55.764Z"
   },
   {
    "duration": 9,
    "start_time": "2023-08-14T13:24:57.968Z"
   },
   {
    "duration": 744,
    "start_time": "2023-08-14T13:25:07.983Z"
   },
   {
    "duration": 15,
    "start_time": "2023-08-14T13:25:09.430Z"
   },
   {
    "duration": 8,
    "start_time": "2023-08-14T13:25:11.072Z"
   },
   {
    "duration": 17,
    "start_time": "2023-08-14T13:27:35.128Z"
   },
   {
    "duration": 16,
    "start_time": "2023-08-14T13:27:41.666Z"
   },
   {
    "duration": 65,
    "start_time": "2023-08-14T13:27:53.631Z"
   },
   {
    "duration": 34,
    "start_time": "2023-08-14T13:27:55.828Z"
   },
   {
    "duration": 18,
    "start_time": "2023-08-14T13:27:57.239Z"
   },
   {
    "duration": 19,
    "start_time": "2023-08-14T13:27:59.239Z"
   },
   {
    "duration": 15,
    "start_time": "2023-08-14T13:28:03.768Z"
   },
   {
    "duration": 32,
    "start_time": "2023-08-14T13:28:05.744Z"
   },
   {
    "duration": 388,
    "start_time": "2023-08-14T13:28:08.268Z"
   },
   {
    "duration": 393,
    "start_time": "2023-08-14T13:28:11.427Z"
   },
   {
    "duration": 429,
    "start_time": "2023-08-14T13:28:14.030Z"
   },
   {
    "duration": 543,
    "start_time": "2023-08-14T13:28:19.872Z"
   },
   {
    "duration": 3,
    "start_time": "2023-08-14T13:28:52.240Z"
   },
   {
    "duration": 2,
    "start_time": "2023-08-14T13:29:10.673Z"
   },
   {
    "duration": 4,
    "start_time": "2023-08-14T13:31:07.008Z"
   },
   {
    "duration": 22,
    "start_time": "2023-08-14T13:32:44.529Z"
   },
   {
    "duration": 1691,
    "start_time": "2023-08-14T13:33:41.369Z"
   },
   {
    "duration": 372,
    "start_time": "2023-08-14T13:33:43.062Z"
   },
   {
    "duration": 18,
    "start_time": "2023-08-14T13:33:43.436Z"
   },
   {
    "duration": 40,
    "start_time": "2023-08-14T13:33:43.456Z"
   },
   {
    "duration": 42,
    "start_time": "2023-08-14T13:33:43.499Z"
   },
   {
    "duration": 46,
    "start_time": "2023-08-14T13:33:43.543Z"
   },
   {
    "duration": 16,
    "start_time": "2023-08-14T13:33:43.591Z"
   },
   {
    "duration": 32,
    "start_time": "2023-08-14T13:33:43.609Z"
   },
   {
    "duration": 44,
    "start_time": "2023-08-14T13:33:43.643Z"
   },
   {
    "duration": 38,
    "start_time": "2023-08-14T13:33:43.689Z"
   },
   {
    "duration": 48,
    "start_time": "2023-08-14T13:33:43.730Z"
   },
   {
    "duration": 38,
    "start_time": "2023-08-14T13:33:43.780Z"
   },
   {
    "duration": 57,
    "start_time": "2023-08-14T13:33:43.820Z"
   },
   {
    "duration": 24,
    "start_time": "2023-08-14T13:33:43.881Z"
   },
   {
    "duration": 94,
    "start_time": "2023-08-14T13:33:43.907Z"
   },
   {
    "duration": 26,
    "start_time": "2023-08-14T13:33:44.002Z"
   },
   {
    "duration": 63,
    "start_time": "2023-08-14T13:33:44.030Z"
   },
   {
    "duration": 13,
    "start_time": "2023-08-14T13:33:44.095Z"
   },
   {
    "duration": 25,
    "start_time": "2023-08-14T13:33:44.111Z"
   },
   {
    "duration": 33,
    "start_time": "2023-08-14T13:33:44.138Z"
   },
   {
    "duration": 25,
    "start_time": "2023-08-14T13:33:44.173Z"
   },
   {
    "duration": 49,
    "start_time": "2023-08-14T13:33:44.200Z"
   },
   {
    "duration": 30,
    "start_time": "2023-08-14T13:33:44.251Z"
   },
   {
    "duration": 915,
    "start_time": "2023-08-14T13:33:44.283Z"
   },
   {
    "duration": 20,
    "start_time": "2023-08-14T13:33:45.200Z"
   },
   {
    "duration": 56,
    "start_time": "2023-08-14T13:33:45.222Z"
   },
   {
    "duration": 69,
    "start_time": "2023-08-14T13:33:45.280Z"
   },
   {
    "duration": 6,
    "start_time": "2023-08-14T13:33:45.351Z"
   },
   {
    "duration": 49,
    "start_time": "2023-08-14T13:33:45.359Z"
   },
   {
    "duration": 51,
    "start_time": "2023-08-14T13:33:45.410Z"
   },
   {
    "duration": 6,
    "start_time": "2023-08-14T13:33:45.463Z"
   },
   {
    "duration": 38,
    "start_time": "2023-08-14T13:33:45.471Z"
   },
   {
    "duration": 24,
    "start_time": "2023-08-14T13:33:45.511Z"
   },
   {
    "duration": 31,
    "start_time": "2023-08-14T13:33:45.537Z"
   },
   {
    "duration": 52,
    "start_time": "2023-08-14T13:33:45.570Z"
   },
   {
    "duration": 443,
    "start_time": "2023-08-14T13:33:45.624Z"
   },
   {
    "duration": 10,
    "start_time": "2023-08-14T13:33:46.070Z"
   },
   {
    "duration": 57,
    "start_time": "2023-08-14T13:33:46.082Z"
   },
   {
    "duration": 4,
    "start_time": "2023-08-14T13:33:46.140Z"
   },
   {
    "duration": 24,
    "start_time": "2023-08-14T13:33:46.145Z"
   },
   {
    "duration": 15,
    "start_time": "2023-08-14T13:33:46.174Z"
   },
   {
    "duration": 40,
    "start_time": "2023-08-14T13:33:46.190Z"
   },
   {
    "duration": 97,
    "start_time": "2023-08-14T13:33:46.232Z"
   },
   {
    "duration": 234,
    "start_time": "2023-08-14T13:33:46.331Z"
   },
   {
    "duration": 2,
    "start_time": "2023-08-14T13:33:46.567Z"
   },
   {
    "duration": 16,
    "start_time": "2023-08-14T13:33:46.571Z"
   },
   {
    "duration": 67,
    "start_time": "2023-08-14T13:33:46.589Z"
   },
   {
    "duration": 34,
    "start_time": "2023-08-14T13:33:46.659Z"
   },
   {
    "duration": 51,
    "start_time": "2023-08-14T13:33:46.695Z"
   },
   {
    "duration": 5,
    "start_time": "2023-08-14T13:33:46.747Z"
   },
   {
    "duration": 41,
    "start_time": "2023-08-14T13:33:46.754Z"
   },
   {
    "duration": 210,
    "start_time": "2023-08-14T13:33:46.796Z"
   },
   {
    "duration": 24,
    "start_time": "2023-08-14T13:33:47.008Z"
   },
   {
    "duration": 34,
    "start_time": "2023-08-14T13:33:47.034Z"
   },
   {
    "duration": 64,
    "start_time": "2023-08-14T13:33:47.070Z"
   },
   {
    "duration": 49,
    "start_time": "2023-08-14T13:33:47.136Z"
   },
   {
    "duration": 28,
    "start_time": "2023-08-14T13:33:47.187Z"
   },
   {
    "duration": 973,
    "start_time": "2023-08-14T13:33:47.217Z"
   },
   {
    "duration": 423,
    "start_time": "2023-08-14T13:33:48.192Z"
   },
   {
    "duration": 98,
    "start_time": "2023-08-14T13:33:48.617Z"
   },
   {
    "duration": 95,
    "start_time": "2023-08-14T13:33:48.717Z"
   },
   {
    "duration": 47,
    "start_time": "2023-08-14T13:33:48.814Z"
   },
   {
    "duration": 37,
    "start_time": "2023-08-14T13:33:48.863Z"
   },
   {
    "duration": 45,
    "start_time": "2023-08-14T13:33:48.902Z"
   },
   {
    "duration": 19,
    "start_time": "2023-08-14T13:33:48.949Z"
   },
   {
    "duration": 28,
    "start_time": "2023-08-14T13:33:48.969Z"
   },
   {
    "duration": 31,
    "start_time": "2023-08-14T13:33:48.999Z"
   },
   {
    "duration": 36,
    "start_time": "2023-08-14T13:33:49.032Z"
   },
   {
    "duration": 410,
    "start_time": "2023-08-14T13:33:49.070Z"
   },
   {
    "duration": 463,
    "start_time": "2023-08-14T13:33:49.482Z"
   },
   {
    "duration": 528,
    "start_time": "2023-08-14T13:33:49.947Z"
   },
   {
    "duration": 3,
    "start_time": "2023-08-14T13:33:50.477Z"
   },
   {
    "duration": 40,
    "start_time": "2023-08-14T13:33:50.481Z"
   },
   {
    "duration": 78,
    "start_time": "2023-08-14T13:33:50.523Z"
   },
   {
    "duration": 68,
    "start_time": "2023-08-14T13:33:50.603Z"
   },
   {
    "duration": 49,
    "start_time": "2023-08-14T13:33:50.672Z"
   },
   {
    "duration": 64,
    "start_time": "2023-08-14T13:33:50.723Z"
   },
   {
    "duration": 115,
    "start_time": "2023-08-14T13:33:50.790Z"
   },
   {
    "duration": 42,
    "start_time": "2023-08-14T13:33:50.907Z"
   },
   {
    "duration": 31,
    "start_time": "2023-08-14T13:33:50.951Z"
   },
   {
    "duration": 50,
    "start_time": "2023-08-14T13:33:50.984Z"
   },
   {
    "duration": 8,
    "start_time": "2023-08-14T13:33:51.036Z"
   },
   {
    "duration": 33,
    "start_time": "2023-08-14T13:33:51.046Z"
   },
   {
    "duration": 58,
    "start_time": "2023-08-14T13:33:51.081Z"
   },
   {
    "duration": 5,
    "start_time": "2023-08-14T13:33:51.141Z"
   },
   {
    "duration": 26,
    "start_time": "2023-08-14T13:33:51.148Z"
   },
   {
    "duration": 19,
    "start_time": "2023-08-14T13:33:51.175Z"
   },
   {
    "duration": 41,
    "start_time": "2023-08-14T13:33:51.196Z"
   },
   {
    "duration": 7,
    "start_time": "2023-08-14T13:33:51.238Z"
   },
   {
    "duration": 18,
    "start_time": "2023-08-14T13:33:51.246Z"
   },
   {
    "duration": 3,
    "start_time": "2023-08-14T13:36:22.992Z"
   },
   {
    "duration": 972,
    "start_time": "2023-08-14T13:36:24.562Z"
   },
   {
    "duration": 454,
    "start_time": "2023-08-14T13:37:05.872Z"
   },
   {
    "duration": 809,
    "start_time": "2023-08-14T13:37:11.905Z"
   },
   {
    "duration": 16,
    "start_time": "2023-08-14T13:37:14.162Z"
   },
   {
    "duration": 9,
    "start_time": "2023-08-14T13:37:15.863Z"
   },
   {
    "duration": 1246,
    "start_time": "2023-08-14T13:37:45.168Z"
   },
   {
    "duration": 16,
    "start_time": "2023-08-14T13:37:47.665Z"
   },
   {
    "duration": 9,
    "start_time": "2023-08-14T13:37:49.362Z"
   },
   {
    "duration": 559,
    "start_time": "2023-08-14T13:37:57.665Z"
   },
   {
    "duration": 14,
    "start_time": "2023-08-14T13:37:59.761Z"
   },
   {
    "duration": 8,
    "start_time": "2023-08-14T13:38:01.361Z"
   },
   {
    "duration": 1071,
    "start_time": "2023-08-14T13:38:34.361Z"
   },
   {
    "duration": 653,
    "start_time": "2023-08-14T13:38:49.569Z"
   },
   {
    "duration": 15,
    "start_time": "2023-08-14T13:38:51.800Z"
   },
   {
    "duration": 8,
    "start_time": "2023-08-14T13:38:54.289Z"
   },
   {
    "duration": 536,
    "start_time": "2023-08-14T13:39:02.081Z"
   },
   {
    "duration": 21,
    "start_time": "2023-08-14T13:39:03.392Z"
   },
   {
    "duration": 9,
    "start_time": "2023-08-14T13:39:04.876Z"
   },
   {
    "duration": 5,
    "start_time": "2023-08-14T13:39:55.260Z"
   },
   {
    "duration": 1029,
    "start_time": "2023-08-14T13:39:59.169Z"
   },
   {
    "duration": 359,
    "start_time": "2023-08-14T13:45:41.365Z"
   },
   {
    "duration": 14,
    "start_time": "2023-08-14T13:45:43.381Z"
   },
   {
    "duration": 9,
    "start_time": "2023-08-14T13:45:45.261Z"
   },
   {
    "duration": 121,
    "start_time": "2023-08-14T13:46:51.743Z"
   },
   {
    "duration": 20,
    "start_time": "2023-08-14T13:47:06.501Z"
   },
   {
    "duration": 1833,
    "start_time": "2023-08-14T13:47:19.709Z"
   },
   {
    "duration": 315,
    "start_time": "2023-08-14T13:47:21.544Z"
   },
   {
    "duration": 16,
    "start_time": "2023-08-14T13:47:21.861Z"
   },
   {
    "duration": 27,
    "start_time": "2023-08-14T13:47:21.880Z"
   },
   {
    "duration": 29,
    "start_time": "2023-08-14T13:47:21.909Z"
   },
   {
    "duration": 46,
    "start_time": "2023-08-14T13:47:21.941Z"
   },
   {
    "duration": 24,
    "start_time": "2023-08-14T13:47:21.989Z"
   },
   {
    "duration": 41,
    "start_time": "2023-08-14T13:47:22.016Z"
   },
   {
    "duration": 44,
    "start_time": "2023-08-14T13:47:22.059Z"
   },
   {
    "duration": 37,
    "start_time": "2023-08-14T13:47:22.107Z"
   },
   {
    "duration": 47,
    "start_time": "2023-08-14T13:47:22.145Z"
   },
   {
    "duration": 42,
    "start_time": "2023-08-14T13:47:22.194Z"
   },
   {
    "duration": 50,
    "start_time": "2023-08-14T13:47:22.238Z"
   },
   {
    "duration": 37,
    "start_time": "2023-08-14T13:47:22.289Z"
   },
   {
    "duration": 31,
    "start_time": "2023-08-14T13:47:22.327Z"
   },
   {
    "duration": 50,
    "start_time": "2023-08-14T13:47:22.360Z"
   },
   {
    "duration": 46,
    "start_time": "2023-08-14T13:47:22.411Z"
   },
   {
    "duration": 28,
    "start_time": "2023-08-14T13:47:22.459Z"
   },
   {
    "duration": 40,
    "start_time": "2023-08-14T13:47:22.489Z"
   },
   {
    "duration": 85,
    "start_time": "2023-08-14T13:47:22.531Z"
   },
   {
    "duration": 169,
    "start_time": "2023-08-14T13:47:22.618Z"
   },
   {
    "duration": 49,
    "start_time": "2023-08-14T13:47:22.789Z"
   },
   {
    "duration": 40,
    "start_time": "2023-08-14T13:47:22.840Z"
   },
   {
    "duration": 908,
    "start_time": "2023-08-14T13:47:22.882Z"
   },
   {
    "duration": 21,
    "start_time": "2023-08-14T13:47:23.792Z"
   },
   {
    "duration": 155,
    "start_time": "2023-08-14T13:47:23.815Z"
   },
   {
    "duration": 51,
    "start_time": "2023-08-14T13:47:23.972Z"
   },
   {
    "duration": 11,
    "start_time": "2023-08-14T13:47:24.028Z"
   },
   {
    "duration": 54,
    "start_time": "2023-08-14T13:47:24.041Z"
   },
   {
    "duration": 79,
    "start_time": "2023-08-14T13:47:24.097Z"
   },
   {
    "duration": 99,
    "start_time": "2023-08-14T13:47:24.178Z"
   },
   {
    "duration": 184,
    "start_time": "2023-08-14T13:47:24.279Z"
   },
   {
    "duration": 74,
    "start_time": "2023-08-14T13:47:24.465Z"
   },
   {
    "duration": 69,
    "start_time": "2023-08-14T13:47:24.541Z"
   },
   {
    "duration": 120,
    "start_time": "2023-08-14T13:47:24.612Z"
   },
   {
    "duration": 481,
    "start_time": "2023-08-14T13:47:24.734Z"
   },
   {
    "duration": 11,
    "start_time": "2023-08-14T13:47:25.217Z"
   },
   {
    "duration": 253,
    "start_time": "2023-08-14T13:47:25.229Z"
   },
   {
    "duration": 5,
    "start_time": "2023-08-14T13:47:25.484Z"
   },
   {
    "duration": 31,
    "start_time": "2023-08-14T13:47:25.491Z"
   },
   {
    "duration": 15,
    "start_time": "2023-08-14T13:47:25.523Z"
   },
   {
    "duration": 25,
    "start_time": "2023-08-14T13:47:25.540Z"
   },
   {
    "duration": 15,
    "start_time": "2023-08-14T13:47:25.567Z"
   },
   {
    "duration": 313,
    "start_time": "2023-08-14T13:47:25.584Z"
   },
   {
    "duration": 3,
    "start_time": "2023-08-14T13:47:25.899Z"
   },
   {
    "duration": 11,
    "start_time": "2023-08-14T13:47:25.904Z"
   },
   {
    "duration": 62,
    "start_time": "2023-08-14T13:47:25.917Z"
   },
   {
    "duration": 49,
    "start_time": "2023-08-14T13:47:25.980Z"
   },
   {
    "duration": 49,
    "start_time": "2023-08-14T13:47:26.032Z"
   },
   {
    "duration": 5,
    "start_time": "2023-08-14T13:47:26.083Z"
   },
   {
    "duration": 38,
    "start_time": "2023-08-14T13:47:26.089Z"
   },
   {
    "duration": 191,
    "start_time": "2023-08-14T13:47:26.130Z"
   },
   {
    "duration": 17,
    "start_time": "2023-08-14T13:47:26.323Z"
   },
   {
    "duration": 17,
    "start_time": "2023-08-14T13:47:26.342Z"
   },
   {
    "duration": 86,
    "start_time": "2023-08-14T13:47:26.361Z"
   },
   {
    "duration": 133,
    "start_time": "2023-08-14T13:47:26.449Z"
   },
   {
    "duration": 0,
    "start_time": "2023-08-14T13:47:26.585Z"
   },
   {
    "duration": 0,
    "start_time": "2023-08-14T13:47:26.586Z"
   },
   {
    "duration": 0,
    "start_time": "2023-08-14T13:47:26.588Z"
   },
   {
    "duration": 0,
    "start_time": "2023-08-14T13:47:26.590Z"
   },
   {
    "duration": 0,
    "start_time": "2023-08-14T13:47:26.591Z"
   },
   {
    "duration": 0,
    "start_time": "2023-08-14T13:47:26.593Z"
   },
   {
    "duration": 0,
    "start_time": "2023-08-14T13:47:26.595Z"
   },
   {
    "duration": 0,
    "start_time": "2023-08-14T13:47:26.596Z"
   },
   {
    "duration": 0,
    "start_time": "2023-08-14T13:47:26.614Z"
   },
   {
    "duration": 0,
    "start_time": "2023-08-14T13:47:26.618Z"
   },
   {
    "duration": 0,
    "start_time": "2023-08-14T13:47:26.622Z"
   },
   {
    "duration": 0,
    "start_time": "2023-08-14T13:47:26.626Z"
   },
   {
    "duration": 0,
    "start_time": "2023-08-14T13:47:26.629Z"
   },
   {
    "duration": 0,
    "start_time": "2023-08-14T13:47:26.631Z"
   },
   {
    "duration": 0,
    "start_time": "2023-08-14T13:47:26.633Z"
   },
   {
    "duration": 0,
    "start_time": "2023-08-14T13:47:26.634Z"
   },
   {
    "duration": 0,
    "start_time": "2023-08-14T13:47:26.635Z"
   },
   {
    "duration": 0,
    "start_time": "2023-08-14T13:47:26.636Z"
   },
   {
    "duration": 0,
    "start_time": "2023-08-14T13:47:26.637Z"
   },
   {
    "duration": 0,
    "start_time": "2023-08-14T13:47:26.638Z"
   },
   {
    "duration": 0,
    "start_time": "2023-08-14T13:47:26.640Z"
   },
   {
    "duration": 0,
    "start_time": "2023-08-14T13:47:26.641Z"
   },
   {
    "duration": 0,
    "start_time": "2023-08-14T13:47:26.643Z"
   },
   {
    "duration": 0,
    "start_time": "2023-08-14T13:47:26.644Z"
   },
   {
    "duration": 0,
    "start_time": "2023-08-14T13:47:26.646Z"
   },
   {
    "duration": 0,
    "start_time": "2023-08-14T13:47:26.647Z"
   },
   {
    "duration": 0,
    "start_time": "2023-08-14T13:47:26.649Z"
   },
   {
    "duration": 0,
    "start_time": "2023-08-14T13:47:26.650Z"
   },
   {
    "duration": 0,
    "start_time": "2023-08-14T13:47:26.652Z"
   },
   {
    "duration": 0,
    "start_time": "2023-08-14T13:47:26.654Z"
   },
   {
    "duration": 0,
    "start_time": "2023-08-14T13:47:26.655Z"
   },
   {
    "duration": 0,
    "start_time": "2023-08-14T13:47:26.657Z"
   },
   {
    "duration": 0,
    "start_time": "2023-08-14T13:47:26.714Z"
   },
   {
    "duration": 0,
    "start_time": "2023-08-14T13:47:26.715Z"
   },
   {
    "duration": 0,
    "start_time": "2023-08-14T13:47:26.717Z"
   },
   {
    "duration": 0,
    "start_time": "2023-08-14T13:47:26.718Z"
   },
   {
    "duration": 0,
    "start_time": "2023-08-14T13:47:26.719Z"
   },
   {
    "duration": 0,
    "start_time": "2023-08-14T13:47:26.721Z"
   },
   {
    "duration": 10,
    "start_time": "2023-08-14T13:47:49.236Z"
   },
   {
    "duration": 63,
    "start_time": "2023-08-14T13:47:51.880Z"
   },
   {
    "duration": 19,
    "start_time": "2023-08-14T14:15:39.860Z"
   },
   {
    "duration": 1074,
    "start_time": "2023-08-14T14:15:41.641Z"
   },
   {
    "duration": 5,
    "start_time": "2023-08-14T14:15:55.172Z"
   },
   {
    "duration": 1113,
    "start_time": "2023-08-14T14:15:56.674Z"
   },
   {
    "duration": 539,
    "start_time": "2023-08-14T14:16:30.803Z"
   },
   {
    "duration": 1197,
    "start_time": "2023-08-14T14:16:59.461Z"
   },
   {
    "duration": 1085,
    "start_time": "2023-08-14T14:17:09.764Z"
   },
   {
    "duration": 375,
    "start_time": "2023-08-14T14:17:56.062Z"
   },
   {
    "duration": 18,
    "start_time": "2023-08-14T14:17:58.380Z"
   },
   {
    "duration": 10,
    "start_time": "2023-08-14T14:18:00.365Z"
   },
   {
    "duration": 14,
    "start_time": "2023-08-14T14:19:18.382Z"
   },
   {
    "duration": 1208,
    "start_time": "2023-08-14T14:19:21.132Z"
   },
   {
    "duration": 19,
    "start_time": "2023-08-14T14:20:14.198Z"
   },
   {
    "duration": 1117,
    "start_time": "2023-08-14T14:20:16.228Z"
   },
   {
    "duration": 22,
    "start_time": "2023-08-14T14:20:33.176Z"
   },
   {
    "duration": 812,
    "start_time": "2023-08-14T14:20:48.625Z"
   },
   {
    "duration": 17,
    "start_time": "2023-08-14T14:20:50.288Z"
   },
   {
    "duration": 11,
    "start_time": "2023-08-14T14:20:51.942Z"
   },
   {
    "duration": 690,
    "start_time": "2023-08-14T14:20:57.438Z"
   },
   {
    "duration": 16,
    "start_time": "2023-08-14T14:20:58.933Z"
   },
   {
    "duration": 13,
    "start_time": "2023-08-14T14:21:00.406Z"
   },
   {
    "duration": 13,
    "start_time": "2023-08-14T14:26:15.440Z"
   },
   {
    "duration": 1711,
    "start_time": "2023-08-14T14:38:20.882Z"
   },
   {
    "duration": 360,
    "start_time": "2023-08-14T14:38:22.596Z"
   },
   {
    "duration": 17,
    "start_time": "2023-08-14T14:38:22.958Z"
   },
   {
    "duration": 12,
    "start_time": "2023-08-14T14:38:22.977Z"
   },
   {
    "duration": 32,
    "start_time": "2023-08-14T14:38:22.991Z"
   },
   {
    "duration": 26,
    "start_time": "2023-08-14T14:38:23.026Z"
   },
   {
    "duration": 68,
    "start_time": "2023-08-14T14:38:23.055Z"
   },
   {
    "duration": 33,
    "start_time": "2023-08-14T14:38:23.129Z"
   },
   {
    "duration": 35,
    "start_time": "2023-08-14T14:38:23.165Z"
   },
   {
    "duration": 29,
    "start_time": "2023-08-14T14:38:23.203Z"
   },
   {
    "duration": 30,
    "start_time": "2023-08-14T14:38:23.234Z"
   },
   {
    "duration": 13,
    "start_time": "2023-08-14T14:38:23.266Z"
   },
   {
    "duration": 29,
    "start_time": "2023-08-14T14:38:23.281Z"
   },
   {
    "duration": 7,
    "start_time": "2023-08-14T14:38:23.312Z"
   },
   {
    "duration": 19,
    "start_time": "2023-08-14T14:38:23.322Z"
   },
   {
    "duration": 19,
    "start_time": "2023-08-14T14:38:23.343Z"
   },
   {
    "duration": 29,
    "start_time": "2023-08-14T14:38:23.364Z"
   },
   {
    "duration": 29,
    "start_time": "2023-08-14T14:38:23.395Z"
   },
   {
    "duration": 5,
    "start_time": "2023-08-14T14:38:23.428Z"
   },
   {
    "duration": 38,
    "start_time": "2023-08-14T14:38:23.434Z"
   },
   {
    "duration": 6,
    "start_time": "2023-08-14T14:38:23.473Z"
   },
   {
    "duration": 23,
    "start_time": "2023-08-14T14:38:23.482Z"
   },
   {
    "duration": 24,
    "start_time": "2023-08-14T14:38:23.507Z"
   },
   {
    "duration": 864,
    "start_time": "2023-08-14T14:38:23.533Z"
   },
   {
    "duration": 30,
    "start_time": "2023-08-14T14:38:24.399Z"
   },
   {
    "duration": 94,
    "start_time": "2023-08-14T14:38:24.431Z"
   },
   {
    "duration": 43,
    "start_time": "2023-08-14T14:38:24.532Z"
   },
   {
    "duration": 25,
    "start_time": "2023-08-14T14:38:24.580Z"
   },
   {
    "duration": 41,
    "start_time": "2023-08-14T14:38:24.607Z"
   },
   {
    "duration": 45,
    "start_time": "2023-08-14T14:38:24.650Z"
   },
   {
    "duration": 8,
    "start_time": "2023-08-14T14:38:24.696Z"
   },
   {
    "duration": 45,
    "start_time": "2023-08-14T14:38:24.706Z"
   },
   {
    "duration": 11,
    "start_time": "2023-08-14T14:38:24.753Z"
   },
   {
    "duration": 24,
    "start_time": "2023-08-14T14:38:24.765Z"
   },
   {
    "duration": 62,
    "start_time": "2023-08-14T14:38:24.791Z"
   },
   {
    "duration": 415,
    "start_time": "2023-08-14T14:38:24.855Z"
   },
   {
    "duration": 10,
    "start_time": "2023-08-14T14:38:25.272Z"
   },
   {
    "duration": 56,
    "start_time": "2023-08-14T14:38:25.284Z"
   },
   {
    "duration": 4,
    "start_time": "2023-08-14T14:38:25.342Z"
   },
   {
    "duration": 25,
    "start_time": "2023-08-14T14:38:25.347Z"
   },
   {
    "duration": 8,
    "start_time": "2023-08-14T14:38:25.374Z"
   },
   {
    "duration": 33,
    "start_time": "2023-08-14T14:38:25.384Z"
   },
   {
    "duration": 12,
    "start_time": "2023-08-14T14:38:25.420Z"
   },
   {
    "duration": 304,
    "start_time": "2023-08-14T14:38:25.433Z"
   },
   {
    "duration": 2,
    "start_time": "2023-08-14T14:38:25.739Z"
   },
   {
    "duration": 38,
    "start_time": "2023-08-14T14:38:25.742Z"
   },
   {
    "duration": 83,
    "start_time": "2023-08-14T14:38:25.782Z"
   },
   {
    "duration": 36,
    "start_time": "2023-08-14T14:38:25.867Z"
   },
   {
    "duration": 44,
    "start_time": "2023-08-14T14:38:25.912Z"
   },
   {
    "duration": 6,
    "start_time": "2023-08-14T14:38:25.958Z"
   },
   {
    "duration": 18,
    "start_time": "2023-08-14T14:38:25.966Z"
   },
   {
    "duration": 207,
    "start_time": "2023-08-14T14:38:25.986Z"
   },
   {
    "duration": 30,
    "start_time": "2023-08-14T14:38:26.196Z"
   },
   {
    "duration": 16,
    "start_time": "2023-08-14T14:38:26.228Z"
   },
   {
    "duration": 53,
    "start_time": "2023-08-14T14:38:26.246Z"
   },
   {
    "duration": 68,
    "start_time": "2023-08-14T14:38:26.301Z"
   },
   {
    "duration": 13,
    "start_time": "2023-08-14T14:38:26.371Z"
   },
   {
    "duration": 1049,
    "start_time": "2023-08-14T14:38:26.386Z"
   },
   {
    "duration": 694,
    "start_time": "2023-08-14T14:38:27.436Z"
   },
   {
    "duration": 104,
    "start_time": "2023-08-14T14:38:28.132Z"
   },
   {
    "duration": 90,
    "start_time": "2023-08-14T14:38:28.238Z"
   },
   {
    "duration": 12,
    "start_time": "2023-08-14T14:38:28.331Z"
   },
   {
    "duration": 19,
    "start_time": "2023-08-14T14:38:28.345Z"
   },
   {
    "duration": 49,
    "start_time": "2023-08-14T14:38:28.366Z"
   },
   {
    "duration": 45,
    "start_time": "2023-08-14T14:38:28.420Z"
   },
   {
    "duration": 20,
    "start_time": "2023-08-14T14:38:28.467Z"
   },
   {
    "duration": 43,
    "start_time": "2023-08-14T14:38:28.489Z"
   },
   {
    "duration": 14,
    "start_time": "2023-08-14T14:38:28.534Z"
   },
   {
    "duration": 31,
    "start_time": "2023-08-14T14:38:28.550Z"
   },
   {
    "duration": 424,
    "start_time": "2023-08-14T14:38:28.583Z"
   },
   {
    "duration": 432,
    "start_time": "2023-08-14T14:38:29.008Z"
   },
   {
    "duration": 555,
    "start_time": "2023-08-14T14:38:29.445Z"
   },
   {
    "duration": 3,
    "start_time": "2023-08-14T14:38:30.002Z"
   },
   {
    "duration": 36,
    "start_time": "2023-08-14T14:38:30.015Z"
   },
   {
    "duration": 49,
    "start_time": "2023-08-14T14:38:30.053Z"
   },
   {
    "duration": 43,
    "start_time": "2023-08-14T14:38:30.104Z"
   },
   {
    "duration": 42,
    "start_time": "2023-08-14T14:38:30.149Z"
   },
   {
    "duration": 48,
    "start_time": "2023-08-14T14:38:30.193Z"
   },
   {
    "duration": 43,
    "start_time": "2023-08-14T14:38:30.243Z"
   },
   {
    "duration": 31,
    "start_time": "2023-08-14T14:38:30.288Z"
   },
   {
    "duration": 29,
    "start_time": "2023-08-14T14:38:30.321Z"
   },
   {
    "duration": 33,
    "start_time": "2023-08-14T14:38:30.356Z"
   },
   {
    "duration": 35,
    "start_time": "2023-08-14T14:38:30.391Z"
   },
   {
    "duration": 51,
    "start_time": "2023-08-14T14:38:30.428Z"
   },
   {
    "duration": 55,
    "start_time": "2023-08-14T14:38:30.481Z"
   },
   {
    "duration": 18,
    "start_time": "2023-08-14T14:38:30.538Z"
   },
   {
    "duration": 38,
    "start_time": "2023-08-14T14:38:30.558Z"
   },
   {
    "duration": 38,
    "start_time": "2023-08-14T14:38:30.599Z"
   },
   {
    "duration": 34,
    "start_time": "2023-08-14T14:38:30.639Z"
   },
   {
    "duration": 17,
    "start_time": "2023-08-14T14:38:30.675Z"
   },
   {
    "duration": 30,
    "start_time": "2023-08-14T14:38:30.694Z"
   },
   {
    "duration": 14,
    "start_time": "2023-08-14T14:39:46.576Z"
   },
   {
    "duration": 126,
    "start_time": "2023-08-14T14:39:54.696Z"
   },
   {
    "duration": 13,
    "start_time": "2023-08-14T14:40:03.380Z"
   },
   {
    "duration": 1752,
    "start_time": "2023-08-14T14:40:09.376Z"
   },
   {
    "duration": 224,
    "start_time": "2023-08-14T14:40:11.130Z"
   },
   {
    "duration": 18,
    "start_time": "2023-08-14T14:40:11.356Z"
   },
   {
    "duration": 15,
    "start_time": "2023-08-14T14:40:11.377Z"
   },
   {
    "duration": 11,
    "start_time": "2023-08-14T14:40:11.414Z"
   },
   {
    "duration": 19,
    "start_time": "2023-08-14T14:40:11.426Z"
   },
   {
    "duration": 4,
    "start_time": "2023-08-14T14:40:11.446Z"
   },
   {
    "duration": 12,
    "start_time": "2023-08-14T14:40:11.451Z"
   },
   {
    "duration": 38,
    "start_time": "2023-08-14T14:40:11.464Z"
   },
   {
    "duration": 16,
    "start_time": "2023-08-14T14:40:11.512Z"
   },
   {
    "duration": 30,
    "start_time": "2023-08-14T14:40:11.530Z"
   },
   {
    "duration": 17,
    "start_time": "2023-08-14T14:40:11.562Z"
   },
   {
    "duration": 39,
    "start_time": "2023-08-14T14:40:11.580Z"
   },
   {
    "duration": 8,
    "start_time": "2023-08-14T14:40:11.622Z"
   },
   {
    "duration": 19,
    "start_time": "2023-08-14T14:40:11.632Z"
   },
   {
    "duration": 18,
    "start_time": "2023-08-14T14:40:11.653Z"
   },
   {
    "duration": 39,
    "start_time": "2023-08-14T14:40:11.673Z"
   },
   {
    "duration": 8,
    "start_time": "2023-08-14T14:40:11.714Z"
   },
   {
    "duration": 29,
    "start_time": "2023-08-14T14:40:11.723Z"
   },
   {
    "duration": 34,
    "start_time": "2023-08-14T14:40:11.754Z"
   },
   {
    "duration": 6,
    "start_time": "2023-08-14T14:40:11.790Z"
   },
   {
    "duration": 51,
    "start_time": "2023-08-14T14:40:11.797Z"
   },
   {
    "duration": 15,
    "start_time": "2023-08-14T14:40:11.850Z"
   },
   {
    "duration": 883,
    "start_time": "2023-08-14T14:40:11.867Z"
   },
   {
    "duration": 14,
    "start_time": "2023-08-14T14:40:12.751Z"
   },
   {
    "duration": 65,
    "start_time": "2023-08-14T14:40:12.766Z"
   },
   {
    "duration": 43,
    "start_time": "2023-08-14T14:40:12.833Z"
   },
   {
    "duration": 24,
    "start_time": "2023-08-14T14:40:12.881Z"
   },
   {
    "duration": 30,
    "start_time": "2023-08-14T14:40:12.914Z"
   },
   {
    "duration": 39,
    "start_time": "2023-08-14T14:40:12.946Z"
   },
   {
    "duration": 6,
    "start_time": "2023-08-14T14:40:12.987Z"
   },
   {
    "duration": 32,
    "start_time": "2023-08-14T14:40:12.995Z"
   },
   {
    "duration": 8,
    "start_time": "2023-08-14T14:40:13.029Z"
   },
   {
    "duration": 29,
    "start_time": "2023-08-14T14:40:13.039Z"
   },
   {
    "duration": 41,
    "start_time": "2023-08-14T14:40:13.070Z"
   },
   {
    "duration": 417,
    "start_time": "2023-08-14T14:40:13.113Z"
   },
   {
    "duration": 12,
    "start_time": "2023-08-14T14:40:13.532Z"
   },
   {
    "duration": 78,
    "start_time": "2023-08-14T14:40:13.546Z"
   },
   {
    "duration": 17,
    "start_time": "2023-08-14T14:40:13.627Z"
   },
   {
    "duration": 31,
    "start_time": "2023-08-14T14:40:13.647Z"
   },
   {
    "duration": 23,
    "start_time": "2023-08-14T14:40:13.679Z"
   },
   {
    "duration": 30,
    "start_time": "2023-08-14T14:40:13.705Z"
   },
   {
    "duration": 13,
    "start_time": "2023-08-14T14:40:13.737Z"
   },
   {
    "duration": 333,
    "start_time": "2023-08-14T14:40:13.753Z"
   },
   {
    "duration": 4,
    "start_time": "2023-08-14T14:40:14.088Z"
   },
   {
    "duration": 9,
    "start_time": "2023-08-14T14:40:14.094Z"
   },
   {
    "duration": 54,
    "start_time": "2023-08-14T14:40:14.113Z"
   },
   {
    "duration": 32,
    "start_time": "2023-08-14T14:40:14.169Z"
   },
   {
    "duration": 39,
    "start_time": "2023-08-14T14:40:14.214Z"
   },
   {
    "duration": 5,
    "start_time": "2023-08-14T14:40:14.255Z"
   },
   {
    "duration": 17,
    "start_time": "2023-08-14T14:40:14.262Z"
   },
   {
    "duration": 200,
    "start_time": "2023-08-14T14:40:14.281Z"
   },
   {
    "duration": 30,
    "start_time": "2023-08-14T14:40:14.483Z"
   },
   {
    "duration": 17,
    "start_time": "2023-08-14T14:40:14.515Z"
   },
   {
    "duration": 78,
    "start_time": "2023-08-14T14:40:14.535Z"
   },
   {
    "duration": 134,
    "start_time": "2023-08-14T14:40:14.615Z"
   },
   {
    "duration": 0,
    "start_time": "2023-08-14T14:40:14.752Z"
   },
   {
    "duration": 0,
    "start_time": "2023-08-14T14:40:14.754Z"
   },
   {
    "duration": 0,
    "start_time": "2023-08-14T14:40:14.756Z"
   },
   {
    "duration": 0,
    "start_time": "2023-08-14T14:40:14.758Z"
   },
   {
    "duration": 0,
    "start_time": "2023-08-14T14:40:14.760Z"
   },
   {
    "duration": 0,
    "start_time": "2023-08-14T14:40:14.761Z"
   },
   {
    "duration": 0,
    "start_time": "2023-08-14T14:40:14.763Z"
   },
   {
    "duration": 0,
    "start_time": "2023-08-14T14:40:14.764Z"
   },
   {
    "duration": 0,
    "start_time": "2023-08-14T14:40:14.766Z"
   },
   {
    "duration": 0,
    "start_time": "2023-08-14T14:40:14.767Z"
   },
   {
    "duration": 0,
    "start_time": "2023-08-14T14:40:14.769Z"
   },
   {
    "duration": 0,
    "start_time": "2023-08-14T14:40:14.770Z"
   },
   {
    "duration": 0,
    "start_time": "2023-08-14T14:40:14.772Z"
   },
   {
    "duration": 0,
    "start_time": "2023-08-14T14:40:14.773Z"
   },
   {
    "duration": 0,
    "start_time": "2023-08-14T14:40:14.774Z"
   },
   {
    "duration": 0,
    "start_time": "2023-08-14T14:40:14.814Z"
   },
   {
    "duration": 0,
    "start_time": "2023-08-14T14:40:14.816Z"
   },
   {
    "duration": 0,
    "start_time": "2023-08-14T14:40:14.817Z"
   },
   {
    "duration": 0,
    "start_time": "2023-08-14T14:40:14.819Z"
   },
   {
    "duration": 0,
    "start_time": "2023-08-14T14:40:14.820Z"
   },
   {
    "duration": 0,
    "start_time": "2023-08-14T14:40:14.821Z"
   },
   {
    "duration": 0,
    "start_time": "2023-08-14T14:40:14.822Z"
   },
   {
    "duration": 0,
    "start_time": "2023-08-14T14:40:14.824Z"
   },
   {
    "duration": 0,
    "start_time": "2023-08-14T14:40:14.826Z"
   },
   {
    "duration": 0,
    "start_time": "2023-08-14T14:40:14.828Z"
   },
   {
    "duration": 0,
    "start_time": "2023-08-14T14:40:14.829Z"
   },
   {
    "duration": 0,
    "start_time": "2023-08-14T14:40:14.831Z"
   },
   {
    "duration": 0,
    "start_time": "2023-08-14T14:40:14.832Z"
   },
   {
    "duration": 0,
    "start_time": "2023-08-14T14:40:14.834Z"
   },
   {
    "duration": 0,
    "start_time": "2023-08-14T14:40:14.836Z"
   },
   {
    "duration": 0,
    "start_time": "2023-08-14T14:40:14.838Z"
   },
   {
    "duration": 0,
    "start_time": "2023-08-14T14:40:14.840Z"
   },
   {
    "duration": 0,
    "start_time": "2023-08-14T14:40:14.842Z"
   },
   {
    "duration": 0,
    "start_time": "2023-08-14T14:40:14.843Z"
   },
   {
    "duration": 0,
    "start_time": "2023-08-14T14:40:14.845Z"
   },
   {
    "duration": 0,
    "start_time": "2023-08-14T14:40:14.847Z"
   },
   {
    "duration": 1633,
    "start_time": "2023-08-14T14:40:37.124Z"
   },
   {
    "duration": 201,
    "start_time": "2023-08-14T14:40:38.759Z"
   },
   {
    "duration": 17,
    "start_time": "2023-08-14T14:40:38.962Z"
   },
   {
    "duration": 19,
    "start_time": "2023-08-14T14:40:38.981Z"
   },
   {
    "duration": 29,
    "start_time": "2023-08-14T14:40:39.002Z"
   },
   {
    "duration": 18,
    "start_time": "2023-08-14T14:40:39.033Z"
   },
   {
    "duration": 3,
    "start_time": "2023-08-14T14:40:39.053Z"
   },
   {
    "duration": 7,
    "start_time": "2023-08-14T14:40:39.058Z"
   },
   {
    "duration": 43,
    "start_time": "2023-08-14T14:40:39.066Z"
   },
   {
    "duration": 12,
    "start_time": "2023-08-14T14:40:39.112Z"
   },
   {
    "duration": 15,
    "start_time": "2023-08-14T14:40:39.125Z"
   },
   {
    "duration": 6,
    "start_time": "2023-08-14T14:40:39.142Z"
   },
   {
    "duration": 35,
    "start_time": "2023-08-14T14:40:39.150Z"
   },
   {
    "duration": 6,
    "start_time": "2023-08-14T14:40:39.186Z"
   },
   {
    "duration": 22,
    "start_time": "2023-08-14T14:40:39.194Z"
   },
   {
    "duration": 5,
    "start_time": "2023-08-14T14:40:39.218Z"
   },
   {
    "duration": 21,
    "start_time": "2023-08-14T14:40:39.225Z"
   },
   {
    "duration": 7,
    "start_time": "2023-08-14T14:40:39.248Z"
   },
   {
    "duration": 6,
    "start_time": "2023-08-14T14:40:39.257Z"
   },
   {
    "duration": 48,
    "start_time": "2023-08-14T14:40:39.265Z"
   },
   {
    "duration": 5,
    "start_time": "2023-08-14T14:40:39.315Z"
   },
   {
    "duration": 23,
    "start_time": "2023-08-14T14:40:39.322Z"
   },
   {
    "duration": 36,
    "start_time": "2023-08-14T14:40:39.346Z"
   },
   {
    "duration": 868,
    "start_time": "2023-08-14T14:40:39.384Z"
   },
   {
    "duration": 14,
    "start_time": "2023-08-14T14:40:40.253Z"
   },
   {
    "duration": 61,
    "start_time": "2023-08-14T14:40:40.269Z"
   },
   {
    "duration": 42,
    "start_time": "2023-08-14T14:40:40.332Z"
   },
   {
    "duration": 29,
    "start_time": "2023-08-14T14:40:40.379Z"
   },
   {
    "duration": 46,
    "start_time": "2023-08-14T14:40:40.410Z"
   },
   {
    "duration": 58,
    "start_time": "2023-08-14T14:40:40.458Z"
   },
   {
    "duration": 17,
    "start_time": "2023-08-14T14:40:40.518Z"
   },
   {
    "duration": 22,
    "start_time": "2023-08-14T14:40:40.536Z"
   },
   {
    "duration": 11,
    "start_time": "2023-08-14T14:40:40.560Z"
   },
   {
    "duration": 12,
    "start_time": "2023-08-14T14:40:40.572Z"
   },
   {
    "duration": 57,
    "start_time": "2023-08-14T14:40:40.586Z"
   },
   {
    "duration": 402,
    "start_time": "2023-08-14T14:40:40.646Z"
   },
   {
    "duration": 10,
    "start_time": "2023-08-14T14:40:41.051Z"
   },
   {
    "duration": 77,
    "start_time": "2023-08-14T14:40:41.063Z"
   },
   {
    "duration": 4,
    "start_time": "2023-08-14T14:40:41.143Z"
   },
   {
    "duration": 24,
    "start_time": "2023-08-14T14:40:41.148Z"
   },
   {
    "duration": 23,
    "start_time": "2023-08-14T14:40:41.174Z"
   },
   {
    "duration": 15,
    "start_time": "2023-08-14T14:40:41.199Z"
   },
   {
    "duration": 24,
    "start_time": "2023-08-14T14:40:41.216Z"
   },
   {
    "duration": 297,
    "start_time": "2023-08-14T14:40:41.242Z"
   },
   {
    "duration": 3,
    "start_time": "2023-08-14T14:40:41.540Z"
   },
   {
    "duration": 23,
    "start_time": "2023-08-14T14:40:41.544Z"
   },
   {
    "duration": 57,
    "start_time": "2023-08-14T14:40:41.569Z"
   },
   {
    "duration": 30,
    "start_time": "2023-08-14T14:40:41.627Z"
   },
   {
    "duration": 56,
    "start_time": "2023-08-14T14:40:41.659Z"
   },
   {
    "duration": 5,
    "start_time": "2023-08-14T14:40:41.716Z"
   },
   {
    "duration": 10,
    "start_time": "2023-08-14T14:40:41.723Z"
   },
   {
    "duration": 190,
    "start_time": "2023-08-14T14:40:41.734Z"
   },
   {
    "duration": 15,
    "start_time": "2023-08-14T14:40:41.926Z"
   },
   {
    "duration": 15,
    "start_time": "2023-08-14T14:40:41.942Z"
   },
   {
    "duration": 76,
    "start_time": "2023-08-14T14:40:41.959Z"
   },
   {
    "duration": 52,
    "start_time": "2023-08-14T14:40:42.036Z"
   },
   {
    "duration": 26,
    "start_time": "2023-08-14T14:40:42.089Z"
   },
   {
    "duration": 1001,
    "start_time": "2023-08-14T14:40:42.117Z"
   },
   {
    "duration": 702,
    "start_time": "2023-08-14T14:40:43.120Z"
   },
   {
    "duration": 20,
    "start_time": "2023-08-14T14:40:43.915Z"
   },
   {
    "duration": 78,
    "start_time": "2023-08-14T14:40:43.937Z"
   },
   {
    "duration": 12,
    "start_time": "2023-08-14T14:40:44.016Z"
   },
   {
    "duration": 24,
    "start_time": "2023-08-14T14:40:44.030Z"
   },
   {
    "duration": 33,
    "start_time": "2023-08-14T14:40:44.056Z"
   },
   {
    "duration": 65,
    "start_time": "2023-08-14T14:40:44.091Z"
   },
   {
    "duration": 56,
    "start_time": "2023-08-14T14:40:44.158Z"
   },
   {
    "duration": 27,
    "start_time": "2023-08-14T14:40:44.216Z"
   },
   {
    "duration": 31,
    "start_time": "2023-08-14T14:40:44.245Z"
   },
   {
    "duration": 39,
    "start_time": "2023-08-14T14:40:44.278Z"
   },
   {
    "duration": 401,
    "start_time": "2023-08-14T14:40:44.319Z"
   },
   {
    "duration": 399,
    "start_time": "2023-08-14T14:40:44.722Z"
   },
   {
    "duration": 508,
    "start_time": "2023-08-14T14:40:45.123Z"
   },
   {
    "duration": 4,
    "start_time": "2023-08-14T14:40:45.632Z"
   },
   {
    "duration": 9,
    "start_time": "2023-08-14T14:40:45.637Z"
   },
   {
    "duration": 17,
    "start_time": "2023-08-14T14:40:45.648Z"
   },
   {
    "duration": 22,
    "start_time": "2023-08-14T14:40:45.667Z"
   },
   {
    "duration": 28,
    "start_time": "2023-08-14T14:40:45.691Z"
   },
   {
    "duration": 25,
    "start_time": "2023-08-14T14:40:45.721Z"
   },
   {
    "duration": 19,
    "start_time": "2023-08-14T14:40:45.747Z"
   },
   {
    "duration": 9,
    "start_time": "2023-08-14T14:40:45.768Z"
   },
   {
    "duration": 6,
    "start_time": "2023-08-14T14:40:45.779Z"
   },
   {
    "duration": 11,
    "start_time": "2023-08-14T14:40:45.815Z"
   },
   {
    "duration": 19,
    "start_time": "2023-08-14T14:40:45.827Z"
   },
   {
    "duration": 40,
    "start_time": "2023-08-14T14:40:45.847Z"
   },
   {
    "duration": 48,
    "start_time": "2023-08-14T14:40:45.889Z"
   },
   {
    "duration": 5,
    "start_time": "2023-08-14T14:40:45.940Z"
   },
   {
    "duration": 14,
    "start_time": "2023-08-14T14:40:45.946Z"
   },
   {
    "duration": 15,
    "start_time": "2023-08-14T14:40:45.962Z"
   },
   {
    "duration": 21,
    "start_time": "2023-08-14T14:40:45.979Z"
   },
   {
    "duration": 7,
    "start_time": "2023-08-14T14:40:46.002Z"
   },
   {
    "duration": 5,
    "start_time": "2023-08-14T14:40:46.012Z"
   },
   {
    "duration": 16,
    "start_time": "2023-08-14T14:42:35.087Z"
   },
   {
    "duration": 969,
    "start_time": "2023-08-14T14:42:36.872Z"
   },
   {
    "duration": 675,
    "start_time": "2023-08-14T14:42:45.048Z"
   },
   {
    "duration": 14,
    "start_time": "2023-08-14T14:42:46.607Z"
   },
   {
    "duration": 10,
    "start_time": "2023-08-14T14:42:48.801Z"
   },
   {
    "duration": 18,
    "start_time": "2023-08-14T14:43:05.372Z"
   },
   {
    "duration": 1137,
    "start_time": "2023-08-14T14:43:59.369Z"
   },
   {
    "duration": 632,
    "start_time": "2023-08-14T14:44:12.784Z"
   },
   {
    "duration": 648,
    "start_time": "2023-08-14T14:44:34.472Z"
   },
   {
    "duration": 15,
    "start_time": "2023-08-14T14:44:36.914Z"
   },
   {
    "duration": 9,
    "start_time": "2023-08-14T14:44:41.440Z"
   },
   {
    "duration": 19,
    "start_time": "2023-08-14T14:44:42.701Z"
   },
   {
    "duration": 346,
    "start_time": "2023-08-14T14:45:13.280Z"
   },
   {
    "duration": 15,
    "start_time": "2023-08-14T14:45:21.000Z"
   },
   {
    "duration": 10,
    "start_time": "2023-08-14T14:45:29.745Z"
   },
   {
    "duration": 19,
    "start_time": "2023-08-14T14:45:31.904Z"
   },
   {
    "duration": 1651,
    "start_time": "2023-08-14T14:45:39.576Z"
   },
   {
    "duration": 376,
    "start_time": "2023-08-14T14:45:41.230Z"
   },
   {
    "duration": 19,
    "start_time": "2023-08-14T14:45:41.608Z"
   },
   {
    "duration": 32,
    "start_time": "2023-08-14T14:45:41.629Z"
   },
   {
    "duration": 35,
    "start_time": "2023-08-14T14:45:41.664Z"
   },
   {
    "duration": 42,
    "start_time": "2023-08-14T14:45:41.701Z"
   },
   {
    "duration": 23,
    "start_time": "2023-08-14T14:45:41.745Z"
   },
   {
    "duration": 20,
    "start_time": "2023-08-14T14:45:41.770Z"
   },
   {
    "duration": 27,
    "start_time": "2023-08-14T14:45:41.791Z"
   },
   {
    "duration": 18,
    "start_time": "2023-08-14T14:45:41.819Z"
   },
   {
    "duration": 42,
    "start_time": "2023-08-14T14:45:41.839Z"
   },
   {
    "duration": 17,
    "start_time": "2023-08-14T14:45:41.883Z"
   },
   {
    "duration": 28,
    "start_time": "2023-08-14T14:45:41.902Z"
   },
   {
    "duration": 7,
    "start_time": "2023-08-14T14:45:41.933Z"
   },
   {
    "duration": 29,
    "start_time": "2023-08-14T14:45:41.941Z"
   },
   {
    "duration": 9,
    "start_time": "2023-08-14T14:45:41.972Z"
   },
   {
    "duration": 19,
    "start_time": "2023-08-14T14:45:41.983Z"
   },
   {
    "duration": 22,
    "start_time": "2023-08-14T14:45:42.004Z"
   },
   {
    "duration": 36,
    "start_time": "2023-08-14T14:45:42.027Z"
   },
   {
    "duration": 47,
    "start_time": "2023-08-14T14:45:42.065Z"
   },
   {
    "duration": 20,
    "start_time": "2023-08-14T14:45:42.113Z"
   },
   {
    "duration": 27,
    "start_time": "2023-08-14T14:45:42.134Z"
   },
   {
    "duration": 22,
    "start_time": "2023-08-14T14:45:42.163Z"
   },
   {
    "duration": 834,
    "start_time": "2023-08-14T14:45:42.187Z"
   },
   {
    "duration": 14,
    "start_time": "2023-08-14T14:45:43.023Z"
   },
   {
    "duration": 53,
    "start_time": "2023-08-14T14:45:43.039Z"
   },
   {
    "duration": 60,
    "start_time": "2023-08-14T14:45:43.094Z"
   },
   {
    "duration": 6,
    "start_time": "2023-08-14T14:45:43.156Z"
   },
   {
    "duration": 50,
    "start_time": "2023-08-14T14:45:43.164Z"
   },
   {
    "duration": 42,
    "start_time": "2023-08-14T14:45:43.216Z"
   },
   {
    "duration": 6,
    "start_time": "2023-08-14T14:45:43.260Z"
   },
   {
    "duration": 21,
    "start_time": "2023-08-14T14:45:43.268Z"
   },
   {
    "duration": 29,
    "start_time": "2023-08-14T14:45:43.291Z"
   },
   {
    "duration": 10,
    "start_time": "2023-08-14T14:45:43.321Z"
   },
   {
    "duration": 25,
    "start_time": "2023-08-14T14:45:43.333Z"
   },
   {
    "duration": 442,
    "start_time": "2023-08-14T14:45:43.360Z"
   },
   {
    "duration": 13,
    "start_time": "2023-08-14T14:45:43.804Z"
   },
   {
    "duration": 40,
    "start_time": "2023-08-14T14:45:43.819Z"
   },
   {
    "duration": 4,
    "start_time": "2023-08-14T14:45:43.861Z"
   },
   {
    "duration": 35,
    "start_time": "2023-08-14T14:45:43.867Z"
   },
   {
    "duration": 11,
    "start_time": "2023-08-14T14:45:43.908Z"
   },
   {
    "duration": 107,
    "start_time": "2023-08-14T14:45:43.920Z"
   },
   {
    "duration": 9,
    "start_time": "2023-08-14T14:45:44.029Z"
   },
   {
    "duration": 222,
    "start_time": "2023-08-14T14:45:44.040Z"
   },
   {
    "duration": 2,
    "start_time": "2023-08-14T14:45:44.264Z"
   },
   {
    "duration": 5,
    "start_time": "2023-08-14T14:45:44.268Z"
   },
   {
    "duration": 62,
    "start_time": "2023-08-14T14:45:44.275Z"
   },
   {
    "duration": 30,
    "start_time": "2023-08-14T14:45:44.339Z"
   },
   {
    "duration": 53,
    "start_time": "2023-08-14T14:45:44.371Z"
   },
   {
    "duration": 6,
    "start_time": "2023-08-14T14:45:44.425Z"
   },
   {
    "duration": 22,
    "start_time": "2023-08-14T14:45:44.433Z"
   },
   {
    "duration": 174,
    "start_time": "2023-08-14T14:45:44.457Z"
   },
   {
    "duration": 16,
    "start_time": "2023-08-14T14:45:44.632Z"
   },
   {
    "duration": 15,
    "start_time": "2023-08-14T14:45:44.650Z"
   },
   {
    "duration": 77,
    "start_time": "2023-08-14T14:45:44.667Z"
   },
   {
    "duration": 52,
    "start_time": "2023-08-14T14:45:44.746Z"
   },
   {
    "duration": 24,
    "start_time": "2023-08-14T14:45:44.800Z"
   },
   {
    "duration": 1006,
    "start_time": "2023-08-14T14:45:44.825Z"
   },
   {
    "duration": 481,
    "start_time": "2023-08-14T14:45:45.832Z"
   },
   {
    "duration": 104,
    "start_time": "2023-08-14T14:45:46.316Z"
   },
   {
    "duration": 10,
    "start_time": "2023-08-14T14:45:46.422Z"
   },
   {
    "duration": 138,
    "start_time": "2023-08-14T14:45:46.433Z"
   },
   {
    "duration": 0,
    "start_time": "2023-08-14T14:45:46.573Z"
   },
   {
    "duration": 0,
    "start_time": "2023-08-14T14:45:46.574Z"
   },
   {
    "duration": 0,
    "start_time": "2023-08-14T14:45:46.575Z"
   },
   {
    "duration": 0,
    "start_time": "2023-08-14T14:45:46.576Z"
   },
   {
    "duration": 0,
    "start_time": "2023-08-14T14:45:46.577Z"
   },
   {
    "duration": 0,
    "start_time": "2023-08-14T14:45:46.578Z"
   },
   {
    "duration": 0,
    "start_time": "2023-08-14T14:45:46.579Z"
   },
   {
    "duration": 0,
    "start_time": "2023-08-14T14:45:46.580Z"
   },
   {
    "duration": 0,
    "start_time": "2023-08-14T14:45:46.581Z"
   },
   {
    "duration": 0,
    "start_time": "2023-08-14T14:45:46.582Z"
   },
   {
    "duration": 0,
    "start_time": "2023-08-14T14:45:46.583Z"
   },
   {
    "duration": 0,
    "start_time": "2023-08-14T14:45:46.584Z"
   },
   {
    "duration": 0,
    "start_time": "2023-08-14T14:45:46.585Z"
   },
   {
    "duration": 0,
    "start_time": "2023-08-14T14:45:46.586Z"
   },
   {
    "duration": 0,
    "start_time": "2023-08-14T14:45:46.587Z"
   },
   {
    "duration": 0,
    "start_time": "2023-08-14T14:45:46.614Z"
   },
   {
    "duration": 0,
    "start_time": "2023-08-14T14:45:46.615Z"
   },
   {
    "duration": 0,
    "start_time": "2023-08-14T14:45:46.616Z"
   },
   {
    "duration": 0,
    "start_time": "2023-08-14T14:45:46.617Z"
   },
   {
    "duration": 0,
    "start_time": "2023-08-14T14:45:46.618Z"
   },
   {
    "duration": 0,
    "start_time": "2023-08-14T14:45:46.619Z"
   },
   {
    "duration": 0,
    "start_time": "2023-08-14T14:45:46.620Z"
   },
   {
    "duration": 0,
    "start_time": "2023-08-14T14:45:46.621Z"
   },
   {
    "duration": 0,
    "start_time": "2023-08-14T14:45:46.623Z"
   },
   {
    "duration": 0,
    "start_time": "2023-08-14T14:45:46.624Z"
   },
   {
    "duration": 0,
    "start_time": "2023-08-14T14:45:46.625Z"
   },
   {
    "duration": 0,
    "start_time": "2023-08-14T14:45:46.625Z"
   },
   {
    "duration": 0,
    "start_time": "2023-08-14T14:45:46.626Z"
   },
   {
    "duration": 0,
    "start_time": "2023-08-14T14:45:46.627Z"
   },
   {
    "duration": 0,
    "start_time": "2023-08-14T14:45:46.628Z"
   },
   {
    "duration": 11,
    "start_time": "2023-08-14T14:46:10.216Z"
   },
   {
    "duration": 18,
    "start_time": "2023-08-14T14:46:13.849Z"
   },
   {
    "duration": 32,
    "start_time": "2023-08-14T14:46:16.425Z"
   },
   {
    "duration": 43,
    "start_time": "2023-08-14T14:46:18.441Z"
   },
   {
    "duration": 19,
    "start_time": "2023-08-14T14:46:20.377Z"
   },
   {
    "duration": 18,
    "start_time": "2023-08-14T14:46:22.120Z"
   },
   {
    "duration": 1669,
    "start_time": "2023-08-14T14:53:26.728Z"
   },
   {
    "duration": 432,
    "start_time": "2023-08-14T14:53:28.399Z"
   },
   {
    "duration": 16,
    "start_time": "2023-08-14T14:53:28.833Z"
   },
   {
    "duration": 12,
    "start_time": "2023-08-14T14:53:28.851Z"
   },
   {
    "duration": 12,
    "start_time": "2023-08-14T14:53:28.865Z"
   },
   {
    "duration": 43,
    "start_time": "2023-08-14T14:53:28.879Z"
   },
   {
    "duration": 5,
    "start_time": "2023-08-14T14:53:28.924Z"
   },
   {
    "duration": 15,
    "start_time": "2023-08-14T14:53:28.931Z"
   },
   {
    "duration": 23,
    "start_time": "2023-08-14T14:53:28.947Z"
   },
   {
    "duration": 11,
    "start_time": "2023-08-14T14:53:28.973Z"
   },
   {
    "duration": 17,
    "start_time": "2023-08-14T14:53:28.985Z"
   },
   {
    "duration": 14,
    "start_time": "2023-08-14T14:53:29.004Z"
   },
   {
    "duration": 31,
    "start_time": "2023-08-14T14:53:29.021Z"
   },
   {
    "duration": 7,
    "start_time": "2023-08-14T14:53:29.054Z"
   },
   {
    "duration": 15,
    "start_time": "2023-08-14T14:53:29.062Z"
   },
   {
    "duration": 6,
    "start_time": "2023-08-14T14:53:29.079Z"
   },
   {
    "duration": 44,
    "start_time": "2023-08-14T14:53:29.087Z"
   },
   {
    "duration": 8,
    "start_time": "2023-08-14T14:53:29.133Z"
   },
   {
    "duration": 9,
    "start_time": "2023-08-14T14:53:29.143Z"
   },
   {
    "duration": 18,
    "start_time": "2023-08-14T14:53:29.153Z"
   },
   {
    "duration": 5,
    "start_time": "2023-08-14T14:53:29.173Z"
   },
   {
    "duration": 46,
    "start_time": "2023-08-14T14:53:29.180Z"
   },
   {
    "duration": 12,
    "start_time": "2023-08-14T14:53:29.229Z"
   },
   {
    "duration": 910,
    "start_time": "2023-08-14T14:53:29.243Z"
   },
   {
    "duration": 11,
    "start_time": "2023-08-14T14:53:30.155Z"
   },
   {
    "duration": 95,
    "start_time": "2023-08-14T14:53:30.168Z"
   },
   {
    "duration": 62,
    "start_time": "2023-08-14T14:53:30.265Z"
   },
   {
    "duration": 6,
    "start_time": "2023-08-14T14:53:30.332Z"
   },
   {
    "duration": 44,
    "start_time": "2023-08-14T14:53:30.340Z"
   },
   {
    "duration": 58,
    "start_time": "2023-08-14T14:53:30.386Z"
   },
   {
    "duration": 8,
    "start_time": "2023-08-14T14:53:30.446Z"
   },
   {
    "duration": 37,
    "start_time": "2023-08-14T14:53:30.456Z"
   },
   {
    "duration": 9,
    "start_time": "2023-08-14T14:53:30.495Z"
   },
   {
    "duration": 30,
    "start_time": "2023-08-14T14:53:30.506Z"
   },
   {
    "duration": 51,
    "start_time": "2023-08-14T14:53:30.538Z"
   },
   {
    "duration": 448,
    "start_time": "2023-08-14T14:53:30.591Z"
   },
   {
    "duration": 10,
    "start_time": "2023-08-14T14:53:31.041Z"
   },
   {
    "duration": 107,
    "start_time": "2023-08-14T14:53:31.052Z"
   },
   {
    "duration": 4,
    "start_time": "2023-08-14T14:53:31.161Z"
   },
   {
    "duration": 40,
    "start_time": "2023-08-14T14:53:31.166Z"
   },
   {
    "duration": 23,
    "start_time": "2023-08-14T14:53:31.208Z"
   },
   {
    "duration": 23,
    "start_time": "2023-08-14T14:53:31.233Z"
   },
   {
    "duration": 22,
    "start_time": "2023-08-14T14:53:31.258Z"
   },
   {
    "duration": 297,
    "start_time": "2023-08-14T14:53:31.282Z"
   },
   {
    "duration": 3,
    "start_time": "2023-08-14T14:53:31.580Z"
   },
   {
    "duration": 46,
    "start_time": "2023-08-14T14:53:31.584Z"
   },
   {
    "duration": 67,
    "start_time": "2023-08-14T14:53:31.632Z"
   },
   {
    "duration": 38,
    "start_time": "2023-08-14T14:53:31.701Z"
   },
   {
    "duration": 46,
    "start_time": "2023-08-14T14:53:31.741Z"
   },
   {
    "duration": 7,
    "start_time": "2023-08-14T14:53:31.789Z"
   },
   {
    "duration": 29,
    "start_time": "2023-08-14T14:53:31.798Z"
   },
   {
    "duration": 212,
    "start_time": "2023-08-14T14:53:31.829Z"
   },
   {
    "duration": 16,
    "start_time": "2023-08-14T14:53:32.043Z"
   },
   {
    "duration": 35,
    "start_time": "2023-08-14T14:53:32.060Z"
   },
   {
    "duration": 93,
    "start_time": "2023-08-14T14:53:32.097Z"
   },
   {
    "duration": 59,
    "start_time": "2023-08-14T14:53:32.192Z"
   },
   {
    "duration": 14,
    "start_time": "2023-08-14T14:53:32.253Z"
   },
   {
    "duration": 1075,
    "start_time": "2023-08-14T14:53:32.268Z"
   },
   {
    "duration": 370,
    "start_time": "2023-08-14T14:53:33.344Z"
   },
   {
    "duration": 114,
    "start_time": "2023-08-14T14:53:33.715Z"
   },
   {
    "duration": 9,
    "start_time": "2023-08-14T14:53:33.831Z"
   },
   {
    "duration": 24,
    "start_time": "2023-08-14T14:53:33.841Z"
   },
   {
    "duration": 17,
    "start_time": "2023-08-14T14:53:33.867Z"
   },
   {
    "duration": 51,
    "start_time": "2023-08-14T14:53:33.887Z"
   },
   {
    "duration": 46,
    "start_time": "2023-08-14T14:53:33.940Z"
   },
   {
    "duration": 40,
    "start_time": "2023-08-14T14:53:33.988Z"
   },
   {
    "duration": 19,
    "start_time": "2023-08-14T14:53:34.030Z"
   },
   {
    "duration": 17,
    "start_time": "2023-08-14T14:53:34.050Z"
   },
   {
    "duration": 25,
    "start_time": "2023-08-14T14:53:34.068Z"
   },
   {
    "duration": 430,
    "start_time": "2023-08-14T14:53:34.095Z"
   },
   {
    "duration": 415,
    "start_time": "2023-08-14T14:53:34.527Z"
   },
   {
    "duration": 3,
    "start_time": "2023-08-14T14:53:34.944Z"
   },
   {
    "duration": 20,
    "start_time": "2023-08-14T14:53:34.950Z"
   },
   {
    "duration": 56,
    "start_time": "2023-08-14T14:53:34.972Z"
   },
   {
    "duration": 43,
    "start_time": "2023-08-14T14:53:35.030Z"
   },
   {
    "duration": 73,
    "start_time": "2023-08-14T14:53:35.075Z"
   },
   {
    "duration": 51,
    "start_time": "2023-08-14T14:53:35.150Z"
   },
   {
    "duration": 90,
    "start_time": "2023-08-14T14:53:35.202Z"
   },
   {
    "duration": 26,
    "start_time": "2023-08-14T14:53:35.293Z"
   },
   {
    "duration": 6,
    "start_time": "2023-08-14T14:53:35.321Z"
   },
   {
    "duration": 32,
    "start_time": "2023-08-14T14:53:35.329Z"
   },
   {
    "duration": 49,
    "start_time": "2023-08-14T14:53:35.366Z"
   },
   {
    "duration": 49,
    "start_time": "2023-08-14T14:53:35.418Z"
   },
   {
    "duration": 96,
    "start_time": "2023-08-14T14:53:35.469Z"
   },
   {
    "duration": 157,
    "start_time": "2023-08-14T14:53:35.567Z"
   },
   {
    "duration": 26,
    "start_time": "2023-08-14T14:53:35.730Z"
   },
   {
    "duration": 32,
    "start_time": "2023-08-14T14:53:35.758Z"
   },
   {
    "duration": 32,
    "start_time": "2023-08-14T14:53:35.792Z"
   },
   {
    "duration": 41,
    "start_time": "2023-08-14T14:53:35.826Z"
   },
   {
    "duration": 31,
    "start_time": "2023-08-14T14:53:35.869Z"
   },
   {
    "duration": 33,
    "start_time": "2023-08-14T14:53:35.902Z"
   },
   {
    "duration": 14,
    "start_time": "2023-08-14T14:54:25.674Z"
   },
   {
    "duration": 1058,
    "start_time": "2023-08-14T14:54:28.988Z"
   },
   {
    "duration": 1698,
    "start_time": "2023-08-14T14:54:38.812Z"
   },
   {
    "duration": 276,
    "start_time": "2023-08-14T14:54:40.513Z"
   },
   {
    "duration": 30,
    "start_time": "2023-08-14T14:54:40.791Z"
   },
   {
    "duration": 13,
    "start_time": "2023-08-14T14:54:40.826Z"
   },
   {
    "duration": 11,
    "start_time": "2023-08-14T14:54:40.841Z"
   },
   {
    "duration": 29,
    "start_time": "2023-08-14T14:54:40.854Z"
   },
   {
    "duration": 21,
    "start_time": "2023-08-14T14:54:40.885Z"
   },
   {
    "duration": 32,
    "start_time": "2023-08-14T14:54:40.908Z"
   },
   {
    "duration": 28,
    "start_time": "2023-08-14T14:54:40.942Z"
   },
   {
    "duration": 15,
    "start_time": "2023-08-14T14:54:40.973Z"
   },
   {
    "duration": 37,
    "start_time": "2023-08-14T14:54:40.990Z"
   },
   {
    "duration": 31,
    "start_time": "2023-08-14T14:54:41.029Z"
   },
   {
    "duration": 28,
    "start_time": "2023-08-14T14:54:41.062Z"
   },
   {
    "duration": 6,
    "start_time": "2023-08-14T14:54:41.092Z"
   },
   {
    "duration": 9,
    "start_time": "2023-08-14T14:54:41.099Z"
   },
   {
    "duration": 17,
    "start_time": "2023-08-14T14:54:41.109Z"
   },
   {
    "duration": 28,
    "start_time": "2023-08-14T14:54:41.128Z"
   },
   {
    "duration": 15,
    "start_time": "2023-08-14T14:54:41.158Z"
   },
   {
    "duration": 7,
    "start_time": "2023-08-14T14:54:41.175Z"
   },
   {
    "duration": 24,
    "start_time": "2023-08-14T14:54:41.184Z"
   },
   {
    "duration": 17,
    "start_time": "2023-08-14T14:54:41.210Z"
   },
   {
    "duration": 17,
    "start_time": "2023-08-14T14:54:41.229Z"
   },
   {
    "duration": 21,
    "start_time": "2023-08-14T14:54:41.248Z"
   },
   {
    "duration": 892,
    "start_time": "2023-08-14T14:54:41.270Z"
   },
   {
    "duration": 13,
    "start_time": "2023-08-14T14:54:42.164Z"
   },
   {
    "duration": 73,
    "start_time": "2023-08-14T14:54:42.179Z"
   },
   {
    "duration": 72,
    "start_time": "2023-08-14T14:54:42.254Z"
   },
   {
    "duration": 6,
    "start_time": "2023-08-14T14:54:42.331Z"
   },
   {
    "duration": 39,
    "start_time": "2023-08-14T14:54:42.339Z"
   },
   {
    "duration": 44,
    "start_time": "2023-08-14T14:54:42.380Z"
   },
   {
    "duration": 7,
    "start_time": "2023-08-14T14:54:42.426Z"
   },
   {
    "duration": 22,
    "start_time": "2023-08-14T14:54:42.435Z"
   },
   {
    "duration": 8,
    "start_time": "2023-08-14T14:54:42.459Z"
   },
   {
    "duration": 6,
    "start_time": "2023-08-14T14:54:42.468Z"
   },
   {
    "duration": 41,
    "start_time": "2023-08-14T14:54:42.476Z"
   },
   {
    "duration": 422,
    "start_time": "2023-08-14T14:54:42.519Z"
   },
   {
    "duration": 11,
    "start_time": "2023-08-14T14:54:42.942Z"
   },
   {
    "duration": 37,
    "start_time": "2023-08-14T14:54:42.954Z"
   },
   {
    "duration": 34,
    "start_time": "2023-08-14T14:54:42.992Z"
   },
   {
    "duration": 12,
    "start_time": "2023-08-14T14:54:43.028Z"
   },
   {
    "duration": 12,
    "start_time": "2023-08-14T14:54:43.042Z"
   },
   {
    "duration": 10,
    "start_time": "2023-08-14T14:54:43.056Z"
   },
   {
    "duration": 9,
    "start_time": "2023-08-14T14:54:43.068Z"
   },
   {
    "duration": 311,
    "start_time": "2023-08-14T14:54:43.079Z"
   },
   {
    "duration": 3,
    "start_time": "2023-08-14T14:54:43.392Z"
   },
   {
    "duration": 17,
    "start_time": "2023-08-14T14:54:43.397Z"
   },
   {
    "duration": 60,
    "start_time": "2023-08-14T14:54:43.428Z"
   },
   {
    "duration": 40,
    "start_time": "2023-08-14T14:54:43.489Z"
   },
   {
    "duration": 38,
    "start_time": "2023-08-14T14:54:43.530Z"
   },
   {
    "duration": 6,
    "start_time": "2023-08-14T14:54:43.570Z"
   },
   {
    "duration": 22,
    "start_time": "2023-08-14T14:54:43.577Z"
   },
   {
    "duration": 190,
    "start_time": "2023-08-14T14:54:43.601Z"
   },
   {
    "duration": 35,
    "start_time": "2023-08-14T14:54:43.792Z"
   },
   {
    "duration": 16,
    "start_time": "2023-08-14T14:54:43.829Z"
   },
   {
    "duration": 73,
    "start_time": "2023-08-14T14:54:43.848Z"
   },
   {
    "duration": 60,
    "start_time": "2023-08-14T14:54:43.926Z"
   },
   {
    "duration": 14,
    "start_time": "2023-08-14T14:54:43.987Z"
   },
   {
    "duration": 1024,
    "start_time": "2023-08-14T14:54:44.012Z"
   },
   {
    "duration": 385,
    "start_time": "2023-08-14T14:54:45.038Z"
   },
   {
    "duration": 103,
    "start_time": "2023-08-14T14:54:45.425Z"
   },
   {
    "duration": 8,
    "start_time": "2023-08-14T14:54:45.529Z"
   },
   {
    "duration": 17,
    "start_time": "2023-08-14T14:54:45.539Z"
   },
   {
    "duration": 15,
    "start_time": "2023-08-14T14:54:45.557Z"
   },
   {
    "duration": 55,
    "start_time": "2023-08-14T14:54:45.574Z"
   },
   {
    "duration": 41,
    "start_time": "2023-08-14T14:54:45.631Z"
   },
   {
    "duration": 18,
    "start_time": "2023-08-14T14:54:45.674Z"
   },
   {
    "duration": 26,
    "start_time": "2023-08-14T14:54:45.712Z"
   },
   {
    "duration": 14,
    "start_time": "2023-08-14T14:54:45.740Z"
   },
   {
    "duration": 30,
    "start_time": "2023-08-14T14:54:45.756Z"
   },
   {
    "duration": 437,
    "start_time": "2023-08-14T14:54:45.788Z"
   },
   {
    "duration": 401,
    "start_time": "2023-08-14T14:54:46.227Z"
   },
   {
    "duration": 3,
    "start_time": "2023-08-14T14:54:46.630Z"
   },
   {
    "duration": 32,
    "start_time": "2023-08-14T14:54:46.635Z"
   },
   {
    "duration": 13,
    "start_time": "2023-08-14T14:54:46.669Z"
   },
   {
    "duration": 13,
    "start_time": "2023-08-14T14:54:46.683Z"
   },
   {
    "duration": 35,
    "start_time": "2023-08-14T14:54:46.698Z"
   },
   {
    "duration": 51,
    "start_time": "2023-08-14T14:54:46.735Z"
   },
   {
    "duration": 22,
    "start_time": "2023-08-14T14:54:46.787Z"
   },
   {
    "duration": 13,
    "start_time": "2023-08-14T14:54:46.814Z"
   },
   {
    "duration": 17,
    "start_time": "2023-08-14T14:54:46.828Z"
   },
   {
    "duration": 7,
    "start_time": "2023-08-14T14:54:46.847Z"
   },
   {
    "duration": 18,
    "start_time": "2023-08-14T14:54:46.859Z"
   },
   {
    "duration": 14,
    "start_time": "2023-08-14T14:54:46.879Z"
   },
   {
    "duration": 34,
    "start_time": "2023-08-14T14:54:46.895Z"
   },
   {
    "duration": 140,
    "start_time": "2023-08-14T14:54:46.931Z"
   },
   {
    "duration": 5,
    "start_time": "2023-08-14T14:54:47.073Z"
   },
   {
    "duration": 8,
    "start_time": "2023-08-14T14:54:47.081Z"
   },
   {
    "duration": 35,
    "start_time": "2023-08-14T14:54:47.091Z"
   },
   {
    "duration": 21,
    "start_time": "2023-08-14T14:54:47.128Z"
   },
   {
    "duration": 6,
    "start_time": "2023-08-14T14:54:47.151Z"
   },
   {
    "duration": 9,
    "start_time": "2023-08-14T14:54:47.159Z"
   },
   {
    "duration": 14,
    "start_time": "2023-08-14T14:55:00.285Z"
   },
   {
    "duration": 1024,
    "start_time": "2023-08-14T14:55:01.805Z"
   },
   {
    "duration": 9,
    "start_time": "2023-08-14T14:56:05.478Z"
   },
   {
    "duration": 18,
    "start_time": "2023-08-14T14:57:43.101Z"
   },
   {
    "duration": 406,
    "start_time": "2023-08-14T14:58:35.982Z"
   },
   {
    "duration": 403,
    "start_time": "2023-08-14T14:58:37.750Z"
   },
   {
    "duration": 1613,
    "start_time": "2023-08-14T15:05:20.594Z"
   },
   {
    "duration": 225,
    "start_time": "2023-08-14T15:05:22.209Z"
   },
   {
    "duration": 17,
    "start_time": "2023-08-14T15:05:22.435Z"
   },
   {
    "duration": 22,
    "start_time": "2023-08-14T15:05:22.453Z"
   },
   {
    "duration": 26,
    "start_time": "2023-08-14T15:05:22.477Z"
   },
   {
    "duration": 28,
    "start_time": "2023-08-14T15:05:22.505Z"
   },
   {
    "duration": 35,
    "start_time": "2023-08-14T15:05:22.535Z"
   },
   {
    "duration": 28,
    "start_time": "2023-08-14T15:05:22.571Z"
   },
   {
    "duration": 27,
    "start_time": "2023-08-14T15:05:22.601Z"
   },
   {
    "duration": 15,
    "start_time": "2023-08-14T15:05:22.629Z"
   },
   {
    "duration": 55,
    "start_time": "2023-08-14T15:05:22.646Z"
   },
   {
    "duration": 6,
    "start_time": "2023-08-14T15:05:22.703Z"
   },
   {
    "duration": 35,
    "start_time": "2023-08-14T15:05:22.710Z"
   },
   {
    "duration": 6,
    "start_time": "2023-08-14T15:05:22.748Z"
   },
   {
    "duration": 18,
    "start_time": "2023-08-14T15:05:22.756Z"
   },
   {
    "duration": 32,
    "start_time": "2023-08-14T15:05:22.776Z"
   },
   {
    "duration": 45,
    "start_time": "2023-08-14T15:05:22.810Z"
   },
   {
    "duration": 24,
    "start_time": "2023-08-14T15:05:22.857Z"
   },
   {
    "duration": 21,
    "start_time": "2023-08-14T15:05:22.883Z"
   },
   {
    "duration": 30,
    "start_time": "2023-08-14T15:05:22.907Z"
   },
   {
    "duration": 16,
    "start_time": "2023-08-14T15:05:22.939Z"
   },
   {
    "duration": 48,
    "start_time": "2023-08-14T15:05:22.957Z"
   },
   {
    "duration": 62,
    "start_time": "2023-08-14T15:05:23.007Z"
   },
   {
    "duration": 820,
    "start_time": "2023-08-14T15:05:23.072Z"
   },
   {
    "duration": 22,
    "start_time": "2023-08-14T15:05:23.894Z"
   },
   {
    "duration": 68,
    "start_time": "2023-08-14T15:05:23.919Z"
   },
   {
    "duration": 43,
    "start_time": "2023-08-14T15:05:23.989Z"
   },
   {
    "duration": 9,
    "start_time": "2023-08-14T15:05:24.034Z"
   },
   {
    "duration": 37,
    "start_time": "2023-08-14T15:05:24.045Z"
   },
   {
    "duration": 46,
    "start_time": "2023-08-14T15:05:24.084Z"
   },
   {
    "duration": 6,
    "start_time": "2023-08-14T15:05:24.132Z"
   },
   {
    "duration": 36,
    "start_time": "2023-08-14T15:05:24.140Z"
   },
   {
    "duration": 9,
    "start_time": "2023-08-14T15:05:24.178Z"
   },
   {
    "duration": 37,
    "start_time": "2023-08-14T15:05:24.189Z"
   },
   {
    "duration": 35,
    "start_time": "2023-08-14T15:05:24.228Z"
   },
   {
    "duration": 446,
    "start_time": "2023-08-14T15:05:24.265Z"
   },
   {
    "duration": 10,
    "start_time": "2023-08-14T15:05:24.713Z"
   },
   {
    "duration": 63,
    "start_time": "2023-08-14T15:05:24.725Z"
   },
   {
    "duration": 127,
    "start_time": "2023-08-14T15:05:24.789Z"
   },
   {
    "duration": 34,
    "start_time": "2023-08-14T15:05:24.918Z"
   },
   {
    "duration": 51,
    "start_time": "2023-08-14T15:05:24.957Z"
   },
   {
    "duration": 177,
    "start_time": "2023-08-14T15:05:25.009Z"
   },
   {
    "duration": 9,
    "start_time": "2023-08-14T15:05:25.188Z"
   },
   {
    "duration": 232,
    "start_time": "2023-08-14T15:05:25.198Z"
   },
   {
    "duration": 2,
    "start_time": "2023-08-14T15:05:25.432Z"
   },
   {
    "duration": 35,
    "start_time": "2023-08-14T15:05:25.436Z"
   },
   {
    "duration": 79,
    "start_time": "2023-08-14T15:05:25.472Z"
   },
   {
    "duration": 32,
    "start_time": "2023-08-14T15:05:25.552Z"
   },
   {
    "duration": 51,
    "start_time": "2023-08-14T15:05:25.585Z"
   },
   {
    "duration": 5,
    "start_time": "2023-08-14T15:05:25.637Z"
   },
   {
    "duration": 34,
    "start_time": "2023-08-14T15:05:25.644Z"
   },
   {
    "duration": 191,
    "start_time": "2023-08-14T15:05:25.680Z"
   },
   {
    "duration": 14,
    "start_time": "2023-08-14T15:05:25.873Z"
   },
   {
    "duration": 33,
    "start_time": "2023-08-14T15:05:25.889Z"
   },
   {
    "duration": 58,
    "start_time": "2023-08-14T15:05:25.924Z"
   },
   {
    "duration": 61,
    "start_time": "2023-08-14T15:05:25.984Z"
   },
   {
    "duration": 14,
    "start_time": "2023-08-14T15:05:26.047Z"
   },
   {
    "duration": 959,
    "start_time": "2023-08-14T15:05:26.062Z"
   },
   {
    "duration": 392,
    "start_time": "2023-08-14T15:05:27.023Z"
   },
   {
    "duration": 109,
    "start_time": "2023-08-14T15:05:27.417Z"
   },
   {
    "duration": 8,
    "start_time": "2023-08-14T15:05:27.527Z"
   },
   {
    "duration": 27,
    "start_time": "2023-08-14T15:05:27.537Z"
   },
   {
    "duration": 16,
    "start_time": "2023-08-14T15:05:27.565Z"
   },
   {
    "duration": 49,
    "start_time": "2023-08-14T15:05:27.582Z"
   },
   {
    "duration": 41,
    "start_time": "2023-08-14T15:05:27.632Z"
   },
   {
    "duration": 17,
    "start_time": "2023-08-14T15:05:27.675Z"
   },
   {
    "duration": 17,
    "start_time": "2023-08-14T15:05:27.714Z"
   },
   {
    "duration": 13,
    "start_time": "2023-08-14T15:05:27.733Z"
   },
   {
    "duration": 37,
    "start_time": "2023-08-14T15:05:27.748Z"
   },
   {
    "duration": 401,
    "start_time": "2023-08-14T15:05:27.787Z"
   },
   {
    "duration": 393,
    "start_time": "2023-08-14T15:05:28.189Z"
   },
   {
    "duration": 3,
    "start_time": "2023-08-14T15:05:28.583Z"
   },
   {
    "duration": 8,
    "start_time": "2023-08-14T15:05:28.587Z"
   },
   {
    "duration": 17,
    "start_time": "2023-08-14T15:05:28.597Z"
   },
   {
    "duration": 5,
    "start_time": "2023-08-14T15:05:28.616Z"
   },
   {
    "duration": 27,
    "start_time": "2023-08-14T15:05:28.622Z"
   },
   {
    "duration": 50,
    "start_time": "2023-08-14T15:05:28.650Z"
   },
   {
    "duration": 20,
    "start_time": "2023-08-14T15:05:28.701Z"
   },
   {
    "duration": 3,
    "start_time": "2023-08-14T15:05:28.722Z"
   },
   {
    "duration": 25,
    "start_time": "2023-08-14T15:05:28.726Z"
   },
   {
    "duration": 8,
    "start_time": "2023-08-14T15:05:28.753Z"
   },
   {
    "duration": 6,
    "start_time": "2023-08-14T15:05:28.763Z"
   },
   {
    "duration": 21,
    "start_time": "2023-08-14T15:05:28.771Z"
   },
   {
    "duration": 115,
    "start_time": "2023-08-14T15:05:28.794Z"
   },
   {
    "duration": 45,
    "start_time": "2023-08-14T15:05:28.912Z"
   },
   {
    "duration": 5,
    "start_time": "2023-08-14T15:05:28.958Z"
   },
   {
    "duration": 26,
    "start_time": "2023-08-14T15:05:28.965Z"
   },
   {
    "duration": 6,
    "start_time": "2023-08-14T15:05:28.992Z"
   },
   {
    "duration": 27,
    "start_time": "2023-08-14T15:05:29.000Z"
   },
   {
    "duration": 19,
    "start_time": "2023-08-14T15:05:29.028Z"
   },
   {
    "duration": 36,
    "start_time": "2023-08-14T15:05:29.049Z"
   },
   {
    "duration": 927,
    "start_time": "2023-08-14T15:05:37.697Z"
   },
   {
    "duration": 15,
    "start_time": "2023-08-14T15:05:42.641Z"
   },
   {
    "duration": 975,
    "start_time": "2023-08-14T15:05:44.277Z"
   },
   {
    "duration": 13,
    "start_time": "2023-08-14T15:06:50.176Z"
   },
   {
    "duration": 1043,
    "start_time": "2023-08-14T15:06:51.877Z"
   },
   {
    "duration": 18,
    "start_time": "2023-08-14T15:09:53.339Z"
   },
   {
    "duration": 114,
    "start_time": "2023-08-14T15:12:49.452Z"
   },
   {
    "duration": 121,
    "start_time": "2023-08-14T15:13:34.445Z"
   },
   {
    "duration": 31,
    "start_time": "2023-08-14T15:13:41.150Z"
   },
   {
    "duration": 54,
    "start_time": "2023-08-14T15:16:29.951Z"
   },
   {
    "duration": 104,
    "start_time": "2023-08-14T15:16:46.424Z"
   },
   {
    "duration": 3,
    "start_time": "2023-08-14T15:16:58.206Z"
   },
   {
    "duration": 23,
    "start_time": "2023-08-14T15:17:22.684Z"
   },
   {
    "duration": 74,
    "start_time": "2023-08-14T15:18:33.855Z"
   },
   {
    "duration": 4,
    "start_time": "2023-08-14T15:19:29.336Z"
   },
   {
    "duration": 5,
    "start_time": "2023-08-14T15:19:30.584Z"
   },
   {
    "duration": 74,
    "start_time": "2023-08-14T15:25:53.846Z"
   },
   {
    "duration": 4,
    "start_time": "2023-08-14T15:25:56.482Z"
   },
   {
    "duration": 5,
    "start_time": "2023-08-14T15:26:00.197Z"
   },
   {
    "duration": 5,
    "start_time": "2023-08-14T15:26:16.932Z"
   },
   {
    "duration": 5,
    "start_time": "2023-08-14T15:26:18.109Z"
   },
   {
    "duration": 66,
    "start_time": "2023-08-14T15:28:06.706Z"
   },
   {
    "duration": 4,
    "start_time": "2023-08-14T15:28:09.107Z"
   },
   {
    "duration": 6,
    "start_time": "2023-08-14T15:28:11.211Z"
   },
   {
    "duration": 65,
    "start_time": "2023-08-14T15:29:27.088Z"
   },
   {
    "duration": 62,
    "start_time": "2023-08-14T15:29:30.147Z"
   },
   {
    "duration": 61,
    "start_time": "2023-08-14T15:29:40.234Z"
   },
   {
    "duration": 1565,
    "start_time": "2023-08-14T15:30:05.238Z"
   },
   {
    "duration": 237,
    "start_time": "2023-08-14T15:30:06.805Z"
   },
   {
    "duration": 16,
    "start_time": "2023-08-14T15:30:07.044Z"
   },
   {
    "duration": 12,
    "start_time": "2023-08-14T15:30:07.062Z"
   },
   {
    "duration": 24,
    "start_time": "2023-08-14T15:30:07.075Z"
   },
   {
    "duration": 33,
    "start_time": "2023-08-14T15:30:07.100Z"
   },
   {
    "duration": 35,
    "start_time": "2023-08-14T15:30:07.134Z"
   },
   {
    "duration": 18,
    "start_time": "2023-08-14T15:30:07.171Z"
   },
   {
    "duration": 28,
    "start_time": "2023-08-14T15:30:07.191Z"
   },
   {
    "duration": 11,
    "start_time": "2023-08-14T15:30:07.222Z"
   },
   {
    "duration": 34,
    "start_time": "2023-08-14T15:30:07.234Z"
   },
   {
    "duration": 22,
    "start_time": "2023-08-14T15:30:07.269Z"
   },
   {
    "duration": 50,
    "start_time": "2023-08-14T15:30:07.293Z"
   },
   {
    "duration": 12,
    "start_time": "2023-08-14T15:30:07.345Z"
   },
   {
    "duration": 27,
    "start_time": "2023-08-14T15:30:07.358Z"
   },
   {
    "duration": 19,
    "start_time": "2023-08-14T15:30:07.387Z"
   },
   {
    "duration": 37,
    "start_time": "2023-08-14T15:30:07.408Z"
   },
   {
    "duration": 7,
    "start_time": "2023-08-14T15:30:07.447Z"
   },
   {
    "duration": 17,
    "start_time": "2023-08-14T15:30:07.456Z"
   },
   {
    "duration": 32,
    "start_time": "2023-08-14T15:30:07.474Z"
   },
   {
    "duration": 17,
    "start_time": "2023-08-14T15:30:07.507Z"
   },
   {
    "duration": 25,
    "start_time": "2023-08-14T15:30:07.526Z"
   },
   {
    "duration": 24,
    "start_time": "2023-08-14T15:30:07.553Z"
   },
   {
    "duration": 877,
    "start_time": "2023-08-14T15:30:07.579Z"
   },
   {
    "duration": 15,
    "start_time": "2023-08-14T15:30:08.458Z"
   },
   {
    "duration": 66,
    "start_time": "2023-08-14T15:30:08.474Z"
   },
   {
    "duration": 42,
    "start_time": "2023-08-14T15:30:08.542Z"
   },
   {
    "duration": 6,
    "start_time": "2023-08-14T15:30:08.588Z"
   },
   {
    "duration": 43,
    "start_time": "2023-08-14T15:30:08.596Z"
   },
   {
    "duration": 44,
    "start_time": "2023-08-14T15:30:08.640Z"
   },
   {
    "duration": 27,
    "start_time": "2023-08-14T15:30:08.686Z"
   },
   {
    "duration": 22,
    "start_time": "2023-08-14T15:30:08.715Z"
   },
   {
    "duration": 8,
    "start_time": "2023-08-14T15:30:08.739Z"
   },
   {
    "duration": 11,
    "start_time": "2023-08-14T15:30:08.748Z"
   },
   {
    "duration": 22,
    "start_time": "2023-08-14T15:30:08.761Z"
   },
   {
    "duration": 440,
    "start_time": "2023-08-14T15:30:08.785Z"
   },
   {
    "duration": 12,
    "start_time": "2023-08-14T15:30:09.227Z"
   },
   {
    "duration": 38,
    "start_time": "2023-08-14T15:30:09.241Z"
   },
   {
    "duration": 4,
    "start_time": "2023-08-14T15:30:09.281Z"
   },
   {
    "duration": 13,
    "start_time": "2023-08-14T15:30:09.313Z"
   },
   {
    "duration": 7,
    "start_time": "2023-08-14T15:30:09.328Z"
   },
   {
    "duration": 11,
    "start_time": "2023-08-14T15:30:09.337Z"
   },
   {
    "duration": 12,
    "start_time": "2023-08-14T15:30:09.349Z"
   },
   {
    "duration": 346,
    "start_time": "2023-08-14T15:30:09.363Z"
   },
   {
    "duration": 3,
    "start_time": "2023-08-14T15:30:09.711Z"
   },
   {
    "duration": 16,
    "start_time": "2023-08-14T15:30:09.716Z"
   },
   {
    "duration": 56,
    "start_time": "2023-08-14T15:30:09.734Z"
   },
   {
    "duration": 38,
    "start_time": "2023-08-14T15:30:09.792Z"
   },
   {
    "duration": 37,
    "start_time": "2023-08-14T15:30:09.831Z"
   },
   {
    "duration": 5,
    "start_time": "2023-08-14T15:30:09.869Z"
   },
   {
    "duration": 11,
    "start_time": "2023-08-14T15:30:09.876Z"
   },
   {
    "duration": 195,
    "start_time": "2023-08-14T15:30:09.888Z"
   },
   {
    "duration": 14,
    "start_time": "2023-08-14T15:30:10.085Z"
   },
   {
    "duration": 26,
    "start_time": "2023-08-14T15:30:10.101Z"
   },
   {
    "duration": 69,
    "start_time": "2023-08-14T15:30:10.129Z"
   },
   {
    "duration": 56,
    "start_time": "2023-08-14T15:30:10.200Z"
   },
   {
    "duration": 13,
    "start_time": "2023-08-14T15:30:10.258Z"
   },
   {
    "duration": 45,
    "start_time": "2023-08-14T15:30:10.272Z"
   },
   {
    "duration": 1003,
    "start_time": "2023-08-14T15:30:10.319Z"
   },
   {
    "duration": 396,
    "start_time": "2023-08-14T15:30:11.324Z"
   },
   {
    "duration": 105,
    "start_time": "2023-08-14T15:30:11.722Z"
   },
   {
    "duration": 88,
    "start_time": "2023-08-14T15:30:11.829Z"
   },
   {
    "duration": 14,
    "start_time": "2023-08-14T15:30:11.919Z"
   },
   {
    "duration": 20,
    "start_time": "2023-08-14T15:30:11.935Z"
   },
   {
    "duration": 32,
    "start_time": "2023-08-14T15:30:11.957Z"
   },
   {
    "duration": 65,
    "start_time": "2023-08-14T15:30:11.990Z"
   },
   {
    "duration": 20,
    "start_time": "2023-08-14T15:30:12.056Z"
   },
   {
    "duration": 40,
    "start_time": "2023-08-14T15:30:12.077Z"
   },
   {
    "duration": 16,
    "start_time": "2023-08-14T15:30:12.119Z"
   },
   {
    "duration": 25,
    "start_time": "2023-08-14T15:30:12.137Z"
   },
   {
    "duration": 437,
    "start_time": "2023-08-14T15:30:12.164Z"
   },
   {
    "duration": 398,
    "start_time": "2023-08-14T15:30:12.603Z"
   },
   {
    "duration": 3,
    "start_time": "2023-08-14T15:30:13.003Z"
   },
   {
    "duration": 31,
    "start_time": "2023-08-14T15:30:13.012Z"
   },
   {
    "duration": 18,
    "start_time": "2023-08-14T15:30:13.045Z"
   },
   {
    "duration": 37,
    "start_time": "2023-08-14T15:30:13.065Z"
   },
   {
    "duration": 40,
    "start_time": "2023-08-14T15:30:13.104Z"
   },
   {
    "duration": 39,
    "start_time": "2023-08-14T15:30:13.146Z"
   },
   {
    "duration": 31,
    "start_time": "2023-08-14T15:30:13.186Z"
   },
   {
    "duration": 8,
    "start_time": "2023-08-14T15:30:13.219Z"
   },
   {
    "duration": 23,
    "start_time": "2023-08-14T15:30:13.229Z"
   },
   {
    "duration": 22,
    "start_time": "2023-08-14T15:30:13.259Z"
   },
   {
    "duration": 39,
    "start_time": "2023-08-14T15:30:13.283Z"
   },
   {
    "duration": 26,
    "start_time": "2023-08-14T15:30:13.324Z"
   },
   {
    "duration": 53,
    "start_time": "2023-08-14T15:30:13.352Z"
   },
   {
    "duration": 141,
    "start_time": "2023-08-14T15:30:13.407Z"
   },
   {
    "duration": 6,
    "start_time": "2023-08-14T15:30:13.550Z"
   },
   {
    "duration": 8,
    "start_time": "2023-08-14T15:30:13.557Z"
   },
   {
    "duration": 8,
    "start_time": "2023-08-14T15:30:13.567Z"
   },
   {
    "duration": 8,
    "start_time": "2023-08-14T15:30:13.577Z"
   },
   {
    "duration": 6,
    "start_time": "2023-08-14T15:30:13.587Z"
   },
   {
    "duration": 5,
    "start_time": "2023-08-14T15:30:13.594Z"
   },
   {
    "duration": 80,
    "start_time": "2023-08-14T15:30:13.600Z"
   },
   {
    "duration": 5,
    "start_time": "2023-08-14T15:30:13.682Z"
   },
   {
    "duration": 10,
    "start_time": "2023-08-14T15:30:13.688Z"
   },
   {
    "duration": 14,
    "start_time": "2023-08-14T15:33:21.578Z"
   },
   {
    "duration": 14,
    "start_time": "2023-08-14T15:33:22.879Z"
   },
   {
    "duration": 970,
    "start_time": "2023-08-14T15:33:23.951Z"
   },
   {
    "duration": 7047,
    "start_time": "2023-08-14T15:47:36.365Z"
   },
   {
    "duration": 263,
    "start_time": "2023-08-14T15:47:43.414Z"
   },
   {
    "duration": 16,
    "start_time": "2023-08-14T15:47:43.679Z"
   },
   {
    "duration": 12,
    "start_time": "2023-08-14T15:47:43.698Z"
   },
   {
    "duration": 12,
    "start_time": "2023-08-14T15:47:43.712Z"
   },
   {
    "duration": 46,
    "start_time": "2023-08-14T15:47:43.726Z"
   },
   {
    "duration": 4,
    "start_time": "2023-08-14T15:47:43.774Z"
   },
   {
    "duration": 13,
    "start_time": "2023-08-14T15:47:43.780Z"
   },
   {
    "duration": 30,
    "start_time": "2023-08-14T15:47:43.795Z"
   },
   {
    "duration": 13,
    "start_time": "2023-08-14T15:47:43.828Z"
   },
   {
    "duration": 43,
    "start_time": "2023-08-14T15:47:43.843Z"
   },
   {
    "duration": 9,
    "start_time": "2023-08-14T15:47:43.889Z"
   },
   {
    "duration": 141,
    "start_time": "2023-08-14T15:47:43.900Z"
   },
   {
    "duration": 8,
    "start_time": "2023-08-14T15:47:44.043Z"
   },
   {
    "duration": 11,
    "start_time": "2023-08-14T15:47:44.054Z"
   },
   {
    "duration": 7,
    "start_time": "2023-08-14T15:47:44.068Z"
   },
   {
    "duration": 26,
    "start_time": "2023-08-14T15:47:44.077Z"
   },
   {
    "duration": 10,
    "start_time": "2023-08-14T15:47:44.105Z"
   },
   {
    "duration": 6,
    "start_time": "2023-08-14T15:47:44.118Z"
   },
   {
    "duration": 46,
    "start_time": "2023-08-14T15:47:44.126Z"
   },
   {
    "duration": 6,
    "start_time": "2023-08-14T15:47:44.175Z"
   },
   {
    "duration": 24,
    "start_time": "2023-08-14T15:47:44.184Z"
   },
   {
    "duration": 15,
    "start_time": "2023-08-14T15:47:44.211Z"
   },
   {
    "duration": 894,
    "start_time": "2023-08-14T15:47:44.228Z"
   },
   {
    "duration": 14,
    "start_time": "2023-08-14T15:47:45.124Z"
   },
   {
    "duration": 65,
    "start_time": "2023-08-14T15:47:45.140Z"
   },
   {
    "duration": 44,
    "start_time": "2023-08-14T15:47:45.207Z"
   },
   {
    "duration": 7,
    "start_time": "2023-08-14T15:47:45.271Z"
   },
   {
    "duration": 23,
    "start_time": "2023-08-14T15:47:45.280Z"
   },
   {
    "duration": 70,
    "start_time": "2023-08-14T15:47:45.306Z"
   },
   {
    "duration": 9,
    "start_time": "2023-08-14T15:47:45.378Z"
   },
   {
    "duration": 22,
    "start_time": "2023-08-14T15:47:45.389Z"
   },
   {
    "duration": 10,
    "start_time": "2023-08-14T15:47:45.413Z"
   },
   {
    "duration": 10,
    "start_time": "2023-08-14T15:47:45.425Z"
   },
   {
    "duration": 50,
    "start_time": "2023-08-14T15:47:45.437Z"
   },
   {
    "duration": 422,
    "start_time": "2023-08-14T15:47:45.489Z"
   },
   {
    "duration": 10,
    "start_time": "2023-08-14T15:47:45.913Z"
   },
   {
    "duration": 53,
    "start_time": "2023-08-14T15:47:45.925Z"
   },
   {
    "duration": 4,
    "start_time": "2023-08-14T15:47:45.980Z"
   },
   {
    "duration": 17,
    "start_time": "2023-08-14T15:47:45.986Z"
   },
   {
    "duration": 14,
    "start_time": "2023-08-14T15:47:46.005Z"
   },
   {
    "duration": 13,
    "start_time": "2023-08-14T15:47:46.021Z"
   },
   {
    "duration": 36,
    "start_time": "2023-08-14T15:47:46.035Z"
   },
   {
    "duration": 317,
    "start_time": "2023-08-14T15:47:46.073Z"
   },
   {
    "duration": 3,
    "start_time": "2023-08-14T15:47:46.392Z"
   },
   {
    "duration": 9,
    "start_time": "2023-08-14T15:47:46.396Z"
   },
   {
    "duration": 66,
    "start_time": "2023-08-14T15:47:46.406Z"
   },
   {
    "duration": 34,
    "start_time": "2023-08-14T15:47:46.474Z"
   },
   {
    "duration": 57,
    "start_time": "2023-08-14T15:47:46.511Z"
   },
   {
    "duration": 6,
    "start_time": "2023-08-14T15:47:46.570Z"
   },
   {
    "duration": 9,
    "start_time": "2023-08-14T15:47:46.577Z"
   },
   {
    "duration": 204,
    "start_time": "2023-08-14T15:47:46.588Z"
   },
   {
    "duration": 21,
    "start_time": "2023-08-14T15:47:46.795Z"
   },
   {
    "duration": 16,
    "start_time": "2023-08-14T15:47:46.818Z"
   },
   {
    "duration": 81,
    "start_time": "2023-08-14T15:47:46.835Z"
   },
   {
    "duration": 69,
    "start_time": "2023-08-14T15:47:46.918Z"
   },
   {
    "duration": 14,
    "start_time": "2023-08-14T15:47:46.989Z"
   },
   {
    "duration": 28,
    "start_time": "2023-08-14T15:47:47.005Z"
   },
   {
    "duration": 1170,
    "start_time": "2023-08-14T15:47:47.035Z"
   },
   {
    "duration": 461,
    "start_time": "2023-08-14T15:47:48.206Z"
   },
   {
    "duration": 104,
    "start_time": "2023-08-14T15:47:48.669Z"
   },
   {
    "duration": 8,
    "start_time": "2023-08-14T15:47:48.775Z"
   },
   {
    "duration": 21,
    "start_time": "2023-08-14T15:47:48.785Z"
   },
   {
    "duration": 18,
    "start_time": "2023-08-14T15:47:48.808Z"
   },
   {
    "duration": 61,
    "start_time": "2023-08-14T15:47:48.829Z"
   },
   {
    "duration": 48,
    "start_time": "2023-08-14T15:47:48.892Z"
   },
   {
    "duration": 31,
    "start_time": "2023-08-14T15:47:48.941Z"
   },
   {
    "duration": 26,
    "start_time": "2023-08-14T15:47:48.974Z"
   },
   {
    "duration": 15,
    "start_time": "2023-08-14T15:47:49.001Z"
   },
   {
    "duration": 25,
    "start_time": "2023-08-14T15:47:49.018Z"
   },
   {
    "duration": 409,
    "start_time": "2023-08-14T15:47:49.066Z"
   },
   {
    "duration": 386,
    "start_time": "2023-08-14T15:47:49.477Z"
   },
   {
    "duration": 3,
    "start_time": "2023-08-14T15:47:49.867Z"
   },
   {
    "duration": 43,
    "start_time": "2023-08-14T15:47:49.872Z"
   },
   {
    "duration": 13,
    "start_time": "2023-08-14T15:47:49.917Z"
   },
   {
    "duration": 25,
    "start_time": "2023-08-14T15:47:49.932Z"
   },
   {
    "duration": 35,
    "start_time": "2023-08-14T15:47:49.959Z"
   },
   {
    "duration": 43,
    "start_time": "2023-08-14T15:47:49.996Z"
   },
   {
    "duration": 47,
    "start_time": "2023-08-14T15:47:50.042Z"
   },
   {
    "duration": 7,
    "start_time": "2023-08-14T15:47:50.091Z"
   },
   {
    "duration": 17,
    "start_time": "2023-08-14T15:47:50.100Z"
   },
   {
    "duration": 5,
    "start_time": "2023-08-14T15:47:50.125Z"
   },
   {
    "duration": 55,
    "start_time": "2023-08-14T15:47:50.132Z"
   },
   {
    "duration": 28,
    "start_time": "2023-08-14T15:47:50.189Z"
   },
   {
    "duration": 68,
    "start_time": "2023-08-14T15:47:50.218Z"
   },
   {
    "duration": 150,
    "start_time": "2023-08-14T15:47:50.288Z"
   },
   {
    "duration": 8,
    "start_time": "2023-08-14T15:47:50.440Z"
   },
   {
    "duration": 21,
    "start_time": "2023-08-14T15:47:50.467Z"
   },
   {
    "duration": 21,
    "start_time": "2023-08-14T15:47:50.491Z"
   },
   {
    "duration": 16,
    "start_time": "2023-08-14T15:47:50.514Z"
   },
   {
    "duration": 15,
    "start_time": "2023-08-14T15:47:50.532Z"
   },
   {
    "duration": 21,
    "start_time": "2023-08-14T15:47:50.550Z"
   },
   {
    "duration": 97,
    "start_time": "2023-08-14T15:47:50.573Z"
   },
   {
    "duration": 7,
    "start_time": "2023-08-14T15:47:50.672Z"
   },
   {
    "duration": 12,
    "start_time": "2023-08-14T15:47:50.680Z"
   },
   {
    "duration": 143,
    "start_time": "2023-08-14T15:50:01.625Z"
   },
   {
    "duration": 6,
    "start_time": "2023-08-14T15:50:03.319Z"
   },
   {
    "duration": 11,
    "start_time": "2023-08-14T15:50:05.028Z"
   },
   {
    "duration": 21353,
    "start_time": "2023-08-14T17:42:32.209Z"
   },
   {
    "duration": 25241,
    "start_time": "2023-08-14T17:43:02.673Z"
   },
   {
    "duration": 20509,
    "start_time": "2023-08-14T17:44:03.174Z"
   },
   {
    "duration": 1921,
    "start_time": "2023-08-14T17:45:49.047Z"
   },
   {
    "duration": 259,
    "start_time": "2023-08-14T17:45:50.974Z"
   },
   {
    "duration": 16,
    "start_time": "2023-08-14T17:45:51.236Z"
   },
   {
    "duration": 13,
    "start_time": "2023-08-14T17:45:51.267Z"
   },
   {
    "duration": 21,
    "start_time": "2023-08-14T17:45:51.283Z"
   },
   {
    "duration": 22,
    "start_time": "2023-08-14T17:45:51.305Z"
   },
   {
    "duration": 12,
    "start_time": "2023-08-14T17:45:51.329Z"
   },
   {
    "duration": 21,
    "start_time": "2023-08-14T17:45:51.343Z"
   },
   {
    "duration": 56,
    "start_time": "2023-08-14T17:45:51.366Z"
   },
   {
    "duration": 22,
    "start_time": "2023-08-14T17:45:51.424Z"
   },
   {
    "duration": 59,
    "start_time": "2023-08-14T17:45:51.448Z"
   },
   {
    "duration": 10,
    "start_time": "2023-08-14T17:45:51.509Z"
   },
   {
    "duration": 32,
    "start_time": "2023-08-14T17:45:51.521Z"
   },
   {
    "duration": 7,
    "start_time": "2023-08-14T17:45:51.556Z"
   },
   {
    "duration": 19,
    "start_time": "2023-08-14T17:45:51.565Z"
   },
   {
    "duration": 21,
    "start_time": "2023-08-14T17:45:51.587Z"
   },
   {
    "duration": 19,
    "start_time": "2023-08-14T17:45:51.610Z"
   },
   {
    "duration": 8,
    "start_time": "2023-08-14T17:45:51.630Z"
   },
   {
    "duration": 11,
    "start_time": "2023-08-14T17:45:51.640Z"
   },
   {
    "duration": 30,
    "start_time": "2023-08-14T17:45:51.653Z"
   },
   {
    "duration": 10,
    "start_time": "2023-08-14T17:45:51.685Z"
   },
   {
    "duration": 30,
    "start_time": "2023-08-14T17:45:51.698Z"
   },
   {
    "duration": 12,
    "start_time": "2023-08-14T17:45:51.730Z"
   },
   {
    "duration": 916,
    "start_time": "2023-08-14T17:45:51.744Z"
   },
   {
    "duration": 20,
    "start_time": "2023-08-14T17:45:52.662Z"
   },
   {
    "duration": 64,
    "start_time": "2023-08-14T17:45:52.684Z"
   },
   {
    "duration": 67,
    "start_time": "2023-08-14T17:45:52.749Z"
   },
   {
    "duration": 8,
    "start_time": "2023-08-14T17:45:52.819Z"
   },
   {
    "duration": 56,
    "start_time": "2023-08-14T17:45:52.830Z"
   },
   {
    "duration": 51,
    "start_time": "2023-08-14T17:45:52.893Z"
   },
   {
    "duration": 10,
    "start_time": "2023-08-14T17:45:52.947Z"
   },
   {
    "duration": 59,
    "start_time": "2023-08-14T17:45:52.959Z"
   },
   {
    "duration": 9,
    "start_time": "2023-08-14T17:45:53.020Z"
   },
   {
    "duration": 14,
    "start_time": "2023-08-14T17:45:53.031Z"
   },
   {
    "duration": 40,
    "start_time": "2023-08-14T17:45:53.046Z"
   },
   {
    "duration": 453,
    "start_time": "2023-08-14T17:45:53.090Z"
   },
   {
    "duration": 10,
    "start_time": "2023-08-14T17:45:53.544Z"
   },
   {
    "duration": 52,
    "start_time": "2023-08-14T17:45:53.556Z"
   },
   {
    "duration": 4,
    "start_time": "2023-08-14T17:45:53.610Z"
   },
   {
    "duration": 53,
    "start_time": "2023-08-14T17:45:53.616Z"
   },
   {
    "duration": 104,
    "start_time": "2023-08-14T17:45:53.675Z"
   },
   {
    "duration": 11,
    "start_time": "2023-08-14T17:45:53.783Z"
   },
   {
    "duration": 7,
    "start_time": "2023-08-14T17:45:53.796Z"
   },
   {
    "duration": 249,
    "start_time": "2023-08-14T17:45:53.805Z"
   },
   {
    "duration": 13,
    "start_time": "2023-08-14T17:45:54.056Z"
   },
   {
    "duration": 3,
    "start_time": "2023-08-14T17:45:54.072Z"
   },
   {
    "duration": 93,
    "start_time": "2023-08-14T17:45:54.080Z"
   },
   {
    "duration": 36,
    "start_time": "2023-08-14T17:45:54.174Z"
   },
   {
    "duration": 58,
    "start_time": "2023-08-14T17:45:54.212Z"
   },
   {
    "duration": 12,
    "start_time": "2023-08-14T17:45:54.272Z"
   },
   {
    "duration": 16,
    "start_time": "2023-08-14T17:45:54.286Z"
   },
   {
    "duration": 188,
    "start_time": "2023-08-14T17:45:54.304Z"
   },
   {
    "duration": 16,
    "start_time": "2023-08-14T17:45:54.494Z"
   },
   {
    "duration": 23,
    "start_time": "2023-08-14T17:45:54.511Z"
   },
   {
    "duration": 76,
    "start_time": "2023-08-14T17:45:54.536Z"
   },
   {
    "duration": 68,
    "start_time": "2023-08-14T17:45:54.613Z"
   },
   {
    "duration": 17,
    "start_time": "2023-08-14T17:45:54.683Z"
   },
   {
    "duration": 17,
    "start_time": "2023-08-14T17:45:54.701Z"
   },
   {
    "duration": 1071,
    "start_time": "2023-08-14T17:45:54.720Z"
   },
   {
    "duration": 495,
    "start_time": "2023-08-14T17:45:55.793Z"
   },
   {
    "duration": 116,
    "start_time": "2023-08-14T17:45:56.366Z"
   },
   {
    "duration": 8,
    "start_time": "2023-08-14T17:45:56.484Z"
   },
   {
    "duration": 18,
    "start_time": "2023-08-14T17:45:56.494Z"
   },
   {
    "duration": 35,
    "start_time": "2023-08-14T17:45:56.514Z"
   },
   {
    "duration": 52,
    "start_time": "2023-08-14T17:45:56.551Z"
   },
   {
    "duration": 43,
    "start_time": "2023-08-14T17:45:56.605Z"
   },
   {
    "duration": 33,
    "start_time": "2023-08-14T17:45:56.650Z"
   },
   {
    "duration": 26,
    "start_time": "2023-08-14T17:45:56.685Z"
   },
   {
    "duration": 16,
    "start_time": "2023-08-14T17:45:56.712Z"
   },
   {
    "duration": 44,
    "start_time": "2023-08-14T17:45:56.730Z"
   },
   {
    "duration": 411,
    "start_time": "2023-08-14T17:45:56.776Z"
   },
   {
    "duration": 399,
    "start_time": "2023-08-14T17:45:57.189Z"
   },
   {
    "duration": 4,
    "start_time": "2023-08-14T17:45:57.590Z"
   },
   {
    "duration": 12,
    "start_time": "2023-08-14T17:45:57.596Z"
   },
   {
    "duration": 6,
    "start_time": "2023-08-14T17:45:57.610Z"
   },
   {
    "duration": 8,
    "start_time": "2023-08-14T17:45:57.618Z"
   },
   {
    "duration": 35,
    "start_time": "2023-08-14T17:45:57.628Z"
   },
   {
    "duration": 34,
    "start_time": "2023-08-14T17:45:57.667Z"
   },
   {
    "duration": 19,
    "start_time": "2023-08-14T17:45:57.703Z"
   },
   {
    "duration": 3,
    "start_time": "2023-08-14T17:45:57.724Z"
   },
   {
    "duration": 15,
    "start_time": "2023-08-14T17:45:57.728Z"
   },
   {
    "duration": 38,
    "start_time": "2023-08-14T17:45:57.745Z"
   },
   {
    "duration": 3,
    "start_time": "2023-08-14T17:45:57.785Z"
   },
   {
    "duration": 17,
    "start_time": "2023-08-14T17:45:57.790Z"
   },
   {
    "duration": 134,
    "start_time": "2023-08-14T17:45:57.809Z"
   },
   {
    "duration": 55,
    "start_time": "2023-08-14T17:45:57.956Z"
   },
   {
    "duration": 6,
    "start_time": "2023-08-14T17:45:58.013Z"
   },
   {
    "duration": 9,
    "start_time": "2023-08-14T17:45:58.021Z"
   },
   {
    "duration": 5,
    "start_time": "2023-08-14T17:45:58.032Z"
   },
   {
    "duration": 7,
    "start_time": "2023-08-14T17:45:58.039Z"
   },
   {
    "duration": 22,
    "start_time": "2023-08-14T17:45:58.047Z"
   },
   {
    "duration": 8,
    "start_time": "2023-08-14T17:45:58.070Z"
   },
   {
    "duration": 67,
    "start_time": "2023-08-14T17:45:58.079Z"
   },
   {
    "duration": 5,
    "start_time": "2023-08-14T17:45:58.147Z"
   },
   {
    "duration": 16,
    "start_time": "2023-08-14T17:45:58.154Z"
   },
   {
    "duration": 38911,
    "start_time": "2023-08-14T17:45:58.172Z"
   },
   {
    "duration": 4,
    "start_time": "2023-08-14T17:51:39.751Z"
   },
   {
    "duration": 1753,
    "start_time": "2023-08-14T17:52:04.190Z"
   },
   {
    "duration": 707,
    "start_time": "2023-08-14T17:52:05.946Z"
   },
   {
    "duration": 28,
    "start_time": "2023-08-14T17:52:06.656Z"
   },
   {
    "duration": 18,
    "start_time": "2023-08-14T17:52:06.686Z"
   },
   {
    "duration": 17,
    "start_time": "2023-08-14T17:52:06.706Z"
   },
   {
    "duration": 36,
    "start_time": "2023-08-14T17:52:06.725Z"
   },
   {
    "duration": 16,
    "start_time": "2023-08-14T17:52:06.762Z"
   },
   {
    "duration": 7,
    "start_time": "2023-08-14T17:52:06.784Z"
   },
   {
    "duration": 34,
    "start_time": "2023-08-14T17:52:06.792Z"
   },
   {
    "duration": 17,
    "start_time": "2023-08-14T17:52:06.829Z"
   },
   {
    "duration": 42,
    "start_time": "2023-08-14T17:52:06.848Z"
   },
   {
    "duration": 8,
    "start_time": "2023-08-14T17:52:06.893Z"
   },
   {
    "duration": 49,
    "start_time": "2023-08-14T17:52:06.903Z"
   },
   {
    "duration": 7,
    "start_time": "2023-08-14T17:52:06.954Z"
   },
   {
    "duration": 35,
    "start_time": "2023-08-14T17:52:06.962Z"
   },
   {
    "duration": 23,
    "start_time": "2023-08-14T17:52:06.999Z"
   },
   {
    "duration": 24,
    "start_time": "2023-08-14T17:52:07.025Z"
   },
   {
    "duration": 8,
    "start_time": "2023-08-14T17:52:07.051Z"
   },
   {
    "duration": 25,
    "start_time": "2023-08-14T17:52:07.061Z"
   },
   {
    "duration": 26,
    "start_time": "2023-08-14T17:52:07.088Z"
   },
   {
    "duration": 12,
    "start_time": "2023-08-14T17:52:07.116Z"
   },
   {
    "duration": 53,
    "start_time": "2023-08-14T17:52:07.129Z"
   },
   {
    "duration": 15,
    "start_time": "2023-08-14T17:52:07.185Z"
   },
   {
    "duration": 10,
    "start_time": "2023-08-14T17:52:07.201Z"
   },
   {
    "duration": 36547,
    "start_time": "2023-08-14T17:52:07.213Z"
   },
   {
    "duration": 964,
    "start_time": "2023-08-14T17:52:43.763Z"
   },
   {
    "duration": 17,
    "start_time": "2023-08-14T17:52:44.729Z"
   },
   {
    "duration": 58,
    "start_time": "2023-08-14T17:52:44.768Z"
   },
   {
    "duration": 75,
    "start_time": "2023-08-14T17:52:44.829Z"
   },
   {
    "duration": 9,
    "start_time": "2023-08-14T17:52:44.906Z"
   },
   {
    "duration": 41,
    "start_time": "2023-08-14T17:52:44.916Z"
   },
   {
    "duration": 167,
    "start_time": "2023-08-14T17:52:44.959Z"
   },
   {
    "duration": 7,
    "start_time": "2023-08-14T17:52:45.129Z"
   },
   {
    "duration": 65,
    "start_time": "2023-08-14T17:52:45.138Z"
   },
   {
    "duration": 46,
    "start_time": "2023-08-14T17:52:45.205Z"
   },
   {
    "duration": 28,
    "start_time": "2023-08-14T17:52:45.253Z"
   },
   {
    "duration": 35,
    "start_time": "2023-08-14T17:52:45.285Z"
   },
   {
    "duration": 565,
    "start_time": "2023-08-14T17:52:45.322Z"
   },
   {
    "duration": 13,
    "start_time": "2023-08-14T17:52:45.889Z"
   },
   {
    "duration": 79,
    "start_time": "2023-08-14T17:52:45.904Z"
   },
   {
    "duration": 4,
    "start_time": "2023-08-14T17:52:45.985Z"
   },
   {
    "duration": 40,
    "start_time": "2023-08-14T17:52:45.995Z"
   },
   {
    "duration": 8,
    "start_time": "2023-08-14T17:52:46.038Z"
   },
   {
    "duration": 29,
    "start_time": "2023-08-14T17:52:46.050Z"
   },
   {
    "duration": 39,
    "start_time": "2023-08-14T17:52:46.085Z"
   },
   {
    "duration": 261,
    "start_time": "2023-08-14T17:52:46.126Z"
   },
   {
    "duration": 2,
    "start_time": "2023-08-14T17:52:46.391Z"
   },
   {
    "duration": 44,
    "start_time": "2023-08-14T17:52:46.396Z"
   },
   {
    "duration": 82,
    "start_time": "2023-08-14T17:52:46.443Z"
   },
   {
    "duration": 55,
    "start_time": "2023-08-14T17:52:46.528Z"
   },
   {
    "duration": 47,
    "start_time": "2023-08-14T17:52:46.585Z"
   },
   {
    "duration": 6,
    "start_time": "2023-08-14T17:52:46.634Z"
   },
   {
    "duration": 26,
    "start_time": "2023-08-14T17:52:46.641Z"
   },
   {
    "duration": 204,
    "start_time": "2023-08-14T17:52:46.679Z"
   },
   {
    "duration": 24,
    "start_time": "2023-08-14T17:52:46.886Z"
   },
   {
    "duration": 40,
    "start_time": "2023-08-14T17:52:46.913Z"
   },
   {
    "duration": 79,
    "start_time": "2023-08-14T17:52:46.955Z"
   },
   {
    "duration": 60,
    "start_time": "2023-08-14T17:52:47.036Z"
   },
   {
    "duration": 14,
    "start_time": "2023-08-14T17:52:47.097Z"
   },
   {
    "duration": 22,
    "start_time": "2023-08-14T17:52:47.114Z"
   },
   {
    "duration": 1135,
    "start_time": "2023-08-14T17:52:47.139Z"
   },
   {
    "duration": 491,
    "start_time": "2023-08-14T17:52:48.276Z"
   },
   {
    "duration": 100,
    "start_time": "2023-08-14T17:52:48.770Z"
   },
   {
    "duration": 16,
    "start_time": "2023-08-14T17:52:48.874Z"
   },
   {
    "duration": 14,
    "start_time": "2023-08-14T17:52:48.891Z"
   },
   {
    "duration": 25,
    "start_time": "2023-08-14T17:52:48.907Z"
   },
   {
    "duration": 64,
    "start_time": "2023-08-14T17:52:48.934Z"
   },
   {
    "duration": 50,
    "start_time": "2023-08-14T17:52:49.000Z"
   },
   {
    "duration": 38,
    "start_time": "2023-08-14T17:52:49.052Z"
   },
   {
    "duration": 48,
    "start_time": "2023-08-14T17:52:49.092Z"
   },
   {
    "duration": 16,
    "start_time": "2023-08-14T17:52:49.142Z"
   },
   {
    "duration": 56,
    "start_time": "2023-08-14T17:52:49.160Z"
   },
   {
    "duration": 441,
    "start_time": "2023-08-14T17:52:49.218Z"
   },
   {
    "duration": 626,
    "start_time": "2023-08-14T17:52:49.667Z"
   },
   {
    "duration": 3,
    "start_time": "2023-08-14T17:52:50.295Z"
   },
   {
    "duration": 30,
    "start_time": "2023-08-14T17:52:50.300Z"
   },
   {
    "duration": 18,
    "start_time": "2023-08-14T17:52:50.332Z"
   },
   {
    "duration": 30,
    "start_time": "2023-08-14T17:52:50.352Z"
   },
   {
    "duration": 27,
    "start_time": "2023-08-14T17:52:50.386Z"
   },
   {
    "duration": 35,
    "start_time": "2023-08-14T17:52:50.415Z"
   },
   {
    "duration": 33,
    "start_time": "2023-08-14T17:52:50.452Z"
   },
   {
    "duration": 3,
    "start_time": "2023-08-14T17:52:50.492Z"
   },
   {
    "duration": 40,
    "start_time": "2023-08-14T17:52:50.497Z"
   },
   {
    "duration": 16,
    "start_time": "2023-08-14T17:52:50.539Z"
   },
   {
    "duration": 22,
    "start_time": "2023-08-14T17:52:50.557Z"
   },
   {
    "duration": 6,
    "start_time": "2023-08-14T17:52:50.581Z"
   },
   {
    "duration": 70,
    "start_time": "2023-08-14T17:52:50.589Z"
   },
   {
    "duration": 72,
    "start_time": "2023-08-14T17:52:50.661Z"
   },
   {
    "duration": 15,
    "start_time": "2023-08-14T17:52:50.734Z"
   },
   {
    "duration": 36,
    "start_time": "2023-08-14T17:52:50.752Z"
   },
   {
    "duration": 11,
    "start_time": "2023-08-14T17:52:50.790Z"
   },
   {
    "duration": 13,
    "start_time": "2023-08-14T17:52:50.803Z"
   },
   {
    "duration": 14,
    "start_time": "2023-08-14T17:52:50.818Z"
   },
   {
    "duration": 15,
    "start_time": "2023-08-14T17:52:50.834Z"
   },
   {
    "duration": 96,
    "start_time": "2023-08-14T17:52:50.851Z"
   },
   {
    "duration": 6,
    "start_time": "2023-08-14T17:52:50.949Z"
   },
   {
    "duration": 16,
    "start_time": "2023-08-14T17:52:50.957Z"
   },
   {
    "duration": 27,
    "start_time": "2023-08-14T18:38:07.463Z"
   },
   {
    "duration": 23,
    "start_time": "2023-08-14T18:39:07.914Z"
   },
   {
    "duration": 3,
    "start_time": "2023-08-14T18:39:10.177Z"
   },
   {
    "duration": 139,
    "start_time": "2023-08-14T18:39:12.330Z"
   },
   {
    "duration": 1748,
    "start_time": "2023-08-14T18:39:21.710Z"
   },
   {
    "duration": 247,
    "start_time": "2023-08-14T18:39:23.460Z"
   },
   {
    "duration": 16,
    "start_time": "2023-08-14T18:39:23.709Z"
   },
   {
    "duration": 88,
    "start_time": "2023-08-14T18:39:23.727Z"
   },
   {
    "duration": 84,
    "start_time": "2023-08-14T18:39:23.817Z"
   },
   {
    "duration": 29,
    "start_time": "2023-08-14T18:39:23.903Z"
   },
   {
    "duration": 5,
    "start_time": "2023-08-14T18:39:23.934Z"
   },
   {
    "duration": 11,
    "start_time": "2023-08-14T18:39:23.941Z"
   },
   {
    "duration": 33,
    "start_time": "2023-08-14T18:39:23.954Z"
   },
   {
    "duration": 22,
    "start_time": "2023-08-14T18:39:23.991Z"
   },
   {
    "duration": 21,
    "start_time": "2023-08-14T18:39:24.015Z"
   },
   {
    "duration": 9,
    "start_time": "2023-08-14T18:39:24.039Z"
   },
   {
    "duration": 56,
    "start_time": "2023-08-14T18:39:24.050Z"
   },
   {
    "duration": 9,
    "start_time": "2023-08-14T18:39:24.108Z"
   },
   {
    "duration": 9,
    "start_time": "2023-08-14T18:39:24.119Z"
   },
   {
    "duration": 15,
    "start_time": "2023-08-14T18:39:24.130Z"
   },
   {
    "duration": 50,
    "start_time": "2023-08-14T18:39:24.147Z"
   },
   {
    "duration": 11,
    "start_time": "2023-08-14T18:39:24.200Z"
   },
   {
    "duration": 5,
    "start_time": "2023-08-14T18:39:24.213Z"
   },
   {
    "duration": 24,
    "start_time": "2023-08-14T18:39:24.221Z"
   },
   {
    "duration": 22,
    "start_time": "2023-08-14T18:39:24.248Z"
   },
   {
    "duration": 21,
    "start_time": "2023-08-14T18:39:24.272Z"
   },
   {
    "duration": 17,
    "start_time": "2023-08-14T18:39:24.296Z"
   },
   {
    "duration": 52,
    "start_time": "2023-08-14T18:39:24.315Z"
   },
   {
    "duration": 21,
    "start_time": "2023-08-14T18:39:24.369Z"
   },
   {
    "duration": 9,
    "start_time": "2023-08-14T18:39:24.391Z"
   },
   {
    "duration": 16,
    "start_time": "2023-08-14T18:39:24.401Z"
   },
   {
    "duration": 36294,
    "start_time": "2023-08-14T18:39:24.421Z"
   },
   {
    "duration": 1037,
    "start_time": "2023-08-14T18:40:00.719Z"
   },
   {
    "duration": 24,
    "start_time": "2023-08-14T18:40:01.758Z"
   },
   {
    "duration": 129,
    "start_time": "2023-08-14T18:40:01.784Z"
   },
   {
    "duration": 78,
    "start_time": "2023-08-14T18:40:01.916Z"
   },
   {
    "duration": 31,
    "start_time": "2023-08-14T18:40:01.996Z"
   },
   {
    "duration": 64,
    "start_time": "2023-08-14T18:40:02.029Z"
   },
   {
    "duration": 120,
    "start_time": "2023-08-14T18:40:02.095Z"
   },
   {
    "duration": 13,
    "start_time": "2023-08-14T18:40:02.217Z"
   },
   {
    "duration": 94,
    "start_time": "2023-08-14T18:40:02.232Z"
   },
   {
    "duration": 60,
    "start_time": "2023-08-14T18:40:02.328Z"
   },
   {
    "duration": 40,
    "start_time": "2023-08-14T18:40:02.390Z"
   },
   {
    "duration": 88,
    "start_time": "2023-08-14T18:40:02.433Z"
   },
   {
    "duration": 511,
    "start_time": "2023-08-14T18:40:02.522Z"
   },
   {
    "duration": 14,
    "start_time": "2023-08-14T18:40:03.036Z"
   },
   {
    "duration": 64,
    "start_time": "2023-08-14T18:40:03.052Z"
   },
   {
    "duration": 4,
    "start_time": "2023-08-14T18:40:03.117Z"
   },
   {
    "duration": 39,
    "start_time": "2023-08-14T18:40:03.123Z"
   },
   {
    "duration": 71,
    "start_time": "2023-08-14T18:40:03.164Z"
   },
   {
    "duration": 52,
    "start_time": "2023-08-14T18:40:03.238Z"
   },
   {
    "duration": 35,
    "start_time": "2023-08-14T18:40:03.292Z"
   },
   {
    "duration": 236,
    "start_time": "2023-08-14T18:40:03.329Z"
   },
   {
    "duration": 2,
    "start_time": "2023-08-14T18:40:03.568Z"
   },
   {
    "duration": 26,
    "start_time": "2023-08-14T18:40:03.573Z"
   },
   {
    "duration": 68,
    "start_time": "2023-08-14T18:40:03.601Z"
   },
   {
    "duration": 32,
    "start_time": "2023-08-14T18:40:03.671Z"
   },
   {
    "duration": 44,
    "start_time": "2023-08-14T18:40:03.705Z"
   },
   {
    "duration": 7,
    "start_time": "2023-08-14T18:40:03.767Z"
   },
   {
    "duration": 16,
    "start_time": "2023-08-14T18:40:03.776Z"
   },
   {
    "duration": 237,
    "start_time": "2023-08-14T18:40:03.794Z"
   },
   {
    "duration": 25,
    "start_time": "2023-08-14T18:40:04.033Z"
   },
   {
    "duration": 22,
    "start_time": "2023-08-14T18:40:04.068Z"
   },
   {
    "duration": 81,
    "start_time": "2023-08-14T18:40:04.093Z"
   },
   {
    "duration": 64,
    "start_time": "2023-08-14T18:40:04.177Z"
   },
   {
    "duration": 30,
    "start_time": "2023-08-14T18:40:04.244Z"
   },
   {
    "duration": 19,
    "start_time": "2023-08-14T18:40:04.275Z"
   },
   {
    "duration": 1099,
    "start_time": "2023-08-14T18:40:04.296Z"
   },
   {
    "duration": 374,
    "start_time": "2023-08-14T18:40:05.397Z"
   },
   {
    "duration": 99,
    "start_time": "2023-08-14T18:40:05.779Z"
   },
   {
    "duration": 129,
    "start_time": "2023-08-14T18:40:05.880Z"
   },
   {
    "duration": 52,
    "start_time": "2023-08-14T18:40:06.011Z"
   },
   {
    "duration": 29,
    "start_time": "2023-08-14T18:40:06.065Z"
   },
   {
    "duration": 58,
    "start_time": "2023-08-14T18:40:06.096Z"
   },
   {
    "duration": 103,
    "start_time": "2023-08-14T18:40:06.156Z"
   },
   {
    "duration": 28,
    "start_time": "2023-08-14T18:40:06.261Z"
   },
   {
    "duration": 31,
    "start_time": "2023-08-14T18:40:06.290Z"
   },
   {
    "duration": 51,
    "start_time": "2023-08-14T18:40:06.323Z"
   },
   {
    "duration": 59,
    "start_time": "2023-08-14T18:40:06.376Z"
   },
   {
    "duration": 439,
    "start_time": "2023-08-14T18:40:06.438Z"
   },
   {
    "duration": 559,
    "start_time": "2023-08-14T18:40:06.879Z"
   },
   {
    "duration": 3,
    "start_time": "2023-08-14T18:40:07.440Z"
   },
   {
    "duration": 19,
    "start_time": "2023-08-14T18:40:07.445Z"
   },
   {
    "duration": 5,
    "start_time": "2023-08-14T18:40:07.466Z"
   },
   {
    "duration": 18,
    "start_time": "2023-08-14T18:40:07.474Z"
   },
   {
    "duration": 19,
    "start_time": "2023-08-14T18:40:07.499Z"
   },
   {
    "duration": 47,
    "start_time": "2023-08-14T18:40:07.520Z"
   },
   {
    "duration": 22,
    "start_time": "2023-08-14T18:40:07.569Z"
   },
   {
    "duration": 2,
    "start_time": "2023-08-14T18:40:07.593Z"
   },
   {
    "duration": 5,
    "start_time": "2023-08-14T18:40:07.597Z"
   },
   {
    "duration": 17,
    "start_time": "2023-08-14T18:40:07.604Z"
   },
   {
    "duration": 7,
    "start_time": "2023-08-14T18:40:07.622Z"
   },
   {
    "duration": 13,
    "start_time": "2023-08-14T18:40:07.630Z"
   },
   {
    "duration": 61,
    "start_time": "2023-08-14T18:40:07.644Z"
   },
   {
    "duration": 78,
    "start_time": "2023-08-14T18:40:07.707Z"
   },
   {
    "duration": 7,
    "start_time": "2023-08-14T18:40:07.788Z"
   },
   {
    "duration": 23,
    "start_time": "2023-08-14T18:40:07.797Z"
   },
   {
    "duration": 13,
    "start_time": "2023-08-14T18:40:07.823Z"
   },
   {
    "duration": 24,
    "start_time": "2023-08-14T18:40:07.838Z"
   },
   {
    "duration": 21,
    "start_time": "2023-08-14T18:40:07.864Z"
   },
   {
    "duration": 18,
    "start_time": "2023-08-14T18:40:07.887Z"
   },
   {
    "duration": 104,
    "start_time": "2023-08-14T18:40:07.907Z"
   },
   {
    "duration": 6,
    "start_time": "2023-08-14T18:40:08.013Z"
   },
   {
    "duration": 25,
    "start_time": "2023-08-14T18:40:08.021Z"
   },
   {
    "duration": 1839,
    "start_time": "2023-08-14T21:09:23.930Z"
   },
   {
    "duration": 258,
    "start_time": "2023-08-14T21:09:25.771Z"
   },
   {
    "duration": 16,
    "start_time": "2023-08-14T21:09:26.031Z"
   },
   {
    "duration": 13,
    "start_time": "2023-08-14T21:09:26.058Z"
   },
   {
    "duration": 16,
    "start_time": "2023-08-14T21:09:26.072Z"
   },
   {
    "duration": 24,
    "start_time": "2023-08-14T21:09:26.090Z"
   },
   {
    "duration": 3,
    "start_time": "2023-08-14T21:09:26.116Z"
   },
   {
    "duration": 16,
    "start_time": "2023-08-14T21:09:26.120Z"
   },
   {
    "duration": 26,
    "start_time": "2023-08-14T21:09:26.138Z"
   },
   {
    "duration": 11,
    "start_time": "2023-08-14T21:09:26.166Z"
   },
   {
    "duration": 11,
    "start_time": "2023-08-14T21:09:26.178Z"
   },
   {
    "duration": 7,
    "start_time": "2023-08-14T21:09:26.191Z"
   },
   {
    "duration": 29,
    "start_time": "2023-08-14T21:09:26.200Z"
   },
   {
    "duration": 26,
    "start_time": "2023-08-14T21:09:26.231Z"
   },
   {
    "duration": 7,
    "start_time": "2023-08-14T21:09:26.259Z"
   },
   {
    "duration": 15,
    "start_time": "2023-08-14T21:09:26.268Z"
   },
   {
    "duration": 16,
    "start_time": "2023-08-14T21:09:26.285Z"
   },
   {
    "duration": 10,
    "start_time": "2023-08-14T21:09:26.303Z"
   },
   {
    "duration": 14,
    "start_time": "2023-08-14T21:09:26.314Z"
   },
   {
    "duration": 30,
    "start_time": "2023-08-14T21:09:26.329Z"
   },
   {
    "duration": 5,
    "start_time": "2023-08-14T21:09:26.360Z"
   },
   {
    "duration": 28,
    "start_time": "2023-08-14T21:09:26.367Z"
   },
   {
    "duration": 14,
    "start_time": "2023-08-14T21:09:26.397Z"
   },
   {
    "duration": 24,
    "start_time": "2023-08-14T21:09:26.412Z"
   },
   {
    "duration": 26,
    "start_time": "2023-08-14T21:09:26.438Z"
   },
   {
    "duration": 6,
    "start_time": "2023-08-14T21:09:26.465Z"
   },
   {
    "duration": 28,
    "start_time": "2023-08-14T21:09:26.472Z"
   },
   {
    "duration": 12013,
    "start_time": "2023-08-14T21:09:26.504Z"
   },
   {
    "duration": 997,
    "start_time": "2023-08-14T21:09:38.519Z"
   },
   {
    "duration": 12,
    "start_time": "2023-08-14T21:09:39.518Z"
   },
   {
    "duration": 84,
    "start_time": "2023-08-14T21:09:39.532Z"
   },
   {
    "duration": 49,
    "start_time": "2023-08-14T21:09:39.618Z"
   },
   {
    "duration": 6,
    "start_time": "2023-08-14T21:09:39.669Z"
   },
   {
    "duration": 27,
    "start_time": "2023-08-14T21:09:39.677Z"
   },
   {
    "duration": 57,
    "start_time": "2023-08-14T21:09:39.706Z"
   },
   {
    "duration": 8,
    "start_time": "2023-08-14T21:09:39.765Z"
   },
   {
    "duration": 21,
    "start_time": "2023-08-14T21:09:39.774Z"
   },
   {
    "duration": 9,
    "start_time": "2023-08-14T21:09:39.797Z"
   },
   {
    "duration": 9,
    "start_time": "2023-08-14T21:09:39.807Z"
   },
   {
    "duration": 43,
    "start_time": "2023-08-14T21:09:39.818Z"
   },
   {
    "duration": 459,
    "start_time": "2023-08-14T21:09:39.863Z"
   },
   {
    "duration": 38,
    "start_time": "2023-08-14T21:09:40.324Z"
   },
   {
    "duration": 40,
    "start_time": "2023-08-14T21:09:40.364Z"
   },
   {
    "duration": 3,
    "start_time": "2023-08-14T21:09:40.406Z"
   },
   {
    "duration": 46,
    "start_time": "2023-08-14T21:09:40.412Z"
   },
   {
    "duration": 13,
    "start_time": "2023-08-14T21:09:40.460Z"
   },
   {
    "duration": 15,
    "start_time": "2023-08-14T21:09:40.475Z"
   },
   {
    "duration": 9,
    "start_time": "2023-08-14T21:09:40.492Z"
   },
   {
    "duration": 212,
    "start_time": "2023-08-14T21:09:40.503Z"
   },
   {
    "duration": 2,
    "start_time": "2023-08-14T21:09:40.716Z"
   },
   {
    "duration": 11,
    "start_time": "2023-08-14T21:09:40.720Z"
   },
   {
    "duration": 64,
    "start_time": "2023-08-14T21:09:40.733Z"
   },
   {
    "duration": 30,
    "start_time": "2023-08-14T21:09:40.799Z"
   },
   {
    "duration": 50,
    "start_time": "2023-08-14T21:09:40.831Z"
   },
   {
    "duration": 7,
    "start_time": "2023-08-14T21:09:40.882Z"
   },
   {
    "duration": 13,
    "start_time": "2023-08-14T21:09:40.890Z"
   },
   {
    "duration": 191,
    "start_time": "2023-08-14T21:09:40.905Z"
   },
   {
    "duration": 14,
    "start_time": "2023-08-14T21:09:41.098Z"
   },
   {
    "duration": 14,
    "start_time": "2023-08-14T21:09:41.113Z"
   },
   {
    "duration": 69,
    "start_time": "2023-08-14T21:09:41.128Z"
   },
   {
    "duration": 75,
    "start_time": "2023-08-14T21:09:41.199Z"
   },
   {
    "duration": 12,
    "start_time": "2023-08-14T21:09:41.276Z"
   },
   {
    "duration": 12,
    "start_time": "2023-08-14T21:09:41.290Z"
   },
   {
    "duration": 1054,
    "start_time": "2023-08-14T21:09:41.304Z"
   },
   {
    "duration": 397,
    "start_time": "2023-08-14T21:09:42.360Z"
   },
   {
    "duration": 104,
    "start_time": "2023-08-14T21:09:42.759Z"
   },
   {
    "duration": 8,
    "start_time": "2023-08-14T21:09:42.865Z"
   },
   {
    "duration": 14,
    "start_time": "2023-08-14T21:09:42.876Z"
   },
   {
    "duration": 21,
    "start_time": "2023-08-14T21:09:42.892Z"
   },
   {
    "duration": 62,
    "start_time": "2023-08-14T21:09:42.915Z"
   },
   {
    "duration": 48,
    "start_time": "2023-08-14T21:09:42.979Z"
   },
   {
    "duration": 38,
    "start_time": "2023-08-14T21:09:43.029Z"
   },
   {
    "duration": 19,
    "start_time": "2023-08-14T21:09:43.069Z"
   },
   {
    "duration": 16,
    "start_time": "2023-08-14T21:09:43.090Z"
   },
   {
    "duration": 49,
    "start_time": "2023-08-14T21:09:43.107Z"
   },
   {
    "duration": 381,
    "start_time": "2023-08-14T21:09:43.158Z"
   },
   {
    "duration": 501,
    "start_time": "2023-08-14T21:09:43.541Z"
   },
   {
    "duration": 3,
    "start_time": "2023-08-14T21:09:44.044Z"
   },
   {
    "duration": 21,
    "start_time": "2023-08-14T21:09:44.056Z"
   },
   {
    "duration": 14,
    "start_time": "2023-08-14T21:09:44.079Z"
   },
   {
    "duration": 9,
    "start_time": "2023-08-14T21:09:44.094Z"
   },
   {
    "duration": 23,
    "start_time": "2023-08-14T21:09:44.108Z"
   },
   {
    "duration": 31,
    "start_time": "2023-08-14T21:09:44.132Z"
   },
   {
    "duration": 21,
    "start_time": "2023-08-14T21:09:44.165Z"
   },
   {
    "duration": 7,
    "start_time": "2023-08-14T21:09:44.189Z"
   },
   {
    "duration": 11,
    "start_time": "2023-08-14T21:09:44.198Z"
   },
   {
    "duration": 5,
    "start_time": "2023-08-14T21:09:44.210Z"
   },
   {
    "duration": 6,
    "start_time": "2023-08-14T21:09:44.217Z"
   },
   {
    "duration": 7,
    "start_time": "2023-08-14T21:09:44.225Z"
   },
   {
    "duration": 49,
    "start_time": "2023-08-14T21:09:44.234Z"
   },
   {
    "duration": 50,
    "start_time": "2023-08-14T21:09:44.285Z"
   },
   {
    "duration": 22,
    "start_time": "2023-08-14T21:09:44.337Z"
   },
   {
    "duration": 18,
    "start_time": "2023-08-14T21:09:44.361Z"
   },
   {
    "duration": 5,
    "start_time": "2023-08-14T21:09:44.380Z"
   },
   {
    "duration": 10,
    "start_time": "2023-08-14T21:09:44.387Z"
   },
   {
    "duration": 6,
    "start_time": "2023-08-14T21:09:44.399Z"
   },
   {
    "duration": 5,
    "start_time": "2023-08-14T21:09:44.407Z"
   },
   {
    "duration": 81,
    "start_time": "2023-08-14T21:09:44.414Z"
   },
   {
    "duration": 5,
    "start_time": "2023-08-14T21:09:44.497Z"
   },
   {
    "duration": 16,
    "start_time": "2023-08-14T21:09:44.504Z"
   },
   {
    "duration": 18,
    "start_time": "2023-08-14T21:12:07.150Z"
   },
   {
    "duration": 57,
    "start_time": "2023-08-15T13:27:07.000Z"
   },
   {
    "duration": 1795,
    "start_time": "2023-08-15T13:27:12.385Z"
   },
   {
    "duration": 318,
    "start_time": "2023-08-15T13:27:14.182Z"
   },
   {
    "duration": 14,
    "start_time": "2023-08-15T13:27:14.502Z"
   },
   {
    "duration": 12,
    "start_time": "2023-08-15T13:27:14.518Z"
   },
   {
    "duration": 11,
    "start_time": "2023-08-15T13:27:14.532Z"
   },
   {
    "duration": 23,
    "start_time": "2023-08-15T13:27:14.560Z"
   },
   {
    "duration": 4,
    "start_time": "2023-08-15T13:27:14.585Z"
   },
   {
    "duration": 10,
    "start_time": "2023-08-15T13:27:14.590Z"
   },
   {
    "duration": 27,
    "start_time": "2023-08-15T13:27:14.601Z"
   },
   {
    "duration": 12,
    "start_time": "2023-08-15T13:27:14.631Z"
   },
   {
    "duration": 33,
    "start_time": "2023-08-15T13:27:14.644Z"
   },
   {
    "duration": 24,
    "start_time": "2023-08-15T13:27:14.678Z"
   },
   {
    "duration": 29,
    "start_time": "2023-08-15T13:27:14.704Z"
   },
   {
    "duration": 6,
    "start_time": "2023-08-15T13:27:14.735Z"
   },
   {
    "duration": 28,
    "start_time": "2023-08-15T13:27:14.743Z"
   },
   {
    "duration": 7,
    "start_time": "2023-08-15T13:27:14.773Z"
   },
   {
    "duration": 17,
    "start_time": "2023-08-15T13:27:14.782Z"
   },
   {
    "duration": 7,
    "start_time": "2023-08-15T13:27:14.801Z"
   },
   {
    "duration": 4,
    "start_time": "2023-08-15T13:27:14.810Z"
   },
   {
    "duration": 16,
    "start_time": "2023-08-15T13:27:14.815Z"
   },
   {
    "duration": 36,
    "start_time": "2023-08-15T13:27:14.832Z"
   },
   {
    "duration": 16,
    "start_time": "2023-08-15T13:27:14.870Z"
   },
   {
    "duration": 13,
    "start_time": "2023-08-15T13:27:14.888Z"
   },
   {
    "duration": 26,
    "start_time": "2023-08-15T13:27:14.903Z"
   },
   {
    "duration": 36,
    "start_time": "2023-08-15T13:27:14.931Z"
   },
   {
    "duration": 3,
    "start_time": "2023-08-15T13:27:14.969Z"
   },
   {
    "duration": 15,
    "start_time": "2023-08-15T13:27:14.974Z"
   },
   {
    "duration": 12,
    "start_time": "2023-08-15T13:27:14.993Z"
   },
   {
    "duration": 864,
    "start_time": "2023-08-15T13:27:15.007Z"
   },
   {
    "duration": 13,
    "start_time": "2023-08-15T13:27:15.873Z"
   },
   {
    "duration": 52,
    "start_time": "2023-08-15T13:27:15.888Z"
   },
   {
    "duration": 61,
    "start_time": "2023-08-15T13:27:15.941Z"
   },
   {
    "duration": 6,
    "start_time": "2023-08-15T13:27:16.003Z"
   },
   {
    "duration": 35,
    "start_time": "2023-08-15T13:27:16.011Z"
   },
   {
    "duration": 52,
    "start_time": "2023-08-15T13:27:16.048Z"
   },
   {
    "duration": 8,
    "start_time": "2023-08-15T13:27:16.102Z"
   },
   {
    "duration": 21,
    "start_time": "2023-08-15T13:27:16.112Z"
   },
   {
    "duration": 33,
    "start_time": "2023-08-15T13:27:16.135Z"
   },
   {
    "duration": 10,
    "start_time": "2023-08-15T13:27:16.173Z"
   },
   {
    "duration": 31,
    "start_time": "2023-08-15T13:27:16.185Z"
   },
   {
    "duration": 553,
    "start_time": "2023-08-15T13:27:16.218Z"
   },
   {
    "duration": 10,
    "start_time": "2023-08-15T13:27:16.773Z"
   },
   {
    "duration": 39,
    "start_time": "2023-08-15T13:27:16.784Z"
   },
   {
    "duration": 3,
    "start_time": "2023-08-15T13:27:16.825Z"
   },
   {
    "duration": 34,
    "start_time": "2023-08-15T13:27:16.830Z"
   },
   {
    "duration": 8,
    "start_time": "2023-08-15T13:27:16.866Z"
   },
   {
    "duration": 17,
    "start_time": "2023-08-15T13:27:16.876Z"
   },
   {
    "duration": 15,
    "start_time": "2023-08-15T13:27:16.895Z"
   },
   {
    "duration": 215,
    "start_time": "2023-08-15T13:27:16.911Z"
   },
   {
    "duration": 2,
    "start_time": "2023-08-15T13:27:17.128Z"
   },
   {
    "duration": 14,
    "start_time": "2023-08-15T13:27:17.132Z"
   },
   {
    "duration": 64,
    "start_time": "2023-08-15T13:27:17.148Z"
   },
   {
    "duration": 29,
    "start_time": "2023-08-15T13:27:17.214Z"
   },
   {
    "duration": 47,
    "start_time": "2023-08-15T13:27:17.255Z"
   },
   {
    "duration": 6,
    "start_time": "2023-08-15T13:27:17.304Z"
   },
   {
    "duration": 19,
    "start_time": "2023-08-15T13:27:17.313Z"
   },
   {
    "duration": 207,
    "start_time": "2023-08-15T13:27:17.334Z"
   },
   {
    "duration": 28,
    "start_time": "2023-08-15T13:27:17.542Z"
   },
   {
    "duration": 14,
    "start_time": "2023-08-15T13:27:17.572Z"
   },
   {
    "duration": 52,
    "start_time": "2023-08-15T13:27:17.588Z"
   },
   {
    "duration": 68,
    "start_time": "2023-08-15T13:27:17.642Z"
   },
   {
    "duration": 13,
    "start_time": "2023-08-15T13:27:17.712Z"
   },
   {
    "duration": 42,
    "start_time": "2023-08-15T13:27:17.727Z"
   },
   {
    "duration": 1060,
    "start_time": "2023-08-15T13:27:17.771Z"
   },
   {
    "duration": 327,
    "start_time": "2023-08-15T13:27:18.832Z"
   },
   {
    "duration": 110,
    "start_time": "2023-08-15T13:27:19.161Z"
   },
   {
    "duration": 15,
    "start_time": "2023-08-15T13:27:19.273Z"
   },
   {
    "duration": 20,
    "start_time": "2023-08-15T13:27:19.289Z"
   },
   {
    "duration": 18,
    "start_time": "2023-08-15T13:27:19.311Z"
   },
   {
    "duration": 43,
    "start_time": "2023-08-15T13:27:19.331Z"
   },
   {
    "duration": 43,
    "start_time": "2023-08-15T13:27:19.376Z"
   },
   {
    "duration": 18,
    "start_time": "2023-08-15T13:27:19.421Z"
   },
   {
    "duration": 21,
    "start_time": "2023-08-15T13:27:19.458Z"
   },
   {
    "duration": 14,
    "start_time": "2023-08-15T13:27:19.481Z"
   },
   {
    "duration": 29,
    "start_time": "2023-08-15T13:27:19.497Z"
   },
   {
    "duration": 405,
    "start_time": "2023-08-15T13:27:19.527Z"
   },
   {
    "duration": 501,
    "start_time": "2023-08-15T13:27:19.934Z"
   },
   {
    "duration": 3,
    "start_time": "2023-08-15T13:27:20.436Z"
   },
   {
    "duration": 28,
    "start_time": "2023-08-15T13:27:20.441Z"
   },
   {
    "duration": 59,
    "start_time": "2023-08-15T13:27:20.471Z"
   },
   {
    "duration": 38,
    "start_time": "2023-08-15T13:27:20.532Z"
   },
   {
    "duration": 55,
    "start_time": "2023-08-15T13:27:20.576Z"
   },
   {
    "duration": 48,
    "start_time": "2023-08-15T13:27:20.632Z"
   },
   {
    "duration": 40,
    "start_time": "2023-08-15T13:27:20.682Z"
   },
   {
    "duration": 37,
    "start_time": "2023-08-15T13:27:20.723Z"
   },
   {
    "duration": 30,
    "start_time": "2023-08-15T13:27:20.762Z"
   },
   {
    "duration": 40,
    "start_time": "2023-08-15T13:27:20.794Z"
   },
   {
    "duration": 34,
    "start_time": "2023-08-15T13:27:20.836Z"
   },
   {
    "duration": 35,
    "start_time": "2023-08-15T13:27:20.871Z"
   },
   {
    "duration": 82,
    "start_time": "2023-08-15T13:27:20.908Z"
   },
   {
    "duration": 58,
    "start_time": "2023-08-15T13:27:20.991Z"
   },
   {
    "duration": 20,
    "start_time": "2023-08-15T13:27:21.051Z"
   },
   {
    "duration": 28,
    "start_time": "2023-08-15T13:27:21.073Z"
   },
   {
    "duration": 26,
    "start_time": "2023-08-15T13:27:21.103Z"
   },
   {
    "duration": 22,
    "start_time": "2023-08-15T13:27:21.131Z"
   },
   {
    "duration": 40,
    "start_time": "2023-08-15T13:27:21.163Z"
   },
   {
    "duration": 18,
    "start_time": "2023-08-15T13:27:21.205Z"
   },
   {
    "duration": 83,
    "start_time": "2023-08-15T13:27:21.225Z"
   },
   {
    "duration": 5,
    "start_time": "2023-08-15T13:27:21.309Z"
   },
   {
    "duration": 20,
    "start_time": "2023-08-15T13:27:21.315Z"
   },
   {
    "duration": 1784,
    "start_time": "2023-08-15T13:30:56.739Z"
   },
   {
    "duration": 256,
    "start_time": "2023-08-15T13:30:58.525Z"
   },
   {
    "duration": 16,
    "start_time": "2023-08-15T13:30:58.783Z"
   },
   {
    "duration": 17,
    "start_time": "2023-08-15T13:30:58.801Z"
   },
   {
    "duration": 18,
    "start_time": "2023-08-15T13:30:58.820Z"
   },
   {
    "duration": 43,
    "start_time": "2023-08-15T13:30:58.840Z"
   },
   {
    "duration": 4,
    "start_time": "2023-08-15T13:30:58.884Z"
   },
   {
    "duration": 6,
    "start_time": "2023-08-15T13:30:58.890Z"
   },
   {
    "duration": 26,
    "start_time": "2023-08-15T13:30:58.898Z"
   },
   {
    "duration": 29,
    "start_time": "2023-08-15T13:30:58.927Z"
   },
   {
    "duration": 31,
    "start_time": "2023-08-15T13:30:58.958Z"
   },
   {
    "duration": 11,
    "start_time": "2023-08-15T13:30:58.991Z"
   },
   {
    "duration": 32,
    "start_time": "2023-08-15T13:30:59.004Z"
   },
   {
    "duration": 24,
    "start_time": "2023-08-15T13:30:59.039Z"
   },
   {
    "duration": 25,
    "start_time": "2023-08-15T13:30:59.065Z"
   },
   {
    "duration": 9,
    "start_time": "2023-08-15T13:30:59.093Z"
   },
   {
    "duration": 21,
    "start_time": "2023-08-15T13:30:59.104Z"
   },
   {
    "duration": 10,
    "start_time": "2023-08-15T13:30:59.127Z"
   },
   {
    "duration": 20,
    "start_time": "2023-08-15T13:30:59.139Z"
   },
   {
    "duration": 20,
    "start_time": "2023-08-15T13:30:59.161Z"
   },
   {
    "duration": 45,
    "start_time": "2023-08-15T13:30:59.186Z"
   },
   {
    "duration": 23,
    "start_time": "2023-08-15T13:30:59.233Z"
   },
   {
    "duration": 14,
    "start_time": "2023-08-15T13:30:59.258Z"
   },
   {
    "duration": 39,
    "start_time": "2023-08-15T13:30:59.273Z"
   },
   {
    "duration": 19,
    "start_time": "2023-08-15T13:30:59.314Z"
   },
   {
    "duration": 4,
    "start_time": "2023-08-15T13:30:59.335Z"
   },
   {
    "duration": 29,
    "start_time": "2023-08-15T13:30:59.340Z"
   },
   {
    "duration": 17,
    "start_time": "2023-08-15T13:30:59.373Z"
   },
   {
    "duration": 12881,
    "start_time": "2023-08-15T13:30:59.392Z"
   },
   {
    "duration": 0,
    "start_time": "2023-08-15T13:31:12.276Z"
   },
   {
    "duration": 0,
    "start_time": "2023-08-15T13:31:12.278Z"
   },
   {
    "duration": 0,
    "start_time": "2023-08-15T13:31:12.279Z"
   },
   {
    "duration": 0,
    "start_time": "2023-08-15T13:31:12.280Z"
   },
   {
    "duration": 0,
    "start_time": "2023-08-15T13:31:12.281Z"
   },
   {
    "duration": 0,
    "start_time": "2023-08-15T13:31:12.282Z"
   },
   {
    "duration": 0,
    "start_time": "2023-08-15T13:31:12.283Z"
   },
   {
    "duration": 0,
    "start_time": "2023-08-15T13:31:12.284Z"
   },
   {
    "duration": 0,
    "start_time": "2023-08-15T13:31:12.285Z"
   },
   {
    "duration": 1,
    "start_time": "2023-08-15T13:31:12.285Z"
   },
   {
    "duration": 0,
    "start_time": "2023-08-15T13:31:12.286Z"
   },
   {
    "duration": 0,
    "start_time": "2023-08-15T13:31:12.288Z"
   },
   {
    "duration": 0,
    "start_time": "2023-08-15T13:31:12.291Z"
   },
   {
    "duration": 0,
    "start_time": "2023-08-15T13:31:12.292Z"
   },
   {
    "duration": 0,
    "start_time": "2023-08-15T13:31:12.293Z"
   },
   {
    "duration": 0,
    "start_time": "2023-08-15T13:31:12.294Z"
   },
   {
    "duration": 0,
    "start_time": "2023-08-15T13:31:12.295Z"
   },
   {
    "duration": 0,
    "start_time": "2023-08-15T13:31:12.296Z"
   },
   {
    "duration": 0,
    "start_time": "2023-08-15T13:31:12.297Z"
   },
   {
    "duration": 0,
    "start_time": "2023-08-15T13:31:12.298Z"
   },
   {
    "duration": 0,
    "start_time": "2023-08-15T13:31:12.299Z"
   },
   {
    "duration": 0,
    "start_time": "2023-08-15T13:31:12.300Z"
   },
   {
    "duration": 0,
    "start_time": "2023-08-15T13:31:12.302Z"
   },
   {
    "duration": 0,
    "start_time": "2023-08-15T13:31:12.304Z"
   },
   {
    "duration": 0,
    "start_time": "2023-08-15T13:31:12.305Z"
   },
   {
    "duration": 1,
    "start_time": "2023-08-15T13:31:12.356Z"
   },
   {
    "duration": 0,
    "start_time": "2023-08-15T13:31:12.357Z"
   },
   {
    "duration": 0,
    "start_time": "2023-08-15T13:31:12.358Z"
   },
   {
    "duration": 0,
    "start_time": "2023-08-15T13:31:12.358Z"
   },
   {
    "duration": 0,
    "start_time": "2023-08-15T13:31:12.359Z"
   },
   {
    "duration": 0,
    "start_time": "2023-08-15T13:31:12.362Z"
   },
   {
    "duration": 0,
    "start_time": "2023-08-15T13:31:12.362Z"
   },
   {
    "duration": 0,
    "start_time": "2023-08-15T13:31:12.363Z"
   },
   {
    "duration": 0,
    "start_time": "2023-08-15T13:31:12.364Z"
   },
   {
    "duration": 0,
    "start_time": "2023-08-15T13:31:12.364Z"
   },
   {
    "duration": 0,
    "start_time": "2023-08-15T13:31:12.365Z"
   },
   {
    "duration": 0,
    "start_time": "2023-08-15T13:31:12.366Z"
   },
   {
    "duration": 0,
    "start_time": "2023-08-15T13:31:12.366Z"
   },
   {
    "duration": 0,
    "start_time": "2023-08-15T13:31:12.371Z"
   },
   {
    "duration": 0,
    "start_time": "2023-08-15T13:31:12.372Z"
   },
   {
    "duration": 0,
    "start_time": "2023-08-15T13:31:12.373Z"
   },
   {
    "duration": 0,
    "start_time": "2023-08-15T13:31:12.373Z"
   },
   {
    "duration": 0,
    "start_time": "2023-08-15T13:31:12.374Z"
   },
   {
    "duration": 0,
    "start_time": "2023-08-15T13:31:12.379Z"
   },
   {
    "duration": 0,
    "start_time": "2023-08-15T13:31:12.382Z"
   },
   {
    "duration": 0,
    "start_time": "2023-08-15T13:31:12.384Z"
   },
   {
    "duration": 0,
    "start_time": "2023-08-15T13:31:12.387Z"
   },
   {
    "duration": 0,
    "start_time": "2023-08-15T13:31:12.389Z"
   },
   {
    "duration": 0,
    "start_time": "2023-08-15T13:31:12.391Z"
   },
   {
    "duration": 0,
    "start_time": "2023-08-15T13:31:12.394Z"
   },
   {
    "duration": 0,
    "start_time": "2023-08-15T13:31:12.397Z"
   },
   {
    "duration": 1,
    "start_time": "2023-08-15T13:31:12.399Z"
   },
   {
    "duration": 0,
    "start_time": "2023-08-15T13:31:12.456Z"
   },
   {
    "duration": 0,
    "start_time": "2023-08-15T13:31:12.457Z"
   },
   {
    "duration": 0,
    "start_time": "2023-08-15T13:31:12.459Z"
   },
   {
    "duration": 0,
    "start_time": "2023-08-15T13:31:12.460Z"
   },
   {
    "duration": 0,
    "start_time": "2023-08-15T13:31:12.461Z"
   },
   {
    "duration": 0,
    "start_time": "2023-08-15T13:31:12.462Z"
   },
   {
    "duration": 0,
    "start_time": "2023-08-15T13:31:12.462Z"
   },
   {
    "duration": 0,
    "start_time": "2023-08-15T13:31:12.463Z"
   },
   {
    "duration": 0,
    "start_time": "2023-08-15T13:31:12.464Z"
   },
   {
    "duration": 0,
    "start_time": "2023-08-15T13:31:12.464Z"
   },
   {
    "duration": 0,
    "start_time": "2023-08-15T13:31:12.465Z"
   },
   {
    "duration": 0,
    "start_time": "2023-08-15T13:31:12.466Z"
   },
   {
    "duration": 0,
    "start_time": "2023-08-15T13:31:12.466Z"
   },
   {
    "duration": 0,
    "start_time": "2023-08-15T13:31:12.467Z"
   },
   {
    "duration": 0,
    "start_time": "2023-08-15T13:31:12.468Z"
   },
   {
    "duration": 0,
    "start_time": "2023-08-15T13:31:12.468Z"
   },
   {
    "duration": 0,
    "start_time": "2023-08-15T13:31:12.469Z"
   },
   {
    "duration": 0,
    "start_time": "2023-08-15T13:31:12.472Z"
   },
   {
    "duration": 0,
    "start_time": "2023-08-15T13:31:12.473Z"
   },
   {
    "duration": 0,
    "start_time": "2023-08-15T13:31:12.474Z"
   },
   {
    "duration": 0,
    "start_time": "2023-08-15T13:31:12.475Z"
   },
   {
    "duration": 0,
    "start_time": "2023-08-15T13:31:12.476Z"
   },
   {
    "duration": 0,
    "start_time": "2023-08-15T13:31:12.478Z"
   },
   {
    "duration": 29020,
    "start_time": "2023-08-15T13:32:33.615Z"
   },
   {
    "duration": 849,
    "start_time": "2023-08-15T13:33:02.638Z"
   },
   {
    "duration": 561,
    "start_time": "2023-08-15T13:33:18.259Z"
   },
   {
    "duration": 20,
    "start_time": "2023-08-15T13:49:14.673Z"
   },
   {
    "duration": 22,
    "start_time": "2023-08-15T13:51:53.191Z"
   },
   {
    "duration": 322,
    "start_time": "2023-08-15T13:52:06.443Z"
   },
   {
    "duration": 243,
    "start_time": "2023-08-15T13:52:37.152Z"
   },
   {
    "duration": 1999,
    "start_time": "2023-08-15T13:52:58.934Z"
   },
   {
    "duration": 265,
    "start_time": "2023-08-15T13:53:00.936Z"
   },
   {
    "duration": 21,
    "start_time": "2023-08-15T13:53:01.203Z"
   },
   {
    "duration": 194,
    "start_time": "2023-08-15T13:53:01.227Z"
   },
   {
    "duration": 59,
    "start_time": "2023-08-15T13:53:01.423Z"
   },
   {
    "duration": 58,
    "start_time": "2023-08-15T13:53:01.484Z"
   },
   {
    "duration": 50,
    "start_time": "2023-08-15T13:53:01.543Z"
   },
   {
    "duration": 89,
    "start_time": "2023-08-15T13:53:01.594Z"
   },
   {
    "duration": 316,
    "start_time": "2023-08-15T13:53:01.685Z"
   },
   {
    "duration": 39,
    "start_time": "2023-08-15T13:53:02.004Z"
   },
   {
    "duration": 46,
    "start_time": "2023-08-15T13:53:02.045Z"
   },
   {
    "duration": 11,
    "start_time": "2023-08-15T13:53:02.093Z"
   },
   {
    "duration": 57,
    "start_time": "2023-08-15T13:53:02.106Z"
   },
   {
    "duration": 23,
    "start_time": "2023-08-15T13:53:02.165Z"
   },
   {
    "duration": 34,
    "start_time": "2023-08-15T13:53:02.190Z"
   },
   {
    "duration": 23,
    "start_time": "2023-08-15T13:53:02.227Z"
   },
   {
    "duration": 46,
    "start_time": "2023-08-15T13:53:02.252Z"
   },
   {
    "duration": 11,
    "start_time": "2023-08-15T13:53:02.300Z"
   },
   {
    "duration": 23,
    "start_time": "2023-08-15T13:53:02.313Z"
   },
   {
    "duration": 49,
    "start_time": "2023-08-15T13:53:02.338Z"
   },
   {
    "duration": 15,
    "start_time": "2023-08-15T13:53:02.389Z"
   },
   {
    "duration": 21,
    "start_time": "2023-08-15T13:53:02.406Z"
   },
   {
    "duration": 21,
    "start_time": "2023-08-15T13:53:02.429Z"
   },
   {
    "duration": 53,
    "start_time": "2023-08-15T13:53:02.452Z"
   },
   {
    "duration": 28,
    "start_time": "2023-08-15T13:53:02.507Z"
   },
   {
    "duration": 26,
    "start_time": "2023-08-15T13:53:02.537Z"
   },
   {
    "duration": 29,
    "start_time": "2023-08-15T13:53:02.565Z"
   },
   {
    "duration": 29,
    "start_time": "2023-08-15T13:53:02.598Z"
   },
   {
    "duration": 13883,
    "start_time": "2023-08-15T13:53:02.629Z"
   },
   {
    "duration": 0,
    "start_time": "2023-08-15T13:53:16.514Z"
   },
   {
    "duration": 0,
    "start_time": "2023-08-15T13:53:16.515Z"
   },
   {
    "duration": 0,
    "start_time": "2023-08-15T13:53:16.517Z"
   },
   {
    "duration": 0,
    "start_time": "2023-08-15T13:53:16.518Z"
   },
   {
    "duration": 0,
    "start_time": "2023-08-15T13:53:16.519Z"
   },
   {
    "duration": 0,
    "start_time": "2023-08-15T13:53:16.520Z"
   },
   {
    "duration": 0,
    "start_time": "2023-08-15T13:53:16.521Z"
   },
   {
    "duration": 0,
    "start_time": "2023-08-15T13:53:16.522Z"
   },
   {
    "duration": 0,
    "start_time": "2023-08-15T13:53:16.523Z"
   },
   {
    "duration": 0,
    "start_time": "2023-08-15T13:53:16.524Z"
   },
   {
    "duration": 0,
    "start_time": "2023-08-15T13:53:16.525Z"
   },
   {
    "duration": 0,
    "start_time": "2023-08-15T13:53:16.526Z"
   },
   {
    "duration": 0,
    "start_time": "2023-08-15T13:53:16.528Z"
   },
   {
    "duration": 0,
    "start_time": "2023-08-15T13:53:16.529Z"
   },
   {
    "duration": 0,
    "start_time": "2023-08-15T13:53:16.530Z"
   },
   {
    "duration": 0,
    "start_time": "2023-08-15T13:53:16.531Z"
   },
   {
    "duration": 0,
    "start_time": "2023-08-15T13:53:16.532Z"
   },
   {
    "duration": 0,
    "start_time": "2023-08-15T13:53:16.533Z"
   },
   {
    "duration": 0,
    "start_time": "2023-08-15T13:53:16.534Z"
   },
   {
    "duration": 0,
    "start_time": "2023-08-15T13:53:16.535Z"
   },
   {
    "duration": 0,
    "start_time": "2023-08-15T13:53:16.537Z"
   },
   {
    "duration": 0,
    "start_time": "2023-08-15T13:53:16.538Z"
   },
   {
    "duration": 0,
    "start_time": "2023-08-15T13:53:16.539Z"
   },
   {
    "duration": 0,
    "start_time": "2023-08-15T13:53:16.552Z"
   },
   {
    "duration": 0,
    "start_time": "2023-08-15T13:53:16.553Z"
   },
   {
    "duration": 0,
    "start_time": "2023-08-15T13:53:16.561Z"
   },
   {
    "duration": 0,
    "start_time": "2023-08-15T13:53:16.571Z"
   },
   {
    "duration": 0,
    "start_time": "2023-08-15T13:53:16.572Z"
   },
   {
    "duration": 0,
    "start_time": "2023-08-15T13:53:16.576Z"
   },
   {
    "duration": 0,
    "start_time": "2023-08-15T13:53:16.577Z"
   },
   {
    "duration": 0,
    "start_time": "2023-08-15T13:53:16.578Z"
   },
   {
    "duration": 0,
    "start_time": "2023-08-15T13:53:16.578Z"
   },
   {
    "duration": 0,
    "start_time": "2023-08-15T13:53:16.579Z"
   },
   {
    "duration": 0,
    "start_time": "2023-08-15T13:53:16.580Z"
   },
   {
    "duration": 0,
    "start_time": "2023-08-15T13:53:16.581Z"
   },
   {
    "duration": 0,
    "start_time": "2023-08-15T13:53:16.582Z"
   },
   {
    "duration": 0,
    "start_time": "2023-08-15T13:53:16.582Z"
   },
   {
    "duration": 0,
    "start_time": "2023-08-15T13:53:16.584Z"
   },
   {
    "duration": 0,
    "start_time": "2023-08-15T13:53:16.584Z"
   },
   {
    "duration": 0,
    "start_time": "2023-08-15T13:53:16.585Z"
   },
   {
    "duration": 1,
    "start_time": "2023-08-15T13:53:16.585Z"
   },
   {
    "duration": 0,
    "start_time": "2023-08-15T13:53:16.586Z"
   },
   {
    "duration": 0,
    "start_time": "2023-08-15T13:53:16.587Z"
   },
   {
    "duration": 0,
    "start_time": "2023-08-15T13:53:16.587Z"
   },
   {
    "duration": 0,
    "start_time": "2023-08-15T13:53:16.589Z"
   },
   {
    "duration": 0,
    "start_time": "2023-08-15T13:53:16.590Z"
   },
   {
    "duration": 0,
    "start_time": "2023-08-15T13:53:16.591Z"
   },
   {
    "duration": 0,
    "start_time": "2023-08-15T13:53:16.592Z"
   },
   {
    "duration": 0,
    "start_time": "2023-08-15T13:53:16.593Z"
   },
   {
    "duration": 0,
    "start_time": "2023-08-15T13:53:16.595Z"
   },
   {
    "duration": 0,
    "start_time": "2023-08-15T13:53:16.596Z"
   },
   {
    "duration": 0,
    "start_time": "2023-08-15T13:53:16.597Z"
   },
   {
    "duration": 0,
    "start_time": "2023-08-15T13:53:16.598Z"
   },
   {
    "duration": 0,
    "start_time": "2023-08-15T13:53:16.599Z"
   },
   {
    "duration": 0,
    "start_time": "2023-08-15T13:53:16.601Z"
   },
   {
    "duration": 0,
    "start_time": "2023-08-15T13:53:16.602Z"
   },
   {
    "duration": 0,
    "start_time": "2023-08-15T13:53:16.602Z"
   },
   {
    "duration": 0,
    "start_time": "2023-08-15T13:53:16.604Z"
   },
   {
    "duration": 0,
    "start_time": "2023-08-15T13:53:16.605Z"
   },
   {
    "duration": 0,
    "start_time": "2023-08-15T13:53:16.606Z"
   },
   {
    "duration": 0,
    "start_time": "2023-08-15T13:53:16.659Z"
   },
   {
    "duration": 0,
    "start_time": "2023-08-15T13:53:16.660Z"
   },
   {
    "duration": 0,
    "start_time": "2023-08-15T13:53:16.660Z"
   },
   {
    "duration": 0,
    "start_time": "2023-08-15T13:53:16.661Z"
   },
   {
    "duration": 0,
    "start_time": "2023-08-15T13:53:16.661Z"
   },
   {
    "duration": 0,
    "start_time": "2023-08-15T13:53:16.662Z"
   },
   {
    "duration": 0,
    "start_time": "2023-08-15T13:53:16.663Z"
   },
   {
    "duration": 0,
    "start_time": "2023-08-15T13:53:16.663Z"
   },
   {
    "duration": 0,
    "start_time": "2023-08-15T13:53:16.664Z"
   },
   {
    "duration": 0,
    "start_time": "2023-08-15T13:53:16.665Z"
   },
   {
    "duration": 0,
    "start_time": "2023-08-15T13:53:16.665Z"
   },
   {
    "duration": 0,
    "start_time": "2023-08-15T13:53:16.666Z"
   },
   {
    "duration": 0,
    "start_time": "2023-08-15T13:53:16.666Z"
   },
   {
    "duration": 0,
    "start_time": "2023-08-15T13:53:16.667Z"
   },
   {
    "duration": 0,
    "start_time": "2023-08-15T13:53:16.670Z"
   },
   {
    "duration": 20531,
    "start_time": "2023-08-15T13:53:42.105Z"
   },
   {
    "duration": 709,
    "start_time": "2023-08-15T13:54:08.059Z"
   },
   {
    "duration": 6,
    "start_time": "2023-08-15T13:54:31.478Z"
   },
   {
    "duration": 21480,
    "start_time": "2023-08-15T13:54:33.928Z"
   },
   {
    "duration": 882,
    "start_time": "2023-08-15T13:54:55.411Z"
   },
   {
    "duration": 1544,
    "start_time": "2023-08-15T15:55:42.110Z"
   },
   {
    "duration": 357,
    "start_time": "2023-08-15T15:55:43.656Z"
   },
   {
    "duration": 17,
    "start_time": "2023-08-15T15:55:44.015Z"
   },
   {
    "duration": 27,
    "start_time": "2023-08-15T15:55:44.033Z"
   },
   {
    "duration": 24,
    "start_time": "2023-08-15T15:55:44.063Z"
   },
   {
    "duration": 25,
    "start_time": "2023-08-15T15:55:44.089Z"
   },
   {
    "duration": 4,
    "start_time": "2023-08-15T15:55:44.116Z"
   },
   {
    "duration": 17,
    "start_time": "2023-08-15T15:55:44.122Z"
   },
   {
    "duration": 38,
    "start_time": "2023-08-15T15:55:44.141Z"
   },
   {
    "duration": 21,
    "start_time": "2023-08-15T15:55:44.181Z"
   },
   {
    "duration": 17,
    "start_time": "2023-08-15T15:55:44.204Z"
   },
   {
    "duration": 13,
    "start_time": "2023-08-15T15:55:44.223Z"
   },
   {
    "duration": 46,
    "start_time": "2023-08-15T15:55:44.238Z"
   },
   {
    "duration": 6,
    "start_time": "2023-08-15T15:55:44.287Z"
   },
   {
    "duration": 20,
    "start_time": "2023-08-15T15:55:44.295Z"
   },
   {
    "duration": 56,
    "start_time": "2023-08-15T15:55:44.316Z"
   },
   {
    "duration": 42,
    "start_time": "2023-08-15T15:55:44.373Z"
   },
   {
    "duration": 8,
    "start_time": "2023-08-15T15:55:44.417Z"
   },
   {
    "duration": 8,
    "start_time": "2023-08-15T15:55:44.427Z"
   },
   {
    "duration": 26,
    "start_time": "2023-08-15T15:55:44.437Z"
   },
   {
    "duration": 6,
    "start_time": "2023-08-15T15:55:44.464Z"
   },
   {
    "duration": 32,
    "start_time": "2023-08-15T15:55:44.471Z"
   },
   {
    "duration": 12,
    "start_time": "2023-08-15T15:55:44.505Z"
   },
   {
    "duration": 41,
    "start_time": "2023-08-15T15:55:44.519Z"
   },
   {
    "duration": 31,
    "start_time": "2023-08-15T15:55:44.562Z"
   },
   {
    "duration": 835,
    "start_time": "2023-08-15T15:55:44.595Z"
   },
   {
    "duration": 13,
    "start_time": "2023-08-15T15:55:45.432Z"
   },
   {
    "duration": 65,
    "start_time": "2023-08-15T15:55:45.447Z"
   },
   {
    "duration": 54,
    "start_time": "2023-08-15T15:55:45.513Z"
   },
   {
    "duration": 6,
    "start_time": "2023-08-15T15:55:45.569Z"
   },
   {
    "duration": 36,
    "start_time": "2023-08-15T15:55:45.576Z"
   },
   {
    "duration": 58,
    "start_time": "2023-08-15T15:55:45.614Z"
   },
   {
    "duration": 7,
    "start_time": "2023-08-15T15:55:45.673Z"
   },
   {
    "duration": 21,
    "start_time": "2023-08-15T15:55:45.681Z"
   },
   {
    "duration": 8,
    "start_time": "2023-08-15T15:55:45.704Z"
   },
   {
    "duration": 9,
    "start_time": "2023-08-15T15:55:45.714Z"
   },
   {
    "duration": 41,
    "start_time": "2023-08-15T15:55:45.724Z"
   },
   {
    "duration": 484,
    "start_time": "2023-08-15T15:55:45.768Z"
   },
   {
    "duration": 10,
    "start_time": "2023-08-15T15:55:46.253Z"
   },
   {
    "duration": 41,
    "start_time": "2023-08-15T15:55:46.264Z"
   },
   {
    "duration": 3,
    "start_time": "2023-08-15T15:55:46.310Z"
   },
   {
    "duration": 18,
    "start_time": "2023-08-15T15:55:46.315Z"
   },
   {
    "duration": 21,
    "start_time": "2023-08-15T15:55:46.335Z"
   },
   {
    "duration": 27,
    "start_time": "2023-08-15T15:55:46.358Z"
   },
   {
    "duration": 9,
    "start_time": "2023-08-15T15:55:46.386Z"
   },
   {
    "duration": 198,
    "start_time": "2023-08-15T15:55:46.396Z"
   },
   {
    "duration": 3,
    "start_time": "2023-08-15T15:55:46.595Z"
   },
   {
    "duration": 6,
    "start_time": "2023-08-15T15:55:46.599Z"
   },
   {
    "duration": 61,
    "start_time": "2023-08-15T15:55:46.607Z"
   },
   {
    "duration": 27,
    "start_time": "2023-08-15T15:55:46.670Z"
   },
   {
    "duration": 36,
    "start_time": "2023-08-15T15:55:46.699Z"
   },
   {
    "duration": 23,
    "start_time": "2023-08-15T15:55:46.736Z"
   },
   {
    "duration": 13,
    "start_time": "2023-08-15T15:55:46.761Z"
   },
   {
    "duration": 175,
    "start_time": "2023-08-15T15:55:46.776Z"
   },
   {
    "duration": 14,
    "start_time": "2023-08-15T15:55:46.956Z"
   },
   {
    "duration": 21,
    "start_time": "2023-08-15T15:55:46.972Z"
   },
   {
    "duration": 61,
    "start_time": "2023-08-15T15:55:46.995Z"
   },
   {
    "duration": 50,
    "start_time": "2023-08-15T15:55:47.058Z"
   },
   {
    "duration": 13,
    "start_time": "2023-08-15T15:55:47.111Z"
   },
   {
    "duration": 37,
    "start_time": "2023-08-15T15:55:47.126Z"
   },
   {
    "duration": 995,
    "start_time": "2023-08-15T15:55:47.166Z"
   },
   {
    "duration": 494,
    "start_time": "2023-08-15T15:55:48.163Z"
   },
   {
    "duration": 103,
    "start_time": "2023-08-15T15:55:48.659Z"
   },
   {
    "duration": 8,
    "start_time": "2023-08-15T15:55:48.764Z"
   },
   {
    "duration": 23,
    "start_time": "2023-08-15T15:55:48.774Z"
   },
   {
    "duration": 21,
    "start_time": "2023-08-15T15:55:48.799Z"
   },
   {
    "duration": 47,
    "start_time": "2023-08-15T15:55:48.821Z"
   },
   {
    "duration": 44,
    "start_time": "2023-08-15T15:55:48.870Z"
   },
   {
    "duration": 18,
    "start_time": "2023-08-15T15:55:48.916Z"
   },
   {
    "duration": 21,
    "start_time": "2023-08-15T15:55:48.956Z"
   },
   {
    "duration": 17,
    "start_time": "2023-08-15T15:55:48.980Z"
   },
   {
    "duration": 30,
    "start_time": "2023-08-15T15:55:49.000Z"
   },
   {
    "duration": 455,
    "start_time": "2023-08-15T15:55:49.033Z"
   },
   {
    "duration": 529,
    "start_time": "2023-08-15T15:55:49.489Z"
   },
   {
    "duration": 3,
    "start_time": "2023-08-15T15:55:50.020Z"
   },
   {
    "duration": 13,
    "start_time": "2023-08-15T15:55:50.025Z"
   },
   {
    "duration": 15,
    "start_time": "2023-08-15T15:55:50.040Z"
   },
   {
    "duration": 37,
    "start_time": "2023-08-15T15:55:50.057Z"
   },
   {
    "duration": 44,
    "start_time": "2023-08-15T15:55:50.096Z"
   },
   {
    "duration": 33,
    "start_time": "2023-08-15T15:55:50.142Z"
   },
   {
    "duration": 20,
    "start_time": "2023-08-15T15:55:50.177Z"
   },
   {
    "duration": 24,
    "start_time": "2023-08-15T15:55:50.198Z"
   },
   {
    "duration": 36,
    "start_time": "2023-08-15T15:55:50.224Z"
   },
   {
    "duration": 11,
    "start_time": "2023-08-15T15:55:50.262Z"
   },
   {
    "duration": 7,
    "start_time": "2023-08-15T15:55:50.275Z"
   },
   {
    "duration": 11,
    "start_time": "2023-08-15T15:55:50.283Z"
   },
   {
    "duration": 27,
    "start_time": "2023-08-15T15:55:50.296Z"
   },
   {
    "duration": 47,
    "start_time": "2023-08-15T15:55:50.325Z"
   },
   {
    "duration": 5,
    "start_time": "2023-08-15T15:55:50.374Z"
   },
   {
    "duration": 14,
    "start_time": "2023-08-15T15:55:50.381Z"
   },
   {
    "duration": 8,
    "start_time": "2023-08-15T15:55:50.396Z"
   },
   {
    "duration": 8,
    "start_time": "2023-08-15T15:55:50.405Z"
   },
   {
    "duration": 8,
    "start_time": "2023-08-15T15:55:50.415Z"
   },
   {
    "duration": 20,
    "start_time": "2023-08-15T15:55:50.425Z"
   },
   {
    "duration": 70,
    "start_time": "2023-08-15T15:55:50.447Z"
   },
   {
    "duration": 5,
    "start_time": "2023-08-15T15:55:50.518Z"
   },
   {
    "duration": 20,
    "start_time": "2023-08-15T15:55:50.525Z"
   },
   {
    "duration": 212,
    "start_time": "2023-08-15T16:34:57.585Z"
   }
  ],
  "kernelspec": {
   "display_name": "Python 3 (ipykernel)",
   "language": "python",
   "name": "python3"
  },
  "language_info": {
   "codemirror_mode": {
    "name": "ipython",
    "version": 3
   },
   "file_extension": ".py",
   "mimetype": "text/x-python",
   "name": "python",
   "nbconvert_exporter": "python",
   "pygments_lexer": "ipython3",
   "version": "3.9.7"
  },
  "toc": {
   "base_numbering": 1,
   "nav_menu": {},
   "number_sections": true,
   "sideBar": true,
   "skip_h1_title": true,
   "title_cell": "Table of Contents",
   "title_sidebar": "Contents",
   "toc_cell": false,
   "toc_position": {},
   "toc_section_display": true,
   "toc_window_display": true
  }
 },
 "nbformat": 4,
 "nbformat_minor": 2
}
