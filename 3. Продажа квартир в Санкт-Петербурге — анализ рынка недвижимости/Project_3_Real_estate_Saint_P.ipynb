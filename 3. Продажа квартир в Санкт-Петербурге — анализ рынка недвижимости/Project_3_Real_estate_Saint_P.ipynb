{
 "cells": [
  {
   "cell_type": "markdown",
   "metadata": {
    "toc": true
   },
   "source": [
    "<h1>Содержание<span class=\"tocSkip\"></span></h1>\n",
    "<div class=\"toc\"><ul class=\"toc-item\"><li><span><a href=\"#Изучение-данных-из-файла\" data-toc-modified-id=\"Изучение-данных-из-файла-1\"><span class=\"toc-item-num\">1&nbsp;&nbsp;</span>Изучение данных из файла</a></span><ul class=\"toc-item\"><li><span><a href=\"#Предварительный-вывод\" data-toc-modified-id=\"Предварительный-вывод-1.1\"><span class=\"toc-item-num\">1.1&nbsp;&nbsp;</span>Предварительный вывод</a></span></li></ul></li><li><span><a href=\"#Предобработка-данных\" data-toc-modified-id=\"Предобработка-данных-2\"><span class=\"toc-item-num\">2&nbsp;&nbsp;</span>Предобработка данных</a></span></li><li><span><a href=\"#Расчёты-и-добавление-результатов-в-таблицу\" data-toc-modified-id=\"Расчёты-и-добавление-результатов-в-таблицу-3\"><span class=\"toc-item-num\">3&nbsp;&nbsp;</span>Расчёты и добавление результатов в таблицу</a></span><ul class=\"toc-item\"><li><span><a href=\"#Цена-квадратного-метра\" data-toc-modified-id=\"Цена-квадратного-метра-3.1\"><span class=\"toc-item-num\">3.1&nbsp;&nbsp;</span>Цена квадратного метра</a></span></li><li><span><a href=\"#День-недели,-месяц-и-год-публикации-объявления\" data-toc-modified-id=\"День-недели,-месяц-и-год-публикации-объявления-3.2\"><span class=\"toc-item-num\">3.2&nbsp;&nbsp;</span>День недели, месяц и год публикации объявления</a></span></li><li><span><a href=\"#Этаж-квартиры\" data-toc-modified-id=\"Этаж-квартиры-3.3\"><span class=\"toc-item-num\">3.3&nbsp;&nbsp;</span>Этаж квартиры</a></span></li><li><span><a href=\"#Соотношение-жилой-и-общей-площади,-а-также-отношение-площади-кухни-к-общей-площади\" data-toc-modified-id=\"Соотношение-жилой-и-общей-площади,-а-также-отношение-площади-кухни-к-общей-площади-3.4\"><span class=\"toc-item-num\">3.4&nbsp;&nbsp;</span>Соотношение жилой и общей площади, а также отношение площади кухни к общей площади</a></span></li></ul></li><li><span><a href=\"#Исследовательский-анализ-данных\" data-toc-modified-id=\"Исследовательский-анализ-данных-4\"><span class=\"toc-item-num\">4&nbsp;&nbsp;</span>Исследовательский анализ данных</a></span><ul class=\"toc-item\"><li><span><a href=\"#Изучим-площадь,-цену,-число-комнат-и-высоту-потолков,-удалим-по-ним-редкие-и-выбивающиеся-значения\" data-toc-modified-id=\"Изучим-площадь,-цену,-число-комнат-и-высоту-потолков,-удалим-по-ним-редкие-и-выбивающиеся-значения-4.1\"><span class=\"toc-item-num\">4.1&nbsp;&nbsp;</span>Изучим площадь, цену, число комнат и высоту потолков, удалим по ним редкие и выбивающиеся значения</a></span></li><li><span><a href=\"#Комментарий-студента:\" data-toc-modified-id=\"Комментарий-студента:-4.2\"><span class=\"toc-item-num\">4.2&nbsp;&nbsp;</span>Комментарий студента:</a></span></li><li><span><a href=\"#Комментарий-студента:\" data-toc-modified-id=\"Комментарий-студента:-4.3\"><span class=\"toc-item-num\">4.3&nbsp;&nbsp;</span>Комментарий студента:</a></span></li><li><span><a href=\"#Изучим-время-продажи-квартиры\" data-toc-modified-id=\"Изучим-время-продажи-квартиры-4.4\"><span class=\"toc-item-num\">4.4&nbsp;&nbsp;</span>Изучим время продажи квартиры</a></span></li><li><span><a href=\"#Какие-факторы-больше-всего-влияют-на-стоимость-квартиры?\" data-toc-modified-id=\"Какие-факторы-больше-всего-влияют-на-стоимость-квартиры?-4.5\"><span class=\"toc-item-num\">4.5&nbsp;&nbsp;</span>Какие факторы больше всего влияют на стоимость квартиры?</a></span></li><li><span><a href=\"#Изучим-предложения-квартир\" data-toc-modified-id=\"Изучим-предложения-квартир-4.6\"><span class=\"toc-item-num\">4.6&nbsp;&nbsp;</span>Изучим предложения квартир</a></span></li><li><span><a href=\"#Выделим-сегмент-квартир-в-центре\" data-toc-modified-id=\"Выделим-сегмент-квартир-в-центре-4.7\"><span class=\"toc-item-num\">4.7&nbsp;&nbsp;</span>Выделим сегмент квартир в центре</a></span></li></ul></li><li><span><a href=\"#Общий-вывод\" data-toc-modified-id=\"Общий-вывод-5\"><span class=\"toc-item-num\">5&nbsp;&nbsp;</span>Общий вывод</a></span></li><li><span><a href=\"#Чек-лист-готовности-проекта\" data-toc-modified-id=\"Чек-лист-готовности-проекта-6\"><span class=\"toc-item-num\">6&nbsp;&nbsp;</span>Чек-лист готовности проекта</a></span></li></ul></div>"
   ]
  },
  {
   "cell_type": "markdown",
   "metadata": {},
   "source": [
    "# Исследование объявлений о продаже квартир\n",
    "\n",
    "В нашем распоряжении данные сервиса Яндекс.Недвижимость — архив объявлений о продаже квартир в Санкт-Петербурге и соседних населённых пунктах за несколько лет. Наша задача — установить параметры для определения рыночной стоимости объектов недвижимости. Это позволит построить автоматизированную систему: она отследит аномалии и мошенническую деятельность. \n",
    "\n",
    "По каждой квартире на продажу доступны два вида данных. Первые вписаны пользователем, вторые получены автоматически на основе картографических данных. Например, расстояние до центра, аэропорта, ближайшего парка и водоёма. "
   ]
  },
  {
   "cell_type": "markdown",
   "metadata": {},
   "source": [
    "## Изучение данных из файла"
   ]
  },
  {
   "cell_type": "markdown",
   "metadata": {},
   "source": [
    "Для начала, импортируем нужные нам бибилотеки"
   ]
  },
  {
   "cell_type": "code",
   "execution_count": 1,
   "metadata": {},
   "outputs": [],
   "source": [
    "import pandas as pd\n",
    "import matplotlib.pyplot as plt\n",
    "import numpy as np"
   ]
  },
  {
   "cell_type": "code",
   "execution_count": 2,
   "metadata": {},
   "outputs": [
    {
     "name": "stdout",
     "output_type": "stream",
     "text": [
      "<class 'pandas.core.frame.DataFrame'>\n",
      "RangeIndex: 23699 entries, 0 to 23698\n",
      "Data columns (total 22 columns):\n",
      "total_images            23699 non-null int64\n",
      "last_price              23699 non-null float64\n",
      "total_area              23699 non-null float64\n",
      "first_day_exposition    23699 non-null object\n",
      "rooms                   23699 non-null int64\n",
      "ceiling_height          14504 non-null float64\n",
      "floors_total            23613 non-null float64\n",
      "living_area             21796 non-null float64\n",
      "floor                   23699 non-null int64\n",
      "is_apartment            2775 non-null object\n",
      "studio                  23699 non-null bool\n",
      "open_plan               23699 non-null bool\n",
      "kitchen_area            21421 non-null float64\n",
      "balcony                 12180 non-null float64\n",
      "locality_name           23650 non-null object\n",
      "airports_nearest        18157 non-null float64\n",
      "cityCenters_nearest     18180 non-null float64\n",
      "parks_around3000        18181 non-null float64\n",
      "parks_nearest           8079 non-null float64\n",
      "ponds_around3000        18181 non-null float64\n",
      "ponds_nearest           9110 non-null float64\n",
      "days_exposition         20518 non-null float64\n",
      "dtypes: bool(2), float64(14), int64(3), object(3)\n",
      "memory usage: 3.7+ MB\n"
     ]
    }
   ],
   "source": [
    "df = pd.read_csv('/datasets/real_estate_data.csv', sep='\\t')\n",
    "df.info()"
   ]
  },
  {
   "cell_type": "code",
   "execution_count": 3,
   "metadata": {},
   "outputs": [
    {
     "data": {
      "text/html": [
       "<div>\n",
       "<style scoped>\n",
       "    .dataframe tbody tr th:only-of-type {\n",
       "        vertical-align: middle;\n",
       "    }\n",
       "\n",
       "    .dataframe tbody tr th {\n",
       "        vertical-align: top;\n",
       "    }\n",
       "\n",
       "    .dataframe thead th {\n",
       "        text-align: right;\n",
       "    }\n",
       "</style>\n",
       "<table border=\"1\" class=\"dataframe\">\n",
       "  <thead>\n",
       "    <tr style=\"text-align: right;\">\n",
       "      <th></th>\n",
       "      <th>total_images</th>\n",
       "      <th>last_price</th>\n",
       "      <th>total_area</th>\n",
       "      <th>first_day_exposition</th>\n",
       "      <th>rooms</th>\n",
       "      <th>ceiling_height</th>\n",
       "      <th>floors_total</th>\n",
       "      <th>living_area</th>\n",
       "      <th>floor</th>\n",
       "      <th>is_apartment</th>\n",
       "      <th>...</th>\n",
       "      <th>kitchen_area</th>\n",
       "      <th>balcony</th>\n",
       "      <th>locality_name</th>\n",
       "      <th>airports_nearest</th>\n",
       "      <th>cityCenters_nearest</th>\n",
       "      <th>parks_around3000</th>\n",
       "      <th>parks_nearest</th>\n",
       "      <th>ponds_around3000</th>\n",
       "      <th>ponds_nearest</th>\n",
       "      <th>days_exposition</th>\n",
       "    </tr>\n",
       "  </thead>\n",
       "  <tbody>\n",
       "    <tr>\n",
       "      <td>0</td>\n",
       "      <td>20</td>\n",
       "      <td>13000000.0</td>\n",
       "      <td>108.00</td>\n",
       "      <td>2019-03-07T00:00:00</td>\n",
       "      <td>3</td>\n",
       "      <td>2.70</td>\n",
       "      <td>16.0</td>\n",
       "      <td>51.00</td>\n",
       "      <td>8</td>\n",
       "      <td>NaN</td>\n",
       "      <td>...</td>\n",
       "      <td>25.00</td>\n",
       "      <td>NaN</td>\n",
       "      <td>Санкт-Петербург</td>\n",
       "      <td>18863.0</td>\n",
       "      <td>16028.0</td>\n",
       "      <td>1.0</td>\n",
       "      <td>482.0</td>\n",
       "      <td>2.0</td>\n",
       "      <td>755.0</td>\n",
       "      <td>NaN</td>\n",
       "    </tr>\n",
       "    <tr>\n",
       "      <td>1</td>\n",
       "      <td>7</td>\n",
       "      <td>3350000.0</td>\n",
       "      <td>40.40</td>\n",
       "      <td>2018-12-04T00:00:00</td>\n",
       "      <td>1</td>\n",
       "      <td>NaN</td>\n",
       "      <td>11.0</td>\n",
       "      <td>18.60</td>\n",
       "      <td>1</td>\n",
       "      <td>NaN</td>\n",
       "      <td>...</td>\n",
       "      <td>11.00</td>\n",
       "      <td>2.0</td>\n",
       "      <td>посёлок Шушары</td>\n",
       "      <td>12817.0</td>\n",
       "      <td>18603.0</td>\n",
       "      <td>0.0</td>\n",
       "      <td>NaN</td>\n",
       "      <td>0.0</td>\n",
       "      <td>NaN</td>\n",
       "      <td>81.0</td>\n",
       "    </tr>\n",
       "    <tr>\n",
       "      <td>2</td>\n",
       "      <td>10</td>\n",
       "      <td>5196000.0</td>\n",
       "      <td>56.00</td>\n",
       "      <td>2015-08-20T00:00:00</td>\n",
       "      <td>2</td>\n",
       "      <td>NaN</td>\n",
       "      <td>5.0</td>\n",
       "      <td>34.30</td>\n",
       "      <td>4</td>\n",
       "      <td>NaN</td>\n",
       "      <td>...</td>\n",
       "      <td>8.30</td>\n",
       "      <td>0.0</td>\n",
       "      <td>Санкт-Петербург</td>\n",
       "      <td>21741.0</td>\n",
       "      <td>13933.0</td>\n",
       "      <td>1.0</td>\n",
       "      <td>90.0</td>\n",
       "      <td>2.0</td>\n",
       "      <td>574.0</td>\n",
       "      <td>558.0</td>\n",
       "    </tr>\n",
       "    <tr>\n",
       "      <td>3</td>\n",
       "      <td>0</td>\n",
       "      <td>64900000.0</td>\n",
       "      <td>159.00</td>\n",
       "      <td>2015-07-24T00:00:00</td>\n",
       "      <td>3</td>\n",
       "      <td>NaN</td>\n",
       "      <td>14.0</td>\n",
       "      <td>NaN</td>\n",
       "      <td>9</td>\n",
       "      <td>NaN</td>\n",
       "      <td>...</td>\n",
       "      <td>NaN</td>\n",
       "      <td>0.0</td>\n",
       "      <td>Санкт-Петербург</td>\n",
       "      <td>28098.0</td>\n",
       "      <td>6800.0</td>\n",
       "      <td>2.0</td>\n",
       "      <td>84.0</td>\n",
       "      <td>3.0</td>\n",
       "      <td>234.0</td>\n",
       "      <td>424.0</td>\n",
       "    </tr>\n",
       "    <tr>\n",
       "      <td>4</td>\n",
       "      <td>2</td>\n",
       "      <td>10000000.0</td>\n",
       "      <td>100.00</td>\n",
       "      <td>2018-06-19T00:00:00</td>\n",
       "      <td>2</td>\n",
       "      <td>3.03</td>\n",
       "      <td>14.0</td>\n",
       "      <td>32.00</td>\n",
       "      <td>13</td>\n",
       "      <td>NaN</td>\n",
       "      <td>...</td>\n",
       "      <td>41.00</td>\n",
       "      <td>NaN</td>\n",
       "      <td>Санкт-Петербург</td>\n",
       "      <td>31856.0</td>\n",
       "      <td>8098.0</td>\n",
       "      <td>2.0</td>\n",
       "      <td>112.0</td>\n",
       "      <td>1.0</td>\n",
       "      <td>48.0</td>\n",
       "      <td>121.0</td>\n",
       "    </tr>\n",
       "    <tr>\n",
       "      <td>5</td>\n",
       "      <td>10</td>\n",
       "      <td>2890000.0</td>\n",
       "      <td>30.40</td>\n",
       "      <td>2018-09-10T00:00:00</td>\n",
       "      <td>1</td>\n",
       "      <td>NaN</td>\n",
       "      <td>12.0</td>\n",
       "      <td>14.40</td>\n",
       "      <td>5</td>\n",
       "      <td>NaN</td>\n",
       "      <td>...</td>\n",
       "      <td>9.10</td>\n",
       "      <td>NaN</td>\n",
       "      <td>городской посёлок Янино-1</td>\n",
       "      <td>NaN</td>\n",
       "      <td>NaN</td>\n",
       "      <td>NaN</td>\n",
       "      <td>NaN</td>\n",
       "      <td>NaN</td>\n",
       "      <td>NaN</td>\n",
       "      <td>55.0</td>\n",
       "    </tr>\n",
       "    <tr>\n",
       "      <td>6</td>\n",
       "      <td>6</td>\n",
       "      <td>3700000.0</td>\n",
       "      <td>37.30</td>\n",
       "      <td>2017-11-02T00:00:00</td>\n",
       "      <td>1</td>\n",
       "      <td>NaN</td>\n",
       "      <td>26.0</td>\n",
       "      <td>10.60</td>\n",
       "      <td>6</td>\n",
       "      <td>NaN</td>\n",
       "      <td>...</td>\n",
       "      <td>14.40</td>\n",
       "      <td>1.0</td>\n",
       "      <td>посёлок Парголово</td>\n",
       "      <td>52996.0</td>\n",
       "      <td>19143.0</td>\n",
       "      <td>0.0</td>\n",
       "      <td>NaN</td>\n",
       "      <td>0.0</td>\n",
       "      <td>NaN</td>\n",
       "      <td>155.0</td>\n",
       "    </tr>\n",
       "    <tr>\n",
       "      <td>7</td>\n",
       "      <td>5</td>\n",
       "      <td>7915000.0</td>\n",
       "      <td>71.60</td>\n",
       "      <td>2019-04-18T00:00:00</td>\n",
       "      <td>2</td>\n",
       "      <td>NaN</td>\n",
       "      <td>24.0</td>\n",
       "      <td>NaN</td>\n",
       "      <td>22</td>\n",
       "      <td>NaN</td>\n",
       "      <td>...</td>\n",
       "      <td>18.90</td>\n",
       "      <td>2.0</td>\n",
       "      <td>Санкт-Петербург</td>\n",
       "      <td>23982.0</td>\n",
       "      <td>11634.0</td>\n",
       "      <td>0.0</td>\n",
       "      <td>NaN</td>\n",
       "      <td>0.0</td>\n",
       "      <td>NaN</td>\n",
       "      <td>NaN</td>\n",
       "    </tr>\n",
       "    <tr>\n",
       "      <td>8</td>\n",
       "      <td>20</td>\n",
       "      <td>2900000.0</td>\n",
       "      <td>33.16</td>\n",
       "      <td>2018-05-23T00:00:00</td>\n",
       "      <td>1</td>\n",
       "      <td>NaN</td>\n",
       "      <td>27.0</td>\n",
       "      <td>15.43</td>\n",
       "      <td>26</td>\n",
       "      <td>NaN</td>\n",
       "      <td>...</td>\n",
       "      <td>8.81</td>\n",
       "      <td>NaN</td>\n",
       "      <td>посёлок Мурино</td>\n",
       "      <td>NaN</td>\n",
       "      <td>NaN</td>\n",
       "      <td>NaN</td>\n",
       "      <td>NaN</td>\n",
       "      <td>NaN</td>\n",
       "      <td>NaN</td>\n",
       "      <td>189.0</td>\n",
       "    </tr>\n",
       "    <tr>\n",
       "      <td>9</td>\n",
       "      <td>18</td>\n",
       "      <td>5400000.0</td>\n",
       "      <td>61.00</td>\n",
       "      <td>2017-02-26T00:00:00</td>\n",
       "      <td>3</td>\n",
       "      <td>2.50</td>\n",
       "      <td>9.0</td>\n",
       "      <td>43.60</td>\n",
       "      <td>7</td>\n",
       "      <td>NaN</td>\n",
       "      <td>...</td>\n",
       "      <td>6.50</td>\n",
       "      <td>2.0</td>\n",
       "      <td>Санкт-Петербург</td>\n",
       "      <td>50898.0</td>\n",
       "      <td>15008.0</td>\n",
       "      <td>0.0</td>\n",
       "      <td>NaN</td>\n",
       "      <td>0.0</td>\n",
       "      <td>NaN</td>\n",
       "      <td>289.0</td>\n",
       "    </tr>\n",
       "  </tbody>\n",
       "</table>\n",
       "<p>10 rows × 22 columns</p>\n",
       "</div>"
      ],
      "text/plain": [
       "   total_images  last_price  total_area first_day_exposition  rooms  \\\n",
       "0            20  13000000.0      108.00  2019-03-07T00:00:00      3   \n",
       "1             7   3350000.0       40.40  2018-12-04T00:00:00      1   \n",
       "2            10   5196000.0       56.00  2015-08-20T00:00:00      2   \n",
       "3             0  64900000.0      159.00  2015-07-24T00:00:00      3   \n",
       "4             2  10000000.0      100.00  2018-06-19T00:00:00      2   \n",
       "5            10   2890000.0       30.40  2018-09-10T00:00:00      1   \n",
       "6             6   3700000.0       37.30  2017-11-02T00:00:00      1   \n",
       "7             5   7915000.0       71.60  2019-04-18T00:00:00      2   \n",
       "8            20   2900000.0       33.16  2018-05-23T00:00:00      1   \n",
       "9            18   5400000.0       61.00  2017-02-26T00:00:00      3   \n",
       "\n",
       "   ceiling_height  floors_total  living_area  floor is_apartment  ...  \\\n",
       "0            2.70          16.0        51.00      8          NaN  ...   \n",
       "1             NaN          11.0        18.60      1          NaN  ...   \n",
       "2             NaN           5.0        34.30      4          NaN  ...   \n",
       "3             NaN          14.0          NaN      9          NaN  ...   \n",
       "4            3.03          14.0        32.00     13          NaN  ...   \n",
       "5             NaN          12.0        14.40      5          NaN  ...   \n",
       "6             NaN          26.0        10.60      6          NaN  ...   \n",
       "7             NaN          24.0          NaN     22          NaN  ...   \n",
       "8             NaN          27.0        15.43     26          NaN  ...   \n",
       "9            2.50           9.0        43.60      7          NaN  ...   \n",
       "\n",
       "   kitchen_area  balcony              locality_name  airports_nearest  \\\n",
       "0         25.00      NaN            Санкт-Петербург           18863.0   \n",
       "1         11.00      2.0             посёлок Шушары           12817.0   \n",
       "2          8.30      0.0            Санкт-Петербург           21741.0   \n",
       "3           NaN      0.0            Санкт-Петербург           28098.0   \n",
       "4         41.00      NaN            Санкт-Петербург           31856.0   \n",
       "5          9.10      NaN  городской посёлок Янино-1               NaN   \n",
       "6         14.40      1.0          посёлок Парголово           52996.0   \n",
       "7         18.90      2.0            Санкт-Петербург           23982.0   \n",
       "8          8.81      NaN             посёлок Мурино               NaN   \n",
       "9          6.50      2.0            Санкт-Петербург           50898.0   \n",
       "\n",
       "  cityCenters_nearest  parks_around3000  parks_nearest  ponds_around3000  \\\n",
       "0             16028.0               1.0          482.0               2.0   \n",
       "1             18603.0               0.0            NaN               0.0   \n",
       "2             13933.0               1.0           90.0               2.0   \n",
       "3              6800.0               2.0           84.0               3.0   \n",
       "4              8098.0               2.0          112.0               1.0   \n",
       "5                 NaN               NaN            NaN               NaN   \n",
       "6             19143.0               0.0            NaN               0.0   \n",
       "7             11634.0               0.0            NaN               0.0   \n",
       "8                 NaN               NaN            NaN               NaN   \n",
       "9             15008.0               0.0            NaN               0.0   \n",
       "\n",
       "   ponds_nearest  days_exposition  \n",
       "0          755.0              NaN  \n",
       "1            NaN             81.0  \n",
       "2          574.0            558.0  \n",
       "3          234.0            424.0  \n",
       "4           48.0            121.0  \n",
       "5            NaN             55.0  \n",
       "6            NaN            155.0  \n",
       "7            NaN              NaN  \n",
       "8            NaN            189.0  \n",
       "9            NaN            289.0  \n",
       "\n",
       "[10 rows x 22 columns]"
      ]
     },
     "execution_count": 3,
     "metadata": {},
     "output_type": "execute_result"
    }
   ],
   "source": [
    "df.head(10)"
   ]
  },
  {
   "cell_type": "code",
   "execution_count": 4,
   "metadata": {},
   "outputs": [
    {
     "data": {
      "text/html": [
       "<div>\n",
       "<style scoped>\n",
       "    .dataframe tbody tr th:only-of-type {\n",
       "        vertical-align: middle;\n",
       "    }\n",
       "\n",
       "    .dataframe tbody tr th {\n",
       "        vertical-align: top;\n",
       "    }\n",
       "\n",
       "    .dataframe thead th {\n",
       "        text-align: right;\n",
       "    }\n",
       "</style>\n",
       "<table border=\"1\" class=\"dataframe\">\n",
       "  <thead>\n",
       "    <tr style=\"text-align: right;\">\n",
       "      <th></th>\n",
       "      <th>total_images</th>\n",
       "      <th>last_price</th>\n",
       "      <th>total_area</th>\n",
       "      <th>first_day_exposition</th>\n",
       "      <th>rooms</th>\n",
       "      <th>ceiling_height</th>\n",
       "      <th>floors_total</th>\n",
       "      <th>living_area</th>\n",
       "      <th>floor</th>\n",
       "      <th>is_apartment</th>\n",
       "      <th>...</th>\n",
       "      <th>kitchen_area</th>\n",
       "      <th>balcony</th>\n",
       "      <th>locality_name</th>\n",
       "      <th>airports_nearest</th>\n",
       "      <th>cityCenters_nearest</th>\n",
       "      <th>parks_around3000</th>\n",
       "      <th>parks_nearest</th>\n",
       "      <th>ponds_around3000</th>\n",
       "      <th>ponds_nearest</th>\n",
       "      <th>days_exposition</th>\n",
       "    </tr>\n",
       "  </thead>\n",
       "  <tbody>\n",
       "    <tr>\n",
       "      <td>23689</td>\n",
       "      <td>13</td>\n",
       "      <td>3550000.0</td>\n",
       "      <td>35.30</td>\n",
       "      <td>2018-02-28T00:00:00</td>\n",
       "      <td>1</td>\n",
       "      <td>2.86</td>\n",
       "      <td>15.0</td>\n",
       "      <td>16.3</td>\n",
       "      <td>4</td>\n",
       "      <td>NaN</td>\n",
       "      <td>...</td>\n",
       "      <td>9.10</td>\n",
       "      <td>2.0</td>\n",
       "      <td>Санкт-Петербург</td>\n",
       "      <td>17284.0</td>\n",
       "      <td>16081.0</td>\n",
       "      <td>1.0</td>\n",
       "      <td>353.0</td>\n",
       "      <td>2.0</td>\n",
       "      <td>652.0</td>\n",
       "      <td>29.0</td>\n",
       "    </tr>\n",
       "    <tr>\n",
       "      <td>23690</td>\n",
       "      <td>3</td>\n",
       "      <td>5500000.0</td>\n",
       "      <td>52.00</td>\n",
       "      <td>2018-07-19T00:00:00</td>\n",
       "      <td>2</td>\n",
       "      <td>NaN</td>\n",
       "      <td>5.0</td>\n",
       "      <td>31.0</td>\n",
       "      <td>2</td>\n",
       "      <td>NaN</td>\n",
       "      <td>...</td>\n",
       "      <td>6.00</td>\n",
       "      <td>NaN</td>\n",
       "      <td>Санкт-Петербург</td>\n",
       "      <td>20151.0</td>\n",
       "      <td>6263.0</td>\n",
       "      <td>1.0</td>\n",
       "      <td>300.0</td>\n",
       "      <td>0.0</td>\n",
       "      <td>NaN</td>\n",
       "      <td>15.0</td>\n",
       "    </tr>\n",
       "    <tr>\n",
       "      <td>23691</td>\n",
       "      <td>11</td>\n",
       "      <td>9470000.0</td>\n",
       "      <td>72.90</td>\n",
       "      <td>2016-10-13T00:00:00</td>\n",
       "      <td>2</td>\n",
       "      <td>2.75</td>\n",
       "      <td>25.0</td>\n",
       "      <td>40.3</td>\n",
       "      <td>7</td>\n",
       "      <td>NaN</td>\n",
       "      <td>...</td>\n",
       "      <td>10.60</td>\n",
       "      <td>1.0</td>\n",
       "      <td>Санкт-Петербург</td>\n",
       "      <td>19424.0</td>\n",
       "      <td>4489.0</td>\n",
       "      <td>0.0</td>\n",
       "      <td>NaN</td>\n",
       "      <td>1.0</td>\n",
       "      <td>806.0</td>\n",
       "      <td>519.0</td>\n",
       "    </tr>\n",
       "    <tr>\n",
       "      <td>23692</td>\n",
       "      <td>2</td>\n",
       "      <td>1350000.0</td>\n",
       "      <td>30.00</td>\n",
       "      <td>2017-07-07T00:00:00</td>\n",
       "      <td>1</td>\n",
       "      <td>NaN</td>\n",
       "      <td>5.0</td>\n",
       "      <td>17.5</td>\n",
       "      <td>4</td>\n",
       "      <td>NaN</td>\n",
       "      <td>...</td>\n",
       "      <td>6.00</td>\n",
       "      <td>NaN</td>\n",
       "      <td>Тихвин</td>\n",
       "      <td>NaN</td>\n",
       "      <td>NaN</td>\n",
       "      <td>NaN</td>\n",
       "      <td>NaN</td>\n",
       "      <td>NaN</td>\n",
       "      <td>NaN</td>\n",
       "      <td>413.0</td>\n",
       "    </tr>\n",
       "    <tr>\n",
       "      <td>23693</td>\n",
       "      <td>9</td>\n",
       "      <td>4600000.0</td>\n",
       "      <td>62.40</td>\n",
       "      <td>2016-08-05T00:00:00</td>\n",
       "      <td>3</td>\n",
       "      <td>2.60</td>\n",
       "      <td>9.0</td>\n",
       "      <td>40.0</td>\n",
       "      <td>8</td>\n",
       "      <td>NaN</td>\n",
       "      <td>...</td>\n",
       "      <td>8.00</td>\n",
       "      <td>0.0</td>\n",
       "      <td>Петергоф</td>\n",
       "      <td>45602.0</td>\n",
       "      <td>34104.0</td>\n",
       "      <td>1.0</td>\n",
       "      <td>352.0</td>\n",
       "      <td>1.0</td>\n",
       "      <td>675.0</td>\n",
       "      <td>239.0</td>\n",
       "    </tr>\n",
       "    <tr>\n",
       "      <td>23694</td>\n",
       "      <td>9</td>\n",
       "      <td>9700000.0</td>\n",
       "      <td>133.81</td>\n",
       "      <td>2017-03-21T00:00:00</td>\n",
       "      <td>3</td>\n",
       "      <td>3.70</td>\n",
       "      <td>5.0</td>\n",
       "      <td>73.3</td>\n",
       "      <td>3</td>\n",
       "      <td>NaN</td>\n",
       "      <td>...</td>\n",
       "      <td>13.83</td>\n",
       "      <td>NaN</td>\n",
       "      <td>Санкт-Петербург</td>\n",
       "      <td>24665.0</td>\n",
       "      <td>4232.0</td>\n",
       "      <td>1.0</td>\n",
       "      <td>796.0</td>\n",
       "      <td>3.0</td>\n",
       "      <td>381.0</td>\n",
       "      <td>NaN</td>\n",
       "    </tr>\n",
       "    <tr>\n",
       "      <td>23695</td>\n",
       "      <td>14</td>\n",
       "      <td>3100000.0</td>\n",
       "      <td>59.00</td>\n",
       "      <td>2018-01-15T00:00:00</td>\n",
       "      <td>3</td>\n",
       "      <td>NaN</td>\n",
       "      <td>5.0</td>\n",
       "      <td>38.0</td>\n",
       "      <td>4</td>\n",
       "      <td>NaN</td>\n",
       "      <td>...</td>\n",
       "      <td>8.50</td>\n",
       "      <td>NaN</td>\n",
       "      <td>Тосно</td>\n",
       "      <td>NaN</td>\n",
       "      <td>NaN</td>\n",
       "      <td>NaN</td>\n",
       "      <td>NaN</td>\n",
       "      <td>NaN</td>\n",
       "      <td>NaN</td>\n",
       "      <td>45.0</td>\n",
       "    </tr>\n",
       "    <tr>\n",
       "      <td>23696</td>\n",
       "      <td>18</td>\n",
       "      <td>2500000.0</td>\n",
       "      <td>56.70</td>\n",
       "      <td>2018-02-11T00:00:00</td>\n",
       "      <td>2</td>\n",
       "      <td>NaN</td>\n",
       "      <td>3.0</td>\n",
       "      <td>29.7</td>\n",
       "      <td>1</td>\n",
       "      <td>NaN</td>\n",
       "      <td>...</td>\n",
       "      <td>NaN</td>\n",
       "      <td>NaN</td>\n",
       "      <td>село Рождествено</td>\n",
       "      <td>NaN</td>\n",
       "      <td>NaN</td>\n",
       "      <td>NaN</td>\n",
       "      <td>NaN</td>\n",
       "      <td>NaN</td>\n",
       "      <td>NaN</td>\n",
       "      <td>NaN</td>\n",
       "    </tr>\n",
       "    <tr>\n",
       "      <td>23697</td>\n",
       "      <td>13</td>\n",
       "      <td>11475000.0</td>\n",
       "      <td>76.75</td>\n",
       "      <td>2017-03-28T00:00:00</td>\n",
       "      <td>2</td>\n",
       "      <td>3.00</td>\n",
       "      <td>17.0</td>\n",
       "      <td>NaN</td>\n",
       "      <td>12</td>\n",
       "      <td>NaN</td>\n",
       "      <td>...</td>\n",
       "      <td>23.30</td>\n",
       "      <td>2.0</td>\n",
       "      <td>Санкт-Петербург</td>\n",
       "      <td>39140.0</td>\n",
       "      <td>10364.0</td>\n",
       "      <td>2.0</td>\n",
       "      <td>173.0</td>\n",
       "      <td>3.0</td>\n",
       "      <td>196.0</td>\n",
       "      <td>602.0</td>\n",
       "    </tr>\n",
       "    <tr>\n",
       "      <td>23698</td>\n",
       "      <td>4</td>\n",
       "      <td>1350000.0</td>\n",
       "      <td>32.30</td>\n",
       "      <td>2017-07-21T00:00:00</td>\n",
       "      <td>1</td>\n",
       "      <td>2.50</td>\n",
       "      <td>5.0</td>\n",
       "      <td>12.3</td>\n",
       "      <td>1</td>\n",
       "      <td>NaN</td>\n",
       "      <td>...</td>\n",
       "      <td>9.00</td>\n",
       "      <td>NaN</td>\n",
       "      <td>поселок Новый Учхоз</td>\n",
       "      <td>NaN</td>\n",
       "      <td>NaN</td>\n",
       "      <td>NaN</td>\n",
       "      <td>NaN</td>\n",
       "      <td>NaN</td>\n",
       "      <td>NaN</td>\n",
       "      <td>NaN</td>\n",
       "    </tr>\n",
       "  </tbody>\n",
       "</table>\n",
       "<p>10 rows × 22 columns</p>\n",
       "</div>"
      ],
      "text/plain": [
       "       total_images  last_price  total_area first_day_exposition  rooms  \\\n",
       "23689            13   3550000.0       35.30  2018-02-28T00:00:00      1   \n",
       "23690             3   5500000.0       52.00  2018-07-19T00:00:00      2   \n",
       "23691            11   9470000.0       72.90  2016-10-13T00:00:00      2   \n",
       "23692             2   1350000.0       30.00  2017-07-07T00:00:00      1   \n",
       "23693             9   4600000.0       62.40  2016-08-05T00:00:00      3   \n",
       "23694             9   9700000.0      133.81  2017-03-21T00:00:00      3   \n",
       "23695            14   3100000.0       59.00  2018-01-15T00:00:00      3   \n",
       "23696            18   2500000.0       56.70  2018-02-11T00:00:00      2   \n",
       "23697            13  11475000.0       76.75  2017-03-28T00:00:00      2   \n",
       "23698             4   1350000.0       32.30  2017-07-21T00:00:00      1   \n",
       "\n",
       "       ceiling_height  floors_total  living_area  floor is_apartment  ...  \\\n",
       "23689            2.86          15.0         16.3      4          NaN  ...   \n",
       "23690             NaN           5.0         31.0      2          NaN  ...   \n",
       "23691            2.75          25.0         40.3      7          NaN  ...   \n",
       "23692             NaN           5.0         17.5      4          NaN  ...   \n",
       "23693            2.60           9.0         40.0      8          NaN  ...   \n",
       "23694            3.70           5.0         73.3      3          NaN  ...   \n",
       "23695             NaN           5.0         38.0      4          NaN  ...   \n",
       "23696             NaN           3.0         29.7      1          NaN  ...   \n",
       "23697            3.00          17.0          NaN     12          NaN  ...   \n",
       "23698            2.50           5.0         12.3      1          NaN  ...   \n",
       "\n",
       "       kitchen_area  balcony        locality_name  airports_nearest  \\\n",
       "23689          9.10      2.0      Санкт-Петербург           17284.0   \n",
       "23690          6.00      NaN      Санкт-Петербург           20151.0   \n",
       "23691         10.60      1.0      Санкт-Петербург           19424.0   \n",
       "23692          6.00      NaN               Тихвин               NaN   \n",
       "23693          8.00      0.0             Петергоф           45602.0   \n",
       "23694         13.83      NaN      Санкт-Петербург           24665.0   \n",
       "23695          8.50      NaN                Тосно               NaN   \n",
       "23696           NaN      NaN     село Рождествено               NaN   \n",
       "23697         23.30      2.0      Санкт-Петербург           39140.0   \n",
       "23698          9.00      NaN  поселок Новый Учхоз               NaN   \n",
       "\n",
       "      cityCenters_nearest  parks_around3000  parks_nearest  ponds_around3000  \\\n",
       "23689             16081.0               1.0          353.0               2.0   \n",
       "23690              6263.0               1.0          300.0               0.0   \n",
       "23691              4489.0               0.0            NaN               1.0   \n",
       "23692                 NaN               NaN            NaN               NaN   \n",
       "23693             34104.0               1.0          352.0               1.0   \n",
       "23694              4232.0               1.0          796.0               3.0   \n",
       "23695                 NaN               NaN            NaN               NaN   \n",
       "23696                 NaN               NaN            NaN               NaN   \n",
       "23697             10364.0               2.0          173.0               3.0   \n",
       "23698                 NaN               NaN            NaN               NaN   \n",
       "\n",
       "       ponds_nearest  days_exposition  \n",
       "23689          652.0             29.0  \n",
       "23690            NaN             15.0  \n",
       "23691          806.0            519.0  \n",
       "23692            NaN            413.0  \n",
       "23693          675.0            239.0  \n",
       "23694          381.0              NaN  \n",
       "23695            NaN             45.0  \n",
       "23696            NaN              NaN  \n",
       "23697          196.0            602.0  \n",
       "23698            NaN              NaN  \n",
       "\n",
       "[10 rows x 22 columns]"
      ]
     },
     "execution_count": 4,
     "metadata": {},
     "output_type": "execute_result"
    }
   ],
   "source": [
    "df.tail(10)"
   ]
  },
  {
   "cell_type": "code",
   "execution_count": 5,
   "metadata": {
    "scrolled": true
   },
   "outputs": [
    {
     "data": {
      "text/html": [
       "<div>\n",
       "<style scoped>\n",
       "    .dataframe tbody tr th:only-of-type {\n",
       "        vertical-align: middle;\n",
       "    }\n",
       "\n",
       "    .dataframe tbody tr th {\n",
       "        vertical-align: top;\n",
       "    }\n",
       "\n",
       "    .dataframe thead th {\n",
       "        text-align: right;\n",
       "    }\n",
       "</style>\n",
       "<table border=\"1\" class=\"dataframe\">\n",
       "  <thead>\n",
       "    <tr style=\"text-align: right;\">\n",
       "      <th></th>\n",
       "      <th>total_images</th>\n",
       "      <th>last_price</th>\n",
       "      <th>total_area</th>\n",
       "      <th>rooms</th>\n",
       "      <th>ceiling_height</th>\n",
       "      <th>floors_total</th>\n",
       "      <th>living_area</th>\n",
       "      <th>floor</th>\n",
       "      <th>kitchen_area</th>\n",
       "      <th>balcony</th>\n",
       "      <th>airports_nearest</th>\n",
       "      <th>cityCenters_nearest</th>\n",
       "      <th>parks_around3000</th>\n",
       "      <th>parks_nearest</th>\n",
       "      <th>ponds_around3000</th>\n",
       "      <th>ponds_nearest</th>\n",
       "      <th>days_exposition</th>\n",
       "    </tr>\n",
       "  </thead>\n",
       "  <tbody>\n",
       "    <tr>\n",
       "      <td>count</td>\n",
       "      <td>23699.000000</td>\n",
       "      <td>2.369900e+04</td>\n",
       "      <td>23699.000000</td>\n",
       "      <td>23699.000000</td>\n",
       "      <td>14504.000000</td>\n",
       "      <td>23613.000000</td>\n",
       "      <td>21796.000000</td>\n",
       "      <td>23699.000000</td>\n",
       "      <td>21421.000000</td>\n",
       "      <td>12180.000000</td>\n",
       "      <td>18157.000000</td>\n",
       "      <td>18180.000000</td>\n",
       "      <td>18181.000000</td>\n",
       "      <td>8079.000000</td>\n",
       "      <td>18181.000000</td>\n",
       "      <td>9110.000000</td>\n",
       "      <td>20518.000000</td>\n",
       "    </tr>\n",
       "    <tr>\n",
       "      <td>mean</td>\n",
       "      <td>9.858475</td>\n",
       "      <td>6.541549e+06</td>\n",
       "      <td>60.348651</td>\n",
       "      <td>2.070636</td>\n",
       "      <td>2.771499</td>\n",
       "      <td>10.673824</td>\n",
       "      <td>34.457852</td>\n",
       "      <td>5.892358</td>\n",
       "      <td>10.569807</td>\n",
       "      <td>1.150082</td>\n",
       "      <td>28793.672193</td>\n",
       "      <td>14191.277833</td>\n",
       "      <td>0.611408</td>\n",
       "      <td>490.804555</td>\n",
       "      <td>0.770255</td>\n",
       "      <td>517.980900</td>\n",
       "      <td>180.888634</td>\n",
       "    </tr>\n",
       "    <tr>\n",
       "      <td>std</td>\n",
       "      <td>5.682529</td>\n",
       "      <td>1.088701e+07</td>\n",
       "      <td>35.654083</td>\n",
       "      <td>1.078405</td>\n",
       "      <td>1.261056</td>\n",
       "      <td>6.597173</td>\n",
       "      <td>22.030445</td>\n",
       "      <td>4.885249</td>\n",
       "      <td>5.905438</td>\n",
       "      <td>1.071300</td>\n",
       "      <td>12630.880622</td>\n",
       "      <td>8608.386210</td>\n",
       "      <td>0.802074</td>\n",
       "      <td>342.317995</td>\n",
       "      <td>0.938346</td>\n",
       "      <td>277.720643</td>\n",
       "      <td>219.727988</td>\n",
       "    </tr>\n",
       "    <tr>\n",
       "      <td>min</td>\n",
       "      <td>0.000000</td>\n",
       "      <td>1.219000e+04</td>\n",
       "      <td>12.000000</td>\n",
       "      <td>0.000000</td>\n",
       "      <td>1.000000</td>\n",
       "      <td>1.000000</td>\n",
       "      <td>2.000000</td>\n",
       "      <td>1.000000</td>\n",
       "      <td>1.300000</td>\n",
       "      <td>0.000000</td>\n",
       "      <td>0.000000</td>\n",
       "      <td>181.000000</td>\n",
       "      <td>0.000000</td>\n",
       "      <td>1.000000</td>\n",
       "      <td>0.000000</td>\n",
       "      <td>13.000000</td>\n",
       "      <td>1.000000</td>\n",
       "    </tr>\n",
       "    <tr>\n",
       "      <td>25%</td>\n",
       "      <td>6.000000</td>\n",
       "      <td>3.400000e+06</td>\n",
       "      <td>40.000000</td>\n",
       "      <td>1.000000</td>\n",
       "      <td>2.520000</td>\n",
       "      <td>5.000000</td>\n",
       "      <td>18.600000</td>\n",
       "      <td>2.000000</td>\n",
       "      <td>7.000000</td>\n",
       "      <td>0.000000</td>\n",
       "      <td>18585.000000</td>\n",
       "      <td>9238.000000</td>\n",
       "      <td>0.000000</td>\n",
       "      <td>288.000000</td>\n",
       "      <td>0.000000</td>\n",
       "      <td>294.000000</td>\n",
       "      <td>45.000000</td>\n",
       "    </tr>\n",
       "    <tr>\n",
       "      <td>50%</td>\n",
       "      <td>9.000000</td>\n",
       "      <td>4.650000e+06</td>\n",
       "      <td>52.000000</td>\n",
       "      <td>2.000000</td>\n",
       "      <td>2.650000</td>\n",
       "      <td>9.000000</td>\n",
       "      <td>30.000000</td>\n",
       "      <td>4.000000</td>\n",
       "      <td>9.100000</td>\n",
       "      <td>1.000000</td>\n",
       "      <td>26726.000000</td>\n",
       "      <td>13098.500000</td>\n",
       "      <td>0.000000</td>\n",
       "      <td>455.000000</td>\n",
       "      <td>1.000000</td>\n",
       "      <td>502.000000</td>\n",
       "      <td>95.000000</td>\n",
       "    </tr>\n",
       "    <tr>\n",
       "      <td>75%</td>\n",
       "      <td>14.000000</td>\n",
       "      <td>6.800000e+06</td>\n",
       "      <td>69.900000</td>\n",
       "      <td>3.000000</td>\n",
       "      <td>2.800000</td>\n",
       "      <td>16.000000</td>\n",
       "      <td>42.300000</td>\n",
       "      <td>8.000000</td>\n",
       "      <td>12.000000</td>\n",
       "      <td>2.000000</td>\n",
       "      <td>37273.000000</td>\n",
       "      <td>16293.000000</td>\n",
       "      <td>1.000000</td>\n",
       "      <td>612.000000</td>\n",
       "      <td>1.000000</td>\n",
       "      <td>729.000000</td>\n",
       "      <td>232.000000</td>\n",
       "    </tr>\n",
       "    <tr>\n",
       "      <td>max</td>\n",
       "      <td>50.000000</td>\n",
       "      <td>7.630000e+08</td>\n",
       "      <td>900.000000</td>\n",
       "      <td>19.000000</td>\n",
       "      <td>100.000000</td>\n",
       "      <td>60.000000</td>\n",
       "      <td>409.700000</td>\n",
       "      <td>33.000000</td>\n",
       "      <td>112.000000</td>\n",
       "      <td>5.000000</td>\n",
       "      <td>84869.000000</td>\n",
       "      <td>65968.000000</td>\n",
       "      <td>3.000000</td>\n",
       "      <td>3190.000000</td>\n",
       "      <td>3.000000</td>\n",
       "      <td>1344.000000</td>\n",
       "      <td>1580.000000</td>\n",
       "    </tr>\n",
       "  </tbody>\n",
       "</table>\n",
       "</div>"
      ],
      "text/plain": [
       "       total_images    last_price    total_area         rooms  ceiling_height  \\\n",
       "count  23699.000000  2.369900e+04  23699.000000  23699.000000    14504.000000   \n",
       "mean       9.858475  6.541549e+06     60.348651      2.070636        2.771499   \n",
       "std        5.682529  1.088701e+07     35.654083      1.078405        1.261056   \n",
       "min        0.000000  1.219000e+04     12.000000      0.000000        1.000000   \n",
       "25%        6.000000  3.400000e+06     40.000000      1.000000        2.520000   \n",
       "50%        9.000000  4.650000e+06     52.000000      2.000000        2.650000   \n",
       "75%       14.000000  6.800000e+06     69.900000      3.000000        2.800000   \n",
       "max       50.000000  7.630000e+08    900.000000     19.000000      100.000000   \n",
       "\n",
       "       floors_total   living_area         floor  kitchen_area       balcony  \\\n",
       "count  23613.000000  21796.000000  23699.000000  21421.000000  12180.000000   \n",
       "mean      10.673824     34.457852      5.892358     10.569807      1.150082   \n",
       "std        6.597173     22.030445      4.885249      5.905438      1.071300   \n",
       "min        1.000000      2.000000      1.000000      1.300000      0.000000   \n",
       "25%        5.000000     18.600000      2.000000      7.000000      0.000000   \n",
       "50%        9.000000     30.000000      4.000000      9.100000      1.000000   \n",
       "75%       16.000000     42.300000      8.000000     12.000000      2.000000   \n",
       "max       60.000000    409.700000     33.000000    112.000000      5.000000   \n",
       "\n",
       "       airports_nearest  cityCenters_nearest  parks_around3000  parks_nearest  \\\n",
       "count      18157.000000         18180.000000      18181.000000    8079.000000   \n",
       "mean       28793.672193         14191.277833          0.611408     490.804555   \n",
       "std        12630.880622          8608.386210          0.802074     342.317995   \n",
       "min            0.000000           181.000000          0.000000       1.000000   \n",
       "25%        18585.000000          9238.000000          0.000000     288.000000   \n",
       "50%        26726.000000         13098.500000          0.000000     455.000000   \n",
       "75%        37273.000000         16293.000000          1.000000     612.000000   \n",
       "max        84869.000000         65968.000000          3.000000    3190.000000   \n",
       "\n",
       "       ponds_around3000  ponds_nearest  days_exposition  \n",
       "count      18181.000000    9110.000000     20518.000000  \n",
       "mean           0.770255     517.980900       180.888634  \n",
       "std            0.938346     277.720643       219.727988  \n",
       "min            0.000000      13.000000         1.000000  \n",
       "25%            0.000000     294.000000        45.000000  \n",
       "50%            1.000000     502.000000        95.000000  \n",
       "75%            1.000000     729.000000       232.000000  \n",
       "max            3.000000    1344.000000      1580.000000  "
      ]
     },
     "execution_count": 5,
     "metadata": {},
     "output_type": "execute_result"
    }
   ],
   "source": [
    "df.describe()"
   ]
  },
  {
   "cell_type": "markdown",
   "metadata": {},
   "source": [
    "**Теперь разберёмся со значениями столбцов, чтобы в дальнейшем было понятней очём идёт речь**\n",
    "\n",
    "total_images — число фотографий квартиры в объявлении\n",
    "\n",
    "last_price — цена на момент снятия объявления с публикации\n",
    "\n",
    "total_area — площадь квартиры (в квадратных метрах)\n",
    "\n",
    "first_day_exposition — дата первой публикации\n",
    "\n",
    "rooms — количество комнат\n",
    "\n",
    "ceiling_height — высота потолков (в метрах)\n",
    "\n",
    "floors_total — количетсво этажей в здании\n",
    "\n",
    "living_area — жилая площадь (в квадратных метрах)\n",
    "\n",
    "floor — этаж\n",
    "\n",
    "is_apartment — апартаменты (или нет)\n",
    "\n",
    "studio — квартира студия (или нет)\n",
    "\n",
    "open_plan - свободная планировка (или нет)\n",
    "\n",
    "kitchen_area — площадь кухни (в квадратных метрах)\n",
    "\n",
    "balcony — количетсво балконов\n",
    "\n",
    "locality_name — название населённого пункта\n",
    "\n",
    "airports_nearest — расстояние до ближайшего аэропорта (в метрах)\n",
    "\n",
    "cityCenters_nearest — расстояние до центра города (в метрах)\n",
    "\n",
    "parks_around3000 — число парков в радиусе 3000 метров (3 км)\n",
    "\n",
    "parks_nearest — расстояние до ближайшего парка (в метрах)\n",
    "\n",
    "ponds_around3000 — число водоёмов в радиусе 3000 метров (3 км)\n",
    "\n",
    "ponds_nearest — расстояние до ближайшего водоёма (в метрах)\n",
    "\n",
    "days_exposition — сколько дней было размещено объявление (от публикации до снятия)"
   ]
  },
  {
   "cell_type": "markdown",
   "metadata": {},
   "source": [
    "### Предварительный вывод"
   ]
  },
  {
   "cell_type": "markdown",
   "metadata": {},
   "source": [
    "Имеем датафрейм - таблицу состоящую из 23699 строк и 22 колонок, изобилующих потенциальными проблемами для дальнейшего исследования. Особенно сильно бросаются в глаза пропуски и некорректные типы данных. Например:\n",
    "\n",
    "first_day_exposition - тип данных *object* (предполагаю, что должен быть тип данных *datetime*)\n",
    "\n",
    "floors_total - тип данных *float64* (а должен быть тип *int*, т.к. количество этажей, как правило, это целочисленное значение)\n",
    "\n",
    "is_apartment - тип данных *object* (предполагаю, что должен быть тип данных *bool*, т.к. значение либо \"да, это апартаменты\" либо \"нет, это не апартаменты\")\n",
    "\n",
    "parks_around3000 - тип данных *float64*, а должен быть *int* (Было бы странно иметь 1,5 парка в окрестностях. Может они конечно так считают какие нибудь скверы, но такие предположения контрпродуктивны. Поэтому будем считать в целочисленных парках)\n",
    "\n",
    "ponds_around3000 - тип данных *float64*, а должен быть *int* (То же самое, что и с парками. Мы не лимнологи и не милиораторы, мы обычные квартиро-продоваторы. Поэтому не станем делить водоёмы на части)\n",
    "\n",
    "days_exposition - тип данных *float64*, а должен быть *int* (Если бы нужна была супер точность, измеряли бы в часах или даже в минутах. Но тут, я полагаю, всё же измерения происходят в днях, а потому будем считать их целочисленно)\n",
    "\n",
    "**Ну, и как говрил Баз Лайтер: NaN's, NaN's everywhere***\n",
    "\n",
    "is_apartment, parks_around3000, ponds_around3000, living_area, kitchen_area, balcony, locality_name, airports_nearest, cityCenters_nearest, parks_nearest, ponds_nearest, ceiling_height, days_exposition - все содержат нулевые значения\n"
   ]
  },
  {
   "cell_type": "markdown",
   "metadata": {},
   "source": [
    "## Предобработка данных"
   ]
  },
  {
   "cell_type": "markdown",
   "metadata": {},
   "source": [
    "Создадим наглядную таблицу с пропусками по столбцам и отсортируем её по убыванию"
   ]
  },
  {
   "cell_type": "code",
   "execution_count": 6,
   "metadata": {},
   "outputs": [
    {
     "data": {
      "text/html": [
       "<style  type=\"text/css\" >\n",
       "</style><table id=\"T_a0a6304a_5b45_11ec_b5a0_02420a39597d\" ><thead>    <tr>        <th class=\"blank level0\" ></th>        <th class=\"col_heading level0 col0\" >column_name</th>        <th class=\"col_heading level0 col1\" >missing_value</th>    </tr></thead><tbody>\n",
       "                <tr>\n",
       "                        <th id=\"T_a0a6304a_5b45_11ec_b5a0_02420a39597dlevel0_row0\" class=\"row_heading level0 row0\" >9</th>\n",
       "                        <td id=\"T_a0a6304a_5b45_11ec_b5a0_02420a39597drow0_col0\" class=\"data row0 col0\" >is_apartment</td>\n",
       "                        <td id=\"T_a0a6304a_5b45_11ec_b5a0_02420a39597drow0_col1\" class=\"data row0 col1\" >88.29%</td>\n",
       "            </tr>\n",
       "            <tr>\n",
       "                        <th id=\"T_a0a6304a_5b45_11ec_b5a0_02420a39597dlevel0_row1\" class=\"row_heading level0 row1\" >18</th>\n",
       "                        <td id=\"T_a0a6304a_5b45_11ec_b5a0_02420a39597drow1_col0\" class=\"data row1 col0\" >parks_nearest</td>\n",
       "                        <td id=\"T_a0a6304a_5b45_11ec_b5a0_02420a39597drow1_col1\" class=\"data row1 col1\" >65.91%</td>\n",
       "            </tr>\n",
       "            <tr>\n",
       "                        <th id=\"T_a0a6304a_5b45_11ec_b5a0_02420a39597dlevel0_row2\" class=\"row_heading level0 row2\" >20</th>\n",
       "                        <td id=\"T_a0a6304a_5b45_11ec_b5a0_02420a39597drow2_col0\" class=\"data row2 col0\" >ponds_nearest</td>\n",
       "                        <td id=\"T_a0a6304a_5b45_11ec_b5a0_02420a39597drow2_col1\" class=\"data row2 col1\" >61.56%</td>\n",
       "            </tr>\n",
       "            <tr>\n",
       "                        <th id=\"T_a0a6304a_5b45_11ec_b5a0_02420a39597dlevel0_row3\" class=\"row_heading level0 row3\" >13</th>\n",
       "                        <td id=\"T_a0a6304a_5b45_11ec_b5a0_02420a39597drow3_col0\" class=\"data row3 col0\" >balcony</td>\n",
       "                        <td id=\"T_a0a6304a_5b45_11ec_b5a0_02420a39597drow3_col1\" class=\"data row3 col1\" >48.61%</td>\n",
       "            </tr>\n",
       "            <tr>\n",
       "                        <th id=\"T_a0a6304a_5b45_11ec_b5a0_02420a39597dlevel0_row4\" class=\"row_heading level0 row4\" >5</th>\n",
       "                        <td id=\"T_a0a6304a_5b45_11ec_b5a0_02420a39597drow4_col0\" class=\"data row4 col0\" >ceiling_height</td>\n",
       "                        <td id=\"T_a0a6304a_5b45_11ec_b5a0_02420a39597drow4_col1\" class=\"data row4 col1\" >38.80%</td>\n",
       "            </tr>\n",
       "            <tr>\n",
       "                        <th id=\"T_a0a6304a_5b45_11ec_b5a0_02420a39597dlevel0_row5\" class=\"row_heading level0 row5\" >15</th>\n",
       "                        <td id=\"T_a0a6304a_5b45_11ec_b5a0_02420a39597drow5_col0\" class=\"data row5 col0\" >airports_nearest</td>\n",
       "                        <td id=\"T_a0a6304a_5b45_11ec_b5a0_02420a39597drow5_col1\" class=\"data row5 col1\" >23.38%</td>\n",
       "            </tr>\n",
       "            <tr>\n",
       "                        <th id=\"T_a0a6304a_5b45_11ec_b5a0_02420a39597dlevel0_row6\" class=\"row_heading level0 row6\" >16</th>\n",
       "                        <td id=\"T_a0a6304a_5b45_11ec_b5a0_02420a39597drow6_col0\" class=\"data row6 col0\" >cityCenters_nearest</td>\n",
       "                        <td id=\"T_a0a6304a_5b45_11ec_b5a0_02420a39597drow6_col1\" class=\"data row6 col1\" >23.29%</td>\n",
       "            </tr>\n",
       "            <tr>\n",
       "                        <th id=\"T_a0a6304a_5b45_11ec_b5a0_02420a39597dlevel0_row7\" class=\"row_heading level0 row7\" >19</th>\n",
       "                        <td id=\"T_a0a6304a_5b45_11ec_b5a0_02420a39597drow7_col0\" class=\"data row7 col0\" >ponds_around3000</td>\n",
       "                        <td id=\"T_a0a6304a_5b45_11ec_b5a0_02420a39597drow7_col1\" class=\"data row7 col1\" >23.28%</td>\n",
       "            </tr>\n",
       "            <tr>\n",
       "                        <th id=\"T_a0a6304a_5b45_11ec_b5a0_02420a39597dlevel0_row8\" class=\"row_heading level0 row8\" >17</th>\n",
       "                        <td id=\"T_a0a6304a_5b45_11ec_b5a0_02420a39597drow8_col0\" class=\"data row8 col0\" >parks_around3000</td>\n",
       "                        <td id=\"T_a0a6304a_5b45_11ec_b5a0_02420a39597drow8_col1\" class=\"data row8 col1\" >23.28%</td>\n",
       "            </tr>\n",
       "            <tr>\n",
       "                        <th id=\"T_a0a6304a_5b45_11ec_b5a0_02420a39597dlevel0_row9\" class=\"row_heading level0 row9\" >21</th>\n",
       "                        <td id=\"T_a0a6304a_5b45_11ec_b5a0_02420a39597drow9_col0\" class=\"data row9 col0\" >days_exposition</td>\n",
       "                        <td id=\"T_a0a6304a_5b45_11ec_b5a0_02420a39597drow9_col1\" class=\"data row9 col1\" >13.42%</td>\n",
       "            </tr>\n",
       "            <tr>\n",
       "                        <th id=\"T_a0a6304a_5b45_11ec_b5a0_02420a39597dlevel0_row10\" class=\"row_heading level0 row10\" >12</th>\n",
       "                        <td id=\"T_a0a6304a_5b45_11ec_b5a0_02420a39597drow10_col0\" class=\"data row10 col0\" >kitchen_area</td>\n",
       "                        <td id=\"T_a0a6304a_5b45_11ec_b5a0_02420a39597drow10_col1\" class=\"data row10 col1\" >9.61%</td>\n",
       "            </tr>\n",
       "            <tr>\n",
       "                        <th id=\"T_a0a6304a_5b45_11ec_b5a0_02420a39597dlevel0_row11\" class=\"row_heading level0 row11\" >7</th>\n",
       "                        <td id=\"T_a0a6304a_5b45_11ec_b5a0_02420a39597drow11_col0\" class=\"data row11 col0\" >living_area</td>\n",
       "                        <td id=\"T_a0a6304a_5b45_11ec_b5a0_02420a39597drow11_col1\" class=\"data row11 col1\" >8.03%</td>\n",
       "            </tr>\n",
       "            <tr>\n",
       "                        <th id=\"T_a0a6304a_5b45_11ec_b5a0_02420a39597dlevel0_row12\" class=\"row_heading level0 row12\" >6</th>\n",
       "                        <td id=\"T_a0a6304a_5b45_11ec_b5a0_02420a39597drow12_col0\" class=\"data row12 col0\" >floors_total</td>\n",
       "                        <td id=\"T_a0a6304a_5b45_11ec_b5a0_02420a39597drow12_col1\" class=\"data row12 col1\" >0.36%</td>\n",
       "            </tr>\n",
       "            <tr>\n",
       "                        <th id=\"T_a0a6304a_5b45_11ec_b5a0_02420a39597dlevel0_row13\" class=\"row_heading level0 row13\" >14</th>\n",
       "                        <td id=\"T_a0a6304a_5b45_11ec_b5a0_02420a39597drow13_col0\" class=\"data row13 col0\" >locality_name</td>\n",
       "                        <td id=\"T_a0a6304a_5b45_11ec_b5a0_02420a39597drow13_col1\" class=\"data row13 col1\" >0.21%</td>\n",
       "            </tr>\n",
       "            <tr>\n",
       "                        <th id=\"T_a0a6304a_5b45_11ec_b5a0_02420a39597dlevel0_row14\" class=\"row_heading level0 row14\" >0</th>\n",
       "                        <td id=\"T_a0a6304a_5b45_11ec_b5a0_02420a39597drow14_col0\" class=\"data row14 col0\" >total_images</td>\n",
       "                        <td id=\"T_a0a6304a_5b45_11ec_b5a0_02420a39597drow14_col1\" class=\"data row14 col1\" >0.00%</td>\n",
       "            </tr>\n",
       "            <tr>\n",
       "                        <th id=\"T_a0a6304a_5b45_11ec_b5a0_02420a39597dlevel0_row15\" class=\"row_heading level0 row15\" >1</th>\n",
       "                        <td id=\"T_a0a6304a_5b45_11ec_b5a0_02420a39597drow15_col0\" class=\"data row15 col0\" >last_price</td>\n",
       "                        <td id=\"T_a0a6304a_5b45_11ec_b5a0_02420a39597drow15_col1\" class=\"data row15 col1\" >0.00%</td>\n",
       "            </tr>\n",
       "            <tr>\n",
       "                        <th id=\"T_a0a6304a_5b45_11ec_b5a0_02420a39597dlevel0_row16\" class=\"row_heading level0 row16\" >10</th>\n",
       "                        <td id=\"T_a0a6304a_5b45_11ec_b5a0_02420a39597drow16_col0\" class=\"data row16 col0\" >studio</td>\n",
       "                        <td id=\"T_a0a6304a_5b45_11ec_b5a0_02420a39597drow16_col1\" class=\"data row16 col1\" >0.00%</td>\n",
       "            </tr>\n",
       "            <tr>\n",
       "                        <th id=\"T_a0a6304a_5b45_11ec_b5a0_02420a39597dlevel0_row17\" class=\"row_heading level0 row17\" >8</th>\n",
       "                        <td id=\"T_a0a6304a_5b45_11ec_b5a0_02420a39597drow17_col0\" class=\"data row17 col0\" >floor</td>\n",
       "                        <td id=\"T_a0a6304a_5b45_11ec_b5a0_02420a39597drow17_col1\" class=\"data row17 col1\" >0.00%</td>\n",
       "            </tr>\n",
       "            <tr>\n",
       "                        <th id=\"T_a0a6304a_5b45_11ec_b5a0_02420a39597dlevel0_row18\" class=\"row_heading level0 row18\" >4</th>\n",
       "                        <td id=\"T_a0a6304a_5b45_11ec_b5a0_02420a39597drow18_col0\" class=\"data row18 col0\" >rooms</td>\n",
       "                        <td id=\"T_a0a6304a_5b45_11ec_b5a0_02420a39597drow18_col1\" class=\"data row18 col1\" >0.00%</td>\n",
       "            </tr>\n",
       "            <tr>\n",
       "                        <th id=\"T_a0a6304a_5b45_11ec_b5a0_02420a39597dlevel0_row19\" class=\"row_heading level0 row19\" >3</th>\n",
       "                        <td id=\"T_a0a6304a_5b45_11ec_b5a0_02420a39597drow19_col0\" class=\"data row19 col0\" >first_day_exposition</td>\n",
       "                        <td id=\"T_a0a6304a_5b45_11ec_b5a0_02420a39597drow19_col1\" class=\"data row19 col1\" >0.00%</td>\n",
       "            </tr>\n",
       "            <tr>\n",
       "                        <th id=\"T_a0a6304a_5b45_11ec_b5a0_02420a39597dlevel0_row20\" class=\"row_heading level0 row20\" >2</th>\n",
       "                        <td id=\"T_a0a6304a_5b45_11ec_b5a0_02420a39597drow20_col0\" class=\"data row20 col0\" >total_area</td>\n",
       "                        <td id=\"T_a0a6304a_5b45_11ec_b5a0_02420a39597drow20_col1\" class=\"data row20 col1\" >0.00%</td>\n",
       "            </tr>\n",
       "            <tr>\n",
       "                        <th id=\"T_a0a6304a_5b45_11ec_b5a0_02420a39597dlevel0_row21\" class=\"row_heading level0 row21\" >11</th>\n",
       "                        <td id=\"T_a0a6304a_5b45_11ec_b5a0_02420a39597drow21_col0\" class=\"data row21 col0\" >open_plan</td>\n",
       "                        <td id=\"T_a0a6304a_5b45_11ec_b5a0_02420a39597drow21_col1\" class=\"data row21 col1\" >0.00%</td>\n",
       "            </tr>\n",
       "    </tbody></table>"
      ],
      "text/plain": [
       "<pandas.io.formats.style.Styler at 0x7f8b2ccc0310>"
      ]
     },
     "execution_count": 6,
     "metadata": {},
     "output_type": "execute_result"
    }
   ],
   "source": [
    "miss_value=pd.DataFrame(df.isna().mean()).reset_index()\n",
    "miss_value.set_axis(['column_name', 'missing_value'], axis = 'columns', inplace = True)\n",
    "miss_value.sort_values(by='missing_value', ascending=False).style.format({ 'missing_value': '{:,.2%}'.format})"
   ]
  },
  {
   "cell_type": "markdown",
   "metadata": {},
   "source": [
    "Мы итак уже знали, что пропусков довольно много, а теперь видим наглядно где они и какова их доля от общего количества данных в столбце"
   ]
  },
  {
   "cell_type": "markdown",
   "metadata": {},
   "source": [
    "План такой:\n",
    "\n",
    "1. Удаляем строки с долей пропусков менее 5%\n",
    "2. Разбираемся с пропусками в остальных столбцах"
   ]
  },
  {
   "cell_type": "code",
   "execution_count": 7,
   "metadata": {},
   "outputs": [],
   "source": [
    "df = df.dropna(subset = ['locality_name','floors_total'])"
   ]
  },
  {
   "cell_type": "markdown",
   "metadata": {},
   "source": [
    "**Обработаем пропуски в остальных столбцах**\n",
    "\n",
    "Большое количество пропусков в столбце *is_apartment*. Причиной этому могло послужить то, что на этапе продажи, люди не устанавливали значение \"апартаменты\", если продаваемая ими площадь этими апартаментами не являлась(Или они были не в курсе, что у них апартаменты. Такое тоже может быть. Лично я раньше слышал этот термин, только в шоу про путешествия: когда герои заселялись в гостиницы, появлялось слово аппартаменты). В Википедии же говорится: \"В России апартаменты — это нежилые помещения, не относящиеся к жилому фонду, но имеющие необходимые условия для проживания. Апартаменты продаются в административных зданиях, а также в зданиях, имеющих статус гостиницы.\"\n",
    "Исходя из всего вышеописанного, делаем вывод, что проще заменить пропуски в данном столбце на False, т.к. этот столбец не будет сильно интересовать нас в будущем и такое изменения считаю допустимым"
   ]
  },
  {
   "cell_type": "code",
   "execution_count": 8,
   "metadata": {},
   "outputs": [],
   "source": [
    "df['is_apartment'] = df['is_apartment'].fillna(False)"
   ]
  },
  {
   "cell_type": "markdown",
   "metadata": {},
   "source": [
    "Пропуски в стоолбцах *parks_nearest* и *parks_around3000* вероятнее всего вызваны технической ошибкой (В описании проекта уже было сказано, что эти и некоторые другие столбцы были получены автоматически на основе картографических данных. Так что такой вариант считаю наиболее вероятным)\n",
    "\n",
    "Предположим столбцы *parks_nearest* и *parks_around3000* связаны между собой(Это было бы логично). Проверим это:"
   ]
  },
  {
   "cell_type": "code",
   "execution_count": 9,
   "metadata": {},
   "outputs": [
    {
     "name": "stdout",
     "output_type": "stream",
     "text": [
      "[nan]\n"
     ]
    }
   ],
   "source": [
    "print(df.loc[df['parks_around3000'].isna()]['parks_nearest'].unique())"
   ]
  },
  {
   "cell_type": "markdown",
   "metadata": {},
   "source": [
    "Значения отсутствуют в обеих столбцах, поэтому заменим пропуски в столбце *parks_around3000* на 0"
   ]
  },
  {
   "cell_type": "code",
   "execution_count": 10,
   "metadata": {},
   "outputs": [],
   "source": [
    "df['parks_around3000'] = df['parks_around3000'].fillna(value = 0)"
   ]
  },
  {
   "cell_type": "markdown",
   "metadata": {},
   "source": [
    "Выведем нулевые значения по столбцу *parks_around3000* и проверим значения в столбце *parks_nearest*"
   ]
  },
  {
   "cell_type": "code",
   "execution_count": 11,
   "metadata": {},
   "outputs": [
    {
     "name": "stdout",
     "output_type": "stream",
     "text": [
      "[  nan 3064. 3190. 3013.]\n"
     ]
    }
   ],
   "source": [
    "print(df.loc[df['parks_around3000'] == 0]['parks_nearest'].unique())"
   ]
  },
  {
   "cell_type": "markdown",
   "metadata": {},
   "source": [
    "Выведем строки с пустыми значениями по столбцу \"parks_nearest\" и проверим значения в столбце \"parks_around3000\""
   ]
  },
  {
   "cell_type": "code",
   "execution_count": 12,
   "metadata": {},
   "outputs": [
    {
     "name": "stdout",
     "output_type": "stream",
     "text": [
      "[0.]\n"
     ]
    }
   ],
   "source": [
    "print(df.loc[df['parks_nearest'].isna()]['parks_around3000'].unique())"
   ]
  },
  {
   "cell_type": "markdown",
   "metadata": {},
   "source": [
    "Видим, что все пропуски в столбце *parks_nearest* соответствуют нулевым значениям в столбце *parks_around3000*\n",
    "\n",
    "Теперь у нас есть основания для проведения группировки по столбцу *parks_nearest* и сохранению новых данных в новом столбце, которй мы назовём *parks_nearest_group*. Для это пропишем функцию *nearest*"
   ]
  },
  {
   "cell_type": "code",
   "execution_count": 13,
   "metadata": {},
   "outputs": [],
   "source": [
    "def nearest (dist):\n",
    "    if dist <= 500:\n",
    "        return \"до 500\"\n",
    "    elif dist <= 1500:\n",
    "        return \"от 501 до 1500\"\n",
    "    elif dist <= 3000:\n",
    "        return \"от 1501 до 3000\"\n",
    "    else:\n",
    "        return \"более 3000\"\n",
    "df['parks_nearest_group'] = df['parks_nearest'].apply(nearest)"
   ]
  },
  {
   "cell_type": "markdown",
   "metadata": {},
   "source": [
    "Столбцы по данным с прудами обработаем аналогичным образом"
   ]
  },
  {
   "cell_type": "code",
   "execution_count": 14,
   "metadata": {},
   "outputs": [],
   "source": [
    "df['ponds_around3000'] = df['ponds_around3000'].fillna(value = 0)\n",
    "df['ponds_nearest_groups'] = df['ponds_nearest'].apply(nearest)"
   ]
  },
  {
   "cell_type": "markdown",
   "metadata": {},
   "source": [
    "Пропуски по столбцу *balcony* заменим на 0, исходя из того, что раз продавец не указал число балконов, то они отсутсвуют в принципе"
   ]
  },
  {
   "cell_type": "code",
   "execution_count": 15,
   "metadata": {},
   "outputs": [],
   "source": [
    "df['balcony'] = df['balcony'].fillna(value = 0)"
   ]
  },
  {
   "cell_type": "markdown",
   "metadata": {},
   "source": [
    "Пропуски по столбцу ceiling_height заменим на модальное значение, т.к. они скорее всего вызваны либо техническими проблемами при выгрузке данных, либо нежеланием продавца заполнять данное поле(хотя довольно странно, что человеку лень поднять голову и хотя бы примерно оценить высоту потолка)"
   ]
  },
  {
   "cell_type": "code",
   "execution_count": 16,
   "metadata": {},
   "outputs": [],
   "source": [
    "df['ceiling_height']=df['ceiling_height'].fillna(value=df['ceiling_height'].mode()[0])"
   ]
  },
  {
   "cell_type": "markdown",
   "metadata": {},
   "source": [
    "Пропуски по удаленности от ближайшего аэропорта скорее всего вызваны технической ошибкой (Так же, как и с парками, эти столбцы были получены автоматически на основе картографических данных)\n",
    "\n",
    "Поэтому заполним пропуски медианными значениями в соответствии с locality_name"
   ]
  },
  {
   "cell_type": "code",
   "execution_count": 17,
   "metadata": {},
   "outputs": [],
   "source": [
    "distance_med = df.groupby('locality_name')['airports_nearest'].median()\n",
    "for locality_name in distance_med.index:\n",
    "    df.loc[(df['airports_nearest'].isna()) & (df['locality_name'] == locality_name), 'airports_nearest'] = distance_med.loc[locality_name]"
   ]
  },
  {
   "cell_type": "markdown",
   "metadata": {},
   "source": [
    "Ещё раз проверим ситуацию с пропусками"
   ]
  },
  {
   "cell_type": "code",
   "execution_count": 18,
   "metadata": {},
   "outputs": [
    {
     "data": {
      "text/html": [
       "<style  type=\"text/css\" >\n",
       "</style><table id=\"T_a156e0e8_5b45_11ec_b5a0_02420a39597d\" ><thead>    <tr>        <th class=\"blank level0\" ></th>        <th class=\"col_heading level0 col0\" >column_name</th>        <th class=\"col_heading level0 col1\" >missing_value</th>    </tr></thead><tbody>\n",
       "                <tr>\n",
       "                        <th id=\"T_a156e0e8_5b45_11ec_b5a0_02420a39597dlevel0_row0\" class=\"row_heading level0 row0\" >18</th>\n",
       "                        <td id=\"T_a156e0e8_5b45_11ec_b5a0_02420a39597drow0_col0\" class=\"data row0 col0\" >parks_nearest</td>\n",
       "                        <td id=\"T_a156e0e8_5b45_11ec_b5a0_02420a39597drow0_col1\" class=\"data row0 col1\" >65.92%</td>\n",
       "            </tr>\n",
       "            <tr>\n",
       "                        <th id=\"T_a156e0e8_5b45_11ec_b5a0_02420a39597dlevel0_row1\" class=\"row_heading level0 row1\" >20</th>\n",
       "                        <td id=\"T_a156e0e8_5b45_11ec_b5a0_02420a39597drow1_col0\" class=\"data row1 col0\" >ponds_nearest</td>\n",
       "                        <td id=\"T_a156e0e8_5b45_11ec_b5a0_02420a39597drow1_col1\" class=\"data row1 col1\" >61.65%</td>\n",
       "            </tr>\n",
       "            <tr>\n",
       "                        <th id=\"T_a156e0e8_5b45_11ec_b5a0_02420a39597dlevel0_row2\" class=\"row_heading level0 row2\" >16</th>\n",
       "                        <td id=\"T_a156e0e8_5b45_11ec_b5a0_02420a39597drow2_col0\" class=\"data row2 col0\" >cityCenters_nearest</td>\n",
       "                        <td id=\"T_a156e0e8_5b45_11ec_b5a0_02420a39597drow2_col1\" class=\"data row2 col1\" >23.34%</td>\n",
       "            </tr>\n",
       "            <tr>\n",
       "                        <th id=\"T_a156e0e8_5b45_11ec_b5a0_02420a39597dlevel0_row3\" class=\"row_heading level0 row3\" >15</th>\n",
       "                        <td id=\"T_a156e0e8_5b45_11ec_b5a0_02420a39597drow3_col0\" class=\"data row3 col0\" >airports_nearest</td>\n",
       "                        <td id=\"T_a156e0e8_5b45_11ec_b5a0_02420a39597drow3_col1\" class=\"data row3 col1\" >23.05%</td>\n",
       "            </tr>\n",
       "            <tr>\n",
       "                        <th id=\"T_a156e0e8_5b45_11ec_b5a0_02420a39597dlevel0_row4\" class=\"row_heading level0 row4\" >21</th>\n",
       "                        <td id=\"T_a156e0e8_5b45_11ec_b5a0_02420a39597drow4_col0\" class=\"data row4 col0\" >days_exposition</td>\n",
       "                        <td id=\"T_a156e0e8_5b45_11ec_b5a0_02420a39597drow4_col1\" class=\"data row4 col1\" >13.46%</td>\n",
       "            </tr>\n",
       "            <tr>\n",
       "                        <th id=\"T_a156e0e8_5b45_11ec_b5a0_02420a39597dlevel0_row5\" class=\"row_heading level0 row5\" >12</th>\n",
       "                        <td id=\"T_a156e0e8_5b45_11ec_b5a0_02420a39597drow5_col0\" class=\"data row5 col0\" >kitchen_area</td>\n",
       "                        <td id=\"T_a156e0e8_5b45_11ec_b5a0_02420a39597drow5_col1\" class=\"data row5 col1\" >9.43%</td>\n",
       "            </tr>\n",
       "            <tr>\n",
       "                        <th id=\"T_a156e0e8_5b45_11ec_b5a0_02420a39597dlevel0_row6\" class=\"row_heading level0 row6\" >7</th>\n",
       "                        <td id=\"T_a156e0e8_5b45_11ec_b5a0_02420a39597drow6_col0\" class=\"data row6 col0\" >living_area</td>\n",
       "                        <td id=\"T_a156e0e8_5b45_11ec_b5a0_02420a39597drow6_col1\" class=\"data row6 col1\" >7.91%</td>\n",
       "            </tr>\n",
       "            <tr>\n",
       "                        <th id=\"T_a156e0e8_5b45_11ec_b5a0_02420a39597dlevel0_row7\" class=\"row_heading level0 row7\" >13</th>\n",
       "                        <td id=\"T_a156e0e8_5b45_11ec_b5a0_02420a39597drow7_col0\" class=\"data row7 col0\" >balcony</td>\n",
       "                        <td id=\"T_a156e0e8_5b45_11ec_b5a0_02420a39597drow7_col1\" class=\"data row7 col1\" >0.00%</td>\n",
       "            </tr>\n",
       "            <tr>\n",
       "                        <th id=\"T_a156e0e8_5b45_11ec_b5a0_02420a39597dlevel0_row8\" class=\"row_heading level0 row8\" >22</th>\n",
       "                        <td id=\"T_a156e0e8_5b45_11ec_b5a0_02420a39597drow8_col0\" class=\"data row8 col0\" >parks_nearest_group</td>\n",
       "                        <td id=\"T_a156e0e8_5b45_11ec_b5a0_02420a39597drow8_col1\" class=\"data row8 col1\" >0.00%</td>\n",
       "            </tr>\n",
       "            <tr>\n",
       "                        <th id=\"T_a156e0e8_5b45_11ec_b5a0_02420a39597dlevel0_row9\" class=\"row_heading level0 row9\" >19</th>\n",
       "                        <td id=\"T_a156e0e8_5b45_11ec_b5a0_02420a39597drow9_col0\" class=\"data row9 col0\" >ponds_around3000</td>\n",
       "                        <td id=\"T_a156e0e8_5b45_11ec_b5a0_02420a39597drow9_col1\" class=\"data row9 col1\" >0.00%</td>\n",
       "            </tr>\n",
       "            <tr>\n",
       "                        <th id=\"T_a156e0e8_5b45_11ec_b5a0_02420a39597dlevel0_row10\" class=\"row_heading level0 row10\" >17</th>\n",
       "                        <td id=\"T_a156e0e8_5b45_11ec_b5a0_02420a39597drow10_col0\" class=\"data row10 col0\" >parks_around3000</td>\n",
       "                        <td id=\"T_a156e0e8_5b45_11ec_b5a0_02420a39597drow10_col1\" class=\"data row10 col1\" >0.00%</td>\n",
       "            </tr>\n",
       "            <tr>\n",
       "                        <th id=\"T_a156e0e8_5b45_11ec_b5a0_02420a39597dlevel0_row11\" class=\"row_heading level0 row11\" >14</th>\n",
       "                        <td id=\"T_a156e0e8_5b45_11ec_b5a0_02420a39597drow11_col0\" class=\"data row11 col0\" >locality_name</td>\n",
       "                        <td id=\"T_a156e0e8_5b45_11ec_b5a0_02420a39597drow11_col1\" class=\"data row11 col1\" >0.00%</td>\n",
       "            </tr>\n",
       "            <tr>\n",
       "                        <th id=\"T_a156e0e8_5b45_11ec_b5a0_02420a39597dlevel0_row12\" class=\"row_heading level0 row12\" >0</th>\n",
       "                        <td id=\"T_a156e0e8_5b45_11ec_b5a0_02420a39597drow12_col0\" class=\"data row12 col0\" >total_images</td>\n",
       "                        <td id=\"T_a156e0e8_5b45_11ec_b5a0_02420a39597drow12_col1\" class=\"data row12 col1\" >0.00%</td>\n",
       "            </tr>\n",
       "            <tr>\n",
       "                        <th id=\"T_a156e0e8_5b45_11ec_b5a0_02420a39597dlevel0_row13\" class=\"row_heading level0 row13\" >1</th>\n",
       "                        <td id=\"T_a156e0e8_5b45_11ec_b5a0_02420a39597drow13_col0\" class=\"data row13 col0\" >last_price</td>\n",
       "                        <td id=\"T_a156e0e8_5b45_11ec_b5a0_02420a39597drow13_col1\" class=\"data row13 col1\" >0.00%</td>\n",
       "            </tr>\n",
       "            <tr>\n",
       "                        <th id=\"T_a156e0e8_5b45_11ec_b5a0_02420a39597dlevel0_row14\" class=\"row_heading level0 row14\" >11</th>\n",
       "                        <td id=\"T_a156e0e8_5b45_11ec_b5a0_02420a39597drow14_col0\" class=\"data row14 col0\" >open_plan</td>\n",
       "                        <td id=\"T_a156e0e8_5b45_11ec_b5a0_02420a39597drow14_col1\" class=\"data row14 col1\" >0.00%</td>\n",
       "            </tr>\n",
       "            <tr>\n",
       "                        <th id=\"T_a156e0e8_5b45_11ec_b5a0_02420a39597dlevel0_row15\" class=\"row_heading level0 row15\" >10</th>\n",
       "                        <td id=\"T_a156e0e8_5b45_11ec_b5a0_02420a39597drow15_col0\" class=\"data row15 col0\" >studio</td>\n",
       "                        <td id=\"T_a156e0e8_5b45_11ec_b5a0_02420a39597drow15_col1\" class=\"data row15 col1\" >0.00%</td>\n",
       "            </tr>\n",
       "            <tr>\n",
       "                        <th id=\"T_a156e0e8_5b45_11ec_b5a0_02420a39597dlevel0_row16\" class=\"row_heading level0 row16\" >9</th>\n",
       "                        <td id=\"T_a156e0e8_5b45_11ec_b5a0_02420a39597drow16_col0\" class=\"data row16 col0\" >is_apartment</td>\n",
       "                        <td id=\"T_a156e0e8_5b45_11ec_b5a0_02420a39597drow16_col1\" class=\"data row16 col1\" >0.00%</td>\n",
       "            </tr>\n",
       "            <tr>\n",
       "                        <th id=\"T_a156e0e8_5b45_11ec_b5a0_02420a39597dlevel0_row17\" class=\"row_heading level0 row17\" >8</th>\n",
       "                        <td id=\"T_a156e0e8_5b45_11ec_b5a0_02420a39597drow17_col0\" class=\"data row17 col0\" >floor</td>\n",
       "                        <td id=\"T_a156e0e8_5b45_11ec_b5a0_02420a39597drow17_col1\" class=\"data row17 col1\" >0.00%</td>\n",
       "            </tr>\n",
       "            <tr>\n",
       "                        <th id=\"T_a156e0e8_5b45_11ec_b5a0_02420a39597dlevel0_row18\" class=\"row_heading level0 row18\" >6</th>\n",
       "                        <td id=\"T_a156e0e8_5b45_11ec_b5a0_02420a39597drow18_col0\" class=\"data row18 col0\" >floors_total</td>\n",
       "                        <td id=\"T_a156e0e8_5b45_11ec_b5a0_02420a39597drow18_col1\" class=\"data row18 col1\" >0.00%</td>\n",
       "            </tr>\n",
       "            <tr>\n",
       "                        <th id=\"T_a156e0e8_5b45_11ec_b5a0_02420a39597dlevel0_row19\" class=\"row_heading level0 row19\" >5</th>\n",
       "                        <td id=\"T_a156e0e8_5b45_11ec_b5a0_02420a39597drow19_col0\" class=\"data row19 col0\" >ceiling_height</td>\n",
       "                        <td id=\"T_a156e0e8_5b45_11ec_b5a0_02420a39597drow19_col1\" class=\"data row19 col1\" >0.00%</td>\n",
       "            </tr>\n",
       "            <tr>\n",
       "                        <th id=\"T_a156e0e8_5b45_11ec_b5a0_02420a39597dlevel0_row20\" class=\"row_heading level0 row20\" >4</th>\n",
       "                        <td id=\"T_a156e0e8_5b45_11ec_b5a0_02420a39597drow20_col0\" class=\"data row20 col0\" >rooms</td>\n",
       "                        <td id=\"T_a156e0e8_5b45_11ec_b5a0_02420a39597drow20_col1\" class=\"data row20 col1\" >0.00%</td>\n",
       "            </tr>\n",
       "            <tr>\n",
       "                        <th id=\"T_a156e0e8_5b45_11ec_b5a0_02420a39597dlevel0_row21\" class=\"row_heading level0 row21\" >3</th>\n",
       "                        <td id=\"T_a156e0e8_5b45_11ec_b5a0_02420a39597drow21_col0\" class=\"data row21 col0\" >first_day_exposition</td>\n",
       "                        <td id=\"T_a156e0e8_5b45_11ec_b5a0_02420a39597drow21_col1\" class=\"data row21 col1\" >0.00%</td>\n",
       "            </tr>\n",
       "            <tr>\n",
       "                        <th id=\"T_a156e0e8_5b45_11ec_b5a0_02420a39597dlevel0_row22\" class=\"row_heading level0 row22\" >2</th>\n",
       "                        <td id=\"T_a156e0e8_5b45_11ec_b5a0_02420a39597drow22_col0\" class=\"data row22 col0\" >total_area</td>\n",
       "                        <td id=\"T_a156e0e8_5b45_11ec_b5a0_02420a39597drow22_col1\" class=\"data row22 col1\" >0.00%</td>\n",
       "            </tr>\n",
       "            <tr>\n",
       "                        <th id=\"T_a156e0e8_5b45_11ec_b5a0_02420a39597dlevel0_row23\" class=\"row_heading level0 row23\" >23</th>\n",
       "                        <td id=\"T_a156e0e8_5b45_11ec_b5a0_02420a39597drow23_col0\" class=\"data row23 col0\" >ponds_nearest_groups</td>\n",
       "                        <td id=\"T_a156e0e8_5b45_11ec_b5a0_02420a39597drow23_col1\" class=\"data row23 col1\" >0.00%</td>\n",
       "            </tr>\n",
       "    </tbody></table>"
      ],
      "text/plain": [
       "<pandas.io.formats.style.Styler at 0x7f8b2d7f8410>"
      ]
     },
     "execution_count": 18,
     "metadata": {},
     "output_type": "execute_result"
    }
   ],
   "source": [
    "miss_value=pd.DataFrame(df.isna().mean()).reset_index()\n",
    "miss_value.set_axis(['column_name', 'missing_value'], axis = 'columns', inplace = True)\n",
    "miss_value.sort_values(by='missing_value', ascending=False).style.format({ 'missing_value': '{:,.2%}'.format})"
   ]
  },
  {
   "cell_type": "markdown",
   "metadata": {},
   "source": [
    "По столбцу *airports_nearest* сохраняется большой процент пропусков.\n",
    "\n",
    "Посмотрим диапазон данных в столбце"
   ]
  },
  {
   "cell_type": "code",
   "execution_count": 19,
   "metadata": {},
   "outputs": [
    {
     "name": "stdout",
     "output_type": "stream",
     "text": [
      "Минимальное значение:0.0\n",
      "Максимальное значение:84869.0\n"
     ]
    }
   ],
   "source": [
    "print('Минимальное значение:', (min(df['airports_nearest'])),'\\n','Максимальное значение:', (max(df['airports_nearest'])), sep='')"
   ]
  },
  {
   "cell_type": "code",
   "execution_count": 20,
   "metadata": {},
   "outputs": [
    {
     "data": {
      "text/plain": [
       "0.3    20137.0\n",
       "0.6    31379.0\n",
       "0.9    47039.0\n",
       "Name: airports_nearest, dtype: float64"
      ]
     },
     "execution_count": 20,
     "metadata": {},
     "output_type": "execute_result"
    }
   ],
   "source": [
    "df['airports_nearest'].quantile([0.30, 0.60, 0.90])"
   ]
  },
  {
   "cell_type": "markdown",
   "metadata": {},
   "source": [
    "Подобно ситуации с парками, напишем функцию для группировки и введем новое значение \"Неизвестно\" там, где данные отсутствуют, добавив новый столбец"
   ]
  },
  {
   "cell_type": "code",
   "execution_count": 21,
   "metadata": {},
   "outputs": [],
   "source": [
    "def airports_nearest_func (dist):\n",
    "    if dist <= 20000:\n",
    "        return \"до 20000\"\n",
    "    elif dist <= 30000:\n",
    "        return \"от 20000 до 30000\"\n",
    "    elif dist > 45000:\n",
    "        return \"более 45000\"\n",
    "    else:\n",
    "        return \"Неизвестно\"\n",
    "df['airports_nearest_groups'] = df['airports_nearest'].apply(airports_nearest_func)"
   ]
  },
  {
   "cell_type": "markdown",
   "metadata": {},
   "source": [
    "Пропуски в расстоянии до центра города обработаем аналогично пропускам в столбце *airports_nearest*"
   ]
  },
  {
   "cell_type": "code",
   "execution_count": 22,
   "metadata": {},
   "outputs": [],
   "source": [
    "distance_med = df.groupby('locality_name')['cityCenters_nearest'].median()\n",
    "for locality_name in distance_med.index:\n",
    "    df.loc[(df['cityCenters_nearest'].isna()) & (df['locality_name'] == locality_name), 'cityCenters_nearest'] = distance_med.loc[locality_name]"
   ]
  },
  {
   "cell_type": "markdown",
   "metadata": {},
   "source": [
    "Диапазон пропусков"
   ]
  },
  {
   "cell_type": "code",
   "execution_count": 23,
   "metadata": {},
   "outputs": [
    {
     "name": "stdout",
     "output_type": "stream",
     "text": [
      "Минимальное значение:181.0\n",
      "Максимальное значение:65968.0\n"
     ]
    }
   ],
   "source": [
    "print('Минимальное значение:', (min(df['cityCenters_nearest'])),'\\n','Максимальное значение:', (max(df['cityCenters_nearest'])), sep='')"
   ]
  },
  {
   "cell_type": "code",
   "execution_count": 24,
   "metadata": {},
   "outputs": [
    {
     "data": {
      "text/plain": [
       "0.3    10555.0\n",
       "0.6    14439.2\n",
       "0.9    26135.6\n",
       "Name: cityCenters_nearest, dtype: float64"
      ]
     },
     "execution_count": 24,
     "metadata": {},
     "output_type": "execute_result"
    }
   ],
   "source": [
    "df['cityCenters_nearest'].quantile([0.30, 0.60, 0.90])"
   ]
  },
  {
   "cell_type": "code",
   "execution_count": 25,
   "metadata": {},
   "outputs": [],
   "source": [
    "def cityCenters_nearest_func (dist):\n",
    "    if dist <= 10000:\n",
    "        return \"до 10000\"\n",
    "    elif dist <= 15000:\n",
    "        return \"от 10001 до 15000\"\n",
    "    elif dist > 25000:\n",
    "        return \"более 25000\"\n",
    "    else:\n",
    "        return \"Неизвестно\"\n",
    "df['city_center_nearest_group'] = df['cityCenters_nearest'].apply(cityCenters_nearest_func)"
   ]
  },
  {
   "cell_type": "markdown",
   "metadata": {},
   "source": [
    "Аналогичные действия произведён в отношении количества дней от публицаии до снятия объявлений, т.е. сгруппируем в новом столбце *days_exposition_func*"
   ]
  },
  {
   "cell_type": "code",
   "execution_count": 26,
   "metadata": {},
   "outputs": [
    {
     "data": {
      "text/plain": [
       "0.3     48.0\n",
       "0.6    135.0\n",
       "0.9    459.7\n",
       "Name: days_exposition, dtype: float64"
      ]
     },
     "execution_count": 26,
     "metadata": {},
     "output_type": "execute_result"
    }
   ],
   "source": [
    "df['days_exposition'].quantile([0.30, 0.60, 0.90])"
   ]
  },
  {
   "cell_type": "code",
   "execution_count": 27,
   "metadata": {},
   "outputs": [],
   "source": [
    "def days_exposition_func (days):\n",
    "    if days <= 40:\n",
    "        return \"до 40\"\n",
    "    elif days <= 85:\n",
    "        return \"от 41 до 85\"\n",
    "    elif days > 180:\n",
    "        return \"более 180\"\n",
    "    else:\n",
    "        return \"Неизвестно\"\n",
    "df['days_exposition_group'] = df['days_exposition'].apply(days_exposition_func)"
   ]
  },
  {
   "cell_type": "markdown",
   "metadata": {},
   "source": [
    "Добавили новые столбцы с группировкой, используя функцию и основываясь на значениях, которые нам дают квантили. Значения брали приблизительные. А так же добавили в новый столбец категорию \"Неизвестно\" для сверх-больших значений\n",
    "\n",
    "Пропуски по площади кухонь логически похожи на пропуски столбца с высотой потолков и вызваны скорее всего либо технической ошибкой, либо ленью продавца(что опять же немного странно, учитывая, что именно продавец заин6тересован в продаже недвижимости). \n",
    "\n",
    "Также стоит учесть, что у нас есть квартиры-студии, в которых кухни совмещены со спальней(непосредственно жилой площадью) и не выделяются как отдельные помещения. Поэтому пропуски в площади кухонь для студий заполним нулями, а оставшиеся - медианным значением по столбцу *locality_name*"
   ]
  },
  {
   "cell_type": "code",
   "execution_count": 28,
   "metadata": {},
   "outputs": [],
   "source": [
    "df.loc[df['studio'] == 1, 'kitchen_area'] = 0\n",
    "kitchen_med = df.groupby('locality_name')['kitchen_area'].median()\n",
    "for locality_name in kitchen_med.index:\n",
    "    df.loc[(df['kitchen_area'].isna()) & (df['locality_name'] == locality_name), 'kitchen_area'] = kitchen_med.loc[locality_name]"
   ]
  },
  {
   "cell_type": "markdown",
   "metadata": {},
   "source": [
    "Посмотрим сколько осталось пустых значений"
   ]
  },
  {
   "cell_type": "code",
   "execution_count": 29,
   "metadata": {},
   "outputs": [
    {
     "name": "stdout",
     "output_type": "stream",
     "text": [
      "Осталось пустых значений: 18\n"
     ]
    }
   ],
   "source": [
    "print('Осталось пустых значений:', len(df[df['kitchen_area'].isna()]))"
   ]
  },
  {
   "cell_type": "markdown",
   "metadata": {},
   "source": [
    "Осталось свосем немного.Эти строки можно удалить"
   ]
  },
  {
   "cell_type": "code",
   "execution_count": 30,
   "metadata": {},
   "outputs": [],
   "source": [
    "df = df.dropna(subset = ['kitchen_area'])"
   ]
  },
  {
   "cell_type": "markdown",
   "metadata": {},
   "source": [
    "Пропуски по жилой площади также можно объяснить либо проблемами технического характера, либо ленью продавца(что, опять таки странно и контрпродуктивно с его стороны. Но наверное и такое бывает ¯\\_(ツ)_/¯)\n",
    "\n",
    "Как бы то ни было, заполним эти пропуски медианным значением в зависимости *living_area* от *rooms*, т.к. было бы логично, если общая жил. площадь была бы связана с количеством комнат"
   ]
  },
  {
   "cell_type": "code",
   "execution_count": 31,
   "metadata": {},
   "outputs": [],
   "source": [
    "living_med = df.groupby('rooms')['living_area'].median()\n",
    "for rooms_number in living_med.index:\n",
    "    df.loc[(df['rooms'] == rooms_number), 'living_area'] = df.loc[(df['rooms'] == rooms_number),'living_area'].fillna(living_med[rooms_number])"
   ]
  },
  {
   "cell_type": "code",
   "execution_count": 32,
   "metadata": {},
   "outputs": [
    {
     "data": {
      "text/html": [
       "<style  type=\"text/css\" >\n",
       "</style><table id=\"T_a2ac5e82_5b45_11ec_b5a0_02420a39597d\" ><thead>    <tr>        <th class=\"blank level0\" ></th>        <th class=\"col_heading level0 col0\" >column_name</th>        <th class=\"col_heading level0 col1\" >missing_value</th>    </tr></thead><tbody>\n",
       "                <tr>\n",
       "                        <th id=\"T_a2ac5e82_5b45_11ec_b5a0_02420a39597dlevel0_row0\" class=\"row_heading level0 row0\" >18</th>\n",
       "                        <td id=\"T_a2ac5e82_5b45_11ec_b5a0_02420a39597drow0_col0\" class=\"data row0 col0\" >parks_nearest</td>\n",
       "                        <td id=\"T_a2ac5e82_5b45_11ec_b5a0_02420a39597drow0_col1\" class=\"data row0 col1\" >65.90%</td>\n",
       "            </tr>\n",
       "            <tr>\n",
       "                        <th id=\"T_a2ac5e82_5b45_11ec_b5a0_02420a39597dlevel0_row1\" class=\"row_heading level0 row1\" >20</th>\n",
       "                        <td id=\"T_a2ac5e82_5b45_11ec_b5a0_02420a39597drow1_col0\" class=\"data row1 col0\" >ponds_nearest</td>\n",
       "                        <td id=\"T_a2ac5e82_5b45_11ec_b5a0_02420a39597drow1_col1\" class=\"data row1 col1\" >61.63%</td>\n",
       "            </tr>\n",
       "            <tr>\n",
       "                        <th id=\"T_a2ac5e82_5b45_11ec_b5a0_02420a39597dlevel0_row2\" class=\"row_heading level0 row2\" >16</th>\n",
       "                        <td id=\"T_a2ac5e82_5b45_11ec_b5a0_02420a39597drow2_col0\" class=\"data row2 col0\" >cityCenters_nearest</td>\n",
       "                        <td id=\"T_a2ac5e82_5b45_11ec_b5a0_02420a39597drow2_col1\" class=\"data row2 col1\" >23.00%</td>\n",
       "            </tr>\n",
       "            <tr>\n",
       "                        <th id=\"T_a2ac5e82_5b45_11ec_b5a0_02420a39597dlevel0_row3\" class=\"row_heading level0 row3\" >15</th>\n",
       "                        <td id=\"T_a2ac5e82_5b45_11ec_b5a0_02420a39597drow3_col0\" class=\"data row3 col0\" >airports_nearest</td>\n",
       "                        <td id=\"T_a2ac5e82_5b45_11ec_b5a0_02420a39597drow3_col1\" class=\"data row3 col1\" >23.00%</td>\n",
       "            </tr>\n",
       "            <tr>\n",
       "                        <th id=\"T_a2ac5e82_5b45_11ec_b5a0_02420a39597dlevel0_row4\" class=\"row_heading level0 row4\" >21</th>\n",
       "                        <td id=\"T_a2ac5e82_5b45_11ec_b5a0_02420a39597drow4_col0\" class=\"data row4 col0\" >days_exposition</td>\n",
       "                        <td id=\"T_a2ac5e82_5b45_11ec_b5a0_02420a39597drow4_col1\" class=\"data row4 col1\" >13.46%</td>\n",
       "            </tr>\n",
       "            <tr>\n",
       "                        <th id=\"T_a2ac5e82_5b45_11ec_b5a0_02420a39597dlevel0_row5\" class=\"row_heading level0 row5\" >0</th>\n",
       "                        <td id=\"T_a2ac5e82_5b45_11ec_b5a0_02420a39597drow5_col0\" class=\"data row5 col0\" >total_images</td>\n",
       "                        <td id=\"T_a2ac5e82_5b45_11ec_b5a0_02420a39597drow5_col1\" class=\"data row5 col1\" >0.00%</td>\n",
       "            </tr>\n",
       "            <tr>\n",
       "                        <th id=\"T_a2ac5e82_5b45_11ec_b5a0_02420a39597dlevel0_row6\" class=\"row_heading level0 row6\" >14</th>\n",
       "                        <td id=\"T_a2ac5e82_5b45_11ec_b5a0_02420a39597drow6_col0\" class=\"data row6 col0\" >locality_name</td>\n",
       "                        <td id=\"T_a2ac5e82_5b45_11ec_b5a0_02420a39597drow6_col1\" class=\"data row6 col1\" >0.00%</td>\n",
       "            </tr>\n",
       "            <tr>\n",
       "                        <th id=\"T_a2ac5e82_5b45_11ec_b5a0_02420a39597dlevel0_row7\" class=\"row_heading level0 row7\" >25</th>\n",
       "                        <td id=\"T_a2ac5e82_5b45_11ec_b5a0_02420a39597drow7_col0\" class=\"data row7 col0\" >city_center_nearest_group</td>\n",
       "                        <td id=\"T_a2ac5e82_5b45_11ec_b5a0_02420a39597drow7_col1\" class=\"data row7 col1\" >0.00%</td>\n",
       "            </tr>\n",
       "            <tr>\n",
       "                        <th id=\"T_a2ac5e82_5b45_11ec_b5a0_02420a39597dlevel0_row8\" class=\"row_heading level0 row8\" >24</th>\n",
       "                        <td id=\"T_a2ac5e82_5b45_11ec_b5a0_02420a39597drow8_col0\" class=\"data row8 col0\" >airports_nearest_groups</td>\n",
       "                        <td id=\"T_a2ac5e82_5b45_11ec_b5a0_02420a39597drow8_col1\" class=\"data row8 col1\" >0.00%</td>\n",
       "            </tr>\n",
       "            <tr>\n",
       "                        <th id=\"T_a2ac5e82_5b45_11ec_b5a0_02420a39597dlevel0_row9\" class=\"row_heading level0 row9\" >23</th>\n",
       "                        <td id=\"T_a2ac5e82_5b45_11ec_b5a0_02420a39597drow9_col0\" class=\"data row9 col0\" >ponds_nearest_groups</td>\n",
       "                        <td id=\"T_a2ac5e82_5b45_11ec_b5a0_02420a39597drow9_col1\" class=\"data row9 col1\" >0.00%</td>\n",
       "            </tr>\n",
       "            <tr>\n",
       "                        <th id=\"T_a2ac5e82_5b45_11ec_b5a0_02420a39597dlevel0_row10\" class=\"row_heading level0 row10\" >22</th>\n",
       "                        <td id=\"T_a2ac5e82_5b45_11ec_b5a0_02420a39597drow10_col0\" class=\"data row10 col0\" >parks_nearest_group</td>\n",
       "                        <td id=\"T_a2ac5e82_5b45_11ec_b5a0_02420a39597drow10_col1\" class=\"data row10 col1\" >0.00%</td>\n",
       "            </tr>\n",
       "            <tr>\n",
       "                        <th id=\"T_a2ac5e82_5b45_11ec_b5a0_02420a39597dlevel0_row11\" class=\"row_heading level0 row11\" >19</th>\n",
       "                        <td id=\"T_a2ac5e82_5b45_11ec_b5a0_02420a39597drow11_col0\" class=\"data row11 col0\" >ponds_around3000</td>\n",
       "                        <td id=\"T_a2ac5e82_5b45_11ec_b5a0_02420a39597drow11_col1\" class=\"data row11 col1\" >0.00%</td>\n",
       "            </tr>\n",
       "            <tr>\n",
       "                        <th id=\"T_a2ac5e82_5b45_11ec_b5a0_02420a39597dlevel0_row12\" class=\"row_heading level0 row12\" >17</th>\n",
       "                        <td id=\"T_a2ac5e82_5b45_11ec_b5a0_02420a39597drow12_col0\" class=\"data row12 col0\" >parks_around3000</td>\n",
       "                        <td id=\"T_a2ac5e82_5b45_11ec_b5a0_02420a39597drow12_col1\" class=\"data row12 col1\" >0.00%</td>\n",
       "            </tr>\n",
       "            <tr>\n",
       "                        <th id=\"T_a2ac5e82_5b45_11ec_b5a0_02420a39597dlevel0_row13\" class=\"row_heading level0 row13\" >13</th>\n",
       "                        <td id=\"T_a2ac5e82_5b45_11ec_b5a0_02420a39597drow13_col0\" class=\"data row13 col0\" >balcony</td>\n",
       "                        <td id=\"T_a2ac5e82_5b45_11ec_b5a0_02420a39597drow13_col1\" class=\"data row13 col1\" >0.00%</td>\n",
       "            </tr>\n",
       "            <tr>\n",
       "                        <th id=\"T_a2ac5e82_5b45_11ec_b5a0_02420a39597dlevel0_row14\" class=\"row_heading level0 row14\" >1</th>\n",
       "                        <td id=\"T_a2ac5e82_5b45_11ec_b5a0_02420a39597drow14_col0\" class=\"data row14 col0\" >last_price</td>\n",
       "                        <td id=\"T_a2ac5e82_5b45_11ec_b5a0_02420a39597drow14_col1\" class=\"data row14 col1\" >0.00%</td>\n",
       "            </tr>\n",
       "            <tr>\n",
       "                        <th id=\"T_a2ac5e82_5b45_11ec_b5a0_02420a39597dlevel0_row15\" class=\"row_heading level0 row15\" >12</th>\n",
       "                        <td id=\"T_a2ac5e82_5b45_11ec_b5a0_02420a39597drow15_col0\" class=\"data row15 col0\" >kitchen_area</td>\n",
       "                        <td id=\"T_a2ac5e82_5b45_11ec_b5a0_02420a39597drow15_col1\" class=\"data row15 col1\" >0.00%</td>\n",
       "            </tr>\n",
       "            <tr>\n",
       "                        <th id=\"T_a2ac5e82_5b45_11ec_b5a0_02420a39597dlevel0_row16\" class=\"row_heading level0 row16\" >11</th>\n",
       "                        <td id=\"T_a2ac5e82_5b45_11ec_b5a0_02420a39597drow16_col0\" class=\"data row16 col0\" >open_plan</td>\n",
       "                        <td id=\"T_a2ac5e82_5b45_11ec_b5a0_02420a39597drow16_col1\" class=\"data row16 col1\" >0.00%</td>\n",
       "            </tr>\n",
       "            <tr>\n",
       "                        <th id=\"T_a2ac5e82_5b45_11ec_b5a0_02420a39597dlevel0_row17\" class=\"row_heading level0 row17\" >10</th>\n",
       "                        <td id=\"T_a2ac5e82_5b45_11ec_b5a0_02420a39597drow17_col0\" class=\"data row17 col0\" >studio</td>\n",
       "                        <td id=\"T_a2ac5e82_5b45_11ec_b5a0_02420a39597drow17_col1\" class=\"data row17 col1\" >0.00%</td>\n",
       "            </tr>\n",
       "            <tr>\n",
       "                        <th id=\"T_a2ac5e82_5b45_11ec_b5a0_02420a39597dlevel0_row18\" class=\"row_heading level0 row18\" >9</th>\n",
       "                        <td id=\"T_a2ac5e82_5b45_11ec_b5a0_02420a39597drow18_col0\" class=\"data row18 col0\" >is_apartment</td>\n",
       "                        <td id=\"T_a2ac5e82_5b45_11ec_b5a0_02420a39597drow18_col1\" class=\"data row18 col1\" >0.00%</td>\n",
       "            </tr>\n",
       "            <tr>\n",
       "                        <th id=\"T_a2ac5e82_5b45_11ec_b5a0_02420a39597dlevel0_row19\" class=\"row_heading level0 row19\" >8</th>\n",
       "                        <td id=\"T_a2ac5e82_5b45_11ec_b5a0_02420a39597drow19_col0\" class=\"data row19 col0\" >floor</td>\n",
       "                        <td id=\"T_a2ac5e82_5b45_11ec_b5a0_02420a39597drow19_col1\" class=\"data row19 col1\" >0.00%</td>\n",
       "            </tr>\n",
       "            <tr>\n",
       "                        <th id=\"T_a2ac5e82_5b45_11ec_b5a0_02420a39597dlevel0_row20\" class=\"row_heading level0 row20\" >7</th>\n",
       "                        <td id=\"T_a2ac5e82_5b45_11ec_b5a0_02420a39597drow20_col0\" class=\"data row20 col0\" >living_area</td>\n",
       "                        <td id=\"T_a2ac5e82_5b45_11ec_b5a0_02420a39597drow20_col1\" class=\"data row20 col1\" >0.00%</td>\n",
       "            </tr>\n",
       "            <tr>\n",
       "                        <th id=\"T_a2ac5e82_5b45_11ec_b5a0_02420a39597dlevel0_row21\" class=\"row_heading level0 row21\" >6</th>\n",
       "                        <td id=\"T_a2ac5e82_5b45_11ec_b5a0_02420a39597drow21_col0\" class=\"data row21 col0\" >floors_total</td>\n",
       "                        <td id=\"T_a2ac5e82_5b45_11ec_b5a0_02420a39597drow21_col1\" class=\"data row21 col1\" >0.00%</td>\n",
       "            </tr>\n",
       "            <tr>\n",
       "                        <th id=\"T_a2ac5e82_5b45_11ec_b5a0_02420a39597dlevel0_row22\" class=\"row_heading level0 row22\" >5</th>\n",
       "                        <td id=\"T_a2ac5e82_5b45_11ec_b5a0_02420a39597drow22_col0\" class=\"data row22 col0\" >ceiling_height</td>\n",
       "                        <td id=\"T_a2ac5e82_5b45_11ec_b5a0_02420a39597drow22_col1\" class=\"data row22 col1\" >0.00%</td>\n",
       "            </tr>\n",
       "            <tr>\n",
       "                        <th id=\"T_a2ac5e82_5b45_11ec_b5a0_02420a39597dlevel0_row23\" class=\"row_heading level0 row23\" >4</th>\n",
       "                        <td id=\"T_a2ac5e82_5b45_11ec_b5a0_02420a39597drow23_col0\" class=\"data row23 col0\" >rooms</td>\n",
       "                        <td id=\"T_a2ac5e82_5b45_11ec_b5a0_02420a39597drow23_col1\" class=\"data row23 col1\" >0.00%</td>\n",
       "            </tr>\n",
       "            <tr>\n",
       "                        <th id=\"T_a2ac5e82_5b45_11ec_b5a0_02420a39597dlevel0_row24\" class=\"row_heading level0 row24\" >3</th>\n",
       "                        <td id=\"T_a2ac5e82_5b45_11ec_b5a0_02420a39597drow24_col0\" class=\"data row24 col0\" >first_day_exposition</td>\n",
       "                        <td id=\"T_a2ac5e82_5b45_11ec_b5a0_02420a39597drow24_col1\" class=\"data row24 col1\" >0.00%</td>\n",
       "            </tr>\n",
       "            <tr>\n",
       "                        <th id=\"T_a2ac5e82_5b45_11ec_b5a0_02420a39597dlevel0_row25\" class=\"row_heading level0 row25\" >2</th>\n",
       "                        <td id=\"T_a2ac5e82_5b45_11ec_b5a0_02420a39597drow25_col0\" class=\"data row25 col0\" >total_area</td>\n",
       "                        <td id=\"T_a2ac5e82_5b45_11ec_b5a0_02420a39597drow25_col1\" class=\"data row25 col1\" >0.00%</td>\n",
       "            </tr>\n",
       "            <tr>\n",
       "                        <th id=\"T_a2ac5e82_5b45_11ec_b5a0_02420a39597dlevel0_row26\" class=\"row_heading level0 row26\" >26</th>\n",
       "                        <td id=\"T_a2ac5e82_5b45_11ec_b5a0_02420a39597drow26_col0\" class=\"data row26 col0\" >days_exposition_group</td>\n",
       "                        <td id=\"T_a2ac5e82_5b45_11ec_b5a0_02420a39597drow26_col1\" class=\"data row26 col1\" >0.00%</td>\n",
       "            </tr>\n",
       "    </tbody></table>"
      ],
      "text/plain": [
       "<pandas.io.formats.style.Styler at 0x7f8b88cc6fd0>"
      ]
     },
     "execution_count": 32,
     "metadata": {},
     "output_type": "execute_result"
    }
   ],
   "source": [
    "miss_value=pd.DataFrame(df.isna().mean()).reset_index()\n",
    "miss_value.set_axis(['column_name', 'missing_value'], axis = 'columns', inplace = True)\n",
    "miss_value.sort_values(by='missing_value', ascending=False).style.format({ 'missing_value': '{:,.2%}'.format})"
   ]
  },
  {
   "cell_type": "markdown",
   "metadata": {},
   "source": [
    "С пропусками более-менее разобрались. Теперь замена типов данных"
   ]
  },
  {
   "cell_type": "code",
   "execution_count": 33,
   "metadata": {},
   "outputs": [
    {
     "data": {
      "text/plain": [
       "total_images                   int64\n",
       "last_price                   float64\n",
       "total_area                   float64\n",
       "first_day_exposition          object\n",
       "rooms                          int64\n",
       "ceiling_height               float64\n",
       "floors_total                 float64\n",
       "living_area                  float64\n",
       "floor                          int64\n",
       "is_apartment                    bool\n",
       "studio                          bool\n",
       "open_plan                       bool\n",
       "kitchen_area                 float64\n",
       "balcony                      float64\n",
       "locality_name                 object\n",
       "airports_nearest             float64\n",
       "cityCenters_nearest          float64\n",
       "parks_around3000             float64\n",
       "parks_nearest                float64\n",
       "ponds_around3000             float64\n",
       "ponds_nearest                float64\n",
       "days_exposition              float64\n",
       "parks_nearest_group           object\n",
       "ponds_nearest_groups          object\n",
       "airports_nearest_groups       object\n",
       "city_center_nearest_group     object\n",
       "days_exposition_group         object\n",
       "dtype: object"
      ]
     },
     "execution_count": 33,
     "metadata": {},
     "output_type": "execute_result"
    }
   ],
   "source": [
    "df.dtypes"
   ]
  },
  {
   "cell_type": "markdown",
   "metadata": {},
   "source": [
    "Преобразуем тип данных в столбце first_day_exposition в формат даты(только даты, т.к. время в нём везде стоит \"00:00:00\")"
   ]
  },
  {
   "cell_type": "code",
   "execution_count": 34,
   "metadata": {},
   "outputs": [],
   "source": [
    "df['first_day_exposition'] = pd.to_datetime(df['first_day_exposition'], format = '%Y-%m-%d')"
   ]
  },
  {
   "cell_type": "markdown",
   "metadata": {},
   "source": [
    "Заменим вещественный тип данных на целочисленный во всех столбцах, кроме столбцов с данными о площадях помещений(о том, почему именно так, уже говорил в выводах по пункту 1)."
   ]
  },
  {
   "cell_type": "code",
   "execution_count": 35,
   "metadata": {},
   "outputs": [],
   "source": [
    "for typ in ['last_price', 'ceiling_height', 'floors_total', 'balcony', 'parks_around3000', 'ponds_around3000']:\n",
    "    df[typ] = df[typ].astype('int')"
   ]
  },
  {
   "cell_type": "code",
   "execution_count": 36,
   "metadata": {},
   "outputs": [
    {
     "data": {
      "text/plain": [
       "total_images                          int64\n",
       "last_price                            int64\n",
       "total_area                          float64\n",
       "first_day_exposition         datetime64[ns]\n",
       "rooms                                 int64\n",
       "ceiling_height                        int64\n",
       "floors_total                          int64\n",
       "living_area                         float64\n",
       "floor                                 int64\n",
       "is_apartment                           bool\n",
       "studio                                 bool\n",
       "open_plan                              bool\n",
       "kitchen_area                        float64\n",
       "balcony                               int64\n",
       "locality_name                        object\n",
       "airports_nearest                    float64\n",
       "cityCenters_nearest                 float64\n",
       "parks_around3000                      int64\n",
       "parks_nearest                       float64\n",
       "ponds_around3000                      int64\n",
       "ponds_nearest                       float64\n",
       "days_exposition                     float64\n",
       "parks_nearest_group                  object\n",
       "ponds_nearest_groups                 object\n",
       "airports_nearest_groups              object\n",
       "city_center_nearest_group            object\n",
       "days_exposition_group                object\n",
       "dtype: object"
      ]
     },
     "execution_count": 36,
     "metadata": {},
     "output_type": "execute_result"
    }
   ],
   "source": [
    "df.dtypes"
   ]
  },
  {
   "cell_type": "markdown",
   "metadata": {},
   "source": [
    "Предобработали данные. Но прежде чем приступать к исследовательскому анализу данных, сделаем несколько расчётов и добавим необходимые столбцы"
   ]
  },
  {
   "cell_type": "markdown",
   "metadata": {},
   "source": [
    "## Расчёты и добавление результатов в таблицу"
   ]
  },
  {
   "cell_type": "markdown",
   "metadata": {},
   "source": [
    "### Цена квадратного метра"
   ]
  },
  {
   "cell_type": "code",
   "execution_count": 37,
   "metadata": {},
   "outputs": [],
   "source": [
    "df['square_price'] = df['last_price'] / df['total_area']"
   ]
  },
  {
   "cell_type": "markdown",
   "metadata": {},
   "source": [
    "### День недели, месяц и год публикации объявления"
   ]
  },
  {
   "cell_type": "code",
   "execution_count": 38,
   "metadata": {},
   "outputs": [],
   "source": [
    "df['exp_weekday'] = df['first_day_exposition'].dt.weekday.astype('str').map({'0': 'Пн', '1': 'Вт', '2': 'Ср', '3': 'Чт', '4': 'Пт', '5': 'Сб', '6': 'Вс'})\n",
    "df['exp_month'] = df['first_day_exposition'].dt.month.astype('str').map({'1': 'Январь', '2': 'Февраль', '3': 'Март', '4': 'Апрель', '5': 'Май', '6': 'Июнь', '7': 'Июль', '8': 'Август', '9': 'Сентябрь', '10': 'Октябрь', '11': 'Ноябрь', '12': 'Декабрь'})\n",
    "df['exp_year'] = df['first_day_exposition'].dt.year"
   ]
  },
  {
   "cell_type": "markdown",
   "metadata": {},
   "source": [
    "### Этаж квартиры"
   ]
  },
  {
   "cell_type": "code",
   "execution_count": 39,
   "metadata": {},
   "outputs": [],
   "source": [
    "def floor_group(row):\n",
    "    if row['floor'] == 1:\n",
    "        return 'первый'\n",
    "    elif row['floor'] == row['floors_total']:\n",
    "        return 'последний'\n",
    "    return 'другой'\n",
    "    \n",
    "df['floor_groups'] = df.apply(floor_group, axis=1)"
   ]
  },
  {
   "cell_type": "markdown",
   "metadata": {},
   "source": [
    "### Соотношение жилой и общей площади, а также отношение площади кухни к общей площади"
   ]
  },
  {
   "cell_type": "code",
   "execution_count": 40,
   "metadata": {},
   "outputs": [],
   "source": [
    "df['living_area_ratio'] = df['living_area'] / df['total_area']\n",
    "df['kitchen_area_ratio'] = df['kitchen_area'] / df['total_area']"
   ]
  },
  {
   "cell_type": "code",
   "execution_count": 41,
   "metadata": {},
   "outputs": [
    {
     "name": "stdout",
     "output_type": "stream",
     "text": [
      "<class 'pandas.core.frame.DataFrame'>\n",
      "Int64Index: 23547 entries, 0 to 23698\n",
      "Data columns (total 34 columns):\n",
      "total_images                 23547 non-null int64\n",
      "last_price                   23547 non-null int64\n",
      "total_area                   23547 non-null float64\n",
      "first_day_exposition         23547 non-null datetime64[ns]\n",
      "rooms                        23547 non-null int64\n",
      "ceiling_height               23547 non-null int64\n",
      "floors_total                 23547 non-null int64\n",
      "living_area                  23547 non-null float64\n",
      "floor                        23547 non-null int64\n",
      "is_apartment                 23547 non-null bool\n",
      "studio                       23547 non-null bool\n",
      "open_plan                    23547 non-null bool\n",
      "kitchen_area                 23547 non-null float64\n",
      "balcony                      23547 non-null int64\n",
      "locality_name                23547 non-null object\n",
      "airports_nearest             18132 non-null float64\n",
      "cityCenters_nearest          18132 non-null float64\n",
      "parks_around3000             23547 non-null int64\n",
      "parks_nearest                8030 non-null float64\n",
      "ponds_around3000             23547 non-null int64\n",
      "ponds_nearest                9036 non-null float64\n",
      "days_exposition              20377 non-null float64\n",
      "parks_nearest_group          23547 non-null object\n",
      "ponds_nearest_groups         23547 non-null object\n",
      "airports_nearest_groups      23547 non-null object\n",
      "city_center_nearest_group    23547 non-null object\n",
      "days_exposition_group        23547 non-null object\n",
      "square_price                 23547 non-null float64\n",
      "exp_weekday                  23547 non-null object\n",
      "exp_month                    23547 non-null object\n",
      "exp_year                     23547 non-null int64\n",
      "floor_groups                 23547 non-null object\n",
      "living_area_ratio            23547 non-null float64\n",
      "kitchen_area_ratio           23547 non-null float64\n",
      "dtypes: bool(3), datetime64[ns](1), float64(11), int64(10), object(9)\n",
      "memory usage: 5.8+ MB\n"
     ]
    }
   ],
   "source": [
    "df.info()"
   ]
  },
  {
   "cell_type": "markdown",
   "metadata": {},
   "source": [
    "Необходимые расчёты произведены. Приступаем к исследовательскому анализу"
   ]
  },
  {
   "cell_type": "markdown",
   "metadata": {},
   "source": [
    "## Исследовательский анализ данных"
   ]
  },
  {
   "cell_type": "markdown",
   "metadata": {},
   "source": [
    "### Изучим площадь, цену, число комнат и высоту потолков, удалим по ним редкие и выбивающиеся значения"
   ]
  },
  {
   "cell_type": "code",
   "execution_count": 42,
   "metadata": {},
   "outputs": [
    {
     "data": {
      "image/png": "[encoded data removed]",
      "text/plain": [
       "<Figure size 432x288 with 1 Axes>"
      ]
     },
     "metadata": {
      "needs_background": "light"
     },
     "output_type": "display_data"
    },
    {
     "data": {
      "image/png": "[encoded data removed]",
      "text/plain": [
       "<Figure size 432x288 with 1 Axes>"
      ]
     },
     "metadata": {
      "needs_background": "light"
     },
     "output_type": "display_data"
    },
    {
     "data": {
      "image/png": "[encoded data removed]",
      "text/plain": [
       "<Figure size 432x288 with 1 Axes>"
      ]
     },
     "metadata": {
      "needs_background": "light"
     },
     "output_type": "display_data"
    },
    {
     "data": {
      "image/png": "[encoded data removed]",
      "text/plain": [
       "<Figure size 432x288 with 1 Axes>"
      ]
     },
     "metadata": {
      "needs_background": "light"
     },
     "output_type": "display_data"
    }
   ],
   "source": [
    "df.hist('total_area', bins = 100, range = (0, 600))\n",
    "plt.title('Площади квартир', size=14)\n",
    "plt.xlabel('Площадь, кв.м.')\n",
    "plt.ylabel('Количество квартир, шт.')\n",
    "plt.show()\n",
    "\n",
    "df.hist('last_price', bins = 300, range = (500000, 15000000))\n",
    "plt.title('Цены', size = 14)\n",
    "plt.xlabel('Цена, млн руб.')\n",
    "plt.ylabel('Количество квартир, шт.')\n",
    "plt.show()\n",
    "\n",
    "df.hist('rooms', bins = 20, range = (0, 6))\n",
    "plt.title('Число комнат', size = 14)\n",
    "plt.xlabel('Число комнат, шт.')\n",
    "plt.ylabel('Количество квартир, шт.')\n",
    "plt.show()\n",
    "\n",
    "df.hist('ceiling_height', bins = 50)\n",
    "plt.title('Высота потолков', size = 14)\n",
    "plt.xlabel('Высота потолков, м')\n",
    "plt.ylabel('Количество квартир, шт.')\n",
    "plt.show()"
   ]
  },
  {
   "cell_type": "markdown",
   "metadata": {},
   "source": [
    "**Сделаем следующие выводы**"
   ]
  },
  {
   "cell_type": "markdown",
   "metadata": {},
   "source": [
    "Гистограмма \"Площади квартир\": Большая часть квартир имеет метраж между 30 и 80 кв.м., пик приходится примерно на 45 кв.м. Есть квартиры и более 250 кв.м., но это единичные выбросы.\n",
    "\n",
    "Гистограмма \"Цены\": Большая часть квартир продается за цену в промежутке между 3 и 6 млн. Опять же, есть выбросы.\n",
    "\n",
    "Гистограмма \"Число комнат\":: 2/3 квартир имеют 1 или 2 комнаты, чуть меньший процент имеют 3 комнаты и небольшое количество - 4. Есть и квартиры, имеющие больше комнат, но их процент сильно ниже. Также видно выброс в 0 комнат.\n",
    "\n",
    "Гистограмма \"Высота потолков\": Квартиры, в большинстве своем, имеют потолки 2 метра. Есть и процент 3-метровых. Но есть выбросы и под 100 метров. Я бы посмотрел на такие потолки изнутри. Наверняка выглядит завораживающе."
   ]
  },
  {
   "cell_type": "markdown",
   "metadata": {},
   "source": [
    "**Теперь найдём границы нормальных значений и уберём выбросы для всех основных необходимых параметров:**"
   ]
  },
  {
   "cell_type": "markdown",
   "metadata": {},
   "source": [
    "**Начнём с площади квартир**"
   ]
  },
  {
   "cell_type": "code",
   "execution_count": 43,
   "metadata": {},
   "outputs": [
    {
     "data": {
      "image/png": "[encoded data removed]",
      "text/plain": [
       "<Figure size 1080x144 with 1 Axes>"
      ]
     },
     "metadata": {
      "needs_background": "light"
     },
     "output_type": "display_data"
    }
   ],
   "source": [
    "ax=df.boxplot('total_area', vert=False, figsize=(15,2), patch_artist=True, flierprops=dict(markeredgecolor=\"#ff0000\"),\n",
    "            medianprops=dict(color='#71c451'))\n",
    "ax.set_yticklabels(['Площадь'])\n",
    "plt.show()"
   ]
  },
  {
   "cell_type": "code",
   "execution_count": 44,
   "metadata": {},
   "outputs": [
    {
     "data": {
      "image/png": "[encoded data removed]",
      "text/plain": [
       "<Figure size 1080x144 with 1 Axes>"
      ]
     },
     "metadata": {
      "needs_background": "light"
     },
     "output_type": "display_data"
    }
   ],
   "source": [
    "df.drop(df[df['total_area'] > 95].index, inplace=True)\n",
    "ax=df.boxplot('total_area', vert=False, figsize=(15,2), patch_artist=True, flierprops=dict(markeredgecolor=\"#ff0000\"),\n",
    "            medianprops=dict(color='#71c451'))\n",
    "ax.set_yticklabels(['Площадь'])\n",
    "plt.show()"
   ]
  },
  {
   "cell_type": "code",
   "execution_count": 45,
   "metadata": {},
   "outputs": [
    {
     "data": {
      "image/png": "[encoded data removed]",
      "text/plain": [
       "<Figure size 432x288 with 1 Axes>"
      ]
     },
     "metadata": {
      "needs_background": "light"
     },
     "output_type": "display_data"
    }
   ],
   "source": [
    "df.hist('total_area', bins = 100)\n",
    "plt.title('Площади квартир', size=14)\n",
    "plt.xlabel('Площадь, кв.м.')\n",
    "plt.ylabel('Количество квартир, шт.')\n",
    "plt.show()"
   ]
  },
  {
   "cell_type": "markdown",
   "metadata": {},
   "source": [
    "**Посмотрим на цену**"
   ]
  },
  {
   "cell_type": "code",
   "execution_count": 46,
   "metadata": {},
   "outputs": [
    {
     "data": {
      "image/png": "[encoded data removed]",
      "text/plain": [
       "<Figure size 1080x144 with 1 Axes>"
      ]
     },
     "metadata": {
      "needs_background": "light"
     },
     "output_type": "display_data"
    }
   ],
   "source": [
    "ax=df.boxplot('last_price', vert=False, figsize=(15,2), patch_artist=True, flierprops=dict(markeredgecolor=\"#ff0000\"),\n",
    "            medianprops=dict(color='#71c451'))\n",
    "ax.set_yticklabels(['Цена'])\n",
    "plt.show()"
   ]
  },
  {
   "cell_type": "code",
   "execution_count": 47,
   "metadata": {},
   "outputs": [
    {
     "data": {
      "image/png": "[encoded data removed]",
      "text/plain": [
       "<Figure size 1080x144 with 1 Axes>"
      ]
     },
     "metadata": {
      "needs_background": "light"
     },
     "output_type": "display_data"
    }
   ],
   "source": [
    "df.drop(df[df['last_price'] > 8800000].index, inplace=True)\n",
    "df.drop(df[df['last_price'] < 200000].index, inplace=True)\n",
    "ax=df.boxplot('last_price', vert=False, figsize=(15,2), patch_artist=True, flierprops=dict(markeredgecolor=\"#ff0000\"),\n",
    "            medianprops=dict(color='#71c451'))\n",
    "ax.set_yticklabels(['Цена'])\n",
    "plt.show()"
   ]
  },
  {
   "cell_type": "code",
   "execution_count": 48,
   "metadata": {},
   "outputs": [
    {
     "data": {
      "image/png": "[encoded data removed]",
      "text/plain": [
       "<Figure size 432x288 with 1 Axes>"
      ]
     },
     "metadata": {
      "needs_background": "light"
     },
     "output_type": "display_data"
    }
   ],
   "source": [
    "df.hist('last_price', bins = 300)\n",
    "plt.title('Цены', size = 14)\n",
    "plt.xlabel('Цена, млн руб.')\n",
    "plt.ylabel('Количество квартир, шт.')\n",
    "plt.show()"
   ]
  },
  {
   "cell_type": "markdown",
   "metadata": {},
   "source": [
    "**Так же странно смотрится число комнат равное 0. Просто удалим их**"
   ]
  },
  {
   "cell_type": "code",
   "execution_count": 49,
   "metadata": {},
   "outputs": [
    {
     "data": {
      "image/png": "[encoded data removed]",
      "text/plain": [
       "<Figure size 432x288 with 1 Axes>"
      ]
     },
     "metadata": {
      "needs_background": "light"
     },
     "output_type": "display_data"
    }
   ],
   "source": [
    "df.drop(df[df['rooms'] < 1 ].index, inplace=True)\n",
    "df.hist('rooms', bins=20)\n",
    "plt.title('Число комнат', size=14)\n",
    "plt.xlabel('Число комнат, шт.')\n",
    "plt.ylabel('Количество квартир, шт.')\n",
    "plt.show()"
   ]
  },
  {
   "cell_type": "markdown",
   "metadata": {},
   "source": [
    "**А что с высотой потолков?**"
   ]
  },
  {
   "cell_type": "code",
   "execution_count": 75,
   "metadata": {},
   "outputs": [
    {
     "data": {
      "image/png": "[encoded data removed]",
      "text/plain": [
       "<Figure size 1080x144 with 1 Axes>"
      ]
     },
     "metadata": {
      "needs_background": "light"
     },
     "output_type": "display_data"
    }
   ],
   "source": [
    "ax=df.boxplot('ceiling_height', vert=False, figsize=(15,2), patch_artist=True, flierprops=dict(markeredgecolor=\"#ff0000\"),\n",
    "            medianprops=dict(color='#71c451'))\n",
    "ax.set_yticklabels(['Высота'])\n",
    "plt.show()"
   ]
  },
  {
   "cell_type": "markdown",
   "metadata": {},
   "source": [
    "Видим, что по высоте потолков есть выбросы в обе стороны от нормального распределения. Чтож, удалим и их"
   ]
  },
  {
   "cell_type": "code",
   "execution_count": 76,
   "metadata": {},
   "outputs": [
    {
     "data": {
      "image/png": "[encoded data removed]",
      "text/plain": [
       "<Figure size 1080x144 with 1 Axes>"
      ]
     },
     "metadata": {
      "needs_background": "light"
     },
     "output_type": "display_data"
    }
   ],
   "source": [
    "df.drop(df[df['ceiling_height'] > 5].index, inplace=True)\n",
    "df.drop(df[df['ceiling_height'] < 1.5].index, inplace=True)\n",
    "ax=df.boxplot('ceiling_height', vert=False, figsize=(15,2), patch_artist=True, flierprops=dict(markeredgecolor=\"#ff0000\"),\n",
    "            medianprops=dict(color='#71c451'))\n",
    "ax.set_yticklabels(['Высота'])\n",
    "plt.show()"
   ]
  },
  {
   "cell_type": "code",
   "execution_count": 77,
   "metadata": {},
   "outputs": [
    {
     "data": {
      "image/png": "[encoded data removed]",
      "text/plain": [
       "<Figure size 432x288 with 1 Axes>"
      ]
     },
     "metadata": {
      "needs_background": "light"
     },
     "output_type": "display_data"
    }
   ],
   "source": [
    "df.hist('ceiling_height', bins = 50)\n",
    "plt.title('Высота потолков', size = 14)\n",
    "plt.xlabel('Высота потолков, м')\n",
    "plt.ylabel('Количество квартир, шт.')\n",
    "plt.show()"
   ]
  },
  {
   "cell_type": "markdown",
   "metadata": {},
   "source": [
    "### Изучим время продажи квартиры"
   ]
  },
  {
   "cell_type": "markdown",
   "metadata": {},
   "source": [
    "Сначала посчитаем среднее и медиану"
   ]
  },
  {
   "cell_type": "code",
   "execution_count": 53,
   "metadata": {},
   "outputs": [
    {
     "name": "stdout",
     "output_type": "stream",
     "text": [
      "168.64376192955058\n",
      "89.00000000000001\n"
     ]
    }
   ],
   "source": [
    "print(df['days_exposition'].mean())\n",
    "print(df['days_exposition'].median())"
   ]
  },
  {
   "cell_type": "code",
   "execution_count": 54,
   "metadata": {},
   "outputs": [
    {
     "data": {
      "image/png": "[encoded data removed]",
      "text/plain": [
       "<Figure size 432x288 with 1 Axes>"
      ]
     },
     "metadata": {
      "needs_background": "light"
     },
     "output_type": "display_data"
    }
   ],
   "source": [
    "df.hist('days_exposition', bins = 100)\n",
    "plt.title('Сколько обычно занимает продажа', size = 14)\n",
    "plt.xlabel('Количество дней, дни')\n",
    "plt.ylabel('Количество квартир, шт.')\n",
    "plt.show()"
   ]
  },
  {
   "cell_type": "markdown",
   "metadata": {},
   "source": [
    "Видим пик в районе 45 дней. Продажи после 600 дней уже редкиа по прошествии 1000 дней продаж почти нет. Чтобы изучить лучше особенности, построим коробчатую диаграмму."
   ]
  },
  {
   "cell_type": "code",
   "execution_count": 55,
   "metadata": {},
   "outputs": [
    {
     "data": {
      "image/png": "[encoded data removed]",
      "text/plain": [
       "<Figure size 1080x144 with 1 Axes>"
      ]
     },
     "metadata": {
      "needs_background": "light"
     },
     "output_type": "display_data"
    }
   ],
   "source": [
    "ax = df.boxplot('days_exposition', vert = False, figsize = (15,2), patch_artist = True, flierprops = dict(markeredgecolor = \"#ff0000\"),\n",
    "            medianprops = dict(color = '#71c450'))\n",
    "ax.set_yticklabels(['Кол-во дней'])\n",
    "plt.show()"
   ]
  },
  {
   "cell_type": "markdown",
   "metadata": {},
   "source": [
    "Удаляем явные выбросы"
   ]
  },
  {
   "cell_type": "code",
   "execution_count": 56,
   "metadata": {},
   "outputs": [
    {
     "data": {
      "image/png": "[encoded data removed]",
      "text/plain": [
       "<Figure size 1080x144 with 1 Axes>"
      ]
     },
     "metadata": {
      "needs_background": "light"
     },
     "output_type": "display_data"
    }
   ],
   "source": [
    "df.drop(df[df['days_exposition'] > 250 ].index, inplace=True)\n",
    "ax=df.boxplot('days_exposition', vert=False, figsize=(15,2), patch_artist=True, flierprops=dict(markeredgecolor=\"#ff0000\"),\n",
    "            medianprops=dict(color='#71c450'))\n",
    "ax.set_yticklabels(['Кол-во дней'])\n",
    "plt.show()"
   ]
  },
  {
   "cell_type": "code",
   "execution_count": 57,
   "metadata": {},
   "outputs": [
    {
     "data": {
      "image/png": "[encoded data removed]",
      "text/plain": [
       "<Figure size 432x288 with 1 Axes>"
      ]
     },
     "metadata": {
      "needs_background": "light"
     },
     "output_type": "display_data"
    }
   ],
   "source": [
    "df.hist('days_exposition', bins = 50)\n",
    "plt.title('Сколько обычно занимает продажа', size = 14)\n",
    "plt.xlabel('Количество дней, дни')\n",
    "plt.ylabel('Количество квартир, шт.')\n",
    "plt.show()"
   ]
  },
  {
   "cell_type": "markdown",
   "metadata": {},
   "source": [
    "**Получаем**\n",
    "\n",
    "Половина квартир продаются в срок до 80 дней. Среднее время продажи составляет - 60 дней, после чего наблюдается спад продаж"
   ]
  },
  {
   "cell_type": "markdown",
   "metadata": {},
   "source": [
    "### Какие факторы больше всего влияют на стоимость квартиры?"
   ]
  },
  {
   "cell_type": "markdown",
   "metadata": {},
   "source": [
    "**Зависимость цены от квадратного метра**"
   ]
  },
  {
   "cell_type": "code",
   "execution_count": 58,
   "metadata": {},
   "outputs": [
    {
     "data": {
      "image/png": "[encoded data removed]",
      "text/plain": [
       "<Figure size 432x288 with 1 Axes>"
      ]
     },
     "metadata": {
      "needs_background": "light"
     },
     "output_type": "display_data"
    }
   ],
   "source": [
    "df.plot(x = 'total_area', y = 'last_price', kind = 'scatter', alpha = 0.5, grid = True)\n",
    "plt.title('Зависимость цены от квадратного метра', size = 14)\n",
    "plt.xlabel('Площадь, кв.м.')\n",
    "plt.ylabel('Цена, млн руб.')\n",
    "plt.show()"
   ]
  },
  {
   "cell_type": "code",
   "execution_count": 59,
   "metadata": {},
   "outputs": [
    {
     "name": "stdout",
     "output_type": "stream",
     "text": [
      "0.61\n"
     ]
    }
   ],
   "source": [
    "print(df['last_price'].corr(df['total_area']).round(2))"
   ]
  },
  {
   "cell_type": "markdown",
   "metadata": {},
   "source": [
    "*Имеется средне-положительная линейная зависимость*"
   ]
  },
  {
   "cell_type": "markdown",
   "metadata": {},
   "source": [
    "**Зависимость цены от числа комнат**"
   ]
  },
  {
   "cell_type": "code",
   "execution_count": 60,
   "metadata": {},
   "outputs": [
    {
     "data": {
      "image/png": "[encoded data removed]",
      "text/plain": [
       "<Figure size 432x288 with 1 Axes>"
      ]
     },
     "metadata": {
      "needs_background": "light"
     },
     "output_type": "display_data"
    }
   ],
   "source": [
    "df.plot(x = 'rooms', y = 'last_price', kind='scatter', alpha = 0.3, grid = True)\n",
    "plt.title('Зависимость цены от числа комнат', size = 14)\n",
    "plt.xlabel('Число комнат, комн.')\n",
    "plt.ylabel('Цена, млн руб.')\n",
    "plt.show()"
   ]
  },
  {
   "cell_type": "code",
   "execution_count": 61,
   "metadata": {},
   "outputs": [
    {
     "name": "stdout",
     "output_type": "stream",
     "text": [
      "0.37\n"
     ]
    }
   ],
   "source": [
    "print(df['last_price'].corr(df['rooms']).round(2))"
   ]
  },
  {
   "cell_type": "markdown",
   "metadata": {},
   "source": [
    "*Зависимость слабая*"
   ]
  },
  {
   "cell_type": "markdown",
   "metadata": {},
   "source": [
    "**Зависимость цены от этажа (первого или последнего)**"
   ]
  },
  {
   "cell_type": "code",
   "execution_count": 62,
   "metadata": {},
   "outputs": [
    {
     "data": {
      "image/png": "[encoded data removed]",
      "text/plain": [
       "<Figure size 1080x360 with 1 Axes>"
      ]
     },
     "metadata": {
      "needs_background": "light"
     },
     "output_type": "display_data"
    }
   ],
   "source": [
    "floors=df.pivot_table(index='floor_groups', values='last_price', aggfunc='count')\n",
    "ax=floors.plot(kind='bar', figsize=(15, 5),rot=360)\n",
    "plt.ylim(bottom=1000)\n",
    "ax.legend_.remove()\n",
    "plt.title('Зависимость цены от этажа', size=14)\n",
    "plt.xlabel('Этаж')\n",
    "plt.ylabel('Количество квартир, шт.')\n",
    "plt.show()"
   ]
  },
  {
   "cell_type": "markdown",
   "metadata": {},
   "source": [
    "*Либо при покупке квартир люди отдают свое предпочение квартирам не на первом и последнем этажах, либо большая часть выборки - это многоэтажки*"
   ]
  },
  {
   "cell_type": "code",
   "execution_count": 63,
   "metadata": {},
   "outputs": [
    {
     "data": {
      "image/png": "[encoded data removed]",
      "text/plain": [
       "<Figure size 432x288 with 1 Axes>"
      ]
     },
     "metadata": {
      "needs_background": "light"
     },
     "output_type": "display_data"
    }
   ],
   "source": [
    "df.plot(x = 'cityCenters_nearest', y = 'last_price', kind = 'scatter', alpha = 0.09)\n",
    "plt.title('Зависимость цены от удалённости от центра', size = 14)\n",
    "plt.xlabel('Удалённость от центра, км')\n",
    "plt.ylabel('Цена, млн руб.')\n",
    "plt.show()"
   ]
  },
  {
   "cell_type": "code",
   "execution_count": 64,
   "metadata": {},
   "outputs": [
    {
     "name": "stdout",
     "output_type": "stream",
     "text": [
      "-0.31\n"
     ]
    }
   ],
   "source": [
    "print(df['cityCenters_nearest'].corr(df['last_price']).round(2))"
   ]
  },
  {
   "cell_type": "markdown",
   "metadata": {},
   "source": [
    "*Видим слабо-отрицательную зависимость*"
   ]
  },
  {
   "cell_type": "markdown",
   "metadata": {},
   "source": [
    "**Зависимость цены от  даты размещения: дня недели, месяца и года**"
   ]
  },
  {
   "cell_type": "code",
   "execution_count": 65,
   "metadata": {},
   "outputs": [
    {
     "data": {
      "image/png": "[encoded data removed]",
      "text/plain": [
       "<Figure size 1080x288 with 1 Axes>"
      ]
     },
     "metadata": {
      "needs_background": "light"
     },
     "output_type": "display_data"
    }
   ],
   "source": [
    "exp_weekday = df.pivot_table(index = 'exp_weekday', values = 'last_price', aggfunc = 'count').reset_index()\n",
    "days = ['Пн','Вт','Ср','Чт','Пт','Сб', 'Вс']\n",
    "mapping = {day: i for i, day in enumerate(days, 1)}\n",
    "key = exp_weekday['exp_weekday'].map(mapping)\n",
    "exp_weekday = exp_weekday.loc[key.argsort()].set_index('exp_weekday')\n",
    "ax = exp_weekday.plot(kind = 'bar', figsize = (15, 4), rot = 360)\n",
    "plt.ylim(bottom = 1000)\n",
    "ax.legend_.remove()\n",
    "plt.title('Зависимость цены от дня недели', size = 14)\n",
    "plt.xlabel('День недели')\n",
    "plt.ylabel('Количество квартир, шт.')\n",
    "plt.show()"
   ]
  },
  {
   "cell_type": "markdown",
   "metadata": {},
   "source": [
    "*Видим, что количество продаж резко снижается в выходные дни. Видимо и продавцам и покупателям тоже хочется отдохнуть на выходных*"
   ]
  },
  {
   "cell_type": "code",
   "execution_count": 66,
   "metadata": {},
   "outputs": [
    {
     "data": {
      "image/png": "[encoded data removed]",
      "text/plain": [
       "<Figure size 1080x288 with 1 Axes>"
      ]
     },
     "metadata": {
      "needs_background": "light"
     },
     "output_type": "display_data"
    }
   ],
   "source": [
    "df.pivot_table(index = 'exp_month', values = 'last_price', aggfunc = 'count')\n",
    "exp_month = df.pivot_table(index = 'exp_month', values = 'last_price', aggfunc = 'median').reset_index()\n",
    "months = ['','Январь',  'Февраль', 'Март', 'Апрель', 'Май', 'Июнь',  'Июль', 'Август',  'Сентябрь',  'Октябрь',  'Ноябрь',  'Декабрь']\n",
    "mapping = {month: i for i, month in enumerate(months)}\n",
    "key = exp_month['exp_month'].map(mapping)\n",
    "exp_month = exp_month.loc[key.argsort()].set_index('exp_month')\n",
    "ax = exp_month.plot(kind = 'bar', figsize = (15, 4),rot = 360)\n",
    "plt.ylim(bottom = 4000000)\n",
    "ax.legend_.remove()\n",
    "plt.title('Зависимость цены от месяца', size = 14)\n",
    "plt.xlabel('Месяц')\n",
    "plt.ylabel('Количество квартир, шт.')\n",
    "plt.show()"
   ]
  },
  {
   "cell_type": "markdown",
   "metadata": {},
   "source": [
    "*Обострение продаж наблюдаем в апреле. Май и июнь проседают по этому показателю. Не знаю с чем может быть связана такая статистика. Единственное, что возможно люди затрачивают большие суммы на планирование и организацию отпуска в конце весны - начале лета, и для покупки квартиры им после этого \"немного не хватает\"* "
   ]
  },
  {
   "cell_type": "code",
   "execution_count": 67,
   "metadata": {},
   "outputs": [
    {
     "data": {
      "image/png": "[encoded data removed]",
      "text/plain": [
       "<Figure size 1080x288 with 1 Axes>"
      ]
     },
     "metadata": {
      "needs_background": "light"
     },
     "output_type": "display_data"
    }
   ],
   "source": [
    "exp_year = df.pivot_table(index = 'exp_year' , values = 'last_price', aggfunc = 'count')\n",
    "ax = exp_year.plot(kind = 'bar', figsize = (15, 4), rot = 360)\n",
    "plt.title('Площади квартир', size = 14)\n",
    "ax.set_title('Зависимость цены от года', y = 1.1, pad = -14)\n",
    "ax.legend_.remove()\n",
    "plt.xlabel('Год')\n",
    "plt.ylabel('Количество квартир, шт.')\n",
    "plt.show()"
   ]
  },
  {
   "cell_type": "markdown",
   "metadata": {},
   "source": [
    "*Низкие показатели продаж за 2014-2016 и 2019 годы. Возможно в датасет попали не все данные по этим годам. Данные за 2017 и 2018 гг. выглядят правдоподобно*"
   ]
  },
  {
   "cell_type": "markdown",
   "metadata": {},
   "source": [
    "**Выберем 10 населённых пунктов с наибольшим числом объявлений**"
   ]
  },
  {
   "cell_type": "code",
   "execution_count": 68,
   "metadata": {},
   "outputs": [
    {
     "name": "stdout",
     "output_type": "stream",
     "text": [
      "                            mean  count\n",
      "locality_name                          \n",
      "Санкт-Петербург    104029.009319   9826\n",
      "посёлок Мурино      85649.789674    413\n",
      "посёлок Шушары      78739.425869    353\n",
      "Всеволожск          66939.224122    290\n",
      "Колпино             75438.450393    281\n",
      "посёлок Парголово   90260.447430    260\n",
      "Пушкин              99245.334697    244\n",
      "Гатчина             69068.025480    232\n",
      "деревня Кудрово     92257.296506    208\n",
      "Выборг              58786.985332    179\n"
     ]
    }
   ],
   "source": [
    "top_exp = (df.groupby('locality_name')['square_price'].agg(['mean', 'count'])).sort_values(by='count', ascending=False).head(10)\n",
    "print(top_exp)"
   ]
  },
  {
   "cell_type": "markdown",
   "metadata": {},
   "source": [
    "*Уберём посёлки и деревни из названий*"
   ]
  },
  {
   "cell_type": "code",
   "execution_count": 69,
   "metadata": {},
   "outputs": [
    {
     "data": {
      "text/html": [
       "<div>\n",
       "<style scoped>\n",
       "    .dataframe tbody tr th:only-of-type {\n",
       "        vertical-align: middle;\n",
       "    }\n",
       "\n",
       "    .dataframe tbody tr th {\n",
       "        vertical-align: top;\n",
       "    }\n",
       "\n",
       "    .dataframe thead th {\n",
       "        text-align: right;\n",
       "    }\n",
       "</style>\n",
       "<table border=\"1\" class=\"dataframe\">\n",
       "  <thead>\n",
       "    <tr style=\"text-align: right;\">\n",
       "      <th></th>\n",
       "      <th>mean</th>\n",
       "      <th>count</th>\n",
       "    </tr>\n",
       "    <tr>\n",
       "      <th>locality_name</th>\n",
       "      <th></th>\n",
       "      <th></th>\n",
       "    </tr>\n",
       "  </thead>\n",
       "  <tbody>\n",
       "    <tr>\n",
       "      <td>Санкт-Петербург</td>\n",
       "      <td>104029.009319</td>\n",
       "      <td>9826</td>\n",
       "    </tr>\n",
       "    <tr>\n",
       "      <td>Мурино</td>\n",
       "      <td>86173.256227</td>\n",
       "      <td>445</td>\n",
       "    </tr>\n",
       "    <tr>\n",
       "      <td>Кудрово</td>\n",
       "      <td>95336.172901</td>\n",
       "      <td>355</td>\n",
       "    </tr>\n",
       "    <tr>\n",
       "      <td>Шушары</td>\n",
       "      <td>78739.425869</td>\n",
       "      <td>353</td>\n",
       "    </tr>\n",
       "    <tr>\n",
       "      <td>Всеволожск</td>\n",
       "      <td>66939.224122</td>\n",
       "      <td>290</td>\n",
       "    </tr>\n",
       "    <tr>\n",
       "      <td>Колпино</td>\n",
       "      <td>75438.450393</td>\n",
       "      <td>281</td>\n",
       "    </tr>\n",
       "    <tr>\n",
       "      <td>Парголово</td>\n",
       "      <td>90260.447430</td>\n",
       "      <td>260</td>\n",
       "    </tr>\n",
       "    <tr>\n",
       "      <td>Пушкин</td>\n",
       "      <td>99245.334697</td>\n",
       "      <td>244</td>\n",
       "    </tr>\n",
       "    <tr>\n",
       "      <td>Гатчина</td>\n",
       "      <td>69068.025480</td>\n",
       "      <td>232</td>\n",
       "    </tr>\n",
       "    <tr>\n",
       "      <td>Выборг</td>\n",
       "      <td>58786.985332</td>\n",
       "      <td>179</td>\n",
       "    </tr>\n",
       "  </tbody>\n",
       "</table>\n",
       "</div>"
      ],
      "text/plain": [
       "                          mean  count\n",
       "locality_name                        \n",
       "Санкт-Петербург  104029.009319   9826\n",
       "Мурино            86173.256227    445\n",
       "Кудрово           95336.172901    355\n",
       "Шушары            78739.425869    353\n",
       "Всеволожск        66939.224122    290\n",
       "Колпино           75438.450393    281\n",
       "Парголово         90260.447430    260\n",
       "Пушкин            99245.334697    244\n",
       "Гатчина           69068.025480    232\n",
       "Выборг            58786.985332    179"
      ]
     },
     "execution_count": 69,
     "metadata": {},
     "output_type": "execute_result"
    }
   ],
   "source": [
    "df['locality_name'] = df['locality_name'].str.replace('посёлок ', '')\n",
    "df['locality_name'] = df['locality_name'].str.replace('деревня ', '')\n",
    "top_exp=(df.groupby('locality_name')['square_price'].agg(['mean', 'count'])).sort_values(by='count', ascending=False).head(10)\n",
    "top_exp"
   ]
  },
  {
   "cell_type": "markdown",
   "metadata": {},
   "source": [
    "*Посчитаем среднюю цену квадратного метра в этих населённых пунктах*"
   ]
  },
  {
   "cell_type": "code",
   "execution_count": 70,
   "metadata": {},
   "outputs": [
    {
     "name": "stdout",
     "output_type": "stream",
     "text": [
      "82401.6\n"
     ]
    }
   ],
   "source": [
    "print(top_exp['mean'].mean().round(1))"
   ]
  },
  {
   "cell_type": "markdown",
   "metadata": {},
   "source": [
    "*Теперь выведем на экран населённые пункты с самой высокой стоимотью жилья*"
   ]
  },
  {
   "cell_type": "code",
   "execution_count": 71,
   "metadata": {},
   "outputs": [
    {
     "name": "stdout",
     "output_type": "stream",
     "text": [
      "                          mean  count\n",
      "locality_name                        \n",
      "Санкт-Петербург  104029.009319   9826\n",
      "Пушкин            99245.334697    244\n",
      "Кудрово           95336.172901    355\n"
     ]
    }
   ],
   "source": [
    "print(top_exp.sort_values(by='mean', ascending=False).head(3))"
   ]
  },
  {
   "cell_type": "markdown",
   "metadata": {},
   "source": [
    "*...и самой низкой стоимостью жилья*"
   ]
  },
  {
   "cell_type": "code",
   "execution_count": 72,
   "metadata": {},
   "outputs": [
    {
     "name": "stdout",
     "output_type": "stream",
     "text": [
      "                       mean  count\n",
      "locality_name                     \n",
      "Гатчина        69068.025480    232\n",
      "Всеволожск     66939.224122    290\n",
      "Выборг         58786.985332    179\n"
     ]
    }
   ],
   "source": [
    "print(top_exp.sort_values(by='mean', ascending=False).tail(3))"
   ]
  },
  {
   "cell_type": "markdown",
   "metadata": {},
   "source": [
    "**Не удивительно, что самое дорогое жильё из представленных находится в Питере. А вот Выборг находится ближе к Финляндии, чем к Петербургу. Наверное поэтому там цены и самые низкие**"
   ]
  },
  {
   "cell_type": "markdown",
   "metadata": {},
   "source": [
    "### Изучим предложения квартир"
   ]
  },
  {
   "cell_type": "code",
   "execution_count": 73,
   "metadata": {
    "scrolled": true
   },
   "outputs": [
    {
     "data": {
      "image/png": "[encoded data removed]",
      "text/plain": [
       "<Figure size 1800x432 with 1 Axes>"
      ]
     },
     "metadata": {
      "needs_background": "light"
     },
     "output_type": "display_data"
    }
   ],
   "source": [
    "spb = df.query('locality_name == \"Санкт-Петербург\"')\n",
    "spb = spb.dropna()\n",
    "spb['cityCenters_nearest_km'] = (spb['cityCenters_nearest'] / 1000).round(0)\n",
    "spb_plot = spb.groupby(['cityCenters_nearest_km']).agg({'last_price' : 'mean'})\n",
    "spb_plot.plot(figsize = (25,6), style ='go', markersize = 14, grid = True)\n",
    "\n",
    "x = spb_plot.index \n",
    "y = spb_plot['last_price']\n",
    " \n",
    "z = np.polyfit(x, y, 1)\n",
    "p = np.poly1d(z)\n",
    "plt.plot(x,p(x),\"r--\")\n",
    "plt.title('Площади квартир', size = 14)\n",
    "plt.xlabel('Удалённость от центра')\n",
    "plt.ylabel('Количество квартир, шт.')\n",
    "plt.show()"
   ]
  },
  {
   "cell_type": "markdown",
   "metadata": {},
   "source": [
    "Cудя по графику, цена за кв.м. начинает опускаться уже на отметке 1,7 км. Определить центр Санкт-Петерубрга не просто, особенно в контексте цен на квартиры. Это происходит из за того, что в районах, которые достаточно удалены от центра(Василеостровский, Приморский или Петроградский) жильё отнюдь не дешёвое. А самые дорогие квартиры находятся на Крестовском острове(около 6 км от центра)."
   ]
  },
  {
   "cell_type": "markdown",
   "metadata": {},
   "source": [
    "### Выделим сегмент квартир в центре"
   ]
  },
  {
   "cell_type": "code",
   "execution_count": 74,
   "metadata": {},
   "outputs": [
    {
     "data": {
      "text/html": [
       "<div>\n",
       "<style scoped>\n",
       "    .dataframe tbody tr th:only-of-type {\n",
       "        vertical-align: middle;\n",
       "    }\n",
       "\n",
       "    .dataframe tbody tr th {\n",
       "        vertical-align: top;\n",
       "    }\n",
       "\n",
       "    .dataframe thead th {\n",
       "        text-align: right;\n",
       "    }\n",
       "</style>\n",
       "<table border=\"1\" class=\"dataframe\">\n",
       "  <thead>\n",
       "    <tr style=\"text-align: right;\">\n",
       "      <th></th>\n",
       "      <th>Цена</th>\n",
       "      <th>Общая площадь</th>\n",
       "      <th>Кол-во комнат</th>\n",
       "      <th>Высота потолков</th>\n",
       "    </tr>\n",
       "  </thead>\n",
       "  <tbody>\n",
       "    <tr>\n",
       "      <td>Цена</td>\n",
       "      <td>1.000000</td>\n",
       "      <td>0.729581</td>\n",
       "      <td>0.579568</td>\n",
       "      <td>0.231914</td>\n",
       "    </tr>\n",
       "    <tr>\n",
       "      <td>Общая площадь</td>\n",
       "      <td>0.729581</td>\n",
       "      <td>1.000000</td>\n",
       "      <td>0.757393</td>\n",
       "      <td>0.235166</td>\n",
       "    </tr>\n",
       "    <tr>\n",
       "      <td>Кол-во комнат</td>\n",
       "      <td>0.579568</td>\n",
       "      <td>0.757393</td>\n",
       "      <td>1.000000</td>\n",
       "      <td>0.173195</td>\n",
       "    </tr>\n",
       "    <tr>\n",
       "      <td>Высота потолков</td>\n",
       "      <td>0.231914</td>\n",
       "      <td>0.235166</td>\n",
       "      <td>0.173195</td>\n",
       "      <td>1.000000</td>\n",
       "    </tr>\n",
       "  </tbody>\n",
       "</table>\n",
       "</div>"
      ],
      "text/plain": [
       "                     Цена  Общая площадь  Кол-во комнат  Высота потолков\n",
       "Цена             1.000000       0.729581       0.579568         0.231914\n",
       "Общая площадь    0.729581       1.000000       0.757393         0.235166\n",
       "Кол-во комнат    0.579568       0.757393       1.000000         0.173195\n",
       "Высота потолков  0.231914       0.235166       0.173195         1.000000"
      ]
     },
     "metadata": {},
     "output_type": "display_data"
    },
    {
     "data": {
      "image/png": "[encoded data removed]",
      "text/plain": [
       "<Figure size 648x648 with 16 Axes>"
      ]
     },
     "metadata": {
      "needs_background": "light"
     },
     "output_type": "display_data"
    },
    {
     "data": {
      "text/html": [
       "<div>\n",
       "<style scoped>\n",
       "    .dataframe tbody tr th:only-of-type {\n",
       "        vertical-align: middle;\n",
       "    }\n",
       "\n",
       "    .dataframe tbody tr th {\n",
       "        vertical-align: top;\n",
       "    }\n",
       "\n",
       "    .dataframe thead th {\n",
       "        text-align: right;\n",
       "    }\n",
       "</style>\n",
       "<table border=\"1\" class=\"dataframe\">\n",
       "  <thead>\n",
       "    <tr style=\"text-align: right;\">\n",
       "      <th></th>\n",
       "      <th>Цена</th>\n",
       "      <th>Площадь кухни</th>\n",
       "      <th>Жилая площадь</th>\n",
       "      <th>Балкон</th>\n",
       "      <th>Этаж</th>\n",
       "      <th>Сколько дней было размещено объявление</th>\n",
       "    </tr>\n",
       "  </thead>\n",
       "  <tbody>\n",
       "    <tr>\n",
       "      <td>Цена</td>\n",
       "      <td>1.000000</td>\n",
       "      <td>0.310274</td>\n",
       "      <td>0.705010</td>\n",
       "      <td>0.106876</td>\n",
       "      <td>0.305110</td>\n",
       "      <td>0.022042</td>\n",
       "    </tr>\n",
       "    <tr>\n",
       "      <td>Площадь кухни</td>\n",
       "      <td>0.310274</td>\n",
       "      <td>1.000000</td>\n",
       "      <td>0.108670</td>\n",
       "      <td>-0.010869</td>\n",
       "      <td>0.044896</td>\n",
       "      <td>0.142835</td>\n",
       "    </tr>\n",
       "    <tr>\n",
       "      <td>Жилая площадь</td>\n",
       "      <td>0.705010</td>\n",
       "      <td>0.108670</td>\n",
       "      <td>1.000000</td>\n",
       "      <td>-0.049469</td>\n",
       "      <td>0.181615</td>\n",
       "      <td>0.102469</td>\n",
       "    </tr>\n",
       "    <tr>\n",
       "      <td>Балкон</td>\n",
       "      <td>0.106876</td>\n",
       "      <td>-0.010869</td>\n",
       "      <td>-0.049469</td>\n",
       "      <td>1.000000</td>\n",
       "      <td>-0.116369</td>\n",
       "      <td>0.218316</td>\n",
       "    </tr>\n",
       "    <tr>\n",
       "      <td>Этаж</td>\n",
       "      <td>0.305110</td>\n",
       "      <td>0.044896</td>\n",
       "      <td>0.181615</td>\n",
       "      <td>-0.116369</td>\n",
       "      <td>1.000000</td>\n",
       "      <td>-0.081077</td>\n",
       "    </tr>\n",
       "    <tr>\n",
       "      <td>Сколько дней было размещено объявление</td>\n",
       "      <td>0.022042</td>\n",
       "      <td>0.142835</td>\n",
       "      <td>0.102469</td>\n",
       "      <td>0.218316</td>\n",
       "      <td>-0.081077</td>\n",
       "      <td>1.000000</td>\n",
       "    </tr>\n",
       "  </tbody>\n",
       "</table>\n",
       "</div>"
      ],
      "text/plain": [
       "                                            Цена  Площадь кухни  \\\n",
       "Цена                                    1.000000       0.310274   \n",
       "Площадь кухни                           0.310274       1.000000   \n",
       "Жилая площадь                           0.705010       0.108670   \n",
       "Балкон                                  0.106876      -0.010869   \n",
       "Этаж                                    0.305110       0.044896   \n",
       "Сколько дней было размещено объявление  0.022042       0.142835   \n",
       "\n",
       "                                        Жилая площадь    Балкон      Этаж  \\\n",
       "Цена                                         0.705010  0.106876  0.305110   \n",
       "Площадь кухни                                0.108670 -0.010869  0.044896   \n",
       "Жилая площадь                                1.000000 -0.049469  0.181615   \n",
       "Балкон                                      -0.049469  1.000000 -0.116369   \n",
       "Этаж                                         0.181615 -0.116369  1.000000   \n",
       "Сколько дней было размещено объявление       0.102469  0.218316 -0.081077   \n",
       "\n",
       "                                        Сколько дней было размещено объявление  \n",
       "Цена                                                                  0.022042  \n",
       "Площадь кухни                                                         0.142835  \n",
       "Жилая площадь                                                         0.102469  \n",
       "Балкон                                                                0.218316  \n",
       "Этаж                                                                 -0.081077  \n",
       "Сколько дней было размещено объявление                                1.000000  "
      ]
     },
     "metadata": {},
     "output_type": "display_data"
    },
    {
     "data": {
      "image/png": "[encoded data removed]",
      "text/plain": [
       "<Figure size 648x648 with 36 Axes>"
      ]
     },
     "metadata": {
      "needs_background": "light"
     },
     "output_type": "display_data"
    }
   ],
   "source": [
    "spb = spb.query('cityCenters_nearest_km <= 2')\n",
    "spb = spb.rename(columns = {\"last_price\": \"Цена\", \"total_area\": \"Общая площадь\", \"rooms\": \"Кол-во комнат\", \"ceiling_height\": \"Высота потолков\", \"kitchen_area\": \"Площадь кухни\", \"living_area\": \"Жилая площадь\",'balcony':'Балкон', 'floor':'Этаж', 'days_exposition':'Сколько дней было размещено объявление'})\n",
    "columns1 = [\"Цена\", \"Общая площадь\", \"Кол-во комнат\", \"Высота потолков\"]\n",
    "columns2 = [\"Цена\", \"Площадь кухни\", \"Жилая площадь\", 'Балкон', 'Этаж', 'Сколько дней было размещено объявление']\n",
    "\n",
    "dict_for_auto = [columns1, columns2]\n",
    " \n",
    "for columns in dict_for_auto:\n",
    "    display(spb[columns].corr())\n",
    "    ax = pd.plotting.scatter_matrix(spb[columns], figsize = (9, 9))\n",
    "    for ax in ax.flatten():\n",
    "        ax.xaxis.label.set_rotation(45)\n",
    "        ax.xaxis.label.set_ha('right')\n",
    "        ax.yaxis.label.set_rotation(45)\n",
    "        ax.yaxis.label.set_ha('right')\n",
    "    plt.show()"
   ]
  },
  {
   "cell_type": "markdown",
   "metadata": {},
   "source": [
    "Как вывод можно сказать, что на цену больше всего влияет общая площадь квартиры. Как следствие важными факторами могут считаться жилая площадь и площадь кухни(потому квартиры-студии и являются самыми дешёвыми). Прочи факторы (такие как этаж или число балконов) оказывают слабое влияние на процесс ценообразования. Подобные тенденции можно отнести как к ценообразованию на квартиры в центре, так и на все квартиры имеющиеся в нашем датасете(Ранее мы уже выяснили, что в вопросе продажи квартир - центр Питера поняте относительное)"
   ]
  },
  {
   "cell_type": "markdown",
   "metadata": {},
   "source": [
    "## Общий вывод"
   ]
  },
  {
   "cell_type": "markdown",
   "metadata": {},
   "source": [
    "Цены на квартиры как в центре Санкт-Петербурга, так и в целом по датасету зависят в первую очередь от общей площади, а также от жилой площади и площади кухни, в меньшей степени от количества комнат. Остальные факторы оказывают слабое влияние на процесс ценообразования.\n",
    "\n",
    "Таким образом, при моделировании автоматизированной системы, которая будет отслеживать аномалии и мошенническую деятельность, необходимо в первую очередь ориентироваться на следующие параметры: общая площадь, жилая площадь и площадь кухни, а также количество комнат."
   ]
  }
 ],
 "metadata": {
  "ExecuteTimeLog": [
   {
    "duration": 849,
    "start_time": "2021-12-06T06:07:45.108Z"
   },
   {
    "duration": 2193,
    "start_time": "2021-12-06T06:10:25.162Z"
   },
   {
    "duration": 3609,
    "start_time": "2021-12-06T06:10:54.647Z"
   },
   {
    "duration": 86,
    "start_time": "2021-12-06T06:11:23.711Z"
   },
   {
    "duration": 46,
    "start_time": "2021-12-06T06:12:02.775Z"
   },
   {
    "duration": 39,
    "start_time": "2021-12-06T06:12:41.493Z"
   },
   {
    "duration": 9,
    "start_time": "2021-12-06T06:12:53.750Z"
   },
   {
    "duration": 40,
    "start_time": "2021-12-06T06:12:55.694Z"
   },
   {
    "duration": 38,
    "start_time": "2021-12-06T06:14:49.956Z"
   },
   {
    "duration": 888,
    "start_time": "2021-12-10T15:35:26.097Z"
   },
   {
    "duration": 81,
    "start_time": "2021-12-10T15:35:26.988Z"
   },
   {
    "duration": 8,
    "start_time": "2021-12-10T15:35:27.072Z"
   },
   {
    "duration": 63,
    "start_time": "2021-12-10T15:35:27.083Z"
   },
   {
    "duration": 4,
    "start_time": "2021-12-10T15:36:17.023Z"
   },
   {
    "duration": 78,
    "start_time": "2021-12-10T15:36:18.488Z"
   },
   {
    "duration": 10,
    "start_time": "2021-12-10T15:36:20.896Z"
   },
   {
    "duration": 40,
    "start_time": "2021-12-10T15:36:32.576Z"
   },
   {
    "duration": 3,
    "start_time": "2021-12-10T15:36:35.008Z"
   },
   {
    "duration": 772,
    "start_time": "2021-12-10T15:36:40.919Z"
   },
   {
    "duration": 83,
    "start_time": "2021-12-10T15:36:41.694Z"
   },
   {
    "duration": 60,
    "start_time": "2021-12-10T15:36:41.780Z"
   },
   {
    "duration": 111,
    "start_time": "2021-12-10T15:37:23.160Z"
   },
   {
    "duration": 100,
    "start_time": "2021-12-10T15:37:24.391Z"
   },
   {
    "duration": 101,
    "start_time": "2021-12-10T15:37:27.423Z"
   },
   {
    "duration": 111,
    "start_time": "2021-12-10T15:41:03.218Z"
   },
   {
    "duration": 33,
    "start_time": "2021-12-10T15:41:28.817Z"
   },
   {
    "duration": 103,
    "start_time": "2021-12-10T15:41:34.457Z"
   },
   {
    "duration": 625,
    "start_time": "2021-12-11T08:34:20.704Z"
   },
   {
    "duration": 644,
    "start_time": "2021-12-11T08:34:27.182Z"
   },
   {
    "duration": 75,
    "start_time": "2021-12-11T08:34:27.828Z"
   },
   {
    "duration": 43,
    "start_time": "2021-12-11T08:34:27.907Z"
   },
   {
    "duration": 21,
    "start_time": "2021-12-11T08:34:27.952Z"
   },
   {
    "duration": 87,
    "start_time": "2021-12-11T08:34:27.974Z"
   },
   {
    "duration": 27,
    "start_time": "2021-12-11T08:34:35.186Z"
   },
   {
    "duration": 27,
    "start_time": "2021-12-11T08:34:39.530Z"
   },
   {
    "duration": 23,
    "start_time": "2021-12-11T09:13:16.877Z"
   },
   {
    "duration": 39,
    "start_time": "2021-12-11T09:13:20.980Z"
   },
   {
    "duration": 551,
    "start_time": "2021-12-11T09:29:55.632Z"
   },
   {
    "duration": 12,
    "start_time": "2021-12-11T09:39:05.532Z"
   },
   {
    "duration": 15,
    "start_time": "2021-12-11T09:39:17.610Z"
   },
   {
    "duration": 57,
    "start_time": "2021-12-11T09:39:49.355Z"
   },
   {
    "duration": 15,
    "start_time": "2021-12-11T09:39:59.260Z"
   },
   {
    "duration": 13,
    "start_time": "2021-12-11T09:40:11.020Z"
   },
   {
    "duration": 11,
    "start_time": "2021-12-11T09:40:17.116Z"
   },
   {
    "duration": 8,
    "start_time": "2021-12-11T10:27:10.594Z"
   },
   {
    "duration": 15,
    "start_time": "2021-12-11T10:27:13.927Z"
   },
   {
    "duration": 8,
    "start_time": "2021-12-11T10:31:47.177Z"
   },
   {
    "duration": 4,
    "start_time": "2021-12-11T10:34:31.729Z"
   },
   {
    "duration": 7,
    "start_time": "2021-12-11T10:35:17.347Z"
   },
   {
    "duration": 7,
    "start_time": "2021-12-11T10:36:02.564Z"
   },
   {
    "duration": 7,
    "start_time": "2021-12-11T10:36:07.107Z"
   },
   {
    "duration": 6,
    "start_time": "2021-12-11T10:36:08.635Z"
   },
   {
    "duration": 11,
    "start_time": "2021-12-11T10:40:55.686Z"
   },
   {
    "duration": 11,
    "start_time": "2021-12-11T10:41:51.740Z"
   },
   {
    "duration": 4,
    "start_time": "2021-12-11T10:43:36.692Z"
   },
   {
    "duration": 5,
    "start_time": "2021-12-11T10:56:06.698Z"
   },
   {
    "duration": 1106,
    "start_time": "2021-12-11T11:06:18.341Z"
   },
   {
    "duration": 25,
    "start_time": "2021-12-11T11:07:14.382Z"
   },
   {
    "duration": 9,
    "start_time": "2021-12-11T11:09:20.157Z"
   },
   {
    "duration": 338,
    "start_time": "2021-12-11T11:11:18.382Z"
   },
   {
    "duration": 70,
    "start_time": "2021-12-11T11:11:40.764Z"
   },
   {
    "duration": 296,
    "start_time": "2021-12-11T11:12:03.943Z"
   },
   {
    "duration": 282,
    "start_time": "2021-12-11T11:12:14.206Z"
   },
   {
    "duration": 340,
    "start_time": "2021-12-11T11:12:18.039Z"
   },
   {
    "duration": 289,
    "start_time": "2021-12-11T11:12:22.855Z"
   },
   {
    "duration": 10,
    "start_time": "2021-12-11T11:13:23.556Z"
   },
   {
    "duration": 1113,
    "start_time": "2021-12-11T11:14:47.653Z"
   },
   {
    "duration": 1871,
    "start_time": "2021-12-11T11:15:18.224Z"
   },
   {
    "duration": 13,
    "start_time": "2021-12-11T11:15:24.039Z"
   },
   {
    "duration": 16,
    "start_time": "2021-12-11T11:18:09.239Z"
   },
   {
    "duration": 10,
    "start_time": "2021-12-11T11:20:56.834Z"
   },
   {
    "duration": 11,
    "start_time": "2021-12-11T11:21:06.985Z"
   },
   {
    "duration": 16,
    "start_time": "2021-12-11T11:21:21.049Z"
   },
   {
    "duration": 1062,
    "start_time": "2021-12-11T11:21:22.889Z"
   },
   {
    "duration": 10,
    "start_time": "2021-12-11T11:21:32.401Z"
   },
   {
    "duration": 697,
    "start_time": "2021-12-11T11:21:37.679Z"
   },
   {
    "duration": 78,
    "start_time": "2021-12-11T11:21:38.378Z"
   },
   {
    "duration": 28,
    "start_time": "2021-12-11T11:21:38.461Z"
   },
   {
    "duration": 28,
    "start_time": "2021-12-11T11:21:38.491Z"
   },
   {
    "duration": 94,
    "start_time": "2021-12-11T11:21:38.520Z"
   },
   {
    "duration": 553,
    "start_time": "2021-12-11T11:21:38.616Z"
   },
   {
    "duration": 13,
    "start_time": "2021-12-11T11:21:39.171Z"
   },
   {
    "duration": 28,
    "start_time": "2021-12-11T11:21:39.187Z"
   },
   {
    "duration": 19,
    "start_time": "2021-12-11T11:21:39.217Z"
   },
   {
    "duration": 33,
    "start_time": "2021-12-11T11:21:39.238Z"
   },
   {
    "duration": 25,
    "start_time": "2021-12-11T11:21:39.273Z"
   },
   {
    "duration": 26,
    "start_time": "2021-12-11T11:21:39.300Z"
   },
   {
    "duration": 46,
    "start_time": "2021-12-11T11:21:39.328Z"
   },
   {
    "duration": 50,
    "start_time": "2021-12-11T11:21:39.377Z"
   },
   {
    "duration": 19,
    "start_time": "2021-12-11T11:21:39.429Z"
   },
   {
    "duration": 35,
    "start_time": "2021-12-11T11:21:39.451Z"
   },
   {
    "duration": 1230,
    "start_time": "2021-12-11T11:21:39.489Z"
   },
   {
    "duration": 24,
    "start_time": "2021-12-11T11:21:40.720Z"
   },
   {
    "duration": 10,
    "start_time": "2021-12-11T11:21:40.746Z"
   },
   {
    "duration": 11,
    "start_time": "2021-12-11T11:21:40.759Z"
   },
   {
    "duration": 1106,
    "start_time": "2021-12-11T11:21:40.772Z"
   },
   {
    "duration": 8,
    "start_time": "2021-12-11T11:21:41.880Z"
   },
   {
    "duration": 17,
    "start_time": "2021-12-11T11:21:41.890Z"
   },
   {
    "duration": 10,
    "start_time": "2021-12-11T11:23:20.281Z"
   },
   {
    "duration": 1062,
    "start_time": "2021-12-11T11:34:41.293Z"
   },
   {
    "duration": 1895,
    "start_time": "2021-12-11T11:34:51.213Z"
   },
   {
    "duration": 5,
    "start_time": "2021-12-11T11:36:09.301Z"
   },
   {
    "duration": 1038,
    "start_time": "2021-12-11T11:36:29.998Z"
   },
   {
    "duration": 5,
    "start_time": "2021-12-11T11:36:33.421Z"
   },
   {
    "duration": 10,
    "start_time": "2021-12-11T11:37:23.099Z"
   },
   {
    "duration": 5,
    "start_time": "2021-12-11T11:37:25.446Z"
   },
   {
    "duration": 47,
    "start_time": "2021-12-11T11:46:55.760Z"
   },
   {
    "duration": 22,
    "start_time": "2021-12-11T11:55:57.371Z"
   },
   {
    "duration": 15,
    "start_time": "2021-12-11T11:56:00.932Z"
   },
   {
    "duration": 5,
    "start_time": "2021-12-11T11:56:24.220Z"
   },
   {
    "duration": 9,
    "start_time": "2021-12-11T12:00:45.038Z"
   },
   {
    "duration": 10,
    "start_time": "2021-12-11T12:01:04.397Z"
   },
   {
    "duration": 7,
    "start_time": "2021-12-11T12:01:15.724Z"
   },
   {
    "duration": 6,
    "start_time": "2021-12-11T12:01:52.757Z"
   },
   {
    "duration": 5,
    "start_time": "2021-12-11T12:02:28.853Z"
   },
   {
    "duration": 18,
    "start_time": "2021-12-11T12:03:15.789Z"
   },
   {
    "duration": 3,
    "start_time": "2021-12-11T12:03:21.213Z"
   },
   {
    "duration": 908,
    "start_time": "2021-12-11T12:04:28.524Z"
   },
   {
    "duration": 117,
    "start_time": "2021-12-11T12:04:29.434Z"
   },
   {
    "duration": 25,
    "start_time": "2021-12-11T12:04:29.554Z"
   },
   {
    "duration": 28,
    "start_time": "2021-12-11T12:04:29.581Z"
   },
   {
    "duration": 82,
    "start_time": "2021-12-11T12:04:29.610Z"
   },
   {
    "duration": 555,
    "start_time": "2021-12-11T12:04:29.694Z"
   },
   {
    "duration": 12,
    "start_time": "2021-12-11T12:04:30.252Z"
   },
   {
    "duration": 18,
    "start_time": "2021-12-11T12:04:30.267Z"
   },
   {
    "duration": 22,
    "start_time": "2021-12-11T12:04:30.288Z"
   },
   {
    "duration": 33,
    "start_time": "2021-12-11T12:04:30.312Z"
   },
   {
    "duration": 30,
    "start_time": "2021-12-11T12:04:30.348Z"
   },
   {
    "duration": 30,
    "start_time": "2021-12-11T12:04:30.380Z"
   },
   {
    "duration": 40,
    "start_time": "2021-12-11T12:04:30.412Z"
   },
   {
    "duration": 48,
    "start_time": "2021-12-11T12:04:30.454Z"
   },
   {
    "duration": 20,
    "start_time": "2021-12-11T12:04:30.504Z"
   },
   {
    "duration": 29,
    "start_time": "2021-12-11T12:04:30.526Z"
   },
   {
    "duration": 1014,
    "start_time": "2021-12-11T12:04:30.557Z"
   },
   {
    "duration": 15,
    "start_time": "2021-12-11T12:04:31.572Z"
   },
   {
    "duration": 8,
    "start_time": "2021-12-11T12:04:31.589Z"
   },
   {
    "duration": 53,
    "start_time": "2021-12-11T12:04:31.598Z"
   },
   {
    "duration": 1008,
    "start_time": "2021-12-11T12:04:31.653Z"
   },
   {
    "duration": 7,
    "start_time": "2021-12-11T12:04:32.663Z"
   },
   {
    "duration": 37,
    "start_time": "2021-12-11T12:04:32.673Z"
   },
   {
    "duration": 32,
    "start_time": "2021-12-11T12:04:32.712Z"
   },
   {
    "duration": 1094,
    "start_time": "2021-12-11T12:04:32.746Z"
   },
   {
    "duration": 4,
    "start_time": "2021-12-11T12:04:33.845Z"
   },
   {
    "duration": 10,
    "start_time": "2021-12-11T12:04:33.850Z"
   },
   {
    "duration": 43,
    "start_time": "2021-12-11T12:04:33.862Z"
   },
   {
    "duration": 7,
    "start_time": "2021-12-11T12:04:33.907Z"
   },
   {
    "duration": 36,
    "start_time": "2021-12-11T12:04:33.916Z"
   },
   {
    "duration": 10,
    "start_time": "2021-12-11T12:04:33.954Z"
   },
   {
    "duration": 6,
    "start_time": "2021-12-11T12:04:33.966Z"
   },
   {
    "duration": 30,
    "start_time": "2021-12-11T12:04:33.974Z"
   },
   {
    "duration": 4,
    "start_time": "2021-12-11T12:04:34.006Z"
   },
   {
    "duration": 48,
    "start_time": "2021-12-11T12:04:34.012Z"
   },
   {
    "duration": 4,
    "start_time": "2021-12-11T12:04:34.062Z"
   },
   {
    "duration": 43,
    "start_time": "2021-12-11T12:19:47.414Z"
   },
   {
    "duration": 349,
    "start_time": "2021-12-11T12:20:59.870Z"
   },
   {
    "duration": 13,
    "start_time": "2021-12-11T12:21:36.879Z"
   },
   {
    "duration": 611,
    "start_time": "2021-12-11T12:27:12.344Z"
   },
   {
    "duration": 6,
    "start_time": "2021-12-11T12:28:51.257Z"
   },
   {
    "duration": 84,
    "start_time": "2021-12-11T12:29:12.681Z"
   },
   {
    "duration": 652,
    "start_time": "2021-12-11T12:30:07.692Z"
   },
   {
    "duration": 83,
    "start_time": "2021-12-11T12:30:08.346Z"
   },
   {
    "duration": 29,
    "start_time": "2021-12-11T12:30:08.432Z"
   },
   {
    "duration": 25,
    "start_time": "2021-12-11T12:30:08.463Z"
   },
   {
    "duration": 87,
    "start_time": "2021-12-11T12:30:08.489Z"
   },
   {
    "duration": 545,
    "start_time": "2021-12-11T12:30:08.578Z"
   },
   {
    "duration": 12,
    "start_time": "2021-12-11T12:30:09.125Z"
   },
   {
    "duration": 6,
    "start_time": "2021-12-11T12:30:09.140Z"
   },
   {
    "duration": 8,
    "start_time": "2021-12-11T12:30:09.148Z"
   },
   {
    "duration": 4,
    "start_time": "2021-12-11T12:30:09.158Z"
   },
   {
    "duration": 11,
    "start_time": "2021-12-11T12:30:09.163Z"
   },
   {
    "duration": 6,
    "start_time": "2021-12-11T12:30:09.176Z"
   },
   {
    "duration": 26,
    "start_time": "2021-12-11T12:30:09.184Z"
   },
   {
    "duration": 53,
    "start_time": "2021-12-11T12:30:09.212Z"
   },
   {
    "duration": 30,
    "start_time": "2021-12-11T12:30:09.267Z"
   },
   {
    "duration": 19,
    "start_time": "2021-12-11T12:30:09.299Z"
   },
   {
    "duration": 1062,
    "start_time": "2021-12-11T12:30:09.320Z"
   },
   {
    "duration": 17,
    "start_time": "2021-12-11T12:30:10.383Z"
   },
   {
    "duration": 8,
    "start_time": "2021-12-11T12:30:10.402Z"
   },
   {
    "duration": 34,
    "start_time": "2021-12-11T12:30:10.412Z"
   },
   {
    "duration": 1031,
    "start_time": "2021-12-11T12:30:10.448Z"
   },
   {
    "duration": 8,
    "start_time": "2021-12-11T12:30:11.481Z"
   },
   {
    "duration": 11,
    "start_time": "2021-12-11T12:30:11.492Z"
   },
   {
    "duration": 10,
    "start_time": "2021-12-11T12:30:11.506Z"
   },
   {
    "duration": 1067,
    "start_time": "2021-12-11T12:30:11.518Z"
   },
   {
    "duration": 5,
    "start_time": "2021-12-11T12:30:12.587Z"
   },
   {
    "duration": 9,
    "start_time": "2021-12-11T12:30:12.595Z"
   },
   {
    "duration": 68,
    "start_time": "2021-12-11T12:30:12.606Z"
   },
   {
    "duration": 5,
    "start_time": "2021-12-11T12:30:12.675Z"
   },
   {
    "duration": 10,
    "start_time": "2021-12-11T12:30:12.683Z"
   },
   {
    "duration": 16,
    "start_time": "2021-12-11T12:30:12.694Z"
   },
   {
    "duration": 8,
    "start_time": "2021-12-11T12:30:12.712Z"
   },
   {
    "duration": 25,
    "start_time": "2021-12-11T12:30:12.722Z"
   },
   {
    "duration": 15,
    "start_time": "2021-12-11T12:30:12.748Z"
   },
   {
    "duration": 640,
    "start_time": "2021-12-11T12:30:12.764Z"
   },
   {
    "duration": 5,
    "start_time": "2021-12-11T12:30:13.406Z"
   },
   {
    "duration": 98,
    "start_time": "2021-12-11T12:30:13.413Z"
   },
   {
    "duration": 21,
    "start_time": "2021-12-11T12:32:09.482Z"
   },
   {
    "duration": 314,
    "start_time": "2021-12-11T12:49:08.830Z"
   },
   {
    "duration": 146,
    "start_time": "2021-12-11T12:50:16.207Z"
   },
   {
    "duration": 140,
    "start_time": "2021-12-11T12:50:33.599Z"
   },
   {
    "duration": 132,
    "start_time": "2021-12-11T12:50:42.767Z"
   },
   {
    "duration": 130,
    "start_time": "2021-12-11T12:50:50.751Z"
   },
   {
    "duration": 129,
    "start_time": "2021-12-11T12:50:54.991Z"
   },
   {
    "duration": 139,
    "start_time": "2021-12-11T12:50:59.343Z"
   },
   {
    "duration": 204,
    "start_time": "2021-12-11T12:51:02.159Z"
   },
   {
    "duration": 216,
    "start_time": "2021-12-11T12:51:54.599Z"
   },
   {
    "duration": 138,
    "start_time": "2021-12-11T12:52:09.320Z"
   },
   {
    "duration": 140,
    "start_time": "2021-12-11T12:53:04.631Z"
   },
   {
    "duration": 141,
    "start_time": "2021-12-11T12:53:28.408Z"
   },
   {
    "duration": 167,
    "start_time": "2021-12-11T12:53:52.272Z"
   },
   {
    "duration": 791,
    "start_time": "2021-12-11T12:54:00.161Z"
   },
   {
    "duration": 88,
    "start_time": "2021-12-11T12:54:00.955Z"
   },
   {
    "duration": 30,
    "start_time": "2021-12-11T12:54:01.046Z"
   },
   {
    "duration": 47,
    "start_time": "2021-12-11T12:54:01.079Z"
   },
   {
    "duration": 82,
    "start_time": "2021-12-11T12:54:01.127Z"
   },
   {
    "duration": 1038,
    "start_time": "2021-12-11T12:54:01.211Z"
   },
   {
    "duration": 14,
    "start_time": "2021-12-11T12:54:02.251Z"
   },
   {
    "duration": 7,
    "start_time": "2021-12-11T12:54:02.267Z"
   },
   {
    "duration": 8,
    "start_time": "2021-12-11T12:54:02.277Z"
   },
   {
    "duration": 4,
    "start_time": "2021-12-11T12:54:02.287Z"
   },
   {
    "duration": 10,
    "start_time": "2021-12-11T12:54:02.293Z"
   },
   {
    "duration": 49,
    "start_time": "2021-12-11T12:54:02.304Z"
   },
   {
    "duration": 18,
    "start_time": "2021-12-11T12:54:02.355Z"
   },
   {
    "duration": 20,
    "start_time": "2021-12-11T12:54:02.376Z"
   },
   {
    "duration": 5,
    "start_time": "2021-12-11T12:54:02.399Z"
   },
   {
    "duration": 38,
    "start_time": "2021-12-11T12:54:02.407Z"
   },
   {
    "duration": 1452,
    "start_time": "2021-12-11T12:54:02.447Z"
   },
   {
    "duration": 21,
    "start_time": "2021-12-11T12:54:03.900Z"
   },
   {
    "duration": 32,
    "start_time": "2021-12-11T12:54:03.923Z"
   },
   {
    "duration": 24,
    "start_time": "2021-12-11T12:54:03.957Z"
   },
   {
    "duration": 2051,
    "start_time": "2021-12-11T12:54:03.984Z"
   },
   {
    "duration": 15,
    "start_time": "2021-12-11T12:54:06.037Z"
   },
   {
    "duration": 11,
    "start_time": "2021-12-11T12:54:06.055Z"
   },
   {
    "duration": 12,
    "start_time": "2021-12-11T12:54:06.068Z"
   },
   {
    "duration": 1233,
    "start_time": "2021-12-11T12:54:06.083Z"
   },
   {
    "duration": 6,
    "start_time": "2021-12-11T12:54:07.318Z"
   },
   {
    "duration": 25,
    "start_time": "2021-12-11T12:54:07.328Z"
   },
   {
    "duration": 70,
    "start_time": "2021-12-11T12:54:07.356Z"
   },
   {
    "duration": 6,
    "start_time": "2021-12-11T12:54:07.428Z"
   },
   {
    "duration": 24,
    "start_time": "2021-12-11T12:54:07.436Z"
   },
   {
    "duration": 41,
    "start_time": "2021-12-11T12:54:07.462Z"
   },
   {
    "duration": 15,
    "start_time": "2021-12-11T12:54:07.506Z"
   },
   {
    "duration": 44,
    "start_time": "2021-12-11T12:54:07.524Z"
   },
   {
    "duration": 17,
    "start_time": "2021-12-11T12:54:07.570Z"
   },
   {
    "duration": 709,
    "start_time": "2021-12-11T12:54:07.589Z"
   },
   {
    "duration": 7,
    "start_time": "2021-12-11T12:54:08.300Z"
   },
   {
    "duration": 40,
    "start_time": "2021-12-11T12:54:08.309Z"
   },
   {
    "duration": 617,
    "start_time": "2021-12-11T12:54:08.351Z"
   },
   {
    "duration": 242,
    "start_time": "2021-12-11T12:54:08.970Z"
   },
   {
    "duration": 159,
    "start_time": "2021-12-11T12:54:09.214Z"
   },
   {
    "duration": 608,
    "start_time": "2021-12-11T12:54:35.550Z"
   },
   {
    "duration": 602,
    "start_time": "2021-12-11T12:54:46.616Z"
   },
   {
    "duration": 698,
    "start_time": "2021-12-11T12:54:51.137Z"
   },
   {
    "duration": 566,
    "start_time": "2021-12-11T12:55:01.239Z"
   },
   {
    "duration": 333,
    "start_time": "2021-12-11T12:59:52.793Z"
   },
   {
    "duration": 1161,
    "start_time": "2021-12-11T13:00:18.753Z"
   },
   {
    "duration": 1473,
    "start_time": "2021-12-11T13:04:53.062Z"
   },
   {
    "duration": 692,
    "start_time": "2021-12-11T13:08:02.921Z"
   },
   {
    "duration": 76,
    "start_time": "2021-12-11T13:08:03.615Z"
   },
   {
    "duration": 28,
    "start_time": "2021-12-11T13:08:03.693Z"
   },
   {
    "duration": 38,
    "start_time": "2021-12-11T13:08:03.723Z"
   },
   {
    "duration": 65,
    "start_time": "2021-12-11T13:08:03.763Z"
   },
   {
    "duration": 523,
    "start_time": "2021-12-11T13:08:03.844Z"
   },
   {
    "duration": 12,
    "start_time": "2021-12-11T13:08:04.369Z"
   },
   {
    "duration": 10,
    "start_time": "2021-12-11T13:08:04.384Z"
   },
   {
    "duration": 30,
    "start_time": "2021-12-11T13:08:04.396Z"
   },
   {
    "duration": 11,
    "start_time": "2021-12-11T13:08:04.427Z"
   },
   {
    "duration": 23,
    "start_time": "2021-12-11T13:08:04.440Z"
   },
   {
    "duration": 23,
    "start_time": "2021-12-11T13:08:04.465Z"
   },
   {
    "duration": 21,
    "start_time": "2021-12-11T13:08:04.490Z"
   },
   {
    "duration": 34,
    "start_time": "2021-12-11T13:08:04.513Z"
   },
   {
    "duration": 7,
    "start_time": "2021-12-11T13:08:04.549Z"
   },
   {
    "duration": 26,
    "start_time": "2021-12-11T13:08:04.558Z"
   },
   {
    "duration": 1017,
    "start_time": "2021-12-11T13:08:04.586Z"
   },
   {
    "duration": 15,
    "start_time": "2021-12-11T13:08:05.605Z"
   },
   {
    "duration": 24,
    "start_time": "2021-12-11T13:08:05.622Z"
   },
   {
    "duration": 41,
    "start_time": "2021-12-11T13:08:05.648Z"
   },
   {
    "duration": 1008,
    "start_time": "2021-12-11T13:08:05.691Z"
   },
   {
    "duration": 8,
    "start_time": "2021-12-11T13:08:06.701Z"
   },
   {
    "duration": 23,
    "start_time": "2021-12-11T13:08:06.712Z"
   },
   {
    "duration": 28,
    "start_time": "2021-12-11T13:08:06.737Z"
   },
   {
    "duration": 990,
    "start_time": "2021-12-11T13:08:06.767Z"
   },
   {
    "duration": 5,
    "start_time": "2021-12-11T13:08:07.758Z"
   },
   {
    "duration": 11,
    "start_time": "2021-12-11T13:08:07.765Z"
   },
   {
    "duration": 45,
    "start_time": "2021-12-11T13:08:07.777Z"
   },
   {
    "duration": 21,
    "start_time": "2021-12-11T13:08:07.824Z"
   },
   {
    "duration": 9,
    "start_time": "2021-12-11T13:08:07.847Z"
   },
   {
    "duration": 10,
    "start_time": "2021-12-11T13:08:07.858Z"
   },
   {
    "duration": 5,
    "start_time": "2021-12-11T13:08:07.869Z"
   },
   {
    "duration": 10,
    "start_time": "2021-12-11T13:08:07.876Z"
   },
   {
    "duration": 12,
    "start_time": "2021-12-11T13:08:07.888Z"
   },
   {
    "duration": 640,
    "start_time": "2021-12-11T13:08:07.902Z"
   },
   {
    "duration": 5,
    "start_time": "2021-12-11T13:08:08.545Z"
   },
   {
    "duration": 47,
    "start_time": "2021-12-11T13:08:08.552Z"
   },
   {
    "duration": 1527,
    "start_time": "2021-12-11T13:08:08.601Z"
   },
   {
    "duration": 1502,
    "start_time": "2021-12-11T13:08:34.219Z"
   },
   {
    "duration": 1082,
    "start_time": "2021-12-11T13:09:01.381Z"
   },
   {
    "duration": 1645,
    "start_time": "2021-12-11T13:09:07.371Z"
   },
   {
    "duration": 1754,
    "start_time": "2021-12-11T13:09:30.316Z"
   },
   {
    "duration": 1610,
    "start_time": "2021-12-11T13:11:26.252Z"
   },
   {
    "duration": 628,
    "start_time": "2021-12-11T13:11:50.500Z"
   },
   {
    "duration": 1495,
    "start_time": "2021-12-11T13:12:08.133Z"
   },
   {
    "duration": 1460,
    "start_time": "2021-12-11T13:12:35.541Z"
   },
   {
    "duration": 1577,
    "start_time": "2021-12-11T13:13:05.413Z"
   },
   {
    "duration": 1575,
    "start_time": "2021-12-11T13:13:29.453Z"
   },
   {
    "duration": 1584,
    "start_time": "2021-12-11T13:14:06.941Z"
   },
   {
    "duration": 1398,
    "start_time": "2021-12-11T13:14:37.117Z"
   },
   {
    "duration": 1591,
    "start_time": "2021-12-11T13:15:19.429Z"
   },
   {
    "duration": 1505,
    "start_time": "2021-12-11T13:15:49.454Z"
   },
   {
    "duration": 1575,
    "start_time": "2021-12-11T13:15:57.269Z"
   },
   {
    "duration": 1423,
    "start_time": "2021-12-11T13:17:41.262Z"
   },
   {
    "duration": 280,
    "start_time": "2021-12-11T13:19:56.422Z"
   },
   {
    "duration": 1802,
    "start_time": "2021-12-11T13:21:18.991Z"
   },
   {
    "duration": 2741,
    "start_time": "2021-12-11T13:21:29.056Z"
   },
   {
    "duration": 1528,
    "start_time": "2021-12-11T13:22:54.488Z"
   },
   {
    "duration": 1712,
    "start_time": "2021-12-11T13:23:04.471Z"
   },
   {
    "duration": 1616,
    "start_time": "2021-12-11T13:23:21.463Z"
   },
   {
    "duration": 1509,
    "start_time": "2021-12-11T13:27:09.161Z"
   },
   {
    "duration": 5,
    "start_time": "2021-12-11T13:27:49.968Z"
   },
   {
    "duration": 6,
    "start_time": "2021-12-11T13:27:55.632Z"
   },
   {
    "duration": 5,
    "start_time": "2021-12-11T13:27:58.536Z"
   },
   {
    "duration": 333,
    "start_time": "2021-12-11T13:28:59.945Z"
   },
   {
    "duration": 338,
    "start_time": "2021-12-11T13:29:04.912Z"
   },
   {
    "duration": 150,
    "start_time": "2021-12-11T13:31:49.353Z"
   },
   {
    "duration": 119,
    "start_time": "2021-12-11T13:32:14.466Z"
   },
   {
    "duration": 177,
    "start_time": "2021-12-11T13:32:18.202Z"
   },
   {
    "duration": 245,
    "start_time": "2021-12-11T13:32:30.914Z"
   },
   {
    "duration": 142,
    "start_time": "2021-12-11T13:32:48.938Z"
   },
   {
    "duration": 147,
    "start_time": "2021-12-11T13:33:07.234Z"
   },
   {
    "duration": 142,
    "start_time": "2021-12-11T13:33:12.115Z"
   },
   {
    "duration": 158,
    "start_time": "2021-12-11T13:33:19.794Z"
   },
   {
    "duration": 153,
    "start_time": "2021-12-11T13:33:26.369Z"
   },
   {
    "duration": 140,
    "start_time": "2021-12-11T13:34:05.363Z"
   },
   {
    "duration": 132,
    "start_time": "2021-12-11T13:34:12.234Z"
   },
   {
    "duration": 205,
    "start_time": "2021-12-11T13:34:23.026Z"
   },
   {
    "duration": 140,
    "start_time": "2021-12-11T13:34:28.322Z"
   },
   {
    "duration": 688,
    "start_time": "2021-12-11T13:34:35.534Z"
   },
   {
    "duration": 74,
    "start_time": "2021-12-11T13:34:36.224Z"
   },
   {
    "duration": 25,
    "start_time": "2021-12-11T13:34:36.300Z"
   },
   {
    "duration": 32,
    "start_time": "2021-12-11T13:34:36.327Z"
   },
   {
    "duration": 67,
    "start_time": "2021-12-11T13:34:36.361Z"
   },
   {
    "duration": 531,
    "start_time": "2021-12-11T13:34:36.430Z"
   },
   {
    "duration": 12,
    "start_time": "2021-12-11T13:34:36.964Z"
   },
   {
    "duration": 6,
    "start_time": "2021-12-11T13:34:36.979Z"
   },
   {
    "duration": 8,
    "start_time": "2021-12-11T13:34:36.987Z"
   },
   {
    "duration": 4,
    "start_time": "2021-12-11T13:34:36.997Z"
   },
   {
    "duration": 8,
    "start_time": "2021-12-11T13:34:37.002Z"
   },
   {
    "duration": 36,
    "start_time": "2021-12-11T13:34:37.012Z"
   },
   {
    "duration": 10,
    "start_time": "2021-12-11T13:34:37.050Z"
   },
   {
    "duration": 13,
    "start_time": "2021-12-11T13:34:37.061Z"
   },
   {
    "duration": 5,
    "start_time": "2021-12-11T13:34:37.076Z"
   },
   {
    "duration": 5,
    "start_time": "2021-12-11T13:34:37.083Z"
   },
   {
    "duration": 1007,
    "start_time": "2021-12-11T13:34:37.090Z"
   },
   {
    "duration": 15,
    "start_time": "2021-12-11T13:34:38.099Z"
   },
   {
    "duration": 8,
    "start_time": "2021-12-11T13:34:38.115Z"
   },
   {
    "duration": 15,
    "start_time": "2021-12-11T13:34:38.146Z"
   },
   {
    "duration": 1738,
    "start_time": "2021-12-11T13:34:38.163Z"
   },
   {
    "duration": 11,
    "start_time": "2021-12-11T13:34:39.903Z"
   },
   {
    "duration": 31,
    "start_time": "2021-12-11T13:34:39.919Z"
   },
   {
    "duration": 15,
    "start_time": "2021-12-11T13:34:39.953Z"
   },
   {
    "duration": 1737,
    "start_time": "2021-12-11T13:34:39.970Z"
   },
   {
    "duration": 6,
    "start_time": "2021-12-11T13:34:41.709Z"
   },
   {
    "duration": 16,
    "start_time": "2021-12-11T13:34:41.717Z"
   },
   {
    "duration": 70,
    "start_time": "2021-12-11T13:34:41.735Z"
   },
   {
    "duration": 6,
    "start_time": "2021-12-11T13:34:41.807Z"
   },
   {
    "duration": 11,
    "start_time": "2021-12-11T13:34:41.815Z"
   },
   {
    "duration": 22,
    "start_time": "2021-12-11T13:34:41.827Z"
   },
   {
    "duration": 5,
    "start_time": "2021-12-11T13:34:41.851Z"
   },
   {
    "duration": 14,
    "start_time": "2021-12-11T13:34:41.857Z"
   },
   {
    "duration": 13,
    "start_time": "2021-12-11T13:34:41.872Z"
   },
   {
    "duration": 624,
    "start_time": "2021-12-11T13:34:41.887Z"
   },
   {
    "duration": 5,
    "start_time": "2021-12-11T13:34:42.513Z"
   },
   {
    "duration": 27,
    "start_time": "2021-12-11T13:34:42.519Z"
   },
   {
    "duration": 1441,
    "start_time": "2021-12-11T13:34:42.548Z"
   },
   {
    "duration": 6,
    "start_time": "2021-12-11T13:34:43.991Z"
   },
   {
    "duration": 438,
    "start_time": "2021-12-11T13:34:43.999Z"
   },
   {
    "duration": 164,
    "start_time": "2021-12-11T13:34:44.439Z"
   },
   {
    "duration": 151,
    "start_time": "2021-12-11T13:34:44.605Z"
   },
   {
    "duration": 332,
    "start_time": "2021-12-11T13:35:21.819Z"
   },
   {
    "duration": 737,
    "start_time": "2021-12-11T13:45:35.958Z"
   },
   {
    "duration": 490,
    "start_time": "2021-12-11T13:46:42.254Z"
   },
   {
    "duration": 200,
    "start_time": "2021-12-11T13:47:31.551Z"
   },
   {
    "duration": 716,
    "start_time": "2021-12-11T13:48:56.536Z"
   },
   {
    "duration": 706,
    "start_time": "2021-12-11T13:53:47.384Z"
   },
   {
    "duration": 511,
    "start_time": "2021-12-11T13:53:55.072Z"
   },
   {
    "duration": 494,
    "start_time": "2021-12-11T13:54:00.568Z"
   },
   {
    "duration": 588,
    "start_time": "2021-12-11T13:54:42.640Z"
   },
   {
    "duration": 491,
    "start_time": "2021-12-11T13:55:34.329Z"
   },
   {
    "duration": 691,
    "start_time": "2021-12-11T13:55:53.257Z"
   },
   {
    "duration": 90,
    "start_time": "2021-12-11T13:57:28.705Z"
   },
   {
    "duration": 97,
    "start_time": "2021-12-11T13:57:32.809Z"
   },
   {
    "duration": 513,
    "start_time": "2021-12-11T13:57:48.281Z"
   },
   {
    "duration": 493,
    "start_time": "2021-12-11T13:58:22.105Z"
   },
   {
    "duration": 490,
    "start_time": "2021-12-11T13:58:28.201Z"
   },
   {
    "duration": 530,
    "start_time": "2021-12-11T13:58:33.018Z"
   },
   {
    "duration": 465,
    "start_time": "2021-12-11T13:59:06.234Z"
   },
   {
    "duration": 482,
    "start_time": "2021-12-11T13:59:21.649Z"
   },
   {
    "duration": 542,
    "start_time": "2021-12-11T13:59:44.122Z"
   },
   {
    "duration": 1569,
    "start_time": "2021-12-11T14:00:04.138Z"
   },
   {
    "duration": 88,
    "start_time": "2021-12-11T14:00:59.258Z"
   },
   {
    "duration": 517,
    "start_time": "2021-12-11T14:01:05.666Z"
   },
   {
    "duration": 483,
    "start_time": "2021-12-11T14:01:10.531Z"
   },
   {
    "duration": 86,
    "start_time": "2021-12-11T14:01:15.178Z"
   },
   {
    "duration": 472,
    "start_time": "2021-12-11T14:01:21.226Z"
   },
   {
    "duration": 483,
    "start_time": "2021-12-11T14:01:29.898Z"
   },
   {
    "duration": 597,
    "start_time": "2021-12-11T14:01:38.569Z"
   },
   {
    "duration": 466,
    "start_time": "2021-12-11T14:01:42.738Z"
   },
   {
    "duration": 493,
    "start_time": "2021-12-11T14:01:49.298Z"
   },
   {
    "duration": 6,
    "start_time": "2021-12-11T14:02:18.898Z"
   },
   {
    "duration": 488,
    "start_time": "2021-12-11T14:02:57.411Z"
   },
   {
    "duration": 5,
    "start_time": "2021-12-11T14:07:28.275Z"
   },
   {
    "duration": 479,
    "start_time": "2021-12-11T14:07:48.548Z"
   },
   {
    "duration": 5,
    "start_time": "2021-12-11T14:08:00.148Z"
   },
   {
    "duration": 497,
    "start_time": "2021-12-11T14:08:05.301Z"
   },
   {
    "duration": 461,
    "start_time": "2021-12-11T14:08:11.740Z"
   },
   {
    "duration": 500,
    "start_time": "2021-12-11T14:08:16.292Z"
   },
   {
    "duration": 514,
    "start_time": "2021-12-11T14:08:20.973Z"
   },
   {
    "duration": 504,
    "start_time": "2021-12-11T14:08:29.373Z"
   },
   {
    "duration": 474,
    "start_time": "2021-12-11T14:09:56.157Z"
   },
   {
    "duration": 4,
    "start_time": "2021-12-11T14:10:01.397Z"
   },
   {
    "duration": 417,
    "start_time": "2021-12-11T14:10:57.021Z"
   },
   {
    "duration": 307,
    "start_time": "2021-12-11T14:12:15.270Z"
   },
   {
    "duration": 344,
    "start_time": "2021-12-11T14:13:56.294Z"
   },
   {
    "duration": 274,
    "start_time": "2021-12-11T14:14:02.870Z"
   },
   {
    "duration": 356,
    "start_time": "2021-12-11T14:14:34.231Z"
   },
   {
    "duration": 561,
    "start_time": "2021-12-11T14:21:42.272Z"
   },
   {
    "duration": 7507,
    "start_time": "2021-12-11T14:22:32.121Z"
   },
   {
    "duration": 8130,
    "start_time": "2021-12-11T14:22:50.785Z"
   },
   {
    "duration": 7552,
    "start_time": "2021-12-11T14:23:06.098Z"
   },
   {
    "duration": 210,
    "start_time": "2021-12-11T14:24:55.240Z"
   },
   {
    "duration": 68,
    "start_time": "2021-12-11T14:26:23.826Z"
   },
   {
    "duration": 36,
    "start_time": "2021-12-11T14:26:32.401Z"
   },
   {
    "duration": 755,
    "start_time": "2021-12-11T14:28:05.535Z"
   },
   {
    "duration": 76,
    "start_time": "2021-12-11T14:28:06.292Z"
   },
   {
    "duration": 28,
    "start_time": "2021-12-11T14:28:06.370Z"
   },
   {
    "duration": 36,
    "start_time": "2021-12-11T14:28:06.400Z"
   },
   {
    "duration": 72,
    "start_time": "2021-12-11T14:28:06.445Z"
   },
   {
    "duration": 555,
    "start_time": "2021-12-11T14:28:06.519Z"
   },
   {
    "duration": 16,
    "start_time": "2021-12-11T14:28:07.076Z"
   },
   {
    "duration": 6,
    "start_time": "2021-12-11T14:28:07.096Z"
   },
   {
    "duration": 10,
    "start_time": "2021-12-11T14:28:07.105Z"
   },
   {
    "duration": 28,
    "start_time": "2021-12-11T14:28:07.118Z"
   },
   {
    "duration": 16,
    "start_time": "2021-12-11T14:28:07.148Z"
   },
   {
    "duration": 9,
    "start_time": "2021-12-11T14:28:07.166Z"
   },
   {
    "duration": 16,
    "start_time": "2021-12-11T14:28:07.177Z"
   },
   {
    "duration": 15,
    "start_time": "2021-12-11T14:28:07.196Z"
   },
   {
    "duration": 3,
    "start_time": "2021-12-11T14:28:07.213Z"
   },
   {
    "duration": 30,
    "start_time": "2021-12-11T14:28:07.218Z"
   },
   {
    "duration": 1104,
    "start_time": "2021-12-11T14:28:07.250Z"
   },
   {
    "duration": 16,
    "start_time": "2021-12-11T14:28:08.355Z"
   },
   {
    "duration": 8,
    "start_time": "2021-12-11T14:28:08.372Z"
   },
   {
    "duration": 13,
    "start_time": "2021-12-11T14:28:08.382Z"
   },
   {
    "duration": 1089,
    "start_time": "2021-12-11T14:28:08.397Z"
   },
   {
    "duration": 10,
    "start_time": "2021-12-11T14:28:09.489Z"
   },
   {
    "duration": 11,
    "start_time": "2021-12-11T14:28:09.503Z"
   },
   {
    "duration": 29,
    "start_time": "2021-12-11T14:28:09.516Z"
   },
   {
    "duration": 1166,
    "start_time": "2021-12-11T14:28:09.547Z"
   },
   {
    "duration": 5,
    "start_time": "2021-12-11T14:28:10.715Z"
   },
   {
    "duration": 22,
    "start_time": "2021-12-11T14:28:10.722Z"
   },
   {
    "duration": 42,
    "start_time": "2021-12-11T14:28:10.747Z"
   },
   {
    "duration": 5,
    "start_time": "2021-12-11T14:28:10.791Z"
   },
   {
    "duration": 10,
    "start_time": "2021-12-11T14:28:10.798Z"
   },
   {
    "duration": 10,
    "start_time": "2021-12-11T14:28:10.810Z"
   },
   {
    "duration": 24,
    "start_time": "2021-12-11T14:28:10.822Z"
   },
   {
    "duration": 11,
    "start_time": "2021-12-11T14:28:10.848Z"
   },
   {
    "duration": 44,
    "start_time": "2021-12-11T14:28:10.861Z"
   },
   {
    "duration": 618,
    "start_time": "2021-12-11T14:28:10.907Z"
   },
   {
    "duration": 6,
    "start_time": "2021-12-11T14:28:11.528Z"
   },
   {
    "duration": 21,
    "start_time": "2021-12-11T14:28:11.544Z"
   },
   {
    "duration": 1451,
    "start_time": "2021-12-11T14:28:11.567Z"
   },
   {
    "duration": 5,
    "start_time": "2021-12-11T14:28:13.020Z"
   },
   {
    "duration": 420,
    "start_time": "2021-12-11T14:28:13.026Z"
   },
   {
    "duration": 165,
    "start_time": "2021-12-11T14:28:13.448Z"
   },
   {
    "duration": 148,
    "start_time": "2021-12-11T14:28:13.614Z"
   },
   {
    "duration": 441,
    "start_time": "2021-12-11T14:28:13.763Z"
   },
   {
    "duration": 509,
    "start_time": "2021-12-11T14:28:14.206Z"
   },
   {
    "duration": 5,
    "start_time": "2021-12-11T14:28:14.717Z"
   },
   {
    "duration": 484,
    "start_time": "2021-12-11T14:28:14.724Z"
   },
   {
    "duration": 4,
    "start_time": "2021-12-11T14:28:15.210Z"
   },
   {
    "duration": 206,
    "start_time": "2021-12-11T14:28:15.216Z"
   },
   {
    "duration": 471,
    "start_time": "2021-12-11T14:28:15.424Z"
   },
   {
    "duration": 4,
    "start_time": "2021-12-11T14:28:15.897Z"
   },
   {
    "duration": 623,
    "start_time": "2021-12-11T14:28:15.903Z"
   },
   {
    "duration": 1029,
    "start_time": "2021-12-11T14:28:15.499Z"
   },
   {
    "duration": 180,
    "start_time": "2021-12-11T14:28:34.530Z"
   },
   {
    "duration": 285,
    "start_time": "2021-12-11T14:28:38.819Z"
   },
   {
    "duration": 440,
    "start_time": "2021-12-11T14:29:22.675Z"
   },
   {
    "duration": 186,
    "start_time": "2021-12-11T14:29:45.115Z"
   },
   {
    "duration": 225,
    "start_time": "2021-12-11T14:30:02.355Z"
   },
   {
    "duration": 374,
    "start_time": "2021-12-11T14:30:58.717Z"
   },
   {
    "duration": 656,
    "start_time": "2021-12-11T14:32:24.365Z"
   },
   {
    "duration": 83,
    "start_time": "2021-12-11T14:32:25.023Z"
   },
   {
    "duration": 36,
    "start_time": "2021-12-11T14:32:25.109Z"
   },
   {
    "duration": 25,
    "start_time": "2021-12-11T14:32:25.148Z"
   },
   {
    "duration": 87,
    "start_time": "2021-12-11T14:32:25.175Z"
   },
   {
    "duration": 641,
    "start_time": "2021-12-11T14:32:25.263Z"
   },
   {
    "duration": 12,
    "start_time": "2021-12-11T14:32:25.906Z"
   },
   {
    "duration": 5,
    "start_time": "2021-12-11T14:32:25.920Z"
   },
   {
    "duration": 17,
    "start_time": "2021-12-11T14:32:25.928Z"
   },
   {
    "duration": 4,
    "start_time": "2021-12-11T14:32:25.947Z"
   },
   {
    "duration": 14,
    "start_time": "2021-12-11T14:32:25.952Z"
   },
   {
    "duration": 5,
    "start_time": "2021-12-11T14:32:25.968Z"
   },
   {
    "duration": 10,
    "start_time": "2021-12-11T14:32:25.975Z"
   },
   {
    "duration": 14,
    "start_time": "2021-12-11T14:32:25.987Z"
   },
   {
    "duration": 5,
    "start_time": "2021-12-11T14:32:26.003Z"
   },
   {
    "duration": 39,
    "start_time": "2021-12-11T14:32:26.010Z"
   },
   {
    "duration": 1038,
    "start_time": "2021-12-11T14:32:26.050Z"
   },
   {
    "duration": 16,
    "start_time": "2021-12-11T14:32:27.090Z"
   },
   {
    "duration": 17,
    "start_time": "2021-12-11T14:32:27.107Z"
   },
   {
    "duration": 21,
    "start_time": "2021-12-11T14:32:27.125Z"
   },
   {
    "duration": 1005,
    "start_time": "2021-12-11T14:32:27.147Z"
   },
   {
    "duration": 8,
    "start_time": "2021-12-11T14:32:28.154Z"
   },
   {
    "duration": 12,
    "start_time": "2021-12-11T14:32:28.163Z"
   },
   {
    "duration": 18,
    "start_time": "2021-12-11T14:32:28.177Z"
   },
   {
    "duration": 987,
    "start_time": "2021-12-11T14:32:28.196Z"
   },
   {
    "duration": 5,
    "start_time": "2021-12-11T14:32:29.184Z"
   },
   {
    "duration": 8,
    "start_time": "2021-12-11T14:32:29.192Z"
   },
   {
    "duration": 55,
    "start_time": "2021-12-11T14:32:29.202Z"
   },
   {
    "duration": 5,
    "start_time": "2021-12-11T14:32:29.258Z"
   },
   {
    "duration": 12,
    "start_time": "2021-12-11T14:32:29.264Z"
   },
   {
    "duration": 9,
    "start_time": "2021-12-11T14:32:29.278Z"
   },
   {
    "duration": 5,
    "start_time": "2021-12-11T14:32:29.288Z"
   },
   {
    "duration": 10,
    "start_time": "2021-12-11T14:32:29.295Z"
   },
   {
    "duration": 89,
    "start_time": "2021-12-11T14:32:29.307Z"
   },
   {
    "duration": 1026,
    "start_time": "2021-12-11T14:32:29.398Z"
   },
   {
    "duration": 18,
    "start_time": "2021-12-11T14:32:30.426Z"
   },
   {
    "duration": 30,
    "start_time": "2021-12-11T14:32:30.447Z"
   },
   {
    "duration": 2450,
    "start_time": "2021-12-11T14:32:30.479Z"
   },
   {
    "duration": 14,
    "start_time": "2021-12-11T14:32:32.932Z"
   },
   {
    "duration": 411,
    "start_time": "2021-12-11T14:32:32.949Z"
   },
   {
    "duration": 155,
    "start_time": "2021-12-11T14:32:33.361Z"
   },
   {
    "duration": 140,
    "start_time": "2021-12-11T14:32:33.518Z"
   },
   {
    "duration": 327,
    "start_time": "2021-12-11T14:32:33.660Z"
   },
   {
    "duration": 598,
    "start_time": "2021-12-11T14:32:33.989Z"
   },
   {
    "duration": 5,
    "start_time": "2021-12-11T14:32:34.589Z"
   },
   {
    "duration": 513,
    "start_time": "2021-12-11T14:32:34.596Z"
   },
   {
    "duration": 6,
    "start_time": "2021-12-11T14:32:35.110Z"
   },
   {
    "duration": 206,
    "start_time": "2021-12-11T14:32:35.117Z"
   },
   {
    "duration": 451,
    "start_time": "2021-12-11T14:32:35.324Z"
   },
   {
    "duration": 5,
    "start_time": "2021-12-11T14:32:35.776Z"
   },
   {
    "duration": 187,
    "start_time": "2021-12-11T14:32:35.782Z"
   },
   {
    "duration": 201,
    "start_time": "2021-12-11T14:32:35.970Z"
   },
   {
    "duration": 291,
    "start_time": "2021-12-11T14:32:36.173Z"
   },
   {
    "duration": 427,
    "start_time": "2021-12-11T14:33:02.539Z"
   },
   {
    "duration": 202,
    "start_time": "2021-12-11T14:43:25.421Z"
   },
   {
    "duration": 368,
    "start_time": "2021-12-11T14:43:28.046Z"
   },
   {
    "duration": 302,
    "start_time": "2021-12-11T14:43:30.310Z"
   },
   {
    "duration": 207,
    "start_time": "2021-12-11T14:46:46.663Z"
   },
   {
    "duration": 231,
    "start_time": "2021-12-11T14:47:04.566Z"
   },
   {
    "duration": 276,
    "start_time": "2021-12-11T14:47:27.143Z"
   },
   {
    "duration": 191,
    "start_time": "2021-12-11T14:48:25.919Z"
   },
   {
    "duration": 202,
    "start_time": "2021-12-11T14:48:42.559Z"
   },
   {
    "duration": 223,
    "start_time": "2021-12-11T14:48:51.335Z"
   },
   {
    "duration": 302,
    "start_time": "2021-12-11T14:49:01.815Z"
   },
   {
    "duration": 189,
    "start_time": "2021-12-11T14:50:04.952Z"
   },
   {
    "duration": 238,
    "start_time": "2021-12-11T14:50:07.351Z"
   },
   {
    "duration": 241,
    "start_time": "2021-12-11T14:50:56.496Z"
   },
   {
    "duration": 230,
    "start_time": "2021-12-11T14:50:59.504Z"
   },
   {
    "duration": 203,
    "start_time": "2021-12-11T14:51:08.232Z"
   },
   {
    "duration": 14,
    "start_time": "2021-12-11T14:51:54.783Z"
   },
   {
    "duration": 16,
    "start_time": "2021-12-11T14:52:04.584Z"
   },
   {
    "duration": 12,
    "start_time": "2021-12-11T14:52:09.152Z"
   },
   {
    "duration": 10,
    "start_time": "2021-12-11T14:52:15.648Z"
   },
   {
    "duration": 32,
    "start_time": "2021-12-11T14:52:52.871Z"
   },
   {
    "duration": 5,
    "start_time": "2021-12-11T14:53:48.103Z"
   },
   {
    "duration": 9,
    "start_time": "2021-12-11T14:55:18.065Z"
   },
   {
    "duration": 5,
    "start_time": "2021-12-11T14:55:58.825Z"
   },
   {
    "duration": 5,
    "start_time": "2021-12-11T14:56:02.505Z"
   },
   {
    "duration": 281,
    "start_time": "2021-12-11T15:04:17.267Z"
   },
   {
    "duration": 302,
    "start_time": "2021-12-11T15:05:26.971Z"
   },
   {
    "duration": 15,
    "start_time": "2021-12-11T15:06:54.860Z"
   },
   {
    "duration": 348,
    "start_time": "2021-12-11T15:10:24.350Z"
   },
   {
    "duration": 343,
    "start_time": "2021-12-11T15:10:36.630Z"
   },
   {
    "duration": 349,
    "start_time": "2021-12-11T15:10:46.885Z"
   },
   {
    "duration": 525,
    "start_time": "2021-12-11T15:12:30.518Z"
   },
   {
    "duration": 295,
    "start_time": "2021-12-11T15:12:45.389Z"
   },
   {
    "duration": 290,
    "start_time": "2021-12-11T15:13:01.726Z"
   },
   {
    "duration": 277,
    "start_time": "2021-12-11T15:13:13.213Z"
   },
   {
    "duration": 195,
    "start_time": "2021-12-11T15:15:23.020Z"
   },
   {
    "duration": 202,
    "start_time": "2021-12-11T15:15:33.728Z"
   },
   {
    "duration": 3742,
    "start_time": "2021-12-11T15:22:01.898Z"
   },
   {
    "duration": 4775,
    "start_time": "2021-12-11T15:22:32.326Z"
   },
   {
    "duration": 313,
    "start_time": "2021-12-11T15:28:58.370Z"
   },
   {
    "duration": 283,
    "start_time": "2021-12-11T15:29:27.914Z"
   },
   {
    "duration": 5,
    "start_time": "2021-12-11T15:31:40.003Z"
   },
   {
    "duration": 260,
    "start_time": "2021-12-11T15:31:44.299Z"
   },
   {
    "duration": 10,
    "start_time": "2021-12-11T15:32:20.180Z"
   },
   {
    "duration": 297,
    "start_time": "2021-12-11T15:33:10.283Z"
   },
   {
    "duration": 9,
    "start_time": "2021-12-11T15:34:35.373Z"
   },
   {
    "duration": 3620,
    "start_time": "2021-12-11T15:34:43.420Z"
   },
   {
    "duration": 128,
    "start_time": "2021-12-11T15:37:48.757Z"
   },
   {
    "duration": 322,
    "start_time": "2021-12-11T15:47:37.479Z"
   },
   {
    "duration": 3850,
    "start_time": "2021-12-11T15:47:41.111Z"
   },
   {
    "duration": 477,
    "start_time": "2021-12-11T15:48:42.761Z"
   },
   {
    "duration": 3779,
    "start_time": "2021-12-11T15:48:50.000Z"
   },
   {
    "duration": 4100,
    "start_time": "2021-12-11T15:49:39.169Z"
   },
   {
    "duration": 267,
    "start_time": "2021-12-11T15:58:09.386Z"
   },
   {
    "duration": 12,
    "start_time": "2021-12-11T15:58:28.507Z"
   },
   {
    "duration": 331,
    "start_time": "2021-12-11T15:59:35.931Z"
   },
   {
    "duration": 776,
    "start_time": "2021-12-11T16:03:01.943Z"
   },
   {
    "duration": 117,
    "start_time": "2021-12-11T16:03:02.722Z"
   },
   {
    "duration": 50,
    "start_time": "2021-12-11T16:03:02.842Z"
   },
   {
    "duration": 81,
    "start_time": "2021-12-11T16:03:02.894Z"
   },
   {
    "duration": 113,
    "start_time": "2021-12-11T16:03:02.977Z"
   },
   {
    "duration": 627,
    "start_time": "2021-12-11T16:03:03.092Z"
   },
   {
    "duration": 13,
    "start_time": "2021-12-11T16:03:03.721Z"
   },
   {
    "duration": 6,
    "start_time": "2021-12-11T16:03:03.737Z"
   },
   {
    "duration": 12,
    "start_time": "2021-12-11T16:03:03.745Z"
   },
   {
    "duration": 3,
    "start_time": "2021-12-11T16:03:03.758Z"
   },
   {
    "duration": 10,
    "start_time": "2021-12-11T16:03:03.763Z"
   },
   {
    "duration": 6,
    "start_time": "2021-12-11T16:03:03.775Z"
   },
   {
    "duration": 9,
    "start_time": "2021-12-11T16:03:03.783Z"
   },
   {
    "duration": 13,
    "start_time": "2021-12-11T16:03:03.794Z"
   },
   {
    "duration": 3,
    "start_time": "2021-12-11T16:03:03.808Z"
   },
   {
    "duration": 4,
    "start_time": "2021-12-11T16:03:03.845Z"
   },
   {
    "duration": 1115,
    "start_time": "2021-12-11T16:03:03.851Z"
   },
   {
    "duration": 13,
    "start_time": "2021-12-11T16:03:04.968Z"
   },
   {
    "duration": 7,
    "start_time": "2021-12-11T16:03:04.983Z"
   },
   {
    "duration": 12,
    "start_time": "2021-12-11T16:03:04.991Z"
   },
   {
    "duration": 1189,
    "start_time": "2021-12-11T16:03:05.004Z"
   },
   {
    "duration": 8,
    "start_time": "2021-12-11T16:03:06.196Z"
   },
   {
    "duration": 11,
    "start_time": "2021-12-11T16:03:06.208Z"
   },
   {
    "duration": 30,
    "start_time": "2021-12-11T16:03:06.222Z"
   },
   {
    "duration": 1030,
    "start_time": "2021-12-11T16:03:06.254Z"
   },
   {
    "duration": 5,
    "start_time": "2021-12-11T16:03:07.286Z"
   },
   {
    "duration": 10,
    "start_time": "2021-12-11T16:03:07.293Z"
   },
   {
    "duration": 66,
    "start_time": "2021-12-11T16:03:07.304Z"
   },
   {
    "duration": 20,
    "start_time": "2021-12-11T16:03:07.372Z"
   },
   {
    "duration": 6,
    "start_time": "2021-12-11T16:03:07.394Z"
   },
   {
    "duration": 15,
    "start_time": "2021-12-11T16:03:07.402Z"
   },
   {
    "duration": 31,
    "start_time": "2021-12-11T16:03:07.419Z"
   },
   {
    "duration": 5,
    "start_time": "2021-12-11T16:03:07.451Z"
   },
   {
    "duration": 11,
    "start_time": "2021-12-11T16:03:07.457Z"
   },
   {
    "duration": 46,
    "start_time": "2021-12-11T16:03:07.470Z"
   },
   {
    "duration": 630,
    "start_time": "2021-12-11T16:03:07.518Z"
   },
   {
    "duration": 6,
    "start_time": "2021-12-11T16:03:08.149Z"
   },
   {
    "duration": 26,
    "start_time": "2021-12-11T16:03:08.156Z"
   },
   {
    "duration": 1476,
    "start_time": "2021-12-11T16:03:08.184Z"
   },
   {
    "duration": 5,
    "start_time": "2021-12-11T16:03:09.662Z"
   },
   {
    "duration": 447,
    "start_time": "2021-12-11T16:03:09.669Z"
   },
   {
    "duration": 167,
    "start_time": "2021-12-11T16:03:10.118Z"
   },
   {
    "duration": 153,
    "start_time": "2021-12-11T16:03:10.287Z"
   },
   {
    "duration": 347,
    "start_time": "2021-12-11T16:03:10.444Z"
   },
   {
    "duration": 520,
    "start_time": "2021-12-11T16:03:10.793Z"
   },
   {
    "duration": 5,
    "start_time": "2021-12-11T16:03:11.314Z"
   },
   {
    "duration": 483,
    "start_time": "2021-12-11T16:03:11.321Z"
   },
   {
    "duration": 5,
    "start_time": "2021-12-11T16:03:11.807Z"
   },
   {
    "duration": 200,
    "start_time": "2021-12-11T16:03:11.813Z"
   },
   {
    "duration": 472,
    "start_time": "2021-12-11T16:03:12.015Z"
   },
   {
    "duration": 5,
    "start_time": "2021-12-11T16:03:12.489Z"
   },
   {
    "duration": 220,
    "start_time": "2021-12-11T16:03:12.496Z"
   },
   {
    "duration": 281,
    "start_time": "2021-12-11T16:03:12.718Z"
   },
   {
    "duration": 290,
    "start_time": "2021-12-11T16:03:13.001Z"
   },
   {
    "duration": 15,
    "start_time": "2021-12-11T16:03:13.293Z"
   },
   {
    "duration": 68,
    "start_time": "2021-12-11T16:03:13.310Z"
   },
   {
    "duration": 5,
    "start_time": "2021-12-11T16:03:13.381Z"
   },
   {
    "duration": 8,
    "start_time": "2021-12-11T16:03:13.388Z"
   },
   {
    "duration": 9,
    "start_time": "2021-12-11T16:03:13.397Z"
   },
   {
    "duration": 478,
    "start_time": "2021-12-11T16:03:13.407Z"
   },
   {
    "duration": 446,
    "start_time": "2021-12-11T16:03:13.888Z"
   },
   {
    "duration": 1032,
    "start_time": "2021-12-11T16:03:13.308Z"
   },
   {
    "duration": 10,
    "start_time": "2021-12-11T16:03:57.644Z"
   },
   {
    "duration": 11,
    "start_time": "2021-12-11T16:04:01.578Z"
   },
   {
    "duration": 1354,
    "start_time": "2021-12-11T16:04:04.754Z"
   },
   {
    "duration": 8,
    "start_time": "2021-12-11T16:04:25.810Z"
   },
   {
    "duration": 1113,
    "start_time": "2021-12-11T16:04:26.995Z"
   },
   {
    "duration": 4020,
    "start_time": "2021-12-11T16:05:44.035Z"
   },
   {
    "duration": 2873,
    "start_time": "2021-12-11T16:09:38.918Z"
   },
   {
    "duration": 4184,
    "start_time": "2021-12-11T16:22:11.582Z"
   },
   {
    "duration": 3676,
    "start_time": "2021-12-11T16:22:39.392Z"
   },
   {
    "duration": 6227,
    "start_time": "2021-12-11T16:22:48.745Z"
   },
   {
    "duration": 837,
    "start_time": "2021-12-12T08:45:10.956Z"
   },
   {
    "duration": 92,
    "start_time": "2021-12-12T08:45:11.796Z"
   },
   {
    "duration": 49,
    "start_time": "2021-12-12T08:45:11.891Z"
   },
   {
    "duration": 38,
    "start_time": "2021-12-12T08:45:11.944Z"
   },
   {
    "duration": 128,
    "start_time": "2021-12-12T08:45:11.985Z"
   },
   {
    "duration": 343761,
    "start_time": "2021-12-12T08:45:12.124Z"
   },
   {
    "duration": 18,
    "start_time": "2021-12-12T08:50:55.887Z"
   },
   {
    "duration": 8,
    "start_time": "2021-12-12T08:50:55.923Z"
   },
   {
    "duration": 10,
    "start_time": "2021-12-12T08:50:55.935Z"
   },
   {
    "duration": 6,
    "start_time": "2021-12-12T08:50:55.948Z"
   },
   {
    "duration": 15,
    "start_time": "2021-12-12T08:50:55.957Z"
   },
   {
    "duration": 52,
    "start_time": "2021-12-12T08:50:55.975Z"
   },
   {
    "duration": 16,
    "start_time": "2021-12-12T08:50:56.031Z"
   },
   {
    "duration": 19,
    "start_time": "2021-12-12T08:50:56.050Z"
   },
   {
    "duration": 5,
    "start_time": "2021-12-12T08:50:56.072Z"
   },
   {
    "duration": 7,
    "start_time": "2021-12-12T08:50:56.080Z"
   },
   {
    "duration": 1484,
    "start_time": "2021-12-12T08:50:56.124Z"
   },
   {
    "duration": 31,
    "start_time": "2021-12-12T08:50:57.612Z"
   },
   {
    "duration": 11,
    "start_time": "2021-12-12T08:50:57.646Z"
   },
   {
    "duration": 15,
    "start_time": "2021-12-12T08:50:57.659Z"
   },
   {
    "duration": 1592,
    "start_time": "2021-12-12T08:50:57.676Z"
   },
   {
    "duration": 10,
    "start_time": "2021-12-12T08:50:59.271Z"
   },
   {
    "duration": 38,
    "start_time": "2021-12-12T08:50:59.287Z"
   },
   {
    "duration": 35,
    "start_time": "2021-12-12T08:50:59.328Z"
   },
   {
    "duration": 1568,
    "start_time": "2021-12-12T08:50:59.366Z"
   },
   {
    "duration": 7,
    "start_time": "2021-12-12T08:51:00.937Z"
   },
   {
    "duration": 25,
    "start_time": "2021-12-12T08:51:00.947Z"
   },
   {
    "duration": 83,
    "start_time": "2021-12-12T08:51:00.975Z"
   },
   {
    "duration": 23,
    "start_time": "2021-12-12T08:51:01.061Z"
   },
   {
    "duration": 7,
    "start_time": "2021-12-12T08:51:01.087Z"
   },
   {
    "duration": 34,
    "start_time": "2021-12-12T08:51:01.096Z"
   },
   {
    "duration": 19,
    "start_time": "2021-12-12T08:51:01.133Z"
   },
   {
    "duration": 20,
    "start_time": "2021-12-12T08:51:01.155Z"
   },
   {
    "duration": 70,
    "start_time": "2021-12-12T08:51:01.177Z"
   },
   {
    "duration": 64,
    "start_time": "2021-12-12T08:51:01.250Z"
   },
   {
    "duration": 990,
    "start_time": "2021-12-12T08:51:01.316Z"
   },
   {
    "duration": 14,
    "start_time": "2021-12-12T08:51:02.309Z"
   },
   {
    "duration": 29,
    "start_time": "2021-12-12T08:51:02.325Z"
   },
   {
    "duration": 2304,
    "start_time": "2021-12-12T08:51:02.357Z"
   },
   {
    "duration": 7,
    "start_time": "2021-12-12T08:51:04.664Z"
   },
   {
    "duration": 637,
    "start_time": "2021-12-12T08:51:04.673Z"
   },
   {
    "duration": 254,
    "start_time": "2021-12-12T08:51:05.312Z"
   },
   {
    "duration": 233,
    "start_time": "2021-12-12T08:51:05.569Z"
   },
   {
    "duration": 509,
    "start_time": "2021-12-12T08:51:05.805Z"
   },
   {
    "duration": 704,
    "start_time": "2021-12-12T08:51:06.324Z"
   },
   {
    "duration": 5,
    "start_time": "2021-12-12T08:51:07.030Z"
   },
   {
    "duration": 690,
    "start_time": "2021-12-12T08:51:07.038Z"
   },
   {
    "duration": 6,
    "start_time": "2021-12-12T08:51:07.730Z"
   },
   {
    "duration": 318,
    "start_time": "2021-12-12T08:51:07.738Z"
   },
   {
    "duration": 659,
    "start_time": "2021-12-12T08:51:08.058Z"
   },
   {
    "duration": 5,
    "start_time": "2021-12-12T08:51:08.724Z"
   },
   {
    "duration": 350,
    "start_time": "2021-12-12T08:51:08.731Z"
   },
   {
    "duration": 392,
    "start_time": "2021-12-12T08:51:09.084Z"
   },
   {
    "duration": 405,
    "start_time": "2021-12-12T08:51:09.479Z"
   },
   {
    "duration": 15,
    "start_time": "2021-12-12T08:51:09.887Z"
   },
   {
    "duration": 59,
    "start_time": "2021-12-12T08:51:09.904Z"
   },
   {
    "duration": 5,
    "start_time": "2021-12-12T08:51:09.965Z"
   },
   {
    "duration": 18,
    "start_time": "2021-12-12T08:51:09.973Z"
   },
   {
    "duration": 44,
    "start_time": "2021-12-12T08:51:09.993Z"
   },
   {
    "duration": 562,
    "start_time": "2021-12-12T08:51:10.040Z"
   },
   {
    "duration": 5707,
    "start_time": "2021-12-12T08:51:10.604Z"
   },
   {
    "duration": 737,
    "start_time": "2021-12-12T10:41:12.600Z"
   },
   {
    "duration": 81,
    "start_time": "2021-12-12T10:41:13.339Z"
   },
   {
    "duration": 27,
    "start_time": "2021-12-12T10:41:13.423Z"
   },
   {
    "duration": 25,
    "start_time": "2021-12-12T10:41:13.452Z"
   },
   {
    "duration": 92,
    "start_time": "2021-12-12T10:41:13.479Z"
   },
   {
    "duration": 704,
    "start_time": "2021-12-12T10:41:13.573Z"
   },
   {
    "duration": 13,
    "start_time": "2021-12-12T10:41:14.279Z"
   },
   {
    "duration": 7,
    "start_time": "2021-12-12T10:41:14.294Z"
   },
   {
    "duration": 8,
    "start_time": "2021-12-12T10:41:14.303Z"
   },
   {
    "duration": 4,
    "start_time": "2021-12-12T10:41:14.312Z"
   },
   {
    "duration": 9,
    "start_time": "2021-12-12T10:41:14.317Z"
   },
   {
    "duration": 7,
    "start_time": "2021-12-12T10:41:14.328Z"
   },
   {
    "duration": 10,
    "start_time": "2021-12-12T10:41:14.336Z"
   },
   {
    "duration": 13,
    "start_time": "2021-12-12T10:41:14.348Z"
   },
   {
    "duration": 3,
    "start_time": "2021-12-12T10:41:14.363Z"
   },
   {
    "duration": 43,
    "start_time": "2021-12-12T10:41:14.368Z"
   },
   {
    "duration": 1053,
    "start_time": "2021-12-12T10:41:14.412Z"
   },
   {
    "duration": 17,
    "start_time": "2021-12-12T10:41:15.466Z"
   },
   {
    "duration": 23,
    "start_time": "2021-12-12T10:41:15.485Z"
   },
   {
    "duration": 12,
    "start_time": "2021-12-12T10:41:15.510Z"
   },
   {
    "duration": 1041,
    "start_time": "2021-12-12T10:41:15.524Z"
   },
   {
    "duration": 8,
    "start_time": "2021-12-12T10:41:16.567Z"
   },
   {
    "duration": 11,
    "start_time": "2021-12-12T10:41:16.579Z"
   },
   {
    "duration": 9,
    "start_time": "2021-12-12T10:41:16.608Z"
   },
   {
    "duration": 1017,
    "start_time": "2021-12-12T10:41:16.619Z"
   },
   {
    "duration": 4,
    "start_time": "2021-12-12T10:41:17.638Z"
   },
   {
    "duration": 9,
    "start_time": "2021-12-12T10:41:17.644Z"
   },
   {
    "duration": 61,
    "start_time": "2021-12-12T10:41:17.654Z"
   },
   {
    "duration": 18,
    "start_time": "2021-12-12T10:41:17.716Z"
   },
   {
    "duration": 5,
    "start_time": "2021-12-12T10:41:17.735Z"
   },
   {
    "duration": 10,
    "start_time": "2021-12-12T10:41:17.742Z"
   },
   {
    "duration": 8,
    "start_time": "2021-12-12T10:41:17.754Z"
   },
   {
    "duration": 5,
    "start_time": "2021-12-12T10:41:17.764Z"
   },
   {
    "duration": 35,
    "start_time": "2021-12-12T10:41:17.771Z"
   },
   {
    "duration": 47,
    "start_time": "2021-12-12T10:41:17.808Z"
   },
   {
    "duration": 620,
    "start_time": "2021-12-12T10:41:17.856Z"
   },
   {
    "duration": 5,
    "start_time": "2021-12-12T10:41:18.478Z"
   },
   {
    "duration": 33,
    "start_time": "2021-12-12T10:41:18.484Z"
   },
   {
    "duration": 1426,
    "start_time": "2021-12-12T10:41:18.519Z"
   },
   {
    "duration": 5,
    "start_time": "2021-12-12T10:41:19.947Z"
   },
   {
    "duration": 409,
    "start_time": "2021-12-12T10:41:19.953Z"
   },
   {
    "duration": 163,
    "start_time": "2021-12-12T10:41:20.364Z"
   },
   {
    "duration": 149,
    "start_time": "2021-12-12T10:41:20.529Z"
   },
   {
    "duration": 354,
    "start_time": "2021-12-12T10:41:20.680Z"
   },
   {
    "duration": 561,
    "start_time": "2021-12-12T10:41:21.036Z"
   },
   {
    "duration": 4,
    "start_time": "2021-12-12T10:41:21.607Z"
   },
   {
    "duration": 502,
    "start_time": "2021-12-12T10:41:21.613Z"
   },
   {
    "duration": 5,
    "start_time": "2021-12-12T10:41:22.117Z"
   },
   {
    "duration": 238,
    "start_time": "2021-12-12T10:41:22.124Z"
   },
   {
    "duration": 490,
    "start_time": "2021-12-12T10:41:22.363Z"
   },
   {
    "duration": 4,
    "start_time": "2021-12-12T10:41:22.855Z"
   },
   {
    "duration": 208,
    "start_time": "2021-12-12T10:41:22.860Z"
   },
   {
    "duration": 244,
    "start_time": "2021-12-12T10:41:23.069Z"
   },
   {
    "duration": 277,
    "start_time": "2021-12-12T10:41:23.314Z"
   },
   {
    "duration": 22,
    "start_time": "2021-12-12T10:41:23.593Z"
   },
   {
    "duration": 31,
    "start_time": "2021-12-12T10:41:23.617Z"
   },
   {
    "duration": 4,
    "start_time": "2021-12-12T10:41:23.651Z"
   },
   {
    "duration": 9,
    "start_time": "2021-12-12T10:41:23.656Z"
   },
   {
    "duration": 9,
    "start_time": "2021-12-12T10:41:23.667Z"
   },
   {
    "duration": 362,
    "start_time": "2021-12-12T10:41:23.677Z"
   },
   {
    "duration": 3800,
    "start_time": "2021-12-12T10:41:24.040Z"
   },
   {
    "duration": 7,
    "start_time": "2021-12-12T11:07:33.914Z"
   },
   {
    "duration": 8,
    "start_time": "2021-12-12T11:07:34.098Z"
   },
   {
    "duration": 7,
    "start_time": "2021-12-12T11:09:04.258Z"
   },
   {
    "duration": 8,
    "start_time": "2021-12-12T11:10:00.274Z"
   },
   {
    "duration": 7,
    "start_time": "2021-12-12T11:10:54.491Z"
   },
   {
    "duration": 7,
    "start_time": "2021-12-12T11:11:35.411Z"
   },
   {
    "duration": 8,
    "start_time": "2021-12-12T11:15:07.228Z"
   },
   {
    "duration": 9,
    "start_time": "2021-12-12T11:15:21.363Z"
   },
   {
    "duration": 8,
    "start_time": "2021-12-12T11:17:02.884Z"
   },
   {
    "duration": 8,
    "start_time": "2021-12-12T11:19:27.428Z"
   },
   {
    "duration": 718,
    "start_time": "2021-12-12T11:20:31.191Z"
   },
   {
    "duration": 78,
    "start_time": "2021-12-12T11:20:31.911Z"
   },
   {
    "duration": 28,
    "start_time": "2021-12-12T11:20:31.991Z"
   },
   {
    "duration": 24,
    "start_time": "2021-12-12T11:20:32.022Z"
   },
   {
    "duration": 90,
    "start_time": "2021-12-12T11:20:32.048Z"
   },
   {
    "duration": 545,
    "start_time": "2021-12-12T11:20:32.139Z"
   },
   {
    "duration": 12,
    "start_time": "2021-12-12T11:20:32.686Z"
   },
   {
    "duration": 18,
    "start_time": "2021-12-12T11:20:32.701Z"
   },
   {
    "duration": 21,
    "start_time": "2021-12-12T11:20:32.721Z"
   },
   {
    "duration": 32,
    "start_time": "2021-12-12T11:20:32.744Z"
   },
   {
    "duration": 16,
    "start_time": "2021-12-12T11:20:32.778Z"
   },
   {
    "duration": 24,
    "start_time": "2021-12-12T11:20:32.796Z"
   },
   {
    "duration": 29,
    "start_time": "2021-12-12T11:20:32.823Z"
   },
   {
    "duration": 23,
    "start_time": "2021-12-12T11:20:32.854Z"
   },
   {
    "duration": 20,
    "start_time": "2021-12-12T11:20:32.879Z"
   },
   {
    "duration": 8,
    "start_time": "2021-12-12T11:20:32.901Z"
   },
   {
    "duration": 1101,
    "start_time": "2021-12-12T11:20:32.911Z"
   },
   {
    "duration": 16,
    "start_time": "2021-12-12T11:20:34.014Z"
   },
   {
    "duration": 8,
    "start_time": "2021-12-12T11:20:34.032Z"
   },
   {
    "duration": 8,
    "start_time": "2021-12-12T11:20:34.042Z"
   },
   {
    "duration": 10,
    "start_time": "2021-12-12T11:20:34.052Z"
   },
   {
    "duration": 1119,
    "start_time": "2021-12-12T11:20:34.064Z"
   },
   {
    "duration": 7,
    "start_time": "2021-12-12T11:20:35.187Z"
   },
   {
    "duration": 20,
    "start_time": "2021-12-12T11:20:35.196Z"
   },
   {
    "duration": 11,
    "start_time": "2021-12-12T11:20:35.218Z"
   },
   {
    "duration": 6,
    "start_time": "2021-12-12T11:20:35.231Z"
   },
   {
    "duration": 15,
    "start_time": "2021-12-12T11:20:35.239Z"
   },
   {
    "duration": 1027,
    "start_time": "2021-12-12T11:20:35.255Z"
   },
   {
    "duration": 5,
    "start_time": "2021-12-12T11:20:36.283Z"
   },
   {
    "duration": 21,
    "start_time": "2021-12-12T11:20:36.290Z"
   },
   {
    "duration": 44,
    "start_time": "2021-12-12T11:20:36.313Z"
   },
   {
    "duration": 20,
    "start_time": "2021-12-12T11:20:36.358Z"
   },
   {
    "duration": 5,
    "start_time": "2021-12-12T11:20:36.380Z"
   },
   {
    "duration": 11,
    "start_time": "2021-12-12T11:20:36.407Z"
   },
   {
    "duration": 9,
    "start_time": "2021-12-12T11:20:36.420Z"
   },
   {
    "duration": 5,
    "start_time": "2021-12-12T11:20:36.431Z"
   },
   {
    "duration": 9,
    "start_time": "2021-12-12T11:20:36.437Z"
   },
   {
    "duration": 69,
    "start_time": "2021-12-12T11:20:36.447Z"
   },
   {
    "duration": 607,
    "start_time": "2021-12-12T11:20:36.518Z"
   },
   {
    "duration": 5,
    "start_time": "2021-12-12T11:20:37.127Z"
   },
   {
    "duration": 24,
    "start_time": "2021-12-12T11:20:37.134Z"
   },
   {
    "duration": 1445,
    "start_time": "2021-12-12T11:20:37.160Z"
   },
   {
    "duration": 4,
    "start_time": "2021-12-12T11:20:38.607Z"
   },
   {
    "duration": 503,
    "start_time": "2021-12-12T11:20:38.613Z"
   },
   {
    "duration": 156,
    "start_time": "2021-12-12T11:20:39.117Z"
   },
   {
    "duration": 142,
    "start_time": "2021-12-12T11:20:39.275Z"
   },
   {
    "duration": 324,
    "start_time": "2021-12-12T11:20:39.419Z"
   },
   {
    "duration": 547,
    "start_time": "2021-12-12T11:20:39.745Z"
   },
   {
    "duration": 13,
    "start_time": "2021-12-12T11:20:40.293Z"
   },
   {
    "duration": 466,
    "start_time": "2021-12-12T11:20:40.308Z"
   },
   {
    "duration": 5,
    "start_time": "2021-12-12T11:20:40.776Z"
   },
   {
    "duration": 207,
    "start_time": "2021-12-12T11:20:40.782Z"
   },
   {
    "duration": 461,
    "start_time": "2021-12-12T11:20:40.991Z"
   },
   {
    "duration": 4,
    "start_time": "2021-12-12T11:20:41.454Z"
   },
   {
    "duration": 206,
    "start_time": "2021-12-12T11:20:41.460Z"
   },
   {
    "duration": 232,
    "start_time": "2021-12-12T11:20:41.667Z"
   },
   {
    "duration": 268,
    "start_time": "2021-12-12T11:20:41.901Z"
   },
   {
    "duration": 11,
    "start_time": "2021-12-12T11:20:42.170Z"
   },
   {
    "duration": 46,
    "start_time": "2021-12-12T11:20:42.182Z"
   },
   {
    "duration": 5,
    "start_time": "2021-12-12T11:20:42.230Z"
   },
   {
    "duration": 19,
    "start_time": "2021-12-12T11:20:42.237Z"
   },
   {
    "duration": 16,
    "start_time": "2021-12-12T11:20:42.258Z"
   },
   {
    "duration": 334,
    "start_time": "2021-12-12T11:20:42.275Z"
   },
   {
    "duration": 3609,
    "start_time": "2021-12-12T11:20:42.611Z"
   },
   {
    "duration": 261,
    "start_time": "2021-12-12T11:53:33.311Z"
   },
   {
    "duration": 205,
    "start_time": "2021-12-12T11:53:43.863Z"
   },
   {
    "duration": 252,
    "start_time": "2021-12-12T11:54:09.862Z"
   },
   {
    "duration": 240,
    "start_time": "2021-12-12T12:03:25.018Z"
   },
   {
    "duration": 141,
    "start_time": "2021-12-12T12:04:11.073Z"
   },
   {
    "duration": 125,
    "start_time": "2021-12-12T12:04:20.257Z"
   },
   {
    "duration": 888,
    "start_time": "2021-12-12T12:04:27.823Z"
   },
   {
    "duration": 87,
    "start_time": "2021-12-12T12:04:28.713Z"
   },
   {
    "duration": 28,
    "start_time": "2021-12-12T12:04:28.802Z"
   },
   {
    "duration": 30,
    "start_time": "2021-12-12T12:04:28.832Z"
   },
   {
    "duration": 77,
    "start_time": "2021-12-12T12:04:28.863Z"
   },
   {
    "duration": 697,
    "start_time": "2021-12-12T12:04:28.942Z"
   },
   {
    "duration": 12,
    "start_time": "2021-12-12T12:04:29.641Z"
   },
   {
    "duration": 6,
    "start_time": "2021-12-12T12:04:29.656Z"
   },
   {
    "duration": 18,
    "start_time": "2021-12-12T12:04:29.664Z"
   },
   {
    "duration": 7,
    "start_time": "2021-12-12T12:04:29.684Z"
   },
   {
    "duration": 8,
    "start_time": "2021-12-12T12:04:29.693Z"
   },
   {
    "duration": 22,
    "start_time": "2021-12-12T12:04:29.703Z"
   },
   {
    "duration": 16,
    "start_time": "2021-12-12T12:04:29.727Z"
   },
   {
    "duration": 20,
    "start_time": "2021-12-12T12:04:29.745Z"
   },
   {
    "duration": 4,
    "start_time": "2021-12-12T12:04:29.767Z"
   },
   {
    "duration": 5,
    "start_time": "2021-12-12T12:04:29.773Z"
   },
   {
    "duration": 1204,
    "start_time": "2021-12-12T12:04:29.780Z"
   },
   {
    "duration": 25,
    "start_time": "2021-12-12T12:04:30.986Z"
   },
   {
    "duration": 9,
    "start_time": "2021-12-12T12:04:31.013Z"
   },
   {
    "duration": 10,
    "start_time": "2021-12-12T12:04:31.024Z"
   },
   {
    "duration": 14,
    "start_time": "2021-12-12T12:04:31.036Z"
   },
   {
    "duration": 1208,
    "start_time": "2021-12-12T12:04:31.052Z"
   },
   {
    "duration": 9,
    "start_time": "2021-12-12T12:04:32.264Z"
   },
   {
    "duration": 8,
    "start_time": "2021-12-12T12:04:32.276Z"
   },
   {
    "duration": 29,
    "start_time": "2021-12-12T12:04:32.286Z"
   },
   {
    "duration": 7,
    "start_time": "2021-12-12T12:04:32.317Z"
   },
   {
    "duration": 9,
    "start_time": "2021-12-12T12:04:32.326Z"
   },
   {
    "duration": 1046,
    "start_time": "2021-12-12T12:04:32.337Z"
   },
   {
    "duration": 6,
    "start_time": "2021-12-12T12:04:33.385Z"
   },
   {
    "duration": 22,
    "start_time": "2021-12-12T12:04:33.393Z"
   },
   {
    "duration": 50,
    "start_time": "2021-12-12T12:04:33.417Z"
   },
   {
    "duration": 40,
    "start_time": "2021-12-12T12:04:33.469Z"
   },
   {
    "duration": 7,
    "start_time": "2021-12-12T12:04:33.511Z"
   },
   {
    "duration": 11,
    "start_time": "2021-12-12T12:04:33.520Z"
   },
   {
    "duration": 9,
    "start_time": "2021-12-12T12:04:33.533Z"
   },
   {
    "duration": 5,
    "start_time": "2021-12-12T12:04:33.544Z"
   },
   {
    "duration": 18,
    "start_time": "2021-12-12T12:04:33.551Z"
   },
   {
    "duration": 93,
    "start_time": "2021-12-12T12:04:33.571Z"
   },
   {
    "duration": 630,
    "start_time": "2021-12-12T12:04:33.666Z"
   },
   {
    "duration": 11,
    "start_time": "2021-12-12T12:04:34.297Z"
   },
   {
    "duration": 21,
    "start_time": "2021-12-12T12:04:34.309Z"
   },
   {
    "duration": 1441,
    "start_time": "2021-12-12T12:04:34.331Z"
   },
   {
    "duration": 143,
    "start_time": "2021-12-12T12:04:35.773Z"
   },
   {
    "duration": 204,
    "start_time": "2021-12-12T12:04:35.918Z"
   },
   {
    "duration": 5,
    "start_time": "2021-12-12T12:04:36.124Z"
   },
   {
    "duration": 336,
    "start_time": "2021-12-12T12:04:36.131Z"
   },
   {
    "duration": 158,
    "start_time": "2021-12-12T12:04:36.469Z"
   },
   {
    "duration": 140,
    "start_time": "2021-12-12T12:04:36.628Z"
   },
   {
    "duration": 255,
    "start_time": "2021-12-12T12:04:36.770Z"
   },
   {
    "duration": 542,
    "start_time": "2021-12-12T12:04:37.027Z"
   },
   {
    "duration": 5,
    "start_time": "2021-12-12T12:04:37.571Z"
   },
   {
    "duration": 474,
    "start_time": "2021-12-12T12:04:37.578Z"
   },
   {
    "duration": 5,
    "start_time": "2021-12-12T12:04:38.054Z"
   },
   {
    "duration": 203,
    "start_time": "2021-12-12T12:04:38.061Z"
   },
   {
    "duration": 470,
    "start_time": "2021-12-12T12:04:38.266Z"
   },
   {
    "duration": 4,
    "start_time": "2021-12-12T12:04:38.738Z"
   },
   {
    "duration": 210,
    "start_time": "2021-12-12T12:04:38.744Z"
   },
   {
    "duration": 312,
    "start_time": "2021-12-12T12:04:38.956Z"
   },
   {
    "duration": 200,
    "start_time": "2021-12-12T12:04:39.269Z"
   },
   {
    "duration": 11,
    "start_time": "2021-12-12T12:04:39.471Z"
   },
   {
    "duration": 42,
    "start_time": "2021-12-12T12:04:39.484Z"
   },
   {
    "duration": 4,
    "start_time": "2021-12-12T12:04:39.527Z"
   },
   {
    "duration": 7,
    "start_time": "2021-12-12T12:04:39.532Z"
   },
   {
    "duration": 7,
    "start_time": "2021-12-12T12:04:39.541Z"
   },
   {
    "duration": 353,
    "start_time": "2021-12-12T12:04:39.549Z"
   },
   {
    "duration": 3576,
    "start_time": "2021-12-12T12:04:39.906Z"
   },
   {
    "duration": 331,
    "start_time": "2021-12-12T12:06:07.657Z"
   },
   {
    "duration": 425,
    "start_time": "2021-12-12T12:06:14.122Z"
   },
   {
    "duration": 135,
    "start_time": "2021-12-12T12:07:04.730Z"
   },
   {
    "duration": 144,
    "start_time": "2021-12-12T12:07:09.666Z"
   },
   {
    "duration": 134,
    "start_time": "2021-12-12T12:07:19.498Z"
   },
   {
    "duration": 142,
    "start_time": "2021-12-12T12:07:23.265Z"
   },
   {
    "duration": 611,
    "start_time": "2021-12-12T12:07:56.563Z"
   },
   {
    "duration": 137,
    "start_time": "2021-12-12T12:09:43.635Z"
   },
   {
    "duration": 402,
    "start_time": "2021-12-12T12:11:05.739Z"
   },
   {
    "duration": 701,
    "start_time": "2021-12-12T12:11:52.755Z"
   },
   {
    "duration": 79,
    "start_time": "2021-12-12T12:11:53.458Z"
   },
   {
    "duration": 29,
    "start_time": "2021-12-12T12:11:53.539Z"
   },
   {
    "duration": 40,
    "start_time": "2021-12-12T12:11:53.570Z"
   },
   {
    "duration": 69,
    "start_time": "2021-12-12T12:11:53.612Z"
   },
   {
    "duration": 567,
    "start_time": "2021-12-12T12:11:53.683Z"
   },
   {
    "duration": 15,
    "start_time": "2021-12-12T12:11:54.252Z"
   },
   {
    "duration": 6,
    "start_time": "2021-12-12T12:11:54.270Z"
   },
   {
    "duration": 7,
    "start_time": "2021-12-12T12:11:54.278Z"
   },
   {
    "duration": 5,
    "start_time": "2021-12-12T12:11:54.307Z"
   },
   {
    "duration": 9,
    "start_time": "2021-12-12T12:11:54.314Z"
   },
   {
    "duration": 7,
    "start_time": "2021-12-12T12:11:54.325Z"
   },
   {
    "duration": 11,
    "start_time": "2021-12-12T12:11:54.334Z"
   },
   {
    "duration": 12,
    "start_time": "2021-12-12T12:11:54.347Z"
   },
   {
    "duration": 4,
    "start_time": "2021-12-12T12:11:54.360Z"
   },
   {
    "duration": 5,
    "start_time": "2021-12-12T12:11:54.407Z"
   },
   {
    "duration": 1009,
    "start_time": "2021-12-12T12:11:54.414Z"
   },
   {
    "duration": 15,
    "start_time": "2021-12-12T12:11:55.425Z"
   },
   {
    "duration": 8,
    "start_time": "2021-12-12T12:11:55.442Z"
   },
   {
    "duration": 10,
    "start_time": "2021-12-12T12:11:55.451Z"
   },
   {
    "duration": 10,
    "start_time": "2021-12-12T12:11:55.463Z"
   },
   {
    "duration": 1118,
    "start_time": "2021-12-12T12:11:55.474Z"
   },
   {
    "duration": 11,
    "start_time": "2021-12-12T12:11:56.596Z"
   },
   {
    "duration": 7,
    "start_time": "2021-12-12T12:11:56.610Z"
   },
   {
    "duration": 10,
    "start_time": "2021-12-12T12:11:56.619Z"
   },
   {
    "duration": 8,
    "start_time": "2021-12-12T12:11:56.631Z"
   },
   {
    "duration": 10,
    "start_time": "2021-12-12T12:11:56.641Z"
   },
   {
    "duration": 1068,
    "start_time": "2021-12-12T12:11:56.652Z"
   },
   {
    "duration": 7,
    "start_time": "2021-12-12T12:11:57.722Z"
   },
   {
    "duration": 10,
    "start_time": "2021-12-12T12:11:57.730Z"
   },
   {
    "duration": 66,
    "start_time": "2021-12-12T12:11:57.742Z"
   },
   {
    "duration": 19,
    "start_time": "2021-12-12T12:11:57.810Z"
   },
   {
    "duration": 6,
    "start_time": "2021-12-12T12:11:57.831Z"
   },
   {
    "duration": 15,
    "start_time": "2021-12-12T12:11:57.838Z"
   },
   {
    "duration": 11,
    "start_time": "2021-12-12T12:11:57.855Z"
   },
   {
    "duration": 5,
    "start_time": "2021-12-12T12:11:57.868Z"
   },
   {
    "duration": 33,
    "start_time": "2021-12-12T12:11:57.875Z"
   },
   {
    "duration": 49,
    "start_time": "2021-12-12T12:11:57.910Z"
   },
   {
    "duration": 652,
    "start_time": "2021-12-12T12:11:57.961Z"
   },
   {
    "duration": 5,
    "start_time": "2021-12-12T12:11:58.615Z"
   },
   {
    "duration": 20,
    "start_time": "2021-12-12T12:11:58.622Z"
   },
   {
    "duration": 1465,
    "start_time": "2021-12-12T12:11:58.644Z"
   },
   {
    "duration": 137,
    "start_time": "2021-12-12T12:12:00.111Z"
   },
   {
    "duration": 218,
    "start_time": "2021-12-12T12:12:00.250Z"
   },
   {
    "duration": 336,
    "start_time": "2021-12-12T12:12:00.470Z"
   },
   {
    "duration": 144,
    "start_time": "2021-12-12T12:12:00.808Z"
   },
   {
    "duration": 142,
    "start_time": "2021-12-12T12:12:00.954Z"
   },
   {
    "duration": 652,
    "start_time": "2021-12-12T12:12:01.098Z"
   },
   {
    "duration": 225,
    "start_time": "2021-12-12T12:12:01.752Z"
   },
   {
    "duration": 5,
    "start_time": "2021-12-12T12:12:01.979Z"
   },
   {
    "duration": 434,
    "start_time": "2021-12-12T12:12:01.986Z"
   },
   {
    "duration": 162,
    "start_time": "2021-12-12T12:12:02.422Z"
   },
   {
    "duration": 149,
    "start_time": "2021-12-12T12:12:02.586Z"
   },
   {
    "duration": 261,
    "start_time": "2021-12-12T12:12:02.737Z"
   },
   {
    "duration": 654,
    "start_time": "2021-12-12T12:12:03.000Z"
   },
   {
    "duration": 5,
    "start_time": "2021-12-12T12:12:03.706Z"
   },
   {
    "duration": 521,
    "start_time": "2021-12-12T12:12:03.713Z"
   },
   {
    "duration": 5,
    "start_time": "2021-12-12T12:12:04.235Z"
   },
   {
    "duration": 211,
    "start_time": "2021-12-12T12:12:04.241Z"
   },
   {
    "duration": 485,
    "start_time": "2021-12-12T12:12:04.454Z"
   },
   {
    "duration": 4,
    "start_time": "2021-12-12T12:12:04.941Z"
   },
   {
    "duration": 226,
    "start_time": "2021-12-12T12:12:04.947Z"
   },
   {
    "duration": 248,
    "start_time": "2021-12-12T12:12:05.175Z"
   },
   {
    "duration": 212,
    "start_time": "2021-12-12T12:12:05.425Z"
   },
   {
    "duration": 11,
    "start_time": "2021-12-12T12:12:05.639Z"
   },
   {
    "duration": 30,
    "start_time": "2021-12-12T12:12:05.651Z"
   },
   {
    "duration": 25,
    "start_time": "2021-12-12T12:12:05.683Z"
   },
   {
    "duration": 6,
    "start_time": "2021-12-12T12:12:05.713Z"
   },
   {
    "duration": 7,
    "start_time": "2021-12-12T12:12:05.721Z"
   },
   {
    "duration": 460,
    "start_time": "2021-12-12T12:12:05.729Z"
   },
   {
    "duration": 3841,
    "start_time": "2021-12-12T12:12:06.191Z"
   },
   {
    "duration": 128,
    "start_time": "2021-12-12T12:14:19.656Z"
   },
   {
    "duration": 166,
    "start_time": "2021-12-12T12:14:31.032Z"
   },
   {
    "duration": 205,
    "start_time": "2021-12-12T12:14:47.400Z"
   },
   {
    "duration": 714,
    "start_time": "2021-12-12T12:15:16.714Z"
   },
   {
    "duration": 79,
    "start_time": "2021-12-12T12:15:17.430Z"
   },
   {
    "duration": 28,
    "start_time": "2021-12-12T12:15:17.512Z"
   },
   {
    "duration": 23,
    "start_time": "2021-12-12T12:15:17.541Z"
   },
   {
    "duration": 90,
    "start_time": "2021-12-12T12:15:17.565Z"
   },
   {
    "duration": 711,
    "start_time": "2021-12-12T12:15:17.657Z"
   },
   {
    "duration": 13,
    "start_time": "2021-12-12T12:15:18.371Z"
   },
   {
    "duration": 5,
    "start_time": "2021-12-12T12:15:18.386Z"
   },
   {
    "duration": 17,
    "start_time": "2021-12-12T12:15:18.393Z"
   },
   {
    "duration": 3,
    "start_time": "2021-12-12T12:15:18.412Z"
   },
   {
    "duration": 9,
    "start_time": "2021-12-12T12:15:18.417Z"
   },
   {
    "duration": 6,
    "start_time": "2021-12-12T12:15:18.428Z"
   },
   {
    "duration": 11,
    "start_time": "2021-12-12T12:15:18.436Z"
   },
   {
    "duration": 12,
    "start_time": "2021-12-12T12:15:18.448Z"
   },
   {
    "duration": 3,
    "start_time": "2021-12-12T12:15:18.462Z"
   },
   {
    "duration": 42,
    "start_time": "2021-12-12T12:15:18.467Z"
   },
   {
    "duration": 1037,
    "start_time": "2021-12-12T12:15:18.512Z"
   },
   {
    "duration": 15,
    "start_time": "2021-12-12T12:15:19.551Z"
   },
   {
    "duration": 8,
    "start_time": "2021-12-12T12:15:19.567Z"
   },
   {
    "duration": 11,
    "start_time": "2021-12-12T12:15:19.576Z"
   },
   {
    "duration": 11,
    "start_time": "2021-12-12T12:15:19.606Z"
   },
   {
    "duration": 1151,
    "start_time": "2021-12-12T12:15:19.622Z"
   },
   {
    "duration": 8,
    "start_time": "2021-12-12T12:15:20.776Z"
   },
   {
    "duration": 23,
    "start_time": "2021-12-12T12:15:20.786Z"
   },
   {
    "duration": 11,
    "start_time": "2021-12-12T12:15:20.811Z"
   },
   {
    "duration": 10,
    "start_time": "2021-12-12T12:15:20.824Z"
   },
   {
    "duration": 10,
    "start_time": "2021-12-12T12:15:20.837Z"
   },
   {
    "duration": 1067,
    "start_time": "2021-12-12T12:15:20.849Z"
   },
   {
    "duration": 6,
    "start_time": "2021-12-12T12:15:21.917Z"
   },
   {
    "duration": 11,
    "start_time": "2021-12-12T12:15:21.925Z"
   },
   {
    "duration": 68,
    "start_time": "2021-12-12T12:15:21.938Z"
   },
   {
    "duration": 21,
    "start_time": "2021-12-12T12:15:22.008Z"
   },
   {
    "duration": 6,
    "start_time": "2021-12-12T12:15:22.031Z"
   },
   {
    "duration": 12,
    "start_time": "2021-12-12T12:15:22.038Z"
   },
   {
    "duration": 8,
    "start_time": "2021-12-12T12:15:22.052Z"
   },
   {
    "duration": 5,
    "start_time": "2021-12-12T12:15:22.062Z"
   },
   {
    "duration": 37,
    "start_time": "2021-12-12T12:15:22.069Z"
   },
   {
    "duration": 46,
    "start_time": "2021-12-12T12:15:22.108Z"
   },
   {
    "duration": 620,
    "start_time": "2021-12-12T12:15:22.156Z"
   },
   {
    "duration": 4,
    "start_time": "2021-12-12T12:15:22.778Z"
   },
   {
    "duration": 29,
    "start_time": "2021-12-12T12:15:22.784Z"
   },
   {
    "duration": 1478,
    "start_time": "2021-12-12T12:15:22.815Z"
   },
   {
    "duration": 151,
    "start_time": "2021-12-12T12:15:24.295Z"
   },
   {
    "duration": 213,
    "start_time": "2021-12-12T12:15:24.448Z"
   },
   {
    "duration": 348,
    "start_time": "2021-12-12T12:15:24.663Z"
   },
   {
    "duration": 153,
    "start_time": "2021-12-12T12:15:25.013Z"
   },
   {
    "duration": 144,
    "start_time": "2021-12-12T12:15:25.167Z"
   },
   {
    "duration": 661,
    "start_time": "2021-12-12T12:15:25.313Z"
   },
   {
    "duration": 309,
    "start_time": "2021-12-12T12:15:25.976Z"
   },
   {
    "duration": 6,
    "start_time": "2021-12-12T12:15:26.286Z"
   },
   {
    "duration": 443,
    "start_time": "2021-12-12T12:15:26.306Z"
   },
   {
    "duration": 158,
    "start_time": "2021-12-12T12:15:26.751Z"
   },
   {
    "duration": 147,
    "start_time": "2021-12-12T12:15:26.910Z"
   },
   {
    "duration": 264,
    "start_time": "2021-12-12T12:15:27.059Z"
   },
   {
    "duration": 539,
    "start_time": "2021-12-12T12:15:27.325Z"
   },
   {
    "duration": 6,
    "start_time": "2021-12-12T12:15:27.866Z"
   },
   {
    "duration": 434,
    "start_time": "2021-12-12T12:15:27.874Z"
   },
   {
    "duration": 5,
    "start_time": "2021-12-12T12:15:28.310Z"
   },
   {
    "duration": 209,
    "start_time": "2021-12-12T12:15:28.317Z"
   },
   {
    "duration": 455,
    "start_time": "2021-12-12T12:15:28.528Z"
   },
   {
    "duration": 5,
    "start_time": "2021-12-12T12:15:28.985Z"
   },
   {
    "duration": 217,
    "start_time": "2021-12-12T12:15:28.992Z"
   },
   {
    "duration": 238,
    "start_time": "2021-12-12T12:15:29.212Z"
   },
   {
    "duration": 203,
    "start_time": "2021-12-12T12:15:29.453Z"
   },
   {
    "duration": 12,
    "start_time": "2021-12-12T12:15:29.658Z"
   },
   {
    "duration": 48,
    "start_time": "2021-12-12T12:15:29.671Z"
   },
   {
    "duration": 4,
    "start_time": "2021-12-12T12:15:29.724Z"
   },
   {
    "duration": 7,
    "start_time": "2021-12-12T12:15:29.730Z"
   },
   {
    "duration": 7,
    "start_time": "2021-12-12T12:15:29.738Z"
   },
   {
    "duration": 443,
    "start_time": "2021-12-12T12:15:29.747Z"
   },
   {
    "duration": 3762,
    "start_time": "2021-12-12T12:15:30.192Z"
   },
   {
    "duration": 137,
    "start_time": "2021-12-12T12:16:28.674Z"
   },
   {
    "duration": 147,
    "start_time": "2021-12-12T12:17:17.914Z"
   },
   {
    "duration": 265,
    "start_time": "2021-12-12T12:17:58.906Z"
   },
   {
    "duration": 1550,
    "start_time": "2021-12-12T12:18:24.971Z"
   },
   {
    "duration": 685,
    "start_time": "2021-12-12T12:18:33.335Z"
   },
   {
    "duration": 77,
    "start_time": "2021-12-12T12:18:34.022Z"
   },
   {
    "duration": 28,
    "start_time": "2021-12-12T12:18:34.103Z"
   },
   {
    "duration": 23,
    "start_time": "2021-12-12T12:18:34.132Z"
   },
   {
    "duration": 84,
    "start_time": "2021-12-12T12:18:34.156Z"
   },
   {
    "duration": 541,
    "start_time": "2021-12-12T12:18:34.242Z"
   },
   {
    "duration": 12,
    "start_time": "2021-12-12T12:18:34.786Z"
   },
   {
    "duration": 6,
    "start_time": "2021-12-12T12:18:34.800Z"
   },
   {
    "duration": 11,
    "start_time": "2021-12-12T12:18:34.807Z"
   },
   {
    "duration": 4,
    "start_time": "2021-12-12T12:18:34.820Z"
   },
   {
    "duration": 9,
    "start_time": "2021-12-12T12:18:34.825Z"
   },
   {
    "duration": 7,
    "start_time": "2021-12-12T12:18:34.835Z"
   },
   {
    "duration": 9,
    "start_time": "2021-12-12T12:18:34.844Z"
   },
   {
    "duration": 12,
    "start_time": "2021-12-12T12:18:34.855Z"
   },
   {
    "duration": 4,
    "start_time": "2021-12-12T12:18:34.868Z"
   },
   {
    "duration": 33,
    "start_time": "2021-12-12T12:18:34.873Z"
   },
   {
    "duration": 1014,
    "start_time": "2021-12-12T12:18:34.908Z"
   },
   {
    "duration": 15,
    "start_time": "2021-12-12T12:18:35.924Z"
   },
   {
    "duration": 7,
    "start_time": "2021-12-12T12:18:35.941Z"
   },
   {
    "duration": 10,
    "start_time": "2021-12-12T12:18:35.950Z"
   },
   {
    "duration": 12,
    "start_time": "2021-12-12T12:18:35.961Z"
   },
   {
    "duration": 1013,
    "start_time": "2021-12-12T12:18:35.977Z"
   },
   {
    "duration": 13,
    "start_time": "2021-12-12T12:18:36.993Z"
   },
   {
    "duration": 6,
    "start_time": "2021-12-12T12:18:37.008Z"
   },
   {
    "duration": 9,
    "start_time": "2021-12-12T12:18:37.015Z"
   },
   {
    "duration": 10,
    "start_time": "2021-12-12T12:18:37.026Z"
   },
   {
    "duration": 9,
    "start_time": "2021-12-12T12:18:37.038Z"
   },
   {
    "duration": 1028,
    "start_time": "2021-12-12T12:18:37.049Z"
   },
   {
    "duration": 6,
    "start_time": "2021-12-12T12:18:38.078Z"
   },
   {
    "duration": 22,
    "start_time": "2021-12-12T12:18:38.086Z"
   },
   {
    "duration": 48,
    "start_time": "2021-12-12T12:18:38.110Z"
   },
   {
    "duration": 17,
    "start_time": "2021-12-12T12:18:38.160Z"
   },
   {
    "duration": 6,
    "start_time": "2021-12-12T12:18:38.179Z"
   },
   {
    "duration": 27,
    "start_time": "2021-12-12T12:18:38.187Z"
   },
   {
    "duration": 10,
    "start_time": "2021-12-12T12:18:38.215Z"
   },
   {
    "duration": 6,
    "start_time": "2021-12-12T12:18:38.226Z"
   },
   {
    "duration": 10,
    "start_time": "2021-12-12T12:18:38.234Z"
   },
   {
    "duration": 76,
    "start_time": "2021-12-12T12:18:38.246Z"
   },
   {
    "duration": 650,
    "start_time": "2021-12-12T12:18:38.324Z"
   },
   {
    "duration": 5,
    "start_time": "2021-12-12T12:18:38.975Z"
   },
   {
    "duration": 31,
    "start_time": "2021-12-12T12:18:38.981Z"
   },
   {
    "duration": 1475,
    "start_time": "2021-12-12T12:18:39.014Z"
   },
   {
    "duration": 134,
    "start_time": "2021-12-12T12:18:40.491Z"
   },
   {
    "duration": 208,
    "start_time": "2021-12-12T12:18:40.627Z"
   },
   {
    "duration": 369,
    "start_time": "2021-12-12T12:18:40.837Z"
   },
   {
    "duration": 146,
    "start_time": "2021-12-12T12:18:41.208Z"
   },
   {
    "duration": 138,
    "start_time": "2021-12-12T12:18:41.356Z"
   },
   {
    "duration": 647,
    "start_time": "2021-12-12T12:18:41.496Z"
   },
   {
    "duration": 214,
    "start_time": "2021-12-12T12:18:42.145Z"
   },
   {
    "duration": 147,
    "start_time": "2021-12-12T12:18:42.361Z"
   },
   {
    "duration": 222,
    "start_time": "2021-12-12T12:18:42.510Z"
   },
   {
    "duration": 262,
    "start_time": "2021-12-12T12:18:42.734Z"
   },
   {
    "duration": 11,
    "start_time": "2021-12-12T12:18:42.998Z"
   },
   {
    "duration": 340,
    "start_time": "2021-12-12T12:18:43.011Z"
   },
   {
    "duration": 159,
    "start_time": "2021-12-12T12:18:43.353Z"
   },
   {
    "duration": 144,
    "start_time": "2021-12-12T12:18:43.514Z"
   },
   {
    "duration": 246,
    "start_time": "2021-12-12T12:18:43.660Z"
   },
   {
    "duration": 465,
    "start_time": "2021-12-12T12:18:43.908Z"
   },
   {
    "duration": 4,
    "start_time": "2021-12-12T12:18:44.375Z"
   },
   {
    "duration": 428,
    "start_time": "2021-12-12T12:18:44.381Z"
   },
   {
    "duration": 5,
    "start_time": "2021-12-12T12:18:44.811Z"
   },
   {
    "duration": 200,
    "start_time": "2021-12-12T12:18:44.817Z"
   },
   {
    "duration": 430,
    "start_time": "2021-12-12T12:18:45.019Z"
   },
   {
    "duration": 4,
    "start_time": "2021-12-12T12:18:45.450Z"
   },
   {
    "duration": 284,
    "start_time": "2021-12-12T12:18:45.456Z"
   },
   {
    "duration": 237,
    "start_time": "2021-12-12T12:18:45.742Z"
   },
   {
    "duration": 202,
    "start_time": "2021-12-12T12:18:45.984Z"
   },
   {
    "duration": 20,
    "start_time": "2021-12-12T12:18:46.188Z"
   },
   {
    "duration": 30,
    "start_time": "2021-12-12T12:18:46.210Z"
   },
   {
    "duration": 4,
    "start_time": "2021-12-12T12:18:46.241Z"
   },
   {
    "duration": 7,
    "start_time": "2021-12-12T12:18:46.246Z"
   },
   {
    "duration": 6,
    "start_time": "2021-12-12T12:18:46.255Z"
   },
   {
    "duration": 378,
    "start_time": "2021-12-12T12:18:46.262Z"
   },
   {
    "duration": 3946,
    "start_time": "2021-12-12T12:18:46.642Z"
   },
   {
    "duration": 136,
    "start_time": "2021-12-12T12:20:54.972Z"
   },
   {
    "duration": 274,
    "start_time": "2021-12-12T12:20:58.962Z"
   },
   {
    "duration": 267,
    "start_time": "2021-12-12T12:21:10.555Z"
   },
   {
    "duration": 141,
    "start_time": "2021-12-12T12:37:29.560Z"
   },
   {
    "duration": 4632,
    "start_time": "2021-12-12T12:38:30.279Z"
   },
   {
    "duration": 411,
    "start_time": "2021-12-12T12:39:25.040Z"
   },
   {
    "duration": 431,
    "start_time": "2021-12-12T12:39:47.847Z"
   },
   {
    "duration": 351,
    "start_time": "2021-12-12T12:41:53.785Z"
   }
  ],
  "kernelspec": {
   "display_name": "Python 3 (ipykernel)",
   "language": "python",
   "name": "python3"
  },
  "language_info": {
   "codemirror_mode": {
    "name": "ipython",
    "version": 3
   },
   "file_extension": ".py",
   "mimetype": "text/x-python",
   "name": "python",
   "nbconvert_exporter": "python",
   "pygments_lexer": "ipython3",
   "version": "3.9.7"
  },
  "toc": {
   "base_numbering": 1,
   "nav_menu": {},
   "number_sections": true,
   "sideBar": true,
   "skip_h1_title": true,
   "title_cell": "Содержание",
   "title_sidebar": "Contents",
   "toc_cell": true,
   "toc_position": {
    "height": "812.727px",
    "left": "49px",
    "top": "110.601px",
    "width": "378.701px"
   },
   "toc_section_display": true,
   "toc_window_display": false
  }
 },
 "nbformat": 4,
 "nbformat_minor": 2
}
