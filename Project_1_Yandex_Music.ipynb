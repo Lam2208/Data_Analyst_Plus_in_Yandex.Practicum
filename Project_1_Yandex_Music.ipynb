{
 "cells": [
  {
   "cell_type": "markdown",
   "metadata": {
    "id": "E0vqbgi9ay0H"
   },
   "source": [
    "# Яндекс.Музыка"
   ]
  },
  {
   "cell_type": "markdown",
   "metadata": {
    "id": "VUC88oWjTJw2"
   },
   "source": [
    "**Цель исследования** — проверить три гипотезы:\n",
    "1. Активность пользователей зависит от дня недели. Причём в Москве и Петербурге это проявляется по-разному.\n",
    "2. В понедельник утром в Москве преобладают одни жанры, а в Петербурге — другие. Так же и вечером пятницы преобладают разные жанры — в зависимости от города. \n",
    "3. Москва и Петербург предпочитают разные жанры музыки. В Москве чаще слушают поп-музыку, в Петербурге — русский рэп.\n",
    "\n",
    "**Ход исследования**\n",
    "\n",
    "Данные о поведении пользователей получили из файла `yandex_music_project.csv`. О качестве данных ничего не известно, так что перед проверкой гипотез понадобится провести обзор данных. \n",
    "\n",
    "Мы проверим данные на ошибки и оценим их влияние на исследование. Затем, на этапе предобработки, поищем возможность исправить самые критичные ошибки в данных.\n",
    " \n",
    "Таким образом, исследование пройдёт в три этапа:\n",
    " 1. Обзор данных.\n",
    " 2. Предобработка данных.\n",
    " 3. Проверка гипотез."
   ]
  },
  {
   "cell_type": "markdown",
   "metadata": {
    "id": "Ml1hmfXC_Zcs"
   },
   "source": [
    "## Обзор данных\n",
    "\n",
    "Составим первое представление о данных Яндекс.Музыки"
   ]
  },
  {
   "cell_type": "code",
   "execution_count": null,
   "metadata": {
    "id": "AXN7PHPN_Zcs"
   },
   "outputs": [],
   "source": [
    "import pandas as pd # импорт библиотеки pandas"
   ]
  },
  {
   "cell_type": "markdown",
   "metadata": {
    "id": "SG23P8tt_Zcs"
   },
   "source": [
    "Прочитайте файл `yandex_music_project.csv` из папки `/datasets` и сохраните его в переменной `df`:"
   ]
  },
  {
   "cell_type": "code",
   "execution_count": null,
   "metadata": {
    "id": "fFVu7vqh_Zct"
   },
   "outputs": [],
   "source": [
    "df = pd.read_csv('/datasets/yandex_music_project.csv') # чтение файла с данными и сохранение в df"
   ]
  },
  {
   "cell_type": "markdown",
   "metadata": {
    "id": "rDoOMd3uTqnZ"
   },
   "source": [
    "Выведите на экран первые десять строк таблицы:"
   ]
  },
  {
   "cell_type": "code",
   "execution_count": null,
   "metadata": {
    "id": "oWTVX3gW_Zct"
   },
   "outputs": [],
   "source": [
    "df.head(10)# получение первых 10 строк таблицы df"
   ]
  },
  {
   "cell_type": "markdown",
   "metadata": {
    "id": "EO73Kwic_Zct"
   },
   "source": [
    "Одной командой получить общую информацию о таблице:"
   ]
  },
  {
   "cell_type": "code",
   "execution_count": null,
   "metadata": {
    "id": "DSf2kIb-_Zct"
   },
   "outputs": [],
   "source": [
    "df.info() # получение общей информации о данных в таблице df"
   ]
  },
  {
   "cell_type": "markdown",
   "metadata": {
    "id": "TaQ2Iwbr_Zct"
   },
   "source": [
    "Итак, в таблице семь столбцов. Тип данных во всех столбцах — `object`.\n",
    "\n",
    "Согласно документации к данным:\n",
    "* `userID` — идентификатор пользователя;\n",
    "* `Track` — название трека;  \n",
    "* `artist` — имя исполнителя;\n",
    "* `genre` — название жанра;\n",
    "* `City` — город пользователя;\n",
    "* `time` — время начала прослушивания;\n",
    "* `Day` — день недели.\n",
    "\n",
    "В названиях колонок видны три нарушения стиля:\n",
    "1. Строчные буквы сочетаются с прописными.\n",
    "2. Встречаются пробелы.\n",
    "3. Найдите ещё одну проблему в названии колонок и опишите её в этом пункте.\n",
    "\n",
    "\n",
    "Количество значений в столбцах различается. Значит, в данных есть пропущенные значения.\n"
   ]
  },
  {
   "cell_type": "markdown",
   "metadata": {
    "id": "MCB6-dXG_Zct"
   },
   "source": [
    "**Выводы**\n",
    "\n",
    "В каждой строке таблицы — данные о прослушанном треке. Часть колонок описывает саму композицию: название, исполнителя и жанр. Остальные данные рассказывают о пользователе: из какого он города, когда он слушал музыку. \n",
    "\n",
    "Предварительно можно утверждать, что, данных достаточно для проверки гипотез. Но встречаются пропуски в данных, а в названиях колонок — расхождения с хорошим стилем.\n",
    "\n",
    "Чтобы двигаться дальше, нужно устранить проблемы в данных."
   ]
  },
  {
   "cell_type": "markdown",
   "metadata": {
    "id": "SjYF6Ub9_Zct"
   },
   "source": [
    "## Предобработка данных\n",
    "Исправим стиль в заголовках столбцов, исключим пропуски. Затем проверим данные на дубликаты."
   ]
  },
  {
   "cell_type": "markdown",
   "metadata": {
    "id": "dIaKXr29_Zct"
   },
   "source": [
    "### Стиль заголовков\n",
    "Выведите на экран названия столбцов:"
   ]
  },
  {
   "cell_type": "code",
   "execution_count": null,
   "metadata": {
    "id": "oKOTdF_Q_Zct"
   },
   "outputs": [],
   "source": [
    "print(df.columns) # перечень названий столбцов таблицы df"
   ]
  },
  {
   "cell_type": "markdown",
   "metadata": {
    "id": "FPZA3ki8xe7T"
   },
   "source": []
  },
  {
   "cell_type": "markdown",
   "metadata": {
    "id": "zj5534cv_Zct"
   },
   "source": [
    "Приведите названия в соответствие с хорошим стилем:\n",
    "* несколько слов в названии запишите в «змеином_регистре»,\n",
    "* все символы сделайте строчными,\n",
    "* устраните пробелы.\n",
    "\n",
    "Для этого переименуйте колонки так:\n",
    "* `'  userID'` → `'user_id'`;\n",
    "* `'Track'` → `'track'`;\n",
    "* `'  City  '` → `'city'`;\n",
    "* `'Day'` → `'day'`."
   ]
  },
  {
   "cell_type": "code",
   "execution_count": null,
   "metadata": {
    "id": "ISlFqs5y_Zct"
   },
   "outputs": [],
   "source": [
    "df = df.rename(columns={'  userID': 'user_id', 'Track': 'track', '  City  ': 'city', 'Day': 'day'}) # переименование столбцов"
   ]
  },
  {
   "cell_type": "markdown",
   "metadata": {
    "id": "1dqbh00J_Zct"
   },
   "source": [
    "Проверьте результат. Для этого ещё раз выведите на экран названия столбцов:"
   ]
  },
  {
   "cell_type": "code",
   "execution_count": null,
   "metadata": {
    "id": "d4NOAmTW_Zct"
   },
   "outputs": [],
   "source": [
    "print(df.columns) # проверка результатов - перечень названий столбцов"
   ]
  },
  {
   "cell_type": "markdown",
   "metadata": {
    "id": "5ISfbcfY_Zct"
   },
   "source": [
    "### Пропуски значений\n",
    "Сначала посчитайте, сколько в таблице пропущенных значений. Для этого достаточно двух методов `pandas`:"
   ]
  },
  {
   "cell_type": "code",
   "execution_count": null,
   "metadata": {
    "id": "RskX29qr_Zct"
   },
   "outputs": [],
   "source": [
    "print(df.isna().sum()) # подсчёт пропусков"
   ]
  },
  {
   "cell_type": "markdown",
   "metadata": {
    "id": "qubhgnlO_Zct"
   },
   "source": [
    "Не все пропущенные значения влияют на исследование. Так в `track` и `artist` пропуски не важны для вашей работы. Достаточно заменить их явными обозначениями.\n",
    "\n",
    "Но пропуски в `genre` могут помешать сравнению музыкальных вкусов в Москве и Санкт-Петербурге. На практике было бы правильно установить причину пропусков и восстановить данные. Такой возможности нет в учебном проекте. Придётся:\n",
    "* заполнить и эти пропуски явными обозначениями,\n",
    "* оценить, насколько они повредят расчётам. "
   ]
  },
  {
   "cell_type": "markdown",
   "metadata": {
    "id": "fSv2laPA_Zct"
   },
   "source": [
    "Замените пропущенные значения в столбцах `track`, `artist` и `genre` на строку `'unknown'`. Для этого создайте список `columns_to_replace`, переберите его элементы циклом `for` и для каждого столбца выполните замену пропущенных значений:"
   ]
  },
  {
   "cell_type": "code",
   "execution_count": null,
   "metadata": {
    "id": "KplB5qWs_Zct"
   },
   "outputs": [],
   "source": [
    "columns_to_replace = ['track', 'artist', 'genre']\n",
    "\n",
    "for index in columns_to_replace:\n",
    "    df.loc[:, index] = df.loc[:, index].fillna('unknown')\n",
    "\n",
    "# перебор названий столбцов в цикле и замена пропущенных значений на 'unknown'"
   ]
  },
  {
   "cell_type": "markdown",
   "metadata": {
    "id": "Ilsm-MZo_Zct"
   },
   "source": [
    "Убедитесь, что в таблице не осталось пропусков. Для этого ещё раз посчитайте пропущенные значения."
   ]
  },
  {
   "cell_type": "code",
   "execution_count": null,
   "metadata": {
    "id": "Tq4nYRX4_Zct"
   },
   "outputs": [],
   "source": [
    "print(df.isna().sum()) # подсчёт пропусков"
   ]
  },
  {
   "cell_type": "markdown",
   "metadata": {
    "id": "BWKRtBJ3_Zct"
   },
   "source": [
    "### Дубликаты\n",
    "Посчитайте явные дубликаты в таблице одной командой:"
   ]
  },
  {
   "cell_type": "code",
   "execution_count": null,
   "metadata": {
    "id": "36eES_S0_Zct"
   },
   "outputs": [],
   "source": [
    "print(df.duplicated().sum()) # подсчёт явных дубликатов"
   ]
  },
  {
   "cell_type": "markdown",
   "metadata": {
    "id": "Ot25h6XR_Zct"
   },
   "source": [
    "Вызовите специальный метод `pandas`, чтобы удалить явные дубликаты:"
   ]
  },
  {
   "cell_type": "code",
   "execution_count": null,
   "metadata": {
    "id": "exFHq6tt_Zct"
   },
   "outputs": [],
   "source": [
    "df = df.drop_duplicates().reset_index(drop=True) # удаление явных дубликатов (с удалением старых индексов и формированием новых)"
   ]
  },
  {
   "cell_type": "markdown",
   "metadata": {
    "id": "Im2YwBEG_Zct"
   },
   "source": [
    "Ещё раз посчитайте явные дубликаты в таблице — убедитесь, что полностью от них избавились:"
   ]
  },
  {
   "cell_type": "code",
   "execution_count": null,
   "metadata": {
    "id": "-8PuNWQ0_Zct"
   },
   "outputs": [],
   "source": [
    "print(df.duplicated().sum()) # проверка на отсутствие дубликатов"
   ]
  },
  {
   "cell_type": "markdown",
   "metadata": {
    "id": "QlFBsxAr_Zct"
   },
   "source": [
    "Теперь избавьтесь от неявных дубликатов в колонке `genre`. Например, название одного и того же жанра может быть записано немного по-разному. Такие ошибки тоже повлияют на результат исследования."
   ]
  },
  {
   "cell_type": "markdown",
   "metadata": {
    "id": "eSjWwsOh_Zct"
   },
   "source": [
    "Выведите на экран список уникальных названий жанров, отсортированный в алфавитном порядке. Для этого:\n",
    "* извлеките нужный столбец датафрейма, \n",
    "* примените к нему метод сортировки,\n",
    "* для отсортированного столбца вызовите метод, который вернёт уникальные значения из столбца."
   ]
  },
  {
   "cell_type": "code",
   "execution_count": null,
   "metadata": {
    "id": "JIUcqzZN_Zct"
   },
   "outputs": [],
   "source": [
    "df['genre'].sort_values().unique() # Просмотр уникальных названий жанров"
   ]
  },
  {
   "cell_type": "markdown",
   "metadata": {
    "id": "qej-Qmuo_Zct"
   },
   "source": [
    "Просмотрите список и найдите неявные дубликаты названия `hiphop`. Это могут быть названия с ошибками или альтернативные названия того же жанра.\n",
    "\n",
    "Вы увидите следующие неявные дубликаты:\n",
    "* *hip*,\n",
    "* *hop*,\n",
    "* *hip-hop*.\n",
    "\n",
    "Чтобы очистить от них таблицу, напишите функцию `replace_wrong_genres()` с двумя параметрами: \n",
    "* `wrong_genres` — список дубликатов,\n",
    "* `correct_genre` — строка с правильным значением.\n",
    "\n",
    "Функция должна исправить колонку `genre` в таблице `df`: заменить каждое значение из списка `wrong_genres` на значение из `correct_genre`."
   ]
  },
  {
   "cell_type": "code",
   "execution_count": null,
   "metadata": {
    "id": "ErNDkmns_Zct"
   },
   "outputs": [],
   "source": [
    "def replace_wrong_genres(wrong_genres, correct_genre): # Функция для замены неявных дубликатов\n",
    "    for wrong_genre in wrong_genres: # перебираем имена из неправильного списка\n",
    "        df['genre'] = df['genre'].replace(wrong_genre, correct_genre) # заменяем неправильные имена на правильные"
   ]
  },
  {
   "cell_type": "markdown",
   "metadata": {
    "id": "aDoBJxbA_Zct"
   },
   "source": [
    "Вызовите `replace_wrong_genres()` и передайте ей такие аргументы, чтобы она устранила неявные дубликаты: вместо `hip`, `hop` и `hip-hop` в таблице должно быть значение `hiphop`:"
   ]
  },
  {
   "cell_type": "code",
   "execution_count": null,
   "metadata": {
    "id": "YN5i2hpmSo09"
   },
   "outputs": [],
   "source": [
    "duplicates = ['hip', 'hop', 'hip-hop'] # список из дубликатов\n",
    "genre = 'hiphop' # правильное имя жанра\n",
    "replace_wrong_genres (duplicates, genre) # функция устраняет неугодные названия жанров(дубликаты)"
   ]
  },
  {
   "cell_type": "markdown",
   "metadata": {
    "id": "zQKF16_RG15m"
   },
   "source": [
    "Проверьте, что заменили неправильные названия:\n",
    "\n",
    "*   hip\n",
    "*   hop\n",
    "*   hip-hop\n",
    "\n",
    "Выведите отсортированный список уникальных значений столбца `genre`:"
   ]
  },
  {
   "cell_type": "code",
   "execution_count": null,
   "metadata": {
    "id": "wvixALnFG15m",
    "scrolled": true
   },
   "outputs": [],
   "source": [
    "sorted(df['genre'].unique()) # Проверка на неявные дубликаты"
   ]
  },
  {
   "cell_type": "markdown",
   "metadata": {
    "id": "jz6a9-7HQUDd"
   },
   "source": [
    "**Выводы**\n",
    "\n",
    "Предобработка обнаружила три проблемы в данных:\n",
    "\n",
    "- нарушения в стиле заголовков,\n",
    "- пропущенные значения,\n",
    "- дубликаты — явные и неявные.\n",
    "\n",
    "Вы исправили заголовки, чтобы упростить работу с таблицей. Без дубликатов исследование станет более точным.\n",
    "\n",
    "Пропущенные значения вы заменили на `'unknown'`. Ещё предстоит увидеть, не повредят ли исследованию пропуски в колонке `genre`.\n",
    "\n",
    "Теперь можно перейти к проверке гипотез. "
   ]
  },
  {
   "cell_type": "markdown",
   "metadata": {
    "id": "WttZHXH0SqKk"
   },
   "source": [
    "## Проверка гипотез"
   ]
  },
  {
   "cell_type": "markdown",
   "metadata": {
    "id": "Im936VVi_Zcu"
   },
   "source": [
    "### Сравнение поведения пользователей двух столиц"
   ]
  },
  {
   "cell_type": "markdown",
   "metadata": {
    "id": "nwt_MuaL_Zcu"
   },
   "source": [
    "Первая гипотеза утверждает, что пользователи по-разному слушают музыку в Москве и Санкт-Петербурге. Проверьте это предположение по данным о трёх днях недели — понедельнике, среде и пятнице. Для этого:\n",
    "\n",
    "* Разделите пользователей Москвы и Санкт-Петербурга\n",
    "* Сравните, сколько треков послушала каждая группа пользователей в понедельник, среду и пятницу.\n"
   ]
  },
  {
   "cell_type": "markdown",
   "metadata": {
    "id": "8Dw_YMmT_Zcu"
   },
   "source": [
    "Для тренировки сначала выполните каждый из расчётов по отдельности. \n",
    "\n",
    "Оцените активность пользователей в каждом городе. Сгруппируйте данные по городу и посчитайте прослушивания в каждой группе.\n",
    "\n"
   ]
  },
  {
   "cell_type": "code",
   "execution_count": null,
   "metadata": {
    "id": "0_Qs96oh_Zcu"
   },
   "outputs": [],
   "source": [
    "df.groupby('city')['genre'].count()\n",
    "# Подсчёт прослушиваний в каждом городе"
   ]
  },
  {
   "cell_type": "markdown",
   "metadata": {
    "id": "dzli3w8o_Zcu"
   },
   "source": [
    "В Москве прослушиваний больше, чем в Петербурге. Из этого не следует, что московские пользователи чаще слушают музыку. Просто самих пользователей в Москве больше.\n",
    "\n",
    "Теперь сгруппируйте данные по дню недели и подсчитайте прослушивания в понедельник, среду и пятницу. Учтите, что в данных есть информация только о прослушиваниях только за эти дни.\n"
   ]
  },
  {
   "cell_type": "code",
   "execution_count": null,
   "metadata": {
    "id": "uZMKjiJz_Zcu"
   },
   "outputs": [],
   "source": [
    "df.groupby('day')['genre'].count() \n",
    "# Подсчёт прослушиваний в каждый из трёх дней"
   ]
  },
  {
   "cell_type": "markdown",
   "metadata": {
    "id": "cC2tNrlL_Zcu"
   },
   "source": [
    "В среднем пользователи из двух городов менее активны по средам. Но картина может измениться, если рассмотреть каждый город в отдельности."
   ]
  },
  {
   "cell_type": "markdown",
   "metadata": {
    "id": "POzs8bGa_Zcu"
   },
   "source": [
    "Вы видели, как работает группировка по городу и по дням недели. Теперь напишите функцию, которая объединит два эти расчёта.\n",
    "\n",
    "Создайте функцию `number_tracks()`, которая посчитает прослушивания для заданного дня и города. Ей понадобятся два параметра:\n",
    "* день недели,\n",
    "* название города.\n",
    "\n",
    "В функции сохраните в переменную строки исходной таблицы, у которых значение:\n",
    "  * в колонке `day` равно параметру `day`,\n",
    "  * в колонке `city` равно параметру `city`.\n",
    "\n",
    "Для этого примените последовательную фильтрацию с логической индексацией.\n",
    "\n",
    "Затем посчитайте значения в столбце `user_id` получившейся таблицы. Результат сохраните в новую переменную. Верните эту переменную из функции."
   ]
  },
  {
   "cell_type": "code",
   "execution_count": null,
   "metadata": {
    "id": "Nz3GdQB1_Zcu"
   },
   "outputs": [],
   "source": [
    "def number_tracks(day, city):\n",
    "    track_list = df.loc[df['day'] == day]\n",
    "    track_list = track_list.loc[track_list['city'] == city]\n",
    "    track_list_count = track_list['user_id'].count()\n",
    "    return track_list_count"
   ]
  },
  {
   "cell_type": "markdown",
   "metadata": {
    "id": "ytf7xFrFJQ2r"
   },
   "source": [
    "Вызовите `number_tracks()` шесть раз, меняя значение параметров — так, чтобы получить данные для каждого города в каждый из трёх дней."
   ]
  },
  {
   "cell_type": "code",
   "execution_count": null,
   "metadata": {
    "id": "rJcRATNQ_Zcu"
   },
   "outputs": [],
   "source": [
    "print(number_tracks('Monday', 'Moscow')) # количество прослушиваний в Москве по понедельникам"
   ]
  },
  {
   "cell_type": "code",
   "execution_count": null,
   "metadata": {
    "id": "hq_ncZ5T_Zcu"
   },
   "outputs": [],
   "source": [
    "print(number_tracks('Monday', 'Saint-Petersburg')) # количество прослушиваний в Санкт-Петербурге по понедельникам"
   ]
  },
  {
   "cell_type": "code",
   "execution_count": null,
   "metadata": {
    "id": "_NTy2VPU_Zcu"
   },
   "outputs": [],
   "source": [
    "print(number_tracks('Wednesday', 'Moscow')) # количество прослушиваний в Москве по средам"
   ]
  },
  {
   "cell_type": "code",
   "execution_count": null,
   "metadata": {
    "id": "j2y3TAwo_Zcu"
   },
   "outputs": [],
   "source": [
    "print(number_tracks('Wednesday', 'Saint-Petersburg')) # количество прослушиваний в Санкт-Петербурге по средам"
   ]
  },
  {
   "cell_type": "code",
   "execution_count": null,
   "metadata": {
    "id": "vYDw5u_K_Zcu"
   },
   "outputs": [],
   "source": [
    "print(number_tracks('Friday', 'Moscow')) # количество прослушиваний в Москве по пятницам"
   ]
  },
  {
   "cell_type": "code",
   "execution_count": null,
   "metadata": {
    "id": "8_yzFtW3_Zcu"
   },
   "outputs": [],
   "source": [
    "print(number_tracks('Friday', 'Saint-Petersburg'))# количество прослушиваний в Санкт-Петербурге по пятницам"
   ]
  },
  {
   "cell_type": "markdown",
   "metadata": {
    "id": "7QXffbO-_Zcu"
   },
   "source": [
    "Создайте c помощью конструктора `pd.DataFrame` таблицу, где\n",
    "* названия колонок — `['city', 'monday', 'wednesday', 'friday']`;\n",
    "* данные — результаты, которые вы получили с помощью `number_tracks`."
   ]
  },
  {
   "cell_type": "code",
   "execution_count": null,
   "metadata": {
    "id": "APAcLpOr_Zcu"
   },
   "outputs": [],
   "source": [
    "data = [['Moscow', 15347, 10865, 15680],\n",
    "       ['Saint-Petersburg', 5519, 6913, 5802]]\n",
    "columns = ['city','monday','wednesday','friday']\n",
    "table = pd.DataFrame(data = data, columns = columns)\n",
    "# Таблица с результатами"
   ]
  },
  {
   "cell_type": "markdown",
   "metadata": {
    "id": "-EgPIHYu_Zcu"
   },
   "source": [
    "**Выводы**\n",
    "\n",
    "Данные показывают разницу поведения пользователей:\n",
    "\n",
    "- В Москве пик прослушиваний приходится на понедельник и пятницу, а в среду заметен спад.\n",
    "- В Петербурге, наоборот, больше слушают музыку по средам. Активность в понедельник и пятницу здесь почти в равной мере уступает среде.\n",
    "\n",
    "Значит, данные говорят в пользу первой гипотезы."
   ]
  },
  {
   "cell_type": "markdown",
   "metadata": {
    "id": "atZAxtq4_Zcu"
   },
   "source": [
    "### Музыка в начале и в конце недели"
   ]
  },
  {
   "cell_type": "markdown",
   "metadata": {
    "id": "eXrQqXFH_Zcu"
   },
   "source": [
    "Согласно второй гипотезе, утром в понедельник в Москве преобладают одни жанры, а в Петербурге — другие. Так же и вечером пятницы преобладают разные жанры — в зависимости от города."
   ]
  },
  {
   "cell_type": "markdown",
   "metadata": {
    "id": "S8UcW6Hw_Zcu"
   },
   "source": [
    "Сохраните таблицы с данными в две переменные:\n",
    "* по Москве — в `moscow_general`;\n",
    "* по Санкт-Петербургу — в `spb_general`."
   ]
  },
  {
   "cell_type": "code",
   "execution_count": null,
   "metadata": {
    "id": "qeaFfM_P_Zcu"
   },
   "outputs": [],
   "source": [
    "moscow_general = df[df['city'] == 'Moscow'] "
   ]
  },
  {
   "cell_type": "code",
   "execution_count": null,
   "metadata": {
    "id": "ORaVRKto_Zcu"
   },
   "outputs": [],
   "source": [
    "spb_general = df[df['city'] == 'Saint-Petersburg']"
   ]
  },
  {
   "cell_type": "markdown",
   "metadata": {
    "id": "MEJV-CX2_Zcu"
   },
   "source": [
    "Создайте функцию `genre_weekday()` с четырьмя параметрами:\n",
    "* таблица (датафрейм) с данными,\n",
    "* день недели,\n",
    "* начальная временная метка в формате 'hh:mm', \n",
    "* последняя временная метка в формате 'hh:mm'.\n",
    "\n",
    "Функция должна вернуть информацию о топ-10 жанров тех треков, которые прослушивали в указанный день, в промежутке между двумя отметками времени."
   ]
  },
  {
   "cell_type": "code",
   "execution_count": null,
   "metadata": {
    "id": "laJT9BYl_Zcu"
   },
   "outputs": [],
   "source": [
    "def genre_weekday(table, day, time1, time2):\n",
    "    genre_df =  table.loc[table['day'] == day]\n",
    "    genre_df = genre_df.loc[genre_df['time'] > time1]\n",
    "    genre_df = genre_df.loc[genre_df['time'] < time2]\n",
    "    genre_df_count = genre_df.groupby('genre')['genre'].count()\n",
    "    genre_df_sorted = sorted(genre_df_count, reverse = True)\n",
    "    return genre_df_sorted[:10]"
   ]
  },
  {
   "cell_type": "markdown",
   "metadata": {
    "id": "la2s2_PF_Zcu"
   },
   "source": [
    "Cравните результаты функции `genre_weekday()` для Москвы и Санкт-Петербурга в понедельник утром (с 7:00 до 11:00) и в пятницу вечером (с 17:00 до 23:00):"
   ]
  },
  {
   "cell_type": "code",
   "execution_count": null,
   "metadata": {
    "id": "yz7itPUQ_Zcu"
   },
   "outputs": [],
   "source": [
    "genre_weekday(moscow_general, 'Monday', '07:00', '11:00')\n",
    "# вызов функции для утра понедельника в Москве (вместо df — таблица moscow_general)\n",
    "# объекты, хранящие время, являются строками и сравниваются как строки\n",
    "# пример вызова: genre_weekday(moscow_general, 'Monday', '07:00', '11:00')"
   ]
  },
  {
   "cell_type": "code",
   "execution_count": null,
   "metadata": {
    "id": "kwUcHPdy_Zcu"
   },
   "outputs": [],
   "source": [
    "genre_weekday(spb_general, 'Monday', '07:00', '11:00')\n",
    "# вызов функции для утра понедельника в Петербурге (вместо df — таблица spb_general)"
   ]
  },
  {
   "cell_type": "code",
   "execution_count": null,
   "metadata": {
    "id": "EzXVRE1o_Zcu"
   },
   "outputs": [],
   "source": [
    "genre_weekday(moscow_general, 'Monday', '17:00', '23:00')\n",
    "# вызов функции для вечера пятницы в Москве"
   ]
  },
  {
   "cell_type": "code",
   "execution_count": null,
   "metadata": {
    "id": "JZaEKu5v_Zcu"
   },
   "outputs": [],
   "source": [
    "genre_weekday(spb_general, 'Monday', '17:00', '23:00')\n",
    "# вызов функции для вечера пятницы в Петербурге"
   ]
  },
  {
   "cell_type": "markdown",
   "metadata": {
    "id": "wrCe4MNX_Zcu"
   },
   "source": [
    "**Выводы**\n",
    "\n",
    "Если сравнить топ-10 жанров в понедельник утром, можно сделать такие выводы:\n",
    "\n",
    "1. В Москве и Петербурге слушают похожую музыку. Единственное отличие — в московский рейтинг вошёл жанр “world”, а в петербургский — джаз и классика.\n",
    "\n",
    "2. В Москве пропущенных значений оказалось так много, что значение `'unknown'` заняло десятое место среди самых популярных жанров. Значит, пропущенные значения занимают существенную долю в данных и угрожают достоверности исследования.\n",
    "\n",
    "Вечер пятницы не меняет эту картину. Некоторые жанры поднимаются немного выше, другие спускаются, но в целом топ-10 остаётся тем же самым.\n",
    "\n",
    "Таким образом, вторая гипотеза подтвердилась лишь частично:\n",
    "* Пользователи слушают похожую музыку в начале недели и в конце.\n",
    "* Разница между Москвой и Петербургом не слишком выражена. В Москве чаще слушают русскую популярную музыку, в Петербурге — джаз.\n",
    "\n",
    "Однако пропуски в данных ставят под сомнение этот результат. В Москве их так много, что рейтинг топ-10 мог бы выглядеть иначе, если бы не утерянные  данные о жанрах."
   ]
  },
  {
   "cell_type": "markdown",
   "metadata": {
    "id": "JolODAqr_Zcu"
   },
   "source": [
    "### Жанровые предпочтения в Москве и Петербурге\n",
    "\n",
    "Гипотеза: Петербург — столица рэпа, музыку этого жанра там слушают чаще, чем в Москве.  А Москва — город контрастов, в котором, тем не менее, преобладает поп-музыка."
   ]
  },
  {
   "cell_type": "markdown",
   "metadata": {
    "id": "DlegSvaT_Zcu"
   },
   "source": [
    "Сгруппируйте таблицу `moscow_general` по жанру и посчитайте прослушивания треков каждого жанра методом `count()`. Затем отсортируйте результат в порядке убывания и сохраните его в таблице `moscow_genres`."
   ]
  },
  {
   "cell_type": "code",
   "execution_count": null,
   "metadata": {
    "id": "r19lIPke_Zcu"
   },
   "outputs": [],
   "source": [
    "moscow_genres = moscow_general.groupby('genre')['genre'].count().sort_values(ascending = False)"
   ]
  },
  {
   "cell_type": "markdown",
   "metadata": {
    "id": "6kMuomxTiIr8"
   },
   "source": [
    "Выведите на экран первые десять строк `moscow_genres`:"
   ]
  },
  {
   "cell_type": "code",
   "execution_count": null,
   "metadata": {
    "id": "WhCSooF8_Zcv"
   },
   "outputs": [],
   "source": [
    "moscow_genres.head(10)"
   ]
  },
  {
   "cell_type": "markdown",
   "metadata": {
    "id": "cnPG2vnN_Zcv"
   },
   "source": [
    "Теперь повторите то же и для Петербурга.\n",
    "\n",
    "Сгруппируйте таблицу `spb_general` по жанру. Посчитайте прослушивания треков каждого жанра. Результат отсортируйте в порядке убывания и сохраните в таблице `spb_genres`:\n"
   ]
  },
  {
   "cell_type": "code",
   "execution_count": null,
   "metadata": {
    "id": "gluLIpE7_Zcv"
   },
   "outputs": [],
   "source": [
    "spb_genres = spb_general.groupby('genre')['genre'].count().sort_values(ascending=False)"
   ]
  },
  {
   "cell_type": "markdown",
   "metadata": {
    "id": "5Doha_ODgyQ8"
   },
   "source": [
    "Выведите на экран первые десять строк `spb_genres`:"
   ]
  },
  {
   "cell_type": "code",
   "execution_count": null,
   "metadata": {
    "id": "uaGJHjVU_Zcv"
   },
   "outputs": [],
   "source": [
    "spb_genres.head(10)"
   ]
  },
  {
   "cell_type": "markdown",
   "metadata": {
    "id": "RY51YJYu_Zcv"
   },
   "source": [
    "**Выводы**"
   ]
  },
  {
   "cell_type": "markdown",
   "metadata": {
    "id": "nVhnJEm__Zcv"
   },
   "source": [
    "Гипотеза частично подтвердилась:\n",
    "* Поп-музыка — самый популярный жанр в Москве, как и предполагала гипотеза. Более того, в топ-10 жанров встречается близкий жанр — русская популярная музыка.\n",
    "* Вопреки ожиданиям, рэп одинаково популярен в Москве и Петербурге. \n"
   ]
  },
  {
   "cell_type": "markdown",
   "metadata": {
    "id": "ykKQ0N65_Zcv"
   },
   "source": [
    "## Итоги исследования"
   ]
  },
  {
   "cell_type": "markdown",
   "metadata": {
    "id": "tjUwbHb3_Zcv"
   },
   "source": [
    "Вы проверили три гипотезы и установили:\n",
    "\n",
    "1. День недели по-разному влияет на активность пользователей в Москве и Петербурге. \n",
    "\n",
    "Первая гипотеза полностью подтвердилась.\n",
    "\n",
    "2. Музыкальные предпочтения не сильно меняются в течение недели — будь то Москва или Петербург. Небольшие различия заметны в начале недели, по понедельникам:\n",
    "* в Москве слушают музыку жанра “world”,\n",
    "* в Петербурге — джаз и классику.\n",
    "\n",
    "Таким образом, вторая гипотеза подтвердилась лишь отчасти. Этот результат мог оказаться иным, если бы не пропуски в данных.\n",
    "\n",
    "3. Во вкусах пользователей Москвы и Петербурга больше общего чем различий. Вопреки ожиданиям, предпочтения жанров в Петербурге напоминают московские.\n",
    "\n",
    "Третья гипотеза не подтвердилась. Если различия в предпочтениях и существуют, на основной массе пользователей они незаметны.\n",
    "\n",
    "**На практике исследования содержат проверки статистических гипотез.**\n",
    "Из данных одного сервиса не всегда можно сделать вывод о всех жителях города.\n",
    "Проверки статистических гипотез покажут, насколько они достоверны, исходя из имеющихся данных. \n",
    "С методами проверок гипотез вы ещё познакомитесь в следующих темах."
   ]
  }
 ],
 "metadata": {
  "ExecuteTimeLog": [
   {
    "duration": 714,
    "start_time": "2021-10-23T09:07:11.320Z"
   },
   {
    "duration": 2282,
    "start_time": "2021-10-23T09:07:13.734Z"
   },
   {
    "duration": 173,
    "start_time": "2021-10-23T09:07:56.436Z"
   },
   {
    "duration": 189,
    "start_time": "2021-10-23T09:08:06.670Z"
   },
   {
    "duration": 26,
    "start_time": "2021-10-23T09:09:00.686Z"
   },
   {
    "duration": 33,
    "start_time": "2021-10-23T09:10:20.015Z"
   },
   {
    "duration": 6,
    "start_time": "2021-10-23T09:15:54.521Z"
   },
   {
    "duration": 26,
    "start_time": "2021-10-23T09:19:54.867Z"
   },
   {
    "duration": 5,
    "start_time": "2021-10-23T09:20:05.403Z"
   },
   {
    "duration": 23,
    "start_time": "2021-10-23T09:20:40.577Z"
   },
   {
    "duration": 5,
    "start_time": "2021-10-23T09:20:43.139Z"
   },
   {
    "duration": 17,
    "start_time": "2021-10-23T09:21:17.355Z"
   },
   {
    "duration": 6,
    "start_time": "2021-10-23T09:21:19.555Z"
   },
   {
    "duration": 29,
    "start_time": "2021-10-23T09:22:30.163Z"
   },
   {
    "duration": 20,
    "start_time": "2021-10-23T09:31:53.455Z"
   },
   {
    "duration": 29,
    "start_time": "2021-10-23T09:32:42.462Z"
   },
   {
    "duration": 23,
    "start_time": "2021-10-23T09:32:55.156Z"
   },
   {
    "duration": 34,
    "start_time": "2021-10-23T09:32:57.038Z"
   },
   {
    "duration": 5757,
    "start_time": "2021-10-23T09:34:02.232Z"
   },
   {
    "duration": -33,
    "start_time": "2021-10-23T09:34:08.024Z"
   },
   {
    "duration": 22,
    "start_time": "2021-10-23T09:34:16.193Z"
   },
   {
    "duration": 29,
    "start_time": "2021-10-23T09:34:18.135Z"
   },
   {
    "duration": 2037,
    "start_time": "2021-10-23T09:34:36.055Z"
   },
   {
    "duration": -30,
    "start_time": "2021-10-23T09:34:38.124Z"
   },
   {
    "duration": 25,
    "start_time": "2021-10-23T09:34:53.055Z"
   },
   {
    "duration": 29,
    "start_time": "2021-10-23T09:34:54.575Z"
   },
   {
    "duration": 22,
    "start_time": "2021-10-23T09:44:21.891Z"
   },
   {
    "duration": 28,
    "start_time": "2021-10-23T09:44:23.234Z"
   },
   {
    "duration": 80,
    "start_time": "2021-10-23T09:45:06.954Z"
   },
   {
    "duration": 105,
    "start_time": "2021-10-23T09:46:26.194Z"
   },
   {
    "duration": 76,
    "start_time": "2021-10-23T09:46:37.001Z"
   },
   {
    "duration": 22,
    "start_time": "2021-10-23T09:48:46.116Z"
   },
   {
    "duration": 4,
    "start_time": "2021-10-23T09:57:52.317Z"
   },
   {
    "duration": 313,
    "start_time": "2021-10-23T10:08:14.913Z"
   },
   {
    "duration": 599,
    "start_time": "2021-10-23T10:09:12.994Z"
   },
   {
    "duration": 564,
    "start_time": "2021-10-23T10:09:28.843Z"
   },
   {
    "duration": 15,
    "start_time": "2021-10-23T10:11:15.115Z"
   },
   {
    "duration": 4,
    "start_time": "2021-10-23T10:11:36.628Z"
   },
   {
    "duration": 622,
    "start_time": "2021-10-23T10:11:38.458Z"
   },
   {
    "duration": 2220,
    "start_time": "2021-10-23T10:11:58.996Z"
   },
   {
    "duration": 4,
    "start_time": "2021-10-23T10:13:56.188Z"
   },
   {
    "duration": 613,
    "start_time": "2021-10-23T10:14:03.028Z"
   },
   {
    "duration": 4,
    "start_time": "2021-10-23T10:14:44.748Z"
   },
   {
    "duration": 611,
    "start_time": "2021-10-23T10:14:46.556Z"
   },
   {
    "duration": 22,
    "start_time": "2021-10-23T10:16:39.083Z"
   },
   {
    "duration": 28,
    "start_time": "2021-10-23T10:16:41.763Z"
   },
   {
    "duration": 77,
    "start_time": "2021-10-23T10:16:43.876Z"
   },
   {
    "duration": 101,
    "start_time": "2021-10-23T10:16:45.732Z"
   },
   {
    "duration": 102,
    "start_time": "2021-10-23T10:16:47.196Z"
   },
   {
    "duration": 19,
    "start_time": "2021-10-23T10:16:49.381Z"
   },
   {
    "duration": 5,
    "start_time": "2021-10-23T10:16:53.749Z"
   },
   {
    "duration": 717,
    "start_time": "2021-10-23T10:16:54.868Z"
   },
   {
    "duration": 1790,
    "start_time": "2021-10-23T10:17:58.712Z"
   },
   {
    "duration": 823,
    "start_time": "2021-10-23T10:18:00.505Z"
   },
   {
    "duration": 24,
    "start_time": "2021-10-23T10:18:01.332Z"
   },
   {
    "duration": 49,
    "start_time": "2021-10-23T10:18:01.360Z"
   },
   {
    "duration": 5,
    "start_time": "2021-10-23T10:18:01.411Z"
   },
   {
    "duration": 40,
    "start_time": "2021-10-23T10:18:01.418Z"
   },
   {
    "duration": 23,
    "start_time": "2021-10-23T10:18:01.460Z"
   },
   {
    "duration": 34,
    "start_time": "2021-10-23T10:18:01.487Z"
   },
   {
    "duration": 24,
    "start_time": "2021-10-23T10:18:01.524Z"
   },
   {
    "duration": 30,
    "start_time": "2021-10-23T10:18:01.583Z"
   },
   {
    "duration": 111,
    "start_time": "2021-10-23T10:18:01.615Z"
   },
   {
    "duration": 135,
    "start_time": "2021-10-23T10:18:01.728Z"
   },
   {
    "duration": 102,
    "start_time": "2021-10-23T10:18:01.866Z"
   },
   {
    "duration": 14,
    "start_time": "2021-10-23T10:18:01.982Z"
   },
   {
    "duration": 8,
    "start_time": "2021-10-23T10:18:01.998Z"
   },
   {
    "duration": 753,
    "start_time": "2021-10-23T10:18:02.009Z"
   },
   {
    "duration": -9,
    "start_time": "2021-10-23T10:18:02.774Z"
   },
   {
    "duration": -14,
    "start_time": "2021-10-23T10:18:02.781Z"
   },
   {
    "duration": -14,
    "start_time": "2021-10-23T10:18:02.783Z"
   },
   {
    "duration": -14,
    "start_time": "2021-10-23T10:18:02.784Z"
   },
   {
    "duration": -14,
    "start_time": "2021-10-23T10:18:02.786Z"
   },
   {
    "duration": -16,
    "start_time": "2021-10-23T10:18:02.789Z"
   },
   {
    "duration": -23,
    "start_time": "2021-10-23T10:18:02.797Z"
   },
   {
    "duration": -22,
    "start_time": "2021-10-23T10:18:02.799Z"
   },
   {
    "duration": -25,
    "start_time": "2021-10-23T10:18:02.803Z"
   },
   {
    "duration": -25,
    "start_time": "2021-10-23T10:18:02.805Z"
   },
   {
    "duration": -27,
    "start_time": "2021-10-23T10:18:02.808Z"
   },
   {
    "duration": -32,
    "start_time": "2021-10-23T10:18:02.815Z"
   },
   {
    "duration": -32,
    "start_time": "2021-10-23T10:18:02.816Z"
   },
   {
    "duration": -32,
    "start_time": "2021-10-23T10:18:02.818Z"
   },
   {
    "duration": -32,
    "start_time": "2021-10-23T10:18:02.819Z"
   },
   {
    "duration": -32,
    "start_time": "2021-10-23T10:18:02.820Z"
   },
   {
    "duration": -32,
    "start_time": "2021-10-23T10:18:02.822Z"
   },
   {
    "duration": -32,
    "start_time": "2021-10-23T10:18:02.823Z"
   },
   {
    "duration": -38,
    "start_time": "2021-10-23T10:18:02.830Z"
   },
   {
    "duration": -37,
    "start_time": "2021-10-23T10:18:02.831Z"
   },
   {
    "duration": -38,
    "start_time": "2021-10-23T10:18:02.833Z"
   },
   {
    "duration": -37,
    "start_time": "2021-10-23T10:18:02.834Z"
   },
   {
    "duration": 4,
    "start_time": "2021-10-23T10:21:01.325Z"
   },
   {
    "duration": 589,
    "start_time": "2021-10-23T10:21:37.078Z"
   },
   {
    "duration": 760,
    "start_time": "2021-10-23T10:24:24.146Z"
   },
   {
    "duration": 191,
    "start_time": "2021-10-23T10:24:24.909Z"
   },
   {
    "duration": 25,
    "start_time": "2021-10-23T10:24:25.103Z"
   },
   {
    "duration": 53,
    "start_time": "2021-10-23T10:24:25.130Z"
   },
   {
    "duration": 4,
    "start_time": "2021-10-23T10:24:25.186Z"
   },
   {
    "duration": 27,
    "start_time": "2021-10-23T10:24:25.193Z"
   },
   {
    "duration": 4,
    "start_time": "2021-10-23T10:24:25.223Z"
   },
   {
    "duration": 56,
    "start_time": "2021-10-23T10:24:25.231Z"
   },
   {
    "duration": 23,
    "start_time": "2021-10-23T10:24:25.290Z"
   },
   {
    "duration": 28,
    "start_time": "2021-10-23T10:24:25.315Z"
   },
   {
    "duration": 114,
    "start_time": "2021-10-23T10:24:25.346Z"
   },
   {
    "duration": 106,
    "start_time": "2021-10-23T10:24:25.462Z"
   },
   {
    "duration": 81,
    "start_time": "2021-10-23T10:24:25.571Z"
   },
   {
    "duration": 34,
    "start_time": "2021-10-23T10:24:25.655Z"
   },
   {
    "duration": 5,
    "start_time": "2021-10-23T10:24:25.692Z"
   },
   {
    "duration": 571,
    "start_time": "2021-10-23T10:24:25.700Z"
   },
   {
    "duration": -8,
    "start_time": "2021-10-23T10:24:26.282Z"
   },
   {
    "duration": -9,
    "start_time": "2021-10-23T10:24:26.285Z"
   },
   {
    "duration": -12,
    "start_time": "2021-10-23T10:24:26.290Z"
   },
   {
    "duration": -13,
    "start_time": "2021-10-23T10:24:26.292Z"
   },
   {
    "duration": -13,
    "start_time": "2021-10-23T10:24:26.294Z"
   },
   {
    "duration": -14,
    "start_time": "2021-10-23T10:24:26.296Z"
   },
   {
    "duration": -14,
    "start_time": "2021-10-23T10:24:26.298Z"
   },
   {
    "duration": -14,
    "start_time": "2021-10-23T10:24:26.299Z"
   },
   {
    "duration": -20,
    "start_time": "2021-10-23T10:24:26.307Z"
   },
   {
    "duration": -21,
    "start_time": "2021-10-23T10:24:26.309Z"
   },
   {
    "duration": -21,
    "start_time": "2021-10-23T10:24:26.311Z"
   },
   {
    "duration": -21,
    "start_time": "2021-10-23T10:24:26.312Z"
   },
   {
    "duration": -21,
    "start_time": "2021-10-23T10:24:26.314Z"
   },
   {
    "duration": -21,
    "start_time": "2021-10-23T10:24:26.315Z"
   },
   {
    "duration": -21,
    "start_time": "2021-10-23T10:24:26.317Z"
   },
   {
    "duration": -27,
    "start_time": "2021-10-23T10:24:26.324Z"
   },
   {
    "duration": -29,
    "start_time": "2021-10-23T10:24:26.327Z"
   },
   {
    "duration": -28,
    "start_time": "2021-10-23T10:24:26.328Z"
   },
   {
    "duration": -29,
    "start_time": "2021-10-23T10:24:26.330Z"
   },
   {
    "duration": -28,
    "start_time": "2021-10-23T10:24:26.331Z"
   },
   {
    "duration": -28,
    "start_time": "2021-10-23T10:24:26.332Z"
   },
   {
    "duration": -28,
    "start_time": "2021-10-23T10:24:26.334Z"
   },
   {
    "duration": 878,
    "start_time": "2021-10-23T10:25:09.834Z"
   },
   {
    "duration": 5,
    "start_time": "2021-10-23T10:27:49.030Z"
   },
   {
    "duration": 736,
    "start_time": "2021-10-23T10:27:51.388Z"
   },
   {
    "duration": 4,
    "start_time": "2021-10-23T10:28:13.008Z"
   },
   {
    "duration": 588,
    "start_time": "2021-10-23T10:28:16.772Z"
   },
   {
    "duration": 39,
    "start_time": "2021-10-23T10:32:53.582Z"
   },
   {
    "duration": 4,
    "start_time": "2021-10-23T11:13:33.530Z"
   },
   {
    "duration": 577,
    "start_time": "2021-10-23T11:13:35.644Z"
   },
   {
    "duration": 4,
    "start_time": "2021-10-23T11:16:59.027Z"
   },
   {
    "duration": 4,
    "start_time": "2021-10-23T11:17:06.429Z"
   },
   {
    "duration": 966,
    "start_time": "2021-10-23T11:17:08.189Z"
   },
   {
    "duration": 5,
    "start_time": "2021-10-23T11:17:15.484Z"
   },
   {
    "duration": 562,
    "start_time": "2021-10-23T11:17:17.373Z"
   },
   {
    "duration": 720,
    "start_time": "2021-10-23T11:17:24.911Z"
   },
   {
    "duration": 184,
    "start_time": "2021-10-23T11:17:25.634Z"
   },
   {
    "duration": 25,
    "start_time": "2021-10-23T11:17:25.821Z"
   },
   {
    "duration": 44,
    "start_time": "2021-10-23T11:17:25.849Z"
   },
   {
    "duration": 5,
    "start_time": "2021-10-23T11:17:25.896Z"
   },
   {
    "duration": 24,
    "start_time": "2021-10-23T11:17:25.903Z"
   },
   {
    "duration": 6,
    "start_time": "2021-10-23T11:17:25.930Z"
   },
   {
    "duration": 69,
    "start_time": "2021-10-23T11:17:25.939Z"
   },
   {
    "duration": 25,
    "start_time": "2021-10-23T11:17:26.011Z"
   },
   {
    "duration": 45,
    "start_time": "2021-10-23T11:17:26.038Z"
   },
   {
    "duration": 97,
    "start_time": "2021-10-23T11:17:26.085Z"
   },
   {
    "duration": 109,
    "start_time": "2021-10-23T11:17:26.184Z"
   },
   {
    "duration": 73,
    "start_time": "2021-10-23T11:17:26.295Z"
   },
   {
    "duration": 15,
    "start_time": "2021-10-23T11:17:26.382Z"
   },
   {
    "duration": 4,
    "start_time": "2021-10-23T11:17:26.399Z"
   },
   {
    "duration": 632,
    "start_time": "2021-10-23T11:17:26.405Z"
   },
   {
    "duration": 22,
    "start_time": "2021-10-23T11:17:27.019Z"
   },
   {
    "duration": 22,
    "start_time": "2021-10-23T11:17:27.020Z"
   },
   {
    "duration": 19,
    "start_time": "2021-10-23T11:17:27.025Z"
   },
   {
    "duration": 19,
    "start_time": "2021-10-23T11:17:27.027Z"
   },
   {
    "duration": 20,
    "start_time": "2021-10-23T11:17:27.028Z"
   },
   {
    "duration": 20,
    "start_time": "2021-10-23T11:17:27.029Z"
   },
   {
    "duration": 20,
    "start_time": "2021-10-23T11:17:27.031Z"
   },
   {
    "duration": 21,
    "start_time": "2021-10-23T11:17:27.032Z"
   },
   {
    "duration": 20,
    "start_time": "2021-10-23T11:17:27.034Z"
   },
   {
    "duration": 22,
    "start_time": "2021-10-23T11:17:27.035Z"
   },
   {
    "duration": 22,
    "start_time": "2021-10-23T11:17:27.036Z"
   },
   {
    "duration": 22,
    "start_time": "2021-10-23T11:17:27.038Z"
   },
   {
    "duration": 16,
    "start_time": "2021-10-23T11:17:27.045Z"
   },
   {
    "duration": 15,
    "start_time": "2021-10-23T11:17:27.047Z"
   },
   {
    "duration": 15,
    "start_time": "2021-10-23T11:17:27.049Z"
   },
   {
    "duration": 15,
    "start_time": "2021-10-23T11:17:27.050Z"
   },
   {
    "duration": 15,
    "start_time": "2021-10-23T11:17:27.052Z"
   },
   {
    "duration": 14,
    "start_time": "2021-10-23T11:17:27.054Z"
   },
   {
    "duration": 8,
    "start_time": "2021-10-23T11:17:27.061Z"
   },
   {
    "duration": 8,
    "start_time": "2021-10-23T11:17:27.063Z"
   },
   {
    "duration": 8,
    "start_time": "2021-10-23T11:17:27.064Z"
   },
   {
    "duration": 8,
    "start_time": "2021-10-23T11:17:27.066Z"
   },
   {
    "duration": 352,
    "start_time": "2021-10-23T12:21:30.889Z"
   },
   {
    "duration": 87,
    "start_time": "2021-10-23T12:25:09.739Z"
   },
   {
    "duration": 600,
    "start_time": "2021-10-23T12:25:26.116Z"
   },
   {
    "duration": 14,
    "start_time": "2021-10-23T12:26:03.540Z"
   },
   {
    "duration": 314,
    "start_time": "2021-10-23T12:28:24.723Z"
   },
   {
    "duration": 127,
    "start_time": "2021-10-23T12:28:45.901Z"
   },
   {
    "duration": 14,
    "start_time": "2021-10-23T12:28:49.044Z"
   },
   {
    "duration": 4,
    "start_time": "2021-10-23T12:29:45.181Z"
   },
   {
    "duration": 14,
    "start_time": "2021-10-23T12:29:46.661Z"
   },
   {
    "duration": 15,
    "start_time": "2021-10-23T12:29:47.837Z"
   },
   {
    "duration": 4,
    "start_time": "2021-10-23T12:32:53.758Z"
   },
   {
    "duration": 14,
    "start_time": "2021-10-23T12:32:55.222Z"
   },
   {
    "duration": 15,
    "start_time": "2021-10-23T12:32:57.126Z"
   },
   {
    "duration": 4,
    "start_time": "2021-10-23T12:34:43.215Z"
   },
   {
    "duration": 14,
    "start_time": "2021-10-23T12:34:48.134Z"
   },
   {
    "duration": 22,
    "start_time": "2021-10-23T12:34:54.375Z"
   },
   {
    "duration": 13,
    "start_time": "2021-10-23T12:35:15.959Z"
   },
   {
    "duration": 15,
    "start_time": "2021-10-23T12:35:18.047Z"
   },
   {
    "duration": 4,
    "start_time": "2021-10-23T12:39:15.423Z"
   },
   {
    "duration": 134,
    "start_time": "2021-10-23T12:39:17.064Z"
   },
   {
    "duration": 14,
    "start_time": "2021-10-23T12:39:18.160Z"
   },
   {
    "duration": 854,
    "start_time": "2021-10-23T12:39:33.525Z"
   },
   {
    "duration": 197,
    "start_time": "2021-10-23T12:39:34.382Z"
   },
   {
    "duration": 28,
    "start_time": "2021-10-23T12:39:34.583Z"
   },
   {
    "duration": 37,
    "start_time": "2021-10-23T12:39:34.614Z"
   },
   {
    "duration": 29,
    "start_time": "2021-10-23T12:39:34.653Z"
   },
   {
    "duration": 25,
    "start_time": "2021-10-23T12:39:34.685Z"
   },
   {
    "duration": 7,
    "start_time": "2021-10-23T12:39:34.712Z"
   },
   {
    "duration": 60,
    "start_time": "2021-10-23T12:39:34.722Z"
   },
   {
    "duration": 22,
    "start_time": "2021-10-23T12:39:34.786Z"
   },
   {
    "duration": 28,
    "start_time": "2021-10-23T12:39:34.811Z"
   },
   {
    "duration": 105,
    "start_time": "2021-10-23T12:39:34.842Z"
   },
   {
    "duration": 113,
    "start_time": "2021-10-23T12:39:34.950Z"
   },
   {
    "duration": 80,
    "start_time": "2021-10-23T12:39:35.066Z"
   },
   {
    "duration": 13,
    "start_time": "2021-10-23T12:39:35.149Z"
   },
   {
    "duration": 21,
    "start_time": "2021-10-23T12:39:35.164Z"
   },
   {
    "duration": 151,
    "start_time": "2021-10-23T12:39:35.187Z"
   },
   {
    "duration": 14,
    "start_time": "2021-10-23T12:39:35.341Z"
   },
   {
    "duration": 3,
    "start_time": "2021-10-23T12:39:35.357Z"
   },
   {
    "duration": 6,
    "start_time": "2021-10-23T12:39:35.362Z"
   },
   {
    "duration": 13,
    "start_time": "2021-10-23T12:39:35.383Z"
   },
   {
    "duration": 8,
    "start_time": "2021-10-23T12:39:35.399Z"
   },
   {
    "duration": 11,
    "start_time": "2021-10-23T12:39:35.409Z"
   },
   {
    "duration": 5,
    "start_time": "2021-10-23T12:39:35.422Z"
   },
   {
    "duration": 7,
    "start_time": "2021-10-23T12:39:35.429Z"
   },
   {
    "duration": 7,
    "start_time": "2021-10-23T12:39:35.439Z"
   },
   {
    "duration": 9,
    "start_time": "2021-10-23T12:39:35.448Z"
   },
   {
    "duration": 23,
    "start_time": "2021-10-23T12:39:35.462Z"
   },
   {
    "duration": 6,
    "start_time": "2021-10-23T12:39:35.488Z"
   },
   {
    "duration": 6,
    "start_time": "2021-10-23T12:39:35.496Z"
   },
   {
    "duration": 6,
    "start_time": "2021-10-23T12:39:35.504Z"
   },
   {
    "duration": 9,
    "start_time": "2021-10-23T12:39:35.513Z"
   },
   {
    "duration": 7,
    "start_time": "2021-10-23T12:39:35.524Z"
   },
   {
    "duration": 15,
    "start_time": "2021-10-23T12:39:35.533Z"
   },
   {
    "duration": 7,
    "start_time": "2021-10-23T12:39:35.551Z"
   },
   {
    "duration": 24,
    "start_time": "2021-10-23T12:39:35.560Z"
   },
   {
    "duration": 8,
    "start_time": "2021-10-23T12:39:35.586Z"
   },
   {
    "duration": 9,
    "start_time": "2021-10-23T12:39:35.596Z"
   },
   {
    "duration": 10,
    "start_time": "2021-10-23T12:39:35.607Z"
   },
   {
    "duration": 41,
    "start_time": "2021-10-23T12:46:23.258Z"
   },
   {
    "duration": 45,
    "start_time": "2021-10-23T12:48:40.498Z"
   },
   {
    "duration": 37,
    "start_time": "2021-10-23T12:57:34.499Z"
   },
   {
    "duration": 38,
    "start_time": "2021-10-23T12:57:46.502Z"
   },
   {
    "duration": 36,
    "start_time": "2021-10-23T12:58:51.358Z"
   },
   {
    "duration": 39,
    "start_time": "2021-10-23T12:59:04.854Z"
   },
   {
    "duration": 480,
    "start_time": "2021-10-23T12:59:24.342Z"
   },
   {
    "duration": 776,
    "start_time": "2021-10-23T13:02:16.164Z"
   },
   {
    "duration": 188,
    "start_time": "2021-10-23T13:02:16.943Z"
   },
   {
    "duration": 25,
    "start_time": "2021-10-23T13:02:17.134Z"
   },
   {
    "duration": 45,
    "start_time": "2021-10-23T13:02:17.162Z"
   },
   {
    "duration": 5,
    "start_time": "2021-10-23T13:02:17.209Z"
   },
   {
    "duration": 31,
    "start_time": "2021-10-23T13:02:17.216Z"
   },
   {
    "duration": 33,
    "start_time": "2021-10-23T13:02:17.249Z"
   },
   {
    "duration": 29,
    "start_time": "2021-10-23T13:02:17.286Z"
   },
   {
    "duration": 22,
    "start_time": "2021-10-23T13:02:17.318Z"
   },
   {
    "duration": 53,
    "start_time": "2021-10-23T13:02:17.342Z"
   },
   {
    "duration": 100,
    "start_time": "2021-10-23T13:02:17.397Z"
   },
   {
    "duration": 105,
    "start_time": "2021-10-23T13:02:17.500Z"
   },
   {
    "duration": 83,
    "start_time": "2021-10-23T13:02:17.608Z"
   },
   {
    "duration": 15,
    "start_time": "2021-10-23T13:02:17.694Z"
   },
   {
    "duration": 5,
    "start_time": "2021-10-23T13:02:17.712Z"
   },
   {
    "duration": 16,
    "start_time": "2021-10-23T13:02:17.719Z"
   },
   {
    "duration": 53,
    "start_time": "2021-10-23T13:02:17.737Z"
   },
   {
    "duration": 40,
    "start_time": "2021-10-23T13:02:17.792Z"
   },
   {
    "duration": 3,
    "start_time": "2021-10-23T13:02:17.835Z"
   },
   {
    "duration": 6,
    "start_time": "2021-10-23T13:02:17.840Z"
   },
   {
    "duration": 34,
    "start_time": "2021-10-23T13:02:17.848Z"
   },
   {
    "duration": 6,
    "start_time": "2021-10-23T13:02:17.884Z"
   },
   {
    "duration": 6,
    "start_time": "2021-10-23T13:02:17.895Z"
   },
   {
    "duration": 6,
    "start_time": "2021-10-23T13:02:17.903Z"
   },
   {
    "duration": 5,
    "start_time": "2021-10-23T13:02:17.912Z"
   },
   {
    "duration": 7,
    "start_time": "2021-10-23T13:02:17.919Z"
   },
   {
    "duration": 6,
    "start_time": "2021-10-23T13:02:17.928Z"
   },
   {
    "duration": 6,
    "start_time": "2021-10-23T13:02:17.936Z"
   },
   {
    "duration": 39,
    "start_time": "2021-10-23T13:02:17.944Z"
   },
   {
    "duration": 5,
    "start_time": "2021-10-23T13:02:17.986Z"
   },
   {
    "duration": 9,
    "start_time": "2021-10-23T13:02:17.994Z"
   },
   {
    "duration": 10,
    "start_time": "2021-10-23T13:02:18.005Z"
   },
   {
    "duration": 14,
    "start_time": "2021-10-23T13:02:18.018Z"
   },
   {
    "duration": 8,
    "start_time": "2021-10-23T13:02:18.034Z"
   },
   {
    "duration": 7,
    "start_time": "2021-10-23T13:02:18.044Z"
   },
   {
    "duration": 5,
    "start_time": "2021-10-23T13:02:18.053Z"
   },
   {
    "duration": 4,
    "start_time": "2021-10-23T13:02:18.083Z"
   },
   {
    "duration": 6,
    "start_time": "2021-10-23T13:02:18.090Z"
   },
   {
    "duration": 433,
    "start_time": "2021-10-23T13:04:50.807Z"
   },
   {
    "duration": 14,
    "start_time": "2021-10-23T13:05:26.000Z"
   },
   {
    "duration": 329,
    "start_time": "2021-10-23T13:10:56.129Z"
   },
   {
    "duration": 16,
    "start_time": "2021-10-23T13:12:01.922Z"
   },
   {
    "duration": 439,
    "start_time": "2021-10-23T13:39:48.880Z"
   },
   {
    "duration": 314,
    "start_time": "2021-10-23T13:40:01.140Z"
   },
   {
    "duration": 687,
    "start_time": "2021-10-23T13:40:19.843Z"
   },
   {
    "duration": 97,
    "start_time": "2021-10-23T13:40:53.562Z"
   },
   {
    "duration": 677,
    "start_time": "2021-10-23T13:40:58.715Z"
   },
   {
    "duration": 5,
    "start_time": "2021-10-23T13:41:03.906Z"
   },
   {
    "duration": 294,
    "start_time": "2021-10-23T13:42:20.227Z"
   },
   {
    "duration": 298,
    "start_time": "2021-10-23T13:43:10.052Z"
   },
   {
    "duration": 5,
    "start_time": "2021-10-23T13:47:26.249Z"
   },
   {
    "duration": 84,
    "start_time": "2021-10-23T13:50:01.703Z"
   },
   {
    "duration": 7516,
    "start_time": "2021-10-23T13:50:12.093Z"
   },
   {
    "duration": 772,
    "start_time": "2021-10-23T13:51:31.370Z"
   },
   {
    "duration": 190,
    "start_time": "2021-10-23T13:51:32.145Z"
   },
   {
    "duration": 25,
    "start_time": "2021-10-23T13:51:32.338Z"
   },
   {
    "duration": 51,
    "start_time": "2021-10-23T13:51:32.365Z"
   },
   {
    "duration": 4,
    "start_time": "2021-10-23T13:51:32.419Z"
   },
   {
    "duration": 29,
    "start_time": "2021-10-23T13:51:32.426Z"
   },
   {
    "duration": 25,
    "start_time": "2021-10-23T13:51:32.457Z"
   },
   {
    "duration": 32,
    "start_time": "2021-10-23T13:51:32.485Z"
   },
   {
    "duration": 60,
    "start_time": "2021-10-23T13:51:32.522Z"
   },
   {
    "duration": 31,
    "start_time": "2021-10-23T13:51:32.585Z"
   },
   {
    "duration": 102,
    "start_time": "2021-10-23T13:51:32.619Z"
   },
   {
    "duration": 105,
    "start_time": "2021-10-23T13:51:32.723Z"
   },
   {
    "duration": 88,
    "start_time": "2021-10-23T13:51:32.831Z"
   },
   {
    "duration": 15,
    "start_time": "2021-10-23T13:51:32.922Z"
   },
   {
    "duration": 3,
    "start_time": "2021-10-23T13:51:32.939Z"
   },
   {
    "duration": 41,
    "start_time": "2021-10-23T13:51:32.945Z"
   },
   {
    "duration": 14,
    "start_time": "2021-10-23T13:51:32.989Z"
   },
   {
    "duration": 14,
    "start_time": "2021-10-23T13:51:33.005Z"
   },
   {
    "duration": 14,
    "start_time": "2021-10-23T13:51:33.022Z"
   },
   {
    "duration": 4,
    "start_time": "2021-10-23T13:51:33.039Z"
   },
   {
    "duration": 8646,
    "start_time": "2021-10-23T13:51:33.046Z"
   },
   {
    "duration": 88,
    "start_time": "2021-10-23T13:51:41.607Z"
   },
   {
    "duration": 88,
    "start_time": "2021-10-23T13:51:41.608Z"
   },
   {
    "duration": 84,
    "start_time": "2021-10-23T13:51:41.613Z"
   },
   {
    "duration": 82,
    "start_time": "2021-10-23T13:51:41.616Z"
   },
   {
    "duration": 82,
    "start_time": "2021-10-23T13:51:41.618Z"
   },
   {
    "duration": 82,
    "start_time": "2021-10-23T13:51:41.619Z"
   },
   {
    "duration": 79,
    "start_time": "2021-10-23T13:51:41.623Z"
   },
   {
    "duration": 79,
    "start_time": "2021-10-23T13:51:41.625Z"
   },
   {
    "duration": 79,
    "start_time": "2021-10-23T13:51:41.626Z"
   },
   {
    "duration": 78,
    "start_time": "2021-10-23T13:51:41.628Z"
   },
   {
    "duration": 79,
    "start_time": "2021-10-23T13:51:41.629Z"
   },
   {
    "duration": 79,
    "start_time": "2021-10-23T13:51:41.630Z"
   },
   {
    "duration": 78,
    "start_time": "2021-10-23T13:51:41.632Z"
   },
   {
    "duration": 77,
    "start_time": "2021-10-23T13:51:41.634Z"
   },
   {
    "duration": 78,
    "start_time": "2021-10-23T13:51:41.635Z"
   },
   {
    "duration": 77,
    "start_time": "2021-10-23T13:51:41.637Z"
   },
   {
    "duration": 73,
    "start_time": "2021-10-23T13:51:41.642Z"
   },
   {
    "duration": 267,
    "start_time": "2021-10-23T13:52:08.982Z"
   },
   {
    "duration": 277,
    "start_time": "2021-10-23T13:52:15.198Z"
   },
   {
    "duration": 302,
    "start_time": "2021-10-23T13:52:29.934Z"
   },
   {
    "duration": 296,
    "start_time": "2021-10-23T13:52:33.566Z"
   },
   {
    "duration": 7203,
    "start_time": "2021-10-23T13:52:41.550Z"
   },
   {
    "duration": 7602,
    "start_time": "2021-10-23T13:55:20.647Z"
   },
   {
    "duration": 5,
    "start_time": "2021-10-23T13:56:52.771Z"
   },
   {
    "duration": 24,
    "start_time": "2021-10-23T13:56:55.847Z"
   },
   {
    "duration": 21,
    "start_time": "2021-10-23T13:56:58.191Z"
   },
   {
    "duration": 18,
    "start_time": "2021-10-23T13:56:59.231Z"
   },
   {
    "duration": 19,
    "start_time": "2021-10-23T13:57:00.231Z"
   },
   {
    "duration": 22,
    "start_time": "2021-10-23T13:57:01.767Z"
   },
   {
    "duration": 20,
    "start_time": "2021-10-23T13:57:02.695Z"
   },
   {
    "duration": 6,
    "start_time": "2021-10-23T13:58:40.256Z"
   },
   {
    "duration": 13,
    "start_time": "2021-10-23T13:58:54.088Z"
   },
   {
    "duration": 7,
    "start_time": "2021-10-23T13:58:58.621Z"
   },
   {
    "duration": 15,
    "start_time": "2021-10-23T14:04:05.830Z"
   },
   {
    "duration": 16,
    "start_time": "2021-10-23T14:04:07.562Z"
   },
   {
    "duration": 6,
    "start_time": "2021-10-23T14:07:29.048Z"
   },
   {
    "duration": 25,
    "start_time": "2021-10-23T14:14:59.228Z"
   },
   {
    "duration": 17,
    "start_time": "2021-10-23T14:15:59.476Z"
   },
   {
    "duration": 21,
    "start_time": "2021-10-23T14:16:01.580Z"
   },
   {
    "duration": 17,
    "start_time": "2021-10-23T14:16:02.516Z"
   },
   {
    "duration": 16,
    "start_time": "2021-10-23T14:17:28.358Z"
   },
   {
    "duration": 7,
    "start_time": "2021-10-23T14:17:45.005Z"
   },
   {
    "duration": 10,
    "start_time": "2021-10-23T14:18:26.229Z"
   },
   {
    "duration": 6,
    "start_time": "2021-10-23T14:18:27.501Z"
   },
   {
    "duration": 759,
    "start_time": "2021-10-23T14:18:56.777Z"
   },
   {
    "duration": 178,
    "start_time": "2021-10-23T14:18:57.538Z"
   },
   {
    "duration": 25,
    "start_time": "2021-10-23T14:18:57.719Z"
   },
   {
    "duration": 50,
    "start_time": "2021-10-23T14:18:57.747Z"
   },
   {
    "duration": 5,
    "start_time": "2021-10-23T14:18:57.800Z"
   },
   {
    "duration": 29,
    "start_time": "2021-10-23T14:18:57.807Z"
   },
   {
    "duration": 5,
    "start_time": "2021-10-23T14:18:57.838Z"
   },
   {
    "duration": 59,
    "start_time": "2021-10-23T14:18:57.847Z"
   },
   {
    "duration": 23,
    "start_time": "2021-10-23T14:18:57.909Z"
   },
   {
    "duration": 52,
    "start_time": "2021-10-23T14:18:57.935Z"
   },
   {
    "duration": 99,
    "start_time": "2021-10-23T14:18:57.989Z"
   },
   {
    "duration": 110,
    "start_time": "2021-10-23T14:18:58.091Z"
   },
   {
    "duration": 82,
    "start_time": "2021-10-23T14:18:58.203Z"
   },
   {
    "duration": 13,
    "start_time": "2021-10-23T14:18:58.287Z"
   },
   {
    "duration": 4,
    "start_time": "2021-10-23T14:18:58.302Z"
   },
   {
    "duration": 15,
    "start_time": "2021-10-23T14:18:58.308Z"
   },
   {
    "duration": 16,
    "start_time": "2021-10-23T14:18:58.325Z"
   },
   {
    "duration": 17,
    "start_time": "2021-10-23T14:18:58.381Z"
   },
   {
    "duration": 16,
    "start_time": "2021-10-23T14:18:58.402Z"
   },
   {
    "duration": 6,
    "start_time": "2021-10-23T14:18:58.421Z"
   },
   {
    "duration": 63,
    "start_time": "2021-10-23T14:18:58.430Z"
   },
   {
    "duration": 23,
    "start_time": "2021-10-23T14:18:58.496Z"
   },
   {
    "duration": 19,
    "start_time": "2021-10-23T14:18:58.526Z"
   },
   {
    "duration": 55,
    "start_time": "2021-10-23T14:18:58.548Z"
   },
   {
    "duration": 24,
    "start_time": "2021-10-23T14:18:58.606Z"
   },
   {
    "duration": 58,
    "start_time": "2021-10-23T14:18:58.633Z"
   },
   {
    "duration": 8,
    "start_time": "2021-10-23T14:18:58.694Z"
   },
   {
    "duration": 24,
    "start_time": "2021-10-23T14:18:58.704Z"
   },
   {
    "duration": 13,
    "start_time": "2021-10-23T14:18:58.730Z"
   },
   {
    "duration": 6,
    "start_time": "2021-10-23T14:18:58.781Z"
   },
   {
    "duration": 27,
    "start_time": "2021-10-23T14:18:58.789Z"
   },
   {
    "duration": 17,
    "start_time": "2021-10-23T14:18:58.818Z"
   },
   {
    "duration": 51,
    "start_time": "2021-10-23T14:18:58.838Z"
   },
   {
    "duration": 15,
    "start_time": "2021-10-23T14:18:58.892Z"
   },
   {
    "duration": 11,
    "start_time": "2021-10-23T14:18:58.910Z"
   },
   {
    "duration": 7,
    "start_time": "2021-10-23T14:18:58.923Z"
   },
   {
    "duration": 49,
    "start_time": "2021-10-23T14:18:58.933Z"
   },
   {
    "duration": 6,
    "start_time": "2021-10-23T14:18:58.984Z"
   },
   {
    "duration": 749,
    "start_time": "2021-10-23T14:21:16.806Z"
   },
   {
    "duration": 191,
    "start_time": "2021-10-23T14:21:17.558Z"
   },
   {
    "duration": 33,
    "start_time": "2021-10-23T14:21:17.752Z"
   },
   {
    "duration": 32,
    "start_time": "2021-10-23T14:21:17.788Z"
   },
   {
    "duration": 5,
    "start_time": "2021-10-23T14:21:17.823Z"
   },
   {
    "duration": 56,
    "start_time": "2021-10-23T14:21:17.831Z"
   },
   {
    "duration": 5,
    "start_time": "2021-10-23T14:21:17.890Z"
   },
   {
    "duration": 31,
    "start_time": "2021-10-23T14:21:17.898Z"
   },
   {
    "duration": 50,
    "start_time": "2021-10-23T14:21:17.933Z"
   },
   {
    "duration": 29,
    "start_time": "2021-10-23T14:21:17.986Z"
   },
   {
    "duration": 108,
    "start_time": "2021-10-23T14:21:18.017Z"
   },
   {
    "duration": 105,
    "start_time": "2021-10-23T14:21:18.127Z"
   },
   {
    "duration": 85,
    "start_time": "2021-10-23T14:21:18.235Z"
   },
   {
    "duration": 20,
    "start_time": "2021-10-23T14:21:18.323Z"
   },
   {
    "duration": 5,
    "start_time": "2021-10-23T14:21:18.346Z"
   },
   {
    "duration": 36,
    "start_time": "2021-10-23T14:21:18.354Z"
   },
   {
    "duration": 14,
    "start_time": "2021-10-23T14:21:18.393Z"
   },
   {
    "duration": 16,
    "start_time": "2021-10-23T14:21:18.409Z"
   },
   {
    "duration": 56,
    "start_time": "2021-10-23T14:21:18.428Z"
   },
   {
    "duration": 5,
    "start_time": "2021-10-23T14:21:18.486Z"
   },
   {
    "duration": 27,
    "start_time": "2021-10-23T14:21:18.494Z"
   },
   {
    "duration": 19,
    "start_time": "2021-10-23T14:21:18.523Z"
   },
   {
    "duration": 45,
    "start_time": "2021-10-23T14:21:18.546Z"
   },
   {
    "duration": 19,
    "start_time": "2021-10-23T14:21:18.593Z"
   },
   {
    "duration": 21,
    "start_time": "2021-10-23T14:21:18.614Z"
   },
   {
    "duration": 52,
    "start_time": "2021-10-23T14:21:18.637Z"
   },
   {
    "duration": 6,
    "start_time": "2021-10-23T14:21:18.692Z"
   },
   {
    "duration": 20,
    "start_time": "2021-10-23T14:21:18.700Z"
   },
   {
    "duration": 12,
    "start_time": "2021-10-23T14:21:18.723Z"
   },
   {
    "duration": 5,
    "start_time": "2021-10-23T14:21:18.738Z"
   },
   {
    "duration": 53,
    "start_time": "2021-10-23T14:21:18.746Z"
   },
   {
    "duration": 17,
    "start_time": "2021-10-23T14:21:18.801Z"
   },
   {
    "duration": 23,
    "start_time": "2021-10-23T14:21:18.820Z"
   },
   {
    "duration": 48,
    "start_time": "2021-10-23T14:21:18.845Z"
   },
   {
    "duration": 11,
    "start_time": "2021-10-23T14:21:18.896Z"
   },
   {
    "duration": 6,
    "start_time": "2021-10-23T14:21:18.910Z"
   },
   {
    "duration": 12,
    "start_time": "2021-10-23T14:21:18.918Z"
   },
   {
    "duration": 6,
    "start_time": "2021-10-23T14:21:18.933Z"
   }
  ],
  "colab": {
   "collapsed_sections": [
    "E0vqbgi9ay0H",
    "VUC88oWjTJw2"
   ],
   "name": "yandex_music_project_2021.2.ipynb",
   "provenance": []
  },
  "kernelspec": {
   "display_name": "Python 3 (ipykernel)",
   "language": "python",
   "name": "python3"
  },
  "language_info": {
   "codemirror_mode": {
    "name": "ipython",
    "version": 3
   },
   "file_extension": ".py",
   "mimetype": "text/x-python",
   "name": "python",
   "nbconvert_exporter": "python",
   "pygments_lexer": "ipython3",
   "version": "3.9.7"
  },
  "toc": {
   "base_numbering": 1,
   "nav_menu": {},
   "number_sections": true,
   "sideBar": true,
   "skip_h1_title": true,
   "title_cell": "Table of Contents",
   "title_sidebar": "Contents",
   "toc_cell": false,
   "toc_position": {
    "height": "calc(100% - 180px)",
    "left": "10px",
    "top": "150px",
    "width": "378.701px"
   },
   "toc_section_display": true,
   "toc_window_display": false
  }
 },
 "nbformat": 4,
 "nbformat_minor": 1
}
