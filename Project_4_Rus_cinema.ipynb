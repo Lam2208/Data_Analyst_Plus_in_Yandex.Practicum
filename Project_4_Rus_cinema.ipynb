{
 "cells": [
  {
   "cell_type": "markdown",
   "metadata": {
    "id": "sIfNaMOxgFyK"
   },
   "source": [
    "## Исследование данных о российском кинопрокате\n",
    "\n"
   ]
  },
  {
   "cell_type": "markdown",
   "metadata": {},
   "source": [
    "По лору, заказчик этого исследования — Министерство культуры Российской Федерации.\n",
    "\n",
    "Нам нужно изучить рынок российского кинопроката и выявить текущие тренды. При этом уделить внимание фильмам, которые получили государственную поддержку. Попробуем ответить на вопрос, насколько такие фильмы интересны зрителю.\n",
    "\n",
    "Мы поработаем с данными, опубликованными на портале открытых данных Министерства культуры. Набор данных содержит информацию о прокатных удостоверениях, сборах и государственной поддержке фильмов, а также информацию с сайта КиноПоиск."
   ]
  },
  {
   "cell_type": "markdown",
   "metadata": {
    "id": "3bSlkCsbgFyL"
   },
   "source": [
    "### Шаг 1. Откройте файлы с данными и объедините их в один датафрейм. \n",
    "\n",
    "Объедините данные таким образом, чтобы все объекты из датасета `mkrf_movies` обязательно вошли в получившийся датафрейм. "
   ]
  },
  {
   "cell_type": "code",
   "execution_count": null,
   "metadata": {
    "id": "dw87FlzMgFyM"
   },
   "outputs": [],
   "source": [
    "import pandas as pd\n",
    "import seaborn as sns\n",
    "import matplotlib.pyplot as plt\n",
    "import numpy as np"
   ]
  },
  {
   "cell_type": "code",
   "execution_count": null,
   "metadata": {},
   "outputs": [],
   "source": [
    "df_movies = pd.read_csv('/datasets/mkrf_movies.csv')\n",
    "df_shows = pd.read_csv('/datasets/mkrf_shows.csv')"
   ]
  },
  {
   "cell_type": "code",
   "execution_count": null,
   "metadata": {},
   "outputs": [],
   "source": [
    "df_movies.info()"
   ]
  },
  {
   "cell_type": "code",
   "execution_count": null,
   "metadata": {
    "scrolled": true
   },
   "outputs": [],
   "source": [
    "df_movies.head(10)"
   ]
  },
  {
   "cell_type": "markdown",
   "metadata": {},
   "source": [
    "*df_movies* состоит из 15 столбцов:\n",
    "\n",
    "1. title - Название фильма - тип данных object\n",
    "2. puNumber - Номер прокатного удостовеления - тип данных object\n",
    "3. show_start_date - Дата начала проката - тип данных object\n",
    "4. type - Тип кинематогрофа - тип данных object\n",
    "5. film_studio - Студия - тип данных object\n",
    "6. production_country - Страна производитель - тип данных object\n",
    "7. director - Режисер - тип данных object\n",
    "8. producer - Продюсер - тип данных object\n",
    "9. age_restriction - Возрастное ограничение - тип данных object\n",
    "10. refundable_support - Возвратная господдержка - тип данных float\n",
    "11. nonrefundable_support - Невозвратная господдержка - тип данных float\n",
    "12. budget - Бюджет - тип данных float\n",
    "13. financing_source - Источник финасирования - тип данных object\n",
    "14. ratings - Рейтинг - тип данных object\n",
    "15. genres - Жанр - тип данных object\n",
    "\n",
    "Интересная законормерность:\n",
    "- столбец *budget*, исходя из общей информации, скорее всего относится только к фильмам, получавшим гос. поддержку. То есть, в нём отражены только бюджеты гос. поддержки выделенные на фильм"
   ]
  },
  {
   "cell_type": "code",
   "execution_count": null,
   "metadata": {},
   "outputs": [],
   "source": [
    "df_shows.info()"
   ]
  },
  {
   "cell_type": "code",
   "execution_count": null,
   "metadata": {
    "scrolled": true
   },
   "outputs": [],
   "source": [
    "df_shows.head(10)"
   ]
  },
  {
   "cell_type": "markdown",
   "metadata": {},
   "source": [
    "Таблица со сведениями о показах состоит из двух столбцов:\n",
    "\n",
    "1. puNumber - Номер прокатного удостоверения - тип данных int\n",
    "2. box_office - Сумма сборов в прокате - тип данных float"
   ]
  },
  {
   "cell_type": "markdown",
   "metadata": {},
   "source": [
    "Таким образом, чтобы объединить два датафрейма, нам необходимо:\n",
    "\n",
    "- Привести столбец *puNumber* к одинаковому типу данных. Для этого используем метод *to_numeric* с атрибутом *errors = coerce*, чтобы в случае возникновения пропусков или иных косяков, заменить их на *NaN*. \n",
    "- Объединить два датафрейма методом *merge*, указав параметр *how = left*"
   ]
  },
  {
   "cell_type": "code",
   "execution_count": null,
   "metadata": {},
   "outputs": [],
   "source": [
    "df_movies['puNumber'] = pd.to_numeric(df_movies['puNumber'], errors = 'coerce')\n",
    "df = df_movies.merge(df_shows, on = 'puNumber', how = 'left')"
   ]
  },
  {
   "cell_type": "code",
   "execution_count": null,
   "metadata": {},
   "outputs": [],
   "source": [
    "df.info()"
   ]
  },
  {
   "cell_type": "code",
   "execution_count": null,
   "metadata": {
    "scrolled": true
   },
   "outputs": [],
   "source": [
    "df.head(10)"
   ]
  },
  {
   "cell_type": "markdown",
   "metadata": {},
   "source": [
    "Всего в нашей таблице 16 столбцов\n",
    "\n",
    "- title — название кино;\n",
    "- puNumber — номер прокатного удостоверения;\n",
    "- show_start_date — дата премьеры;\n",
    "- type — тип кинематогрофа;\n",
    "- film_studio — студия производитель;\n",
    "- production_country — страна производитель;\n",
    "- director — режиссёр;\n",
    "- producer — продюсер;\n",
    "- age_restriction — возрастное ограничение;\n",
    "- refundable_support — объём возвратных средств гос. поддержки;\n",
    "- nonrefundable_support — объём невозвратных средств гос. поддержки;\n",
    "- financing_source — источник государственного финансирования;\n",
    "- budget — веделенный гос. бюджет;\n",
    "- ratings — рейтинг кино;\n",
    "- genres — жанр;\n",
    "- box_office — кассовые сборы."
   ]
  },
  {
   "cell_type": "markdown",
   "metadata": {
    "id": "KLDGpPG0gFyM"
   },
   "source": [
    "### Шаг 2. Предобработка данных"
   ]
  },
  {
   "cell_type": "markdown",
   "metadata": {},
   "source": [
    "Для начала приведём название столбца *puNumber* к корректному змеиному регистру"
   ]
  },
  {
   "cell_type": "code",
   "execution_count": null,
   "metadata": {},
   "outputs": [],
   "source": [
    "df = df.rename(columns = {'puNumber': 'distribution_certificate_number'})"
   ]
  },
  {
   "cell_type": "code",
   "execution_count": null,
   "metadata": {},
   "outputs": [],
   "source": [
    "df.columns"
   ]
  },
  {
   "cell_type": "markdown",
   "metadata": {
    "id": "ssWwKXsxgFyO"
   },
   "source": [
    "#### Шаг 2.1. Проверьте типы данных\n",
    "\n",
    "- Проверьте типы данных в датафрейме и преобразуйте их там, где это необходимо."
   ]
  },
  {
   "cell_type": "code",
   "execution_count": null,
   "metadata": {},
   "outputs": [],
   "source": [
    "df.info()"
   ]
  },
  {
   "cell_type": "markdown",
   "metadata": {},
   "source": [
    "Преобразуем дату начала показа к типу данных *datetime*"
   ]
  },
  {
   "cell_type": "code",
   "execution_count": null,
   "metadata": {
    "id": "kVGSplJOgFyO"
   },
   "outputs": [],
   "source": [
    "df['show_start_date'] = pd.to_datetime(df['show_start_date'], format = '%Y-%m-%dT%H:%M:%S')"
   ]
  },
  {
   "cell_type": "code",
   "execution_count": null,
   "metadata": {},
   "outputs": [],
   "source": [
    "df['ratings'].unique()"
   ]
  },
  {
   "cell_type": "markdown",
   "metadata": {},
   "source": [
    "Создадим функцию, которая посимвольно разобьёт ячейку и положит все значения в список, если в списке будет присутствовать знак %, то заменим эту ячейку нулевым значением. Применим данную функцию к столбцу ratings"
   ]
  },
  {
   "cell_type": "code",
   "execution_count": null,
   "metadata": {},
   "outputs": [],
   "source": [
    "def ratio(cell):\n",
    "    result = list(cell)\n",
    "    if '%' in result:\n",
    "        return 0\n",
    "    else:\n",
    "        return cell"
   ]
  },
  {
   "cell_type": "markdown",
   "metadata": {},
   "source": [
    "заполним пропуски и применим функцию"
   ]
  },
  {
   "cell_type": "code",
   "execution_count": null,
   "metadata": {},
   "outputs": [],
   "source": [
    "df['ratings'] = df['ratings'].fillna('%').astype('object')\n",
    "df['ratings'] = df['ratings'].apply(ratio)"
   ]
  },
  {
   "cell_type": "code",
   "execution_count": null,
   "metadata": {},
   "outputs": [],
   "source": [
    "df['ratings'].unique()"
   ]
  },
  {
   "cell_type": "code",
   "execution_count": null,
   "metadata": {},
   "outputs": [],
   "source": [
    "df['ratings'] = df['ratings'].astype('float')"
   ]
  },
  {
   "cell_type": "code",
   "execution_count": null,
   "metadata": {},
   "outputs": [],
   "source": [
    "df.info()"
   ]
  },
  {
   "cell_type": "markdown",
   "metadata": {},
   "source": [
    "Задаим столбцу box_office тип данных int, так как при типе object длинное число будет неудобно отображаться. В нём есть пропуски, поэтому заменим их на 0, чтобы они не мешали преобразованию"
   ]
  },
  {
   "cell_type": "code",
   "execution_count": null,
   "metadata": {},
   "outputs": [],
   "source": [
    "df['box_office'] = df['box_office'].fillna(0).astype('int')"
   ]
  },
  {
   "cell_type": "markdown",
   "metadata": {},
   "source": [
    "**Вывод**\n",
    "\n",
    "Преобразовали столбцы и поменяли типы данных для удобства дальнейших исследований"
   ]
  },
  {
   "cell_type": "markdown",
   "metadata": {
    "id": "i0MOLbF-gFyP"
   },
   "source": [
    "#### Шаг 2.2. Изучите пропуски в датафрейме\n",
    "\n",
    "- Объясните, почему заполнили пропуски определённым образом или почему не стали этого делать."
   ]
  },
  {
   "cell_type": "markdown",
   "metadata": {},
   "source": [
    "Вычислим где и сколько пропусков"
   ]
  },
  {
   "cell_type": "code",
   "execution_count": null,
   "metadata": {},
   "outputs": [],
   "source": [
    "df.isna().sum()"
   ]
  },
  {
   "cell_type": "markdown",
   "metadata": {},
   "source": [
    "Выведем долю и подсветим"
   ]
  },
  {
   "cell_type": "code",
   "execution_count": null,
   "metadata": {},
   "outputs": [],
   "source": [
    "pd.DataFrame(df.isna().mean()).style.background_gradient('coolwarm')"
   ]
  },
  {
   "cell_type": "markdown",
   "metadata": {},
   "source": [
    "Сделаем чуть более читабельно"
   ]
  },
  {
   "cell_type": "code",
   "execution_count": null,
   "metadata": {
    "id": "8MJD_lkngFyP"
   },
   "outputs": [],
   "source": [
    "pd.DataFrame(round(df.isna().mean()*100, 2)).style.background_gradient('coolwarm')"
   ]
  },
  {
   "cell_type": "markdown",
   "metadata": {},
   "source": [
    "Итак, наши пропуски:\n",
    "\n",
    "- количество пропусков в столбцах distribution_certificate_number, film_studio, production_country, и director незначительно. Их можно отбросить\n",
    "- количество пропусков в столбце producer составляет более 7 %. Их лучше заменить на значение *unknown*, чтобы не терять данные.\n",
    "- количество пропусков в столбцах refundable_support, nonrefundable_support, budget и financing_source составляет более 95%. Они относятся только к фильмам, которые получили государственную поддержку. Количество пропусков одинаковое - вероятее всего, что данные по этим четырём стоблбцам из одного источника. Думаю, что заполнять эти пропуски не стоит, дабы не искажать данные, которые могут понадобиться нам позже.\n",
    "- количество пропусков в столбце genres составляет 13%. Пропуски в этом столбце можно заменить на unknown."
   ]
  },
  {
   "cell_type": "code",
   "execution_count": null,
   "metadata": {},
   "outputs": [],
   "source": [
    "to_drop = ['distribution_certificate_number', 'film_studio', 'production_country', 'director']"
   ]
  },
  {
   "cell_type": "code",
   "execution_count": null,
   "metadata": {},
   "outputs": [],
   "source": [
    "df.dropna(subset = to_drop, inplace = True)"
   ]
  },
  {
   "cell_type": "code",
   "execution_count": null,
   "metadata": {},
   "outputs": [],
   "source": [
    "to_unknown = ['genres', 'producer']"
   ]
  },
  {
   "cell_type": "code",
   "execution_count": null,
   "metadata": {},
   "outputs": [],
   "source": [
    "def unkn_own(df, column, value='unknown'):\n",
    "    df[column] = df[column].fillna(value)"
   ]
  },
  {
   "cell_type": "code",
   "execution_count": null,
   "metadata": {},
   "outputs": [],
   "source": [
    "for column in to_unknown:\n",
    "    unkn_own(df, column)"
   ]
  },
  {
   "cell_type": "code",
   "execution_count": null,
   "metadata": {},
   "outputs": [],
   "source": [
    "df.isna().sum()"
   ]
  },
  {
   "cell_type": "markdown",
   "metadata": {},
   "source": [
    "**Вывод**\n",
    "\n",
    "Были удалены из таблицы незначительное количество пропусков. Для отдельных столбцов пропущенные значения заполнены на 0 и unknown."
   ]
  },
  {
   "cell_type": "markdown",
   "metadata": {
    "id": "4c6k1t9ygFyQ"
   },
   "source": [
    "#### Шаг 2.3. Изучите дубликаты в датафрейме\n",
    "- Проверьте, есть ли в данных дубликаты. Опишите причины, которые могли повлиять на появление дублей."
   ]
  },
  {
   "cell_type": "markdown",
   "metadata": {},
   "source": [
    "Проверим наличие явных дубликатов. Сначала приведём все значения категориальных столбцов к единому регистру. Для этого создадим список из названий столбцов и пройдём по нему циклом."
   ]
  },
  {
   "cell_type": "markdown",
   "metadata": {},
   "source": [
    "Теперь посчитаем сумму дубликатов"
   ]
  },
  {
   "cell_type": "code",
   "execution_count": null,
   "metadata": {},
   "outputs": [],
   "source": [
    "print(\"Кол-во дубликатов: {}\".format(df.duplicated().sum()))"
   ]
  },
  {
   "cell_type": "markdown",
   "metadata": {},
   "source": [
    "Дубликаты не найдены"
   ]
  },
  {
   "cell_type": "markdown",
   "metadata": {
    "id": "52fOPrEBgFyQ"
   },
   "source": [
    "#### Шаг 2.4. Изучите категориальные значения\n",
    "\n",
    "- Посмотрите, какая общая проблема встречается почти во всех категориальных столбцах;\n",
    "- Исправьте проблемные значения в поле `type`."
   ]
  },
  {
   "cell_type": "markdown",
   "metadata": {},
   "source": [
    "Переберём список уникальных значений в наших категориальных столбцах с помощью цикла"
   ]
  },
  {
   "cell_type": "code",
   "execution_count": null,
   "metadata": {},
   "outputs": [],
   "source": [
    "for column in object_columns_list:\n",
    "    print(column)\n",
    "    print(df[column].sort_values().unique())"
   ]
  },
  {
   "cell_type": "markdown",
   "metadata": {},
   "source": [
    "Видим, что во многих значениях разных столбцов присутствуют лишние пробелы. Уберём их и вновь пройдём циклом по списку наших категориальных столбцов и применим к ним метод .str.strip(). Этот метод удаляет все пробелы, которые встречаются в начале и в конце строки"
   ]
  },
  {
   "cell_type": "code",
   "execution_count": null,
   "metadata": {},
   "outputs": [],
   "source": [
    "for column in object_columns_list:\n",
    "    df[column] = df[column].str.strip()"
   ]
  },
  {
   "cell_type": "code",
   "execution_count": null,
   "metadata": {},
   "outputs": [],
   "source": [
    "for column in object_columns_list:\n",
    "    print(column)\n",
    "    print(df[column].sort_values().unique())"
   ]
  },
  {
   "cell_type": "markdown",
   "metadata": {},
   "source": [
    "**Вывод**\n",
    "\n",
    "Подправили категориальные значения, убрав лишние пробелы"
   ]
  },
  {
   "cell_type": "markdown",
   "metadata": {
    "id": "XFSN5lrEgFyR"
   },
   "source": [
    "#### Шаг 2.5. Проверьте количественные значения\n",
    "\n",
    "- Проверьте, обнаружились ли в таких столбцах подозрительные данные. Как с такими данными лучше поступить?"
   ]
  },
  {
   "cell_type": "markdown",
   "metadata": {},
   "source": [
    "Зададим округление до двух знаков после запятой и взглянем на наши количественные столбцы"
   ]
  },
  {
   "cell_type": "code",
   "execution_count": null,
   "metadata": {},
   "outputs": [],
   "source": [
    "pd.options.display.float_format = '{:.2f}'.format\n",
    "df[['budget', 'refundable_support', 'nonrefundable_support',\n",
    "    'box_office']].describe()"
   ]
  },
  {
   "cell_type": "markdown",
   "metadata": {},
   "source": [
    "**Столбец budget включает в себя полный объём государственной поддержки, а потому должен содержать в себе сумму столбцов refundable_support и nonrefundable_support, как минимум. Видим, что в нём есть нулевые значения, что не правильно. Найдём значения, где общая сумма бюджета меньше, чем суммарная государственная поддержка и исправим на данную сумму.**"
   ]
  },
  {
   "cell_type": "markdown",
   "metadata": {},
   "source": [
    "Проверим, какие строки удовлетворяют нашему условию и посчитаем их количество"
   ]
  },
  {
   "cell_type": "code",
   "execution_count": null,
   "metadata": {
    "id": "YbzClBxagFyS",
    "scrolled": true
   },
   "outputs": [],
   "source": [
    "display(df.query('budget < (refundable_support + nonrefundable_support)'))\n",
    "print(\"Кол-во строк: {}\".format(df.query(\n",
    "   'budget < (refundable_support + nonrefundable_support)')['budget'].count()))"
   ]
  },
  {
   "cell_type": "markdown",
   "metadata": {},
   "source": [
    "Заменим аномальные значения на суммарную государственную поддержку."
   ]
  },
  {
   "cell_type": "code",
   "execution_count": null,
   "metadata": {},
   "outputs": [],
   "source": [
    "df.loc[df['budget'] < (df['refundable_support'] + df['nonrefundable_support']),\n",
    "       'budget'] = df['refundable_support'] + df['nonrefundable_support']"
   ]
  },
  {
   "cell_type": "code",
   "execution_count": null,
   "metadata": {},
   "outputs": [],
   "source": [
    "df[['budget', 'refundable_support', 'nonrefundable_support',\n",
    "    'box_office']].describe()"
   ]
  },
  {
   "cell_type": "markdown",
   "metadata": {},
   "source": [
    "**Вывод**\n",
    "\n",
    "Нашли и исправили аномальные количественные значения. Больше нету \"безбюджетных\" фильмов"
   ]
  },
  {
   "cell_type": "markdown",
   "metadata": {
    "id": "Eu6oWp2CgFyS"
   },
   "source": [
    "#### Шаг 2.6. Добавьте новые столбцы\n",
    "\n",
    "\n",
    "\n"
   ]
  },
  {
   "cell_type": "markdown",
   "metadata": {
    "id": "7GgW-UpAgFyS"
   },
   "source": [
    "- Создайте столбец с информацией о годе проката. Выделите год из даты премьеры фильма."
   ]
  },
  {
   "cell_type": "markdown",
   "metadata": {},
   "source": [
    "Выделим год проката из столбца release_date и сохраним его в новый столбец release_year"
   ]
  },
  {
   "cell_type": "code",
   "execution_count": null,
   "metadata": {
    "id": "I-yd1DkWgFyT"
   },
   "outputs": [],
   "source": [
    "df['release_year'] = df['show_start_date'].dt.year"
   ]
  },
  {
   "cell_type": "markdown",
   "metadata": {
    "id": "nFTDLDYOgFyT"
   },
   "source": [
    "- Создайте два столбца: с именем и фамилией главного режиссёра и основным жанром фильма. В столбцы войдут первые значения из списка режиссёров и жанров соответственно."
   ]
  },
  {
   "cell_type": "markdown",
   "metadata": {
    "id": "LSbRZKbMgFyU"
   },
   "source": [
    "Создадим функцию, которая будет брать первое значние (до запятой) из столбцов director и genres и применим её к нашим двум столбцам, чтобы получить новые два."
   ]
  },
  {
   "cell_type": "code",
   "execution_count": null,
   "metadata": {},
   "outputs": [],
   "source": [
    "def split(cell):\n",
    "    result = cell.split(',')\n",
    "    return result[0]"
   ]
  },
  {
   "cell_type": "markdown",
   "metadata": {},
   "source": [
    "Получим имя режиссёра"
   ]
  },
  {
   "cell_type": "code",
   "execution_count": null,
   "metadata": {},
   "outputs": [],
   "source": [
    "df['main_director'] = df['director'].apply(split)"
   ]
  },
  {
   "cell_type": "markdown",
   "metadata": {},
   "source": [
    "Получим название жанра"
   ]
  },
  {
   "cell_type": "code",
   "execution_count": null,
   "metadata": {},
   "outputs": [],
   "source": [
    "df['main_genre'] = df['genres'].apply(split)"
   ]
  },
  {
   "cell_type": "markdown",
   "metadata": {
    "id": "1FsCXHwdgFyU"
   },
   "source": [
    "- Посчитайте, какую долю от общего бюджета фильма составляет государственная поддержка."
   ]
  },
  {
   "cell_type": "code",
   "execution_count": null,
   "metadata": {
    "id": "LV6qFuZLgFyV"
   },
   "outputs": [],
   "source": [
    "df['support'] = (df['refundable_support'] +\n",
    "                       df['nonrefundable_support']) / df['budget']"
   ]
  },
  {
   "cell_type": "code",
   "execution_count": null,
   "metadata": {
    "scrolled": true
   },
   "outputs": [],
   "source": [
    "df.sample(10)"
   ]
  },
  {
   "cell_type": "code",
   "execution_count": null,
   "metadata": {},
   "outputs": [],
   "source": [
    "df['support'].describe()"
   ]
  },
  {
   "cell_type": "markdown",
   "metadata": {},
   "source": [
    "Среднее и медианное значение доли государственной поддержки составляет более половины: 54% и 61% соответственно. Минимум: 4%. Максимум: 100%\n",
    "То есть, если гос. поддержка пристутсвует, то она чаще всего превышает половину бюджета кинопроизведения"
   ]
  },
  {
   "cell_type": "markdown",
   "metadata": {},
   "source": [
    "**Вывод**\n",
    "\n",
    "В данном разделе добавили новые столбцы, которые пригодятся нам в дальнейшем исследовании"
   ]
  },
  {
   "cell_type": "markdown",
   "metadata": {},
   "source": [
    "**Вывод по шагу:**\n",
    "\n",
    "Исправили некорректное название столбца. Поработали с пропусками, приведя датафрейм к приемлемым для исследования значениям. Далее заменили типы данных в столбцах для удобства будущих рассчётов. Затем нашли и исправили аномальные количественные значения и убрали лишние пробелы в категориальных значениях. И под конец добавили несколько новых столбцов, от которых в дальнейшем будем отталкиваться.\n",
    "\n",
    "Датафрейм приведён в тот вид, который позволяет нам провести исследование и ответить на интересующие нас вопросы."
   ]
  },
  {
   "cell_type": "markdown",
   "metadata": {
    "id": "6t4EukPLgFyV"
   },
   "source": [
    "### Шаг 3. Проведите исследовательский анализ данных\n"
   ]
  },
  {
   "cell_type": "markdown",
   "metadata": {},
   "source": [
    "#### Прокатные сборы по годам"
   ]
  },
  {
   "cell_type": "markdown",
   "metadata": {
    "id": "vAH8WCzugFyV"
   },
   "source": [
    "- Посмотрите, сколько фильмов выходило в прокат каждый год. Обратите внимание, что данные о прокате в кинотеатрах известны не для всех фильмов. Посчитайте, какую долю составляют фильмы с указанной информацией о прокате в кинотеатрах."
   ]
  },
  {
   "cell_type": "code",
   "execution_count": null,
   "metadata": {
    "id": "ABeV47y7gFyW"
   },
   "outputs": [],
   "source": [
    "df.plot.hist(\n",
    "             y = 'release_year', grid = True, title = 'Прокатные сборы по годам', bins = 10,\n",
    "             range = (2010, df['release_year'].max()),\n",
    "             figsize = (10, 6)\n",
    ")\n",
    "plt.xlabel('Год')\n",
    "plt.ylabel('Количество')\n",
    "plt.show()"
   ]
  },
  {
   "cell_type": "markdown",
   "metadata": {},
   "source": [
    "Выведем количество релизов по годам"
   ]
  },
  {
   "cell_type": "code",
   "execution_count": null,
   "metadata": {},
   "outputs": [],
   "source": [
    "print(\"Кол-во по годам:\\n{}\".format(df['release_year'].value_counts()))"
   ]
  },
  {
   "cell_type": "markdown",
   "metadata": {},
   "source": [
    "Посмотрим долю фильмов, которые имеют информацию по сборам."
   ]
  },
  {
   "cell_type": "code",
   "execution_count": null,
   "metadata": {},
   "outputs": [],
   "source": [
    "print(\"Доля фильмов с информацией по сборам:\\n{:.2%}\"\n",
    "      .format(df[df['box_office'] > 1]['box_office'].count() /\n",
    "              df['box_office'].count()))"
   ]
  },
  {
   "cell_type": "markdown",
   "metadata": {},
   "source": [
    "*Подитог:*\n",
    "\n",
    "Лидер по количеству фильмов вышедших в прокат - 2010 год. 2019 на втором месте.\n",
    "При этом информацию о сборах удалось обнаружить только у 41.98% кинопроизведений"
   ]
  },
  {
   "cell_type": "markdown",
   "metadata": {},
   "source": [
    "#### Динамика сборов проката"
   ]
  },
  {
   "cell_type": "markdown",
   "metadata": {
    "id": "BEOdcIrIgFyW"
   },
   "source": [
    "- Изучите, как менялась динамика проката по годам. В каком году сумма сборов была минимальной? А максимальной?"
   ]
  },
  {
   "cell_type": "markdown",
   "metadata": {},
   "source": [
    "Сначала посмотрим собственно суммы сборов по годам"
   ]
  },
  {
   "cell_type": "code",
   "execution_count": null,
   "metadata": {
    "id": "tfEhofYvgFyX"
   },
   "outputs": [],
   "source": [
    "box_office_per_year = df.pivot_table(index = 'release_year', values = 'box_office', aggfunc = 'sum')\n",
    "box_office_per_year"
   ]
  },
  {
   "cell_type": "markdown",
   "metadata": {},
   "source": [
    "*Подитог:*\n",
    "\n",
    "Видим, что до 2014(а скорее даже до 2015) у нас маловато данных. Однако по периоду с 2015 по 2019 можем наблюдать, что в среднем идёт постепенный рост выручки со сборов в кинопрокате. Значит ли это, что люди с каждым годом чаще всё ходили в кино? Да. Можем ли мы пронозировать дальнейший рост походов в кинотеатр. Вряд ли. Особенно учитывая рост популярности различных онлайн-площадок для просмотра кино(таких как Netflix, Оkko или Кинопоиск)"
   ]
  },
  {
   "cell_type": "markdown",
   "metadata": {},
   "source": [
    "#### Средняя и медианная сумма сборов"
   ]
  },
  {
   "cell_type": "markdown",
   "metadata": {
    "id": "G-7qS-N-gFyY"
   },
   "source": [
    "- С помощью сводной таблицы посчитайте среднюю и медианную сумму сборов для каждого года."
   ]
  },
  {
   "cell_type": "markdown",
   "metadata": {},
   "source": [
    "Тут нам нужно быть осторожными, т.к. при расчётах нам могут помешать нулевые значения сборов. Поэтому сначала отфильтруем данные по фильмам, где сборы были больше нуля"
   ]
  },
  {
   "cell_type": "code",
   "execution_count": null,
   "metadata": {
    "id": "jmp-rgg9gFyY"
   },
   "outputs": [],
   "source": [
    "box_office_not_null = df.query('box_office > 0')"
   ]
  },
  {
   "cell_type": "markdown",
   "metadata": {},
   "source": [
    "А теперь уже выведем нужную нам таблицу"
   ]
  },
  {
   "cell_type": "code",
   "execution_count": null,
   "metadata": {},
   "outputs": [],
   "source": [
    "box_office_per_year_not_null = box_office_not_null.pivot_table(\n",
    "    index = 'release_year',\n",
    "    values = 'box_office',\n",
    "    aggfunc = ['sum', 'mean', 'median']\n",
    "    )\n",
    "box_office_per_year_not_null"
   ]
  },
  {
   "cell_type": "markdown",
   "metadata": {},
   "source": [
    "*Подитог:*\n",
    "\n",
    "Наибольшее среднее видим в 2017 году. Тот же чемпион и по медианным показателям. 2018 - оба раза второй."
   ]
  },
  {
   "cell_type": "markdown",
   "metadata": {},
   "source": [
    "#### Влияние возратсного ограничения"
   ]
  },
  {
   "cell_type": "markdown",
   "metadata": {
    "id": "Ok89WFwJgFyZ"
   },
   "source": [
    "- Определите, влияет ли возрастное ограничение аудитории («6+», «12+», «16+», «18+» и т. д.) на сборы фильма в прокате в период с 2015 по 2019 год? Фильмы с каким возрастным ограничением собрали больше всего денег в прокате? Меняется ли картина в зависимости от года? Если да, предположите, с чем это может быть связано."
   ]
  },
  {
   "cell_type": "markdown",
   "metadata": {},
   "source": [
    "Нам снова необходимо отфильтровать данные больше 0. Однако на этот раз, нас также инетерсуют только те кинополотна, которые выходили в прокат с 2015 по 2019. Снова отфильтруем первоначальный датафрейм"
   ]
  },
  {
   "cell_type": "code",
   "execution_count": null,
   "metadata": {
    "id": "jsSbEqfjgFya"
   },
   "outputs": [],
   "source": [
    "box_office_age_restriction = df.query('(box_office > 0) & (release_year > 2014)')"
   ]
  },
  {
   "cell_type": "markdown",
   "metadata": {},
   "source": [
    "А теперь уж строим сводную таблицу"
   ]
  },
  {
   "cell_type": "code",
   "execution_count": null,
   "metadata": {},
   "outputs": [],
   "source": [
    "box_office_per_year_age_restriction = box_office_age_restriction.pivot_table(\n",
    "    index = ['release_year', 'age_restriction'],\n",
    "    values = 'box_office',\n",
    "    aggfunc = ['sum']\n",
    "    )\n",
    "box_office_per_year_age_restriction"
   ]
  },
  {
   "cell_type": "markdown",
   "metadata": {},
   "source": [
    "*Подитог:*\n",
    "\n",
    "\"0+\" в пролёте по всем годам. Видимо совсем юная аудитория предпочитает другие способы проведения досуга, нежели поход в кино.\n",
    "\n",
    "\"18+\" тоже не шибко блещет. Скорее всего в эту категорию в большинстве своём входят фильмы жанра \"Ужасы\", \"Триллер\" и подобное. А это весьма ограниченная аудитория, по сравнению со многими другими жанрами. \n",
    "\n",
    "\"6+\" часто оказывались 3ми, однако с 2017 года идёт явный рост в этом сегменте. А в 2019 так и вовсе выходит на 1ое место.\n",
    "\n",
    "\"12+\" и \"16+\" как правило идут \"ноздря в ноздрю\" в лидерах кинопроката, хотя в выбранный период у \"16+\" больше почётных первенств.\n",
    "\n",
    "Что примечательно, \"6+\", \"12+\" и \"16+\" практически выровнялись в 2019. Трудно предположить, с чем это может быть связано. Возможно подростки, являющиеся целевой аудиторией кино с рейтингом \"12+\" и \"16+\" стали чаще смотреть кино в интренете и качать его на торрентах. Что, в свою очередь, помогло кинопроизведениям с рейтингом \"6+\" догнать их, и даже выбиться в лидеры. А может в кино просто стали чаще \"крутить мультики\"."
   ]
  },
  {
   "cell_type": "markdown",
   "metadata": {},
   "source": [
    "**Вывод**\n",
    "\n",
    "Итак, что мы выяснили:\n",
    "\n",
    "1. Среди почти половины фильмов, у которых есть данные по сборам, лидируют вышедшие в 2010 году. Не понятно почему, при общем росте прибылей из года в год, в лидерах 2010. Может отчётность в 2010 была прозрачней и доступней;\n",
    "\n",
    "2. До 2015 статистика по суммам сборов видимо собиралась не очень хорошо. Но уже с 2015 видим плавное увеличение показателей общих сборов;\n",
    "\n",
    "3. При вышеуказанном росте прибыли, наибольшее среднее и медианное значение по сборам приходится на 2017 год. Просто интересный факт: В 2016 Netflix запустился и стал доступен для регистрации пользователей в 190 странах мира. А с 2017 ещё и начал программу по поиску фрилансеров для перевода субтитров на более чем 20 языков(включая русский). Возможно тут есть закономерность. Но это не точно;\n",
    "\n",
    "4. С возрастными ограничениями всё довольно закономерно. В топе стабильно идут \"12+\" и \"16+\", т.к. в этом сегменте наибольший разброс жанров(Что называется, на любой вкус и цвет). К тому же \"0+\" ещё не успел подсесть на иглу кинокультуры, а \"18+\" уже предпочитают смотреть кино дома не траятясь на дорогу до кинотеатра и попкорн. Да и разрешение на табак, алкоголь и женщин оказываются довольно губительны для интересов многих киноманов, я полагаю."
   ]
  },
  {
   "cell_type": "markdown",
   "metadata": {
    "id": "l_Kg6Ku4gFya"
   },
   "source": [
    "### Шаг 4. Исследуйте фильмы, которые получили государственную поддержку\n",
    "\n",
    "На этом этапе нет конкретных инструкций и заданий — поищите интересные закономерности в данных. Посмотрите, сколько выделяют средств на поддержку кино. Проверьте, хорошо ли окупаются такие фильмы, какой у них рейтинг."
   ]
  },
  {
   "cell_type": "markdown",
   "metadata": {},
   "source": [
    "Тут начнём, как в некоторых пунктах до этого, с фильтрации датафрейма. Будем смотреть только те данные *budget* которых больше *0*"
   ]
  },
  {
   "cell_type": "code",
   "execution_count": null,
   "metadata": {},
   "outputs": [],
   "source": [
    "df_with_gov_budget = df.loc[df.loc[:, 'budget'] > 0]"
   ]
  },
  {
   "cell_type": "markdown",
   "metadata": {},
   "source": [
    "Взглянем на описательнцю статистику при помощи функции *describe*"
   ]
  },
  {
   "cell_type": "code",
   "execution_count": null,
   "metadata": {},
   "outputs": [],
   "source": [
    "df_with_gov_budget['budget'].describe()"
   ]
  },
  {
   "cell_type": "markdown",
   "metadata": {},
   "source": [
    "Видим, что минимальная гос. поддержка была равна 6 млн., а максимальная - более 2,3 млрд.!\n",
    "Среднее значение составляет свыше 131 млн., а медианное порядка 71 млн."
   ]
  },
  {
   "cell_type": "markdown",
   "metadata": {},
   "source": [
    "**Посмотрим на рейтинги фильмов получавших гос. поддержку**"
   ]
  },
  {
   "cell_type": "markdown",
   "metadata": {},
   "source": [
    "Отфильтруем от нулевых значений и построим гистограмму с количеством оценок"
   ]
  },
  {
   "cell_type": "code",
   "execution_count": null,
   "metadata": {},
   "outputs": [],
   "source": [
    "df_with_budget_and_ratings = df_with_gov_budget.loc[\n",
    "    df_with_gov_budget.loc[:, 'ratings'] > 0]"
   ]
  },
  {
   "cell_type": "code",
   "execution_count": null,
   "metadata": {},
   "outputs": [],
   "source": [
    "df_with_budget_and_ratings.plot.hist(y='ratings', grid=True, title='Рейтинги', bins=10, range=(0, 10), figsize=(12, 5))\n",
    "plt.xlabel('Рейтинг')\n",
    "plt.ylabel('Количество оценок')\n",
    "plt.show()"
   ]
  },
  {
   "cell_type": "markdown",
   "metadata": {},
   "source": [
    "Посомтрим на распределние рейтингов у кино без и с гос. поддержкой"
   ]
  },
  {
   "cell_type": "code",
   "execution_count": null,
   "metadata": {},
   "outputs": [],
   "source": [
    "fig, axes = plt.subplots(1,2, figsize = (14,6))\n",
    "df['ratings'].plot(kind = 'hist',ax = axes[0], title = 'Распределение рейтингов кино')\n",
    "axes[0].set_xlabel('Рейтинг')\n",
    "df[df['budget'] > 0]['ratings'].plot(kind = 'hist',ax = axes[1], title = 'Распределение рейтингов кино с господдержкой')\n",
    "axes[1].set_xlabel('Рейтинг')\n",
    "plt.show()"
   ]
  },
  {
   "cell_type": "markdown",
   "metadata": {},
   "source": [
    "Распределение в рейтингах выглядит крайне схоже"
   ]
  },
  {
   "cell_type": "markdown",
   "metadata": {},
   "source": [
    "**Посмотрим на коммерческую успешность фильмов с государственной поддержкой**"
   ]
  },
  {
   "cell_type": "code",
   "execution_count": null,
   "metadata": {},
   "outputs": [],
   "source": [
    "total_gos_box_office = df[df['budget'] > 0]['box_office'].sum()\n",
    "total_gos_budget = df[df['budget'] > 0]['budget'].sum()\n",
    "print(f'Всего собрали фильмы с гос. поддержкой: {total_gos_box_office:.1f}')\n",
    "print(f'Всего бюджет фильмов с гос. поддержкой: {total_gos_budget:.1f}')"
   ]
  },
  {
   "cell_type": "code",
   "execution_count": null,
   "metadata": {},
   "outputs": [],
   "source": [
    "total_gos_box_office = df[(df['budget'] > 0) & (df['nonrefundable_support'] != 0) & (df['refundable_support'] == 0)]['box_office'].sum()\n",
    "total_gos_budget = df[(df['budget'] > 0) & (df['nonrefundable_support'] != 0) & (df['refundable_support'] == 0)]['budget'].sum()\n",
    "print(f'Всего собрали фильмы только с невозвратной поддержкой: {total_gos_box_office:.1f}')\n",
    "print(f'Всего бюджет фильмов только с невозвратной поддержкой: {total_gos_budget:.1f}')"
   ]
  },
  {
   "cell_type": "code",
   "execution_count": null,
   "metadata": {},
   "outputs": [],
   "source": [
    "total_gos_box_office = df[(df['budget'] > 0) & (df['refundable_support'] != 0) & (df['nonrefundable_support'] == 0)]['box_office'].sum()\n",
    "total_gos_budget = df[(df['budget'] > 0) & (df['refundable_support'] != 0) & (df['nonrefundable_support'] == 0)]['budget'].sum()\n",
    "print(f'Всего собрали фильмы только с возвратной поддержкой: {total_gos_box_office:.1f}')\n",
    "print(f'Всего бюджет фильмов только с возвратной поджеркой: {total_gos_budget:.1f}')"
   ]
  },
  {
   "cell_type": "code",
   "execution_count": null,
   "metadata": {},
   "outputs": [],
   "source": [
    "success_films_total =  df[(df['budget'] > 0)\n",
    "              & (df['box_office'] > df['budget'])]['title'].count()\n",
    "total_gos_films = df[(df['budget'] > 0)]['title'].count()\n",
    "success_part = success_films_total / total_gos_films\n",
    "print(f'Из {total_gos_films} фильмов имели коммерческий успех {success_films_total}, что является {success_part:.1%} от общего числа.')"
   ]
  },
  {
   "cell_type": "markdown",
   "metadata": {},
   "source": [
    "Как правило, фильмы с гос. поддержкой не имели коммерческого успеха и их сборы были меньше затраченных бюджетов. При этом фильмы, которые получали только возвратную поддержку заработали больше, чем потратили. Видимо, когда создателям и заказчикам сильно нужно, они могут заработать. А невозвратная поддержка, похоже, обрисовывает ситуацию с кино, целью которого могут являться просветительская деятельонсть или пропаганда тех или иных взглядов и ценностей. Ну или развитие киноиндустрии в целом(Хотя мне это кажется сомнительной статьёй расходов)"
   ]
  },
  {
   "cell_type": "markdown",
   "metadata": {},
   "source": [
    "Ситуация выглядит не самой радужной. Является ли это следствием высокого уровня коммерческого кинематогрофа, по сравнению с отечественным кино получающим гос. поддержку. Или же к этому привели ошибки создателей нашего кино. В прочем, как говорил товарищ Сталин: \"У каждой ошибки есть имя и фамилия\". Давайте глянем на тех, чьи фильмы чаще других получали гос. поддержку"
   ]
  },
  {
   "cell_type": "code",
   "execution_count": null,
   "metadata": {},
   "outputs": [],
   "source": [
    "df[df['budget'] > 0]['main_director'].value_counts().head(10)"
   ]
  },
  {
   "cell_type": "markdown",
   "metadata": {},
   "source": [
    "Видим, что некоторые режисеры получали поддержку на свои фильмы несколько раз. Чемпион по убеждению чиновников в необходимости гос. финансирования именно его кино - Ренат Давльетьяров (5)."
   ]
  },
  {
   "cell_type": "markdown",
   "metadata": {},
   "source": [
    "В целом можно сделать **вывод**, что господдержка в кино имеет смысл. Такое кино получают свою долю аудитории, через которую государство продвигает какие те свои идеи, несмотря на то, что зачастую такие фильмы не имеют коммерческого успеха. По крайней мере, с таким выводом согласился бы Р. Давлетьяров "
   ]
  },
  {
   "cell_type": "markdown",
   "metadata": {
    "id": "V2gYwMcPgFyd"
   },
   "source": [
    "### Шаг 5. Напишите общий вывод"
   ]
  },
  {
   "cell_type": "markdown",
   "metadata": {},
   "source": [
    "**Резюмируя всё вышеописанное:**\n",
    "\n",
    "Сборы рынка кинопроката в период с 2015 по 2019 год демонстрировали стабильный рост. Видимо поход в кинотеатр для людей является одним из стандартных видов досуга, и они ходят туда независимо от того, какие фильмы идут в данный момент в прокате. Более того, возрастные ограничения не являются преградой для зрителя, т.к. в каждом сегменте представлено множетсво кинопроизведений на любой вкус и цвет. Хотя киноленты для детей и подростков (от 6 до 18 лет) собирают больше.\n",
    "\n",
    "Что касается рейтингов фильмов снятых на государственные деньги, то они немного ниже рейтинга фильмов по всей выборке. Что важнее, коммерческого успеха картины с гос. поддержкой как правило не добиваются, если только это не кинополотна с возвратной поддержкой. Можно сделать вывод, что в том случае, когда поддержка рассматривается как инвестиция с целью получения прибыли - она окупается. В других случаях, видимо, поддержка имеет другую мотивацию. И есть мнение, что этой цели фильмы добиваются(В смысле кто то их всё же смотрит)\n",
    "\n",
    "*Итого:* Фильмы с государственной поддержкой смотрят, хотя их рейтинг и немного ниже, чем рейтинг других фильмов. Полагаю, что практику выдачи государственных денег на съёмки можно продолжать. Хотя, я бы посоветовал подробней рассмотреть критерии отбора подобного кино, чтобы в дальнейшем оно было более успешным(как в плане сборов, так и в вопросе художественной ценности). Возможно стоит дать возможность новым малоизвестным кинотворцам(в прочем, это уже лирика и наше исследование этим впоросом не задавалось)"
   ]
  }
 ],
 "metadata": {
  "ExecuteTimeLog": [
   {
    "duration": 537,
    "start_time": "2021-07-07T10:12:08.634Z"
   },
   {
    "duration": 206,
    "start_time": "2021-07-07T10:12:30.191Z"
   },
   {
    "duration": 227,
    "start_time": "2021-07-07T10:12:33.078Z"
   },
   {
    "duration": 153,
    "start_time": "2021-07-07T10:13:42.146Z"
   },
   {
    "duration": 233,
    "start_time": "2021-07-07T10:30:09.252Z"
   },
   {
    "duration": 19,
    "start_time": "2021-07-07T10:30:15.577Z"
   },
   {
    "duration": 18,
    "start_time": "2021-07-07T10:30:57.348Z"
   },
   {
    "duration": 19,
    "start_time": "2021-07-07T10:31:17.452Z"
   },
   {
    "duration": 21,
    "start_time": "2021-07-07T10:31:32.227Z"
   },
   {
    "duration": 27,
    "start_time": "2021-07-07T10:32:06.588Z"
   },
   {
    "duration": 23,
    "start_time": "2021-07-07T10:32:43.645Z"
   },
   {
    "duration": 24,
    "start_time": "2021-07-07T10:33:06.948Z"
   },
   {
    "duration": 7,
    "start_time": "2021-07-07T10:33:28.558Z"
   },
   {
    "duration": 23,
    "start_time": "2021-07-07T10:33:43.761Z"
   },
   {
    "duration": 28,
    "start_time": "2021-07-07T10:34:13.466Z"
   },
   {
    "duration": 23,
    "start_time": "2021-07-07T10:35:56.187Z"
   },
   {
    "duration": 6,
    "start_time": "2021-07-07T10:36:48.182Z"
   },
   {
    "duration": 14,
    "start_time": "2021-07-07T10:37:49.641Z"
   },
   {
    "duration": 6,
    "start_time": "2021-07-07T10:38:06.694Z"
   },
   {
    "duration": 6,
    "start_time": "2021-07-07T10:38:13.493Z"
   },
   {
    "duration": 19,
    "start_time": "2021-07-07T10:38:44.056Z"
   },
   {
    "duration": 186,
    "start_time": "2021-07-07T10:48:35.618Z"
   },
   {
    "duration": 24,
    "start_time": "2021-07-07T10:48:51.498Z"
   },
   {
    "duration": 20,
    "start_time": "2021-07-07T10:48:59.415Z"
   },
   {
    "duration": 20,
    "start_time": "2021-07-07T10:53:02.195Z"
   },
   {
    "duration": 188,
    "start_time": "2021-07-07T10:54:40.486Z"
   },
   {
    "duration": 115,
    "start_time": "2021-07-07T10:54:52.552Z"
   },
   {
    "duration": 214,
    "start_time": "2021-07-07T10:54:56.354Z"
   },
   {
    "duration": 47,
    "start_time": "2021-07-07T10:54:58.282Z"
   },
   {
    "duration": 217,
    "start_time": "2021-07-07T10:59:16.075Z"
   },
   {
    "duration": 51,
    "start_time": "2021-07-07T10:59:16.243Z"
   },
   {
    "duration": 578,
    "start_time": "2021-07-07T10:59:18.774Z"
   },
   {
    "duration": 161,
    "start_time": "2021-07-07T10:59:21.238Z"
   },
   {
    "duration": 59,
    "start_time": "2021-07-07T10:59:21.453Z"
   },
   {
    "duration": 3,
    "start_time": "2021-07-07T11:02:10.786Z"
   },
   {
    "duration": 13,
    "start_time": "2021-07-07T11:07:07.722Z"
   },
   {
    "duration": 26,
    "start_time": "2021-07-07T11:07:17.958Z"
   },
   {
    "duration": 22,
    "start_time": "2021-07-07T11:08:17.939Z"
   },
   {
    "duration": 212,
    "start_time": "2021-07-07T11:08:19.665Z"
   },
   {
    "duration": 21,
    "start_time": "2021-07-07T11:08:29.945Z"
   },
   {
    "duration": 31,
    "start_time": "2021-07-07T11:08:38.899Z"
   },
   {
    "duration": 23,
    "start_time": "2021-07-07T11:08:54.527Z"
   },
   {
    "duration": 8,
    "start_time": "2021-07-07T11:18:55.974Z"
   },
   {
    "duration": 7,
    "start_time": "2021-07-07T11:19:03.639Z"
   },
   {
    "duration": 7,
    "start_time": "2021-07-07T11:19:06.444Z"
   },
   {
    "duration": 578,
    "start_time": "2021-07-07T12:09:59.576Z"
   },
   {
    "duration": 195,
    "start_time": "2021-07-07T12:10:00.156Z"
   },
   {
    "duration": 115,
    "start_time": "2021-07-07T12:10:00.353Z"
   },
   {
    "duration": 3,
    "start_time": "2021-07-07T12:10:00.470Z"
   },
   {
    "duration": 32,
    "start_time": "2021-07-07T12:10:00.474Z"
   },
   {
    "duration": 23,
    "start_time": "2021-07-07T12:10:00.508Z"
   },
   {
    "duration": 19,
    "start_time": "2021-07-07T12:10:00.533Z"
   },
   {
    "duration": 44,
    "start_time": "2021-07-07T12:10:00.553Z"
   },
   {
    "duration": 7,
    "start_time": "2021-07-07T12:10:00.600Z"
   },
   {
    "duration": 7,
    "start_time": "2021-07-07T12:19:45.761Z"
   },
   {
    "duration": 21,
    "start_time": "2021-07-07T12:21:35.482Z"
   },
   {
    "duration": 21,
    "start_time": "2021-07-07T12:29:23.569Z"
   },
   {
    "duration": 525,
    "start_time": "2021-07-07T12:29:44.542Z"
   },
   {
    "duration": 214,
    "start_time": "2021-07-07T12:29:45.069Z"
   },
   {
    "duration": 92,
    "start_time": "2021-07-07T12:29:45.285Z"
   },
   {
    "duration": 3,
    "start_time": "2021-07-07T12:29:45.379Z"
   },
   {
    "duration": 28,
    "start_time": "2021-07-07T12:29:45.384Z"
   },
   {
    "duration": 23,
    "start_time": "2021-07-07T12:29:45.413Z"
   },
   {
    "duration": 21,
    "start_time": "2021-07-07T12:29:45.437Z"
   },
   {
    "duration": 41,
    "start_time": "2021-07-07T12:29:45.460Z"
   },
   {
    "duration": 7,
    "start_time": "2021-07-07T12:29:45.502Z"
   },
   {
    "duration": 20,
    "start_time": "2021-07-07T12:29:45.511Z"
   },
   {
    "duration": 12,
    "start_time": "2021-07-07T12:34:02.800Z"
   },
   {
    "duration": 7,
    "start_time": "2021-07-07T12:35:10.479Z"
   },
   {
    "duration": 8,
    "start_time": "2021-07-07T12:35:22.440Z"
   },
   {
    "duration": 6,
    "start_time": "2021-07-07T12:35:35.649Z"
   },
   {
    "duration": 6,
    "start_time": "2021-07-07T12:35:43.107Z"
   },
   {
    "duration": 22,
    "start_time": "2021-07-07T12:38:03.029Z"
   },
   {
    "duration": 10,
    "start_time": "2021-07-07T12:38:06.592Z"
   },
   {
    "duration": 563,
    "start_time": "2021-07-07T12:38:46.493Z"
   },
   {
    "duration": 265,
    "start_time": "2021-07-07T12:38:47.058Z"
   },
   {
    "duration": 94,
    "start_time": "2021-07-07T12:38:47.325Z"
   },
   {
    "duration": 3,
    "start_time": "2021-07-07T12:38:47.422Z"
   },
   {
    "duration": 30,
    "start_time": "2021-07-07T12:38:47.427Z"
   },
   {
    "duration": 16,
    "start_time": "2021-07-07T12:38:53.305Z"
   },
   {
    "duration": 10,
    "start_time": "2021-07-07T12:38:53.499Z"
   },
   {
    "duration": 8,
    "start_time": "2021-07-07T12:39:48.161Z"
   },
   {
    "duration": 27,
    "start_time": "2021-07-07T12:41:17.629Z"
   },
   {
    "duration": 17,
    "start_time": "2021-07-07T12:41:17.867Z"
   },
   {
    "duration": 21,
    "start_time": "2021-07-07T12:41:19.310Z"
   },
   {
    "duration": 7,
    "start_time": "2021-07-07T12:41:19.544Z"
   },
   {
    "duration": 20,
    "start_time": "2021-07-07T12:41:20.504Z"
   },
   {
    "duration": 554,
    "start_time": "2021-07-07T12:56:23.696Z"
   },
   {
    "duration": 200,
    "start_time": "2021-07-07T12:56:25.234Z"
   },
   {
    "duration": 119,
    "start_time": "2021-07-07T12:56:25.480Z"
   },
   {
    "duration": 4,
    "start_time": "2021-07-07T12:56:25.762Z"
   },
   {
    "duration": 26,
    "start_time": "2021-07-07T12:56:27.172Z"
   },
   {
    "duration": 12,
    "start_time": "2021-07-07T12:56:29.051Z"
   },
   {
    "duration": 10,
    "start_time": "2021-07-07T12:56:29.291Z"
   },
   {
    "duration": 8,
    "start_time": "2021-07-07T12:56:29.623Z"
   },
   {
    "duration": 28,
    "start_time": "2021-07-07T12:56:32.137Z"
   },
   {
    "duration": 19,
    "start_time": "2021-07-07T12:56:39.785Z"
   },
   {
    "duration": 20,
    "start_time": "2021-07-07T12:56:44.297Z"
   },
   {
    "duration": 7,
    "start_time": "2021-07-07T12:56:45.392Z"
   },
   {
    "duration": 23,
    "start_time": "2021-07-07T12:56:46.615Z"
   },
   {
    "duration": 4,
    "start_time": "2021-07-07T12:57:06.625Z"
   },
   {
    "duration": 32,
    "start_time": "2021-07-07T12:57:36.690Z"
   },
   {
    "duration": 18,
    "start_time": "2021-07-07T12:58:00.149Z"
   },
   {
    "duration": 15,
    "start_time": "2021-07-07T12:59:16.793Z"
   },
   {
    "duration": 7,
    "start_time": "2021-07-07T13:19:22.624Z"
   },
   {
    "duration": 6,
    "start_time": "2021-07-07T14:17:33.527Z"
   },
   {
    "duration": 9,
    "start_time": "2021-07-07T14:17:48.409Z"
   },
   {
    "duration": 8,
    "start_time": "2021-07-07T14:20:13.060Z"
   },
   {
    "duration": 8,
    "start_time": "2021-07-07T14:20:37.957Z"
   },
   {
    "duration": 8,
    "start_time": "2021-07-07T14:20:47.470Z"
   },
   {
    "duration": 9,
    "start_time": "2021-07-07T14:20:54.503Z"
   },
   {
    "duration": 10,
    "start_time": "2021-07-07T14:28:57.763Z"
   },
   {
    "duration": 3,
    "start_time": "2021-07-07T14:30:23.377Z"
   },
   {
    "duration": 3,
    "start_time": "2021-07-07T14:30:36.489Z"
   },
   {
    "duration": 103,
    "start_time": "2021-07-07T14:30:52.351Z"
   },
   {
    "duration": 8,
    "start_time": "2021-07-07T14:30:54.763Z"
   },
   {
    "duration": 8,
    "start_time": "2021-07-07T14:31:29.301Z"
   },
   {
    "duration": 13,
    "start_time": "2021-07-07T14:31:44.516Z"
   },
   {
    "duration": 7,
    "start_time": "2021-07-07T14:33:10.972Z"
   },
   {
    "duration": 11,
    "start_time": "2021-07-07T14:33:27.780Z"
   },
   {
    "duration": 8,
    "start_time": "2021-07-07T14:34:44.588Z"
   },
   {
    "duration": 57,
    "start_time": "2021-07-07T14:35:59.042Z"
   },
   {
    "duration": 3,
    "start_time": "2021-07-07T14:36:28.168Z"
   },
   {
    "duration": 5,
    "start_time": "2021-07-07T14:36:46.254Z"
   },
   {
    "duration": 4,
    "start_time": "2021-07-07T14:36:52.714Z"
   },
   {
    "duration": 3,
    "start_time": "2021-07-07T14:36:56.612Z"
   },
   {
    "duration": 4,
    "start_time": "2021-07-07T14:36:57.049Z"
   },
   {
    "duration": 3,
    "start_time": "2021-07-07T14:39:21.214Z"
   },
   {
    "duration": 7,
    "start_time": "2021-07-07T14:39:52.406Z"
   },
   {
    "duration": 11,
    "start_time": "2021-07-07T14:39:58.576Z"
   },
   {
    "duration": 9,
    "start_time": "2021-07-07T14:40:26.301Z"
   },
   {
    "duration": 10,
    "start_time": "2021-07-07T14:40:31.704Z"
   },
   {
    "duration": 11,
    "start_time": "2021-07-07T14:40:36.249Z"
   },
   {
    "duration": 10,
    "start_time": "2021-07-07T14:40:39.783Z"
   },
   {
    "duration": 9,
    "start_time": "2021-07-07T14:40:48.558Z"
   },
   {
    "duration": 10,
    "start_time": "2021-07-07T14:40:57.143Z"
   },
   {
    "duration": 9,
    "start_time": "2021-07-07T14:41:06.074Z"
   },
   {
    "duration": 4324,
    "start_time": "2021-07-07T14:41:22.004Z"
   },
   {
    "duration": 11,
    "start_time": "2021-07-07T14:41:33.392Z"
   },
   {
    "duration": 9,
    "start_time": "2021-07-07T14:41:39.288Z"
   },
   {
    "duration": 569,
    "start_time": "2021-07-07T14:42:14.387Z"
   },
   {
    "duration": 197,
    "start_time": "2021-07-07T14:42:14.959Z"
   },
   {
    "duration": 84,
    "start_time": "2021-07-07T14:42:16.052Z"
   },
   {
    "duration": 4,
    "start_time": "2021-07-07T14:42:16.900Z"
   },
   {
    "duration": 27,
    "start_time": "2021-07-07T14:42:19.898Z"
   },
   {
    "duration": 12,
    "start_time": "2021-07-07T14:42:21.577Z"
   },
   {
    "duration": 9,
    "start_time": "2021-07-07T14:42:21.813Z"
   },
   {
    "duration": 9,
    "start_time": "2021-07-07T14:42:22.569Z"
   },
   {
    "duration": 29,
    "start_time": "2021-07-07T14:42:25.837Z"
   },
   {
    "duration": 20,
    "start_time": "2021-07-07T14:42:27.003Z"
   },
   {
    "duration": 21,
    "start_time": "2021-07-07T14:42:28.767Z"
   },
   {
    "duration": 7,
    "start_time": "2021-07-07T14:42:29.838Z"
   },
   {
    "duration": 4,
    "start_time": "2021-07-07T14:43:25.493Z"
   },
   {
    "duration": 7,
    "start_time": "2021-07-07T14:43:26.573Z"
   },
   {
    "duration": 10,
    "start_time": "2021-07-07T14:43:31.639Z"
   },
   {
    "duration": 9,
    "start_time": "2021-07-07T14:43:32.046Z"
   },
   {
    "duration": 10,
    "start_time": "2021-07-07T14:43:33.301Z"
   },
   {
    "duration": 12,
    "start_time": "2021-07-07T14:43:33.658Z"
   },
   {
    "duration": 8,
    "start_time": "2021-07-07T14:43:34.552Z"
   },
   {
    "duration": 9,
    "start_time": "2021-07-07T14:43:35.058Z"
   },
   {
    "duration": 12,
    "start_time": "2021-07-07T14:43:35.914Z"
   },
   {
    "duration": 17,
    "start_time": "2021-07-07T14:45:34.368Z"
   },
   {
    "duration": 512,
    "start_time": "2021-07-07T14:51:58.236Z"
   },
   {
    "duration": 223,
    "start_time": "2021-07-07T14:51:58.750Z"
   },
   {
    "duration": 93,
    "start_time": "2021-07-07T14:51:58.977Z"
   },
   {
    "duration": 4,
    "start_time": "2021-07-07T14:51:59.071Z"
   },
   {
    "duration": 37,
    "start_time": "2021-07-07T14:51:59.077Z"
   },
   {
    "duration": 18,
    "start_time": "2021-07-07T14:51:59.116Z"
   },
   {
    "duration": 10,
    "start_time": "2021-07-07T14:51:59.137Z"
   },
   {
    "duration": 8,
    "start_time": "2021-07-07T14:51:59.149Z"
   },
   {
    "duration": 54,
    "start_time": "2021-07-07T14:51:59.158Z"
   },
   {
    "duration": 18,
    "start_time": "2021-07-07T14:51:59.213Z"
   },
   {
    "duration": 22,
    "start_time": "2021-07-07T14:51:59.232Z"
   },
   {
    "duration": 36,
    "start_time": "2021-07-07T14:51:59.255Z"
   },
   {
    "duration": 7,
    "start_time": "2021-07-07T14:51:59.293Z"
   },
   {
    "duration": 10,
    "start_time": "2021-07-07T14:51:59.302Z"
   },
   {
    "duration": 9,
    "start_time": "2021-07-07T14:51:59.313Z"
   },
   {
    "duration": 11,
    "start_time": "2021-07-07T14:51:59.324Z"
   },
   {
    "duration": 8,
    "start_time": "2021-07-07T14:51:59.337Z"
   },
   {
    "duration": 46,
    "start_time": "2021-07-07T14:51:59.347Z"
   },
   {
    "duration": 22,
    "start_time": "2021-07-07T14:51:59.395Z"
   },
   {
    "duration": 24,
    "start_time": "2021-07-07T14:57:32.911Z"
   },
   {
    "duration": 7,
    "start_time": "2021-07-07T14:58:22.070Z"
   },
   {
    "duration": 4,
    "start_time": "2021-07-07T14:59:11.239Z"
   },
   {
    "duration": 25,
    "start_time": "2021-07-07T15:07:22.208Z"
   },
   {
    "duration": 16,
    "start_time": "2021-07-07T15:08:25.560Z"
   },
   {
    "duration": 15,
    "start_time": "2021-07-07T15:08:40.647Z"
   },
   {
    "duration": 14,
    "start_time": "2021-07-07T15:08:46.669Z"
   },
   {
    "duration": 533,
    "start_time": "2021-07-07T15:18:07.440Z"
   },
   {
    "duration": 173,
    "start_time": "2021-07-07T15:18:07.974Z"
   },
   {
    "duration": 84,
    "start_time": "2021-07-07T15:18:08.149Z"
   },
   {
    "duration": 3,
    "start_time": "2021-07-07T15:18:08.235Z"
   },
   {
    "duration": 30,
    "start_time": "2021-07-07T15:18:08.240Z"
   },
   {
    "duration": 22,
    "start_time": "2021-07-07T15:18:08.272Z"
   },
   {
    "duration": 11,
    "start_time": "2021-07-07T15:18:08.295Z"
   },
   {
    "duration": 11,
    "start_time": "2021-07-07T15:18:08.309Z"
   },
   {
    "duration": 40,
    "start_time": "2021-07-07T15:18:08.322Z"
   },
   {
    "duration": 42,
    "start_time": "2021-07-07T15:18:08.364Z"
   },
   {
    "duration": 22,
    "start_time": "2021-07-07T15:18:08.408Z"
   },
   {
    "duration": 5,
    "start_time": "2021-07-07T15:18:08.432Z"
   },
   {
    "duration": 13,
    "start_time": "2021-07-07T15:18:08.439Z"
   },
   {
    "duration": 9,
    "start_time": "2021-07-07T15:18:08.454Z"
   },
   {
    "duration": 32,
    "start_time": "2021-07-07T15:18:08.465Z"
   },
   {
    "duration": 10,
    "start_time": "2021-07-07T15:18:08.501Z"
   },
   {
    "duration": 7,
    "start_time": "2021-07-07T15:18:08.513Z"
   },
   {
    "duration": 11,
    "start_time": "2021-07-07T15:18:08.521Z"
   },
   {
    "duration": 17,
    "start_time": "2021-07-07T15:18:08.534Z"
   },
   {
    "duration": 44,
    "start_time": "2021-07-07T15:18:08.553Z"
   },
   {
    "duration": 22,
    "start_time": "2021-07-07T15:18:08.599Z"
   },
   {
    "duration": 61,
    "start_time": "2021-07-07T15:18:08.622Z"
   },
   {
    "duration": 7,
    "start_time": "2021-07-07T15:18:39.457Z"
   },
   {
    "duration": 5,
    "start_time": "2021-07-07T16:05:17.020Z"
   },
   {
    "duration": 5,
    "start_time": "2021-07-07T16:51:28.794Z"
   },
   {
    "duration": 546,
    "start_time": "2021-07-07T16:52:26.306Z"
   },
   {
    "duration": 203,
    "start_time": "2021-07-07T16:52:27.523Z"
   },
   {
    "duration": 85,
    "start_time": "2021-07-07T16:52:27.736Z"
   },
   {
    "duration": 4,
    "start_time": "2021-07-07T16:52:27.899Z"
   },
   {
    "duration": 25,
    "start_time": "2021-07-07T16:52:28.674Z"
   },
   {
    "duration": 8,
    "start_time": "2021-07-07T16:52:32.956Z"
   },
   {
    "duration": 18,
    "start_time": "2021-07-07T16:52:35.616Z"
   },
   {
    "duration": 6,
    "start_time": "2021-07-07T16:52:36.913Z"
   },
   {
    "duration": 11,
    "start_time": "2021-07-07T16:52:40.258Z"
   },
   {
    "duration": 10,
    "start_time": "2021-07-07T16:52:46.251Z"
   },
   {
    "duration": 8,
    "start_time": "2021-07-07T16:52:47.182Z"
   },
   {
    "duration": 27,
    "start_time": "2021-07-07T16:53:20.391Z"
   },
   {
    "duration": 20,
    "start_time": "2021-07-07T16:53:22.022Z"
   },
   {
    "duration": 23,
    "start_time": "2021-07-07T16:53:23.690Z"
   },
   {
    "duration": 8,
    "start_time": "2021-07-07T16:53:24.261Z"
   },
   {
    "duration": 4,
    "start_time": "2021-07-07T16:53:38.733Z"
   },
   {
    "duration": 7,
    "start_time": "2021-07-07T16:53:40.445Z"
   },
   {
    "duration": 11,
    "start_time": "2021-07-07T16:53:41.348Z"
   },
   {
    "duration": 13,
    "start_time": "2021-07-07T16:53:45.250Z"
   },
   {
    "duration": 12,
    "start_time": "2021-07-07T16:53:45.467Z"
   },
   {
    "duration": 4,
    "start_time": "2021-07-07T16:55:32.704Z"
   },
   {
    "duration": 12,
    "start_time": "2021-07-07T16:55:49.012Z"
   },
   {
    "duration": 18,
    "start_time": "2021-07-07T16:55:49.547Z"
   },
   {
    "duration": 611,
    "start_time": "2021-07-07T16:58:35.156Z"
   },
   {
    "duration": 200,
    "start_time": "2021-07-07T16:58:35.770Z"
   },
   {
    "duration": 86,
    "start_time": "2021-07-07T16:58:35.972Z"
   },
   {
    "duration": 3,
    "start_time": "2021-07-07T16:58:36.060Z"
   },
   {
    "duration": 27,
    "start_time": "2021-07-07T16:58:36.065Z"
   },
   {
    "duration": 8,
    "start_time": "2021-07-07T16:58:36.094Z"
   },
   {
    "duration": 17,
    "start_time": "2021-07-07T16:58:36.103Z"
   },
   {
    "duration": 5,
    "start_time": "2021-07-07T16:58:36.123Z"
   },
   {
    "duration": 11,
    "start_time": "2021-07-07T16:58:36.130Z"
   },
   {
    "duration": 7,
    "start_time": "2021-07-07T16:58:36.143Z"
   },
   {
    "duration": 37,
    "start_time": "2021-07-07T16:58:36.152Z"
   },
   {
    "duration": 27,
    "start_time": "2021-07-07T16:58:36.191Z"
   },
   {
    "duration": 19,
    "start_time": "2021-07-07T16:58:36.219Z"
   },
   {
    "duration": 49,
    "start_time": "2021-07-07T16:58:36.240Z"
   },
   {
    "duration": 6,
    "start_time": "2021-07-07T16:58:36.291Z"
   },
   {
    "duration": 3,
    "start_time": "2021-07-07T16:58:36.299Z"
   },
   {
    "duration": 13,
    "start_time": "2021-07-07T16:58:36.304Z"
   },
   {
    "duration": 10,
    "start_time": "2021-07-07T16:58:36.319Z"
   },
   {
    "duration": 10,
    "start_time": "2021-07-07T16:58:36.331Z"
   },
   {
    "duration": 44,
    "start_time": "2021-07-07T16:58:36.343Z"
   },
   {
    "duration": 4,
    "start_time": "2021-07-07T16:58:36.388Z"
   },
   {
    "duration": 13,
    "start_time": "2021-07-07T16:58:36.394Z"
   },
   {
    "duration": 16,
    "start_time": "2021-07-07T16:58:36.410Z"
   },
   {
    "duration": 8,
    "start_time": "2021-07-07T17:02:31.629Z"
   },
   {
    "duration": 8,
    "start_time": "2021-07-07T17:02:34.308Z"
   },
   {
    "duration": 6,
    "start_time": "2021-07-07T17:05:13.483Z"
   },
   {
    "duration": 17,
    "start_time": "2021-07-07T17:05:20.606Z"
   },
   {
    "duration": 7,
    "start_time": "2021-07-07T17:05:34.638Z"
   },
   {
    "duration": 3,
    "start_time": "2021-07-07T17:06:31.883Z"
   },
   {
    "duration": 570,
    "start_time": "2021-07-07T17:06:37.165Z"
   },
   {
    "duration": 174,
    "start_time": "2021-07-07T17:06:37.737Z"
   },
   {
    "duration": 47,
    "start_time": "2021-07-07T17:06:37.913Z"
   },
   {
    "duration": 3,
    "start_time": "2021-07-07T17:06:37.962Z"
   },
   {
    "duration": 27,
    "start_time": "2021-07-07T17:06:37.967Z"
   },
   {
    "duration": 7,
    "start_time": "2021-07-07T17:06:37.996Z"
   },
   {
    "duration": 16,
    "start_time": "2021-07-07T17:06:38.005Z"
   },
   {
    "duration": 6,
    "start_time": "2021-07-07T17:06:38.024Z"
   },
   {
    "duration": 12,
    "start_time": "2021-07-07T17:06:38.031Z"
   },
   {
    "duration": 41,
    "start_time": "2021-07-07T17:06:38.045Z"
   },
   {
    "duration": 8,
    "start_time": "2021-07-07T17:06:38.088Z"
   },
   {
    "duration": 26,
    "start_time": "2021-07-07T17:06:38.098Z"
   },
   {
    "duration": 17,
    "start_time": "2021-07-07T17:06:38.126Z"
   },
   {
    "duration": 43,
    "start_time": "2021-07-07T17:06:38.144Z"
   },
   {
    "duration": 6,
    "start_time": "2021-07-07T17:06:38.188Z"
   },
   {
    "duration": 5,
    "start_time": "2021-07-07T17:06:38.195Z"
   },
   {
    "duration": 9,
    "start_time": "2021-07-07T17:06:38.201Z"
   },
   {
    "duration": 12,
    "start_time": "2021-07-07T17:06:38.212Z"
   },
   {
    "duration": 11,
    "start_time": "2021-07-07T17:06:38.226Z"
   },
   {
    "duration": 47,
    "start_time": "2021-07-07T17:06:38.239Z"
   },
   {
    "duration": 4,
    "start_time": "2021-07-07T17:06:38.288Z"
   },
   {
    "duration": 13,
    "start_time": "2021-07-07T17:06:38.293Z"
   },
   {
    "duration": 5,
    "start_time": "2021-07-07T17:06:38.309Z"
   },
   {
    "duration": 18,
    "start_time": "2021-07-07T17:06:38.325Z"
   },
   {
    "duration": 20,
    "start_time": "2021-07-07T17:07:02.805Z"
   },
   {
    "duration": 19,
    "start_time": "2021-07-07T17:07:08.527Z"
   },
   {
    "duration": 19,
    "start_time": "2021-07-07T17:07:12.758Z"
   },
   {
    "duration": 22,
    "start_time": "2021-07-07T17:07:17.497Z"
   },
   {
    "duration": 19,
    "start_time": "2021-07-07T17:07:19.645Z"
   },
   {
    "duration": 10,
    "start_time": "2021-07-07T17:07:34.239Z"
   },
   {
    "duration": 17,
    "start_time": "2021-07-07T17:07:54.144Z"
   },
   {
    "duration": 14,
    "start_time": "2021-07-07T17:08:14.357Z"
   },
   {
    "duration": 616,
    "start_time": "2021-07-07T17:08:45.254Z"
   },
   {
    "duration": 178,
    "start_time": "2021-07-07T17:08:45.872Z"
   },
   {
    "duration": 60,
    "start_time": "2021-07-07T17:08:46.054Z"
   },
   {
    "duration": 3,
    "start_time": "2021-07-07T17:08:46.116Z"
   },
   {
    "duration": 26,
    "start_time": "2021-07-07T17:08:46.121Z"
   },
   {
    "duration": 7,
    "start_time": "2021-07-07T17:08:46.149Z"
   },
   {
    "duration": 17,
    "start_time": "2021-07-07T17:08:46.158Z"
   },
   {
    "duration": 14,
    "start_time": "2021-07-07T17:08:46.176Z"
   },
   {
    "duration": 17,
    "start_time": "2021-07-07T17:08:46.193Z"
   },
   {
    "duration": 9,
    "start_time": "2021-07-07T17:08:46.211Z"
   },
   {
    "duration": 21,
    "start_time": "2021-07-07T17:08:46.221Z"
   },
   {
    "duration": 49,
    "start_time": "2021-07-07T17:08:46.244Z"
   },
   {
    "duration": 24,
    "start_time": "2021-07-07T17:08:46.295Z"
   },
   {
    "duration": 22,
    "start_time": "2021-07-07T17:08:46.321Z"
   },
   {
    "duration": 6,
    "start_time": "2021-07-07T17:08:46.345Z"
   },
   {
    "duration": 5,
    "start_time": "2021-07-07T17:08:46.353Z"
   },
   {
    "duration": 13,
    "start_time": "2021-07-07T17:08:46.386Z"
   },
   {
    "duration": 12,
    "start_time": "2021-07-07T17:08:46.402Z"
   },
   {
    "duration": 10,
    "start_time": "2021-07-07T17:08:46.415Z"
   },
   {
    "duration": 7,
    "start_time": "2021-07-07T17:08:46.427Z"
   },
   {
    "duration": 8,
    "start_time": "2021-07-07T17:08:46.435Z"
   },
   {
    "duration": 68,
    "start_time": "2021-07-07T17:08:46.446Z"
   },
   {
    "duration": 13,
    "start_time": "2021-07-07T17:08:46.516Z"
   },
   {
    "duration": 78,
    "start_time": "2021-07-07T17:08:46.530Z"
   },
   {
    "duration": 40,
    "start_time": "2021-07-07T17:09:08.185Z"
   },
   {
    "duration": 16,
    "start_time": "2021-07-07T17:09:19.324Z"
   },
   {
    "duration": 21,
    "start_time": "2021-07-07T17:09:23.290Z"
   },
   {
    "duration": 13,
    "start_time": "2021-07-07T17:09:54.812Z"
   },
   {
    "duration": 13,
    "start_time": "2021-07-07T17:10:02.039Z"
   },
   {
    "duration": 10,
    "start_time": "2021-07-07T17:10:29.632Z"
   },
   {
    "duration": 13,
    "start_time": "2021-07-07T17:10:52.372Z"
   },
   {
    "duration": 13,
    "start_time": "2021-07-07T17:11:17.270Z"
   },
   {
    "duration": 13,
    "start_time": "2021-07-07T17:14:59.284Z"
   },
   {
    "duration": 547,
    "start_time": "2021-07-07T17:18:52.403Z"
   },
   {
    "duration": 163,
    "start_time": "2021-07-07T17:18:52.952Z"
   },
   {
    "duration": 44,
    "start_time": "2021-07-07T17:18:53.117Z"
   },
   {
    "duration": 3,
    "start_time": "2021-07-07T17:18:53.162Z"
   },
   {
    "duration": 26,
    "start_time": "2021-07-07T17:18:53.167Z"
   },
   {
    "duration": 6,
    "start_time": "2021-07-07T17:18:53.195Z"
   },
   {
    "duration": 15,
    "start_time": "2021-07-07T17:18:53.203Z"
   },
   {
    "duration": 5,
    "start_time": "2021-07-07T17:18:53.220Z"
   },
   {
    "duration": 11,
    "start_time": "2021-07-07T17:18:53.228Z"
   },
   {
    "duration": 9,
    "start_time": "2021-07-07T17:18:53.241Z"
   },
   {
    "duration": 41,
    "start_time": "2021-07-07T17:18:53.252Z"
   },
   {
    "duration": 33,
    "start_time": "2021-07-07T17:18:53.295Z"
   },
   {
    "duration": 19,
    "start_time": "2021-07-07T17:18:53.330Z"
   },
   {
    "duration": 49,
    "start_time": "2021-07-07T17:18:53.350Z"
   },
   {
    "duration": 5,
    "start_time": "2021-07-07T17:18:53.401Z"
   },
   {
    "duration": 5,
    "start_time": "2021-07-07T17:18:53.408Z"
   },
   {
    "duration": 11,
    "start_time": "2021-07-07T17:18:53.414Z"
   },
   {
    "duration": 9,
    "start_time": "2021-07-07T17:18:53.427Z"
   },
   {
    "duration": 10,
    "start_time": "2021-07-07T17:18:53.437Z"
   },
   {
    "duration": 39,
    "start_time": "2021-07-07T17:18:53.448Z"
   },
   {
    "duration": 26,
    "start_time": "2021-07-07T17:18:55.799Z"
   },
   {
    "duration": 598,
    "start_time": "2021-07-07T17:20:17.862Z"
   },
   {
    "duration": 161,
    "start_time": "2021-07-07T17:20:18.462Z"
   },
   {
    "duration": 45,
    "start_time": "2021-07-07T17:20:18.626Z"
   },
   {
    "duration": 4,
    "start_time": "2021-07-07T17:20:18.673Z"
   },
   {
    "duration": 38,
    "start_time": "2021-07-07T17:20:26.877Z"
   },
   {
    "duration": 7,
    "start_time": "2021-07-07T17:20:37.405Z"
   },
   {
    "duration": 19,
    "start_time": "2021-07-07T17:20:51.534Z"
   },
   {
    "duration": 5,
    "start_time": "2021-07-07T17:20:57.228Z"
   },
   {
    "duration": 7,
    "start_time": "2021-07-07T17:21:08.235Z"
   },
   {
    "duration": 19,
    "start_time": "2021-07-07T17:21:42.158Z"
   },
   {
    "duration": 14,
    "start_time": "2021-07-07T17:21:50.225Z"
   },
   {
    "duration": 22,
    "start_time": "2021-07-07T17:22:54.104Z"
   },
   {
    "duration": 5,
    "start_time": "2021-07-07T17:22:56.371Z"
   },
   {
    "duration": 14,
    "start_time": "2021-07-07T17:22:58.316Z"
   },
   {
    "duration": 5,
    "start_time": "2021-07-07T17:22:58.493Z"
   },
   {
    "duration": 35,
    "start_time": "2021-07-07T17:22:59.666Z"
   },
   {
    "duration": 6,
    "start_time": "2021-07-07T17:23:02.410Z"
   },
   {
    "duration": 611,
    "start_time": "2021-07-07T17:24:59.664Z"
   },
   {
    "duration": 178,
    "start_time": "2021-07-07T17:25:01.945Z"
   },
   {
    "duration": 47,
    "start_time": "2021-07-07T17:25:02.125Z"
   },
   {
    "duration": 2,
    "start_time": "2021-07-07T17:25:07.903Z"
   },
   {
    "duration": 254,
    "start_time": "2021-07-07T17:25:08.232Z"
   },
   {
    "duration": 182,
    "start_time": "2021-07-07T17:25:08.671Z"
   },
   {
    "duration": 6,
    "start_time": "2021-07-07T17:25:13.104Z"
   },
   {
    "duration": 36,
    "start_time": "2021-07-07T17:25:13.662Z"
   },
   {
    "duration": 7,
    "start_time": "2021-07-07T17:25:14.528Z"
   },
   {
    "duration": 24,
    "start_time": "2021-07-07T17:25:27.982Z"
   },
   {
    "duration": 3,
    "start_time": "2021-07-07T17:25:48.982Z"
   },
   {
    "duration": 165,
    "start_time": "2021-07-07T17:25:48.987Z"
   },
   {
    "duration": 50,
    "start_time": "2021-07-07T17:25:49.154Z"
   },
   {
    "duration": 4,
    "start_time": "2021-07-07T17:25:49.206Z"
   },
   {
    "duration": 26,
    "start_time": "2021-07-07T17:25:49.212Z"
   },
   {
    "duration": 7,
    "start_time": "2021-07-07T17:25:49.240Z"
   },
   {
    "duration": 16,
    "start_time": "2021-07-07T17:25:49.249Z"
   },
   {
    "duration": 22,
    "start_time": "2021-07-07T17:25:49.266Z"
   },
   {
    "duration": 16,
    "start_time": "2021-07-07T17:25:49.291Z"
   },
   {
    "duration": 9,
    "start_time": "2021-07-07T17:25:49.309Z"
   },
   {
    "duration": 7,
    "start_time": "2021-07-07T17:25:49.319Z"
   },
   {
    "duration": 28,
    "start_time": "2021-07-07T17:25:49.328Z"
   },
   {
    "duration": 44,
    "start_time": "2021-07-07T17:25:49.357Z"
   },
   {
    "duration": 22,
    "start_time": "2021-07-07T17:25:49.403Z"
   },
   {
    "duration": 7,
    "start_time": "2021-07-07T17:25:49.427Z"
   },
   {
    "duration": 3,
    "start_time": "2021-07-07T17:25:49.436Z"
   },
   {
    "duration": 44,
    "start_time": "2021-07-07T17:25:49.441Z"
   },
   {
    "duration": 12,
    "start_time": "2021-07-07T17:25:49.488Z"
   },
   {
    "duration": 13,
    "start_time": "2021-07-07T17:25:49.502Z"
   },
   {
    "duration": 10,
    "start_time": "2021-07-07T17:25:49.516Z"
   },
   {
    "duration": 62,
    "start_time": "2021-07-07T17:25:49.527Z"
   },
   {
    "duration": 26,
    "start_time": "2021-07-07T17:26:51.809Z"
   },
   {
    "duration": 26,
    "start_time": "2021-07-07T17:26:55.759Z"
   },
   {
    "duration": 26,
    "start_time": "2021-07-07T17:27:04.501Z"
   },
   {
    "duration": 25,
    "start_time": "2021-07-07T17:28:24.859Z"
   },
   {
    "duration": 21,
    "start_time": "2021-07-07T17:28:55.250Z"
   },
   {
    "duration": 21,
    "start_time": "2021-07-07T17:28:58.885Z"
   },
   {
    "duration": 7,
    "start_time": "2021-07-07T17:45:40.972Z"
   },
   {
    "duration": 13,
    "start_time": "2021-07-07T17:45:42.529Z"
   },
   {
    "duration": 27,
    "start_time": "2021-07-07T17:45:51.026Z"
   },
   {
    "duration": 518,
    "start_time": "2021-07-07T17:46:15.532Z"
   },
   {
    "duration": 235,
    "start_time": "2021-07-07T17:46:16.053Z"
   },
   {
    "duration": 80,
    "start_time": "2021-07-07T17:46:16.292Z"
   },
   {
    "duration": 5,
    "start_time": "2021-07-07T17:46:16.373Z"
   },
   {
    "duration": 26,
    "start_time": "2021-07-07T17:46:16.380Z"
   },
   {
    "duration": 7,
    "start_time": "2021-07-07T17:46:16.408Z"
   },
   {
    "duration": 16,
    "start_time": "2021-07-07T17:46:16.418Z"
   },
   {
    "duration": 5,
    "start_time": "2021-07-07T17:46:16.436Z"
   },
   {
    "duration": 13,
    "start_time": "2021-07-07T17:46:16.442Z"
   },
   {
    "duration": 35,
    "start_time": "2021-07-07T17:46:16.456Z"
   },
   {
    "duration": 8,
    "start_time": "2021-07-07T17:46:16.493Z"
   },
   {
    "duration": 28,
    "start_time": "2021-07-07T17:46:16.502Z"
   },
   {
    "duration": 17,
    "start_time": "2021-07-07T17:46:16.532Z"
   },
   {
    "duration": 44,
    "start_time": "2021-07-07T17:46:16.551Z"
   },
   {
    "duration": 6,
    "start_time": "2021-07-07T17:46:16.597Z"
   },
   {
    "duration": 4,
    "start_time": "2021-07-07T17:46:16.605Z"
   },
   {
    "duration": 9,
    "start_time": "2021-07-07T17:46:16.610Z"
   },
   {
    "duration": 9,
    "start_time": "2021-07-07T17:46:16.621Z"
   },
   {
    "duration": 10,
    "start_time": "2021-07-07T17:46:16.632Z"
   },
   {
    "duration": 43,
    "start_time": "2021-07-07T17:46:16.644Z"
   },
   {
    "duration": 26,
    "start_time": "2021-07-07T17:46:16.689Z"
   },
   {
    "duration": 19,
    "start_time": "2021-07-07T17:46:16.718Z"
   },
   {
    "duration": 8,
    "start_time": "2021-07-07T17:46:16.738Z"
   },
   {
    "duration": 43,
    "start_time": "2021-07-07T17:46:16.747Z"
   },
   {
    "duration": 19,
    "start_time": "2021-07-07T17:46:16.791Z"
   },
   {
    "duration": 9,
    "start_time": "2021-07-07T17:46:16.812Z"
   },
   {
    "duration": 60,
    "start_time": "2021-07-07T17:46:16.822Z"
   },
   {
    "duration": -8,
    "start_time": "2021-07-07T17:46:16.892Z"
   },
   {
    "duration": 12,
    "start_time": "2021-07-07T17:48:47.707Z"
   },
   {
    "duration": 553,
    "start_time": "2021-07-07T18:10:09.350Z"
   },
   {
    "duration": 230,
    "start_time": "2021-07-07T18:10:09.905Z"
   },
   {
    "duration": 97,
    "start_time": "2021-07-07T18:10:10.137Z"
   },
   {
    "duration": 5,
    "start_time": "2021-07-07T18:10:10.236Z"
   },
   {
    "duration": 29,
    "start_time": "2021-07-07T18:10:10.242Z"
   },
   {
    "duration": 7,
    "start_time": "2021-07-07T18:10:10.272Z"
   },
   {
    "duration": 15,
    "start_time": "2021-07-07T18:10:10.281Z"
   },
   {
    "duration": 4,
    "start_time": "2021-07-07T18:10:10.299Z"
   },
   {
    "duration": 14,
    "start_time": "2021-07-07T18:10:10.305Z"
   },
   {
    "duration": 8,
    "start_time": "2021-07-07T18:10:10.321Z"
   },
   {
    "duration": 8,
    "start_time": "2021-07-07T18:10:10.331Z"
   },
   {
    "duration": 56,
    "start_time": "2021-07-07T18:10:10.341Z"
   },
   {
    "duration": 19,
    "start_time": "2021-07-07T18:10:10.399Z"
   },
   {
    "duration": 23,
    "start_time": "2021-07-07T18:10:10.419Z"
   },
   {
    "duration": 6,
    "start_time": "2021-07-07T18:10:10.444Z"
   },
   {
    "duration": 9,
    "start_time": "2021-07-07T18:10:10.451Z"
   },
   {
    "duration": 30,
    "start_time": "2021-07-07T18:10:10.462Z"
   },
   {
    "duration": 9,
    "start_time": "2021-07-07T18:10:10.494Z"
   },
   {
    "duration": 14,
    "start_time": "2021-07-07T18:10:10.505Z"
   },
   {
    "duration": 7,
    "start_time": "2021-07-07T18:10:10.521Z"
   },
   {
    "duration": 26,
    "start_time": "2021-07-07T18:10:10.530Z"
   },
   {
    "duration": 44,
    "start_time": "2021-07-07T18:10:10.558Z"
   },
   {
    "duration": 7,
    "start_time": "2021-07-07T18:10:10.605Z"
   },
   {
    "duration": 11,
    "start_time": "2021-07-07T18:10:10.614Z"
   },
   {
    "duration": 19,
    "start_time": "2021-07-07T18:10:10.626Z"
   },
   {
    "duration": 44,
    "start_time": "2021-07-07T18:10:10.646Z"
   },
   {
    "duration": 516,
    "start_time": "2021-07-07T18:14:00.826Z"
   },
   {
    "duration": 230,
    "start_time": "2021-07-07T18:14:01.344Z"
   },
   {
    "duration": 105,
    "start_time": "2021-07-07T18:14:01.576Z"
   },
   {
    "duration": 5,
    "start_time": "2021-07-07T18:14:01.683Z"
   },
   {
    "duration": 46,
    "start_time": "2021-07-07T18:14:01.690Z"
   },
   {
    "duration": 7,
    "start_time": "2021-07-07T18:14:01.738Z"
   },
   {
    "duration": 20,
    "start_time": "2021-07-07T18:14:01.747Z"
   },
   {
    "duration": 16,
    "start_time": "2021-07-07T18:14:01.769Z"
   },
   {
    "duration": 14,
    "start_time": "2021-07-07T18:14:01.787Z"
   },
   {
    "duration": 15,
    "start_time": "2021-07-07T18:14:01.803Z"
   },
   {
    "duration": 12,
    "start_time": "2021-07-07T18:14:01.820Z"
   },
   {
    "duration": 35,
    "start_time": "2021-07-07T18:14:01.833Z"
   },
   {
    "duration": 31,
    "start_time": "2021-07-07T18:14:01.869Z"
   },
   {
    "duration": 37,
    "start_time": "2021-07-07T18:14:01.902Z"
   },
   {
    "duration": 8,
    "start_time": "2021-07-07T18:14:01.942Z"
   },
   {
    "duration": 16,
    "start_time": "2021-07-07T18:14:01.952Z"
   },
   {
    "duration": 13,
    "start_time": "2021-07-07T18:14:01.970Z"
   },
   {
    "duration": 32,
    "start_time": "2021-07-07T18:14:01.985Z"
   },
   {
    "duration": 11,
    "start_time": "2021-07-07T18:14:02.019Z"
   },
   {
    "duration": 22,
    "start_time": "2021-07-07T18:14:02.031Z"
   },
   {
    "duration": 27,
    "start_time": "2021-07-07T18:14:02.055Z"
   },
   {
    "duration": 18,
    "start_time": "2021-07-07T18:14:02.084Z"
   },
   {
    "duration": 18,
    "start_time": "2021-07-07T18:14:02.106Z"
   },
   {
    "duration": 11,
    "start_time": "2021-07-07T18:14:02.126Z"
   },
   {
    "duration": 21,
    "start_time": "2021-07-07T18:14:02.138Z"
   },
   {
    "duration": 32,
    "start_time": "2021-07-07T18:14:02.161Z"
   },
   {
    "duration": 28,
    "start_time": "2021-07-07T18:14:44.295Z"
   },
   {
    "duration": 6,
    "start_time": "2021-07-07T18:15:05.834Z"
   },
   {
    "duration": 511,
    "start_time": "2021-07-07T18:15:41.541Z"
   },
   {
    "duration": 183,
    "start_time": "2021-07-07T18:15:42.054Z"
   },
   {
    "duration": 50,
    "start_time": "2021-07-07T18:15:42.239Z"
   },
   {
    "duration": 5,
    "start_time": "2021-07-07T18:15:42.291Z"
   },
   {
    "duration": 48,
    "start_time": "2021-07-07T18:15:42.297Z"
   },
   {
    "duration": 8,
    "start_time": "2021-07-07T18:15:42.346Z"
   },
   {
    "duration": 17,
    "start_time": "2021-07-07T18:15:42.356Z"
   },
   {
    "duration": 15,
    "start_time": "2021-07-07T18:15:42.375Z"
   },
   {
    "duration": 12,
    "start_time": "2021-07-07T18:15:42.392Z"
   },
   {
    "duration": 7,
    "start_time": "2021-07-07T18:15:42.406Z"
   },
   {
    "duration": 7,
    "start_time": "2021-07-07T18:15:42.415Z"
   },
   {
    "duration": 29,
    "start_time": "2021-07-07T18:15:42.423Z"
   },
   {
    "duration": 43,
    "start_time": "2021-07-07T18:15:42.453Z"
   },
   {
    "duration": 18,
    "start_time": "2021-07-07T18:15:42.497Z"
   },
   {
    "duration": 6,
    "start_time": "2021-07-07T18:15:42.516Z"
   },
   {
    "duration": 3,
    "start_time": "2021-07-07T18:15:42.523Z"
   },
   {
    "duration": 18,
    "start_time": "2021-07-07T18:15:42.528Z"
   },
   {
    "duration": 10,
    "start_time": "2021-07-07T18:15:42.547Z"
   },
   {
    "duration": 36,
    "start_time": "2021-07-07T18:15:42.559Z"
   },
   {
    "duration": 8,
    "start_time": "2021-07-07T18:15:42.597Z"
   },
   {
    "duration": 28,
    "start_time": "2021-07-07T18:15:42.606Z"
   },
   {
    "duration": 52,
    "start_time": "2021-07-07T18:15:42.635Z"
   },
   {
    "duration": 7,
    "start_time": "2021-07-07T18:15:42.690Z"
   },
   {
    "duration": 10,
    "start_time": "2021-07-07T18:15:42.699Z"
   },
   {
    "duration": 19,
    "start_time": "2021-07-07T18:15:42.711Z"
   },
   {
    "duration": 9,
    "start_time": "2021-07-07T18:15:42.732Z"
   },
   {
    "duration": 5,
    "start_time": "2021-07-07T18:15:42.743Z"
   },
   {
    "duration": 1450,
    "start_time": "2021-07-07T18:15:51.984Z"
   },
   {
    "duration": 161,
    "start_time": "2021-07-07T18:15:53.435Z"
   },
   {
    "duration": 124,
    "start_time": "2021-07-07T18:15:53.598Z"
   },
   {
    "duration": 5,
    "start_time": "2021-07-07T18:15:53.724Z"
   },
   {
    "duration": 34,
    "start_time": "2021-07-07T18:15:53.730Z"
   },
   {
    "duration": 7,
    "start_time": "2021-07-07T18:15:53.765Z"
   },
   {
    "duration": 15,
    "start_time": "2021-07-07T18:15:53.773Z"
   },
   {
    "duration": 5,
    "start_time": "2021-07-07T18:15:53.791Z"
   },
   {
    "duration": 19,
    "start_time": "2021-07-07T18:15:53.798Z"
   },
   {
    "duration": 9,
    "start_time": "2021-07-07T18:15:53.818Z"
   },
   {
    "duration": 19,
    "start_time": "2021-07-07T18:15:53.828Z"
   },
   {
    "duration": 27,
    "start_time": "2021-07-07T18:15:53.848Z"
   },
   {
    "duration": 16,
    "start_time": "2021-07-07T18:15:53.884Z"
   },
   {
    "duration": 29,
    "start_time": "2021-07-07T18:15:53.901Z"
   },
   {
    "duration": 5,
    "start_time": "2021-07-07T18:15:53.932Z"
   },
   {
    "duration": 15,
    "start_time": "2021-07-07T18:15:53.939Z"
   },
   {
    "duration": 13,
    "start_time": "2021-07-07T18:15:53.956Z"
   },
   {
    "duration": 20,
    "start_time": "2021-07-07T18:15:53.971Z"
   },
   {
    "duration": 14,
    "start_time": "2021-07-07T18:15:53.992Z"
   },
   {
    "duration": 9,
    "start_time": "2021-07-07T18:15:54.009Z"
   },
   {
    "duration": 28,
    "start_time": "2021-07-07T18:15:54.020Z"
   },
   {
    "duration": 50,
    "start_time": "2021-07-07T18:15:54.051Z"
   },
   {
    "duration": 8,
    "start_time": "2021-07-07T18:15:54.105Z"
   },
   {
    "duration": 11,
    "start_time": "2021-07-07T18:15:54.115Z"
   },
   {
    "duration": 20,
    "start_time": "2021-07-07T18:15:54.128Z"
   },
   {
    "duration": 13,
    "start_time": "2021-07-07T18:15:54.184Z"
   },
   {
    "duration": 7,
    "start_time": "2021-07-07T18:15:54.199Z"
   },
   {
    "duration": 7,
    "start_time": "2021-07-07T18:17:08.042Z"
   },
   {
    "duration": 8,
    "start_time": "2021-07-07T18:17:21.008Z"
   },
   {
    "duration": 7,
    "start_time": "2021-07-07T18:17:29.003Z"
   },
   {
    "duration": 8,
    "start_time": "2021-07-07T18:17:32.492Z"
   },
   {
    "duration": 9,
    "start_time": "2021-07-07T18:17:41.758Z"
   },
   {
    "duration": 255,
    "start_time": "2021-07-07T18:20:20.897Z"
   },
   {
    "duration": 173,
    "start_time": "2021-07-07T18:20:26.636Z"
   },
   {
    "duration": 7,
    "start_time": "2021-07-07T18:21:47.164Z"
   },
   {
    "duration": 254,
    "start_time": "2021-07-07T18:23:08.703Z"
   },
   {
    "duration": 21,
    "start_time": "2021-07-07T18:23:22.506Z"
   },
   {
    "duration": 315,
    "start_time": "2021-07-07T18:25:54.801Z"
   },
   {
    "duration": 34,
    "start_time": "2021-07-07T18:26:51.817Z"
   },
   {
    "duration": 327,
    "start_time": "2021-07-07T18:26:56.147Z"
   },
   {
    "duration": 342,
    "start_time": "2021-07-07T18:27:15.887Z"
   },
   {
    "duration": 302,
    "start_time": "2021-07-07T18:28:18.569Z"
   },
   {
    "duration": 226,
    "start_time": "2021-07-07T18:29:20.879Z"
   },
   {
    "duration": 207,
    "start_time": "2021-07-07T18:29:58.114Z"
   },
   {
    "duration": 140,
    "start_time": "2021-07-07T18:32:04.372Z"
   },
   {
    "duration": 158,
    "start_time": "2021-07-07T18:32:32.508Z"
   },
   {
    "duration": 145,
    "start_time": "2021-07-07T18:32:41.365Z"
   },
   {
    "duration": 132,
    "start_time": "2021-07-07T18:32:45.199Z"
   },
   {
    "duration": 11,
    "start_time": "2021-07-07T18:35:24.679Z"
   },
   {
    "duration": 268,
    "start_time": "2021-07-07T18:36:16.145Z"
   },
   {
    "duration": 227,
    "start_time": "2021-07-07T18:37:04.918Z"
   },
   {
    "duration": 3,
    "start_time": "2021-07-07T18:37:33.012Z"
   },
   {
    "duration": 671,
    "start_time": "2021-07-07T18:37:38.295Z"
   },
   {
    "duration": 54,
    "start_time": "2021-07-07T18:37:53.406Z"
   },
   {
    "duration": 631,
    "start_time": "2021-07-07T18:37:56.463Z"
   },
   {
    "duration": 19,
    "start_time": "2021-07-07T18:39:40.535Z"
   },
   {
    "duration": 20,
    "start_time": "2021-07-07T18:40:12.236Z"
   },
   {
    "duration": 633,
    "start_time": "2021-07-07T18:42:00.398Z"
   },
   {
    "duration": 218,
    "start_time": "2021-07-07T18:42:01.033Z"
   },
   {
    "duration": 49,
    "start_time": "2021-07-07T18:42:01.253Z"
   },
   {
    "duration": 5,
    "start_time": "2021-07-07T18:42:01.303Z"
   },
   {
    "duration": 27,
    "start_time": "2021-07-07T18:42:01.310Z"
   },
   {
    "duration": 8,
    "start_time": "2021-07-07T18:42:01.339Z"
   },
   {
    "duration": 20,
    "start_time": "2021-07-07T18:42:01.348Z"
   },
   {
    "duration": 6,
    "start_time": "2021-07-07T18:42:01.386Z"
   },
   {
    "duration": 16,
    "start_time": "2021-07-07T18:42:01.394Z"
   },
   {
    "duration": 9,
    "start_time": "2021-07-07T18:42:01.411Z"
   },
   {
    "duration": 11,
    "start_time": "2021-07-07T18:42:01.421Z"
   },
   {
    "duration": 31,
    "start_time": "2021-07-07T18:42:01.434Z"
   },
   {
    "duration": 18,
    "start_time": "2021-07-07T18:42:01.485Z"
   },
   {
    "duration": 23,
    "start_time": "2021-07-07T18:42:01.505Z"
   },
   {
    "duration": 6,
    "start_time": "2021-07-07T18:42:01.530Z"
   },
   {
    "duration": 10,
    "start_time": "2021-07-07T18:42:01.538Z"
   },
   {
    "duration": 13,
    "start_time": "2021-07-07T18:42:01.550Z"
   },
   {
    "duration": 24,
    "start_time": "2021-07-07T18:42:01.564Z"
   },
   {
    "duration": 20,
    "start_time": "2021-07-07T18:42:01.590Z"
   },
   {
    "duration": 8,
    "start_time": "2021-07-07T18:42:01.611Z"
   },
   {
    "duration": 31,
    "start_time": "2021-07-07T18:42:01.620Z"
   },
   {
    "duration": 39,
    "start_time": "2021-07-07T18:42:01.653Z"
   },
   {
    "duration": 8,
    "start_time": "2021-07-07T18:42:01.696Z"
   },
   {
    "duration": 13,
    "start_time": "2021-07-07T18:42:01.705Z"
   },
   {
    "duration": 20,
    "start_time": "2021-07-07T18:42:01.720Z"
   },
   {
    "duration": 12,
    "start_time": "2021-07-07T18:42:01.741Z"
   },
   {
    "duration": 35,
    "start_time": "2021-07-07T18:42:01.755Z"
   },
   {
    "duration": 14,
    "start_time": "2021-07-07T18:42:01.792Z"
   },
   {
    "duration": 188,
    "start_time": "2021-07-07T18:42:01.808Z"
   },
   {
    "duration": 19,
    "start_time": "2021-07-07T18:42:01.998Z"
   },
   {
    "duration": 175,
    "start_time": "2021-07-07T18:42:02.019Z"
   },
   {
    "duration": 134,
    "start_time": "2021-07-07T18:42:02.196Z"
   },
   {
    "duration": 10,
    "start_time": "2021-07-07T18:42:02.331Z"
   },
   {
    "duration": 19,
    "start_time": "2021-07-07T18:42:02.343Z"
   },
   {
    "duration": 628,
    "start_time": "2021-07-07T18:46:30.701Z"
   },
   {
    "duration": 183,
    "start_time": "2021-07-07T18:46:31.331Z"
   },
   {
    "duration": 48,
    "start_time": "2021-07-07T18:46:31.516Z"
   },
   {
    "duration": 5,
    "start_time": "2021-07-07T18:46:31.566Z"
   },
   {
    "duration": 28,
    "start_time": "2021-07-07T18:46:31.572Z"
   },
   {
    "duration": 8,
    "start_time": "2021-07-07T18:46:31.602Z"
   },
   {
    "duration": 19,
    "start_time": "2021-07-07T18:46:31.611Z"
   },
   {
    "duration": 6,
    "start_time": "2021-07-07T18:46:31.633Z"
   },
   {
    "duration": 17,
    "start_time": "2021-07-07T18:46:31.642Z"
   },
   {
    "duration": 10,
    "start_time": "2021-07-07T18:46:31.684Z"
   },
   {
    "duration": 9,
    "start_time": "2021-07-07T18:46:31.695Z"
   },
   {
    "duration": 28,
    "start_time": "2021-07-07T18:46:31.705Z"
   },
   {
    "duration": 18,
    "start_time": "2021-07-07T18:46:31.735Z"
   },
   {
    "duration": 48,
    "start_time": "2021-07-07T18:46:31.755Z"
   },
   {
    "duration": 6,
    "start_time": "2021-07-07T18:46:31.804Z"
   },
   {
    "duration": 4,
    "start_time": "2021-07-07T18:46:31.812Z"
   },
   {
    "duration": 9,
    "start_time": "2021-07-07T18:46:31.817Z"
   },
   {
    "duration": 10,
    "start_time": "2021-07-07T18:46:31.827Z"
   },
   {
    "duration": 12,
    "start_time": "2021-07-07T18:46:31.838Z"
   },
   {
    "duration": 39,
    "start_time": "2021-07-07T18:46:31.851Z"
   },
   {
    "duration": 24,
    "start_time": "2021-07-07T18:46:31.892Z"
   },
   {
    "duration": 15,
    "start_time": "2021-07-07T18:46:31.918Z"
   },
   {
    "duration": 7,
    "start_time": "2021-07-07T18:46:31.936Z"
   },
   {
    "duration": 8,
    "start_time": "2021-07-07T18:46:31.944Z"
   },
   {
    "duration": 19,
    "start_time": "2021-07-07T18:46:31.984Z"
   },
   {
    "duration": 10,
    "start_time": "2021-07-07T18:46:32.004Z"
   },
   {
    "duration": 5,
    "start_time": "2021-07-07T18:46:32.016Z"
   },
   {
    "duration": 9,
    "start_time": "2021-07-07T18:46:32.023Z"
   },
   {
    "duration": 199,
    "start_time": "2021-07-07T18:46:32.033Z"
   },
   {
    "duration": 19,
    "start_time": "2021-07-07T18:46:32.234Z"
   },
   {
    "duration": 159,
    "start_time": "2021-07-07T18:46:32.255Z"
   },
   {
    "duration": 134,
    "start_time": "2021-07-07T18:46:32.416Z"
   },
   {
    "duration": 10,
    "start_time": "2021-07-07T18:46:32.552Z"
   },
   {
    "duration": 34,
    "start_time": "2021-07-07T18:46:32.563Z"
   },
   {
    "duration": 1039,
    "start_time": "2021-07-08T08:41:09.419Z"
   },
   {
    "duration": 333,
    "start_time": "2021-07-08T08:41:10.459Z"
   },
   {
    "duration": 173,
    "start_time": "2021-07-08T08:41:10.794Z"
   },
   {
    "duration": 5,
    "start_time": "2021-07-08T08:41:10.968Z"
   },
   {
    "duration": 25,
    "start_time": "2021-07-08T08:41:10.975Z"
   },
   {
    "duration": 9,
    "start_time": "2021-07-08T08:41:11.002Z"
   },
   {
    "duration": 18,
    "start_time": "2021-07-08T08:41:11.013Z"
   },
   {
    "duration": 6,
    "start_time": "2021-07-08T08:41:11.033Z"
   },
   {
    "duration": 44,
    "start_time": "2021-07-08T08:41:11.042Z"
   },
   {
    "duration": 10,
    "start_time": "2021-07-08T08:41:11.088Z"
   },
   {
    "duration": 9,
    "start_time": "2021-07-08T08:41:11.100Z"
   },
   {
    "duration": 27,
    "start_time": "2021-07-08T08:41:11.111Z"
   },
   {
    "duration": 46,
    "start_time": "2021-07-08T08:41:11.140Z"
   },
   {
    "duration": 17,
    "start_time": "2021-07-08T08:41:11.187Z"
   },
   {
    "duration": 6,
    "start_time": "2021-07-08T08:41:11.206Z"
   },
   {
    "duration": 5,
    "start_time": "2021-07-08T08:41:11.213Z"
   },
   {
    "duration": 10,
    "start_time": "2021-07-08T08:41:11.219Z"
   },
   {
    "duration": 9,
    "start_time": "2021-07-08T08:41:11.230Z"
   },
   {
    "duration": 45,
    "start_time": "2021-07-08T08:41:11.241Z"
   },
   {
    "duration": 7,
    "start_time": "2021-07-08T08:41:11.287Z"
   },
   {
    "duration": 24,
    "start_time": "2021-07-08T08:41:11.296Z"
   },
   {
    "duration": 16,
    "start_time": "2021-07-08T08:41:11.322Z"
   },
   {
    "duration": 7,
    "start_time": "2021-07-08T08:41:11.341Z"
   },
   {
    "duration": 41,
    "start_time": "2021-07-08T08:41:11.349Z"
   },
   {
    "duration": 17,
    "start_time": "2021-07-08T08:41:11.391Z"
   },
   {
    "duration": 9,
    "start_time": "2021-07-08T08:41:11.410Z"
   },
   {
    "duration": 5,
    "start_time": "2021-07-08T08:41:11.421Z"
   },
   {
    "duration": 6,
    "start_time": "2021-07-08T08:41:11.428Z"
   },
   {
    "duration": 198,
    "start_time": "2021-07-08T08:41:11.435Z"
   },
   {
    "duration": 18,
    "start_time": "2021-07-08T08:41:11.635Z"
   },
   {
    "duration": 155,
    "start_time": "2021-07-08T08:41:11.655Z"
   },
   {
    "duration": 138,
    "start_time": "2021-07-08T08:41:11.811Z"
   },
   {
    "duration": 10,
    "start_time": "2021-07-08T08:41:11.950Z"
   },
   {
    "duration": 29,
    "start_time": "2021-07-08T08:41:11.961Z"
   },
   {
    "duration": 171,
    "start_time": "2021-07-08T08:47:44.522Z"
   },
   {
    "duration": 124,
    "start_time": "2021-07-08T08:47:46.872Z"
   },
   {
    "duration": 191,
    "start_time": "2021-07-08T08:47:58.148Z"
   },
   {
    "duration": 191,
    "start_time": "2021-07-08T08:48:07.412Z"
   },
   {
    "duration": 261,
    "start_time": "2021-07-08T08:48:10.385Z"
   },
   {
    "duration": 255,
    "start_time": "2021-07-08T08:48:14.494Z"
   },
   {
    "duration": 219,
    "start_time": "2021-07-08T08:48:22.752Z"
   },
   {
    "duration": 173,
    "start_time": "2021-07-08T08:49:06.395Z"
   },
   {
    "duration": 180,
    "start_time": "2021-07-08T08:49:21.011Z"
   },
   {
    "duration": 6,
    "start_time": "2021-07-08T08:50:31.697Z"
   },
   {
    "duration": 10,
    "start_time": "2021-07-08T08:50:47.394Z"
   },
   {
    "duration": 11,
    "start_time": "2021-07-08T08:53:49.332Z"
   },
   {
    "duration": 171,
    "start_time": "2021-07-08T08:54:28.408Z"
   },
   {
    "duration": 636,
    "start_time": "2021-07-08T09:02:48.385Z"
   },
   {
    "duration": 227,
    "start_time": "2021-07-08T09:02:49.023Z"
   },
   {
    "duration": 104,
    "start_time": "2021-07-08T09:02:49.252Z"
   },
   {
    "duration": 5,
    "start_time": "2021-07-08T09:02:49.358Z"
   },
   {
    "duration": 27,
    "start_time": "2021-07-08T09:02:49.365Z"
   },
   {
    "duration": 8,
    "start_time": "2021-07-08T09:02:49.394Z"
   },
   {
    "duration": 18,
    "start_time": "2021-07-08T09:02:49.404Z"
   },
   {
    "duration": 6,
    "start_time": "2021-07-08T09:02:49.424Z"
   },
   {
    "duration": 11,
    "start_time": "2021-07-08T09:02:49.433Z"
   },
   {
    "duration": 13,
    "start_time": "2021-07-08T09:02:49.485Z"
   },
   {
    "duration": 9,
    "start_time": "2021-07-08T09:02:49.500Z"
   },
   {
    "duration": 38,
    "start_time": "2021-07-08T09:02:49.511Z"
   },
   {
    "duration": 42,
    "start_time": "2021-07-08T09:02:49.551Z"
   },
   {
    "duration": 21,
    "start_time": "2021-07-08T09:02:49.594Z"
   },
   {
    "duration": 6,
    "start_time": "2021-07-08T09:02:49.616Z"
   },
   {
    "duration": 3,
    "start_time": "2021-07-08T09:02:49.623Z"
   },
   {
    "duration": 9,
    "start_time": "2021-07-08T09:02:49.628Z"
   },
   {
    "duration": 52,
    "start_time": "2021-07-08T09:02:49.638Z"
   },
   {
    "duration": 11,
    "start_time": "2021-07-08T09:02:49.692Z"
   },
   {
    "duration": 8,
    "start_time": "2021-07-08T09:02:49.704Z"
   },
   {
    "duration": 27,
    "start_time": "2021-07-08T09:02:49.713Z"
   },
   {
    "duration": 59,
    "start_time": "2021-07-08T09:02:49.741Z"
   },
   {
    "duration": 8,
    "start_time": "2021-07-08T09:02:49.803Z"
   },
   {
    "duration": 14,
    "start_time": "2021-07-08T09:02:49.813Z"
   },
   {
    "duration": 20,
    "start_time": "2021-07-08T09:02:49.829Z"
   },
   {
    "duration": 44,
    "start_time": "2021-07-08T09:02:49.851Z"
   },
   {
    "duration": 14,
    "start_time": "2021-07-08T09:02:49.896Z"
   },
   {
    "duration": 221,
    "start_time": "2021-07-08T09:02:49.912Z"
   },
   {
    "duration": 6,
    "start_time": "2021-07-08T09:02:50.134Z"
   },
   {
    "duration": 206,
    "start_time": "2021-07-08T09:02:50.142Z"
   },
   {
    "duration": 19,
    "start_time": "2021-07-08T09:02:50.350Z"
   },
   {
    "duration": 21,
    "start_time": "2021-07-08T09:02:50.370Z"
   },
   {
    "duration": 20,
    "start_time": "2021-07-08T09:02:50.393Z"
   },
   {
    "duration": 5,
    "start_time": "2021-07-08T09:02:50.414Z"
   },
   {
    "duration": 5,
    "start_time": "2021-07-08T09:03:34.173Z"
   },
   {
    "duration": 6,
    "start_time": "2021-07-08T09:04:49.062Z"
   },
   {
    "duration": 9,
    "start_time": "2021-07-08T09:04:50.118Z"
   },
   {
    "duration": 14,
    "start_time": "2021-07-08T09:04:58.512Z"
   },
   {
    "duration": 9,
    "start_time": "2021-07-08T09:05:10.988Z"
   },
   {
    "duration": 11,
    "start_time": "2021-07-08T09:05:11.743Z"
   },
   {
    "duration": 7,
    "start_time": "2021-07-08T09:05:25.677Z"
   },
   {
    "duration": 13,
    "start_time": "2021-07-08T09:05:47.189Z"
   },
   {
    "duration": 13,
    "start_time": "2021-07-08T09:05:54.755Z"
   },
   {
    "duration": 4,
    "start_time": "2021-07-08T09:06:29.189Z"
   },
   {
    "duration": 244,
    "start_time": "2021-07-08T09:06:29.195Z"
   },
   {
    "duration": 91,
    "start_time": "2021-07-08T09:06:29.441Z"
   },
   {
    "duration": 4,
    "start_time": "2021-07-08T09:06:29.534Z"
   },
   {
    "duration": 28,
    "start_time": "2021-07-08T09:06:29.540Z"
   },
   {
    "duration": 6,
    "start_time": "2021-07-08T09:06:29.570Z"
   },
   {
    "duration": 18,
    "start_time": "2021-07-08T09:06:29.578Z"
   },
   {
    "duration": 5,
    "start_time": "2021-07-08T09:06:29.597Z"
   },
   {
    "duration": 13,
    "start_time": "2021-07-08T09:06:29.605Z"
   },
   {
    "duration": 8,
    "start_time": "2021-07-08T09:06:29.620Z"
   },
   {
    "duration": 7,
    "start_time": "2021-07-08T09:06:29.630Z"
   },
   {
    "duration": 63,
    "start_time": "2021-07-08T09:06:29.639Z"
   },
   {
    "duration": 17,
    "start_time": "2021-07-08T09:06:29.704Z"
   },
   {
    "duration": 20,
    "start_time": "2021-07-08T09:06:29.723Z"
   },
   {
    "duration": 6,
    "start_time": "2021-07-08T09:06:29.745Z"
   },
   {
    "duration": 3,
    "start_time": "2021-07-08T09:06:29.752Z"
   },
   {
    "duration": 7,
    "start_time": "2021-07-08T09:06:29.785Z"
   },
   {
    "duration": 11,
    "start_time": "2021-07-08T09:06:29.794Z"
   },
   {
    "duration": 15,
    "start_time": "2021-07-08T09:06:29.807Z"
   },
   {
    "duration": 8,
    "start_time": "2021-07-08T09:06:29.823Z"
   },
   {
    "duration": 70,
    "start_time": "2021-07-08T09:06:29.832Z"
   },
   {
    "duration": 17,
    "start_time": "2021-07-08T09:06:29.903Z"
   },
   {
    "duration": 9,
    "start_time": "2021-07-08T09:06:29.921Z"
   },
   {
    "duration": 9,
    "start_time": "2021-07-08T09:06:29.932Z"
   },
   {
    "duration": 57,
    "start_time": "2021-07-08T09:06:29.942Z"
   },
   {
    "duration": 11,
    "start_time": "2021-07-08T09:06:30.001Z"
   },
   {
    "duration": 19,
    "start_time": "2021-07-08T09:06:30.016Z"
   },
   {
    "duration": 217,
    "start_time": "2021-07-08T09:06:30.037Z"
   },
   {
    "duration": 6,
    "start_time": "2021-07-08T09:06:30.255Z"
   },
   {
    "duration": 205,
    "start_time": "2021-07-08T09:06:30.263Z"
   },
   {
    "duration": 27,
    "start_time": "2021-07-08T09:06:30.470Z"
   },
   {
    "duration": 11,
    "start_time": "2021-07-08T09:06:30.500Z"
   },
   {
    "duration": 31,
    "start_time": "2021-07-08T09:06:30.513Z"
   },
   {
    "duration": 18,
    "start_time": "2021-07-08T09:06:30.546Z"
   },
   {
    "duration": 11,
    "start_time": "2021-07-08T09:06:30.566Z"
   },
   {
    "duration": 19,
    "start_time": "2021-07-08T09:06:30.579Z"
   },
   {
    "duration": 20,
    "start_time": "2021-07-08T09:06:49.466Z"
   },
   {
    "duration": 9,
    "start_time": "2021-07-08T09:06:51.994Z"
   },
   {
    "duration": 20,
    "start_time": "2021-07-08T09:06:52.273Z"
   },
   {
    "duration": 246,
    "start_time": "2021-07-08T09:10:21.272Z"
   },
   {
    "duration": 84,
    "start_time": "2021-07-08T09:10:21.436Z"
   },
   {
    "duration": 7,
    "start_time": "2021-07-08T09:10:37.608Z"
   },
   {
    "duration": 189,
    "start_time": "2021-07-08T09:10:38.573Z"
   },
   {
    "duration": 185,
    "start_time": "2021-07-08T09:10:53.181Z"
   },
   {
    "duration": 11,
    "start_time": "2021-07-08T09:10:59.549Z"
   },
   {
    "duration": 42,
    "start_time": "2021-07-08T09:10:59.709Z"
   },
   {
    "duration": 12,
    "start_time": "2021-07-08T09:11:02.857Z"
   },
   {
    "duration": 28,
    "start_time": "2021-07-08T09:11:10.062Z"
   },
   {
    "duration": 249,
    "start_time": "2021-07-08T09:11:37.388Z"
   },
   {
    "duration": 232,
    "start_time": "2021-07-08T09:11:49.485Z"
   },
   {
    "duration": 453,
    "start_time": "2021-07-08T09:12:01.546Z"
   },
   {
    "duration": 440,
    "start_time": "2021-07-08T09:12:12.347Z"
   },
   {
    "duration": 213,
    "start_time": "2021-07-08T09:13:32.196Z"
   },
   {
    "duration": 172,
    "start_time": "2021-07-08T09:14:07.400Z"
   },
   {
    "duration": 185,
    "start_time": "2021-07-08T09:14:14.905Z"
   },
   {
    "duration": 209,
    "start_time": "2021-07-08T09:14:40.109Z"
   },
   {
    "duration": 201,
    "start_time": "2021-07-08T09:14:54.506Z"
   },
   {
    "duration": 622,
    "start_time": "2021-07-08T09:18:14.497Z"
   },
   {
    "duration": 220,
    "start_time": "2021-07-08T09:18:15.121Z"
   },
   {
    "duration": 79,
    "start_time": "2021-07-08T09:18:15.343Z"
   },
   {
    "duration": 4,
    "start_time": "2021-07-08T09:18:15.425Z"
   },
   {
    "duration": 24,
    "start_time": "2021-07-08T09:18:15.431Z"
   },
   {
    "duration": 8,
    "start_time": "2021-07-08T09:18:15.457Z"
   },
   {
    "duration": 16,
    "start_time": "2021-07-08T09:18:15.466Z"
   },
   {
    "duration": 5,
    "start_time": "2021-07-08T09:18:15.484Z"
   },
   {
    "duration": 10,
    "start_time": "2021-07-08T09:18:15.493Z"
   },
   {
    "duration": 8,
    "start_time": "2021-07-08T09:18:15.504Z"
   },
   {
    "duration": 7,
    "start_time": "2021-07-08T09:18:15.513Z"
   },
   {
    "duration": 26,
    "start_time": "2021-07-08T09:18:15.522Z"
   },
   {
    "duration": 49,
    "start_time": "2021-07-08T09:18:15.550Z"
   },
   {
    "duration": 21,
    "start_time": "2021-07-08T09:18:15.601Z"
   },
   {
    "duration": 8,
    "start_time": "2021-07-08T09:18:15.624Z"
   },
   {
    "duration": 3,
    "start_time": "2021-07-08T09:18:15.634Z"
   },
   {
    "duration": 8,
    "start_time": "2021-07-08T09:18:15.639Z"
   },
   {
    "duration": 45,
    "start_time": "2021-07-08T09:18:15.649Z"
   },
   {
    "duration": 13,
    "start_time": "2021-07-08T09:18:15.696Z"
   },
   {
    "duration": 10,
    "start_time": "2021-07-08T09:18:15.711Z"
   },
   {
    "duration": 64,
    "start_time": "2021-07-08T09:18:15.722Z"
   },
   {
    "duration": 19,
    "start_time": "2021-07-08T09:18:15.788Z"
   },
   {
    "duration": 9,
    "start_time": "2021-07-08T09:18:15.809Z"
   },
   {
    "duration": 9,
    "start_time": "2021-07-08T09:18:15.820Z"
   },
   {
    "duration": 18,
    "start_time": "2021-07-08T09:18:15.831Z"
   },
   {
    "duration": 43,
    "start_time": "2021-07-08T09:18:15.851Z"
   },
   {
    "duration": 12,
    "start_time": "2021-07-08T09:18:15.897Z"
   },
   {
    "duration": 219,
    "start_time": "2021-07-08T09:18:15.911Z"
   },
   {
    "duration": 8,
    "start_time": "2021-07-08T09:18:16.132Z"
   },
   {
    "duration": 199,
    "start_time": "2021-07-08T09:18:16.141Z"
   },
   {
    "duration": 18,
    "start_time": "2021-07-08T09:18:16.341Z"
   },
   {
    "duration": 24,
    "start_time": "2021-07-08T09:18:16.361Z"
   },
   {
    "duration": 24,
    "start_time": "2021-07-08T09:18:16.387Z"
   },
   {
    "duration": 211,
    "start_time": "2021-07-08T09:18:16.413Z"
   },
   {
    "duration": 18,
    "start_time": "2021-07-08T09:18:16.626Z"
   },
   {
    "duration": 596,
    "start_time": "2021-07-08T10:06:33.623Z"
   },
   {
    "duration": 181,
    "start_time": "2021-07-08T10:06:34.221Z"
   },
   {
    "duration": 176,
    "start_time": "2021-07-08T10:06:34.635Z"
   },
   {
    "duration": 239,
    "start_time": "2021-07-08T10:06:55.572Z"
   },
   {
    "duration": 6,
    "start_time": "2021-07-08T10:06:57.687Z"
   },
   {
    "duration": 4,
    "start_time": "2021-07-08T10:07:03.956Z"
   },
   {
    "duration": 4,
    "start_time": "2021-07-08T10:07:10.376Z"
   },
   {
    "duration": 4,
    "start_time": "2021-07-08T10:17:19.889Z"
   },
   {
    "duration": 3,
    "start_time": "2021-07-08T10:19:19.407Z"
   },
   {
    "duration": 197,
    "start_time": "2021-07-08T10:19:19.412Z"
   },
   {
    "duration": 127,
    "start_time": "2021-07-08T10:19:19.611Z"
   },
   {
    "duration": 4,
    "start_time": "2021-07-08T10:19:19.740Z"
   },
   {
    "duration": 27,
    "start_time": "2021-07-08T10:19:19.746Z"
   },
   {
    "duration": 7,
    "start_time": "2021-07-08T10:19:19.775Z"
   },
   {
    "duration": 30,
    "start_time": "2021-07-08T10:19:19.784Z"
   },
   {
    "duration": 7,
    "start_time": "2021-07-08T10:19:19.817Z"
   },
   {
    "duration": 26,
    "start_time": "2021-07-08T10:19:19.826Z"
   },
   {
    "duration": 18,
    "start_time": "2021-07-08T10:19:19.854Z"
   },
   {
    "duration": 14,
    "start_time": "2021-07-08T10:19:19.874Z"
   },
   {
    "duration": 48,
    "start_time": "2021-07-08T10:19:19.890Z"
   },
   {
    "duration": 17,
    "start_time": "2021-07-08T10:19:19.940Z"
   },
   {
    "duration": 38,
    "start_time": "2021-07-08T10:19:19.959Z"
   },
   {
    "duration": 8,
    "start_time": "2021-07-08T10:19:19.999Z"
   },
   {
    "duration": 15,
    "start_time": "2021-07-08T10:19:20.009Z"
   },
   {
    "duration": 22,
    "start_time": "2021-07-08T10:19:20.026Z"
   },
   {
    "duration": 10,
    "start_time": "2021-07-08T10:19:20.050Z"
   },
   {
    "duration": 10,
    "start_time": "2021-07-08T10:19:20.062Z"
   },
   {
    "duration": 20,
    "start_time": "2021-07-08T10:19:20.073Z"
   },
   {
    "duration": 29,
    "start_time": "2021-07-08T10:19:20.095Z"
   },
   {
    "duration": 17,
    "start_time": "2021-07-08T10:19:20.126Z"
   },
   {
    "duration": 40,
    "start_time": "2021-07-08T10:19:20.146Z"
   },
   {
    "duration": 15,
    "start_time": "2021-07-08T10:19:20.189Z"
   },
   {
    "duration": 19,
    "start_time": "2021-07-08T10:19:20.206Z"
   },
   {
    "duration": 10,
    "start_time": "2021-07-08T10:19:20.226Z"
   },
   {
    "duration": 11,
    "start_time": "2021-07-08T10:19:20.238Z"
   },
   {
    "duration": 297,
    "start_time": "2021-07-08T10:19:20.250Z"
   },
   {
    "duration": 6,
    "start_time": "2021-07-08T10:19:20.549Z"
   },
   {
    "duration": 191,
    "start_time": "2021-07-08T10:19:20.557Z"
   },
   {
    "duration": 19,
    "start_time": "2021-07-08T10:19:20.750Z"
   },
   {
    "duration": 20,
    "start_time": "2021-07-08T10:19:20.771Z"
   },
   {
    "duration": 15,
    "start_time": "2021-07-08T10:19:20.793Z"
   },
   {
    "duration": 222,
    "start_time": "2021-07-08T10:19:20.809Z"
   },
   {
    "duration": 20,
    "start_time": "2021-07-08T10:19:21.033Z"
   },
   {
    "duration": 27,
    "start_time": "2021-07-08T10:45:04.055Z"
   },
   {
    "duration": 8,
    "start_time": "2021-07-08T10:45:08.478Z"
   },
   {
    "duration": 8,
    "start_time": "2021-07-08T10:45:31.982Z"
   },
   {
    "duration": 10,
    "start_time": "2021-07-08T10:46:01.221Z"
   },
   {
    "duration": 17,
    "start_time": "2021-07-08T10:46:40.011Z"
   },
   {
    "duration": 193,
    "start_time": "2021-07-08T10:48:19.471Z"
   },
   {
    "duration": 225,
    "start_time": "2021-07-08T10:49:26.480Z"
   },
   {
    "duration": 204,
    "start_time": "2021-07-08T10:49:59.992Z"
   },
   {
    "duration": 435,
    "start_time": "2021-07-08T10:50:06.779Z"
   },
   {
    "duration": 199,
    "start_time": "2021-07-08T10:50:14.891Z"
   },
   {
    "duration": 204,
    "start_time": "2021-07-08T10:50:18.501Z"
   },
   {
    "duration": 244,
    "start_time": "2021-07-08T10:50:23.359Z"
   },
   {
    "duration": 192,
    "start_time": "2021-07-08T10:50:29.135Z"
   },
   {
    "duration": 218,
    "start_time": "2021-07-08T10:50:33.092Z"
   },
   {
    "duration": 207,
    "start_time": "2021-07-08T10:52:45.381Z"
   },
   {
    "duration": 5,
    "start_time": "2021-07-08T10:53:34.641Z"
   },
   {
    "duration": 196,
    "start_time": "2021-07-08T10:53:41.478Z"
   },
   {
    "duration": 43,
    "start_time": "2021-07-08T10:53:50.335Z"
   },
   {
    "duration": 32,
    "start_time": "2021-07-08T10:53:55.294Z"
   },
   {
    "duration": 55,
    "start_time": "2021-07-08T10:54:09.675Z"
   },
   {
    "duration": 16,
    "start_time": "2021-07-08T10:54:12.260Z"
   },
   {
    "duration": 15,
    "start_time": "2021-07-08T10:54:49.150Z"
   },
   {
    "duration": 20,
    "start_time": "2021-07-08T10:56:07.596Z"
   },
   {
    "duration": 16,
    "start_time": "2021-07-08T10:58:26.276Z"
   },
   {
    "duration": 22,
    "start_time": "2021-07-08T10:59:00.486Z"
   },
   {
    "duration": 18,
    "start_time": "2021-07-08T11:02:09.653Z"
   },
   {
    "duration": 10,
    "start_time": "2021-07-08T11:03:44.331Z"
   },
   {
    "duration": 10,
    "start_time": "2021-07-08T11:03:54.055Z"
   },
   {
    "duration": 12,
    "start_time": "2021-07-08T11:04:41.967Z"
   },
   {
    "duration": 24,
    "start_time": "2021-07-08T11:07:30.732Z"
   },
   {
    "duration": 6,
    "start_time": "2021-07-08T11:07:37.364Z"
   },
   {
    "duration": 16,
    "start_time": "2021-07-08T11:08:01.819Z"
   },
   {
    "duration": 17,
    "start_time": "2021-07-08T11:09:47.488Z"
   },
   {
    "duration": 246,
    "start_time": "2021-07-08T11:10:00.830Z"
   },
   {
    "duration": 18,
    "start_time": "2021-07-08T11:13:55.195Z"
   },
   {
    "duration": 204,
    "start_time": "2021-07-08T11:14:04.951Z"
   },
   {
    "duration": 19,
    "start_time": "2021-07-08T11:15:10.613Z"
   },
   {
    "duration": 680,
    "start_time": "2021-07-08T11:16:25.793Z"
   },
   {
    "duration": 451,
    "start_time": "2021-07-08T11:16:40.313Z"
   },
   {
    "duration": 469,
    "start_time": "2021-07-08T11:17:21.286Z"
   },
   {
    "duration": 20,
    "start_time": "2021-07-08T11:19:12.554Z"
   },
   {
    "duration": 35,
    "start_time": "2021-07-08T11:20:05.484Z"
   },
   {
    "duration": 53,
    "start_time": "2021-07-08T11:21:40.050Z"
   },
   {
    "duration": 13,
    "start_time": "2021-07-08T11:22:26.059Z"
   },
   {
    "duration": 19,
    "start_time": "2021-07-08T11:22:47.419Z"
   },
   {
    "duration": 25,
    "start_time": "2021-07-08T11:23:19.958Z"
   },
   {
    "duration": 29,
    "start_time": "2021-07-08T11:23:25.415Z"
   },
   {
    "duration": 10,
    "start_time": "2021-07-08T11:24:45.138Z"
   },
   {
    "duration": 19,
    "start_time": "2021-07-08T11:24:54.498Z"
   },
   {
    "duration": 12,
    "start_time": "2021-07-08T11:25:32.225Z"
   },
   {
    "duration": 19,
    "start_time": "2021-07-08T11:25:37.092Z"
   },
   {
    "duration": 17,
    "start_time": "2021-07-08T11:25:58.116Z"
   },
   {
    "duration": 15,
    "start_time": "2021-07-08T11:26:02.258Z"
   },
   {
    "duration": 8,
    "start_time": "2021-07-08T11:26:59.682Z"
   },
   {
    "duration": 184,
    "start_time": "2021-07-08T11:27:21.894Z"
   },
   {
    "duration": 8,
    "start_time": "2021-07-08T11:27:23.824Z"
   },
   {
    "duration": 202,
    "start_time": "2021-07-08T11:27:23.962Z"
   },
   {
    "duration": 360,
    "start_time": "2021-07-08T11:28:33.215Z"
   },
   {
    "duration": 231,
    "start_time": "2021-07-08T11:32:05.542Z"
   },
   {
    "duration": 607,
    "start_time": "2021-07-08T11:36:27.854Z"
   },
   {
    "duration": 241,
    "start_time": "2021-07-08T11:36:28.463Z"
   },
   {
    "duration": 67,
    "start_time": "2021-07-08T11:36:28.709Z"
   },
   {
    "duration": 5,
    "start_time": "2021-07-08T11:36:28.778Z"
   },
   {
    "duration": 32,
    "start_time": "2021-07-08T11:36:28.784Z"
   },
   {
    "duration": 11,
    "start_time": "2021-07-08T11:36:28.819Z"
   },
   {
    "duration": 20,
    "start_time": "2021-07-08T11:36:28.834Z"
   },
   {
    "duration": 36,
    "start_time": "2021-07-08T11:36:28.857Z"
   },
   {
    "duration": 16,
    "start_time": "2021-07-08T11:36:28.895Z"
   },
   {
    "duration": 14,
    "start_time": "2021-07-08T11:36:28.913Z"
   },
   {
    "duration": 9,
    "start_time": "2021-07-08T11:36:28.930Z"
   },
   {
    "duration": 55,
    "start_time": "2021-07-08T11:36:28.941Z"
   },
   {
    "duration": 27,
    "start_time": "2021-07-08T11:36:28.999Z"
   },
   {
    "duration": 30,
    "start_time": "2021-07-08T11:36:29.028Z"
   },
   {
    "duration": 31,
    "start_time": "2021-07-08T11:36:29.060Z"
   },
   {
    "duration": 3,
    "start_time": "2021-07-08T11:36:29.093Z"
   },
   {
    "duration": 12,
    "start_time": "2021-07-08T11:36:29.099Z"
   },
   {
    "duration": 11,
    "start_time": "2021-07-08T11:36:29.112Z"
   },
   {
    "duration": 12,
    "start_time": "2021-07-08T11:36:29.125Z"
   },
   {
    "duration": 9,
    "start_time": "2021-07-08T11:36:29.139Z"
   },
   {
    "duration": 31,
    "start_time": "2021-07-08T11:36:29.191Z"
   },
   {
    "duration": 17,
    "start_time": "2021-07-08T11:36:29.226Z"
   },
   {
    "duration": 7,
    "start_time": "2021-07-08T11:36:29.245Z"
   },
   {
    "duration": 10,
    "start_time": "2021-07-08T11:36:29.254Z"
   },
   {
    "duration": 30,
    "start_time": "2021-07-08T11:36:29.292Z"
   },
   {
    "duration": 11,
    "start_time": "2021-07-08T11:36:29.324Z"
   },
   {
    "duration": 11,
    "start_time": "2021-07-08T11:36:29.337Z"
   },
   {
    "duration": 230,
    "start_time": "2021-07-08T11:36:29.349Z"
   },
   {
    "duration": 13,
    "start_time": "2021-07-08T11:36:29.588Z"
   },
   {
    "duration": 205,
    "start_time": "2021-07-08T11:36:29.603Z"
   },
   {
    "duration": 20,
    "start_time": "2021-07-08T11:36:29.810Z"
   },
   {
    "duration": 9,
    "start_time": "2021-07-08T11:36:29.832Z"
   },
   {
    "duration": 16,
    "start_time": "2021-07-08T11:36:29.843Z"
   },
   {
    "duration": 283,
    "start_time": "2021-07-08T11:36:29.861Z"
   },
   {
    "duration": 50,
    "start_time": "2021-07-08T11:36:30.146Z"
   },
   {
    "duration": 14,
    "start_time": "2021-07-08T11:36:30.198Z"
   },
   {
    "duration": 11,
    "start_time": "2021-07-08T11:36:30.214Z"
   },
   {
    "duration": 245,
    "start_time": "2021-07-08T11:36:30.227Z"
   },
   {
    "duration": 439,
    "start_time": "2021-07-08T11:36:30.474Z"
   },
   {
    "duration": 210,
    "start_time": "2021-07-08T11:36:30.915Z"
   },
   {
    "duration": 15,
    "start_time": "2021-07-08T11:36:31.127Z"
   },
   {
    "duration": 17,
    "start_time": "2021-07-08T11:38:20.451Z"
   },
   {
    "duration": 642,
    "start_time": "2021-07-08T11:46:17.881Z"
   },
   {
    "duration": 210,
    "start_time": "2021-07-08T11:46:18.525Z"
   },
   {
    "duration": 104,
    "start_time": "2021-07-08T11:46:18.741Z"
   },
   {
    "duration": 8,
    "start_time": "2021-07-08T11:46:18.847Z"
   },
   {
    "duration": 25,
    "start_time": "2021-07-08T11:46:18.857Z"
   },
   {
    "duration": 14,
    "start_time": "2021-07-08T11:46:18.884Z"
   },
   {
    "duration": 22,
    "start_time": "2021-07-08T11:46:18.900Z"
   },
   {
    "duration": 5,
    "start_time": "2021-07-08T11:46:18.924Z"
   },
   {
    "duration": 13,
    "start_time": "2021-07-08T11:46:18.931Z"
   },
   {
    "duration": 45,
    "start_time": "2021-07-08T11:46:18.946Z"
   },
   {
    "duration": 12,
    "start_time": "2021-07-08T11:46:18.993Z"
   },
   {
    "duration": 38,
    "start_time": "2021-07-08T11:46:19.006Z"
   },
   {
    "duration": 50,
    "start_time": "2021-07-08T11:46:19.046Z"
   },
   {
    "duration": 29,
    "start_time": "2021-07-08T11:46:19.099Z"
   },
   {
    "duration": 7,
    "start_time": "2021-07-08T11:46:19.130Z"
   },
   {
    "duration": 3,
    "start_time": "2021-07-08T11:46:19.139Z"
   },
   {
    "duration": 11,
    "start_time": "2021-07-08T11:46:19.144Z"
   },
   {
    "duration": 40,
    "start_time": "2021-07-08T11:46:19.157Z"
   },
   {
    "duration": 15,
    "start_time": "2021-07-08T11:46:19.199Z"
   },
   {
    "duration": 10,
    "start_time": "2021-07-08T11:46:19.217Z"
   },
   {
    "duration": 68,
    "start_time": "2021-07-08T11:46:19.230Z"
   },
   {
    "duration": 17,
    "start_time": "2021-07-08T11:46:19.301Z"
   },
   {
    "duration": 7,
    "start_time": "2021-07-08T11:46:19.321Z"
   },
   {
    "duration": 11,
    "start_time": "2021-07-08T11:46:19.330Z"
   },
   {
    "duration": 59,
    "start_time": "2021-07-08T11:46:19.343Z"
   },
   {
    "duration": 17,
    "start_time": "2021-07-08T11:46:19.405Z"
   },
   {
    "duration": 16,
    "start_time": "2021-07-08T11:46:19.424Z"
   },
   {
    "duration": 252,
    "start_time": "2021-07-08T11:46:19.443Z"
   },
   {
    "duration": 9,
    "start_time": "2021-07-08T11:46:19.697Z"
   },
   {
    "duration": 224,
    "start_time": "2021-07-08T11:46:19.708Z"
   },
   {
    "duration": 21,
    "start_time": "2021-07-08T11:46:19.934Z"
   },
   {
    "duration": 9,
    "start_time": "2021-07-08T11:46:19.956Z"
   },
   {
    "duration": 32,
    "start_time": "2021-07-08T11:46:19.967Z"
   },
   {
    "duration": 288,
    "start_time": "2021-07-08T11:46:20.004Z"
   },
   {
    "duration": 23,
    "start_time": "2021-07-08T11:46:20.300Z"
   },
   {
    "duration": 11,
    "start_time": "2021-07-08T11:46:20.325Z"
   },
   {
    "duration": 11,
    "start_time": "2021-07-08T11:46:20.339Z"
   },
   {
    "duration": 259,
    "start_time": "2021-07-08T11:46:20.352Z"
   },
   {
    "duration": 438,
    "start_time": "2021-07-08T11:46:20.613Z"
   },
   {
    "duration": 207,
    "start_time": "2021-07-08T11:46:21.054Z"
   },
   {
    "duration": 27,
    "start_time": "2021-07-08T11:46:21.262Z"
   },
   {
    "duration": 19,
    "start_time": "2021-07-08T11:46:21.291Z"
   },
   {
    "duration": 820,
    "start_time": "2021-07-08T11:49:01.655Z"
   },
   {
    "duration": 372,
    "start_time": "2021-07-08T11:49:02.478Z"
   },
   {
    "duration": 98,
    "start_time": "2021-07-08T11:49:02.853Z"
   },
   {
    "duration": 6,
    "start_time": "2021-07-08T11:49:02.953Z"
   },
   {
    "duration": 39,
    "start_time": "2021-07-08T11:49:02.960Z"
   },
   {
    "duration": 9,
    "start_time": "2021-07-08T11:49:03.003Z"
   },
   {
    "duration": 23,
    "start_time": "2021-07-08T11:49:03.014Z"
   },
   {
    "duration": 6,
    "start_time": "2021-07-08T11:49:03.041Z"
   },
   {
    "duration": 20,
    "start_time": "2021-07-08T11:49:03.049Z"
   },
   {
    "duration": 18,
    "start_time": "2021-07-08T11:49:03.084Z"
   },
   {
    "duration": 14,
    "start_time": "2021-07-08T11:49:03.104Z"
   },
   {
    "duration": 39,
    "start_time": "2021-07-08T11:49:03.119Z"
   },
   {
    "duration": 38,
    "start_time": "2021-07-08T11:49:03.160Z"
   },
   {
    "duration": 26,
    "start_time": "2021-07-08T11:49:03.200Z"
   },
   {
    "duration": 7,
    "start_time": "2021-07-08T11:49:03.227Z"
   },
   {
    "duration": 4,
    "start_time": "2021-07-08T11:49:03.236Z"
   },
   {
    "duration": 15,
    "start_time": "2021-07-08T11:49:03.243Z"
   },
   {
    "duration": 21,
    "start_time": "2021-07-08T11:49:03.285Z"
   },
   {
    "duration": 17,
    "start_time": "2021-07-08T11:49:03.309Z"
   },
   {
    "duration": 10,
    "start_time": "2021-07-08T11:49:03.328Z"
   },
   {
    "duration": 65,
    "start_time": "2021-07-08T11:49:03.340Z"
   },
   {
    "duration": 18,
    "start_time": "2021-07-08T11:49:03.407Z"
   },
   {
    "duration": 8,
    "start_time": "2021-07-08T11:49:03.428Z"
   },
   {
    "duration": 15,
    "start_time": "2021-07-08T11:49:03.438Z"
   },
   {
    "duration": 40,
    "start_time": "2021-07-08T11:49:03.455Z"
   },
   {
    "duration": 12,
    "start_time": "2021-07-08T11:49:03.497Z"
   },
   {
    "duration": 29,
    "start_time": "2021-07-08T11:49:03.511Z"
   },
   {
    "duration": 285,
    "start_time": "2021-07-08T11:49:03.542Z"
   },
   {
    "duration": 8,
    "start_time": "2021-07-08T11:49:03.829Z"
   },
   {
    "duration": 227,
    "start_time": "2021-07-08T11:49:03.838Z"
   },
   {
    "duration": 40,
    "start_time": "2021-07-08T11:49:04.066Z"
   },
   {
    "duration": 10,
    "start_time": "2021-07-08T11:49:04.108Z"
   },
   {
    "duration": 26,
    "start_time": "2021-07-08T11:49:04.121Z"
   },
   {
    "duration": 290,
    "start_time": "2021-07-08T11:49:04.149Z"
   },
   {
    "duration": 26,
    "start_time": "2021-07-08T11:49:04.441Z"
   },
   {
    "duration": 31,
    "start_time": "2021-07-08T11:49:04.470Z"
   },
   {
    "duration": 14,
    "start_time": "2021-07-08T11:49:04.503Z"
   },
   {
    "duration": 259,
    "start_time": "2021-07-08T11:49:04.521Z"
   },
   {
    "duration": 480,
    "start_time": "2021-07-08T11:49:04.782Z"
   },
   {
    "duration": 225,
    "start_time": "2021-07-08T11:49:05.264Z"
   },
   {
    "duration": 22,
    "start_time": "2021-07-08T11:49:05.491Z"
   },
   {
    "duration": 24,
    "start_time": "2021-07-08T11:49:05.515Z"
   },
   {
    "duration": 634,
    "start_time": "2021-07-08T11:52:24.960Z"
   },
   {
    "duration": 199,
    "start_time": "2021-07-08T11:52:25.599Z"
   },
   {
    "duration": 106,
    "start_time": "2021-07-08T11:52:25.803Z"
   },
   {
    "duration": 7,
    "start_time": "2021-07-08T11:52:25.911Z"
   },
   {
    "duration": 29,
    "start_time": "2021-07-08T11:52:25.920Z"
   },
   {
    "duration": 7,
    "start_time": "2021-07-08T11:52:25.951Z"
   },
   {
    "duration": 26,
    "start_time": "2021-07-08T11:52:25.961Z"
   },
   {
    "duration": 11,
    "start_time": "2021-07-08T11:52:25.990Z"
   },
   {
    "duration": 29,
    "start_time": "2021-07-08T11:52:26.005Z"
   },
   {
    "duration": 9,
    "start_time": "2021-07-08T11:52:26.036Z"
   },
   {
    "duration": 8,
    "start_time": "2021-07-08T11:52:26.047Z"
   },
   {
    "duration": 63,
    "start_time": "2021-07-08T11:52:26.057Z"
   },
   {
    "duration": 17,
    "start_time": "2021-07-08T11:52:26.122Z"
   },
   {
    "duration": 43,
    "start_time": "2021-07-08T11:52:26.142Z"
   },
   {
    "duration": 17,
    "start_time": "2021-07-08T11:52:26.187Z"
   },
   {
    "duration": 5,
    "start_time": "2021-07-08T11:52:26.206Z"
   },
   {
    "duration": 12,
    "start_time": "2021-07-08T11:52:26.212Z"
   },
   {
    "duration": 11,
    "start_time": "2021-07-08T11:52:26.226Z"
   },
   {
    "duration": 12,
    "start_time": "2021-07-08T11:52:26.238Z"
   },
   {
    "duration": 38,
    "start_time": "2021-07-08T11:52:26.252Z"
   },
   {
    "duration": 40,
    "start_time": "2021-07-08T11:52:26.292Z"
   },
   {
    "duration": 17,
    "start_time": "2021-07-08T11:52:26.336Z"
   },
   {
    "duration": 39,
    "start_time": "2021-07-08T11:52:26.355Z"
   },
   {
    "duration": 11,
    "start_time": "2021-07-08T11:52:26.395Z"
   },
   {
    "duration": 23,
    "start_time": "2021-07-08T11:52:26.408Z"
   },
   {
    "duration": 12,
    "start_time": "2021-07-08T11:52:26.432Z"
   },
   {
    "duration": 41,
    "start_time": "2021-07-08T11:52:26.446Z"
   },
   {
    "duration": 215,
    "start_time": "2021-07-08T11:52:26.493Z"
   },
   {
    "duration": 8,
    "start_time": "2021-07-08T11:52:26.710Z"
   },
   {
    "duration": 228,
    "start_time": "2021-07-08T11:52:26.720Z"
   },
   {
    "duration": 18,
    "start_time": "2021-07-08T11:52:26.950Z"
   },
   {
    "duration": 35,
    "start_time": "2021-07-08T11:52:26.969Z"
   },
   {
    "duration": 23,
    "start_time": "2021-07-08T11:52:27.006Z"
   },
   {
    "duration": 258,
    "start_time": "2021-07-08T11:52:27.030Z"
   },
   {
    "duration": 24,
    "start_time": "2021-07-08T11:52:27.290Z"
   },
   {
    "duration": 12,
    "start_time": "2021-07-08T11:52:27.316Z"
   },
   {
    "duration": 10,
    "start_time": "2021-07-08T11:52:27.329Z"
   },
   {
    "duration": 298,
    "start_time": "2021-07-08T11:52:27.341Z"
   },
   {
    "duration": 436,
    "start_time": "2021-07-08T11:52:27.641Z"
   },
   {
    "duration": 216,
    "start_time": "2021-07-08T11:52:28.079Z"
   },
   {
    "duration": 20,
    "start_time": "2021-07-08T11:52:28.297Z"
   },
   {
    "duration": 17,
    "start_time": "2021-07-08T11:52:28.319Z"
   },
   {
    "duration": 1587,
    "start_time": "2021-12-19T09:31:42.236Z"
   },
   {
    "duration": 141,
    "start_time": "2021-12-19T10:12:19.852Z"
   },
   {
    "duration": 17,
    "start_time": "2021-12-19T10:14:13.009Z"
   },
   {
    "duration": 30,
    "start_time": "2021-12-19T10:14:56.490Z"
   },
   {
    "duration": 8,
    "start_time": "2021-12-19T10:15:09.602Z"
   },
   {
    "duration": 11,
    "start_time": "2021-12-19T10:15:11.193Z"
   },
   {
    "duration": 27,
    "start_time": "2021-12-19T10:52:12.524Z"
   },
   {
    "duration": 750,
    "start_time": "2021-12-19T10:53:05.700Z"
   },
   {
    "duration": 37,
    "start_time": "2021-12-19T10:54:56.917Z"
   },
   {
    "duration": 17,
    "start_time": "2021-12-19T10:58:02.678Z"
   },
   {
    "duration": 29,
    "start_time": "2021-12-19T10:58:24.949Z"
   },
   {
    "duration": 7,
    "start_time": "2021-12-19T11:18:56.956Z"
   },
   {
    "duration": 6,
    "start_time": "2021-12-19T11:19:15.611Z"
   },
   {
    "duration": 8,
    "start_time": "2021-12-19T11:20:34.708Z"
   },
   {
    "duration": 5,
    "start_time": "2021-12-19T11:20:36.411Z"
   },
   {
    "duration": 11,
    "start_time": "2021-12-19T11:21:20.122Z"
   },
   {
    "duration": 10,
    "start_time": "2021-12-19T11:22:25.972Z"
   },
   {
    "duration": 7,
    "start_time": "2021-12-19T11:24:51.133Z"
   },
   {
    "duration": 16,
    "start_time": "2021-12-19T11:25:18.757Z"
   },
   {
    "duration": 1456,
    "start_time": "2021-12-19T11:25:33.507Z"
   },
   {
    "duration": 176,
    "start_time": "2021-12-19T11:25:34.967Z"
   },
   {
    "duration": 16,
    "start_time": "2021-12-19T11:25:35.147Z"
   },
   {
    "duration": 34,
    "start_time": "2021-12-19T11:25:35.166Z"
   },
   {
    "duration": 8,
    "start_time": "2021-12-19T11:25:35.204Z"
   },
   {
    "duration": 12,
    "start_time": "2021-12-19T11:25:35.216Z"
   },
   {
    "duration": 28,
    "start_time": "2021-12-19T11:25:35.268Z"
   },
   {
    "duration": 17,
    "start_time": "2021-12-19T11:25:35.299Z"
   },
   {
    "duration": 56,
    "start_time": "2021-12-19T11:25:35.319Z"
   },
   {
    "duration": 7,
    "start_time": "2021-12-19T11:25:35.378Z"
   },
   {
    "duration": 6,
    "start_time": "2021-12-19T11:25:35.387Z"
   },
   {
    "duration": 15,
    "start_time": "2021-12-19T11:25:35.396Z"
   },
   {
    "duration": 54,
    "start_time": "2021-12-19T11:25:35.413Z"
   },
   {
    "duration": 8,
    "start_time": "2021-12-19T11:25:35.470Z"
   },
   {
    "duration": 15,
    "start_time": "2021-12-19T11:25:35.481Z"
   },
   {
    "duration": 6,
    "start_time": "2021-12-19T11:27:50.003Z"
   },
   {
    "duration": 1461,
    "start_time": "2021-12-19T11:31:17.101Z"
   },
   {
    "duration": 159,
    "start_time": "2021-12-19T11:31:18.565Z"
   },
   {
    "duration": 15,
    "start_time": "2021-12-19T11:31:18.727Z"
   },
   {
    "duration": 36,
    "start_time": "2021-12-19T11:31:18.745Z"
   },
   {
    "duration": 11,
    "start_time": "2021-12-19T11:31:18.784Z"
   },
   {
    "duration": 13,
    "start_time": "2021-12-19T11:31:18.798Z"
   },
   {
    "duration": 58,
    "start_time": "2021-12-19T11:31:18.813Z"
   },
   {
    "duration": 19,
    "start_time": "2021-12-19T11:31:18.873Z"
   },
   {
    "duration": 35,
    "start_time": "2021-12-19T11:31:18.895Z"
   },
   {
    "duration": 34,
    "start_time": "2021-12-19T11:31:18.933Z"
   },
   {
    "duration": 5,
    "start_time": "2021-12-19T11:31:18.970Z"
   },
   {
    "duration": 16,
    "start_time": "2021-12-19T11:31:18.977Z"
   },
   {
    "duration": 13,
    "start_time": "2021-12-19T11:31:18.995Z"
   },
   {
    "duration": 10,
    "start_time": "2021-12-19T11:31:19.010Z"
   },
   {
    "duration": 4,
    "start_time": "2021-12-19T11:34:51.255Z"
   },
   {
    "duration": 12,
    "start_time": "2021-12-19T11:35:14.199Z"
   },
   {
    "duration": 7,
    "start_time": "2021-12-19T11:35:15.887Z"
   },
   {
    "duration": 9,
    "start_time": "2021-12-19T11:35:17.844Z"
   },
   {
    "duration": 26,
    "start_time": "2021-12-19T11:35:30.054Z"
   },
   {
    "duration": 54,
    "start_time": "2021-12-19T11:35:34.260Z"
   },
   {
    "duration": 16,
    "start_time": "2021-12-19T11:36:51.511Z"
   },
   {
    "duration": 13,
    "start_time": "2021-12-19T11:39:53.376Z"
   },
   {
    "duration": 696,
    "start_time": "2021-12-19T11:41:56.505Z"
   },
   {
    "duration": 38,
    "start_time": "2021-12-19T11:42:24.620Z"
   },
   {
    "duration": 30,
    "start_time": "2021-12-19T11:42:37.561Z"
   },
   {
    "duration": 29,
    "start_time": "2021-12-19T11:44:06.098Z"
   },
   {
    "duration": 29,
    "start_time": "2021-12-19T11:44:16.641Z"
   },
   {
    "duration": 30,
    "start_time": "2021-12-19T11:44:27.554Z"
   },
   {
    "duration": 29,
    "start_time": "2021-12-19T11:44:33.489Z"
   },
   {
    "duration": 4,
    "start_time": "2021-12-19T12:37:40.864Z"
   },
   {
    "duration": 416,
    "start_time": "2021-12-19T12:37:43.040Z"
   },
   {
    "duration": 269,
    "start_time": "2021-12-19T12:37:52.462Z"
   },
   {
    "duration": 13,
    "start_time": "2021-12-19T12:37:58.752Z"
   },
   {
    "duration": 4,
    "start_time": "2021-12-19T12:41:33.440Z"
   },
   {
    "duration": 4,
    "start_time": "2021-12-19T12:41:34.817Z"
   },
   {
    "duration": 250,
    "start_time": "2021-12-19T12:41:36.211Z"
   },
   {
    "duration": 12,
    "start_time": "2021-12-19T12:41:42.526Z"
   },
   {
    "duration": 1531,
    "start_time": "2021-12-19T12:43:09.232Z"
   },
   {
    "duration": 131,
    "start_time": "2021-12-19T12:43:10.768Z"
   },
   {
    "duration": 19,
    "start_time": "2021-12-19T12:43:10.903Z"
   },
   {
    "duration": 31,
    "start_time": "2021-12-19T12:43:10.924Z"
   },
   {
    "duration": 20,
    "start_time": "2021-12-19T12:43:10.957Z"
   },
   {
    "duration": 13,
    "start_time": "2021-12-19T12:43:10.980Z"
   },
   {
    "duration": 33,
    "start_time": "2021-12-19T12:43:10.995Z"
   },
   {
    "duration": 39,
    "start_time": "2021-12-19T12:43:11.030Z"
   },
   {
    "duration": 28,
    "start_time": "2021-12-19T12:43:11.072Z"
   },
   {
    "duration": 10,
    "start_time": "2021-12-19T12:43:11.103Z"
   },
   {
    "duration": 8,
    "start_time": "2021-12-19T12:43:11.115Z"
   },
   {
    "duration": 46,
    "start_time": "2021-12-19T12:43:11.125Z"
   },
   {
    "duration": 11,
    "start_time": "2021-12-19T12:43:11.173Z"
   },
   {
    "duration": 4,
    "start_time": "2021-12-19T12:43:11.187Z"
   },
   {
    "duration": 13,
    "start_time": "2021-12-19T12:43:11.193Z"
   },
   {
    "duration": 9,
    "start_time": "2021-12-19T12:43:11.208Z"
   },
   {
    "duration": 54,
    "start_time": "2021-12-19T12:43:11.220Z"
   },
   {
    "duration": 12,
    "start_time": "2021-12-19T12:43:11.276Z"
   },
   {
    "duration": 605,
    "start_time": "2021-12-19T12:43:11.291Z"
   },
   {
    "duration": 39,
    "start_time": "2021-12-19T12:43:11.899Z"
   },
   {
    "duration": 4,
    "start_time": "2021-12-19T12:43:11.941Z"
   },
   {
    "duration": 33,
    "start_time": "2021-12-19T12:43:11.947Z"
   },
   {
    "duration": 4,
    "start_time": "2021-12-19T12:43:11.983Z"
   },
   {
    "duration": 27,
    "start_time": "2021-12-19T12:43:11.990Z"
   },
   {
    "duration": 17,
    "start_time": "2021-12-19T12:43:12.020Z"
   },
   {
    "duration": 22,
    "start_time": "2021-12-19T12:43:12.040Z"
   },
   {
    "duration": 513,
    "start_time": "2021-12-19T12:53:32.410Z"
   },
   {
    "duration": 10,
    "start_time": "2021-12-19T12:53:38.390Z"
   },
   {
    "duration": 261,
    "start_time": "2021-12-19T13:03:07.706Z"
   },
   {
    "duration": 286,
    "start_time": "2021-12-19T13:03:25.460Z"
   },
   {
    "duration": 1466,
    "start_time": "2021-12-19T13:03:45.102Z"
   },
   {
    "duration": 123,
    "start_time": "2021-12-19T13:03:46.571Z"
   },
   {
    "duration": 16,
    "start_time": "2021-12-19T13:03:46.697Z"
   },
   {
    "duration": 30,
    "start_time": "2021-12-19T13:03:46.716Z"
   },
   {
    "duration": 9,
    "start_time": "2021-12-19T13:03:46.748Z"
   },
   {
    "duration": 16,
    "start_time": "2021-12-19T13:03:46.759Z"
   },
   {
    "duration": 28,
    "start_time": "2021-12-19T13:03:46.778Z"
   },
   {
    "duration": 16,
    "start_time": "2021-12-19T13:03:46.810Z"
   },
   {
    "duration": 55,
    "start_time": "2021-12-19T13:03:46.829Z"
   },
   {
    "duration": 15,
    "start_time": "2021-12-19T13:03:46.886Z"
   },
   {
    "duration": 7,
    "start_time": "2021-12-19T13:03:46.903Z"
   },
   {
    "duration": 17,
    "start_time": "2021-12-19T13:03:46.912Z"
   },
   {
    "duration": 44,
    "start_time": "2021-12-19T13:03:46.932Z"
   },
   {
    "duration": 4,
    "start_time": "2021-12-19T13:03:46.978Z"
   },
   {
    "duration": 14,
    "start_time": "2021-12-19T13:03:46.985Z"
   },
   {
    "duration": 7,
    "start_time": "2021-12-19T13:03:47.001Z"
   },
   {
    "duration": 23,
    "start_time": "2021-12-19T13:03:47.011Z"
   },
   {
    "duration": 11,
    "start_time": "2021-12-19T13:03:47.068Z"
   },
   {
    "duration": 592,
    "start_time": "2021-12-19T13:03:47.082Z"
   },
   {
    "duration": 38,
    "start_time": "2021-12-19T13:03:47.677Z"
   },
   {
    "duration": 3,
    "start_time": "2021-12-19T13:03:47.718Z"
   },
   {
    "duration": 22,
    "start_time": "2021-12-19T13:03:47.724Z"
   },
   {
    "duration": 3,
    "start_time": "2021-12-19T13:03:47.771Z"
   },
   {
    "duration": 7,
    "start_time": "2021-12-19T13:03:47.777Z"
   },
   {
    "duration": 9,
    "start_time": "2021-12-19T13:03:47.787Z"
   },
   {
    "duration": 13,
    "start_time": "2021-12-19T13:03:47.798Z"
   },
   {
    "duration": 417,
    "start_time": "2021-12-19T13:03:47.814Z"
   },
   {
    "duration": 648,
    "start_time": "2021-12-19T13:03:47.587Z"
   },
   {
    "duration": 271,
    "start_time": "2021-12-19T13:04:01.659Z"
   },
   {
    "duration": 9,
    "start_time": "2021-12-19T13:04:11.563Z"
   },
   {
    "duration": 269,
    "start_time": "2021-12-19T13:04:16.316Z"
   },
   {
    "duration": 5,
    "start_time": "2021-12-19T13:04:22.060Z"
   },
   {
    "duration": 14,
    "start_time": "2021-12-19T13:04:23.574Z"
   },
   {
    "duration": 1685,
    "start_time": "2021-12-19T13:04:32.326Z"
   },
   {
    "duration": 122,
    "start_time": "2021-12-19T13:04:34.013Z"
   },
   {
    "duration": 17,
    "start_time": "2021-12-19T13:04:34.138Z"
   },
   {
    "duration": 31,
    "start_time": "2021-12-19T13:04:34.159Z"
   },
   {
    "duration": 9,
    "start_time": "2021-12-19T13:04:34.194Z"
   },
   {
    "duration": 14,
    "start_time": "2021-12-19T13:04:34.206Z"
   },
   {
    "duration": 65,
    "start_time": "2021-12-19T13:04:34.223Z"
   },
   {
    "duration": 17,
    "start_time": "2021-12-19T13:04:34.290Z"
   },
   {
    "duration": 56,
    "start_time": "2021-12-19T13:04:34.311Z"
   },
   {
    "duration": 8,
    "start_time": "2021-12-19T13:04:34.370Z"
   },
   {
    "duration": 6,
    "start_time": "2021-12-19T13:04:34.381Z"
   },
   {
    "duration": 17,
    "start_time": "2021-12-19T13:04:34.390Z"
   },
   {
    "duration": 57,
    "start_time": "2021-12-19T13:04:34.411Z"
   },
   {
    "duration": 6,
    "start_time": "2021-12-19T13:04:34.471Z"
   },
   {
    "duration": 11,
    "start_time": "2021-12-19T13:04:34.479Z"
   },
   {
    "duration": 9,
    "start_time": "2021-12-19T13:04:34.493Z"
   },
   {
    "duration": 17,
    "start_time": "2021-12-19T13:04:34.504Z"
   },
   {
    "duration": 46,
    "start_time": "2021-12-19T13:04:34.523Z"
   },
   {
    "duration": 728,
    "start_time": "2021-12-19T13:04:34.572Z"
   },
   {
    "duration": 38,
    "start_time": "2021-12-19T13:04:35.303Z"
   },
   {
    "duration": 3,
    "start_time": "2021-12-19T13:04:35.344Z"
   },
   {
    "duration": 18,
    "start_time": "2021-12-19T13:04:35.368Z"
   },
   {
    "duration": 5,
    "start_time": "2021-12-19T13:04:35.388Z"
   },
   {
    "duration": 6,
    "start_time": "2021-12-19T13:04:35.397Z"
   },
   {
    "duration": 9,
    "start_time": "2021-12-19T13:04:35.406Z"
   },
   {
    "duration": 54,
    "start_time": "2021-12-19T13:04:35.418Z"
   },
   {
    "duration": 5,
    "start_time": "2021-12-19T13:04:35.477Z"
   },
   {
    "duration": 27,
    "start_time": "2021-12-19T13:04:35.484Z"
   },
   {
    "duration": 435,
    "start_time": "2021-12-19T13:06:13.015Z"
   },
   {
    "duration": 37,
    "start_time": "2021-12-19T13:06:17.791Z"
   },
   {
    "duration": 256,
    "start_time": "2021-12-19T13:07:13.688Z"
   },
   {
    "duration": 16,
    "start_time": "2021-12-19T13:07:16.663Z"
   },
   {
    "duration": 280,
    "start_time": "2021-12-19T13:15:23.401Z"
   },
   {
    "duration": 30,
    "start_time": "2021-12-19T13:15:59.107Z"
   },
   {
    "duration": 43,
    "start_time": "2021-12-19T13:16:20.945Z"
   },
   {
    "duration": 8,
    "start_time": "2021-12-19T13:18:29.627Z"
   },
   {
    "duration": 1236,
    "start_time": "2021-12-19T13:19:33.932Z"
   },
   {
    "duration": 1537,
    "start_time": "2021-12-19T13:19:44.832Z"
   },
   {
    "duration": 117,
    "start_time": "2021-12-19T13:19:46.372Z"
   },
   {
    "duration": 15,
    "start_time": "2021-12-19T13:19:46.492Z"
   },
   {
    "duration": 32,
    "start_time": "2021-12-19T13:19:46.511Z"
   },
   {
    "duration": 8,
    "start_time": "2021-12-19T13:19:46.546Z"
   },
   {
    "duration": 11,
    "start_time": "2021-12-19T13:19:46.566Z"
   },
   {
    "duration": 27,
    "start_time": "2021-12-19T13:19:46.579Z"
   },
   {
    "duration": 17,
    "start_time": "2021-12-19T13:19:46.608Z"
   },
   {
    "duration": 64,
    "start_time": "2021-12-19T13:19:46.629Z"
   },
   {
    "duration": 7,
    "start_time": "2021-12-19T13:19:46.696Z"
   },
   {
    "duration": 7,
    "start_time": "2021-12-19T13:19:46.706Z"
   },
   {
    "duration": 51,
    "start_time": "2021-12-19T13:19:46.716Z"
   },
   {
    "duration": 11,
    "start_time": "2021-12-19T13:19:46.769Z"
   },
   {
    "duration": 8,
    "start_time": "2021-12-19T13:19:46.783Z"
   },
   {
    "duration": 12,
    "start_time": "2021-12-19T13:19:46.793Z"
   },
   {
    "duration": 22,
    "start_time": "2021-12-19T13:19:46.808Z"
   },
   {
    "duration": 42,
    "start_time": "2021-12-19T13:19:46.833Z"
   },
   {
    "duration": 606,
    "start_time": "2021-12-19T13:19:46.878Z"
   },
   {
    "duration": 41,
    "start_time": "2021-12-19T13:19:47.487Z"
   },
   {
    "duration": 4,
    "start_time": "2021-12-19T13:19:47.531Z"
   },
   {
    "duration": 36,
    "start_time": "2021-12-19T13:19:47.537Z"
   },
   {
    "duration": 4,
    "start_time": "2021-12-19T13:19:47.575Z"
   },
   {
    "duration": 6,
    "start_time": "2021-12-19T13:19:47.581Z"
   },
   {
    "duration": 8,
    "start_time": "2021-12-19T13:19:47.589Z"
   },
   {
    "duration": 407,
    "start_time": "2021-12-19T13:19:47.600Z"
   },
   {
    "duration": 647,
    "start_time": "2021-12-19T13:19:47.363Z"
   },
   {
    "duration": 646,
    "start_time": "2021-12-19T13:19:47.365Z"
   },
   {
    "duration": 633,
    "start_time": "2021-12-19T13:19:47.380Z"
   },
   {
    "duration": 633,
    "start_time": "2021-12-19T13:19:47.381Z"
   },
   {
    "duration": 633,
    "start_time": "2021-12-19T13:19:47.382Z"
   },
   {
    "duration": 4,
    "start_time": "2021-12-19T13:20:24.772Z"
   },
   {
    "duration": 1472,
    "start_time": "2021-12-19T13:20:42.300Z"
   },
   {
    "duration": 115,
    "start_time": "2021-12-19T13:20:43.775Z"
   },
   {
    "duration": 17,
    "start_time": "2021-12-19T13:20:43.896Z"
   },
   {
    "duration": 29,
    "start_time": "2021-12-19T13:20:43.917Z"
   },
   {
    "duration": 22,
    "start_time": "2021-12-19T13:20:43.948Z"
   },
   {
    "duration": 10,
    "start_time": "2021-12-19T13:20:43.973Z"
   },
   {
    "duration": 29,
    "start_time": "2021-12-19T13:20:43.986Z"
   },
   {
    "duration": 54,
    "start_time": "2021-12-19T13:20:44.020Z"
   },
   {
    "duration": 28,
    "start_time": "2021-12-19T13:20:44.077Z"
   },
   {
    "duration": 11,
    "start_time": "2021-12-19T13:20:44.107Z"
   },
   {
    "duration": 7,
    "start_time": "2021-12-19T13:20:44.120Z"
   },
   {
    "duration": 15,
    "start_time": "2021-12-19T13:20:44.168Z"
   },
   {
    "duration": 12,
    "start_time": "2021-12-19T13:20:44.185Z"
   },
   {
    "duration": 6,
    "start_time": "2021-12-19T13:20:44.200Z"
   },
   {
    "duration": 5,
    "start_time": "2021-12-19T13:20:44.208Z"
   },
   {
    "duration": 416,
    "start_time": "2021-12-19T13:20:44.215Z"
   },
   {
    "duration": 648,
    "start_time": "2021-12-19T13:20:43.986Z"
   },
   {
    "duration": 647,
    "start_time": "2021-12-19T13:20:43.988Z"
   },
   {
    "duration": 638,
    "start_time": "2021-12-19T13:20:43.999Z"
   },
   {
    "duration": 637,
    "start_time": "2021-12-19T13:20:44.001Z"
   },
   {
    "duration": 638,
    "start_time": "2021-12-19T13:20:44.002Z"
   },
   {
    "duration": 638,
    "start_time": "2021-12-19T13:20:44.003Z"
   },
   {
    "duration": 638,
    "start_time": "2021-12-19T13:20:44.005Z"
   },
   {
    "duration": 639,
    "start_time": "2021-12-19T13:20:44.006Z"
   },
   {
    "duration": 640,
    "start_time": "2021-12-19T13:20:44.007Z"
   },
   {
    "duration": 640,
    "start_time": "2021-12-19T13:20:44.008Z"
   },
   {
    "duration": 640,
    "start_time": "2021-12-19T13:20:44.010Z"
   },
   {
    "duration": 640,
    "start_time": "2021-12-19T13:20:44.012Z"
   },
   {
    "duration": 640,
    "start_time": "2021-12-19T13:20:44.013Z"
   },
   {
    "duration": 639,
    "start_time": "2021-12-19T13:20:44.015Z"
   },
   {
    "duration": 631,
    "start_time": "2021-12-19T13:20:44.025Z"
   },
   {
    "duration": 10,
    "start_time": "2021-12-19T13:21:03.514Z"
   },
   {
    "duration": 15,
    "start_time": "2021-12-19T13:21:05.377Z"
   },
   {
    "duration": 1660,
    "start_time": "2021-12-19T13:21:15.692Z"
   },
   {
    "duration": 109,
    "start_time": "2021-12-19T13:21:17.355Z"
   },
   {
    "duration": 16,
    "start_time": "2021-12-19T13:21:17.467Z"
   },
   {
    "duration": 31,
    "start_time": "2021-12-19T13:21:17.485Z"
   },
   {
    "duration": 9,
    "start_time": "2021-12-19T13:21:17.518Z"
   },
   {
    "duration": 45,
    "start_time": "2021-12-19T13:21:17.530Z"
   },
   {
    "duration": 28,
    "start_time": "2021-12-19T13:21:17.577Z"
   },
   {
    "duration": 17,
    "start_time": "2021-12-19T13:21:17.608Z"
   },
   {
    "duration": 64,
    "start_time": "2021-12-19T13:21:17.628Z"
   },
   {
    "duration": 8,
    "start_time": "2021-12-19T13:21:17.695Z"
   },
   {
    "duration": 8,
    "start_time": "2021-12-19T13:21:17.706Z"
   },
   {
    "duration": 59,
    "start_time": "2021-12-19T13:21:17.716Z"
   },
   {
    "duration": 12,
    "start_time": "2021-12-19T13:21:17.778Z"
   },
   {
    "duration": 7,
    "start_time": "2021-12-19T13:21:17.792Z"
   },
   {
    "duration": 6,
    "start_time": "2021-12-19T13:21:17.802Z"
   },
   {
    "duration": 12,
    "start_time": "2021-12-19T13:21:17.811Z"
   },
   {
    "duration": 19,
    "start_time": "2021-12-19T13:21:17.868Z"
   },
   {
    "duration": 10,
    "start_time": "2021-12-19T13:21:17.889Z"
   },
   {
    "duration": 639,
    "start_time": "2021-12-19T13:21:17.901Z"
   },
   {
    "duration": 53,
    "start_time": "2021-12-19T13:21:18.542Z"
   },
   {
    "duration": 4,
    "start_time": "2021-12-19T13:21:18.597Z"
   },
   {
    "duration": 16,
    "start_time": "2021-12-19T13:21:18.603Z"
   },
   {
    "duration": 9,
    "start_time": "2021-12-19T13:21:18.622Z"
   },
   {
    "duration": 7,
    "start_time": "2021-12-19T13:21:18.634Z"
   },
   {
    "duration": 35,
    "start_time": "2021-12-19T13:21:18.643Z"
   },
   {
    "duration": 483,
    "start_time": "2021-12-19T13:21:18.680Z"
   },
   {
    "duration": 654,
    "start_time": "2021-12-19T13:21:18.512Z"
   },
   {
    "duration": 648,
    "start_time": "2021-12-19T13:21:18.520Z"
   },
   {
    "duration": 647,
    "start_time": "2021-12-19T13:21:18.522Z"
   },
   {
    "duration": 637,
    "start_time": "2021-12-19T13:21:18.533Z"
   },
   {
    "duration": 637,
    "start_time": "2021-12-19T13:21:18.535Z"
   },
   {
    "duration": 13,
    "start_time": "2021-12-19T13:21:46.758Z"
   },
   {
    "duration": 7,
    "start_time": "2021-12-19T13:23:43.333Z"
   },
   {
    "duration": 11,
    "start_time": "2021-12-19T13:23:50.045Z"
   },
   {
    "duration": 6,
    "start_time": "2021-12-19T13:23:52.822Z"
   },
   {
    "duration": 1511,
    "start_time": "2021-12-19T13:32:43.966Z"
   },
   {
    "duration": 116,
    "start_time": "2021-12-19T13:32:45.480Z"
   },
   {
    "duration": 19,
    "start_time": "2021-12-19T13:32:45.599Z"
   },
   {
    "duration": 33,
    "start_time": "2021-12-19T13:32:45.622Z"
   },
   {
    "duration": 8,
    "start_time": "2021-12-19T13:32:45.667Z"
   },
   {
    "duration": 12,
    "start_time": "2021-12-19T13:32:45.677Z"
   },
   {
    "duration": 28,
    "start_time": "2021-12-19T13:32:45.692Z"
   },
   {
    "duration": 55,
    "start_time": "2021-12-19T13:32:45.724Z"
   },
   {
    "duration": 27,
    "start_time": "2021-12-19T13:32:45.782Z"
   },
   {
    "duration": 7,
    "start_time": "2021-12-19T13:32:45.812Z"
   },
   {
    "duration": 6,
    "start_time": "2021-12-19T13:32:45.822Z"
   },
   {
    "duration": 49,
    "start_time": "2021-12-19T13:32:45.831Z"
   },
   {
    "duration": 11,
    "start_time": "2021-12-19T13:32:45.883Z"
   },
   {
    "duration": 7,
    "start_time": "2021-12-19T13:32:45.897Z"
   },
   {
    "duration": 4,
    "start_time": "2021-12-19T13:32:45.906Z"
   },
   {
    "duration": 54,
    "start_time": "2021-12-19T13:32:45.913Z"
   },
   {
    "duration": 8,
    "start_time": "2021-12-19T13:32:45.970Z"
   },
   {
    "duration": 20,
    "start_time": "2021-12-19T13:32:45.980Z"
   },
   {
    "duration": 5,
    "start_time": "2021-12-19T13:32:46.002Z"
   },
   {
    "duration": 18,
    "start_time": "2021-12-19T13:32:46.009Z"
   },
   {
    "duration": 627,
    "start_time": "2021-12-19T13:32:46.029Z"
   },
   {
    "duration": 43,
    "start_time": "2021-12-19T13:32:46.658Z"
   },
   {
    "duration": 4,
    "start_time": "2021-12-19T13:32:46.706Z"
   },
   {
    "duration": 13,
    "start_time": "2021-12-19T13:32:46.713Z"
   },
   {
    "duration": 4,
    "start_time": "2021-12-19T13:32:46.728Z"
   },
   {
    "duration": 33,
    "start_time": "2021-12-19T13:32:46.734Z"
   },
   {
    "duration": 12,
    "start_time": "2021-12-19T13:32:46.770Z"
   },
   {
    "duration": 15,
    "start_time": "2021-12-19T13:32:46.784Z"
   },
   {
    "duration": 65,
    "start_time": "2021-12-19T13:32:46.802Z"
   },
   {
    "duration": 16,
    "start_time": "2021-12-19T13:32:46.870Z"
   },
   {
    "duration": 20,
    "start_time": "2021-12-19T13:32:46.889Z"
   },
   {
    "duration": 16,
    "start_time": "2021-12-19T13:35:19.385Z"
   },
   {
    "duration": 19,
    "start_time": "2021-12-19T13:35:29.073Z"
   },
   {
    "duration": 15,
    "start_time": "2021-12-19T13:37:06.417Z"
   },
   {
    "duration": 9,
    "start_time": "2021-12-19T13:39:36.441Z"
   },
   {
    "duration": 412,
    "start_time": "2021-12-19T13:39:58.738Z"
   },
   {
    "duration": 6,
    "start_time": "2021-12-19T13:40:04.330Z"
   },
   {
    "duration": 27,
    "start_time": "2021-12-19T13:40:21.586Z"
   },
   {
    "duration": 268,
    "start_time": "2021-12-19T13:40:57.250Z"
   },
   {
    "duration": 28,
    "start_time": "2021-12-19T13:41:06.139Z"
   },
   {
    "duration": 26,
    "start_time": "2021-12-19T13:41:31.930Z"
   },
   {
    "duration": 8,
    "start_time": "2021-12-19T13:42:07.051Z"
   },
   {
    "duration": 18,
    "start_time": "2021-12-19T13:44:28.947Z"
   },
   {
    "duration": 42,
    "start_time": "2021-12-19T13:44:37.651Z"
   },
   {
    "duration": 7,
    "start_time": "2021-12-19T13:44:46.987Z"
   },
   {
    "duration": 15,
    "start_time": "2021-12-19T13:45:02.011Z"
   },
   {
    "duration": 36,
    "start_time": "2021-12-19T13:45:22.748Z"
   },
   {
    "duration": 272,
    "start_time": "2021-12-19T13:45:37.363Z"
   },
   {
    "duration": 26,
    "start_time": "2021-12-19T13:45:44.812Z"
   },
   {
    "duration": 15,
    "start_time": "2021-12-19T13:45:55.828Z"
   },
   {
    "duration": 25,
    "start_time": "2021-12-19T13:48:41.926Z"
   },
   {
    "duration": 25,
    "start_time": "2021-12-19T13:48:48.860Z"
   },
   {
    "duration": 29,
    "start_time": "2021-12-19T13:53:22.357Z"
   },
   {
    "duration": 7809,
    "start_time": "2021-12-19T13:53:40.317Z"
   },
   {
    "duration": 6524,
    "start_time": "2021-12-19T13:54:16.110Z"
   },
   {
    "duration": 92,
    "start_time": "2021-12-19T13:54:35.111Z"
   },
   {
    "duration": 56,
    "start_time": "2021-12-19T13:55:09.438Z"
   },
   {
    "duration": 41,
    "start_time": "2021-12-19T13:55:20.326Z"
   },
   {
    "duration": 304,
    "start_time": "2021-12-19T13:57:14.679Z"
   },
   {
    "duration": 4,
    "start_time": "2021-12-19T13:57:48.319Z"
   },
   {
    "duration": 3,
    "start_time": "2021-12-19T13:57:58.063Z"
   },
   {
    "duration": 12,
    "start_time": "2021-12-19T13:58:06.663Z"
   },
   {
    "duration": 115,
    "start_time": "2021-12-19T14:05:14.817Z"
   },
   {
    "duration": 35,
    "start_time": "2021-12-19T14:07:19.488Z"
   },
   {
    "duration": 112,
    "start_time": "2021-12-19T14:08:26.833Z"
   },
   {
    "duration": 39,
    "start_time": "2021-12-19T14:11:43.859Z"
   },
   {
    "duration": 46,
    "start_time": "2021-12-19T14:15:54.539Z"
   },
   {
    "duration": 12,
    "start_time": "2021-12-19T14:17:20.453Z"
   },
   {
    "duration": 49,
    "start_time": "2021-12-19T14:17:28.916Z"
   },
   {
    "duration": 7227,
    "start_time": "2021-12-19T14:20:19.517Z"
   },
   {
    "duration": 6,
    "start_time": "2021-12-19T14:20:40.509Z"
   },
   {
    "duration": 4,
    "start_time": "2021-12-19T14:24:11.326Z"
   },
   {
    "duration": 12,
    "start_time": "2021-12-19T14:24:15.375Z"
   },
   {
    "duration": 13,
    "start_time": "2021-12-19T14:24:17.007Z"
   },
   {
    "duration": 6,
    "start_time": "2021-12-19T14:24:49.311Z"
   },
   {
    "duration": 37,
    "start_time": "2021-12-19T14:25:13.673Z"
   },
   {
    "duration": 1534,
    "start_time": "2021-12-19T14:25:31.853Z"
   },
   {
    "duration": 161,
    "start_time": "2021-12-19T14:25:33.389Z"
   },
   {
    "duration": 24,
    "start_time": "2021-12-19T14:25:33.556Z"
   },
   {
    "duration": 33,
    "start_time": "2021-12-19T14:25:33.583Z"
   },
   {
    "duration": 10,
    "start_time": "2021-12-19T14:25:33.619Z"
   },
   {
    "duration": 51,
    "start_time": "2021-12-19T14:25:33.632Z"
   },
   {
    "duration": 32,
    "start_time": "2021-12-19T14:25:33.686Z"
   },
   {
    "duration": 17,
    "start_time": "2021-12-19T14:25:33.721Z"
   },
   {
    "duration": 51,
    "start_time": "2021-12-19T14:25:33.741Z"
   },
   {
    "duration": 9,
    "start_time": "2021-12-19T14:25:33.795Z"
   },
   {
    "duration": 16,
    "start_time": "2021-12-19T14:25:33.806Z"
   },
   {
    "duration": 52,
    "start_time": "2021-12-19T14:25:33.825Z"
   },
   {
    "duration": 12,
    "start_time": "2021-12-19T14:25:33.880Z"
   },
   {
    "duration": 7,
    "start_time": "2021-12-19T14:25:33.895Z"
   },
   {
    "duration": 5,
    "start_time": "2021-12-19T14:25:33.905Z"
   },
   {
    "duration": 13,
    "start_time": "2021-12-19T14:25:33.912Z"
   },
   {
    "duration": 41,
    "start_time": "2021-12-19T14:25:33.927Z"
   },
   {
    "duration": 19,
    "start_time": "2021-12-19T14:25:33.976Z"
   },
   {
    "duration": 9,
    "start_time": "2021-12-19T14:25:33.998Z"
   },
   {
    "duration": 15,
    "start_time": "2021-12-19T14:25:34.009Z"
   },
   {
    "duration": 842,
    "start_time": "2021-12-19T14:25:34.027Z"
   },
   {
    "duration": 49,
    "start_time": "2021-12-19T14:25:34.876Z"
   },
   {
    "duration": 4,
    "start_time": "2021-12-19T14:25:34.928Z"
   },
   {
    "duration": 43,
    "start_time": "2021-12-19T14:25:34.934Z"
   },
   {
    "duration": 4,
    "start_time": "2021-12-19T14:25:34.980Z"
   },
   {
    "duration": 6,
    "start_time": "2021-12-19T14:25:34.987Z"
   },
   {
    "duration": 9,
    "start_time": "2021-12-19T14:25:34.995Z"
   },
   {
    "duration": 15,
    "start_time": "2021-12-19T14:25:35.006Z"
   },
   {
    "duration": 95,
    "start_time": "2021-12-19T14:25:35.024Z"
   },
   {
    "duration": 68,
    "start_time": "2021-12-19T14:25:35.122Z"
   },
   {
    "duration": 137,
    "start_time": "2021-12-19T14:25:35.193Z"
   },
   {
    "duration": 59,
    "start_time": "2021-12-19T14:25:35.332Z"
   },
   {
    "duration": 136,
    "start_time": "2021-12-19T14:25:35.394Z"
   },
   {
    "duration": 39,
    "start_time": "2021-12-19T14:25:35.532Z"
   },
   {
    "duration": 42,
    "start_time": "2021-12-19T14:25:35.575Z"
   },
   {
    "duration": 8,
    "start_time": "2021-12-19T14:25:35.620Z"
   },
   {
    "duration": 75,
    "start_time": "2021-12-19T14:25:35.631Z"
   },
   {
    "duration": 6,
    "start_time": "2021-12-19T14:25:35.708Z"
   },
   {
    "duration": 8,
    "start_time": "2021-12-19T14:25:35.716Z"
   },
   {
    "duration": 14,
    "start_time": "2021-12-19T14:25:35.726Z"
   },
   {
    "duration": 36,
    "start_time": "2021-12-19T14:25:35.742Z"
   },
   {
    "duration": 10,
    "start_time": "2021-12-19T14:25:35.781Z"
   },
   {
    "duration": 52,
    "start_time": "2021-12-19T14:25:35.794Z"
   },
   {
    "duration": 437,
    "start_time": "2021-12-19T14:27:51.516Z"
   },
   {
    "duration": 265,
    "start_time": "2021-12-19T14:28:04.388Z"
   },
   {
    "duration": 283,
    "start_time": "2021-12-19T14:28:09.269Z"
   },
   {
    "duration": 18,
    "start_time": "2021-12-19T14:28:44.909Z"
   },
   {
    "duration": 8,
    "start_time": "2021-12-19T14:32:13.022Z"
   },
   {
    "duration": 39,
    "start_time": "2021-12-19T14:32:14.795Z"
   },
   {
    "duration": 11,
    "start_time": "2021-12-19T14:32:16.300Z"
   },
   {
    "duration": 1515,
    "start_time": "2021-12-19T14:32:26.642Z"
   },
   {
    "duration": 135,
    "start_time": "2021-12-19T14:32:28.160Z"
   },
   {
    "duration": 19,
    "start_time": "2021-12-19T14:32:28.298Z"
   },
   {
    "duration": 34,
    "start_time": "2021-12-19T14:32:28.321Z"
   },
   {
    "duration": 10,
    "start_time": "2021-12-19T14:32:28.357Z"
   },
   {
    "duration": 18,
    "start_time": "2021-12-19T14:32:28.373Z"
   },
   {
    "duration": 27,
    "start_time": "2021-12-19T14:32:28.394Z"
   },
   {
    "duration": 65,
    "start_time": "2021-12-19T14:32:28.425Z"
   },
   {
    "duration": 28,
    "start_time": "2021-12-19T14:32:28.493Z"
   },
   {
    "duration": 8,
    "start_time": "2021-12-19T14:32:28.523Z"
   },
   {
    "duration": 40,
    "start_time": "2021-12-19T14:32:28.533Z"
   },
   {
    "duration": 21,
    "start_time": "2021-12-19T14:32:28.576Z"
   },
   {
    "duration": 13,
    "start_time": "2021-12-19T14:32:28.600Z"
   },
   {
    "duration": 9,
    "start_time": "2021-12-19T14:32:28.616Z"
   },
   {
    "duration": 45,
    "start_time": "2021-12-19T14:32:28.627Z"
   },
   {
    "duration": 17,
    "start_time": "2021-12-19T14:32:28.675Z"
   },
   {
    "duration": 8,
    "start_time": "2021-12-19T14:32:28.695Z"
   },
   {
    "duration": 21,
    "start_time": "2021-12-19T14:32:28.706Z"
   },
   {
    "duration": 45,
    "start_time": "2021-12-19T14:32:28.730Z"
   },
   {
    "duration": 18,
    "start_time": "2021-12-19T14:32:28.778Z"
   },
   {
    "duration": 613,
    "start_time": "2021-12-19T14:32:28.799Z"
   },
   {
    "duration": 52,
    "start_time": "2021-12-19T14:32:29.415Z"
   },
   {
    "duration": 4,
    "start_time": "2021-12-19T14:32:29.475Z"
   },
   {
    "duration": 17,
    "start_time": "2021-12-19T14:32:29.483Z"
   },
   {
    "duration": 4,
    "start_time": "2021-12-19T14:32:29.503Z"
   },
   {
    "duration": 7,
    "start_time": "2021-12-19T14:32:29.510Z"
   },
   {
    "duration": 54,
    "start_time": "2021-12-19T14:32:29.520Z"
   },
   {
    "duration": 18,
    "start_time": "2021-12-19T14:32:29.577Z"
   },
   {
    "duration": 73,
    "start_time": "2021-12-19T14:32:29.598Z"
   },
   {
    "duration": 51,
    "start_time": "2021-12-19T14:32:29.674Z"
   },
   {
    "duration": 142,
    "start_time": "2021-12-19T14:32:29.727Z"
   },
   {
    "duration": 40,
    "start_time": "2021-12-19T14:32:29.871Z"
   },
   {
    "duration": 148,
    "start_time": "2021-12-19T14:32:29.914Z"
   },
   {
    "duration": 38,
    "start_time": "2021-12-19T14:32:30.065Z"
   },
   {
    "duration": 71,
    "start_time": "2021-12-19T14:32:30.105Z"
   },
   {
    "duration": 9,
    "start_time": "2021-12-19T14:32:30.178Z"
   },
   {
    "duration": 36,
    "start_time": "2021-12-19T14:32:30.191Z"
   },
   {
    "duration": 38,
    "start_time": "2021-12-19T14:32:30.229Z"
   },
   {
    "duration": 6,
    "start_time": "2021-12-19T14:32:30.269Z"
   },
   {
    "duration": 13,
    "start_time": "2021-12-19T14:32:30.283Z"
   },
   {
    "duration": 14,
    "start_time": "2021-12-19T14:32:30.299Z"
   },
   {
    "duration": 12,
    "start_time": "2021-12-19T14:32:30.315Z"
   },
   {
    "duration": 68,
    "start_time": "2021-12-19T14:32:30.330Z"
   },
   {
    "duration": 10,
    "start_time": "2021-12-19T14:32:30.400Z"
   },
   {
    "duration": 1090,
    "start_time": "2021-12-25T13:27:55.346Z"
   },
   {
    "duration": 91,
    "start_time": "2021-12-25T13:27:56.438Z"
   },
   {
    "duration": 10,
    "start_time": "2021-12-25T13:27:56.531Z"
   },
   {
    "duration": 18,
    "start_time": "2021-12-25T13:27:56.543Z"
   },
   {
    "duration": 5,
    "start_time": "2021-12-25T13:27:56.562Z"
   },
   {
    "duration": 10,
    "start_time": "2021-12-25T13:27:56.568Z"
   },
   {
    "duration": 16,
    "start_time": "2021-12-25T13:27:56.580Z"
   },
   {
    "duration": 31,
    "start_time": "2021-12-25T13:27:56.598Z"
   },
   {
    "duration": 15,
    "start_time": "2021-12-25T13:27:56.631Z"
   },
   {
    "duration": 7,
    "start_time": "2021-12-25T13:27:56.648Z"
   },
   {
    "duration": 4,
    "start_time": "2021-12-25T13:27:56.656Z"
   },
   {
    "duration": 10,
    "start_time": "2021-12-25T13:27:56.661Z"
   },
   {
    "duration": 6,
    "start_time": "2021-12-25T13:27:56.673Z"
   },
   {
    "duration": 4,
    "start_time": "2021-12-25T13:27:56.680Z"
   },
   {
    "duration": 5,
    "start_time": "2021-12-25T13:27:56.685Z"
   },
   {
    "duration": 40,
    "start_time": "2021-12-25T13:27:56.691Z"
   },
   {
    "duration": 4,
    "start_time": "2021-12-25T13:27:56.732Z"
   },
   {
    "duration": 11,
    "start_time": "2021-12-25T13:27:56.737Z"
   },
   {
    "duration": 3,
    "start_time": "2021-12-25T13:27:56.750Z"
   },
   {
    "duration": 9,
    "start_time": "2021-12-25T13:27:56.754Z"
   },
   {
    "duration": 607,
    "start_time": "2021-12-25T13:27:56.764Z"
   },
   {
    "duration": 24,
    "start_time": "2021-12-25T13:27:57.373Z"
   },
   {
    "duration": 2,
    "start_time": "2021-12-25T13:27:57.399Z"
   },
   {
    "duration": 9,
    "start_time": "2021-12-25T13:27:57.403Z"
   },
   {
    "duration": 3,
    "start_time": "2021-12-25T13:27:57.427Z"
   },
   {
    "duration": 5,
    "start_time": "2021-12-25T13:27:57.431Z"
   },
   {
    "duration": 4,
    "start_time": "2021-12-25T13:27:57.439Z"
   },
   {
    "duration": 8,
    "start_time": "2021-12-25T13:27:57.445Z"
   },
   {
    "duration": 32,
    "start_time": "2021-12-25T13:27:57.455Z"
   },
   {
    "duration": 51,
    "start_time": "2021-12-25T13:27:57.489Z"
   },
   {
    "duration": 72,
    "start_time": "2021-12-25T13:27:57.541Z"
   },
   {
    "duration": 22,
    "start_time": "2021-12-25T13:27:57.627Z"
   },
   {
    "duration": 84,
    "start_time": "2021-12-25T13:27:57.650Z"
   },
   {
    "duration": 18,
    "start_time": "2021-12-25T13:27:57.736Z"
   },
   {
    "duration": 24,
    "start_time": "2021-12-25T13:27:57.755Z"
   },
   {
    "duration": 5,
    "start_time": "2021-12-25T13:27:57.780Z"
   },
   {
    "duration": 44,
    "start_time": "2021-12-25T13:27:57.787Z"
   },
   {
    "duration": 5,
    "start_time": "2021-12-25T13:27:57.832Z"
   },
   {
    "duration": 3,
    "start_time": "2021-12-25T13:27:57.838Z"
   },
   {
    "duration": 8,
    "start_time": "2021-12-25T13:27:57.843Z"
   },
   {
    "duration": 8,
    "start_time": "2021-12-25T13:27:57.852Z"
   },
   {
    "duration": 5,
    "start_time": "2021-12-25T13:27:57.862Z"
   },
   {
    "duration": 22,
    "start_time": "2021-12-25T13:27:57.869Z"
   },
   {
    "duration": 39,
    "start_time": "2021-12-25T13:27:57.893Z"
   },
   {
    "duration": 20,
    "start_time": "2021-12-25T13:28:32.663Z"
   },
   {
    "duration": 895,
    "start_time": "2021-12-25T13:35:29.241Z"
   },
   {
    "duration": 243,
    "start_time": "2021-12-25T13:35:42.795Z"
   },
   {
    "duration": 211,
    "start_time": "2021-12-25T13:36:05.337Z"
   },
   {
    "duration": 6,
    "start_time": "2021-12-25T13:36:19.737Z"
   },
   {
    "duration": 208,
    "start_time": "2021-12-25T13:36:25.161Z"
   },
   {
    "duration": 4,
    "start_time": "2021-12-25T13:36:27.079Z"
   },
   {
    "duration": 267,
    "start_time": "2021-12-25T13:37:14.584Z"
   },
   {
    "duration": 221,
    "start_time": "2021-12-25T13:37:45.897Z"
   },
   {
    "duration": 276,
    "start_time": "2021-12-25T13:37:52.130Z"
   },
   {
    "duration": 245,
    "start_time": "2021-12-25T13:37:58.353Z"
   },
   {
    "duration": 245,
    "start_time": "2021-12-25T13:38:04.369Z"
   },
   {
    "duration": 237,
    "start_time": "2021-12-25T13:38:14.601Z"
   },
   {
    "duration": 239,
    "start_time": "2021-12-25T13:38:19.457Z"
   },
   {
    "duration": 230,
    "start_time": "2021-12-25T13:38:24.017Z"
   },
   {
    "duration": 384,
    "start_time": "2021-12-25T13:38:30.945Z"
   },
   {
    "duration": 247,
    "start_time": "2021-12-25T13:38:35.880Z"
   },
   {
    "duration": 298,
    "start_time": "2021-12-25T13:38:40.857Z"
   },
   {
    "duration": 243,
    "start_time": "2021-12-25T13:38:44.314Z"
   },
   {
    "duration": 267,
    "start_time": "2021-12-25T13:38:48.017Z"
   },
   {
    "duration": 6,
    "start_time": "2021-12-25T13:40:00.835Z"
   },
   {
    "duration": 7,
    "start_time": "2021-12-25T13:40:30.641Z"
   },
   {
    "duration": 208,
    "start_time": "2021-12-25T13:43:45.723Z"
   },
   {
    "duration": 6,
    "start_time": "2021-12-25T13:47:06.883Z"
   },
   {
    "duration": 5,
    "start_time": "2021-12-25T13:47:16.899Z"
   },
   {
    "duration": 5,
    "start_time": "2021-12-25T13:47:21.955Z"
   },
   {
    "duration": 13,
    "start_time": "2021-12-25T13:48:28.451Z"
   },
   {
    "duration": 8,
    "start_time": "2021-12-25T13:49:27.346Z"
   },
   {
    "duration": 13,
    "start_time": "2021-12-25T13:49:30.764Z"
   },
   {
    "duration": 200,
    "start_time": "2021-12-25T13:53:02.438Z"
   },
   {
    "duration": 195,
    "start_time": "2021-12-25T13:56:12.983Z"
   },
   {
    "duration": 249,
    "start_time": "2021-12-25T13:56:17.470Z"
   },
   {
    "duration": 203,
    "start_time": "2021-12-25T13:56:22.502Z"
   },
   {
    "duration": 203,
    "start_time": "2021-12-25T13:56:39.863Z"
   },
   {
    "duration": 6,
    "start_time": "2021-12-25T14:03:44.977Z"
   },
   {
    "duration": 21,
    "start_time": "2021-12-25T14:04:56.073Z"
   },
   {
    "duration": 24,
    "start_time": "2021-12-25T14:05:01.857Z"
   },
   {
    "duration": 25,
    "start_time": "2021-12-25T14:05:31.266Z"
   },
   {
    "duration": 24,
    "start_time": "2021-12-25T14:09:38.179Z"
   },
   {
    "duration": 8,
    "start_time": "2021-12-25T14:14:43.412Z"
   },
   {
    "duration": 18,
    "start_time": "2021-12-25T14:14:58.444Z"
   },
   {
    "duration": 17,
    "start_time": "2021-12-25T14:16:42.899Z"
   },
   {
    "duration": 7,
    "start_time": "2021-12-25T14:17:41.869Z"
   },
   {
    "duration": 17,
    "start_time": "2021-12-25T14:17:43.173Z"
   },
   {
    "duration": 320,
    "start_time": "2021-12-25T14:58:02.398Z"
   },
   {
    "duration": 361,
    "start_time": "2021-12-25T14:58:27.449Z"
   },
   {
    "duration": 7,
    "start_time": "2021-12-25T15:00:31.330Z"
   },
   {
    "duration": 7,
    "start_time": "2021-12-25T15:00:44.577Z"
   },
   {
    "duration": 1317,
    "start_time": "2021-12-25T15:15:39.990Z"
   },
   {
    "duration": 1281,
    "start_time": "2021-12-25T15:16:06.798Z"
   },
   {
    "duration": 1286,
    "start_time": "2021-12-25T15:18:04.255Z"
   },
   {
    "duration": 1255,
    "start_time": "2021-12-25T15:18:19.999Z"
   },
   {
    "duration": 1390,
    "start_time": "2021-12-25T15:18:36.231Z"
   },
   {
    "duration": 423,
    "start_time": "2021-12-25T15:19:26.567Z"
   },
   {
    "duration": 18,
    "start_time": "2021-12-25T15:21:05.695Z"
   },
   {
    "duration": 16,
    "start_time": "2021-12-25T15:21:20.160Z"
   },
   {
    "duration": 23,
    "start_time": "2021-12-25T15:21:40.928Z"
   },
   {
    "duration": 8,
    "start_time": "2021-12-25T15:23:24.759Z"
   },
   {
    "duration": 10,
    "start_time": "2021-12-25T15:23:57.673Z"
   },
   {
    "duration": 10,
    "start_time": "2021-12-25T15:24:25.832Z"
   },
   {
    "duration": 8,
    "start_time": "2021-12-25T15:24:59.361Z"
   },
   {
    "duration": 653,
    "start_time": "2021-12-25T15:25:26.890Z"
   },
   {
    "duration": 335,
    "start_time": "2021-12-25T15:25:55.946Z"
   },
   {
    "duration": 347,
    "start_time": "2021-12-25T15:26:13.681Z"
   },
   {
    "duration": 5,
    "start_time": "2021-12-25T15:26:28.081Z"
   },
   {
    "duration": 8915,
    "start_time": "2021-12-25T15:26:32.266Z"
   },
   {
    "duration": 9730,
    "start_time": "2021-12-25T15:27:22.573Z"
   },
   {
    "duration": 332,
    "start_time": "2021-12-25T15:28:31.161Z"
   },
   {
    "duration": 1288,
    "start_time": "2021-12-25T15:28:45.665Z"
   },
   {
    "duration": 359,
    "start_time": "2021-12-25T15:31:24.762Z"
   },
   {
    "duration": 8,
    "start_time": "2021-12-25T15:32:55.259Z"
   },
   {
    "duration": 11,
    "start_time": "2021-12-25T15:33:24.491Z"
   },
   {
    "duration": 10,
    "start_time": "2021-12-25T15:33:29.229Z"
   },
   {
    "duration": 11,
    "start_time": "2021-12-25T15:33:48.859Z"
   },
   {
    "duration": 8,
    "start_time": "2021-12-25T15:34:02.331Z"
   },
   {
    "duration": 11,
    "start_time": "2021-12-25T15:34:03.475Z"
   },
   {
    "duration": 11,
    "start_time": "2021-12-25T15:34:04.971Z"
   },
   {
    "duration": 10,
    "start_time": "2021-12-25T15:34:11.060Z"
   },
   {
    "duration": 11,
    "start_time": "2021-12-25T15:35:35.620Z"
   },
   {
    "duration": 10,
    "start_time": "2021-12-25T15:35:56.156Z"
   },
   {
    "duration": 9,
    "start_time": "2021-12-25T15:36:16.110Z"
   },
   {
    "duration": 9,
    "start_time": "2021-12-25T15:36:35.028Z"
   },
   {
    "duration": 10,
    "start_time": "2021-12-25T15:36:40.324Z"
   },
   {
    "duration": 331,
    "start_time": "2021-12-25T15:43:58.087Z"
   },
   {
    "duration": 5,
    "start_time": "2021-12-25T15:44:25.838Z"
   },
   {
    "duration": 4,
    "start_time": "2021-12-25T15:44:44.063Z"
   },
   {
    "duration": 343,
    "start_time": "2021-12-25T15:45:51.519Z"
   },
   {
    "duration": 348,
    "start_time": "2021-12-25T15:46:22.351Z"
   },
   {
    "duration": 598,
    "start_time": "2021-12-25T15:47:45.335Z"
   },
   {
    "duration": 645,
    "start_time": "2021-12-25T15:47:57.920Z"
   },
   {
    "duration": 5,
    "start_time": "2021-12-25T15:51:07.776Z"
   },
   {
    "duration": 683,
    "start_time": "2021-12-25T15:51:09.264Z"
   },
   {
    "duration": 328,
    "start_time": "2021-12-25T15:51:16.664Z"
   },
   {
    "duration": 343,
    "start_time": "2021-12-25T15:51:31.729Z"
   },
   {
    "duration": 1195,
    "start_time": "2021-12-25T15:52:45.133Z"
   },
   {
    "duration": 140,
    "start_time": "2021-12-25T15:52:46.330Z"
   },
   {
    "duration": 10,
    "start_time": "2021-12-25T15:52:46.472Z"
   },
   {
    "duration": 20,
    "start_time": "2021-12-25T15:52:46.484Z"
   },
   {
    "duration": 7,
    "start_time": "2021-12-25T15:52:46.506Z"
   },
   {
    "duration": 8,
    "start_time": "2021-12-25T15:52:46.515Z"
   },
   {
    "duration": 18,
    "start_time": "2021-12-25T15:52:46.524Z"
   },
   {
    "duration": 11,
    "start_time": "2021-12-25T15:52:46.544Z"
   },
   {
    "duration": 16,
    "start_time": "2021-12-25T15:52:46.557Z"
   },
   {
    "duration": 7,
    "start_time": "2021-12-25T15:52:46.574Z"
   },
   {
    "duration": 4,
    "start_time": "2021-12-25T15:52:46.582Z"
   },
   {
    "duration": 10,
    "start_time": "2021-12-25T15:52:46.588Z"
   },
   {
    "duration": 9,
    "start_time": "2021-12-25T15:52:46.628Z"
   },
   {
    "duration": 5,
    "start_time": "2021-12-25T15:52:46.638Z"
   },
   {
    "duration": 7,
    "start_time": "2021-12-25T15:52:46.644Z"
   },
   {
    "duration": 18,
    "start_time": "2021-12-25T15:52:46.652Z"
   },
   {
    "duration": 7,
    "start_time": "2021-12-25T15:52:46.671Z"
   },
   {
    "duration": 12,
    "start_time": "2021-12-25T15:52:46.680Z"
   },
   {
    "duration": 3,
    "start_time": "2021-12-25T15:52:46.694Z"
   },
   {
    "duration": 31,
    "start_time": "2021-12-25T15:52:46.699Z"
   },
   {
    "duration": 500,
    "start_time": "2021-12-25T15:52:46.732Z"
   },
   {
    "duration": 24,
    "start_time": "2021-12-25T15:52:47.234Z"
   },
   {
    "duration": 2,
    "start_time": "2021-12-25T15:52:47.262Z"
   },
   {
    "duration": 11,
    "start_time": "2021-12-25T15:52:47.267Z"
   },
   {
    "duration": 2,
    "start_time": "2021-12-25T15:52:47.280Z"
   },
   {
    "duration": 5,
    "start_time": "2021-12-25T15:52:47.284Z"
   },
   {
    "duration": 6,
    "start_time": "2021-12-25T15:52:47.291Z"
   },
   {
    "duration": 34,
    "start_time": "2021-12-25T15:52:47.299Z"
   },
   {
    "duration": 34,
    "start_time": "2021-12-25T15:52:47.334Z"
   },
   {
    "duration": 28,
    "start_time": "2021-12-25T15:52:47.370Z"
   },
   {
    "duration": 87,
    "start_time": "2021-12-25T15:52:47.400Z"
   },
   {
    "duration": 40,
    "start_time": "2021-12-25T15:52:47.490Z"
   },
   {
    "duration": 84,
    "start_time": "2021-12-25T15:52:47.532Z"
   },
   {
    "duration": 28,
    "start_time": "2021-12-25T15:52:47.617Z"
   },
   {
    "duration": 24,
    "start_time": "2021-12-25T15:52:47.647Z"
   },
   {
    "duration": 6,
    "start_time": "2021-12-25T15:52:47.673Z"
   },
   {
    "duration": 18,
    "start_time": "2021-12-25T15:52:47.680Z"
   },
   {
    "duration": 28,
    "start_time": "2021-12-25T15:52:47.700Z"
   },
   {
    "duration": 3,
    "start_time": "2021-12-25T15:52:47.729Z"
   },
   {
    "duration": 7,
    "start_time": "2021-12-25T15:52:47.733Z"
   },
   {
    "duration": 6,
    "start_time": "2021-12-25T15:52:47.742Z"
   },
   {
    "duration": 9,
    "start_time": "2021-12-25T15:52:47.749Z"
   },
   {
    "duration": 22,
    "start_time": "2021-12-25T15:52:47.759Z"
   },
   {
    "duration": 8,
    "start_time": "2021-12-25T15:52:47.782Z"
   },
   {
    "duration": 261,
    "start_time": "2021-12-25T15:52:47.791Z"
   },
   {
    "duration": 7,
    "start_time": "2021-12-25T15:52:48.054Z"
   },
   {
    "duration": 13,
    "start_time": "2021-12-25T15:52:48.063Z"
   },
   {
    "duration": 12,
    "start_time": "2021-12-25T15:52:48.078Z"
   },
   {
    "duration": 246,
    "start_time": "2021-12-25T15:52:48.092Z"
   },
   {
    "duration": 7,
    "start_time": "2021-12-25T15:52:48.340Z"
   },
   {
    "duration": 36,
    "start_time": "2021-12-25T15:52:48.349Z"
   },
   {
    "duration": 8,
    "start_time": "2021-12-25T15:52:48.386Z"
   },
   {
    "duration": 46,
    "start_time": "2021-12-25T15:52:48.395Z"
   },
   {
    "duration": 115,
    "start_time": "2021-12-25T15:52:48.443Z"
   },
   {
    "duration": 18,
    "start_time": "2021-12-25T15:52:48.542Z"
   },
   {
    "duration": 15,
    "start_time": "2021-12-25T15:52:48.546Z"
   },
   {
    "duration": 14,
    "start_time": "2021-12-25T15:52:48.549Z"
   },
   {
    "duration": 12,
    "start_time": "2021-12-25T15:52:48.552Z"
   },
   {
    "duration": 10,
    "start_time": "2021-12-25T15:52:48.555Z"
   },
   {
    "duration": 8,
    "start_time": "2021-12-25T15:52:48.558Z"
   },
   {
    "duration": 6,
    "start_time": "2021-12-25T15:52:48.561Z"
   },
   {
    "duration": 4,
    "start_time": "2021-12-25T15:52:48.564Z"
   },
   {
    "duration": -5,
    "start_time": "2021-12-25T15:52:48.574Z"
   },
   {
    "duration": 1153,
    "start_time": "2021-12-25T15:53:16.057Z"
   },
   {
    "duration": 136,
    "start_time": "2021-12-25T15:53:17.212Z"
   },
   {
    "duration": 16,
    "start_time": "2021-12-25T15:53:17.350Z"
   },
   {
    "duration": 24,
    "start_time": "2021-12-25T15:53:17.368Z"
   },
   {
    "duration": 6,
    "start_time": "2021-12-25T15:53:17.394Z"
   },
   {
    "duration": 14,
    "start_time": "2021-12-25T15:53:17.402Z"
   },
   {
    "duration": 32,
    "start_time": "2021-12-25T15:53:17.417Z"
   },
   {
    "duration": 16,
    "start_time": "2021-12-25T15:53:17.451Z"
   },
   {
    "duration": 22,
    "start_time": "2021-12-25T15:53:17.469Z"
   },
   {
    "duration": 7,
    "start_time": "2021-12-25T15:53:17.493Z"
   },
   {
    "duration": 28,
    "start_time": "2021-12-25T15:53:17.501Z"
   },
   {
    "duration": 11,
    "start_time": "2021-12-25T15:53:17.530Z"
   },
   {
    "duration": 18,
    "start_time": "2021-12-25T15:53:17.543Z"
   },
   {
    "duration": 33,
    "start_time": "2021-12-25T15:53:17.562Z"
   },
   {
    "duration": 23,
    "start_time": "2021-12-25T15:53:17.596Z"
   },
   {
    "duration": 31,
    "start_time": "2021-12-25T15:53:17.621Z"
   },
   {
    "duration": 31,
    "start_time": "2021-12-25T15:53:17.653Z"
   },
   {
    "duration": 25,
    "start_time": "2021-12-25T15:53:17.686Z"
   },
   {
    "duration": 6,
    "start_time": "2021-12-25T15:53:17.713Z"
   },
   {
    "duration": 13,
    "start_time": "2021-12-25T15:53:17.720Z"
   },
   {
    "duration": 700,
    "start_time": "2021-12-25T15:53:17.734Z"
   },
   {
    "duration": 32,
    "start_time": "2021-12-25T15:53:18.437Z"
   },
   {
    "duration": 3,
    "start_time": "2021-12-25T15:53:18.474Z"
   },
   {
    "duration": 24,
    "start_time": "2021-12-25T15:53:18.480Z"
   },
   {
    "duration": 7,
    "start_time": "2021-12-25T15:53:18.506Z"
   },
   {
    "duration": 17,
    "start_time": "2021-12-25T15:53:18.515Z"
   },
   {
    "duration": 19,
    "start_time": "2021-12-25T15:53:18.534Z"
   },
   {
    "duration": 17,
    "start_time": "2021-12-25T15:53:18.555Z"
   },
   {
    "duration": 63,
    "start_time": "2021-12-25T15:53:18.574Z"
   },
   {
    "duration": 39,
    "start_time": "2021-12-25T15:53:18.639Z"
   },
   {
    "duration": 122,
    "start_time": "2021-12-25T15:53:18.680Z"
   },
   {
    "duration": 37,
    "start_time": "2021-12-25T15:53:18.804Z"
   },
   {
    "duration": 89,
    "start_time": "2021-12-25T15:53:18.843Z"
   },
   {
    "duration": 20,
    "start_time": "2021-12-25T15:53:18.933Z"
   },
   {
    "duration": 23,
    "start_time": "2021-12-25T15:53:18.955Z"
   },
   {
    "duration": 6,
    "start_time": "2021-12-25T15:53:18.980Z"
   },
   {
    "duration": 44,
    "start_time": "2021-12-25T15:53:18.988Z"
   },
   {
    "duration": 3,
    "start_time": "2021-12-25T15:53:19.034Z"
   },
   {
    "duration": 12,
    "start_time": "2021-12-25T15:53:19.039Z"
   },
   {
    "duration": 25,
    "start_time": "2021-12-25T15:53:19.052Z"
   },
   {
    "duration": 13,
    "start_time": "2021-12-25T15:53:19.079Z"
   },
   {
    "duration": 20,
    "start_time": "2021-12-25T15:53:19.094Z"
   },
   {
    "duration": 48,
    "start_time": "2021-12-25T15:53:19.116Z"
   },
   {
    "duration": 10,
    "start_time": "2021-12-25T15:53:19.166Z"
   },
   {
    "duration": 337,
    "start_time": "2021-12-25T15:53:19.179Z"
   },
   {
    "duration": 12,
    "start_time": "2021-12-25T15:53:19.518Z"
   },
   {
    "duration": 19,
    "start_time": "2021-12-25T15:53:19.531Z"
   },
   {
    "duration": 13,
    "start_time": "2021-12-25T15:53:19.552Z"
   },
   {
    "duration": 218,
    "start_time": "2021-12-25T15:53:19.567Z"
   },
   {
    "duration": 6,
    "start_time": "2021-12-25T15:53:19.787Z"
   },
   {
    "duration": 35,
    "start_time": "2021-12-25T15:53:19.795Z"
   },
   {
    "duration": 6,
    "start_time": "2021-12-25T15:53:19.831Z"
   },
   {
    "duration": 29,
    "start_time": "2021-12-25T15:53:19.839Z"
   },
   {
    "duration": 8,
    "start_time": "2021-12-25T15:53:19.870Z"
   },
   {
    "duration": 21,
    "start_time": "2021-12-25T15:53:19.880Z"
   },
   {
    "duration": 15,
    "start_time": "2021-12-25T15:53:19.902Z"
   },
   {
    "duration": 14,
    "start_time": "2021-12-25T15:53:19.919Z"
   },
   {
    "duration": 19,
    "start_time": "2021-12-25T15:53:19.934Z"
   },
   {
    "duration": 10,
    "start_time": "2021-12-25T15:53:19.955Z"
   },
   {
    "duration": 11,
    "start_time": "2021-12-25T15:53:19.967Z"
   },
   {
    "duration": 404,
    "start_time": "2021-12-25T15:53:19.980Z"
   },
   {
    "duration": 419,
    "start_time": "2021-12-25T15:53:20.386Z"
   },
   {
    "duration": 376,
    "start_time": "2021-12-25T15:53:36.657Z"
   },
   {
    "duration": 360,
    "start_time": "2021-12-25T15:53:40.000Z"
   },
   {
    "duration": 329,
    "start_time": "2021-12-25T15:54:19.288Z"
   },
   {
    "duration": 4,
    "start_time": "2021-12-25T15:55:59.336Z"
   },
   {
    "duration": 343,
    "start_time": "2021-12-25T15:56:01.377Z"
   },
   {
    "duration": 388,
    "start_time": "2021-12-25T15:56:03.841Z"
   },
   {
    "duration": 8576,
    "start_time": "2021-12-25T15:58:30.562Z"
   },
   {
    "duration": 13,
    "start_time": "2021-12-25T15:58:53.465Z"
   },
   {
    "duration": 601,
    "start_time": "2021-12-25T15:59:02.730Z"
   },
   {
    "duration": 297,
    "start_time": "2021-12-25T15:59:10.370Z"
   },
   {
    "duration": 4,
    "start_time": "2021-12-25T16:01:57.082Z"
   },
   {
    "duration": 1140,
    "start_time": "2021-12-25T16:02:02.860Z"
   },
   {
    "duration": 116,
    "start_time": "2021-12-25T16:02:04.003Z"
   },
   {
    "duration": 12,
    "start_time": "2021-12-25T16:02:04.121Z"
   },
   {
    "duration": 37,
    "start_time": "2021-12-25T16:02:04.135Z"
   },
   {
    "duration": 6,
    "start_time": "2021-12-25T16:02:04.174Z"
   },
   {
    "duration": 11,
    "start_time": "2021-12-25T16:02:04.181Z"
   },
   {
    "duration": 18,
    "start_time": "2021-12-25T16:02:04.194Z"
   },
   {
    "duration": 23,
    "start_time": "2021-12-25T16:02:04.213Z"
   },
   {
    "duration": 16,
    "start_time": "2021-12-25T16:02:04.238Z"
   },
   {
    "duration": 19,
    "start_time": "2021-12-25T16:02:04.256Z"
   },
   {
    "duration": 8,
    "start_time": "2021-12-25T16:02:04.277Z"
   },
   {
    "duration": 17,
    "start_time": "2021-12-25T16:02:04.287Z"
   },
   {
    "duration": 8,
    "start_time": "2021-12-25T16:02:04.306Z"
   },
   {
    "duration": 10,
    "start_time": "2021-12-25T16:02:04.316Z"
   },
   {
    "duration": 9,
    "start_time": "2021-12-25T16:02:04.327Z"
   },
   {
    "duration": 11,
    "start_time": "2021-12-25T16:02:04.337Z"
   },
   {
    "duration": 20,
    "start_time": "2021-12-25T16:02:04.350Z"
   },
   {
    "duration": 5,
    "start_time": "2021-12-25T16:02:04.372Z"
   },
   {
    "duration": 17,
    "start_time": "2021-12-25T16:02:04.379Z"
   },
   {
    "duration": 5,
    "start_time": "2021-12-25T16:02:04.398Z"
   },
   {
    "duration": 20,
    "start_time": "2021-12-25T16:02:04.405Z"
   },
   {
    "duration": 526,
    "start_time": "2021-12-25T16:02:04.427Z"
   },
   {
    "duration": 27,
    "start_time": "2021-12-25T16:02:04.955Z"
   },
   {
    "duration": 2,
    "start_time": "2021-12-25T16:02:04.984Z"
   },
   {
    "duration": 12,
    "start_time": "2021-12-25T16:02:04.988Z"
   },
   {
    "duration": 3,
    "start_time": "2021-12-25T16:02:05.002Z"
   },
   {
    "duration": 3,
    "start_time": "2021-12-25T16:02:05.030Z"
   },
   {
    "duration": 8,
    "start_time": "2021-12-25T16:02:05.036Z"
   },
   {
    "duration": 14,
    "start_time": "2021-12-25T16:02:05.046Z"
   },
   {
    "duration": 65,
    "start_time": "2021-12-25T16:02:05.062Z"
   },
   {
    "duration": 26,
    "start_time": "2021-12-25T16:02:05.129Z"
   },
   {
    "duration": 87,
    "start_time": "2021-12-25T16:02:05.157Z"
   },
   {
    "duration": 22,
    "start_time": "2021-12-25T16:02:05.250Z"
   },
   {
    "duration": 89,
    "start_time": "2021-12-25T16:02:05.274Z"
   },
   {
    "duration": 21,
    "start_time": "2021-12-25T16:02:05.364Z"
   },
   {
    "duration": 47,
    "start_time": "2021-12-25T16:02:05.387Z"
   },
   {
    "duration": 6,
    "start_time": "2021-12-25T16:02:05.435Z"
   },
   {
    "duration": 19,
    "start_time": "2021-12-25T16:02:05.442Z"
   },
   {
    "duration": 4,
    "start_time": "2021-12-25T16:02:05.462Z"
   },
   {
    "duration": 5,
    "start_time": "2021-12-25T16:02:05.467Z"
   },
   {
    "duration": 7,
    "start_time": "2021-12-25T16:02:05.473Z"
   },
   {
    "duration": 7,
    "start_time": "2021-12-25T16:02:05.482Z"
   },
   {
    "duration": 37,
    "start_time": "2021-12-25T16:02:05.491Z"
   },
   {
    "duration": 21,
    "start_time": "2021-12-25T16:02:05.530Z"
   },
   {
    "duration": 7,
    "start_time": "2021-12-25T16:02:05.553Z"
   },
   {
    "duration": 349,
    "start_time": "2021-12-25T16:02:05.562Z"
   },
   {
    "duration": 14,
    "start_time": "2021-12-25T16:02:05.913Z"
   },
   {
    "duration": 7,
    "start_time": "2021-12-25T16:02:05.929Z"
   },
   {
    "duration": 15,
    "start_time": "2021-12-25T16:02:05.938Z"
   },
   {
    "duration": 256,
    "start_time": "2021-12-25T16:02:05.955Z"
   },
   {
    "duration": 18,
    "start_time": "2021-12-25T16:02:06.213Z"
   },
   {
    "duration": 25,
    "start_time": "2021-12-25T16:02:06.232Z"
   },
   {
    "duration": 7,
    "start_time": "2021-12-25T16:02:06.259Z"
   },
   {
    "duration": 16,
    "start_time": "2021-12-25T16:02:06.267Z"
   },
   {
    "duration": 4,
    "start_time": "2021-12-25T16:02:06.284Z"
   },
   {
    "duration": 38,
    "start_time": "2021-12-25T16:02:06.290Z"
   },
   {
    "duration": 7,
    "start_time": "2021-12-25T16:02:06.330Z"
   },
   {
    "duration": 9,
    "start_time": "2021-12-25T16:02:06.339Z"
   },
   {
    "duration": 10,
    "start_time": "2021-12-25T16:02:06.350Z"
   },
   {
    "duration": 10,
    "start_time": "2021-12-25T16:02:06.362Z"
   },
   {
    "duration": 7,
    "start_time": "2021-12-25T16:02:06.374Z"
   },
   {
    "duration": 439,
    "start_time": "2021-12-25T16:02:06.383Z"
   },
   {
    "duration": 297,
    "start_time": "2021-12-25T16:02:06.824Z"
   },
   {
    "duration": 332,
    "start_time": "2021-12-25T16:02:36.960Z"
   },
   {
    "duration": 291,
    "start_time": "2021-12-25T16:02:39.145Z"
   },
   {
    "duration": 11,
    "start_time": "2021-12-25T16:05:22.698Z"
   },
   {
    "duration": 10,
    "start_time": "2021-12-25T16:05:33.793Z"
   },
   {
    "duration": 168,
    "start_time": "2021-12-25T16:06:47.009Z"
   },
   {
    "duration": 118,
    "start_time": "2021-12-25T16:06:51.578Z"
   },
   {
    "duration": 127,
    "start_time": "2021-12-25T16:07:07.475Z"
   },
   {
    "duration": 102,
    "start_time": "2021-12-25T16:07:14.483Z"
   },
   {
    "duration": 10,
    "start_time": "2021-12-25T16:07:44.218Z"
   },
   {
    "duration": 8,
    "start_time": "2021-12-25T16:08:02.513Z"
   },
   {
    "duration": 460,
    "start_time": "2021-12-25T16:22:12.863Z"
   },
   {
    "duration": 412,
    "start_time": "2021-12-25T16:22:36.742Z"
   },
   {
    "duration": 369,
    "start_time": "2021-12-25T16:22:42.887Z"
   },
   {
    "duration": 478,
    "start_time": "2021-12-25T16:22:47.735Z"
   },
   {
    "duration": 443,
    "start_time": "2021-12-25T16:22:53.286Z"
   },
   {
    "duration": 336,
    "start_time": "2021-12-25T16:23:32.015Z"
   },
   {
    "duration": 446,
    "start_time": "2021-12-25T16:26:11.768Z"
   },
   {
    "duration": 338,
    "start_time": "2021-12-25T16:26:20.799Z"
   },
   {
    "duration": 10,
    "start_time": "2021-12-25T16:26:30.504Z"
   },
   {
    "duration": 1350,
    "start_time": "2021-12-25T16:29:11.362Z"
   },
   {
    "duration": 22,
    "start_time": "2021-12-25T16:29:34.272Z"
   },
   {
    "duration": 25,
    "start_time": "2021-12-25T16:29:58.505Z"
   },
   {
    "duration": 31,
    "start_time": "2021-12-25T16:30:18.984Z"
   },
   {
    "duration": 330,
    "start_time": "2021-12-25T16:31:48.240Z"
   },
   {
    "duration": 320,
    "start_time": "2021-12-25T16:32:07.481Z"
   },
   {
    "duration": 4,
    "start_time": "2021-12-25T16:32:23.265Z"
   },
   {
    "duration": 210,
    "start_time": "2021-12-25T16:32:25.978Z"
   },
   {
    "duration": 372,
    "start_time": "2021-12-25T16:33:51.657Z"
   },
   {
    "duration": 5,
    "start_time": "2021-12-25T16:34:04.370Z"
   },
   {
    "duration": 216,
    "start_time": "2021-12-25T16:34:14.731Z"
   },
   {
    "duration": 324,
    "start_time": "2021-12-25T16:34:44.003Z"
   },
   {
    "duration": 10,
    "start_time": "2021-12-25T16:52:50.808Z"
   },
   {
    "duration": 9,
    "start_time": "2021-12-25T16:52:53.200Z"
   },
   {
    "duration": 8,
    "start_time": "2021-12-25T16:52:56.496Z"
   },
   {
    "duration": 1448,
    "start_time": "2021-12-25T17:15:56.615Z"
   },
   {
    "duration": 94,
    "start_time": "2021-12-25T17:15:58.065Z"
   },
   {
    "duration": 10,
    "start_time": "2021-12-25T17:15:58.161Z"
   },
   {
    "duration": 18,
    "start_time": "2021-12-25T17:15:58.173Z"
   },
   {
    "duration": 5,
    "start_time": "2021-12-25T17:15:58.193Z"
   },
   {
    "duration": 7,
    "start_time": "2021-12-25T17:15:58.200Z"
   },
   {
    "duration": 18,
    "start_time": "2021-12-25T17:15:58.208Z"
   },
   {
    "duration": 11,
    "start_time": "2021-12-25T17:15:58.228Z"
   },
   {
    "duration": 15,
    "start_time": "2021-12-25T17:15:58.240Z"
   },
   {
    "duration": 6,
    "start_time": "2021-12-25T17:15:58.257Z"
   },
   {
    "duration": 4,
    "start_time": "2021-12-25T17:15:58.265Z"
   },
   {
    "duration": 11,
    "start_time": "2021-12-25T17:15:58.270Z"
   },
   {
    "duration": 7,
    "start_time": "2021-12-25T17:15:58.283Z"
   },
   {
    "duration": 4,
    "start_time": "2021-12-25T17:15:58.292Z"
   },
   {
    "duration": 33,
    "start_time": "2021-12-25T17:15:58.297Z"
   },
   {
    "duration": 11,
    "start_time": "2021-12-25T17:15:58.331Z"
   },
   {
    "duration": 6,
    "start_time": "2021-12-25T17:15:58.344Z"
   },
   {
    "duration": 5,
    "start_time": "2021-12-25T17:15:58.352Z"
   },
   {
    "duration": 15,
    "start_time": "2021-12-25T17:15:58.359Z"
   },
   {
    "duration": 4,
    "start_time": "2021-12-25T17:15:58.376Z"
   },
   {
    "duration": 46,
    "start_time": "2021-12-25T17:15:58.382Z"
   },
   {
    "duration": 493,
    "start_time": "2021-12-25T17:15:58.430Z"
   },
   {
    "duration": 22,
    "start_time": "2021-12-25T17:15:58.927Z"
   },
   {
    "duration": 2,
    "start_time": "2021-12-25T17:15:58.952Z"
   },
   {
    "duration": 10,
    "start_time": "2021-12-25T17:15:58.955Z"
   },
   {
    "duration": 5,
    "start_time": "2021-12-25T17:15:58.967Z"
   },
   {
    "duration": 10,
    "start_time": "2021-12-25T17:15:58.973Z"
   },
   {
    "duration": 8,
    "start_time": "2021-12-25T17:15:58.985Z"
   },
   {
    "duration": 13,
    "start_time": "2021-12-25T17:15:58.995Z"
   },
   {
    "duration": 45,
    "start_time": "2021-12-25T17:15:59.010Z"
   },
   {
    "duration": 28,
    "start_time": "2021-12-25T17:15:59.056Z"
   },
   {
    "duration": 93,
    "start_time": "2021-12-25T17:15:59.086Z"
   },
   {
    "duration": 55,
    "start_time": "2021-12-25T17:15:59.181Z"
   },
   {
    "duration": 98,
    "start_time": "2021-12-25T17:15:59.238Z"
   },
   {
    "duration": 18,
    "start_time": "2021-12-25T17:15:59.338Z"
   },
   {
    "duration": 24,
    "start_time": "2021-12-25T17:15:59.357Z"
   },
   {
    "duration": 6,
    "start_time": "2021-12-25T17:15:59.382Z"
   },
   {
    "duration": 49,
    "start_time": "2021-12-25T17:15:59.389Z"
   },
   {
    "duration": 3,
    "start_time": "2021-12-25T17:15:59.440Z"
   },
   {
    "duration": 3,
    "start_time": "2021-12-25T17:15:59.445Z"
   },
   {
    "duration": 7,
    "start_time": "2021-12-25T17:15:59.450Z"
   },
   {
    "duration": 11,
    "start_time": "2021-12-25T17:15:59.458Z"
   },
   {
    "duration": 10,
    "start_time": "2021-12-25T17:15:59.471Z"
   },
   {
    "duration": 27,
    "start_time": "2021-12-25T17:15:59.483Z"
   },
   {
    "duration": 17,
    "start_time": "2021-12-25T17:15:59.511Z"
   },
   {
    "duration": 235,
    "start_time": "2021-12-25T17:15:59.530Z"
   },
   {
    "duration": 6,
    "start_time": "2021-12-25T17:15:59.767Z"
   },
   {
    "duration": 16,
    "start_time": "2021-12-25T17:15:59.775Z"
   },
   {
    "duration": 16,
    "start_time": "2021-12-25T17:15:59.793Z"
   },
   {
    "duration": 327,
    "start_time": "2021-12-25T17:15:59.811Z"
   },
   {
    "duration": 9,
    "start_time": "2021-12-25T17:16:00.140Z"
   },
   {
    "duration": 35,
    "start_time": "2021-12-25T17:16:00.151Z"
   },
   {
    "duration": 8,
    "start_time": "2021-12-25T17:16:00.188Z"
   },
   {
    "duration": 44,
    "start_time": "2021-12-25T17:16:00.198Z"
   },
   {
    "duration": 4,
    "start_time": "2021-12-25T17:16:00.244Z"
   },
   {
    "duration": 15,
    "start_time": "2021-12-25T17:16:00.249Z"
   },
   {
    "duration": 6,
    "start_time": "2021-12-25T17:16:00.266Z"
   },
   {
    "duration": 227,
    "start_time": "2021-12-25T17:16:00.274Z"
   },
   {
    "duration": 420,
    "start_time": "2021-12-25T17:16:00.503Z"
   },
   {
    "duration": 8,
    "start_time": "2021-12-25T17:16:00.925Z"
   },
   {
    "duration": 11,
    "start_time": "2021-12-25T17:16:00.935Z"
   },
   {
    "duration": 9,
    "start_time": "2021-12-25T17:16:00.948Z"
   },
   {
    "duration": 8,
    "start_time": "2021-12-25T17:16:00.958Z"
   },
   {
    "duration": 11,
    "start_time": "2021-12-25T17:16:00.967Z"
   },
   {
    "duration": 1463,
    "start_time": "2021-12-26T15:41:00.532Z"
   },
   {
    "duration": 108,
    "start_time": "2021-12-26T15:41:01.997Z"
   },
   {
    "duration": 13,
    "start_time": "2021-12-26T15:41:02.108Z"
   },
   {
    "duration": 34,
    "start_time": "2021-12-26T15:41:02.124Z"
   },
   {
    "duration": 8,
    "start_time": "2021-12-26T15:41:02.160Z"
   },
   {
    "duration": 27,
    "start_time": "2021-12-26T15:41:02.171Z"
   },
   {
    "duration": 42,
    "start_time": "2021-12-26T15:41:02.200Z"
   },
   {
    "duration": 18,
    "start_time": "2021-12-26T15:41:02.247Z"
   },
   {
    "duration": 57,
    "start_time": "2021-12-26T15:41:02.269Z"
   },
   {
    "duration": 14,
    "start_time": "2021-12-26T15:41:02.329Z"
   },
   {
    "duration": 19,
    "start_time": "2021-12-26T15:41:02.345Z"
   },
   {
    "duration": 19,
    "start_time": "2021-12-26T15:41:02.367Z"
   },
   {
    "duration": 15,
    "start_time": "2021-12-26T15:41:02.388Z"
   },
   {
    "duration": 23,
    "start_time": "2021-12-26T15:41:02.405Z"
   },
   {
    "duration": 12,
    "start_time": "2021-12-26T15:41:02.431Z"
   },
   {
    "duration": 18,
    "start_time": "2021-12-26T15:41:02.446Z"
   },
   {
    "duration": 7,
    "start_time": "2021-12-26T15:41:02.467Z"
   },
   {
    "duration": 7,
    "start_time": "2021-12-26T15:41:02.477Z"
   },
   {
    "duration": 41,
    "start_time": "2021-12-26T15:41:02.487Z"
   },
   {
    "duration": 5,
    "start_time": "2021-12-26T15:41:02.530Z"
   },
   {
    "duration": 19,
    "start_time": "2021-12-26T15:41:02.537Z"
   },
   {
    "duration": 816,
    "start_time": "2021-12-26T15:41:02.559Z"
   },
   {
    "duration": 45,
    "start_time": "2021-12-26T15:41:03.382Z"
   },
   {
    "duration": 3,
    "start_time": "2021-12-26T15:41:03.430Z"
   },
   {
    "duration": 35,
    "start_time": "2021-12-26T15:41:03.436Z"
   },
   {
    "duration": 19,
    "start_time": "2021-12-26T15:41:03.473Z"
   },
   {
    "duration": 13,
    "start_time": "2021-12-26T15:41:03.494Z"
   },
   {
    "duration": 28,
    "start_time": "2021-12-26T15:41:03.509Z"
   },
   {
    "duration": 20,
    "start_time": "2021-12-26T15:41:03.539Z"
   },
   {
    "duration": 50,
    "start_time": "2021-12-26T15:41:03.562Z"
   },
   {
    "duration": 43,
    "start_time": "2021-12-26T15:41:03.614Z"
   },
   {
    "duration": 114,
    "start_time": "2021-12-26T15:41:03.660Z"
   },
   {
    "duration": 46,
    "start_time": "2021-12-26T15:41:03.777Z"
   },
   {
    "duration": 126,
    "start_time": "2021-12-26T15:41:03.825Z"
   },
   {
    "duration": 31,
    "start_time": "2021-12-26T15:41:03.953Z"
   },
   {
    "duration": 59,
    "start_time": "2021-12-26T15:41:03.986Z"
   },
   {
    "duration": 7,
    "start_time": "2021-12-26T15:41:04.048Z"
   },
   {
    "duration": 31,
    "start_time": "2021-12-26T15:41:04.058Z"
   },
   {
    "duration": 34,
    "start_time": "2021-12-26T15:41:04.091Z"
   },
   {
    "duration": 5,
    "start_time": "2021-12-26T15:41:04.127Z"
   },
   {
    "duration": 11,
    "start_time": "2021-12-26T15:41:04.135Z"
   },
   {
    "duration": 12,
    "start_time": "2021-12-26T15:41:04.148Z"
   },
   {
    "duration": 8,
    "start_time": "2021-12-26T15:41:04.162Z"
   },
   {
    "duration": 72,
    "start_time": "2021-12-26T15:41:04.172Z"
   },
   {
    "duration": 11,
    "start_time": "2021-12-26T15:41:04.247Z"
   },
   {
    "duration": 400,
    "start_time": "2021-12-26T15:41:04.260Z"
   },
   {
    "duration": 10,
    "start_time": "2021-12-26T15:41:04.663Z"
   },
   {
    "duration": 11,
    "start_time": "2021-12-26T15:41:04.676Z"
   },
   {
    "duration": 47,
    "start_time": "2021-12-26T15:41:04.689Z"
   },
   {
    "duration": 374,
    "start_time": "2021-12-26T15:41:04.738Z"
   },
   {
    "duration": 14,
    "start_time": "2021-12-26T15:41:05.115Z"
   },
   {
    "duration": 49,
    "start_time": "2021-12-26T15:41:05.131Z"
   },
   {
    "duration": 9,
    "start_time": "2021-12-26T15:41:05.183Z"
   },
   {
    "duration": 48,
    "start_time": "2021-12-26T15:41:05.194Z"
   },
   {
    "duration": 6,
    "start_time": "2021-12-26T15:41:05.244Z"
   },
   {
    "duration": 15,
    "start_time": "2021-12-26T15:41:05.253Z"
   },
   {
    "duration": 19,
    "start_time": "2021-12-26T15:41:05.270Z"
   },
   {
    "duration": 370,
    "start_time": "2021-12-26T15:41:05.291Z"
   },
   {
    "duration": 603,
    "start_time": "2021-12-26T15:41:05.663Z"
   },
   {
    "duration": 13,
    "start_time": "2021-12-26T15:41:06.269Z"
   },
   {
    "duration": 42,
    "start_time": "2021-12-26T15:41:06.284Z"
   },
   {
    "duration": 14,
    "start_time": "2021-12-26T15:41:06.328Z"
   },
   {
    "duration": 10,
    "start_time": "2021-12-26T15:41:06.345Z"
   },
   {
    "duration": 13,
    "start_time": "2021-12-26T15:41:06.357Z"
   },
   {
    "duration": 363,
    "start_time": "2021-12-26T16:49:29.212Z"
   },
   {
    "duration": 1470,
    "start_time": "2021-12-26T16:49:36.307Z"
   },
   {
    "duration": 104,
    "start_time": "2021-12-26T16:49:37.780Z"
   },
   {
    "duration": 15,
    "start_time": "2021-12-26T16:49:37.890Z"
   },
   {
    "duration": 27,
    "start_time": "2021-12-26T16:49:37.907Z"
   },
   {
    "duration": 9,
    "start_time": "2021-12-26T16:49:37.937Z"
   },
   {
    "duration": 17,
    "start_time": "2021-12-26T16:49:37.948Z"
   },
   {
    "duration": 24,
    "start_time": "2021-12-26T16:49:37.968Z"
   },
   {
    "duration": 44,
    "start_time": "2021-12-26T16:49:37.994Z"
   },
   {
    "duration": 26,
    "start_time": "2021-12-26T16:49:38.040Z"
   },
   {
    "duration": 7,
    "start_time": "2021-12-26T16:49:38.069Z"
   },
   {
    "duration": 7,
    "start_time": "2021-12-26T16:49:38.079Z"
   },
   {
    "duration": 55,
    "start_time": "2021-12-26T16:49:38.088Z"
   },
   {
    "duration": 16,
    "start_time": "2021-12-26T16:49:38.146Z"
   },
   {
    "duration": 7,
    "start_time": "2021-12-26T16:49:38.164Z"
   },
   {
    "duration": 4,
    "start_time": "2021-12-26T16:49:38.173Z"
   },
   {
    "duration": 52,
    "start_time": "2021-12-26T16:49:38.179Z"
   },
   {
    "duration": 9,
    "start_time": "2021-12-26T16:49:38.234Z"
   },
   {
    "duration": 6,
    "start_time": "2021-12-26T16:49:38.246Z"
   },
   {
    "duration": 22,
    "start_time": "2021-12-26T16:49:38.255Z"
   },
   {
    "duration": 44,
    "start_time": "2021-12-26T16:49:38.280Z"
   },
   {
    "duration": 19,
    "start_time": "2021-12-26T16:49:38.327Z"
   },
   {
    "duration": 694,
    "start_time": "2021-12-26T16:49:38.355Z"
   },
   {
    "duration": 39,
    "start_time": "2021-12-26T16:49:39.053Z"
   },
   {
    "duration": 4,
    "start_time": "2021-12-26T16:49:39.094Z"
   },
   {
    "duration": 30,
    "start_time": "2021-12-26T16:49:39.100Z"
   },
   {
    "duration": 4,
    "start_time": "2021-12-26T16:49:39.132Z"
   },
   {
    "duration": 8,
    "start_time": "2021-12-26T16:49:39.138Z"
   },
   {
    "duration": 10,
    "start_time": "2021-12-26T16:49:39.149Z"
   },
   {
    "duration": 14,
    "start_time": "2021-12-26T16:49:39.161Z"
   },
   {
    "duration": 78,
    "start_time": "2021-12-26T16:49:39.178Z"
   },
   {
    "duration": 41,
    "start_time": "2021-12-26T16:49:39.259Z"
   },
   {
    "duration": 143,
    "start_time": "2021-12-26T16:49:39.304Z"
   },
   {
    "duration": 36,
    "start_time": "2021-12-26T16:49:39.450Z"
   },
   {
    "duration": 126,
    "start_time": "2021-12-26T16:49:39.488Z"
   },
   {
    "duration": 35,
    "start_time": "2021-12-26T16:49:39.617Z"
   },
   {
    "duration": 42,
    "start_time": "2021-12-26T16:49:39.654Z"
   },
   {
    "duration": 9,
    "start_time": "2021-12-26T16:49:39.725Z"
   },
   {
    "duration": 43,
    "start_time": "2021-12-26T16:49:39.736Z"
   },
   {
    "duration": 5,
    "start_time": "2021-12-26T16:49:39.781Z"
   },
   {
    "duration": 14,
    "start_time": "2021-12-26T16:49:39.789Z"
   },
   {
    "duration": 24,
    "start_time": "2021-12-26T16:49:39.805Z"
   },
   {
    "duration": 20,
    "start_time": "2021-12-26T16:49:39.831Z"
   },
   {
    "duration": 22,
    "start_time": "2021-12-26T16:49:39.853Z"
   },
   {
    "duration": 39,
    "start_time": "2021-12-26T16:49:39.877Z"
   },
   {
    "duration": 9,
    "start_time": "2021-12-26T16:49:39.918Z"
   },
   {
    "duration": 388,
    "start_time": "2021-12-26T16:49:39.929Z"
   },
   {
    "duration": 599,
    "start_time": "2021-12-26T16:49:40.323Z"
   },
   {
    "duration": 757,
    "start_time": "2021-12-26T16:49:40.167Z"
   },
   {
    "duration": 754,
    "start_time": "2021-12-26T16:49:40.172Z"
   },
   {
    "duration": 751,
    "start_time": "2021-12-26T16:49:40.176Z"
   },
   {
    "duration": 748,
    "start_time": "2021-12-26T16:49:40.181Z"
   },
   {
    "duration": 745,
    "start_time": "2021-12-26T16:49:40.185Z"
   },
   {
    "duration": 743,
    "start_time": "2021-12-26T16:49:40.189Z"
   },
   {
    "duration": 741,
    "start_time": "2021-12-26T16:49:40.192Z"
   },
   {
    "duration": 738,
    "start_time": "2021-12-26T16:49:40.197Z"
   },
   {
    "duration": 735,
    "start_time": "2021-12-26T16:49:40.201Z"
   },
   {
    "duration": 728,
    "start_time": "2021-12-26T16:49:40.210Z"
   },
   {
    "duration": 724,
    "start_time": "2021-12-26T16:49:40.215Z"
   },
   {
    "duration": 721,
    "start_time": "2021-12-26T16:49:40.220Z"
   },
   {
    "duration": 718,
    "start_time": "2021-12-26T16:49:40.224Z"
   },
   {
    "duration": 715,
    "start_time": "2021-12-26T16:49:40.229Z"
   },
   {
    "duration": 711,
    "start_time": "2021-12-26T16:49:40.234Z"
   },
   {
    "duration": 706,
    "start_time": "2021-12-26T16:49:40.240Z"
   },
   {
    "duration": 703,
    "start_time": "2021-12-26T16:49:40.245Z"
   },
   {
    "duration": 696,
    "start_time": "2021-12-26T16:49:40.254Z"
   },
   {
    "duration": 17,
    "start_time": "2021-12-26T16:50:05.911Z"
   },
   {
    "duration": 25,
    "start_time": "2021-12-26T16:50:46.999Z"
   },
   {
    "duration": 18,
    "start_time": "2021-12-26T16:51:44.432Z"
   },
   {
    "duration": 14,
    "start_time": "2021-12-26T16:51:58.887Z"
   },
   {
    "duration": 10,
    "start_time": "2021-12-26T16:52:17.352Z"
   },
   {
    "duration": 5,
    "start_time": "2021-12-26T16:52:28.575Z"
   },
   {
    "duration": 425,
    "start_time": "2021-12-26T16:52:41.768Z"
   },
   {
    "duration": 288,
    "start_time": "2021-12-26T16:52:54.495Z"
   },
   {
    "duration": 371,
    "start_time": "2021-12-26T16:53:11.840Z"
   },
   {
    "duration": 26,
    "start_time": "2021-12-26T16:53:23.200Z"
   },
   {
    "duration": 11,
    "start_time": "2021-12-26T16:53:24.624Z"
   },
   {
    "duration": 5,
    "start_time": "2021-12-26T16:53:36.376Z"
   },
   {
    "duration": 21,
    "start_time": "2021-12-26T16:53:43.296Z"
   },
   {
    "duration": 97057,
    "start_time": "2021-12-26T16:54:21.544Z"
   },
   {
    "duration": 97152,
    "start_time": "2021-12-26T17:02:11.638Z"
   },
   {
    "duration": 9254,
    "start_time": "2021-12-26T17:18:38.696Z"
   },
   {
    "duration": 1551,
    "start_time": "2021-12-26T17:21:01.868Z"
   },
   {
    "duration": 102,
    "start_time": "2021-12-26T17:21:03.424Z"
   },
   {
    "duration": 15,
    "start_time": "2021-12-26T17:21:03.529Z"
   },
   {
    "duration": 29,
    "start_time": "2021-12-26T17:21:03.547Z"
   },
   {
    "duration": 10,
    "start_time": "2021-12-26T17:21:03.580Z"
   },
   {
    "duration": 12,
    "start_time": "2021-12-26T17:21:03.625Z"
   },
   {
    "duration": 28,
    "start_time": "2021-12-26T17:21:03.640Z"
   },
   {
    "duration": 51,
    "start_time": "2021-12-26T17:21:03.672Z"
   },
   {
    "duration": 27,
    "start_time": "2021-12-26T17:21:03.726Z"
   },
   {
    "duration": 20,
    "start_time": "2021-12-26T17:21:03.756Z"
   },
   {
    "duration": 18,
    "start_time": "2021-12-26T17:21:03.778Z"
   },
   {
    "duration": 25,
    "start_time": "2021-12-26T17:21:03.798Z"
   },
   {
    "duration": 23,
    "start_time": "2021-12-26T17:21:03.826Z"
   },
   {
    "duration": 9,
    "start_time": "2021-12-26T17:21:03.851Z"
   },
   {
    "duration": 16,
    "start_time": "2021-12-26T17:21:03.863Z"
   },
   {
    "duration": 32,
    "start_time": "2021-12-26T17:21:03.881Z"
   },
   {
    "duration": 24,
    "start_time": "2021-12-26T17:21:03.916Z"
   },
   {
    "duration": 18,
    "start_time": "2021-12-26T17:21:03.942Z"
   },
   {
    "duration": 49,
    "start_time": "2021-12-26T17:21:03.963Z"
   },
   {
    "duration": 9,
    "start_time": "2021-12-26T17:21:04.014Z"
   },
   {
    "duration": 19,
    "start_time": "2021-12-26T17:21:04.026Z"
   },
   {
    "duration": 645,
    "start_time": "2021-12-26T17:21:04.048Z"
   },
   {
    "duration": 48,
    "start_time": "2021-12-26T17:21:04.700Z"
   },
   {
    "duration": 4,
    "start_time": "2021-12-26T17:21:04.751Z"
   },
   {
    "duration": 23,
    "start_time": "2021-12-26T17:21:04.757Z"
   },
   {
    "duration": 20,
    "start_time": "2021-12-26T17:21:04.782Z"
   },
   {
    "duration": 15,
    "start_time": "2021-12-26T17:21:04.804Z"
   },
   {
    "duration": 18,
    "start_time": "2021-12-26T17:21:04.821Z"
   },
   {
    "duration": 28,
    "start_time": "2021-12-26T17:21:04.841Z"
   },
   {
    "duration": 53,
    "start_time": "2021-12-26T17:21:04.872Z"
   },
   {
    "duration": 59,
    "start_time": "2021-12-26T17:21:04.927Z"
   },
   {
    "duration": 103,
    "start_time": "2021-12-26T17:21:04.989Z"
   },
   {
    "duration": 49,
    "start_time": "2021-12-26T17:21:05.094Z"
   },
   {
    "duration": 125,
    "start_time": "2021-12-26T17:21:05.145Z"
   },
   {
    "duration": 31,
    "start_time": "2021-12-26T17:21:05.273Z"
   },
   {
    "duration": 36,
    "start_time": "2021-12-26T17:21:05.324Z"
   },
   {
    "duration": 20,
    "start_time": "2021-12-26T17:21:05.363Z"
   },
   {
    "duration": 46,
    "start_time": "2021-12-26T17:21:05.385Z"
   },
   {
    "duration": 6,
    "start_time": "2021-12-26T17:21:05.434Z"
   },
   {
    "duration": 15,
    "start_time": "2021-12-26T17:21:05.442Z"
   },
   {
    "duration": 21,
    "start_time": "2021-12-26T17:21:05.459Z"
   },
   {
    "duration": 38,
    "start_time": "2021-12-26T17:21:05.482Z"
   },
   {
    "duration": 18,
    "start_time": "2021-12-26T17:21:05.522Z"
   },
   {
    "duration": 46,
    "start_time": "2021-12-26T17:21:05.542Z"
   },
   {
    "duration": 9,
    "start_time": "2021-12-26T17:21:05.591Z"
   },
   {
    "duration": 388,
    "start_time": "2021-12-26T17:21:05.603Z"
   },
   {
    "duration": 30,
    "start_time": "2021-12-26T17:21:05.993Z"
   },
   {
    "duration": 18,
    "start_time": "2021-12-26T17:21:06.025Z"
   },
   {
    "duration": 19,
    "start_time": "2021-12-26T17:21:06.045Z"
   },
   {
    "duration": 14,
    "start_time": "2021-12-26T17:21:06.067Z"
   },
   {
    "duration": 39,
    "start_time": "2021-12-26T17:21:06.083Z"
   },
   {
    "duration": 19,
    "start_time": "2021-12-26T17:21:06.125Z"
   },
   {
    "duration": 9,
    "start_time": "2021-12-26T17:21:06.146Z"
   },
   {
    "duration": 34,
    "start_time": "2021-12-26T17:21:06.158Z"
   },
   {
    "duration": 30,
    "start_time": "2021-12-26T17:21:06.195Z"
   },
   {
    "duration": 25,
    "start_time": "2021-12-26T17:21:06.227Z"
   },
   {
    "duration": 20,
    "start_time": "2021-12-26T17:21:06.255Z"
   },
   {
    "duration": 31,
    "start_time": "2021-12-26T17:21:06.277Z"
   },
   {
    "duration": 10,
    "start_time": "2021-12-26T17:21:06.310Z"
   },
   {
    "duration": 42,
    "start_time": "2021-12-26T17:21:06.323Z"
   },
   {
    "duration": 9,
    "start_time": "2021-12-26T17:21:06.367Z"
   },
   {
    "duration": 56,
    "start_time": "2021-12-26T17:21:06.378Z"
   },
   {
    "duration": 7,
    "start_time": "2021-12-26T17:21:06.436Z"
   },
   {
    "duration": 12,
    "start_time": "2021-12-26T17:21:06.445Z"
   },
   {
    "duration": 8,
    "start_time": "2021-12-26T17:21:06.460Z"
   },
   {
    "duration": 399,
    "start_time": "2021-12-26T17:21:06.471Z"
   },
   {
    "duration": 606,
    "start_time": "2021-12-26T17:21:06.873Z"
   },
   {
    "duration": 11,
    "start_time": "2021-12-26T17:21:07.485Z"
   },
   {
    "duration": 36,
    "start_time": "2021-12-26T17:21:07.498Z"
   },
   {
    "duration": 13,
    "start_time": "2021-12-26T17:21:07.537Z"
   },
   {
    "duration": 17,
    "start_time": "2021-12-26T17:21:07.553Z"
   },
   {
    "duration": 12,
    "start_time": "2021-12-26T17:21:07.573Z"
   },
   {
    "duration": 130346,
    "start_time": "2021-12-26T17:24:37.416Z"
   },
   {
    "duration": 2388,
    "start_time": "2021-12-26T17:33:16.860Z"
   },
   {
    "duration": 484,
    "start_time": "2021-12-26T17:35:23.964Z"
   },
   {
    "duration": 50807,
    "start_time": "2021-12-26T17:36:09.430Z"
   },
   {
    "duration": 354,
    "start_time": "2021-12-26T17:37:49.813Z"
   },
   {
    "duration": 713,
    "start_time": "2021-12-26T17:37:56.853Z"
   },
   {
    "duration": 1355,
    "start_time": "2021-12-26T17:38:18.197Z"
   },
   {
    "duration": 1682,
    "start_time": "2021-12-26T17:38:32.085Z"
   },
   {
    "duration": 1326,
    "start_time": "2021-12-26T17:40:42.166Z"
   }
  ],
  "colab": {
   "name": "DA+. Сборный проект 1. Шаблон (1).ipynb",
   "provenance": []
  },
  "kernelspec": {
   "display_name": "Python 3 (ipykernel)",
   "language": "python",
   "name": "python3"
  },
  "language_info": {
   "codemirror_mode": {
    "name": "ipython",
    "version": 3
   },
   "file_extension": ".py",
   "mimetype": "text/x-python",
   "name": "python",
   "nbconvert_exporter": "python",
   "pygments_lexer": "ipython3",
   "version": "3.9.7"
  },
  "toc": {
   "base_numbering": 1,
   "nav_menu": {},
   "number_sections": false,
   "sideBar": true,
   "skip_h1_title": false,
   "title_cell": "Table of Contents",
   "title_sidebar": "Contents",
   "toc_cell": false,
   "toc_position": {
    "height": "calc(100% - 180px)",
    "left": "10px",
    "top": "150px",
    "width": "375.383px"
   },
   "toc_section_display": true,
   "toc_window_display": true
  }
 },
 "nbformat": 4,
 "nbformat_minor": 1
}
