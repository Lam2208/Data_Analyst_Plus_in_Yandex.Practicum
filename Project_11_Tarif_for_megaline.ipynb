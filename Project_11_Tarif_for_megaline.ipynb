{
 "cells": [
  {
   "cell_type": "markdown",
   "metadata": {},
   "source": [
    "# Определение перспективного тарифа для телеком-компании"
   ]
  },
  {
   "cell_type": "markdown",
   "metadata": {},
   "source": [
    "**Описание проекта**\n",
    "\n",
    "Мы выступаем в качестве аналитика компании «Мегалайн» — федерального оператора сотовой связи. Клиентам предлагают два тарифных плана: «Смарт» и «Ультра». Чтобы скорректировать рекламный бюджет, коммерческий департамент хочет понять, какой тариф приносит больше денег.\n",
    "\n",
    "Нам предстоит сделать предварительный анализ тарифов на небольшой выборке клиентов. В нашем распоряжении данные 500 пользователей «Мегалайна»: кто они, откуда, каким тарифом пользуются, сколько звонков и сообщений каждый отправил за 2018 год. Нужно проанализировать поведение клиентов и сделать вывод — какой тариф лучше.\n",
    "\n",
    "**Описание тарифов**\n",
    "\n",
    "**Тариф «Смарт»**\n",
    "\n",
    "1. Ежемесячная плата: 550 рублей\n",
    "2. Включено 500 минут разговора, 50 сообщений и 15 Гб интернет-трафика\n",
    "3. Стоимость услуг сверх тарифного пакета:\n",
    "- минута разговора: 3 рубля\n",
    "- сообщение: 3 рубля\n",
    "- 1 Гб интернет-трафика: 200 рублей\n",
    "\n",
    "**Тариф «Ультра»**\n",
    "\n",
    "1. Ежемесячная плата: 1950 рублей\n",
    "2. Включено 3000 минут разговора, 1000 сообщений и 30 Гб интернет-трафика\n",
    "3. Стоимость услуг сверх тарифного пакета:\n",
    "- минута разговора: 1 рубль\n",
    "- сообщение: 1 рубль\n",
    "- 1 Гб интернет-трафика: 150 рублей"
   ]
  },
  {
   "cell_type": "markdown",
   "metadata": {},
   "source": [
    "**Описание данных**\n",
    "\n",
    "Таблица **users** (содержит информацию о пользователях связи):\n",
    "\n",
    "- user_id — уникальный идентификатор пользователя\n",
    "- first_name — имя пользователя\n",
    "- last_name — фамилия пользователя\n",
    "- age — возраст пользователя (годы)\n",
    "- reg_date — дата подключения тарифа (день, месяц, год)\n",
    "- churn_date — дата прекращения пользования тарифом (если значение пропущено, то тариф ещё действовал на момент выгрузки данных)\n",
    "- city — город проживания пользователя\n",
    "- tariff — название тарифного плана\n",
    "\n",
    "Таблица **calls** (содержит информацию о звонках зарегистрированных пользователей):\n",
    "\n",
    "- id — уникальный номер звонка\n",
    "- call_date — дата звонка\n",
    "- duration — длительность звонка в минутах\n",
    "- user_id — идентификатор пользователя, сделавшего звонок\n",
    "\n",
    "Таблица **messages** (содержит информацию о сообщениях зарегистрированных пользователей):\n",
    "\n",
    "- id — уникальный номер сообщения\n",
    "- message_date — дата сообщения\n",
    "- user_id — идентификатор пользователя, отправившего сообщение\n",
    "\n",
    "Таблица **internet** (содержит информацию об интернет-сессиях зарегистрированных пользователей):\n",
    "\n",
    "- id — уникальный номер сессии\n",
    "- mb_used — объём потраченного за сессию интернет-трафика (в мегабайтах)\n",
    "- session_date — дата интернет-сессии\n",
    "- user_id — идентификатор пользователя\n",
    "\n",
    "Таблица **tariffs** (содержит информацию о тарифах для пользователей связи):\n",
    "\n",
    "- tariff_name — название тарифа\n",
    "- rub_monthly_fee — ежемесячная абонентская плата в рублях\n",
    "- minutes_included — количество минут разговора в месяц, включённых в абонентскую плату\n",
    "- messages_included — количество сообщений в месяц, включённых в абонентскую плату\n",
    "- mb_per_month_included — объём интернет-трафика, включённого в абонентскую плату (в мегабайтах)\n",
    "- rub_per_minute — стоимость минуты разговора сверх тарифного пакета (например, если в тарифе 100 минут разговора в месяц, то со 101 минуты будет взиматься плата)\n",
    "- rub_per_message — стоимость отправки сообщения сверх тарифного пакета\n",
    "- rub_per_gb — стоимость дополнительного гигабайта интернет-трафика сверх тарифного пакета (1 гигабайт = 1024 мегабайта)"
   ]
  },
  {
   "cell_type": "markdown",
   "metadata": {},
   "source": [
    "## Откройте файл с данными и изучите общую информацию"
   ]
  },
  {
   "cell_type": "code",
   "execution_count": 1,
   "metadata": {},
   "outputs": [],
   "source": [
    "import warnings\n",
    "warnings.filterwarnings('ignore')\n",
    "import pandas as pd\n",
    "import matplotlib.pyplot as plt\n",
    "import numpy as np\n",
    "import seaborn as sns\n",
    "import math\n",
    "from scipy import stats as st"
   ]
  },
  {
   "cell_type": "code",
   "execution_count": 2,
   "metadata": {},
   "outputs": [],
   "source": [
    "try:\n",
    "    calls = pd.read_csv('calls.csv')\n",
    "    internet = pd.read_csv('internet.csv')\n",
    "    messages = pd.read_csv('messages.csv')\n",
    "    tariffs = pd.read_csv('tariffs.csv')\n",
    "    users = pd.read_csv('users.csv')\n",
    "except:\n",
    "    calls = pd.read_csv('/datasets/calls.csv')\n",
    "    internet = pd.read_csv('/datasets/internet.csv')\n",
    "    messages = pd.read_csv('/datasets/messages.csv')\n",
    "    tariffs = pd.read_csv('/datasets/tariffs.csv')\n",
    "    users = pd.read_csv('/datasets/users.csv') "
   ]
  },
  {
   "cell_type": "markdown",
   "metadata": {},
   "source": [
    "### Таблица calls"
   ]
  },
  {
   "cell_type": "code",
   "execution_count": 3,
   "metadata": {
    "scrolled": false
   },
   "outputs": [
    {
     "data": {
      "text/html": [
       "<div>\n",
       "<style scoped>\n",
       "    .dataframe tbody tr th:only-of-type {\n",
       "        vertical-align: middle;\n",
       "    }\n",
       "\n",
       "    .dataframe tbody tr th {\n",
       "        vertical-align: top;\n",
       "    }\n",
       "\n",
       "    .dataframe thead th {\n",
       "        text-align: right;\n",
       "    }\n",
       "</style>\n",
       "<table border=\"1\" class=\"dataframe\">\n",
       "  <thead>\n",
       "    <tr style=\"text-align: right;\">\n",
       "      <th></th>\n",
       "      <th>id</th>\n",
       "      <th>call_date</th>\n",
       "      <th>duration</th>\n",
       "      <th>user_id</th>\n",
       "    </tr>\n",
       "  </thead>\n",
       "  <tbody>\n",
       "    <tr>\n",
       "      <th>0</th>\n",
       "      <td>1000_0</td>\n",
       "      <td>2018-07-25</td>\n",
       "      <td>0.00</td>\n",
       "      <td>1000</td>\n",
       "    </tr>\n",
       "    <tr>\n",
       "      <th>1</th>\n",
       "      <td>1000_1</td>\n",
       "      <td>2018-08-17</td>\n",
       "      <td>0.00</td>\n",
       "      <td>1000</td>\n",
       "    </tr>\n",
       "    <tr>\n",
       "      <th>2</th>\n",
       "      <td>1000_2</td>\n",
       "      <td>2018-06-11</td>\n",
       "      <td>2.85</td>\n",
       "      <td>1000</td>\n",
       "    </tr>\n",
       "    <tr>\n",
       "      <th>3</th>\n",
       "      <td>1000_3</td>\n",
       "      <td>2018-09-21</td>\n",
       "      <td>13.80</td>\n",
       "      <td>1000</td>\n",
       "    </tr>\n",
       "    <tr>\n",
       "      <th>4</th>\n",
       "      <td>1000_4</td>\n",
       "      <td>2018-12-15</td>\n",
       "      <td>5.18</td>\n",
       "      <td>1000</td>\n",
       "    </tr>\n",
       "  </tbody>\n",
       "</table>\n",
       "</div>"
      ],
      "text/plain": [
       "       id   call_date  duration  user_id\n",
       "0  1000_0  2018-07-25      0.00     1000\n",
       "1  1000_1  2018-08-17      0.00     1000\n",
       "2  1000_2  2018-06-11      2.85     1000\n",
       "3  1000_3  2018-09-21     13.80     1000\n",
       "4  1000_4  2018-12-15      5.18     1000"
      ]
     },
     "metadata": {},
     "output_type": "display_data"
    },
    {
     "name": "stdout",
     "output_type": "stream",
     "text": [
      "<class 'pandas.core.frame.DataFrame'>\n",
      "RangeIndex: 202607 entries, 0 to 202606\n",
      "Data columns (total 4 columns):\n",
      " #   Column     Non-Null Count   Dtype  \n",
      "---  ------     --------------   -----  \n",
      " 0   id         202607 non-null  object \n",
      " 1   call_date  202607 non-null  object \n",
      " 2   duration   202607 non-null  float64\n",
      " 3   user_id    202607 non-null  int64  \n",
      "dtypes: float64(1), int64(1), object(2)\n",
      "memory usage: 6.2+ MB\n"
     ]
    }
   ],
   "source": [
    "display(calls.head())\n",
    "calls.info()"
   ]
  },
  {
   "cell_type": "markdown",
   "metadata": {},
   "source": [
    "### Таблица internet"
   ]
  },
  {
   "cell_type": "code",
   "execution_count": 4,
   "metadata": {
    "scrolled": true
   },
   "outputs": [
    {
     "data": {
      "text/html": [
       "<div>\n",
       "<style scoped>\n",
       "    .dataframe tbody tr th:only-of-type {\n",
       "        vertical-align: middle;\n",
       "    }\n",
       "\n",
       "    .dataframe tbody tr th {\n",
       "        vertical-align: top;\n",
       "    }\n",
       "\n",
       "    .dataframe thead th {\n",
       "        text-align: right;\n",
       "    }\n",
       "</style>\n",
       "<table border=\"1\" class=\"dataframe\">\n",
       "  <thead>\n",
       "    <tr style=\"text-align: right;\">\n",
       "      <th></th>\n",
       "      <th>Unnamed: 0</th>\n",
       "      <th>id</th>\n",
       "      <th>mb_used</th>\n",
       "      <th>session_date</th>\n",
       "      <th>user_id</th>\n",
       "    </tr>\n",
       "  </thead>\n",
       "  <tbody>\n",
       "    <tr>\n",
       "      <th>0</th>\n",
       "      <td>0</td>\n",
       "      <td>1000_0</td>\n",
       "      <td>112.95</td>\n",
       "      <td>2018-11-25</td>\n",
       "      <td>1000</td>\n",
       "    </tr>\n",
       "    <tr>\n",
       "      <th>1</th>\n",
       "      <td>1</td>\n",
       "      <td>1000_1</td>\n",
       "      <td>1052.81</td>\n",
       "      <td>2018-09-07</td>\n",
       "      <td>1000</td>\n",
       "    </tr>\n",
       "    <tr>\n",
       "      <th>2</th>\n",
       "      <td>2</td>\n",
       "      <td>1000_2</td>\n",
       "      <td>1197.26</td>\n",
       "      <td>2018-06-25</td>\n",
       "      <td>1000</td>\n",
       "    </tr>\n",
       "    <tr>\n",
       "      <th>3</th>\n",
       "      <td>3</td>\n",
       "      <td>1000_3</td>\n",
       "      <td>550.27</td>\n",
       "      <td>2018-08-22</td>\n",
       "      <td>1000</td>\n",
       "    </tr>\n",
       "    <tr>\n",
       "      <th>4</th>\n",
       "      <td>4</td>\n",
       "      <td>1000_4</td>\n",
       "      <td>302.56</td>\n",
       "      <td>2018-09-24</td>\n",
       "      <td>1000</td>\n",
       "    </tr>\n",
       "  </tbody>\n",
       "</table>\n",
       "</div>"
      ],
      "text/plain": [
       "   Unnamed: 0      id  mb_used session_date  user_id\n",
       "0           0  1000_0   112.95   2018-11-25     1000\n",
       "1           1  1000_1  1052.81   2018-09-07     1000\n",
       "2           2  1000_2  1197.26   2018-06-25     1000\n",
       "3           3  1000_3   550.27   2018-08-22     1000\n",
       "4           4  1000_4   302.56   2018-09-24     1000"
      ]
     },
     "metadata": {},
     "output_type": "display_data"
    },
    {
     "name": "stdout",
     "output_type": "stream",
     "text": [
      "<class 'pandas.core.frame.DataFrame'>\n",
      "RangeIndex: 149396 entries, 0 to 149395\n",
      "Data columns (total 5 columns):\n",
      " #   Column        Non-Null Count   Dtype  \n",
      "---  ------        --------------   -----  \n",
      " 0   Unnamed: 0    149396 non-null  int64  \n",
      " 1   id            149396 non-null  object \n",
      " 2   mb_used       149396 non-null  float64\n",
      " 3   session_date  149396 non-null  object \n",
      " 4   user_id       149396 non-null  int64  \n",
      "dtypes: float64(1), int64(2), object(2)\n",
      "memory usage: 5.7+ MB\n"
     ]
    }
   ],
   "source": [
    "display(internet.head())\n",
    "internet.info()"
   ]
  },
  {
   "cell_type": "markdown",
   "metadata": {},
   "source": [
    "### Таблица messages"
   ]
  },
  {
   "cell_type": "code",
   "execution_count": 5,
   "metadata": {
    "scrolled": true
   },
   "outputs": [
    {
     "data": {
      "text/html": [
       "<div>\n",
       "<style scoped>\n",
       "    .dataframe tbody tr th:only-of-type {\n",
       "        vertical-align: middle;\n",
       "    }\n",
       "\n",
       "    .dataframe tbody tr th {\n",
       "        vertical-align: top;\n",
       "    }\n",
       "\n",
       "    .dataframe thead th {\n",
       "        text-align: right;\n",
       "    }\n",
       "</style>\n",
       "<table border=\"1\" class=\"dataframe\">\n",
       "  <thead>\n",
       "    <tr style=\"text-align: right;\">\n",
       "      <th></th>\n",
       "      <th>id</th>\n",
       "      <th>message_date</th>\n",
       "      <th>user_id</th>\n",
       "    </tr>\n",
       "  </thead>\n",
       "  <tbody>\n",
       "    <tr>\n",
       "      <th>0</th>\n",
       "      <td>1000_0</td>\n",
       "      <td>2018-06-27</td>\n",
       "      <td>1000</td>\n",
       "    </tr>\n",
       "    <tr>\n",
       "      <th>1</th>\n",
       "      <td>1000_1</td>\n",
       "      <td>2018-10-08</td>\n",
       "      <td>1000</td>\n",
       "    </tr>\n",
       "    <tr>\n",
       "      <th>2</th>\n",
       "      <td>1000_2</td>\n",
       "      <td>2018-08-04</td>\n",
       "      <td>1000</td>\n",
       "    </tr>\n",
       "    <tr>\n",
       "      <th>3</th>\n",
       "      <td>1000_3</td>\n",
       "      <td>2018-06-16</td>\n",
       "      <td>1000</td>\n",
       "    </tr>\n",
       "    <tr>\n",
       "      <th>4</th>\n",
       "      <td>1000_4</td>\n",
       "      <td>2018-12-05</td>\n",
       "      <td>1000</td>\n",
       "    </tr>\n",
       "  </tbody>\n",
       "</table>\n",
       "</div>"
      ],
      "text/plain": [
       "       id message_date  user_id\n",
       "0  1000_0   2018-06-27     1000\n",
       "1  1000_1   2018-10-08     1000\n",
       "2  1000_2   2018-08-04     1000\n",
       "3  1000_3   2018-06-16     1000\n",
       "4  1000_4   2018-12-05     1000"
      ]
     },
     "metadata": {},
     "output_type": "display_data"
    },
    {
     "name": "stdout",
     "output_type": "stream",
     "text": [
      "<class 'pandas.core.frame.DataFrame'>\n",
      "RangeIndex: 123036 entries, 0 to 123035\n",
      "Data columns (total 3 columns):\n",
      " #   Column        Non-Null Count   Dtype \n",
      "---  ------        --------------   ----- \n",
      " 0   id            123036 non-null  object\n",
      " 1   message_date  123036 non-null  object\n",
      " 2   user_id       123036 non-null  int64 \n",
      "dtypes: int64(1), object(2)\n",
      "memory usage: 2.8+ MB\n"
     ]
    }
   ],
   "source": [
    "display(messages.head())\n",
    "messages.info()"
   ]
  },
  {
   "cell_type": "markdown",
   "metadata": {},
   "source": [
    "### Таблица tariffs"
   ]
  },
  {
   "cell_type": "code",
   "execution_count": 6,
   "metadata": {
    "scrolled": true
   },
   "outputs": [
    {
     "data": {
      "text/html": [
       "<div>\n",
       "<style scoped>\n",
       "    .dataframe tbody tr th:only-of-type {\n",
       "        vertical-align: middle;\n",
       "    }\n",
       "\n",
       "    .dataframe tbody tr th {\n",
       "        vertical-align: top;\n",
       "    }\n",
       "\n",
       "    .dataframe thead th {\n",
       "        text-align: right;\n",
       "    }\n",
       "</style>\n",
       "<table border=\"1\" class=\"dataframe\">\n",
       "  <thead>\n",
       "    <tr style=\"text-align: right;\">\n",
       "      <th></th>\n",
       "      <th>messages_included</th>\n",
       "      <th>mb_per_month_included</th>\n",
       "      <th>minutes_included</th>\n",
       "      <th>rub_monthly_fee</th>\n",
       "      <th>rub_per_gb</th>\n",
       "      <th>rub_per_message</th>\n",
       "      <th>rub_per_minute</th>\n",
       "      <th>tariff_name</th>\n",
       "    </tr>\n",
       "  </thead>\n",
       "  <tbody>\n",
       "    <tr>\n",
       "      <th>0</th>\n",
       "      <td>50</td>\n",
       "      <td>15360</td>\n",
       "      <td>500</td>\n",
       "      <td>550</td>\n",
       "      <td>200</td>\n",
       "      <td>3</td>\n",
       "      <td>3</td>\n",
       "      <td>smart</td>\n",
       "    </tr>\n",
       "    <tr>\n",
       "      <th>1</th>\n",
       "      <td>1000</td>\n",
       "      <td>30720</td>\n",
       "      <td>3000</td>\n",
       "      <td>1950</td>\n",
       "      <td>150</td>\n",
       "      <td>1</td>\n",
       "      <td>1</td>\n",
       "      <td>ultra</td>\n",
       "    </tr>\n",
       "  </tbody>\n",
       "</table>\n",
       "</div>"
      ],
      "text/plain": [
       "   messages_included  mb_per_month_included  minutes_included  \\\n",
       "0                 50                  15360               500   \n",
       "1               1000                  30720              3000   \n",
       "\n",
       "   rub_monthly_fee  rub_per_gb  rub_per_message  rub_per_minute tariff_name  \n",
       "0              550         200                3               3       smart  \n",
       "1             1950         150                1               1       ultra  "
      ]
     },
     "metadata": {},
     "output_type": "display_data"
    },
    {
     "name": "stdout",
     "output_type": "stream",
     "text": [
      "<class 'pandas.core.frame.DataFrame'>\n",
      "RangeIndex: 2 entries, 0 to 1\n",
      "Data columns (total 8 columns):\n",
      " #   Column                 Non-Null Count  Dtype \n",
      "---  ------                 --------------  ----- \n",
      " 0   messages_included      2 non-null      int64 \n",
      " 1   mb_per_month_included  2 non-null      int64 \n",
      " 2   minutes_included       2 non-null      int64 \n",
      " 3   rub_monthly_fee        2 non-null      int64 \n",
      " 4   rub_per_gb             2 non-null      int64 \n",
      " 5   rub_per_message        2 non-null      int64 \n",
      " 6   rub_per_minute         2 non-null      int64 \n",
      " 7   tariff_name            2 non-null      object\n",
      "dtypes: int64(7), object(1)\n",
      "memory usage: 256.0+ bytes\n"
     ]
    }
   ],
   "source": [
    "display(tariffs.head())\n",
    "tariffs.info()"
   ]
  },
  {
   "cell_type": "markdown",
   "metadata": {},
   "source": [
    "### Таблица users"
   ]
  },
  {
   "cell_type": "code",
   "execution_count": 7,
   "metadata": {
    "scrolled": true
   },
   "outputs": [
    {
     "data": {
      "text/html": [
       "<div>\n",
       "<style scoped>\n",
       "    .dataframe tbody tr th:only-of-type {\n",
       "        vertical-align: middle;\n",
       "    }\n",
       "\n",
       "    .dataframe tbody tr th {\n",
       "        vertical-align: top;\n",
       "    }\n",
       "\n",
       "    .dataframe thead th {\n",
       "        text-align: right;\n",
       "    }\n",
       "</style>\n",
       "<table border=\"1\" class=\"dataframe\">\n",
       "  <thead>\n",
       "    <tr style=\"text-align: right;\">\n",
       "      <th></th>\n",
       "      <th>user_id</th>\n",
       "      <th>age</th>\n",
       "      <th>churn_date</th>\n",
       "      <th>city</th>\n",
       "      <th>first_name</th>\n",
       "      <th>last_name</th>\n",
       "      <th>reg_date</th>\n",
       "      <th>tariff</th>\n",
       "    </tr>\n",
       "  </thead>\n",
       "  <tbody>\n",
       "    <tr>\n",
       "      <th>0</th>\n",
       "      <td>1000</td>\n",
       "      <td>52</td>\n",
       "      <td>NaN</td>\n",
       "      <td>Краснодар</td>\n",
       "      <td>Рафаил</td>\n",
       "      <td>Верещагин</td>\n",
       "      <td>2018-05-25</td>\n",
       "      <td>ultra</td>\n",
       "    </tr>\n",
       "    <tr>\n",
       "      <th>1</th>\n",
       "      <td>1001</td>\n",
       "      <td>41</td>\n",
       "      <td>NaN</td>\n",
       "      <td>Москва</td>\n",
       "      <td>Иван</td>\n",
       "      <td>Ежов</td>\n",
       "      <td>2018-11-01</td>\n",
       "      <td>smart</td>\n",
       "    </tr>\n",
       "    <tr>\n",
       "      <th>2</th>\n",
       "      <td>1002</td>\n",
       "      <td>59</td>\n",
       "      <td>NaN</td>\n",
       "      <td>Стерлитамак</td>\n",
       "      <td>Евгений</td>\n",
       "      <td>Абрамович</td>\n",
       "      <td>2018-06-17</td>\n",
       "      <td>smart</td>\n",
       "    </tr>\n",
       "    <tr>\n",
       "      <th>3</th>\n",
       "      <td>1003</td>\n",
       "      <td>23</td>\n",
       "      <td>NaN</td>\n",
       "      <td>Москва</td>\n",
       "      <td>Белла</td>\n",
       "      <td>Белякова</td>\n",
       "      <td>2018-08-17</td>\n",
       "      <td>ultra</td>\n",
       "    </tr>\n",
       "    <tr>\n",
       "      <th>4</th>\n",
       "      <td>1004</td>\n",
       "      <td>68</td>\n",
       "      <td>NaN</td>\n",
       "      <td>Новокузнецк</td>\n",
       "      <td>Татьяна</td>\n",
       "      <td>Авдеенко</td>\n",
       "      <td>2018-05-14</td>\n",
       "      <td>ultra</td>\n",
       "    </tr>\n",
       "  </tbody>\n",
       "</table>\n",
       "</div>"
      ],
      "text/plain": [
       "   user_id  age churn_date         city first_name  last_name    reg_date  \\\n",
       "0     1000   52        NaN    Краснодар     Рафаил  Верещагин  2018-05-25   \n",
       "1     1001   41        NaN       Москва       Иван       Ежов  2018-11-01   \n",
       "2     1002   59        NaN  Стерлитамак    Евгений  Абрамович  2018-06-17   \n",
       "3     1003   23        NaN       Москва      Белла   Белякова  2018-08-17   \n",
       "4     1004   68        NaN  Новокузнецк    Татьяна   Авдеенко  2018-05-14   \n",
       "\n",
       "  tariff  \n",
       "0  ultra  \n",
       "1  smart  \n",
       "2  smart  \n",
       "3  ultra  \n",
       "4  ultra  "
      ]
     },
     "metadata": {},
     "output_type": "display_data"
    },
    {
     "name": "stdout",
     "output_type": "stream",
     "text": [
      "<class 'pandas.core.frame.DataFrame'>\n",
      "RangeIndex: 500 entries, 0 to 499\n",
      "Data columns (total 8 columns):\n",
      " #   Column      Non-Null Count  Dtype \n",
      "---  ------      --------------  ----- \n",
      " 0   user_id     500 non-null    int64 \n",
      " 1   age         500 non-null    int64 \n",
      " 2   churn_date  38 non-null     object\n",
      " 3   city        500 non-null    object\n",
      " 4   first_name  500 non-null    object\n",
      " 5   last_name   500 non-null    object\n",
      " 6   reg_date    500 non-null    object\n",
      " 7   tariff      500 non-null    object\n",
      "dtypes: int64(2), object(6)\n",
      "memory usage: 31.4+ KB\n"
     ]
    }
   ],
   "source": [
    "display(users.head())\n",
    "users.info()"
   ]
  },
  {
   "cell_type": "markdown",
   "metadata": {},
   "source": [
    "**Вывод**\n",
    "\n",
    "У нас имеются 4 таблицы с данными о пользователях и получаемых ими услугах связи, плюс одна таблица с информацией о тарифах.\n",
    "\n",
    "Исходя увиденного можно прикинуть общий объём работ по предобработке:\n",
    "\n",
    "- Необходимо привести даты к единому типу *datatime*;\n",
    "- Нужно удалить незадокументированный столбец *Unnamed: 0* в таблице *internet*;\n",
    "- Также стоит округлить значения *звонки*;\n",
    "- Для дальнейшей работы, было бы не плохо объеденить все в одну таблицу."
   ]
  },
  {
   "cell_type": "markdown",
   "metadata": {},
   "source": [
    "## Подготовьте данные"
   ]
  },
  {
   "cell_type": "markdown",
   "metadata": {},
   "source": [
    "- Приведите данные к нужным типам;\n",
    "- Найдите и исправьте ошибки в данных, если они есть."
   ]
  },
  {
   "cell_type": "markdown",
   "metadata": {},
   "source": [
    "### Замена типов данных"
   ]
  },
  {
   "cell_type": "code",
   "execution_count": 8,
   "metadata": {},
   "outputs": [],
   "source": [
    "calls['call_date'] = pd.to_datetime(calls['call_date'], format = '%Y-%m-%d')"
   ]
  },
  {
   "cell_type": "code",
   "execution_count": 9,
   "metadata": {},
   "outputs": [],
   "source": [
    "internet['session_date'] = pd.to_datetime(internet['session_date'], format = '%Y-%m-%d')"
   ]
  },
  {
   "cell_type": "code",
   "execution_count": 10,
   "metadata": {},
   "outputs": [],
   "source": [
    "messages['message_date'] = pd.to_datetime(messages['message_date'], format = '%Y-%m-%d')"
   ]
  },
  {
   "cell_type": "code",
   "execution_count": 11,
   "metadata": {},
   "outputs": [],
   "source": [
    "users['churn_date'] = pd.to_datetime(users['churn_date'], format = '%Y-%m-%d')"
   ]
  },
  {
   "cell_type": "code",
   "execution_count": 12,
   "metadata": {},
   "outputs": [],
   "source": [
    "users['reg_date'] = pd.to_datetime(users['reg_date'], format = '%Y-%m-%d')"
   ]
  },
  {
   "cell_type": "markdown",
   "metadata": {},
   "source": [
    "**Вывод**\n",
    "\n",
    "Все даты приведены к единому виду, благодаря чему шанс запутаться в них и произвести ошибочные выводы значительно снизился"
   ]
  },
  {
   "cell_type": "markdown",
   "metadata": {},
   "source": [
    "### Исправления в данных"
   ]
  },
  {
   "cell_type": "markdown",
   "metadata": {},
   "source": [
    "Округлим звонки в большую сторону иприведем значения к целочисленному типу"
   ]
  },
  {
   "cell_type": "code",
   "execution_count": 13,
   "metadata": {},
   "outputs": [],
   "source": [
    "calls['duration'] = np.ceil(calls['duration']).astype('int')"
   ]
  },
  {
   "cell_type": "markdown",
   "metadata": {},
   "source": [
    "Удалим столбец *Unnamed: 0* из таблицы *internet*, т.к. он дублирует индексы, и вообще отсутсвует в документации"
   ]
  },
  {
   "cell_type": "code",
   "execution_count": 14,
   "metadata": {},
   "outputs": [],
   "source": [
    "internet.drop(columns = 'Unnamed: 0', inplace = True)"
   ]
  },
  {
   "cell_type": "markdown",
   "metadata": {},
   "source": [
    "На всякий случай проверим наличие явных дубликатов"
   ]
  },
  {
   "cell_type": "code",
   "execution_count": 15,
   "metadata": {},
   "outputs": [
    {
     "name": "stdout",
     "output_type": "stream",
     "text": [
      "Дубликатов в таблице calls: 0\n",
      "Дубликатов в таблице internet: 0\n",
      "Дубликатов в таблице messages: 0\n",
      "Дубликатов в таблице tariffs: 0\n",
      "Дубликатов в таблице users: 0\n"
     ]
    }
   ],
   "source": [
    "dict = {\n",
    "    'calls': calls,\n",
    "    'internet': internet,\n",
    "    'messages': messages,\n",
    "    'tariffs': tariffs,\n",
    "    'users': users\n",
    "}\n",
    "\n",
    "for name, df in dict.items():\n",
    "    print('Дубликатов в таблице {}: {}'.format(name, df.duplicated().sum()))"
   ]
  },
  {
   "cell_type": "markdown",
   "metadata": {},
   "source": [
    "**Вывод**\n",
    "\n",
    "Избавились от ненужного, округлили и проверили отсутсвие явных дубликатов. Думаю, можно приступать к формированию сводной таблицы"
   ]
  },
  {
   "cell_type": "markdown",
   "metadata": {},
   "source": [
    "### Формирование единой таблицы"
   ]
  },
  {
   "cell_type": "markdown",
   "metadata": {},
   "source": [
    "Теперь нам нужно отобразить для каждого пользователя информацию о количестве звонков, потраченных минут, отправленных СМС, объем израсходованного интернет-трафика и тратах каждого пользователя за каждый месяц"
   ]
  },
  {
   "cell_type": "markdown",
   "metadata": {},
   "source": [
    "Начнём с количества звонков и минут. Для этого добавим в таблицу calls столбцы с месяцем и округлённым значением минут и посчитаем количество совершённых звонков и минут в каждом месяце"
   ]
  },
  {
   "cell_type": "code",
   "execution_count": 16,
   "metadata": {
    "scrolled": false
   },
   "outputs": [
    {
     "data": {
      "text/html": [
       "<div>\n",
       "<style scoped>\n",
       "    .dataframe tbody tr th:only-of-type {\n",
       "        vertical-align: middle;\n",
       "    }\n",
       "\n",
       "    .dataframe tbody tr th {\n",
       "        vertical-align: top;\n",
       "    }\n",
       "\n",
       "    .dataframe thead tr th {\n",
       "        text-align: left;\n",
       "    }\n",
       "\n",
       "    .dataframe thead tr:last-of-type th {\n",
       "        text-align: right;\n",
       "    }\n",
       "</style>\n",
       "<table border=\"1\" class=\"dataframe\">\n",
       "  <thead>\n",
       "    <tr>\n",
       "      <th></th>\n",
       "      <th></th>\n",
       "      <th>count</th>\n",
       "      <th>sum</th>\n",
       "    </tr>\n",
       "    <tr>\n",
       "      <th></th>\n",
       "      <th></th>\n",
       "      <th>round_duration</th>\n",
       "      <th>round_duration</th>\n",
       "    </tr>\n",
       "    <tr>\n",
       "      <th>user_id</th>\n",
       "      <th>call_month</th>\n",
       "      <th></th>\n",
       "      <th></th>\n",
       "    </tr>\n",
       "  </thead>\n",
       "  <tbody>\n",
       "    <tr>\n",
       "      <th rowspan=\"5\" valign=\"top\">1000</th>\n",
       "      <th>5</th>\n",
       "      <td>22</td>\n",
       "      <td>159.0</td>\n",
       "    </tr>\n",
       "    <tr>\n",
       "      <th>6</th>\n",
       "      <td>43</td>\n",
       "      <td>172.0</td>\n",
       "    </tr>\n",
       "    <tr>\n",
       "      <th>7</th>\n",
       "      <td>47</td>\n",
       "      <td>340.0</td>\n",
       "    </tr>\n",
       "    <tr>\n",
       "      <th>8</th>\n",
       "      <td>52</td>\n",
       "      <td>408.0</td>\n",
       "    </tr>\n",
       "    <tr>\n",
       "      <th>9</th>\n",
       "      <td>58</td>\n",
       "      <td>466.0</td>\n",
       "    </tr>\n",
       "    <tr>\n",
       "      <th>...</th>\n",
       "      <th>...</th>\n",
       "      <td>...</td>\n",
       "      <td>...</td>\n",
       "    </tr>\n",
       "    <tr>\n",
       "      <th>1498</th>\n",
       "      <th>10</th>\n",
       "      <td>41</td>\n",
       "      <td>247.0</td>\n",
       "    </tr>\n",
       "    <tr>\n",
       "      <th rowspan=\"4\" valign=\"top\">1499</th>\n",
       "      <th>9</th>\n",
       "      <td>9</td>\n",
       "      <td>70.0</td>\n",
       "    </tr>\n",
       "    <tr>\n",
       "      <th>10</th>\n",
       "      <td>68</td>\n",
       "      <td>449.0</td>\n",
       "    </tr>\n",
       "    <tr>\n",
       "      <th>11</th>\n",
       "      <td>74</td>\n",
       "      <td>612.0</td>\n",
       "    </tr>\n",
       "    <tr>\n",
       "      <th>12</th>\n",
       "      <td>69</td>\n",
       "      <td>492.0</td>\n",
       "    </tr>\n",
       "  </tbody>\n",
       "</table>\n",
       "<p>3174 rows × 2 columns</p>\n",
       "</div>"
      ],
      "text/plain": [
       "                            count            sum\n",
       "                   round_duration round_duration\n",
       "user_id call_month                              \n",
       "1000    5                      22          159.0\n",
       "        6                      43          172.0\n",
       "        7                      47          340.0\n",
       "        8                      52          408.0\n",
       "        9                      58          466.0\n",
       "...                           ...            ...\n",
       "1498    10                     41          247.0\n",
       "1499    9                       9           70.0\n",
       "        10                     68          449.0\n",
       "        11                     74          612.0\n",
       "        12                     69          492.0\n",
       "\n",
       "[3174 rows x 2 columns]"
      ]
     },
     "execution_count": 16,
     "metadata": {},
     "output_type": "execute_result"
    }
   ],
   "source": [
    "calls['call_month'] = calls['call_date'].dt.month\n",
    "calls['round_duration'] = np.ceil(calls['duration'])\n",
    "\n",
    "calls_pivot = calls.pivot_table(index=['user_id', 'call_month'], values='round_duration', aggfunc=['count', 'sum'])\n",
    "calls_pivot"
   ]
  },
  {
   "cell_type": "markdown",
   "metadata": {},
   "source": [
    "Теперь точно также посчитаем количество СМС в каждом месяце"
   ]
  },
  {
   "cell_type": "code",
   "execution_count": 17,
   "metadata": {},
   "outputs": [
    {
     "data": {
      "text/html": [
       "<div>\n",
       "<style scoped>\n",
       "    .dataframe tbody tr th:only-of-type {\n",
       "        vertical-align: middle;\n",
       "    }\n",
       "\n",
       "    .dataframe tbody tr th {\n",
       "        vertical-align: top;\n",
       "    }\n",
       "\n",
       "    .dataframe thead th {\n",
       "        text-align: right;\n",
       "    }\n",
       "</style>\n",
       "<table border=\"1\" class=\"dataframe\">\n",
       "  <thead>\n",
       "    <tr style=\"text-align: right;\">\n",
       "      <th></th>\n",
       "      <th></th>\n",
       "      <th>messages_per_month</th>\n",
       "    </tr>\n",
       "    <tr>\n",
       "      <th>user_id</th>\n",
       "      <th>msg_month</th>\n",
       "      <th></th>\n",
       "    </tr>\n",
       "  </thead>\n",
       "  <tbody>\n",
       "    <tr>\n",
       "      <th rowspan=\"5\" valign=\"top\">1000</th>\n",
       "      <th>5</th>\n",
       "      <td>22</td>\n",
       "    </tr>\n",
       "    <tr>\n",
       "      <th>6</th>\n",
       "      <td>60</td>\n",
       "    </tr>\n",
       "    <tr>\n",
       "      <th>7</th>\n",
       "      <td>75</td>\n",
       "    </tr>\n",
       "    <tr>\n",
       "      <th>8</th>\n",
       "      <td>81</td>\n",
       "    </tr>\n",
       "    <tr>\n",
       "      <th>9</th>\n",
       "      <td>57</td>\n",
       "    </tr>\n",
       "    <tr>\n",
       "      <th>...</th>\n",
       "      <th>...</th>\n",
       "      <td>...</td>\n",
       "    </tr>\n",
       "    <tr>\n",
       "      <th>1498</th>\n",
       "      <th>10</th>\n",
       "      <td>42</td>\n",
       "    </tr>\n",
       "    <tr>\n",
       "      <th rowspan=\"4\" valign=\"top\">1499</th>\n",
       "      <th>9</th>\n",
       "      <td>11</td>\n",
       "    </tr>\n",
       "    <tr>\n",
       "      <th>10</th>\n",
       "      <td>48</td>\n",
       "    </tr>\n",
       "    <tr>\n",
       "      <th>11</th>\n",
       "      <td>59</td>\n",
       "    </tr>\n",
       "    <tr>\n",
       "      <th>12</th>\n",
       "      <td>66</td>\n",
       "    </tr>\n",
       "  </tbody>\n",
       "</table>\n",
       "<p>2717 rows × 1 columns</p>\n",
       "</div>"
      ],
      "text/plain": [
       "                   messages_per_month\n",
       "user_id msg_month                    \n",
       "1000    5                          22\n",
       "        6                          60\n",
       "        7                          75\n",
       "        8                          81\n",
       "        9                          57\n",
       "...                               ...\n",
       "1498    10                         42\n",
       "1499    9                          11\n",
       "        10                         48\n",
       "        11                         59\n",
       "        12                         66\n",
       "\n",
       "[2717 rows x 1 columns]"
      ]
     },
     "execution_count": 17,
     "metadata": {},
     "output_type": "execute_result"
    }
   ],
   "source": [
    "messages['msg_month'] = messages['message_date'].dt.month\n",
    "msg_pivot = messages.pivot_table(index=['user_id', 'msg_month'], values='id', aggfunc='count')\n",
    "msg_pivot.columns = ['messages_per_month']\n",
    "msg_pivot"
   ]
  },
  {
   "cell_type": "markdown",
   "metadata": {},
   "source": [
    "Теперь посчитаем интернет трафик за каждый месяц"
   ]
  },
  {
   "cell_type": "code",
   "execution_count": 18,
   "metadata": {
    "scrolled": false
   },
   "outputs": [
    {
     "data": {
      "text/html": [
       "<div>\n",
       "<style scoped>\n",
       "    .dataframe tbody tr th:only-of-type {\n",
       "        vertical-align: middle;\n",
       "    }\n",
       "\n",
       "    .dataframe tbody tr th {\n",
       "        vertical-align: top;\n",
       "    }\n",
       "\n",
       "    .dataframe thead th {\n",
       "        text-align: right;\n",
       "    }\n",
       "</style>\n",
       "<table border=\"1\" class=\"dataframe\">\n",
       "  <thead>\n",
       "    <tr style=\"text-align: right;\">\n",
       "      <th></th>\n",
       "      <th></th>\n",
       "      <th>mb_used_per_month</th>\n",
       "    </tr>\n",
       "    <tr>\n",
       "      <th>user_id</th>\n",
       "      <th>session_month</th>\n",
       "      <th></th>\n",
       "    </tr>\n",
       "  </thead>\n",
       "  <tbody>\n",
       "    <tr>\n",
       "      <th rowspan=\"5\" valign=\"top\">1000</th>\n",
       "      <th>5</th>\n",
       "      <td>2256.0</td>\n",
       "    </tr>\n",
       "    <tr>\n",
       "      <th>6</th>\n",
       "      <td>23257.0</td>\n",
       "    </tr>\n",
       "    <tr>\n",
       "      <th>7</th>\n",
       "      <td>14016.0</td>\n",
       "    </tr>\n",
       "    <tr>\n",
       "      <th>8</th>\n",
       "      <td>14070.0</td>\n",
       "    </tr>\n",
       "    <tr>\n",
       "      <th>9</th>\n",
       "      <td>14581.0</td>\n",
       "    </tr>\n",
       "    <tr>\n",
       "      <th>...</th>\n",
       "      <th>...</th>\n",
       "      <td>...</td>\n",
       "    </tr>\n",
       "    <tr>\n",
       "      <th>1498</th>\n",
       "      <th>10</th>\n",
       "      <td>20604.0</td>\n",
       "    </tr>\n",
       "    <tr>\n",
       "      <th rowspan=\"4\" valign=\"top\">1499</th>\n",
       "      <th>9</th>\n",
       "      <td>1848.0</td>\n",
       "    </tr>\n",
       "    <tr>\n",
       "      <th>10</th>\n",
       "      <td>17809.0</td>\n",
       "    </tr>\n",
       "    <tr>\n",
       "      <th>11</th>\n",
       "      <td>17984.0</td>\n",
       "    </tr>\n",
       "    <tr>\n",
       "      <th>12</th>\n",
       "      <td>13077.0</td>\n",
       "    </tr>\n",
       "  </tbody>\n",
       "</table>\n",
       "<p>3203 rows × 1 columns</p>\n",
       "</div>"
      ],
      "text/plain": [
       "                       mb_used_per_month\n",
       "user_id session_month                   \n",
       "1000    5                         2256.0\n",
       "        6                        23257.0\n",
       "        7                        14016.0\n",
       "        8                        14070.0\n",
       "        9                        14581.0\n",
       "...                                  ...\n",
       "1498    10                       20604.0\n",
       "1499    9                         1848.0\n",
       "        10                       17809.0\n",
       "        11                       17984.0\n",
       "        12                       13077.0\n",
       "\n",
       "[3203 rows x 1 columns]"
      ]
     },
     "execution_count": 18,
     "metadata": {},
     "output_type": "execute_result"
    }
   ],
   "source": [
    "internet['session_month'] = internet['session_date'].dt.month\n",
    "\n",
    "internet['mb_used'] = np.ceil(internet['mb_used'])\n",
    "\n",
    "internet_pivot = internet.pivot_table(index=['user_id', 'session_month'], values='mb_used', aggfunc='sum')\n",
    "internet_pivot.columns = ['mb_used_per_month']\n",
    "internet_pivot"
   ]
  },
  {
   "cell_type": "markdown",
   "metadata": {},
   "source": [
    "Объединим датафреймы по индексам пользователей. Для этого используем метод *join()*. А заодно и посмотрим есть ли в данных пропущенные значения"
   ]
  },
  {
   "cell_type": "code",
   "execution_count": 19,
   "metadata": {
    "scrolled": true
   },
   "outputs": [
    {
     "name": "stdout",
     "output_type": "stream",
     "text": [
      "<class 'pandas.core.frame.DataFrame'>\n",
      "MultiIndex: 3214 entries, (1000, 5) to (1476, 4)\n",
      "Data columns (total 4 columns):\n",
      " #   Column                   Non-Null Count  Dtype  \n",
      "---  ------                   --------------  -----  \n",
      " 0   (count, round_duration)  3174 non-null   float64\n",
      " 1   (sum, round_duration)    3174 non-null   float64\n",
      " 2   messages_per_month       2717 non-null   float64\n",
      " 3   mb_used_per_month        3203 non-null   float64\n",
      "dtypes: float64(4)\n",
      "memory usage: 130.4 KB\n"
     ]
    }
   ],
   "source": [
    "pivot_table = (\n",
    "    calls_pivot\n",
    "    .join(msg_pivot, on=['user_id', 'call_month'], how='outer')\n",
    "    .join(internet_pivot, on=['user_id', 'call_month'], how='outer')\n",
    ")\n",
    "pivot_table.info()"
   ]
  },
  {
   "cell_type": "markdown",
   "metadata": {},
   "source": [
    "Заменим пропуски нулями и сбросим индексы"
   ]
  },
  {
   "cell_type": "code",
   "execution_count": 20,
   "metadata": {
    "scrolled": true
   },
   "outputs": [
    {
     "data": {
      "text/html": [
       "<div>\n",
       "<style scoped>\n",
       "    .dataframe tbody tr th:only-of-type {\n",
       "        vertical-align: middle;\n",
       "    }\n",
       "\n",
       "    .dataframe tbody tr th {\n",
       "        vertical-align: top;\n",
       "    }\n",
       "\n",
       "    .dataframe thead th {\n",
       "        text-align: right;\n",
       "    }\n",
       "</style>\n",
       "<table border=\"1\" class=\"dataframe\">\n",
       "  <thead>\n",
       "    <tr style=\"text-align: right;\">\n",
       "      <th></th>\n",
       "      <th>user_id</th>\n",
       "      <th>call_month</th>\n",
       "      <th>(count, round_duration)</th>\n",
       "      <th>(sum, round_duration)</th>\n",
       "      <th>messages_per_month</th>\n",
       "      <th>mb_used_per_month</th>\n",
       "    </tr>\n",
       "  </thead>\n",
       "  <tbody>\n",
       "    <tr>\n",
       "      <th>0</th>\n",
       "      <td>1000</td>\n",
       "      <td>5</td>\n",
       "      <td>22.0</td>\n",
       "      <td>159.0</td>\n",
       "      <td>22.0</td>\n",
       "      <td>2256.0</td>\n",
       "    </tr>\n",
       "    <tr>\n",
       "      <th>1</th>\n",
       "      <td>1000</td>\n",
       "      <td>6</td>\n",
       "      <td>43.0</td>\n",
       "      <td>172.0</td>\n",
       "      <td>60.0</td>\n",
       "      <td>23257.0</td>\n",
       "    </tr>\n",
       "    <tr>\n",
       "      <th>2</th>\n",
       "      <td>1000</td>\n",
       "      <td>7</td>\n",
       "      <td>47.0</td>\n",
       "      <td>340.0</td>\n",
       "      <td>75.0</td>\n",
       "      <td>14016.0</td>\n",
       "    </tr>\n",
       "    <tr>\n",
       "      <th>3</th>\n",
       "      <td>1000</td>\n",
       "      <td>8</td>\n",
       "      <td>52.0</td>\n",
       "      <td>408.0</td>\n",
       "      <td>81.0</td>\n",
       "      <td>14070.0</td>\n",
       "    </tr>\n",
       "    <tr>\n",
       "      <th>4</th>\n",
       "      <td>1000</td>\n",
       "      <td>9</td>\n",
       "      <td>58.0</td>\n",
       "      <td>466.0</td>\n",
       "      <td>57.0</td>\n",
       "      <td>14581.0</td>\n",
       "    </tr>\n",
       "  </tbody>\n",
       "</table>\n",
       "</div>"
      ],
      "text/plain": [
       "   user_id  call_month  (count, round_duration)  (sum, round_duration)  \\\n",
       "0     1000           5                     22.0                  159.0   \n",
       "1     1000           6                     43.0                  172.0   \n",
       "2     1000           7                     47.0                  340.0   \n",
       "3     1000           8                     52.0                  408.0   \n",
       "4     1000           9                     58.0                  466.0   \n",
       "\n",
       "   messages_per_month  mb_used_per_month  \n",
       "0                22.0             2256.0  \n",
       "1                60.0            23257.0  \n",
       "2                75.0            14016.0  \n",
       "3                81.0            14070.0  \n",
       "4                57.0            14581.0  "
      ]
     },
     "execution_count": 20,
     "metadata": {},
     "output_type": "execute_result"
    }
   ],
   "source": [
    "pivot_table.fillna(0, inplace=True)\n",
    "pivot_table.reset_index(inplace=True)\n",
    "pivot_table.head()"
   ]
  },
  {
   "cell_type": "markdown",
   "metadata": {},
   "source": [
    "Для удобства в дальнейшем, переименуем некоторые столбцы"
   ]
  },
  {
   "cell_type": "code",
   "execution_count": 21,
   "metadata": {},
   "outputs": [
    {
     "data": {
      "text/html": [
       "<div>\n",
       "<style scoped>\n",
       "    .dataframe tbody tr th:only-of-type {\n",
       "        vertical-align: middle;\n",
       "    }\n",
       "\n",
       "    .dataframe tbody tr th {\n",
       "        vertical-align: top;\n",
       "    }\n",
       "\n",
       "    .dataframe thead th {\n",
       "        text-align: right;\n",
       "    }\n",
       "</style>\n",
       "<table border=\"1\" class=\"dataframe\">\n",
       "  <thead>\n",
       "    <tr style=\"text-align: right;\">\n",
       "      <th></th>\n",
       "      <th>user_id</th>\n",
       "      <th>month</th>\n",
       "      <th>calls_per_month</th>\n",
       "      <th>minutes_per_month</th>\n",
       "      <th>messages_per_month</th>\n",
       "      <th>mb_used_per_month</th>\n",
       "    </tr>\n",
       "  </thead>\n",
       "  <tbody>\n",
       "    <tr>\n",
       "      <th>0</th>\n",
       "      <td>1000</td>\n",
       "      <td>5</td>\n",
       "      <td>22.0</td>\n",
       "      <td>159.0</td>\n",
       "      <td>22.0</td>\n",
       "      <td>2256.0</td>\n",
       "    </tr>\n",
       "    <tr>\n",
       "      <th>1</th>\n",
       "      <td>1000</td>\n",
       "      <td>6</td>\n",
       "      <td>43.0</td>\n",
       "      <td>172.0</td>\n",
       "      <td>60.0</td>\n",
       "      <td>23257.0</td>\n",
       "    </tr>\n",
       "    <tr>\n",
       "      <th>2</th>\n",
       "      <td>1000</td>\n",
       "      <td>7</td>\n",
       "      <td>47.0</td>\n",
       "      <td>340.0</td>\n",
       "      <td>75.0</td>\n",
       "      <td>14016.0</td>\n",
       "    </tr>\n",
       "    <tr>\n",
       "      <th>3</th>\n",
       "      <td>1000</td>\n",
       "      <td>8</td>\n",
       "      <td>52.0</td>\n",
       "      <td>408.0</td>\n",
       "      <td>81.0</td>\n",
       "      <td>14070.0</td>\n",
       "    </tr>\n",
       "    <tr>\n",
       "      <th>4</th>\n",
       "      <td>1000</td>\n",
       "      <td>9</td>\n",
       "      <td>58.0</td>\n",
       "      <td>466.0</td>\n",
       "      <td>57.0</td>\n",
       "      <td>14581.0</td>\n",
       "    </tr>\n",
       "  </tbody>\n",
       "</table>\n",
       "</div>"
      ],
      "text/plain": [
       "   user_id  month  calls_per_month  minutes_per_month  messages_per_month  \\\n",
       "0     1000      5             22.0              159.0                22.0   \n",
       "1     1000      6             43.0              172.0                60.0   \n",
       "2     1000      7             47.0              340.0                75.0   \n",
       "3     1000      8             52.0              408.0                81.0   \n",
       "4     1000      9             58.0              466.0                57.0   \n",
       "\n",
       "   mb_used_per_month  \n",
       "0             2256.0  \n",
       "1            23257.0  \n",
       "2            14016.0  \n",
       "3            14070.0  \n",
       "4            14581.0  "
      ]
     },
     "execution_count": 21,
     "metadata": {},
     "output_type": "execute_result"
    }
   ],
   "source": [
    "cols = pivot_table.columns.to_list()\n",
    "cols[1] = 'month'\n",
    "cols[2] = 'calls_per_month'\n",
    "cols[3] = 'minutes_per_month'\n",
    "pivot_table.columns = cols\n",
    "pivot_table.head()"
   ]
  },
  {
   "cell_type": "markdown",
   "metadata": {},
   "source": [
    "Посмотрим что получилось"
   ]
  },
  {
   "cell_type": "code",
   "execution_count": 22,
   "metadata": {},
   "outputs": [
    {
     "name": "stdout",
     "output_type": "stream",
     "text": [
      "<class 'pandas.core.frame.DataFrame'>\n",
      "RangeIndex: 3214 entries, 0 to 3213\n",
      "Data columns (total 6 columns):\n",
      " #   Column              Non-Null Count  Dtype  \n",
      "---  ------              --------------  -----  \n",
      " 0   user_id             3214 non-null   int64  \n",
      " 1   month               3214 non-null   int64  \n",
      " 2   calls_per_month     3214 non-null   float64\n",
      " 3   minutes_per_month   3214 non-null   float64\n",
      " 4   messages_per_month  3214 non-null   float64\n",
      " 5   mb_used_per_month   3214 non-null   float64\n",
      "dtypes: float64(4), int64(2)\n",
      "memory usage: 150.8 KB\n"
     ]
    }
   ],
   "source": [
    "pivot_table.info()"
   ]
  },
  {
   "cell_type": "markdown",
   "metadata": {},
   "source": [
    "Заменим тип в столбцах 'calls_per_month', 'minutes_per_month' и 'messages_per_month' на целочисленный"
   ]
  },
  {
   "cell_type": "code",
   "execution_count": 23,
   "metadata": {
    "scrolled": true
   },
   "outputs": [
    {
     "name": "stdout",
     "output_type": "stream",
     "text": [
      "<class 'pandas.core.frame.DataFrame'>\n",
      "RangeIndex: 3214 entries, 0 to 3213\n",
      "Data columns (total 6 columns):\n",
      " #   Column              Non-Null Count  Dtype  \n",
      "---  ------              --------------  -----  \n",
      " 0   user_id             3214 non-null   int64  \n",
      " 1   month               3214 non-null   int64  \n",
      " 2   calls_per_month     3214 non-null   int64  \n",
      " 3   minutes_per_month   3214 non-null   int64  \n",
      " 4   messages_per_month  3214 non-null   int64  \n",
      " 5   mb_used_per_month   3214 non-null   float64\n",
      "dtypes: float64(1), int64(5)\n",
      "memory usage: 150.8 KB\n"
     ]
    }
   ],
   "source": [
    "pivot_table[['calls_per_month', 'minutes_per_month', 'messages_per_month']] = pivot_table[['calls_per_month', 'minutes_per_month', 'messages_per_month']].astype('int64')\n",
    "pivot_table.info()"
   ]
  },
  {
   "cell_type": "markdown",
   "metadata": {},
   "source": [
    "И присоединим столбец *tariff* из таблицы *users* для того, чтобы было удобно считать помесячную выручку с каждого пользователя."
   ]
  },
  {
   "cell_type": "code",
   "execution_count": 24,
   "metadata": {
    "scrolled": false
   },
   "outputs": [
    {
     "data": {
      "text/html": [
       "<div>\n",
       "<style scoped>\n",
       "    .dataframe tbody tr th:only-of-type {\n",
       "        vertical-align: middle;\n",
       "    }\n",
       "\n",
       "    .dataframe tbody tr th {\n",
       "        vertical-align: top;\n",
       "    }\n",
       "\n",
       "    .dataframe thead th {\n",
       "        text-align: right;\n",
       "    }\n",
       "</style>\n",
       "<table border=\"1\" class=\"dataframe\">\n",
       "  <thead>\n",
       "    <tr style=\"text-align: right;\">\n",
       "      <th></th>\n",
       "      <th>user_id</th>\n",
       "      <th>month</th>\n",
       "      <th>calls_per_month</th>\n",
       "      <th>minutes_per_month</th>\n",
       "      <th>messages_per_month</th>\n",
       "      <th>mb_used_per_month</th>\n",
       "      <th>tariff</th>\n",
       "      <th>city</th>\n",
       "    </tr>\n",
       "  </thead>\n",
       "  <tbody>\n",
       "    <tr>\n",
       "      <th>0</th>\n",
       "      <td>1000</td>\n",
       "      <td>5</td>\n",
       "      <td>22</td>\n",
       "      <td>159</td>\n",
       "      <td>22</td>\n",
       "      <td>2256.0</td>\n",
       "      <td>ultra</td>\n",
       "      <td>Краснодар</td>\n",
       "    </tr>\n",
       "    <tr>\n",
       "      <th>1</th>\n",
       "      <td>1000</td>\n",
       "      <td>6</td>\n",
       "      <td>43</td>\n",
       "      <td>172</td>\n",
       "      <td>60</td>\n",
       "      <td>23257.0</td>\n",
       "      <td>ultra</td>\n",
       "      <td>Краснодар</td>\n",
       "    </tr>\n",
       "    <tr>\n",
       "      <th>2</th>\n",
       "      <td>1000</td>\n",
       "      <td>7</td>\n",
       "      <td>47</td>\n",
       "      <td>340</td>\n",
       "      <td>75</td>\n",
       "      <td>14016.0</td>\n",
       "      <td>ultra</td>\n",
       "      <td>Краснодар</td>\n",
       "    </tr>\n",
       "    <tr>\n",
       "      <th>3</th>\n",
       "      <td>1000</td>\n",
       "      <td>8</td>\n",
       "      <td>52</td>\n",
       "      <td>408</td>\n",
       "      <td>81</td>\n",
       "      <td>14070.0</td>\n",
       "      <td>ultra</td>\n",
       "      <td>Краснодар</td>\n",
       "    </tr>\n",
       "    <tr>\n",
       "      <th>4</th>\n",
       "      <td>1000</td>\n",
       "      <td>9</td>\n",
       "      <td>58</td>\n",
       "      <td>466</td>\n",
       "      <td>57</td>\n",
       "      <td>14581.0</td>\n",
       "      <td>ultra</td>\n",
       "      <td>Краснодар</td>\n",
       "    </tr>\n",
       "  </tbody>\n",
       "</table>\n",
       "</div>"
      ],
      "text/plain": [
       "   user_id  month  calls_per_month  minutes_per_month  messages_per_month  \\\n",
       "0     1000      5               22                159                  22   \n",
       "1     1000      6               43                172                  60   \n",
       "2     1000      7               47                340                  75   \n",
       "3     1000      8               52                408                  81   \n",
       "4     1000      9               58                466                  57   \n",
       "\n",
       "   mb_used_per_month tariff       city  \n",
       "0             2256.0  ultra  Краснодар  \n",
       "1            23257.0  ultra  Краснодар  \n",
       "2            14016.0  ultra  Краснодар  \n",
       "3            14070.0  ultra  Краснодар  \n",
       "4            14581.0  ultra  Краснодар  "
      ]
     },
     "execution_count": 24,
     "metadata": {},
     "output_type": "execute_result"
    }
   ],
   "source": [
    "pivot_table = pivot_table.merge(users[['user_id', 'tariff', 'city']], on='user_id', how='left')\n",
    "pivot_table.head()"
   ]
  },
  {
   "cell_type": "markdown",
   "metadata": {},
   "source": [
    "Создадим функцию для расчёта ежемесячной выручки с каждого пользователя"
   ]
  },
  {
   "cell_type": "code",
   "execution_count": 25,
   "metadata": {},
   "outputs": [],
   "source": [
    "def func_month_user_revenue(row):\n",
    "    tariff_info = tariffs.query('tariff_name == @row.tariff')\n",
    "    revenue = tariff_info['rub_monthly_fee'].values[0]\n",
    "    \n",
    "    minutes_diff = (row['minutes_per_month'] - tariff_info['minutes_included']).values[0]\n",
    "    msg_diff = (row['messages_per_month'] - tariff_info['messages_included']).values[0]\n",
    "    mb_diff = (row['mb_used_per_month'] - tariff_info['mb_per_month_included']).values[0]\n",
    "    \n",
    "    if minutes_diff > 0:\n",
    "        revenue += tariff_info['rub_per_minute'].values[0] * minutes_diff\n",
    "    if msg_diff > 0:\n",
    "        revenue += tariff_info['rub_per_message'].values[0] * msg_diff\n",
    "    if mb_diff > 0:\n",
    "        revenue += tariff_info['rub_per_gb'].values[0] * np.ceil(mb_diff / 1024)\n",
    "    return revenue"
   ]
  },
  {
   "cell_type": "markdown",
   "metadata": {},
   "source": [
    "И применим её к нашей сводной таблице"
   ]
  },
  {
   "cell_type": "code",
   "execution_count": 26,
   "metadata": {
    "scrolled": true
   },
   "outputs": [
    {
     "data": {
      "text/html": [
       "<div>\n",
       "<style scoped>\n",
       "    .dataframe tbody tr th:only-of-type {\n",
       "        vertical-align: middle;\n",
       "    }\n",
       "\n",
       "    .dataframe tbody tr th {\n",
       "        vertical-align: top;\n",
       "    }\n",
       "\n",
       "    .dataframe thead th {\n",
       "        text-align: right;\n",
       "    }\n",
       "</style>\n",
       "<table border=\"1\" class=\"dataframe\">\n",
       "  <thead>\n",
       "    <tr style=\"text-align: right;\">\n",
       "      <th></th>\n",
       "      <th>user_id</th>\n",
       "      <th>month</th>\n",
       "      <th>calls_per_month</th>\n",
       "      <th>minutes_per_month</th>\n",
       "      <th>messages_per_month</th>\n",
       "      <th>mb_used_per_month</th>\n",
       "      <th>tariff</th>\n",
       "      <th>city</th>\n",
       "      <th>month_revenue</th>\n",
       "    </tr>\n",
       "  </thead>\n",
       "  <tbody>\n",
       "    <tr>\n",
       "      <th>0</th>\n",
       "      <td>1000</td>\n",
       "      <td>5</td>\n",
       "      <td>22</td>\n",
       "      <td>159</td>\n",
       "      <td>22</td>\n",
       "      <td>2256.0</td>\n",
       "      <td>ultra</td>\n",
       "      <td>Краснодар</td>\n",
       "      <td>1950.0</td>\n",
       "    </tr>\n",
       "    <tr>\n",
       "      <th>1</th>\n",
       "      <td>1000</td>\n",
       "      <td>6</td>\n",
       "      <td>43</td>\n",
       "      <td>172</td>\n",
       "      <td>60</td>\n",
       "      <td>23257.0</td>\n",
       "      <td>ultra</td>\n",
       "      <td>Краснодар</td>\n",
       "      <td>1950.0</td>\n",
       "    </tr>\n",
       "    <tr>\n",
       "      <th>2</th>\n",
       "      <td>1000</td>\n",
       "      <td>7</td>\n",
       "      <td>47</td>\n",
       "      <td>340</td>\n",
       "      <td>75</td>\n",
       "      <td>14016.0</td>\n",
       "      <td>ultra</td>\n",
       "      <td>Краснодар</td>\n",
       "      <td>1950.0</td>\n",
       "    </tr>\n",
       "    <tr>\n",
       "      <th>3</th>\n",
       "      <td>1000</td>\n",
       "      <td>8</td>\n",
       "      <td>52</td>\n",
       "      <td>408</td>\n",
       "      <td>81</td>\n",
       "      <td>14070.0</td>\n",
       "      <td>ultra</td>\n",
       "      <td>Краснодар</td>\n",
       "      <td>1950.0</td>\n",
       "    </tr>\n",
       "    <tr>\n",
       "      <th>4</th>\n",
       "      <td>1000</td>\n",
       "      <td>9</td>\n",
       "      <td>58</td>\n",
       "      <td>466</td>\n",
       "      <td>57</td>\n",
       "      <td>14581.0</td>\n",
       "      <td>ultra</td>\n",
       "      <td>Краснодар</td>\n",
       "      <td>1950.0</td>\n",
       "    </tr>\n",
       "  </tbody>\n",
       "</table>\n",
       "</div>"
      ],
      "text/plain": [
       "   user_id  month  calls_per_month  minutes_per_month  messages_per_month  \\\n",
       "0     1000      5               22                159                  22   \n",
       "1     1000      6               43                172                  60   \n",
       "2     1000      7               47                340                  75   \n",
       "3     1000      8               52                408                  81   \n",
       "4     1000      9               58                466                  57   \n",
       "\n",
       "   mb_used_per_month tariff       city  month_revenue  \n",
       "0             2256.0  ultra  Краснодар         1950.0  \n",
       "1            23257.0  ultra  Краснодар         1950.0  \n",
       "2            14016.0  ultra  Краснодар         1950.0  \n",
       "3            14070.0  ultra  Краснодар         1950.0  \n",
       "4            14581.0  ultra  Краснодар         1950.0  "
      ]
     },
     "execution_count": 26,
     "metadata": {},
     "output_type": "execute_result"
    }
   ],
   "source": [
    "pivot_table['month_revenue'] = pivot_table.apply(func_month_user_revenue, axis=1)\n",
    "pivot_table.head()"
   ]
  },
  {
   "cell_type": "markdown",
   "metadata": {},
   "source": [
    "**Вывод**\n",
    "\n",
    "- типы данных привели к формату *datatime*\n",
    "- округлили звонки\n",
    "- проверили на явные дубликаты\n",
    "- сформировали единую таблицу\n",
    "\n",
    "Думаю, теперь можно присмотреться к имеющимся данным поближе"
   ]
  },
  {
   "cell_type": "markdown",
   "metadata": {},
   "source": [
    "## Проанализируйте данные"
   ]
  },
  {
   "cell_type": "markdown",
   "metadata": {},
   "source": [
    "Опишем поведение клиентов оператора, исходя из выборки. Выясним сколько минут разговора, сколько сообщений и какой объём интернет-трафика требуется пользователям каждого тарифа в месяц. Выведем среднее, стандартное отклонение и дисперсию минут разговоров, СМС и использованных МБ в месяц для тарифов \"smart\" и \"ultra\". Построим гистограммы и опишем распределения"
   ]
  },
  {
   "cell_type": "code",
   "execution_count": 27,
   "metadata": {
    "scrolled": true
   },
   "outputs": [
    {
     "name": "stdout",
     "output_type": "stream",
     "text": [
      "smart\n"
     ]
    },
    {
     "data": {
      "text/html": [
       "<div>\n",
       "<style scoped>\n",
       "    .dataframe tbody tr th:only-of-type {\n",
       "        vertical-align: middle;\n",
       "    }\n",
       "\n",
       "    .dataframe tbody tr th {\n",
       "        vertical-align: top;\n",
       "    }\n",
       "\n",
       "    .dataframe thead th {\n",
       "        text-align: right;\n",
       "    }\n",
       "</style>\n",
       "<table border=\"1\" class=\"dataframe\">\n",
       "  <thead>\n",
       "    <tr style=\"text-align: right;\">\n",
       "      <th></th>\n",
       "      <th>minutes_per_month</th>\n",
       "      <th>messages_per_month</th>\n",
       "      <th>mb_used_per_month</th>\n",
       "    </tr>\n",
       "  </thead>\n",
       "  <tbody>\n",
       "    <tr>\n",
       "      <th>mean</th>\n",
       "      <td>417.934948</td>\n",
       "      <td>33.384029</td>\n",
       "      <td>1.622919e+04</td>\n",
       "    </tr>\n",
       "    <tr>\n",
       "      <th>std</th>\n",
       "      <td>190.313730</td>\n",
       "      <td>28.227876</td>\n",
       "      <td>5.877577e+03</td>\n",
       "    </tr>\n",
       "    <tr>\n",
       "      <th>var</th>\n",
       "      <td>36219.315784</td>\n",
       "      <td>796.812958</td>\n",
       "      <td>3.454591e+07</td>\n",
       "    </tr>\n",
       "  </tbody>\n",
       "</table>\n",
       "</div>"
      ],
      "text/plain": [
       "      minutes_per_month  messages_per_month  mb_used_per_month\n",
       "mean         417.934948           33.384029       1.622919e+04\n",
       "std          190.313730           28.227876       5.877577e+03\n",
       "var        36219.315784          796.812958       3.454591e+07"
      ]
     },
     "metadata": {},
     "output_type": "display_data"
    },
    {
     "name": "stdout",
     "output_type": "stream",
     "text": [
      "ultra\n"
     ]
    },
    {
     "data": {
      "text/html": [
       "<div>\n",
       "<style scoped>\n",
       "    .dataframe tbody tr th:only-of-type {\n",
       "        vertical-align: middle;\n",
       "    }\n",
       "\n",
       "    .dataframe tbody tr th {\n",
       "        vertical-align: top;\n",
       "    }\n",
       "\n",
       "    .dataframe thead th {\n",
       "        text-align: right;\n",
       "    }\n",
       "</style>\n",
       "<table border=\"1\" class=\"dataframe\">\n",
       "  <thead>\n",
       "    <tr style=\"text-align: right;\">\n",
       "      <th></th>\n",
       "      <th>minutes_per_month</th>\n",
       "      <th>messages_per_month</th>\n",
       "      <th>mb_used_per_month</th>\n",
       "    </tr>\n",
       "  </thead>\n",
       "  <tbody>\n",
       "    <tr>\n",
       "      <th>mean</th>\n",
       "      <td>526.623350</td>\n",
       "      <td>49.363452</td>\n",
       "      <td>1.948690e+04</td>\n",
       "    </tr>\n",
       "    <tr>\n",
       "      <th>std</th>\n",
       "      <td>317.606098</td>\n",
       "      <td>47.804457</td>\n",
       "      <td>1.009632e+04</td>\n",
       "    </tr>\n",
       "    <tr>\n",
       "      <th>var</th>\n",
       "      <td>100873.633397</td>\n",
       "      <td>2285.266143</td>\n",
       "      <td>1.019356e+08</td>\n",
       "    </tr>\n",
       "  </tbody>\n",
       "</table>\n",
       "</div>"
      ],
      "text/plain": [
       "      minutes_per_month  messages_per_month  mb_used_per_month\n",
       "mean         526.623350           49.363452       1.948690e+04\n",
       "std          317.606098           47.804457       1.009632e+04\n",
       "var       100873.633397         2285.266143       1.019356e+08"
      ]
     },
     "metadata": {},
     "output_type": "display_data"
    }
   ],
   "source": [
    "columm = ['minutes_per_month', 'messages_per_month', 'mb_used_per_month']\n",
    "\n",
    "for tariff_name in tariffs['tariff_name']:\n",
    "    print(tariff_name)\n",
    "    display(\n",
    "            pivot_table\n",
    "            .query('tariff == @tariff_name')[columm]\n",
    "            .agg(func=['mean', 'std', np.var])\n",
    "            )"
   ]
  },
  {
   "cell_type": "markdown",
   "metadata": {},
   "source": [
    "Итак, что мы наблюдаем:\n",
    "\n",
    "**Пользователи тарифа \"smart\" используют в среднем в месяц:**\n",
    "\n",
    "- 418 минут на разговоры;\n",
    "- 33 СМС;\n",
    "- 16 ГБ интернета.\n",
    "\n",
    "**Пользователи тарифа \"ultra\" используют в среднем в месяц:** \n",
    "\n",
    "- 527 минут на разговоры;\n",
    "- 49 СМС;\n",
    "- 19 ГБ интернета."
   ]
  },
  {
   "cell_type": "markdown",
   "metadata": {},
   "source": [
    "Исходя из изначальных данных о тарифах, можем видеть, что пользователи тарифа \"ultra\" в среднем не используют большую часть своих пакетных возможностей."
   ]
  },
  {
   "cell_type": "markdown",
   "metadata": {},
   "source": [
    "Построим распределения наших параметров за оба тарифа."
   ]
  },
  {
   "cell_type": "code",
   "execution_count": 28,
   "metadata": {
    "scrolled": false
   },
   "outputs": [
    {
     "data": {
      "image/png": "[encoded data removed]",
      "text/plain": [
       "<Figure size 720x360 with 1 Axes>"
      ]
     },
     "metadata": {
      "needs_background": "light"
     },
     "output_type": "display_data"
    }
   ],
   "source": [
    "plt.figure(figsize = (10, 5))\n",
    "sns.histplot(data = pivot_table, x = 'minutes_per_month', hue = 'tariff', kde = True)\n",
    "plt.xlabel('Минут в месяц')\n",
    "plt.ylabel('Количество')\n",
    "plt.title('Распределения минут в месяц для обоих тарифов');"
   ]
  },
  {
   "cell_type": "code",
   "execution_count": 29,
   "metadata": {},
   "outputs": [
    {
     "data": {
      "image/png": "[encoded data removed]",
      "text/plain": [
       "<Figure size 720x360 with 1 Axes>"
      ]
     },
     "metadata": {
      "needs_background": "light"
     },
     "output_type": "display_data"
    }
   ],
   "source": [
    "plt.figure(figsize = (10, 5))\n",
    "sns.histplot(data = pivot_table, x = 'messages_per_month', hue = 'tariff', kde = True)\n",
    "plt.xlabel('СМС в месяц')\n",
    "plt.ylabel('Количество')\n",
    "plt.title('Распределения СМС в месяц для обоих тарифов');"
   ]
  },
  {
   "cell_type": "code",
   "execution_count": 30,
   "metadata": {},
   "outputs": [
    {
     "data": {
      "image/png": "[encoded data removed]",
      "text/plain": [
       "<Figure size 720x360 with 1 Axes>"
      ]
     },
     "metadata": {
      "needs_background": "light"
     },
     "output_type": "display_data"
    }
   ],
   "source": [
    "plt.figure(figsize = (10, 5))\n",
    "sns.histplot(data = pivot_table, x = 'mb_used_per_month', hue = 'tariff', kde = True)\n",
    "plt.xlabel('МБ интренета в месяц')\n",
    "plt.ylabel('Количество')\n",
    "plt.title('Распределения МБ интернета в месяц для обоих тарифов');"
   ]
  },
  {
   "cell_type": "markdown",
   "metadata": {},
   "source": [
    "<div style=\"border:solid Green 2px; padding: 40px\">\n",
    "<div class=\"alert alert-success\">\n",
    "<h2> Комментарий ревьюера <a class=\"tocSkip\"> </h2>\n",
    "\n",
    "<font color='green'><b>Все отлично! 👍:</b>  </font>\n",
    "     \n",
    "Отличная визуализация. Очень показательна\n",
    "    \n",
    "</div>"
   ]
  },
  {
   "cell_type": "markdown",
   "metadata": {},
   "source": [
    "По графикам заметно, что дисперсии параметров для пользователей тарифа \"ultra\" больше, чем тарифа \"smart\". Распределение минут и интернет трафика отдалённо напоминают нормальное. А вот распределение СМС имеет перекос влево. Причиной этого скорее всего является то, что для текстовой пререписки пользователи сейчас в основном используют мессенджеры и соц. сети"
   ]
  },
  {
   "cell_type": "markdown",
   "metadata": {},
   "source": [
    "<div class=\"alert alert-info\" style=\"background:#ffdbf1;color:#2e00ab\">\n",
    "<b>Комментарий студента о доработке:</b>\n",
    "\n",
    "Вот тут '*Указывает вниз*'\n",
    "</div>"
   ]
  },
  {
   "cell_type": "markdown",
   "metadata": {},
   "source": [
    "![This is an image](https://myoctocat.com/assets/images/base-octocat.svg)"
   ]
  },
  {
   "cell_type": "markdown",
   "metadata": {},
   "source": [
    "<div style=\"border:solid Green 2px; padding: 40px\">\n",
    "<div class=\"alert alert-success\">\n",
    "<h2> Комментарий ревьюера_V2 <a class=\"tocSkip\"> </h2>\n",
    "\n",
    "<font color='green'><b>Все отлично! 👍:</b>  </font>\n",
    "\n",
    "👍 \n",
    "    \n",
    "</div>"
   ]
  },
  {
   "cell_type": "markdown",
   "metadata": {},
   "source": [
    "**Проанализируем также среднюю выручку**"
   ]
  },
  {
   "cell_type": "code",
   "execution_count": 35,
   "metadata": {},
   "outputs": [
    {
     "data": {
      "image/png": "[encoded data removed]",
      "text/plain": [
       "<Figure size 720x360 with 1 Axes>"
      ]
     },
     "metadata": {
      "needs_background": "light"
     },
     "output_type": "display_data"
    }
   ],
   "source": [
    "plt.figure(figsize=(10, 5))\n",
    "sns.lineplot(\n",
    "            x='month',\n",
    "            y='month_revenue',\n",
    "            hue='tariff',\n",
    "            data=pivot_table.pivot_table(\n",
    "                index = ['tariff', 'month'],\n",
    "                values = 'month_revenue',\n",
    "                aggfunc = 'mean'\n",
    "                ).reset_index()\n",
    "            )\n",
    "\n",
    "plt.xlabel('Месяц')\n",
    "plt.ylabel('Месячная выручка')\n",
    "plt.title('Среднее потребление в течение года');"
   ]
  },
  {
   "cell_type": "markdown",
   "metadata": {},
   "source": [
    "Как видно, тариф *ultra* ведёт себя более стабильно, т.к. с его возможностями перерасход у пользователей случается заметно реже, чем у пользователей тарифа *smart*. Возникает вопрос, так ли смарт этот тариф и его пользователи"
   ]
  },
  {
   "cell_type": "markdown",
   "metadata": {},
   "source": [
    "**И посмотрим распределение месячной выручки для обоих тарифов**"
   ]
  },
  {
   "cell_type": "code",
   "execution_count": 40,
   "metadata": {},
   "outputs": [
    {
     "data": {
      "image/png": "[encoded data removed]",
      "text/plain": [
       "<Figure size 720x360 with 1 Axes>"
      ]
     },
     "metadata": {
      "needs_background": "light"
     },
     "output_type": "display_data"
    }
   ],
   "source": [
    "plt.figure(figsize = (10, 5))\n",
    "sns.histplot(data = pivot_table, x = 'month_revenue', hue = 'tariff', kde = True)\n",
    "plt.xlabel('Выручка за месяц')\n",
    "plt.ylabel('Количество')\n",
    "plt.title('Распределение месячной выручки для обоих тарифов');"
   ]
  },
  {
   "cell_type": "markdown",
   "metadata": {},
   "source": [
    "**Вывод**\n",
    "\n",
    "По средним показателям количества потраченных минут, СМС и МБ инетрнета, можно сказать, что в месяц пользователи обоих тарифов тратят примерно одинаковое количество по все трём параметрам.\n",
    "\n",
    "Распределения минут разговора и мегабайт интернет трафика похожи на нормальное. А вот распределение СМС скошено влево и больше похоже на экспоненциальное, что скорее всего свидетельствует о том, что пользователи сейчас больше переписываются через мессенджеры и соц. сети.\n",
    "\n",
    "Из анализа средней выручки видно, что распределения не похожи на нормальные, т.к. ежемесячная плата за тариф является минимальной выручкой с клиента и в то же время самым часто встречающимся значением. А также видно, что некоторые пользователи тарифа \"смарт\" платят даже больше, чем пользователи тарифа \"ультра\"."
   ]
  },
  {
   "cell_type": "markdown",
   "metadata": {},
   "source": [
    "## Проверьте гипотезы"
   ]
  },
  {
   "cell_type": "markdown",
   "metadata": {},
   "source": [
    "### Первая гипотеза: средняя выручка пользователей тарифов «Ультра» и «Смарт» различаются."
   ]
  },
  {
   "cell_type": "markdown",
   "metadata": {},
   "source": [
    "Сформулируем гипотезы:\n",
    "\n",
    "- нулевая гипотеза: средние выручки с клиента тарифов \"смарт\" и \"ультра\" равны\n",
    "- альтернативная гипотеза: средние выручки с клиента тарифов \"смарт\" и \"ультра\" не равны\n",
    "\n",
    "Уровень значимости зададим равным 5%. Так как траты пользователей каждого тарифа зависят от использованных минут, СМС и МБ интрнет трафика в месяц (что во всех отдельно взятых случаях, является **случайной составляющей**) и ценовой политики обоих тарифов (фиксированые цены в свою очередь являются **постоянную составляющую**), для проверки гипотезы воспользуемся T-тестом для двух независимых выборок."
   ]
  },
  {
   "cell_type": "code",
   "execution_count": 32,
   "metadata": {},
   "outputs": [
    {
     "name": "stdout",
     "output_type": "stream",
     "text": [
      "P-value равно 2.9776448000521676e-158\n",
      "Различие выборочных средних можно считать статистически значимым, отвергаем нулевую гипотезу о равенстве средних\n"
     ]
    }
   ],
   "source": [
    "alpha = 0.5\n",
    "\n",
    "sample = [\n",
    "    pivot_table.query('tariff == @tariff_name')['month_revenue']\n",
    "    for tariff_name in tariffs['tariff_name']\n",
    "]\n",
    "ttest_result = st.ttest_ind(sample[0], sample[1])\n",
    "\n",
    "print('P-value равно', ttest_result.pvalue)\n",
    "\n",
    "if ttest_result.pvalue < alpha:\n",
    "    print('Различие выборочных средних можно считать статистически значимым, отвергаем нулевую гипотезу о равенстве средних')\n",
    "else:\n",
    "    print('Различие выборочных средних можно считать случайным, принимаем нулевую гипотезу')"
   ]
  },
  {
   "cell_type": "markdown",
   "metadata": {},
   "source": [
    "### Вторая гипотеза: средняя выручка пользователей из Москвы отличается от выручки пользователей из других регионов."
   ]
  },
  {
   "cell_type": "markdown",
   "metadata": {},
   "source": [
    "Сформулируем гипотезы:\n",
    "\n",
    "- нулевая - средние выручки с клиента из Москвы и из других регионов равны\n",
    "- альтернативная - средние выручки с клиента из Москвы и из других регионов не равны\n",
    "\n",
    "Уровень значимости зададим равным 5%ю Проверять гипотезу будем T-тестом для двух независимых выборок."
   ]
  },
  {
   "cell_type": "code",
   "execution_count": 33,
   "metadata": {},
   "outputs": [
    {
     "name": "stdout",
     "output_type": "stream",
     "text": [
      "P-value равно 0.531666503831252\n",
      "Различие выборочных средних можно считать случайным, принимаем нулевую гипотезу\n"
     ]
    }
   ],
   "source": [
    "alpha = 0.5\n",
    "\n",
    "sample = [\n",
    "    pivot_table.query('city == \"Москва\"')['month_revenue'],\n",
    "    pivot_table.query('city != \"Москва\"')['month_revenue']\n",
    "]\n",
    "ttest_result = st.ttest_ind(sample[0], sample[1])\n",
    "\n",
    "print('P-value равно', ttest_result.pvalue)\n",
    "\n",
    "if ttest_result.pvalue < alpha:\n",
    "    print('Различие выборочных средних можно считать статистически значимым, отвергаем нулевую гипотезу о равенстве средних')\n",
    "else:\n",
    "    print('Различие выборочных средних можно считать случайным, принимаем нулевую гипотезу')"
   ]
  },
  {
   "cell_type": "markdown",
   "metadata": {},
   "source": [
    "**Вывод**\n",
    "\n",
    "Таким образом, гипотеза о равенстве средних выручек для обоих тарифов была отвергнута и различие выборочных средних следует считать статистически значимым. Таким образом средняя выручка для двух тарифов в большей степени различается. \n",
    "\n",
    "\n",
    "\n",
    "Так как во втором случае, нулевая гипотеза о равенстве средних не была отвергнута, то можем считать, что для пользователей из Москвы средняя выручка скорее всего не отличается от выручки пользователей из других регионов. "
   ]
  },
  {
   "cell_type": "markdown",
   "metadata": {},
   "source": [
    "## Напишите общий вывод"
   ]
  },
  {
   "cell_type": "markdown",
   "metadata": {},
   "source": [
    "В ходе проделанной работы:\n",
    "\n",
    "- Были изучены данные и выявлены связи между таблицами;\n",
    "- Так же были заполнены пропуски и заменены типы данных для столцов;\n",
    "- Мы провели сравнительный анализ пользователей тарифов;\n",
    "- Проверили гипотезы.\n",
    "\n",
    "**По результатам исследований можно сделать следующие выводы:**\n",
    "\n",
    "Предложенные тарифы отличаются друг от друга и их выручка разнится. Закономерно, что на разных тарифах поведение пользователей различается. На тарифе Smart люди переплачивают, что в последствии может привести к конфликтам с пользователями. На такой случай следует проинструктировать сотрудников службы поддержки и отдел продаж или подумать над изменением тарифов.\n",
    "\n",
    "Smart не соответвует потребностям большинства пользователей практически по всем пунктам. Ultra имеет слишком большие лимиты по минутам и смс и перерасход возможен только по интернету.\n",
    "\n",
    "Лимиты СМС не актуальны для обоих тарифов. На тарифе Ultra остаются практически неизрасходованные лимиты, было бы приятно, если бы их можно было обменять, например, на интернет. Выручка примерно одинакова как в Москве, так и в регионах. Связь востребована везде одинаково."
   ]
  },
  {
   "cell_type": "markdown",
   "metadata": {},
   "source": [
    "**И наконец, какой же тариф всётаки лучше?**\n",
    "\n",
    "Несмотря на то, что пользоватлей тарифа \"Смарт\" заметно больше, чем пользователей тарифа \"Ультра\", и, даже при том, что пользователи \"Смарта\" чаще выходят за рамки возможностей своего пакета услуг, а следовательно имеют большее количество переплат, наиболее стабильным и приносящим высокие прибыли является тариф \"Ультра\". Из за исходной ежемесячной платы, пользователи \"Ультры\" регулярно приносят большую прибыль. Так что если маркетологи компании \"Мегалайн\" смогут привлечь больше клиентов к этому тарифу, эффект будет значительно более выгодный для компании, чем, если бы они сосредоточились на тарифе \"Смарт\" или продолжили развивать оба тарифа в равной степени."
   ]
  }
 ],
 "metadata": {
  "ExecuteTimeLog": [
   {
    "duration": 1284,
    "start_time": "2022-07-03T09:33:53.358Z"
   },
   {
    "duration": 309,
    "start_time": "2022-07-03T09:46:20.273Z"
   },
   {
    "duration": 441,
    "start_time": "2022-07-03T09:46:34.258Z"
   },
   {
    "duration": 265,
    "start_time": "2022-07-03T09:46:43.977Z"
   },
   {
    "duration": 129,
    "start_time": "2022-07-03T09:46:54.713Z"
   },
   {
    "duration": 328,
    "start_time": "2022-07-03T09:49:50.922Z"
   },
   {
    "duration": 40,
    "start_time": "2022-07-03T09:50:19.356Z"
   },
   {
    "duration": 1503,
    "start_time": "2022-07-03T09:53:25.813Z"
   },
   {
    "duration": 1182,
    "start_time": "2022-07-03T09:55:07.224Z"
   },
   {
    "duration": 1353,
    "start_time": "2022-10-02T10:47:05.394Z"
   },
   {
    "duration": 957,
    "start_time": "2022-10-02T10:47:56.936Z"
   },
   {
    "duration": 403,
    "start_time": "2022-10-02T10:48:08.857Z"
   },
   {
    "duration": 36,
    "start_time": "2022-10-02T10:54:11.763Z"
   },
   {
    "duration": 27,
    "start_time": "2022-10-02T10:55:15.905Z"
   },
   {
    "duration": 22,
    "start_time": "2022-10-02T10:55:17.833Z"
   },
   {
    "duration": 14,
    "start_time": "2022-10-02T10:55:19.370Z"
   },
   {
    "duration": 17,
    "start_time": "2022-10-02T10:55:21.024Z"
   },
   {
    "duration": 1103,
    "start_time": "2022-10-02T11:12:58.631Z"
   },
   {
    "duration": 422,
    "start_time": "2022-10-02T11:12:59.736Z"
   },
   {
    "duration": 33,
    "start_time": "2022-10-02T11:13:00.160Z"
   },
   {
    "duration": 26,
    "start_time": "2022-10-02T11:13:00.194Z"
   },
   {
    "duration": 25,
    "start_time": "2022-10-02T11:13:00.222Z"
   },
   {
    "duration": 25,
    "start_time": "2022-10-02T11:13:00.249Z"
   },
   {
    "duration": 24,
    "start_time": "2022-10-02T11:13:00.276Z"
   },
   {
    "duration": 46,
    "start_time": "2022-10-03T06:04:57.033Z"
   },
   {
    "duration": 1268,
    "start_time": "2022-10-03T06:05:35.626Z"
   },
   {
    "duration": 1334,
    "start_time": "2022-10-03T06:05:36.896Z"
   },
   {
    "duration": 32,
    "start_time": "2022-10-03T06:05:38.232Z"
   },
   {
    "duration": 26,
    "start_time": "2022-10-03T06:05:38.266Z"
   },
   {
    "duration": 22,
    "start_time": "2022-10-03T06:05:38.294Z"
   },
   {
    "duration": 16,
    "start_time": "2022-10-03T06:05:38.317Z"
   },
   {
    "duration": 19,
    "start_time": "2022-10-03T06:05:38.335Z"
   },
   {
    "duration": 64,
    "start_time": "2022-10-03T06:05:38.357Z"
   },
   {
    "duration": 1185,
    "start_time": "2022-10-04T06:01:02.846Z"
   },
   {
    "duration": 927,
    "start_time": "2022-10-04T06:01:04.033Z"
   },
   {
    "duration": 36,
    "start_time": "2022-10-04T06:01:04.962Z"
   },
   {
    "duration": 31,
    "start_time": "2022-10-04T06:01:05.000Z"
   },
   {
    "duration": 23,
    "start_time": "2022-10-04T06:01:05.033Z"
   },
   {
    "duration": 15,
    "start_time": "2022-10-04T06:01:05.058Z"
   },
   {
    "duration": 19,
    "start_time": "2022-10-04T06:01:05.075Z"
   },
   {
    "duration": 55,
    "start_time": "2022-10-04T06:01:05.096Z"
   },
   {
    "duration": 32,
    "start_time": "2022-10-04T06:01:05.153Z"
   },
   {
    "duration": 20,
    "start_time": "2022-10-04T06:01:05.187Z"
   },
   {
    "duration": 4,
    "start_time": "2022-10-04T06:01:05.209Z"
   },
   {
    "duration": 21,
    "start_time": "2022-10-04T06:01:05.215Z"
   },
   {
    "duration": 29,
    "start_time": "2022-10-04T06:01:05.238Z"
   },
   {
    "duration": 68,
    "start_time": "2022-10-04T06:02:02.908Z"
   },
   {
    "duration": 1068,
    "start_time": "2022-10-04T06:02:08.229Z"
   },
   {
    "duration": 397,
    "start_time": "2022-10-04T06:02:09.299Z"
   },
   {
    "duration": 35,
    "start_time": "2022-10-04T06:02:09.698Z"
   },
   {
    "duration": 29,
    "start_time": "2022-10-04T06:02:09.735Z"
   },
   {
    "duration": 23,
    "start_time": "2022-10-04T06:02:09.766Z"
   },
   {
    "duration": 16,
    "start_time": "2022-10-04T06:02:09.791Z"
   },
   {
    "duration": 16,
    "start_time": "2022-10-04T06:02:09.834Z"
   },
   {
    "duration": 33,
    "start_time": "2022-10-04T06:02:09.851Z"
   },
   {
    "duration": 23,
    "start_time": "2022-10-04T06:02:09.885Z"
   },
   {
    "duration": 42,
    "start_time": "2022-10-04T06:02:09.910Z"
   },
   {
    "duration": 4,
    "start_time": "2022-10-04T06:02:09.954Z"
   },
   {
    "duration": 12,
    "start_time": "2022-10-04T06:02:09.959Z"
   },
   {
    "duration": 50,
    "start_time": "2022-10-04T06:02:09.972Z"
   },
   {
    "duration": 5,
    "start_time": "2022-10-04T06:07:23.758Z"
   },
   {
    "duration": 52,
    "start_time": "2022-10-04T06:18:23.732Z"
   },
   {
    "duration": 9,
    "start_time": "2022-10-04T06:18:35.460Z"
   },
   {
    "duration": 92,
    "start_time": "2022-10-04T06:25:37.492Z"
   },
   {
    "duration": 148,
    "start_time": "2022-10-04T06:25:57.243Z"
   },
   {
    "duration": 1252,
    "start_time": "2022-11-04T07:37:07.570Z"
   },
   {
    "duration": 1004,
    "start_time": "2022-11-04T07:37:08.825Z"
   },
   {
    "duration": 35,
    "start_time": "2022-11-04T07:37:09.831Z"
   },
   {
    "duration": 29,
    "start_time": "2022-11-04T07:37:09.868Z"
   },
   {
    "duration": 26,
    "start_time": "2022-11-04T07:37:09.899Z"
   },
   {
    "duration": 40,
    "start_time": "2022-11-04T07:37:09.927Z"
   },
   {
    "duration": 21,
    "start_time": "2022-11-04T07:37:09.969Z"
   },
   {
    "duration": 70,
    "start_time": "2022-11-04T07:37:09.992Z"
   },
   {
    "duration": 27,
    "start_time": "2022-11-04T07:37:10.064Z"
   },
   {
    "duration": 56,
    "start_time": "2022-11-04T07:37:10.093Z"
   },
   {
    "duration": 42,
    "start_time": "2022-11-04T07:37:10.150Z"
   },
   {
    "duration": 45,
    "start_time": "2022-11-04T07:37:10.194Z"
   },
   {
    "duration": 35,
    "start_time": "2022-11-04T07:37:10.241Z"
   },
   {
    "duration": 21,
    "start_time": "2022-11-04T07:37:10.279Z"
   },
   {
    "duration": 230,
    "start_time": "2022-11-04T07:37:10.302Z"
   },
   {
    "duration": 118,
    "start_time": "2022-11-04T08:10:57.847Z"
   },
   {
    "duration": 118,
    "start_time": "2022-11-04T08:11:06.292Z"
   },
   {
    "duration": 48,
    "start_time": "2022-11-04T08:12:23.080Z"
   },
   {
    "duration": 47,
    "start_time": "2022-11-04T08:14:01.273Z"
   },
   {
    "duration": 16,
    "start_time": "2022-11-04T08:15:23.897Z"
   },
   {
    "duration": 23,
    "start_time": "2022-11-04T08:15:42.744Z"
   },
   {
    "duration": 14,
    "start_time": "2022-11-04T08:18:32.515Z"
   },
   {
    "duration": 12,
    "start_time": "2022-11-04T08:20:50.211Z"
   },
   {
    "duration": 12,
    "start_time": "2022-11-04T08:21:38.404Z"
   },
   {
    "duration": 17,
    "start_time": "2022-11-04T08:25:21.972Z"
   },
   {
    "duration": 11,
    "start_time": "2022-11-04T08:25:34.789Z"
   },
   {
    "duration": 17,
    "start_time": "2022-11-04T08:25:42.370Z"
   },
   {
    "duration": 15,
    "start_time": "2022-11-04T08:28:58.084Z"
   },
   {
    "duration": 1036,
    "start_time": "2022-11-04T08:29:07.695Z"
   },
   {
    "duration": 444,
    "start_time": "2022-11-04T08:29:08.733Z"
   },
   {
    "duration": 35,
    "start_time": "2022-11-04T08:29:09.178Z"
   },
   {
    "duration": 27,
    "start_time": "2022-11-04T08:29:09.215Z"
   },
   {
    "duration": 25,
    "start_time": "2022-11-04T08:29:09.247Z"
   },
   {
    "duration": 15,
    "start_time": "2022-11-04T08:29:09.273Z"
   },
   {
    "duration": 16,
    "start_time": "2022-11-04T08:29:09.290Z"
   },
   {
    "duration": 64,
    "start_time": "2022-11-04T08:29:09.307Z"
   },
   {
    "duration": 27,
    "start_time": "2022-11-04T08:29:09.373Z"
   },
   {
    "duration": 24,
    "start_time": "2022-11-04T08:29:09.402Z"
   },
   {
    "duration": 5,
    "start_time": "2022-11-04T08:29:09.427Z"
   },
   {
    "duration": 5,
    "start_time": "2022-11-04T08:29:09.455Z"
   },
   {
    "duration": 12,
    "start_time": "2022-11-04T08:29:09.462Z"
   },
   {
    "duration": 14,
    "start_time": "2022-11-04T08:29:09.477Z"
   },
   {
    "duration": 197,
    "start_time": "2022-11-04T08:29:09.493Z"
   },
   {
    "duration": 91,
    "start_time": "2022-11-04T08:29:09.692Z"
   },
   {
    "duration": 45,
    "start_time": "2022-11-04T08:29:09.785Z"
   },
   {
    "duration": 66,
    "start_time": "2022-11-04T08:29:09.831Z"
   },
   {
    "duration": 22,
    "start_time": "2022-11-04T08:29:09.898Z"
   },
   {
    "duration": 12,
    "start_time": "2022-11-04T08:29:09.922Z"
   },
   {
    "duration": 27,
    "start_time": "2022-11-04T08:29:09.935Z"
   },
   {
    "duration": 14,
    "start_time": "2022-11-04T08:29:09.964Z"
   },
   {
    "duration": 12,
    "start_time": "2022-11-04T08:29:09.980Z"
   },
   {
    "duration": 14,
    "start_time": "2022-11-04T08:29:09.994Z"
   },
   {
    "duration": 108,
    "start_time": "2022-11-04T08:29:24.458Z"
   },
   {
    "duration": 6244,
    "start_time": "2022-11-04T08:29:50.194Z"
   },
   {
    "duration": 6171,
    "start_time": "2022-11-04T08:31:48.679Z"
   },
   {
    "duration": 5,
    "start_time": "2022-11-04T08:32:49.738Z"
   },
   {
    "duration": 6183,
    "start_time": "2022-11-04T08:32:51.360Z"
   },
   {
    "duration": 1085,
    "start_time": "2022-11-04T08:35:03.741Z"
   },
   {
    "duration": 446,
    "start_time": "2022-11-04T08:35:04.828Z"
   },
   {
    "duration": 35,
    "start_time": "2022-11-04T08:35:05.275Z"
   },
   {
    "duration": 27,
    "start_time": "2022-11-04T08:35:05.312Z"
   },
   {
    "duration": 28,
    "start_time": "2022-11-04T08:35:05.342Z"
   },
   {
    "duration": 18,
    "start_time": "2022-11-04T08:35:05.372Z"
   },
   {
    "duration": 20,
    "start_time": "2022-11-04T08:35:05.392Z"
   },
   {
    "duration": 73,
    "start_time": "2022-11-04T08:35:05.414Z"
   },
   {
    "duration": 37,
    "start_time": "2022-11-04T08:35:05.489Z"
   },
   {
    "duration": 53,
    "start_time": "2022-11-04T08:35:05.528Z"
   },
   {
    "duration": 17,
    "start_time": "2022-11-04T08:35:05.583Z"
   },
   {
    "duration": 15,
    "start_time": "2022-11-04T08:35:05.602Z"
   },
   {
    "duration": 47,
    "start_time": "2022-11-04T08:35:05.619Z"
   },
   {
    "duration": 53,
    "start_time": "2022-11-04T08:35:05.668Z"
   },
   {
    "duration": 210,
    "start_time": "2022-11-04T08:35:05.723Z"
   },
   {
    "duration": 87,
    "start_time": "2022-11-04T08:35:05.935Z"
   },
   {
    "duration": 56,
    "start_time": "2022-11-04T08:35:06.023Z"
   },
   {
    "duration": 46,
    "start_time": "2022-11-04T08:35:06.080Z"
   },
   {
    "duration": 35,
    "start_time": "2022-11-04T08:35:06.128Z"
   },
   {
    "duration": 13,
    "start_time": "2022-11-04T08:35:06.164Z"
   },
   {
    "duration": 13,
    "start_time": "2022-11-04T08:35:06.178Z"
   },
   {
    "duration": 39,
    "start_time": "2022-11-04T08:35:06.193Z"
   },
   {
    "duration": 25,
    "start_time": "2022-11-04T08:35:06.234Z"
   },
   {
    "duration": 17,
    "start_time": "2022-11-04T08:35:06.261Z"
   },
   {
    "duration": 26,
    "start_time": "2022-11-04T08:35:06.280Z"
   },
   {
    "duration": 6290,
    "start_time": "2022-11-04T08:35:06.307Z"
   },
   {
    "duration": 13,
    "start_time": "2022-11-04T08:36:37.451Z"
   },
   {
    "duration": 3,
    "start_time": "2022-11-04T09:15:45.420Z"
   },
   {
    "duration": 96,
    "start_time": "2022-11-04T09:15:47.763Z"
   },
   {
    "duration": 13,
    "start_time": "2022-11-04T09:18:45.654Z"
   },
   {
    "duration": 44,
    "start_time": "2022-11-04T09:21:37.421Z"
   },
   {
    "duration": 31,
    "start_time": "2022-11-04T09:22:04.751Z"
   },
   {
    "duration": 13,
    "start_time": "2022-11-04T09:25:20.320Z"
   },
   {
    "duration": 16,
    "start_time": "2022-11-04T09:25:28.799Z"
   },
   {
    "duration": 698,
    "start_time": "2022-11-04T09:25:42.368Z"
   },
   {
    "duration": 10,
    "start_time": "2022-11-04T09:26:17.927Z"
   },
   {
    "duration": 18,
    "start_time": "2022-11-04T09:27:22.576Z"
   },
   {
    "duration": 9,
    "start_time": "2022-11-04T09:29:49.353Z"
   },
   {
    "duration": 11,
    "start_time": "2022-11-04T09:30:00.465Z"
   },
   {
    "duration": 12,
    "start_time": "2022-11-04T09:30:13.393Z"
   },
   {
    "duration": 11,
    "start_time": "2022-11-04T09:30:27.705Z"
   },
   {
    "duration": 12,
    "start_time": "2022-11-04T09:30:33.288Z"
   },
   {
    "duration": 1078,
    "start_time": "2022-11-04T09:32:56.814Z"
   },
   {
    "duration": 436,
    "start_time": "2022-11-04T09:32:57.894Z"
   },
   {
    "duration": 35,
    "start_time": "2022-11-04T09:32:58.332Z"
   },
   {
    "duration": 27,
    "start_time": "2022-11-04T09:32:58.369Z"
   },
   {
    "duration": 23,
    "start_time": "2022-11-04T09:32:58.398Z"
   },
   {
    "duration": 40,
    "start_time": "2022-11-04T09:32:58.423Z"
   },
   {
    "duration": 19,
    "start_time": "2022-11-04T09:32:58.465Z"
   },
   {
    "duration": 39,
    "start_time": "2022-11-04T09:32:58.486Z"
   },
   {
    "duration": 53,
    "start_time": "2022-11-04T09:32:58.527Z"
   },
   {
    "duration": 25,
    "start_time": "2022-11-04T09:32:58.584Z"
   },
   {
    "duration": 5,
    "start_time": "2022-11-04T09:32:58.611Z"
   },
   {
    "duration": 11,
    "start_time": "2022-11-04T09:32:58.617Z"
   },
   {
    "duration": 27,
    "start_time": "2022-11-04T09:32:58.629Z"
   },
   {
    "duration": 13,
    "start_time": "2022-11-04T09:32:58.658Z"
   },
   {
    "duration": 212,
    "start_time": "2022-11-04T09:32:58.673Z"
   },
   {
    "duration": 96,
    "start_time": "2022-11-04T09:32:58.887Z"
   },
   {
    "duration": 44,
    "start_time": "2022-11-04T09:32:58.985Z"
   },
   {
    "duration": 61,
    "start_time": "2022-11-04T09:32:59.030Z"
   },
   {
    "duration": 22,
    "start_time": "2022-11-04T09:32:59.092Z"
   },
   {
    "duration": 14,
    "start_time": "2022-11-04T09:32:59.116Z"
   },
   {
    "duration": 30,
    "start_time": "2022-11-04T09:32:59.132Z"
   },
   {
    "duration": 18,
    "start_time": "2022-11-04T09:32:59.164Z"
   },
   {
    "duration": 12,
    "start_time": "2022-11-04T09:32:59.184Z"
   },
   {
    "duration": 13,
    "start_time": "2022-11-04T09:32:59.198Z"
   },
   {
    "duration": 5,
    "start_time": "2022-11-04T09:32:59.212Z"
   },
   {
    "duration": 6040,
    "start_time": "2022-11-04T09:32:59.218Z"
   },
   {
    "duration": 100,
    "start_time": "2022-11-04T09:33:05.261Z"
   },
   {
    "duration": 7,
    "start_time": "2022-11-04T09:33:14.943Z"
   },
   {
    "duration": 701,
    "start_time": "2022-11-04T09:33:38.519Z"
   },
   {
    "duration": 10,
    "start_time": "2022-11-04T09:36:12.983Z"
   },
   {
    "duration": 754,
    "start_time": "2022-11-04T09:36:35.352Z"
   },
   {
    "duration": 10,
    "start_time": "2022-11-04T09:37:09.112Z"
   },
   {
    "duration": 30,
    "start_time": "2022-11-04T09:37:14.152Z"
   },
   {
    "duration": 20,
    "start_time": "2022-11-04T09:37:32.792Z"
   },
   {
    "duration": 1142,
    "start_time": "2022-11-04T09:38:42.914Z"
   },
   {
    "duration": 432,
    "start_time": "2022-11-04T09:38:44.058Z"
   },
   {
    "duration": 33,
    "start_time": "2022-11-04T09:38:44.494Z"
   },
   {
    "duration": 24,
    "start_time": "2022-11-04T09:38:44.528Z"
   },
   {
    "duration": 20,
    "start_time": "2022-11-04T09:38:44.554Z"
   },
   {
    "duration": 15,
    "start_time": "2022-11-04T09:38:44.575Z"
   },
   {
    "duration": 23,
    "start_time": "2022-11-04T09:38:44.591Z"
   },
   {
    "duration": 65,
    "start_time": "2022-11-04T09:38:44.616Z"
   },
   {
    "duration": 26,
    "start_time": "2022-11-04T09:38:44.684Z"
   },
   {
    "duration": 22,
    "start_time": "2022-11-04T09:38:44.712Z"
   },
   {
    "duration": 20,
    "start_time": "2022-11-04T09:38:44.735Z"
   },
   {
    "duration": 6,
    "start_time": "2022-11-04T09:38:44.757Z"
   },
   {
    "duration": 8,
    "start_time": "2022-11-04T09:38:44.765Z"
   },
   {
    "duration": 9,
    "start_time": "2022-11-04T09:38:44.774Z"
   },
   {
    "duration": 197,
    "start_time": "2022-11-04T09:38:44.785Z"
   },
   {
    "duration": 93,
    "start_time": "2022-11-04T09:38:44.984Z"
   },
   {
    "duration": 50,
    "start_time": "2022-11-04T09:38:45.079Z"
   },
   {
    "duration": 66,
    "start_time": "2022-11-04T09:38:45.131Z"
   },
   {
    "duration": 30,
    "start_time": "2022-11-04T09:38:45.199Z"
   },
   {
    "duration": 29,
    "start_time": "2022-11-04T09:38:45.232Z"
   },
   {
    "duration": 12,
    "start_time": "2022-11-04T09:38:45.262Z"
   },
   {
    "duration": 15,
    "start_time": "2022-11-04T09:38:45.275Z"
   },
   {
    "duration": 13,
    "start_time": "2022-11-04T09:38:45.291Z"
   },
   {
    "duration": 13,
    "start_time": "2022-11-04T09:38:45.306Z"
   },
   {
    "duration": 11,
    "start_time": "2022-11-04T09:38:45.320Z"
   },
   {
    "duration": 6174,
    "start_time": "2022-11-04T09:38:45.354Z"
   },
   {
    "duration": 48,
    "start_time": "2022-11-04T09:38:51.532Z"
   },
   {
    "duration": 1047,
    "start_time": "2022-11-04T09:38:51.582Z"
   },
   {
    "duration": 105,
    "start_time": "2022-11-04T09:40:11.821Z"
   },
   {
    "duration": 14,
    "start_time": "2022-11-04T09:40:42.604Z"
   },
   {
    "duration": 287,
    "start_time": "2022-11-04T09:40:47.739Z"
   },
   {
    "duration": 11,
    "start_time": "2022-11-04T09:41:02.387Z"
   },
   {
    "duration": 17,
    "start_time": "2022-11-04T09:41:12.075Z"
   },
   {
    "duration": 28,
    "start_time": "2022-11-04T09:42:01.245Z"
   },
   {
    "duration": 28,
    "start_time": "2022-11-04T09:42:15.884Z"
   },
   {
    "duration": 6,
    "start_time": "2022-11-04T09:43:27.444Z"
   },
   {
    "duration": 901,
    "start_time": "2022-11-04T09:43:31.780Z"
   },
   {
    "duration": 1144,
    "start_time": "2022-11-04T09:43:58.929Z"
   },
   {
    "duration": 435,
    "start_time": "2022-11-04T09:44:00.075Z"
   },
   {
    "duration": 53,
    "start_time": "2022-11-04T09:44:00.511Z"
   },
   {
    "duration": 26,
    "start_time": "2022-11-04T09:44:00.566Z"
   },
   {
    "duration": 25,
    "start_time": "2022-11-04T09:44:00.595Z"
   },
   {
    "duration": 37,
    "start_time": "2022-11-04T09:44:00.622Z"
   },
   {
    "duration": 32,
    "start_time": "2022-11-04T09:44:00.661Z"
   },
   {
    "duration": 41,
    "start_time": "2022-11-04T09:44:00.695Z"
   },
   {
    "duration": 32,
    "start_time": "2022-11-04T09:44:00.738Z"
   },
   {
    "duration": 32,
    "start_time": "2022-11-04T09:44:00.773Z"
   },
   {
    "duration": 20,
    "start_time": "2022-11-04T09:44:00.807Z"
   },
   {
    "duration": 22,
    "start_time": "2022-11-04T09:44:00.829Z"
   },
   {
    "duration": 41,
    "start_time": "2022-11-04T09:44:00.853Z"
   },
   {
    "duration": 23,
    "start_time": "2022-11-04T09:44:00.898Z"
   },
   {
    "duration": 227,
    "start_time": "2022-11-04T09:44:00.923Z"
   },
   {
    "duration": 89,
    "start_time": "2022-11-04T09:44:01.152Z"
   },
   {
    "duration": 54,
    "start_time": "2022-11-04T09:44:01.253Z"
   },
   {
    "duration": 69,
    "start_time": "2022-11-04T09:44:01.309Z"
   },
   {
    "duration": 24,
    "start_time": "2022-11-04T09:44:01.380Z"
   },
   {
    "duration": 21,
    "start_time": "2022-11-04T09:44:01.406Z"
   },
   {
    "duration": 38,
    "start_time": "2022-11-04T09:44:01.429Z"
   },
   {
    "duration": 47,
    "start_time": "2022-11-04T09:44:01.470Z"
   },
   {
    "duration": 34,
    "start_time": "2022-11-04T09:44:01.520Z"
   },
   {
    "duration": 63,
    "start_time": "2022-11-04T09:44:01.556Z"
   },
   {
    "duration": 53,
    "start_time": "2022-11-04T09:44:01.621Z"
   },
   {
    "duration": 878,
    "start_time": "2022-11-04T09:44:01.677Z"
   },
   {
    "duration": 0,
    "start_time": "2022-11-04T09:44:02.557Z"
   },
   {
    "duration": 0,
    "start_time": "2022-11-04T09:44:02.560Z"
   },
   {
    "duration": 0,
    "start_time": "2022-11-04T09:44:02.564Z"
   },
   {
    "duration": 0,
    "start_time": "2022-11-04T09:44:02.566Z"
   },
   {
    "duration": 5,
    "start_time": "2022-11-04T09:45:11.829Z"
   },
   {
    "duration": 6098,
    "start_time": "2022-11-04T09:45:14.070Z"
   },
   {
    "duration": 26,
    "start_time": "2022-11-04T09:45:22.549Z"
   },
   {
    "duration": 11,
    "start_time": "2022-11-04T09:45:24.925Z"
   },
   {
    "duration": 1056,
    "start_time": "2022-11-04T09:45:54.301Z"
   },
   {
    "duration": 28,
    "start_time": "2022-11-04T09:46:20.469Z"
   },
   {
    "duration": 53,
    "start_time": "2022-11-04T09:47:07.886Z"
   },
   {
    "duration": 353,
    "start_time": "2022-11-04T09:47:22.069Z"
   },
   {
    "duration": 433,
    "start_time": "2022-11-04T09:47:42.478Z"
   },
   {
    "duration": 343,
    "start_time": "2022-11-04T09:48:27.590Z"
   },
   {
    "duration": 361,
    "start_time": "2022-11-04T09:48:38.631Z"
   },
   {
    "duration": 347,
    "start_time": "2022-11-04T09:49:04.550Z"
   },
   {
    "duration": 351,
    "start_time": "2022-11-04T09:49:16.630Z"
   },
   {
    "duration": 215,
    "start_time": "2022-11-04T09:49:23.374Z"
   },
   {
    "duration": 18,
    "start_time": "2022-11-04T09:49:52.854Z"
   },
   {
    "duration": 16,
    "start_time": "2022-11-04T09:50:35.264Z"
   },
   {
    "duration": 31,
    "start_time": "2022-11-04T09:51:07.343Z"
   },
   {
    "duration": 15,
    "start_time": "2022-11-04T09:51:10.209Z"
   },
   {
    "duration": 29,
    "start_time": "2022-11-04T09:51:14.662Z"
   },
   {
    "duration": 128,
    "start_time": "2022-11-04T09:51:18.567Z"
   },
   {
    "duration": 18,
    "start_time": "2022-11-04T09:52:14.039Z"
   },
   {
    "duration": 44,
    "start_time": "2022-11-04T09:52:34.192Z"
   },
   {
    "duration": 32,
    "start_time": "2022-11-04T09:54:18.960Z"
   },
   {
    "duration": 27,
    "start_time": "2022-11-04T09:54:52.504Z"
   },
   {
    "duration": 28,
    "start_time": "2022-11-04T09:55:09.857Z"
   },
   {
    "duration": 729,
    "start_time": "2022-11-04T09:58:46.747Z"
   },
   {
    "duration": 155,
    "start_time": "2022-11-04T09:59:01.841Z"
   },
   {
    "duration": 350,
    "start_time": "2022-11-04T10:57:44.544Z"
   },
   {
    "duration": 361,
    "start_time": "2022-11-04T10:57:53.233Z"
   },
   {
    "duration": 360,
    "start_time": "2022-11-04T10:58:17.297Z"
   },
   {
    "duration": 349,
    "start_time": "2022-11-04T10:58:27.450Z"
   },
   {
    "duration": 347,
    "start_time": "2022-11-04T10:58:37.769Z"
   },
   {
    "duration": 478,
    "start_time": "2022-11-04T10:59:00.497Z"
   },
   {
    "duration": 436,
    "start_time": "2022-11-04T11:03:01.170Z"
   },
   {
    "duration": 352,
    "start_time": "2022-11-04T11:03:02.778Z"
   },
   {
    "duration": 342,
    "start_time": "2022-11-04T11:03:04.323Z"
   },
   {
    "duration": 355,
    "start_time": "2022-11-04T11:03:44.355Z"
   },
   {
    "duration": 451,
    "start_time": "2022-11-04T11:03:45.899Z"
   },
   {
    "duration": 338,
    "start_time": "2022-11-04T11:03:47.795Z"
   },
   {
    "duration": 18,
    "start_time": "2022-11-04T11:17:04.527Z"
   },
   {
    "duration": 368,
    "start_time": "2022-11-04T11:17:54.375Z"
   },
   {
    "duration": 358,
    "start_time": "2022-11-04T11:20:44.032Z"
   },
   {
    "duration": 393,
    "start_time": "2022-11-04T11:22:25.008Z"
   },
   {
    "duration": 13,
    "start_time": "2022-11-04T11:49:22.150Z"
   },
   {
    "duration": 971,
    "start_time": "2022-11-04T11:49:29.880Z"
   },
   {
    "duration": 11,
    "start_time": "2022-11-04T11:49:40.294Z"
   },
   {
    "duration": 39,
    "start_time": "2022-11-04T11:50:31.668Z"
   },
   {
    "duration": 17,
    "start_time": "2022-11-04T11:51:56.998Z"
   },
   {
    "duration": 19,
    "start_time": "2022-11-04T11:52:15.439Z"
   },
   {
    "duration": 1170,
    "start_time": "2022-11-04T11:52:19.686Z"
   },
   {
    "duration": 434,
    "start_time": "2022-11-04T11:52:20.858Z"
   },
   {
    "duration": 33,
    "start_time": "2022-11-04T11:52:21.294Z"
   },
   {
    "duration": 26,
    "start_time": "2022-11-04T11:52:21.328Z"
   },
   {
    "duration": 22,
    "start_time": "2022-11-04T11:52:21.356Z"
   },
   {
    "duration": 16,
    "start_time": "2022-11-04T11:52:21.379Z"
   },
   {
    "duration": 17,
    "start_time": "2022-11-04T11:52:21.397Z"
   },
   {
    "duration": 69,
    "start_time": "2022-11-04T11:52:21.416Z"
   },
   {
    "duration": 29,
    "start_time": "2022-11-04T11:52:21.488Z"
   },
   {
    "duration": 48,
    "start_time": "2022-11-04T11:52:21.519Z"
   },
   {
    "duration": 6,
    "start_time": "2022-11-04T11:52:21.569Z"
   },
   {
    "duration": 10,
    "start_time": "2022-11-04T11:52:21.578Z"
   },
   {
    "duration": 19,
    "start_time": "2022-11-04T11:52:21.590Z"
   },
   {
    "duration": 19,
    "start_time": "2022-11-04T11:52:21.613Z"
   },
   {
    "duration": 242,
    "start_time": "2022-11-04T11:52:21.634Z"
   },
   {
    "duration": 86,
    "start_time": "2022-11-04T11:52:21.878Z"
   },
   {
    "duration": 43,
    "start_time": "2022-11-04T11:52:21.966Z"
   },
   {
    "duration": 61,
    "start_time": "2022-11-04T11:52:22.011Z"
   },
   {
    "duration": 20,
    "start_time": "2022-11-04T11:52:22.074Z"
   },
   {
    "duration": 12,
    "start_time": "2022-11-04T11:52:22.096Z"
   },
   {
    "duration": 13,
    "start_time": "2022-11-04T11:52:22.110Z"
   },
   {
    "duration": 34,
    "start_time": "2022-11-04T11:52:22.124Z"
   },
   {
    "duration": 26,
    "start_time": "2022-11-04T11:52:22.159Z"
   },
   {
    "duration": 25,
    "start_time": "2022-11-04T11:52:22.186Z"
   },
   {
    "duration": 5,
    "start_time": "2022-11-04T11:52:22.212Z"
   },
   {
    "duration": 6090,
    "start_time": "2022-11-04T11:52:22.219Z"
   },
   {
    "duration": 28,
    "start_time": "2022-11-04T11:52:28.311Z"
   },
   {
    "duration": 111,
    "start_time": "2022-11-04T11:52:28.354Z"
   },
   {
    "duration": 0,
    "start_time": "2022-11-04T11:52:28.467Z"
   },
   {
    "duration": 0,
    "start_time": "2022-11-04T11:52:28.468Z"
   },
   {
    "duration": 0,
    "start_time": "2022-11-04T11:52:28.469Z"
   },
   {
    "duration": 0,
    "start_time": "2022-11-04T11:52:28.470Z"
   },
   {
    "duration": 0,
    "start_time": "2022-11-04T11:52:28.471Z"
   },
   {
    "duration": 0,
    "start_time": "2022-11-04T11:52:28.473Z"
   },
   {
    "duration": 17,
    "start_time": "2022-11-04T11:52:55.284Z"
   },
   {
    "duration": 13,
    "start_time": "2022-11-04T11:58:29.641Z"
   },
   {
    "duration": 337,
    "start_time": "2022-11-04T11:58:39.297Z"
   },
   {
    "duration": 338,
    "start_time": "2022-11-04T11:59:07.422Z"
   },
   {
    "duration": 384,
    "start_time": "2022-11-04T11:59:21.977Z"
   },
   {
    "duration": 348,
    "start_time": "2022-11-04T11:59:39.624Z"
   },
   {
    "duration": 347,
    "start_time": "2022-11-04T11:59:53.393Z"
   },
   {
    "duration": 12,
    "start_time": "2022-11-04T11:59:55.705Z"
   },
   {
    "duration": 324,
    "start_time": "2022-11-04T12:00:00.281Z"
   },
   {
    "duration": 1086,
    "start_time": "2022-11-04T12:01:07.993Z"
   },
   {
    "duration": 440,
    "start_time": "2022-11-04T12:01:09.081Z"
   },
   {
    "duration": 34,
    "start_time": "2022-11-04T12:01:09.523Z"
   },
   {
    "duration": 26,
    "start_time": "2022-11-04T12:01:09.558Z"
   },
   {
    "duration": 24,
    "start_time": "2022-11-04T12:01:09.587Z"
   },
   {
    "duration": 41,
    "start_time": "2022-11-04T12:01:09.613Z"
   },
   {
    "duration": 19,
    "start_time": "2022-11-04T12:01:09.656Z"
   },
   {
    "duration": 38,
    "start_time": "2022-11-04T12:01:09.676Z"
   },
   {
    "duration": 48,
    "start_time": "2022-11-04T12:01:09.716Z"
   },
   {
    "duration": 22,
    "start_time": "2022-11-04T12:01:09.766Z"
   },
   {
    "duration": 5,
    "start_time": "2022-11-04T12:01:09.790Z"
   },
   {
    "duration": 12,
    "start_time": "2022-11-04T12:01:09.796Z"
   },
   {
    "duration": 10,
    "start_time": "2022-11-04T12:01:09.810Z"
   },
   {
    "duration": 9,
    "start_time": "2022-11-04T12:01:09.823Z"
   },
   {
    "duration": 206,
    "start_time": "2022-11-04T12:01:09.853Z"
   },
   {
    "duration": 99,
    "start_time": "2022-11-04T12:01:10.061Z"
   },
   {
    "duration": 49,
    "start_time": "2022-11-04T12:01:10.161Z"
   },
   {
    "duration": 64,
    "start_time": "2022-11-04T12:01:10.212Z"
   },
   {
    "duration": 21,
    "start_time": "2022-11-04T12:01:10.278Z"
   },
   {
    "duration": 17,
    "start_time": "2022-11-04T12:01:10.301Z"
   },
   {
    "duration": 30,
    "start_time": "2022-11-04T12:01:10.320Z"
   },
   {
    "duration": 23,
    "start_time": "2022-11-04T12:01:10.354Z"
   },
   {
    "duration": 39,
    "start_time": "2022-11-04T12:01:10.379Z"
   },
   {
    "duration": 36,
    "start_time": "2022-11-04T12:01:10.420Z"
   },
   {
    "duration": 19,
    "start_time": "2022-11-04T12:01:10.457Z"
   },
   {
    "duration": 6512,
    "start_time": "2022-11-04T12:01:10.477Z"
   },
   {
    "duration": 30,
    "start_time": "2022-11-04T12:01:16.991Z"
   },
   {
    "duration": 432,
    "start_time": "2022-11-04T12:01:17.022Z"
   },
   {
    "duration": 350,
    "start_time": "2022-11-04T12:01:17.456Z"
   },
   {
    "duration": 394,
    "start_time": "2022-11-04T12:01:17.808Z"
   },
   {
    "duration": 500,
    "start_time": "2022-11-04T12:01:18.203Z"
   },
   {
    "duration": 13,
    "start_time": "2022-11-04T12:01:18.705Z"
   },
   {
    "duration": 389,
    "start_time": "2022-11-04T12:01:18.720Z"
   },
   {
    "duration": 1207,
    "start_time": "2022-11-04T12:01:19.111Z"
   },
   {
    "duration": 11,
    "start_time": "2022-11-04T12:01:37.431Z"
   },
   {
    "duration": 1249,
    "start_time": "2022-11-04T12:02:52.629Z"
   },
   {
    "duration": 480,
    "start_time": "2022-11-04T12:02:53.880Z"
   },
   {
    "duration": 37,
    "start_time": "2022-11-04T12:02:54.362Z"
   },
   {
    "duration": 30,
    "start_time": "2022-11-04T12:02:54.401Z"
   },
   {
    "duration": 28,
    "start_time": "2022-11-04T12:02:54.453Z"
   },
   {
    "duration": 22,
    "start_time": "2022-11-04T12:02:54.483Z"
   },
   {
    "duration": 48,
    "start_time": "2022-11-04T12:02:54.507Z"
   },
   {
    "duration": 40,
    "start_time": "2022-11-04T12:02:54.557Z"
   },
   {
    "duration": 57,
    "start_time": "2022-11-04T12:02:54.600Z"
   },
   {
    "duration": 24,
    "start_time": "2022-11-04T12:02:54.659Z"
   },
   {
    "duration": 6,
    "start_time": "2022-11-04T12:02:54.685Z"
   },
   {
    "duration": 8,
    "start_time": "2022-11-04T12:02:54.693Z"
   },
   {
    "duration": 10,
    "start_time": "2022-11-04T12:02:54.704Z"
   },
   {
    "duration": 10,
    "start_time": "2022-11-04T12:02:54.717Z"
   },
   {
    "duration": 261,
    "start_time": "2022-11-04T12:02:54.729Z"
   },
   {
    "duration": 109,
    "start_time": "2022-11-04T12:02:54.992Z"
   },
   {
    "duration": 62,
    "start_time": "2022-11-04T12:02:55.103Z"
   },
   {
    "duration": 54,
    "start_time": "2022-11-04T12:02:55.167Z"
   },
   {
    "duration": 55,
    "start_time": "2022-11-04T12:02:55.223Z"
   },
   {
    "duration": 15,
    "start_time": "2022-11-04T12:02:55.280Z"
   },
   {
    "duration": 13,
    "start_time": "2022-11-04T12:02:55.298Z"
   },
   {
    "duration": 29,
    "start_time": "2022-11-04T12:02:55.313Z"
   },
   {
    "duration": 73,
    "start_time": "2022-11-04T12:02:55.344Z"
   },
   {
    "duration": 46,
    "start_time": "2022-11-04T12:02:55.418Z"
   },
   {
    "duration": 5,
    "start_time": "2022-11-04T12:02:55.466Z"
   },
   {
    "duration": 6489,
    "start_time": "2022-11-04T12:02:55.473Z"
   },
   {
    "duration": 26,
    "start_time": "2022-11-04T12:03:01.964Z"
   },
   {
    "duration": 398,
    "start_time": "2022-11-04T12:03:01.992Z"
   },
   {
    "duration": 319,
    "start_time": "2022-11-04T12:03:02.392Z"
   },
   {
    "duration": 373,
    "start_time": "2022-11-04T12:03:02.713Z"
   },
   {
    "duration": 439,
    "start_time": "2022-11-04T12:03:03.087Z"
   },
   {
    "duration": 11,
    "start_time": "2022-11-04T12:03:03.529Z"
   },
   {
    "duration": 365,
    "start_time": "2022-11-04T12:03:03.554Z"
   },
   {
    "duration": 11,
    "start_time": "2022-11-04T12:03:03.920Z"
   },
   {
    "duration": 4,
    "start_time": "2022-11-04T12:03:35.001Z"
   },
   {
    "duration": 1154,
    "start_time": "2022-11-04T12:03:40.125Z"
   },
   {
    "duration": 518,
    "start_time": "2022-11-04T12:03:41.281Z"
   },
   {
    "duration": 40,
    "start_time": "2022-11-04T12:03:41.801Z"
   },
   {
    "duration": 29,
    "start_time": "2022-11-04T12:03:41.843Z"
   },
   {
    "duration": 22,
    "start_time": "2022-11-04T12:03:41.875Z"
   },
   {
    "duration": 16,
    "start_time": "2022-11-04T12:03:41.898Z"
   },
   {
    "duration": 43,
    "start_time": "2022-11-04T12:03:41.915Z"
   },
   {
    "duration": 36,
    "start_time": "2022-11-04T12:03:41.959Z"
   },
   {
    "duration": 24,
    "start_time": "2022-11-04T12:03:41.997Z"
   },
   {
    "duration": 46,
    "start_time": "2022-11-04T12:03:42.023Z"
   },
   {
    "duration": 4,
    "start_time": "2022-11-04T12:03:42.071Z"
   },
   {
    "duration": 10,
    "start_time": "2022-11-04T12:03:42.077Z"
   },
   {
    "duration": 8,
    "start_time": "2022-11-04T12:03:42.089Z"
   },
   {
    "duration": 10,
    "start_time": "2022-11-04T12:03:42.099Z"
   },
   {
    "duration": 190,
    "start_time": "2022-11-04T12:03:42.110Z"
   },
   {
    "duration": 96,
    "start_time": "2022-11-04T12:03:42.302Z"
   },
   {
    "duration": 58,
    "start_time": "2022-11-04T12:03:42.399Z"
   },
   {
    "duration": 47,
    "start_time": "2022-11-04T12:03:42.459Z"
   },
   {
    "duration": 22,
    "start_time": "2022-11-04T12:03:42.508Z"
   },
   {
    "duration": 33,
    "start_time": "2022-11-04T12:03:42.533Z"
   },
   {
    "duration": 12,
    "start_time": "2022-11-04T12:03:42.568Z"
   },
   {
    "duration": 15,
    "start_time": "2022-11-04T12:03:42.581Z"
   },
   {
    "duration": 13,
    "start_time": "2022-11-04T12:03:42.598Z"
   },
   {
    "duration": 14,
    "start_time": "2022-11-04T12:03:42.612Z"
   },
   {
    "duration": 4,
    "start_time": "2022-11-04T12:03:42.654Z"
   },
   {
    "duration": 6303,
    "start_time": "2022-11-04T12:03:42.660Z"
   },
   {
    "duration": 29,
    "start_time": "2022-11-04T12:03:48.965Z"
   },
   {
    "duration": 377,
    "start_time": "2022-11-04T12:03:48.995Z"
   },
   {
    "duration": 322,
    "start_time": "2022-11-04T12:03:49.374Z"
   },
   {
    "duration": 374,
    "start_time": "2022-11-04T12:03:49.698Z"
   },
   {
    "duration": 452,
    "start_time": "2022-11-04T12:03:50.074Z"
   },
   {
    "duration": 13,
    "start_time": "2022-11-04T12:03:50.528Z"
   },
   {
    "duration": 325,
    "start_time": "2022-11-04T12:03:50.553Z"
   },
   {
    "duration": 11,
    "start_time": "2022-11-04T12:03:50.880Z"
   },
   {
    "duration": 326,
    "start_time": "2022-11-04T12:05:50.210Z"
   },
   {
    "duration": 351,
    "start_time": "2022-11-04T12:06:25.347Z"
   },
   {
    "duration": 312,
    "start_time": "2022-11-04T12:06:38.426Z"
   },
   {
    "duration": 303,
    "start_time": "2022-11-04T12:07:39.002Z"
   },
   {
    "duration": 347,
    "start_time": "2022-11-04T12:07:49.699Z"
   },
   {
    "duration": 290,
    "start_time": "2022-11-04T12:07:57.954Z"
   },
   {
    "duration": 870,
    "start_time": "2022-11-04T12:08:55.027Z"
   },
   {
    "duration": 17,
    "start_time": "2022-11-04T12:12:00.396Z"
   },
   {
    "duration": 15,
    "start_time": "2022-11-04T12:12:18.036Z"
   },
   {
    "duration": 11,
    "start_time": "2022-11-04T12:12:23.035Z"
   },
   {
    "duration": 12,
    "start_time": "2022-11-04T12:12:54.523Z"
   },
   {
    "duration": 11,
    "start_time": "2022-11-04T12:14:09.588Z"
   },
   {
    "duration": 11,
    "start_time": "2022-11-04T12:14:17.125Z"
   },
   {
    "duration": 1324,
    "start_time": "2022-11-04T12:28:01.172Z"
   },
   {
    "duration": 498,
    "start_time": "2022-11-04T12:28:02.498Z"
   },
   {
    "duration": 37,
    "start_time": "2022-11-04T12:28:02.998Z"
   },
   {
    "duration": 28,
    "start_time": "2022-11-04T12:28:03.037Z"
   },
   {
    "duration": 32,
    "start_time": "2022-11-04T12:28:03.067Z"
   },
   {
    "duration": 18,
    "start_time": "2022-11-04T12:28:03.101Z"
   },
   {
    "duration": 47,
    "start_time": "2022-11-04T12:28:03.121Z"
   },
   {
    "duration": 44,
    "start_time": "2022-11-04T12:28:03.170Z"
   },
   {
    "duration": 49,
    "start_time": "2022-11-04T12:28:03.216Z"
   },
   {
    "duration": 50,
    "start_time": "2022-11-04T12:28:03.268Z"
   },
   {
    "duration": 6,
    "start_time": "2022-11-04T12:28:03.320Z"
   },
   {
    "duration": 11,
    "start_time": "2022-11-04T12:28:03.328Z"
   },
   {
    "duration": 19,
    "start_time": "2022-11-04T12:28:03.340Z"
   },
   {
    "duration": 11,
    "start_time": "2022-11-04T12:28:03.362Z"
   },
   {
    "duration": 231,
    "start_time": "2022-11-04T12:28:03.375Z"
   },
   {
    "duration": 111,
    "start_time": "2022-11-04T12:28:03.609Z"
   },
   {
    "duration": 78,
    "start_time": "2022-11-04T12:28:03.722Z"
   },
   {
    "duration": 75,
    "start_time": "2022-11-04T12:28:03.802Z"
   },
   {
    "duration": 34,
    "start_time": "2022-11-04T12:28:03.879Z"
   },
   {
    "duration": 13,
    "start_time": "2022-11-04T12:28:03.915Z"
   },
   {
    "duration": 35,
    "start_time": "2022-11-04T12:28:03.930Z"
   },
   {
    "duration": 17,
    "start_time": "2022-11-04T12:28:03.968Z"
   },
   {
    "duration": 38,
    "start_time": "2022-11-04T12:28:03.986Z"
   },
   {
    "duration": 40,
    "start_time": "2022-11-04T12:28:04.027Z"
   },
   {
    "duration": 5,
    "start_time": "2022-11-04T12:28:04.069Z"
   },
   {
    "duration": 6668,
    "start_time": "2022-11-04T12:28:04.076Z"
   },
   {
    "duration": 36,
    "start_time": "2022-11-04T12:28:10.746Z"
   },
   {
    "duration": 445,
    "start_time": "2022-11-04T12:28:10.785Z"
   },
   {
    "duration": 463,
    "start_time": "2022-11-04T12:28:11.232Z"
   },
   {
    "duration": 521,
    "start_time": "2022-11-04T12:28:11.697Z"
   },
   {
    "duration": 484,
    "start_time": "2022-11-04T12:28:12.220Z"
   },
   {
    "duration": 12,
    "start_time": "2022-11-04T12:28:12.706Z"
   },
   {
    "duration": 11,
    "start_time": "2022-11-04T12:28:12.720Z"
   },
   {
    "duration": 1317,
    "start_time": "2022-11-04T20:15:27.001Z"
   },
   {
    "duration": 1657,
    "start_time": "2022-11-04T20:15:28.320Z"
   },
   {
    "duration": 33,
    "start_time": "2022-11-04T20:15:29.979Z"
   },
   {
    "duration": 27,
    "start_time": "2022-11-04T20:15:30.015Z"
   },
   {
    "duration": 24,
    "start_time": "2022-11-04T20:15:30.044Z"
   },
   {
    "duration": 18,
    "start_time": "2022-11-04T20:15:30.070Z"
   },
   {
    "duration": 47,
    "start_time": "2022-11-04T20:15:30.090Z"
   },
   {
    "duration": 36,
    "start_time": "2022-11-04T20:15:30.139Z"
   },
   {
    "duration": 26,
    "start_time": "2022-11-04T20:15:30.177Z"
   },
   {
    "duration": 48,
    "start_time": "2022-11-04T20:15:30.206Z"
   },
   {
    "duration": 6,
    "start_time": "2022-11-04T20:15:30.257Z"
   },
   {
    "duration": 11,
    "start_time": "2022-11-04T20:15:30.265Z"
   },
   {
    "duration": 7,
    "start_time": "2022-11-04T20:15:41.035Z"
   },
   {
    "duration": 120,
    "start_time": "2022-11-04T20:28:31.425Z"
   },
   {
    "duration": 10,
    "start_time": "2022-11-04T20:29:15.102Z"
   },
   {
    "duration": 13,
    "start_time": "2022-11-04T20:29:32.478Z"
   },
   {
    "duration": 5,
    "start_time": "2022-11-04T20:29:39.207Z"
   },
   {
    "duration": 12,
    "start_time": "2022-11-04T20:29:40.909Z"
   },
   {
    "duration": 10,
    "start_time": "2022-11-04T20:30:09.059Z"
   },
   {
    "duration": 4,
    "start_time": "2022-11-04T20:30:33.895Z"
   },
   {
    "duration": 457,
    "start_time": "2022-11-04T20:30:33.902Z"
   },
   {
    "duration": 46,
    "start_time": "2022-11-04T20:30:34.362Z"
   },
   {
    "duration": 34,
    "start_time": "2022-11-04T20:30:34.410Z"
   },
   {
    "duration": 37,
    "start_time": "2022-11-04T20:30:34.448Z"
   },
   {
    "duration": 45,
    "start_time": "2022-11-04T20:30:34.487Z"
   },
   {
    "duration": 28,
    "start_time": "2022-11-04T20:30:34.534Z"
   },
   {
    "duration": 75,
    "start_time": "2022-11-04T20:30:34.564Z"
   },
   {
    "duration": 35,
    "start_time": "2022-11-04T20:30:34.642Z"
   },
   {
    "duration": 28,
    "start_time": "2022-11-04T20:30:34.679Z"
   },
   {
    "duration": 25,
    "start_time": "2022-11-04T20:30:34.709Z"
   },
   {
    "duration": 12,
    "start_time": "2022-11-04T20:30:34.735Z"
   },
   {
    "duration": 7,
    "start_time": "2022-11-04T20:30:34.750Z"
   },
   {
    "duration": 14,
    "start_time": "2022-11-04T20:30:34.758Z"
   },
   {
    "duration": 196,
    "start_time": "2022-11-04T20:30:34.774Z"
   },
   {
    "duration": 96,
    "start_time": "2022-11-04T20:30:34.972Z"
   },
   {
    "duration": 51,
    "start_time": "2022-11-04T20:30:35.070Z"
   },
   {
    "duration": 46,
    "start_time": "2022-11-04T20:30:35.132Z"
   },
   {
    "duration": 25,
    "start_time": "2022-11-04T20:30:35.180Z"
   },
   {
    "duration": 34,
    "start_time": "2022-11-04T20:30:35.207Z"
   },
   {
    "duration": 14,
    "start_time": "2022-11-04T20:30:35.243Z"
   },
   {
    "duration": 25,
    "start_time": "2022-11-04T20:30:35.259Z"
   },
   {
    "duration": 60,
    "start_time": "2022-11-04T20:30:35.286Z"
   },
   {
    "duration": 17,
    "start_time": "2022-11-04T20:30:35.349Z"
   },
   {
    "duration": 8,
    "start_time": "2022-11-04T20:30:35.369Z"
   },
   {
    "duration": 7,
    "start_time": "2022-11-04T20:30:35.379Z"
   },
   {
    "duration": 7070,
    "start_time": "2022-11-04T20:30:35.388Z"
   },
   {
    "duration": 14,
    "start_time": "2022-11-04T20:31:29.857Z"
   },
   {
    "duration": 14,
    "start_time": "2022-11-04T20:32:15.075Z"
   },
   {
    "duration": 17,
    "start_time": "2022-11-04T20:32:45.260Z"
   },
   {
    "duration": 14,
    "start_time": "2022-11-04T20:34:45.989Z"
   },
   {
    "duration": 15,
    "start_time": "2022-11-04T20:35:23.766Z"
   },
   {
    "duration": 13,
    "start_time": "2022-11-04T20:35:39.323Z"
   },
   {
    "duration": 17,
    "start_time": "2022-11-04T20:35:52.044Z"
   },
   {
    "duration": 13,
    "start_time": "2022-11-04T20:36:12.929Z"
   },
   {
    "duration": 12,
    "start_time": "2022-11-04T20:36:49.365Z"
   },
   {
    "duration": 5,
    "start_time": "2022-11-04T20:37:14.198Z"
   },
   {
    "duration": 11,
    "start_time": "2022-11-04T20:37:38.542Z"
   },
   {
    "duration": 7667,
    "start_time": "2022-11-04T20:43:28.875Z"
   },
   {
    "duration": 12,
    "start_time": "2022-11-04T20:43:41.057Z"
   },
   {
    "duration": 7797,
    "start_time": "2022-11-04T20:44:14.462Z"
   },
   {
    "duration": 15,
    "start_time": "2022-11-04T20:44:24.942Z"
   },
   {
    "duration": 1180,
    "start_time": "2022-11-04T20:46:25.878Z"
   },
   {
    "duration": 475,
    "start_time": "2022-11-04T20:46:27.060Z"
   },
   {
    "duration": 33,
    "start_time": "2022-11-04T20:46:27.536Z"
   },
   {
    "duration": 67,
    "start_time": "2022-11-04T20:46:27.571Z"
   },
   {
    "duration": 24,
    "start_time": "2022-11-04T20:46:27.640Z"
   },
   {
    "duration": 73,
    "start_time": "2022-11-04T20:46:27.666Z"
   },
   {
    "duration": 33,
    "start_time": "2022-11-04T20:46:27.741Z"
   },
   {
    "duration": 96,
    "start_time": "2022-11-04T20:46:27.776Z"
   },
   {
    "duration": 89,
    "start_time": "2022-11-04T20:46:27.874Z"
   },
   {
    "duration": 75,
    "start_time": "2022-11-04T20:46:27.966Z"
   },
   {
    "duration": 5,
    "start_time": "2022-11-04T20:46:28.044Z"
   },
   {
    "duration": 7,
    "start_time": "2022-11-04T20:46:28.050Z"
   },
   {
    "duration": 7,
    "start_time": "2022-11-04T20:46:28.059Z"
   },
   {
    "duration": 67,
    "start_time": "2022-11-04T20:46:28.069Z"
   },
   {
    "duration": 407,
    "start_time": "2022-11-04T20:46:28.138Z"
   },
   {
    "duration": 198,
    "start_time": "2022-11-04T20:46:28.547Z"
   },
   {
    "duration": 104,
    "start_time": "2022-11-04T20:46:28.747Z"
   },
   {
    "duration": 104,
    "start_time": "2022-11-04T20:46:28.853Z"
   },
   {
    "duration": 85,
    "start_time": "2022-11-04T20:46:28.959Z"
   },
   {
    "duration": 15,
    "start_time": "2022-11-04T20:46:29.046Z"
   },
   {
    "duration": 70,
    "start_time": "2022-11-04T20:46:29.063Z"
   },
   {
    "duration": 40,
    "start_time": "2022-11-04T20:46:29.135Z"
   },
   {
    "duration": 62,
    "start_time": "2022-11-04T20:46:29.176Z"
   },
   {
    "duration": 15,
    "start_time": "2022-11-04T20:46:29.239Z"
   },
   {
    "duration": 7254,
    "start_time": "2022-11-04T20:46:38.380Z"
   },
   {
    "duration": 15,
    "start_time": "2022-11-04T20:46:45.636Z"
   },
   {
    "duration": 5,
    "start_time": "2022-11-04T20:52:08.857Z"
   },
   {
    "duration": 7,
    "start_time": "2022-11-04T20:52:12.355Z"
   },
   {
    "duration": 9,
    "start_time": "2022-11-04T20:52:41.627Z"
   },
   {
    "duration": 5,
    "start_time": "2022-11-04T20:53:07.833Z"
   },
   {
    "duration": 99,
    "start_time": "2022-11-04T20:53:10.849Z"
   },
   {
    "duration": 11,
    "start_time": "2022-11-04T20:53:48.018Z"
   },
   {
    "duration": 14,
    "start_time": "2022-11-04T20:54:23.777Z"
   },
   {
    "duration": 24,
    "start_time": "2022-11-04T20:54:36.378Z"
   },
   {
    "duration": 9,
    "start_time": "2022-11-04T20:54:45.842Z"
   },
   {
    "duration": 12,
    "start_time": "2022-11-04T20:54:59.458Z"
   },
   {
    "duration": 9,
    "start_time": "2022-11-04T20:55:14.233Z"
   },
   {
    "duration": 7,
    "start_time": "2022-11-04T20:55:25.075Z"
   },
   {
    "duration": 401,
    "start_time": "2022-11-04T21:00:34.477Z"
   },
   {
    "duration": 20,
    "start_time": "2022-11-04T21:00:43.703Z"
   },
   {
    "duration": 429,
    "start_time": "2022-11-04T21:04:06.403Z"
   },
   {
    "duration": 429,
    "start_time": "2022-11-04T21:04:14.033Z"
   },
   {
    "duration": 455,
    "start_time": "2022-11-04T21:04:18.299Z"
   },
   {
    "duration": 388,
    "start_time": "2022-11-04T21:04:29.091Z"
   },
   {
    "duration": 420,
    "start_time": "2022-11-04T21:04:43.064Z"
   },
   {
    "duration": 389,
    "start_time": "2022-11-04T21:05:52.247Z"
   },
   {
    "duration": 407,
    "start_time": "2022-11-04T21:05:57.266Z"
   },
   {
    "duration": 446,
    "start_time": "2022-11-04T21:06:03.218Z"
   },
   {
    "duration": 76,
    "start_time": "2022-11-04T21:06:14.044Z"
   },
   {
    "duration": 547,
    "start_time": "2022-11-04T21:06:23.860Z"
   },
   {
    "duration": 427,
    "start_time": "2022-11-04T21:06:31.292Z"
   },
   {
    "duration": 382,
    "start_time": "2022-11-04T21:06:39.863Z"
   },
   {
    "duration": 379,
    "start_time": "2022-11-04T21:06:45.247Z"
   },
   {
    "duration": 1249,
    "start_time": "2022-11-04T21:17:24.749Z"
   },
   {
    "duration": 469,
    "start_time": "2022-11-04T21:17:26.000Z"
   },
   {
    "duration": 32,
    "start_time": "2022-11-04T21:17:26.473Z"
   },
   {
    "duration": 29,
    "start_time": "2022-11-04T21:17:26.507Z"
   },
   {
    "duration": 22,
    "start_time": "2022-11-04T21:17:26.545Z"
   },
   {
    "duration": 18,
    "start_time": "2022-11-04T21:17:26.569Z"
   },
   {
    "duration": 22,
    "start_time": "2022-11-04T21:17:26.588Z"
   },
   {
    "duration": 65,
    "start_time": "2022-11-04T21:17:26.611Z"
   },
   {
    "duration": 27,
    "start_time": "2022-11-04T21:17:26.678Z"
   },
   {
    "duration": 40,
    "start_time": "2022-11-04T21:17:26.709Z"
   },
   {
    "duration": 6,
    "start_time": "2022-11-04T21:17:26.751Z"
   },
   {
    "duration": 5,
    "start_time": "2022-11-04T21:17:26.759Z"
   },
   {
    "duration": 6,
    "start_time": "2022-11-04T21:17:26.766Z"
   },
   {
    "duration": 9,
    "start_time": "2022-11-04T21:17:26.774Z"
   },
   {
    "duration": 216,
    "start_time": "2022-11-04T21:17:26.785Z"
   },
   {
    "duration": 100,
    "start_time": "2022-11-04T21:17:27.003Z"
   },
   {
    "duration": 59,
    "start_time": "2022-11-04T21:17:27.105Z"
   },
   {
    "duration": 47,
    "start_time": "2022-11-04T21:17:27.167Z"
   },
   {
    "duration": 34,
    "start_time": "2022-11-04T21:17:27.216Z"
   },
   {
    "duration": 12,
    "start_time": "2022-11-04T21:17:27.253Z"
   },
   {
    "duration": 14,
    "start_time": "2022-11-04T21:17:27.267Z"
   },
   {
    "duration": 13,
    "start_time": "2022-11-04T21:17:27.282Z"
   },
   {
    "duration": 51,
    "start_time": "2022-11-04T21:17:27.297Z"
   },
   {
    "duration": 15,
    "start_time": "2022-11-04T21:17:27.351Z"
   },
   {
    "duration": 7341,
    "start_time": "2022-11-04T21:17:45.328Z"
   },
   {
    "duration": 4,
    "start_time": "2022-11-04T21:17:59.047Z"
   },
   {
    "duration": 1309,
    "start_time": "2022-11-04T21:20:02.410Z"
   },
   {
    "duration": 473,
    "start_time": "2022-11-04T21:20:03.722Z"
   },
   {
    "duration": 33,
    "start_time": "2022-11-04T21:20:04.197Z"
   },
   {
    "duration": 32,
    "start_time": "2022-11-04T21:20:04.233Z"
   },
   {
    "duration": 24,
    "start_time": "2022-11-04T21:20:04.267Z"
   },
   {
    "duration": 46,
    "start_time": "2022-11-04T21:20:04.292Z"
   },
   {
    "duration": 21,
    "start_time": "2022-11-04T21:20:04.340Z"
   },
   {
    "duration": 37,
    "start_time": "2022-11-04T21:20:04.362Z"
   },
   {
    "duration": 57,
    "start_time": "2022-11-04T21:20:04.400Z"
   },
   {
    "duration": 22,
    "start_time": "2022-11-04T21:20:04.460Z"
   },
   {
    "duration": 4,
    "start_time": "2022-11-04T21:20:04.484Z"
   },
   {
    "duration": 10,
    "start_time": "2022-11-04T21:20:04.490Z"
   },
   {
    "duration": 8,
    "start_time": "2022-11-04T21:20:04.502Z"
   },
   {
    "duration": 32,
    "start_time": "2022-11-04T21:20:04.512Z"
   },
   {
    "duration": 197,
    "start_time": "2022-11-04T21:20:04.548Z"
   },
   {
    "duration": 98,
    "start_time": "2022-11-04T21:20:04.747Z"
   },
   {
    "duration": 52,
    "start_time": "2022-11-04T21:20:04.850Z"
   },
   {
    "duration": 60,
    "start_time": "2022-11-04T21:20:04.904Z"
   },
   {
    "duration": 21,
    "start_time": "2022-11-04T21:20:04.966Z"
   },
   {
    "duration": 13,
    "start_time": "2022-11-04T21:20:04.990Z"
   },
   {
    "duration": 42,
    "start_time": "2022-11-04T21:20:05.006Z"
   },
   {
    "duration": 15,
    "start_time": "2022-11-04T21:20:05.053Z"
   },
   {
    "duration": 15,
    "start_time": "2022-11-04T21:20:05.070Z"
   },
   {
    "duration": 16,
    "start_time": "2022-11-04T21:20:05.086Z"
   },
   {
    "duration": 5,
    "start_time": "2022-11-04T21:20:05.103Z"
   },
   {
    "duration": 7219,
    "start_time": "2022-11-04T21:20:05.144Z"
   },
   {
    "duration": 32,
    "start_time": "2022-11-04T21:20:12.365Z"
   },
   {
    "duration": 472,
    "start_time": "2022-11-04T21:20:12.401Z"
   },
   {
    "duration": 439,
    "start_time": "2022-11-04T21:20:12.876Z"
   },
   {
    "duration": 438,
    "start_time": "2022-11-04T21:20:13.317Z"
   },
   {
    "duration": 501,
    "start_time": "2022-11-04T21:20:13.756Z"
   },
   {
    "duration": 11,
    "start_time": "2022-11-04T21:20:14.259Z"
   },
   {
    "duration": 12,
    "start_time": "2022-11-04T21:20:14.272Z"
   },
   {
    "duration": 1277,
    "start_time": "2022-11-05T10:32:47.505Z"
   },
   {
    "duration": 71,
    "start_time": "2022-11-05T10:32:50.062Z"
   },
   {
    "duration": 1094,
    "start_time": "2022-11-05T10:33:26.078Z"
   },
   {
    "duration": 1260,
    "start_time": "2022-11-05T10:33:27.173Z"
   },
   {
    "duration": 29,
    "start_time": "2022-11-05T10:33:28.435Z"
   },
   {
    "duration": 22,
    "start_time": "2022-11-05T10:33:28.466Z"
   },
   {
    "duration": 18,
    "start_time": "2022-11-05T10:33:28.490Z"
   },
   {
    "duration": 13,
    "start_time": "2022-11-05T10:33:28.509Z"
   },
   {
    "duration": 17,
    "start_time": "2022-11-05T10:33:28.524Z"
   },
   {
    "duration": 36,
    "start_time": "2022-11-05T10:33:28.543Z"
   },
   {
    "duration": 45,
    "start_time": "2022-11-05T10:33:28.581Z"
   },
   {
    "duration": 19,
    "start_time": "2022-11-05T10:33:28.627Z"
   },
   {
    "duration": 4,
    "start_time": "2022-11-05T10:33:28.648Z"
   },
   {
    "duration": 5,
    "start_time": "2022-11-05T10:33:28.654Z"
   },
   {
    "duration": 6,
    "start_time": "2022-11-05T10:33:28.660Z"
   },
   {
    "duration": 7,
    "start_time": "2022-11-05T10:33:28.669Z"
   },
   {
    "duration": 181,
    "start_time": "2022-11-05T10:33:28.678Z"
   },
   {
    "duration": 86,
    "start_time": "2022-11-05T10:33:28.861Z"
   },
   {
    "duration": 38,
    "start_time": "2022-11-05T10:33:28.949Z"
   },
   {
    "duration": 55,
    "start_time": "2022-11-05T10:33:28.989Z"
   },
   {
    "duration": 19,
    "start_time": "2022-11-05T10:33:29.046Z"
   },
   {
    "duration": 13,
    "start_time": "2022-11-05T10:33:29.067Z"
   },
   {
    "duration": 32,
    "start_time": "2022-11-05T10:33:29.082Z"
   },
   {
    "duration": 17,
    "start_time": "2022-11-05T10:33:29.115Z"
   },
   {
    "duration": 14,
    "start_time": "2022-11-05T10:33:29.134Z"
   },
   {
    "duration": 14,
    "start_time": "2022-11-05T10:33:29.150Z"
   },
   {
    "duration": 5,
    "start_time": "2022-11-05T10:33:29.165Z"
   },
   {
    "duration": 5734,
    "start_time": "2022-11-05T10:33:29.172Z"
   },
   {
    "duration": 25,
    "start_time": "2022-11-05T10:33:34.907Z"
   },
   {
    "duration": 332,
    "start_time": "2022-11-05T10:33:34.933Z"
   },
   {
    "duration": 290,
    "start_time": "2022-11-05T10:33:35.267Z"
   },
   {
    "duration": 313,
    "start_time": "2022-11-05T10:33:35.559Z"
   },
   {
    "duration": 380,
    "start_time": "2022-11-05T10:33:35.873Z"
   },
   {
    "duration": 12,
    "start_time": "2022-11-05T10:33:36.255Z"
   },
   {
    "duration": 11,
    "start_time": "2022-11-05T10:33:36.268Z"
   },
   {
    "duration": 76,
    "start_time": "2022-11-05T10:47:45.498Z"
   },
   {
    "duration": 172,
    "start_time": "2022-11-05T10:50:01.642Z"
   },
   {
    "duration": 100,
    "start_time": "2022-11-05T10:59:17.829Z"
   },
   {
    "duration": 14,
    "start_time": "2022-11-05T10:59:27.618Z"
   },
   {
    "duration": 15,
    "start_time": "2022-11-05T10:59:37.013Z"
   },
   {
    "duration": 1190,
    "start_time": "2022-11-05T11:03:43.861Z"
   },
   {
    "duration": 327,
    "start_time": "2022-11-05T11:08:30.231Z"
   },
   {
    "duration": 137,
    "start_time": "2022-11-05T11:16:29.587Z"
   }
  ],
  "kernelspec": {
   "display_name": "Python 3 (ipykernel)",
   "language": "python",
   "name": "python3"
  },
  "language_info": {
   "codemirror_mode": {
    "name": "ipython",
    "version": 3
   },
   "file_extension": ".py",
   "mimetype": "text/x-python",
   "name": "python",
   "nbconvert_exporter": "python",
   "pygments_lexer": "ipython3",
   "version": "3.9.7"
  },
  "toc": {
   "base_numbering": 1,
   "nav_menu": {},
   "number_sections": true,
   "sideBar": true,
   "skip_h1_title": true,
   "title_cell": "Table of Contents",
   "title_sidebar": "Contents",
   "toc_cell": false,
   "toc_position": {},
   "toc_section_display": true,
   "toc_window_display": true
  }
 },
 "nbformat": 4,
 "nbformat_minor": 2
}
